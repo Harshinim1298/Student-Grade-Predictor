{
 "cells": [
  {
   "cell_type": "markdown",
   "metadata": {},
   "source": [
    "In this dataset we will deal with nosisy columns in our dataset we will treat it like a new one"
   ]
  },
  {
   "cell_type": "code",
   "execution_count": 1,
   "metadata": {
    "collapsed": true
   },
   "outputs": [],
   "source": [
    "import pandas as pd\n",
    "import numpy as np\n",
    "import matplotlib.pyplot as plt\n",
    "import seaborn as sns #for beatiful visualisations\n",
    "%matplotlib inline \n",
    "import scipy.stats as scs #for statistics\n",
    "import operator\n",
    "from scipy.stats import chi2_contingency\n",
    "import scipy.stats as scs #for statistics\n",
    "import matplotlib.ticker as ticker\n"
   ]
  },
  {
   "cell_type": "code",
   "execution_count": 240,
   "metadata": {
    "collapsed": true
   },
   "outputs": [],
   "source": [
    "dataset=pd.read_csv('noisyColumns.csv')"
   ]
  },
  {
   "cell_type": "code",
   "execution_count": 4,
   "metadata": {},
   "outputs": [
    {
     "data": {
      "text/html": [
       "<div>\n",
       "<table border=\"1\" class=\"dataframe\">\n",
       "  <thead>\n",
       "    <tr style=\"text-align: right;\">\n",
       "      <th></th>\n",
       "      <th>Unnamed: 0</th>\n",
       "      <th>DIPLOMSECTION</th>\n",
       "      <th>DIPLOMOPTION</th>\n",
       "      <th>SCHOOL</th>\n",
       "      <th>SCHOOLSTATUS</th>\n",
       "    </tr>\n",
       "  </thead>\n",
       "  <tbody>\n",
       "    <tr>\n",
       "      <th>0</th>\n",
       "      <td>0</td>\n",
       "      <td>PEDAGOGIEQUE</td>\n",
       "      <td>PEDA GENERALE</td>\n",
       "      <td>institut maendeleo</td>\n",
       "      <td>inconnu</td>\n",
       "    </tr>\n",
       "    <tr>\n",
       "      <th>1</th>\n",
       "      <td>1</td>\n",
       "      <td>SCIENTIFIQUE</td>\n",
       "      <td>MATH-PHYSIQUE</td>\n",
       "      <td>institut vungi</td>\n",
       "      <td>inconnu</td>\n",
       "    </tr>\n",
       "    <tr>\n",
       "      <th>2</th>\n",
       "      <td>2</td>\n",
       "      <td>SCIENTIFIQUE</td>\n",
       "      <td>MATH PHYSIQUE</td>\n",
       "      <td>institut faraja</td>\n",
       "      <td>inconnu</td>\n",
       "    </tr>\n",
       "    <tr>\n",
       "      <th>3</th>\n",
       "      <td>3</td>\n",
       "      <td>ECONOMIE ET COMMERCE</td>\n",
       "      <td>ECONOMIE</td>\n",
       "      <td>esise/gisenyi</td>\n",
       "      <td>inconnu</td>\n",
       "    </tr>\n",
       "    <tr>\n",
       "      <th>4</th>\n",
       "      <td>4</td>\n",
       "      <td>TECHNIQUE</td>\n",
       "      <td>COMMERCIALE ET ADMINISTRATIVE</td>\n",
       "      <td>c,s, umoja</td>\n",
       "      <td>inconnu</td>\n",
       "    </tr>\n",
       "  </tbody>\n",
       "</table>\n",
       "</div>"
      ],
      "text/plain": [
       "   Unnamed: 0         DIPLOMSECTION                   DIPLOMOPTION  \\\n",
       "0           0          PEDAGOGIEQUE                  PEDA GENERALE   \n",
       "1           1          SCIENTIFIQUE                  MATH-PHYSIQUE   \n",
       "2           2          SCIENTIFIQUE                  MATH PHYSIQUE   \n",
       "3           3  ECONOMIE ET COMMERCE                       ECONOMIE   \n",
       "4           4             TECHNIQUE  COMMERCIALE ET ADMINISTRATIVE   \n",
       "\n",
       "               SCHOOL SCHOOLSTATUS  \n",
       "0  institut maendeleo      inconnu  \n",
       "1      institut vungi      inconnu  \n",
       "2     institut faraja      inconnu  \n",
       "3       esise/gisenyi      inconnu  \n",
       "4          c,s, umoja      inconnu  "
      ]
     },
     "execution_count": 4,
     "metadata": {},
     "output_type": "execute_result"
    }
   ],
   "source": [
    "dataset.head(5)"
   ]
  },
  {
   "cell_type": "code",
   "execution_count": 241,
   "metadata": {
    "collapsed": true
   },
   "outputs": [],
   "source": [
    "dataset.drop(labels=['Unnamed: 0'] ,inplace=True,axis=1)"
   ]
  },
  {
   "cell_type": "code",
   "execution_count": 242,
   "metadata": {},
   "outputs": [
    {
     "data": {
      "text/html": [
       "<div>\n",
       "<table border=\"1\" class=\"dataframe\">\n",
       "  <thead>\n",
       "    <tr style=\"text-align: right;\">\n",
       "      <th></th>\n",
       "      <th>DIPLOMSECTION</th>\n",
       "      <th>DIPLOMOPTION</th>\n",
       "      <th>SCHOOL</th>\n",
       "      <th>SCHOOLSTATUS</th>\n",
       "    </tr>\n",
       "  </thead>\n",
       "  <tbody>\n",
       "    <tr>\n",
       "      <th>0</th>\n",
       "      <td>PEDAGOGIEQUE</td>\n",
       "      <td>PEDA GENERALE</td>\n",
       "      <td>institut maendeleo</td>\n",
       "      <td>inconnu</td>\n",
       "    </tr>\n",
       "    <tr>\n",
       "      <th>1</th>\n",
       "      <td>SCIENTIFIQUE</td>\n",
       "      <td>MATH-PHYSIQUE</td>\n",
       "      <td>institut vungi</td>\n",
       "      <td>inconnu</td>\n",
       "    </tr>\n",
       "    <tr>\n",
       "      <th>2</th>\n",
       "      <td>SCIENTIFIQUE</td>\n",
       "      <td>MATH PHYSIQUE</td>\n",
       "      <td>institut faraja</td>\n",
       "      <td>inconnu</td>\n",
       "    </tr>\n",
       "    <tr>\n",
       "      <th>3</th>\n",
       "      <td>ECONOMIE ET COMMERCE</td>\n",
       "      <td>ECONOMIE</td>\n",
       "      <td>esise/gisenyi</td>\n",
       "      <td>inconnu</td>\n",
       "    </tr>\n",
       "    <tr>\n",
       "      <th>4</th>\n",
       "      <td>TECHNIQUE</td>\n",
       "      <td>COMMERCIALE ET ADMINISTRATIVE</td>\n",
       "      <td>c,s, umoja</td>\n",
       "      <td>inconnu</td>\n",
       "    </tr>\n",
       "  </tbody>\n",
       "</table>\n",
       "</div>"
      ],
      "text/plain": [
       "          DIPLOMSECTION                   DIPLOMOPTION              SCHOOL  \\\n",
       "0          PEDAGOGIEQUE                  PEDA GENERALE  institut maendeleo   \n",
       "1          SCIENTIFIQUE                  MATH-PHYSIQUE      institut vungi   \n",
       "2          SCIENTIFIQUE                  MATH PHYSIQUE     institut faraja   \n",
       "3  ECONOMIE ET COMMERCE                       ECONOMIE       esise/gisenyi   \n",
       "4             TECHNIQUE  COMMERCIALE ET ADMINISTRATIVE          c,s, umoja   \n",
       "\n",
       "  SCHOOLSTATUS  \n",
       "0      inconnu  \n",
       "1      inconnu  \n",
       "2      inconnu  \n",
       "3      inconnu  \n",
       "4      inconnu  "
      ]
     },
     "execution_count": 242,
     "metadata": {},
     "output_type": "execute_result"
    }
   ],
   "source": [
    "dataset.head(5)"
   ]
  },
  {
   "cell_type": "code",
   "execution_count": 9,
   "metadata": {},
   "outputs": [
    {
     "data": {
      "text/plain": [
       "235"
      ]
     },
     "execution_count": 9,
     "metadata": {},
     "output_type": "execute_result"
    }
   ],
   "source": [
    "len(dataset.DIPLOMOPTION.value_counts())"
   ]
  },
  {
   "cell_type": "code",
   "execution_count": 10,
   "metadata": {},
   "outputs": [
    {
     "data": {
      "text/plain": [
       "101"
      ]
     },
     "execution_count": 10,
     "metadata": {},
     "output_type": "execute_result"
    }
   ],
   "source": [
    "len(dataset.DIPLOMSECTION.value_counts())"
   ]
  },
  {
   "cell_type": "code",
   "execution_count": 11,
   "metadata": {},
   "outputs": [
    {
     "data": {
      "text/plain": [
       "1406"
      ]
     },
     "execution_count": 11,
     "metadata": {},
     "output_type": "execute_result"
    }
   ],
   "source": [
    "len(dataset.SCHOOL.value_counts())"
   ]
  },
  {
   "cell_type": "code",
   "execution_count": 12,
   "metadata": {},
   "outputs": [
    {
     "data": {
      "text/plain": [
       "8"
      ]
     },
     "execution_count": 12,
     "metadata": {},
     "output_type": "execute_result"
    }
   ],
   "source": [
    "len(dataset.SCHOOLSTATUS.value_counts())"
   ]
  },
  {
   "cell_type": "markdown",
   "metadata": {},
   "source": [
    "let first convert all the values to lower case and then check again"
   ]
  },
  {
   "cell_type": "code",
   "execution_count": 13,
   "metadata": {},
   "outputs": [
    {
     "data": {
      "text/plain": [
       "inconnu         3833\n",
       "catholique       289\n",
       "protestant       260\n",
       "privé            170\n",
       "publique         152\n",
       "musulman           6\n",
       "kimbanguiste       3\n",
       "autodidacte        2\n",
       "Name: SCHOOLSTATUS, dtype: int64"
      ]
     },
     "execution_count": 13,
     "metadata": {},
     "output_type": "execute_result"
    }
   ],
   "source": [
    "dataset.SCHOOLSTATUS.value_counts()"
   ]
  },
  {
   "cell_type": "code",
   "execution_count": 4,
   "metadata": {
    "collapsed": true
   },
   "outputs": [],
   "source": [
    "SCHHOL=list(set(dataset.SCHOOL))"
   ]
  },
  {
   "cell_type": "code",
   "execution_count": 42,
   "metadata": {
    "collapsed": true
   },
   "outputs": [],
   "source": [
    "SCHHOL.sort()"
   ]
  },
  {
   "cell_type": "markdown",
   "metadata": {},
   "source": [
    "let use  regular expressions to odrdonise des données "
   ]
  },
  {
   "cell_type": "code",
   "execution_count": 49,
   "metadata": {
    "collapsed": true
   },
   "outputs": [],
   "source": [
    "import re"
   ]
  },
  {
   "cell_type": "code",
   "execution_count": 5,
   "metadata": {
    "collapsed": true
   },
   "outputs": [],
   "source": [
    "import scipy.linalg as lin\n",
    "import Levenshtein as leven\n",
    "from sklearn.cluster import KMeans\n",
    "import itertools"
   ]
  },
  {
   "cell_type": "code",
   "execution_count": 6,
   "metadata": {
    "collapsed": true
   },
   "outputs": [],
   "source": [
    "schoolName=np.array(SCHHOL)"
   ]
  },
  {
   "cell_type": "code",
   "execution_count": 8,
   "metadata": {},
   "outputs": [
    {
     "data": {
      "text/plain": [
       "array(['institut ifendula', 'zanner', 'augustino', 'institut moria',\n",
       "       'c.s. ndosho'], \n",
       "      dtype='|S40')"
      ]
     },
     "execution_count": 8,
     "metadata": {},
     "output_type": "execute_result"
    }
   ],
   "source": [
    "schoolName[:5]"
   ]
  },
  {
   "cell_type": "code",
   "execution_count": 7,
   "metadata": {
    "collapsed": true
   },
   "outputs": [],
   "source": [
    "(dim,)=schoolName.shape"
   ]
  },
  {
   "cell_type": "code",
   "execution_count": 7,
   "metadata": {
    "collapsed": true
   },
   "outputs": [],
   "source": [
    "f= lambda (x,y): leven.distance(x,y) #the mapping function callculating the levenstein distance between 2 owrd"
   ]
  },
  {
   "cell_type": "code",
   "execution_count": 18,
   "metadata": {
    "collapsed": true
   },
   "outputs": [],
   "source": [
    "res=np.fromiter(itertools.imap(f,itertools.product(schoolName,schoolName)),dtype=np.uint8) "
   ]
  },
  {
   "cell_type": "markdown",
   "metadata": {},
   "source": [
    "compute the cartesian product of each word in our array vs each worl in our array"
   ]
  },
  {
   "cell_type": "code",
   "execution_count": 13,
   "metadata": {
    "collapsed": true
   },
   "outputs": [],
   "source": [
    "cartWord=itertools.product(schoolName,schoolName)"
   ]
  },
  {
   "cell_type": "code",
   "execution_count": 14,
   "metadata": {},
   "outputs": [
    {
     "data": {
      "text/plain": [
       "<itertools.product at 0x11416d5f0>"
      ]
     },
     "execution_count": 14,
     "metadata": {},
     "output_type": "execute_result"
    }
   ],
   "source": [
    "cartWord"
   ]
  },
  {
   "cell_type": "markdown",
   "metadata": {},
   "source": [
    "then we can map the cartesiant product using the leveinstein distance function"
   ]
  },
  {
   "cell_type": "code",
   "execution_count": 14,
   "metadata": {
    "collapsed": true
   },
   "outputs": [],
   "source": [
    "res=np.fromiter(itertools.imap(f,cartWord),dtype=np.uint8)"
   ]
  },
  {
   "cell_type": "code",
   "execution_count": 16,
   "metadata": {},
   "outputs": [
    {
     "data": {
      "text/plain": [
       "40"
      ]
     },
     "execution_count": 16,
     "metadata": {},
     "output_type": "execute_result"
    }
   ],
   "source": [
    "max(res)"
   ]
  },
  {
   "cell_type": "code",
   "execution_count": 19,
   "metadata": {},
   "outputs": [
    {
     "data": {
      "text/plain": [
       "(1976836,)"
      ]
     },
     "execution_count": 19,
     "metadata": {},
     "output_type": "execute_result"
    }
   ],
   "source": [
    "res.shape"
   ]
  },
  {
   "cell_type": "code",
   "execution_count": 21,
   "metadata": {},
   "outputs": [
    {
     "data": {
      "text/plain": [
       "1976836"
      ]
     },
     "execution_count": 21,
     "metadata": {},
     "output_type": "execute_result"
    }
   ],
   "source": [
    "dim*dim"
   ]
  },
  {
   "cell_type": "markdown",
   "metadata": {},
   "source": [
    "let put it in a matrix with the shape of dim"
   ]
  },
  {
   "cell_type": "code",
   "execution_count": 8,
   "metadata": {},
   "outputs": [
    {
     "ename": "NameError",
     "evalue": "name 'res' is not defined",
     "output_type": "error",
     "traceback": [
      "\u001b[0;31m---------------------------------------------------------------------------\u001b[0m",
      "\u001b[0;31mNameError\u001b[0m                                 Traceback (most recent call last)",
      "\u001b[0;32m<ipython-input-8-5555c830a71d>\u001b[0m in \u001b[0;36m<module>\u001b[0;34m()\u001b[0m\n\u001b[0;32m----> 1\u001b[0;31m \u001b[0mA\u001b[0m \u001b[0;34m=\u001b[0m \u001b[0mnp\u001b[0m\u001b[0;34m.\u001b[0m\u001b[0mreshape\u001b[0m\u001b[0;34m(\u001b[0m\u001b[0mres\u001b[0m\u001b[0;34m,\u001b[0m\u001b[0;34m(\u001b[0m\u001b[0mdim\u001b[0m\u001b[0;34m,\u001b[0m\u001b[0mdim\u001b[0m\u001b[0;34m)\u001b[0m\u001b[0;34m)\u001b[0m\u001b[0;34m\u001b[0m\u001b[0m\n\u001b[0m",
      "\u001b[0;31mNameError\u001b[0m: name 'res' is not defined"
     ]
    }
   ],
   "source": [
    "A = np.reshape(res,(dim,dim))"
   ]
  },
  {
   "cell_type": "code",
   "execution_count": 20,
   "metadata": {},
   "outputs": [
    {
     "data": {
      "text/plain": [
       "(1406, 1406)"
      ]
     },
     "execution_count": 20,
     "metadata": {},
     "output_type": "execute_result"
    }
   ],
   "source": [
    "A.shape"
   ]
  },
  {
   "cell_type": "markdown",
   "metadata": {},
   "source": [
    "each array in a contain the leveinstein distance of a world against the others world in the array let test if the first element is 0"
   ]
  },
  {
   "cell_type": "code",
   "execution_count": 26,
   "metadata": {},
   "outputs": [
    {
     "data": {
      "text/plain": [
       "array([0, 0, 0, ..., 0, 0, 0], dtype=uint8)"
      ]
     },
     "execution_count": 26,
     "metadata": {},
     "output_type": "execute_result"
    }
   ],
   "source": [
    "np.diag(A)"
   ]
  },
  {
   "cell_type": "code",
   "execution_count": 28,
   "metadata": {
    "collapsed": true
   },
   "outputs": [],
   "source": [
    "u,s,v = lin.svd(A, full_matrices=False) "
   ]
  },
  {
   "cell_type": "markdown",
   "metadata": {},
   "source": [
    "let get the singular value decomposition  of A"
   ]
  },
  {
   "cell_type": "code",
   "execution_count": 29,
   "metadata": {},
   "outputs": [
    {
     "data": {
      "text/plain": [
       "(1406, 1406)"
      ]
     },
     "execution_count": 29,
     "metadata": {},
     "output_type": "execute_result"
    }
   ],
   "source": [
    "u.shape"
   ]
  },
  {
   "cell_type": "code",
   "execution_count": 30,
   "metadata": {},
   "outputs": [
    {
     "data": {
      "text/plain": [
       "(1406, 1406)"
      ]
     },
     "execution_count": 30,
     "metadata": {},
     "output_type": "execute_result"
    }
   ],
   "source": [
    "v.shape"
   ]
  },
  {
   "cell_type": "code",
   "execution_count": 31,
   "metadata": {},
   "outputs": [
    {
     "data": {
      "text/plain": [
       "(1406,)"
      ]
     },
     "execution_count": 31,
     "metadata": {},
     "output_type": "execute_result"
    }
   ],
   "source": [
    "s.shape"
   ]
  },
  {
   "cell_type": "code",
   "execution_count": 38,
   "metadata": {},
   "outputs": [
    {
     "data": {
      "text/plain": [
       "(1406, 10)"
      ]
     },
     "execution_count": 38,
     "metadata": {},
     "output_type": "execute_result"
    }
   ],
   "source": []
  },
  {
   "cell_type": "code",
   "execution_count": 51,
   "metadata": {},
   "outputs": [
    {
     "data": {
      "text/plain": [
       "(1406, 1406)"
      ]
     },
     "execution_count": 51,
     "metadata": {},
     "output_type": "execute_result"
    }
   ],
   "source": [
    "A.shape"
   ]
  },
  {
   "cell_type": "code",
   "execution_count": 18,
   "metadata": {
    "collapsed": true
   },
   "outputs": [],
   "source": [
    "from sklearn.cluster import AffinityPropagation"
   ]
  },
  {
   "cell_type": "code",
   "execution_count": 54,
   "metadata": {},
   "outputs": [
    {
     "data": {
      "text/plain": [
       "46"
      ]
     },
     "execution_count": 54,
     "metadata": {},
     "output_type": "execute_result"
    }
   ],
   "source": [
    "len(unique_labels)"
   ]
  },
  {
   "cell_type": "code",
   "execution_count": 59,
   "metadata": {},
   "outputs": [
    {
     "data": {
      "text/plain": [
       "array(['itk mahamba', 'mont carmel', 'ct de beni', 'i namurhera',\n",
       "       'st michel', 'la fontaine', 'ste ursule', 'saint paul',\n",
       "       'iti cholola', 'gsccmkigali', 'la victoire', 'itfm bukavu',\n",
       "       'mont sinai', 'st joseph', 'saint marc', 'st kizito',\n",
       "       'st andr\\xc3\\xa9', 'itm kizito', 'annuarite', 'ste  ursule',\n",
       "       'itm de boga', 'imani panzi', 'st patrick', 'st etienne',\n",
       "       'gs gilgali', 'c,s, umoja', 'itfm/bukavu', 'ste famille',\n",
       "       'itm kyondo', 'saint pau', 'i rutoboko', 'stec ursule',\n",
       "       'mont sionii', 'itav ambele', 'i mont goma', 'nuru/uvira',\n",
       "       'st augustin', 'st rosere', 'des bukavu', 'cs thabiti'], \n",
       "      dtype='|S40')"
      ]
     },
     "execution_count": 59,
     "metadata": {},
     "output_type": "execute_result"
    }
   ],
   "source": [
    "schoolName[labels==22]"
   ]
  },
  {
   "cell_type": "code",
   "execution_count": 57,
   "metadata": {},
   "outputs": [
    {
     "data": {
      "text/plain": [
       "5106"
      ]
     },
     "execution_count": 57,
     "metadata": {},
     "output_type": "execute_result"
    }
   ],
   "source": []
  },
  {
   "cell_type": "code",
   "execution_count": 9,
   "metadata": {},
   "outputs": [
    {
     "data": {
      "text/plain": [
       "235"
      ]
     },
     "execution_count": 9,
     "metadata": {},
     "output_type": "execute_result"
    }
   ],
   "source": [
    "len(set(list(dataset.DIPLOMOPTION)))"
   ]
  },
  {
   "cell_type": "code",
   "execution_count": 87,
   "metadata": {},
   "outputs": [
    {
     "data": {
      "text/plain": [
       "(101,)"
      ]
     },
     "execution_count": 87,
     "metadata": {},
     "output_type": "execute_result"
    }
   ],
   "source": [
    "section.shape"
   ]
  },
  {
   "cell_type": "code",
   "execution_count": 10,
   "metadata": {
    "collapsed": true
   },
   "outputs": [],
   "source": [
    "words=np.array(list(set((dataset.DIPLOMSECTION.apply(lambda x: x.lower())))))"
   ]
  },
  {
   "cell_type": "code",
   "execution_count": 11,
   "metadata": {
    "collapsed": true
   },
   "outputs": [],
   "source": [
    "def groupLev(words):\n",
    "    (dim,) = words.shape\n",
    "\n",
    "    f = lambda (x,y): -leven.distance(x,y)\n",
    "\n",
    "    res=np.fromiter(itertools.imap(f, itertools.product(words, words)), dtype=np.uint8)\n",
    "    A = np.reshape(res,(dim,dim))\n",
    "\n",
    "    af = AffinityPropagation(affinity='precomputed').fit(A)\n",
    "    cluster_centers_indices = af.cluster_centers_indices_\n",
    "    labels = af.labels_\n",
    "    \n",
    "\n",
    "    unique_labels = set(labels)\n",
    "    groups={}\n",
    "    for i,j in zip(unique_labels,cluster_centers_indices ):\n",
    "            groups[words[j]]=words[labels==i]\n",
    "    return groups,labels"
   ]
  },
  {
   "cell_type": "code",
   "execution_count": 12,
   "metadata": {
    "collapsed": true
   },
   "outputs": [],
   "source": [
    "options=np.array(list(set((dataset.DIPLOMOPTION.apply(lambda x: x.lower())))))"
   ]
  },
  {
   "cell_type": "code",
   "execution_count": 122,
   "metadata": {},
   "outputs": [
    {
     "data": {
      "text/plain": [
       "({0: array(['v\\xc3\\xa9t\\xc3\\xa9rinaire', 'veterinaire',\n",
       "         'sant\\xc3\\xa9 communautaire'], \n",
       "        dtype='|S41'),\n",
       "  1: array(['latin philo', 'latinphilo', 'relations publiques', 'latin philio',\n",
       "         'latin-philo'], \n",
       "        dtype='|S41'),\n",
       "  2: array(['electricite', 'electricit\\xc3\\xa9', 'electreicite', 'electri',\n",
       "         'electronique', 'electric'], \n",
       "        dtype='|S41'),\n",
       "  3: array(['informatique', 'com informatique', 'comm informatique',\n",
       "         'com  informatique', 'com inform', 'com   informatique'], \n",
       "        dtype='|S41'),\n",
       "  4: array(['mes gene', 'peda gen', 'mec gene', 'mec gnl', 'com et adm',\n",
       "         'elec gnl', 'mecanique gen', 'batiment', 'mecan gene', 'mec gener',\n",
       "         'mec gen', 'mecanique', 'pedagerale', 'inconnu'], \n",
       "        dtype='|S41'),\n",
       "  5: array(['p\\xc3\\xa9dagogie g\\xc3\\xa9n\\xc3\\xa9rale',\n",
       "         'p\\xc3\\xa9gagogie g\\xc3\\xa9n\\xc3\\xa9ral',\n",
       "         'p\\xc3\\xa9dagogie normale',\n",
       "         'p\\xc3\\xa9gagogie g\\xc3\\xa9n\\xc3\\xa9rale',\n",
       "         'pedagogie g\\xc3\\xa9n\\xc3\\xa9rale',\n",
       "         'p\\xc3\\xa9dagogi g\\xc3\\xa9n\\xc3\\xa9rale',\n",
       "         'p\\xc3\\xa9dagogie appliqu\\xc3\\xa9e',\n",
       "         'padagogie g\\xc3\\xa9n\\xc3\\xa9rale',\n",
       "         'p\\xc3\\xa9gogigie g\\xc3\\xa9n\\xc3\\xa9rale'], \n",
       "        dtype='|S41'),\n",
       "  6: array(['math-physique', 'math physique'], \n",
       "        dtype='|S41'),\n",
       "  7: array(['math\\xc3\\xa9matique physique', 'math\\xc3\\xa9matique physiqe',\n",
       "         'math\\xc3\\xa9matique-physique', 'mathematique physique',\n",
       "         'mathematique- physique'], \n",
       "        dtype='|S41'),\n",
       "  8: array(['elect', 'lp', 'cb', 'p', 'peda', 'bc', 'c', 'soc', 'ppg', 'ca',\n",
       "         'pg', 'ph', 'pn', 'pm', 'b', 'fdf', 'mp', 'nutr', 'diet', 'a',\n",
       "         'elec'], \n",
       "        dtype='|S41'),\n",
       "  9: array([\"h\\xc3\\xb4tesse d'acceuil\", 'h\\xc3\\xb4tesse d\\xe2\\x80\\x99accueil',\n",
       "         \"hotesse d'acceuil\", \"hotesse d'acc\", \"hotesse d'aceuil\"], \n",
       "        dtype='|S41'),\n",
       "  10: array(['m\\xc3\\xa9canique g\\xc3\\xa9\\xc3\\xa9nrale',\n",
       "         'm\\xc3\\xa9canique g\\xc3\\xa9n\\xc3\\xa9rale',\n",
       "         'mecanique g\\xc3\\xa9n\\xc3\\xa9rale',\n",
       "         'm\\xc3\\xa9camique g\\xc3\\xa9n\\xc3\\xa9rale', 'mecanique automobile',\n",
       "         'mecanique generale'], \n",
       "        dtype='|S41'),\n",
       "  11: array(['macanique machines ou', 'm\\xc3\\xa9canique machines outlis',\n",
       "         'mecanique machines outils', 'mec machines outils',\n",
       "         'm\\xc3\\xa9canique machines outils', 'meca machines outils'], \n",
       "        dtype='|S41'),\n",
       "  12: array(['latin philososophie', 'latin philosophie', 'latin philisophie',\n",
       "         'latin-philosophie'], \n",
       "        dtype='|S41'),\n",
       "  13: array(['bioligie-chimie', 'biologie chimie', 'biologie-chimie',\n",
       "         'bioligie chimie', 'biologie chilie'], \n",
       "        dtype='|S41'),\n",
       "  14: array(['commerciale et informatique', 'commerciale informatique',\n",
       "         'commerciale infomratique', 'commerciale iormatiquenf',\n",
       "         'secretariat informatique', 'commerciale information'], \n",
       "        dtype='|S41'),\n",
       "  15: array(['commerciele administrative', 'commerciale admnistrative',\n",
       "         'commerciale et administra', 'commercialen et administraive',\n",
       "         'commerciale et administrative', 'commerciale et administration',\n",
       "         'commerciale et administrativie', 'commerciale et aministrative',\n",
       "         'commerciale et dministrative', 'commerciale administrative',\n",
       "         'commerciale et administrativeinformatique'], \n",
       "        dtype='|S41'),\n",
       "  16: array(['electronique g\\xc3\\xa9n\\xc3\\xa9rale',\n",
       "         'electricit\\xc3\\xa9 g\\xc3\\xa9n\\xc3\\xa9rale', 'electronique generale'], \n",
       "        dtype='|S41'),\n",
       "  17: array(['elect generale', 'ele generale', 'elec generale', 'mec generale',\n",
       "         'p\\xc3\\x8bda generale', 'agriculture generale', 'peda generale'], \n",
       "        dtype='|S41'),\n",
       "  18: array(['nutrit', 'nitrution', 'nutrition et diet', 'nutrition',\n",
       "         'construction', 'nutri', 'industrielle'], \n",
       "        dtype='|S41'),\n",
       "  19: array(['secretariat', 'secr\\xc3\\xa9tariat', 'secretariat publ'], \n",
       "        dtype='|S41'),\n",
       "  20: array(['imprimerie', 'economie', 'bio-chimie', 'biochimie', 'bio chimie',\n",
       "         'agronomie'], \n",
       "        dtype='|S41'),\n",
       "  21: array(['comm et adm', 'commerciale et admi', 'commmerciale et adm',\n",
       "         'commerciale et adm', 'commerciale adm', 'commerciale et admin',\n",
       "         'commerc et adm'], \n",
       "        dtype='|S41'),\n",
       "  22: array(['m\\xc3\\xa9canique', 'soaciale', 'socaile', 'agriculture', 'siciale',\n",
       "         'social', 'hospitali\\xc3\\xa8re', 'agricole', 'sociale',\n",
       "         'commerciale'], \n",
       "        dtype='|S41'),\n",
       "  23: array(['pdagogie generale', 'pedagogie generale', 'pedagogie maternelle'], \n",
       "        dtype='|S41'),\n",
       "  24: array(['machines out', 'machine outils', 'coupe couture',\n",
       "         'machines outils', 'm\\xc3\\xa9canique outil', 'chimie biologie',\n",
       "         'machine outil'], \n",
       "        dtype='|S41'),\n",
       "  25: array(['electricite indust', 'el\\xc3\\xa9ctricit\\xc3\\xa9 industrielle',\n",
       "         'electricite industr', 'electricit\\xc3\\xa9 industrielle',\n",
       "         'm\\xc3\\xa9canique industrielle', 'elctricite industrielle',\n",
       "         'electronique industrielle', 'electricite industrielle'], \n",
       "        dtype='|S41'),\n",
       "  26: array(['elec ind', 'electr indus', 'elec industr', 'ele indudtrielle',\n",
       "         'elec indust'], \n",
       "        dtype='|S41')},\n",
       " array([ 4, 18,  4, 22, 15, 22,  0,  9,  8, 23, 22, 11, 15,  1, 24,  2, 12,\n",
       "         8,  8, 10,  1,  3,  3,  9,  3,  0,  4,  5,  6,  4, 24,  7, 20, 25,\n",
       "        10,  8,  3, 15,  5,  1, 17,  1, 14,  4,  8, 20, 11, 22, 13,  9, 21,\n",
       "        10,  5,  5, 26, 21, 26,  2, 10, 21, 24, 11,  9, 17, 12, 24,  5, 15,\n",
       "         0,  8, 18, 13, 14, 15,  4, 22,  8, 11,  2, 25, 24, 14, 15, 22,  5,\n",
       "        22,  5,  4,  7, 10,  8,  8, 14, 12, 16, 25,  8, 13, 26,  3, 25,  1,\n",
       "        17, 20, 11, 17,  7, 17,  4,  8, 15,  8,  6,  8, 18,  8, 22, 18, 19,\n",
       "        10, 20, 25, 13, 25,  4, 18, 13, 18,  3, 20, 21,  8,  8, 21, 20, 17,\n",
       "        24, 22,  4,  8, 23,  4, 15, 15, 19,  7, 21, 15, 11, 16,  5, 26, 12,\n",
       "        14,  8, 18, 14, 19, 24, 22,  2, 25,  4,  2,  2, 21,  5,  8, 15,  7,\n",
       "         4, 25, 23, 26,  8,  8,  4,  9, 17, 16]))"
      ]
     },
     "execution_count": 122,
     "metadata": {},
     "output_type": "execute_result"
    }
   ],
   "source": [
    "groupLev(options)"
   ]
  },
  {
   "cell_type": "code",
   "execution_count": 19,
   "metadata": {
    "scrolled": false
   },
   "outputs": [],
   "source": [
    "(groupsSchool,labels)=groupLev(schools)"
   ]
  },
  {
   "cell_type": "markdown",
   "metadata": {},
   "source": [
    "let write a function to remove words like college, institut , groupe scolaire , lycee ecole in school names "
   ]
  },
  {
   "cell_type": "code",
   "execution_count": 15,
   "metadata": {
    "collapsed": true
   },
   "outputs": [],
   "source": [
    "def removeNames(name, words=['college','i','collège','lycée','lycee','ecole','école','intitut','institut','intitut','inst.','inst','institutu','cs','complexe scolaire','groupe scolaire', ]):\n",
    "    \"\"\"this function will remove words \"\"\"\n",
    "    if isinstance(name,str):\n",
    "        return ' '.join(filter(lambda x: x.lower() not in words,  name.split()))\n",
    "    else:\n",
    "        pass\n",
    "        "
   ]
  },
  {
   "cell_type": "code",
   "execution_count": 16,
   "metadata": {
    "collapsed": true
   },
   "outputs": [],
   "source": [
    "schools=np.array(list(set((dataset.SCHOOL.apply(removeNames)))))"
   ]
  },
  {
   "cell_type": "code",
   "execution_count": 28,
   "metadata": {},
   "outputs": [
    {
     "name": "stdout",
     "output_type": "stream",
     "text": [
      "Writing 'groupsSchool' (dict) to file 'schoolNames.txt'.\n"
     ]
    }
   ],
   "source": [
    "%store groupsSchool >> schoolNames.txt"
   ]
  },
  {
   "cell_type": "code",
   "execution_count": 460,
   "metadata": {
    "collapsed": true
   },
   "outputs": [],
   "source": [
    "schools=np.array(list(set((dataset.SCHOOL.apply(removeNames)))))\n",
    "(groupsSchool,labels)=groupLev(schools)"
   ]
  },
  {
   "cell_type": "code",
   "execution_count": 29,
   "metadata": {},
   "outputs": [
    {
     "ename": "NameError",
     "evalue": "name 'schoolMOst' is not defined",
     "output_type": "error",
     "traceback": [
      "\u001b[0;31m---------------------------------------------------------------------------\u001b[0m",
      "\u001b[0;31mNameError\u001b[0m                                 Traceback (most recent call last)",
      "\u001b[0;32m<ipython-input-29-58f50898186a>\u001b[0m in \u001b[0;36m<module>\u001b[0;34m()\u001b[0m\n\u001b[0;32m----> 1\u001b[0;31m \u001b[0mschoolMOst\u001b[0m\u001b[0;34m=\u001b[0m\u001b[0mschoolMOst\u001b[0m\u001b[0;34m.\u001b[0m\u001b[0mapply\u001b[0m\u001b[0;34m(\u001b[0m\u001b[0mremoveNames\u001b[0m \u001b[0;34m)\u001b[0m \u001b[0;31m#remove names\u001b[0m\u001b[0;34m\u001b[0m\u001b[0m\n\u001b[0m",
      "\u001b[0;31mNameError\u001b[0m: name 'schoolMOst' is not defined"
     ]
    }
   ],
   "source": [
    "schoolMOst=schoolMOst.apply(removeNames ) #remove names"
   ]
  },
  {
   "cell_type": "code",
   "execution_count": 269,
   "metadata": {
    "collapsed": true
   },
   "outputs": [],
   "source": [
    "meta=groupsSchool.get('metanoia')"
   ]
  },
  {
   "cell_type": "code",
   "execution_count": 21,
   "metadata": {
    "collapsed": true
   },
   "outputs": [],
   "source": [
    "mwanga=groupsSchool.get('mwanga')"
   ]
  },
  {
   "cell_type": "code",
   "execution_count": 271,
   "metadata": {
    "collapsed": true
   },
   "outputs": [],
   "source": [
    "wima=groupsSchool.get('wima')"
   ]
  },
  {
   "cell_type": "code",
   "execution_count": 272,
   "metadata": {
    "collapsed": true
   },
   "outputs": [],
   "source": [
    "deBukavu=groupsSchool.get('de bukavu')"
   ]
  },
  {
   "cell_type": "code",
   "execution_count": 273,
   "metadata": {},
   "outputs": [
    {
     "data": {
      "text/plain": [
       "array(['matanoia', 'metanoia', 'bethanie', 'metonoina', '%etanoia',\n",
       "       'bethsaida', 'i metanoia'], \n",
       "      dtype='|S33')"
      ]
     },
     "execution_count": 273,
     "metadata": {},
     "output_type": "execute_result"
    }
   ],
   "source": [
    "meta"
   ]
  },
  {
   "cell_type": "code",
   "execution_count": 190,
   "metadata": {
    "collapsed": true
   },
   "outputs": [],
   "source": [
    "amani=groupsSchool.get('amani')"
   ]
  },
  {
   "cell_type": "code",
   "execution_count": 261,
   "metadata": {},
   "outputs": [
    {
     "data": {
      "text/plain": [
       "array(['mazinge', 'mwanzo', 'bwanga', 'dinanga', 'ins mwanga', 'mwandu',\n",
       "       'mwanda', 'manga', 'mwendu', 'i mwanga', 'bwindi', 'bwinzi',\n",
       "       'mwanga', 'mwangi', 'mpinga', 'mwenga', 'mwana', 'mwajengo',\n",
       "       'mwangaza', 'njanja', 'i lwanga', 'mwinda', 'alingbwa', 'lwanga',\n",
       "       'l mwandu', 'ceago'], \n",
       "      dtype='|S33')"
      ]
     },
     "execution_count": 261,
     "metadata": {},
     "output_type": "execute_result"
    }
   ],
   "source": [
    "mwanga"
   ]
  },
  {
   "cell_type": "markdown",
   "metadata": {},
   "source": [
    "we will manually edit the scholl name and remove and add correct names to the dic"
   ]
  },
  {
   "cell_type": "code",
   "execution_count": 197,
   "metadata": {},
   "outputs": [
    {
     "data": {
      "text/plain": [
       "array(['mwanzo', 'musanga', 'bwanga', 'dinanga', 'ins mwanga', 'mwandu',\n",
       "       'mwanda', 'manga', 'mwendu', 'i mwanga', 'mwanga', 'mwangi',\n",
       "       'mpinga', 'mwenga', 'mwana', 'mwangaza', 'mugunga', 'njanja',\n",
       "       'i lwanga', 'mwinda', 'lwanga', 'l mwandu'], \n",
       "      dtype='|S33')"
      ]
     },
     "execution_count": 197,
     "metadata": {},
     "output_type": "execute_result"
    }
   ],
   "source": [
    "mwanga"
   ]
  },
  {
   "cell_type": "code",
   "execution_count": 439,
   "metadata": {},
   "outputs": [
    {
     "data": {
      "text/plain": [
       "array(['mazinge', 'mwanzo', 'bwanga', 'dinanga', 'ins mwanga', 'mwandu',\n",
       "       'mwanda', 'manga', 'mwendu', 'i mwanga', 'bwindi', 'bwinzi',\n",
       "       'mwanga', 'mwangi', 'mpinga', 'mwenga', 'mwana', 'mwajengo',\n",
       "       'mwangaza', 'njanja', 'i lwanga', 'mwinda', 'alingbwa', 'lwanga',\n",
       "       'l mwandu', 'ceago'], \n",
       "      dtype='|S33')"
      ]
     },
     "execution_count": 439,
     "metadata": {},
     "output_type": "execute_result"
    }
   ],
   "source": [
    "groupsSchool['mwanga']"
   ]
  },
  {
   "cell_type": "code",
   "execution_count": 22,
   "metadata": {},
   "outputs": [],
   "source": [
    "groupsSchool['mwanga']=[]\n",
    "for x in mwanga:\n",
    "    if x in ['mwanga','i mwanga','ins mwanga','manga']:\n",
    "        groupsSchool['mwanga'].append(x)\n",
    "    else:\n",
    "        groupsSchool[x]=x"
   ]
  },
  {
   "cell_type": "code",
   "execution_count": 205,
   "metadata": {
    "scrolled": false
   },
   "outputs": [
    {
     "data": {
      "text/plain": [
       "array(['de basoko', 'des bukavu', 'de kalamu', 'de bukavu', 'it bugabo'], \n",
       "      dtype='|S33')"
      ]
     },
     "execution_count": 205,
     "metadata": {},
     "output_type": "execute_result"
    }
   ],
   "source": [
    "deBukavu"
   ]
  },
  {
   "cell_type": "code",
   "execution_count": 106,
   "metadata": {},
   "outputs": [],
   "source": [
    "def removeClean(key, similar):\n",
    "    \"\"\"this function will remove similar to grouppe name\"\"\"\n",
    "    values=groupsSchool[key] #first with get the values from dict\n",
    "    del groupsSchool[key] #we delete them\n",
    "    correctV=[] #we create an empty list for new values \n",
    "    for x in values:\n",
    "        if x in similar:\n",
    "            correctV.append(x)\n",
    "        elif x in ['itfm','iftm', 'itfm maendeleo','funu maendeleo']:\n",
    "            print x\n",
    "            groupsSchool['itfm/bukavu']=np.append(groupsSchool['itfm/bukavu'], np.array([x]))\n",
    "\n",
    "        elif x=='i de bkv':\n",
    "            groupsSchool['de bukavu'].append(x)\n",
    "        elif x=='bukavu':\n",
    "            print x\n",
    "            groupsSchool['de bukavu'].append(x)\n",
    "        elif x=='meta':\n",
    "            print x\n",
    "            groupsSchool['metanoia'].append('meta')\n",
    "        elif x=='i himbi':\n",
    "            groupsSchool['himbi']=[]\n",
    "            groupsSchool['himbi']=['himbi',x]\n",
    "        elif x=='i zanner':\n",
    "            groupsSchool['zanner'].append(x)\n",
    "        elif x=='instigo':\n",
    "            groupsSchool['de goma']=[]\n",
    "            groupsSchool['de goma']=['de goma',x]\n",
    "        elif x=='katwa':\n",
    "            groupsSchool['i katwa']=[]\n",
    "            groupsSchool['i katwa']=['i katwa',x]\n",
    "        elif x=='kabuis':\n",
    "            groupsSchool['mama yetu'].append(x)\n",
    "        elif x== 'isidore':\n",
    "            print x\n",
    "            groupsSchool['bakadja'].append(x)\n",
    "        elif x=='faradja':\n",
    "            groupsSchool['faraja'].append(x)\n",
    "        else:\n",
    "            groupsSchool[x]=[]\n",
    "            groupsSchool[x].append(x)\n",
    "    groupsSchool[key]=correctV"
   ]
  },
  {
   "cell_type": "code",
   "execution_count": 234,
   "metadata": {},
   "outputs": [
    {
     "data": {
      "text/plain": [
       "array(['himbi', 'kimua', 'uzima', 'cikoma', 'ngoma', 'vihya', 'weza2',\n",
       "       'neema', 'hekima', 'ciesk', 'elimu', 'bwinzi', 'azma', 'lwiro',\n",
       "       'olimba', 'wai wai', 'weza', 'oicha', 'somea', 'goma', 'milima',\n",
       "       'wima', 'jiwe', 'wema'], \n",
       "      dtype='|S33')"
      ]
     },
     "execution_count": 234,
     "metadata": {},
     "output_type": "execute_result"
    }
   ],
   "source": [
    "wima"
   ]
  },
  {
   "cell_type": "code",
   "execution_count": 26,
   "metadata": {},
   "outputs": [
    {
     "data": {
      "text/plain": [
       "array(['epaf', 'kimua', 'uzima', 'vihya', 'weza2', 'hekima', 'kaya',\n",
       "       'azma', 'rwabika', 'lwiro', 'wai wai', 'uvira', 'weza', 'oicha',\n",
       "       'wima', 'jiwe', 'wema'], \n",
       "      dtype='|S33')"
      ]
     },
     "execution_count": 26,
     "metadata": {},
     "output_type": "execute_result"
    }
   ],
   "source": [
    "groupsSchool['wima']"
   ]
  },
  {
   "cell_type": "code",
   "execution_count": 24,
   "metadata": {},
   "outputs": [
    {
     "data": {
      "text/plain": [
       "array(['matanoia', 'metanoia', 'bethanie', 'metonoina', '%etanoia',\n",
       "       'bethsaida'], \n",
       "      dtype='|S33')"
      ]
     },
     "execution_count": 24,
     "metadata": {},
     "output_type": "execute_result"
    }
   ],
   "source": [
    "groupsSchool['metanoia']"
   ]
  },
  {
   "cell_type": "code",
   "execution_count": 25,
   "metadata": {
    "collapsed": true
   },
   "outputs": [],
   "source": [
    "removeClean('metanoia',['matanoia', 'metanoia', 'metonoina', '%etanoia', 'i metanoia'])"
   ]
  },
  {
   "cell_type": "code",
   "execution_count": 27,
   "metadata": {
    "collapsed": true
   },
   "outputs": [],
   "source": [
    "removeClean('wima',['wima'])"
   ]
  },
  {
   "cell_type": "code",
   "execution_count": 28,
   "metadata": {},
   "outputs": [
    {
     "data": {
      "text/plain": [
       "array(['de basoko', 'des bukavu', 'de kalamu', 'de bukavu', 'it bugabo'], \n",
       "      dtype='|S33')"
      ]
     },
     "execution_count": 28,
     "metadata": {},
     "output_type": "execute_result"
    }
   ],
   "source": [
    "groupsSchool['de bukavu']"
   ]
  },
  {
   "cell_type": "code",
   "execution_count": 29,
   "metadata": {
    "collapsed": true
   },
   "outputs": [],
   "source": [
    "removeClean('de bukavu',['de bukavu','des bukavu'])"
   ]
  },
  {
   "cell_type": "code",
   "execution_count": 30,
   "metadata": {},
   "outputs": [
    {
     "data": {
      "text/plain": [
       "array(['enano', 'amkeni', 'tmaini', 'amina', 'mali', 'okapi', 'ufamandu',\n",
       "       'matumaini', 'uaminifu', 'utamaduni', 'bwindi', 'amen',\n",
       "       'amani cebia', 'bahati', 'odari', 'sayuni', 'amani', 'l amani',\n",
       "       'famila dei', 'namango', 'avenir', 'imani'], \n",
       "      dtype='|S33')"
      ]
     },
     "execution_count": 30,
     "metadata": {},
     "output_type": "execute_result"
    }
   ],
   "source": [
    "groupsSchool['amani']"
   ]
  },
  {
   "cell_type": "code",
   "execution_count": 31,
   "metadata": {
    "collapsed": true
   },
   "outputs": [],
   "source": [
    "removeClean('amani',['amani','l amani'])"
   ]
  },
  {
   "cell_type": "code",
   "execution_count": 32,
   "metadata": {},
   "outputs": [
    {
     "data": {
      "text/plain": [
       "array(['tshoka', 'vuhika', 'nduba', 'ovoa', 'lusaka', 'lukpfu', 'lukpafu',\n",
       "       'luka', 'du lac', 'lunya', 'bikuka', 'lukeba', 'zuza', 'mlezi',\n",
       "       'bukavu', 'losa', 'lukuga', 'muku', 'lowa', 'mfuki', 'aleluya'], \n",
       "      dtype='|S33')"
      ]
     },
     "execution_count": 32,
     "metadata": {},
     "output_type": "execute_result"
    }
   ],
   "source": [
    "groupsSchool['luka']"
   ]
  },
  {
   "cell_type": "code",
   "execution_count": 33,
   "metadata": {},
   "outputs": [
    {
     "name": "stdout",
     "output_type": "stream",
     "text": [
      "bukavu\n"
     ]
    }
   ],
   "source": [
    "removeClean('luka',['luka','lukpfu','lukpafu'])"
   ]
  },
  {
   "cell_type": "code",
   "execution_count": 34,
   "metadata": {
    "collapsed": true
   },
   "outputs": [],
   "source": [
    "groupsSchool['de beni']=np.array(['de beni', 'i de bkv', 'beni', 'de buleusa', 'ct beni', 'de bunia',\n",
    "       'les dibobol', 'ipp/beni', 'de kindu', 'les vert', 'de goma',\n",
    "       'avenir de beni', 'de bagira', 'diabena', 'ct de beni'])"
   ]
  },
  {
   "cell_type": "code",
   "execution_count": 35,
   "metadata": {
    "collapsed": true,
    "scrolled": true
   },
   "outputs": [],
   "source": [
    "removeClean('de beni',['de beni','de beni','beni','ct beni','ct de beni','avenir de beni'])"
   ]
  },
  {
   "cell_type": "code",
   "execution_count": 36,
   "metadata": {},
   "outputs": [
    {
     "data": {
      "text/plain": [
       "array(['espoir1', 'espoir', 'espoir2', 'espoir 2', 'espoir 1'], \n",
       "      dtype='|S33')"
      ]
     },
     "execution_count": 36,
     "metadata": {},
     "output_type": "execute_result"
    }
   ],
   "source": [
    "groupsSchool['espoir1']"
   ]
  },
  {
   "cell_type": "code",
   "execution_count": 51,
   "metadata": {},
   "outputs": [
    {
     "name": "stdout",
     "output_type": "stream",
     "text": [
      "Writing 'groupsSchool' (dict) to file 'groupSchool10.txt'.\n"
     ]
    }
   ],
   "source": [
    "%store groupsSchool >> groupSchool10.txt"
   ]
  },
  {
   "cell_type": "code",
   "execution_count": 37,
   "metadata": {
    "collapsed": true
   },
   "outputs": [],
   "source": [
    "removeClean('espoir1',['espoir1', 'espoir', 'espoir2', 'espoir 2',\n",
    "       'espoir i', 'espoir 1'])"
   ]
  },
  {
   "cell_type": "code",
   "execution_count": 39,
   "metadata": {},
   "outputs": [
    {
     "data": {
      "text/plain": [
       "array(['kasalala', 'alpha', 'c,s, umoja', 'g.s lemba', 'salamu', 'salama',\n",
       "       'kabalaka', 'mahamba', 'baraka', 'shaloom', 'sauvetage', 'faraja',\n",
       "       'shalom', 'it salama', 'galaxie'], \n",
       "      dtype='|S33')"
      ]
     },
     "execution_count": 39,
     "metadata": {},
     "output_type": "execute_result"
    }
   ],
   "source": [
    "groupsSchool['salama']"
   ]
  },
  {
   "cell_type": "code",
   "execution_count": 40,
   "metadata": {
    "collapsed": true
   },
   "outputs": [],
   "source": [
    "removeClean('salama',['salama'])"
   ]
  },
  {
   "cell_type": "code",
   "execution_count": 41,
   "metadata": {},
   "outputs": [
    {
     "data": {
      "text/plain": [
       "array(['bakita', 'bakandja', 'bakanja', 'bakadja', 'faradja', 'kayadja'], \n",
       "      dtype='|S33')"
      ]
     },
     "execution_count": 41,
     "metadata": {},
     "output_type": "execute_result"
    }
   ],
   "source": [
    "groupsSchool['bakadja']"
   ]
  },
  {
   "cell_type": "code",
   "execution_count": 45,
   "metadata": {
    "collapsed": true
   },
   "outputs": [],
   "source": [
    "removeClean('bakadja',['bakanja','bakadja','bakandja','i bakanja'])"
   ]
  },
  {
   "cell_type": "code",
   "execution_count": 47,
   "metadata": {},
   "outputs": [
    {
     "data": {
      "text/plain": [
       "array(['kibabi', 'kambali', 'akili', 'kiyabo', 'gilgali', 'jikaze',\n",
       "       'cirezi', 'kiraku', 'kiruli', 'kibali', 'kivako'], \n",
       "      dtype='|S33')"
      ]
     },
     "execution_count": 47,
     "metadata": {},
     "output_type": "execute_result"
    }
   ],
   "source": [
    "groupsSchool['kibali']"
   ]
  },
  {
   "cell_type": "code",
   "execution_count": null,
   "metadata": {
    "collapsed": true
   },
   "outputs": [],
   "source": []
  },
  {
   "cell_type": "code",
   "execution_count": 48,
   "metadata": {
    "collapsed": true
   },
   "outputs": [],
   "source": [
    "removeClean('kibali',['kibali'])"
   ]
  },
  {
   "cell_type": "code",
   "execution_count": 49,
   "metadata": {
    "scrolled": true
   },
   "outputs": [
    {
     "data": {
      "text/plain": [
       "array(['itav', 'z', 'etpm', 'ecl', 'itsu', 'itso', 'itm', 'meta', 'iftm',\n",
       "       'ebi', 'itve', 'fdf', 'bwito', 'utfm', 'itcb', '61', '54', '53',\n",
       "       'itfm', 'icl', 'itig'], \n",
       "      dtype='|S33')"
      ]
     },
     "execution_count": 49,
     "metadata": {},
     "output_type": "execute_result"
    }
   ],
   "source": [
    "groupsSchool['itm']"
   ]
  },
  {
   "cell_type": "code",
   "execution_count": null,
   "metadata": {
    "collapsed": true
   },
   "outputs": [],
   "source": [
    "groupsSchool['itm']"
   ]
  },
  {
   "cell_type": "code",
   "execution_count": 50,
   "metadata": {},
   "outputs": [
    {
     "name": "stdout",
     "output_type": "stream",
     "text": [
      "meta\n",
      "iftm\n",
      "itfm\n"
     ]
    }
   ],
   "source": [
    "removeClean('itm',['itm'])"
   ]
  },
  {
   "cell_type": "code",
   "execution_count": 51,
   "metadata": {},
   "outputs": [
    {
     "data": {
      "text/plain": [
       "array(['itfm bukavu', 'itfm/bukavu', 'itfm/bkv', 'iftm', 'itfm'], \n",
       "      dtype='|S33')"
      ]
     },
     "execution_count": 51,
     "metadata": {},
     "output_type": "execute_result"
    }
   ],
   "source": [
    "groupsSchool['itfm/bukavu']"
   ]
  },
  {
   "cell_type": "code",
   "execution_count": 54,
   "metadata": {},
   "outputs": [
    {
     "data": {
      "text/plain": [
       "['mama mulezi']"
      ]
     },
     "execution_count": 54,
     "metadata": {},
     "output_type": "execute_result"
    }
   ],
   "source": [
    "groupsSchool['mama mulezi']"
   ]
  },
  {
   "cell_type": "code",
   "execution_count": 53,
   "metadata": {
    "collapsed": true
   },
   "outputs": [],
   "source": [
    "removeClean('mama yetu',['mama yetu'])"
   ]
  },
  {
   "cell_type": "code",
   "execution_count": null,
   "metadata": {
    "collapsed": true
   },
   "outputs": [],
   "source": [
    "%store groupsSchool >> groupSchoolDraft6.txt"
   ]
  },
  {
   "cell_type": "code",
   "execution_count": 56,
   "metadata": {},
   "outputs": [],
   "source": [
    "groupsSchool['maendeleo'] =['maendeleo', 'i maendeleo', 'maedeleo']"
   ]
  },
  {
   "cell_type": "code",
   "execution_count": null,
   "metadata": {
    "collapsed": true
   },
   "outputs": [],
   "source": [
    "removeClean('maendeleo',['maendeleo', 'i maendeleo', 'maedeleo'])"
   ]
  },
  {
   "cell_type": "code",
   "execution_count": 57,
   "metadata": {},
   "outputs": [
    {
     "data": {
      "text/plain": [
       "array(['isidore bakandja', 'isodre bakandja', 'isidore bakanje',\n",
       "       'isidore bakanja', 'isidor bakandja', 'isidore bankaja',\n",
       "       'iidore bakanja', 'isidora bakanja'], \n",
       "      dtype='|S33')"
      ]
     },
     "execution_count": 57,
     "metadata": {},
     "output_type": "execute_result"
    }
   ],
   "source": [
    "groupsSchool['isidore bakanja']"
   ]
  },
  {
   "cell_type": "code",
   "execution_count": null,
   "metadata": {
    "collapsed": true
   },
   "outputs": [],
   "source": [
    "removeClean('isidore bakanja',['isidore bakandja', 'isodre bakandja', 'i isidore bakanja',\n",
    "       'i isidore bakanje', 'isidore bakanja', 'isidor bakandja', 'isidore bankaja', 'iidore bakanja',\n",
    "       'isidora bakanja'])"
   ]
  },
  {
   "cell_type": "code",
   "execution_count": 60,
   "metadata": {},
   "outputs": [],
   "source": [
    "groupsSchool['irambo']=np.array(['rambo', 'i himbi', 'kiyabo', 'essi nyamirambo', 'i rutoboko',\n",
    "       'irambo', 'idambo', 'ruhamiro', 'mambo', 'itav bbo', 'kilambo'], \n",
    "      dtype='|S33')"
   ]
  },
  {
   "cell_type": "code",
   "execution_count": 62,
   "metadata": {},
   "outputs": [
    {
     "data": {
      "text/plain": [
       "['himbi', 'i himbi']"
      ]
     },
     "execution_count": 62,
     "metadata": {},
     "output_type": "execute_result"
    }
   ],
   "source": [
    "groupsSchool['himbi']"
   ]
  },
  {
   "cell_type": "code",
   "execution_count": 61,
   "metadata": {
    "collapsed": true
   },
   "outputs": [],
   "source": [
    "removeClean('irambo',['rambo',\n",
    "       'irambo', 'idambo'])"
   ]
  },
  {
   "cell_type": "code",
   "execution_count": 63,
   "metadata": {},
   "outputs": [
    {
     "data": {
      "text/plain": [
       "array(['zanner', 'sake', 'bibwe', 'belge', 'mehe', 'beni', 'base',\n",
       "       'asseco', 'bashu', 'elise', 'isea', 'tusome', 'babwise'], \n",
       "      dtype='|S33')"
      ]
     },
     "execution_count": 63,
     "metadata": {},
     "output_type": "execute_result"
    }
   ],
   "source": [
    "groupsSchool['base']"
   ]
  },
  {
   "cell_type": "code",
   "execution_count": 64,
   "metadata": {
    "collapsed": true
   },
   "outputs": [],
   "source": [
    "removeClean('base',['base'])"
   ]
  },
  {
   "cell_type": "code",
   "execution_count": 65,
   "metadata": {
    "collapsed": true
   },
   "outputs": [],
   "source": [
    "groupsSchool['zanner']=['zanner','ionstitut zanner','zaner']"
   ]
  },
  {
   "cell_type": "code",
   "execution_count": 66,
   "metadata": {},
   "outputs": [
    {
     "data": {
      "text/plain": [
       "array(['edap isp walikale', 'edap isp bunia', 'idap/bunia',\n",
       "       'idap isp bunia', 'idap/isp bunia', 'adventiste/bunia',\n",
       "       'idap isp rutshuru'], \n",
       "      dtype='|S33')"
      ]
     },
     "execution_count": 66,
     "metadata": {},
     "output_type": "execute_result"
    }
   ],
   "source": [
    "groupsSchool['idap isp bunia']"
   ]
  },
  {
   "cell_type": "code",
   "execution_count": 67,
   "metadata": {
    "collapsed": true
   },
   "outputs": [],
   "source": [
    "removeClean('idap isp bunia',['edap isp bunia', 'idap/bunia',\n",
    "       'idap isp bunia', 'idap/isp bunia'])"
   ]
  },
  {
   "cell_type": "code",
   "execution_count": 70,
   "metadata": {},
   "outputs": [],
   "source": [
    "removeClean('instituti ndosho',['instituti ndosho'])"
   ]
  },
  {
   "cell_type": "code",
   "execution_count": 72,
   "metadata": {},
   "outputs": [
    {
     "data": {
      "text/plain": [
       "array(['ibanga 2', 'ibanda', 'idanda', 'vision ibanda', 'atene ibanda',\n",
       "       'cibanda', 'msaada', 'kabanda', 'a. ibanda', 'dibanda', 'banza',\n",
       "       \"d'ibanda\", 'dibasana', 'ifendula', 'ibanga'], \n",
       "      dtype='|S33')"
      ]
     },
     "execution_count": 72,
     "metadata": {},
     "output_type": "execute_result"
    }
   ],
   "source": [
    "groupsSchool['ibanda']"
   ]
  },
  {
   "cell_type": "code",
   "execution_count": null,
   "metadata": {
    "collapsed": true,
    "scrolled": false
   },
   "outputs": [],
   "source": [
    "len(agroupsSchool)"
   ]
  },
  {
   "cell_type": "code",
   "execution_count": 73,
   "metadata": {
    "collapsed": true
   },
   "outputs": [],
   "source": [
    "removeClean('ibanda',['ibanda', 'idanda', 'vision ibanda', 'atene ibanda',\n",
    "       \"i d'ibanda\",'dibanda',\"d'ibanda\", 'i ibanda','a.ibanda'])"
   ]
  },
  {
   "cell_type": "code",
   "execution_count": null,
   "metadata": {
    "collapsed": true
   },
   "outputs": [],
   "source": [
    "groupsSchool['zanner']"
   ]
  },
  {
   "cell_type": "code",
   "execution_count": 74,
   "metadata": {},
   "outputs": [
    {
     "data": {
      "text/plain": [
       "array(['edap/isp', 'bdap/isp', 'edak/goma', 'edap/upn', 'edap isp',\n",
       "       'edac isp'], \n",
       "      dtype='|S33')"
      ]
     },
     "execution_count": 74,
     "metadata": {},
     "output_type": "execute_result"
    }
   ],
   "source": [
    "groupsSchool['edap/isp']"
   ]
  },
  {
   "cell_type": "code",
   "execution_count": 75,
   "metadata": {
    "collapsed": true
   },
   "outputs": [],
   "source": [
    "removeClean('edap/isp',['edap/isp','edap isp','edac isp','bdap/isp'])"
   ]
  },
  {
   "cell_type": "code",
   "execution_count": null,
   "metadata": {
    "collapsed": true,
    "scrolled": true
   },
   "outputs": [],
   "source": [
    "for x in schoolMOst:\n",
    "    if groupsSchool.get(x)==None:\n",
    "        print x"
   ]
  },
  {
   "cell_type": "code",
   "execution_count": 78,
   "metadata": {},
   "outputs": [
    {
     "data": {
      "text/plain": [
       "array(['matendo', 'matenda', 'imoteyiti', 'matengenezo', 'mwendu',\n",
       "       'molende', 'patemo', 'mwajengo', 'mapendo', 'l mapendo', 'malende',\n",
       "       'mapendo/ngese', 'majengo', 'maedeleo'], \n",
       "      dtype='|S33')"
      ]
     },
     "execution_count": 78,
     "metadata": {},
     "output_type": "execute_result"
    }
   ],
   "source": [
    "groupsSchool['matendo']"
   ]
  },
  {
   "cell_type": "code",
   "execution_count": 79,
   "metadata": {
    "collapsed": true
   },
   "outputs": [],
   "source": [
    "removeClean('matendo', ['matendo'])"
   ]
  },
  {
   "cell_type": "code",
   "execution_count": 80,
   "metadata": {},
   "outputs": [
    {
     "data": {
      "text/plain": [
       "array(['mont sion ii', 'mont des oliviers', 'mont sionii',\n",
       "       'mont tshikenge', 'mont kitenge', 'mont sinai'], \n",
       "      dtype='|S33')"
      ]
     },
     "execution_count": 80,
     "metadata": {},
     "output_type": "execute_result"
    }
   ],
   "source": [
    "groupsSchool['mont sionii']"
   ]
  },
  {
   "cell_type": "code",
   "execution_count": 81,
   "metadata": {
    "collapsed": true
   },
   "outputs": [],
   "source": [
    "removeClean('mont sionii',['mont sion ii','mont sionii'])"
   ]
  },
  {
   "cell_type": "code",
   "execution_count": 82,
   "metadata": {},
   "outputs": [
    {
     "data": {
      "text/plain": [
       "['de goma']"
      ]
     },
     "execution_count": 82,
     "metadata": {},
     "output_type": "execute_result"
    }
   ],
   "source": [
    "groupsSchool['de goma']"
   ]
  },
  {
   "cell_type": "code",
   "execution_count": 83,
   "metadata": {},
   "outputs": [
    {
     "name": "stdout",
     "output_type": "stream",
     "text": [
      "isidore\n"
     ]
    }
   ],
   "source": [
    "removeClean('isingo',['isingo','monvu/isingo'])"
   ]
  },
  {
   "cell_type": "code",
   "execution_count": 84,
   "metadata": {},
   "outputs": [
    {
     "data": {
      "text/plain": [
       "array(['loyola', 'bonsomi', 'bobokoli', 'bokolo', 'boyulu', 'visolo',\n",
       "       'les dibobol', 'tsololo', 'totoro', 'bokoro', 'mbovote'], \n",
       "      dtype='|S33')"
      ]
     },
     "execution_count": 84,
     "metadata": {},
     "output_type": "execute_result"
    }
   ],
   "source": [
    "groupsSchool['bokolo']"
   ]
  },
  {
   "cell_type": "code",
   "execution_count": 85,
   "metadata": {
    "collapsed": true
   },
   "outputs": [],
   "source": [
    "removeClean('bokolo',['bokolo'])"
   ]
  },
  {
   "cell_type": "code",
   "execution_count": 86,
   "metadata": {},
   "outputs": [
    {
     "data": {
      "text/plain": [
       "['totoro']"
      ]
     },
     "execution_count": 86,
     "metadata": {},
     "output_type": "execute_result"
    }
   ],
   "source": [
    "groupsSchool['totoro']"
   ]
  },
  {
   "cell_type": "code",
   "execution_count": 87,
   "metadata": {},
   "outputs": [
    {
     "data": {
      "text/plain": [
       "array(['kashozi', 'karhale', 'kashofu', 'mashauri', 'kasali', 'kasheke',\n",
       "       'kashali', 'fadhili'], \n",
       "      dtype='|S33')"
      ]
     },
     "execution_count": 87,
     "metadata": {},
     "output_type": "execute_result"
    }
   ],
   "source": [
    "groupsSchool['kashali']"
   ]
  },
  {
   "cell_type": "code",
   "execution_count": 88,
   "metadata": {
    "collapsed": true
   },
   "outputs": [],
   "source": [
    "removeClean('kashali',['kashali'])"
   ]
  },
  {
   "cell_type": "code",
   "execution_count": 89,
   "metadata": {},
   "outputs": [
    {
     "data": {
      "text/plain": [
       "array(['john mabwindi', 'nyantende', 'nyabiondo', 'nyabushongo',\n",
       "       'nyamianda', 'nyabibwe'], \n",
       "      dtype='|S33')"
      ]
     },
     "execution_count": 89,
     "metadata": {},
     "output_type": "execute_result"
    }
   ],
   "source": [
    "groupsSchool['nyabiondo']"
   ]
  },
  {
   "cell_type": "code",
   "execution_count": 90,
   "metadata": {
    "collapsed": true
   },
   "outputs": [],
   "source": [
    "removeClean('nyabiondo',['nyabiondo'])"
   ]
  },
  {
   "cell_type": "code",
   "execution_count": 91,
   "metadata": {},
   "outputs": [
    {
     "data": {
      "text/plain": [
       "array(['musanga', 'luvango', 'ludaha', 'luanga', 'mabakanga', 'lukanga',\n",
       "       'vikanzu', 'lukweti', 'lukunga', 'it lukanga', 'ruharaga',\n",
       "       'bunyanga', 'de lukanga'], \n",
       "      dtype='|S33')"
      ]
     },
     "execution_count": 91,
     "metadata": {},
     "output_type": "execute_result"
    }
   ],
   "source": [
    "groupsSchool['lukanga']"
   ]
  },
  {
   "cell_type": "code",
   "execution_count": 92,
   "metadata": {
    "collapsed": true
   },
   "outputs": [],
   "source": [
    "removeClean('lukanga',['it lukanga','de lukanga','lukanga','lukunga','lukuga'])"
   ]
  },
  {
   "cell_type": "code",
   "execution_count": 93,
   "metadata": {},
   "outputs": [
    {
     "data": {
      "text/plain": [
       "array(['kirimavolo', 'kilimali', 'masikilizano', 'ihimbi', 'bigilimani',\n",
       "       'lyliane', 'mbolitini', 'kitumaini', 'kalimabenge', 'biglimani',\n",
       "       'kilimani'], \n",
       "      dtype='|S33')"
      ]
     },
     "execution_count": 93,
     "metadata": {},
     "output_type": "execute_result"
    }
   ],
   "source": [
    "groupsSchool['kilimani']"
   ]
  },
  {
   "cell_type": "code",
   "execution_count": 94,
   "metadata": {
    "collapsed": true
   },
   "outputs": [],
   "source": [
    "removeClean('kilimani',['kilimani','kilimali'])"
   ]
  },
  {
   "cell_type": "code",
   "execution_count": 95,
   "metadata": {},
   "outputs": [
    {
     "data": {
      "text/plain": [
       "array(['mandayi', 'bundji', 'utaniadun', 'bandashe', 'uenezaji', 'hodari',\n",
       "       'ruwenzori', 'bunyakiri', 'mandai', 'bandari'], \n",
       "      dtype='|S33')"
      ]
     },
     "execution_count": 95,
     "metadata": {},
     "output_type": "execute_result"
    }
   ],
   "source": [
    "groupsSchool['bandari']"
   ]
  },
  {
   "cell_type": "code",
   "execution_count": 96,
   "metadata": {
    "collapsed": true
   },
   "outputs": [],
   "source": [
    "removeClean('bandari',['bandari'])"
   ]
  },
  {
   "cell_type": "code",
   "execution_count": 99,
   "metadata": {},
   "outputs": [
    {
     "data": {
      "text/plain": [
       "['i katwa', 'katwa']"
      ]
     },
     "execution_count": 99,
     "metadata": {},
     "output_type": "execute_result"
    }
   ],
   "source": [
    "groupsSchool['i katwa']"
   ]
  },
  {
   "cell_type": "code",
   "execution_count": 98,
   "metadata": {
    "collapsed": true
   },
   "outputs": [],
   "source": [
    "removeClean('katana',['katana','l katana','katana centre'])"
   ]
  },
  {
   "cell_type": "code",
   "execution_count": 100,
   "metadata": {},
   "outputs": [
    {
     "data": {
      "text/plain": [
       "array(['macha', 'ilambula', 'tuha utala', 'mabula', 'mabula/ihoka',\n",
       "       'kabuis', 'kabolwa', 'mavuno', 'mbula', 'maboso', 'mutambala',\n",
       "       'kabila', 'malula', 'bugarula', 'mululu', 'mayele', 'ndahura',\n",
       "       'mabalako', 'mboga', 'luapula'], \n",
       "      dtype='|S33')"
      ]
     },
     "execution_count": 100,
     "metadata": {},
     "output_type": "execute_result"
    }
   ],
   "source": [
    "groupsSchool['mabula']"
   ]
  },
  {
   "cell_type": "code",
   "execution_count": 101,
   "metadata": {
    "collapsed": true
   },
   "outputs": [],
   "source": [
    "removeClean('mabula',['mabula', 'mabula/ihoka','mbula'])"
   ]
  },
  {
   "cell_type": "code",
   "execution_count": 102,
   "metadata": {},
   "outputs": [
    {
     "data": {
      "text/plain": [
       "array(['tujikaze', 'muhungano', 'tujenge', 'tuwungane', 'mungano',\n",
       "       'muungano', 'c.s. tuungane', 'tuungana', 'tuungane', 'tupendane'], \n",
       "      dtype='|S33')"
      ]
     },
     "execution_count": 102,
     "metadata": {},
     "output_type": "execute_result"
    }
   ],
   "source": [
    "groupsSchool['tuungane']"
   ]
  },
  {
   "cell_type": "code",
   "execution_count": 107,
   "metadata": {},
   "outputs": [
    {
     "data": {
      "text/plain": [
       "array(['tujikaze', 'muhungano', 'tuwungane', 'mungano', 'muungano',\n",
       "       'c.s. tuungane', 'tuungana', 'tuungane', 'tupendane'], \n",
       "      dtype='|S33')"
      ]
     },
     "execution_count": 107,
     "metadata": {},
     "output_type": "execute_result"
    }
   ],
   "source": [
    "groupsSchool['tuungane']"
   ]
  },
  {
   "cell_type": "code",
   "execution_count": 105,
   "metadata": {},
   "outputs": [
    {
     "ename": "KeyError",
     "evalue": "'tupendane fech'",
     "output_type": "error",
     "traceback": [
      "\u001b[0;31m---------------------------------------------------------------------------\u001b[0m",
      "\u001b[0;31mKeyError\u001b[0m                                  Traceback (most recent call last)",
      "\u001b[0;32m<ipython-input-105-b836c7b7cc4d>\u001b[0m in \u001b[0;36m<module>\u001b[0;34m()\u001b[0m\n\u001b[0;32m----> 1\u001b[0;31m \u001b[0mgroupsSchool\u001b[0m\u001b[0;34m[\u001b[0m\u001b[0;34m'tupendane fech'\u001b[0m\u001b[0;34m]\u001b[0m\u001b[0;34m\u001b[0m\u001b[0m\n\u001b[0m",
      "\u001b[0;31mKeyError\u001b[0m: 'tupendane fech'"
     ]
    }
   ],
   "source": [
    "groupsSchool['tupendane fech']"
   ]
  },
  {
   "cell_type": "code",
   "execution_count": 108,
   "metadata": {},
   "outputs": [],
   "source": [
    "removeClean('tuungane',['c.s. tuungane', 'tuungana', 'tuungane','tuwungane'])"
   ]
  },
  {
   "cell_type": "code",
   "execution_count": 109,
   "metadata": {},
   "outputs": [
    {
     "data": {
      "text/plain": [
       "array(['saint michel', 'saint pau', 'saint marc', 'st paul',\n",
       "       'saint raphael', 'saint paul'], \n",
       "      dtype='|S33')"
      ]
     },
     "execution_count": 109,
     "metadata": {},
     "output_type": "execute_result"
    }
   ],
   "source": [
    "groupsSchool['saint paul']"
   ]
  },
  {
   "cell_type": "code",
   "execution_count": 110,
   "metadata": {
    "collapsed": true
   },
   "outputs": [],
   "source": [
    "removeClean('saint paul',['saint paul','st paul','saint pau'])"
   ]
  },
  {
   "cell_type": "code",
   "execution_count": 112,
   "metadata": {},
   "outputs": [
    {
     "data": {
      "text/plain": [
       "array(['kyambogho', 'kiwele', 'kabale', 'humule', 'kisolokele', 'etoile',\n",
       "       'kamole', 'mgr moke', 'matolu', 'visoke', 'kambale', 'kaoze',\n",
       "       'kamanyola', 'wapole'], \n",
       "      dtype='|S33')"
      ]
     },
     "execution_count": 112,
     "metadata": {},
     "output_type": "execute_result"
    }
   ],
   "source": [
    "groupsSchool['kamole']"
   ]
  },
  {
   "cell_type": "code",
   "execution_count": 113,
   "metadata": {
    "collapsed": true
   },
   "outputs": [],
   "source": [
    "removeClean('kamole',['kamole'])"
   ]
  },
  {
   "cell_type": "code",
   "execution_count": 115,
   "metadata": {},
   "outputs": [
    {
     "data": {
      "text/plain": [
       "array(['ujasiri', 'masisi', 'masisi2', 'inst2 masisi', 'kasika', 'tisiesi',\n",
       "       'masapi', 'ii masisi', 'fazili', 'masiki', 'umoja fs', 'de masisi',\n",
       "       'thabiti', 'nikisi', 'moyo safi', 'makyase', 'masanikilo', 'tsiesi',\n",
       "       'la vision', 'lisalisi', 'tabiti'], \n",
       "      dtype='|S33')"
      ]
     },
     "execution_count": 115,
     "metadata": {},
     "output_type": "execute_result"
    }
   ],
   "source": [
    "groupsSchool['masisi']"
   ]
  },
  {
   "cell_type": "code",
   "execution_count": 116,
   "metadata": {
    "collapsed": true
   },
   "outputs": [],
   "source": [
    "removeClean('masisi',['masisi', 'masisi2', 'inst2 masisi','de masisi','ii masisi'])"
   ]
  },
  {
   "cell_type": "code",
   "execution_count": 117,
   "metadata": {},
   "outputs": [
    {
     "data": {
      "text/plain": [
       "array(['ujumbe', 'buramba', 'de kirumba', 'tumba', 'busimba', 'gs tumba',\n",
       "       'rijumba', 'buhimba', 'burhuza', 'bushumba', 'bulumbi', 'lumumba',\n",
       "       'bikuba', 'kirumba', 'butumba', 'tetembwa', 'burhiba'], \n",
       "      dtype='|S33')"
      ]
     },
     "execution_count": 117,
     "metadata": {},
     "output_type": "execute_result"
    }
   ],
   "source": [
    "groupsSchool['butumba']"
   ]
  },
  {
   "cell_type": "code",
   "execution_count": 118,
   "metadata": {
    "collapsed": true
   },
   "outputs": [],
   "source": [
    "removeClean('butumba',['butumba'])"
   ]
  },
  {
   "cell_type": "code",
   "execution_count": 119,
   "metadata": {},
   "outputs": [
    {
     "data": {
      "text/plain": [
       "507"
      ]
     },
     "execution_count": 119,
     "metadata": {},
     "output_type": "execute_result"
    }
   ],
   "source": [
    "len(groupsSchool)"
   ]
  },
  {
   "cell_type": "code",
   "execution_count": 120,
   "metadata": {
    "collapsed": true
   },
   "outputs": [],
   "source": [
    "import cjson"
   ]
  },
  {
   "cell_type": "code",
   "execution_count": 123,
   "metadata": {},
   "outputs": [],
   "source": [
    "import simplejson as json"
   ]
  },
  {
   "cell_type": "code",
   "execution_count": 126,
   "metadata": {},
   "outputs": [],
   "source": [
    "for k in groupsSchool.keys():\n",
    "    if isinstance(groupsSchool[k],np.ndarray):\n",
    "        groupsSchool[k]=groupsSchool[k].tolist()"
   ]
  },
  {
   "cell_type": "code",
   "execution_count": 128,
   "metadata": {},
   "outputs": [],
   "source": [
    "groupsSchoolJson=cjson.encode(groupsSchool)"
   ]
  },
  {
   "cell_type": "code",
   "execution_count": 175,
   "metadata": {},
   "outputs": [
    {
     "name": "stdout",
     "output_type": "stream",
     "text": [
      "Writing 'groupsSchool' (dict) to file 'groupSchoolDraft12.txt'.\n"
     ]
    }
   ],
   "source": [
    "import json, codecs\n",
    "with open('SchoolDataV2.json', 'wb') as f:\n",
    "    json.dump(groupsSchoolJson, codecs.getwriter('utf-8')(f), ensure_ascii=False)\n",
    "%store groupsSchool >> groupSchoolDraft12.txt"
   ]
  },
  {
   "cell_type": "code",
   "execution_count": 138,
   "metadata": {},
   "outputs": [],
   "source": [
    "with open('SchoolData.json') as json_data:\n",
    "    schoolData = json.load(json_data)"
   ]
  },
  {
   "cell_type": "code",
   "execution_count": 140,
   "metadata": {},
   "outputs": [
    {
     "name": "stdout",
     "output_type": "stream",
     "text": [
      "Writing 'groupsSchool' (dict) to file 'groupSchoolDraft11.txt'.\n"
     ]
    }
   ],
   "source": [
    "%store groupsSchool >> groupSchoolDraft11.txt"
   ]
  },
  {
   "cell_type": "code",
   "execution_count": 143,
   "metadata": {
    "collapsed": true
   },
   "outputs": [],
   "source": [
    "from pprint import pprint"
   ]
  },
  {
   "cell_type": "code",
   "execution_count": 149,
   "metadata": {},
   "outputs": [],
   "source": [
    "groupsSchool['mwanga']=['ins mwanga', 'manga', 'i mwanga', 'mwanga']"
   ]
  },
  {
   "cell_type": "code",
   "execution_count": 166,
   "metadata": {},
   "outputs": [
    {
     "data": {
      "text/plain": [
       "['lumi\\xc3\\xa8re', 'c.s. lumiere', 'lumiere']"
      ]
     },
     "execution_count": 166,
     "metadata": {},
     "output_type": "execute_result"
    }
   ],
   "source": [
    "groupsSchool['lumiere']"
   ]
  },
  {
   "cell_type": "code",
   "execution_count": 165,
   "metadata": {
    "collapsed": true
   },
   "outputs": [],
   "source": [
    "removeClean('lumiere',['lumiere','c.s. lumiere','lumi\\xc3\\xa8re',])"
   ]
  },
  {
   "cell_type": "code",
   "execution_count": 170,
   "metadata": {},
   "outputs": [
    {
     "data": {
      "text/plain": [
       "['mapera',\n",
       " 'sebyera',\n",
       " 'mutsoperwa',\n",
       " 'magherya',\n",
       " 'camp fac',\n",
       " 'nengapeta',\n",
       " 'mapema',\n",
       " 'imara',\n",
       " 'bagira',\n",
       " 'l mapema',\n",
       " 'mugeri',\n",
       " 'zaner']"
      ]
     },
     "execution_count": 170,
     "metadata": {},
     "output_type": "execute_result"
    }
   ],
   "source": [
    "groupsSchool['mapera']"
   ]
  },
  {
   "cell_type": "code",
   "execution_count": 171,
   "metadata": {
    "collapsed": true
   },
   "outputs": [],
   "source": [
    "removeClean('mapera',['mapera'])"
   ]
  },
  {
   "cell_type": "code",
   "execution_count": 173,
   "metadata": {
    "scrolled": true
   },
   "outputs": [
    {
     "data": {
      "text/plain": [
       "['savana school',\n",
       " 'maranantha',\n",
       " 'maranatha',\n",
       " 'maranathan',\n",
       " 'marhanata',\n",
       " 'maman sphie']"
      ]
     },
     "execution_count": 173,
     "metadata": {},
     "output_type": "execute_result"
    }
   ],
   "source": [
    "groupsSchool['maranatha']"
   ]
  },
  {
   "cell_type": "code",
   "execution_count": 169,
   "metadata": {
    "collapsed": true
   },
   "outputs": [],
   "source": [
    "removeClean('kitunda',['kitunda'])"
   ]
  },
  {
   "cell_type": "code",
   "execution_count": 174,
   "metadata": {
    "collapsed": true
   },
   "outputs": [],
   "source": [
    "removeClean('maranatha',['maranantha',\n",
    " 'maranatha',\n",
    " 'maranathan',\n",
    " 'marhanata',])"
   ]
  },
  {
   "cell_type": "code",
   "execution_count": 188,
   "metadata": {},
   "outputs": [],
   "source": [
    "SchoolMostName=list(dataset.SCHOOL.apply(removeNames).value_counts()[:100].index)"
   ]
  },
  {
   "cell_type": "code",
   "execution_count": 190,
   "metadata": {},
   "outputs": [
    {
     "name": "stdout",
     "output_type": "stream",
     "text": [
      "mont carmel\n",
      "mont goma\n",
      "saint joseph\n",
      "bungulu\n",
      "goma\n",
      "saint ursule\n",
      "nuru\n",
      "bakanja\n",
      "lwanga\n",
      "itfm\n",
      "instigo\n",
      "malkia wa mbingu\n",
      "mikeno\n",
      "buturande\n",
      "msawato\n",
      "tumaini\n",
      "mugunga\n",
      "mwandu\n",
      "bangu\n",
      "isidore bakandja\n",
      "mwanga/uvira\n",
      "umoja\n",
      "katwa\n",
      "rutoboko\n",
      "ushindi\n",
      "tuadibishe\n",
      "vungi\n",
      "bihira\n",
      "bukavu\n",
      "faradja\n",
      "kavaghendi\n",
      "maedeleo\n",
      "jerico\n"
     ]
    }
   ],
   "source": [
    "for x in SchoolMostName:\n",
    "    if not groupsSchool.get(x):\n",
    "        print x"
   ]
  },
  {
   "cell_type": "code",
   "execution_count": 191,
   "metadata": {},
   "outputs": [
    {
     "data": {
      "text/plain": [
       "537"
      ]
     },
     "execution_count": 191,
     "metadata": {},
     "output_type": "execute_result"
    }
   ],
   "source": [
    "len(groupsSchool)"
   ]
  },
  {
   "cell_type": "code",
   "execution_count": 243,
   "metadata": {
    "collapsed": true
   },
   "outputs": [],
   "source": [
    "dataset['SCHOOL_CORRECT']=dataset.SCHOOL.apply(removeNames)"
   ]
  },
  {
   "cell_type": "code",
   "execution_count": 244,
   "metadata": {
    "collapsed": true
   },
   "outputs": [],
   "source": [
    "dataset['SCHOOL_RIGHT']=dataset.SCHOOL"
   ]
  },
  {
   "cell_type": "code",
   "execution_count": 200,
   "metadata": {},
   "outputs": [
    {
     "data": {
      "text/plain": [
       "314"
      ]
     },
     "execution_count": 200,
     "metadata": {},
     "output_type": "execute_result"
    }
   ],
   "source": [
    "len(dataset.SCHOOL.value_counts())-len(dataset.SCHOOL_CORRECT.value_counts())"
   ]
  },
  {
   "cell_type": "code",
   "execution_count": 228,
   "metadata": {},
   "outputs": [
    {
     "data": {
      "text/html": [
       "<div>\n",
       "<table border=\"1\" class=\"dataframe\">\n",
       "  <thead>\n",
       "    <tr style=\"text-align: right;\">\n",
       "      <th></th>\n",
       "      <th>DIPLOMSECTION</th>\n",
       "      <th>DIPLOMOPTION</th>\n",
       "      <th>SCHOOL</th>\n",
       "      <th>SCHOOLSTATUS</th>\n",
       "      <th>SCHOOL_CORRECT</th>\n",
       "    </tr>\n",
       "  </thead>\n",
       "  <tbody>\n",
       "    <tr>\n",
       "      <th>11</th>\n",
       "      <td>inconnu</td>\n",
       "      <td>inconnu</td>\n",
       "      <td>mwanga</td>\n",
       "      <td>inconnu</td>\n",
       "      <td>mwanga</td>\n",
       "    </tr>\n",
       "    <tr>\n",
       "      <th>42</th>\n",
       "      <td>LITTERAIRE</td>\n",
       "      <td>LATIN PHILO</td>\n",
       "      <td>mwanga</td>\n",
       "      <td>inconnu</td>\n",
       "      <td>mwanga</td>\n",
       "    </tr>\n",
       "    <tr>\n",
       "      <th>48</th>\n",
       "      <td>LITTERAIRE</td>\n",
       "      <td>LATINPHILO</td>\n",
       "      <td>mwanga</td>\n",
       "      <td>inconnu</td>\n",
       "      <td>mwanga</td>\n",
       "    </tr>\n",
       "    <tr>\n",
       "      <th>56</th>\n",
       "      <td>SCIENTIFIQUE</td>\n",
       "      <td>BIO CHIMIE</td>\n",
       "      <td>mwanga</td>\n",
       "      <td>inconnu</td>\n",
       "      <td>mwanga</td>\n",
       "    </tr>\n",
       "    <tr>\n",
       "      <th>62</th>\n",
       "      <td>SCIENTIFIQUE</td>\n",
       "      <td>BIO CHIMIE</td>\n",
       "      <td>mwanga</td>\n",
       "      <td>inconnu</td>\n",
       "      <td>mwanga</td>\n",
       "    </tr>\n",
       "    <tr>\n",
       "      <th>73</th>\n",
       "      <td>SCIENTIFIQUE</td>\n",
       "      <td>BIO CHIMIE</td>\n",
       "      <td>mwanga</td>\n",
       "      <td>inconnu</td>\n",
       "      <td>mwanga</td>\n",
       "    </tr>\n",
       "    <tr>\n",
       "      <th>102</th>\n",
       "      <td>TECHNIQUE</td>\n",
       "      <td>COMMERCIALE ET ADMINISTRATIVE</td>\n",
       "      <td>mwanga</td>\n",
       "      <td>inconnu</td>\n",
       "      <td>mwanga</td>\n",
       "    </tr>\n",
       "    <tr>\n",
       "      <th>105</th>\n",
       "      <td>techc</td>\n",
       "      <td>CA</td>\n",
       "      <td>mwanga</td>\n",
       "      <td>inconnu</td>\n",
       "      <td>mwanga</td>\n",
       "    </tr>\n",
       "    <tr>\n",
       "      <th>171</th>\n",
       "      <td>LITTERAIRE</td>\n",
       "      <td>LATIN PHILO</td>\n",
       "      <td>mwanga</td>\n",
       "      <td>inconnu</td>\n",
       "      <td>mwanga</td>\n",
       "    </tr>\n",
       "    <tr>\n",
       "      <th>173</th>\n",
       "      <td>TECH</td>\n",
       "      <td>CA</td>\n",
       "      <td>mwanga</td>\n",
       "      <td>inconnu</td>\n",
       "      <td>mwanga</td>\n",
       "    </tr>\n",
       "    <tr>\n",
       "      <th>210</th>\n",
       "      <td>LITT</td>\n",
       "      <td>LATIN PHILIO</td>\n",
       "      <td>mwanga</td>\n",
       "      <td>inconnu</td>\n",
       "      <td>mwanga</td>\n",
       "    </tr>\n",
       "    <tr>\n",
       "      <th>224</th>\n",
       "      <td>SCIENTIFIQUE</td>\n",
       "      <td>BC</td>\n",
       "      <td>mwanga</td>\n",
       "      <td>inconnu</td>\n",
       "      <td>ins mwanga</td>\n",
       "    </tr>\n",
       "    <tr>\n",
       "      <th>226</th>\n",
       "      <td>LITT</td>\n",
       "      <td>LATIN PHILO</td>\n",
       "      <td>mwanga</td>\n",
       "      <td>inconnu</td>\n",
       "      <td>mwanga</td>\n",
       "    </tr>\n",
       "    <tr>\n",
       "      <th>245</th>\n",
       "      <td>LIT</td>\n",
       "      <td>LP</td>\n",
       "      <td>mwanga</td>\n",
       "      <td>inconnu</td>\n",
       "      <td>mwanga</td>\n",
       "    </tr>\n",
       "    <tr>\n",
       "      <th>294</th>\n",
       "      <td>LIT</td>\n",
       "      <td>LP</td>\n",
       "      <td>mwanga</td>\n",
       "      <td>inconnu</td>\n",
       "      <td>mwanga</td>\n",
       "    </tr>\n",
       "    <tr>\n",
       "      <th>307</th>\n",
       "      <td>LIT</td>\n",
       "      <td>LP</td>\n",
       "      <td>mwanga</td>\n",
       "      <td>inconnu</td>\n",
       "      <td>mwanga</td>\n",
       "    </tr>\n",
       "    <tr>\n",
       "      <th>308</th>\n",
       "      <td>TEC</td>\n",
       "      <td>SOCIALE</td>\n",
       "      <td>mwanga</td>\n",
       "      <td>inconnu</td>\n",
       "      <td>mwanga</td>\n",
       "    </tr>\n",
       "    <tr>\n",
       "      <th>339</th>\n",
       "      <td>TEC</td>\n",
       "      <td>CA</td>\n",
       "      <td>mwanga</td>\n",
       "      <td>inconnu</td>\n",
       "      <td>mwanga</td>\n",
       "    </tr>\n",
       "    <tr>\n",
       "      <th>348</th>\n",
       "      <td>TEC CA</td>\n",
       "      <td>CA</td>\n",
       "      <td>mwanga</td>\n",
       "      <td>inconnu</td>\n",
       "      <td>mwanga</td>\n",
       "    </tr>\n",
       "    <tr>\n",
       "      <th>392</th>\n",
       "      <td>TEC</td>\n",
       "      <td>CA</td>\n",
       "      <td>mwanga</td>\n",
       "      <td>inconnu</td>\n",
       "      <td>mwanga</td>\n",
       "    </tr>\n",
       "    <tr>\n",
       "      <th>396</th>\n",
       "      <td>TECH</td>\n",
       "      <td>CA</td>\n",
       "      <td>mwanga</td>\n",
       "      <td>inconnu</td>\n",
       "      <td>mwanga</td>\n",
       "    </tr>\n",
       "    <tr>\n",
       "      <th>413</th>\n",
       "      <td>TECH</td>\n",
       "      <td>CA</td>\n",
       "      <td>mwanga</td>\n",
       "      <td>inconnu</td>\n",
       "      <td>mwanga</td>\n",
       "    </tr>\n",
       "    <tr>\n",
       "      <th>449</th>\n",
       "      <td>LITT</td>\n",
       "      <td>LP</td>\n",
       "      <td>mwanga</td>\n",
       "      <td>inconnu</td>\n",
       "      <td>mwanga</td>\n",
       "    </tr>\n",
       "    <tr>\n",
       "      <th>451</th>\n",
       "      <td>LIT</td>\n",
       "      <td>LP</td>\n",
       "      <td>mwanga</td>\n",
       "      <td>inconnu</td>\n",
       "      <td>mwanga</td>\n",
       "    </tr>\n",
       "    <tr>\n",
       "      <th>528</th>\n",
       "      <td>COMM</td>\n",
       "      <td>CA</td>\n",
       "      <td>mwanga</td>\n",
       "      <td>inconnu</td>\n",
       "      <td>mwanga</td>\n",
       "    </tr>\n",
       "    <tr>\n",
       "      <th>529</th>\n",
       "      <td>TEC</td>\n",
       "      <td>CA</td>\n",
       "      <td>mwanga</td>\n",
       "      <td>inconnu</td>\n",
       "      <td>mwanga</td>\n",
       "    </tr>\n",
       "    <tr>\n",
       "      <th>542</th>\n",
       "      <td>LIT</td>\n",
       "      <td>LP</td>\n",
       "      <td>mwanga</td>\n",
       "      <td>inconnu</td>\n",
       "      <td>mwanga</td>\n",
       "    </tr>\n",
       "    <tr>\n",
       "      <th>544</th>\n",
       "      <td>LIT</td>\n",
       "      <td>LP</td>\n",
       "      <td>mwanga</td>\n",
       "      <td>inconnu</td>\n",
       "      <td>mwanga</td>\n",
       "    </tr>\n",
       "    <tr>\n",
       "      <th>547</th>\n",
       "      <td>LIT</td>\n",
       "      <td>LP</td>\n",
       "      <td>mwanga</td>\n",
       "      <td>inconnu</td>\n",
       "      <td>mwanga</td>\n",
       "    </tr>\n",
       "    <tr>\n",
       "      <th>558</th>\n",
       "      <td>TECH</td>\n",
       "      <td>CA</td>\n",
       "      <td>mwanga</td>\n",
       "      <td>inconnu</td>\n",
       "      <td>mwanga</td>\n",
       "    </tr>\n",
       "    <tr>\n",
       "      <th>...</th>\n",
       "      <td>...</td>\n",
       "      <td>...</td>\n",
       "      <td>...</td>\n",
       "      <td>...</td>\n",
       "      <td>...</td>\n",
       "    </tr>\n",
       "    <tr>\n",
       "      <th>4125</th>\n",
       "      <td>COMMERCIALE</td>\n",
       "      <td>COMMERCIALE ET ADMINISTRATIVE</td>\n",
       "      <td>mwanga</td>\n",
       "      <td>catholique</td>\n",
       "      <td>mwanga</td>\n",
       "    </tr>\n",
       "    <tr>\n",
       "      <th>4132</th>\n",
       "      <td>COMMERCIALE</td>\n",
       "      <td>COMMERCIALE ET ADMINISTRATIVE</td>\n",
       "      <td>mwanga</td>\n",
       "      <td>catholique</td>\n",
       "      <td>mwanga</td>\n",
       "    </tr>\n",
       "    <tr>\n",
       "      <th>4147</th>\n",
       "      <td>SCIENTIFIQUE</td>\n",
       "      <td>Bio chimie</td>\n",
       "      <td>mwanga</td>\n",
       "      <td>catholique</td>\n",
       "      <td>mwanga</td>\n",
       "    </tr>\n",
       "    <tr>\n",
       "      <th>4148</th>\n",
       "      <td>COMMERCIALE</td>\n",
       "      <td>COMMERCIALE ET ADMINISTRATIVE</td>\n",
       "      <td>mwanga</td>\n",
       "      <td>inconnu</td>\n",
       "      <td>mwanga</td>\n",
       "    </tr>\n",
       "    <tr>\n",
       "      <th>4188</th>\n",
       "      <td>COMMERCIALE</td>\n",
       "      <td>COMMERCIALE ET ADMINISTRATIVE</td>\n",
       "      <td>mwanga</td>\n",
       "      <td>catholique</td>\n",
       "      <td>mwanga</td>\n",
       "    </tr>\n",
       "    <tr>\n",
       "      <th>4202</th>\n",
       "      <td>LITTERAIRE</td>\n",
       "      <td>Latin Philo</td>\n",
       "      <td>mwanga</td>\n",
       "      <td>catholique</td>\n",
       "      <td>mwanga</td>\n",
       "    </tr>\n",
       "    <tr>\n",
       "      <th>4264</th>\n",
       "      <td>LITERAIRE</td>\n",
       "      <td>LATIN PHILO</td>\n",
       "      <td>mwanga</td>\n",
       "      <td>catholique</td>\n",
       "      <td>mwanga</td>\n",
       "    </tr>\n",
       "    <tr>\n",
       "      <th>4266</th>\n",
       "      <td>SCIENTIFIQUE</td>\n",
       "      <td>BIO CHIMIE</td>\n",
       "      <td>mwanga</td>\n",
       "      <td>catholique</td>\n",
       "      <td>mwanga</td>\n",
       "    </tr>\n",
       "    <tr>\n",
       "      <th>4277</th>\n",
       "      <td>COMMERCIALE</td>\n",
       "      <td>COMMERCIALEN ET ADMINISTRAIVE</td>\n",
       "      <td>mwanga</td>\n",
       "      <td>catholique</td>\n",
       "      <td>mwanga</td>\n",
       "    </tr>\n",
       "    <tr>\n",
       "      <th>4282</th>\n",
       "      <td>LITERAIRE</td>\n",
       "      <td>LATIN PHILO</td>\n",
       "      <td>mwanga</td>\n",
       "      <td>catholique</td>\n",
       "      <td>mwanga</td>\n",
       "    </tr>\n",
       "    <tr>\n",
       "      <th>4293</th>\n",
       "      <td>LITERAIRE</td>\n",
       "      <td>LATIN PHILO</td>\n",
       "      <td>mwanga</td>\n",
       "      <td>catholique</td>\n",
       "      <td>mwanga</td>\n",
       "    </tr>\n",
       "    <tr>\n",
       "      <th>4294</th>\n",
       "      <td>COMMERCIALE</td>\n",
       "      <td>COMMERCIALEN ET ADMINISTRAIVE</td>\n",
       "      <td>mwanga</td>\n",
       "      <td>catholique</td>\n",
       "      <td>mwanga</td>\n",
       "    </tr>\n",
       "    <tr>\n",
       "      <th>4296</th>\n",
       "      <td>COMMERCIALE</td>\n",
       "      <td>COMMERCIALEN ET ADMINISTRAIVE</td>\n",
       "      <td>mwanga</td>\n",
       "      <td>catholique</td>\n",
       "      <td>mwanga</td>\n",
       "    </tr>\n",
       "    <tr>\n",
       "      <th>4297</th>\n",
       "      <td>SCIENTIFIQUE</td>\n",
       "      <td>BIO CHIMIE</td>\n",
       "      <td>mwanga</td>\n",
       "      <td>catholique</td>\n",
       "      <td>mwanga</td>\n",
       "    </tr>\n",
       "    <tr>\n",
       "      <th>4302</th>\n",
       "      <td>SCIENTIFIQUE</td>\n",
       "      <td>BIO CHIMIE</td>\n",
       "      <td>mwanga</td>\n",
       "      <td>catholique</td>\n",
       "      <td>mwanga</td>\n",
       "    </tr>\n",
       "    <tr>\n",
       "      <th>4307</th>\n",
       "      <td>SCIENTIFIQUE</td>\n",
       "      <td>BIO CHIMIE</td>\n",
       "      <td>mwanga</td>\n",
       "      <td>catholique</td>\n",
       "      <td>mwanga</td>\n",
       "    </tr>\n",
       "    <tr>\n",
       "      <th>4308</th>\n",
       "      <td>LITERAIRE</td>\n",
       "      <td>LATIN PHILO</td>\n",
       "      <td>mwanga</td>\n",
       "      <td>catholique</td>\n",
       "      <td>mwanga</td>\n",
       "    </tr>\n",
       "    <tr>\n",
       "      <th>4312</th>\n",
       "      <td>COMMERCIALE</td>\n",
       "      <td>COMMERCIALEN ET ADMINISTRAIVE</td>\n",
       "      <td>mwanga</td>\n",
       "      <td>catholique</td>\n",
       "      <td>mwanga</td>\n",
       "    </tr>\n",
       "    <tr>\n",
       "      <th>4313</th>\n",
       "      <td>COMMERCIALE</td>\n",
       "      <td>COMMERCIALEN ET ADMINISTRAIVE</td>\n",
       "      <td>mwanga</td>\n",
       "      <td>catholique</td>\n",
       "      <td>mwanga</td>\n",
       "    </tr>\n",
       "    <tr>\n",
       "      <th>4315</th>\n",
       "      <td>SCIENTIFIQUE</td>\n",
       "      <td>BIO CHIMIE</td>\n",
       "      <td>mwanga</td>\n",
       "      <td>catholique</td>\n",
       "      <td>mwanga</td>\n",
       "    </tr>\n",
       "    <tr>\n",
       "      <th>4330</th>\n",
       "      <td>COMMERCIALE</td>\n",
       "      <td>COMMERCIALEN ET ADMINISTRAIVE</td>\n",
       "      <td>mwanga</td>\n",
       "      <td>catholique</td>\n",
       "      <td>mwanga</td>\n",
       "    </tr>\n",
       "    <tr>\n",
       "      <th>4440</th>\n",
       "      <td>SCIENTIFIQUE</td>\n",
       "      <td>BIO CHIMIE</td>\n",
       "      <td>mwanga</td>\n",
       "      <td>catholique</td>\n",
       "      <td>mwanga</td>\n",
       "    </tr>\n",
       "    <tr>\n",
       "      <th>4451</th>\n",
       "      <td>COMMERCIALE</td>\n",
       "      <td>COMMERCIALE ADMINISTRATIVE</td>\n",
       "      <td>mwanga</td>\n",
       "      <td>catholique</td>\n",
       "      <td>mwanga</td>\n",
       "    </tr>\n",
       "    <tr>\n",
       "      <th>4456</th>\n",
       "      <td>SCIENTIFIQUE</td>\n",
       "      <td>BIO CHIMIE</td>\n",
       "      <td>mwanga</td>\n",
       "      <td>catholique</td>\n",
       "      <td>mwanga</td>\n",
       "    </tr>\n",
       "    <tr>\n",
       "      <th>4486</th>\n",
       "      <td>COMMERCIALE</td>\n",
       "      <td>COMMERCIALE ADMINISTRATIVE</td>\n",
       "      <td>mwanga</td>\n",
       "      <td>catholique</td>\n",
       "      <td>mwanga</td>\n",
       "    </tr>\n",
       "    <tr>\n",
       "      <th>4505</th>\n",
       "      <td>SCIENTIFIQUE</td>\n",
       "      <td>BIO CHIMIE</td>\n",
       "      <td>mwanga</td>\n",
       "      <td>catholique</td>\n",
       "      <td>mwanga</td>\n",
       "    </tr>\n",
       "    <tr>\n",
       "      <th>4539</th>\n",
       "      <td>COMMERCIALE</td>\n",
       "      <td>COMMERCIALE ET ADMINISTRATIVE</td>\n",
       "      <td>mwanga</td>\n",
       "      <td>catholique</td>\n",
       "      <td>mwanga</td>\n",
       "    </tr>\n",
       "    <tr>\n",
       "      <th>4559</th>\n",
       "      <td>LITTERAIRE</td>\n",
       "      <td>LATIN PHILO</td>\n",
       "      <td>mwanga</td>\n",
       "      <td>catholique</td>\n",
       "      <td>mwanga</td>\n",
       "    </tr>\n",
       "    <tr>\n",
       "      <th>4619</th>\n",
       "      <td>SCIENTIFIQUE</td>\n",
       "      <td>BIO CHIMIE</td>\n",
       "      <td>mwanga</td>\n",
       "      <td>catholique</td>\n",
       "      <td>mwanga</td>\n",
       "    </tr>\n",
       "    <tr>\n",
       "      <th>4622</th>\n",
       "      <td>COMMERCIALE</td>\n",
       "      <td>COMMERCIALE ET ADMINISTRATIVE</td>\n",
       "      <td>mwanga</td>\n",
       "      <td>catholique</td>\n",
       "      <td>mwanga</td>\n",
       "    </tr>\n",
       "  </tbody>\n",
       "</table>\n",
       "<p>307 rows × 5 columns</p>\n",
       "</div>"
      ],
      "text/plain": [
       "     DIPLOMSECTION                   DIPLOMOPTION  SCHOOL SCHOOLSTATUS  \\\n",
       "11         inconnu                        inconnu  mwanga      inconnu   \n",
       "42      LITTERAIRE                    LATIN PHILO  mwanga      inconnu   \n",
       "48      LITTERAIRE                     LATINPHILO  mwanga      inconnu   \n",
       "56    SCIENTIFIQUE                     BIO CHIMIE  mwanga      inconnu   \n",
       "62    SCIENTIFIQUE                     BIO CHIMIE  mwanga      inconnu   \n",
       "73    SCIENTIFIQUE                     BIO CHIMIE  mwanga      inconnu   \n",
       "102      TECHNIQUE  COMMERCIALE ET ADMINISTRATIVE  mwanga      inconnu   \n",
       "105          techc                             CA  mwanga      inconnu   \n",
       "171     LITTERAIRE                    LATIN PHILO  mwanga      inconnu   \n",
       "173           TECH                             CA  mwanga      inconnu   \n",
       "210           LITT                   LATIN PHILIO  mwanga      inconnu   \n",
       "224   SCIENTIFIQUE                             BC  mwanga      inconnu   \n",
       "226           LITT                    LATIN PHILO  mwanga      inconnu   \n",
       "245            LIT                             LP  mwanga      inconnu   \n",
       "294            LIT                             LP  mwanga      inconnu   \n",
       "307            LIT                             LP  mwanga      inconnu   \n",
       "308            TEC                        SOCIALE  mwanga      inconnu   \n",
       "339            TEC                             CA  mwanga      inconnu   \n",
       "348         TEC CA                             CA  mwanga      inconnu   \n",
       "392            TEC                             CA  mwanga      inconnu   \n",
       "396           TECH                             CA  mwanga      inconnu   \n",
       "413           TECH                             CA  mwanga      inconnu   \n",
       "449           LITT                             LP  mwanga      inconnu   \n",
       "451            LIT                             LP  mwanga      inconnu   \n",
       "528           COMM                             CA  mwanga      inconnu   \n",
       "529            TEC                             CA  mwanga      inconnu   \n",
       "542            LIT                             LP  mwanga      inconnu   \n",
       "544            LIT                             LP  mwanga      inconnu   \n",
       "547            LIT                             LP  mwanga      inconnu   \n",
       "558           TECH                             CA  mwanga      inconnu   \n",
       "...            ...                            ...     ...          ...   \n",
       "4125   COMMERCIALE  COMMERCIALE ET ADMINISTRATIVE  mwanga   catholique   \n",
       "4132   COMMERCIALE  COMMERCIALE ET ADMINISTRATIVE  mwanga   catholique   \n",
       "4147  SCIENTIFIQUE                     Bio chimie  mwanga   catholique   \n",
       "4148   COMMERCIALE  COMMERCIALE ET ADMINISTRATIVE  mwanga      inconnu   \n",
       "4188   COMMERCIALE  COMMERCIALE ET ADMINISTRATIVE  mwanga   catholique   \n",
       "4202    LITTERAIRE                    Latin Philo  mwanga   catholique   \n",
       "4264     LITERAIRE                    LATIN PHILO  mwanga   catholique   \n",
       "4266  SCIENTIFIQUE                     BIO CHIMIE  mwanga   catholique   \n",
       "4277   COMMERCIALE  COMMERCIALEN ET ADMINISTRAIVE  mwanga   catholique   \n",
       "4282     LITERAIRE                    LATIN PHILO  mwanga   catholique   \n",
       "4293     LITERAIRE                    LATIN PHILO  mwanga   catholique   \n",
       "4294   COMMERCIALE  COMMERCIALEN ET ADMINISTRAIVE  mwanga   catholique   \n",
       "4296   COMMERCIALE  COMMERCIALEN ET ADMINISTRAIVE  mwanga   catholique   \n",
       "4297  SCIENTIFIQUE                     BIO CHIMIE  mwanga   catholique   \n",
       "4302  SCIENTIFIQUE                     BIO CHIMIE  mwanga   catholique   \n",
       "4307  SCIENTIFIQUE                     BIO CHIMIE  mwanga   catholique   \n",
       "4308     LITERAIRE                    LATIN PHILO  mwanga   catholique   \n",
       "4312   COMMERCIALE  COMMERCIALEN ET ADMINISTRAIVE  mwanga   catholique   \n",
       "4313   COMMERCIALE  COMMERCIALEN ET ADMINISTRAIVE  mwanga   catholique   \n",
       "4315  SCIENTIFIQUE                     BIO CHIMIE  mwanga   catholique   \n",
       "4330   COMMERCIALE  COMMERCIALEN ET ADMINISTRAIVE  mwanga   catholique   \n",
       "4440  SCIENTIFIQUE                     BIO CHIMIE  mwanga   catholique   \n",
       "4451   COMMERCIALE     COMMERCIALE ADMINISTRATIVE  mwanga   catholique   \n",
       "4456  SCIENTIFIQUE                     BIO CHIMIE  mwanga   catholique   \n",
       "4486   COMMERCIALE     COMMERCIALE ADMINISTRATIVE  mwanga   catholique   \n",
       "4505  SCIENTIFIQUE                     BIO CHIMIE  mwanga   catholique   \n",
       "4539   COMMERCIALE  COMMERCIALE ET ADMINISTRATIVE  mwanga   catholique   \n",
       "4559    LITTERAIRE                    LATIN PHILO  mwanga   catholique   \n",
       "4619  SCIENTIFIQUE                     BIO CHIMIE  mwanga   catholique   \n",
       "4622   COMMERCIALE  COMMERCIALE ET ADMINISTRATIVE  mwanga   catholique   \n",
       "\n",
       "     SCHOOL_CORRECT  \n",
       "11           mwanga  \n",
       "42           mwanga  \n",
       "48           mwanga  \n",
       "56           mwanga  \n",
       "62           mwanga  \n",
       "73           mwanga  \n",
       "102          mwanga  \n",
       "105          mwanga  \n",
       "171          mwanga  \n",
       "173          mwanga  \n",
       "210          mwanga  \n",
       "224      ins mwanga  \n",
       "226          mwanga  \n",
       "245          mwanga  \n",
       "294          mwanga  \n",
       "307          mwanga  \n",
       "308          mwanga  \n",
       "339          mwanga  \n",
       "348          mwanga  \n",
       "392          mwanga  \n",
       "396          mwanga  \n",
       "413          mwanga  \n",
       "449          mwanga  \n",
       "451          mwanga  \n",
       "528          mwanga  \n",
       "529          mwanga  \n",
       "542          mwanga  \n",
       "544          mwanga  \n",
       "547          mwanga  \n",
       "558          mwanga  \n",
       "...             ...  \n",
       "4125         mwanga  \n",
       "4132         mwanga  \n",
       "4147         mwanga  \n",
       "4148         mwanga  \n",
       "4188         mwanga  \n",
       "4202         mwanga  \n",
       "4264         mwanga  \n",
       "4266         mwanga  \n",
       "4277         mwanga  \n",
       "4282         mwanga  \n",
       "4293         mwanga  \n",
       "4294         mwanga  \n",
       "4296         mwanga  \n",
       "4297         mwanga  \n",
       "4302         mwanga  \n",
       "4307         mwanga  \n",
       "4308         mwanga  \n",
       "4312         mwanga  \n",
       "4313         mwanga  \n",
       "4315         mwanga  \n",
       "4330         mwanga  \n",
       "4440         mwanga  \n",
       "4451         mwanga  \n",
       "4456         mwanga  \n",
       "4486         mwanga  \n",
       "4505         mwanga  \n",
       "4539         mwanga  \n",
       "4559         mwanga  \n",
       "4619         mwanga  \n",
       "4622         mwanga  \n",
       "\n",
       "[307 rows x 5 columns]"
      ]
     },
     "execution_count": 228,
     "metadata": {},
     "output_type": "execute_result"
    }
   ],
   "source": [
    "dataset.loc[dataset.SCHOOL_CORRECT.isin(groupsSchool['mwanga'])]"
   ]
  },
  {
   "cell_type": "markdown",
   "metadata": {},
   "source": [
    "now we can groups all values according to simillar values"
   ]
  },
  {
   "cell_type": "code",
   "execution_count": 266,
   "metadata": {},
   "outputs": [],
   "source": [
    "for x in groupsSchool.keys():\n",
    "    dataset.SCHOOL_RIGHT.loc[dataset.SCHOOL_CORRECT.isin(groupsSchool.get(x))]=x"
   ]
  },
  {
   "cell_type": "code",
   "execution_count": 268,
   "metadata": {},
   "outputs": [
    {
     "data": {
      "text/html": [
       "<div>\n",
       "<table border=\"1\" class=\"dataframe\">\n",
       "  <thead>\n",
       "    <tr style=\"text-align: right;\">\n",
       "      <th></th>\n",
       "      <th>DIPLOMSECTION</th>\n",
       "      <th>DIPLOMOPTION</th>\n",
       "      <th>SCHOOL</th>\n",
       "      <th>SCHOOLSTATUS</th>\n",
       "      <th>SCHOOL_CORRECT</th>\n",
       "      <th>SCHOOL_RIGHT</th>\n",
       "    </tr>\n",
       "  </thead>\n",
       "  <tbody>\n",
       "    <tr>\n",
       "      <th>17</th>\n",
       "      <td>MECANIQUE</td>\n",
       "      <td>MECANIQUE GENERALE</td>\n",
       "      <td>itig</td>\n",
       "      <td>inconnu</td>\n",
       "      <td>itig</td>\n",
       "      <td>itig</td>\n",
       "    </tr>\n",
       "    <tr>\n",
       "      <th>18</th>\n",
       "      <td>TECHNIQUE INDUSTRIELLE</td>\n",
       "      <td>ELECTRICITE</td>\n",
       "      <td>itig</td>\n",
       "      <td>inconnu</td>\n",
       "      <td>itig</td>\n",
       "      <td>itig</td>\n",
       "    </tr>\n",
       "    <tr>\n",
       "      <th>38</th>\n",
       "      <td>TECHNIQUE</td>\n",
       "      <td>MECANIQUE GENERALE</td>\n",
       "      <td>itg.inst. tech. indust de goma</td>\n",
       "      <td>inconnu</td>\n",
       "      <td>itg.inst. tech. indust de goma</td>\n",
       "      <td>itig</td>\n",
       "    </tr>\n",
       "    <tr>\n",
       "      <th>65</th>\n",
       "      <td>TECHNIQUE</td>\n",
       "      <td>MECANIQUE GENERALE</td>\n",
       "      <td>itig</td>\n",
       "      <td>inconnu</td>\n",
       "      <td>itig</td>\n",
       "      <td>itig</td>\n",
       "    </tr>\n",
       "    <tr>\n",
       "      <th>80</th>\n",
       "      <td>TECHN</td>\n",
       "      <td>ELECTRI</td>\n",
       "      <td>itig</td>\n",
       "      <td>inconnu</td>\n",
       "      <td>itig</td>\n",
       "      <td>itig</td>\n",
       "    </tr>\n",
       "    <tr>\n",
       "      <th>81</th>\n",
       "      <td>TECH  INDUST</td>\n",
       "      <td>MEC GEN</td>\n",
       "      <td>itig</td>\n",
       "      <td>inconnu</td>\n",
       "      <td>itig</td>\n",
       "      <td>itig</td>\n",
       "    </tr>\n",
       "    <tr>\n",
       "      <th>198</th>\n",
       "      <td>TECHN</td>\n",
       "      <td>ELECTRICITE</td>\n",
       "      <td>itig</td>\n",
       "      <td>inconnu</td>\n",
       "      <td>itig</td>\n",
       "      <td>itig</td>\n",
       "    </tr>\n",
       "    <tr>\n",
       "      <th>206</th>\n",
       "      <td>TECHNI INDUST</td>\n",
       "      <td>MECANIQUE GEN</td>\n",
       "      <td>itig</td>\n",
       "      <td>inconnu</td>\n",
       "      <td>itig</td>\n",
       "      <td>itig</td>\n",
       "    </tr>\n",
       "    <tr>\n",
       "      <th>221</th>\n",
       "      <td>TECHN</td>\n",
       "      <td>MECANIQUE</td>\n",
       "      <td>itig</td>\n",
       "      <td>inconnu</td>\n",
       "      <td>itig</td>\n",
       "      <td>itig</td>\n",
       "    </tr>\n",
       "    <tr>\n",
       "      <th>266</th>\n",
       "      <td>TEC</td>\n",
       "      <td>ELECTRIC</td>\n",
       "      <td>itig</td>\n",
       "      <td>inconnu</td>\n",
       "      <td>itig</td>\n",
       "      <td>itig</td>\n",
       "    </tr>\n",
       "    <tr>\n",
       "      <th>267</th>\n",
       "      <td>TECH</td>\n",
       "      <td>ELECTRIC</td>\n",
       "      <td>itig</td>\n",
       "      <td>inconnu</td>\n",
       "      <td>itig</td>\n",
       "      <td>itig</td>\n",
       "    </tr>\n",
       "    <tr>\n",
       "      <th>315</th>\n",
       "      <td>TEC</td>\n",
       "      <td>ELECTR INDUS</td>\n",
       "      <td>itig</td>\n",
       "      <td>inconnu</td>\n",
       "      <td>itig</td>\n",
       "      <td>itig</td>\n",
       "    </tr>\n",
       "    <tr>\n",
       "      <th>318</th>\n",
       "      <td>MEC</td>\n",
       "      <td>MEC GENERALE</td>\n",
       "      <td>itig</td>\n",
       "      <td>inconnu</td>\n",
       "      <td>itig</td>\n",
       "      <td>itig</td>\n",
       "    </tr>\n",
       "    <tr>\n",
       "      <th>371</th>\n",
       "      <td>TECH</td>\n",
       "      <td>ELECTRICITE</td>\n",
       "      <td>itig</td>\n",
       "      <td>inconnu</td>\n",
       "      <td>itig</td>\n",
       "      <td>itig</td>\n",
       "    </tr>\n",
       "    <tr>\n",
       "      <th>376</th>\n",
       "      <td>ELEC</td>\n",
       "      <td>ELEC GENERALE</td>\n",
       "      <td>itig</td>\n",
       "      <td>inconnu</td>\n",
       "      <td>itig</td>\n",
       "      <td>itig</td>\n",
       "    </tr>\n",
       "    <tr>\n",
       "      <th>479</th>\n",
       "      <td>ELECTR</td>\n",
       "      <td>ELEC INDUSTR</td>\n",
       "      <td>itig</td>\n",
       "      <td>inconnu</td>\n",
       "      <td>itig</td>\n",
       "      <td>itig</td>\n",
       "    </tr>\n",
       "    <tr>\n",
       "      <th>924</th>\n",
       "      <td>TEC</td>\n",
       "      <td>MECANIQUE GENERALE</td>\n",
       "      <td>itig</td>\n",
       "      <td>inconnu</td>\n",
       "      <td>itig</td>\n",
       "      <td>itig</td>\n",
       "    </tr>\n",
       "    <tr>\n",
       "      <th>944</th>\n",
       "      <td>TEC</td>\n",
       "      <td>ELECTRICITE</td>\n",
       "      <td>itig</td>\n",
       "      <td>inconnu</td>\n",
       "      <td>itig</td>\n",
       "      <td>itig</td>\n",
       "    </tr>\n",
       "    <tr>\n",
       "      <th>945</th>\n",
       "      <td>TECH</td>\n",
       "      <td>ELCTRICITE INDUSTRIELLE</td>\n",
       "      <td>itig</td>\n",
       "      <td>inconnu</td>\n",
       "      <td>itig</td>\n",
       "      <td>itig</td>\n",
       "    </tr>\n",
       "    <tr>\n",
       "      <th>1021</th>\n",
       "      <td>TEC</td>\n",
       "      <td>MES GENE</td>\n",
       "      <td>itig</td>\n",
       "      <td>inconnu</td>\n",
       "      <td>itig</td>\n",
       "      <td>itig</td>\n",
       "    </tr>\n",
       "    <tr>\n",
       "      <th>1145</th>\n",
       "      <td>TEC</td>\n",
       "      <td>ELEC GNL</td>\n",
       "      <td>itig</td>\n",
       "      <td>inconnu</td>\n",
       "      <td>itig</td>\n",
       "      <td>itig</td>\n",
       "    </tr>\n",
       "    <tr>\n",
       "      <th>1358</th>\n",
       "      <td>TEC</td>\n",
       "      <td>MEC GENERALE</td>\n",
       "      <td>itig</td>\n",
       "      <td>inconnu</td>\n",
       "      <td>itig</td>\n",
       "      <td>itig</td>\n",
       "    </tr>\n",
       "    <tr>\n",
       "      <th>1361</th>\n",
       "      <td>TEC</td>\n",
       "      <td>ELEC IND</td>\n",
       "      <td>itig</td>\n",
       "      <td>inconnu</td>\n",
       "      <td>itig</td>\n",
       "      <td>itig</td>\n",
       "    </tr>\n",
       "    <tr>\n",
       "      <th>1372</th>\n",
       "      <td>TEC</td>\n",
       "      <td>MEC GEN</td>\n",
       "      <td>itig</td>\n",
       "      <td>inconnu</td>\n",
       "      <td>itig</td>\n",
       "      <td>itig</td>\n",
       "    </tr>\n",
       "    <tr>\n",
       "      <th>1384</th>\n",
       "      <td>TEC</td>\n",
       "      <td>ELECT</td>\n",
       "      <td>itig</td>\n",
       "      <td>inconnu</td>\n",
       "      <td>itig</td>\n",
       "      <td>itig</td>\n",
       "    </tr>\n",
       "    <tr>\n",
       "      <th>1388</th>\n",
       "      <td>TEC</td>\n",
       "      <td>MEC GNL</td>\n",
       "      <td>itig</td>\n",
       "      <td>inconnu</td>\n",
       "      <td>itig</td>\n",
       "      <td>itig</td>\n",
       "    </tr>\n",
       "    <tr>\n",
       "      <th>1395</th>\n",
       "      <td>TEC</td>\n",
       "      <td>MEC GNL</td>\n",
       "      <td>itig</td>\n",
       "      <td>inconnu</td>\n",
       "      <td>itig</td>\n",
       "      <td>itig</td>\n",
       "    </tr>\n",
       "    <tr>\n",
       "      <th>1407</th>\n",
       "      <td>TEC</td>\n",
       "      <td>MEC GENE</td>\n",
       "      <td>itig</td>\n",
       "      <td>inconnu</td>\n",
       "      <td>itig</td>\n",
       "      <td>itig</td>\n",
       "    </tr>\n",
       "    <tr>\n",
       "      <th>1412</th>\n",
       "      <td>TEC ELEC GENERALE</td>\n",
       "      <td>ELECT GENERALE</td>\n",
       "      <td>itig</td>\n",
       "      <td>inconnu</td>\n",
       "      <td>itig</td>\n",
       "      <td>itig</td>\n",
       "    </tr>\n",
       "    <tr>\n",
       "      <th>1414</th>\n",
       "      <td>TEC</td>\n",
       "      <td>ELECT</td>\n",
       "      <td>itig</td>\n",
       "      <td>inconnu</td>\n",
       "      <td>itig</td>\n",
       "      <td>itig</td>\n",
       "    </tr>\n",
       "    <tr>\n",
       "      <th>...</th>\n",
       "      <td>...</td>\n",
       "      <td>...</td>\n",
       "      <td>...</td>\n",
       "      <td>...</td>\n",
       "      <td>...</td>\n",
       "      <td>...</td>\n",
       "    </tr>\n",
       "    <tr>\n",
       "      <th>1960</th>\n",
       "      <td>Technique</td>\n",
       "      <td>Mécanique générale</td>\n",
       "      <td>itig</td>\n",
       "      <td>inconnu</td>\n",
       "      <td>itig</td>\n",
       "      <td>itig</td>\n",
       "    </tr>\n",
       "    <tr>\n",
       "      <th>1986</th>\n",
       "      <td>Technique</td>\n",
       "      <td>Mécanique Géénrale</td>\n",
       "      <td>itig</td>\n",
       "      <td>inconnu</td>\n",
       "      <td>itig</td>\n",
       "      <td>itig</td>\n",
       "    </tr>\n",
       "    <tr>\n",
       "      <th>2229</th>\n",
       "      <td>Technique</td>\n",
       "      <td>Electronique</td>\n",
       "      <td>itig</td>\n",
       "      <td>inconnu</td>\n",
       "      <td>itig</td>\n",
       "      <td>itig</td>\n",
       "    </tr>\n",
       "    <tr>\n",
       "      <th>2230</th>\n",
       "      <td>Technique</td>\n",
       "      <td>Mécanique générale</td>\n",
       "      <td>itig</td>\n",
       "      <td>inconnu</td>\n",
       "      <td>itig</td>\n",
       "      <td>itig</td>\n",
       "    </tr>\n",
       "    <tr>\n",
       "      <th>2249</th>\n",
       "      <td>Technique</td>\n",
       "      <td>Electricité générale</td>\n",
       "      <td>itig</td>\n",
       "      <td>inconnu</td>\n",
       "      <td>itig</td>\n",
       "      <td>itig</td>\n",
       "    </tr>\n",
       "    <tr>\n",
       "      <th>2256</th>\n",
       "      <td>Technique</td>\n",
       "      <td>Electricité industrielle</td>\n",
       "      <td>itig</td>\n",
       "      <td>inconnu</td>\n",
       "      <td>itig</td>\n",
       "      <td>itig</td>\n",
       "    </tr>\n",
       "    <tr>\n",
       "      <th>2257</th>\n",
       "      <td>Technique</td>\n",
       "      <td>Electricité industrielle</td>\n",
       "      <td>itig</td>\n",
       "      <td>inconnu</td>\n",
       "      <td>itig</td>\n",
       "      <td>itig</td>\n",
       "    </tr>\n",
       "    <tr>\n",
       "      <th>2268</th>\n",
       "      <td>Technique</td>\n",
       "      <td>Electronique</td>\n",
       "      <td>itig</td>\n",
       "      <td>inconnu</td>\n",
       "      <td>itig</td>\n",
       "      <td>itig</td>\n",
       "    </tr>\n",
       "    <tr>\n",
       "      <th>2357</th>\n",
       "      <td>Technique</td>\n",
       "      <td>Electronique</td>\n",
       "      <td>itig</td>\n",
       "      <td>inconnu</td>\n",
       "      <td>itig</td>\n",
       "      <td>itig</td>\n",
       "    </tr>\n",
       "    <tr>\n",
       "      <th>2474</th>\n",
       "      <td>Technique</td>\n",
       "      <td>Electricité industrielle</td>\n",
       "      <td>itig</td>\n",
       "      <td>inconnu</td>\n",
       "      <td>itig</td>\n",
       "      <td>itig</td>\n",
       "    </tr>\n",
       "    <tr>\n",
       "      <th>2475</th>\n",
       "      <td>Technique</td>\n",
       "      <td>Electricité industrielle</td>\n",
       "      <td>itig</td>\n",
       "      <td>inconnu</td>\n",
       "      <td>itig</td>\n",
       "      <td>itig</td>\n",
       "    </tr>\n",
       "    <tr>\n",
       "      <th>2521</th>\n",
       "      <td>Technique</td>\n",
       "      <td>Mécanique générale</td>\n",
       "      <td>itig</td>\n",
       "      <td>inconnu</td>\n",
       "      <td>itig</td>\n",
       "      <td>itig</td>\n",
       "    </tr>\n",
       "    <tr>\n",
       "      <th>2545</th>\n",
       "      <td>Technique</td>\n",
       "      <td>Electronique</td>\n",
       "      <td>itig</td>\n",
       "      <td>inconnu</td>\n",
       "      <td>itig</td>\n",
       "      <td>itig</td>\n",
       "    </tr>\n",
       "    <tr>\n",
       "      <th>2576</th>\n",
       "      <td>Technique</td>\n",
       "      <td>Mécanique générale</td>\n",
       "      <td>itig</td>\n",
       "      <td>inconnu</td>\n",
       "      <td>itig</td>\n",
       "      <td>itig</td>\n",
       "    </tr>\n",
       "    <tr>\n",
       "      <th>2620</th>\n",
       "      <td>Technique</td>\n",
       "      <td>Mécamique générale</td>\n",
       "      <td>itig</td>\n",
       "      <td>inconnu</td>\n",
       "      <td>itig</td>\n",
       "      <td>itig</td>\n",
       "    </tr>\n",
       "    <tr>\n",
       "      <th>2732</th>\n",
       "      <td>Technique</td>\n",
       "      <td>Mécanique</td>\n",
       "      <td>itig</td>\n",
       "      <td>inconnu</td>\n",
       "      <td>itig</td>\n",
       "      <td>itig</td>\n",
       "    </tr>\n",
       "    <tr>\n",
       "      <th>2859</th>\n",
       "      <td>Technique</td>\n",
       "      <td>Electricité</td>\n",
       "      <td>itig</td>\n",
       "      <td>inconnu</td>\n",
       "      <td>itig</td>\n",
       "      <td>itig</td>\n",
       "    </tr>\n",
       "    <tr>\n",
       "      <th>3167</th>\n",
       "      <td>Technique</td>\n",
       "      <td>Electricité industrielle</td>\n",
       "      <td>itig</td>\n",
       "      <td>inconnu</td>\n",
       "      <td>itig</td>\n",
       "      <td>itig</td>\n",
       "    </tr>\n",
       "    <tr>\n",
       "      <th>3242</th>\n",
       "      <td>Technique</td>\n",
       "      <td>Mecanique</td>\n",
       "      <td>itig</td>\n",
       "      <td>inconnu</td>\n",
       "      <td>itig</td>\n",
       "      <td>itig</td>\n",
       "    </tr>\n",
       "    <tr>\n",
       "      <th>3260</th>\n",
       "      <td>Technique</td>\n",
       "      <td>Mecanique générale</td>\n",
       "      <td>itig</td>\n",
       "      <td>inconnu</td>\n",
       "      <td>itig</td>\n",
       "      <td>itig</td>\n",
       "    </tr>\n",
       "    <tr>\n",
       "      <th>3314</th>\n",
       "      <td>Technique</td>\n",
       "      <td>Mecanique générale</td>\n",
       "      <td>itig</td>\n",
       "      <td>inconnu</td>\n",
       "      <td>itig</td>\n",
       "      <td>itig</td>\n",
       "    </tr>\n",
       "    <tr>\n",
       "      <th>3315</th>\n",
       "      <td>Technique</td>\n",
       "      <td>Mecanique générale</td>\n",
       "      <td>itig</td>\n",
       "      <td>inconnu</td>\n",
       "      <td>itig</td>\n",
       "      <td>itig</td>\n",
       "    </tr>\n",
       "    <tr>\n",
       "      <th>3375</th>\n",
       "      <td>Technique</td>\n",
       "      <td>Mécanique Générale</td>\n",
       "      <td>itig</td>\n",
       "      <td>inconnu</td>\n",
       "      <td>itig</td>\n",
       "      <td>itig</td>\n",
       "    </tr>\n",
       "    <tr>\n",
       "      <th>3419</th>\n",
       "      <td>Technique</td>\n",
       "      <td>Electricité Industrielle</td>\n",
       "      <td>itig</td>\n",
       "      <td>inconnu</td>\n",
       "      <td>itig</td>\n",
       "      <td>itig</td>\n",
       "    </tr>\n",
       "    <tr>\n",
       "      <th>3458</th>\n",
       "      <td>Technique</td>\n",
       "      <td>Mécanique Générale</td>\n",
       "      <td>itig</td>\n",
       "      <td>inconnu</td>\n",
       "      <td>itig</td>\n",
       "      <td>itig</td>\n",
       "    </tr>\n",
       "    <tr>\n",
       "      <th>3490</th>\n",
       "      <td>Technique</td>\n",
       "      <td>Eléctricité Industrielle</td>\n",
       "      <td>itig</td>\n",
       "      <td>inconnu</td>\n",
       "      <td>itig</td>\n",
       "      <td>itig</td>\n",
       "    </tr>\n",
       "    <tr>\n",
       "      <th>3596</th>\n",
       "      <td>Technique</td>\n",
       "      <td>Mécanique Générale</td>\n",
       "      <td>itig</td>\n",
       "      <td>inconnu</td>\n",
       "      <td>itig</td>\n",
       "      <td>itig</td>\n",
       "    </tr>\n",
       "    <tr>\n",
       "      <th>3798</th>\n",
       "      <td>Technique</td>\n",
       "      <td>Electronique industrielle</td>\n",
       "      <td>itig</td>\n",
       "      <td>inconnu</td>\n",
       "      <td>itig</td>\n",
       "      <td>itig</td>\n",
       "    </tr>\n",
       "    <tr>\n",
       "      <th>3865</th>\n",
       "      <td>Technique</td>\n",
       "      <td>Electronique</td>\n",
       "      <td>itig</td>\n",
       "      <td>catholique</td>\n",
       "      <td>itig</td>\n",
       "      <td>itig</td>\n",
       "    </tr>\n",
       "    <tr>\n",
       "      <th>4475</th>\n",
       "      <td>TECHNIQUE</td>\n",
       "      <td>ELECTRONIQUE GENERALE</td>\n",
       "      <td>itig</td>\n",
       "      <td>catholique</td>\n",
       "      <td>itig</td>\n",
       "      <td>itig</td>\n",
       "    </tr>\n",
       "  </tbody>\n",
       "</table>\n",
       "<p>63 rows × 6 columns</p>\n",
       "</div>"
      ],
      "text/plain": [
       "               DIPLOMSECTION               DIPLOMOPTION  \\\n",
       "17                 MECANIQUE         MECANIQUE GENERALE   \n",
       "18    TECHNIQUE INDUSTRIELLE                ELECTRICITE   \n",
       "38                 TECHNIQUE         MECANIQUE GENERALE   \n",
       "65                 TECHNIQUE         MECANIQUE GENERALE   \n",
       "80                     TECHN                    ELECTRI   \n",
       "81              TECH  INDUST                    MEC GEN   \n",
       "198                    TECHN                ELECTRICITE   \n",
       "206            TECHNI INDUST              MECANIQUE GEN   \n",
       "221                    TECHN                  MECANIQUE   \n",
       "266                      TEC                   ELECTRIC   \n",
       "267                     TECH                   ELECTRIC   \n",
       "315                      TEC               ELECTR INDUS   \n",
       "318                      MEC               MEC GENERALE   \n",
       "371                     TECH                ELECTRICITE   \n",
       "376                     ELEC              ELEC GENERALE   \n",
       "479                   ELECTR               ELEC INDUSTR   \n",
       "924                      TEC         MECANIQUE GENERALE   \n",
       "944                      TEC                ELECTRICITE   \n",
       "945                     TECH    ELCTRICITE INDUSTRIELLE   \n",
       "1021                     TEC                   MES GENE   \n",
       "1145                     TEC                   ELEC GNL   \n",
       "1358                     TEC               MEC GENERALE   \n",
       "1361                     TEC                   ELEC IND   \n",
       "1372                     TEC                    MEC GEN   \n",
       "1384                     TEC                      ELECT   \n",
       "1388                     TEC                    MEC GNL   \n",
       "1395                     TEC                    MEC GNL   \n",
       "1407                     TEC                   MEC GENE   \n",
       "1412       TEC ELEC GENERALE             ELECT GENERALE   \n",
       "1414                     TEC                      ELECT   \n",
       "...                      ...                        ...   \n",
       "1960               Technique         Mécanique générale   \n",
       "1986               Technique         Mécanique Géénrale   \n",
       "2229               Technique               Electronique   \n",
       "2230               Technique         Mécanique générale   \n",
       "2249               Technique       Electricité générale   \n",
       "2256               Technique   Electricité industrielle   \n",
       "2257               Technique   Electricité industrielle   \n",
       "2268               Technique               Electronique   \n",
       "2357               Technique               Electronique   \n",
       "2474               Technique   Electricité industrielle   \n",
       "2475               Technique   Electricité industrielle   \n",
       "2521               Technique         Mécanique générale   \n",
       "2545               Technique               Electronique   \n",
       "2576               Technique         Mécanique générale   \n",
       "2620               Technique         Mécamique générale   \n",
       "2732               Technique                  Mécanique   \n",
       "2859               Technique                Electricité   \n",
       "3167               Technique   Electricité industrielle   \n",
       "3242               Technique                  Mecanique   \n",
       "3260               Technique         Mecanique générale   \n",
       "3314               Technique         Mecanique générale   \n",
       "3315               Technique         Mecanique générale   \n",
       "3375               Technique         Mécanique Générale   \n",
       "3419               Technique   Electricité Industrielle   \n",
       "3458               Technique         Mécanique Générale   \n",
       "3490               Technique   Eléctricité Industrielle   \n",
       "3596               Technique         Mécanique Générale   \n",
       "3798               Technique  Electronique industrielle   \n",
       "3865               Technique               Electronique   \n",
       "4475               TECHNIQUE      ELECTRONIQUE GENERALE   \n",
       "\n",
       "                              SCHOOL SCHOOLSTATUS  \\\n",
       "17                              itig      inconnu   \n",
       "18                              itig      inconnu   \n",
       "38    itg.inst. tech. indust de goma      inconnu   \n",
       "65                              itig      inconnu   \n",
       "80                              itig      inconnu   \n",
       "81                              itig      inconnu   \n",
       "198                             itig      inconnu   \n",
       "206                             itig      inconnu   \n",
       "221                             itig      inconnu   \n",
       "266                             itig      inconnu   \n",
       "267                             itig      inconnu   \n",
       "315                             itig      inconnu   \n",
       "318                             itig      inconnu   \n",
       "371                             itig      inconnu   \n",
       "376                             itig      inconnu   \n",
       "479                             itig      inconnu   \n",
       "924                             itig      inconnu   \n",
       "944                             itig      inconnu   \n",
       "945                             itig      inconnu   \n",
       "1021                            itig      inconnu   \n",
       "1145                            itig      inconnu   \n",
       "1358                            itig      inconnu   \n",
       "1361                            itig      inconnu   \n",
       "1372                            itig      inconnu   \n",
       "1384                            itig      inconnu   \n",
       "1388                            itig      inconnu   \n",
       "1395                            itig      inconnu   \n",
       "1407                            itig      inconnu   \n",
       "1412                            itig      inconnu   \n",
       "1414                            itig      inconnu   \n",
       "...                              ...          ...   \n",
       "1960                            itig      inconnu   \n",
       "1986                            itig      inconnu   \n",
       "2229                            itig      inconnu   \n",
       "2230                            itig      inconnu   \n",
       "2249                            itig      inconnu   \n",
       "2256                            itig      inconnu   \n",
       "2257                            itig      inconnu   \n",
       "2268                            itig      inconnu   \n",
       "2357                            itig      inconnu   \n",
       "2474                            itig      inconnu   \n",
       "2475                            itig      inconnu   \n",
       "2521                            itig      inconnu   \n",
       "2545                            itig      inconnu   \n",
       "2576                            itig      inconnu   \n",
       "2620                            itig      inconnu   \n",
       "2732                            itig      inconnu   \n",
       "2859                            itig      inconnu   \n",
       "3167                            itig      inconnu   \n",
       "3242                            itig      inconnu   \n",
       "3260                            itig      inconnu   \n",
       "3314                            itig      inconnu   \n",
       "3315                            itig      inconnu   \n",
       "3375                            itig      inconnu   \n",
       "3419                            itig      inconnu   \n",
       "3458                            itig      inconnu   \n",
       "3490                            itig      inconnu   \n",
       "3596                            itig      inconnu   \n",
       "3798                            itig      inconnu   \n",
       "3865                            itig   catholique   \n",
       "4475                            itig   catholique   \n",
       "\n",
       "                      SCHOOL_CORRECT SCHOOL_RIGHT  \n",
       "17                              itig         itig  \n",
       "18                              itig         itig  \n",
       "38    itg.inst. tech. indust de goma         itig  \n",
       "65                              itig         itig  \n",
       "80                              itig         itig  \n",
       "81                              itig         itig  \n",
       "198                             itig         itig  \n",
       "206                             itig         itig  \n",
       "221                             itig         itig  \n",
       "266                             itig         itig  \n",
       "267                             itig         itig  \n",
       "315                             itig         itig  \n",
       "318                             itig         itig  \n",
       "371                             itig         itig  \n",
       "376                             itig         itig  \n",
       "479                             itig         itig  \n",
       "924                             itig         itig  \n",
       "944                             itig         itig  \n",
       "945                             itig         itig  \n",
       "1021                            itig         itig  \n",
       "1145                            itig         itig  \n",
       "1358                            itig         itig  \n",
       "1361                            itig         itig  \n",
       "1372                            itig         itig  \n",
       "1384                            itig         itig  \n",
       "1388                            itig         itig  \n",
       "1395                            itig         itig  \n",
       "1407                            itig         itig  \n",
       "1412                            itig         itig  \n",
       "1414                            itig         itig  \n",
       "...                              ...          ...  \n",
       "1960                            itig         itig  \n",
       "1986                            itig         itig  \n",
       "2229                            itig         itig  \n",
       "2230                            itig         itig  \n",
       "2249                            itig         itig  \n",
       "2256                            itig         itig  \n",
       "2257                            itig         itig  \n",
       "2268                            itig         itig  \n",
       "2357                            itig         itig  \n",
       "2474                            itig         itig  \n",
       "2475                            itig         itig  \n",
       "2521                            itig         itig  \n",
       "2545                            itig         itig  \n",
       "2576                            itig         itig  \n",
       "2620                            itig         itig  \n",
       "2732                            itig         itig  \n",
       "2859                            itig         itig  \n",
       "3167                            itig         itig  \n",
       "3242                            itig         itig  \n",
       "3260                            itig         itig  \n",
       "3314                            itig         itig  \n",
       "3315                            itig         itig  \n",
       "3375                            itig         itig  \n",
       "3419                            itig         itig  \n",
       "3458                            itig         itig  \n",
       "3490                            itig         itig  \n",
       "3596                            itig         itig  \n",
       "3798                            itig         itig  \n",
       "3865                            itig         itig  \n",
       "4475                            itig         itig  \n",
       "\n",
       "[63 rows x 6 columns]"
      ]
     },
     "execution_count": 268,
     "metadata": {},
     "output_type": "execute_result"
    }
   ],
   "source": [
    "dataset.loc[dataset.SCHOOL_RIGHT=='itig']"
   ]
  },
  {
   "cell_type": "code",
   "execution_count": 229,
   "metadata": {},
   "outputs": [
    {
     "data": {
      "text/plain": [
       "4715"
      ]
     },
     "execution_count": 229,
     "metadata": {},
     "output_type": "execute_result"
    }
   ],
   "source": [
    "len(dataset)"
   ]
  },
  {
   "cell_type": "code",
   "execution_count": 227,
   "metadata": {},
   "outputs": [
    {
     "data": {
      "text/plain": [
       "579"
      ]
     },
     "execution_count": 227,
     "metadata": {},
     "output_type": "execute_result"
    }
   ],
   "source": [
    "len(dataset.SCHOOL.value_counts())"
   ]
  },
  {
   "cell_type": "code",
   "execution_count": 213,
   "metadata": {
    "collapsed": true
   },
   "outputs": [],
   "source": [
    "removeClean('s',['st etienne', 'saint etienne'])"
   ]
  },
  {
   "cell_type": "code",
   "execution_count": 246,
   "metadata": {},
   "outputs": [
    {
     "data": {
      "text/plain": [
       "['rambo', 'irambo']"
      ]
     },
     "execution_count": 246,
     "metadata": {},
     "output_type": "execute_result"
    }
   ],
   "source": [
    "groupsSchool['rambo']"
   ]
  },
  {
   "cell_type": "code",
   "execution_count": 249,
   "metadata": {},
   "outputs": [],
   "source": [
    "groupsSchool['himbi']=['ihimbi','himbi', 'i himbi']"
   ]
  },
  {
   "cell_type": "code",
   "execution_count": 264,
   "metadata": {},
   "outputs": [
    {
     "data": {
      "text/plain": [
       "['itig', 'itg.inst. tech. indust de goma']"
      ]
     },
     "execution_count": 264,
     "metadata": {},
     "output_type": "execute_result"
    }
   ],
   "source": [
    "groupsSchool['itig']"
   ]
  },
  {
   "cell_type": "code",
   "execution_count": null,
   "metadata": {
    "collapsed": true
   },
   "outputs": [],
   "source": []
  },
  {
   "cell_type": "code",
   "execution_count": 265,
   "metadata": {},
   "outputs": [
    {
     "name": "stdout",
     "output_type": "stream",
     "text": [
      "Writing 'groupsSchool' (dict) to file 'groupSchoolFInal.txt'.\n"
     ]
    }
   ],
   "source": [
    "%store groupsSchool >> groupSchoolFInal.txt"
   ]
  },
  {
   "cell_type": "code",
   "execution_count": 257,
   "metadata": {},
   "outputs": [],
   "source": [
    "dataset.to_csv('DatasetWithScoolOK.csv')"
   ]
  },
  {
   "cell_type": "markdown",
   "metadata": {},
   "source": [
    "let do the same for others columsn"
   ]
  },
  {
   "cell_type": "code",
   "execution_count": 279,
   "metadata": {},
   "outputs": [],
   "source": [
    "section=np.array(list(set((dataset.DIPLOMSECTION.apply(lambda x : x.lower())))))\n",
    "(groupsSection,labels)=groupLev(section)"
   ]
  },
  {
   "cell_type": "code",
   "execution_count": 283,
   "metadata": {},
   "outputs": [
    {
     "data": {
      "text/plain": [
       "27"
      ]
     },
     "execution_count": 283,
     "metadata": {},
     "output_type": "execute_result"
    }
   ],
   "source": [
    "len(groupsOption)"
   ]
  },
  {
   "cell_type": "code",
   "execution_count": 315,
   "metadata": {},
   "outputs": [],
   "source": [
    "option=np.array(list(set((dataset.DIPLOMOPTION.apply(lambda x : x.lower())))))\n",
    "(groupsOption,labels)=groupLev(option)"
   ]
  },
  {
   "cell_type": "code",
   "execution_count": 320,
   "metadata": {
    "scrolled": true
   },
   "outputs": [
    {
     "name": "stdout",
     "output_type": "stream",
     "text": [
      "Writing 'groupsSection' (dict) to file 'groupSection.txt'.\n",
      "Writing 'groupsOption' (dict) to file 'groupOption.txt'.\n"
     ]
    }
   ],
   "source": [
    "%store groupsSection >> groupSection.txt\n",
    "%store groupsOption >> groupOption.txt"
   ]
  },
  {
   "cell_type": "code",
   "execution_count": 318,
   "metadata": {},
   "outputs": [],
   "source": [
    "for k in groupsOption.keys():\n",
    "    if isinstance(groupsOption[k],np.ndarray):\n",
    "        groupsOption[k]=groupsOption[k].tolist()"
   ]
  },
  {
   "cell_type": "code",
   "execution_count": 317,
   "metadata": {
    "collapsed": true
   },
   "outputs": [],
   "source": [
    "def removeCleanOpt(key, similar):\n",
    "    \"\"\"this function will remove similar to grouppe name\"\"\"\n",
    "    values=groupsOption[key] #first with get the values from dict\n",
    "    del groupsOption[key] #we delete them\n",
    "    correctV=[] #we create an empty list for new values \n",
    "    for x in values:\n",
    "        if x in similar:\n",
    "            correctV.append(x)\n",
    "        else:\n",
    "            groupsOption[x]=[]\n",
    "            groupsOption[x].append(x)  \n",
    "    groupsOption[key]=correctV"
   ]
  },
  {
   "cell_type": "code",
   "execution_count": 321,
   "metadata": {},
   "outputs": [
    {
     "data": {
      "text/plain": [
       "['imprimerie',\n",
       " 'economie',\n",
       " 'bio-chimie',\n",
       " 'biochimie',\n",
       " 'bio chimie',\n",
       " 'agronomie']"
      ]
     },
     "execution_count": 321,
     "metadata": {},
     "output_type": "execute_result"
    }
   ],
   "source": [
    "groupsOption['biochimie']"
   ]
  },
  {
   "cell_type": "code",
   "execution_count": 322,
   "metadata": {
    "collapsed": true
   },
   "outputs": [],
   "source": [
    "removeCleanOpt('biochimie',['bio-chimie','biochimie','bio chimie'])"
   ]
  },
  {
   "cell_type": "code",
   "execution_count": 323,
   "metadata": {},
   "outputs": [
    {
     "data": {
      "text/plain": [
       "['elect generale',\n",
       " 'ele generale',\n",
       " 'elec generale',\n",
       " 'mec generale',\n",
       " 'p\\xc3\\x8bda generale',\n",
       " 'agriculture generale',\n",
       " 'peda generale']"
      ]
     },
     "execution_count": 323,
     "metadata": {},
     "output_type": "execute_result"
    }
   ],
   "source": [
    "groupsOption[ 'elec generale']"
   ]
  },
  {
   "cell_type": "code",
   "execution_count": 324,
   "metadata": {
    "collapsed": true
   },
   "outputs": [],
   "source": [
    "removeCleanOpt('elec generale',['elect generale',\n",
    " 'ele generale',\n",
    " 'elec generale'])"
   ]
  },
  {
   "cell_type": "code",
   "execution_count": 325,
   "metadata": {},
   "outputs": [
    {
     "data": {
      "text/plain": [
       "['machines out',\n",
       " 'machine outils',\n",
       " 'coupe couture',\n",
       " 'machines outils',\n",
       " 'm\\xc3\\xa9canique outil',\n",
       " 'chimie biologie',\n",
       " 'machine outil']"
      ]
     },
     "execution_count": 325,
     "metadata": {},
     "output_type": "execute_result"
    }
   ],
   "source": [
    "groupsOption['machine outil']"
   ]
  },
  {
   "cell_type": "code",
   "execution_count": 295,
   "metadata": {
    "collapsed": true
   },
   "outputs": [],
   "source": [
    "removeCleanOpt('machine outil',['machines out',\n",
    " 'machine outils',\n",
    " 'machines outils',\n",
    " 'm\\xc3\\xa9canique outil',\n",
    " 'machine outil'])"
   ]
  },
  {
   "cell_type": "code",
   "execution_count": 296,
   "metadata": {
    "scrolled": true
   },
   "outputs": [
    {
     "data": {
      "text/plain": [
       "['latin philo',\n",
       " 'latinphilo',\n",
       " 'relations publiques',\n",
       " 'latin philio',\n",
       " 'latin-philo']"
      ]
     },
     "execution_count": 296,
     "metadata": {},
     "output_type": "execute_result"
    }
   ],
   "source": [
    " groupsOption['latin philo']"
   ]
  },
  {
   "cell_type": "code",
   "execution_count": 326,
   "metadata": {
    "collapsed": true
   },
   "outputs": [],
   "source": [
    "removeCleanOpt('latin philo',['latin philo', 'latinphilo', 'latin philio',\n",
    "       'latin-philo'])"
   ]
  },
  {
   "cell_type": "code",
   "execution_count": 327,
   "metadata": {},
   "outputs": [
    {
     "data": {
      "text/plain": [
       "['math-physique', 'math physique']"
      ]
     },
     "execution_count": 327,
     "metadata": {},
     "output_type": "execute_result"
    }
   ],
   "source": [
    " groupsOption['math-physique']"
   ]
  },
  {
   "cell_type": "code",
   "execution_count": 328,
   "metadata": {},
   "outputs": [
    {
     "data": {
      "text/plain": [
       "['elect generale', 'ele generale', 'elec generale']"
      ]
     },
     "execution_count": 328,
     "metadata": {},
     "output_type": "execute_result"
    }
   ],
   "source": [
    " groupsOption['elec generale']"
   ]
  },
  {
   "cell_type": "code",
   "execution_count": 329,
   "metadata": {},
   "outputs": [
    {
     "data": {
      "text/plain": [
       "['mes gene',\n",
       " 'peda gen',\n",
       " 'mec gene',\n",
       " 'mec gnl',\n",
       " 'com et adm',\n",
       " 'elec gnl',\n",
       " 'mecanique gen',\n",
       " 'batiment',\n",
       " 'mecan gene',\n",
       " 'mec gener',\n",
       " 'mec gen',\n",
       " 'mecanique',\n",
       " 'pedagerale',\n",
       " 'inconnu']"
      ]
     },
     "execution_count": 329,
     "metadata": {},
     "output_type": "execute_result"
    }
   ],
   "source": [
    "groupsOption['mec gene']"
   ]
  },
  {
   "cell_type": "code",
   "execution_count": 330,
   "metadata": {
    "collapsed": true
   },
   "outputs": [],
   "source": [
    "removeCleanOpt('mec gene',['mes gene',\n",
    " 'mec gene',\n",
    " 'mec gnl',\n",
    " 'mecanique gen',\n",
    " 'mecan gene',\n",
    " 'mec gener',\n",
    " 'mec gen',\n",
    " 'mecanique'])"
   ]
  },
  {
   "cell_type": "code",
   "execution_count": 331,
   "metadata": {},
   "outputs": [
    {
     "data": {
      "text/plain": [
       "['nutrit',\n",
       " 'nitrution',\n",
       " 'nutrition et diet',\n",
       " 'nutrition',\n",
       " 'construction',\n",
       " 'nutri',\n",
       " 'industrielle']"
      ]
     },
     "execution_count": 331,
     "metadata": {},
     "output_type": "execute_result"
    }
   ],
   "source": [
    "groupsOption['nutrition']"
   ]
  },
  {
   "cell_type": "code",
   "execution_count": 332,
   "metadata": {
    "collapsed": true
   },
   "outputs": [],
   "source": [
    "removeCleanOpt('nutrition',['nutrit',\n",
    " 'nitrution',\n",
    " 'nutrition et diet',\n",
    " 'nutrition',\n",
    " 'nutri'])"
   ]
  },
  {
   "cell_type": "code",
   "execution_count": 333,
   "metadata": {
    "scrolled": true
   },
   "outputs": [
    {
     "data": {
      "text/plain": [
       "['elect',\n",
       " 'lp',\n",
       " 'cb',\n",
       " 'p',\n",
       " 'peda',\n",
       " 'bc',\n",
       " 'c',\n",
       " 'soc',\n",
       " 'ppg',\n",
       " 'ca',\n",
       " 'pg',\n",
       " 'ph',\n",
       " 'pn',\n",
       " 'pm',\n",
       " 'b',\n",
       " 'fdf',\n",
       " 'mp',\n",
       " 'nutr',\n",
       " 'diet',\n",
       " 'a',\n",
       " 'elec']"
      ]
     },
     "execution_count": 333,
     "metadata": {},
     "output_type": "execute_result"
    }
   ],
   "source": [
    "groupsOption['p']"
   ]
  },
  {
   "cell_type": "code",
   "execution_count": 334,
   "metadata": {
    "collapsed": true
   },
   "outputs": [],
   "source": [
    "removeCleanOpt('p',['p'])"
   ]
  },
  {
   "cell_type": "code",
   "execution_count": 335,
   "metadata": {
    "scrolled": true
   },
   "outputs": [
    {
     "data": {
      "text/plain": [
       "['m\\xc3\\xa9canique',\n",
       " 'soaciale',\n",
       " 'socaile',\n",
       " 'agriculture',\n",
       " 'siciale',\n",
       " 'social',\n",
       " 'hospitali\\xc3\\xa8re',\n",
       " 'agricole',\n",
       " 'sociale',\n",
       " 'commerciale']"
      ]
     },
     "execution_count": 335,
     "metadata": {},
     "output_type": "execute_result"
    }
   ],
   "source": [
    "groupsOption['sociale']"
   ]
  },
  {
   "cell_type": "code",
   "execution_count": 336,
   "metadata": {
    "collapsed": true
   },
   "outputs": [],
   "source": [
    "removeCleanOpt('sociale',['sociale','siciale','social','soaciale','socaile'])"
   ]
  },
  {
   "cell_type": "code",
   "execution_count": 341,
   "metadata": {},
   "outputs": [],
   "source": [
    "GroupsOptionsNames=sorted(groupsOption.keys())"
   ]
  },
  {
   "cell_type": "code",
   "execution_count": 344,
   "metadata": {},
   "outputs": [],
   "source": [
    "agriculture=GroupsOptionsNames[0:4]"
   ]
  },
  {
   "cell_type": "code",
   "execution_count": 346,
   "metadata": {},
   "outputs": [],
   "source": [
    "agronomie=GroupsOptionsNames[4]"
   ]
  },
  {
   "cell_type": "code",
   "execution_count": 377,
   "metadata": {},
   "outputs": [],
   "source": [
    "batiment=GroupsOptionsNames[5:7]"
   ]
  },
  {
   "cell_type": "code",
   "execution_count": 356,
   "metadata": {},
   "outputs": [],
   "source": [
    "biochimie=GroupsOptionsNames[7:10]+GroupsOptionsNames[12:13]"
   ]
  },
  {
   "cell_type": "code",
   "execution_count": 360,
   "metadata": {},
   "outputs": [],
   "source": [
    "commercialeAdmin=GroupsOptionsNames[10:12]+GroupsOptionsNames[13:14]+GroupsOptionsNames[15:18]"
   ]
  },
  {
   "cell_type": "code",
   "execution_count": 364,
   "metadata": {},
   "outputs": [],
   "source": [
    "commercialeInfo=GroupsOptionsNames[18:19]+GroupsOptionsNames[14:15]"
   ]
  },
  {
   "cell_type": "code",
   "execution_count": 367,
   "metadata": {},
   "outputs": [],
   "source": [
    "construction=GroupsOptionsNames[19]"
   ]
  },
  {
   "cell_type": "code",
   "execution_count": 369,
   "metadata": {},
   "outputs": [],
   "source": [
    "diet=GroupsOptionsNames[20]"
   ]
  },
  {
   "cell_type": "code",
   "execution_count": 371,
   "metadata": {},
   "outputs": [],
   "source": [
    "economie=GroupsOptionsNames[21]"
   ]
  },
  {
   "cell_type": "code",
   "execution_count": 385,
   "metadata": {},
   "outputs": [
    {
     "data": {
      "text/plain": [
       "[[],\n",
       " ['a', 'agricole', 'agriculture', 'agriculture generale'],\n",
       " 'agronomie',\n",
       " ['b', 'batiment'],\n",
       " ['bc', 'biochimie', 'biologie chimie', 'cb'],\n",
       " ['c',\n",
       "  'ca',\n",
       "  'com et adm',\n",
       "  'commerciale',\n",
       "  'commerciale et adm',\n",
       "  'commerciale et administrative'],\n",
       " ['commerciale informatique', 'com informatique'],\n",
       " 'construction',\n",
       " 'diet',\n",
       " 'economie']"
      ]
     },
     "execution_count": 385,
     "metadata": {},
     "output_type": "execute_result"
    }
   ],
   "source": [
    "Options"
   ]
  },
  {
   "cell_type": "code",
   "execution_count": 384,
   "metadata": {},
   "outputs": [],
   "source": [
    "Options.append(economie)"
   ]
  },
  {
   "cell_type": "code",
   "execution_count": 387,
   "metadata": {},
   "outputs": [],
   "source": [
    "Options.append(GroupsOptionsNames[22:25]+GroupsOptionsNames[26:28])"
   ]
  },
  {
   "cell_type": "code",
   "execution_count": 389,
   "metadata": {},
   "outputs": [],
   "source": [
    "Options.append(GroupsOptionsNames[25:26]+GroupsOptionsNames[28:29])"
   ]
  },
  {
   "cell_type": "code",
   "execution_count": 391,
   "metadata": {},
   "outputs": [],
   "source": [
    "for x in GroupsOptionsNames[29:36]:\n",
    "    Options.append([x])"
   ]
  },
  {
   "cell_type": "code",
   "execution_count": 402,
   "metadata": {
    "scrolled": false
   },
   "outputs": [
    {
     "data": {
      "text/plain": [
       "[[],\n",
       " ['a', 'agricole', 'agriculture', 'agriculture generale'],\n",
       " 'agronomie',\n",
       " ['b', 'batiment'],\n",
       " ['bc', 'biochimie', 'biologie chimie', 'cb'],\n",
       " ['c',\n",
       "  'ca',\n",
       "  'com et adm',\n",
       "  'commerciale',\n",
       "  'commerciale et adm',\n",
       "  'commerciale et administrative'],\n",
       " ['commerciale informatique', 'com informatique'],\n",
       " 'construction',\n",
       " 'diet',\n",
       " 'economie',\n",
       " ['elec', 'elec generale', 'elec gnl', 'elect', 'electricite'],\n",
       " ['elec indust', 'electricite industrielle'],\n",
       " ['electronique g\\xc3\\xa9n\\xc3\\xa9rale'],\n",
       " ['fdf'],\n",
       " ['hospitali\\xc3\\xa8re'],\n",
       " [\"hotesse d'acceuil\"],\n",
       " ['imprimerie'],\n",
       " ['inconnu'],\n",
       " ['industrielle'],\n",
       " ['latin philo', 'latin philosophie', 'lp'],\n",
       " ['machine outil'],\n",
       " ['math-physique', 'math\\xc3\\xa9matique physique', 'mp'],\n",
       " ['mec gene',\n",
       "  'mec generale',\n",
       "  'mecanique g\\xc3\\xa9n\\xc3\\xa9rale',\n",
       "  'm\\xc3\\xa9canique'],\n",
       " ['mecanique machines outils']]"
      ]
     },
     "execution_count": 402,
     "metadata": {},
     "output_type": "execute_result"
    }
   ],
   "source": [
    "Options"
   ]
  },
  {
   "cell_type": "code",
   "execution_count": 424,
   "metadata": {},
   "outputs": [],
   "source": [
    " Options.append([GroupsOptionsNames[67]])"
   ]
  },
  {
   "cell_type": "code",
   "execution_count": 400,
   "metadata": {},
   "outputs": [],
   "source": [
    " Options.append(GroupsOptionsNames[42:45]+GroupsOptionsNames[47:48])"
   ]
  },
  {
   "cell_type": "code",
   "execution_count": 404,
   "metadata": {},
   "outputs": [],
   "source": [
    "Options.append(GroupsOptionsNames[48:50])"
   ]
  },
  {
   "cell_type": "code",
   "execution_count": 417,
   "metadata": {},
   "outputs": [],
   "source": [
    "Options.append(GroupsOptionsNames[50:63])"
   ]
  },
  {
   "cell_type": "code",
   "execution_count": 420,
   "metadata": {},
   "outputs": [],
   "source": [
    "Options.append(GroupsOptionsNames[65:67])"
   ]
  },
  {
   "cell_type": "code",
   "execution_count": 427,
   "metadata": {},
   "outputs": [],
   "source": [
    "for x in range(len(Options)):\n",
    "    if not isinstance(Options[x],list):\n",
    "        Options[x]=[Options[x]]"
   ]
  },
  {
   "cell_type": "code",
   "execution_count": 434,
   "metadata": {
    "scrolled": false
   },
   "outputs": [
    {
     "data": {
      "text/plain": [
       "30"
      ]
     },
     "execution_count": 434,
     "metadata": {},
     "output_type": "execute_result"
    }
   ],
   "source": [
    "len(Options)"
   ]
  },
  {
   "cell_type": "code",
   "execution_count": 437,
   "metadata": {},
   "outputs": [],
   "source": [
    "OptionsCat={}\n",
    "for i in Options:\n",
    "    OptionsCat[i[0]]=[]\n",
    "    for j in i:\n",
    "        OptionsCat[i[0]].append(groupsOption[j])        "
   ]
  },
  {
   "cell_type": "code",
   "execution_count": 445,
   "metadata": {
    "scrolled": false
   },
   "outputs": [],
   "source": [
    "from compiler.ast import flatten\n",
    "for k,v in OptionsCat.items():\n",
    "    OptionsCat[k]=flatten(v)"
   ]
  },
  {
   "cell_type": "code",
   "execution_count": 448,
   "metadata": {
    "scrolled": false
   },
   "outputs": [
    {
     "data": {
      "text/plain": [
       "29"
      ]
     },
     "execution_count": 448,
     "metadata": {},
     "output_type": "execute_result"
    }
   ],
   "source": [
    "len(OptionsCat"
   ]
  },
  {
   "cell_type": "code",
   "execution_count": 469,
   "metadata": {},
   "outputs": [
    {
     "name": "stdout",
     "output_type": "stream",
     "text": [
      "Writing 'OptionsCat' (dict) to file 'OptionsCat.txt'.\n"
     ]
    }
   ],
   "source": [
    "%store OptionsCat >> OptionsCat.txt"
   ]
  },
  {
   "cell_type": "code",
   "execution_count": 460,
   "metadata": {},
   "outputs": [],
   "source": [
    "OptionsCat['machine outil']=['machines out',\n",
    " 'machine outils',\n",
    " 'coupe couture',\n",
    " 'machines outils',\n",
    " 'm\\xc3\\xa9canique outil',\n",
    " 'chimie biologie',\n",
    " 'machine outil']"
   ]
  },
  {
   "cell_type": "code",
   "execution_count": 485,
   "metadata": {},
   "outputs": [
    {
     "data": {
      "text/plain": [
       "['soc', 'soaciale', 'socaile', 'siciale', 'social', 'sociale']"
      ]
     },
     "execution_count": 485,
     "metadata": {},
     "output_type": "execute_result"
    }
   ],
   "source": [
    "OptionsCat['social']"
   ]
  },
  {
   "cell_type": "code",
   "execution_count": 484,
   "metadata": {
    "collapsed": true
   },
   "outputs": [],
   "source": [
    "del OptionsCat['soc']"
   ]
  },
  {
   "cell_type": "code",
   "execution_count": 342,
   "metadata": {
    "scrolled": true
   },
   "outputs": [
    {
     "name": "stdout",
     "output_type": "stream",
     "text": [
      "Writing 'GroupsOptionsNames' (list) to file 'GroupsOptionsNames.txt'.\n"
     ]
    }
   ],
   "source": [
    "%store GroupsOptionsNames >> GroupsOptionsNames.txt"
   ]
  },
  {
   "cell_type": "code",
   "execution_count": 475,
   "metadata": {
    "collapsed": true
   },
   "outputs": [],
   "source": [
    "dataset['OPTION']=dataset.DIPLOMOPTION"
   ]
  },
  {
   "cell_type": "code",
   "execution_count": 473,
   "metadata": {
    "collapsed": true
   },
   "outputs": [],
   "source": [
    "dataset.DIPLOMOPTION=dataset.DIPLOMOPTION.apply(lambda x :x.lower())"
   ]
  },
  {
   "cell_type": "code",
   "execution_count": 486,
   "metadata": {
    "collapsed": true
   },
   "outputs": [],
   "source": [
    "for k,v in OptionsCat.items():\n",
    "    dataset.OPTION.loc[dataset.DIPLOMOPTION.isin(v)]=k"
   ]
  },
  {
   "cell_type": "code",
   "execution_count": 492,
   "metadata": {},
   "outputs": [
    {
     "data": {
      "text/plain": [
       "83"
      ]
     },
     "execution_count": 492,
     "metadata": {},
     "output_type": "execute_result"
    }
   ],
   "source": [
    "(len(dataset.DIPLOMOPTION.value_counts())-len(dataset.OPTION.value_counts()))*100//len(dataset.DIPLOMOPTION.value_counts())"
   ]
  },
  {
   "cell_type": "code",
   "execution_count": null,
   "metadata": {
    "collapsed": true
   },
   "outputs": [],
   "source": []
  },
  {
   "cell_type": "code",
   "execution_count": null,
   "metadata": {
    "collapsed": true
   },
   "outputs": [],
   "source": [
    "from IPython.core.interactiveshell import InteractiveShell\n",
    "InteractiveShell.ast_node_interactivity = \"all\""
   ]
  }
 ],
 "metadata": {
  "kernelspec": {
   "display_name": "Python 2",
   "language": "python",
   "name": "python2"
  },
  "language_info": {
   "codemirror_mode": {
    "name": "ipython",
    "version": 2
   },
   "file_extension": ".py",
   "mimetype": "text/x-python",
   "name": "python",
   "nbconvert_exporter": "python",
   "pygments_lexer": "ipython2",
   "version": "2.7.13"
  }
 },
 "nbformat": 4,
 "nbformat_minor": 2
}
