{
 "cells": [
  {
   "cell_type": "markdown",
   "metadata": {},
   "source": [
    "# Preparation des nos variables de sortie"
   ]
  },
  {
   "cell_type": "markdown",
   "metadata": {},
   "source": [
    "Dans cette partie nous allons preparer notre ensemble de sortie en construisant nos varibles de sortie , celle ci seront \n",
    "constiruer à l'aide  des divers fonction qui nous aiderons à determiner pour une année si sur base des résultat que nous aons si un étudiant est passé en premiere seion, s'il a distingué ou bien s'il a échoue, nous determinerons enfin  le pourcentage obtebnu."
   ]
  },
  {
   "cell_type": "markdown",
   "metadata": {},
   "source": [
    "Notons que nous nous sommes butés à 2 grands problème concernant les données obtenus et qui risquent de biaiser nos calculs:\n",
    "    - Nous n'avons pas pu obtenir le pourcentage final de certains étudiant ayant echouer ou abandonner leurs études avant la fin de l'année académique ces étudiants qui après la seconde session sont AA (Assimilé aux Ajournées ) n'ont pas de pourcentage final pour palier àce probleme nous avons remplacer cette valeur manquante par une valeur aleatoiree choisie entre 40 et 50 pourcent ce qui represente l'echec!\n",
    "    - Pour nous étudiant le nombre des années académiques pour lequel nous avons le résultat n'est pas le meme  pour certains étudiant nous avons des informations pour 1 annéé académique, d'autres pour 2 , etc. Pour palier à ce problème nous avons utliser des ration pour nous valeur de sortie qui consiter à diviser le nombre sur le no,bre des année académique que l'étudiant a passée à la faculté\n"
   ]
  },
  {
   "cell_type": "markdown",
   "metadata": {},
   "source": [
    "Comencons par charger nos libraries "
   ]
  },
  {
   "cell_type": "code",
   "execution_count": 1,
   "metadata": {
    "collapsed": true
   },
   "outputs": [],
   "source": [
    "import pandas as pd\n",
    "import numpy as np\n",
    "import matplotlib.pyplot as plt\n",
    "import seaborn as sns #for beatiful visualizations\n",
    "%matplotlib inline \n",
    "import scipy.stats as scs #for statistics\n",
    "import operator\n",
    "from scipy.stats import chi2_contingency\n",
    "import matplotlib.ticker as ticker"
   ]
  },
  {
   "cell_type": "markdown",
   "metadata": {},
   "source": [
    "Notons que dans cette partie nous allons Aussi faire une analyse statistique univarié et bi-varié entre nos données d\"entree et celle de sortie"
   ]
  },
  {
   "cell_type": "code",
   "execution_count": 2,
   "metadata": {
    "collapsed": true
   },
   "outputs": [],
   "source": [
    "dataset=pd.read_csv(\"DatasetOut.csv\",index_col=\"Unnamed: 0\")"
   ]
  },
  {
   "cell_type": "code",
   "execution_count": 3,
   "metadata": {
    "collapsed": true
   },
   "outputs": [],
   "source": [
    "dataset.rename(columns={'IDENTIFICATION':'ID'},inplace=True)"
   ]
  },
  {
   "cell_type": "code",
   "execution_count": 4,
   "metadata": {
    "collapsed": true
   },
   "outputs": [],
   "source": [
    "SuccefullMent=['S']\n",
    "PartialSuccess=['ADM', 'ADTFC', 'ADSTM', 'ADSTFC', 'ADST']\n",
    "Distinction=['D','GD']\n",
    "FailSession=['AA','AR','nan']\n",
    "FailureMention=['A','NAF','ANAF']"
   ]
  },
  {
   "cell_type": "code",
   "execution_count": 5,
   "metadata": {
    "scrolled": true
   },
   "outputs": [
    {
     "data": {
      "text/plain": [
       "AA        4569\n",
       "A         2351\n",
       "S         2037\n",
       "D          268\n",
       "ADM        101\n",
       "ADTFC       81\n",
       "ADSTM       74\n",
       "ADSTFC      55\n",
       "ADST        45\n",
       "NAF         17\n",
       "GD           7\n",
       "ANAF         1\n",
       "Name: MENT1, dtype: int64"
      ]
     },
     "execution_count": 5,
     "metadata": {},
     "output_type": "execute_result"
    }
   ],
   "source": [
    "dataset.MENT1.value_counts()"
   ]
  },
  {
   "cell_type": "code",
   "execution_count": 6,
   "metadata": {},
   "outputs": [
    {
     "data": {
      "text/plain": [
       "Index([u'ID', u'ACADYEAR', u'PERC1', u'MENT1', u'PERC2', u'MENT2', u'FAC',\n",
       "       u'OPT', u'PROM'],\n",
       "      dtype='object')"
      ]
     },
     "execution_count": 6,
     "metadata": {},
     "output_type": "execute_result"
    }
   ],
   "source": [
    "dataset.columns"
   ]
  },
  {
   "cell_type": "markdown",
   "metadata": {},
   "source": [
    "Premierement Voici la fonction que nous avons utiliser pour determiner si un étudiant a reussi ou a echouer pour une année academique"
   ]
  },
  {
   "cell_type": "code",
   "execution_count": 8,
   "metadata": {
    "collapsed": true
   },
   "outputs": [],
   "source": [
    "def calculateSucess(x):\n",
    "    \"\"\"this function will check if a student pass of fail in an aacademic year\"\"\"\n",
    "    if str(x['MENT2']) in FailSession+FailureMention and (str(x['MENT1']) not in SuccefullMent+PartialSuccess+Distinction):\n",
    "        return pd.Series(True)\n",
    "    else :\n",
    "        return pd.Series(False)"
   ]
  },
  {
   "cell_type": "code",
   "execution_count": 10,
   "metadata": {},
   "outputs": [],
   "source": [
    "Echec=dataset.apply(calculateSucess,axis=1)"
   ]
  },
  {
   "cell_type": "code",
   "execution_count": 12,
   "metadata": {
    "scrolled": true
   },
   "outputs": [
    {
     "data": {
      "text/html": [
       "<div>\n",
       "<table border=\"1\" class=\"dataframe\">\n",
       "  <thead>\n",
       "    <tr style=\"text-align: right;\">\n",
       "      <th></th>\n",
       "      <th>0</th>\n",
       "    </tr>\n",
       "  </thead>\n",
       "  <tbody>\n",
       "    <tr>\n",
       "      <th>0</th>\n",
       "      <td>True</td>\n",
       "    </tr>\n",
       "    <tr>\n",
       "      <th>1</th>\n",
       "      <td>False</td>\n",
       "    </tr>\n",
       "    <tr>\n",
       "      <th>2</th>\n",
       "      <td>True</td>\n",
       "    </tr>\n",
       "    <tr>\n",
       "      <th>3</th>\n",
       "      <td>False</td>\n",
       "    </tr>\n",
       "    <tr>\n",
       "      <th>4</th>\n",
       "      <td>False</td>\n",
       "    </tr>\n",
       "    <tr>\n",
       "      <th>5</th>\n",
       "      <td>True</td>\n",
       "    </tr>\n",
       "  </tbody>\n",
       "</table>\n",
       "</div>"
      ],
      "text/plain": [
       "       0\n",
       "0   True\n",
       "1  False\n",
       "2   True\n",
       "3  False\n",
       "4  False\n",
       "5   True"
      ]
     },
     "execution_count": 12,
     "metadata": {},
     "output_type": "execute_result"
    }
   ],
   "source": [
    "Echec[:6]"
   ]
  },
  {
   "cell_type": "code",
   "execution_count": 22,
   "metadata": {
    "scrolled": true
   },
   "outputs": [
    {
     "data": {
      "text/html": [
       "<div>\n",
       "<table border=\"1\" class=\"dataframe\">\n",
       "  <thead>\n",
       "    <tr style=\"text-align: right;\">\n",
       "      <th></th>\n",
       "      <th>ID</th>\n",
       "      <th>ACADYEAR</th>\n",
       "      <th>PERC1</th>\n",
       "      <th>MENT1</th>\n",
       "      <th>PERC2</th>\n",
       "      <th>MENT2</th>\n",
       "      <th>FAC</th>\n",
       "      <th>OPT</th>\n",
       "      <th>PROM</th>\n",
       "      <th>Echec</th>\n",
       "    </tr>\n",
       "  </thead>\n",
       "  <tbody>\n",
       "    <tr>\n",
       "      <th>0</th>\n",
       "      <td>45</td>\n",
       "      <td>2013-2014</td>\n",
       "      <td>NaN</td>\n",
       "      <td>AA</td>\n",
       "      <td>NaN</td>\n",
       "      <td>NaN</td>\n",
       "      <td>FPSE</td>\n",
       "      <td>Sciences de l'Éducation</td>\n",
       "      <td>L2</td>\n",
       "      <td>True</td>\n",
       "    </tr>\n",
       "    <tr>\n",
       "      <th>1</th>\n",
       "      <td>215</td>\n",
       "      <td>2012-2013</td>\n",
       "      <td>NaN</td>\n",
       "      <td>ADM</td>\n",
       "      <td>63.099998</td>\n",
       "      <td>S</td>\n",
       "      <td>FD</td>\n",
       "      <td>Droit Privé et Judiciaire</td>\n",
       "      <td>L2</td>\n",
       "      <td>False</td>\n",
       "    </tr>\n",
       "    <tr>\n",
       "      <th>2</th>\n",
       "      <td>343</td>\n",
       "      <td>2015-2016</td>\n",
       "      <td>NaN</td>\n",
       "      <td>AA</td>\n",
       "      <td>52.200001</td>\n",
       "      <td>A</td>\n",
       "      <td>FSEG</td>\n",
       "      <td>Tronc commun</td>\n",
       "      <td>G2</td>\n",
       "      <td>True</td>\n",
       "    </tr>\n",
       "    <tr>\n",
       "      <th>3</th>\n",
       "      <td>356</td>\n",
       "      <td>2015-2016</td>\n",
       "      <td>NaN</td>\n",
       "      <td>ADSTM</td>\n",
       "      <td>59.900002</td>\n",
       "      <td>S</td>\n",
       "      <td>FSEG</td>\n",
       "      <td>Gestion des Entreprises</td>\n",
       "      <td>L2</td>\n",
       "      <td>False</td>\n",
       "    </tr>\n",
       "    <tr>\n",
       "      <th>4</th>\n",
       "      <td>398</td>\n",
       "      <td>2012-2013</td>\n",
       "      <td>65.099998</td>\n",
       "      <td>S</td>\n",
       "      <td>NaN</td>\n",
       "      <td>NaN</td>\n",
       "      <td>FSDC</td>\n",
       "      <td>Santé et Développement Communautaires</td>\n",
       "      <td>L2</td>\n",
       "      <td>False</td>\n",
       "    </tr>\n",
       "    <tr>\n",
       "      <th>5</th>\n",
       "      <td>429</td>\n",
       "      <td>2013-2014</td>\n",
       "      <td>NaN</td>\n",
       "      <td>AA</td>\n",
       "      <td>NaN</td>\n",
       "      <td>A</td>\n",
       "      <td>FD</td>\n",
       "      <td>Tronc commun</td>\n",
       "      <td>G1</td>\n",
       "      <td>True</td>\n",
       "    </tr>\n",
       "  </tbody>\n",
       "</table>\n",
       "</div>"
      ],
      "text/plain": [
       "    ID   ACADYEAR      PERC1  MENT1      PERC2 MENT2   FAC  \\\n",
       "0   45  2013-2014        NaN     AA        NaN   NaN  FPSE   \n",
       "1  215  2012-2013        NaN    ADM  63.099998     S    FD   \n",
       "2  343  2015-2016        NaN     AA  52.200001     A  FSEG   \n",
       "3  356  2015-2016        NaN  ADSTM  59.900002     S  FSEG   \n",
       "4  398  2012-2013  65.099998      S        NaN   NaN  FSDC   \n",
       "5  429  2013-2014        NaN     AA        NaN     A    FD   \n",
       "\n",
       "                                     OPT PROM  Echec  \n",
       "0                Sciences de l'Éducation   L2   True  \n",
       "1              Droit Privé et Judiciaire   L2  False  \n",
       "2                           Tronc commun   G2   True  \n",
       "3                Gestion des Entreprises   L2  False  \n",
       "4  Santé et Développement Communautaires   L2  False  \n",
       "5                           Tronc commun   G1   True  "
      ]
     },
     "execution_count": 22,
     "metadata": {},
     "output_type": "execute_result"
    }
   ],
   "source": [
    "dataset[:6]"
   ]
  },
  {
   "cell_type": "markdown",
   "metadata": {},
   "source": [
    "Avec cette unction nous avons pu determier si un étudiant a reussi ou echoué dans une année académique"
   ]
  },
  {
   "cell_type": "code",
   "execution_count": 21,
   "metadata": {},
   "outputs": [],
   "source": [
    "dataset['Echec']=Echec"
   ]
  },
  {
   "cell_type": "markdown",
   "metadata": {},
   "source": [
    "Ensuite On cherche à déterminer si l'étudiant est passé en premiere session dans une anné academique "
   ]
  },
  {
   "cell_type": "markdown",
   "metadata": {},
   "source": [
    "Voici la fonction qui nous permet d'effectuer ses calculs:"
   ]
  },
  {
   "cell_type": "code",
   "execution_count": 27,
   "metadata": {
    "collapsed": true
   },
   "outputs": [],
   "source": [
    "def calculatePass1estSes(x):\n",
    "    \"\"\"this function will check if a student pass in the 1st session in an academic year\"\"\"\n",
    "    if x['MENT1'] in SuccefullMent+Distinction:\n",
    "        return pd.Series(True)\n",
    "    else :\n",
    "        return pd.Series(False)"
   ]
  },
  {
   "cell_type": "code",
   "execution_count": 28,
   "metadata": {
    "collapsed": true
   },
   "outputs": [],
   "source": [
    "Pass1erSession=dataset.apply(calculatePass1estSes,axis=1)"
   ]
  },
  {
   "cell_type": "code",
   "execution_count": 29,
   "metadata": {
    "collapsed": true
   },
   "outputs": [],
   "source": [
    "dataset.loc[:,'Pass1erSession']=Pass1erSession\n",
    "dataset['Pass1erSession']=Pass1erSession"
   ]
  },
  {
   "cell_type": "code",
   "execution_count": 30,
   "metadata": {
    "scrolled": true
   },
   "outputs": [
    {
     "data": {
      "text/html": [
       "<div>\n",
       "<table border=\"1\" class=\"dataframe\">\n",
       "  <thead>\n",
       "    <tr style=\"text-align: right;\">\n",
       "      <th></th>\n",
       "      <th>ID</th>\n",
       "      <th>ACADYEAR</th>\n",
       "      <th>PERC1</th>\n",
       "      <th>MENT1</th>\n",
       "      <th>PERC2</th>\n",
       "      <th>MENT2</th>\n",
       "      <th>FAC</th>\n",
       "      <th>OPT</th>\n",
       "      <th>PROM</th>\n",
       "      <th>Echec</th>\n",
       "      <th>Pass1erSession</th>\n",
       "    </tr>\n",
       "  </thead>\n",
       "  <tbody>\n",
       "    <tr>\n",
       "      <th>0</th>\n",
       "      <td>45</td>\n",
       "      <td>2013-2014</td>\n",
       "      <td>NaN</td>\n",
       "      <td>AA</td>\n",
       "      <td>NaN</td>\n",
       "      <td>NaN</td>\n",
       "      <td>FPSE</td>\n",
       "      <td>Sciences de l'Éducation</td>\n",
       "      <td>L2</td>\n",
       "      <td>True</td>\n",
       "      <td>False</td>\n",
       "    </tr>\n",
       "    <tr>\n",
       "      <th>1</th>\n",
       "      <td>215</td>\n",
       "      <td>2012-2013</td>\n",
       "      <td>NaN</td>\n",
       "      <td>ADM</td>\n",
       "      <td>63.099998</td>\n",
       "      <td>S</td>\n",
       "      <td>FD</td>\n",
       "      <td>Droit Privé et Judiciaire</td>\n",
       "      <td>L2</td>\n",
       "      <td>False</td>\n",
       "      <td>False</td>\n",
       "    </tr>\n",
       "    <tr>\n",
       "      <th>2</th>\n",
       "      <td>343</td>\n",
       "      <td>2015-2016</td>\n",
       "      <td>NaN</td>\n",
       "      <td>AA</td>\n",
       "      <td>52.200001</td>\n",
       "      <td>A</td>\n",
       "      <td>FSEG</td>\n",
       "      <td>Tronc commun</td>\n",
       "      <td>G2</td>\n",
       "      <td>True</td>\n",
       "      <td>False</td>\n",
       "    </tr>\n",
       "    <tr>\n",
       "      <th>3</th>\n",
       "      <td>356</td>\n",
       "      <td>2015-2016</td>\n",
       "      <td>NaN</td>\n",
       "      <td>ADSTM</td>\n",
       "      <td>59.900002</td>\n",
       "      <td>S</td>\n",
       "      <td>FSEG</td>\n",
       "      <td>Gestion des Entreprises</td>\n",
       "      <td>L2</td>\n",
       "      <td>False</td>\n",
       "      <td>False</td>\n",
       "    </tr>\n",
       "    <tr>\n",
       "      <th>4</th>\n",
       "      <td>398</td>\n",
       "      <td>2012-2013</td>\n",
       "      <td>65.099998</td>\n",
       "      <td>S</td>\n",
       "      <td>NaN</td>\n",
       "      <td>NaN</td>\n",
       "      <td>FSDC</td>\n",
       "      <td>Santé et Développement Communautaires</td>\n",
       "      <td>L2</td>\n",
       "      <td>False</td>\n",
       "      <td>True</td>\n",
       "    </tr>\n",
       "    <tr>\n",
       "      <th>5</th>\n",
       "      <td>429</td>\n",
       "      <td>2013-2014</td>\n",
       "      <td>NaN</td>\n",
       "      <td>AA</td>\n",
       "      <td>NaN</td>\n",
       "      <td>A</td>\n",
       "      <td>FD</td>\n",
       "      <td>Tronc commun</td>\n",
       "      <td>G1</td>\n",
       "      <td>True</td>\n",
       "      <td>False</td>\n",
       "    </tr>\n",
       "    <tr>\n",
       "      <th>6</th>\n",
       "      <td>474</td>\n",
       "      <td>2014-2015</td>\n",
       "      <td>NaN</td>\n",
       "      <td>AA</td>\n",
       "      <td>NaN</td>\n",
       "      <td>NaN</td>\n",
       "      <td>FD</td>\n",
       "      <td>Droit Privé et Judiciaire</td>\n",
       "      <td>G3</td>\n",
       "      <td>True</td>\n",
       "      <td>False</td>\n",
       "    </tr>\n",
       "    <tr>\n",
       "      <th>7</th>\n",
       "      <td>474</td>\n",
       "      <td>2015-2016</td>\n",
       "      <td>62.500000</td>\n",
       "      <td>S</td>\n",
       "      <td>NaN</td>\n",
       "      <td>NaN</td>\n",
       "      <td>FD</td>\n",
       "      <td>Droit Privé et Judiciaire</td>\n",
       "      <td>G3</td>\n",
       "      <td>False</td>\n",
       "      <td>True</td>\n",
       "    </tr>\n",
       "  </tbody>\n",
       "</table>\n",
       "</div>"
      ],
      "text/plain": [
       "    ID   ACADYEAR      PERC1  MENT1      PERC2 MENT2   FAC  \\\n",
       "0   45  2013-2014        NaN     AA        NaN   NaN  FPSE   \n",
       "1  215  2012-2013        NaN    ADM  63.099998     S    FD   \n",
       "2  343  2015-2016        NaN     AA  52.200001     A  FSEG   \n",
       "3  356  2015-2016        NaN  ADSTM  59.900002     S  FSEG   \n",
       "4  398  2012-2013  65.099998      S        NaN   NaN  FSDC   \n",
       "5  429  2013-2014        NaN     AA        NaN     A    FD   \n",
       "6  474  2014-2015        NaN     AA        NaN   NaN    FD   \n",
       "7  474  2015-2016  62.500000      S        NaN   NaN    FD   \n",
       "\n",
       "                                     OPT PROM  Echec Pass1erSession  \n",
       "0                Sciences de l'Éducation   L2   True          False  \n",
       "1              Droit Privé et Judiciaire   L2  False          False  \n",
       "2                           Tronc commun   G2   True          False  \n",
       "3                Gestion des Entreprises   L2  False          False  \n",
       "4  Santé et Développement Communautaires   L2  False           True  \n",
       "5                           Tronc commun   G1   True          False  \n",
       "6              Droit Privé et Judiciaire   G3   True          False  \n",
       "7              Droit Privé et Judiciaire   G3  False           True  "
      ]
     },
     "execution_count": 30,
     "metadata": {},
     "output_type": "execute_result"
    }
   ],
   "source": [
    "dataset.head(8)"
   ]
  },
  {
   "cell_type": "markdown",
   "metadata": {},
   "source": [
    "Ensuite on cherche à determiner si un étudiant a distinguer au cours d'une académique , voicila function:"
   ]
  },
  {
   "cell_type": "code",
   "execution_count": 34,
   "metadata": {
    "collapsed": true
   },
   "outputs": [],
   "source": [
    "def calculateDistinCtion(x):\n",
    "    \"\"\"this function will check if a student get a distinction mention in aacademic year\"\"\"\n",
    "    if x['MENT1'] in Distinction or x['MENT2']in Distinction:\n",
    "        return pd.Series(True)\n",
    "    else :\n",
    "        return pd.Series(False)"
   ]
  },
  {
   "cell_type": "code",
   "execution_count": 35,
   "metadata": {
    "collapsed": true
   },
   "outputs": [],
   "source": [
    "Distinction=dataset.apply(calculateDistinCtion,axis=1)"
   ]
  },
  {
   "cell_type": "code",
   "execution_count": 36,
   "metadata": {
    "collapsed": true
   },
   "outputs": [],
   "source": [
    "dataset.loc[:,'Distinction']=Distinction\n",
    "dataset['Distinction']=Distinction"
   ]
  },
  {
   "cell_type": "code",
   "execution_count": 39,
   "metadata": {
    "scrolled": true
   },
   "outputs": [
    {
     "data": {
      "text/html": [
       "<div>\n",
       "<table border=\"1\" class=\"dataframe\">\n",
       "  <thead>\n",
       "    <tr style=\"text-align: right;\">\n",
       "      <th></th>\n",
       "      <th>ID</th>\n",
       "      <th>ACADYEAR</th>\n",
       "      <th>PERC1</th>\n",
       "      <th>MENT1</th>\n",
       "      <th>PERC2</th>\n",
       "      <th>MENT2</th>\n",
       "      <th>FAC</th>\n",
       "      <th>PROM</th>\n",
       "      <th>Echec</th>\n",
       "      <th>Pass1erSession</th>\n",
       "      <th>Distinction</th>\n",
       "    </tr>\n",
       "  </thead>\n",
       "  <tbody>\n",
       "    <tr>\n",
       "      <th>47</th>\n",
       "      <td>2221</td>\n",
       "      <td>2012-2013</td>\n",
       "      <td>70.199997</td>\n",
       "      <td>D</td>\n",
       "      <td>NaN</td>\n",
       "      <td>NaN</td>\n",
       "      <td>FD</td>\n",
       "      <td>L2</td>\n",
       "      <td>False</td>\n",
       "      <td>True</td>\n",
       "      <td>True</td>\n",
       "    </tr>\n",
       "    <tr>\n",
       "      <th>57</th>\n",
       "      <td>2457</td>\n",
       "      <td>2012-2013</td>\n",
       "      <td>76.400002</td>\n",
       "      <td>D</td>\n",
       "      <td>NaN</td>\n",
       "      <td>NaN</td>\n",
       "      <td>FSTA</td>\n",
       "      <td>TECH2</td>\n",
       "      <td>False</td>\n",
       "      <td>True</td>\n",
       "      <td>True</td>\n",
       "    </tr>\n",
       "    <tr>\n",
       "      <th>96</th>\n",
       "      <td>3298</td>\n",
       "      <td>2015-2016</td>\n",
       "      <td>70.699997</td>\n",
       "      <td>D</td>\n",
       "      <td>NaN</td>\n",
       "      <td>NaN</td>\n",
       "      <td>FPSE</td>\n",
       "      <td>L2</td>\n",
       "      <td>False</td>\n",
       "      <td>True</td>\n",
       "      <td>True</td>\n",
       "    </tr>\n",
       "    <tr>\n",
       "      <th>106</th>\n",
       "      <td>3578</td>\n",
       "      <td>2012-2013</td>\n",
       "      <td>70.099998</td>\n",
       "      <td>D</td>\n",
       "      <td>NaN</td>\n",
       "      <td>NaN</td>\n",
       "      <td>FD</td>\n",
       "      <td>L2</td>\n",
       "      <td>False</td>\n",
       "      <td>True</td>\n",
       "      <td>True</td>\n",
       "    </tr>\n",
       "    <tr>\n",
       "      <th>110</th>\n",
       "      <td>3588</td>\n",
       "      <td>2013-2014</td>\n",
       "      <td>NaN</td>\n",
       "      <td>AA</td>\n",
       "      <td>73.500000</td>\n",
       "      <td>D</td>\n",
       "      <td>FSTA</td>\n",
       "      <td>Tech1</td>\n",
       "      <td>False</td>\n",
       "      <td>False</td>\n",
       "      <td>True</td>\n",
       "    </tr>\n",
       "    <tr>\n",
       "      <th>114</th>\n",
       "      <td>3591</td>\n",
       "      <td>2013-2014</td>\n",
       "      <td>NaN</td>\n",
       "      <td>ADSTM</td>\n",
       "      <td>73.900002</td>\n",
       "      <td>D</td>\n",
       "      <td>FSTA</td>\n",
       "      <td>Tech2</td>\n",
       "      <td>False</td>\n",
       "      <td>False</td>\n",
       "      <td>True</td>\n",
       "    </tr>\n",
       "    <tr>\n",
       "      <th>123</th>\n",
       "      <td>3626</td>\n",
       "      <td>2014-2015</td>\n",
       "      <td>71.900002</td>\n",
       "      <td>D</td>\n",
       "      <td>NaN</td>\n",
       "      <td>NaN</td>\n",
       "      <td>FSTA</td>\n",
       "      <td>Tech1</td>\n",
       "      <td>False</td>\n",
       "      <td>True</td>\n",
       "      <td>True</td>\n",
       "    </tr>\n",
       "    <tr>\n",
       "      <th>140</th>\n",
       "      <td>3646</td>\n",
       "      <td>2013-2014</td>\n",
       "      <td>NaN</td>\n",
       "      <td>AA</td>\n",
       "      <td>73.300003</td>\n",
       "      <td>D</td>\n",
       "      <td>FSTA</td>\n",
       "      <td>Tech1</td>\n",
       "      <td>False</td>\n",
       "      <td>False</td>\n",
       "      <td>True</td>\n",
       "    </tr>\n",
       "  </tbody>\n",
       "</table>\n",
       "</div>"
      ],
      "text/plain": [
       "       ID   ACADYEAR      PERC1  MENT1      PERC2 MENT2   FAC   PROM  Echec  \\\n",
       "47   2221  2012-2013  70.199997      D        NaN   NaN    FD     L2  False   \n",
       "57   2457  2012-2013  76.400002      D        NaN   NaN  FSTA  TECH2  False   \n",
       "96   3298  2015-2016  70.699997      D        NaN   NaN  FPSE     L2  False   \n",
       "106  3578  2012-2013  70.099998      D        NaN   NaN    FD     L2  False   \n",
       "110  3588  2013-2014        NaN     AA  73.500000     D  FSTA  Tech1  False   \n",
       "114  3591  2013-2014        NaN  ADSTM  73.900002     D  FSTA  Tech2  False   \n",
       "123  3626  2014-2015  71.900002      D        NaN   NaN  FSTA  Tech1  False   \n",
       "140  3646  2013-2014        NaN     AA  73.300003     D  FSTA  Tech1  False   \n",
       "\n",
       "    Pass1erSession Distinction  \n",
       "47            True        True  \n",
       "57            True        True  \n",
       "96            True        True  \n",
       "106           True        True  \n",
       "110          False        True  \n",
       "114          False        True  \n",
       "123           True        True  \n",
       "140          False        True  "
      ]
     },
     "execution_count": 39,
     "metadata": {},
     "output_type": "execute_result"
    }
   ],
   "source": [
    "dataset.loc[dataset.Distinction].head(8)"
   ]
  },
  {
   "cell_type": "markdown",
   "metadata": {},
   "source": [
    "Enfin Calculons le pourcentage final qu'a obtenu un étudiant au cours d'une anné academique "
   ]
  },
  {
   "cell_type": "code",
   "execution_count": 155,
   "metadata": {},
   "outputs": [],
   "source": [
    "def calculatePourcenatge(x):\n",
    "    \"\"\"this function will check if a student pass of fail in an aacademic year\"\"\"\n",
    "    if x['Pass1erSession'] :\n",
    "        return pd.Series(x['PERC1'])\n",
    "    elif x['MENT2'] in SuccefullMent and  x['MENT1'] in FailSession+FailureMention+PartialSuccess:\n",
    "        return pd.Series(x['PERC2'])\n",
    "    elif str(x['MENT2']) in Distinction and  str(x['MENT1']) in FailSession+FailureMention+PartialSuccess :\n",
    "        return pd.Series(x['PERC2'])\n",
    "    else:\n",
    "        return pd.Series(x['PERC2'])"
   ]
  },
  {
   "cell_type": "code",
   "execution_count": 116,
   "metadata": {
    "collapsed": true
   },
   "outputs": [],
   "source": [
    "def calculateDistinCtion2emeS(x):\n",
    "    if str(x['MENT2']) in Distinction :\n",
    "        return pd.Series(x['MENT2'])"
   ]
  },
  {
   "cell_type": "code",
   "execution_count": 156,
   "metadata": {
    "scrolled": false
   },
   "outputs": [],
   "source": [
    "PercFinal=dataset.apply(calculatePourcenatge,axis=1)"
   ]
  },
  {
   "cell_type": "code",
   "execution_count": 157,
   "metadata": {
    "scrolled": true
   },
   "outputs": [
    {
     "data": {
      "text/html": [
       "<div>\n",
       "<table border=\"1\" class=\"dataframe\">\n",
       "  <thead>\n",
       "    <tr style=\"text-align: right;\">\n",
       "      <th></th>\n",
       "      <th>0</th>\n",
       "    </tr>\n",
       "  </thead>\n",
       "  <tbody>\n",
       "    <tr>\n",
       "      <th>4</th>\n",
       "      <td>65.099998</td>\n",
       "    </tr>\n",
       "    <tr>\n",
       "      <th>7</th>\n",
       "      <td>62.500000</td>\n",
       "    </tr>\n",
       "    <tr>\n",
       "      <th>8</th>\n",
       "      <td>65.000000</td>\n",
       "    </tr>\n",
       "    <tr>\n",
       "      <th>9</th>\n",
       "      <td>60.400002</td>\n",
       "    </tr>\n",
       "    <tr>\n",
       "      <th>10</th>\n",
       "      <td>68.000000</td>\n",
       "    </tr>\n",
       "    <tr>\n",
       "      <th>17</th>\n",
       "      <td>62.900002</td>\n",
       "    </tr>\n",
       "    <tr>\n",
       "      <th>18</th>\n",
       "      <td>68.800003</td>\n",
       "    </tr>\n",
       "    <tr>\n",
       "      <th>23</th>\n",
       "      <td>62.400002</td>\n",
       "    </tr>\n",
       "    <tr>\n",
       "      <th>28</th>\n",
       "      <td>66.500000</td>\n",
       "    </tr>\n",
       "    <tr>\n",
       "      <th>34</th>\n",
       "      <td>65.099998</td>\n",
       "    </tr>\n",
       "    <tr>\n",
       "      <th>36</th>\n",
       "      <td>65.800003</td>\n",
       "    </tr>\n",
       "    <tr>\n",
       "      <th>37</th>\n",
       "      <td>63.799999</td>\n",
       "    </tr>\n",
       "    <tr>\n",
       "      <th>39</th>\n",
       "      <td>60.599998</td>\n",
       "    </tr>\n",
       "    <tr>\n",
       "      <th>40</th>\n",
       "      <td>64.199997</td>\n",
       "    </tr>\n",
       "    <tr>\n",
       "      <th>42</th>\n",
       "      <td>66.500000</td>\n",
       "    </tr>\n",
       "    <tr>\n",
       "      <th>46</th>\n",
       "      <td>66.000000</td>\n",
       "    </tr>\n",
       "    <tr>\n",
       "      <th>47</th>\n",
       "      <td>70.199997</td>\n",
       "    </tr>\n",
       "    <tr>\n",
       "      <th>48</th>\n",
       "      <td>61.799999</td>\n",
       "    </tr>\n",
       "    <tr>\n",
       "      <th>57</th>\n",
       "      <td>76.400002</td>\n",
       "    </tr>\n",
       "    <tr>\n",
       "      <th>60</th>\n",
       "      <td>60.200001</td>\n",
       "    </tr>\n",
       "    <tr>\n",
       "      <th>61</th>\n",
       "      <td>64.099998</td>\n",
       "    </tr>\n",
       "    <tr>\n",
       "      <th>62</th>\n",
       "      <td>67.500000</td>\n",
       "    </tr>\n",
       "    <tr>\n",
       "      <th>63</th>\n",
       "      <td>64.099998</td>\n",
       "    </tr>\n",
       "    <tr>\n",
       "      <th>67</th>\n",
       "      <td>59.700001</td>\n",
       "    </tr>\n",
       "    <tr>\n",
       "      <th>71</th>\n",
       "      <td>61.599998</td>\n",
       "    </tr>\n",
       "    <tr>\n",
       "      <th>74</th>\n",
       "      <td>62.799999</td>\n",
       "    </tr>\n",
       "    <tr>\n",
       "      <th>78</th>\n",
       "      <td>62.000000</td>\n",
       "    </tr>\n",
       "    <tr>\n",
       "      <th>80</th>\n",
       "      <td>65.199997</td>\n",
       "    </tr>\n",
       "    <tr>\n",
       "      <th>82</th>\n",
       "      <td>61.599998</td>\n",
       "    </tr>\n",
       "    <tr>\n",
       "      <th>89</th>\n",
       "      <td>64.800003</td>\n",
       "    </tr>\n",
       "    <tr>\n",
       "      <th>...</th>\n",
       "      <td>...</td>\n",
       "    </tr>\n",
       "    <tr>\n",
       "      <th>9381</th>\n",
       "      <td>66.599998</td>\n",
       "    </tr>\n",
       "    <tr>\n",
       "      <th>9382</th>\n",
       "      <td>57.700001</td>\n",
       "    </tr>\n",
       "    <tr>\n",
       "      <th>9383</th>\n",
       "      <td>58.400002</td>\n",
       "    </tr>\n",
       "    <tr>\n",
       "      <th>9384</th>\n",
       "      <td>60.599998</td>\n",
       "    </tr>\n",
       "    <tr>\n",
       "      <th>9387</th>\n",
       "      <td>63.799999</td>\n",
       "    </tr>\n",
       "    <tr>\n",
       "      <th>9388</th>\n",
       "      <td>58.500000</td>\n",
       "    </tr>\n",
       "    <tr>\n",
       "      <th>9399</th>\n",
       "      <td>61.799999</td>\n",
       "    </tr>\n",
       "    <tr>\n",
       "      <th>9402</th>\n",
       "      <td>64.599998</td>\n",
       "    </tr>\n",
       "    <tr>\n",
       "      <th>9403</th>\n",
       "      <td>63.700001</td>\n",
       "    </tr>\n",
       "    <tr>\n",
       "      <th>9409</th>\n",
       "      <td>59.799999</td>\n",
       "    </tr>\n",
       "    <tr>\n",
       "      <th>9423</th>\n",
       "      <td>74.900002</td>\n",
       "    </tr>\n",
       "    <tr>\n",
       "      <th>9426</th>\n",
       "      <td>64.400002</td>\n",
       "    </tr>\n",
       "    <tr>\n",
       "      <th>9438</th>\n",
       "      <td>70.000000</td>\n",
       "    </tr>\n",
       "    <tr>\n",
       "      <th>9461</th>\n",
       "      <td>65.900002</td>\n",
       "    </tr>\n",
       "    <tr>\n",
       "      <th>9480</th>\n",
       "      <td>57.400002</td>\n",
       "    </tr>\n",
       "    <tr>\n",
       "      <th>9487</th>\n",
       "      <td>67.599998</td>\n",
       "    </tr>\n",
       "    <tr>\n",
       "      <th>9489</th>\n",
       "      <td>64.699997</td>\n",
       "    </tr>\n",
       "    <tr>\n",
       "      <th>9491</th>\n",
       "      <td>63.400002</td>\n",
       "    </tr>\n",
       "    <tr>\n",
       "      <th>9500</th>\n",
       "      <td>67.800003</td>\n",
       "    </tr>\n",
       "    <tr>\n",
       "      <th>9502</th>\n",
       "      <td>63.599998</td>\n",
       "    </tr>\n",
       "    <tr>\n",
       "      <th>9508</th>\n",
       "      <td>63.599998</td>\n",
       "    </tr>\n",
       "    <tr>\n",
       "      <th>9509</th>\n",
       "      <td>63.799999</td>\n",
       "    </tr>\n",
       "    <tr>\n",
       "      <th>9513</th>\n",
       "      <td>61.500000</td>\n",
       "    </tr>\n",
       "    <tr>\n",
       "      <th>9517</th>\n",
       "      <td>57.099998</td>\n",
       "    </tr>\n",
       "    <tr>\n",
       "      <th>9525</th>\n",
       "      <td>57.900002</td>\n",
       "    </tr>\n",
       "    <tr>\n",
       "      <th>9545</th>\n",
       "      <td>61.000000</td>\n",
       "    </tr>\n",
       "    <tr>\n",
       "      <th>9578</th>\n",
       "      <td>60.799999</td>\n",
       "    </tr>\n",
       "    <tr>\n",
       "      <th>9594</th>\n",
       "      <td>56.900002</td>\n",
       "    </tr>\n",
       "    <tr>\n",
       "      <th>9595</th>\n",
       "      <td>59.799999</td>\n",
       "    </tr>\n",
       "    <tr>\n",
       "      <th>9603</th>\n",
       "      <td>60.200001</td>\n",
       "    </tr>\n",
       "  </tbody>\n",
       "</table>\n",
       "<p>2312 rows × 1 columns</p>\n",
       "</div>"
      ],
      "text/plain": [
       "              0\n",
       "4     65.099998\n",
       "7     62.500000\n",
       "8     65.000000\n",
       "9     60.400002\n",
       "10    68.000000\n",
       "17    62.900002\n",
       "18    68.800003\n",
       "23    62.400002\n",
       "28    66.500000\n",
       "34    65.099998\n",
       "36    65.800003\n",
       "37    63.799999\n",
       "39    60.599998\n",
       "40    64.199997\n",
       "42    66.500000\n",
       "46    66.000000\n",
       "47    70.199997\n",
       "48    61.799999\n",
       "57    76.400002\n",
       "60    60.200001\n",
       "61    64.099998\n",
       "62    67.500000\n",
       "63    64.099998\n",
       "67    59.700001\n",
       "71    61.599998\n",
       "74    62.799999\n",
       "78    62.000000\n",
       "80    65.199997\n",
       "82    61.599998\n",
       "89    64.800003\n",
       "...         ...\n",
       "9381  66.599998\n",
       "9382  57.700001\n",
       "9383  58.400002\n",
       "9384  60.599998\n",
       "9387  63.799999\n",
       "9388  58.500000\n",
       "9399  61.799999\n",
       "9402  64.599998\n",
       "9403  63.700001\n",
       "9409  59.799999\n",
       "9423  74.900002\n",
       "9426  64.400002\n",
       "9438  70.000000\n",
       "9461  65.900002\n",
       "9480  57.400002\n",
       "9487  67.599998\n",
       "9489  64.699997\n",
       "9491  63.400002\n",
       "9500  67.800003\n",
       "9502  63.599998\n",
       "9508  63.599998\n",
       "9509  63.799999\n",
       "9513  61.500000\n",
       "9517  57.099998\n",
       "9525  57.900002\n",
       "9545  61.000000\n",
       "9578  60.799999\n",
       "9594  56.900002\n",
       "9595  59.799999\n",
       "9603  60.200001\n",
       "\n",
       "[2312 rows x 1 columns]"
      ]
     },
     "execution_count": 157,
     "metadata": {},
     "output_type": "execute_result"
    }
   ],
   "source": [
    "PercFinal.loc[dataset.Pass1erSession]"
   ]
  },
  {
   "cell_type": "code",
   "execution_count": 168,
   "metadata": {
    "collapsed": true
   },
   "outputs": [],
   "source": [
    "dataset.loc[:,'PercFinal']=PercFinal\n",
    "dataset['PercFinal']=PercFinal"
   ]
  },
  {
   "cell_type": "markdown",
   "metadata": {},
   "source": [
    "il ya des étudiant qui on reussi mais qui n'ont  pas de pourcentage final"
   ]
  },
  {
   "cell_type": "code",
   "execution_count": 169,
   "metadata": {
    "scrolled": false
   },
   "outputs": [
    {
     "data": {
      "text/html": [
       "<div>\n",
       "<table border=\"1\" class=\"dataframe\">\n",
       "  <thead>\n",
       "    <tr style=\"text-align: right;\">\n",
       "      <th></th>\n",
       "      <th>ID</th>\n",
       "      <th>ACADYEAR</th>\n",
       "      <th>PERC1</th>\n",
       "      <th>MENT1</th>\n",
       "      <th>PERC2</th>\n",
       "      <th>MENT2</th>\n",
       "      <th>FAC</th>\n",
       "      <th>PROM</th>\n",
       "      <th>Echec</th>\n",
       "      <th>Pass1erSession</th>\n",
       "      <th>Distinction</th>\n",
       "      <th>PercFinal</th>\n",
       "    </tr>\n",
       "  </thead>\n",
       "  <tbody>\n",
       "    <tr>\n",
       "      <th>248</th>\n",
       "      <td>3978</td>\n",
       "      <td>2013-2014</td>\n",
       "      <td>NaN</td>\n",
       "      <td>AA</td>\n",
       "      <td>NaN</td>\n",
       "      <td>S</td>\n",
       "      <td>FSDC</td>\n",
       "      <td>L2</td>\n",
       "      <td>False</td>\n",
       "      <td>False</td>\n",
       "      <td>False</td>\n",
       "      <td>NaN</td>\n",
       "    </tr>\n",
       "    <tr>\n",
       "      <th>2176</th>\n",
       "      <td>7150</td>\n",
       "      <td>2012-2013</td>\n",
       "      <td>50.400002</td>\n",
       "      <td>A</td>\n",
       "      <td>NaN</td>\n",
       "      <td>S</td>\n",
       "      <td>FSEG</td>\n",
       "      <td>G2</td>\n",
       "      <td>False</td>\n",
       "      <td>False</td>\n",
       "      <td>False</td>\n",
       "      <td>NaN</td>\n",
       "    </tr>\n",
       "    <tr>\n",
       "      <th>2700</th>\n",
       "      <td>7530</td>\n",
       "      <td>2012-2013</td>\n",
       "      <td>NaN</td>\n",
       "      <td>S</td>\n",
       "      <td>NaN</td>\n",
       "      <td>NaN</td>\n",
       "      <td>FSTA</td>\n",
       "      <td>G1</td>\n",
       "      <td>False</td>\n",
       "      <td>True</td>\n",
       "      <td>False</td>\n",
       "      <td>NaN</td>\n",
       "    </tr>\n",
       "    <tr>\n",
       "      <th>2739</th>\n",
       "      <td>7569</td>\n",
       "      <td>2012-2013</td>\n",
       "      <td>NaN</td>\n",
       "      <td>S</td>\n",
       "      <td>NaN</td>\n",
       "      <td>NaN</td>\n",
       "      <td>FSTA</td>\n",
       "      <td>G1</td>\n",
       "      <td>False</td>\n",
       "      <td>True</td>\n",
       "      <td>False</td>\n",
       "      <td>NaN</td>\n",
       "    </tr>\n",
       "    <tr>\n",
       "      <th>2837</th>\n",
       "      <td>7630</td>\n",
       "      <td>2012-2013</td>\n",
       "      <td>NaN</td>\n",
       "      <td>S</td>\n",
       "      <td>NaN</td>\n",
       "      <td>NaN</td>\n",
       "      <td>FSTA</td>\n",
       "      <td>G1</td>\n",
       "      <td>False</td>\n",
       "      <td>True</td>\n",
       "      <td>False</td>\n",
       "      <td>NaN</td>\n",
       "    </tr>\n",
       "    <tr>\n",
       "      <th>3022</th>\n",
       "      <td>7750</td>\n",
       "      <td>2013-2014</td>\n",
       "      <td>NaN</td>\n",
       "      <td>ADSTFC</td>\n",
       "      <td>NaN</td>\n",
       "      <td>S</td>\n",
       "      <td>FD</td>\n",
       "      <td>G3</td>\n",
       "      <td>False</td>\n",
       "      <td>False</td>\n",
       "      <td>False</td>\n",
       "      <td>NaN</td>\n",
       "    </tr>\n",
       "    <tr>\n",
       "      <th>3100</th>\n",
       "      <td>7804</td>\n",
       "      <td>2013-2014</td>\n",
       "      <td>NaN</td>\n",
       "      <td>AA</td>\n",
       "      <td>NaN</td>\n",
       "      <td>S</td>\n",
       "      <td>FD</td>\n",
       "      <td>G3</td>\n",
       "      <td>False</td>\n",
       "      <td>False</td>\n",
       "      <td>False</td>\n",
       "      <td>NaN</td>\n",
       "    </tr>\n",
       "    <tr>\n",
       "      <th>3701</th>\n",
       "      <td>8300</td>\n",
       "      <td>2012-2013</td>\n",
       "      <td>NaN</td>\n",
       "      <td>S</td>\n",
       "      <td>NaN</td>\n",
       "      <td>NaN</td>\n",
       "      <td>FSTA</td>\n",
       "      <td>G0</td>\n",
       "      <td>False</td>\n",
       "      <td>True</td>\n",
       "      <td>False</td>\n",
       "      <td>NaN</td>\n",
       "    </tr>\n",
       "    <tr>\n",
       "      <th>4089</th>\n",
       "      <td>8477</td>\n",
       "      <td>2012-2013</td>\n",
       "      <td>NaN</td>\n",
       "      <td>S</td>\n",
       "      <td>NaN</td>\n",
       "      <td>NaN</td>\n",
       "      <td>FSTA</td>\n",
       "      <td>G0</td>\n",
       "      <td>False</td>\n",
       "      <td>True</td>\n",
       "      <td>False</td>\n",
       "      <td>NaN</td>\n",
       "    </tr>\n",
       "    <tr>\n",
       "      <th>6648</th>\n",
       "      <td>9688</td>\n",
       "      <td>2012-2013</td>\n",
       "      <td>NaN</td>\n",
       "      <td>S</td>\n",
       "      <td>NaN</td>\n",
       "      <td>NaN</td>\n",
       "      <td>FSTA</td>\n",
       "      <td>G0</td>\n",
       "      <td>False</td>\n",
       "      <td>True</td>\n",
       "      <td>False</td>\n",
       "      <td>NaN</td>\n",
       "    </tr>\n",
       "  </tbody>\n",
       "</table>\n",
       "</div>"
      ],
      "text/plain": [
       "        ID   ACADYEAR      PERC1   MENT1  PERC2 MENT2   FAC PROM  Echec  \\\n",
       "248   3978  2013-2014        NaN      AA    NaN     S  FSDC   L2  False   \n",
       "2176  7150  2012-2013  50.400002       A    NaN     S  FSEG   G2  False   \n",
       "2700  7530  2012-2013        NaN       S    NaN   NaN  FSTA   G1  False   \n",
       "2739  7569  2012-2013        NaN       S    NaN   NaN  FSTA   G1  False   \n",
       "2837  7630  2012-2013        NaN       S    NaN   NaN  FSTA   G1  False   \n",
       "3022  7750  2013-2014        NaN  ADSTFC    NaN     S    FD   G3  False   \n",
       "3100  7804  2013-2014        NaN      AA    NaN     S    FD   G3  False   \n",
       "3701  8300  2012-2013        NaN       S    NaN   NaN  FSTA   G0  False   \n",
       "4089  8477  2012-2013        NaN       S    NaN   NaN  FSTA   G0  False   \n",
       "6648  9688  2012-2013        NaN       S    NaN   NaN  FSTA   G0  False   \n",
       "\n",
       "     Pass1erSession Distinction  PercFinal  \n",
       "248           False       False        NaN  \n",
       "2176          False       False        NaN  \n",
       "2700           True       False        NaN  \n",
       "2739           True       False        NaN  \n",
       "2837           True       False        NaN  \n",
       "3022          False       False        NaN  \n",
       "3100          False       False        NaN  \n",
       "3701           True       False        NaN  \n",
       "4089           True       False        NaN  \n",
       "6648           True       False        NaN  "
      ]
     },
     "execution_count": 169,
     "metadata": {},
     "output_type": "execute_result"
    }
   ],
   "source": [
    "dataset.loc[operator.and_(np.isnan(PercFinal.get(0)) ,operator.or_(dataset.MENT2=='S',dataset.MENT1=='S'))]"
   ]
  },
  {
   "cell_type": "code",
   "execution_count": 170,
   "metadata": {
    "collapsed": true
   },
   "outputs": [],
   "source": [
    "dataset.loc[operator.and_(np.isnan(PercFinal.get(0)) ,operator.or_(dataset.MENT2=='S',dataset.MENT1=='S')),'PercFinal']=55"
   ]
  },
  {
   "cell_type": "code",
   "execution_count": 192,
   "metadata": {},
   "outputs": [],
   "source": [
    "dataset.loc[dataset.MENT2.isin(PartialSuccess),'PercFinal']=55"
   ]
  },
  {
   "cell_type": "code",
   "execution_count": 153,
   "metadata": {
    "scrolled": false
   },
   "outputs": [
    {
     "data": {
      "text/html": [
       "<div>\n",
       "<table border=\"1\" class=\"dataframe\">\n",
       "  <thead>\n",
       "    <tr style=\"text-align: right;\">\n",
       "      <th></th>\n",
       "      <th>ID</th>\n",
       "      <th>ACADYEAR</th>\n",
       "      <th>PERC1</th>\n",
       "      <th>MENT1</th>\n",
       "      <th>PERC2</th>\n",
       "      <th>MENT2</th>\n",
       "      <th>FAC</th>\n",
       "      <th>PROM</th>\n",
       "      <th>Echec</th>\n",
       "      <th>Pass1erSession</th>\n",
       "      <th>Distinction</th>\n",
       "      <th>PercFinal</th>\n",
       "    </tr>\n",
       "  </thead>\n",
       "  <tbody>\n",
       "    <tr>\n",
       "      <th>0</th>\n",
       "      <td>45</td>\n",
       "      <td>2013-2014</td>\n",
       "      <td>NaN</td>\n",
       "      <td>AA</td>\n",
       "      <td>NaN</td>\n",
       "      <td>NaN</td>\n",
       "      <td>FPSE</td>\n",
       "      <td>L2</td>\n",
       "      <td>True</td>\n",
       "      <td>False</td>\n",
       "      <td>False</td>\n",
       "      <td>NaN</td>\n",
       "    </tr>\n",
       "    <tr>\n",
       "      <th>1</th>\n",
       "      <td>215</td>\n",
       "      <td>2012-2013</td>\n",
       "      <td>NaN</td>\n",
       "      <td>ADM</td>\n",
       "      <td>63.099998</td>\n",
       "      <td>S</td>\n",
       "      <td>FD</td>\n",
       "      <td>L2</td>\n",
       "      <td>False</td>\n",
       "      <td>False</td>\n",
       "      <td>False</td>\n",
       "      <td>63.099998</td>\n",
       "    </tr>\n",
       "    <tr>\n",
       "      <th>2</th>\n",
       "      <td>343</td>\n",
       "      <td>2015-2016</td>\n",
       "      <td>NaN</td>\n",
       "      <td>AA</td>\n",
       "      <td>52.200001</td>\n",
       "      <td>A</td>\n",
       "      <td>FSEG</td>\n",
       "      <td>G2</td>\n",
       "      <td>True</td>\n",
       "      <td>False</td>\n",
       "      <td>False</td>\n",
       "      <td>52.200001</td>\n",
       "    </tr>\n",
       "    <tr>\n",
       "      <th>3</th>\n",
       "      <td>356</td>\n",
       "      <td>2015-2016</td>\n",
       "      <td>NaN</td>\n",
       "      <td>ADSTM</td>\n",
       "      <td>59.900002</td>\n",
       "      <td>S</td>\n",
       "      <td>FSEG</td>\n",
       "      <td>L2</td>\n",
       "      <td>False</td>\n",
       "      <td>False</td>\n",
       "      <td>False</td>\n",
       "      <td>59.900002</td>\n",
       "    </tr>\n",
       "    <tr>\n",
       "      <th>4</th>\n",
       "      <td>398</td>\n",
       "      <td>2012-2013</td>\n",
       "      <td>65.099998</td>\n",
       "      <td>S</td>\n",
       "      <td>NaN</td>\n",
       "      <td>NaN</td>\n",
       "      <td>FSDC</td>\n",
       "      <td>L2</td>\n",
       "      <td>False</td>\n",
       "      <td>True</td>\n",
       "      <td>False</td>\n",
       "      <td>NaN</td>\n",
       "    </tr>\n",
       "    <tr>\n",
       "      <th>5</th>\n",
       "      <td>429</td>\n",
       "      <td>2013-2014</td>\n",
       "      <td>NaN</td>\n",
       "      <td>AA</td>\n",
       "      <td>NaN</td>\n",
       "      <td>A</td>\n",
       "      <td>FD</td>\n",
       "      <td>G1</td>\n",
       "      <td>True</td>\n",
       "      <td>False</td>\n",
       "      <td>False</td>\n",
       "      <td>NaN</td>\n",
       "    </tr>\n",
       "    <tr>\n",
       "      <th>6</th>\n",
       "      <td>474</td>\n",
       "      <td>2014-2015</td>\n",
       "      <td>NaN</td>\n",
       "      <td>AA</td>\n",
       "      <td>NaN</td>\n",
       "      <td>NaN</td>\n",
       "      <td>FD</td>\n",
       "      <td>G3</td>\n",
       "      <td>True</td>\n",
       "      <td>False</td>\n",
       "      <td>False</td>\n",
       "      <td>NaN</td>\n",
       "    </tr>\n",
       "    <tr>\n",
       "      <th>7</th>\n",
       "      <td>474</td>\n",
       "      <td>2015-2016</td>\n",
       "      <td>62.500000</td>\n",
       "      <td>S</td>\n",
       "      <td>NaN</td>\n",
       "      <td>NaN</td>\n",
       "      <td>FD</td>\n",
       "      <td>G3</td>\n",
       "      <td>False</td>\n",
       "      <td>True</td>\n",
       "      <td>False</td>\n",
       "      <td>NaN</td>\n",
       "    </tr>\n",
       "  </tbody>\n",
       "</table>\n",
       "</div>"
      ],
      "text/plain": [
       "    ID   ACADYEAR      PERC1  MENT1      PERC2 MENT2   FAC PROM  Echec  \\\n",
       "0   45  2013-2014        NaN     AA        NaN   NaN  FPSE   L2   True   \n",
       "1  215  2012-2013        NaN    ADM  63.099998     S    FD   L2  False   \n",
       "2  343  2015-2016        NaN     AA  52.200001     A  FSEG   G2   True   \n",
       "3  356  2015-2016        NaN  ADSTM  59.900002     S  FSEG   L2  False   \n",
       "4  398  2012-2013  65.099998      S        NaN   NaN  FSDC   L2  False   \n",
       "5  429  2013-2014        NaN     AA        NaN     A    FD   G1   True   \n",
       "6  474  2014-2015        NaN     AA        NaN   NaN    FD   G3   True   \n",
       "7  474  2015-2016  62.500000      S        NaN   NaN    FD   G3  False   \n",
       "\n",
       "  Pass1erSession Distinction  PercFinal  \n",
       "0          False       False        NaN  \n",
       "1          False       False  63.099998  \n",
       "2          False       False  52.200001  \n",
       "3          False       False  59.900002  \n",
       "4           True       False        NaN  \n",
       "5          False       False        NaN  \n",
       "6          False       False        NaN  \n",
       "7           True       False        NaN  "
      ]
     },
     "execution_count": 153,
     "metadata": {},
     "output_type": "execute_result"
    }
   ],
   "source": [
    "dataset.head(8)"
   ]
  },
  {
   "cell_type": "markdown",
   "metadata": {},
   "source": [
    "Nous allons remplacer les valeurs manquantes des pourcentage final par un nombre aleatoire symbolisant l'echec"
   ]
  },
  {
   "cell_type": "code",
   "execution_count": 122,
   "metadata": {
    "scrolled": false
   },
   "outputs": [
    {
     "data": {
      "text/plain": [
       "D         268\n",
       "AA         74\n",
       "ADSTM       7\n",
       "GD          7\n",
       "A           5\n",
       "ADM         4\n",
       "ADTFC       4\n",
       "ADSTFC      2\n",
       "ADST        1\n",
       "Name: MENT1, dtype: int64"
      ]
     },
     "execution_count": 122,
     "metadata": {},
     "output_type": "execute_result"
    }
   ],
   "source": [
    "dataset.loc[dataset.Distinction][['PERC1','PERC2','PercFinal','MENT1','MENT2']].MENT1.value_counts()"
   ]
  },
  {
   "cell_type": "code",
   "execution_count": null,
   "metadata": {
    "collapsed": true
   },
   "outputs": [],
   "source": [
    "Verifions encore"
   ]
  },
  {
   "cell_type": "code",
   "execution_count": 172,
   "metadata": {
    "scrolled": true
   },
   "outputs": [
    {
     "data": {
      "text/plain": [
       "AA        515\n",
       "A         485\n",
       "NAF        46\n",
       "ADM        23\n",
       "ADSTM      19\n",
       "ADTFC       5\n",
       "ADST        5\n",
       "ANAF        3\n",
       "AR          2\n",
       "ADSTFC      2\n",
       "Name: MENT2, dtype: int64"
      ]
     },
     "execution_count": 172,
     "metadata": {},
     "output_type": "execute_result"
    }
   ],
   "source": [
    "dataset.loc[np.isnan(dataset.PercFinal)]['MENT2'].value_counts()"
   ]
  },
  {
   "cell_type": "code",
   "execution_count": 173,
   "metadata": {
    "collapsed": true
   },
   "outputs": [],
   "source": [
    "dataset.PercFinal=dataset.PercFinal.apply(lambda x: np.random.choice([x for x in range(40,50)]) if (np.isnan(x)) else x)"
   ]
  },
  {
   "cell_type": "code",
   "execution_count": 174,
   "metadata": {
    "scrolled": true
   },
   "outputs": [
    {
     "data": {
      "text/html": [
       "<div>\n",
       "<table border=\"1\" class=\"dataframe\">\n",
       "  <thead>\n",
       "    <tr style=\"text-align: right;\">\n",
       "      <th></th>\n",
       "      <th>ID</th>\n",
       "      <th>ACADYEAR</th>\n",
       "      <th>PERC1</th>\n",
       "      <th>MENT1</th>\n",
       "      <th>PERC2</th>\n",
       "      <th>MENT2</th>\n",
       "      <th>FAC</th>\n",
       "      <th>PROM</th>\n",
       "      <th>Echec</th>\n",
       "      <th>Pass1erSession</th>\n",
       "      <th>Distinction</th>\n",
       "      <th>PercFinal</th>\n",
       "    </tr>\n",
       "  </thead>\n",
       "  <tbody>\n",
       "    <tr>\n",
       "      <th>0</th>\n",
       "      <td>45</td>\n",
       "      <td>2013-2014</td>\n",
       "      <td>NaN</td>\n",
       "      <td>AA</td>\n",
       "      <td>NaN</td>\n",
       "      <td>NaN</td>\n",
       "      <td>FPSE</td>\n",
       "      <td>L2</td>\n",
       "      <td>True</td>\n",
       "      <td>False</td>\n",
       "      <td>False</td>\n",
       "      <td>43.000000</td>\n",
       "    </tr>\n",
       "    <tr>\n",
       "      <th>1</th>\n",
       "      <td>215</td>\n",
       "      <td>2012-2013</td>\n",
       "      <td>NaN</td>\n",
       "      <td>ADM</td>\n",
       "      <td>63.099998</td>\n",
       "      <td>S</td>\n",
       "      <td>FD</td>\n",
       "      <td>L2</td>\n",
       "      <td>False</td>\n",
       "      <td>False</td>\n",
       "      <td>False</td>\n",
       "      <td>63.099998</td>\n",
       "    </tr>\n",
       "    <tr>\n",
       "      <th>2</th>\n",
       "      <td>343</td>\n",
       "      <td>2015-2016</td>\n",
       "      <td>NaN</td>\n",
       "      <td>AA</td>\n",
       "      <td>52.200001</td>\n",
       "      <td>A</td>\n",
       "      <td>FSEG</td>\n",
       "      <td>G2</td>\n",
       "      <td>True</td>\n",
       "      <td>False</td>\n",
       "      <td>False</td>\n",
       "      <td>52.200001</td>\n",
       "    </tr>\n",
       "    <tr>\n",
       "      <th>3</th>\n",
       "      <td>356</td>\n",
       "      <td>2015-2016</td>\n",
       "      <td>NaN</td>\n",
       "      <td>ADSTM</td>\n",
       "      <td>59.900002</td>\n",
       "      <td>S</td>\n",
       "      <td>FSEG</td>\n",
       "      <td>L2</td>\n",
       "      <td>False</td>\n",
       "      <td>False</td>\n",
       "      <td>False</td>\n",
       "      <td>59.900002</td>\n",
       "    </tr>\n",
       "    <tr>\n",
       "      <th>4</th>\n",
       "      <td>398</td>\n",
       "      <td>2012-2013</td>\n",
       "      <td>65.099998</td>\n",
       "      <td>S</td>\n",
       "      <td>NaN</td>\n",
       "      <td>NaN</td>\n",
       "      <td>FSDC</td>\n",
       "      <td>L2</td>\n",
       "      <td>False</td>\n",
       "      <td>True</td>\n",
       "      <td>False</td>\n",
       "      <td>65.099998</td>\n",
       "    </tr>\n",
       "    <tr>\n",
       "      <th>5</th>\n",
       "      <td>429</td>\n",
       "      <td>2013-2014</td>\n",
       "      <td>NaN</td>\n",
       "      <td>AA</td>\n",
       "      <td>NaN</td>\n",
       "      <td>A</td>\n",
       "      <td>FD</td>\n",
       "      <td>G1</td>\n",
       "      <td>True</td>\n",
       "      <td>False</td>\n",
       "      <td>False</td>\n",
       "      <td>41.000000</td>\n",
       "    </tr>\n",
       "    <tr>\n",
       "      <th>6</th>\n",
       "      <td>474</td>\n",
       "      <td>2014-2015</td>\n",
       "      <td>NaN</td>\n",
       "      <td>AA</td>\n",
       "      <td>NaN</td>\n",
       "      <td>NaN</td>\n",
       "      <td>FD</td>\n",
       "      <td>G3</td>\n",
       "      <td>True</td>\n",
       "      <td>False</td>\n",
       "      <td>False</td>\n",
       "      <td>46.000000</td>\n",
       "    </tr>\n",
       "    <tr>\n",
       "      <th>7</th>\n",
       "      <td>474</td>\n",
       "      <td>2015-2016</td>\n",
       "      <td>62.500000</td>\n",
       "      <td>S</td>\n",
       "      <td>NaN</td>\n",
       "      <td>NaN</td>\n",
       "      <td>FD</td>\n",
       "      <td>G3</td>\n",
       "      <td>False</td>\n",
       "      <td>True</td>\n",
       "      <td>False</td>\n",
       "      <td>62.500000</td>\n",
       "    </tr>\n",
       "  </tbody>\n",
       "</table>\n",
       "</div>"
      ],
      "text/plain": [
       "    ID   ACADYEAR      PERC1  MENT1      PERC2 MENT2   FAC PROM  Echec  \\\n",
       "0   45  2013-2014        NaN     AA        NaN   NaN  FPSE   L2   True   \n",
       "1  215  2012-2013        NaN    ADM  63.099998     S    FD   L2  False   \n",
       "2  343  2015-2016        NaN     AA  52.200001     A  FSEG   G2   True   \n",
       "3  356  2015-2016        NaN  ADSTM  59.900002     S  FSEG   L2  False   \n",
       "4  398  2012-2013  65.099998      S        NaN   NaN  FSDC   L2  False   \n",
       "5  429  2013-2014        NaN     AA        NaN     A    FD   G1   True   \n",
       "6  474  2014-2015        NaN     AA        NaN   NaN    FD   G3   True   \n",
       "7  474  2015-2016  62.500000      S        NaN   NaN    FD   G3  False   \n",
       "\n",
       "  Pass1erSession Distinction  PercFinal  \n",
       "0          False       False  43.000000  \n",
       "1          False       False  63.099998  \n",
       "2          False       False  52.200001  \n",
       "3          False       False  59.900002  \n",
       "4           True       False  65.099998  \n",
       "5          False       False  41.000000  \n",
       "6          False       False  46.000000  \n",
       "7           True       False  62.500000  "
      ]
     },
     "execution_count": 174,
     "metadata": {},
     "output_type": "execute_result"
    }
   ],
   "source": [
    "dataset.head(8)"
   ]
  },
  {
   "cell_type": "markdown",
   "metadata": {},
   "source": [
    "Nous venons de finir le calcul de nos metriques  d'evaluations groupons enfin les metriques pour l'étudiant m"
   ]
  },
  {
   "cell_type": "code",
   "execution_count": 175,
   "metadata": {
    "collapsed": true
   },
   "outputs": [],
   "source": [
    " def f(x):\n",
    "    A=list(x['Echec'])\n",
    "    D=list(x['Distinction'])\n",
    "    S1=list(x['Pass1erSession'])\n",
    "    Nbre=float(len(x['ACADYEAR']))\n",
    "    return pd.Series(dict(\n",
    "     EchecRatio=int(A.count(True))/Nbre,\n",
    "     DistinctionRatio=int(D.count(True))/Nbre,\n",
    "     Pass1stSessionRatio=int(S1.count(True))/Nbre,\n",
    "     CGPA=np.mean(x['PercFinal']),\n",
    "     NACADYEAR=int(Nbre)\n",
    "    ))"
   ]
  },
  {
   "cell_type": "code",
   "execution_count": 230,
   "metadata": {},
   "outputs": [],
   "source": [
    "datasetRatio=dataset.groupby('ID').apply(f).reset_index()"
   ]
  },
  {
   "cell_type": "code",
   "execution_count": 231,
   "metadata": {
    "scrolled": false
   },
   "outputs": [
    {
     "data": {
      "text/html": [
       "<div>\n",
       "<table border=\"1\" class=\"dataframe\">\n",
       "  <thead>\n",
       "    <tr style=\"text-align: right;\">\n",
       "      <th></th>\n",
       "      <th>ID</th>\n",
       "      <th>CGPA</th>\n",
       "      <th>DistinctionRatio</th>\n",
       "      <th>EchecRatio</th>\n",
       "      <th>NACADYEAR</th>\n",
       "      <th>Pass1stSessionRatio</th>\n",
       "    </tr>\n",
       "  </thead>\n",
       "  <tbody>\n",
       "    <tr>\n",
       "      <th>0</th>\n",
       "      <td>45</td>\n",
       "      <td>43.000000</td>\n",
       "      <td>0.0</td>\n",
       "      <td>1.0</td>\n",
       "      <td>1.0</td>\n",
       "      <td>0.0</td>\n",
       "    </tr>\n",
       "    <tr>\n",
       "      <th>1</th>\n",
       "      <td>215</td>\n",
       "      <td>63.099998</td>\n",
       "      <td>0.0</td>\n",
       "      <td>0.0</td>\n",
       "      <td>1.0</td>\n",
       "      <td>0.0</td>\n",
       "    </tr>\n",
       "    <tr>\n",
       "      <th>2</th>\n",
       "      <td>343</td>\n",
       "      <td>52.200001</td>\n",
       "      <td>0.0</td>\n",
       "      <td>1.0</td>\n",
       "      <td>1.0</td>\n",
       "      <td>0.0</td>\n",
       "    </tr>\n",
       "    <tr>\n",
       "      <th>3</th>\n",
       "      <td>356</td>\n",
       "      <td>59.900002</td>\n",
       "      <td>0.0</td>\n",
       "      <td>0.0</td>\n",
       "      <td>1.0</td>\n",
       "      <td>0.0</td>\n",
       "    </tr>\n",
       "    <tr>\n",
       "      <th>4</th>\n",
       "      <td>398</td>\n",
       "      <td>65.099998</td>\n",
       "      <td>0.0</td>\n",
       "      <td>0.0</td>\n",
       "      <td>1.0</td>\n",
       "      <td>1.0</td>\n",
       "    </tr>\n",
       "    <tr>\n",
       "      <th>5</th>\n",
       "      <td>429</td>\n",
       "      <td>41.000000</td>\n",
       "      <td>0.0</td>\n",
       "      <td>1.0</td>\n",
       "      <td>1.0</td>\n",
       "      <td>0.0</td>\n",
       "    </tr>\n",
       "    <tr>\n",
       "      <th>6</th>\n",
       "      <td>474</td>\n",
       "      <td>54.250000</td>\n",
       "      <td>0.0</td>\n",
       "      <td>0.5</td>\n",
       "      <td>2.0</td>\n",
       "      <td>0.5</td>\n",
       "    </tr>\n",
       "    <tr>\n",
       "      <th>7</th>\n",
       "      <td>526</td>\n",
       "      <td>65.000000</td>\n",
       "      <td>0.0</td>\n",
       "      <td>0.0</td>\n",
       "      <td>1.0</td>\n",
       "      <td>1.0</td>\n",
       "    </tr>\n",
       "  </tbody>\n",
       "</table>\n",
       "</div>"
      ],
      "text/plain": [
       "    ID       CGPA  DistinctionRatio  EchecRatio  NACADYEAR  \\\n",
       "0   45  43.000000               0.0         1.0        1.0   \n",
       "1  215  63.099998               0.0         0.0        1.0   \n",
       "2  343  52.200001               0.0         1.0        1.0   \n",
       "3  356  59.900002               0.0         0.0        1.0   \n",
       "4  398  65.099998               0.0         0.0        1.0   \n",
       "5  429  41.000000               0.0         1.0        1.0   \n",
       "6  474  54.250000               0.0         0.5        2.0   \n",
       "7  526  65.000000               0.0         0.0        1.0   \n",
       "\n",
       "   Pass1stSessionRatio  \n",
       "0                  0.0  \n",
       "1                  0.0  \n",
       "2                  0.0  \n",
       "3                  0.0  \n",
       "4                  1.0  \n",
       "5                  0.0  \n",
       "6                  0.5  \n",
       "7                  1.0  "
      ]
     },
     "execution_count": 231,
     "metadata": {},
     "output_type": "execute_result"
    }
   ],
   "source": [
    "datasetRatio.head(8)"
   ]
  },
  {
   "cell_type": "code",
   "execution_count": 212,
   "metadata": {
    "scrolled": false
   },
   "outputs": [
    {
     "data": {
      "text/html": [
       "<div>\n",
       "<table border=\"1\" class=\"dataframe\">\n",
       "  <thead>\n",
       "    <tr style=\"text-align: right;\">\n",
       "      <th></th>\n",
       "      <th>ID</th>\n",
       "      <th>CGPA</th>\n",
       "      <th>DistinctionRatio</th>\n",
       "      <th>EchecRatio</th>\n",
       "      <th>NACADYEAR</th>\n",
       "      <th>Pass1stSessionRatio</th>\n",
       "    </tr>\n",
       "  </thead>\n",
       "  <tbody>\n",
       "    <tr>\n",
       "      <th>211</th>\n",
       "      <td>4091</td>\n",
       "      <td>72.199999</td>\n",
       "      <td>1.0</td>\n",
       "      <td>0.0</td>\n",
       "      <td>3.0</td>\n",
       "      <td>0.000000</td>\n",
       "    </tr>\n",
       "    <tr>\n",
       "      <th>671</th>\n",
       "      <td>5178</td>\n",
       "      <td>71.533333</td>\n",
       "      <td>1.0</td>\n",
       "      <td>0.0</td>\n",
       "      <td>3.0</td>\n",
       "      <td>0.666667</td>\n",
       "    </tr>\n",
       "    <tr>\n",
       "      <th>1095</th>\n",
       "      <td>6914</td>\n",
       "      <td>74.900002</td>\n",
       "      <td>1.0</td>\n",
       "      <td>0.0</td>\n",
       "      <td>3.0</td>\n",
       "      <td>1.000000</td>\n",
       "    </tr>\n",
       "    <tr>\n",
       "      <th>1928</th>\n",
       "      <td>8498</td>\n",
       "      <td>72.433334</td>\n",
       "      <td>1.0</td>\n",
       "      <td>0.0</td>\n",
       "      <td>3.0</td>\n",
       "      <td>1.000000</td>\n",
       "    </tr>\n",
       "    <tr>\n",
       "      <th>2364</th>\n",
       "      <td>9048</td>\n",
       "      <td>71.733332</td>\n",
       "      <td>1.0</td>\n",
       "      <td>0.0</td>\n",
       "      <td>3.0</td>\n",
       "      <td>0.333333</td>\n",
       "    </tr>\n",
       "    <tr>\n",
       "      <th>2393</th>\n",
       "      <td>9078</td>\n",
       "      <td>80.766665</td>\n",
       "      <td>1.0</td>\n",
       "      <td>0.0</td>\n",
       "      <td>3.0</td>\n",
       "      <td>1.000000</td>\n",
       "    </tr>\n",
       "    <tr>\n",
       "      <th>2830</th>\n",
       "      <td>9527</td>\n",
       "      <td>75.866666</td>\n",
       "      <td>1.0</td>\n",
       "      <td>0.0</td>\n",
       "      <td>3.0</td>\n",
       "      <td>1.000000</td>\n",
       "    </tr>\n",
       "  </tbody>\n",
       "</table>\n",
       "</div>"
      ],
      "text/plain": [
       "        ID       CGPA  DistinctionRatio  EchecRatio  NACADYEAR  \\\n",
       "211   4091  72.199999               1.0         0.0        3.0   \n",
       "671   5178  71.533333               1.0         0.0        3.0   \n",
       "1095  6914  74.900002               1.0         0.0        3.0   \n",
       "1928  8498  72.433334               1.0         0.0        3.0   \n",
       "2364  9048  71.733332               1.0         0.0        3.0   \n",
       "2393  9078  80.766665               1.0         0.0        3.0   \n",
       "2830  9527  75.866666               1.0         0.0        3.0   \n",
       "\n",
       "      Pass1stSessionRatio  \n",
       "211              0.000000  \n",
       "671              0.666667  \n",
       "1095             1.000000  \n",
       "1928             1.000000  \n",
       "2364             0.333333  \n",
       "2393             1.000000  \n",
       "2830             1.000000  "
      ]
     },
     "execution_count": 212,
     "metadata": {},
     "output_type": "execute_result"
    }
   ],
   "source": [
    "datasetRatio.loc[operator.and_(datasetRatio.DistinctionRatio == 1 , datasetRatio.NACADYEAR==3)]"
   ]
  },
  {
   "cell_type": "code",
   "execution_count": 213,
   "metadata": {
    "scrolled": true
   },
   "outputs": [
    {
     "data": {
      "text/html": [
       "<div>\n",
       "<table border=\"1\" class=\"dataframe\">\n",
       "  <thead>\n",
       "    <tr style=\"text-align: right;\">\n",
       "      <th></th>\n",
       "      <th>ID</th>\n",
       "      <th>ACADYEAR</th>\n",
       "      <th>PERC1</th>\n",
       "      <th>MENT1</th>\n",
       "      <th>PERC2</th>\n",
       "      <th>MENT2</th>\n",
       "      <th>FAC</th>\n",
       "      <th>PROM</th>\n",
       "      <th>Echec</th>\n",
       "      <th>Pass1erSession</th>\n",
       "      <th>Distinction</th>\n",
       "      <th>PercFinal</th>\n",
       "    </tr>\n",
       "  </thead>\n",
       "  <tbody>\n",
       "    <tr>\n",
       "      <th>5311</th>\n",
       "      <td>9078</td>\n",
       "      <td>2013-2014</td>\n",
       "      <td>80.199997</td>\n",
       "      <td>GD</td>\n",
       "      <td>NaN</td>\n",
       "      <td>NaN</td>\n",
       "      <td>FSTA</td>\n",
       "      <td>G0</td>\n",
       "      <td>False</td>\n",
       "      <td>True</td>\n",
       "      <td>True</td>\n",
       "      <td>80.199997</td>\n",
       "    </tr>\n",
       "    <tr>\n",
       "      <th>5312</th>\n",
       "      <td>9078</td>\n",
       "      <td>2014-2015</td>\n",
       "      <td>82.699997</td>\n",
       "      <td>GD</td>\n",
       "      <td>NaN</td>\n",
       "      <td>NaN</td>\n",
       "      <td>FSTA</td>\n",
       "      <td>G1</td>\n",
       "      <td>False</td>\n",
       "      <td>True</td>\n",
       "      <td>True</td>\n",
       "      <td>82.699997</td>\n",
       "    </tr>\n",
       "    <tr>\n",
       "      <th>5313</th>\n",
       "      <td>9078</td>\n",
       "      <td>2015-2016</td>\n",
       "      <td>79.400002</td>\n",
       "      <td>D</td>\n",
       "      <td>NaN</td>\n",
       "      <td>NaN</td>\n",
       "      <td>FSTA</td>\n",
       "      <td>G2</td>\n",
       "      <td>False</td>\n",
       "      <td>True</td>\n",
       "      <td>True</td>\n",
       "      <td>79.400002</td>\n",
       "    </tr>\n",
       "  </tbody>\n",
       "</table>\n",
       "</div>"
      ],
      "text/plain": [
       "        ID   ACADYEAR      PERC1 MENT1  PERC2 MENT2   FAC PROM  Echec  \\\n",
       "5311  9078  2013-2014  80.199997    GD    NaN   NaN  FSTA   G0  False   \n",
       "5312  9078  2014-2015  82.699997    GD    NaN   NaN  FSTA   G1  False   \n",
       "5313  9078  2015-2016  79.400002     D    NaN   NaN  FSTA   G2  False   \n",
       "\n",
       "     Pass1erSession Distinction  PercFinal  \n",
       "5311           True        True  80.199997  \n",
       "5312           True        True  82.699997  \n",
       "5313           True        True  79.400002  "
      ]
     },
     "execution_count": 213,
     "metadata": {},
     "output_type": "execute_result"
    }
   ],
   "source": [
    "dataset.loc[dataset.ID==9078]"
   ]
  },
  {
   "cell_type": "markdown",
   "metadata": {},
   "source": [
    "Le modèle est parfait Nous pouvons maintenant passer à l'analyse des données de sortie Pour nous 2 ensembles d'apprentissage"
   ]
  },
  {
   "cell_type": "code",
   "execution_count": 233,
   "metadata": {
    "collapsed": true
   },
   "outputs": [],
   "source": [
    "dataset.to_csv('DatasetOutV2.csv')\n",
    "datasetRatio.to_csv('DatasetOutRatioV1.csv')"
   ]
  },
  {
   "cell_type": "code",
   "execution_count": 247,
   "metadata": {
    "scrolled": true
   },
   "outputs": [],
   "source": [
    "datasetRatio=pd.read_csv('DatasetOutRatioV1.csv',index_col='Unnamed: 0')"
   ]
  },
  {
   "cell_type": "code",
   "execution_count": 237,
   "metadata": {},
   "outputs": [
    {
     "data": {
      "text/html": [
       "<div>\n",
       "<table border=\"1\" class=\"dataframe\">\n",
       "  <thead>\n",
       "    <tr style=\"text-align: right;\">\n",
       "      <th></th>\n",
       "      <th>ID</th>\n",
       "      <th>CGPA</th>\n",
       "      <th>DistinctionRatio</th>\n",
       "      <th>EchecRatio</th>\n",
       "      <th>NACADYEAR</th>\n",
       "      <th>Pass1stSessionRatio</th>\n",
       "    </tr>\n",
       "  </thead>\n",
       "  <tbody>\n",
       "    <tr>\n",
       "      <th>0</th>\n",
       "      <td>45</td>\n",
       "      <td>43.0</td>\n",
       "      <td>0.0</td>\n",
       "      <td>1.0</td>\n",
       "      <td>1.0</td>\n",
       "      <td>0.0</td>\n",
       "    </tr>\n",
       "  </tbody>\n",
       "</table>\n",
       "</div>"
      ],
      "text/plain": [
       "   ID  CGPA  DistinctionRatio  EchecRatio  NACADYEAR  Pass1stSessionRatio\n",
       "0  45  43.0               0.0         1.0        1.0                  0.0"
      ]
     },
     "execution_count": 237,
     "metadata": {},
     "output_type": "execute_result"
    }
   ],
   "source": [
    "datasetRatio.head(1)"
   ]
  },
  {
   "cell_type": "markdown",
   "metadata": {},
   "source": [
    "## Analyse des données en entré Vs Donnnées en Sortie "
   ]
  },
  {
   "cell_type": "markdown",
   "metadata": {},
   "source": [
    "Nous allons effectuer maintenat une analyse bi varié des données en entrée VS les donnes en sortie et expliquer nos données de sortie"
   ]
  },
  {
   "cell_type": "markdown",
   "metadata": {},
   "source": [
    "Nous venons d'avoir notre ensemble d'apprentissage de sortie et disons que notre sortie comprend que notre ensemble comprend non pas un seul variable de sortie mais 4 variable de sortie qui sont :\n",
    "\n",
    "- Le CGPA : La moyenne des points obtenus au cours d'une années académique\n",
    "- DistinctionRatio : Le nombre de fois que l'etudiant a distinctigué divisé par le nombre des années academique\n",
    "- EchecRatio : Le nombre de fois que l'etudiant a échoué divisé par le nombre des années academique\n",
    "- PassAstSessionRatio : Le nombre de fois que l'etudiant est passée en prèmiere session divisé par le nombre des années academique\n"
   ]
  },
  {
   "cell_type": "markdown",
   "metadata": {},
   "source": [
    "Nos 3 dernier ration sont des nombres variant qui peuvent prendre ses differents valeurs :\n",
    "    - 0 :signifie que l'etudiant a un ration de 0\n",
    "    - 1 :signifie ration: 1/1,2/2,3/3,4/4\n",
    "    -0.25 : 1/4\n",
    "    -0.3333: 1/3\n",
    "    -0.5:2/4 ou 1/2\n",
    "    -0.66666 :2/3\n",
    "    -0.75:3/4\n",
    "Nous allons apprenhender ce probleme en terme de classification donc nous allons affecter des lettre à ces ration:\n",
    "    - 0: G\n",
    "    - 1:A\n",
    "    - 0.25 : F\n",
    "    - 0.333:E\n",
    "    - 0.5:D\n",
    "    - 0.666:C\n",
    "    - 0.75:B\n",
    "qui correspond au classe respectif!\n",
    "\n",
    "    "
   ]
  },
  {
   "cell_type": "code",
   "execution_count": 215,
   "metadata": {
    "scrolled": true
   },
   "outputs": [
    {
     "data": {
      "text/plain": [
       "Index([u'ID', u'CGPA', u'DistinctionRatio', u'EchecRatio', u'NACADYEAR',\n",
       "       u'Pass1stSessionRatio'],\n",
       "      dtype='object')"
      ]
     },
     "execution_count": 215,
     "metadata": {},
     "output_type": "execute_result"
    }
   ],
   "source": [
    "datasetRatio.columns"
   ]
  },
  {
   "cell_type": "code",
   "execution_count": 257,
   "metadata": {
    "scrolled": false
   },
   "outputs": [],
   "source": [
    "datasetRatio.loc[datasetRatio.EchecRatio==0.0,'EchecRatio']='G'\n",
    "datasetRatio.loc[datasetRatio.EchecRatio==1.0,'EchecRatio']='A'\n",
    "datasetRatio.loc[datasetRatio.EchecRatio==1.0/4.0,'EchecRatio']='F'\n",
    "datasetRatio.loc[datasetRatio.EchecRatio==0.333333333333,'EchecRatio']='E'\n",
    "datasetRatio.loc[datasetRatio.EchecRatio==2.0/4.0,'EchecRatio']='D'\n",
    "datasetRatio.loc[datasetRatio.EchecRatio==0.666666666667,'EchecRatio']='C'\n",
    "datasetRatio.loc[datasetRatio.EchecRatio==3.0/4,'EchecRatio']='B'"
   ]
  },
  {
   "cell_type": "code",
   "execution_count": 258,
   "metadata": {},
   "outputs": [],
   "source": [
    "datasetRatio.loc[datasetRatio.DistinctionRatio==0.0,'DistinctionRatio']='G'\n",
    "datasetRatio.loc[datasetRatio.DistinctionRatio==1.0,'DistinctionRatio']='A'\n",
    "datasetRatio.loc[datasetRatio.DistinctionRatio==1.0/4.0,'DistinctionRatio']='F'\n",
    "datasetRatio.loc[datasetRatio.DistinctionRatio==0.333333333333,'DistinctionRatio']='E'\n",
    "datasetRatio.loc[datasetRatio.DistinctionRatio==2.0/4.0,'DistinctionRatio']='D'\n",
    "datasetRatio.loc[datasetRatio.DistinctionRatio==0.666666666667,'DistinctionRatio']='C'\n",
    "datasetRatio.loc[datasetRatio.DistinctionRatio==3.0/4,'DistinctionRatio']='B'"
   ]
  },
  {
   "cell_type": "code",
   "execution_count": 264,
   "metadata": {},
   "outputs": [],
   "source": [
    "datasetRatio.loc[datasetRatio.Pass1stSessionRatio==0.0,'Pass1stSessionRatio']='G'\n",
    "datasetRatio.loc[datasetRatio.Pass1stSessionRatio==1.0,'Pass1stSessionRatio']='A'\n",
    "datasetRatio.loc[datasetRatio.Pass1stSessionRatio==1.0/4.0,'Pass1stSessionRatio']='F'\n",
    "datasetRatio.loc[datasetRatio.Pass1stSessionRatio==0.333333333333,'Pass1stSessionRatio']='E'\n",
    "datasetRatio.loc[datasetRatio.Pass1stSessionRatio==2.0/4.0,'Pass1stSessionRatio']='D'\n",
    "datasetRatio.loc[datasetRatio.Pass1stSessionRatio==0.666666666667,'Pass1stSessionRatio']='C'\n",
    "datasetRatio.loc[datasetRatio.Pass1stSessionRatio==3.0/4,'Pass1stSessionRatio']='B'"
   ]
  },
  {
   "cell_type": "code",
   "execution_count": 263,
   "metadata": {
    "scrolled": true
   },
   "outputs": [
    {
     "data": {
      "text/html": [
       "<div>\n",
       "<table border=\"1\" class=\"dataframe\">\n",
       "  <thead>\n",
       "    <tr style=\"text-align: right;\">\n",
       "      <th></th>\n",
       "      <th>ID</th>\n",
       "      <th>CGPA</th>\n",
       "      <th>DistinctionRatio</th>\n",
       "      <th>EchecRatio</th>\n",
       "      <th>NACADYEAR</th>\n",
       "      <th>Pass1stSessionRatio</th>\n",
       "    </tr>\n",
       "  </thead>\n",
       "  <tbody>\n",
       "    <tr>\n",
       "      <th>0</th>\n",
       "      <td>45</td>\n",
       "      <td>43.000000</td>\n",
       "      <td>G</td>\n",
       "      <td>A</td>\n",
       "      <td>1.0</td>\n",
       "      <td>G</td>\n",
       "    </tr>\n",
       "    <tr>\n",
       "      <th>1</th>\n",
       "      <td>215</td>\n",
       "      <td>63.099998</td>\n",
       "      <td>G</td>\n",
       "      <td>G</td>\n",
       "      <td>1.0</td>\n",
       "      <td>G</td>\n",
       "    </tr>\n",
       "    <tr>\n",
       "      <th>2</th>\n",
       "      <td>343</td>\n",
       "      <td>52.200001</td>\n",
       "      <td>G</td>\n",
       "      <td>A</td>\n",
       "      <td>1.0</td>\n",
       "      <td>G</td>\n",
       "    </tr>\n",
       "    <tr>\n",
       "      <th>3</th>\n",
       "      <td>356</td>\n",
       "      <td>59.900002</td>\n",
       "      <td>G</td>\n",
       "      <td>G</td>\n",
       "      <td>1.0</td>\n",
       "      <td>G</td>\n",
       "    </tr>\n",
       "    <tr>\n",
       "      <th>4</th>\n",
       "      <td>398</td>\n",
       "      <td>65.099998</td>\n",
       "      <td>G</td>\n",
       "      <td>G</td>\n",
       "      <td>1.0</td>\n",
       "      <td>A</td>\n",
       "    </tr>\n",
       "    <tr>\n",
       "      <th>5</th>\n",
       "      <td>429</td>\n",
       "      <td>41.000000</td>\n",
       "      <td>G</td>\n",
       "      <td>A</td>\n",
       "      <td>1.0</td>\n",
       "      <td>G</td>\n",
       "    </tr>\n",
       "    <tr>\n",
       "      <th>6</th>\n",
       "      <td>474</td>\n",
       "      <td>54.250000</td>\n",
       "      <td>G</td>\n",
       "      <td>D</td>\n",
       "      <td>2.0</td>\n",
       "      <td>D</td>\n",
       "    </tr>\n",
       "    <tr>\n",
       "      <th>7</th>\n",
       "      <td>526</td>\n",
       "      <td>65.000000</td>\n",
       "      <td>G</td>\n",
       "      <td>G</td>\n",
       "      <td>1.0</td>\n",
       "      <td>A</td>\n",
       "    </tr>\n",
       "  </tbody>\n",
       "</table>\n",
       "</div>"
      ],
      "text/plain": [
       "    ID       CGPA DistinctionRatio EchecRatio  NACADYEAR Pass1stSessionRatio\n",
       "0   45  43.000000                G          A        1.0                   G\n",
       "1  215  63.099998                G          G        1.0                   G\n",
       "2  343  52.200001                G          A        1.0                   G\n",
       "3  356  59.900002                G          G        1.0                   G\n",
       "4  398  65.099998                G          G        1.0                   A\n",
       "5  429  41.000000                G          A        1.0                   G\n",
       "6  474  54.250000                G          D        2.0                   D\n",
       "7  526  65.000000                G          G        1.0                   A"
      ]
     },
     "execution_count": 263,
     "metadata": {},
     "output_type": "execute_result"
    }
   ],
   "source": [
    "datasetRatio.head(8)"
   ]
  },
  {
   "cell_type": "code",
   "execution_count": null,
   "metadata": {
    "collapsed": true
   },
   "outputs": [],
   "source": [
    "datasetRatio.loc[datasetRatio.EchecRatio==0.0,'EchecRatio']='G'\n",
    "datasetRatio.loc[datasetRatio.EchecRatio==1.0,'EchecRatio']='A'\n",
    "datasetRatio.loc[datasetRatio.EchecRatio==1.0/4.0,'EchecRatio']='F'\n",
    "datasetRatio.loc[datasetRatio.EchecRatio==1.0/3.0,'EchecRatio']='E'\n",
    "datasetRatio.loc[datasetRatio.EchecRatio==2.0/4.0,'EchecRatio']='D'\n",
    "datasetRatio.loc[datasetRatio.EchecRatio==2.0/3.0,'EchecRatio']='C'\n",
    "datasetRatio.loc[datasetRatio.EchecRatio==3.0/4,'EchecRatio']='B'"
   ]
  },
  {
   "cell_type": "markdown",
   "metadata": {},
   "source": [
    "Combinons maitenant notre ensemble d'entre  avec notre ensemble de sortie"
   ]
  },
  {
   "cell_type": "code",
   "execution_count": 284,
   "metadata": {
    "scrolled": false
   },
   "outputs": [
    {
     "data": {
      "text/plain": [
       "DistinctionRatio\n",
       "A    73.105980\n",
       "B    71.425000\n",
       "C    69.649275\n",
       "D    68.470455\n",
       "E    66.661364\n",
       "F    65.686905\n",
       "G    56.424207\n",
       "Name: CGPA, dtype: float64"
      ]
     },
     "execution_count": 284,
     "metadata": {},
     "output_type": "execute_result"
    }
   ],
   "source": [
    "datasetRatio.groupby('DistinctionRatio')['CGPA'].mean()"
   ]
  },
  {
   "cell_type": "code",
   "execution_count": 283,
   "metadata": {
    "scrolled": false
   },
   "outputs": [],
   "source": [
    "datasetRatio.loc[datasetRatio.DistinctionRatio<=0.333333333333,'DistinctionRatio']='E'\n"
   ]
  },
  {
   "cell_type": "code",
   "execution_count": 285,
   "metadata": {
    "collapsed": true
   },
   "outputs": [],
   "source": [
    "datasetRatio.loc[datasetRatio.Pass1stSessionRatio<=0.333333333333,'Pass1stSessionRatio']='E'"
   ]
  },
  {
   "cell_type": "code",
   "execution_count": 289,
   "metadata": {
    "collapsed": true
   },
   "outputs": [],
   "source": [
    "datasetRatio.loc[datasetRatio.EchecRatio<=0.333333333333,'EchecRatio']='E'"
   ]
  },
  {
   "cell_type": "code",
   "execution_count": 287,
   "metadata": {},
   "outputs": [
    {
     "data": {
      "text/plain": [
       "Pass1stSessionRatio\n",
       "A    64.332685\n",
       "B    64.482927\n",
       "C    62.619497\n",
       "D    62.164337\n",
       "E    60.775089\n",
       "F    60.152778\n",
       "G    54.513650\n",
       "Name: CGPA, dtype: float64"
      ]
     },
     "execution_count": 287,
     "metadata": {},
     "output_type": "execute_result"
    }
   ],
   "source": [
    "datasetRatio.groupby('Pass1stSessionRatio')['CGPA'].mean()"
   ]
  },
  {
   "cell_type": "code",
   "execution_count": 290,
   "metadata": {
    "scrolled": false
   },
   "outputs": [
    {
     "data": {
      "text/plain": [
       "EchecRatio\n",
       "A    45.826616\n",
       "C    51.176271\n",
       "D    52.975986\n",
       "E    55.368557\n",
       "F    58.668333\n",
       "G    61.003406\n",
       "Name: CGPA, dtype: float64"
      ]
     },
     "execution_count": 290,
     "metadata": {},
     "output_type": "execute_result"
    }
   ],
   "source": [
    "datasetRatio.groupby('EchecRatio')['CGPA'].mean()"
   ]
  },
  {
   "cell_type": "markdown",
   "metadata": {},
   "source": [
    "Nous venos de voir la repartion des moyenne des GPA dans les les categoriesn de nos differentes valeurs des differentes mentions"
   ]
  },
  {
   "cell_type": "markdown",
   "metadata": {},
   "source": [
    "Passons maitenant a l'analyse des nos valeurs d'entrée face au GPA"
   ]
  },
  {
   "cell_type": "code",
   "execution_count": 319,
   "metadata": {},
   "outputs": [],
   "source": [
    "datasetIn=pd.read_csv('DatasetInClean.csv',index_col='Unnamed: 0')"
   ]
  },
  {
   "cell_type": "code",
   "execution_count": 320,
   "metadata": {
    "scrolled": false
   },
   "outputs": [
    {
     "data": {
      "text/html": [
       "<div>\n",
       "<table border=\"1\" class=\"dataframe\">\n",
       "  <thead>\n",
       "    <tr style=\"text-align: right;\">\n",
       "      <th></th>\n",
       "      <th>IDENTIFICATION</th>\n",
       "      <th>SCHOOLSTATUS</th>\n",
       "      <th>SCHOOL_RIGHT</th>\n",
       "      <th>OPTION_RIGHT</th>\n",
       "      <th>FAC</th>\n",
       "      <th>SCHOOLPROVINCE</th>\n",
       "      <th>BIRTHDAY</th>\n",
       "      <th>GENDER</th>\n",
       "      <th>DIPLOMPERCENTAGE</th>\n",
       "      <th>AGE</th>\n",
       "    </tr>\n",
       "  </thead>\n",
       "  <tbody>\n",
       "    <tr>\n",
       "      <th>0</th>\n",
       "      <td>3895</td>\n",
       "      <td>protestant</td>\n",
       "      <td>zanner</td>\n",
       "      <td>commmerciale et adm</td>\n",
       "      <td>FSEG</td>\n",
       "      <td>NORD-KIVU</td>\n",
       "      <td>1985-07-16</td>\n",
       "      <td>H</td>\n",
       "      <td>52.0</td>\n",
       "      <td>31</td>\n",
       "    </tr>\n",
       "    <tr>\n",
       "      <th>1</th>\n",
       "      <td>4048</td>\n",
       "      <td>protestant</td>\n",
       "      <td>zanner</td>\n",
       "      <td>commmerciale et adm</td>\n",
       "      <td>FSEG</td>\n",
       "      <td>NORD-KIVU</td>\n",
       "      <td>1987-04-20</td>\n",
       "      <td>H</td>\n",
       "      <td>53.0</td>\n",
       "      <td>30</td>\n",
       "    </tr>\n",
       "    <tr>\n",
       "      <th>2</th>\n",
       "      <td>4217</td>\n",
       "      <td>protestant</td>\n",
       "      <td>zanner</td>\n",
       "      <td>commmerciale et adm</td>\n",
       "      <td>FSEG</td>\n",
       "      <td>NORD-KIVU</td>\n",
       "      <td>1989-01-22</td>\n",
       "      <td>H</td>\n",
       "      <td>54.0</td>\n",
       "      <td>28</td>\n",
       "    </tr>\n",
       "    <tr>\n",
       "      <th>3</th>\n",
       "      <td>4347</td>\n",
       "      <td>protestant</td>\n",
       "      <td>zanner</td>\n",
       "      <td>commmerciale et adm</td>\n",
       "      <td>FSEG</td>\n",
       "      <td>NORD-KIVU</td>\n",
       "      <td>1987-07-11</td>\n",
       "      <td>H</td>\n",
       "      <td>53.0</td>\n",
       "      <td>29</td>\n",
       "    </tr>\n",
       "    <tr>\n",
       "      <th>4</th>\n",
       "      <td>4409</td>\n",
       "      <td>protestant</td>\n",
       "      <td>zanner</td>\n",
       "      <td>commmerciale et adm</td>\n",
       "      <td>FSEG</td>\n",
       "      <td>NORD-KIVU</td>\n",
       "      <td>1989-11-19</td>\n",
       "      <td>H</td>\n",
       "      <td>58.0</td>\n",
       "      <td>27</td>\n",
       "    </tr>\n",
       "    <tr>\n",
       "      <th>5</th>\n",
       "      <td>4473</td>\n",
       "      <td>protestant</td>\n",
       "      <td>zanner</td>\n",
       "      <td>commmerciale et adm</td>\n",
       "      <td>FSEG</td>\n",
       "      <td>NORD-KIVU</td>\n",
       "      <td>1986-03-18</td>\n",
       "      <td>H</td>\n",
       "      <td>52.0</td>\n",
       "      <td>31</td>\n",
       "    </tr>\n",
       "    <tr>\n",
       "      <th>6</th>\n",
       "      <td>4627</td>\n",
       "      <td>protestant</td>\n",
       "      <td>zanner</td>\n",
       "      <td>latin philo</td>\n",
       "      <td>FD</td>\n",
       "      <td>NORD-KIVU</td>\n",
       "      <td>1988-03-16</td>\n",
       "      <td>F</td>\n",
       "      <td>52.0</td>\n",
       "      <td>29</td>\n",
       "    </tr>\n",
       "    <tr>\n",
       "      <th>7</th>\n",
       "      <td>4649</td>\n",
       "      <td>protestant</td>\n",
       "      <td>zanner</td>\n",
       "      <td>latin philo</td>\n",
       "      <td>FD</td>\n",
       "      <td>NORD-KIVU</td>\n",
       "      <td>1990-10-08</td>\n",
       "      <td>F</td>\n",
       "      <td>53.0</td>\n",
       "      <td>26</td>\n",
       "    </tr>\n",
       "  </tbody>\n",
       "</table>\n",
       "</div>"
      ],
      "text/plain": [
       "   IDENTIFICATION SCHOOLSTATUS SCHOOL_RIGHT         OPTION_RIGHT   FAC  \\\n",
       "0            3895   protestant       zanner  commmerciale et adm  FSEG   \n",
       "1            4048   protestant       zanner  commmerciale et adm  FSEG   \n",
       "2            4217   protestant       zanner  commmerciale et adm  FSEG   \n",
       "3            4347   protestant       zanner  commmerciale et adm  FSEG   \n",
       "4            4409   protestant       zanner  commmerciale et adm  FSEG   \n",
       "5            4473   protestant       zanner  commmerciale et adm  FSEG   \n",
       "6            4627   protestant       zanner          latin philo    FD   \n",
       "7            4649   protestant       zanner          latin philo    FD   \n",
       "\n",
       "  SCHOOLPROVINCE    BIRTHDAY GENDER  DIPLOMPERCENTAGE  AGE  \n",
       "0      NORD-KIVU  1985-07-16      H              52.0   31  \n",
       "1      NORD-KIVU  1987-04-20      H              53.0   30  \n",
       "2      NORD-KIVU  1989-01-22      H              54.0   28  \n",
       "3      NORD-KIVU  1987-07-11      H              53.0   29  \n",
       "4      NORD-KIVU  1989-11-19      H              58.0   27  \n",
       "5      NORD-KIVU  1986-03-18      H              52.0   31  \n",
       "6      NORD-KIVU  1988-03-16      F              52.0   29  \n",
       "7      NORD-KIVU  1990-10-08      F              53.0   26  "
      ]
     },
     "execution_count": 320,
     "metadata": {},
     "output_type": "execute_result"
    }
   ],
   "source": [
    "datasetIn.head(8)"
   ]
  },
  {
   "cell_type": "code",
   "execution_count": 291,
   "metadata": {
    "collapsed": true
   },
   "outputs": [],
   "source": [
    "import sys\n",
    "reload(sys)\n",
    "sys.setdefaultencoding('utf-8')"
   ]
  },
  {
   "cell_type": "code",
   "execution_count": 321,
   "metadata": {},
   "outputs": [],
   "source": [
    "datasetIn.rename(columns={'IDENTIFICATION':'ID'},inplace=True)"
   ]
  },
  {
   "cell_type": "code",
   "execution_count": 322,
   "metadata": {
    "scrolled": false
   },
   "outputs": [],
   "source": [
    "datasetIn.drop(labels=['BIRTHDAY'],axis=1,inplace=True)"
   ]
  },
  {
   "cell_type": "code",
   "execution_count": 323,
   "metadata": {
    "collapsed": true
   },
   "outputs": [],
   "source": [
    "datasetIn.rename(columns={'DIPLOMPERCENTAGE':'DIPPERC'},inplace=True)"
   ]
  },
  {
   "cell_type": "code",
   "execution_count": 324,
   "metadata": {
    "scrolled": false
   },
   "outputs": [],
   "source": [
    "datasetFin=pd.merge(datasetIn,datasetRatio,on='ID')"
   ]
  },
  {
   "cell_type": "code",
   "execution_count": 325,
   "metadata": {
    "collapsed": true
   },
   "outputs": [],
   "source": [
    "datasetFin.to_csv('DatasetFinalV1')"
   ]
  },
  {
   "cell_type": "code",
   "execution_count": 326,
   "metadata": {},
   "outputs": [
    {
     "data": {
      "text/html": [
       "<div>\n",
       "<table border=\"1\" class=\"dataframe\">\n",
       "  <thead>\n",
       "    <tr style=\"text-align: right;\">\n",
       "      <th></th>\n",
       "      <th>ID</th>\n",
       "      <th>DIPPERC</th>\n",
       "      <th>AGE</th>\n",
       "      <th>CGPA</th>\n",
       "      <th>NACADYEAR</th>\n",
       "    </tr>\n",
       "  </thead>\n",
       "  <tbody>\n",
       "    <tr>\n",
       "      <th>count</th>\n",
       "      <td>4715.000000</td>\n",
       "      <td>4715.000000</td>\n",
       "      <td>4715.000000</td>\n",
       "      <td>4715.000000</td>\n",
       "      <td>4715.000000</td>\n",
       "    </tr>\n",
       "    <tr>\n",
       "      <th>mean</th>\n",
       "      <td>8720.744221</td>\n",
       "      <td>56.878914</td>\n",
       "      <td>24.732768</td>\n",
       "      <td>57.324192</td>\n",
       "      <td>1.913892</td>\n",
       "    </tr>\n",
       "    <tr>\n",
       "      <th>std</th>\n",
       "      <td>2451.528838</td>\n",
       "      <td>5.756663</td>\n",
       "      <td>4.621602</td>\n",
       "      <td>7.250374</td>\n",
       "      <td>0.905487</td>\n",
       "    </tr>\n",
       "    <tr>\n",
       "      <th>min</th>\n",
       "      <td>45.000000</td>\n",
       "      <td>50.000000</td>\n",
       "      <td>18.000000</td>\n",
       "      <td>35.700001</td>\n",
       "      <td>1.000000</td>\n",
       "    </tr>\n",
       "    <tr>\n",
       "      <th>25%</th>\n",
       "      <td>7149.000000</td>\n",
       "      <td>52.000000</td>\n",
       "      <td>22.000000</td>\n",
       "      <td>53.599998</td>\n",
       "      <td>1.000000</td>\n",
       "    </tr>\n",
       "    <tr>\n",
       "      <th>50%</th>\n",
       "      <td>9172.000000</td>\n",
       "      <td>56.000000</td>\n",
       "      <td>24.000000</td>\n",
       "      <td>58.599998</td>\n",
       "      <td>2.000000</td>\n",
       "    </tr>\n",
       "    <tr>\n",
       "      <th>75%</th>\n",
       "      <td>10579.500000</td>\n",
       "      <td>60.000000</td>\n",
       "      <td>27.000000</td>\n",
       "      <td>62.099998</td>\n",
       "      <td>3.000000</td>\n",
       "    </tr>\n",
       "    <tr>\n",
       "      <th>max</th>\n",
       "      <td>12360.000000</td>\n",
       "      <td>86.000000</td>\n",
       "      <td>59.000000</td>\n",
       "      <td>83.549999</td>\n",
       "      <td>4.000000</td>\n",
       "    </tr>\n",
       "  </tbody>\n",
       "</table>\n",
       "</div>"
      ],
      "text/plain": [
       "                 ID      DIPPERC          AGE         CGPA    NACADYEAR\n",
       "count   4715.000000  4715.000000  4715.000000  4715.000000  4715.000000\n",
       "mean    8720.744221    56.878914    24.732768    57.324192     1.913892\n",
       "std     2451.528838     5.756663     4.621602     7.250374     0.905487\n",
       "min       45.000000    50.000000    18.000000    35.700001     1.000000\n",
       "25%     7149.000000    52.000000    22.000000    53.599998     1.000000\n",
       "50%     9172.000000    56.000000    24.000000    58.599998     2.000000\n",
       "75%    10579.500000    60.000000    27.000000    62.099998     3.000000\n",
       "max    12360.000000    86.000000    59.000000    83.549999     4.000000"
      ]
     },
     "execution_count": 326,
     "metadata": {},
     "output_type": "execute_result"
    }
   ],
   "source": [
    "datasetFin.describe()"
   ]
  },
  {
   "cell_type": "markdown",
   "metadata": {},
   "source": [
    "Analyse dansla partie precdeante nous allons faire l'analyse Bi-varié à 8 niveau:\n",
    "1. CGPA-Diplome Province : Pour voir la relation entre le CGPA et la province d'origine de l'etudiant\n",
    "2. CGPA-DIPPOURCENTAGE: Pour voir la relation entre le CGPA et la pourcentage obtenu à l'exetat\n",
    "3. CGPA-AGE: Pour voir la relation entre l'age de l'etudiant et le CGPA\n",
    "4. CGPA-FAC-DIPLOMEOPTION: Pour voir la relation entre le CGPA et l'option du diplome mais par rapport aux faculté choisie\n",
    "5. CGPA-FAC-SEXE: Pour la relation avec le sexe des étudiants et le CGPA Optenu\n",
    "6. CGPA-FAC-SCHOOL: pour la relation entre l'ecole de provenance  la fac \n",
    "7. GPA-FAC-SCOOLSTATUS : pour la relation entre le status de l'ecole de la FAC\n",
    "8. FAC-CGPA"
   ]
  },
  {
   "cell_type": "markdown",
   "metadata": {},
   "source": [
    "### CGPA-DIPLOME POURCENTAGE"
   ]
  },
  {
   "cell_type": "markdown",
   "metadata": {},
   "source": [
    "Pour evaluer ce genre de relation nous allons utliser le coeficient de correlation de pearson:\n"
   ]
  },
  {
   "cell_type": "code",
   "execution_count": 327,
   "metadata": {
    "collapsed": true
   },
   "outputs": [],
   "source": [
    "from pydoc import help\n",
    "from scipy.stats.stats import pearsonr\n",
    "help(pearsonr)\n"
   ]
  },
  {
   "cell_type": "code",
   "execution_count": 328,
   "metadata": {},
   "outputs": [
    {
     "data": {
      "text/plain": [
       "(0.23255606339266433, 6.2451652148277288e-59)"
      ]
     },
     "execution_count": 328,
     "metadata": {},
     "output_type": "execute_result"
    }
   ],
   "source": [
    "pearsonr(datasetFin.CGPA,datasetFin.DIPPERC)"
   ]
  },
  {
   "cell_type": "code",
   "execution_count": 329,
   "metadata": {
    "scrolled": true
   },
   "outputs": [
    {
     "data": {
      "image/png": "[encoded data removed]",
      "text/plain": [
       "<matplotlib.figure.Figure at 0x10e8b2950>"
      ]
     },
     "metadata": {},
     "output_type": "display_data"
    }
   ],
   "source": [
    "plt.figure(figsize=(10,10))\n",
    "ax = sns.regplot(x=\"CGPA\", y=\"DIPPERC\", data=datasetFin,fit_reg=True)"
   ]
  },
  {
   "cell_type": "markdown",
   "metadata": {},
   "source": [
    "Dans une premiere approche on remarque qu'il n'existe pas de correlation dans entre le diplome obtenus à l'exetat et la moyenned u poucentage final à l'université"
   ]
  },
  {
   "cell_type": "markdown",
   "metadata": {},
   "source": [
    "Regardons de plus pret au sein de chaque faculté s'il peut y avoir une correlation."
   ]
  },
  {
   "cell_type": "code",
   "execution_count": 334,
   "metadata": {
    "scrolled": false
   },
   "outputs": [],
   "source": [
    "Medecine=datasetFin.loc[datasetFin.FAC=='FM']"
   ]
  },
  {
   "cell_type": "markdown",
   "metadata": {},
   "source": [
    "#### A. Faculté de Médecine"
   ]
  },
  {
   "cell_type": "markdown",
   "metadata": {},
   "source": [
    "A.1 CGPA-POURCENTAGE"
   ]
  },
  {
   "cell_type": "markdown",
   "metadata": {},
   "source": [
    "Cherchons les differentes correlations pouvan exsiter au sein de la faculté de medecine"
   ]
  },
  {
   "cell_type": "code",
   "execution_count": 448,
   "metadata": {},
   "outputs": [],
   "source": [
    "CorreMatrix=Medecine.corr(method='pearson')"
   ]
  },
  {
   "cell_type": "code",
   "execution_count": 450,
   "metadata": {},
   "outputs": [
    {
     "data": {
      "text/plain": [
       "CGPA         1.000000\n",
       "DIPPERC      0.447654\n",
       "NACADYEAR    0.158242\n",
       "ID           0.096283\n",
       "AGE         -0.256688\n",
       "Name: CGPA, dtype: float64"
      ]
     },
     "execution_count": 450,
     "metadata": {},
     "output_type": "execute_result"
    }
   ],
   "source": [
    "CorreMatrix.CGPA.sort_values(ascending=False)"
   ]
  },
  {
   "cell_type": "code",
   "execution_count": 337,
   "metadata": {},
   "outputs": [
    {
     "data": {
      "text/plain": [
       "(0.44765396714867312, 2.5042090286791821e-13)"
      ]
     },
     "execution_count": 337,
     "metadata": {},
     "output_type": "execute_result"
    }
   ],
   "source": [
    "pearsonr(Medecine.CGPA,Medecine.DIPPERC)"
   ]
  },
  {
   "cell_type": "markdown",
   "metadata": {},
   "source": [
    "Au sein de la faculté de medécine nous remarquons que la correlation entre le pourcenatge à l'exetat et le CGPA est de 0.45  ce qui est pas mal"
   ]
  },
  {
   "cell_type": "code",
   "execution_count": 340,
   "metadata": {
    "scrolled": true
   },
   "outputs": [
    {
     "data": {
      "image/png": "[encoded data removed]",
      "text/plain": [
       "<matplotlib.figure.Figure at 0x10e720150>"
      ]
     },
     "metadata": {},
     "output_type": "display_data"
    }
   ],
   "source": [
    "plt.figure(figsize=(10,10))\n",
    "ax = sns.regplot(x=\"CGPA\", y=\"DIPPERC\", data=Medecine,fit_reg=True)"
   ]
  },
  {
   "cell_type": "markdown",
   "metadata": {},
   "source": [
    "A.2 Age et CPGA"
   ]
  },
  {
   "cell_type": "code",
   "execution_count": 341,
   "metadata": {},
   "outputs": [
    {
     "data": {
      "text/plain": [
       "(-0.2566879460545976, 5.3370210238152509e-05)"
      ]
     },
     "execution_count": 341,
     "metadata": {},
     "output_type": "execute_result"
    }
   ],
   "source": [
    "pearsonr(Medecine.CGPA,Medecine.AGE)"
   ]
  },
  {
   "cell_type": "code",
   "execution_count": null,
   "metadata": {
    "collapsed": true
   },
   "outputs": [],
   "source": [
    "aucune relation entre l'age  et le diplome pourcenatge "
   ]
  },
  {
   "cell_type": "markdown",
   "metadata": {},
   "source": [
    "A.2 SchoolProvinece"
   ]
  },
  {
   "cell_type": "code",
   "execution_count": 343,
   "metadata": {
    "collapsed": true
   },
   "outputs": [],
   "source": [
    "import statsmodels.api as sm\n",
    "from statsmodels.formula.api import ols"
   ]
  },
  {
   "cell_type": "code",
   "execution_count": 344,
   "metadata": {
    "scrolled": false
   },
   "outputs": [
    {
     "data": {
      "text/plain": [
       "Index([u'ID', u'SCHOOLSTATUS', u'SCHOOL_RIGHT', u'OPTION_RIGHT', u'FAC',\n",
       "       u'SCHOOLPROVINCE', u'GENDER', u'DIPPERC', u'AGE', u'CGPA',\n",
       "       u'DistinctionRatio', u'EchecRatio', u'NACADYEAR',\n",
       "       u'Pass1stSessionRatio'],\n",
       "      dtype='object')"
      ]
     },
     "execution_count": 344,
     "metadata": {},
     "output_type": "execute_result"
    }
   ],
   "source": [
    "datasetFin.columns"
   ]
  },
  {
   "cell_type": "code",
   "execution_count": 348,
   "metadata": {
    "collapsed": true
   },
   "outputs": [],
   "source": [
    "moore_lm = ols('CGPA ~ C(SCHOOLSTATUS)',data=Medecine).fit()\n",
    "aov_table = sm.stats.anova_lm(moore_lm, typ=1)"
   ]
  },
  {
   "cell_type": "code",
   "execution_count": 349,
   "metadata": {
    "scrolled": true
   },
   "outputs": [
    {
     "data": {
      "text/html": [
       "<div>\n",
       "<table border=\"1\" class=\"dataframe\">\n",
       "  <thead>\n",
       "    <tr style=\"text-align: right;\">\n",
       "      <th></th>\n",
       "      <th>df</th>\n",
       "      <th>sum_sq</th>\n",
       "      <th>mean_sq</th>\n",
       "      <th>F</th>\n",
       "      <th>PR(&gt;F)</th>\n",
       "    </tr>\n",
       "  </thead>\n",
       "  <tbody>\n",
       "    <tr>\n",
       "      <th>C(SCHOOLSTATUS)</th>\n",
       "      <td>5.0</td>\n",
       "      <td>1560.231935</td>\n",
       "      <td>312.046387</td>\n",
       "      <td>7.273601</td>\n",
       "      <td>0.000002</td>\n",
       "    </tr>\n",
       "    <tr>\n",
       "      <th>Residual</th>\n",
       "      <td>236.0</td>\n",
       "      <td>10124.689350</td>\n",
       "      <td>42.901226</td>\n",
       "      <td>NaN</td>\n",
       "      <td>NaN</td>\n",
       "    </tr>\n",
       "  </tbody>\n",
       "</table>\n",
       "</div>"
      ],
      "text/plain": [
       "                    df        sum_sq     mean_sq         F    PR(>F)\n",
       "C(SCHOOLSTATUS)    5.0   1560.231935  312.046387  7.273601  0.000002\n",
       "Residual         236.0  10124.689350   42.901226       NaN       NaN"
      ]
     },
     "execution_count": 349,
     "metadata": {},
     "output_type": "execute_result"
    }
   ],
   "source": [
    "aov_table"
   ]
  },
  {
   "cell_type": "code",
   "execution_count": null,
   "metadata": {
    "collapsed": true
   },
   "outputs": [],
   "source": []
  },
  {
   "cell_type": "markdown",
   "metadata": {},
   "source": [
    "Il n'yas des correlation"
   ]
  },
  {
   "cell_type": "code",
   "execution_count": 347,
   "metadata": {
    "scrolled": true
   },
   "outputs": [
    {
     "data": {
      "text/html": [
       "<div>\n",
       "<table border=\"1\" class=\"dataframe\">\n",
       "  <thead>\n",
       "    <tr style=\"text-align: right;\">\n",
       "      <th></th>\n",
       "      <th>ID</th>\n",
       "      <th>DIPPERC</th>\n",
       "      <th>AGE</th>\n",
       "      <th>CGPA</th>\n",
       "      <th>NACADYEAR</th>\n",
       "    </tr>\n",
       "    <tr>\n",
       "      <th>SCHOOLSTATUS</th>\n",
       "      <th></th>\n",
       "      <th></th>\n",
       "      <th></th>\n",
       "      <th></th>\n",
       "      <th></th>\n",
       "    </tr>\n",
       "  </thead>\n",
       "  <tbody>\n",
       "    <tr>\n",
       "      <th>catholique</th>\n",
       "      <td>10867.909091</td>\n",
       "      <td>62.610830</td>\n",
       "      <td>20.704545</td>\n",
       "      <td>60.312500</td>\n",
       "      <td>1.545455</td>\n",
       "    </tr>\n",
       "    <tr>\n",
       "      <th>inconnu</th>\n",
       "      <td>9952.368421</td>\n",
       "      <td>55.052632</td>\n",
       "      <td>23.842105</td>\n",
       "      <td>55.044737</td>\n",
       "      <td>1.736842</td>\n",
       "    </tr>\n",
       "    <tr>\n",
       "      <th>musulman</th>\n",
       "      <td>11037.500000</td>\n",
       "      <td>56.000000</td>\n",
       "      <td>22.000000</td>\n",
       "      <td>56.900000</td>\n",
       "      <td>1.000000</td>\n",
       "    </tr>\n",
       "    <tr>\n",
       "      <th>privé</th>\n",
       "      <td>11150.379310</td>\n",
       "      <td>55.413793</td>\n",
       "      <td>21.758621</td>\n",
       "      <td>53.662069</td>\n",
       "      <td>1.344828</td>\n",
       "    </tr>\n",
       "    <tr>\n",
       "      <th>protestant</th>\n",
       "      <td>10991.243243</td>\n",
       "      <td>59.424007</td>\n",
       "      <td>21.391892</td>\n",
       "      <td>58.155405</td>\n",
       "      <td>1.418919</td>\n",
       "    </tr>\n",
       "    <tr>\n",
       "      <th>publique</th>\n",
       "      <td>11018.966667</td>\n",
       "      <td>57.033333</td>\n",
       "      <td>22.233333</td>\n",
       "      <td>54.351667</td>\n",
       "      <td>1.366667</td>\n",
       "    </tr>\n",
       "  </tbody>\n",
       "</table>\n",
       "</div>"
      ],
      "text/plain": [
       "                        ID    DIPPERC        AGE       CGPA  NACADYEAR\n",
       "SCHOOLSTATUS                                                          \n",
       "catholique    10867.909091  62.610830  20.704545  60.312500   1.545455\n",
       "inconnu        9952.368421  55.052632  23.842105  55.044737   1.736842\n",
       "musulman      11037.500000  56.000000  22.000000  56.900000   1.000000\n",
       "privé         11150.379310  55.413793  21.758621  53.662069   1.344828\n",
       "protestant    10991.243243  59.424007  21.391892  58.155405   1.418919\n",
       "publique      11018.966667  57.033333  22.233333  54.351667   1.366667"
      ]
     },
     "execution_count": 347,
     "metadata": {},
     "output_type": "execute_result"
    }
   ],
   "source": [
    "Medecine.groupby('SCHOOLSTATUS').mean()"
   ]
  },
  {
   "cell_type": "markdown",
   "metadata": {},
   "source": [
    "Nous pouvons aisement remarqué que les étudiants venant des écoles catholiques reussisent mieux en faculté de medecine avec une moyennde de 60 ensuitent viennentceux des écoles protestatntes"
   ]
  },
  {
   "cell_type": "code",
   "execution_count": 351,
   "metadata": {
    "scrolled": true
   },
   "outputs": [
    {
     "data": {
      "image/png": "[encoded data removed]",
      "text/plain": [
       "<matplotlib.figure.Figure at 0x10e190d90>"
      ]
     },
     "metadata": {},
     "output_type": "display_data"
    }
   ],
   "source": [
    "plt.figure(figsize=(12,6))\n",
    "ax=sns.boxplot(x=\"SCHOOLSTATUS\", y=\"CGPA\", data=Medecine)\n",
    "plt.savefig('STATUS-CGPA.png',dpi=100)"
   ]
  },
  {
   "cell_type": "markdown",
   "metadata": {},
   "source": [
    "A.4 Sexe :"
   ]
  },
  {
   "cell_type": "code",
   "execution_count": null,
   "metadata": {
    "collapsed": true
   },
   "outputs": [],
   "source": [
    "Index([u'ID', u'SCHOOLSTATUS', u'SCHOOL_RIGHT', u'OPTION_RIGHT', u'FAC',\n",
    "       u'SCHOOLPROVINCE', u'GENDER', u'DIPPERC', u'AGE', u'CGPA',\n",
    "       u'DistinctionRatio', u'EchecRatio', u'NACADYEAR',\n",
    "       u'Pass1stSessionRatio'],\n",
    "      dtype='object')"
   ]
  },
  {
   "cell_type": "code",
   "execution_count": 350,
   "metadata": {
    "scrolled": true
   },
   "outputs": [
    {
     "data": {
      "text/html": [
       "<div>\n",
       "<table border=\"1\" class=\"dataframe\">\n",
       "  <thead>\n",
       "    <tr style=\"text-align: right;\">\n",
       "      <th></th>\n",
       "      <th>df</th>\n",
       "      <th>sum_sq</th>\n",
       "      <th>mean_sq</th>\n",
       "      <th>F</th>\n",
       "      <th>PR(&gt;F)</th>\n",
       "    </tr>\n",
       "  </thead>\n",
       "  <tbody>\n",
       "    <tr>\n",
       "      <th>C(GENDER)</th>\n",
       "      <td>1.0</td>\n",
       "      <td>117.513228</td>\n",
       "      <td>117.513228</td>\n",
       "      <td>2.438159</td>\n",
       "      <td>0.119733</td>\n",
       "    </tr>\n",
       "    <tr>\n",
       "      <th>Residual</th>\n",
       "      <td>240.0</td>\n",
       "      <td>11567.408056</td>\n",
       "      <td>48.197534</td>\n",
       "      <td>NaN</td>\n",
       "      <td>NaN</td>\n",
       "    </tr>\n",
       "  </tbody>\n",
       "</table>\n",
       "</div>"
      ],
      "text/plain": [
       "              df        sum_sq     mean_sq         F    PR(>F)\n",
       "C(GENDER)    1.0    117.513228  117.513228  2.438159  0.119733\n",
       "Residual   240.0  11567.408056   48.197534       NaN       NaN"
      ]
     },
     "execution_count": 350,
     "metadata": {},
     "output_type": "execute_result"
    }
   ],
   "source": [
    "moore_lm = ols('CGPA ~ C(GENDER)',data=Medecine).fit()\n",
    "aov_table = sm.stats.anova_lm(moore_lm, typ=1)\n",
    "aov_table"
   ]
  },
  {
   "cell_type": "markdown",
   "metadata": {},
   "source": [
    "On conclus sans hesiter que la moyenne est la pour les filles que pour les garcons"
   ]
  },
  {
   "cell_type": "code",
   "execution_count": 352,
   "metadata": {},
   "outputs": [
    {
     "data": {
      "text/html": [
       "<div>\n",
       "<table border=\"1\" class=\"dataframe\">\n",
       "  <thead>\n",
       "    <tr style=\"text-align: right;\">\n",
       "      <th></th>\n",
       "      <th>ID</th>\n",
       "      <th>DIPPERC</th>\n",
       "      <th>AGE</th>\n",
       "      <th>CGPA</th>\n",
       "      <th>NACADYEAR</th>\n",
       "    </tr>\n",
       "    <tr>\n",
       "      <th>GENDER</th>\n",
       "      <th></th>\n",
       "      <th></th>\n",
       "      <th></th>\n",
       "      <th></th>\n",
       "      <th></th>\n",
       "    </tr>\n",
       "  </thead>\n",
       "  <tbody>\n",
       "    <tr>\n",
       "      <th>F</th>\n",
       "      <td>11029.880734</td>\n",
       "      <td>60.066542</td>\n",
       "      <td>20.990826</td>\n",
       "      <td>58.444954</td>\n",
       "      <td>1.440367</td>\n",
       "    </tr>\n",
       "    <tr>\n",
       "      <th>H</th>\n",
       "      <td>10771.210526</td>\n",
       "      <td>58.916365</td>\n",
       "      <td>21.894737</td>\n",
       "      <td>57.044361</td>\n",
       "      <td>1.496241</td>\n",
       "    </tr>\n",
       "  </tbody>\n",
       "</table>\n",
       "</div>"
      ],
      "text/plain": [
       "                  ID    DIPPERC        AGE       CGPA  NACADYEAR\n",
       "GENDER                                                          \n",
       "F       11029.880734  60.066542  20.990826  58.444954   1.440367\n",
       "H       10771.210526  58.916365  21.894737  57.044361   1.496241"
      ]
     },
     "execution_count": 352,
     "metadata": {},
     "output_type": "execute_result"
    }
   ],
   "source": []
  },
  {
   "cell_type": "code",
   "execution_count": 353,
   "metadata": {
    "scrolled": false
   },
   "outputs": [
    {
     "data": {
      "image/png": "[encoded data removed]",
      "text/plain": [
       "<matplotlib.figure.Figure at 0x10dcdac50>"
      ]
     },
     "metadata": {},
     "output_type": "display_data"
    }
   ],
   "source": [
    "Medecine.groupby('GENDER').mean()\n",
    "plt.figure(figsize=(12,6))\n",
    "ax=sns.boxplot(x=\"GENDER\", y=\"CGPA\", data=Medecine)\n",
    "plt.savefig('GENDER-CGPA.png',dpi=100)"
   ]
  },
  {
   "cell_type": "markdown",
   "metadata": {},
   "source": [
    "On Peut Remarquer que les filles on des meilleurs resulat que les garcons en Faculté de medecine surtout en terme des disticntions"
   ]
  },
  {
   "cell_type": "markdown",
   "metadata": {},
   "source": [
    "A.6 GPA - SCHOOL"
   ]
  },
  {
   "cell_type": "code",
   "execution_count": 354,
   "metadata": {},
   "outputs": [
    {
     "data": {
      "text/html": [
       "<div>\n",
       "<table border=\"1\" class=\"dataframe\">\n",
       "  <thead>\n",
       "    <tr style=\"text-align: right;\">\n",
       "      <th></th>\n",
       "      <th>df</th>\n",
       "      <th>sum_sq</th>\n",
       "      <th>mean_sq</th>\n",
       "      <th>F</th>\n",
       "      <th>PR(&gt;F)</th>\n",
       "    </tr>\n",
       "  </thead>\n",
       "  <tbody>\n",
       "    <tr>\n",
       "      <th>C(SCHOOL_RIGHT)</th>\n",
       "      <td>93.0</td>\n",
       "      <td>5751.643494</td>\n",
       "      <td>61.845629</td>\n",
       "      <td>1.542681</td>\n",
       "      <td>0.009244</td>\n",
       "    </tr>\n",
       "    <tr>\n",
       "      <th>Residual</th>\n",
       "      <td>148.0</td>\n",
       "      <td>5933.277790</td>\n",
       "      <td>40.089715</td>\n",
       "      <td>NaN</td>\n",
       "      <td>NaN</td>\n",
       "    </tr>\n",
       "  </tbody>\n",
       "</table>\n",
       "</div>"
      ],
      "text/plain": [
       "                    df       sum_sq    mean_sq         F    PR(>F)\n",
       "C(SCHOOL_RIGHT)   93.0  5751.643494  61.845629  1.542681  0.009244\n",
       "Residual         148.0  5933.277790  40.089715       NaN       NaN"
      ]
     },
     "execution_count": 354,
     "metadata": {},
     "output_type": "execute_result"
    }
   ],
   "source": [
    "moore_lm = ols('CGPA ~ C(SCHOOL_RIGHT)',data=Medecine).fit()\n",
    "aov_table = sm.stats.anova_lm(moore_lm, typ=1)\n",
    "aov_table"
   ]
  },
  {
   "cell_type": "markdown",
   "metadata": {},
   "source": [
    "Nous allons verifier comment se presente cette moyenne dans les 10 écoles les plus representée"
   ]
  },
  {
   "cell_type": "code",
   "execution_count": 359,
   "metadata": {},
   "outputs": [],
   "source": [
    "SchoolGroup=Medecine.groupby('SCHOOL_RIGHT').mean()"
   ]
  },
  {
   "cell_type": "code",
   "execution_count": 368,
   "metadata": {},
   "outputs": [
    {
     "data": {
      "text/plain": [
       "Index([u'ID', u'DIPPERC', u'AGE', u'CGPA', u'NACADYEAR'], dtype='object')"
      ]
     },
     "execution_count": 368,
     "metadata": {},
     "output_type": "execute_result"
    }
   ],
   "source": [
    "SchoolGroup.columns"
   ]
  },
  {
   "cell_type": "code",
   "execution_count": 370,
   "metadata": {
    "scrolled": false
   },
   "outputs": [
    {
     "data": {
      "text/plain": [
       "(94, 5)"
      ]
     },
     "execution_count": 370,
     "metadata": {},
     "output_type": "execute_result"
    }
   ],
   "source": [
    "SchoolGroup.shape"
   ]
  },
  {
   "cell_type": "code",
   "execution_count": 373,
   "metadata": {
    "scrolled": true
   },
   "outputs": [],
   "source": [
    "SchoolGroup.sort(axis=0,columns='CGPA',ascending=False,inplace=True)"
   ]
  },
  {
   "cell_type": "code",
   "execution_count": 374,
   "metadata": {},
   "outputs": [],
   "source": [
    "SchoolGroup.reset_index(inplace=True)"
   ]
  },
  {
   "cell_type": "code",
   "execution_count": 427,
   "metadata": {
    "scrolled": true
   },
   "outputs": [
    {
     "data": {
      "text/plain": [
       "0              alfajiri\n",
       "1       Institut NJANJA\n",
       "2     idap isp rutshuru\n",
       "3           mama mulezi\n",
       "4                 bwito\n",
       "5              bsangani\n",
       "89          neema kwetu\n",
       "90            de bukavu\n",
       "91               masisi\n",
       "92                 amen\n",
       "93               hekima\n",
       "Name: SCHOOL_RIGHT, dtype: object"
      ]
     },
     "execution_count": 427,
     "metadata": {},
     "output_type": "execute_result"
    }
   ],
   "source": [
    "SchoolGroup.loc[ range(0,6) + range(89,94)].SCHOOL_RIGHT"
   ]
  },
  {
   "cell_type": "code",
   "execution_count": 432,
   "metadata": {},
   "outputs": [
    {
     "data": {
      "text/plain": [
       "(242, 14)"
      ]
     },
     "execution_count": 432,
     "metadata": {},
     "output_type": "execute_result"
    }
   ],
   "source": [
    "Medecine.shape"
   ]
  },
  {
   "cell_type": "code",
   "execution_count": 437,
   "metadata": {
    "scrolled": true
   },
   "outputs": [
    {
     "data": {
      "image/png": "[encoded data removed]",
      "text/plain": [
       "<matplotlib.figure.Figure at 0x10e7b8c50>"
      ]
     },
     "metadata": {},
     "output_type": "display_data"
    }
   ],
   "source": [
    "Medecine.groupby('SCHOOL_RIGHT').mean()\n",
    "plt.figure(figsize=(24,6))\n",
    "ax=sns.boxplot(x=\"SCHOOL_RIGHT\", y=\"CGPA\", data=Medecine.loc[operator.or_(Medecine.SCHOOL_RIGHT.isin(SchoolGroup.loc[ range(0,6) + range(89,94)].SCHOOL_RIGHT) \n",
    "             , Medecine.SCHOOL_RIGHT.isin(Medecine.SCHOOL_RIGHT.value_counts()[:10].index))])\n",
    "plt.savefig('SCHOOL_RIGHT-CGPA.png',dpi=100)"
   ]
  },
  {
   "cell_type": "markdown",
   "metadata": {},
   "source": [
    "Sur cette figure comment se repartissent le CGPA dans Les 20 ecoles dont 10 sont les plus representes et 5 sont ceux qui on une grande moyenne et 5 ceux qui ont une faible moyyenne\n",
    "on remarque que les étudiant provenant des écoles comme lycée sainte ursule, mwanga, bakanja ,alfagiri, faraja,amani, n'echouent presque pas en faculté de medecine"
   ]
  },
  {
   "cell_type": "code",
   "execution_count": 436,
   "metadata": {
    "scrolled": true
   },
   "outputs": [],
   "source": [
    "import matplotlib\n",
    "matplotlib.rcParams.update({'font.size': 22})"
   ]
  },
  {
   "cell_type": "code",
   "execution_count": 438,
   "metadata": {
    "collapsed": true
   },
   "outputs": [],
   "source": [
    "OptionGroup=Medecine.groupby('OPTION_RIGHT').mean()"
   ]
  },
  {
   "cell_type": "code",
   "execution_count": 442,
   "metadata": {
    "scrolled": false
   },
   "outputs": [],
   "source": [
    "OptionGroup.sort(axis=0,columns='CGPA',ascending=False,inplace=True)"
   ]
  },
  {
   "cell_type": "code",
   "execution_count": 443,
   "metadata": {
    "scrolled": false
   },
   "outputs": [
    {
     "data": {
      "text/html": [
       "<div>\n",
       "<table border=\"1\" class=\"dataframe\">\n",
       "  <thead>\n",
       "    <tr style=\"text-align: right;\">\n",
       "      <th></th>\n",
       "      <th>ID</th>\n",
       "      <th>DIPPERC</th>\n",
       "      <th>AGE</th>\n",
       "      <th>CGPA</th>\n",
       "      <th>NACADYEAR</th>\n",
       "    </tr>\n",
       "    <tr>\n",
       "      <th>OPTION_RIGHT</th>\n",
       "      <th></th>\n",
       "      <th></th>\n",
       "      <th></th>\n",
       "      <th></th>\n",
       "      <th></th>\n",
       "    </tr>\n",
       "  </thead>\n",
       "  <tbody>\n",
       "    <tr>\n",
       "      <th>secretariat</th>\n",
       "      <td>11686.000000</td>\n",
       "      <td>54.000000</td>\n",
       "      <td>20.000000</td>\n",
       "      <td>62.500000</td>\n",
       "      <td>1.000000</td>\n",
       "    </tr>\n",
       "    <tr>\n",
       "      <th>commerciale informatique</th>\n",
       "      <td>10982.750000</td>\n",
       "      <td>55.000000</td>\n",
       "      <td>21.500000</td>\n",
       "      <td>60.200001</td>\n",
       "      <td>1.500000</td>\n",
       "    </tr>\n",
       "    <tr>\n",
       "      <th>vétérinaire</th>\n",
       "      <td>10726.500000</td>\n",
       "      <td>57.469131</td>\n",
       "      <td>20.750000</td>\n",
       "      <td>59.000000</td>\n",
       "      <td>1.750000</td>\n",
       "    </tr>\n",
       "    <tr>\n",
       "      <th>bio-chimie</th>\n",
       "      <td>10827.522523</td>\n",
       "      <td>61.590090</td>\n",
       "      <td>21.000000</td>\n",
       "      <td>58.831532</td>\n",
       "      <td>1.531532</td>\n",
       "    </tr>\n",
       "    <tr>\n",
       "      <th>agronomie</th>\n",
       "      <td>11523.000000</td>\n",
       "      <td>65.000000</td>\n",
       "      <td>20.000000</td>\n",
       "      <td>58.500000</td>\n",
       "      <td>1.000000</td>\n",
       "    </tr>\n",
       "    <tr>\n",
       "      <th>nutr</th>\n",
       "      <td>11319.857143</td>\n",
       "      <td>60.634037</td>\n",
       "      <td>20.428571</td>\n",
       "      <td>58.375000</td>\n",
       "      <td>1.428571</td>\n",
       "    </tr>\n",
       "    <tr>\n",
       "      <th>commmerciale et adm</th>\n",
       "      <td>9272.600000</td>\n",
       "      <td>51.200000</td>\n",
       "      <td>25.400000</td>\n",
       "      <td>57.450000</td>\n",
       "      <td>1.600000</td>\n",
       "    </tr>\n",
       "    <tr>\n",
       "      <th>latin philo</th>\n",
       "      <td>10803.666667</td>\n",
       "      <td>58.166667</td>\n",
       "      <td>21.083333</td>\n",
       "      <td>57.329167</td>\n",
       "      <td>1.583333</td>\n",
       "    </tr>\n",
       "    <tr>\n",
       "      <th>pedagogie</th>\n",
       "      <td>11160.875000</td>\n",
       "      <td>58.664094</td>\n",
       "      <td>22.416667</td>\n",
       "      <td>56.628125</td>\n",
       "      <td>1.312500</td>\n",
       "    </tr>\n",
       "    <tr>\n",
       "      <th>math-physique</th>\n",
       "      <td>10560.076923</td>\n",
       "      <td>57.076923</td>\n",
       "      <td>23.615385</td>\n",
       "      <td>56.442308</td>\n",
       "      <td>1.461538</td>\n",
       "    </tr>\n",
       "    <tr>\n",
       "      <th>sociale</th>\n",
       "      <td>10837.666667</td>\n",
       "      <td>55.740741</td>\n",
       "      <td>20.888889</td>\n",
       "      <td>55.018519</td>\n",
       "      <td>1.444444</td>\n",
       "    </tr>\n",
       "    <tr>\n",
       "      <th>elec indust</th>\n",
       "      <td>10631.000000</td>\n",
       "      <td>52.000000</td>\n",
       "      <td>22.000000</td>\n",
       "      <td>51.450001</td>\n",
       "      <td>2.000000</td>\n",
       "    </tr>\n",
       "    <tr>\n",
       "      <th>agrecole</th>\n",
       "      <td>12191.000000</td>\n",
       "      <td>60.000000</td>\n",
       "      <td>25.000000</td>\n",
       "      <td>48.000000</td>\n",
       "      <td>1.000000</td>\n",
       "    </tr>\n",
       "  </tbody>\n",
       "</table>\n",
       "</div>"
      ],
      "text/plain": [
       "                                    ID    DIPPERC        AGE       CGPA  \\\n",
       "OPTION_RIGHT                                                              \n",
       "secretariat               11686.000000  54.000000  20.000000  62.500000   \n",
       "commerciale informatique  10982.750000  55.000000  21.500000  60.200001   \n",
       "vétérinaire               10726.500000  57.469131  20.750000  59.000000   \n",
       "bio-chimie                10827.522523  61.590090  21.000000  58.831532   \n",
       "agronomie                 11523.000000  65.000000  20.000000  58.500000   \n",
       "nutr                      11319.857143  60.634037  20.428571  58.375000   \n",
       "commmerciale et adm        9272.600000  51.200000  25.400000  57.450000   \n",
       "latin philo               10803.666667  58.166667  21.083333  57.329167   \n",
       "pedagogie                 11160.875000  58.664094  22.416667  56.628125   \n",
       "math-physique             10560.076923  57.076923  23.615385  56.442308   \n",
       "sociale                   10837.666667  55.740741  20.888889  55.018519   \n",
       "elec indust               10631.000000  52.000000  22.000000  51.450001   \n",
       "agrecole                  12191.000000  60.000000  25.000000  48.000000   \n",
       "\n",
       "                          NACADYEAR  \n",
       "OPTION_RIGHT                         \n",
       "secretariat                1.000000  \n",
       "commerciale informatique   1.500000  \n",
       "vétérinaire                1.750000  \n",
       "bio-chimie                 1.531532  \n",
       "agronomie                  1.000000  \n",
       "nutr                       1.428571  \n",
       "commmerciale et adm        1.600000  \n",
       "latin philo                1.583333  \n",
       "pedagogie                  1.312500  \n",
       "math-physique              1.461538  \n",
       "sociale                    1.444444  \n",
       "elec indust                2.000000  \n",
       "agrecole                   1.000000  "
      ]
     },
     "execution_count": 443,
     "metadata": {},
     "output_type": "execute_result"
    }
   ],
   "source": [
    "OptionGroup"
   ]
  },
  {
   "cell_type": "code",
   "execution_count": 444,
   "metadata": {},
   "outputs": [
    {
     "data": {
      "text/plain": [
       "(0.024778204523123036, 0.93596027075298815)"
      ]
     },
     "execution_count": 444,
     "metadata": {},
     "output_type": "execute_result"
    }
   ],
   "source": [
    "pearsonr(OptionGroup.DIPPERC,OptionGroup.CGPA)"
   ]
  },
  {
   "cell_type": "markdown",
   "metadata": {},
   "source": [
    "Dans cette table nous pouvons voir la réparttion des moyennes des poucentage selon les option!\n",
    "voyons en image à quoi ça ressemble"
   ]
  },
  {
   "cell_type": "code",
   "execution_count": 441,
   "metadata": {
    "scrolled": false
   },
   "outputs": [
    {
     "data": {
      "image/png": "[encoded data removed]",
      "text/plain": [
       "<matplotlib.figure.Figure at 0x111448790>"
      ]
     },
     "metadata": {},
     "output_type": "display_data"
    }
   ],
   "source": [
    "plt.figure(figsize=(24,6))\n",
    "ax=sns.boxplot(x=\"OPTION_RIGHT\", y=\"CGPA\", data=Medecine)\n",
    "plt.savefig('OPTION_RIGHT-CGPA.png',dpi=100)"
   ]
  },
  {
   "cell_type": "markdown",
   "metadata": {},
   "source": [
    "Sur la table on remarque que l'option n'a aucune influance sur notre variable CGPA mais notons que la moyenne la plus élevé vient de l'option sécretariat"
   ]
  },
  {
   "cell_type": "code",
   "execution_count": 451,
   "metadata": {},
   "outputs": [
    {
     "data": {
      "text/html": [
       "<div>\n",
       "<table border=\"1\" class=\"dataframe\">\n",
       "  <thead>\n",
       "    <tr style=\"text-align: right;\">\n",
       "      <th></th>\n",
       "      <th>df</th>\n",
       "      <th>sum_sq</th>\n",
       "      <th>mean_sq</th>\n",
       "      <th>F</th>\n",
       "      <th>PR(&gt;F)</th>\n",
       "    </tr>\n",
       "  </thead>\n",
       "  <tbody>\n",
       "    <tr>\n",
       "      <th>C(OPTION_RIGHT)</th>\n",
       "      <td>12.0</td>\n",
       "      <td>608.756098</td>\n",
       "      <td>50.729675</td>\n",
       "      <td>1.048837</td>\n",
       "      <td>0.405075</td>\n",
       "    </tr>\n",
       "    <tr>\n",
       "      <th>Residual</th>\n",
       "      <td>229.0</td>\n",
       "      <td>11076.165186</td>\n",
       "      <td>48.367534</td>\n",
       "      <td>NaN</td>\n",
       "      <td>NaN</td>\n",
       "    </tr>\n",
       "  </tbody>\n",
       "</table>\n",
       "</div>"
      ],
      "text/plain": [
       "                    df        sum_sq    mean_sq         F    PR(>F)\n",
       "C(OPTION_RIGHT)   12.0    608.756098  50.729675  1.048837  0.405075\n",
       "Residual         229.0  11076.165186  48.367534       NaN       NaN"
      ]
     },
     "execution_count": 451,
     "metadata": {},
     "output_type": "execute_result"
    }
   ],
   "source": [
    "moore_lm = ols('CGPA ~ C(OPTION_RIGHT)',data=Medecine).fit()\n",
    "aov_table = sm.stats.anova_lm(moore_lm, typ=1)\n",
    "aov_table"
   ]
  },
  {
   "cell_type": "markdown",
   "metadata": {},
   "source": [
    "##### Faculté de TechNologies"
   ]
  },
  {
   "cell_type": "code",
   "execution_count": 501,
   "metadata": {},
   "outputs": [],
   "source": [
    "Techno=datasetFin.loc[datasetFin.FAC=='FSTA']"
   ]
  },
  {
   "cell_type": "markdown",
   "metadata": {},
   "source": [
    "Commencons par les attribues numeriques et analysons la correlation chercher comme sur le point précedant la correlation avec le CGPA"
   ]
  },
  {
   "cell_type": "markdown",
   "metadata": {},
   "source": [
    "#### B.1 Attribue Age, Diplome Percentage Vs CGPA"
   ]
  },
  {
   "cell_type": "code",
   "execution_count": 461,
   "metadata": {
    "scrolled": true
   },
   "outputs": [
    {
     "data": {
      "text/plain": [
       "ID          -0.239869\n",
       "AGE         -0.032067\n",
       "DIPPERC      0.346685\n",
       "NACADYEAR    0.463141\n",
       "CGPA         1.000000\n",
       "Name: CGPA, dtype: float64"
      ]
     },
     "execution_count": 461,
     "metadata": {},
     "output_type": "execute_result"
    }
   ],
   "source": [
    "Techno.corr()['CGPA'].sort_values()"
   ]
  },
  {
   "cell_type": "markdown",
   "metadata": {},
   "source": [
    "- Diplome PErcentage : Le coefiicient de correlation de pearson est de 0.34 donc il n'yas pas un lien considerable entre le pourcentage du diplome d'etat et le CGPA\n",
    "- Meme conclusion Pour l'age"
   ]
  },
  {
   "cell_type": "markdown",
   "metadata": {},
   "source": [
    "#### B.2 Gender "
   ]
  },
  {
   "cell_type": "code",
   "execution_count": 462,
   "metadata": {
    "scrolled": true
   },
   "outputs": [
    {
     "data": {
      "text/html": [
       "<div>\n",
       "<table border=\"1\" class=\"dataframe\">\n",
       "  <thead>\n",
       "    <tr style=\"text-align: right;\">\n",
       "      <th></th>\n",
       "      <th>df</th>\n",
       "      <th>sum_sq</th>\n",
       "      <th>mean_sq</th>\n",
       "      <th>F</th>\n",
       "      <th>PR(&gt;F)</th>\n",
       "    </tr>\n",
       "  </thead>\n",
       "  <tbody>\n",
       "    <tr>\n",
       "      <th>C(GENDER)</th>\n",
       "      <td>1.0</td>\n",
       "      <td>232.763899</td>\n",
       "      <td>232.763899</td>\n",
       "      <td>3.04747</td>\n",
       "      <td>0.081204</td>\n",
       "    </tr>\n",
       "    <tr>\n",
       "      <th>Residual</th>\n",
       "      <td>901.0</td>\n",
       "      <td>68817.820379</td>\n",
       "      <td>76.379379</td>\n",
       "      <td>NaN</td>\n",
       "      <td>NaN</td>\n",
       "    </tr>\n",
       "  </tbody>\n",
       "</table>\n",
       "</div>"
      ],
      "text/plain": [
       "              df        sum_sq     mean_sq        F    PR(>F)\n",
       "C(GENDER)    1.0    232.763899  232.763899  3.04747  0.081204\n",
       "Residual   901.0  68817.820379   76.379379      NaN       NaN"
      ]
     },
     "execution_count": 462,
     "metadata": {},
     "output_type": "execute_result"
    }
   ],
   "source": [
    "moore_lm = ols('CGPA ~ C(GENDER)',data=Techno).fit()\n",
    "aov_table = sm.stats.anova_lm(moore_lm, typ=1)\n",
    "aov_table"
   ]
  },
  {
   "cell_type": "markdown",
   "metadata": {},
   "source": [
    "Notre metrique nous montre que la moyenne de CGPA est la meme pour les deux sexes ! jettons un coup d'oeil  aux distribution avec des box-plot."
   ]
  },
  {
   "cell_type": "code",
   "execution_count": 463,
   "metadata": {
    "scrolled": false
   },
   "outputs": [
    {
     "data": {
      "image/png": "[encoded data removed]",
      "text/plain": [
       "<matplotlib.figure.Figure at 0x11095e290>"
      ]
     },
     "metadata": {},
     "output_type": "display_data"
    }
   ],
   "source": [
    "plt.figure(figsize=(12,6))\n",
    "ax=sns.boxplot(x=\"GENDER\", y=\"CGPA\", data=Techno)\n",
    "plt.savefig('GENDER-CGPA-Tech.png',dpi=100)"
   ]
  },
  {
   "cell_type": "code",
   "execution_count": 465,
   "metadata": {},
   "outputs": [
    {
     "data": {
      "text/plain": [
       "H    0.844961\n",
       "F    0.155039\n",
       "Name: GENDER, dtype: float64"
      ]
     },
     "execution_count": 465,
     "metadata": {},
     "output_type": "execute_result"
    }
   ],
   "source": [
    "Techno.GENDER.value_counts()/len(Techno)"
   ]
  },
  {
   "cell_type": "markdown",
   "metadata": {},
   "source": [
    "Nous remarquons que les 2 graphiques sont les memes , memes il ya un desequilibre car la facultée est constitué par 85% des hommes et 15% des femmes "
   ]
  },
  {
   "cell_type": "code",
   "execution_count": 466,
   "metadata": {
    "scrolled": false
   },
   "outputs": [
    {
     "data": {
      "text/html": [
       "<div>\n",
       "<table border=\"1\" class=\"dataframe\">\n",
       "  <thead>\n",
       "    <tr style=\"text-align: right;\">\n",
       "      <th></th>\n",
       "      <th>ID</th>\n",
       "      <th>DIPPERC</th>\n",
       "      <th>AGE</th>\n",
       "      <th>CGPA</th>\n",
       "      <th>NACADYEAR</th>\n",
       "    </tr>\n",
       "    <tr>\n",
       "      <th>GENDER</th>\n",
       "      <th></th>\n",
       "      <th></th>\n",
       "      <th></th>\n",
       "      <th></th>\n",
       "      <th></th>\n",
       "    </tr>\n",
       "  </thead>\n",
       "  <tbody>\n",
       "    <tr>\n",
       "      <th>F</th>\n",
       "      <td>9361.742857</td>\n",
       "      <td>60.905379</td>\n",
       "      <td>22.271429</td>\n",
       "      <td>56.604940</td>\n",
       "      <td>2.035714</td>\n",
       "    </tr>\n",
       "    <tr>\n",
       "      <th>H</th>\n",
       "      <td>9130.601573</td>\n",
       "      <td>58.581266</td>\n",
       "      <td>23.498034</td>\n",
       "      <td>55.202206</td>\n",
       "      <td>1.858453</td>\n",
       "    </tr>\n",
       "  </tbody>\n",
       "</table>\n",
       "</div>"
      ],
      "text/plain": [
       "                 ID    DIPPERC        AGE       CGPA  NACADYEAR\n",
       "GENDER                                                         \n",
       "F       9361.742857  60.905379  22.271429  56.604940   2.035714\n",
       "H       9130.601573  58.581266  23.498034  55.202206   1.858453"
      ]
     },
     "execution_count": 466,
     "metadata": {},
     "output_type": "execute_result"
    }
   ],
   "source": [
    "Techno.groupby('GENDER').mean()"
   ]
  },
  {
   "cell_type": "markdown",
   "metadata": {},
   "source": [
    "Mais on peut remarquer ques les femmes reussient bien legerement que les homme!"
   ]
  },
  {
   "cell_type": "markdown",
   "metadata": {},
   "source": [
    "#### B.4 Attribue Province"
   ]
  },
  {
   "cell_type": "code",
   "execution_count": 467,
   "metadata": {
    "scrolled": true
   },
   "outputs": [
    {
     "data": {
      "text/plain": [
       "Index([u'ID', u'SCHOOLSTATUS', u'SCHOOL_RIGHT', u'OPTION_RIGHT', u'FAC',\n",
       "       u'SCHOOLPROVINCE', u'GENDER', u'DIPPERC', u'AGE', u'CGPA',\n",
       "       u'DistinctionRatio', u'EchecRatio', u'NACADYEAR',\n",
       "       u'Pass1stSessionRatio'],\n",
       "      dtype='object')"
      ]
     },
     "execution_count": 467,
     "metadata": {},
     "output_type": "execute_result"
    }
   ],
   "source": [
    "Techno.columns"
   ]
  },
  {
   "cell_type": "code",
   "execution_count": 476,
   "metadata": {},
   "outputs": [
    {
     "data": {
      "text/html": [
       "<div>\n",
       "<table border=\"1\" class=\"dataframe\">\n",
       "  <thead>\n",
       "    <tr style=\"text-align: right;\">\n",
       "      <th></th>\n",
       "      <th>df</th>\n",
       "      <th>sum_sq</th>\n",
       "      <th>mean_sq</th>\n",
       "      <th>F</th>\n",
       "      <th>PR(&gt;F)</th>\n",
       "    </tr>\n",
       "  </thead>\n",
       "  <tbody>\n",
       "    <tr>\n",
       "      <th>C(SCHOOLPROVINCE)</th>\n",
       "      <td>11.0</td>\n",
       "      <td>1388.355204</td>\n",
       "      <td>126.214109</td>\n",
       "      <td>1.662032</td>\n",
       "      <td>0.07731</td>\n",
       "    </tr>\n",
       "    <tr>\n",
       "      <th>Residual</th>\n",
       "      <td>891.0</td>\n",
       "      <td>67662.229073</td>\n",
       "      <td>75.939651</td>\n",
       "      <td>NaN</td>\n",
       "      <td>NaN</td>\n",
       "    </tr>\n",
       "  </tbody>\n",
       "</table>\n",
       "</div>"
      ],
      "text/plain": [
       "                      df        sum_sq     mean_sq         F   PR(>F)\n",
       "C(SCHOOLPROVINCE)   11.0   1388.355204  126.214109  1.662032  0.07731\n",
       "Residual           891.0  67662.229073   75.939651       NaN      NaN"
      ]
     },
     "execution_count": 476,
     "metadata": {},
     "output_type": "execute_result"
    }
   ],
   "source": [
    "moore_lm = ols('CGPA ~ C(SCHOOLPROVINCE)',data=Techno).fit()\n",
    "aov_table = sm.stats.anova_lm(moore_lm, typ=1)\n",
    "aov_table"
   ]
  },
  {
   "cell_type": "markdown",
   "metadata": {},
   "source": [
    "PR =0.078 est superieur à 0.05 nous pouvons conclure que la moyenne est la meme sur toutes les facultés"
   ]
  },
  {
   "cell_type": "code",
   "execution_count": 472,
   "metadata": {
    "scrolled": true
   },
   "outputs": [
    {
     "data": {
      "text/html": [
       "<div>\n",
       "<table border=\"1\" class=\"dataframe\">\n",
       "  <thead>\n",
       "    <tr style=\"text-align: right;\">\n",
       "      <th></th>\n",
       "      <th>ID</th>\n",
       "      <th>DIPPERC</th>\n",
       "      <th>AGE</th>\n",
       "      <th>CGPA</th>\n",
       "      <th>NACADYEAR</th>\n",
       "    </tr>\n",
       "    <tr>\n",
       "      <th>SCHOOLPROVINCE</th>\n",
       "      <th></th>\n",
       "      <th></th>\n",
       "      <th></th>\n",
       "      <th></th>\n",
       "      <th></th>\n",
       "    </tr>\n",
       "  </thead>\n",
       "  <tbody>\n",
       "    <tr>\n",
       "      <th>KASAI ORIENTAL</th>\n",
       "      <td>9162.000000</td>\n",
       "      <td>66.000000</td>\n",
       "      <td>22.000000</td>\n",
       "      <td>61.599998</td>\n",
       "      <td>3.000000</td>\n",
       "    </tr>\n",
       "    <tr>\n",
       "      <th>inconnu</th>\n",
       "      <td>6095.800000</td>\n",
       "      <td>56.950609</td>\n",
       "      <td>26.200000</td>\n",
       "      <td>58.213333</td>\n",
       "      <td>2.600000</td>\n",
       "    </tr>\n",
       "    <tr>\n",
       "      <th>SUD-KIVU</th>\n",
       "      <td>8610.916667</td>\n",
       "      <td>58.295153</td>\n",
       "      <td>23.800926</td>\n",
       "      <td>56.657716</td>\n",
       "      <td>2.064815</td>\n",
       "    </tr>\n",
       "    <tr>\n",
       "      <th>KASAI OCCIDENTAL</th>\n",
       "      <td>7537.000000</td>\n",
       "      <td>56.000000</td>\n",
       "      <td>24.000000</td>\n",
       "      <td>55.433333</td>\n",
       "      <td>3.000000</td>\n",
       "    </tr>\n",
       "    <tr>\n",
       "      <th>NORD-KIVU</th>\n",
       "      <td>9360.864697</td>\n",
       "      <td>59.220456</td>\n",
       "      <td>22.958009</td>\n",
       "      <td>55.199728</td>\n",
       "      <td>1.828927</td>\n",
       "    </tr>\n",
       "    <tr>\n",
       "      <th>ORIENTALE</th>\n",
       "      <td>9563.125000</td>\n",
       "      <td>59.437500</td>\n",
       "      <td>24.437500</td>\n",
       "      <td>54.013541</td>\n",
       "      <td>1.875000</td>\n",
       "    </tr>\n",
       "    <tr>\n",
       "      <th>KINSHASA</th>\n",
       "      <td>8379.400000</td>\n",
       "      <td>59.400000</td>\n",
       "      <td>30.800000</td>\n",
       "      <td>52.480000</td>\n",
       "      <td>2.000000</td>\n",
       "    </tr>\n",
       "    <tr>\n",
       "      <th>KATANGA</th>\n",
       "      <td>10921.166667</td>\n",
       "      <td>56.666667</td>\n",
       "      <td>23.166667</td>\n",
       "      <td>50.861111</td>\n",
       "      <td>1.333333</td>\n",
       "    </tr>\n",
       "    <tr>\n",
       "      <th>K OR</th>\n",
       "      <td>7683.000000</td>\n",
       "      <td>55.000000</td>\n",
       "      <td>33.000000</td>\n",
       "      <td>49.100000</td>\n",
       "      <td>2.000000</td>\n",
       "    </tr>\n",
       "    <tr>\n",
       "      <th>MANIEMA</th>\n",
       "      <td>9028.285714</td>\n",
       "      <td>55.142857</td>\n",
       "      <td>28.857143</td>\n",
       "      <td>48.642857</td>\n",
       "      <td>1.428571</td>\n",
       "    </tr>\n",
       "    <tr>\n",
       "      <th>BANDUNDU</th>\n",
       "      <td>11548.000000</td>\n",
       "      <td>62.000000</td>\n",
       "      <td>22.000000</td>\n",
       "      <td>42.000000</td>\n",
       "      <td>1.000000</td>\n",
       "    </tr>\n",
       "    <tr>\n",
       "      <th>EQUATEUR</th>\n",
       "      <td>8258.000000</td>\n",
       "      <td>56.000000</td>\n",
       "      <td>26.000000</td>\n",
       "      <td>41.000000</td>\n",
       "      <td>1.000000</td>\n",
       "    </tr>\n",
       "  </tbody>\n",
       "</table>\n",
       "</div>"
      ],
      "text/plain": [
       "                            ID    DIPPERC        AGE       CGPA  NACADYEAR\n",
       "SCHOOLPROVINCE                                                            \n",
       "KASAI ORIENTAL     9162.000000  66.000000  22.000000  61.599998   3.000000\n",
       "inconnu            6095.800000  56.950609  26.200000  58.213333   2.600000\n",
       "SUD-KIVU           8610.916667  58.295153  23.800926  56.657716   2.064815\n",
       "KASAI OCCIDENTAL   7537.000000  56.000000  24.000000  55.433333   3.000000\n",
       "NORD-KIVU          9360.864697  59.220456  22.958009  55.199728   1.828927\n",
       "ORIENTALE          9563.125000  59.437500  24.437500  54.013541   1.875000\n",
       "KINSHASA           8379.400000  59.400000  30.800000  52.480000   2.000000\n",
       "KATANGA           10921.166667  56.666667  23.166667  50.861111   1.333333\n",
       "K OR               7683.000000  55.000000  33.000000  49.100000   2.000000\n",
       "MANIEMA            9028.285714  55.142857  28.857143  48.642857   1.428571\n",
       "BANDUNDU          11548.000000  62.000000  22.000000  42.000000   1.000000\n",
       "EQUATEUR           8258.000000  56.000000  26.000000  41.000000   1.000000"
      ]
     },
     "execution_count": 472,
     "metadata": {},
     "output_type": "execute_result"
    }
   ],
   "source": [
    "Techno.groupby('SCHOOLPROVINCE').mean().sort(axis=0,columns='CGPA',ascending=False)"
   ]
  },
  {
   "cell_type": "markdown",
   "metadata": {},
   "source": [
    "Nous remarquons que la moyenne de GPA est superieur Pour la province Kasai oriental , ensuite vienne la province du sud-Kivu , le kasai occiental et la province du Nord Kivu"
   ]
  },
  {
   "cell_type": "code",
   "execution_count": 474,
   "metadata": {
    "scrolled": true
   },
   "outputs": [
    {
     "data": {
      "image/png": "[encoded data removed]",
      "text/plain": [
       "<matplotlib.figure.Figure at 0x1117e8490>"
      ]
     },
     "metadata": {},
     "output_type": "display_data"
    }
   ],
   "source": [
    "plt.figure(figsize=(15,6))\n",
    "ax=sns.boxplot(x=\"SCHOOLPROVINCE\", y=\"CGPA\", data=Techno)\n",
    "plt.savefig('GENDER-SCHOOLPROVINCE-Tech.png',dpi=100)"
   ]
  },
  {
   "cell_type": "markdown",
   "metadata": {},
   "source": [
    "Sur le graphique on conclu Rapidement que les étudiant provenant de la province du sud Kivu sont plus performant en faulté de Technologie"
   ]
  },
  {
   "cell_type": "markdown",
   "metadata": {},
   "source": [
    "#### B.5 Stattus de L'école "
   ]
  },
  {
   "cell_type": "code",
   "execution_count": 477,
   "metadata": {
    "scrolled": true
   },
   "outputs": [
    {
     "data": {
      "text/html": [
       "<div>\n",
       "<table border=\"1\" class=\"dataframe\">\n",
       "  <thead>\n",
       "    <tr style=\"text-align: right;\">\n",
       "      <th></th>\n",
       "      <th>df</th>\n",
       "      <th>sum_sq</th>\n",
       "      <th>mean_sq</th>\n",
       "      <th>F</th>\n",
       "      <th>PR(&gt;F)</th>\n",
       "    </tr>\n",
       "  </thead>\n",
       "  <tbody>\n",
       "    <tr>\n",
       "      <th>C(SCHOOLSTATUS)</th>\n",
       "      <td>7.0</td>\n",
       "      <td>5417.817584</td>\n",
       "      <td>773.973941</td>\n",
       "      <td>10.886006</td>\n",
       "      <td>3.123579e-13</td>\n",
       "    </tr>\n",
       "    <tr>\n",
       "      <th>Residual</th>\n",
       "      <td>895.0</td>\n",
       "      <td>63632.766694</td>\n",
       "      <td>71.098063</td>\n",
       "      <td>NaN</td>\n",
       "      <td>NaN</td>\n",
       "    </tr>\n",
       "  </tbody>\n",
       "</table>\n",
       "</div>"
      ],
      "text/plain": [
       "                    df        sum_sq     mean_sq          F        PR(>F)\n",
       "C(SCHOOLSTATUS)    7.0   5417.817584  773.973941  10.886006  3.123579e-13\n",
       "Residual         895.0  63632.766694   71.098063        NaN           NaN"
      ]
     },
     "execution_count": 477,
     "metadata": {},
     "output_type": "execute_result"
    }
   ],
   "source": [
    "moore_lm = ols('CGPA ~ C(SCHOOLSTATUS)',data=Techno).fit()\n",
    "aov_table = sm.stats.anova_lm(moore_lm, typ=1)\n",
    "aov_table"
   ]
  },
  {
   "cell_type": "markdown",
   "metadata": {},
   "source": [
    "Il n'ya aucun lien entre les moyennes de CGPA pour les differents status de l\"ecole"
   ]
  },
  {
   "cell_type": "code",
   "execution_count": 478,
   "metadata": {
    "scrolled": false
   },
   "outputs": [
    {
     "data": {
      "text/html": [
       "<div>\n",
       "<table border=\"1\" class=\"dataframe\">\n",
       "  <thead>\n",
       "    <tr style=\"text-align: right;\">\n",
       "      <th></th>\n",
       "      <th>ID</th>\n",
       "      <th>DIPPERC</th>\n",
       "      <th>AGE</th>\n",
       "      <th>CGPA</th>\n",
       "      <th>NACADYEAR</th>\n",
       "    </tr>\n",
       "    <tr>\n",
       "      <th>SCHOOLSTATUS</th>\n",
       "      <th></th>\n",
       "      <th></th>\n",
       "      <th></th>\n",
       "      <th></th>\n",
       "      <th></th>\n",
       "    </tr>\n",
       "  </thead>\n",
       "  <tbody>\n",
       "    <tr>\n",
       "      <th>catholique</th>\n",
       "      <td>8943.467422</td>\n",
       "      <td>61.121813</td>\n",
       "      <td>23.116147</td>\n",
       "      <td>58.326393</td>\n",
       "      <td>2.011331</td>\n",
       "    </tr>\n",
       "    <tr>\n",
       "      <th>autodidacte</th>\n",
       "      <td>9656.222222</td>\n",
       "      <td>59.888889</td>\n",
       "      <td>24.888889</td>\n",
       "      <td>54.787963</td>\n",
       "      <td>2.000000</td>\n",
       "    </tr>\n",
       "    <tr>\n",
       "      <th>protestant</th>\n",
       "      <td>9337.902326</td>\n",
       "      <td>58.241286</td>\n",
       "      <td>22.995349</td>\n",
       "      <td>54.296008</td>\n",
       "      <td>1.739535</td>\n",
       "    </tr>\n",
       "    <tr>\n",
       "      <th>inconnu</th>\n",
       "      <td>8644.352000</td>\n",
       "      <td>56.811061</td>\n",
       "      <td>24.800000</td>\n",
       "      <td>53.958533</td>\n",
       "      <td>2.120000</td>\n",
       "    </tr>\n",
       "    <tr>\n",
       "      <th>publique</th>\n",
       "      <td>9611.635659</td>\n",
       "      <td>57.348837</td>\n",
       "      <td>22.976744</td>\n",
       "      <td>52.992959</td>\n",
       "      <td>1.728682</td>\n",
       "    </tr>\n",
       "    <tr>\n",
       "      <th>privé</th>\n",
       "      <td>9754.985714</td>\n",
       "      <td>56.742857</td>\n",
       "      <td>22.985714</td>\n",
       "      <td>51.556667</td>\n",
       "      <td>1.571429</td>\n",
       "    </tr>\n",
       "    <tr>\n",
       "      <th>musulman</th>\n",
       "      <td>10336.000000</td>\n",
       "      <td>61.000000</td>\n",
       "      <td>23.000000</td>\n",
       "      <td>51.150000</td>\n",
       "      <td>2.000000</td>\n",
       "    </tr>\n",
       "    <tr>\n",
       "      <th>kimbanguiste</th>\n",
       "      <td>12064.000000</td>\n",
       "      <td>55.000000</td>\n",
       "      <td>23.000000</td>\n",
       "      <td>47.000000</td>\n",
       "      <td>1.000000</td>\n",
       "    </tr>\n",
       "  </tbody>\n",
       "</table>\n",
       "</div>"
      ],
      "text/plain": [
       "                        ID    DIPPERC        AGE       CGPA  NACADYEAR\n",
       "SCHOOLSTATUS                                                          \n",
       "catholique     8943.467422  61.121813  23.116147  58.326393   2.011331\n",
       "autodidacte    9656.222222  59.888889  24.888889  54.787963   2.000000\n",
       "protestant     9337.902326  58.241286  22.995349  54.296008   1.739535\n",
       "inconnu        8644.352000  56.811061  24.800000  53.958533   2.120000\n",
       "publique       9611.635659  57.348837  22.976744  52.992959   1.728682\n",
       "privé          9754.985714  56.742857  22.985714  51.556667   1.571429\n",
       "musulman      10336.000000  61.000000  23.000000  51.150000   2.000000\n",
       "kimbanguiste  12064.000000  55.000000  23.000000  47.000000   1.000000"
      ]
     },
     "execution_count": 478,
     "metadata": {},
     "output_type": "execute_result"
    }
   ],
   "source": [
    "Techno.groupby('SCHOOLSTATUS').mean().sort(axis=0,columns='CGPA',ascending=False)"
   ]
  },
  {
   "cell_type": "markdown",
   "metadata": {},
   "source": [
    "Nous remarquons que les éetudiant venant des écoles catholiques reussiseent mieux en faculté de techno , ensuite les autodidacte ,ensuite ceux des ecoles protestatntes"
   ]
  },
  {
   "cell_type": "markdown",
   "metadata": {},
   "source": [
    "Voyons cela de plus pret avec box-plot"
   ]
  },
  {
   "cell_type": "code",
   "execution_count": 479,
   "metadata": {
    "scrolled": true
   },
   "outputs": [
    {
     "data": {
      "image/png": "[encoded data removed]",
      "text/plain": [
       "<matplotlib.figure.Figure at 0x1108ec390>"
      ]
     },
     "metadata": {},
     "output_type": "display_data"
    }
   ],
   "source": [
    "plt.figure(figsize=(12,6))\n",
    "ax=sns.boxplot(x=\"SCHOOLSTATUS\", y=\"CGPA\", data=Techno)\n",
    "plt.savefig('GENDER-SCHOOLSTATUS-Tech.png',dpi=100)"
   ]
  },
  {
   "cell_type": "markdown",
   "metadata": {},
   "source": [
    "#### B.Les Ecoles de provenances"
   ]
  },
  {
   "cell_type": "code",
   "execution_count": 480,
   "metadata": {
    "scrolled": true
   },
   "outputs": [
    {
     "data": {
      "text/html": [
       "<div>\n",
       "<table border=\"1\" class=\"dataframe\">\n",
       "  <thead>\n",
       "    <tr style=\"text-align: right;\">\n",
       "      <th></th>\n",
       "      <th>df</th>\n",
       "      <th>sum_sq</th>\n",
       "      <th>mean_sq</th>\n",
       "      <th>F</th>\n",
       "      <th>PR(&gt;F)</th>\n",
       "    </tr>\n",
       "  </thead>\n",
       "  <tbody>\n",
       "    <tr>\n",
       "      <th>C(SCHOOL_RIGHT)</th>\n",
       "      <td>215.0</td>\n",
       "      <td>26367.460860</td>\n",
       "      <td>122.639353</td>\n",
       "      <td>1.973924</td>\n",
       "      <td>3.939156e-11</td>\n",
       "    </tr>\n",
       "    <tr>\n",
       "      <th>Residual</th>\n",
       "      <td>687.0</td>\n",
       "      <td>42683.123418</td>\n",
       "      <td>62.129728</td>\n",
       "      <td>NaN</td>\n",
       "      <td>NaN</td>\n",
       "    </tr>\n",
       "  </tbody>\n",
       "</table>\n",
       "</div>"
      ],
      "text/plain": [
       "                    df        sum_sq     mean_sq         F        PR(>F)\n",
       "C(SCHOOL_RIGHT)  215.0  26367.460860  122.639353  1.973924  3.939156e-11\n",
       "Residual         687.0  42683.123418   62.129728       NaN           NaN"
      ]
     },
     "execution_count": 480,
     "metadata": {},
     "output_type": "execute_result"
    }
   ],
   "source": [
    "moore_lm = ols('CGPA ~ C(SCHOOL_RIGHT)',data=Techno).fit()\n",
    "aov_table = sm.stats.anova_lm(moore_lm, typ=1)\n",
    "aov_table"
   ]
  },
  {
   "cell_type": "markdown",
   "metadata": {},
   "source": [
    "Aucunne correlation n'existe entre l\"ecole et le CGPA au vu de la valeur de PR'"
   ]
  },
  {
   "cell_type": "code",
   "execution_count": 504,
   "metadata": {
    "scrolled": true
   },
   "outputs": [],
   "source": [
    "SchoolGroup=Techno.groupby('SCHOOL_RIGHT').mean().sort(axis=0,columns='CGPA',ascending=False)"
   ]
  },
  {
   "cell_type": "code",
   "execution_count": 505,
   "metadata": {
    "collapsed": true
   },
   "outputs": [],
   "source": [
    "SchoolGroup.reset_index(inplace=True)"
   ]
  },
  {
   "cell_type": "code",
   "execution_count": 506,
   "metadata": {
    "scrolled": false
   },
   "outputs": [
    {
     "data": {
      "text/html": [
       "<div>\n",
       "<table border=\"1\" class=\"dataframe\">\n",
       "  <thead>\n",
       "    <tr style=\"text-align: right;\">\n",
       "      <th></th>\n",
       "      <th>SCHOOL_RIGHT</th>\n",
       "      <th>ID</th>\n",
       "      <th>DIPPERC</th>\n",
       "      <th>AGE</th>\n",
       "      <th>CGPA</th>\n",
       "      <th>NACADYEAR</th>\n",
       "    </tr>\n",
       "  </thead>\n",
       "  <tbody>\n",
       "    <tr>\n",
       "      <th>0</th>\n",
       "      <td>nikisi</td>\n",
       "      <td>4249.000000</td>\n",
       "      <td>58.000000</td>\n",
       "      <td>26.000000</td>\n",
       "      <td>75.349998</td>\n",
       "      <td>2.000000</td>\n",
       "    </tr>\n",
       "    <tr>\n",
       "      <th>1</th>\n",
       "      <td>technique ind. de mahamba</td>\n",
       "      <td>12228.000000</td>\n",
       "      <td>62.000000</td>\n",
       "      <td>24.000000</td>\n",
       "      <td>71.900002</td>\n",
       "      <td>1.000000</td>\n",
       "    </tr>\n",
       "    <tr>\n",
       "      <th>2</th>\n",
       "      <td>INST DE KATWA</td>\n",
       "      <td>3992.000000</td>\n",
       "      <td>67.000000</td>\n",
       "      <td>27.000000</td>\n",
       "      <td>68.900002</td>\n",
       "      <td>2.000000</td>\n",
       "    </tr>\n",
       "    <tr>\n",
       "      <th>3</th>\n",
       "      <td>mululusake</td>\n",
       "      <td>11662.000000</td>\n",
       "      <td>73.000000</td>\n",
       "      <td>19.000000</td>\n",
       "      <td>68.500000</td>\n",
       "      <td>1.000000</td>\n",
       "    </tr>\n",
       "    <tr>\n",
       "      <th>4</th>\n",
       "      <td>cirezi</td>\n",
       "      <td>8139.500000</td>\n",
       "      <td>58.750000</td>\n",
       "      <td>22.000000</td>\n",
       "      <td>65.970834</td>\n",
       "      <td>3.250000</td>\n",
       "    </tr>\n",
       "    <tr>\n",
       "      <th>5</th>\n",
       "      <td>vungi</td>\n",
       "      <td>8077.666667</td>\n",
       "      <td>55.000000</td>\n",
       "      <td>23.666667</td>\n",
       "      <td>64.772222</td>\n",
       "      <td>2.666667</td>\n",
       "    </tr>\n",
       "    <tr>\n",
       "      <th>6</th>\n",
       "      <td>itfm/bukavu</td>\n",
       "      <td>7963.804878</td>\n",
       "      <td>58.777476</td>\n",
       "      <td>23.902439</td>\n",
       "      <td>64.395529</td>\n",
       "      <td>2.048780</td>\n",
       "    </tr>\n",
       "    <tr>\n",
       "      <th>7</th>\n",
       "      <td>saint michel</td>\n",
       "      <td>10016.000000</td>\n",
       "      <td>60.000000</td>\n",
       "      <td>23.000000</td>\n",
       "      <td>64.049999</td>\n",
       "      <td>2.000000</td>\n",
       "    </tr>\n",
       "    <tr>\n",
       "      <th>8</th>\n",
       "      <td>katana</td>\n",
       "      <td>9144.000000</td>\n",
       "      <td>57.000000</td>\n",
       "      <td>22.000000</td>\n",
       "      <td>63.466667</td>\n",
       "      <td>3.000000</td>\n",
       "    </tr>\n",
       "    <tr>\n",
       "      <th>9</th>\n",
       "      <td>it bugabo</td>\n",
       "      <td>10308.000000</td>\n",
       "      <td>50.000000</td>\n",
       "      <td>22.000000</td>\n",
       "      <td>62.799999</td>\n",
       "      <td>2.000000</td>\n",
       "    </tr>\n",
       "    <tr>\n",
       "      <th>10</th>\n",
       "      <td>kambali</td>\n",
       "      <td>9772.500000</td>\n",
       "      <td>63.500000</td>\n",
       "      <td>22.500000</td>\n",
       "      <td>62.529166</td>\n",
       "      <td>2.000000</td>\n",
       "    </tr>\n",
       "    <tr>\n",
       "      <th>11</th>\n",
       "      <td>wima</td>\n",
       "      <td>8213.400000</td>\n",
       "      <td>69.400000</td>\n",
       "      <td>22.600000</td>\n",
       "      <td>62.156667</td>\n",
       "      <td>3.000000</td>\n",
       "    </tr>\n",
       "    <tr>\n",
       "      <th>12</th>\n",
       "      <td>epsk/fomulac</td>\n",
       "      <td>10251.000000</td>\n",
       "      <td>60.500000</td>\n",
       "      <td>22.500000</td>\n",
       "      <td>61.916665</td>\n",
       "      <td>2.000000</td>\n",
       "    </tr>\n",
       "    <tr>\n",
       "      <th>13</th>\n",
       "      <td>edap/isp bukavu</td>\n",
       "      <td>10678.250000</td>\n",
       "      <td>61.250000</td>\n",
       "      <td>22.000000</td>\n",
       "      <td>61.912500</td>\n",
       "      <td>2.000000</td>\n",
       "    </tr>\n",
       "    <tr>\n",
       "      <th>14</th>\n",
       "      <td>du lac</td>\n",
       "      <td>10452.000000</td>\n",
       "      <td>52.000000</td>\n",
       "      <td>21.000000</td>\n",
       "      <td>61.650000</td>\n",
       "      <td>2.000000</td>\n",
       "    </tr>\n",
       "    <tr>\n",
       "      <th>15</th>\n",
       "      <td>MWANDU</td>\n",
       "      <td>6742.000000</td>\n",
       "      <td>58.000000</td>\n",
       "      <td>25.000000</td>\n",
       "      <td>61.633334</td>\n",
       "      <td>3.000000</td>\n",
       "    </tr>\n",
       "    <tr>\n",
       "      <th>16</th>\n",
       "      <td>Lwanga</td>\n",
       "      <td>10275.666667</td>\n",
       "      <td>56.666667</td>\n",
       "      <td>21.666667</td>\n",
       "      <td>61.583333</td>\n",
       "      <td>1.333333</td>\n",
       "    </tr>\n",
       "    <tr>\n",
       "      <th>17</th>\n",
       "      <td>i katwa</td>\n",
       "      <td>8508.000000</td>\n",
       "      <td>65.000000</td>\n",
       "      <td>23.000000</td>\n",
       "      <td>61.550000</td>\n",
       "      <td>4.000000</td>\n",
       "    </tr>\n",
       "    <tr>\n",
       "      <th>18</th>\n",
       "      <td>LWANGA</td>\n",
       "      <td>7650.000000</td>\n",
       "      <td>66.000000</td>\n",
       "      <td>27.000000</td>\n",
       "      <td>61.366667</td>\n",
       "      <td>3.000000</td>\n",
       "    </tr>\n",
       "    <tr>\n",
       "      <th>19</th>\n",
       "      <td>61</td>\n",
       "      <td>8477.000000</td>\n",
       "      <td>56.876522</td>\n",
       "      <td>23.000000</td>\n",
       "      <td>61.025002</td>\n",
       "      <td>4.000000</td>\n",
       "    </tr>\n",
       "    <tr>\n",
       "      <th>20</th>\n",
       "      <td>kanyabayonga</td>\n",
       "      <td>8439.500000</td>\n",
       "      <td>53.500000</td>\n",
       "      <td>25.500000</td>\n",
       "      <td>60.958333</td>\n",
       "      <td>2.500000</td>\n",
       "    </tr>\n",
       "    <tr>\n",
       "      <th>21</th>\n",
       "      <td>de beni</td>\n",
       "      <td>10213.000000</td>\n",
       "      <td>53.000000</td>\n",
       "      <td>20.000000</td>\n",
       "      <td>60.799999</td>\n",
       "      <td>2.000000</td>\n",
       "    </tr>\n",
       "    <tr>\n",
       "      <th>22</th>\n",
       "      <td>amani</td>\n",
       "      <td>9254.590909</td>\n",
       "      <td>68.863636</td>\n",
       "      <td>21.863636</td>\n",
       "      <td>60.732575</td>\n",
       "      <td>2.318182</td>\n",
       "    </tr>\n",
       "    <tr>\n",
       "      <th>23</th>\n",
       "      <td>itig</td>\n",
       "      <td>7725.847458</td>\n",
       "      <td>59.542373</td>\n",
       "      <td>24.949153</td>\n",
       "      <td>60.627684</td>\n",
       "      <td>2.254237</td>\n",
       "    </tr>\n",
       "    <tr>\n",
       "      <th>24</th>\n",
       "      <td>mgr guido</td>\n",
       "      <td>8385.000000</td>\n",
       "      <td>57.000000</td>\n",
       "      <td>23.666667</td>\n",
       "      <td>60.200001</td>\n",
       "      <td>2.000000</td>\n",
       "    </tr>\n",
       "    <tr>\n",
       "      <th>25</th>\n",
       "      <td>metanoia</td>\n",
       "      <td>8642.814815</td>\n",
       "      <td>62.740741</td>\n",
       "      <td>22.888889</td>\n",
       "      <td>60.040741</td>\n",
       "      <td>2.074074</td>\n",
       "    </tr>\n",
       "    <tr>\n",
       "      <th>26</th>\n",
       "      <td>edap isp bkv</td>\n",
       "      <td>9219.333333</td>\n",
       "      <td>59.333333</td>\n",
       "      <td>22.666667</td>\n",
       "      <td>59.901389</td>\n",
       "      <td>2.666667</td>\n",
       "    </tr>\n",
       "    <tr>\n",
       "      <th>27</th>\n",
       "      <td>avenir</td>\n",
       "      <td>8828.714286</td>\n",
       "      <td>53.571429</td>\n",
       "      <td>24.071429</td>\n",
       "      <td>59.677381</td>\n",
       "      <td>2.142857</td>\n",
       "    </tr>\n",
       "    <tr>\n",
       "      <th>28</th>\n",
       "      <td>edap/isp</td>\n",
       "      <td>6666.857143</td>\n",
       "      <td>58.285714</td>\n",
       "      <td>26.142857</td>\n",
       "      <td>59.600000</td>\n",
       "      <td>2.142857</td>\n",
       "    </tr>\n",
       "    <tr>\n",
       "      <th>29</th>\n",
       "      <td>majengo</td>\n",
       "      <td>8428.282051</td>\n",
       "      <td>61.358974</td>\n",
       "      <td>23.666667</td>\n",
       "      <td>59.442735</td>\n",
       "      <td>1.871795</td>\n",
       "    </tr>\n",
       "    <tr>\n",
       "      <th>...</th>\n",
       "      <td>...</td>\n",
       "      <td>...</td>\n",
       "      <td>...</td>\n",
       "      <td>...</td>\n",
       "      <td>...</td>\n",
       "      <td>...</td>\n",
       "    </tr>\n",
       "    <tr>\n",
       "      <th>183</th>\n",
       "      <td>lumumba</td>\n",
       "      <td>9807.000000</td>\n",
       "      <td>53.000000</td>\n",
       "      <td>42.000000</td>\n",
       "      <td>44.000000</td>\n",
       "      <td>1.000000</td>\n",
       "    </tr>\n",
       "    <tr>\n",
       "      <th>184</th>\n",
       "      <td>alfa</td>\n",
       "      <td>9161.000000</td>\n",
       "      <td>54.000000</td>\n",
       "      <td>24.000000</td>\n",
       "      <td>44.000000</td>\n",
       "      <td>1.000000</td>\n",
       "    </tr>\n",
       "    <tr>\n",
       "      <th>185</th>\n",
       "      <td>masisi</td>\n",
       "      <td>11624.000000</td>\n",
       "      <td>52.000000</td>\n",
       "      <td>22.000000</td>\n",
       "      <td>44.000000</td>\n",
       "      <td>1.000000</td>\n",
       "    </tr>\n",
       "    <tr>\n",
       "      <th>186</th>\n",
       "      <td>ipp/beni</td>\n",
       "      <td>11808.000000</td>\n",
       "      <td>59.000000</td>\n",
       "      <td>19.000000</td>\n",
       "      <td>44.000000</td>\n",
       "      <td>1.000000</td>\n",
       "    </tr>\n",
       "    <tr>\n",
       "      <th>187</th>\n",
       "      <td>kahya cibanda</td>\n",
       "      <td>10081.500000</td>\n",
       "      <td>51.000000</td>\n",
       "      <td>23.500000</td>\n",
       "      <td>43.500000</td>\n",
       "      <td>1.000000</td>\n",
       "    </tr>\n",
       "    <tr>\n",
       "      <th>188</th>\n",
       "      <td>mayele</td>\n",
       "      <td>8742.000000</td>\n",
       "      <td>58.000000</td>\n",
       "      <td>30.000000</td>\n",
       "      <td>43.500000</td>\n",
       "      <td>2.000000</td>\n",
       "    </tr>\n",
       "    <tr>\n",
       "      <th>189</th>\n",
       "      <td>kiribunye</td>\n",
       "      <td>9074.000000</td>\n",
       "      <td>50.000000</td>\n",
       "      <td>24.000000</td>\n",
       "      <td>43.000000</td>\n",
       "      <td>1.000000</td>\n",
       "    </tr>\n",
       "    <tr>\n",
       "      <th>190</th>\n",
       "      <td>st augustin</td>\n",
       "      <td>10765.000000</td>\n",
       "      <td>56.000000</td>\n",
       "      <td>26.000000</td>\n",
       "      <td>43.000000</td>\n",
       "      <td>2.000000</td>\n",
       "    </tr>\n",
       "    <tr>\n",
       "      <th>191</th>\n",
       "      <td>la pereaux</td>\n",
       "      <td>11823.000000</td>\n",
       "      <td>58.000000</td>\n",
       "      <td>21.000000</td>\n",
       "      <td>43.000000</td>\n",
       "      <td>1.000000</td>\n",
       "    </tr>\n",
       "    <tr>\n",
       "      <th>192</th>\n",
       "      <td>alpha</td>\n",
       "      <td>11990.000000</td>\n",
       "      <td>57.000000</td>\n",
       "      <td>23.000000</td>\n",
       "      <td>43.000000</td>\n",
       "      <td>1.000000</td>\n",
       "    </tr>\n",
       "    <tr>\n",
       "      <th>193</th>\n",
       "      <td>kitsombiro</td>\n",
       "      <td>9882.000000</td>\n",
       "      <td>52.000000</td>\n",
       "      <td>24.000000</td>\n",
       "      <td>43.000000</td>\n",
       "      <td>1.000000</td>\n",
       "    </tr>\n",
       "    <tr>\n",
       "      <th>194</th>\n",
       "      <td>bwindi</td>\n",
       "      <td>7550.000000</td>\n",
       "      <td>59.000000</td>\n",
       "      <td>26.000000</td>\n",
       "      <td>42.500000</td>\n",
       "      <td>2.000000</td>\n",
       "    </tr>\n",
       "    <tr>\n",
       "      <th>195</th>\n",
       "      <td>nengapeta</td>\n",
       "      <td>4246.000000</td>\n",
       "      <td>51.000000</td>\n",
       "      <td>30.000000</td>\n",
       "      <td>42.400000</td>\n",
       "      <td>2.000000</td>\n",
       "    </tr>\n",
       "    <tr>\n",
       "      <th>196</th>\n",
       "      <td>wai wai</td>\n",
       "      <td>11754.000000</td>\n",
       "      <td>53.000000</td>\n",
       "      <td>20.000000</td>\n",
       "      <td>42.000000</td>\n",
       "      <td>1.000000</td>\n",
       "    </tr>\n",
       "    <tr>\n",
       "      <th>197</th>\n",
       "      <td>tuzo</td>\n",
       "      <td>10717.000000</td>\n",
       "      <td>51.000000</td>\n",
       "      <td>27.000000</td>\n",
       "      <td>42.000000</td>\n",
       "      <td>1.000000</td>\n",
       "    </tr>\n",
       "    <tr>\n",
       "      <th>198</th>\n",
       "      <td>asseco</td>\n",
       "      <td>9520.000000</td>\n",
       "      <td>55.000000</td>\n",
       "      <td>24.000000</td>\n",
       "      <td>42.000000</td>\n",
       "      <td>1.000000</td>\n",
       "    </tr>\n",
       "    <tr>\n",
       "      <th>199</th>\n",
       "      <td>mehe</td>\n",
       "      <td>10855.000000</td>\n",
       "      <td>63.000000</td>\n",
       "      <td>28.000000</td>\n",
       "      <td>42.000000</td>\n",
       "      <td>1.000000</td>\n",
       "    </tr>\n",
       "    <tr>\n",
       "      <th>200</th>\n",
       "      <td>saint mariya goritti</td>\n",
       "      <td>11548.000000</td>\n",
       "      <td>62.000000</td>\n",
       "      <td>22.000000</td>\n",
       "      <td>42.000000</td>\n",
       "      <td>1.000000</td>\n",
       "    </tr>\n",
       "    <tr>\n",
       "      <th>201</th>\n",
       "      <td>technique mapendano</td>\n",
       "      <td>11985.000000</td>\n",
       "      <td>52.000000</td>\n",
       "      <td>23.000000</td>\n",
       "      <td>42.000000</td>\n",
       "      <td>1.000000</td>\n",
       "    </tr>\n",
       "    <tr>\n",
       "      <th>202</th>\n",
       "      <td>mululu</td>\n",
       "      <td>9949.000000</td>\n",
       "      <td>57.000000</td>\n",
       "      <td>21.000000</td>\n",
       "      <td>42.000000</td>\n",
       "      <td>1.000000</td>\n",
       "    </tr>\n",
       "    <tr>\n",
       "      <th>203</th>\n",
       "      <td>mungano</td>\n",
       "      <td>12181.000000</td>\n",
       "      <td>57.000000</td>\n",
       "      <td>22.000000</td>\n",
       "      <td>42.000000</td>\n",
       "      <td>1.000000</td>\n",
       "    </tr>\n",
       "    <tr>\n",
       "      <th>204</th>\n",
       "      <td>ovoa</td>\n",
       "      <td>10868.000000</td>\n",
       "      <td>57.000000</td>\n",
       "      <td>25.000000</td>\n",
       "      <td>42.000000</td>\n",
       "      <td>1.000000</td>\n",
       "    </tr>\n",
       "    <tr>\n",
       "      <th>205</th>\n",
       "      <td>complexe scolaire nova stella</td>\n",
       "      <td>10314.000000</td>\n",
       "      <td>55.000000</td>\n",
       "      <td>21.000000</td>\n",
       "      <td>41.599998</td>\n",
       "      <td>1.000000</td>\n",
       "    </tr>\n",
       "    <tr>\n",
       "      <th>206</th>\n",
       "      <td>maboso</td>\n",
       "      <td>8258.000000</td>\n",
       "      <td>56.000000</td>\n",
       "      <td>26.000000</td>\n",
       "      <td>41.000000</td>\n",
       "      <td>1.000000</td>\n",
       "    </tr>\n",
       "    <tr>\n",
       "      <th>207</th>\n",
       "      <td>molière</td>\n",
       "      <td>9210.000000</td>\n",
       "      <td>63.000000</td>\n",
       "      <td>22.000000</td>\n",
       "      <td>41.000000</td>\n",
       "      <td>1.000000</td>\n",
       "    </tr>\n",
       "    <tr>\n",
       "      <th>208</th>\n",
       "      <td>kimbilio</td>\n",
       "      <td>10669.000000</td>\n",
       "      <td>59.000000</td>\n",
       "      <td>23.000000</td>\n",
       "      <td>41.000000</td>\n",
       "      <td>1.000000</td>\n",
       "    </tr>\n",
       "    <tr>\n",
       "      <th>209</th>\n",
       "      <td>kahumo</td>\n",
       "      <td>11892.000000</td>\n",
       "      <td>59.000000</td>\n",
       "      <td>26.000000</td>\n",
       "      <td>40.000000</td>\n",
       "      <td>1.000000</td>\n",
       "    </tr>\n",
       "    <tr>\n",
       "      <th>210</th>\n",
       "      <td>kimua</td>\n",
       "      <td>9893.000000</td>\n",
       "      <td>57.000000</td>\n",
       "      <td>24.000000</td>\n",
       "      <td>40.000000</td>\n",
       "      <td>1.000000</td>\n",
       "    </tr>\n",
       "    <tr>\n",
       "      <th>211</th>\n",
       "      <td>kaya</td>\n",
       "      <td>10914.000000</td>\n",
       "      <td>52.000000</td>\n",
       "      <td>23.000000</td>\n",
       "      <td>40.000000</td>\n",
       "      <td>1.000000</td>\n",
       "    </tr>\n",
       "    <tr>\n",
       "      <th>212</th>\n",
       "      <td>buhimba</td>\n",
       "      <td>9529.000000</td>\n",
       "      <td>60.000000</td>\n",
       "      <td>22.000000</td>\n",
       "      <td>40.000000</td>\n",
       "      <td>1.000000</td>\n",
       "    </tr>\n",
       "  </tbody>\n",
       "</table>\n",
       "<p>213 rows × 6 columns</p>\n",
       "</div>"
      ],
      "text/plain": [
       "                      SCHOOL_RIGHT            ID    DIPPERC        AGE  \\\n",
       "0                           nikisi   4249.000000  58.000000  26.000000   \n",
       "1        technique ind. de mahamba  12228.000000  62.000000  24.000000   \n",
       "2                    INST DE KATWA   3992.000000  67.000000  27.000000   \n",
       "3                       mululusake  11662.000000  73.000000  19.000000   \n",
       "4                           cirezi   8139.500000  58.750000  22.000000   \n",
       "5                            vungi   8077.666667  55.000000  23.666667   \n",
       "6                      itfm/bukavu   7963.804878  58.777476  23.902439   \n",
       "7                     saint michel  10016.000000  60.000000  23.000000   \n",
       "8                           katana   9144.000000  57.000000  22.000000   \n",
       "9                        it bugabo  10308.000000  50.000000  22.000000   \n",
       "10                         kambali   9772.500000  63.500000  22.500000   \n",
       "11                            wima   8213.400000  69.400000  22.600000   \n",
       "12                    epsk/fomulac  10251.000000  60.500000  22.500000   \n",
       "13                 edap/isp bukavu  10678.250000  61.250000  22.000000   \n",
       "14                          du lac  10452.000000  52.000000  21.000000   \n",
       "15                          MWANDU   6742.000000  58.000000  25.000000   \n",
       "16                          Lwanga  10275.666667  56.666667  21.666667   \n",
       "17                         i katwa   8508.000000  65.000000  23.000000   \n",
       "18                          LWANGA   7650.000000  66.000000  27.000000   \n",
       "19                              61   8477.000000  56.876522  23.000000   \n",
       "20                    kanyabayonga   8439.500000  53.500000  25.500000   \n",
       "21                         de beni  10213.000000  53.000000  20.000000   \n",
       "22                           amani   9254.590909  68.863636  21.863636   \n",
       "23                            itig   7725.847458  59.542373  24.949153   \n",
       "24                       mgr guido   8385.000000  57.000000  23.666667   \n",
       "25                        metanoia   8642.814815  62.740741  22.888889   \n",
       "26                    edap isp bkv   9219.333333  59.333333  22.666667   \n",
       "27                          avenir   8828.714286  53.571429  24.071429   \n",
       "28                        edap/isp   6666.857143  58.285714  26.142857   \n",
       "29                         majengo   8428.282051  61.358974  23.666667   \n",
       "..                             ...           ...        ...        ...   \n",
       "183                        lumumba   9807.000000  53.000000  42.000000   \n",
       "184                           alfa   9161.000000  54.000000  24.000000   \n",
       "185                         masisi  11624.000000  52.000000  22.000000   \n",
       "186                       ipp/beni  11808.000000  59.000000  19.000000   \n",
       "187                  kahya cibanda  10081.500000  51.000000  23.500000   \n",
       "188                         mayele   8742.000000  58.000000  30.000000   \n",
       "189                      kiribunye   9074.000000  50.000000  24.000000   \n",
       "190                    st augustin  10765.000000  56.000000  26.000000   \n",
       "191                     la pereaux  11823.000000  58.000000  21.000000   \n",
       "192                          alpha  11990.000000  57.000000  23.000000   \n",
       "193                     kitsombiro   9882.000000  52.000000  24.000000   \n",
       "194                         bwindi   7550.000000  59.000000  26.000000   \n",
       "195                      nengapeta   4246.000000  51.000000  30.000000   \n",
       "196                        wai wai  11754.000000  53.000000  20.000000   \n",
       "197                           tuzo  10717.000000  51.000000  27.000000   \n",
       "198                         asseco   9520.000000  55.000000  24.000000   \n",
       "199                           mehe  10855.000000  63.000000  28.000000   \n",
       "200           saint mariya goritti  11548.000000  62.000000  22.000000   \n",
       "201            technique mapendano  11985.000000  52.000000  23.000000   \n",
       "202                         mululu   9949.000000  57.000000  21.000000   \n",
       "203                        mungano  12181.000000  57.000000  22.000000   \n",
       "204                           ovoa  10868.000000  57.000000  25.000000   \n",
       "205  complexe scolaire nova stella  10314.000000  55.000000  21.000000   \n",
       "206                         maboso   8258.000000  56.000000  26.000000   \n",
       "207                        molière   9210.000000  63.000000  22.000000   \n",
       "208                       kimbilio  10669.000000  59.000000  23.000000   \n",
       "209                         kahumo  11892.000000  59.000000  26.000000   \n",
       "210                          kimua   9893.000000  57.000000  24.000000   \n",
       "211                           kaya  10914.000000  52.000000  23.000000   \n",
       "212                        buhimba   9529.000000  60.000000  22.000000   \n",
       "\n",
       "          CGPA  NACADYEAR  \n",
       "0    75.349998   2.000000  \n",
       "1    71.900002   1.000000  \n",
       "2    68.900002   2.000000  \n",
       "3    68.500000   1.000000  \n",
       "4    65.970834   3.250000  \n",
       "5    64.772222   2.666667  \n",
       "6    64.395529   2.048780  \n",
       "7    64.049999   2.000000  \n",
       "8    63.466667   3.000000  \n",
       "9    62.799999   2.000000  \n",
       "10   62.529166   2.000000  \n",
       "11   62.156667   3.000000  \n",
       "12   61.916665   2.000000  \n",
       "13   61.912500   2.000000  \n",
       "14   61.650000   2.000000  \n",
       "15   61.633334   3.000000  \n",
       "16   61.583333   1.333333  \n",
       "17   61.550000   4.000000  \n",
       "18   61.366667   3.000000  \n",
       "19   61.025002   4.000000  \n",
       "20   60.958333   2.500000  \n",
       "21   60.799999   2.000000  \n",
       "22   60.732575   2.318182  \n",
       "23   60.627684   2.254237  \n",
       "24   60.200001   2.000000  \n",
       "25   60.040741   2.074074  \n",
       "26   59.901389   2.666667  \n",
       "27   59.677381   2.142857  \n",
       "28   59.600000   2.142857  \n",
       "29   59.442735   1.871795  \n",
       "..         ...        ...  \n",
       "183  44.000000   1.000000  \n",
       "184  44.000000   1.000000  \n",
       "185  44.000000   1.000000  \n",
       "186  44.000000   1.000000  \n",
       "187  43.500000   1.000000  \n",
       "188  43.500000   2.000000  \n",
       "189  43.000000   1.000000  \n",
       "190  43.000000   2.000000  \n",
       "191  43.000000   1.000000  \n",
       "192  43.000000   1.000000  \n",
       "193  43.000000   1.000000  \n",
       "194  42.500000   2.000000  \n",
       "195  42.400000   2.000000  \n",
       "196  42.000000   1.000000  \n",
       "197  42.000000   1.000000  \n",
       "198  42.000000   1.000000  \n",
       "199  42.000000   1.000000  \n",
       "200  42.000000   1.000000  \n",
       "201  42.000000   1.000000  \n",
       "202  42.000000   1.000000  \n",
       "203  42.000000   1.000000  \n",
       "204  42.000000   1.000000  \n",
       "205  41.599998   1.000000  \n",
       "206  41.000000   1.000000  \n",
       "207  41.000000   1.000000  \n",
       "208  41.000000   1.000000  \n",
       "209  40.000000   1.000000  \n",
       "210  40.000000   1.000000  \n",
       "211  40.000000   1.000000  \n",
       "212  40.000000   1.000000  \n",
       "\n",
       "[213 rows x 6 columns]"
      ]
     },
     "execution_count": 506,
     "metadata": {},
     "output_type": "execute_result"
    }
   ],
   "source": [
    "SchoolGroup"
   ]
  },
  {
   "cell_type": "markdown",
   "metadata": {},
   "source": [
    "Nous allons Voir de plus pret pour les 10 ecoles les plus representé, le 5 éecoles avec un pourcentage elevé et 5 dernier"
   ]
  },
  {
   "cell_type": "code",
   "execution_count": 519,
   "metadata": {
    "scrolled": false
   },
   "outputs": [
    {
     "data": {
      "image/png": "[encoded data removed]",
      "text/plain": [
       "<matplotlib.figure.Figure at 0x110c2fe90>"
      ]
     },
     "metadata": {},
     "output_type": "display_data"
    }
   ],
   "source": [
    "plt.figure(figsize=(30,10))\n",
    "ax=sns.boxplot(x=\"SCHOOL_RIGHT\", y=\"CGPA\", data=Techno.loc[operator.or_(Techno.SCHOOL_RIGHT.isin(SchoolGroup.loc[ range(0,11)].SCHOOL_RIGHT) \n",
    "             , Techno.SCHOOL_RIGHT.isin(Techno.SCHOOL_RIGHT.value_counts()[:10].index ))])\n",
    "plt.savefig('SCHOOL_RIGHT-CGPA.png',dpi=100)"
   ]
  },
  {
   "cell_type": "markdown",
   "metadata": {},
   "source": [
    "On remarques sur la figure que les grandes écoles connus on une bonne moyenne et un bon maximun de CGPA comme le lycée Amani, l'ITIG , l'ITFM!"
   ]
  },
  {
   "cell_type": "markdown",
   "metadata": {},
   "source": [
    "#### B.7 OPTION DU DIPLOME "
   ]
  },
  {
   "cell_type": "code",
   "execution_count": 521,
   "metadata": {
    "scrolled": false
   },
   "outputs": [
    {
     "data": {
      "text/plain": [
       "23"
      ]
     },
     "execution_count": 521,
     "metadata": {},
     "output_type": "execute_result"
    }
   ],
   "source": [
    "len(Techno.OPTION_RIGHT.value_counts())"
   ]
  },
  {
   "cell_type": "markdown",
   "metadata": {},
   "source": [
    "Nous pouvons constater que nous avons 23 options differents Voyons comment evoluer la moyenne"
   ]
  },
  {
   "cell_type": "code",
   "execution_count": 522,
   "metadata": {},
   "outputs": [
    {
     "data": {
      "text/html": [
       "<div>\n",
       "<table border=\"1\" class=\"dataframe\">\n",
       "  <thead>\n",
       "    <tr style=\"text-align: right;\">\n",
       "      <th></th>\n",
       "      <th>df</th>\n",
       "      <th>sum_sq</th>\n",
       "      <th>mean_sq</th>\n",
       "      <th>F</th>\n",
       "      <th>PR(&gt;F)</th>\n",
       "    </tr>\n",
       "  </thead>\n",
       "  <tbody>\n",
       "    <tr>\n",
       "      <th>C(OPTION_RIGHT)</th>\n",
       "      <td>22.0</td>\n",
       "      <td>11622.024556</td>\n",
       "      <td>528.273843</td>\n",
       "      <td>8.094944</td>\n",
       "      <td>1.055221e-23</td>\n",
       "    </tr>\n",
       "    <tr>\n",
       "      <th>Residual</th>\n",
       "      <td>880.0</td>\n",
       "      <td>57428.559721</td>\n",
       "      <td>65.259727</td>\n",
       "      <td>NaN</td>\n",
       "      <td>NaN</td>\n",
       "    </tr>\n",
       "  </tbody>\n",
       "</table>\n",
       "</div>"
      ],
      "text/plain": [
       "                    df        sum_sq     mean_sq         F        PR(>F)\n",
       "C(OPTION_RIGHT)   22.0  11622.024556  528.273843  8.094944  1.055221e-23\n",
       "Residual         880.0  57428.559721   65.259727       NaN           NaN"
      ]
     },
     "execution_count": 522,
     "metadata": {},
     "output_type": "execute_result"
    }
   ],
   "source": [
    "moore_lm = ols('CGPA ~ C(OPTION_RIGHT)',data=Techno).fit()\n",
    "aov_table = sm.stats.anova_lm(moore_lm, typ=1)\n",
    "aov_table"
   ]
  },
  {
   "cell_type": "markdown",
   "metadata": {},
   "source": [
    "La valeur est inferieur à 0.05 donc il n'yas pas de relation entre les valeurs "
   ]
  },
  {
   "cell_type": "code",
   "execution_count": 527,
   "metadata": {
    "scrolled": false
   },
   "outputs": [],
   "source": [
    "GroupOption=Techno.groupby('OPTION_RIGHT').mean().sort(axis=0,columns='CGPA',ascending=False).reset_index()"
   ]
  },
  {
   "cell_type": "markdown",
   "metadata": {},
   "source": [
    "Voila comme on pourait s'y attendre les options techniques et Scientifiques viennent en tete de liste et en bas de l'echel vient les ption littereraires et commerciales"
   ]
  },
  {
   "cell_type": "code",
   "execution_count": 529,
   "metadata": {
    "scrolled": true
   },
   "outputs": [
    {
     "data": {
      "image/png": "[encoded data removed]",
      "text/plain": [
       "<matplotlib.figure.Figure at 0x10e759350>"
      ]
     },
     "metadata": {},
     "output_type": "display_data"
    }
   ],
   "source": [
    "plt.figure(figsize=(30,10))\n",
    "ax=sns.boxplot(x=\"OPTION_RIGHT\", y=\"CGPA\", data=Techno,order=GroupOption.OPTION_RIGHT)\n",
    "plt.savefig('OPTION_RIGHT-CGPA.png',dpi=100)"
   ]
  },
  {
   "cell_type": "code",
   "execution_count": null,
   "metadata": {
    "collapsed": true
   },
   "outputs": [],
   "source": [
    "cela peut se remarquer aisement sur la figures que les sections techniques sont ceux dont le étudiants reussisnet le mieu"
   ]
  }
 ],
 "metadata": {
  "kernelspec": {
   "display_name": "Python 2",
   "language": "python",
   "name": "python2"
  },
  "language_info": {
   "codemirror_mode": {
    "name": "ipython",
    "version": 2
   },
   "file_extension": ".py",
   "mimetype": "text/x-python",
   "name": "python",
   "nbconvert_exporter": "python",
   "pygments_lexer": "ipython2",
   "version": "2.7.13"
  }
 },
 "nbformat": 4,
 "nbformat_minor": 2
}
