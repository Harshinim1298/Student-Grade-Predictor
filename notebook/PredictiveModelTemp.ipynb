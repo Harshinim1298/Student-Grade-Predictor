{
 "cells": [
  {
   "cell_type": "markdown",
   "metadata": {},
   "source": [
    "Dans ce notebook nous entrainerons nos données sur les restes dees facultées et ensuite continuerons après"
   ]
  },
  {
   "cell_type": "code",
   "execution_count": 2,
   "metadata": {
    "collapsed": true
   },
   "outputs": [],
   "source": [
    "import pandas as pd\n",
    "import numpy as np\n",
    "import matplotlib.pyplot as plt\n",
    "import seaborn as sns #for beatiful visualizations\n",
    "%matplotlib inline \n",
    "import scipy.stats as scs #for statistics\n",
    "import operator\n",
    "from scipy.stats import chi2_contingency\n",
    "import matplotlib.ticker as ticker\n",
    "import statsmodels.api as sm\n",
    "from statsmodels.formula.api import ols\n",
    "from sklearn.preprocessing import *"
   ]
  },
  {
   "cell_type": "code",
   "execution_count": 3,
   "metadata": {
    "collapsed": true
   },
   "outputs": [],
   "source": [
    "from sklearn.linear_model import Ridge,Lasso,ElasticNet,LinearRegression\n",
    "from sklearn.model_selection import cross_val_score\n",
    "from sklearn.model_selection import StratifiedShuffleSplit\n",
    "from sklearn.svm import LinearSVR,SVR\n",
    "from sklearn.metrics import mean_squared_error\n",
    "from sklearn.externals import joblib"
   ]
  },
  {
   "cell_type": "code",
   "execution_count": 6,
   "metadata": {
    "scrolled": false
   },
   "outputs": [],
   "source": [
    "# %load ../GradePredictorApp/codes/PredictiveModelBuilding.py\n",
    "import pandas as pd\n",
    "import numpy as np\n",
    "from sklearn.linear_model import Ridge,Lasso,ElasticNet,LinearRegression\n",
    "from sklearn.model_selection import cross_val_score\n",
    "from sklearn.model_selection import StratifiedShuffleSplit\n",
    "from sklearn.svm import LinearSVR,SVR\n",
    "from sklearn.metrics import mean_squared_error\n",
    "from sklearn.externals import joblib\n",
    "\n",
    "class PredictiveModelBuilding(object):\n",
    "    \"\"\"\n",
    "\n",
    "    docstring for PredictiveModelByilding\n",
    "    this class will handle all pipeline for a preeictive modele building\n",
    "    in the chapter of my machine learning project ,\n",
    "    it will train differents modele, encode data,scale data, and so on\n",
    "\n",
    "    \"\"\"\n",
    "    def __init__(self, dataset, encoderFunction):\n",
    "\n",
    "        if isinstance(dataset, pd.DataFrame):\n",
    "            self.dataset = dataset\n",
    "            self.training_set = pd.DataFrame()\n",
    "            self.test_set = pd.DataFrame()\n",
    "            self.predictive_models = {}\n",
    "            self.x_train = pd.DataFrame()\n",
    "            self.x_test = pd.DataFrame()\n",
    "            self.y_train = pd.Series()\n",
    "            self.y_test = pd.Series()\n",
    "            self.dataset_bin, self.encoders=encoderFunction(dataset, catCol=['SCHOOL_RIGHT', 'OPTION_RIGHT'], numCol=['DIPPERC', 'CGPA', 'EchecRatio'])\n",
    "            self.dataset_bin.reset_index(inplace=True)\n",
    "            ridge_reg = Ridge(alpha=1, solver=\"cholesky\", fit_intercept=False)\n",
    "            linSVM_reg = LinearSVR(dual=False, fit_intercept=False,loss='squared_epsilon_insensitive')\n",
    "            rbfSVM_reg = SVR(verbose=True)\n",
    "            lasso_reg = Lasso(alpha=1e-05, max_iter=10000, fit_intercept=False)\n",
    "            elastic_reg = ElasticNet(alpha=1e-05, max_iter=10000, l1_ratio=0.5)\n",
    "            self.predictive_models[ridge_reg.__class__.__name__] = ridge_reg\n",
    "            self.predictive_models[linSVM_reg.__class__.__name__] = linSVM_reg\n",
    "            self.predictive_models[rbfSVM_reg.__class__.__name__] = rbfSVM_reg\n",
    "            self.predictive_models[lasso_reg.__class__.__name__] = lasso_reg\n",
    "            self.predictive_models[elastic_reg.__class__.__name__] = elastic_reg\n",
    "            self.stacker = LinearRegression(normalize=True)\n",
    "        else:\n",
    "            raise TypeError('need only a DataFrame')\n",
    "\n",
    "    def scale(self, num_cols):\n",
    "\n",
    "        \"\"\"\n",
    "        this function will scale the values of GPA and DIP percentage\n",
    "        by divide them by 100\n",
    "\n",
    "        \"\"\"\n",
    "        self.dataset_bin.loc[:, num_cols[0]] = self.dataset_bin[num_cols[0]]/100\n",
    "        self.dataset_bin.loc[:, num_cols[1]] = self.dataset_bin[num_cols[1]]/100\n",
    "\n",
    "    def split(self):\n",
    "\n",
    "        \"\"\"\n",
    "        the function will split the dataset into a train and a test one\"\n",
    "         and return x_train and x_Test\n",
    "\n",
    "        \"\"\"\n",
    "        split = StratifiedShuffleSplit(n_splits=1, test_size=0.2, random_state=4)\n",
    "        for train_index, test_index in split.split(self.dataset_bin, self.dataset_bin.EchecRatio):\n",
    "            self.training_set = self.dataset_bin.loc[train_index]\n",
    "            self.test_set = self.dataset_bin.loc[test_index]\n",
    "        self.training_set.set_index(keys='ID', inplace=True)\n",
    "        self.test_set.set_index(keys='ID', inplace=True)\n",
    "        self.x_train = self.training_set.CGPA\n",
    "        self.x_train = self.training_set.drop(labels=['CGPA', 'EchecRatio'], axis=1)\n",
    "        self.y_test = self.test_set.CGPA\n",
    "        self.x_test = self.test_set.drop(labels=['CGPA', 'EchecRatio'], axis=1)\n",
    "        train_descrption = self.training_set.describe()[['DIPPERC', 'CGPA']]\n",
    "        test_description = self.test_set.describe()[['DIPPERC', 'CGPA']]\n",
    "        return train_descrption, test_description\n",
    "\n",
    "    def train(self):\n",
    "        \"\"\"will train diverents models with x , y pass in parametes\"\"\"\n",
    "        predictions = {}\n",
    "        for clf in self.predictive_models.values():\n",
    "            clf.fit(self.x_train, self.y_train)\n",
    "            predictions[clf.__class__.__name__] = clf.predict(self.x_train)\n",
    "        predicted_values = pd.DataFrame.from_dict(predictions, dtype=np.float)\n",
    "        predicted_values.set_index(self.y_train.index, inplace=True)\n",
    "        predicted_values.loc[:, 'RealValue'] = self.y_train\n",
    "        return predicted_values\n",
    "\n",
    "    def predict_test(self):\n",
    "        \"\"\"predict values from the test set\"\"\"\n",
    "\n",
    "        predictions = {}\n",
    "        for clf in self.predictive_models.values():\n",
    "            predictions[clf.__class__.__name__] = clf.predict(self.x_test)\n",
    "        predicted_values = pd.DataFrame.from_dict(predictions, dtype=np.float)\n",
    "        predicted_values.set_index(self.y_test.index, inplace=True)\n",
    "        predicted_values.loc[:, 'RealValue'] = self.y_test\n",
    "        return predicted_values\n",
    "\n",
    "    def predict_new(self, new_student_data):\n",
    "        \"\"\"\n",
    "        this call will handle predictions for new values,\n",
    "        but frirst it will endcode them nand then try to predict\n",
    "        start first by handling categorical values\n",
    "\n",
    "        \"\"\"\n",
    "\n",
    "        option_encoder = self.encoders['OPTION_RIGHT']\n",
    "        school_encoder = self.encoders['SCHOOL_RIGHT']\n",
    "        options = pd.DataFrame(\n",
    "        data=dict(zip(option_encoder.classes_, option_encoder.transform(new_student_data[['OPTION_RIGHT']])[0])),\n",
    "            index=new_student_data.index, columns=option_encoder.classes_)\n",
    "        schools = pd.DataFrame(data=dict(zip(school_encoder.classes_, school_encoder.transform(new_student_data[['SCHOOL_RIGHT']])[0])),index=new_student_data.index, columns=school_encoder.classes_)\n",
    "        schools.reset_index(inplace=True)\n",
    "        options.reset_index(inplace=True)\n",
    "        new_dataset = pd.merge(options, schools, on='index')\n",
    "        new_dataset['DIPPERC'] = new_student_data['DIPPERC']\n",
    "        new_dataset.set_index(keys=['index'], inplace=True)\n",
    "        predictions = {}\n",
    "        for clf in self.predictive_models.values():\n",
    "            predictions[clf.__class__.__name__] = clf.predict(new_dataset)\n",
    "        predicted_values = pd.DataFrame.from_dict(predictions, dtype=np.float)\n",
    "        predicted_values.set_index(new_dataset.index, inplace=True)\n",
    "        predicted_values.loc[:, 'finalOutput'] = self.stacker.predict(predicted_values)\n",
    "        return predicted_values\n",
    "\n",
    "    def evaluate(self, model, sur):\n",
    "        \"\"\"\n",
    "\n",
    "        this function will first do a evaluation of a model and return\n",
    "        the RMSE score of it and some data and their labels the function\n",
    "        can evaluate on trainset and also on test_set\n",
    "\n",
    "        \"\"\"\n",
    "        if sur == 'train':\n",
    "            some_data = self.x_train.iloc[:5]\n",
    "            some_labels = self.y_train.iloc[:5]\n",
    "            print(\"Predictions:\\t\", self.predictive_models[model].predict(some_data))\n",
    "            print(\"Labels:\\t\\t\", list(some_labels))\n",
    "            cgpa_predictions = self.predictive_models[model].predict(self.x_train)\n",
    "            lin_mse = mean_squared_error(self.y_train, cgpa_predictions)\n",
    "            lin_rmse = np.sqrt(lin_mse)\n",
    "            return lin_rmse\n",
    "        elif sur == 'test':\n",
    "            some_data = self.x_test.iloc[:5]\n",
    "            some_labels = self.y_test.iloc[:5]\n",
    "            print(\"Predictions:\\t\", self.predictive_models[model].predict(some_data))\n",
    "            print(\"Labels:\\t\\t\", list(some_labels))\n",
    "            cgpa_predictions = self.predictive_models[model].predict(self.x_test)\n",
    "            lin_mse = mean_squared_error(self.y_test, cgpa_predictions)\n",
    "            lin_rmse = np.sqrt(lin_mse)\n",
    "            return lin_rmse\n",
    "\n",
    "    def cross_evaluate(self, model):\n",
    "        \"\"\"this one will perfom a cross validation of the model\"\"\"\n",
    "        scores = cross_val_score(self.predictive_models[model], self.x_train, self.y_train, scoring=\"neg_mean_squared_error\", cv=10)\n",
    "        rmse_scores = np.sqrt(-scores)\n",
    "        return rmse_scores, rmse_scores.std(), rmse_scores.mean()\n",
    "\n",
    "    def ensemble_methods(self, predicted_values):\n",
    "        \"\"\"\n",
    "        this method will get a dataframe of predicted values by diffrents classifier and will return\n",
    "        the value compute by  a linear regression between the 3 values and RMSE\n",
    "        \"\"\"\n",
    "        x_new = predicted_values.drop(labels=\"RealValue\", axis=1)\n",
    "        y_new = predicted_values.RealValue\n",
    "        self.stacker.fit(x_new, y_new)\n",
    "        final_predict = self.stacker.predict(predicted_values.drop(labels=\"RealValue\", axis=1))\n",
    "        predicted_values.loc[:, 'finalPredict'] = final_predict\n",
    "        rmse_ensemble = np.sqrt(mean_squared_error(predicted_values.RealValue, final_predict))\n",
    "        return predicted_values, rmse_ensemble\n",
    "\n",
    "    def save_models(self, departement):\n",
    "        \"\"\"\n",
    "\n",
    "        after all job we will save the class with the models for\n",
    "        deployement\n",
    "\n",
    "        \"\"\"\n",
    "        joblib.dump(self, \"../predictivesModels/Classes/\"+departement+\".pkl\")\n"
   ]
  },
  {
   "cell_type": "code",
   "execution_count": 7,
   "metadata": {
    "collapsed": true
   },
   "outputs": [],
   "source": [
    "# %load ../codes/convertCat.py\n",
    "def ConvertCat(dataset, catCol,numCol):\n",
    "    \"\"\"this function will binarize a dataset given in parametrer and return the dataset with categorical columns binarise by one-hot encoding\"\"\"\n",
    "    encs={}\n",
    "    X_train_1=dataset[catCol]\n",
    "    X=dataset[numCol]\n",
    "    catCol=X_train_1.columns\n",
    "    for col in catCol:\n",
    "        data=dataset[[col]]\n",
    "        enc= LabelBinarizer()\n",
    "        enc.fit(data)\n",
    "        # Fitting One Hot Encoding on train data\n",
    "        temp = enc.transform(dataset[[col]])\n",
    "        # Changing the encoded features into a data frame with new column names\n",
    "        temp=pd.DataFrame(temp,columns=enc.classes_)\n",
    "        # In side by side concatenation index values should be same\n",
    "        # Setting the index values similar to the X_train data frame\n",
    "        temp=temp.set_index(dataset.index)\n",
    "        # adding the new One Hot Encoded varibales to the train data frame\n",
    "        \n",
    "        X=pd.merge(temp,X,right_index=True,left_index=True)\n",
    "        #saving the encoder into a dict for others operations\n",
    "        encs[col]=enc\n",
    "    return X,encs"
   ]
  },
  {
   "cell_type": "code",
   "execution_count": 30,
   "metadata": {
    "collapsed": true
   },
   "outputs": [],
   "source": [
    "dataset=pd.read_csv(\"../dataset/DatasetFinalV1.csv\",index_col=\"Unnamed: 0\")\n",
    "dataset.set_index(keys='ID',inplace=True)\n",
    "datasetCGPA=dataset[['DIPPERC', u'SCHOOL_RIGHT', u'OPTION_RIGHT', u'FAC' , u'CGPA','DistinctionRatio','EchecRatio','Pass1stSessionRatio']]"
   ]
  },
  {
   "cell_type": "code",
   "execution_count": 12,
   "metadata": {
    "collapsed": true
   },
   "outputs": [],
   "source": [
    "droit=datasetCGPA.loc[datasetCGPA.FAC=='FD']"
   ]
  },
  {
   "cell_type": "code",
   "execution_count": 13,
   "metadata": {},
   "outputs": [
    {
     "data": {
      "text/plain": [
       "(896, 8)"
      ]
     },
     "execution_count": 13,
     "metadata": {},
     "output_type": "execute_result"
    }
   ],
   "source": [
    "droit.shape"
   ]
  },
  {
   "cell_type": "code",
   "execution_count": 14,
   "metadata": {
    "collapsed": true
   },
   "outputs": [],
   "source": [
    "droitModel=PredictiveModelByilding(dataset=droit,encoderFunction=ConvertCat)"
   ]
  },
  {
   "cell_type": "code",
   "execution_count": 15,
   "metadata": {
    "collapsed": true
   },
   "outputs": [],
   "source": [
    "droitModel.scale(['CGPA','DIPPERC'])"
   ]
  },
  {
   "cell_type": "code",
   "execution_count": 16,
   "metadata": {
    "collapsed": true,
    "scrolled": false
   },
   "outputs": [],
   "source": [
    "describeTrain,describeTest=droitModel.split()"
   ]
  },
  {
   "cell_type": "code",
   "execution_count": 17,
   "metadata": {},
   "outputs": [
    {
     "data": {
      "text/plain": [
       "(896, 300)"
      ]
     },
     "execution_count": 17,
     "metadata": {},
     "output_type": "execute_result"
    }
   ],
   "source": [
    "droitModel.dataset_bin.shape"
   ]
  },
  {
   "cell_type": "code",
   "execution_count": 112,
   "metadata": {
    "scrolled": false
   },
   "outputs": [
    {
     "data": {
      "text/html": [
       "<div>\n",
       "<table border=\"1\" class=\"dataframe\">\n",
       "  <thead>\n",
       "    <tr style=\"text-align: right;\">\n",
       "      <th></th>\n",
       "      <th>DIPPERC</th>\n",
       "      <th>CGPA</th>\n",
       "    </tr>\n",
       "  </thead>\n",
       "  <tbody>\n",
       "    <tr>\n",
       "      <th>count</th>\n",
       "      <td>716.000000</td>\n",
       "      <td>716.000000</td>\n",
       "    </tr>\n",
       "    <tr>\n",
       "      <th>mean</th>\n",
       "      <td>0.560793</td>\n",
       "      <td>0.580058</td>\n",
       "    </tr>\n",
       "    <tr>\n",
       "      <th>std</th>\n",
       "      <td>0.051890</td>\n",
       "      <td>0.069535</td>\n",
       "    </tr>\n",
       "    <tr>\n",
       "      <th>min</th>\n",
       "      <td>0.500000</td>\n",
       "      <td>0.364000</td>\n",
       "    </tr>\n",
       "    <tr>\n",
       "      <th>25%</th>\n",
       "      <td>0.520000</td>\n",
       "      <td>0.550000</td>\n",
       "    </tr>\n",
       "    <tr>\n",
       "      <th>50%</th>\n",
       "      <td>0.550000</td>\n",
       "      <td>0.591000</td>\n",
       "    </tr>\n",
       "    <tr>\n",
       "      <th>75%</th>\n",
       "      <td>0.590000</td>\n",
       "      <td>0.621500</td>\n",
       "    </tr>\n",
       "    <tr>\n",
       "      <th>max</th>\n",
       "      <td>0.780000</td>\n",
       "      <td>0.781000</td>\n",
       "    </tr>\n",
       "  </tbody>\n",
       "</table>\n",
       "</div>"
      ],
      "text/plain": [
       "          DIPPERC        CGPA\n",
       "count  716.000000  716.000000\n",
       "mean     0.560793    0.580058\n",
       "std      0.051890    0.069535\n",
       "min      0.500000    0.364000\n",
       "25%      0.520000    0.550000\n",
       "50%      0.550000    0.591000\n",
       "75%      0.590000    0.621500\n",
       "max      0.780000    0.781000"
      ]
     },
     "execution_count": 112,
     "metadata": {},
     "output_type": "execute_result"
    }
   ],
   "source": [
    "describeTest"
   ]
  },
  {
   "cell_type": "code",
   "execution_count": 113,
   "metadata": {
    "scrolled": true
   },
   "outputs": [
    {
     "data": {
      "text/html": [
       "<div>\n",
       "<table border=\"1\" class=\"dataframe\">\n",
       "  <thead>\n",
       "    <tr style=\"text-align: right;\">\n",
       "      <th></th>\n",
       "      <th>DIPPERC</th>\n",
       "      <th>CGPA</th>\n",
       "    </tr>\n",
       "  </thead>\n",
       "  <tbody>\n",
       "    <tr>\n",
       "      <th>count</th>\n",
       "      <td>716.000000</td>\n",
       "      <td>716.000000</td>\n",
       "    </tr>\n",
       "    <tr>\n",
       "      <th>mean</th>\n",
       "      <td>0.560793</td>\n",
       "      <td>0.580058</td>\n",
       "    </tr>\n",
       "    <tr>\n",
       "      <th>std</th>\n",
       "      <td>0.051890</td>\n",
       "      <td>0.069535</td>\n",
       "    </tr>\n",
       "    <tr>\n",
       "      <th>min</th>\n",
       "      <td>0.500000</td>\n",
       "      <td>0.364000</td>\n",
       "    </tr>\n",
       "    <tr>\n",
       "      <th>25%</th>\n",
       "      <td>0.520000</td>\n",
       "      <td>0.550000</td>\n",
       "    </tr>\n",
       "    <tr>\n",
       "      <th>50%</th>\n",
       "      <td>0.550000</td>\n",
       "      <td>0.591000</td>\n",
       "    </tr>\n",
       "    <tr>\n",
       "      <th>75%</th>\n",
       "      <td>0.590000</td>\n",
       "      <td>0.621500</td>\n",
       "    </tr>\n",
       "    <tr>\n",
       "      <th>max</th>\n",
       "      <td>0.780000</td>\n",
       "      <td>0.781000</td>\n",
       "    </tr>\n",
       "  </tbody>\n",
       "</table>\n",
       "</div>"
      ],
      "text/plain": [
       "          DIPPERC        CGPA\n",
       "count  716.000000  716.000000\n",
       "mean     0.560793    0.580058\n",
       "std      0.051890    0.069535\n",
       "min      0.500000    0.364000\n",
       "25%      0.520000    0.550000\n",
       "50%      0.550000    0.591000\n",
       "75%      0.590000    0.621500\n",
       "max      0.780000    0.781000"
      ]
     },
     "execution_count": 113,
     "metadata": {},
     "output_type": "execute_result"
    }
   ],
   "source": [
    "describeTrain"
   ]
  },
  {
   "cell_type": "code",
   "execution_count": 18,
   "metadata": {
    "scrolled": false
   },
   "outputs": [
    {
     "name": "stdout",
     "output_type": "stream",
     "text": [
      "[LibSVM]"
     ]
    }
   ],
   "source": [
    "predictedValues=droitModel.train()"
   ]
  },
  {
   "cell_type": "code",
   "execution_count": 19,
   "metadata": {
    "scrolled": false
   },
   "outputs": [
    {
     "data": {
      "text/plain": [
       "['ElasticNet', 'SVR', 'LinearSVR', 'Ridge', 'Lasso']"
      ]
     },
     "execution_count": 19,
     "metadata": {},
     "output_type": "execute_result"
    }
   ],
   "source": [
    "droitModel.predictiveModels.keys()"
   ]
  },
  {
   "cell_type": "code",
   "execution_count": 20,
   "metadata": {
    "scrolled": true
   },
   "outputs": [
    {
     "data": {
      "text/html": [
       "<div>\n",
       "<table border=\"1\" class=\"dataframe\">\n",
       "  <thead>\n",
       "    <tr style=\"text-align: right;\">\n",
       "      <th></th>\n",
       "      <th>ElasticNet</th>\n",
       "      <th>Lasso</th>\n",
       "      <th>LinearSVR</th>\n",
       "      <th>Ridge</th>\n",
       "      <th>SVR</th>\n",
       "      <th>RealValue</th>\n",
       "    </tr>\n",
       "    <tr>\n",
       "      <th>ID</th>\n",
       "      <th></th>\n",
       "      <th></th>\n",
       "      <th></th>\n",
       "      <th></th>\n",
       "      <th></th>\n",
       "      <th></th>\n",
       "    </tr>\n",
       "  </thead>\n",
       "  <tbody>\n",
       "    <tr>\n",
       "      <th>10709</th>\n",
       "      <td>0.565598</td>\n",
       "      <td>0.569160</td>\n",
       "      <td>0.553602</td>\n",
       "      <td>0.563864</td>\n",
       "      <td>0.554185</td>\n",
       "      <td>0.56200</td>\n",
       "    </tr>\n",
       "    <tr>\n",
       "      <th>4026</th>\n",
       "      <td>0.532851</td>\n",
       "      <td>0.533646</td>\n",
       "      <td>0.516206</td>\n",
       "      <td>0.543356</td>\n",
       "      <td>0.550057</td>\n",
       "      <td>0.59700</td>\n",
       "    </tr>\n",
       "    <tr>\n",
       "      <th>8307</th>\n",
       "      <td>0.547631</td>\n",
       "      <td>0.548312</td>\n",
       "      <td>0.545496</td>\n",
       "      <td>0.555175</td>\n",
       "      <td>0.569755</td>\n",
       "      <td>0.63800</td>\n",
       "    </tr>\n",
       "    <tr>\n",
       "      <th>7713</th>\n",
       "      <td>0.651608</td>\n",
       "      <td>0.649854</td>\n",
       "      <td>0.680102</td>\n",
       "      <td>0.625937</td>\n",
       "      <td>0.556364</td>\n",
       "      <td>0.61775</td>\n",
       "    </tr>\n",
       "    <tr>\n",
       "      <th>8335</th>\n",
       "      <td>0.564660</td>\n",
       "      <td>0.564797</td>\n",
       "      <td>0.572836</td>\n",
       "      <td>0.560507</td>\n",
       "      <td>0.531529</td>\n",
       "      <td>0.60350</td>\n",
       "    </tr>\n",
       "    <tr>\n",
       "      <th>12196</th>\n",
       "      <td>0.561325</td>\n",
       "      <td>0.561756</td>\n",
       "      <td>0.560619</td>\n",
       "      <td>0.560630</td>\n",
       "      <td>0.548114</td>\n",
       "      <td>0.42000</td>\n",
       "    </tr>\n",
       "    <tr>\n",
       "      <th>9004</th>\n",
       "      <td>0.548454</td>\n",
       "      <td>0.549590</td>\n",
       "      <td>0.546518</td>\n",
       "      <td>0.552067</td>\n",
       "      <td>0.544990</td>\n",
       "      <td>0.48000</td>\n",
       "    </tr>\n",
       "    <tr>\n",
       "      <th>10192</th>\n",
       "      <td>0.587355</td>\n",
       "      <td>0.585291</td>\n",
       "      <td>0.582199</td>\n",
       "      <td>0.576354</td>\n",
       "      <td>0.544221</td>\n",
       "      <td>0.59000</td>\n",
       "    </tr>\n",
       "    <tr>\n",
       "      <th>12000</th>\n",
       "      <td>0.494826</td>\n",
       "      <td>0.496352</td>\n",
       "      <td>0.482219</td>\n",
       "      <td>0.513912</td>\n",
       "      <td>0.537509</td>\n",
       "      <td>0.42000</td>\n",
       "    </tr>\n",
       "    <tr>\n",
       "      <th>11373</th>\n",
       "      <td>0.561499</td>\n",
       "      <td>0.561155</td>\n",
       "      <td>0.579594</td>\n",
       "      <td>0.552852</td>\n",
       "      <td>0.549012</td>\n",
       "      <td>0.60600</td>\n",
       "    </tr>\n",
       "  </tbody>\n",
       "</table>\n",
       "</div>"
      ],
      "text/plain": [
       "       ElasticNet     Lasso  LinearSVR     Ridge       SVR  RealValue\n",
       "ID                                                                   \n",
       "10709    0.565598  0.569160   0.553602  0.563864  0.554185    0.56200\n",
       "4026     0.532851  0.533646   0.516206  0.543356  0.550057    0.59700\n",
       "8307     0.547631  0.548312   0.545496  0.555175  0.569755    0.63800\n",
       "7713     0.651608  0.649854   0.680102  0.625937  0.556364    0.61775\n",
       "8335     0.564660  0.564797   0.572836  0.560507  0.531529    0.60350\n",
       "12196    0.561325  0.561756   0.560619  0.560630  0.548114    0.42000\n",
       "9004     0.548454  0.549590   0.546518  0.552067  0.544990    0.48000\n",
       "10192    0.587355  0.585291   0.582199  0.576354  0.544221    0.59000\n",
       "12000    0.494826  0.496352   0.482219  0.513912  0.537509    0.42000\n",
       "11373    0.561499  0.561155   0.579594  0.552852  0.549012    0.60600"
      ]
     },
     "execution_count": 20,
     "metadata": {},
     "output_type": "execute_result"
    }
   ],
   "source": [
    "predictedValues.head(10)"
   ]
  },
  {
   "cell_type": "code",
   "execution_count": 30,
   "metadata": {
    "scrolled": true
   },
   "outputs": [
    {
     "name": "stdout",
     "output_type": "stream",
     "text": [
      "('Predictions:\\t', array([ 0.56559796,  0.53285129,  0.54763106,  0.65160816,  0.56465962]))\n",
      "('Labels:\\t\\t', [0.56199998855600009, 0.59700000762899996, 0.63799999237100002, 0.61774999618500004, 0.60350000381499991])\n",
      "('Predictions:\\t', array([ 0.55418524,  0.55005711,  0.56975511,  0.55636392,  0.53152906]))\n",
      "('Labels:\\t\\t', [0.56199998855600009, 0.59700000762899996, 0.63799999237100002, 0.61774999618500004, 0.60350000381499991])\n",
      "('Predictions:\\t', array([ 0.5536023 ,  0.51620636,  0.54549554,  0.68010249,  0.57283626]))\n",
      "('Labels:\\t\\t', [0.56199998855600009, 0.59700000762899996, 0.63799999237100002, 0.61774999618500004, 0.60350000381499991])\n",
      "('Predictions:\\t', array([ 0.56386402,  0.54335583,  0.55517475,  0.62593662,  0.56050673]))\n",
      "('Labels:\\t\\t', [0.56199998855600009, 0.59700000762899996, 0.63799999237100002, 0.61774999618500004, 0.60350000381499991])\n",
      "('Predictions:\\t', array([ 0.56915998,  0.53364647,  0.54831246,  0.64985428,  0.56479681]))\n",
      "('Labels:\\t\\t', [0.56199998855600009, 0.59700000762899996, 0.63799999237100002, 0.61774999618500004, 0.60350000381499991])\n"
     ]
    }
   ],
   "source": [
    "RMSE={}\n",
    "for reg in droitModel.predictiveModels.keys():\n",
    "    rmse=droitModel.evaluate(model=reg,on='train') #RMSE of each model\n",
    "    RMSE[reg]=[rmse,rmse*100/droitModel.dataset_bin.CGPA.mean()]"
   ]
  },
  {
   "cell_type": "code",
   "execution_count": 31,
   "metadata": {
    "scrolled": true
   },
   "outputs": [
    {
     "data": {
      "text/plain": [
       "{'ElasticNet': [0.04841208301119692, 8.3437425778949539],\n",
       " 'Lasso': [0.048511380800375606, 8.3608563879177407],\n",
       " 'LinearSVR': [0.051960828817335478, 8.9553630585496737],\n",
       " 'Ridge': [0.052126970689201822, 8.9839973358630818],\n",
       " 'SVR': [0.066878676691107516, 11.526429510000717]}"
      ]
     },
     "execution_count": 31,
     "metadata": {},
     "output_type": "execute_result"
    }
   ],
   "source": [
    "RMSE"
   ]
  },
  {
   "cell_type": "markdown",
   "metadata": {},
   "source": [
    "Let try cross validation"
   ]
  },
  {
   "cell_type": "code",
   "execution_count": 32,
   "metadata": {
    "scrolled": true
   },
   "outputs": [
    {
     "name": "stdout",
     "output_type": "stream",
     "text": [
      "[LibSVM][LibSVM][LibSVM][LibSVM][LibSVM][LibSVM][LibSVM][LibSVM][LibSVM][LibSVM]"
     ]
    }
   ],
   "source": [
    "CVScore={}\n",
    "for reg in droitModel.predictiveModels.keys():\n",
    "    scores,Sstd,Smean=droitModel.crossEvaluate(model=reg) #RMSE of each model\n",
    "    CVScore[reg]=[Smean,Smean*100/droitModel.dataset_bin.CGPA.mean(),Sstd]"
   ]
  },
  {
   "cell_type": "code",
   "execution_count": 33,
   "metadata": {
    "scrolled": false
   },
   "outputs": [
    {
     "data": {
      "text/plain": [
       "{'ElasticNet': [0.070306297300685189,\n",
       "  12.117174263007708,\n",
       "  0.0035678321563961833],\n",
       " 'Lasso': [0.070013030408387078, 12.066630198308225, 0.0036226582256641067],\n",
       " 'LinearSVR': [0.075690657044111043,\n",
       "  13.045159775127384,\n",
       "  0.0063763240227957419],\n",
       " 'Ridge': [0.066934950459060144, 11.536128200998506, 0.0045464736648769917],\n",
       " 'SVR': [0.068529975364412049, 11.811028110025546, 0.0064242800865891006]}"
      ]
     },
     "execution_count": 33,
     "metadata": {},
     "output_type": "execute_result"
    }
   ],
   "source": [
    "CVScore"
   ]
  },
  {
   "cell_type": "markdown",
   "metadata": {},
   "source": [
    "Appres les scrores sur la validation croisée essayons de combinner les methodes par une rgression lineaire"
   ]
  },
  {
   "cell_type": "code",
   "execution_count": 54,
   "metadata": {
    "scrolled": false
   },
   "outputs": [
    {
     "name": "stdout",
     "output_type": "stream",
     "text": [
      "Fitting 5 folds for each of 16 candidates, totalling 80 fits\n",
      "[CV] alpha=1e-05, selection=cyclic ...................................\n",
      "[CV] ... alpha=1e-05, selection=cyclic, score=-0.005322, total=   0.3s\n",
      "[CV] alpha=1e-05, selection=cyclic ...................................\n",
      "[CV] ... alpha=1e-05, selection=cyclic, score=-0.004703, total=   0.1s\n",
      "[CV] alpha=1e-05, selection=cyclic ...................................\n"
     ]
    },
    {
     "name": "stderr",
     "output_type": "stream",
     "text": [
      "[Parallel(n_jobs=1)]: Done   1 out of   1 | elapsed:    0.3s remaining:    0.0s\n",
      "[Parallel(n_jobs=1)]: Done   2 out of   2 | elapsed:    0.4s remaining:    0.0s\n"
     ]
    },
    {
     "name": "stdout",
     "output_type": "stream",
     "text": [
      "[CV] ... alpha=1e-05, selection=cyclic, score=-0.005221, total=   0.3s\n",
      "[CV] alpha=1e-05, selection=cyclic ...................................\n"
     ]
    },
    {
     "name": "stderr",
     "output_type": "stream",
     "text": [
      "[Parallel(n_jobs=1)]: Done   3 out of   3 | elapsed:    0.7s remaining:    0.0s\n"
     ]
    },
    {
     "name": "stdout",
     "output_type": "stream",
     "text": [
      "[CV] ... alpha=1e-05, selection=cyclic, score=-0.005055, total=   0.2s\n",
      "[CV] alpha=1e-05, selection=cyclic ...................................\n",
      "[CV] ... alpha=1e-05, selection=cyclic, score=-0.004535, total=   0.1s\n",
      "[CV] alpha=1e-05, selection=random ...................................\n"
     ]
    },
    {
     "name": "stderr",
     "output_type": "stream",
     "text": [
      "[Parallel(n_jobs=1)]: Done   4 out of   4 | elapsed:    1.0s remaining:    0.0s\n"
     ]
    },
    {
     "name": "stdout",
     "output_type": "stream",
     "text": [
      "[CV] ... alpha=1e-05, selection=random, score=-0.005322, total=   0.4s\n",
      "[CV] alpha=1e-05, selection=random ...................................\n",
      "[CV] ... alpha=1e-05, selection=random, score=-0.004703, total=   0.3s\n",
      "[CV] alpha=1e-05, selection=random ...................................\n",
      "[CV] ... alpha=1e-05, selection=random, score=-0.005229, total=   0.2s\n",
      "[CV] alpha=1e-05, selection=random ...................................\n",
      "[CV] ... alpha=1e-05, selection=random, score=-0.005055, total=   0.1s\n",
      "[CV] alpha=1e-05, selection=random ...................................\n",
      "[CV] ... alpha=1e-05, selection=random, score=-0.004535, total=   0.2s\n",
      "[CV] alpha=0.0001, selection=cyclic ..................................\n",
      "[CV] .. alpha=0.0001, selection=cyclic, score=-0.004921, total=   0.0s\n",
      "[CV] alpha=0.0001, selection=cyclic ..................................\n",
      "[CV] .. alpha=0.0001, selection=cyclic, score=-0.004540, total=   0.1s\n",
      "[CV] alpha=0.0001, selection=cyclic ..................................\n",
      "[CV] .. alpha=0.0001, selection=cyclic, score=-0.004925, total=   0.1s\n",
      "[CV] alpha=0.0001, selection=cyclic ..................................\n",
      "[CV] .. alpha=0.0001, selection=cyclic, score=-0.004119, total=   0.0s\n",
      "[CV] alpha=0.0001, selection=cyclic ..................................\n",
      "[CV] .. alpha=0.0001, selection=cyclic, score=-0.004132, total=   0.0s\n",
      "[CV] alpha=0.0001, selection=random ..................................\n",
      "[CV] .. alpha=0.0001, selection=random, score=-0.004921, total=   0.0s\n",
      "[CV] alpha=0.0001, selection=random ..................................\n",
      "[CV] .. alpha=0.0001, selection=random, score=-0.004540, total=   0.1s\n",
      "[CV] alpha=0.0001, selection=random ..................................\n",
      "[CV] .. alpha=0.0001, selection=random, score=-0.004926, total=   0.1s\n",
      "[CV] alpha=0.0001, selection=random ..................................\n",
      "[CV] .. alpha=0.0001, selection=random, score=-0.004119, total=   0.1s\n",
      "[CV] alpha=0.0001, selection=random ..................................\n",
      "[CV] .. alpha=0.0001, selection=random, score=-0.004132, total=   0.0s\n",
      "[CV] alpha=0.001, selection=cyclic ...................................\n",
      "[CV] ... alpha=0.001, selection=cyclic, score=-0.005263, total=   0.0s\n",
      "[CV] alpha=0.001, selection=cyclic ...................................\n",
      "[CV] ... alpha=0.001, selection=cyclic, score=-0.004974, total=   0.0s\n",
      "[CV] alpha=0.001, selection=cyclic ...................................\n",
      "[CV] ... alpha=0.001, selection=cyclic, score=-0.005136, total=   0.0s\n",
      "[CV] alpha=0.001, selection=cyclic ...................................\n",
      "[CV] ... alpha=0.001, selection=cyclic, score=-0.003475, total=   0.0s\n",
      "[CV] alpha=0.001, selection=cyclic ...................................\n",
      "[CV] ... alpha=0.001, selection=cyclic, score=-0.004153, total=   0.0s\n",
      "[CV] alpha=0.001, selection=random ...................................\n",
      "[CV] ... alpha=0.001, selection=random, score=-0.005263, total=   0.0s\n",
      "[CV] alpha=0.001, selection=random ...................................\n",
      "[CV] ... alpha=0.001, selection=random, score=-0.004974, total=   0.0s\n",
      "[CV] alpha=0.001, selection=random ...................................\n",
      "[CV] ... alpha=0.001, selection=random, score=-0.005136, total=   0.0s\n",
      "[CV] alpha=0.001, selection=random ...................................\n",
      "[CV] ... alpha=0.001, selection=random, score=-0.003475, total=   0.0s\n",
      "[CV] alpha=0.001, selection=random ...................................\n",
      "[CV] ... alpha=0.001, selection=random, score=-0.004153, total=   0.0s\n",
      "[CV] alpha=0.01, selection=cyclic ....................................\n",
      "[CV] .... alpha=0.01, selection=cyclic, score=-0.005519, total=   0.0s\n",
      "[CV] alpha=0.01, selection=cyclic ....................................\n",
      "[CV] .... alpha=0.01, selection=cyclic, score=-0.005463, total=   0.0s\n",
      "[CV] alpha=0.01, selection=cyclic ....................................\n",
      "[CV] .... alpha=0.01, selection=cyclic, score=-0.005285, total=   0.0s\n",
      "[CV] alpha=0.01, selection=cyclic ....................................\n",
      "[CV] .... alpha=0.01, selection=cyclic, score=-0.003664, total=   0.0s\n",
      "[CV] alpha=0.01, selection=cyclic ....................................\n",
      "[CV] .... alpha=0.01, selection=cyclic, score=-0.004268, total=   0.0s\n",
      "[CV] alpha=0.01, selection=random ....................................\n",
      "[CV] .... alpha=0.01, selection=random, score=-0.005519, total=   0.0s\n",
      "[CV] alpha=0.01, selection=random ....................................\n",
      "[CV] .... alpha=0.01, selection=random, score=-0.005463, total=   0.0s\n",
      "[CV] alpha=0.01, selection=random ....................................\n",
      "[CV] .... alpha=0.01, selection=random, score=-0.005285, total=   0.0s\n",
      "[CV] alpha=0.01, selection=random ....................................\n",
      "[CV] .... alpha=0.01, selection=random, score=-0.003664, total=   0.0s\n",
      "[CV] alpha=0.01, selection=random ....................................\n",
      "[CV] .... alpha=0.01, selection=random, score=-0.004268, total=   0.0s\n",
      "[CV] alpha=0, selection=cyclic .......................................\n"
     ]
    },
    {
     "name": "stderr",
     "output_type": "stream",
     "text": [
      "/Users/espyMur/Desktop/Memory-WorkingDir/memoryVenv/lib/python2.7/site-packages/sklearn/model_selection/_validation.py:238: UserWarning: With alpha=0, this algorithm does not converge well. You are advised to use the LinearRegression estimator\n",
      "  estimator.fit(X_train, y_train, **fit_params)\n",
      "/Users/espyMur/Desktop/Memory-WorkingDir/memoryVenv/lib/python2.7/site-packages/sklearn/linear_model/coordinate_descent.py:470: UserWarning: Coordinate descent with alpha=0 may lead to unexpected results and is discouraged.\n",
      "  positive)\n",
      "/Users/espyMur/Desktop/Memory-WorkingDir/memoryVenv/lib/python2.7/site-packages/sklearn/linear_model/coordinate_descent.py:484: ConvergenceWarning: Objective did not converge. You might want to increase the number of iterations. Fitting data with very small alpha may cause precision problems.\n",
      "  ConvergenceWarning)\n"
     ]
    },
    {
     "name": "stdout",
     "output_type": "stream",
     "text": [
      "[CV] ....... alpha=0, selection=cyclic, score=-0.005376, total=   4.1s\n",
      "[CV] alpha=0, selection=cyclic .......................................\n",
      "[CV] ....... alpha=0, selection=cyclic, score=-0.004736, total=   5.0s\n",
      "[CV] alpha=0, selection=cyclic .......................................\n",
      "[CV] ....... alpha=0, selection=cyclic, score=-0.005348, total=   5.0s\n",
      "[CV] alpha=0, selection=cyclic .......................................\n",
      "[CV] ....... alpha=0, selection=cyclic, score=-0.005173, total=   4.8s\n",
      "[CV] alpha=0, selection=cyclic .......................................\n",
      "[CV] ....... alpha=0, selection=cyclic, score=-0.004637, total=   4.7s\n",
      "[CV] alpha=0, selection=random .......................................\n",
      "[CV] ....... alpha=0, selection=random, score=-0.005372, total=   3.8s\n",
      "[CV] alpha=0, selection=random .......................................\n",
      "[CV] ....... alpha=0, selection=random, score=-0.004732, total=   4.9s\n",
      "[CV] alpha=0, selection=random .......................................\n",
      "[CV] ....... alpha=0, selection=random, score=-0.005347, total=   5.0s\n",
      "[CV] alpha=0, selection=random .......................................\n",
      "[CV] ....... alpha=0, selection=random, score=-0.005191, total=   5.1s\n",
      "[CV] alpha=0, selection=random .......................................\n",
      "[CV] ....... alpha=0, selection=random, score=-0.004568, total=   5.2s\n",
      "[CV] alpha=1, selection=cyclic .......................................\n",
      "[CV] ....... alpha=1, selection=cyclic, score=-0.005519, total=   0.0s\n",
      "[CV] alpha=1, selection=cyclic .......................................\n",
      "[CV] ....... alpha=1, selection=cyclic, score=-0.005463, total=   0.0s\n",
      "[CV] alpha=1, selection=cyclic .......................................\n",
      "[CV] ....... alpha=1, selection=cyclic, score=-0.005285, total=   0.0s\n",
      "[CV] alpha=1, selection=cyclic .......................................\n",
      "[CV] ....... alpha=1, selection=cyclic, score=-0.003664, total=   0.0s\n",
      "[CV] alpha=1, selection=cyclic .......................................\n",
      "[CV] ....... alpha=1, selection=cyclic, score=-0.004268, total=   0.0s\n",
      "[CV] alpha=1, selection=random .......................................\n",
      "[CV] ....... alpha=1, selection=random, score=-0.005519, total=   0.0s\n",
      "[CV] alpha=1, selection=random .......................................\n",
      "[CV] ....... alpha=1, selection=random, score=-0.005463, total=   0.0s\n",
      "[CV] alpha=1, selection=random .......................................\n",
      "[CV] ....... alpha=1, selection=random, score=-0.005285, total=   0.0s\n",
      "[CV] alpha=1, selection=random .......................................\n",
      "[CV] ....... alpha=1, selection=random, score=-0.003664, total=   0.0s\n",
      "[CV] alpha=1, selection=random .......................................\n",
      "[CV] ....... alpha=1, selection=random, score=-0.004268, total=   0.0s\n",
      "[CV] alpha=5, selection=cyclic .......................................\n",
      "[CV] ....... alpha=5, selection=cyclic, score=-0.005519, total=   0.0s\n",
      "[CV] alpha=5, selection=cyclic .......................................\n",
      "[CV] ....... alpha=5, selection=cyclic, score=-0.005463, total=   0.0s\n",
      "[CV] alpha=5, selection=cyclic .......................................\n",
      "[CV] ....... alpha=5, selection=cyclic, score=-0.005285, total=   0.0s\n",
      "[CV] alpha=5, selection=cyclic .......................................\n",
      "[CV] ....... alpha=5, selection=cyclic, score=-0.003664, total=   0.0s\n",
      "[CV] alpha=5, selection=cyclic .......................................\n",
      "[CV] ....... alpha=5, selection=cyclic, score=-0.004268, total=   0.0s\n",
      "[CV] alpha=5, selection=random .......................................\n",
      "[CV] ....... alpha=5, selection=random, score=-0.005519, total=   0.0s\n",
      "[CV] alpha=5, selection=random .......................................\n",
      "[CV] ....... alpha=5, selection=random, score=-0.005463, total=   0.0s\n",
      "[CV] alpha=5, selection=random .......................................\n",
      "[CV] ....... alpha=5, selection=random, score=-0.005285, total=   0.0s\n",
      "[CV] alpha=5, selection=random .......................................\n",
      "[CV] ....... alpha=5, selection=random, score=-0.003664, total=   0.0s\n",
      "[CV] alpha=5, selection=random .......................................\n",
      "[CV] ....... alpha=5, selection=random, score=-0.004268, total=   0.0s\n",
      "[CV] alpha=10, selection=cyclic ......................................\n",
      "[CV] ...... alpha=10, selection=cyclic, score=-0.005519, total=   0.0s\n",
      "[CV] alpha=10, selection=cyclic ......................................\n",
      "[CV] ...... alpha=10, selection=cyclic, score=-0.005463, total=   0.0s\n",
      "[CV] alpha=10, selection=cyclic ......................................\n",
      "[CV] ...... alpha=10, selection=cyclic, score=-0.005285, total=   0.0s\n",
      "[CV] alpha=10, selection=cyclic ......................................\n",
      "[CV] ...... alpha=10, selection=cyclic, score=-0.003664, total=   0.0s\n",
      "[CV] alpha=10, selection=cyclic ......................................\n",
      "[CV] ...... alpha=10, selection=cyclic, score=-0.004268, total=   0.0s\n",
      "[CV] alpha=10, selection=random ......................................\n",
      "[CV] ...... alpha=10, selection=random, score=-0.005519, total=   0.0s\n",
      "[CV] alpha=10, selection=random ......................................\n",
      "[CV] ...... alpha=10, selection=random, score=-0.005463, total=   0.0s\n",
      "[CV] alpha=10, selection=random ......................................\n",
      "[CV] ...... alpha=10, selection=random, score=-0.005285, total=   0.0s\n",
      "[CV] alpha=10, selection=random ......................................\n",
      "[CV] ...... alpha=10, selection=random, score=-0.003664, total=   0.0s\n",
      "[CV] alpha=10, selection=random ......................................\n",
      "[CV] ...... alpha=10, selection=random, score=-0.004268, total=   0.0s\n"
     ]
    },
    {
     "name": "stderr",
     "output_type": "stream",
     "text": [
      "[Parallel(n_jobs=1)]: Done  80 out of  80 | elapsed:   51.7s finished\n"
     ]
    },
    {
     "data": {
      "text/plain": [
       "GridSearchCV(cv=5, error_score='raise',\n",
       "       estimator=Lasso(alpha=0.001, copy_X=True, fit_intercept=True, max_iter=10000,\n",
       "   normalize=False, positive=False, precompute=False, random_state=None,\n",
       "   selection='cyclic', tol=0.0001, warm_start=False),\n",
       "       fit_params={}, iid=True, n_jobs=1,\n",
       "       param_grid={'alpha': [1e-05, 0.0001, 0.001, 0.01, 0, 1, 5, 10], 'selection': ['cyclic', 'random']},\n",
       "       pre_dispatch='2*n_jobs', refit=True, return_train_score=True,\n",
       "       scoring='neg_mean_squared_error', verbose=5)"
      ]
     },
     "execution_count": 54,
     "metadata": {},
     "output_type": "execute_result"
    }
   ],
   "source": [
    "from sklearn.model_selection import GridSearchCV\n",
    "param_grid ={'alpha':[1e-5,1e-4, 1e-3,1e-2,0, 1, 5, 10],'selection':['cyclic','random']}\n",
    "grid_search = GridSearchCV(droitModel.predictiveModels['Lasso'], param_grid, cv=5,scoring='neg_mean_squared_error',verbose=5)\n",
    "grid_search.fit(droitModel.X_train,droitModel.Y_train)"
   ]
  },
  {
   "cell_type": "code",
   "execution_count": 55,
   "metadata": {
    "scrolled": false
   },
   "outputs": [
    {
     "name": "stdout",
     "output_type": "stream",
     "text": [
      "(0.0672890169473533, {'alpha': 1e-05, 'selection': 'cyclic'})\n",
      "(0.067290284332038222, {'alpha': 1e-05, 'selection': 'random'})\n",
      "(0.067831595702809055, {'alpha': 0.0001, 'selection': 'cyclic'})\n",
      "(0.067831710365960446, {'alpha': 0.0001, 'selection': 'random'})\n",
      "(0.06957552507642617, {'alpha': 0.001, 'selection': 'cyclic'})\n",
      "(0.06957552507642617, {'alpha': 0.001, 'selection': 'random'})\n",
      "(0.06957552507642617, {'alpha': 0.01, 'selection': 'cyclic'})\n",
      "(0.06957552507642617, {'alpha': 0.01, 'selection': 'random'})\n",
      "(0.06957552507642617, {'alpha': 0, 'selection': 'cyclic'})\n",
      "(0.06957552507642617, {'alpha': 0, 'selection': 'random'})\n",
      "(0.06957552507642617, {'alpha': 1, 'selection': 'cyclic'})\n",
      "(0.06957552507642617, {'alpha': 1, 'selection': 'random'})\n",
      "(0.070481873651514551, {'alpha': 5, 'selection': 'cyclic'})\n",
      "(0.070493598520100439, {'alpha': 5, 'selection': 'random'})\n",
      "(0.071009492129496574, {'alpha': 10, 'selection': 'cyclic'})\n",
      "(0.071094610279614737, {'alpha': 10, 'selection': 'random'})\n"
     ]
    }
   ],
   "source": [
    "cvres = grid_search.cv_results_\n",
    "for mean_score, params in zip(sorted(cvres[\"mean_test_score\"],reverse=True), cvres[\"params\"]):\n",
    "    print(np.sqrt(-mean_score), params)"
   ]
  },
  {
   "cell_type": "markdown",
   "metadata": {},
   "source": [
    "Nous venons de voir qu'avec un alpha de 1e-05 notre modele dispose d'un bon score"
   ]
  },
  {
   "cell_type": "code",
   "execution_count": 56,
   "metadata": {
    "scrolled": true
   },
   "outputs": [
    {
     "name": "stdout",
     "output_type": "stream",
     "text": [
      "Fitting 5 folds for each of 80 candidates, totalling 400 fits\n",
      "[CV] alpha=1e-05, selection=cyclic, l1_ratio=1 .......................\n",
      "[CV]  alpha=1e-05, selection=cyclic, l1_ratio=1, score=-0.005322, total=   0.4s\n",
      "[CV] alpha=1e-05, selection=cyclic, l1_ratio=1 .......................\n",
      "[CV]  alpha=1e-05, selection=cyclic, l1_ratio=1, score=-0.004703, total=   0.1s\n",
      "[CV] alpha=1e-05, selection=cyclic, l1_ratio=1 .......................\n"
     ]
    },
    {
     "name": "stderr",
     "output_type": "stream",
     "text": [
      "[Parallel(n_jobs=1)]: Done   1 out of   1 | elapsed:    0.4s remaining:    0.0s\n",
      "[Parallel(n_jobs=1)]: Done   2 out of   2 | elapsed:    0.5s remaining:    0.0s\n"
     ]
    },
    {
     "name": "stdout",
     "output_type": "stream",
     "text": [
      "[CV]  alpha=1e-05, selection=cyclic, l1_ratio=1, score=-0.005221, total=   0.3s\n",
      "[CV] alpha=1e-05, selection=cyclic, l1_ratio=1 .......................\n",
      "[CV]  alpha=1e-05, selection=cyclic, l1_ratio=1, score=-0.005055, total=   0.1s\n",
      "[CV] alpha=1e-05, selection=cyclic, l1_ratio=1 .......................\n"
     ]
    },
    {
     "name": "stderr",
     "output_type": "stream",
     "text": [
      "[Parallel(n_jobs=1)]: Done   3 out of   3 | elapsed:    0.8s remaining:    0.0s\n",
      "[Parallel(n_jobs=1)]: Done   4 out of   4 | elapsed:    0.9s remaining:    0.0s\n"
     ]
    },
    {
     "name": "stdout",
     "output_type": "stream",
     "text": [
      "[CV]  alpha=1e-05, selection=cyclic, l1_ratio=1, score=-0.004535, total=   0.2s\n",
      "[CV] alpha=1e-05, selection=random, l1_ratio=1 .......................\n",
      "[CV]  alpha=1e-05, selection=random, l1_ratio=1, score=-0.005322, total=   0.4s\n",
      "[CV] alpha=1e-05, selection=random, l1_ratio=1 .......................\n",
      "[CV]  alpha=1e-05, selection=random, l1_ratio=1, score=-0.004703, total=   0.2s\n",
      "[CV] alpha=1e-05, selection=random, l1_ratio=1 .......................\n",
      "[CV]  alpha=1e-05, selection=random, l1_ratio=1, score=-0.005173, total=   0.1s\n",
      "[CV] alpha=1e-05, selection=random, l1_ratio=1 .......................\n",
      "[CV]  alpha=1e-05, selection=random, l1_ratio=1, score=-0.005055, total=   0.2s\n",
      "[CV] alpha=1e-05, selection=random, l1_ratio=1 .......................\n",
      "[CV]  alpha=1e-05, selection=random, l1_ratio=1, score=-0.004530, total=   0.2s\n",
      "[CV] alpha=1e-05, selection=cyclic, l1_ratio=0.5 .....................\n",
      "[CV]  alpha=1e-05, selection=cyclic, l1_ratio=0.5, score=-0.005359, total=   0.3s\n",
      "[CV] alpha=1e-05, selection=cyclic, l1_ratio=0.5 .....................\n",
      "[CV]  alpha=1e-05, selection=cyclic, l1_ratio=0.5, score=-0.004732, total=   0.2s\n",
      "[CV] alpha=1e-05, selection=cyclic, l1_ratio=0.5 .....................\n",
      "[CV]  alpha=1e-05, selection=cyclic, l1_ratio=0.5, score=-0.005248, total=   0.1s\n",
      "[CV] alpha=1e-05, selection=cyclic, l1_ratio=0.5 .....................\n",
      "[CV]  alpha=1e-05, selection=cyclic, l1_ratio=0.5, score=-0.005132, total=   0.1s\n",
      "[CV] alpha=1e-05, selection=cyclic, l1_ratio=0.5 .....................\n",
      "[CV]  alpha=1e-05, selection=cyclic, l1_ratio=0.5, score=-0.004555, total=   0.3s\n",
      "[CV] alpha=1e-05, selection=random, l1_ratio=0.5 .....................\n",
      "[CV]  alpha=1e-05, selection=random, l1_ratio=0.5, score=-0.005359, total=   0.5s\n",
      "[CV] alpha=1e-05, selection=random, l1_ratio=0.5 .....................\n",
      "[CV]  alpha=1e-05, selection=random, l1_ratio=0.5, score=-0.004732, total=   0.5s\n",
      "[CV] alpha=1e-05, selection=random, l1_ratio=0.5 .....................\n",
      "[CV]  alpha=1e-05, selection=random, l1_ratio=0.5, score=-0.005254, total=   0.1s\n",
      "[CV] alpha=1e-05, selection=random, l1_ratio=0.5 .....................\n",
      "[CV]  alpha=1e-05, selection=random, l1_ratio=0.5, score=-0.005133, total=   0.2s\n",
      "[CV] alpha=1e-05, selection=random, l1_ratio=0.5 .....................\n",
      "[CV]  alpha=1e-05, selection=random, l1_ratio=0.5, score=-0.004555, total=   0.6s\n",
      "[CV] alpha=1e-05, selection=cyclic, l1_ratio=0.333333333333 ..........\n",
      "[CV]  alpha=1e-05, selection=cyclic, l1_ratio=0.333333333333, score=-0.005369, total=   0.3s\n",
      "[CV] alpha=1e-05, selection=cyclic, l1_ratio=0.333333333333 ..........\n",
      "[CV]  alpha=1e-05, selection=cyclic, l1_ratio=0.333333333333, score=-0.004743, total=   0.2s\n",
      "[CV] alpha=1e-05, selection=cyclic, l1_ratio=0.333333333333 ..........\n",
      "[CV]  alpha=1e-05, selection=cyclic, l1_ratio=0.333333333333, score=-0.005264, total=   0.1s\n",
      "[CV] alpha=1e-05, selection=cyclic, l1_ratio=0.333333333333 ..........\n",
      "[CV]  alpha=1e-05, selection=cyclic, l1_ratio=0.333333333333, score=-0.005155, total=   0.3s\n",
      "[CV] alpha=1e-05, selection=cyclic, l1_ratio=0.333333333333 ..........\n",
      "[CV]  alpha=1e-05, selection=cyclic, l1_ratio=0.333333333333, score=-0.004572, total=   0.5s\n",
      "[CV] alpha=1e-05, selection=random, l1_ratio=0.333333333333 ..........\n",
      "[CV]  alpha=1e-05, selection=random, l1_ratio=0.333333333333, score=-0.005369, total=   0.1s\n",
      "[CV] alpha=1e-05, selection=random, l1_ratio=0.333333333333 ..........\n",
      "[CV]  alpha=1e-05, selection=random, l1_ratio=0.333333333333, score=-0.004743, total=   0.3s\n",
      "[CV] alpha=1e-05, selection=random, l1_ratio=0.333333333333 ..........\n",
      "[CV]  alpha=1e-05, selection=random, l1_ratio=0.333333333333, score=-0.005260, total=   0.4s\n",
      "[CV] alpha=1e-05, selection=random, l1_ratio=0.333333333333 ..........\n",
      "[CV]  alpha=1e-05, selection=random, l1_ratio=0.333333333333, score=-0.005155, total=   0.1s\n",
      "[CV] alpha=1e-05, selection=random, l1_ratio=0.333333333333 ..........\n",
      "[CV]  alpha=1e-05, selection=random, l1_ratio=0.333333333333, score=-0.004572, total=   0.1s\n",
      "[CV] alpha=1e-05, selection=cyclic, l1_ratio=0.25 ....................\n",
      "[CV]  alpha=1e-05, selection=cyclic, l1_ratio=0.25, score=-0.005374, total=   0.3s\n",
      "[CV] alpha=1e-05, selection=cyclic, l1_ratio=0.25 ....................\n",
      "[CV]  alpha=1e-05, selection=cyclic, l1_ratio=0.25, score=-0.004748, total=   0.3s\n",
      "[CV] alpha=1e-05, selection=cyclic, l1_ratio=0.25 ....................\n",
      "[CV]  alpha=1e-05, selection=cyclic, l1_ratio=0.25, score=-0.005271, total=   0.1s\n",
      "[CV] alpha=1e-05, selection=cyclic, l1_ratio=0.25 ....................\n",
      "[CV]  alpha=1e-05, selection=cyclic, l1_ratio=0.25, score=-0.005169, total=   0.4s\n",
      "[CV] alpha=1e-05, selection=cyclic, l1_ratio=0.25 ....................\n",
      "[CV]  alpha=1e-05, selection=cyclic, l1_ratio=0.25, score=-0.004580, total=   0.7s\n",
      "[CV] alpha=1e-05, selection=random, l1_ratio=0.25 ....................\n",
      "[CV]  alpha=1e-05, selection=random, l1_ratio=0.25, score=-0.005374, total=   0.8s\n",
      "[CV] alpha=1e-05, selection=random, l1_ratio=0.25 ....................\n",
      "[CV]  alpha=1e-05, selection=random, l1_ratio=0.25, score=-0.004747, total=   0.1s\n",
      "[CV] alpha=1e-05, selection=random, l1_ratio=0.25 ....................\n",
      "[CV]  alpha=1e-05, selection=random, l1_ratio=0.25, score=-0.005266, total=   1.1s\n",
      "[CV] alpha=1e-05, selection=random, l1_ratio=0.25 ....................\n",
      "[CV]  alpha=1e-05, selection=random, l1_ratio=0.25, score=-0.005170, total=   0.4s\n",
      "[CV] alpha=1e-05, selection=random, l1_ratio=0.25 ....................\n",
      "[CV]  alpha=1e-05, selection=random, l1_ratio=0.25, score=-0.004580, total=   0.2s\n",
      "[CV] alpha=1e-05, selection=cyclic, l1_ratio=0.2 .....................\n",
      "[CV]  alpha=1e-05, selection=cyclic, l1_ratio=0.2, score=-0.005376, total=   0.5s\n",
      "[CV] alpha=1e-05, selection=cyclic, l1_ratio=0.2 .....................\n",
      "[CV]  alpha=1e-05, selection=cyclic, l1_ratio=0.2, score=-0.004750, total=   0.4s\n",
      "[CV] alpha=1e-05, selection=cyclic, l1_ratio=0.2 .....................\n",
      "[CV]  alpha=1e-05, selection=cyclic, l1_ratio=0.2, score=-0.005276, total=   0.1s\n",
      "[CV] alpha=1e-05, selection=cyclic, l1_ratio=0.2 .....................\n",
      "[CV]  alpha=1e-05, selection=cyclic, l1_ratio=0.2, score=-0.005173, total=   0.5s\n",
      "[CV] alpha=1e-05, selection=cyclic, l1_ratio=0.2 .....................\n",
      "[CV]  alpha=1e-05, selection=cyclic, l1_ratio=0.2, score=-0.004586, total=   1.0s\n",
      "[CV] alpha=1e-05, selection=random, l1_ratio=0.2 .....................\n",
      "[CV]  alpha=1e-05, selection=random, l1_ratio=0.2, score=-0.005376, total=   0.3s\n",
      "[CV] alpha=1e-05, selection=random, l1_ratio=0.2 .....................\n",
      "[CV]  alpha=1e-05, selection=random, l1_ratio=0.2, score=-0.004755, total=   0.3s\n",
      "[CV] alpha=1e-05, selection=random, l1_ratio=0.2 .....................\n",
      "[CV]  alpha=1e-05, selection=random, l1_ratio=0.2, score=-0.005273, total=   0.7s\n",
      "[CV] alpha=1e-05, selection=random, l1_ratio=0.2 .....................\n",
      "[CV]  alpha=1e-05, selection=random, l1_ratio=0.2, score=-0.005168, total=   0.3s\n",
      "[CV] alpha=1e-05, selection=random, l1_ratio=0.2 .....................\n",
      "[CV]  alpha=1e-05, selection=random, l1_ratio=0.2, score=-0.004586, total=   1.5s\n",
      "[CV] alpha=0.0001, selection=cyclic, l1_ratio=1 ......................\n",
      "[CV]  alpha=0.0001, selection=cyclic, l1_ratio=1, score=-0.004921, total=   0.0s\n",
      "[CV] alpha=0.0001, selection=cyclic, l1_ratio=1 ......................\n",
      "[CV]  alpha=0.0001, selection=cyclic, l1_ratio=1, score=-0.004540, total=   0.0s\n",
      "[CV] alpha=0.0001, selection=cyclic, l1_ratio=1 ......................\n",
      "[CV]  alpha=0.0001, selection=cyclic, l1_ratio=1, score=-0.004925, total=   0.1s\n",
      "[CV] alpha=0.0001, selection=cyclic, l1_ratio=1 ......................\n",
      "[CV]  alpha=0.0001, selection=cyclic, l1_ratio=1, score=-0.004119, total=   0.0s\n",
      "[CV] alpha=0.0001, selection=cyclic, l1_ratio=1 ......................\n",
      "[CV]  alpha=0.0001, selection=cyclic, l1_ratio=1, score=-0.004132, total=   0.0s\n",
      "[CV] alpha=0.0001, selection=random, l1_ratio=1 ......................\n",
      "[CV]  alpha=0.0001, selection=random, l1_ratio=1, score=-0.004921, total=   0.0s\n",
      "[CV] alpha=0.0001, selection=random, l1_ratio=1 ......................\n",
      "[CV]  alpha=0.0001, selection=random, l1_ratio=1, score=-0.004540, total=   0.1s\n",
      "[CV] alpha=0.0001, selection=random, l1_ratio=1 ......................\n",
      "[CV]  alpha=0.0001, selection=random, l1_ratio=1, score=-0.004925, total=   0.1s\n",
      "[CV] alpha=0.0001, selection=random, l1_ratio=1 ......................\n"
     ]
    },
    {
     "name": "stdout",
     "output_type": "stream",
     "text": [
      "[CV]  alpha=0.0001, selection=random, l1_ratio=1, score=-0.004118, total=   0.1s\n",
      "[CV] alpha=0.0001, selection=random, l1_ratio=1 ......................\n",
      "[CV]  alpha=0.0001, selection=random, l1_ratio=1, score=-0.004132, total=   0.0s\n",
      "[CV] alpha=0.0001, selection=cyclic, l1_ratio=0.5 ....................\n",
      "[CV]  alpha=0.0001, selection=cyclic, l1_ratio=0.5, score=-0.005064, total=   0.0s\n",
      "[CV] alpha=0.0001, selection=cyclic, l1_ratio=0.5 ....................\n",
      "[CV]  alpha=0.0001, selection=cyclic, l1_ratio=0.5, score=-0.004569, total=   0.1s\n",
      "[CV] alpha=0.0001, selection=cyclic, l1_ratio=0.5 ....................\n",
      "[CV]  alpha=0.0001, selection=cyclic, l1_ratio=0.5, score=-0.004961, total=   0.1s\n",
      "[CV] alpha=0.0001, selection=cyclic, l1_ratio=0.5 ....................\n",
      "[CV]  alpha=0.0001, selection=cyclic, l1_ratio=0.5, score=-0.004427, total=   0.1s\n",
      "[CV] alpha=0.0001, selection=cyclic, l1_ratio=0.5 ....................\n",
      "[CV]  alpha=0.0001, selection=cyclic, l1_ratio=0.5, score=-0.004264, total=   0.0s\n",
      "[CV] alpha=0.0001, selection=random, l1_ratio=0.5 ....................\n",
      "[CV]  alpha=0.0001, selection=random, l1_ratio=0.5, score=-0.005064, total=   0.1s\n",
      "[CV] alpha=0.0001, selection=random, l1_ratio=0.5 ....................\n",
      "[CV]  alpha=0.0001, selection=random, l1_ratio=0.5, score=-0.004569, total=   0.1s\n",
      "[CV] alpha=0.0001, selection=random, l1_ratio=0.5 ....................\n",
      "[CV]  alpha=0.0001, selection=random, l1_ratio=0.5, score=-0.004961, total=   0.1s\n",
      "[CV] alpha=0.0001, selection=random, l1_ratio=0.5 ....................\n",
      "[CV]  alpha=0.0001, selection=random, l1_ratio=0.5, score=-0.004427, total=   0.1s\n",
      "[CV] alpha=0.0001, selection=random, l1_ratio=0.5 ....................\n",
      "[CV]  alpha=0.0001, selection=random, l1_ratio=0.5, score=-0.004264, total=   0.0s\n",
      "[CV] alpha=0.0001, selection=cyclic, l1_ratio=0.333333333333 .........\n",
      "[CV]  alpha=0.0001, selection=cyclic, l1_ratio=0.333333333333, score=-0.005134, total=   0.1s\n",
      "[CV] alpha=0.0001, selection=cyclic, l1_ratio=0.333333333333 .........\n",
      "[CV]  alpha=0.0001, selection=cyclic, l1_ratio=0.333333333333, score=-0.004592, total=   0.1s\n",
      "[CV] alpha=0.0001, selection=cyclic, l1_ratio=0.333333333333 .........\n",
      "[CV]  alpha=0.0001, selection=cyclic, l1_ratio=0.333333333333, score=-0.005002, total=   0.1s\n",
      "[CV] alpha=0.0001, selection=cyclic, l1_ratio=0.333333333333 .........\n",
      "[CV]  alpha=0.0001, selection=cyclic, l1_ratio=0.333333333333, score=-0.004579, total=   0.1s\n",
      "[CV] alpha=0.0001, selection=cyclic, l1_ratio=0.333333333333 .........\n",
      "[CV]  alpha=0.0001, selection=cyclic, l1_ratio=0.333333333333, score=-0.004339, total=   0.1s\n",
      "[CV] alpha=0.0001, selection=random, l1_ratio=0.333333333333 .........\n",
      "[CV]  alpha=0.0001, selection=random, l1_ratio=0.333333333333, score=-0.005134, total=   0.1s\n",
      "[CV] alpha=0.0001, selection=random, l1_ratio=0.333333333333 .........\n",
      "[CV]  alpha=0.0001, selection=random, l1_ratio=0.333333333333, score=-0.004592, total=   0.1s\n",
      "[CV] alpha=0.0001, selection=random, l1_ratio=0.333333333333 .........\n",
      "[CV]  alpha=0.0001, selection=random, l1_ratio=0.333333333333, score=-0.005002, total=   0.1s\n",
      "[CV] alpha=0.0001, selection=random, l1_ratio=0.333333333333 .........\n",
      "[CV]  alpha=0.0001, selection=random, l1_ratio=0.333333333333, score=-0.004579, total=   0.1s\n",
      "[CV] alpha=0.0001, selection=random, l1_ratio=0.333333333333 .........\n",
      "[CV]  alpha=0.0001, selection=random, l1_ratio=0.333333333333, score=-0.004339, total=   0.2s\n",
      "[CV] alpha=0.0001, selection=cyclic, l1_ratio=0.25 ...................\n",
      "[CV]  alpha=0.0001, selection=cyclic, l1_ratio=0.25, score=-0.005176, total=   0.0s\n",
      "[CV] alpha=0.0001, selection=cyclic, l1_ratio=0.25 ...................\n",
      "[CV]  alpha=0.0001, selection=cyclic, l1_ratio=0.25, score=-0.004610, total=   0.1s\n",
      "[CV] alpha=0.0001, selection=cyclic, l1_ratio=0.25 ...................\n",
      "[CV]  alpha=0.0001, selection=cyclic, l1_ratio=0.25, score=-0.005032, total=   0.1s\n",
      "[CV] alpha=0.0001, selection=cyclic, l1_ratio=0.25 ...................\n",
      "[CV]  alpha=0.0001, selection=cyclic, l1_ratio=0.25, score=-0.004655, total=   0.1s\n",
      "[CV] alpha=0.0001, selection=cyclic, l1_ratio=0.25 ...................\n",
      "[CV]  alpha=0.0001, selection=cyclic, l1_ratio=0.25, score=-0.004387, total=   0.1s\n",
      "[CV] alpha=0.0001, selection=random, l1_ratio=0.25 ...................\n",
      "[CV]  alpha=0.0001, selection=random, l1_ratio=0.25, score=-0.005176, total=   0.1s\n",
      "[CV] alpha=0.0001, selection=random, l1_ratio=0.25 ...................\n",
      "[CV]  alpha=0.0001, selection=random, l1_ratio=0.25, score=-0.004610, total=   0.1s\n",
      "[CV] alpha=0.0001, selection=random, l1_ratio=0.25 ...................\n",
      "[CV]  alpha=0.0001, selection=random, l1_ratio=0.25, score=-0.005031, total=   0.1s\n",
      "[CV] alpha=0.0001, selection=random, l1_ratio=0.25 ...................\n",
      "[CV]  alpha=0.0001, selection=random, l1_ratio=0.25, score=-0.004655, total=   0.2s\n",
      "[CV] alpha=0.0001, selection=random, l1_ratio=0.25 ...................\n",
      "[CV]  alpha=0.0001, selection=random, l1_ratio=0.25, score=-0.004387, total=   0.1s\n",
      "[CV] alpha=0.0001, selection=cyclic, l1_ratio=0.2 ....................\n",
      "[CV]  alpha=0.0001, selection=cyclic, l1_ratio=0.2, score=-0.005202, total=   0.0s\n",
      "[CV] alpha=0.0001, selection=cyclic, l1_ratio=0.2 ....................\n",
      "[CV]  alpha=0.0001, selection=cyclic, l1_ratio=0.2, score=-0.004627, total=   0.1s\n",
      "[CV] alpha=0.0001, selection=cyclic, l1_ratio=0.2 ....................\n",
      "[CV]  alpha=0.0001, selection=cyclic, l1_ratio=0.2, score=-0.005059, total=   0.1s\n",
      "[CV] alpha=0.0001, selection=cyclic, l1_ratio=0.2 ....................\n",
      "[CV]  alpha=0.0001, selection=cyclic, l1_ratio=0.2, score=-0.004706, total=   0.0s\n",
      "[CV] alpha=0.0001, selection=cyclic, l1_ratio=0.2 ....................\n",
      "[CV]  alpha=0.0001, selection=cyclic, l1_ratio=0.2, score=-0.004415, total=   0.1s\n",
      "[CV] alpha=0.0001, selection=random, l1_ratio=0.2 ....................\n",
      "[CV]  alpha=0.0001, selection=random, l1_ratio=0.2, score=-0.005202, total=   0.1s\n",
      "[CV] alpha=0.0001, selection=random, l1_ratio=0.2 ....................\n",
      "[CV]  alpha=0.0001, selection=random, l1_ratio=0.2, score=-0.004627, total=   0.1s\n",
      "[CV] alpha=0.0001, selection=random, l1_ratio=0.2 ....................\n",
      "[CV]  alpha=0.0001, selection=random, l1_ratio=0.2, score=-0.005058, total=   0.1s\n",
      "[CV] alpha=0.0001, selection=random, l1_ratio=0.2 ....................\n",
      "[CV]  alpha=0.0001, selection=random, l1_ratio=0.2, score=-0.004706, total=   0.1s\n",
      "[CV] alpha=0.0001, selection=random, l1_ratio=0.2 ....................\n",
      "[CV]  alpha=0.0001, selection=random, l1_ratio=0.2, score=-0.004415, total=   0.1s\n",
      "[CV] alpha=0.001, selection=cyclic, l1_ratio=1 .......................\n",
      "[CV]  alpha=0.001, selection=cyclic, l1_ratio=1, score=-0.005263, total=   0.0s\n",
      "[CV] alpha=0.001, selection=cyclic, l1_ratio=1 .......................\n",
      "[CV]  alpha=0.001, selection=cyclic, l1_ratio=1, score=-0.004974, total=   0.0s\n",
      "[CV] alpha=0.001, selection=cyclic, l1_ratio=1 .......................\n",
      "[CV]  alpha=0.001, selection=cyclic, l1_ratio=1, score=-0.005136, total=   0.0s\n",
      "[CV] alpha=0.001, selection=cyclic, l1_ratio=1 .......................\n",
      "[CV]  alpha=0.001, selection=cyclic, l1_ratio=1, score=-0.003475, total=   0.0s\n",
      "[CV] alpha=0.001, selection=cyclic, l1_ratio=1 .......................\n",
      "[CV]  alpha=0.001, selection=cyclic, l1_ratio=1, score=-0.004153, total=   0.0s\n",
      "[CV] alpha=0.001, selection=random, l1_ratio=1 .......................\n",
      "[CV]  alpha=0.001, selection=random, l1_ratio=1, score=-0.005261, total=   0.0s\n",
      "[CV] alpha=0.001, selection=random, l1_ratio=1 .......................\n",
      "[CV]  alpha=0.001, selection=random, l1_ratio=1, score=-0.004974, total=   0.0s\n",
      "[CV] alpha=0.001, selection=random, l1_ratio=1 .......................\n",
      "[CV]  alpha=0.001, selection=random, l1_ratio=1, score=-0.005136, total=   0.0s\n",
      "[CV] alpha=0.001, selection=random, l1_ratio=1 .......................\n",
      "[CV]  alpha=0.001, selection=random, l1_ratio=1, score=-0.003474, total=   0.0s\n",
      "[CV] alpha=0.001, selection=random, l1_ratio=1 .......................\n",
      "[CV]  alpha=0.001, selection=random, l1_ratio=1, score=-0.004154, total=   0.0s\n",
      "[CV] alpha=0.001, selection=cyclic, l1_ratio=0.5 .....................\n",
      "[CV]  alpha=0.001, selection=cyclic, l1_ratio=0.5, score=-0.005208, total=   0.0s\n",
      "[CV] alpha=0.001, selection=cyclic, l1_ratio=0.5 .....................\n",
      "[CV]  alpha=0.001, selection=cyclic, l1_ratio=0.5, score=-0.004915, total=   0.0s\n",
      "[CV] alpha=0.001, selection=cyclic, l1_ratio=0.5 .....................\n",
      "[CV]  alpha=0.001, selection=cyclic, l1_ratio=0.5, score=-0.005104, total=   0.0s\n",
      "[CV] alpha=0.001, selection=cyclic, l1_ratio=0.5 .....................\n",
      "[CV]  alpha=0.001, selection=cyclic, l1_ratio=0.5, score=-0.003425, total=   0.0s\n",
      "[CV] alpha=0.001, selection=cyclic, l1_ratio=0.5 .....................\n",
      "[CV]  alpha=0.001, selection=cyclic, l1_ratio=0.5, score=-0.004037, total=   0.0s\n",
      "[CV] alpha=0.001, selection=random, l1_ratio=0.5 .....................\n",
      "[CV]  alpha=0.001, selection=random, l1_ratio=0.5, score=-0.005208, total=   0.0s\n",
      "[CV] alpha=0.001, selection=random, l1_ratio=0.5 .....................\n",
      "[CV]  alpha=0.001, selection=random, l1_ratio=0.5, score=-0.004915, total=   0.0s\n",
      "[CV] alpha=0.001, selection=random, l1_ratio=0.5 .....................\n",
      "[CV]  alpha=0.001, selection=random, l1_ratio=0.5, score=-0.005104, total=   0.0s\n",
      "[CV] alpha=0.001, selection=random, l1_ratio=0.5 .....................\n"
     ]
    },
    {
     "name": "stdout",
     "output_type": "stream",
     "text": [
      "[CV]  alpha=0.001, selection=random, l1_ratio=0.5, score=-0.003426, total=   0.0s\n",
      "[CV] alpha=0.001, selection=random, l1_ratio=0.5 .....................\n",
      "[CV]  alpha=0.001, selection=random, l1_ratio=0.5, score=-0.004037, total=   0.0s\n",
      "[CV] alpha=0.001, selection=cyclic, l1_ratio=0.333333333333 ..........\n",
      "[CV]  alpha=0.001, selection=cyclic, l1_ratio=0.333333333333, score=-0.005115, total=   0.0s\n",
      "[CV] alpha=0.001, selection=cyclic, l1_ratio=0.333333333333 ..........\n",
      "[CV]  alpha=0.001, selection=cyclic, l1_ratio=0.333333333333, score=-0.004749, total=   0.0s\n",
      "[CV] alpha=0.001, selection=cyclic, l1_ratio=0.333333333333 ..........\n",
      "[CV]  alpha=0.001, selection=cyclic, l1_ratio=0.333333333333, score=-0.005021, total=   0.0s\n",
      "[CV] alpha=0.001, selection=cyclic, l1_ratio=0.333333333333 ..........\n",
      "[CV]  alpha=0.001, selection=cyclic, l1_ratio=0.333333333333, score=-0.003419, total=   0.0s\n",
      "[CV] alpha=0.001, selection=cyclic, l1_ratio=0.333333333333 ..........\n",
      "[CV]  alpha=0.001, selection=cyclic, l1_ratio=0.333333333333, score=-0.003970, total=   0.0s\n",
      "[CV] alpha=0.001, selection=random, l1_ratio=0.333333333333 ..........\n",
      "[CV]  alpha=0.001, selection=random, l1_ratio=0.333333333333, score=-0.005115, total=   0.0s\n",
      "[CV] alpha=0.001, selection=random, l1_ratio=0.333333333333 ..........\n",
      "[CV]  alpha=0.001, selection=random, l1_ratio=0.333333333333, score=-0.004749, total=   0.0s\n",
      "[CV] alpha=0.001, selection=random, l1_ratio=0.333333333333 ..........\n",
      "[CV]  alpha=0.001, selection=random, l1_ratio=0.333333333333, score=-0.005021, total=   0.0s\n",
      "[CV] alpha=0.001, selection=random, l1_ratio=0.333333333333 ..........\n",
      "[CV]  alpha=0.001, selection=random, l1_ratio=0.333333333333, score=-0.003419, total=   0.0s\n",
      "[CV] alpha=0.001, selection=random, l1_ratio=0.333333333333 ..........\n",
      "[CV]  alpha=0.001, selection=random, l1_ratio=0.333333333333, score=-0.003970, total=   0.0s\n",
      "[CV] alpha=0.001, selection=cyclic, l1_ratio=0.25 ....................\n",
      "[CV]  alpha=0.001, selection=cyclic, l1_ratio=0.25, score=-0.005084, total=   0.0s\n",
      "[CV] alpha=0.001, selection=cyclic, l1_ratio=0.25 ....................\n",
      "[CV]  alpha=0.001, selection=cyclic, l1_ratio=0.25, score=-0.004689, total=   0.0s\n",
      "[CV] alpha=0.001, selection=cyclic, l1_ratio=0.25 ....................\n",
      "[CV]  alpha=0.001, selection=cyclic, l1_ratio=0.25, score=-0.005000, total=   0.0s\n",
      "[CV] alpha=0.001, selection=cyclic, l1_ratio=0.25 ....................\n",
      "[CV]  alpha=0.001, selection=cyclic, l1_ratio=0.25, score=-0.003481, total=   0.0s\n",
      "[CV] alpha=0.001, selection=cyclic, l1_ratio=0.25 ....................\n",
      "[CV]  alpha=0.001, selection=cyclic, l1_ratio=0.25, score=-0.003976, total=   0.0s\n",
      "[CV] alpha=0.001, selection=random, l1_ratio=0.25 ....................\n",
      "[CV]  alpha=0.001, selection=random, l1_ratio=0.25, score=-0.005083, total=   0.0s\n",
      "[CV] alpha=0.001, selection=random, l1_ratio=0.25 ....................\n",
      "[CV]  alpha=0.001, selection=random, l1_ratio=0.25, score=-0.004689, total=   0.0s\n",
      "[CV] alpha=0.001, selection=random, l1_ratio=0.25 ....................\n",
      "[CV]  alpha=0.001, selection=random, l1_ratio=0.25, score=-0.005001, total=   0.0s\n",
      "[CV] alpha=0.001, selection=random, l1_ratio=0.25 ....................\n",
      "[CV]  alpha=0.001, selection=random, l1_ratio=0.25, score=-0.003481, total=   0.0s\n",
      "[CV] alpha=0.001, selection=random, l1_ratio=0.25 ....................\n",
      "[CV]  alpha=0.001, selection=random, l1_ratio=0.25, score=-0.003976, total=   0.0s\n",
      "[CV] alpha=0.001, selection=cyclic, l1_ratio=0.2 .....................\n",
      "[CV]  alpha=0.001, selection=cyclic, l1_ratio=0.2, score=-0.005053, total=   0.0s\n",
      "[CV] alpha=0.001, selection=cyclic, l1_ratio=0.2 .....................\n",
      "[CV]  alpha=0.001, selection=cyclic, l1_ratio=0.2, score=-0.004641, total=   0.0s\n",
      "[CV] alpha=0.001, selection=cyclic, l1_ratio=0.2 .....................\n",
      "[CV]  alpha=0.001, selection=cyclic, l1_ratio=0.2, score=-0.004989, total=   0.0s\n",
      "[CV] alpha=0.001, selection=cyclic, l1_ratio=0.2 .....................\n",
      "[CV]  alpha=0.001, selection=cyclic, l1_ratio=0.2, score=-0.003538, total=   0.0s\n",
      "[CV] alpha=0.001, selection=cyclic, l1_ratio=0.2 .....................\n",
      "[CV]  alpha=0.001, selection=cyclic, l1_ratio=0.2, score=-0.004002, total=   0.0s\n",
      "[CV] alpha=0.001, selection=random, l1_ratio=0.2 .....................\n",
      "[CV]  alpha=0.001, selection=random, l1_ratio=0.2, score=-0.005053, total=   0.0s\n",
      "[CV] alpha=0.001, selection=random, l1_ratio=0.2 .....................\n",
      "[CV]  alpha=0.001, selection=random, l1_ratio=0.2, score=-0.004641, total=   0.0s\n",
      "[CV] alpha=0.001, selection=random, l1_ratio=0.2 .....................\n",
      "[CV]  alpha=0.001, selection=random, l1_ratio=0.2, score=-0.004989, total=   0.0s\n",
      "[CV] alpha=0.001, selection=random, l1_ratio=0.2 .....................\n",
      "[CV]  alpha=0.001, selection=random, l1_ratio=0.2, score=-0.003538, total=   0.0s\n",
      "[CV] alpha=0.001, selection=random, l1_ratio=0.2 .....................\n",
      "[CV]  alpha=0.001, selection=random, l1_ratio=0.2, score=-0.004002, total=   0.0s\n",
      "[CV] alpha=0.01, selection=cyclic, l1_ratio=1 ........................\n",
      "[CV]  alpha=0.01, selection=cyclic, l1_ratio=1, score=-0.005519, total=   0.0s\n",
      "[CV] alpha=0.01, selection=cyclic, l1_ratio=1 ........................\n",
      "[CV]  alpha=0.01, selection=cyclic, l1_ratio=1, score=-0.005463, total=   0.0s\n",
      "[CV] alpha=0.01, selection=cyclic, l1_ratio=1 ........................\n",
      "[CV]  alpha=0.01, selection=cyclic, l1_ratio=1, score=-0.005285, total=   0.0s\n",
      "[CV] alpha=0.01, selection=cyclic, l1_ratio=1 ........................\n",
      "[CV]  alpha=0.01, selection=cyclic, l1_ratio=1, score=-0.003664, total=   0.0s\n",
      "[CV] alpha=0.01, selection=cyclic, l1_ratio=1 ........................\n",
      "[CV]  alpha=0.01, selection=cyclic, l1_ratio=1, score=-0.004268, total=   0.0s\n",
      "[CV] alpha=0.01, selection=random, l1_ratio=1 ........................\n",
      "[CV]  alpha=0.01, selection=random, l1_ratio=1, score=-0.005519, total=   0.0s\n",
      "[CV] alpha=0.01, selection=random, l1_ratio=1 ........................\n",
      "[CV]  alpha=0.01, selection=random, l1_ratio=1, score=-0.005463, total=   0.0s\n",
      "[CV] alpha=0.01, selection=random, l1_ratio=1 ........................\n",
      "[CV]  alpha=0.01, selection=random, l1_ratio=1, score=-0.005285, total=   0.0s\n",
      "[CV] alpha=0.01, selection=random, l1_ratio=1 ........................\n",
      "[CV]  alpha=0.01, selection=random, l1_ratio=1, score=-0.003664, total=   0.0s\n",
      "[CV] alpha=0.01, selection=random, l1_ratio=1 ........................\n",
      "[CV]  alpha=0.01, selection=random, l1_ratio=1, score=-0.004268, total=   0.0s\n",
      "[CV] alpha=0.01, selection=cyclic, l1_ratio=0.5 ......................\n",
      "[CV]  alpha=0.01, selection=cyclic, l1_ratio=0.5, score=-0.005379, total=   0.0s\n",
      "[CV] alpha=0.01, selection=cyclic, l1_ratio=0.5 ......................\n",
      "[CV]  alpha=0.01, selection=cyclic, l1_ratio=0.5, score=-0.005325, total=   0.0s\n",
      "[CV] alpha=0.01, selection=cyclic, l1_ratio=0.5 ......................\n",
      "[CV]  alpha=0.01, selection=cyclic, l1_ratio=0.5, score=-0.005168, total=   0.0s\n",
      "[CV] alpha=0.01, selection=cyclic, l1_ratio=0.5 ......................\n",
      "[CV]  alpha=0.01, selection=cyclic, l1_ratio=0.5, score=-0.003517, total=   0.0s\n",
      "[CV] alpha=0.01, selection=cyclic, l1_ratio=0.5 ......................\n",
      "[CV]  alpha=0.01, selection=cyclic, l1_ratio=0.5, score=-0.004209, total=   0.0s\n",
      "[CV] alpha=0.01, selection=random, l1_ratio=0.5 ......................\n",
      "[CV]  alpha=0.01, selection=random, l1_ratio=0.5, score=-0.005379, total=   0.0s\n",
      "[CV] alpha=0.01, selection=random, l1_ratio=0.5 ......................\n",
      "[CV]  alpha=0.01, selection=random, l1_ratio=0.5, score=-0.005325, total=   0.0s\n",
      "[CV] alpha=0.01, selection=random, l1_ratio=0.5 ......................\n",
      "[CV]  alpha=0.01, selection=random, l1_ratio=0.5, score=-0.005168, total=   0.0s\n",
      "[CV] alpha=0.01, selection=random, l1_ratio=0.5 ......................\n",
      "[CV]  alpha=0.01, selection=random, l1_ratio=0.5, score=-0.003517, total=   0.0s\n",
      "[CV] alpha=0.01, selection=random, l1_ratio=0.5 ......................\n",
      "[CV]  alpha=0.01, selection=random, l1_ratio=0.5, score=-0.004209, total=   0.1s\n",
      "[CV] alpha=0.01, selection=cyclic, l1_ratio=0.333333333333 ...........\n",
      "[CV]  alpha=0.01, selection=cyclic, l1_ratio=0.333333333333, score=-0.005317, total=   0.0s\n",
      "[CV] alpha=0.01, selection=cyclic, l1_ratio=0.333333333333 ...........\n",
      "[CV]  alpha=0.01, selection=cyclic, l1_ratio=0.333333333333, score=-0.005170, total=   0.0s\n",
      "[CV] alpha=0.01, selection=cyclic, l1_ratio=0.333333333333 ...........\n",
      "[CV]  alpha=0.01, selection=cyclic, l1_ratio=0.333333333333, score=-0.005135, total=   0.0s\n",
      "[CV] alpha=0.01, selection=cyclic, l1_ratio=0.333333333333 ...........\n",
      "[CV]  alpha=0.01, selection=cyclic, l1_ratio=0.333333333333, score=-0.003479, total=   0.0s\n",
      "[CV] alpha=0.01, selection=cyclic, l1_ratio=0.333333333333 ...........\n",
      "[CV]  alpha=0.01, selection=cyclic, l1_ratio=0.333333333333, score=-0.004210, total=   0.0s\n",
      "[CV] alpha=0.01, selection=random, l1_ratio=0.333333333333 ...........\n",
      "[CV]  alpha=0.01, selection=random, l1_ratio=0.333333333333, score=-0.005316, total=   0.0s\n",
      "[CV] alpha=0.01, selection=random, l1_ratio=0.333333333333 ...........\n",
      "[CV]  alpha=0.01, selection=random, l1_ratio=0.333333333333, score=-0.005170, total=   0.0s\n",
      "[CV] alpha=0.01, selection=random, l1_ratio=0.333333333333 ...........\n",
      "[CV]  alpha=0.01, selection=random, l1_ratio=0.333333333333, score=-0.005135, total=   0.0s\n",
      "[CV] alpha=0.01, selection=random, l1_ratio=0.333333333333 ...........\n",
      "[CV]  alpha=0.01, selection=random, l1_ratio=0.333333333333, score=-0.003479, total=   0.0s\n",
      "[CV] alpha=0.01, selection=random, l1_ratio=0.333333333333 ...........\n",
      "[CV]  alpha=0.01, selection=random, l1_ratio=0.333333333333, score=-0.004210, total=   0.0s\n",
      "[CV] alpha=0.01, selection=cyclic, l1_ratio=0.25 .....................\n"
     ]
    },
    {
     "name": "stdout",
     "output_type": "stream",
     "text": [
      "[CV]  alpha=0.01, selection=cyclic, l1_ratio=0.25, score=-0.005294, total=   0.0s\n",
      "[CV] alpha=0.01, selection=cyclic, l1_ratio=0.25 .....................\n",
      "[CV]  alpha=0.01, selection=cyclic, l1_ratio=0.25, score=-0.005099, total=   0.0s\n",
      "[CV] alpha=0.01, selection=cyclic, l1_ratio=0.25 .....................\n",
      "[CV]  alpha=0.01, selection=cyclic, l1_ratio=0.25, score=-0.005130, total=   0.0s\n",
      "[CV] alpha=0.01, selection=cyclic, l1_ratio=0.25 .....................\n",
      "[CV]  alpha=0.01, selection=cyclic, l1_ratio=0.25, score=-0.003482, total=   0.0s\n",
      "[CV] alpha=0.01, selection=cyclic, l1_ratio=0.25 .....................\n",
      "[CV]  alpha=0.01, selection=cyclic, l1_ratio=0.25, score=-0.004218, total=   0.0s\n",
      "[CV] alpha=0.01, selection=random, l1_ratio=0.25 .....................\n",
      "[CV]  alpha=0.01, selection=random, l1_ratio=0.25, score=-0.005294, total=   0.0s\n",
      "[CV] alpha=0.01, selection=random, l1_ratio=0.25 .....................\n",
      "[CV]  alpha=0.01, selection=random, l1_ratio=0.25, score=-0.005098, total=   0.0s\n",
      "[CV] alpha=0.01, selection=random, l1_ratio=0.25 .....................\n",
      "[CV]  alpha=0.01, selection=random, l1_ratio=0.25, score=-0.005130, total=   0.0s\n",
      "[CV] alpha=0.01, selection=random, l1_ratio=0.25 .....................\n",
      "[CV]  alpha=0.01, selection=random, l1_ratio=0.25, score=-0.003482, total=   0.0s\n",
      "[CV] alpha=0.01, selection=random, l1_ratio=0.25 .....................\n",
      "[CV]  alpha=0.01, selection=random, l1_ratio=0.25, score=-0.004218, total=   0.0s\n",
      "[CV] alpha=0.01, selection=cyclic, l1_ratio=0.2 ......................\n",
      "[CV]  alpha=0.01, selection=cyclic, l1_ratio=0.2, score=-0.005287, total=   0.0s\n",
      "[CV] alpha=0.01, selection=cyclic, l1_ratio=0.2 ......................\n",
      "[CV]  alpha=0.01, selection=cyclic, l1_ratio=0.2, score=-0.005052, total=   0.0s\n",
      "[CV] alpha=0.01, selection=cyclic, l1_ratio=0.2 ......................\n",
      "[CV]  alpha=0.01, selection=cyclic, l1_ratio=0.2, score=-0.005144, total=   0.0s\n",
      "[CV] alpha=0.01, selection=cyclic, l1_ratio=0.2 ......................\n",
      "[CV]  alpha=0.01, selection=cyclic, l1_ratio=0.2, score=-0.003486, total=   0.0s\n",
      "[CV] alpha=0.01, selection=cyclic, l1_ratio=0.2 ......................\n",
      "[CV]  alpha=0.01, selection=cyclic, l1_ratio=0.2, score=-0.004226, total=   0.0s\n",
      "[CV] alpha=0.01, selection=random, l1_ratio=0.2 ......................\n",
      "[CV]  alpha=0.01, selection=random, l1_ratio=0.2, score=-0.005287, total=   0.0s\n",
      "[CV] alpha=0.01, selection=random, l1_ratio=0.2 ......................\n",
      "[CV]  alpha=0.01, selection=random, l1_ratio=0.2, score=-0.005052, total=   0.0s\n",
      "[CV] alpha=0.01, selection=random, l1_ratio=0.2 ......................\n",
      "[CV]  alpha=0.01, selection=random, l1_ratio=0.2, score=-0.005144, total=   0.0s\n",
      "[CV] alpha=0.01, selection=random, l1_ratio=0.2 ......................\n",
      "[CV]  alpha=0.01, selection=random, l1_ratio=0.2, score=-0.003486, total=   0.0s\n",
      "[CV] alpha=0.01, selection=random, l1_ratio=0.2 ......................\n",
      "[CV]  alpha=0.01, selection=random, l1_ratio=0.2, score=-0.004226, total=   0.0s\n",
      "[CV] alpha=0, selection=cyclic, l1_ratio=1 ...........................\n",
      "[CV]  alpha=0, selection=cyclic, l1_ratio=1, score=-0.005376, total=   3.9s\n",
      "[CV] alpha=0, selection=cyclic, l1_ratio=1 ...........................\n",
      "[CV]  alpha=0, selection=cyclic, l1_ratio=1, score=-0.004736, total=   5.2s\n",
      "[CV] alpha=0, selection=cyclic, l1_ratio=1 ...........................\n",
      "[CV]  alpha=0, selection=cyclic, l1_ratio=1, score=-0.005348, total=   4.9s\n",
      "[CV] alpha=0, selection=cyclic, l1_ratio=1 ...........................\n",
      "[CV]  alpha=0, selection=cyclic, l1_ratio=1, score=-0.005173, total=   5.0s\n",
      "[CV] alpha=0, selection=cyclic, l1_ratio=1 ...........................\n",
      "[CV]  alpha=0, selection=cyclic, l1_ratio=1, score=-0.004637, total=   4.7s\n",
      "[CV] alpha=0, selection=random, l1_ratio=1 ...........................\n",
      "[CV]  alpha=0, selection=random, l1_ratio=1, score=-0.005373, total=   3.8s\n",
      "[CV] alpha=0, selection=random, l1_ratio=1 ...........................\n",
      "[CV]  alpha=0, selection=random, l1_ratio=1, score=-0.004775, total=   4.9s\n",
      "[CV] alpha=0, selection=random, l1_ratio=1 ...........................\n",
      "[CV]  alpha=0, selection=random, l1_ratio=1, score=-0.005292, total=   4.7s\n",
      "[CV] alpha=0, selection=random, l1_ratio=1 ...........................\n",
      "[CV]  alpha=0, selection=random, l1_ratio=1, score=-0.005213, total=   4.9s\n",
      "[CV] alpha=0, selection=random, l1_ratio=1 ...........................\n",
      "[CV]  alpha=0, selection=random, l1_ratio=1, score=-0.004579, total=   5.0s\n",
      "[CV] alpha=0, selection=cyclic, l1_ratio=0.5 .........................\n",
      "[CV]  alpha=0, selection=cyclic, l1_ratio=0.5, score=-0.005376, total=   3.9s\n",
      "[CV] alpha=0, selection=cyclic, l1_ratio=0.5 .........................\n",
      "[CV]  alpha=0, selection=cyclic, l1_ratio=0.5, score=-0.004736, total=   5.0s\n",
      "[CV] alpha=0, selection=cyclic, l1_ratio=0.5 .........................\n",
      "[CV]  alpha=0, selection=cyclic, l1_ratio=0.5, score=-0.005348, total=   4.7s\n",
      "[CV] alpha=0, selection=cyclic, l1_ratio=0.5 .........................\n",
      "[CV]  alpha=0, selection=cyclic, l1_ratio=0.5, score=-0.005173, total=   4.8s\n",
      "[CV] alpha=0, selection=cyclic, l1_ratio=0.5 .........................\n",
      "[CV]  alpha=0, selection=cyclic, l1_ratio=0.5, score=-0.004637, total=   4.8s\n",
      "[CV] alpha=0, selection=random, l1_ratio=0.5 .........................\n",
      "[CV]  alpha=0, selection=random, l1_ratio=0.5, score=-0.005381, total=   3.7s\n",
      "[CV] alpha=0, selection=random, l1_ratio=0.5 .........................\n",
      "[CV]  alpha=0, selection=random, l1_ratio=0.5, score=-0.004748, total=   4.8s\n",
      "[CV] alpha=0, selection=random, l1_ratio=0.5 .........................\n",
      "[CV]  alpha=0, selection=random, l1_ratio=0.5, score=-0.005277, total=   4.7s\n",
      "[CV] alpha=0, selection=random, l1_ratio=0.5 .........................\n",
      "[CV]  alpha=0, selection=random, l1_ratio=0.5, score=-0.005188, total=   4.9s\n",
      "[CV] alpha=0, selection=random, l1_ratio=0.5 .........................\n",
      "[CV]  alpha=0, selection=random, l1_ratio=0.5, score=-0.004681, total=   4.9s\n",
      "[CV] alpha=0, selection=cyclic, l1_ratio=0.333333333333 ..............\n",
      "[CV]  alpha=0, selection=cyclic, l1_ratio=0.333333333333, score=-0.005376, total=   3.7s\n",
      "[CV] alpha=0, selection=cyclic, l1_ratio=0.333333333333 ..............\n",
      "[CV]  alpha=0, selection=cyclic, l1_ratio=0.333333333333, score=-0.004736, total=   5.1s\n",
      "[CV] alpha=0, selection=cyclic, l1_ratio=0.333333333333 ..............\n",
      "[CV]  alpha=0, selection=cyclic, l1_ratio=0.333333333333, score=-0.005348, total=   5.0s\n",
      "[CV] alpha=0, selection=cyclic, l1_ratio=0.333333333333 ..............\n",
      "[CV]  alpha=0, selection=cyclic, l1_ratio=0.333333333333, score=-0.005173, total=   4.8s\n",
      "[CV] alpha=0, selection=cyclic, l1_ratio=0.333333333333 ..............\n",
      "[CV]  alpha=0, selection=cyclic, l1_ratio=0.333333333333, score=-0.004637, total=   4.7s\n",
      "[CV] alpha=0, selection=random, l1_ratio=0.333333333333 ..............\n",
      "[CV]  alpha=0, selection=random, l1_ratio=0.333333333333, score=-0.005371, total=   3.8s\n",
      "[CV] alpha=0, selection=random, l1_ratio=0.333333333333 ..............\n",
      "[CV]  alpha=0, selection=random, l1_ratio=0.333333333333, score=-0.004739, total=   4.7s\n",
      "[CV] alpha=0, selection=random, l1_ratio=0.333333333333 ..............\n",
      "[CV]  alpha=0, selection=random, l1_ratio=0.333333333333, score=-0.005277, total=   4.7s\n",
      "[CV] alpha=0, selection=random, l1_ratio=0.333333333333 ..............\n",
      "[CV]  alpha=0, selection=random, l1_ratio=0.333333333333, score=-0.005112, total=   5.0s\n",
      "[CV] alpha=0, selection=random, l1_ratio=0.333333333333 ..............\n",
      "[CV]  alpha=0, selection=random, l1_ratio=0.333333333333, score=-0.004641, total=   5.1s\n",
      "[CV] alpha=0, selection=cyclic, l1_ratio=0.25 ........................\n",
      "[CV]  alpha=0, selection=cyclic, l1_ratio=0.25, score=-0.005376, total=   4.0s\n",
      "[CV] alpha=0, selection=cyclic, l1_ratio=0.25 ........................\n",
      "[CV]  alpha=0, selection=cyclic, l1_ratio=0.25, score=-0.004736, total=   4.7s\n",
      "[CV] alpha=0, selection=cyclic, l1_ratio=0.25 ........................\n",
      "[CV]  alpha=0, selection=cyclic, l1_ratio=0.25, score=-0.005348, total=   5.0s\n",
      "[CV] alpha=0, selection=cyclic, l1_ratio=0.25 ........................\n",
      "[CV]  alpha=0, selection=cyclic, l1_ratio=0.25, score=-0.005173, total=   5.7s\n",
      "[CV] alpha=0, selection=cyclic, l1_ratio=0.25 ........................\n"
     ]
    },
    {
     "name": "stdout",
     "output_type": "stream",
     "text": [
      "[CV]  alpha=0, selection=cyclic, l1_ratio=0.25, score=-0.004637, total=   6.1s\n",
      "[CV] alpha=0, selection=random, l1_ratio=0.25 ........................\n",
      "[CV]  alpha=0, selection=random, l1_ratio=0.25, score=-0.005372, total=   4.1s\n",
      "[CV] alpha=0, selection=random, l1_ratio=0.25 ........................\n",
      "[CV]  alpha=0, selection=random, l1_ratio=0.25, score=-0.004767, total=   5.0s\n",
      "[CV] alpha=0, selection=random, l1_ratio=0.25 ........................\n",
      "[CV]  alpha=0, selection=random, l1_ratio=0.25, score=-0.005285, total=   5.7s\n",
      "[CV] alpha=0, selection=random, l1_ratio=0.25 ........................\n",
      "[CV]  alpha=0, selection=random, l1_ratio=0.25, score=-0.005162, total=   5.6s\n",
      "[CV] alpha=0, selection=random, l1_ratio=0.25 ........................\n",
      "[CV]  alpha=0, selection=random, l1_ratio=0.25, score=-0.004676, total=   5.2s\n",
      "[CV] alpha=0, selection=cyclic, l1_ratio=0.2 .........................\n",
      "[CV]  alpha=0, selection=cyclic, l1_ratio=0.2, score=-0.005376, total=   4.0s\n",
      "[CV] alpha=0, selection=cyclic, l1_ratio=0.2 .........................\n",
      "[CV]  alpha=0, selection=cyclic, l1_ratio=0.2, score=-0.004736, total=   5.2s\n",
      "[CV] alpha=0, selection=cyclic, l1_ratio=0.2 .........................\n",
      "[CV]  alpha=0, selection=cyclic, l1_ratio=0.2, score=-0.005348, total=   5.2s\n",
      "[CV] alpha=0, selection=cyclic, l1_ratio=0.2 .........................\n",
      "[CV]  alpha=0, selection=cyclic, l1_ratio=0.2, score=-0.005173, total=   5.3s\n",
      "[CV] alpha=0, selection=cyclic, l1_ratio=0.2 .........................\n",
      "[CV]  alpha=0, selection=cyclic, l1_ratio=0.2, score=-0.004637, total=   6.0s\n",
      "[CV] alpha=0, selection=random, l1_ratio=0.2 .........................\n",
      "[CV]  alpha=0, selection=random, l1_ratio=0.2, score=-0.005371, total=   4.5s\n",
      "[CV] alpha=0, selection=random, l1_ratio=0.2 .........................\n",
      "[CV]  alpha=0, selection=random, l1_ratio=0.2, score=-0.004760, total=   5.3s\n",
      "[CV] alpha=0, selection=random, l1_ratio=0.2 .........................\n",
      "[CV]  alpha=0, selection=random, l1_ratio=0.2, score=-0.005279, total=   6.0s\n",
      "[CV] alpha=0, selection=random, l1_ratio=0.2 .........................\n",
      "[CV]  alpha=0, selection=random, l1_ratio=0.2, score=-0.005135, total=   6.6s\n",
      "[CV] alpha=0, selection=random, l1_ratio=0.2 .........................\n",
      "[CV]  alpha=0, selection=random, l1_ratio=0.2, score=-0.004728, total=   5.7s\n",
      "[CV] alpha=1, selection=cyclic, l1_ratio=1 ...........................\n",
      "[CV]  alpha=1, selection=cyclic, l1_ratio=1, score=-0.005519, total=   0.0s\n",
      "[CV] alpha=1, selection=cyclic, l1_ratio=1 ...........................\n",
      "[CV]  alpha=1, selection=cyclic, l1_ratio=1, score=-0.005463, total=   0.0s\n",
      "[CV] alpha=1, selection=cyclic, l1_ratio=1 ...........................\n",
      "[CV]  alpha=1, selection=cyclic, l1_ratio=1, score=-0.005285, total=   0.0s\n",
      "[CV] alpha=1, selection=cyclic, l1_ratio=1 ...........................\n",
      "[CV]  alpha=1, selection=cyclic, l1_ratio=1, score=-0.003664, total=   0.0s\n",
      "[CV] alpha=1, selection=cyclic, l1_ratio=1 ...........................\n",
      "[CV]  alpha=1, selection=cyclic, l1_ratio=1, score=-0.004268, total=   0.0s\n",
      "[CV] alpha=1, selection=random, l1_ratio=1 ...........................\n",
      "[CV]  alpha=1, selection=random, l1_ratio=1, score=-0.005519, total=   0.0s\n",
      "[CV] alpha=1, selection=random, l1_ratio=1 ...........................\n",
      "[CV]  alpha=1, selection=random, l1_ratio=1, score=-0.005463, total=   0.0s\n",
      "[CV] alpha=1, selection=random, l1_ratio=1 ...........................\n",
      "[CV]  alpha=1, selection=random, l1_ratio=1, score=-0.005285, total=   0.0s\n",
      "[CV] alpha=1, selection=random, l1_ratio=1 ...........................\n",
      "[CV]  alpha=1, selection=random, l1_ratio=1, score=-0.003664, total=   0.0s\n",
      "[CV] alpha=1, selection=random, l1_ratio=1 ...........................\n",
      "[CV]  alpha=1, selection=random, l1_ratio=1, score=-0.004268, total=   0.0s\n",
      "[CV] alpha=1, selection=cyclic, l1_ratio=0.5 .........................\n",
      "[CV]  alpha=1, selection=cyclic, l1_ratio=0.5, score=-0.005519, total=   0.0s\n",
      "[CV] alpha=1, selection=cyclic, l1_ratio=0.5 .........................\n",
      "[CV]  alpha=1, selection=cyclic, l1_ratio=0.5, score=-0.005463, total=   0.0s\n",
      "[CV] alpha=1, selection=cyclic, l1_ratio=0.5 .........................\n",
      "[CV]  alpha=1, selection=cyclic, l1_ratio=0.5, score=-0.005285, total=   0.0s\n",
      "[CV] alpha=1, selection=cyclic, l1_ratio=0.5 .........................\n",
      "[CV]  alpha=1, selection=cyclic, l1_ratio=0.5, score=-0.003664, total=   0.0s\n",
      "[CV] alpha=1, selection=cyclic, l1_ratio=0.5 .........................\n",
      "[CV]  alpha=1, selection=cyclic, l1_ratio=0.5, score=-0.004268, total=   0.0s\n",
      "[CV] alpha=1, selection=random, l1_ratio=0.5 .........................\n",
      "[CV]  alpha=1, selection=random, l1_ratio=0.5, score=-0.005519, total=   0.0s\n",
      "[CV] alpha=1, selection=random, l1_ratio=0.5 .........................\n",
      "[CV]  alpha=1, selection=random, l1_ratio=0.5, score=-0.005463, total=   0.0s\n",
      "[CV] alpha=1, selection=random, l1_ratio=0.5 .........................\n",
      "[CV]  alpha=1, selection=random, l1_ratio=0.5, score=-0.005285, total=   0.0s\n",
      "[CV] alpha=1, selection=random, l1_ratio=0.5 .........................\n",
      "[CV]  alpha=1, selection=random, l1_ratio=0.5, score=-0.003664, total=   0.0s\n",
      "[CV] alpha=1, selection=random, l1_ratio=0.5 .........................\n",
      "[CV]  alpha=1, selection=random, l1_ratio=0.5, score=-0.004268, total=   0.0s\n",
      "[CV] alpha=1, selection=cyclic, l1_ratio=0.333333333333 ..............\n",
      "[CV]  alpha=1, selection=cyclic, l1_ratio=0.333333333333, score=-0.005519, total=   0.0s\n",
      "[CV] alpha=1, selection=cyclic, l1_ratio=0.333333333333 ..............\n",
      "[CV]  alpha=1, selection=cyclic, l1_ratio=0.333333333333, score=-0.005463, total=   0.0s\n",
      "[CV] alpha=1, selection=cyclic, l1_ratio=0.333333333333 ..............\n",
      "[CV]  alpha=1, selection=cyclic, l1_ratio=0.333333333333, score=-0.005285, total=   0.0s\n",
      "[CV] alpha=1, selection=cyclic, l1_ratio=0.333333333333 ..............\n",
      "[CV]  alpha=1, selection=cyclic, l1_ratio=0.333333333333, score=-0.003664, total=   0.0s\n",
      "[CV] alpha=1, selection=cyclic, l1_ratio=0.333333333333 ..............\n",
      "[CV]  alpha=1, selection=cyclic, l1_ratio=0.333333333333, score=-0.004268, total=   0.0s\n",
      "[CV] alpha=1, selection=random, l1_ratio=0.333333333333 ..............\n",
      "[CV]  alpha=1, selection=random, l1_ratio=0.333333333333, score=-0.005519, total=   0.0s\n",
      "[CV] alpha=1, selection=random, l1_ratio=0.333333333333 ..............\n",
      "[CV]  alpha=1, selection=random, l1_ratio=0.333333333333, score=-0.005463, total=   0.0s\n",
      "[CV] alpha=1, selection=random, l1_ratio=0.333333333333 ..............\n",
      "[CV]  alpha=1, selection=random, l1_ratio=0.333333333333, score=-0.005285, total=   0.0s\n",
      "[CV] alpha=1, selection=random, l1_ratio=0.333333333333 ..............\n",
      "[CV]  alpha=1, selection=random, l1_ratio=0.333333333333, score=-0.003664, total=   0.0s\n",
      "[CV] alpha=1, selection=random, l1_ratio=0.333333333333 ..............\n",
      "[CV]  alpha=1, selection=random, l1_ratio=0.333333333333, score=-0.004268, total=   0.0s\n",
      "[CV] alpha=1, selection=cyclic, l1_ratio=0.25 ........................\n",
      "[CV]  alpha=1, selection=cyclic, l1_ratio=0.25, score=-0.005519, total=   0.0s\n",
      "[CV] alpha=1, selection=cyclic, l1_ratio=0.25 ........................\n",
      "[CV]  alpha=1, selection=cyclic, l1_ratio=0.25, score=-0.005463, total=   0.0s\n",
      "[CV] alpha=1, selection=cyclic, l1_ratio=0.25 ........................\n",
      "[CV]  alpha=1, selection=cyclic, l1_ratio=0.25, score=-0.005285, total=   0.0s\n",
      "[CV] alpha=1, selection=cyclic, l1_ratio=0.25 ........................\n",
      "[CV]  alpha=1, selection=cyclic, l1_ratio=0.25, score=-0.003664, total=   0.0s\n",
      "[CV] alpha=1, selection=cyclic, l1_ratio=0.25 ........................\n",
      "[CV]  alpha=1, selection=cyclic, l1_ratio=0.25, score=-0.004268, total=   0.0s\n",
      "[CV] alpha=1, selection=random, l1_ratio=0.25 ........................\n",
      "[CV]  alpha=1, selection=random, l1_ratio=0.25, score=-0.005519, total=   0.0s\n",
      "[CV] alpha=1, selection=random, l1_ratio=0.25 ........................\n",
      "[CV]  alpha=1, selection=random, l1_ratio=0.25, score=-0.005463, total=   0.0s\n",
      "[CV] alpha=1, selection=random, l1_ratio=0.25 ........................\n",
      "[CV]  alpha=1, selection=random, l1_ratio=0.25, score=-0.005285, total=   0.0s\n",
      "[CV] alpha=1, selection=random, l1_ratio=0.25 ........................\n",
      "[CV]  alpha=1, selection=random, l1_ratio=0.25, score=-0.003664, total=   0.0s\n",
      "[CV] alpha=1, selection=random, l1_ratio=0.25 ........................\n",
      "[CV]  alpha=1, selection=random, l1_ratio=0.25, score=-0.004268, total=   0.0s\n",
      "[CV] alpha=1, selection=cyclic, l1_ratio=0.2 .........................\n",
      "[CV]  alpha=1, selection=cyclic, l1_ratio=0.2, score=-0.005519, total=   0.0s\n",
      "[CV] alpha=1, selection=cyclic, l1_ratio=0.2 .........................\n"
     ]
    },
    {
     "name": "stdout",
     "output_type": "stream",
     "text": [
      "[CV]  alpha=1, selection=cyclic, l1_ratio=0.2, score=-0.005463, total=   0.0s\n",
      "[CV] alpha=1, selection=cyclic, l1_ratio=0.2 .........................\n",
      "[CV]  alpha=1, selection=cyclic, l1_ratio=0.2, score=-0.005285, total=   0.0s\n",
      "[CV] alpha=1, selection=cyclic, l1_ratio=0.2 .........................\n",
      "[CV]  alpha=1, selection=cyclic, l1_ratio=0.2, score=-0.003664, total=   0.0s\n",
      "[CV] alpha=1, selection=cyclic, l1_ratio=0.2 .........................\n",
      "[CV]  alpha=1, selection=cyclic, l1_ratio=0.2, score=-0.004268, total=   0.0s\n",
      "[CV] alpha=1, selection=random, l1_ratio=0.2 .........................\n",
      "[CV]  alpha=1, selection=random, l1_ratio=0.2, score=-0.005519, total=   0.0s\n",
      "[CV] alpha=1, selection=random, l1_ratio=0.2 .........................\n",
      "[CV]  alpha=1, selection=random, l1_ratio=0.2, score=-0.005463, total=   0.0s\n",
      "[CV] alpha=1, selection=random, l1_ratio=0.2 .........................\n",
      "[CV]  alpha=1, selection=random, l1_ratio=0.2, score=-0.005285, total=   0.0s\n",
      "[CV] alpha=1, selection=random, l1_ratio=0.2 .........................\n",
      "[CV]  alpha=1, selection=random, l1_ratio=0.2, score=-0.003664, total=   0.0s\n",
      "[CV] alpha=1, selection=random, l1_ratio=0.2 .........................\n",
      "[CV]  alpha=1, selection=random, l1_ratio=0.2, score=-0.004268, total=   0.0s\n",
      "[CV] alpha=5, selection=cyclic, l1_ratio=1 ...........................\n",
      "[CV]  alpha=5, selection=cyclic, l1_ratio=1, score=-0.005519, total=   0.0s\n",
      "[CV] alpha=5, selection=cyclic, l1_ratio=1 ...........................\n",
      "[CV]  alpha=5, selection=cyclic, l1_ratio=1, score=-0.005463, total=   0.1s\n",
      "[CV] alpha=5, selection=cyclic, l1_ratio=1 ...........................\n",
      "[CV]  alpha=5, selection=cyclic, l1_ratio=1, score=-0.005285, total=   0.0s\n",
      "[CV] alpha=5, selection=cyclic, l1_ratio=1 ...........................\n",
      "[CV]  alpha=5, selection=cyclic, l1_ratio=1, score=-0.003664, total=   0.0s\n",
      "[CV] alpha=5, selection=cyclic, l1_ratio=1 ...........................\n",
      "[CV]  alpha=5, selection=cyclic, l1_ratio=1, score=-0.004268, total=   0.0s\n",
      "[CV] alpha=5, selection=random, l1_ratio=1 ...........................\n",
      "[CV]  alpha=5, selection=random, l1_ratio=1, score=-0.005519, total=   0.0s\n",
      "[CV] alpha=5, selection=random, l1_ratio=1 ...........................\n",
      "[CV]  alpha=5, selection=random, l1_ratio=1, score=-0.005463, total=   0.0s\n",
      "[CV] alpha=5, selection=random, l1_ratio=1 ...........................\n",
      "[CV]  alpha=5, selection=random, l1_ratio=1, score=-0.005285, total=   0.0s\n",
      "[CV] alpha=5, selection=random, l1_ratio=1 ...........................\n",
      "[CV]  alpha=5, selection=random, l1_ratio=1, score=-0.003664, total=   0.0s\n",
      "[CV] alpha=5, selection=random, l1_ratio=1 ...........................\n",
      "[CV]  alpha=5, selection=random, l1_ratio=1, score=-0.004268, total=   0.0s\n",
      "[CV] alpha=5, selection=cyclic, l1_ratio=0.5 .........................\n",
      "[CV]  alpha=5, selection=cyclic, l1_ratio=0.5, score=-0.005519, total=   0.0s\n",
      "[CV] alpha=5, selection=cyclic, l1_ratio=0.5 .........................\n",
      "[CV]  alpha=5, selection=cyclic, l1_ratio=0.5, score=-0.005463, total=   0.0s\n",
      "[CV] alpha=5, selection=cyclic, l1_ratio=0.5 .........................\n",
      "[CV]  alpha=5, selection=cyclic, l1_ratio=0.5, score=-0.005285, total=   0.0s\n",
      "[CV] alpha=5, selection=cyclic, l1_ratio=0.5 .........................\n",
      "[CV]  alpha=5, selection=cyclic, l1_ratio=0.5, score=-0.003664, total=   0.0s\n",
      "[CV] alpha=5, selection=cyclic, l1_ratio=0.5 .........................\n",
      "[CV]  alpha=5, selection=cyclic, l1_ratio=0.5, score=-0.004268, total=   0.0s\n",
      "[CV] alpha=5, selection=random, l1_ratio=0.5 .........................\n",
      "[CV]  alpha=5, selection=random, l1_ratio=0.5, score=-0.005519, total=   0.0s\n",
      "[CV] alpha=5, selection=random, l1_ratio=0.5 .........................\n",
      "[CV]  alpha=5, selection=random, l1_ratio=0.5, score=-0.005463, total=   0.0s\n",
      "[CV] alpha=5, selection=random, l1_ratio=0.5 .........................\n",
      "[CV]  alpha=5, selection=random, l1_ratio=0.5, score=-0.005285, total=   0.0s\n",
      "[CV] alpha=5, selection=random, l1_ratio=0.5 .........................\n",
      "[CV]  alpha=5, selection=random, l1_ratio=0.5, score=-0.003664, total=   0.0s\n",
      "[CV] alpha=5, selection=random, l1_ratio=0.5 .........................\n",
      "[CV]  alpha=5, selection=random, l1_ratio=0.5, score=-0.004268, total=   0.0s\n",
      "[CV] alpha=5, selection=cyclic, l1_ratio=0.333333333333 ..............\n",
      "[CV]  alpha=5, selection=cyclic, l1_ratio=0.333333333333, score=-0.005519, total=   0.0s\n",
      "[CV] alpha=5, selection=cyclic, l1_ratio=0.333333333333 ..............\n",
      "[CV]  alpha=5, selection=cyclic, l1_ratio=0.333333333333, score=-0.005463, total=   0.0s\n",
      "[CV] alpha=5, selection=cyclic, l1_ratio=0.333333333333 ..............\n",
      "[CV]  alpha=5, selection=cyclic, l1_ratio=0.333333333333, score=-0.005285, total=   0.0s\n",
      "[CV] alpha=5, selection=cyclic, l1_ratio=0.333333333333 ..............\n",
      "[CV]  alpha=5, selection=cyclic, l1_ratio=0.333333333333, score=-0.003664, total=   0.0s\n",
      "[CV] alpha=5, selection=cyclic, l1_ratio=0.333333333333 ..............\n",
      "[CV]  alpha=5, selection=cyclic, l1_ratio=0.333333333333, score=-0.004268, total=   0.0s\n",
      "[CV] alpha=5, selection=random, l1_ratio=0.333333333333 ..............\n",
      "[CV]  alpha=5, selection=random, l1_ratio=0.333333333333, score=-0.005519, total=   0.0s\n",
      "[CV] alpha=5, selection=random, l1_ratio=0.333333333333 ..............\n",
      "[CV]  alpha=5, selection=random, l1_ratio=0.333333333333, score=-0.005463, total=   0.0s\n",
      "[CV] alpha=5, selection=random, l1_ratio=0.333333333333 ..............\n",
      "[CV]  alpha=5, selection=random, l1_ratio=0.333333333333, score=-0.005285, total=   0.0s\n",
      "[CV] alpha=5, selection=random, l1_ratio=0.333333333333 ..............\n",
      "[CV]  alpha=5, selection=random, l1_ratio=0.333333333333, score=-0.003664, total=   0.0s\n",
      "[CV] alpha=5, selection=random, l1_ratio=0.333333333333 ..............\n",
      "[CV]  alpha=5, selection=random, l1_ratio=0.333333333333, score=-0.004268, total=   0.0s\n",
      "[CV] alpha=5, selection=cyclic, l1_ratio=0.25 ........................\n",
      "[CV]  alpha=5, selection=cyclic, l1_ratio=0.25, score=-0.005519, total=   0.0s\n",
      "[CV] alpha=5, selection=cyclic, l1_ratio=0.25 ........................\n",
      "[CV]  alpha=5, selection=cyclic, l1_ratio=0.25, score=-0.005463, total=   0.0s\n",
      "[CV] alpha=5, selection=cyclic, l1_ratio=0.25 ........................\n",
      "[CV]  alpha=5, selection=cyclic, l1_ratio=0.25, score=-0.005285, total=   0.0s\n",
      "[CV] alpha=5, selection=cyclic, l1_ratio=0.25 ........................\n",
      "[CV]  alpha=5, selection=cyclic, l1_ratio=0.25, score=-0.003664, total=   0.0s\n",
      "[CV] alpha=5, selection=cyclic, l1_ratio=0.25 ........................\n",
      "[CV]  alpha=5, selection=cyclic, l1_ratio=0.25, score=-0.004268, total=   0.0s\n",
      "[CV] alpha=5, selection=random, l1_ratio=0.25 ........................\n",
      "[CV]  alpha=5, selection=random, l1_ratio=0.25, score=-0.005519, total=   0.0s\n",
      "[CV] alpha=5, selection=random, l1_ratio=0.25 ........................\n",
      "[CV]  alpha=5, selection=random, l1_ratio=0.25, score=-0.005463, total=   0.0s\n",
      "[CV] alpha=5, selection=random, l1_ratio=0.25 ........................\n",
      "[CV]  alpha=5, selection=random, l1_ratio=0.25, score=-0.005285, total=   0.0s\n",
      "[CV] alpha=5, selection=random, l1_ratio=0.25 ........................\n",
      "[CV]  alpha=5, selection=random, l1_ratio=0.25, score=-0.003664, total=   0.0s\n",
      "[CV] alpha=5, selection=random, l1_ratio=0.25 ........................\n",
      "[CV]  alpha=5, selection=random, l1_ratio=0.25, score=-0.004268, total=   0.0s\n",
      "[CV] alpha=5, selection=cyclic, l1_ratio=0.2 .........................\n",
      "[CV]  alpha=5, selection=cyclic, l1_ratio=0.2, score=-0.005519, total=   0.0s\n",
      "[CV] alpha=5, selection=cyclic, l1_ratio=0.2 .........................\n",
      "[CV]  alpha=5, selection=cyclic, l1_ratio=0.2, score=-0.005463, total=   0.0s\n",
      "[CV] alpha=5, selection=cyclic, l1_ratio=0.2 .........................\n",
      "[CV]  alpha=5, selection=cyclic, l1_ratio=0.2, score=-0.005285, total=   0.0s\n",
      "[CV] alpha=5, selection=cyclic, l1_ratio=0.2 .........................\n",
      "[CV]  alpha=5, selection=cyclic, l1_ratio=0.2, score=-0.003664, total=   0.0s\n",
      "[CV] alpha=5, selection=cyclic, l1_ratio=0.2 .........................\n",
      "[CV]  alpha=5, selection=cyclic, l1_ratio=0.2, score=-0.004268, total=   0.0s\n",
      "[CV] alpha=5, selection=random, l1_ratio=0.2 .........................\n",
      "[CV]  alpha=5, selection=random, l1_ratio=0.2, score=-0.005519, total=   0.0s\n",
      "[CV] alpha=5, selection=random, l1_ratio=0.2 .........................\n",
      "[CV]  alpha=5, selection=random, l1_ratio=0.2, score=-0.005463, total=   0.0s\n",
      "[CV] alpha=5, selection=random, l1_ratio=0.2 .........................\n",
      "[CV]  alpha=5, selection=random, l1_ratio=0.2, score=-0.005285, total=   0.0s\n",
      "[CV] alpha=5, selection=random, l1_ratio=0.2 .........................\n",
      "[CV]  alpha=5, selection=random, l1_ratio=0.2, score=-0.003664, total=   0.0s\n",
      "[CV] alpha=5, selection=random, l1_ratio=0.2 .........................\n",
      "[CV]  alpha=5, selection=random, l1_ratio=0.2, score=-0.004268, total=   0.0s\n",
      "[CV] alpha=10, selection=cyclic, l1_ratio=1 ..........................\n",
      "[CV]  alpha=10, selection=cyclic, l1_ratio=1, score=-0.005519, total=   0.0s\n",
      "[CV] alpha=10, selection=cyclic, l1_ratio=1 ..........................\n",
      "[CV]  alpha=10, selection=cyclic, l1_ratio=1, score=-0.005463, total=   0.0s\n",
      "[CV] alpha=10, selection=cyclic, l1_ratio=1 ..........................\n",
      "[CV]  alpha=10, selection=cyclic, l1_ratio=1, score=-0.005285, total=   0.0s\n",
      "[CV] alpha=10, selection=cyclic, l1_ratio=1 ..........................\n",
      "[CV]  alpha=10, selection=cyclic, l1_ratio=1, score=-0.003664, total=   0.0s\n",
      "[CV] alpha=10, selection=cyclic, l1_ratio=1 ..........................\n",
      "[CV]  alpha=10, selection=cyclic, l1_ratio=1, score=-0.004268, total=   0.0s\n",
      "[CV] alpha=10, selection=random, l1_ratio=1 ..........................\n"
     ]
    },
    {
     "name": "stdout",
     "output_type": "stream",
     "text": [
      "[CV]  alpha=10, selection=random, l1_ratio=1, score=-0.005519, total=   0.0s\n",
      "[CV] alpha=10, selection=random, l1_ratio=1 ..........................\n",
      "[CV]  alpha=10, selection=random, l1_ratio=1, score=-0.005463, total=   0.0s\n",
      "[CV] alpha=10, selection=random, l1_ratio=1 ..........................\n",
      "[CV]  alpha=10, selection=random, l1_ratio=1, score=-0.005285, total=   0.0s\n",
      "[CV] alpha=10, selection=random, l1_ratio=1 ..........................\n",
      "[CV]  alpha=10, selection=random, l1_ratio=1, score=-0.003664, total=   0.0s\n",
      "[CV] alpha=10, selection=random, l1_ratio=1 ..........................\n",
      "[CV]  alpha=10, selection=random, l1_ratio=1, score=-0.004268, total=   0.0s\n",
      "[CV] alpha=10, selection=cyclic, l1_ratio=0.5 ........................\n",
      "[CV]  alpha=10, selection=cyclic, l1_ratio=0.5, score=-0.005519, total=   0.0s\n",
      "[CV] alpha=10, selection=cyclic, l1_ratio=0.5 ........................\n",
      "[CV]  alpha=10, selection=cyclic, l1_ratio=0.5, score=-0.005463, total=   0.0s\n",
      "[CV] alpha=10, selection=cyclic, l1_ratio=0.5 ........................\n",
      "[CV]  alpha=10, selection=cyclic, l1_ratio=0.5, score=-0.005285, total=   0.0s\n",
      "[CV] alpha=10, selection=cyclic, l1_ratio=0.5 ........................\n",
      "[CV]  alpha=10, selection=cyclic, l1_ratio=0.5, score=-0.003664, total=   0.0s\n",
      "[CV] alpha=10, selection=cyclic, l1_ratio=0.5 ........................\n",
      "[CV]  alpha=10, selection=cyclic, l1_ratio=0.5, score=-0.004268, total=   0.0s\n",
      "[CV] alpha=10, selection=random, l1_ratio=0.5 ........................\n",
      "[CV]  alpha=10, selection=random, l1_ratio=0.5, score=-0.005519, total=   0.0s\n",
      "[CV] alpha=10, selection=random, l1_ratio=0.5 ........................\n",
      "[CV]  alpha=10, selection=random, l1_ratio=0.5, score=-0.005463, total=   0.0s\n",
      "[CV] alpha=10, selection=random, l1_ratio=0.5 ........................\n",
      "[CV]  alpha=10, selection=random, l1_ratio=0.5, score=-0.005285, total=   0.0s\n",
      "[CV] alpha=10, selection=random, l1_ratio=0.5 ........................\n",
      "[CV]  alpha=10, selection=random, l1_ratio=0.5, score=-0.003664, total=   0.0s\n",
      "[CV] alpha=10, selection=random, l1_ratio=0.5 ........................\n",
      "[CV]  alpha=10, selection=random, l1_ratio=0.5, score=-0.004268, total=   0.0s\n",
      "[CV] alpha=10, selection=cyclic, l1_ratio=0.333333333333 .............\n",
      "[CV]  alpha=10, selection=cyclic, l1_ratio=0.333333333333, score=-0.005519, total=   0.0s\n",
      "[CV] alpha=10, selection=cyclic, l1_ratio=0.333333333333 .............\n",
      "[CV]  alpha=10, selection=cyclic, l1_ratio=0.333333333333, score=-0.005463, total=   0.0s\n",
      "[CV] alpha=10, selection=cyclic, l1_ratio=0.333333333333 .............\n",
      "[CV]  alpha=10, selection=cyclic, l1_ratio=0.333333333333, score=-0.005285, total=   0.0s\n",
      "[CV] alpha=10, selection=cyclic, l1_ratio=0.333333333333 .............\n",
      "[CV]  alpha=10, selection=cyclic, l1_ratio=0.333333333333, score=-0.003664, total=   0.0s\n",
      "[CV] alpha=10, selection=cyclic, l1_ratio=0.333333333333 .............\n",
      "[CV]  alpha=10, selection=cyclic, l1_ratio=0.333333333333, score=-0.004268, total=   0.0s\n",
      "[CV] alpha=10, selection=random, l1_ratio=0.333333333333 .............\n",
      "[CV]  alpha=10, selection=random, l1_ratio=0.333333333333, score=-0.005519, total=   0.0s\n",
      "[CV] alpha=10, selection=random, l1_ratio=0.333333333333 .............\n",
      "[CV]  alpha=10, selection=random, l1_ratio=0.333333333333, score=-0.005463, total=   0.0s\n",
      "[CV] alpha=10, selection=random, l1_ratio=0.333333333333 .............\n",
      "[CV]  alpha=10, selection=random, l1_ratio=0.333333333333, score=-0.005285, total=   0.0s\n",
      "[CV] alpha=10, selection=random, l1_ratio=0.333333333333 .............\n",
      "[CV]  alpha=10, selection=random, l1_ratio=0.333333333333, score=-0.003664, total=   0.0s\n",
      "[CV] alpha=10, selection=random, l1_ratio=0.333333333333 .............\n",
      "[CV]  alpha=10, selection=random, l1_ratio=0.333333333333, score=-0.004268, total=   0.0s\n",
      "[CV] alpha=10, selection=cyclic, l1_ratio=0.25 .......................\n",
      "[CV]  alpha=10, selection=cyclic, l1_ratio=0.25, score=-0.005519, total=   0.0s\n",
      "[CV] alpha=10, selection=cyclic, l1_ratio=0.25 .......................\n",
      "[CV]  alpha=10, selection=cyclic, l1_ratio=0.25, score=-0.005463, total=   0.0s\n",
      "[CV] alpha=10, selection=cyclic, l1_ratio=0.25 .......................\n",
      "[CV]  alpha=10, selection=cyclic, l1_ratio=0.25, score=-0.005285, total=   0.0s\n",
      "[CV] alpha=10, selection=cyclic, l1_ratio=0.25 .......................\n",
      "[CV]  alpha=10, selection=cyclic, l1_ratio=0.25, score=-0.003664, total=   0.0s\n",
      "[CV] alpha=10, selection=cyclic, l1_ratio=0.25 .......................\n",
      "[CV]  alpha=10, selection=cyclic, l1_ratio=0.25, score=-0.004268, total=   0.0s\n",
      "[CV] alpha=10, selection=random, l1_ratio=0.25 .......................\n",
      "[CV]  alpha=10, selection=random, l1_ratio=0.25, score=-0.005519, total=   0.0s\n",
      "[CV] alpha=10, selection=random, l1_ratio=0.25 .......................\n",
      "[CV]  alpha=10, selection=random, l1_ratio=0.25, score=-0.005463, total=   0.0s\n",
      "[CV] alpha=10, selection=random, l1_ratio=0.25 .......................\n",
      "[CV]  alpha=10, selection=random, l1_ratio=0.25, score=-0.005285, total=   0.0s\n",
      "[CV] alpha=10, selection=random, l1_ratio=0.25 .......................\n",
      "[CV]  alpha=10, selection=random, l1_ratio=0.25, score=-0.003664, total=   0.0s\n",
      "[CV] alpha=10, selection=random, l1_ratio=0.25 .......................\n",
      "[CV]  alpha=10, selection=random, l1_ratio=0.25, score=-0.004268, total=   0.0s\n",
      "[CV] alpha=10, selection=cyclic, l1_ratio=0.2 ........................\n",
      "[CV]  alpha=10, selection=cyclic, l1_ratio=0.2, score=-0.005519, total=   0.0s\n",
      "[CV] alpha=10, selection=cyclic, l1_ratio=0.2 ........................\n",
      "[CV]  alpha=10, selection=cyclic, l1_ratio=0.2, score=-0.005463, total=   0.0s\n",
      "[CV] alpha=10, selection=cyclic, l1_ratio=0.2 ........................\n",
      "[CV]  alpha=10, selection=cyclic, l1_ratio=0.2, score=-0.005285, total=   0.0s\n",
      "[CV] alpha=10, selection=cyclic, l1_ratio=0.2 ........................\n",
      "[CV]  alpha=10, selection=cyclic, l1_ratio=0.2, score=-0.003664, total=   0.0s\n",
      "[CV] alpha=10, selection=cyclic, l1_ratio=0.2 ........................\n",
      "[CV]  alpha=10, selection=cyclic, l1_ratio=0.2, score=-0.004268, total=   0.0s\n",
      "[CV] alpha=10, selection=random, l1_ratio=0.2 ........................\n",
      "[CV]  alpha=10, selection=random, l1_ratio=0.2, score=-0.005519, total=   0.0s\n",
      "[CV] alpha=10, selection=random, l1_ratio=0.2 ........................\n",
      "[CV]  alpha=10, selection=random, l1_ratio=0.2, score=-0.005463, total=   0.0s\n",
      "[CV] alpha=10, selection=random, l1_ratio=0.2 ........................\n",
      "[CV]  alpha=10, selection=random, l1_ratio=0.2, score=-0.005285, total=   0.0s\n",
      "[CV] alpha=10, selection=random, l1_ratio=0.2 ........................\n",
      "[CV]  alpha=10, selection=random, l1_ratio=0.2, score=-0.003664, total=   0.0s\n",
      "[CV] alpha=10, selection=random, l1_ratio=0.2 ........................\n",
      "[CV]  alpha=10, selection=random, l1_ratio=0.2, score=-0.004268, total=   0.0s\n"
     ]
    },
    {
     "name": "stderr",
     "output_type": "stream",
     "text": [
      "[Parallel(n_jobs=1)]: Done 400 out of 400 | elapsed:  4.6min finished\n"
     ]
    },
    {
     "data": {
      "text/plain": [
       "GridSearchCV(cv=5, error_score='raise',\n",
       "       estimator=ElasticNet(alpha=0.001, copy_X=True, fit_intercept=True, l1_ratio=0.5,\n",
       "      max_iter=10000, normalize=False, positive=False, precompute=False,\n",
       "      random_state=None, selection='cyclic', tol=0.0001, warm_start=False),\n",
       "       fit_params={}, iid=True, n_jobs=1,\n",
       "       param_grid={'alpha': [1e-05, 0.0001, 0.001, 0.01, 0, 1, 5, 10], 'selection': ['cyclic', 'random'], 'l1_ratio': [1, 0.5, 0.3333333333333333, 0.25, 0.2]},\n",
       "       pre_dispatch='2*n_jobs', refit=True, return_train_score=True,\n",
       "       scoring='neg_mean_squared_error', verbose=5)"
      ]
     },
     "execution_count": 56,
     "metadata": {},
     "output_type": "execute_result"
    }
   ],
   "source": [
    "from sklearn.model_selection import GridSearchCV\n",
    "param_grid ={'alpha':[1e-5,1e-4, 1e-3,1e-2,0, 1, 5, 10],'selection':['cyclic','random'],'l1_ratio':[1,0.5,1.0/3.0,0.25,0.2]}\n",
    "grid_search = GridSearchCV(droitModel.predictiveModels['ElasticNet'], param_grid, cv=5,scoring='neg_mean_squared_error',verbose=5)\n",
    "grid_search.fit(droitModel.X_train,droitModel.Y_train)"
   ]
  },
  {
   "cell_type": "code",
   "execution_count": 57,
   "metadata": {
    "scrolled": false
   },
   "outputs": [
    {
     "name": "stdout",
     "output_type": "stream",
     "text": [
      "(0.06667432276156228, {'alpha': 1e-05, 'selection': 'cyclic', 'l1_ratio': 1})\n",
      "(0.066674559842560432, {'alpha': 1e-05, 'selection': 'random', 'l1_ratio': 1})\n",
      "(0.066684532520481191, {'alpha': 1e-05, 'selection': 'cyclic', 'l1_ratio': 0.5})\n",
      "(0.066685195121775606, {'alpha': 1e-05, 'selection': 'random', 'l1_ratio': 0.5})\n",
      "(0.066752183580841659, {'alpha': 1e-05, 'selection': 'cyclic', 'l1_ratio': 0.3333333333333333})\n",
      "(0.066752199918334462, {'alpha': 1e-05, 'selection': 'random', 'l1_ratio': 0.3333333333333333})\n",
      "(0.067288550808824205, {'alpha': 1e-05, 'selection': 'cyclic', 'l1_ratio': 0.25})\n",
      "(0.0672890169473533, {'alpha': 1e-05, 'selection': 'random', 'l1_ratio': 0.25})\n",
      "(0.067373190313279152, {'alpha': 1e-05, 'selection': 'cyclic', 'l1_ratio': 0.2})\n",
      "(0.067373433821402373, {'alpha': 1e-05, 'selection': 'random', 'l1_ratio': 0.2})\n",
      "(0.067827927937534477, {'alpha': 0.0001, 'selection': 'cyclic', 'l1_ratio': 1})\n",
      "(0.067831595702809055, {'alpha': 0.0001, 'selection': 'random', 'l1_ratio': 1})\n",
      "(0.068116157197589344, {'alpha': 0.0001, 'selection': 'cyclic', 'l1_ratio': 0.5})\n",
      "(0.068116540389998981, {'alpha': 0.0001, 'selection': 'random', 'l1_ratio': 0.5})\n",
      "(0.06815604382565546, {'alpha': 0.0001, 'selection': 'cyclic', 'l1_ratio': 0.3333333333333333})\n",
      "(0.06815879724607983, {'alpha': 0.0001, 'selection': 'random', 'l1_ratio': 0.3333333333333333})\n",
      "(0.068246632218489145, {'alpha': 0.0001, 'selection': 'cyclic', 'l1_ratio': 0.25})\n",
      "(0.068247169050033724, {'alpha': 0.0001, 'selection': 'random', 'l1_ratio': 0.25})\n",
      "(0.068286952019600763, {'alpha': 0.0001, 'selection': 'cyclic', 'l1_ratio': 0.2})\n",
      "(0.068287315869475868, {'alpha': 0.0001, 'selection': 'random', 'l1_ratio': 0.2})\n",
      "(0.06870609367000996, {'alpha': 0.001, 'selection': 'cyclic', 'l1_ratio': 1})\n",
      "(0.06870609367000996, {'alpha': 0.001, 'selection': 'random', 'l1_ratio': 1})\n",
      "(0.068771459936861512, {'alpha': 0.001, 'selection': 'cyclic', 'l1_ratio': 0.5})\n",
      "(0.068772133008708922, {'alpha': 0.001, 'selection': 'random', 'l1_ratio': 0.5})\n",
      "(0.069081580880892682, {'alpha': 0.001, 'selection': 'cyclic', 'l1_ratio': 0.3333333333333333})\n",
      "(0.069082321281202952, {'alpha': 0.001, 'selection': 'random', 'l1_ratio': 0.3333333333333333})\n",
      "(0.069297445845186809, {'alpha': 0.001, 'selection': 'cyclic', 'l1_ratio': 0.25})\n",
      "(0.069298411881070693, {'alpha': 0.001, 'selection': 'random', 'l1_ratio': 0.25})\n",
      "(0.06957552507642617, {'alpha': 0.001, 'selection': 'cyclic', 'l1_ratio': 0.2})\n",
      "(0.06957552507642617, {'alpha': 0.001, 'selection': 'random', 'l1_ratio': 0.2})\n",
      "(0.06957552507642617, {'alpha': 0.01, 'selection': 'cyclic', 'l1_ratio': 1})\n",
      "(0.06957552507642617, {'alpha': 0.01, 'selection': 'random', 'l1_ratio': 1})\n",
      "(0.06957552507642617, {'alpha': 0.01, 'selection': 'cyclic', 'l1_ratio': 0.5})\n",
      "(0.06957552507642617, {'alpha': 0.01, 'selection': 'random', 'l1_ratio': 0.5})\n",
      "(0.06957552507642617, {'alpha': 0.01, 'selection': 'cyclic', 'l1_ratio': 0.3333333333333333})\n",
      "(0.06957552507642617, {'alpha': 0.01, 'selection': 'random', 'l1_ratio': 0.3333333333333333})\n",
      "(0.06957552507642617, {'alpha': 0.01, 'selection': 'cyclic', 'l1_ratio': 0.25})\n",
      "(0.06957552507642617, {'alpha': 0.01, 'selection': 'random', 'l1_ratio': 0.25})\n",
      "(0.06957552507642617, {'alpha': 0.01, 'selection': 'cyclic', 'l1_ratio': 0.2})\n",
      "(0.06957552507642617, {'alpha': 0.01, 'selection': 'random', 'l1_ratio': 0.2})\n",
      "(0.06957552507642617, {'alpha': 0, 'selection': 'cyclic', 'l1_ratio': 1})\n",
      "(0.06957552507642617, {'alpha': 0, 'selection': 'random', 'l1_ratio': 1})\n",
      "(0.06957552507642617, {'alpha': 0, 'selection': 'cyclic', 'l1_ratio': 0.5})\n",
      "(0.06957552507642617, {'alpha': 0, 'selection': 'random', 'l1_ratio': 0.5})\n",
      "(0.06957552507642617, {'alpha': 0, 'selection': 'cyclic', 'l1_ratio': 0.3333333333333333})\n",
      "(0.06957552507642617, {'alpha': 0, 'selection': 'random', 'l1_ratio': 0.3333333333333333})\n",
      "(0.06957552507642617, {'alpha': 0, 'selection': 'cyclic', 'l1_ratio': 0.25})\n",
      "(0.06957552507642617, {'alpha': 0, 'selection': 'random', 'l1_ratio': 0.25})\n",
      "(0.06957552507642617, {'alpha': 0, 'selection': 'cyclic', 'l1_ratio': 0.2})\n",
      "(0.06957552507642617, {'alpha': 0, 'selection': 'random', 'l1_ratio': 0.2})\n",
      "(0.06957552507642617, {'alpha': 1, 'selection': 'cyclic', 'l1_ratio': 1})\n",
      "(0.06957552507642617, {'alpha': 1, 'selection': 'random', 'l1_ratio': 1})\n",
      "(0.06957552507642617, {'alpha': 1, 'selection': 'cyclic', 'l1_ratio': 0.5})\n",
      "(0.06957552507642617, {'alpha': 1, 'selection': 'random', 'l1_ratio': 0.5})\n",
      "(0.06957552507642617, {'alpha': 1, 'selection': 'cyclic', 'l1_ratio': 0.3333333333333333})\n",
      "(0.06957552507642617, {'alpha': 1, 'selection': 'random', 'l1_ratio': 0.3333333333333333})\n",
      "(0.06957552507642617, {'alpha': 1, 'selection': 'cyclic', 'l1_ratio': 0.25})\n",
      "(0.06957552507642617, {'alpha': 1, 'selection': 'random', 'l1_ratio': 0.25})\n",
      "(0.06957552507642617, {'alpha': 1, 'selection': 'cyclic', 'l1_ratio': 0.2})\n",
      "(0.06957552507642617, {'alpha': 1, 'selection': 'random', 'l1_ratio': 0.2})\n",
      "(0.070407434827359575, {'alpha': 5, 'selection': 'cyclic', 'l1_ratio': 1})\n",
      "(0.070481873651514551, {'alpha': 5, 'selection': 'random', 'l1_ratio': 1})\n",
      "(0.070751163488229324, {'alpha': 5, 'selection': 'cyclic', 'l1_ratio': 0.5})\n",
      "(0.070760402798762834, {'alpha': 5, 'selection': 'random', 'l1_ratio': 0.5})\n",
      "(0.07085382238564783, {'alpha': 5, 'selection': 'cyclic', 'l1_ratio': 0.3333333333333333})\n",
      "(0.070859360871438917, {'alpha': 5, 'selection': 'random', 'l1_ratio': 0.3333333333333333})\n",
      "(0.070908494792018689, {'alpha': 5, 'selection': 'cyclic', 'l1_ratio': 0.25})\n",
      "(0.070911794261530756, {'alpha': 5, 'selection': 'random', 'l1_ratio': 0.25})\n",
      "(0.070916062898097862, {'alpha': 5, 'selection': 'cyclic', 'l1_ratio': 0.2})\n",
      "(0.070938312946959917, {'alpha': 5, 'selection': 'random', 'l1_ratio': 0.2})\n",
      "(0.070941015875622654, {'alpha': 10, 'selection': 'cyclic', 'l1_ratio': 1})\n",
      "(0.071040850729781543, {'alpha': 10, 'selection': 'random', 'l1_ratio': 1})\n",
      "(0.071083648652015718, {'alpha': 10, 'selection': 'cyclic', 'l1_ratio': 0.5})\n",
      "(0.071094610279614737, {'alpha': 10, 'selection': 'random', 'l1_ratio': 0.5})\n",
      "(0.071094610279614737, {'alpha': 10, 'selection': 'cyclic', 'l1_ratio': 0.3333333333333333})\n",
      "(0.071094610279614737, {'alpha': 10, 'selection': 'random', 'l1_ratio': 0.3333333333333333})\n",
      "(0.071094610279614737, {'alpha': 10, 'selection': 'cyclic', 'l1_ratio': 0.25})\n",
      "(0.071094610279614737, {'alpha': 10, 'selection': 'random', 'l1_ratio': 0.25})\n",
      "(0.071097832013874915, {'alpha': 10, 'selection': 'cyclic', 'l1_ratio': 0.2})\n",
      "(0.071101059176769288, {'alpha': 10, 'selection': 'random', 'l1_ratio': 0.2})\n"
     ]
    }
   ],
   "source": [
    "cvres = grid_search.cv_results_\n",
    "for mean_score, params in zip(sorted(cvres[\"mean_test_score\"],reverse=True), cvres[\"params\"]):\n",
    "    print(np.sqrt(-mean_score), params)"
   ]
  },
  {
   "cell_type": "markdown",
   "metadata": {},
   "source": [
    "Grace à ces recherches nous avons pu evaluer nos paramentres sans problèmes"
   ]
  },
  {
   "cell_type": "markdown",
   "metadata": {},
   "source": [
    "effectuons une evaluation sur le test set"
   ]
  },
  {
   "cell_type": "code",
   "execution_count": 120,
   "metadata": {
    "scrolled": false
   },
   "outputs": [
    {
     "name": "stdout",
     "output_type": "stream",
     "text": [
      "('Predictions:\\t', array([ 0.57183083,  0.58105636,  0.66754704,  0.58321565,  0.59821154]))\n",
      "('Labels:\\t\\t', [0.5575, 0.54700000762899992, 0.41999999999999998, 0.55000000000000004, 0.61099998474099992])\n",
      "('Predictions:\\t', array([ 0.55444147,  0.54409263,  0.56064041,  0.55469773,  0.55533849]))\n",
      "('Labels:\\t\\t', [0.5575, 0.54700000762899992, 0.41999999999999998, 0.55000000000000004, 0.61099998474099992])\n",
      "('Predictions:\\t', array([ 0.56192467,  0.5751141 ,  0.63554278,  0.56171098,  0.59237165]))\n",
      "('Labels:\\t\\t', [0.5575, 0.54700000762899992, 0.41999999999999998, 0.55000000000000004, 0.61099998474099992])\n",
      "('Predictions:\\t', array([ 0.56940936,  0.57638618,  0.63724683,  0.57214953,  0.58017637]))\n",
      "('Labels:\\t\\t', [0.5575, 0.54700000762899992, 0.41999999999999998, 0.55000000000000004, 0.61099998474099992])\n",
      "('Predictions:\\t', array([ 0.57183083,  0.58105636,  0.66754704,  0.58321565,  0.59821154]))\n",
      "('Labels:\\t\\t', [0.5575, 0.54700000762899992, 0.41999999999999998, 0.55000000000000004, 0.61099998474099992])\n"
     ]
    }
   ],
   "source": [
    "RMSE={}\n",
    "for reg in droitModel.predictiveModels.keys():\n",
    "    rmse=droitModel.evaluate(model=reg,on='test') #RMSE of each model\n",
    "    RMSE[reg]=[rmse,rmse*100/droitModel.dataset_bin.CGPA.mean()]"
   ]
  },
  {
   "cell_type": "code",
   "execution_count": null,
   "metadata": {
    "collapsed": true
   },
   "outputs": [],
   "source": []
  },
  {
   "cell_type": "code",
   "execution_count": 121,
   "metadata": {
    "scrolled": true
   },
   "outputs": [
    {
     "data": {
      "text/plain": [
       "{'ElasticNet': [0.074235002741814035, 12.794280159433873],\n",
       " 'Lasso': [0.074235002741814035, 12.794280159433873],\n",
       " 'LinearSVR': [0.074014355508153801, 12.756251973004467],\n",
       " 'Ridge': [0.071466206449127365, 12.317082689714084],\n",
       " 'SVR': [0.072145106955878877, 12.434090071177653]}"
      ]
     },
     "execution_count": 121,
     "metadata": {},
     "output_type": "execute_result"
    }
   ],
   "source": [
    "RMSE"
   ]
  },
  {
   "cell_type": "markdown",
   "metadata": {},
   "source": [
    "Essayons now ls combinaison de plusieurs methodes"
   ]
  },
  {
   "cell_type": "code",
   "execution_count": 131,
   "metadata": {
    "collapsed": true,
    "scrolled": false
   },
   "outputs": [],
   "source": [
    "finalPredict,rmseFinal=ensembelMethods(self=droitModel,predictedValues=predictedValues)"
   ]
  },
  {
   "cell_type": "code",
   "execution_count": 132,
   "metadata": {
    "scrolled": false
   },
   "outputs": [
    {
     "data": {
      "text/html": [
       "<div>\n",
       "<table border=\"1\" class=\"dataframe\">\n",
       "  <thead>\n",
       "    <tr style=\"text-align: right;\">\n",
       "      <th></th>\n",
       "      <th>ElasticNet</th>\n",
       "      <th>Lasso</th>\n",
       "      <th>LinearSVR</th>\n",
       "      <th>Ridge</th>\n",
       "      <th>SVR</th>\n",
       "      <th>RealValue</th>\n",
       "      <th>finalPredict</th>\n",
       "    </tr>\n",
       "    <tr>\n",
       "      <th>ID</th>\n",
       "      <th></th>\n",
       "      <th></th>\n",
       "      <th></th>\n",
       "      <th></th>\n",
       "      <th></th>\n",
       "      <th></th>\n",
       "      <th></th>\n",
       "    </tr>\n",
       "  </thead>\n",
       "  <tbody>\n",
       "    <tr>\n",
       "      <th>10709</th>\n",
       "      <td>0.569160</td>\n",
       "      <td>0.569160</td>\n",
       "      <td>0.553602</td>\n",
       "      <td>0.563864</td>\n",
       "      <td>0.554185</td>\n",
       "      <td>0.56200</td>\n",
       "      <td>0.570502</td>\n",
       "    </tr>\n",
       "    <tr>\n",
       "      <th>4026</th>\n",
       "      <td>0.533646</td>\n",
       "      <td>0.533646</td>\n",
       "      <td>0.516206</td>\n",
       "      <td>0.543356</td>\n",
       "      <td>0.550057</td>\n",
       "      <td>0.59700</td>\n",
       "      <td>0.534010</td>\n",
       "    </tr>\n",
       "    <tr>\n",
       "      <th>8307</th>\n",
       "      <td>0.548312</td>\n",
       "      <td>0.548312</td>\n",
       "      <td>0.545496</td>\n",
       "      <td>0.555175</td>\n",
       "      <td>0.569755</td>\n",
       "      <td>0.63800</td>\n",
       "      <td>0.546321</td>\n",
       "    </tr>\n",
       "    <tr>\n",
       "      <th>7713</th>\n",
       "      <td>0.649854</td>\n",
       "      <td>0.649854</td>\n",
       "      <td>0.680102</td>\n",
       "      <td>0.625937</td>\n",
       "      <td>0.556364</td>\n",
       "      <td>0.61775</td>\n",
       "      <td>0.654201</td>\n",
       "    </tr>\n",
       "    <tr>\n",
       "      <th>8335</th>\n",
       "      <td>0.564797</td>\n",
       "      <td>0.564797</td>\n",
       "      <td>0.572836</td>\n",
       "      <td>0.560507</td>\n",
       "      <td>0.531529</td>\n",
       "      <td>0.60350</td>\n",
       "      <td>0.565973</td>\n",
       "    </tr>\n",
       "  </tbody>\n",
       "</table>\n",
       "</div>"
      ],
      "text/plain": [
       "       ElasticNet     Lasso  LinearSVR     Ridge       SVR  RealValue  \\\n",
       "ID                                                                      \n",
       "10709    0.569160  0.569160   0.553602  0.563864  0.554185    0.56200   \n",
       "4026     0.533646  0.533646   0.516206  0.543356  0.550057    0.59700   \n",
       "8307     0.548312  0.548312   0.545496  0.555175  0.569755    0.63800   \n",
       "7713     0.649854  0.649854   0.680102  0.625937  0.556364    0.61775   \n",
       "8335     0.564797  0.564797   0.572836  0.560507  0.531529    0.60350   \n",
       "\n",
       "       finalPredict  \n",
       "ID                   \n",
       "10709      0.570502  \n",
       "4026       0.534010  \n",
       "8307       0.546321  \n",
       "7713       0.654201  \n",
       "8335       0.565973  "
      ]
     },
     "execution_count": 132,
     "metadata": {},
     "output_type": "execute_result"
    }
   ],
   "source": [
    "finalPredict.head(5)"
   ]
  },
  {
   "cell_type": "code",
   "execution_count": 133,
   "metadata": {},
   "outputs": [
    {
     "data": {
      "text/plain": [
       "0.048415680580131328"
      ]
     },
     "execution_count": 133,
     "metadata": {},
     "output_type": "execute_result"
    }
   ],
   "source": [
    "rmseFinal"
   ]
  },
  {
   "cell_type": "code",
   "execution_count": 134,
   "metadata": {},
   "outputs": [
    {
     "data": {
      "text/plain": [
       "8.3443626129611577"
      ]
     },
     "execution_count": 134,
     "metadata": {},
     "output_type": "execute_result"
    }
   ],
   "source": [
    "rmseFinal*100/droitModel.dataset_bin.CGPA.mean()"
   ]
  },
  {
   "cell_type": "markdown",
   "metadata": {},
   "source": [
    "Nous venons de voir qu'on obtient  un score dans le 8.5% pres en combinant les differentes score par une regression lineaire"
   ]
  },
  {
   "cell_type": "markdown",
   "metadata": {},
   "source": [
    "sur l'ensemble d'apprentissage gobale"
   ]
  },
  {
   "cell_type": "markdown",
   "metadata": {},
   "source": [
    "essayons sur le test set enfin"
   ]
  },
  {
   "cell_type": "code",
   "execution_count": 135,
   "metadata": {
    "collapsed": true
   },
   "outputs": [],
   "source": [
    "predictionTest=droitModel.predictTest()"
   ]
  },
  {
   "cell_type": "code",
   "execution_count": 139,
   "metadata": {},
   "outputs": [
    {
     "data": {
      "text/html": [
       "<div>\n",
       "<table border=\"1\" class=\"dataframe\">\n",
       "  <thead>\n",
       "    <tr style=\"text-align: right;\">\n",
       "      <th></th>\n",
       "      <th>ElasticNet</th>\n",
       "      <th>Lasso</th>\n",
       "      <th>LinearSVR</th>\n",
       "      <th>Ridge</th>\n",
       "      <th>SVR</th>\n",
       "      <th>RealValue</th>\n",
       "      <th>finalPredict</th>\n",
       "    </tr>\n",
       "    <tr>\n",
       "      <th>ID</th>\n",
       "      <th></th>\n",
       "      <th></th>\n",
       "      <th></th>\n",
       "      <th></th>\n",
       "      <th></th>\n",
       "      <th></th>\n",
       "      <th></th>\n",
       "    </tr>\n",
       "  </thead>\n",
       "  <tbody>\n",
       "    <tr>\n",
       "      <th>7825</th>\n",
       "      <td>0.571831</td>\n",
       "      <td>0.571831</td>\n",
       "      <td>0.561925</td>\n",
       "      <td>0.569409</td>\n",
       "      <td>0.554441</td>\n",
       "      <td>0.5575</td>\n",
       "      <td>0.568794</td>\n",
       "    </tr>\n",
       "  </tbody>\n",
       "</table>\n",
       "</div>"
      ],
      "text/plain": [
       "      ElasticNet     Lasso  LinearSVR     Ridge       SVR  RealValue  \\\n",
       "ID                                                                     \n",
       "7825    0.571831  0.571831   0.561925  0.569409  0.554441     0.5575   \n",
       "\n",
       "      finalPredict  \n",
       "ID                  \n",
       "7825      0.568794  "
      ]
     },
     "execution_count": 139,
     "metadata": {},
     "output_type": "execute_result"
    }
   ],
   "source": [
    "predictionTest.head(1)"
   ]
  },
  {
   "cell_type": "code",
   "execution_count": 136,
   "metadata": {
    "collapsed": true
   },
   "outputs": [],
   "source": [
    "finalPredictTes,rmseFinalTest=ensembelMethods(self=droitModel,predictedValues=predictionTest)"
   ]
  },
  {
   "cell_type": "code",
   "execution_count": 144,
   "metadata": {
    "scrolled": true
   },
   "outputs": [
    {
     "data": {
      "text/plain": [
       "11.769696439697203"
      ]
     },
     "execution_count": 144,
     "metadata": {},
     "output_type": "execute_result"
    }
   ],
   "source": [
    "rmseFinalTest*100/droitModel.Y_train.mean()"
   ]
  },
  {
   "cell_type": "markdown",
   "metadata": {},
   "source": [
    "Nous voici arriver à la fin de l'entrainement de nos modeles en faculté de droitm'"
   ]
  },
  {
   "cell_type": "markdown",
   "metadata": {},
   "source": [
    "##### 3. Facuté de santé et devllopement Communautaire"
   ]
  },
  {
   "cell_type": "code",
   "execution_count": 36,
   "metadata": {
    "collapsed": true
   },
   "outputs": [],
   "source": [
    "sante=datasetCGPA.loc[datasetCGPA.FAC=='FSDC']"
   ]
  },
  {
   "cell_type": "code",
   "execution_count": 175,
   "metadata": {
    "scrolled": false
   },
   "outputs": [
    {
     "data": {
      "text/html": [
       "<div>\n",
       "<table border=\"1\" class=\"dataframe\">\n",
       "  <thead>\n",
       "    <tr style=\"text-align: right;\">\n",
       "      <th></th>\n",
       "      <th>DIPPERC</th>\n",
       "      <th>SCHOOL_RIGHT</th>\n",
       "      <th>OPTION_RIGHT</th>\n",
       "      <th>FAC</th>\n",
       "      <th>CGPA</th>\n",
       "      <th>DistinctionRatio</th>\n",
       "      <th>EchecRatio</th>\n",
       "      <th>Pass1stSessionRatio</th>\n",
       "    </tr>\n",
       "    <tr>\n",
       "      <th>ID</th>\n",
       "      <th></th>\n",
       "      <th></th>\n",
       "      <th></th>\n",
       "      <th></th>\n",
       "      <th></th>\n",
       "      <th></th>\n",
       "      <th></th>\n",
       "      <th></th>\n",
       "    </tr>\n",
       "  </thead>\n",
       "  <tbody>\n",
       "    <tr>\n",
       "      <th>7365</th>\n",
       "      <td>62.0</td>\n",
       "      <td>zanner</td>\n",
       "      <td>latin philo</td>\n",
       "      <td>FSDC</td>\n",
       "      <td>63.400000</td>\n",
       "      <td>G</td>\n",
       "      <td>G</td>\n",
       "      <td>A</td>\n",
       "    </tr>\n",
       "    <tr>\n",
       "      <th>11712</th>\n",
       "      <td>54.0</td>\n",
       "      <td>zanner</td>\n",
       "      <td>latin philo</td>\n",
       "      <td>FSDC</td>\n",
       "      <td>60.000000</td>\n",
       "      <td>G</td>\n",
       "      <td>G</td>\n",
       "      <td>A</td>\n",
       "    </tr>\n",
       "    <tr>\n",
       "      <th>11862</th>\n",
       "      <td>54.0</td>\n",
       "      <td>mululusake</td>\n",
       "      <td>sociale</td>\n",
       "      <td>FSDC</td>\n",
       "      <td>61.900002</td>\n",
       "      <td>G</td>\n",
       "      <td>G</td>\n",
       "      <td>G</td>\n",
       "    </tr>\n",
       "    <tr>\n",
       "      <th>7003</th>\n",
       "      <td>50.0</td>\n",
       "      <td>ibanda</td>\n",
       "      <td>bio-chimie</td>\n",
       "      <td>FSDC</td>\n",
       "      <td>62.700001</td>\n",
       "      <td>G</td>\n",
       "      <td>G</td>\n",
       "      <td>G</td>\n",
       "    </tr>\n",
       "    <tr>\n",
       "      <th>7354</th>\n",
       "      <td>62.0</td>\n",
       "      <td>ibanda</td>\n",
       "      <td>commmerciale et adm</td>\n",
       "      <td>FSDC</td>\n",
       "      <td>42.000000</td>\n",
       "      <td>G</td>\n",
       "      <td>A</td>\n",
       "      <td>G</td>\n",
       "    </tr>\n",
       "  </tbody>\n",
       "</table>\n",
       "</div>"
      ],
      "text/plain": [
       "       DIPPERC SCHOOL_RIGHT         OPTION_RIGHT   FAC       CGPA  \\\n",
       "ID                                                                  \n",
       "7365      62.0       zanner          latin philo  FSDC  63.400000   \n",
       "11712     54.0       zanner          latin philo  FSDC  60.000000   \n",
       "11862     54.0   mululusake              sociale  FSDC  61.900002   \n",
       "7003      50.0       ibanda           bio-chimie  FSDC  62.700001   \n",
       "7354      62.0       ibanda  commmerciale et adm  FSDC  42.000000   \n",
       "\n",
       "      DistinctionRatio EchecRatio Pass1stSessionRatio  \n",
       "ID                                                     \n",
       "7365                 G          G                   A  \n",
       "11712                G          G                   A  \n",
       "11862                G          G                   G  \n",
       "7003                 G          G                   G  \n",
       "7354                 G          A                   G  "
      ]
     },
     "execution_count": 175,
     "metadata": {},
     "output_type": "execute_result"
    }
   ],
   "source": [
    "sante.head(5)"
   ]
  },
  {
   "cell_type": "code",
   "execution_count": 37,
   "metadata": {
    "collapsed": true
   },
   "outputs": [],
   "source": [
    "santeModel=PredictiveModelByilding(dataset=sante,encoderFunction=ConvertCat)"
   ]
  },
  {
   "cell_type": "code",
   "execution_count": 38,
   "metadata": {
    "collapsed": true,
    "scrolled": true
   },
   "outputs": [],
   "source": [
    "santeModel.scale(['DIPPERC','CGPA'])"
   ]
  },
  {
   "cell_type": "code",
   "execution_count": 40,
   "metadata": {},
   "outputs": [
    {
     "data": {
      "text/plain": [
       "(758, 257)"
      ]
     },
     "execution_count": 40,
     "metadata": {},
     "output_type": "execute_result"
    }
   ],
   "source": [
    "santeModel.dataset_bin.shape"
   ]
  },
  {
   "cell_type": "code",
   "execution_count": 39,
   "metadata": {
    "collapsed": true
   },
   "outputs": [],
   "source": [
    "trainDes,tesDes=santeModel.split()"
   ]
  },
  {
   "cell_type": "code",
   "execution_count": 179,
   "metadata": {
    "scrolled": true
   },
   "outputs": [
    {
     "data": {
      "text/html": [
       "<div>\n",
       "<table border=\"1\" class=\"dataframe\">\n",
       "  <thead>\n",
       "    <tr style=\"text-align: right;\">\n",
       "      <th></th>\n",
       "      <th>DIPPERC</th>\n",
       "      <th>CGPA</th>\n",
       "    </tr>\n",
       "  </thead>\n",
       "  <tbody>\n",
       "    <tr>\n",
       "      <th>count</th>\n",
       "      <td>606.000000</td>\n",
       "      <td>606.000000</td>\n",
       "    </tr>\n",
       "    <tr>\n",
       "      <th>mean</th>\n",
       "      <td>0.553841</td>\n",
       "      <td>0.589861</td>\n",
       "    </tr>\n",
       "    <tr>\n",
       "      <th>std</th>\n",
       "      <td>0.048872</td>\n",
       "      <td>0.066621</td>\n",
       "    </tr>\n",
       "    <tr>\n",
       "      <th>min</th>\n",
       "      <td>0.500000</td>\n",
       "      <td>0.400000</td>\n",
       "    </tr>\n",
       "    <tr>\n",
       "      <th>25%</th>\n",
       "      <td>0.520000</td>\n",
       "      <td>0.573000</td>\n",
       "    </tr>\n",
       "    <tr>\n",
       "      <th>50%</th>\n",
       "      <td>0.540000</td>\n",
       "      <td>0.606000</td>\n",
       "    </tr>\n",
       "    <tr>\n",
       "      <th>75%</th>\n",
       "      <td>0.580000</td>\n",
       "      <td>0.631625</td>\n",
       "    </tr>\n",
       "    <tr>\n",
       "      <th>max</th>\n",
       "      <td>0.760000</td>\n",
       "      <td>0.724333</td>\n",
       "    </tr>\n",
       "  </tbody>\n",
       "</table>\n",
       "</div>"
      ],
      "text/plain": [
       "          DIPPERC        CGPA\n",
       "count  606.000000  606.000000\n",
       "mean     0.553841    0.589861\n",
       "std      0.048872    0.066621\n",
       "min      0.500000    0.400000\n",
       "25%      0.520000    0.573000\n",
       "50%      0.540000    0.606000\n",
       "75%      0.580000    0.631625\n",
       "max      0.760000    0.724333"
      ]
     },
     "execution_count": 179,
     "metadata": {},
     "output_type": "execute_result"
    }
   ],
   "source": [
    "trainDes"
   ]
  },
  {
   "cell_type": "code",
   "execution_count": 180,
   "metadata": {
    "scrolled": true
   },
   "outputs": [
    {
     "data": {
      "text/html": [
       "<div>\n",
       "<table border=\"1\" class=\"dataframe\">\n",
       "  <thead>\n",
       "    <tr style=\"text-align: right;\">\n",
       "      <th></th>\n",
       "      <th>DIPPERC</th>\n",
       "      <th>CGPA</th>\n",
       "    </tr>\n",
       "  </thead>\n",
       "  <tbody>\n",
       "    <tr>\n",
       "      <th>count</th>\n",
       "      <td>152.000000</td>\n",
       "      <td>152.000000</td>\n",
       "    </tr>\n",
       "    <tr>\n",
       "      <th>mean</th>\n",
       "      <td>0.551102</td>\n",
       "      <td>0.586449</td>\n",
       "    </tr>\n",
       "    <tr>\n",
       "      <th>std</th>\n",
       "      <td>0.050482</td>\n",
       "      <td>0.059923</td>\n",
       "    </tr>\n",
       "    <tr>\n",
       "      <th>min</th>\n",
       "      <td>0.500000</td>\n",
       "      <td>0.400000</td>\n",
       "    </tr>\n",
       "    <tr>\n",
       "      <th>25%</th>\n",
       "      <td>0.510000</td>\n",
       "      <td>0.560250</td>\n",
       "    </tr>\n",
       "    <tr>\n",
       "      <th>50%</th>\n",
       "      <td>0.540000</td>\n",
       "      <td>0.600417</td>\n",
       "    </tr>\n",
       "    <tr>\n",
       "      <th>75%</th>\n",
       "      <td>0.580000</td>\n",
       "      <td>0.628333</td>\n",
       "    </tr>\n",
       "    <tr>\n",
       "      <th>max</th>\n",
       "      <td>0.770000</td>\n",
       "      <td>0.687333</td>\n",
       "    </tr>\n",
       "  </tbody>\n",
       "</table>\n",
       "</div>"
      ],
      "text/plain": [
       "          DIPPERC        CGPA\n",
       "count  152.000000  152.000000\n",
       "mean     0.551102    0.586449\n",
       "std      0.050482    0.059923\n",
       "min      0.500000    0.400000\n",
       "25%      0.510000    0.560250\n",
       "50%      0.540000    0.600417\n",
       "75%      0.580000    0.628333\n",
       "max      0.770000    0.687333"
      ]
     },
     "execution_count": 180,
     "metadata": {},
     "output_type": "execute_result"
    }
   ],
   "source": [
    "tesDes"
   ]
  },
  {
   "cell_type": "code",
   "execution_count": 48,
   "metadata": {},
   "outputs": [
    {
     "name": "stdout",
     "output_type": "stream",
     "text": [
      "[LibSVM]"
     ]
    }
   ],
   "source": [
    "predictedValues=santeModel.train()"
   ]
  },
  {
   "cell_type": "code",
   "execution_count": 49,
   "metadata": {
    "scrolled": true
   },
   "outputs": [
    {
     "data": {
      "text/html": [
       "<div>\n",
       "<table border=\"1\" class=\"dataframe\">\n",
       "  <thead>\n",
       "    <tr style=\"text-align: right;\">\n",
       "      <th></th>\n",
       "      <th>ElasticNet</th>\n",
       "      <th>Lasso</th>\n",
       "      <th>LinearSVR</th>\n",
       "      <th>Ridge</th>\n",
       "      <th>SVR</th>\n",
       "      <th>RealValue</th>\n",
       "    </tr>\n",
       "    <tr>\n",
       "      <th>ID</th>\n",
       "      <th></th>\n",
       "      <th></th>\n",
       "      <th></th>\n",
       "      <th></th>\n",
       "      <th></th>\n",
       "      <th></th>\n",
       "    </tr>\n",
       "  </thead>\n",
       "  <tbody>\n",
       "    <tr>\n",
       "      <th>7417</th>\n",
       "      <td>0.634252</td>\n",
       "      <td>0.633946</td>\n",
       "      <td>0.712691</td>\n",
       "      <td>0.620563</td>\n",
       "      <td>0.556396</td>\n",
       "      <td>0.585333</td>\n",
       "    </tr>\n",
       "    <tr>\n",
       "      <th>8372</th>\n",
       "      <td>0.642737</td>\n",
       "      <td>0.641820</td>\n",
       "      <td>0.640600</td>\n",
       "      <td>0.640527</td>\n",
       "      <td>0.584777</td>\n",
       "      <td>0.645667</td>\n",
       "    </tr>\n",
       "    <tr>\n",
       "      <th>9322</th>\n",
       "      <td>0.622458</td>\n",
       "      <td>0.619607</td>\n",
       "      <td>0.587724</td>\n",
       "      <td>0.597814</td>\n",
       "      <td>0.549957</td>\n",
       "      <td>0.625667</td>\n",
       "    </tr>\n",
       "    <tr>\n",
       "      <th>11413</th>\n",
       "      <td>0.562835</td>\n",
       "      <td>0.563453</td>\n",
       "      <td>0.604019</td>\n",
       "      <td>0.561460</td>\n",
       "      <td>0.539789</td>\n",
       "      <td>0.574000</td>\n",
       "    </tr>\n",
       "    <tr>\n",
       "      <th>6746</th>\n",
       "      <td>0.633794</td>\n",
       "      <td>0.630940</td>\n",
       "      <td>0.600488</td>\n",
       "      <td>0.604480</td>\n",
       "      <td>0.546782</td>\n",
       "      <td>0.637000</td>\n",
       "    </tr>\n",
       "  </tbody>\n",
       "</table>\n",
       "</div>"
      ],
      "text/plain": [
       "       ElasticNet     Lasso  LinearSVR     Ridge       SVR  RealValue\n",
       "ID                                                                   \n",
       "7417     0.634252  0.633946   0.712691  0.620563  0.556396   0.585333\n",
       "8372     0.642737  0.641820   0.640600  0.640527  0.584777   0.645667\n",
       "9322     0.622458  0.619607   0.587724  0.597814  0.549957   0.625667\n",
       "11413    0.562835  0.563453   0.604019  0.561460  0.539789   0.574000\n",
       "6746     0.633794  0.630940   0.600488  0.604480  0.546782   0.637000"
      ]
     },
     "execution_count": 49,
     "metadata": {},
     "output_type": "execute_result"
    }
   ],
   "source": [
    "predictedValues.head(5)"
   ]
  },
  {
   "cell_type": "code",
   "execution_count": 50,
   "metadata": {
    "scrolled": false
   },
   "outputs": [
    {
     "name": "stdout",
     "output_type": "stream",
     "text": [
      "('Predictions:\\t', array([ 0.63425226,  0.64273674,  0.62245792,  0.56283476,  0.63379432]))\n",
      "('Labels:\\t\\t', [0.58533334096300005, 0.64566666921000004, 0.62566666921000003, 0.57400001525900002, 0.637000007629])\n",
      "('Predictions:\\t', array([ 0.55639553,  0.58477657,  0.54995735,  0.53978909,  0.54678191]))\n",
      "('Labels:\\t\\t', [0.58533334096300005, 0.64566666921000004, 0.62566666921000003, 0.57400001525900002, 0.637000007629])\n",
      "('Predictions:\\t', array([ 0.71269094,  0.64060031,  0.5877242 ,  0.6040193 ,  0.60048801]))\n",
      "('Labels:\\t\\t', [0.58533334096300005, 0.64566666921000004, 0.62566666921000003, 0.57400001525900002, 0.637000007629])\n",
      "('Predictions:\\t', array([ 0.6205627 ,  0.64052699,  0.59781433,  0.56145965,  0.60448013]))\n",
      "('Labels:\\t\\t', [0.58533334096300005, 0.64566666921000004, 0.62566666921000003, 0.57400001525900002, 0.637000007629])\n",
      "('Predictions:\\t', array([ 0.63394575,  0.64181988,  0.61960702,  0.56345318,  0.63094036]))\n",
      "('Labels:\\t\\t', [0.58533334096300005, 0.64566666921000004, 0.62566666921000003, 0.57400001525900002, 0.637000007629])\n"
     ]
    }
   ],
   "source": [
    "RMSE={}\n",
    "for reg in santeModel.predictiveModels.keys():\n",
    "    rmse=santeModel.evaluate(model=reg,on='train') #RMSE of each model\n",
    "    RMSE[reg]=[rmse,rmse*100/santeModel.dataset_bin.CGPA.mean()]"
   ]
  },
  {
   "cell_type": "code",
   "execution_count": 51,
   "metadata": {
    "scrolled": true
   },
   "outputs": [
    {
     "data": {
      "text/plain": [
       "{'ElasticNet': [0.048439757351696131, 8.2215967821287084],\n",
       " 'Lasso': [0.048506383027202178, 8.2329050435506357],\n",
       " 'LinearSVR': [0.053311148653203064, 9.0484096573083317],\n",
       " 'Ridge': [0.051086773887118013, 8.6708703503643676],\n",
       " 'SVR': [0.069900647273839767, 11.864116752748179]}"
      ]
     },
     "execution_count": 51,
     "metadata": {},
     "output_type": "execute_result"
    }
   ],
   "source": [
    "RMSE"
   ]
  },
  {
   "cell_type": "markdown",
   "metadata": {},
   "source": [
    "on remarque aisement que les valeurs predites par differents regressons disposent d'une bonne exacitude"
   ]
  },
  {
   "cell_type": "code",
   "execution_count": 52,
   "metadata": {},
   "outputs": [
    {
     "name": "stdout",
     "output_type": "stream",
     "text": [
      "[LibSVM][LibSVM][LibSVM][LibSVM][LibSVM][LibSVM][LibSVM][LibSVM][LibSVM][LibSVM]"
     ]
    }
   ],
   "source": [
    "CVScore={}\n",
    "for reg in santeModel.predictiveModels.keys():\n",
    "    scores,Sstd,Smean=santeModel.crossEvaluate(model=reg) #RMSE of each model\n",
    "    CVScore[reg]=[Smean,Smean*100/santeModel.dataset_bin.CGPA.mean(),Sstd]"
   ]
  },
  {
   "cell_type": "code",
   "execution_count": 53,
   "metadata": {
    "scrolled": false
   },
   "outputs": [
    {
     "data": {
      "text/plain": [
       "{'ElasticNet': [0.069957893084195713,\n",
       "  11.873832985775435,\n",
       "  0.0064955155045944872],\n",
       " 'Lasso': [0.069636656330641075, 11.819310023570015, 0.0065339691534177947],\n",
       " 'LinearSVR': [0.07373834926024557, 12.515483316645678, 0.0097308291592782675],\n",
       " 'Ridge': [0.065243038982058466, 11.073588900469739, 0.0071383006728380988],\n",
       " 'SVR': [0.071598311071310761, 12.152258312027383, 0.0051984998620767837]}"
      ]
     },
     "execution_count": 53,
     "metadata": {},
     "output_type": "execute_result"
    }
   ],
   "source": [
    "CVScore"
   ]
  },
  {
   "cell_type": "markdown",
   "metadata": {},
   "source": [
    "Aussi on peut remarquer les methodes lineaires disposent des meilleurs resulats"
   ]
  },
  {
   "cell_type": "code",
   "execution_count": 54,
   "metadata": {
    "scrolled": false
   },
   "outputs": [
    {
     "name": "stdout",
     "output_type": "stream",
     "text": [
      "('Predictions:\\t', array([ 0.64710444,  0.59031446,  0.59147763,  0.60930773,  0.57896438]))\n",
      "('Labels:\\t\\t', [0.65099998474100007, 0.51899999618500003, 0.62200000762899998, 0.61400001525900005, 0.55000000000000004])\n",
      "('Predictions:\\t', array([ 0.54720662,  0.54770263,  0.55064107,  0.55161345,  0.54692344]))\n",
      "('Labels:\\t\\t', [0.65099998474100007, 0.51899999618500003, 0.62200000762899998, 0.61400001525900005, 0.55000000000000004])\n",
      "('Predictions:\\t', array([ 0.63506558,  0.63154406,  0.59812308,  0.64795774,  0.54048096]))\n",
      "('Labels:\\t\\t', [0.65099998474100007, 0.51899999618500003, 0.62200000762899998, 0.61400001525900005, 0.55000000000000004])\n",
      "('Predictions:\\t', array([ 0.61248734,  0.58607667,  0.58714316,  0.59857347,  0.57376314]))\n",
      "('Labels:\\t\\t', [0.65099998474100007, 0.51899999618500003, 0.62200000762899998, 0.61400001525900005, 0.55000000000000004])\n",
      "('Predictions:\\t', array([ 0.6442474 ,  0.59141372,  0.59097368,  0.60862079,  0.57945642]))\n",
      "('Labels:\\t\\t', [0.65099998474100007, 0.51899999618500003, 0.62200000762899998, 0.61400001525900005, 0.55000000000000004])\n"
     ]
    }
   ],
   "source": [
    "RMSE={}\n",
    "for reg in santeModel.predictiveModels.keys():\n",
    "    rmse=santeModel.evaluate(model=reg,on='test') #RMSE of each model\n",
    "    RMSE[reg]=[rmse,rmse*100/santeModel.dataset_bin.CGPA.mean()]"
   ]
  },
  {
   "cell_type": "code",
   "execution_count": 55,
   "metadata": {
    "scrolled": true
   },
   "outputs": [
    {
     "data": {
      "text/plain": [
       "{'ElasticNet': [0.065538648817479186, 11.12376224989457],\n",
       " 'Lasso': [0.065266413026714515, 11.077556136906004],\n",
       " 'LinearSVR': [0.069746792001455005, 11.838003161733097],\n",
       " 'Ridge': [0.062882899840641562, 10.673006539382214],\n",
       " 'SVR': [0.067167938056348866, 11.40029871282916]}"
      ]
     },
     "execution_count": 55,
     "metadata": {},
     "output_type": "execute_result"
    }
   ],
   "source": [
    "RMSE"
   ]
  },
  {
   "cell_type": "code",
   "execution_count": 167,
   "metadata": {},
   "outputs": [
    {
     "data": {
      "text/plain": [
       "Index([u'ElasticNet', u'Lasso', u'LinearSVR', u'Ridge', u'SVR', u'RealValue'], dtype='object')"
      ]
     },
     "execution_count": 167,
     "metadata": {},
     "output_type": "execute_result"
    }
   ],
   "source": [
    "predictedValues.columns"
   ]
  },
  {
   "cell_type": "code",
   "execution_count": 56,
   "metadata": {
    "scrolled": true
   },
   "outputs": [
    {
     "name": "stderr",
     "output_type": "stream",
     "text": [
      "/Users/espyMur/Desktop/Memory-WorkingDir/memoryVenv/lib/python2.7/site-packages/scipy/linalg/basic.py:1018: RuntimeWarning: internal gelsd driver lwork query error, required iwork dimension not returned. This is likely the result of LAPACK bug 0038, fixed in LAPACK 3.2.2 (released July 21, 2010). Falling back to 'gelss' driver.\n",
      "  warnings.warn(mesg, RuntimeWarning)\n",
      "/Users/espyMur/Desktop/Memory-WorkingDir/memoryVenv/lib/python2.7/site-packages/pandas/core/indexing.py:297: SettingWithCopyWarning: \n",
      "A value is trying to be set on a copy of a slice from a DataFrame.\n",
      "Try using .loc[row_indexer,col_indexer] = value instead\n",
      "\n",
      "See the caveats in the documentation: http://pandas.pydata.org/pandas-docs/stable/indexing.html#indexing-view-versus-copy\n",
      "  self.obj[key] = _infer_fill_value(value)\n",
      "/Users/espyMur/Desktop/Memory-WorkingDir/memoryVenv/lib/python2.7/site-packages/pandas/core/indexing.py:561: SettingWithCopyWarning: \n",
      "A value is trying to be set on a copy of a slice from a DataFrame.\n",
      "Try using .loc[row_indexer,col_indexer] = value instead\n",
      "\n",
      "See the caveats in the documentation: http://pandas.pydata.org/pandas-docs/stable/indexing.html#indexing-view-versus-copy\n",
      "  self.obj[item_labels[indexer[info_axis]]] = value\n"
     ]
    }
   ],
   "source": [
    "finalPred,finalRMSE=santeModel.ensembelMethods(predictedValues=predictedValues[[u'ElasticNet', u'Lasso', u'Ridge',  u'RealValue']])"
   ]
  },
  {
   "cell_type": "code",
   "execution_count": 57,
   "metadata": {
    "scrolled": true
   },
   "outputs": [
    {
     "data": {
      "text/html": [
       "<div>\n",
       "<table border=\"1\" class=\"dataframe\">\n",
       "  <thead>\n",
       "    <tr style=\"text-align: right;\">\n",
       "      <th></th>\n",
       "      <th>ElasticNet</th>\n",
       "      <th>Lasso</th>\n",
       "      <th>Ridge</th>\n",
       "      <th>RealValue</th>\n",
       "      <th>finalPredict</th>\n",
       "    </tr>\n",
       "    <tr>\n",
       "      <th>ID</th>\n",
       "      <th></th>\n",
       "      <th></th>\n",
       "      <th></th>\n",
       "      <th></th>\n",
       "      <th></th>\n",
       "    </tr>\n",
       "  </thead>\n",
       "  <tbody>\n",
       "    <tr>\n",
       "      <th>7417</th>\n",
       "      <td>0.634252</td>\n",
       "      <td>0.633946</td>\n",
       "      <td>0.620563</td>\n",
       "      <td>0.585333</td>\n",
       "      <td>0.634718</td>\n",
       "    </tr>\n",
       "    <tr>\n",
       "      <th>8372</th>\n",
       "      <td>0.642737</td>\n",
       "      <td>0.641820</td>\n",
       "      <td>0.640527</td>\n",
       "      <td>0.645667</td>\n",
       "      <td>0.643669</td>\n",
       "    </tr>\n",
       "    <tr>\n",
       "      <th>9322</th>\n",
       "      <td>0.622458</td>\n",
       "      <td>0.619607</td>\n",
       "      <td>0.597814</td>\n",
       "      <td>0.625667</td>\n",
       "      <td>0.625672</td>\n",
       "    </tr>\n",
       "    <tr>\n",
       "      <th>11413</th>\n",
       "      <td>0.562835</td>\n",
       "      <td>0.563453</td>\n",
       "      <td>0.561460</td>\n",
       "      <td>0.574000</td>\n",
       "      <td>0.562238</td>\n",
       "    </tr>\n",
       "    <tr>\n",
       "      <th>6746</th>\n",
       "      <td>0.633794</td>\n",
       "      <td>0.630940</td>\n",
       "      <td>0.604480</td>\n",
       "      <td>0.637000</td>\n",
       "      <td>0.637066</td>\n",
       "    </tr>\n",
       "  </tbody>\n",
       "</table>\n",
       "</div>"
      ],
      "text/plain": [
       "       ElasticNet     Lasso     Ridge  RealValue  finalPredict\n",
       "ID                                                            \n",
       "7417     0.634252  0.633946  0.620563   0.585333      0.634718\n",
       "8372     0.642737  0.641820  0.640527   0.645667      0.643669\n",
       "9322     0.622458  0.619607  0.597814   0.625667      0.625672\n",
       "11413    0.562835  0.563453  0.561460   0.574000      0.562238\n",
       "6746     0.633794  0.630940  0.604480   0.637000      0.637066"
      ]
     },
     "execution_count": 57,
     "metadata": {},
     "output_type": "execute_result"
    }
   ],
   "source": [
    "finalPred.head(5)"
   ]
  },
  {
   "cell_type": "code",
   "execution_count": 58,
   "metadata": {
    "scrolled": true
   },
   "outputs": [
    {
     "data": {
      "text/plain": [
       "8.2172609209070302"
      ]
     },
     "execution_count": 58,
     "metadata": {},
     "output_type": "execute_result"
    }
   ],
   "source": [
    "finalRMSE*100/santeModel.dataset_bin.CGPA.mean()"
   ]
  },
  {
   "cell_type": "markdown",
   "metadata": {},
   "source": [
    "On remarque que notre ensemble methode sans modele avec SVM nous donne un score de 8% en valdiation croisé voyons combien il nous donnerasavec l'ensemble d'evaluation"
   ]
  },
  {
   "cell_type": "code",
   "execution_count": null,
   "metadata": {
    "collapsed": true
   },
   "outputs": [],
   "source": []
  },
  {
   "cell_type": "code",
   "execution_count": 194,
   "metadata": {
    "collapsed": true
   },
   "outputs": [],
   "source": [
    "predictionTest=santeModel.predictTest()"
   ]
  },
  {
   "cell_type": "code",
   "execution_count": 195,
   "metadata": {},
   "outputs": [
    {
     "data": {
      "text/html": [
       "<div>\n",
       "<table border=\"1\" class=\"dataframe\">\n",
       "  <thead>\n",
       "    <tr style=\"text-align: right;\">\n",
       "      <th></th>\n",
       "      <th>ElasticNet</th>\n",
       "      <th>Lasso</th>\n",
       "      <th>LinearSVR</th>\n",
       "      <th>Ridge</th>\n",
       "      <th>SVR</th>\n",
       "      <th>RealValue</th>\n",
       "    </tr>\n",
       "    <tr>\n",
       "      <th>ID</th>\n",
       "      <th></th>\n",
       "      <th></th>\n",
       "      <th></th>\n",
       "      <th></th>\n",
       "      <th></th>\n",
       "      <th></th>\n",
       "    </tr>\n",
       "  </thead>\n",
       "  <tbody>\n",
       "    <tr>\n",
       "      <th>4895</th>\n",
       "      <td>0.644247</td>\n",
       "      <td>0.644247</td>\n",
       "      <td>0.635066</td>\n",
       "      <td>0.612487</td>\n",
       "      <td>0.547207</td>\n",
       "      <td>0.651</td>\n",
       "    </tr>\n",
       "  </tbody>\n",
       "</table>\n",
       "</div>"
      ],
      "text/plain": [
       "      ElasticNet     Lasso  LinearSVR     Ridge       SVR  RealValue\n",
       "ID                                                                  \n",
       "4895    0.644247  0.644247   0.635066  0.612487  0.547207      0.651"
      ]
     },
     "execution_count": 195,
     "metadata": {},
     "output_type": "execute_result"
    }
   ],
   "source": [
    "predictionTest.head(1)"
   ]
  },
  {
   "cell_type": "code",
   "execution_count": 196,
   "metadata": {
    "collapsed": true
   },
   "outputs": [],
   "source": [
    "finalPredictTes,rmseFinalTest=ensembelMethods(self=droitModel,predictedValues=predictionTest[[u'ElasticNet', u'Lasso', u'Ridge',  u'RealValue']])"
   ]
  },
  {
   "cell_type": "code",
   "execution_count": 197,
   "metadata": {
    "scrolled": false
   },
   "outputs": [
    {
     "data": {
      "text/plain": [
       "9.9625467598016613"
      ]
     },
     "execution_count": 197,
     "metadata": {},
     "output_type": "execute_result"
    }
   ],
   "source": [
    "rmseFinalTest*100/santeModel.Y_train.mean()"
   ]
  },
  {
   "cell_type": "markdown",
   "metadata": {},
   "source": [
    "Nous avons un resulat de 9.9 % sur notre ensemble d'evaluation wouhhhhh........"
   ]
  },
  {
   "cell_type": "code",
   "execution_count": 59,
   "metadata": {
    "scrolled": true
   },
   "outputs": [
    {
     "ename": "NameError",
     "evalue": "name 'saveModels' is not defined",
     "output_type": "error",
     "traceback": [
      "\u001b[0;31m---------------------------------------------------------------------------\u001b[0m",
      "\u001b[0;31mNameError\u001b[0m                                 Traceback (most recent call last)",
      "\u001b[0;32m<ipython-input-59-f324013dad6d>\u001b[0m in \u001b[0;36m<module>\u001b[0;34m()\u001b[0m\n\u001b[0;32m----> 1\u001b[0;31m \u001b[0msaveModels\u001b[0m\u001b[0;34m(\u001b[0m\u001b[0mself\u001b[0m\u001b[0;34m=\u001b[0m\u001b[0msanteModel\u001b[0m\u001b[0;34m,\u001b[0m\u001b[0mdepartement\u001b[0m\u001b[0;34m=\u001b[0m\u001b[0;34m'Sante'\u001b[0m\u001b[0;34m)\u001b[0m\u001b[0;34m\u001b[0m\u001b[0m\n\u001b[0m",
      "\u001b[0;31mNameError\u001b[0m: name 'saveModels' is not defined"
     ]
    }
   ],
   "source": [
    "saveModels(self=santeModel,departement='Sante')"
   ]
  },
  {
   "cell_type": "markdown",
   "metadata": {},
   "source": [
    "##### 3. Facuté de Psycologie"
   ]
  },
  {
   "cell_type": "code",
   "execution_count": 63,
   "metadata": {
    "collapsed": true
   },
   "outputs": [],
   "source": [
    "psyco=datasetCGPA.loc[datasetCGPA.FAC=='FPSE']"
   ]
  },
  {
   "cell_type": "code",
   "execution_count": 64,
   "metadata": {
    "scrolled": false
   },
   "outputs": [
    {
     "data": {
      "text/html": [
       "<div>\n",
       "<table border=\"1\" class=\"dataframe\">\n",
       "  <thead>\n",
       "    <tr style=\"text-align: right;\">\n",
       "      <th></th>\n",
       "      <th>DIPPERC</th>\n",
       "      <th>SCHOOL_RIGHT</th>\n",
       "      <th>OPTION_RIGHT</th>\n",
       "      <th>FAC</th>\n",
       "      <th>CGPA</th>\n",
       "      <th>DistinctionRatio</th>\n",
       "      <th>EchecRatio</th>\n",
       "      <th>Pass1stSessionRatio</th>\n",
       "    </tr>\n",
       "    <tr>\n",
       "      <th>ID</th>\n",
       "      <th></th>\n",
       "      <th></th>\n",
       "      <th></th>\n",
       "      <th></th>\n",
       "      <th></th>\n",
       "      <th></th>\n",
       "      <th></th>\n",
       "      <th></th>\n",
       "    </tr>\n",
       "  </thead>\n",
       "  <tbody>\n",
       "    <tr>\n",
       "      <th>11347</th>\n",
       "      <td>55.0</td>\n",
       "      <td>mululusake</td>\n",
       "      <td>pedagogie</td>\n",
       "      <td>FPSE</td>\n",
       "      <td>46.000000</td>\n",
       "      <td>G</td>\n",
       "      <td>A</td>\n",
       "      <td>G</td>\n",
       "    </tr>\n",
       "    <tr>\n",
       "      <th>7026</th>\n",
       "      <td>60.0</td>\n",
       "      <td>butembo</td>\n",
       "      <td>pedagogie</td>\n",
       "      <td>FPSE</td>\n",
       "      <td>48.950001</td>\n",
       "      <td>G</td>\n",
       "      <td>D</td>\n",
       "      <td>G</td>\n",
       "    </tr>\n",
       "    <tr>\n",
       "      <th>8487</th>\n",
       "      <td>57.0</td>\n",
       "      <td>butembo</td>\n",
       "      <td>pedagogie</td>\n",
       "      <td>FPSE</td>\n",
       "      <td>59.600000</td>\n",
       "      <td>G</td>\n",
       "      <td>G</td>\n",
       "      <td>F</td>\n",
       "    </tr>\n",
       "    <tr>\n",
       "      <th>10434</th>\n",
       "      <td>59.0</td>\n",
       "      <td>butembo</td>\n",
       "      <td>pedagogie</td>\n",
       "      <td>FPSE</td>\n",
       "      <td>59.700001</td>\n",
       "      <td>G</td>\n",
       "      <td>G</td>\n",
       "      <td>A</td>\n",
       "    </tr>\n",
       "    <tr>\n",
       "      <th>7487</th>\n",
       "      <td>52.0</td>\n",
       "      <td>chemchem</td>\n",
       "      <td>coupe couture</td>\n",
       "      <td>FPSE</td>\n",
       "      <td>55.150000</td>\n",
       "      <td>G</td>\n",
       "      <td>D</td>\n",
       "      <td>G</td>\n",
       "    </tr>\n",
       "  </tbody>\n",
       "</table>\n",
       "</div>"
      ],
      "text/plain": [
       "       DIPPERC SCHOOL_RIGHT   OPTION_RIGHT   FAC       CGPA DistinctionRatio  \\\n",
       "ID                                                                             \n",
       "11347     55.0   mululusake      pedagogie  FPSE  46.000000                G   \n",
       "7026      60.0      butembo      pedagogie  FPSE  48.950001                G   \n",
       "8487      57.0      butembo      pedagogie  FPSE  59.600000                G   \n",
       "10434     59.0      butembo      pedagogie  FPSE  59.700001                G   \n",
       "7487      52.0     chemchem  coupe couture  FPSE  55.150000                G   \n",
       "\n",
       "      EchecRatio Pass1stSessionRatio  \n",
       "ID                                    \n",
       "11347          A                   G  \n",
       "7026           D                   G  \n",
       "8487           G                   F  \n",
       "10434          G                   A  \n",
       "7487           D                   G  "
      ]
     },
     "execution_count": 64,
     "metadata": {},
     "output_type": "execute_result"
    }
   ],
   "source": [
    "psyco.head(5)"
   ]
  },
  {
   "cell_type": "code",
   "execution_count": 68,
   "metadata": {
    "scrolled": false
   },
   "outputs": [
    {
     "data": {
      "text/plain": [
       "G    180\n",
       "A     30\n",
       "D     12\n",
       "E      5\n",
       "Name: EchecRatio, dtype: int64"
      ]
     },
     "execution_count": 68,
     "metadata": {},
     "output_type": "execute_result"
    }
   ],
   "source": [
    "psyco.EchecRatio.value_counts()"
   ]
  },
  {
   "cell_type": "code",
   "execution_count": 67,
   "metadata": {
    "scrolled": false
   },
   "outputs": [
    {
     "name": "stderr",
     "output_type": "stream",
     "text": [
      "/Users/espyMur/Desktop/Memory-WorkingDir/memoryVenv/lib/python2.7/site-packages/pandas/core/indexing.py:141: SettingWithCopyWarning: \n",
      "A value is trying to be set on a copy of a slice from a DataFrame\n",
      "\n",
      "See the caveats in the documentation: http://pandas.pydata.org/pandas-docs/stable/indexing.html#indexing-view-versus-copy\n",
      "  self._setitem_with_indexer(indexer, value)\n",
      "/Users/espyMur/Desktop/Memory-WorkingDir/memoryVenv/lib/python2.7/site-packages/ipykernel_launcher.py:1: SettingWithCopyWarning: \n",
      "A value is trying to be set on a copy of a slice from a DataFrame\n",
      "\n",
      "See the caveats in the documentation: http://pandas.pydata.org/pandas-docs/stable/indexing.html#indexing-view-versus-copy\n",
      "  \"\"\"Entry point for launching an IPython kernel.\n"
     ]
    }
   ],
   "source": [
    "psyco.EchecRatio.loc[psyco.EchecRatio.isin(['E','F','C'])]='E'"
   ]
  },
  {
   "cell_type": "code",
   "execution_count": 77,
   "metadata": {
    "collapsed": true,
    "scrolled": false
   },
   "outputs": [],
   "source": [
    "psycoModel=PredictiveModelByilding(dataset=psyco,encoderFunction=ConvertCat)"
   ]
  },
  {
   "cell_type": "code",
   "execution_count": 78,
   "metadata": {
    "collapsed": true,
    "scrolled": true
   },
   "outputs": [],
   "source": [
    "psycoModel.scale(['DIPPERC','CGPA'])"
   ]
  },
  {
   "cell_type": "code",
   "execution_count": 79,
   "metadata": {
    "collapsed": true,
    "scrolled": false
   },
   "outputs": [],
   "source": [
    "trainDes,tesDes=psycoModel.split()"
   ]
  },
  {
   "cell_type": "code",
   "execution_count": 219,
   "metadata": {
    "scrolled": true
   },
   "outputs": [
    {
     "data": {
      "text/html": [
       "<div>\n",
       "<table border=\"1\" class=\"dataframe\">\n",
       "  <thead>\n",
       "    <tr style=\"text-align: right;\">\n",
       "      <th></th>\n",
       "      <th>DIPPERC</th>\n",
       "      <th>CGPA</th>\n",
       "    </tr>\n",
       "  </thead>\n",
       "  <tbody>\n",
       "    <tr>\n",
       "      <th>count</th>\n",
       "      <td>181.000000</td>\n",
       "      <td>181.000000</td>\n",
       "    </tr>\n",
       "    <tr>\n",
       "      <th>mean</th>\n",
       "      <td>0.561264</td>\n",
       "      <td>0.597438</td>\n",
       "    </tr>\n",
       "    <tr>\n",
       "      <th>std</th>\n",
       "      <td>0.056302</td>\n",
       "      <td>0.079608</td>\n",
       "    </tr>\n",
       "    <tr>\n",
       "      <th>min</th>\n",
       "      <td>0.500000</td>\n",
       "      <td>0.400000</td>\n",
       "    </tr>\n",
       "    <tr>\n",
       "      <th>25%</th>\n",
       "      <td>0.520000</td>\n",
       "      <td>0.559500</td>\n",
       "    </tr>\n",
       "    <tr>\n",
       "      <th>50%</th>\n",
       "      <td>0.550000</td>\n",
       "      <td>0.609000</td>\n",
       "    </tr>\n",
       "    <tr>\n",
       "      <th>75%</th>\n",
       "      <td>0.590000</td>\n",
       "      <td>0.652667</td>\n",
       "    </tr>\n",
       "    <tr>\n",
       "      <th>max</th>\n",
       "      <td>0.770000</td>\n",
       "      <td>0.781750</td>\n",
       "    </tr>\n",
       "  </tbody>\n",
       "</table>\n",
       "</div>"
      ],
      "text/plain": [
       "          DIPPERC        CGPA\n",
       "count  181.000000  181.000000\n",
       "mean     0.561264    0.597438\n",
       "std      0.056302    0.079608\n",
       "min      0.500000    0.400000\n",
       "25%      0.520000    0.559500\n",
       "50%      0.550000    0.609000\n",
       "75%      0.590000    0.652667\n",
       "max      0.770000    0.781750"
      ]
     },
     "execution_count": 219,
     "metadata": {},
     "output_type": "execute_result"
    }
   ],
   "source": [
    "trainDes"
   ]
  },
  {
   "cell_type": "code",
   "execution_count": 220,
   "metadata": {
    "scrolled": false
   },
   "outputs": [
    {
     "data": {
      "text/html": [
       "<div>\n",
       "<table border=\"1\" class=\"dataframe\">\n",
       "  <thead>\n",
       "    <tr style=\"text-align: right;\">\n",
       "      <th></th>\n",
       "      <th>DIPPERC</th>\n",
       "      <th>CGPA</th>\n",
       "    </tr>\n",
       "  </thead>\n",
       "  <tbody>\n",
       "    <tr>\n",
       "      <th>count</th>\n",
       "      <td>46.000000</td>\n",
       "      <td>46.000000</td>\n",
       "    </tr>\n",
       "    <tr>\n",
       "      <th>mean</th>\n",
       "      <td>0.565000</td>\n",
       "      <td>0.588315</td>\n",
       "    </tr>\n",
       "    <tr>\n",
       "      <th>std</th>\n",
       "      <td>0.058224</td>\n",
       "      <td>0.066295</td>\n",
       "    </tr>\n",
       "    <tr>\n",
       "      <th>min</th>\n",
       "      <td>0.500000</td>\n",
       "      <td>0.430000</td>\n",
       "    </tr>\n",
       "    <tr>\n",
       "      <th>25%</th>\n",
       "      <td>0.510000</td>\n",
       "      <td>0.564500</td>\n",
       "    </tr>\n",
       "    <tr>\n",
       "      <th>50%</th>\n",
       "      <td>0.560000</td>\n",
       "      <td>0.601000</td>\n",
       "    </tr>\n",
       "    <tr>\n",
       "      <th>75%</th>\n",
       "      <td>0.600000</td>\n",
       "      <td>0.627000</td>\n",
       "    </tr>\n",
       "    <tr>\n",
       "      <th>max</th>\n",
       "      <td>0.750000</td>\n",
       "      <td>0.714000</td>\n",
       "    </tr>\n",
       "  </tbody>\n",
       "</table>\n",
       "</div>"
      ],
      "text/plain": [
       "         DIPPERC       CGPA\n",
       "count  46.000000  46.000000\n",
       "mean    0.565000   0.588315\n",
       "std     0.058224   0.066295\n",
       "min     0.500000   0.430000\n",
       "25%     0.510000   0.564500\n",
       "50%     0.560000   0.601000\n",
       "75%     0.600000   0.627000\n",
       "max     0.750000   0.714000"
      ]
     },
     "execution_count": 220,
     "metadata": {},
     "output_type": "execute_result"
    }
   ],
   "source": [
    "tesDes"
   ]
  },
  {
   "cell_type": "code",
   "execution_count": 80,
   "metadata": {},
   "outputs": [
    {
     "name": "stdout",
     "output_type": "stream",
     "text": [
      "[LibSVM]"
     ]
    }
   ],
   "source": [
    "predictedValues=psycoModel.train()"
   ]
  },
  {
   "cell_type": "code",
   "execution_count": 81,
   "metadata": {
    "scrolled": false
   },
   "outputs": [
    {
     "data": {
      "text/html": [
       "<div>\n",
       "<table border=\"1\" class=\"dataframe\">\n",
       "  <thead>\n",
       "    <tr style=\"text-align: right;\">\n",
       "      <th></th>\n",
       "      <th>ElasticNet</th>\n",
       "      <th>Lasso</th>\n",
       "      <th>LinearSVR</th>\n",
       "      <th>Ridge</th>\n",
       "      <th>SVR</th>\n",
       "      <th>RealValue</th>\n",
       "    </tr>\n",
       "    <tr>\n",
       "      <th>ID</th>\n",
       "      <th></th>\n",
       "      <th></th>\n",
       "      <th></th>\n",
       "      <th></th>\n",
       "      <th></th>\n",
       "      <th></th>\n",
       "    </tr>\n",
       "  </thead>\n",
       "  <tbody>\n",
       "    <tr>\n",
       "      <th>7479</th>\n",
       "      <td>0.625734</td>\n",
       "      <td>0.624857</td>\n",
       "      <td>0.602400</td>\n",
       "      <td>0.607064</td>\n",
       "      <td>0.575828</td>\n",
       "      <td>0.626667</td>\n",
       "    </tr>\n",
       "    <tr>\n",
       "      <th>8518</th>\n",
       "      <td>0.705881</td>\n",
       "      <td>0.705573</td>\n",
       "      <td>0.717894</td>\n",
       "      <td>0.682846</td>\n",
       "      <td>0.627241</td>\n",
       "      <td>0.781750</td>\n",
       "    </tr>\n",
       "    <tr>\n",
       "      <th>12160</th>\n",
       "      <td>0.637071</td>\n",
       "      <td>0.636190</td>\n",
       "      <td>0.621704</td>\n",
       "      <td>0.615343</td>\n",
       "      <td>0.576922</td>\n",
       "      <td>0.638000</td>\n",
       "    </tr>\n",
       "    <tr>\n",
       "      <th>9227</th>\n",
       "      <td>0.579670</td>\n",
       "      <td>0.579921</td>\n",
       "      <td>0.589627</td>\n",
       "      <td>0.572593</td>\n",
       "      <td>0.582669</td>\n",
       "      <td>0.588000</td>\n",
       "    </tr>\n",
       "    <tr>\n",
       "      <th>8997</th>\n",
       "      <td>0.590432</td>\n",
       "      <td>0.588716</td>\n",
       "      <td>0.518295</td>\n",
       "      <td>0.573732</td>\n",
       "      <td>0.584345</td>\n",
       "      <td>0.592333</td>\n",
       "    </tr>\n",
       "  </tbody>\n",
       "</table>\n",
       "</div>"
      ],
      "text/plain": [
       "       ElasticNet     Lasso  LinearSVR     Ridge       SVR  RealValue\n",
       "ID                                                                   \n",
       "7479     0.625734  0.624857   0.602400  0.607064  0.575828   0.626667\n",
       "8518     0.705881  0.705573   0.717894  0.682846  0.627241   0.781750\n",
       "12160    0.637071  0.636190   0.621704  0.615343  0.576922   0.638000\n",
       "9227     0.579670  0.579921   0.589627  0.572593  0.582669   0.588000\n",
       "8997     0.590432  0.588716   0.518295  0.573732  0.584345   0.592333"
      ]
     },
     "execution_count": 81,
     "metadata": {},
     "output_type": "execute_result"
    }
   ],
   "source": [
    "predictedValues.head(5)"
   ]
  },
  {
   "cell_type": "code",
   "execution_count": 85,
   "metadata": {
    "scrolled": false
   },
   "outputs": [
    {
     "name": "stdout",
     "output_type": "stream",
     "text": [
      "('Predictions:\\t', array([ 0.63425226,  0.64273674,  0.62245792,  0.56283476,  0.63379432]))\n",
      "('Labels:\\t\\t', [0.58533334096300005, 0.64566666921000004, 0.62566666921000003, 0.57400001525900002, 0.637000007629])\n",
      "('Predictions:\\t', array([ 0.55639553,  0.58477657,  0.54995735,  0.53978909,  0.54678191]))\n",
      "('Labels:\\t\\t', [0.58533334096300005, 0.64566666921000004, 0.62566666921000003, 0.57400001525900002, 0.637000007629])\n",
      "('Predictions:\\t', array([ 0.71269094,  0.64060031,  0.5877242 ,  0.6040193 ,  0.60048801]))\n",
      "('Labels:\\t\\t', [0.58533334096300005, 0.64566666921000004, 0.62566666921000003, 0.57400001525900002, 0.637000007629])\n",
      "('Predictions:\\t', array([ 0.6205627 ,  0.64052699,  0.59781433,  0.56145965,  0.60448013]))\n",
      "('Labels:\\t\\t', [0.58533334096300005, 0.64566666921000004, 0.62566666921000003, 0.57400001525900002, 0.637000007629])\n",
      "('Predictions:\\t', array([ 0.63394575,  0.64181988,  0.61960702,  0.56345318,  0.63094036]))\n",
      "('Labels:\\t\\t', [0.58533334096300005, 0.64566666921000004, 0.62566666921000003, 0.57400001525900002, 0.637000007629])\n"
     ]
    }
   ],
   "source": [
    "RMSE={}\n",
    "for reg in santeModel.predictiveModels.keys():\n",
    "    rmse=santeModel.evaluate(model=reg,on='train') #RMSE of each model\n",
    "    RMSE[reg]=[rmse,rmse*100/psycoModel.dataset_bin.CGPA.mean()]"
   ]
  },
  {
   "cell_type": "code",
   "execution_count": 84,
   "metadata": {},
   "outputs": [
    {
     "data": {
      "text/plain": [
       "(227, 119)"
      ]
     },
     "execution_count": 84,
     "metadata": {},
     "output_type": "execute_result"
    }
   ],
   "source": [
    "psycoModel.dataset_bin.shape"
   ]
  },
  {
   "cell_type": "code",
   "execution_count": 86,
   "metadata": {
    "scrolled": true
   },
   "outputs": [
    {
     "data": {
      "text/plain": [
       "{'ElasticNet': [0.048439757351696131, 8.1330817865213696],\n",
       " 'Lasso': [0.048506383027202178, 8.1442683014338755],\n",
       " 'LinearSVR': [0.053311148653203064, 8.9509930650946377],\n",
       " 'Ridge': [0.051086773887118013, 8.5775184053209639],\n",
       " 'SVR': [0.069900647273839767, 11.73638581798169]}"
      ]
     },
     "execution_count": 86,
     "metadata": {},
     "output_type": "execute_result"
    }
   ],
   "source": [
    "RMSE"
   ]
  },
  {
   "cell_type": "markdown",
   "metadata": {},
   "source": [
    "on remarque aisement que les valeurs predites par differents regressons disposent d'une bonne exacitude"
   ]
  },
  {
   "cell_type": "code",
   "execution_count": 89,
   "metadata": {},
   "outputs": [
    {
     "name": "stdout",
     "output_type": "stream",
     "text": [
      "[LibSVM][LibSVM][LibSVM][LibSVM][LibSVM][LibSVM][LibSVM][LibSVM][LibSVM][LibSVM]"
     ]
    }
   ],
   "source": [
    "CVScore={}\n",
    "for reg in santeModel.predictiveModels.keys():\n",
    "    scores,Sstd,Smean=psycoModel.crossEvaluate(model=reg) #RMSE of each model\n",
    "    CVScore[reg]=[Smean,Smean*100/psycoModel.dataset_bin.CGPA.mean(),Sstd]"
   ]
  },
  {
   "cell_type": "code",
   "execution_count": 90,
   "metadata": {
    "scrolled": true
   },
   "outputs": [
    {
     "data": {
      "text/plain": [
       "{'ElasticNet': [0.078204129700068264, 13.13054849297483, 0.02092902610277643],\n",
       " 'Lasso': [0.078232031526185034, 13.135233236379991, 0.02078979931596725],\n",
       " 'LinearSVR': [0.082756950438959476, 13.894971468092733, 0.019705822213195171],\n",
       " 'Ridge': [0.073661872239828508, 12.367899102488707, 0.018291111019811956],\n",
       " 'SVR': [0.076697968122337909, 12.877662517381312, 0.014078229175069429]}"
      ]
     },
     "execution_count": 90,
     "metadata": {},
     "output_type": "execute_result"
    }
   ],
   "source": [
    "CVScore"
   ]
  },
  {
   "cell_type": "markdown",
   "metadata": {},
   "source": [
    "Aussi on peut remarquer les methodes lineaires disposent des meilleurs resulats"
   ]
  },
  {
   "cell_type": "code",
   "execution_count": 91,
   "metadata": {
    "scrolled": false
   },
   "outputs": [
    {
     "name": "stdout",
     "output_type": "stream",
     "text": [
      "('Predictions:\\t', array([ 0.54583656,  0.68797328,  0.62628417,  0.62787676,  0.66826284]))\n",
      "('Labels:\\t\\t', [0.46999999999999997, 0.62700000762899999, 0.45000000000000001, 0.68950000762899999, 0.678999977112])\n",
      "('Predictions:\\t', array([ 0.57564531,  0.60677534,  0.57728656,  0.5781989 ,  0.58468178]))\n",
      "('Labels:\\t\\t', [0.46999999999999997, 0.62700000762899999, 0.45000000000000001, 0.68950000762899999, 0.678999977112])\n",
      "('Predictions:\\t', array([ 0.54150096,  0.74445484,  0.63106179,  0.63036044,  0.71429797]))\n",
      "('Labels:\\t\\t', [0.46999999999999997, 0.62700000762899999, 0.45000000000000001, 0.68950000762899999, 0.678999977112])\n",
      "('Predictions:\\t', array([ 0.56742404,  0.65557334,  0.61672768,  0.59878354,  0.64105178]))\n",
      "('Labels:\\t\\t', [0.46999999999999997, 0.62700000762899999, 0.45000000000000001, 0.68950000762899999, 0.678999977112])\n",
      "('Predictions:\\t', array([ 0.54672994,  0.6876375 ,  0.62602265,  0.62765028,  0.66789843]))\n",
      "('Labels:\\t\\t', [0.46999999999999997, 0.62700000762899999, 0.45000000000000001, 0.68950000762899999, 0.678999977112])\n"
     ]
    }
   ],
   "source": [
    "RMSE={}\n",
    "for reg in santeModel.predictiveModels.keys():\n",
    "    rmse=psycoModel.evaluate(model=reg,on='test') #RMSE of each model\n",
    "    RMSE[reg]=[rmse,rmse*100/psycoModel.dataset_bin.CGPA.mean()]"
   ]
  },
  {
   "cell_type": "code",
   "execution_count": 92,
   "metadata": {
    "scrolled": true
   },
   "outputs": [
    {
     "data": {
      "text/plain": [
       "{'ElasticNet': [0.071366149384552643, 11.982445030008899],\n",
       " 'Lasso': [0.071280682322226147, 11.968095028151781],\n",
       " 'LinearSVR': [0.076990256247138913, 12.926737974282878],\n",
       " 'Ridge': [0.0666627522405914, 11.192740131848661],\n",
       " 'SVR': [0.066724727805604289, 11.20314588874286]}"
      ]
     },
     "execution_count": 92,
     "metadata": {},
     "output_type": "execute_result"
    }
   ],
   "source": [
    "RMSE"
   ]
  },
  {
   "cell_type": "code",
   "execution_count": 167,
   "metadata": {},
   "outputs": [
    {
     "data": {
      "text/plain": [
       "Index([u'ElasticNet', u'Lasso', u'LinearSVR', u'Ridge', u'SVR', u'RealValue'], dtype='object')"
      ]
     },
     "execution_count": 167,
     "metadata": {},
     "output_type": "execute_result"
    }
   ],
   "source": [
    "predictedValues.columns"
   ]
  },
  {
   "cell_type": "code",
   "execution_count": 230,
   "metadata": {
    "collapsed": true,
    "scrolled": false
   },
   "outputs": [],
   "source": [
    "finalPred,finalRMSE=santeModel.ensembelMethods(predictedValues=predictedValues[[u'ElasticNet', u'Lasso', u'Ridge',  u'RealValue',u'SVR']])"
   ]
  },
  {
   "cell_type": "code",
   "execution_count": 231,
   "metadata": {
    "scrolled": false
   },
   "outputs": [
    {
     "data": {
      "text/html": [
       "<div>\n",
       "<table border=\"1\" class=\"dataframe\">\n",
       "  <thead>\n",
       "    <tr style=\"text-align: right;\">\n",
       "      <th></th>\n",
       "      <th>ElasticNet</th>\n",
       "      <th>Lasso</th>\n",
       "      <th>Ridge</th>\n",
       "      <th>RealValue</th>\n",
       "      <th>SVR</th>\n",
       "      <th>finalPredict</th>\n",
       "    </tr>\n",
       "    <tr>\n",
       "      <th>ID</th>\n",
       "      <th></th>\n",
       "      <th></th>\n",
       "      <th></th>\n",
       "      <th></th>\n",
       "      <th></th>\n",
       "      <th></th>\n",
       "    </tr>\n",
       "  </thead>\n",
       "  <tbody>\n",
       "    <tr>\n",
       "      <th>7044</th>\n",
       "      <td>0.614691</td>\n",
       "      <td>0.614691</td>\n",
       "      <td>0.601469</td>\n",
       "      <td>0.616500</td>\n",
       "      <td>0.576164</td>\n",
       "      <td>0.615258</td>\n",
       "    </tr>\n",
       "    <tr>\n",
       "      <th>8518</th>\n",
       "      <td>0.708552</td>\n",
       "      <td>0.708552</td>\n",
       "      <td>0.683582</td>\n",
       "      <td>0.781750</td>\n",
       "      <td>0.627838</td>\n",
       "      <td>0.709026</td>\n",
       "    </tr>\n",
       "    <tr>\n",
       "      <th>12160</th>\n",
       "      <td>0.636192</td>\n",
       "      <td>0.636192</td>\n",
       "      <td>0.616022</td>\n",
       "      <td>0.638000</td>\n",
       "      <td>0.577707</td>\n",
       "      <td>0.637065</td>\n",
       "    </tr>\n",
       "    <tr>\n",
       "      <th>9227</th>\n",
       "      <td>0.578178</td>\n",
       "      <td>0.578178</td>\n",
       "      <td>0.572074</td>\n",
       "      <td>0.588000</td>\n",
       "      <td>0.583145</td>\n",
       "      <td>0.578105</td>\n",
       "    </tr>\n",
       "    <tr>\n",
       "      <th>8997</th>\n",
       "      <td>0.592350</td>\n",
       "      <td>0.592350</td>\n",
       "      <td>0.587194</td>\n",
       "      <td>0.592333</td>\n",
       "      <td>0.584850</td>\n",
       "      <td>0.592344</td>\n",
       "    </tr>\n",
       "    <tr>\n",
       "      <th>5031</th>\n",
       "      <td>0.592998</td>\n",
       "      <td>0.592998</td>\n",
       "      <td>0.592967</td>\n",
       "      <td>0.648000</td>\n",
       "      <td>0.583145</td>\n",
       "      <td>0.592927</td>\n",
       "    </tr>\n",
       "    <tr>\n",
       "      <th>9826</th>\n",
       "      <td>0.651616</td>\n",
       "      <td>0.651616</td>\n",
       "      <td>0.635800</td>\n",
       "      <td>0.634500</td>\n",
       "      <td>0.584137</td>\n",
       "      <td>0.652386</td>\n",
       "    </tr>\n",
       "    <tr>\n",
       "      <th>8578</th>\n",
       "      <td>0.687691</td>\n",
       "      <td>0.687691</td>\n",
       "      <td>0.645101</td>\n",
       "      <td>0.689500</td>\n",
       "      <td>0.589443</td>\n",
       "      <td>0.689239</td>\n",
       "    </tr>\n",
       "    <tr>\n",
       "      <th>7004</th>\n",
       "      <td>0.581252</td>\n",
       "      <td>0.581252</td>\n",
       "      <td>0.583207</td>\n",
       "      <td>0.607000</td>\n",
       "      <td>0.576357</td>\n",
       "      <td>0.581189</td>\n",
       "    </tr>\n",
       "    <tr>\n",
       "      <th>9947</th>\n",
       "      <td>0.681999</td>\n",
       "      <td>0.681999</td>\n",
       "      <td>0.673437</td>\n",
       "      <td>0.693000</td>\n",
       "      <td>0.620269</td>\n",
       "      <td>0.682056</td>\n",
       "    </tr>\n",
       "    <tr>\n",
       "      <th>9035</th>\n",
       "      <td>0.481810</td>\n",
       "      <td>0.481810</td>\n",
       "      <td>0.536547</td>\n",
       "      <td>0.480000</td>\n",
       "      <td>0.577514</td>\n",
       "      <td>0.479694</td>\n",
       "    </tr>\n",
       "    <tr>\n",
       "      <th>10883</th>\n",
       "      <td>0.657083</td>\n",
       "      <td>0.657083</td>\n",
       "      <td>0.664878</td>\n",
       "      <td>0.612500</td>\n",
       "      <td>0.618545</td>\n",
       "      <td>0.656604</td>\n",
       "    </tr>\n",
       "    <tr>\n",
       "      <th>11876</th>\n",
       "      <td>0.596191</td>\n",
       "      <td>0.596191</td>\n",
       "      <td>0.578361</td>\n",
       "      <td>0.598000</td>\n",
       "      <td>0.581619</td>\n",
       "      <td>0.596567</td>\n",
       "    </tr>\n",
       "    <tr>\n",
       "      <th>7031</th>\n",
       "      <td>0.590634</td>\n",
       "      <td>0.590634</td>\n",
       "      <td>0.591645</td>\n",
       "      <td>0.508000</td>\n",
       "      <td>0.586549</td>\n",
       "      <td>0.590441</td>\n",
       "    </tr>\n",
       "    <tr>\n",
       "      <th>5737</th>\n",
       "      <td>0.649129</td>\n",
       "      <td>0.649129</td>\n",
       "      <td>0.628289</td>\n",
       "      <td>0.628500</td>\n",
       "      <td>0.579251</td>\n",
       "      <td>0.650097</td>\n",
       "    </tr>\n",
       "    <tr>\n",
       "      <th>9559</th>\n",
       "      <td>0.658311</td>\n",
       "      <td>0.658311</td>\n",
       "      <td>0.645600</td>\n",
       "      <td>0.704667</td>\n",
       "      <td>0.604609</td>\n",
       "      <td>0.658605</td>\n",
       "    </tr>\n",
       "    <tr>\n",
       "      <th>12137</th>\n",
       "      <td>0.674191</td>\n",
       "      <td>0.674191</td>\n",
       "      <td>0.636449</td>\n",
       "      <td>0.676000</td>\n",
       "      <td>0.578286</td>\n",
       "      <td>0.675770</td>\n",
       "    </tr>\n",
       "    <tr>\n",
       "      <th>10342</th>\n",
       "      <td>0.624190</td>\n",
       "      <td>0.624190</td>\n",
       "      <td>0.607645</td>\n",
       "      <td>0.626000</td>\n",
       "      <td>0.576743</td>\n",
       "      <td>0.624900</td>\n",
       "    </tr>\n",
       "    <tr>\n",
       "      <th>10399</th>\n",
       "      <td>0.541405</td>\n",
       "      <td>0.541405</td>\n",
       "      <td>0.557397</td>\n",
       "      <td>0.591000</td>\n",
       "      <td>0.577128</td>\n",
       "      <td>0.540666</td>\n",
       "    </tr>\n",
       "    <tr>\n",
       "      <th>9160</th>\n",
       "      <td>0.588688</td>\n",
       "      <td>0.588688</td>\n",
       "      <td>0.584783</td>\n",
       "      <td>0.591000</td>\n",
       "      <td>0.582001</td>\n",
       "      <td>0.588688</td>\n",
       "    </tr>\n",
       "    <tr>\n",
       "      <th>9535</th>\n",
       "      <td>0.638055</td>\n",
       "      <td>0.638055</td>\n",
       "      <td>0.624485</td>\n",
       "      <td>0.593000</td>\n",
       "      <td>0.578479</td>\n",
       "      <td>0.638785</td>\n",
       "    </tr>\n",
       "    <tr>\n",
       "      <th>9478</th>\n",
       "      <td>0.503312</td>\n",
       "      <td>0.503312</td>\n",
       "      <td>0.545870</td>\n",
       "      <td>0.501500</td>\n",
       "      <td>0.576936</td>\n",
       "      <td>0.501664</td>\n",
       "    </tr>\n",
       "    <tr>\n",
       "      <th>11557</th>\n",
       "      <td>0.659200</td>\n",
       "      <td>0.659200</td>\n",
       "      <td>0.635506</td>\n",
       "      <td>0.663000</td>\n",
       "      <td>0.579444</td>\n",
       "      <td>0.660315</td>\n",
       "    </tr>\n",
       "    <tr>\n",
       "      <th>7016</th>\n",
       "      <td>0.648443</td>\n",
       "      <td>0.648443</td>\n",
       "      <td>0.631146</td>\n",
       "      <td>0.620000</td>\n",
       "      <td>0.586271</td>\n",
       "      <td>0.649168</td>\n",
       "    </tr>\n",
       "    <tr>\n",
       "      <th>6822</th>\n",
       "      <td>0.635980</td>\n",
       "      <td>0.635980</td>\n",
       "      <td>0.620414</td>\n",
       "      <td>0.626333</td>\n",
       "      <td>0.576743</td>\n",
       "      <td>0.636774</td>\n",
       "    </tr>\n",
       "    <tr>\n",
       "      <th>10466</th>\n",
       "      <td>0.561312</td>\n",
       "      <td>0.561312</td>\n",
       "      <td>0.562439</td>\n",
       "      <td>0.559500</td>\n",
       "      <td>0.582955</td>\n",
       "      <td>0.560937</td>\n",
       "    </tr>\n",
       "    <tr>\n",
       "      <th>11347</th>\n",
       "      <td>0.461810</td>\n",
       "      <td>0.461810</td>\n",
       "      <td>0.525596</td>\n",
       "      <td>0.460000</td>\n",
       "      <td>0.560035</td>\n",
       "      <td>0.459722</td>\n",
       "    </tr>\n",
       "    <tr>\n",
       "      <th>3804</th>\n",
       "      <td>0.596160</td>\n",
       "      <td>0.596160</td>\n",
       "      <td>0.593989</td>\n",
       "      <td>0.659000</td>\n",
       "      <td>0.576743</td>\n",
       "      <td>0.596310</td>\n",
       "    </tr>\n",
       "    <tr>\n",
       "      <th>11719</th>\n",
       "      <td>0.569484</td>\n",
       "      <td>0.569484</td>\n",
       "      <td>0.577561</td>\n",
       "      <td>0.578000</td>\n",
       "      <td>0.576164</td>\n",
       "      <td>0.569188</td>\n",
       "    </tr>\n",
       "    <tr>\n",
       "      <th>2523</th>\n",
       "      <td>0.589046</td>\n",
       "      <td>0.589046</td>\n",
       "      <td>0.588219</td>\n",
       "      <td>0.590000</td>\n",
       "      <td>0.576164</td>\n",
       "      <td>0.589117</td>\n",
       "    </tr>\n",
       "    <tr>\n",
       "      <th>...</th>\n",
       "      <td>...</td>\n",
       "      <td>...</td>\n",
       "      <td>...</td>\n",
       "      <td>...</td>\n",
       "      <td>...</td>\n",
       "      <td>...</td>\n",
       "    </tr>\n",
       "    <tr>\n",
       "      <th>5695</th>\n",
       "      <td>0.615145</td>\n",
       "      <td>0.615145</td>\n",
       "      <td>0.604640</td>\n",
       "      <td>0.613333</td>\n",
       "      <td>0.578093</td>\n",
       "      <td>0.615613</td>\n",
       "    </tr>\n",
       "    <tr>\n",
       "      <th>8691</th>\n",
       "      <td>0.642837</td>\n",
       "      <td>0.642837</td>\n",
       "      <td>0.640242</td>\n",
       "      <td>0.683667</td>\n",
       "      <td>0.601838</td>\n",
       "      <td>0.642838</td>\n",
       "    </tr>\n",
       "    <tr>\n",
       "      <th>10670</th>\n",
       "      <td>0.508770</td>\n",
       "      <td>0.508770</td>\n",
       "      <td>0.528210</td>\n",
       "      <td>0.460000</td>\n",
       "      <td>0.559861</td>\n",
       "      <td>0.508060</td>\n",
       "    </tr>\n",
       "    <tr>\n",
       "      <th>9836</th>\n",
       "      <td>0.497310</td>\n",
       "      <td>0.497310</td>\n",
       "      <td>0.540969</td>\n",
       "      <td>0.495500</td>\n",
       "      <td>0.576164</td>\n",
       "      <td>0.495602</td>\n",
       "    </tr>\n",
       "    <tr>\n",
       "      <th>10614</th>\n",
       "      <td>0.597691</td>\n",
       "      <td>0.597691</td>\n",
       "      <td>0.592968</td>\n",
       "      <td>0.599500</td>\n",
       "      <td>0.576164</td>\n",
       "      <td>0.597923</td>\n",
       "    </tr>\n",
       "    <tr>\n",
       "      <th>4544</th>\n",
       "      <td>0.600240</td>\n",
       "      <td>0.600240</td>\n",
       "      <td>0.600673</td>\n",
       "      <td>0.632000</td>\n",
       "      <td>0.576164</td>\n",
       "      <td>0.600384</td>\n",
       "    </tr>\n",
       "    <tr>\n",
       "      <th>10760</th>\n",
       "      <td>0.680459</td>\n",
       "      <td>0.680459</td>\n",
       "      <td>0.653208</td>\n",
       "      <td>0.645500</td>\n",
       "      <td>0.606150</td>\n",
       "      <td>0.681229</td>\n",
       "    </tr>\n",
       "    <tr>\n",
       "      <th>9176</th>\n",
       "      <td>0.557009</td>\n",
       "      <td>0.557009</td>\n",
       "      <td>0.555881</td>\n",
       "      <td>0.480000</td>\n",
       "      <td>0.565973</td>\n",
       "      <td>0.557034</td>\n",
       "    </tr>\n",
       "    <tr>\n",
       "      <th>12056</th>\n",
       "      <td>0.601623</td>\n",
       "      <td>0.601623</td>\n",
       "      <td>0.609426</td>\n",
       "      <td>0.598000</td>\n",
       "      <td>0.578286</td>\n",
       "      <td>0.601571</td>\n",
       "    </tr>\n",
       "    <tr>\n",
       "      <th>9109</th>\n",
       "      <td>0.674525</td>\n",
       "      <td>0.674525</td>\n",
       "      <td>0.651622</td>\n",
       "      <td>0.676333</td>\n",
       "      <td>0.603176</td>\n",
       "      <td>0.675216</td>\n",
       "    </tr>\n",
       "    <tr>\n",
       "      <th>8266</th>\n",
       "      <td>0.634532</td>\n",
       "      <td>0.634532</td>\n",
       "      <td>0.637389</td>\n",
       "      <td>0.612500</td>\n",
       "      <td>0.601265</td>\n",
       "      <td>0.634354</td>\n",
       "    </tr>\n",
       "    <tr>\n",
       "      <th>11898</th>\n",
       "      <td>0.564810</td>\n",
       "      <td>0.564810</td>\n",
       "      <td>0.575669</td>\n",
       "      <td>0.563000</td>\n",
       "      <td>0.576550</td>\n",
       "      <td>0.564404</td>\n",
       "    </tr>\n",
       "    <tr>\n",
       "      <th>10446</th>\n",
       "      <td>0.593402</td>\n",
       "      <td>0.593402</td>\n",
       "      <td>0.592596</td>\n",
       "      <td>0.589500</td>\n",
       "      <td>0.586742</td>\n",
       "      <td>0.593269</td>\n",
       "    </tr>\n",
       "    <tr>\n",
       "      <th>10790</th>\n",
       "      <td>0.569467</td>\n",
       "      <td>0.569467</td>\n",
       "      <td>0.586720</td>\n",
       "      <td>0.521000</td>\n",
       "      <td>0.600882</td>\n",
       "      <td>0.568406</td>\n",
       "    </tr>\n",
       "    <tr>\n",
       "      <th>10396</th>\n",
       "      <td>0.677691</td>\n",
       "      <td>0.677691</td>\n",
       "      <td>0.633444</td>\n",
       "      <td>0.679500</td>\n",
       "      <td>0.579203</td>\n",
       "      <td>0.679420</td>\n",
       "    </tr>\n",
       "    <tr>\n",
       "      <th>10680</th>\n",
       "      <td>0.625982</td>\n",
       "      <td>0.625982</td>\n",
       "      <td>0.614033</td>\n",
       "      <td>0.593000</td>\n",
       "      <td>0.577707</td>\n",
       "      <td>0.626587</td>\n",
       "    </tr>\n",
       "    <tr>\n",
       "      <th>7037</th>\n",
       "      <td>0.621858</td>\n",
       "      <td>0.621858</td>\n",
       "      <td>0.606478</td>\n",
       "      <td>0.623667</td>\n",
       "      <td>0.576743</td>\n",
       "      <td>0.622522</td>\n",
       "    </tr>\n",
       "    <tr>\n",
       "      <th>12080</th>\n",
       "      <td>0.637774</td>\n",
       "      <td>0.637774</td>\n",
       "      <td>0.631045</td>\n",
       "      <td>0.591000</td>\n",
       "      <td>0.583173</td>\n",
       "      <td>0.638246</td>\n",
       "    </tr>\n",
       "    <tr>\n",
       "      <th>10651</th>\n",
       "      <td>0.410005</td>\n",
       "      <td>0.410005</td>\n",
       "      <td>0.437360</td>\n",
       "      <td>0.410000</td>\n",
       "      <td>0.520727</td>\n",
       "      <td>0.409139</td>\n",
       "    </tr>\n",
       "    <tr>\n",
       "      <th>8927</th>\n",
       "      <td>0.621057</td>\n",
       "      <td>0.621057</td>\n",
       "      <td>0.615289</td>\n",
       "      <td>0.608667</td>\n",
       "      <td>0.577707</td>\n",
       "      <td>0.621485</td>\n",
       "    </tr>\n",
       "    <tr>\n",
       "      <th>5094</th>\n",
       "      <td>0.665191</td>\n",
       "      <td>0.665191</td>\n",
       "      <td>0.629571</td>\n",
       "      <td>0.667000</td>\n",
       "      <td>0.577321</td>\n",
       "      <td>0.666665</td>\n",
       "    </tr>\n",
       "    <tr>\n",
       "      <th>12176</th>\n",
       "      <td>0.645372</td>\n",
       "      <td>0.645372</td>\n",
       "      <td>0.635761</td>\n",
       "      <td>0.615000</td>\n",
       "      <td>0.595571</td>\n",
       "      <td>0.645691</td>\n",
       "    </tr>\n",
       "    <tr>\n",
       "      <th>11419</th>\n",
       "      <td>0.614190</td>\n",
       "      <td>0.614190</td>\n",
       "      <td>0.589738</td>\n",
       "      <td>0.616000</td>\n",
       "      <td>0.582573</td>\n",
       "      <td>0.614848</td>\n",
       "    </tr>\n",
       "    <tr>\n",
       "      <th>7479</th>\n",
       "      <td>0.624857</td>\n",
       "      <td>0.624857</td>\n",
       "      <td>0.607503</td>\n",
       "      <td>0.626667</td>\n",
       "      <td>0.576550</td>\n",
       "      <td>0.625595</td>\n",
       "    </tr>\n",
       "    <tr>\n",
       "      <th>3792</th>\n",
       "      <td>0.637712</td>\n",
       "      <td>0.637712</td>\n",
       "      <td>0.623731</td>\n",
       "      <td>0.660000</td>\n",
       "      <td>0.577321</td>\n",
       "      <td>0.638474</td>\n",
       "    </tr>\n",
       "    <tr>\n",
       "      <th>1289</th>\n",
       "      <td>0.610370</td>\n",
       "      <td>0.610370</td>\n",
       "      <td>0.614976</td>\n",
       "      <td>0.656500</td>\n",
       "      <td>0.576550</td>\n",
       "      <td>0.610505</td>\n",
       "    </tr>\n",
       "    <tr>\n",
       "      <th>10486</th>\n",
       "      <td>0.644468</td>\n",
       "      <td>0.644468</td>\n",
       "      <td>0.640846</td>\n",
       "      <td>0.612500</td>\n",
       "      <td>0.603645</td>\n",
       "      <td>0.644465</td>\n",
       "    </tr>\n",
       "    <tr>\n",
       "      <th>9169</th>\n",
       "      <td>0.607245</td>\n",
       "      <td>0.607245</td>\n",
       "      <td>0.597351</td>\n",
       "      <td>0.622667</td>\n",
       "      <td>0.587707</td>\n",
       "      <td>0.607409</td>\n",
       "    </tr>\n",
       "    <tr>\n",
       "      <th>3617</th>\n",
       "      <td>0.595311</td>\n",
       "      <td>0.595311</td>\n",
       "      <td>0.594248</td>\n",
       "      <td>0.593500</td>\n",
       "      <td>0.577900</td>\n",
       "      <td>0.595403</td>\n",
       "    </tr>\n",
       "    <tr>\n",
       "      <th>11792</th>\n",
       "      <td>0.579597</td>\n",
       "      <td>0.579597</td>\n",
       "      <td>0.597710</td>\n",
       "      <td>0.541000</td>\n",
       "      <td>0.576164</td>\n",
       "      <td>0.579175</td>\n",
       "    </tr>\n",
       "  </tbody>\n",
       "</table>\n",
       "<p>181 rows × 6 columns</p>\n",
       "</div>"
      ],
      "text/plain": [
       "       ElasticNet     Lasso     Ridge  RealValue       SVR  finalPredict\n",
       "ID                                                                      \n",
       "7044     0.614691  0.614691  0.601469   0.616500  0.576164      0.615258\n",
       "8518     0.708552  0.708552  0.683582   0.781750  0.627838      0.709026\n",
       "12160    0.636192  0.636192  0.616022   0.638000  0.577707      0.637065\n",
       "9227     0.578178  0.578178  0.572074   0.588000  0.583145      0.578105\n",
       "8997     0.592350  0.592350  0.587194   0.592333  0.584850      0.592344\n",
       "5031     0.592998  0.592998  0.592967   0.648000  0.583145      0.592927\n",
       "9826     0.651616  0.651616  0.635800   0.634500  0.584137      0.652386\n",
       "8578     0.687691  0.687691  0.645101   0.689500  0.589443      0.689239\n",
       "7004     0.581252  0.581252  0.583207   0.607000  0.576357      0.581189\n",
       "9947     0.681999  0.681999  0.673437   0.693000  0.620269      0.682056\n",
       "9035     0.481810  0.481810  0.536547   0.480000  0.577514      0.479694\n",
       "10883    0.657083  0.657083  0.664878   0.612500  0.618545      0.656604\n",
       "11876    0.596191  0.596191  0.578361   0.598000  0.581619      0.596567\n",
       "7031     0.590634  0.590634  0.591645   0.508000  0.586549      0.590441\n",
       "5737     0.649129  0.649129  0.628289   0.628500  0.579251      0.650097\n",
       "9559     0.658311  0.658311  0.645600   0.704667  0.604609      0.658605\n",
       "12137    0.674191  0.674191  0.636449   0.676000  0.578286      0.675770\n",
       "10342    0.624190  0.624190  0.607645   0.626000  0.576743      0.624900\n",
       "10399    0.541405  0.541405  0.557397   0.591000  0.577128      0.540666\n",
       "9160     0.588688  0.588688  0.584783   0.591000  0.582001      0.588688\n",
       "9535     0.638055  0.638055  0.624485   0.593000  0.578479      0.638785\n",
       "9478     0.503312  0.503312  0.545870   0.501500  0.576936      0.501664\n",
       "11557    0.659200  0.659200  0.635506   0.663000  0.579444      0.660315\n",
       "7016     0.648443  0.648443  0.631146   0.620000  0.586271      0.649168\n",
       "6822     0.635980  0.635980  0.620414   0.626333  0.576743      0.636774\n",
       "10466    0.561312  0.561312  0.562439   0.559500  0.582955      0.560937\n",
       "11347    0.461810  0.461810  0.525596   0.460000  0.560035      0.459722\n",
       "3804     0.596160  0.596160  0.593989   0.659000  0.576743      0.596310\n",
       "11719    0.569484  0.569484  0.577561   0.578000  0.576164      0.569188\n",
       "2523     0.589046  0.589046  0.588219   0.590000  0.576164      0.589117\n",
       "...           ...       ...       ...        ...       ...           ...\n",
       "5695     0.615145  0.615145  0.604640   0.613333  0.578093      0.615613\n",
       "8691     0.642837  0.642837  0.640242   0.683667  0.601838      0.642838\n",
       "10670    0.508770  0.508770  0.528210   0.460000  0.559861      0.508060\n",
       "9836     0.497310  0.497310  0.540969   0.495500  0.576164      0.495602\n",
       "10614    0.597691  0.597691  0.592968   0.599500  0.576164      0.597923\n",
       "4544     0.600240  0.600240  0.600673   0.632000  0.576164      0.600384\n",
       "10760    0.680459  0.680459  0.653208   0.645500  0.606150      0.681229\n",
       "9176     0.557009  0.557009  0.555881   0.480000  0.565973      0.557034\n",
       "12056    0.601623  0.601623  0.609426   0.598000  0.578286      0.601571\n",
       "9109     0.674525  0.674525  0.651622   0.676333  0.603176      0.675216\n",
       "8266     0.634532  0.634532  0.637389   0.612500  0.601265      0.634354\n",
       "11898    0.564810  0.564810  0.575669   0.563000  0.576550      0.564404\n",
       "10446    0.593402  0.593402  0.592596   0.589500  0.586742      0.593269\n",
       "10790    0.569467  0.569467  0.586720   0.521000  0.600882      0.568406\n",
       "10396    0.677691  0.677691  0.633444   0.679500  0.579203      0.679420\n",
       "10680    0.625982  0.625982  0.614033   0.593000  0.577707      0.626587\n",
       "7037     0.621858  0.621858  0.606478   0.623667  0.576743      0.622522\n",
       "12080    0.637774  0.637774  0.631045   0.591000  0.583173      0.638246\n",
       "10651    0.410005  0.410005  0.437360   0.410000  0.520727      0.409139\n",
       "8927     0.621057  0.621057  0.615289   0.608667  0.577707      0.621485\n",
       "5094     0.665191  0.665191  0.629571   0.667000  0.577321      0.666665\n",
       "12176    0.645372  0.645372  0.635761   0.615000  0.595571      0.645691\n",
       "11419    0.614190  0.614190  0.589738   0.616000  0.582573      0.614848\n",
       "7479     0.624857  0.624857  0.607503   0.626667  0.576550      0.625595\n",
       "3792     0.637712  0.637712  0.623731   0.660000  0.577321      0.638474\n",
       "1289     0.610370  0.610370  0.614976   0.656500  0.576550      0.610505\n",
       "10486    0.644468  0.644468  0.640846   0.612500  0.603645      0.644465\n",
       "9169     0.607245  0.607245  0.597351   0.622667  0.587707      0.607409\n",
       "3617     0.595311  0.595311  0.594248   0.593500  0.577900      0.595403\n",
       "11792    0.579597  0.579597  0.597710   0.541000  0.576164      0.579175\n",
       "\n",
       "[181 rows x 6 columns]"
      ]
     },
     "execution_count": 231,
     "metadata": {},
     "output_type": "execute_result"
    }
   ],
   "source": [
    "finalPred"
   ]
  },
  {
   "cell_type": "code",
   "execution_count": 232,
   "metadata": {},
   "outputs": [
    {
     "data": {
      "text/plain": [
       "6.6010010786396887"
      ]
     },
     "execution_count": 232,
     "metadata": {},
     "output_type": "execute_result"
    }
   ],
   "source": [
    "finalRMSE*100/psycoModel.dataset_bin.CGPA.mean()"
   ]
  },
  {
   "cell_type": "markdown",
   "metadata": {},
   "source": [
    "On remarque que notre ensemble methode sans modele avec SVM nous donne un score de 6% en valdiation croisé voyons combien il nous donnerasavec l'ensemble d'evaluation"
   ]
  },
  {
   "cell_type": "code",
   "execution_count": 233,
   "metadata": {
    "collapsed": true
   },
   "outputs": [],
   "source": [
    "predictionTest=psycoModel.predictTest()"
   ]
  },
  {
   "cell_type": "code",
   "execution_count": 234,
   "metadata": {},
   "outputs": [
    {
     "data": {
      "text/html": [
       "<div>\n",
       "<table border=\"1\" class=\"dataframe\">\n",
       "  <thead>\n",
       "    <tr style=\"text-align: right;\">\n",
       "      <th></th>\n",
       "      <th>ElasticNet</th>\n",
       "      <th>Lasso</th>\n",
       "      <th>LinearSVR</th>\n",
       "      <th>Ridge</th>\n",
       "      <th>SVR</th>\n",
       "      <th>RealValue</th>\n",
       "    </tr>\n",
       "    <tr>\n",
       "      <th>ID</th>\n",
       "      <th></th>\n",
       "      <th></th>\n",
       "      <th></th>\n",
       "      <th></th>\n",
       "      <th></th>\n",
       "      <th></th>\n",
       "    </tr>\n",
       "  </thead>\n",
       "  <tbody>\n",
       "    <tr>\n",
       "      <th>9149</th>\n",
       "      <td>0.546273</td>\n",
       "      <td>0.546273</td>\n",
       "      <td>0.541992</td>\n",
       "      <td>0.567743</td>\n",
       "      <td>0.576357</td>\n",
       "      <td>0.47</td>\n",
       "    </tr>\n",
       "  </tbody>\n",
       "</table>\n",
       "</div>"
      ],
      "text/plain": [
       "      ElasticNet     Lasso  LinearSVR     Ridge       SVR  RealValue\n",
       "ID                                                                  \n",
       "9149    0.546273  0.546273   0.541992  0.567743  0.576357       0.47"
      ]
     },
     "execution_count": 234,
     "metadata": {},
     "output_type": "execute_result"
    }
   ],
   "source": [
    "predictionTest.head(1)"
   ]
  },
  {
   "cell_type": "code",
   "execution_count": 235,
   "metadata": {
    "collapsed": true
   },
   "outputs": [],
   "source": [
    "finalPredictTes,rmseFinalTest=ensembelMethods(self=droitModel,predictedValues=predictionTest[[u'ElasticNet', u'Lasso', u'Ridge',  u'RealValue']])"
   ]
  },
  {
   "cell_type": "code",
   "execution_count": 236,
   "metadata": {
    "scrolled": true
   },
   "outputs": [
    {
     "data": {
      "text/plain": [
       "10.564151678218369"
      ]
     },
     "execution_count": 236,
     "metadata": {},
     "output_type": "execute_result"
    }
   ],
   "source": [
    "rmseFinalTest*100/psycoModel.Y_train.mean()"
   ]
  },
  {
   "cell_type": "markdown",
   "metadata": {},
   "source": [
    "Nous avons un resulat de 10.5 % sur notre ensemble d'evaluation wouhhhhh........"
   ]
  },
  {
   "cell_type": "markdown",
   "metadata": {
    "collapsed": true
   },
   "source": [
    " 10.56"
   ]
  },
  {
   "cell_type": "markdown",
   "metadata": {},
   "source": [
    "Efin atterisson avec la afaculté de theologie"
   ]
  },
  {
   "cell_type": "markdown",
   "metadata": {},
   "source": [
    "##### 3. Facuté de Theologie"
   ]
  },
  {
   "cell_type": "code",
   "execution_count": 93,
   "metadata": {
    "collapsed": true
   },
   "outputs": [],
   "source": [
    "teologie=datasetCGPA.loc[datasetCGPA.FAC=='FT']"
   ]
  },
  {
   "cell_type": "code",
   "execution_count": 239,
   "metadata": {},
   "outputs": [
    {
     "data": {
      "text/plain": [
       "(140, 8)"
      ]
     },
     "execution_count": 239,
     "metadata": {},
     "output_type": "execute_result"
    }
   ],
   "source": [
    "teologie.shape"
   ]
  },
  {
   "cell_type": "code",
   "execution_count": 238,
   "metadata": {
    "scrolled": true
   },
   "outputs": [
    {
     "data": {
      "text/html": [
       "<div>\n",
       "<table border=\"1\" class=\"dataframe\">\n",
       "  <thead>\n",
       "    <tr style=\"text-align: right;\">\n",
       "      <th></th>\n",
       "      <th>DIPPERC</th>\n",
       "      <th>SCHOOL_RIGHT</th>\n",
       "      <th>OPTION_RIGHT</th>\n",
       "      <th>FAC</th>\n",
       "      <th>CGPA</th>\n",
       "      <th>DistinctionRatio</th>\n",
       "      <th>EchecRatio</th>\n",
       "      <th>Pass1stSessionRatio</th>\n",
       "    </tr>\n",
       "    <tr>\n",
       "      <th>ID</th>\n",
       "      <th></th>\n",
       "      <th></th>\n",
       "      <th></th>\n",
       "      <th></th>\n",
       "      <th></th>\n",
       "      <th></th>\n",
       "      <th></th>\n",
       "      <th></th>\n",
       "    </tr>\n",
       "  </thead>\n",
       "  <tbody>\n",
       "    <tr>\n",
       "      <th>8692</th>\n",
       "      <td>52.0</td>\n",
       "      <td>mululusake</td>\n",
       "      <td>pedagogie</td>\n",
       "      <td>FT</td>\n",
       "      <td>59.933333</td>\n",
       "      <td>G</td>\n",
       "      <td>G</td>\n",
       "      <td>G</td>\n",
       "    </tr>\n",
       "    <tr>\n",
       "      <th>3651</th>\n",
       "      <td>58.0</td>\n",
       "      <td>ibanda</td>\n",
       "      <td>commmerciale et adm</td>\n",
       "      <td>FT</td>\n",
       "      <td>63.400002</td>\n",
       "      <td>G</td>\n",
       "      <td>G</td>\n",
       "      <td>G</td>\n",
       "    </tr>\n",
       "    <tr>\n",
       "      <th>11729</th>\n",
       "      <td>60.0</td>\n",
       "      <td>butembo</td>\n",
       "      <td>sociale</td>\n",
       "      <td>FT</td>\n",
       "      <td>64.400002</td>\n",
       "      <td>G</td>\n",
       "      <td>G</td>\n",
       "      <td>G</td>\n",
       "    </tr>\n",
       "    <tr>\n",
       "      <th>7512</th>\n",
       "      <td>52.0</td>\n",
       "      <td>ndosho</td>\n",
       "      <td>pedagogie</td>\n",
       "      <td>FT</td>\n",
       "      <td>66.875000</td>\n",
       "      <td>F</td>\n",
       "      <td>G</td>\n",
       "      <td>B</td>\n",
       "    </tr>\n",
       "    <tr>\n",
       "      <th>10686</th>\n",
       "      <td>52.0</td>\n",
       "      <td>ndosho</td>\n",
       "      <td>pedagogie</td>\n",
       "      <td>FT</td>\n",
       "      <td>57.100000</td>\n",
       "      <td>G</td>\n",
       "      <td>G</td>\n",
       "      <td>G</td>\n",
       "    </tr>\n",
       "  </tbody>\n",
       "</table>\n",
       "</div>"
      ],
      "text/plain": [
       "       DIPPERC SCHOOL_RIGHT         OPTION_RIGHT FAC       CGPA  \\\n",
       "ID                                                                \n",
       "8692      52.0   mululusake            pedagogie  FT  59.933333   \n",
       "3651      58.0       ibanda  commmerciale et adm  FT  63.400002   \n",
       "11729     60.0      butembo              sociale  FT  64.400002   \n",
       "7512      52.0       ndosho            pedagogie  FT  66.875000   \n",
       "10686     52.0       ndosho            pedagogie  FT  57.100000   \n",
       "\n",
       "      DistinctionRatio EchecRatio Pass1stSessionRatio  \n",
       "ID                                                     \n",
       "8692                 G          G                   G  \n",
       "3651                 G          G                   G  \n",
       "11729                G          G                   G  \n",
       "7512                 F          G                   B  \n",
       "10686                G          G                   G  "
      ]
     },
     "execution_count": 238,
     "metadata": {},
     "output_type": "execute_result"
    }
   ],
   "source": [
    "teologie.head(5)"
   ]
  },
  {
   "cell_type": "code",
   "execution_count": 95,
   "metadata": {
    "scrolled": true
   },
   "outputs": [
    {
     "data": {
      "text/plain": [
       "G    119\n",
       "A     14\n",
       "E      7\n",
       "Name: EchecRatio, dtype: int64"
      ]
     },
     "execution_count": 95,
     "metadata": {},
     "output_type": "execute_result"
    }
   ],
   "source": [
    "teologie.EchecRatio.value_counts()"
   ]
  },
  {
   "cell_type": "code",
   "execution_count": 94,
   "metadata": {
    "scrolled": true
   },
   "outputs": [
    {
     "name": "stderr",
     "output_type": "stream",
     "text": [
      "/Users/espyMur/Desktop/Memory-WorkingDir/memoryVenv/lib/python2.7/site-packages/ipykernel_launcher.py:1: SettingWithCopyWarning: \n",
      "A value is trying to be set on a copy of a slice from a DataFrame\n",
      "\n",
      "See the caveats in the documentation: http://pandas.pydata.org/pandas-docs/stable/indexing.html#indexing-view-versus-copy\n",
      "  \"\"\"Entry point for launching an IPython kernel.\n"
     ]
    }
   ],
   "source": [
    "teologie.EchecRatio.loc[teologie.EchecRatio.isin(['E','D','F'])]='E'"
   ]
  },
  {
   "cell_type": "code",
   "execution_count": 96,
   "metadata": {
    "collapsed": true,
    "scrolled": true
   },
   "outputs": [],
   "source": [
    "teologieModel=PredictiveModelByilding(dataset=teologie,encoderFunction=ConvertCat)"
   ]
  },
  {
   "cell_type": "code",
   "execution_count": 97,
   "metadata": {
    "collapsed": true,
    "scrolled": true
   },
   "outputs": [],
   "source": [
    "teologieModel.scale(['DIPPERC','CGPA'])"
   ]
  },
  {
   "cell_type": "code",
   "execution_count": 98,
   "metadata": {
    "collapsed": true,
    "scrolled": false
   },
   "outputs": [],
   "source": [
    "trainDes,tesDes=teologieModel.split()"
   ]
  },
  {
   "cell_type": "code",
   "execution_count": 248,
   "metadata": {
    "scrolled": false
   },
   "outputs": [
    {
     "data": {
      "text/html": [
       "<div>\n",
       "<table border=\"1\" class=\"dataframe\">\n",
       "  <thead>\n",
       "    <tr style=\"text-align: right;\">\n",
       "      <th></th>\n",
       "      <th>DIPPERC</th>\n",
       "      <th>CGPA</th>\n",
       "    </tr>\n",
       "  </thead>\n",
       "  <tbody>\n",
       "    <tr>\n",
       "      <th>count</th>\n",
       "      <td>112.000000</td>\n",
       "      <td>112.000000</td>\n",
       "    </tr>\n",
       "    <tr>\n",
       "      <th>mean</th>\n",
       "      <td>0.537500</td>\n",
       "      <td>0.618471</td>\n",
       "    </tr>\n",
       "    <tr>\n",
       "      <th>std</th>\n",
       "      <td>0.039421</td>\n",
       "      <td>0.062725</td>\n",
       "    </tr>\n",
       "    <tr>\n",
       "      <th>min</th>\n",
       "      <td>0.500000</td>\n",
       "      <td>0.410000</td>\n",
       "    </tr>\n",
       "    <tr>\n",
       "      <th>25%</th>\n",
       "      <td>0.510000</td>\n",
       "      <td>0.591500</td>\n",
       "    </tr>\n",
       "    <tr>\n",
       "      <th>50%</th>\n",
       "      <td>0.520000</td>\n",
       "      <td>0.620500</td>\n",
       "    </tr>\n",
       "    <tr>\n",
       "      <th>75%</th>\n",
       "      <td>0.552500</td>\n",
       "      <td>0.660000</td>\n",
       "    </tr>\n",
       "    <tr>\n",
       "      <th>max</th>\n",
       "      <td>0.650000</td>\n",
       "      <td>0.732500</td>\n",
       "    </tr>\n",
       "  </tbody>\n",
       "</table>\n",
       "</div>"
      ],
      "text/plain": [
       "          DIPPERC        CGPA\n",
       "count  112.000000  112.000000\n",
       "mean     0.537500    0.618471\n",
       "std      0.039421    0.062725\n",
       "min      0.500000    0.410000\n",
       "25%      0.510000    0.591500\n",
       "50%      0.520000    0.620500\n",
       "75%      0.552500    0.660000\n",
       "max      0.650000    0.732500"
      ]
     },
     "execution_count": 248,
     "metadata": {},
     "output_type": "execute_result"
    }
   ],
   "source": [
    "trainDes"
   ]
  },
  {
   "cell_type": "code",
   "execution_count": 249,
   "metadata": {
    "scrolled": false
   },
   "outputs": [
    {
     "data": {
      "text/html": [
       "<div>\n",
       "<table border=\"1\" class=\"dataframe\">\n",
       "  <thead>\n",
       "    <tr style=\"text-align: right;\">\n",
       "      <th></th>\n",
       "      <th>DIPPERC</th>\n",
       "      <th>CGPA</th>\n",
       "    </tr>\n",
       "  </thead>\n",
       "  <tbody>\n",
       "    <tr>\n",
       "      <th>count</th>\n",
       "      <td>28.000000</td>\n",
       "      <td>28.000000</td>\n",
       "    </tr>\n",
       "    <tr>\n",
       "      <th>mean</th>\n",
       "      <td>0.540714</td>\n",
       "      <td>0.626101</td>\n",
       "    </tr>\n",
       "    <tr>\n",
       "      <th>std</th>\n",
       "      <td>0.043879</td>\n",
       "      <td>0.061257</td>\n",
       "    </tr>\n",
       "    <tr>\n",
       "      <th>min</th>\n",
       "      <td>0.500000</td>\n",
       "      <td>0.430000</td>\n",
       "    </tr>\n",
       "    <tr>\n",
       "      <th>25%</th>\n",
       "      <td>0.510000</td>\n",
       "      <td>0.606500</td>\n",
       "    </tr>\n",
       "    <tr>\n",
       "      <th>50%</th>\n",
       "      <td>0.520000</td>\n",
       "      <td>0.633500</td>\n",
       "    </tr>\n",
       "    <tr>\n",
       "      <th>75%</th>\n",
       "      <td>0.570000</td>\n",
       "      <td>0.654250</td>\n",
       "    </tr>\n",
       "    <tr>\n",
       "      <th>max</th>\n",
       "      <td>0.690000</td>\n",
       "      <td>0.734000</td>\n",
       "    </tr>\n",
       "  </tbody>\n",
       "</table>\n",
       "</div>"
      ],
      "text/plain": [
       "         DIPPERC       CGPA\n",
       "count  28.000000  28.000000\n",
       "mean    0.540714   0.626101\n",
       "std     0.043879   0.061257\n",
       "min     0.500000   0.430000\n",
       "25%     0.510000   0.606500\n",
       "50%     0.520000   0.633500\n",
       "75%     0.570000   0.654250\n",
       "max     0.690000   0.734000"
      ]
     },
     "execution_count": 249,
     "metadata": {},
     "output_type": "execute_result"
    }
   ],
   "source": [
    "tesDes"
   ]
  },
  {
   "cell_type": "code",
   "execution_count": 99,
   "metadata": {},
   "outputs": [
    {
     "name": "stdout",
     "output_type": "stream",
     "text": [
      "[LibSVM]"
     ]
    }
   ],
   "source": [
    "predictedValues=teologieModel.train()"
   ]
  },
  {
   "cell_type": "code",
   "execution_count": 100,
   "metadata": {
    "scrolled": false
   },
   "outputs": [
    {
     "data": {
      "text/html": [
       "<div>\n",
       "<table border=\"1\" class=\"dataframe\">\n",
       "  <thead>\n",
       "    <tr style=\"text-align: right;\">\n",
       "      <th></th>\n",
       "      <th>ElasticNet</th>\n",
       "      <th>Lasso</th>\n",
       "      <th>LinearSVR</th>\n",
       "      <th>Ridge</th>\n",
       "      <th>SVR</th>\n",
       "      <th>RealValue</th>\n",
       "    </tr>\n",
       "    <tr>\n",
       "      <th>ID</th>\n",
       "      <th></th>\n",
       "      <th></th>\n",
       "      <th></th>\n",
       "      <th></th>\n",
       "      <th></th>\n",
       "      <th></th>\n",
       "    </tr>\n",
       "  </thead>\n",
       "  <tbody>\n",
       "    <tr>\n",
       "      <th>10903</th>\n",
       "      <td>0.590577</td>\n",
       "      <td>0.591120</td>\n",
       "      <td>0.592910</td>\n",
       "      <td>0.598864</td>\n",
       "      <td>0.578060</td>\n",
       "      <td>0.590000</td>\n",
       "    </tr>\n",
       "    <tr>\n",
       "      <th>12230</th>\n",
       "      <td>0.490617</td>\n",
       "      <td>0.491120</td>\n",
       "      <td>0.497404</td>\n",
       "      <td>0.546722</td>\n",
       "      <td>0.590417</td>\n",
       "      <td>0.490000</td>\n",
       "    </tr>\n",
       "    <tr>\n",
       "      <th>8319</th>\n",
       "      <td>0.622924</td>\n",
       "      <td>0.622738</td>\n",
       "      <td>0.598529</td>\n",
       "      <td>0.618800</td>\n",
       "      <td>0.577988</td>\n",
       "      <td>0.604667</td>\n",
       "    </tr>\n",
       "    <tr>\n",
       "      <th>8692</th>\n",
       "      <td>0.599905</td>\n",
       "      <td>0.600453</td>\n",
       "      <td>0.594256</td>\n",
       "      <td>0.603376</td>\n",
       "      <td>0.578024</td>\n",
       "      <td>0.599333</td>\n",
       "    </tr>\n",
       "    <tr>\n",
       "      <th>11528</th>\n",
       "      <td>0.678408</td>\n",
       "      <td>0.677881</td>\n",
       "      <td>0.654850</td>\n",
       "      <td>0.643442</td>\n",
       "      <td>0.579455</td>\n",
       "      <td>0.679000</td>\n",
       "    </tr>\n",
       "  </tbody>\n",
       "</table>\n",
       "</div>"
      ],
      "text/plain": [
       "       ElasticNet     Lasso  LinearSVR     Ridge       SVR  RealValue\n",
       "ID                                                                   \n",
       "10903    0.590577  0.591120   0.592910  0.598864  0.578060   0.590000\n",
       "12230    0.490617  0.491120   0.497404  0.546722  0.590417   0.490000\n",
       "8319     0.622924  0.622738   0.598529  0.618800  0.577988   0.604667\n",
       "8692     0.599905  0.600453   0.594256  0.603376  0.578024   0.599333\n",
       "11528    0.678408  0.677881   0.654850  0.643442  0.579455   0.679000"
      ]
     },
     "execution_count": 100,
     "metadata": {},
     "output_type": "execute_result"
    }
   ],
   "source": [
    "predictedValues.head(5)"
   ]
  },
  {
   "cell_type": "code",
   "execution_count": 103,
   "metadata": {
    "scrolled": true
   },
   "outputs": [
    {
     "name": "stdout",
     "output_type": "stream",
     "text": [
      "('Predictions:\\t', array([ 0.59057674,  0.49061699,  0.62292402,  0.59990485,  0.67840783]))\n",
      "('Labels:\\t\\t', [0.58999999999999997, 0.48999999999999999, 0.60466667175299993, 0.59933333078999995, 0.679000015259])\n",
      "('Predictions:\\t', array([ 0.57805965,  0.59041739,  0.57798846,  0.57802397,  0.57945513]))\n",
      "('Labels:\\t\\t', [0.58999999999999997, 0.48999999999999999, 0.60466667175299993, 0.59933333078999995, 0.679000015259])\n",
      "('Predictions:\\t', array([ 0.59291044,  0.4974042 ,  0.59852884,  0.59425624,  0.65484953]))\n",
      "('Labels:\\t\\t', [0.58999999999999997, 0.48999999999999999, 0.60466667175299993, 0.59933333078999995, 0.679000015259])\n",
      "('Predictions:\\t', array([ 0.59886449,  0.54672224,  0.61879951,  0.6033758 ,  0.64344218]))\n",
      "('Labels:\\t\\t', [0.58999999999999997, 0.48999999999999999, 0.60466667175299993, 0.59933333078999995, 0.679000015259])\n",
      "('Predictions:\\t', array([ 0.59112026,  0.49112036,  0.62273807,  0.60045348,  0.67788066]))\n",
      "('Labels:\\t\\t', [0.58999999999999997, 0.48999999999999999, 0.60466667175299993, 0.59933333078999995, 0.679000015259])\n"
     ]
    }
   ],
   "source": [
    "RMSE={}\n",
    "for reg in teologieModel.predictiveModels.keys():\n",
    "    rmse=teologieModel.evaluate(model=reg,on='train') #RMSE of each model\n",
    "    RMSE[reg]=[rmse,rmse*100/teologieModel.dataset_bin.CGPA.mean()]"
   ]
  },
  {
   "cell_type": "code",
   "execution_count": 104,
   "metadata": {
    "scrolled": true
   },
   "outputs": [
    {
     "data": {
      "text/plain": [
       "{'ElasticNet': [0.033030139039615068, 5.3274673347465784],\n",
       " 'Lasso': [0.033044219538058778, 5.3297383937762071],\n",
       " 'LinearSVR': [0.041773813098895503, 6.7377441089563179],\n",
       " 'Ridge': [0.040647315585278128, 6.5560500900703547],\n",
       " 'SVR': [0.064972754711870487, 10.479526833382224]}"
      ]
     },
     "execution_count": 104,
     "metadata": {},
     "output_type": "execute_result"
    }
   ],
   "source": [
    "RMSE"
   ]
  },
  {
   "cell_type": "markdown",
   "metadata": {},
   "source": [
    "on remarque aisement que les valeurs predites par differents regressons disposent d'une bonne exacitude"
   ]
  },
  {
   "cell_type": "code",
   "execution_count": 105,
   "metadata": {},
   "outputs": [
    {
     "name": "stdout",
     "output_type": "stream",
     "text": [
      "[LibSVM][LibSVM][LibSVM][LibSVM][LibSVM][LibSVM][LibSVM][LibSVM][LibSVM][LibSVM]"
     ]
    }
   ],
   "source": [
    "CVScore={}\n",
    "for reg in teologieModel.predictiveModels.keys():\n",
    "    scores,Sstd,Smean=teologieModel.crossEvaluate(model=reg) #RMSE of each model\n",
    "    CVScore[reg]=[Smean,Smean*100/teologieModel.dataset_bin.CGPA.mean(),Sstd]"
   ]
  },
  {
   "cell_type": "code",
   "execution_count": 106,
   "metadata": {
    "collapsed": true
   },
   "outputs": [
    {
     "data": {
      "text/plain": [
       "{'ElasticNet': [0.077063249532144065,\n",
       "  12.429615997060198,\n",
       "  0.021473799986856463],\n",
       " 'Lasso': [0.07673273875100918, 12.376307550850939, 0.021654585959023746],\n",
       " 'LinearSVR': [0.085889507994066028, 13.853212900104536, 0.015968731483475579],\n",
       " 'Ridge': [0.064720986752121498, 10.438918903155535, 0.019820937006498097],\n",
       " 'SVR': [0.067846434412392451, 10.943025782529654, 0.013916433505527667]}"
      ]
     },
     "execution_count": 106,
     "metadata": {},
     "output_type": "execute_result"
    }
   ],
   "source": [
    "CVScore"
   ]
  },
  {
   "cell_type": "markdown",
   "metadata": {},
   "source": [
    "Aussi on peut remarquer les methodes lineaires disposent des meilleurs resulats"
   ]
  },
  {
   "cell_type": "code",
   "execution_count": 117,
   "metadata": {
    "scrolled": true
   },
   "outputs": [
    {
     "name": "stdout",
     "output_type": "stream",
     "text": [
      "('Predictions:\\t', array([ 0.62755466,  0.62039939,  0.62039939,  0.62039939,  0.58957758]))\n",
      "('Labels:\\t\\t', [0.70250000000000001, 0.59499999999999997, 0.62099998474099993, 0.64533331553099993, 0.58999999999999997])\n",
      "('Predictions:\\t', array([ 0.57811348,  0.57813151,  0.57805965,  0.57805965,  0.57800619]))\n",
      "('Labels:\\t\\t', [0.70250000000000001, 0.59499999999999997, 0.62099998474099993, 0.64533331553099993, 0.58999999999999997])\n",
      "('Predictions:\\t', array([ 0.6513134 ,  0.62833404,  0.59875626,  0.59875626,  0.56511077]))\n",
      "('Labels:\\t\\t', [0.70250000000000001, 0.59499999999999997, 0.62099998474099993, 0.64533331553099993, 0.58999999999999997])\n",
      "('Predictions:\\t', array([ 0.62622815,  0.60835042,  0.60772898,  0.60772898,  0.59782074]))\n",
      "('Labels:\\t\\t', [0.70250000000000001, 0.59499999999999997, 0.62099998474099993, 0.64533331553099993, 0.58999999999999997])\n",
      "('Predictions:\\t', array([ 0.62743484,  0.62079283,  0.62079283,  0.62079283,  0.59012064]))\n",
      "('Labels:\\t\\t', [0.70250000000000001, 0.59499999999999997, 0.62099998474099993, 0.64533331553099993, 0.58999999999999997])\n"
     ]
    }
   ],
   "source": [
    "RMSE={}\n",
    "for reg in teologieModel.predictiveModels.keys():\n",
    "    rmse=teologieModel.evaluate(model=reg,on='test') #RMSE of each model\n",
    "    RMSE[reg]=[rmse,rmse*100/teologieModel.dataset_bin.CGPA.mean()]"
   ]
  },
  {
   "cell_type": "code",
   "execution_count": 118,
   "metadata": {
    "scrolled": true
   },
   "outputs": [
    {
     "data": {
      "text/plain": [
       "{'ElasticNet': [0.068947746628582329, 11.120657637184339],\n",
       " 'Lasso': [0.0689052663800028, 11.113805951322286],\n",
       " 'LinearSVR': [0.086873511363432174, 14.01192388225606],\n",
       " 'Ridge': [0.062732357638262903, 10.118170733361238],\n",
       " 'SVR': [0.074887757113489439, 12.078728439987826]}"
      ]
     },
     "execution_count": 118,
     "metadata": {},
     "output_type": "execute_result"
    }
   ],
   "source": [
    "RMSE"
   ]
  },
  {
   "cell_type": "code",
   "execution_count": 167,
   "metadata": {
    "scrolled": true
   },
   "outputs": [
    {
     "data": {
      "text/plain": [
       "Index([u'ElasticNet', u'Lasso', u'LinearSVR', u'Ridge', u'SVR', u'RealValue'], dtype='object')"
      ]
     },
     "execution_count": 167,
     "metadata": {},
     "output_type": "execute_result"
    }
   ],
   "source": [
    "predictedValues.columns"
   ]
  },
  {
   "cell_type": "code",
   "execution_count": 109,
   "metadata": {
    "collapsed": true,
    "scrolled": false
   },
   "outputs": [],
   "source": [
    "finalPred,finalRMSE=teologieModel.ensembelMethods(predictedValues=predictedValues[[u'ElasticNet', u'Lasso', u'Ridge',  u'RealValue']])"
   ]
  },
  {
   "cell_type": "code",
   "execution_count": 110,
   "metadata": {
    "scrolled": true
   },
   "outputs": [
    {
     "data": {
      "text/html": [
       "<div>\n",
       "<table border=\"1\" class=\"dataframe\">\n",
       "  <thead>\n",
       "    <tr style=\"text-align: right;\">\n",
       "      <th></th>\n",
       "      <th>ElasticNet</th>\n",
       "      <th>Lasso</th>\n",
       "      <th>Ridge</th>\n",
       "      <th>RealValue</th>\n",
       "      <th>finalPredict</th>\n",
       "    </tr>\n",
       "    <tr>\n",
       "      <th>ID</th>\n",
       "      <th></th>\n",
       "      <th></th>\n",
       "      <th></th>\n",
       "      <th></th>\n",
       "      <th></th>\n",
       "    </tr>\n",
       "  </thead>\n",
       "  <tbody>\n",
       "    <tr>\n",
       "      <th>10903</th>\n",
       "      <td>0.590577</td>\n",
       "      <td>0.591120</td>\n",
       "      <td>0.598864</td>\n",
       "      <td>0.590000</td>\n",
       "      <td>0.589999</td>\n",
       "    </tr>\n",
       "    <tr>\n",
       "      <th>12230</th>\n",
       "      <td>0.490617</td>\n",
       "      <td>0.491120</td>\n",
       "      <td>0.546722</td>\n",
       "      <td>0.490000</td>\n",
       "      <td>0.489983</td>\n",
       "    </tr>\n",
       "    <tr>\n",
       "      <th>8319</th>\n",
       "      <td>0.622924</td>\n",
       "      <td>0.622738</td>\n",
       "      <td>0.618800</td>\n",
       "      <td>0.604667</td>\n",
       "      <td>0.623132</td>\n",
       "    </tr>\n",
       "    <tr>\n",
       "      <th>8692</th>\n",
       "      <td>0.599905</td>\n",
       "      <td>0.600453</td>\n",
       "      <td>0.603376</td>\n",
       "      <td>0.599333</td>\n",
       "      <td>0.599332</td>\n",
       "    </tr>\n",
       "    <tr>\n",
       "      <th>11528</th>\n",
       "      <td>0.678408</td>\n",
       "      <td>0.677881</td>\n",
       "      <td>0.643442</td>\n",
       "      <td>0.679000</td>\n",
       "      <td>0.679047</td>\n",
       "    </tr>\n",
       "  </tbody>\n",
       "</table>\n",
       "</div>"
      ],
      "text/plain": [
       "       ElasticNet     Lasso     Ridge  RealValue  finalPredict\n",
       "ID                                                            \n",
       "10903    0.590577  0.591120  0.598864   0.590000      0.589999\n",
       "12230    0.490617  0.491120  0.546722   0.490000      0.489983\n",
       "8319     0.622924  0.622738  0.618800   0.604667      0.623132\n",
       "8692     0.599905  0.600453  0.603376   0.599333      0.599332\n",
       "11528    0.678408  0.677881  0.643442   0.679000      0.679047"
      ]
     },
     "execution_count": 110,
     "metadata": {},
     "output_type": "execute_result"
    }
   ],
   "source": [
    "finalPred.head(5)"
   ]
  },
  {
   "cell_type": "code",
   "execution_count": 111,
   "metadata": {},
   "outputs": [
    {
     "data": {
      "text/plain": [
       "5.3265910406616088"
      ]
     },
     "execution_count": 111,
     "metadata": {},
     "output_type": "execute_result"
    }
   ],
   "source": [
    "finalRMSE*100/teologieModel.dataset_bin.CGPA.mean()"
   ]
  },
  {
   "cell_type": "markdown",
   "metadata": {},
   "source": [
    "On remarque que notre ensemble methode sans modele avec SVM nous donne un score de R% en valdiation croisé voyons combien il nous donnerasavec l'ensemble d'evaluation"
   ]
  },
  {
   "cell_type": "code",
   "execution_count": 112,
   "metadata": {
    "collapsed": true
   },
   "outputs": [],
   "source": [
    "predictionTest=teologieModel.predictTest()"
   ]
  },
  {
   "cell_type": "code",
   "execution_count": 113,
   "metadata": {
    "scrolled": true
   },
   "outputs": [
    {
     "data": {
      "text/html": [
       "<div>\n",
       "<table border=\"1\" class=\"dataframe\">\n",
       "  <thead>\n",
       "    <tr style=\"text-align: right;\">\n",
       "      <th></th>\n",
       "      <th>ElasticNet</th>\n",
       "      <th>Lasso</th>\n",
       "      <th>LinearSVR</th>\n",
       "      <th>Ridge</th>\n",
       "      <th>SVR</th>\n",
       "      <th>RealValue</th>\n",
       "    </tr>\n",
       "    <tr>\n",
       "      <th>ID</th>\n",
       "      <th></th>\n",
       "      <th></th>\n",
       "      <th></th>\n",
       "      <th></th>\n",
       "      <th></th>\n",
       "      <th></th>\n",
       "    </tr>\n",
       "  </thead>\n",
       "  <tbody>\n",
       "    <tr>\n",
       "      <th>6887</th>\n",
       "      <td>0.627555</td>\n",
       "      <td>0.627435</td>\n",
       "      <td>0.651313</td>\n",
       "      <td>0.626228</td>\n",
       "      <td>0.578113</td>\n",
       "      <td>0.7025</td>\n",
       "    </tr>\n",
       "  </tbody>\n",
       "</table>\n",
       "</div>"
      ],
      "text/plain": [
       "      ElasticNet     Lasso  LinearSVR     Ridge       SVR  RealValue\n",
       "ID                                                                  \n",
       "6887    0.627555  0.627435   0.651313  0.626228  0.578113     0.7025"
      ]
     },
     "execution_count": 113,
     "metadata": {},
     "output_type": "execute_result"
    }
   ],
   "source": [
    "predictionTest.head(1)"
   ]
  },
  {
   "cell_type": "code",
   "execution_count": 115,
   "metadata": {
    "collapsed": true
   },
   "outputs": [],
   "source": [
    "finalPredictTes,rmseFinalTest=teologieModel.ensembelMethods(predictedValues=predictionTest[[u'ElasticNet', u'Lasso', u'Ridge',  u'RealValue']])"
   ]
  },
  {
   "cell_type": "code",
   "execution_count": 116,
   "metadata": {
    "scrolled": true
   },
   "outputs": [
    {
     "data": {
      "text/plain": [
       "9.0930863089146161"
      ]
     },
     "execution_count": 116,
     "metadata": {},
     "output_type": "execute_result"
    }
   ],
   "source": [
    "rmseFinalTest*100/teologieModel.Y_test.mean()"
   ]
  },
  {
   "cell_type": "markdown",
   "metadata": {},
   "source": [
    "Nous avons un resulat de 10.11 % sur notre ensemble d'evaluation wouhhhhh........"
   ]
  },
  {
   "cell_type": "markdown",
   "metadata": {
    "collapsed": true
   },
   "source": [
    " 10.56"
   ]
  },
  {
   "cell_type": "code",
   "execution_count": 121,
   "metadata": {
    "collapsed": true,
    "scrolled": true
   },
   "outputs": [],
   "source": [
    "teologieModel.saveModels(departement='Theologie')\n",
    "#droitModel.saveModels(departement='Droit')\n",
    "#santeModel.saveModels(departement='Sante')\n",
    "psycoModel.saveModels(departement='Psycologie')"
   ]
  },
  {
   "cell_type": "markdown",
   "metadata": {},
   "source": [
    "Passons encore à la Faculté de De Medecine"
   ]
  },
  {
   "cell_type": "markdown",
   "metadata": {},
   "source": [
    "##### Faculté de Medecine"
   ]
  },
  {
   "cell_type": "code",
   "execution_count": 262,
   "metadata": {
    "collapsed": true
   },
   "outputs": [],
   "source": [
    "medecine=datasetCGPA.loc[datasetCGPA.FAC=='FM']"
   ]
  },
  {
   "cell_type": "code",
   "execution_count": 7,
   "metadata": {
    "scrolled": true
   },
   "outputs": [
    {
     "data": {
      "text/plain": [
       "(242, 8)"
      ]
     },
     "execution_count": 7,
     "metadata": {},
     "output_type": "execute_result"
    }
   ],
   "source": [
    "medecine.shape"
   ]
  },
  {
   "cell_type": "code",
   "execution_count": 8,
   "metadata": {
    "scrolled": true
   },
   "outputs": [
    {
     "data": {
      "text/html": [
       "<div>\n",
       "<table border=\"1\" class=\"dataframe\">\n",
       "  <thead>\n",
       "    <tr style=\"text-align: right;\">\n",
       "      <th></th>\n",
       "      <th>DIPPERC</th>\n",
       "      <th>SCHOOL_RIGHT</th>\n",
       "      <th>OPTION_RIGHT</th>\n",
       "      <th>FAC</th>\n",
       "      <th>CGPA</th>\n",
       "      <th>DistinctionRatio</th>\n",
       "      <th>EchecRatio</th>\n",
       "      <th>Pass1stSessionRatio</th>\n",
       "    </tr>\n",
       "    <tr>\n",
       "      <th>ID</th>\n",
       "      <th></th>\n",
       "      <th></th>\n",
       "      <th></th>\n",
       "      <th></th>\n",
       "      <th></th>\n",
       "      <th></th>\n",
       "      <th></th>\n",
       "      <th></th>\n",
       "    </tr>\n",
       "  </thead>\n",
       "  <tbody>\n",
       "    <tr>\n",
       "      <th>10384</th>\n",
       "      <td>59.000000</td>\n",
       "      <td>zanner</td>\n",
       "      <td>latin philo</td>\n",
       "      <td>FM</td>\n",
       "      <td>59.150000</td>\n",
       "      <td>G</td>\n",
       "      <td>G</td>\n",
       "      <td>G</td>\n",
       "    </tr>\n",
       "    <tr>\n",
       "      <th>11610</th>\n",
       "      <td>52.000000</td>\n",
       "      <td>zanner</td>\n",
       "      <td>latin philo</td>\n",
       "      <td>FM</td>\n",
       "      <td>44.000000</td>\n",
       "      <td>G</td>\n",
       "      <td>A</td>\n",
       "      <td>G</td>\n",
       "    </tr>\n",
       "    <tr>\n",
       "      <th>10159</th>\n",
       "      <td>56.876522</td>\n",
       "      <td>iti gombe</td>\n",
       "      <td>vétérinaire</td>\n",
       "      <td>FM</td>\n",
       "      <td>58.049999</td>\n",
       "      <td>G</td>\n",
       "      <td>G</td>\n",
       "      <td>G</td>\n",
       "    </tr>\n",
       "    <tr>\n",
       "      <th>11776</th>\n",
       "      <td>51.000000</td>\n",
       "      <td>masisi</td>\n",
       "      <td>latin philo</td>\n",
       "      <td>FM</td>\n",
       "      <td>42.000000</td>\n",
       "      <td>G</td>\n",
       "      <td>A</td>\n",
       "      <td>G</td>\n",
       "    </tr>\n",
       "    <tr>\n",
       "      <th>10411</th>\n",
       "      <td>57.000000</td>\n",
       "      <td>ndosho</td>\n",
       "      <td>pedagogie</td>\n",
       "      <td>FM</td>\n",
       "      <td>49.000000</td>\n",
       "      <td>G</td>\n",
       "      <td>A</td>\n",
       "      <td>G</td>\n",
       "    </tr>\n",
       "  </tbody>\n",
       "</table>\n",
       "</div>"
      ],
      "text/plain": [
       "         DIPPERC SCHOOL_RIGHT OPTION_RIGHT FAC       CGPA DistinctionRatio  \\\n",
       "ID                                                                           \n",
       "10384  59.000000       zanner  latin philo  FM  59.150000                G   \n",
       "11610  52.000000       zanner  latin philo  FM  44.000000                G   \n",
       "10159  56.876522    iti gombe  vétérinaire  FM  58.049999                G   \n",
       "11776  51.000000       masisi  latin philo  FM  42.000000                G   \n",
       "10411  57.000000       ndosho    pedagogie  FM  49.000000                G   \n",
       "\n",
       "      EchecRatio Pass1stSessionRatio  \n",
       "ID                                    \n",
       "10384          G                   G  \n",
       "11610          A                   G  \n",
       "10159          G                   G  \n",
       "11776          A                   G  \n",
       "10411          A                   G  "
      ]
     },
     "execution_count": 8,
     "metadata": {},
     "output_type": "execute_result"
    }
   ],
   "source": [
    "medecine.head(5)"
   ]
  },
  {
   "cell_type": "code",
   "execution_count": 125,
   "metadata": {
    "scrolled": true
   },
   "outputs": [
    {
     "data": {
      "text/plain": [
       "G    172\n",
       "A     49\n",
       "D     21\n",
       "Name: EchecRatio, dtype: int64"
      ]
     },
     "execution_count": 125,
     "metadata": {},
     "output_type": "execute_result"
    }
   ],
   "source": [
    "medecine.EchecRatio.value_counts()"
   ]
  },
  {
   "cell_type": "code",
   "execution_count": 263,
   "metadata": {
    "collapsed": true,
    "scrolled": true
   },
   "outputs": [],
   "source": [
    "medecineModel=PredictiveModelByilding(dataset=medecine,encoderFunction=ConvertCat)"
   ]
  },
  {
   "cell_type": "code",
   "execution_count": 264,
   "metadata": {
    "collapsed": true,
    "scrolled": true
   },
   "outputs": [],
   "source": [
    "medecineModel.scale(['DIPPERC','CGPA'])"
   ]
  },
  {
   "cell_type": "code",
   "execution_count": 265,
   "metadata": {
    "collapsed": true,
    "scrolled": false
   },
   "outputs": [],
   "source": [
    "trainDes,tesDes=medecineModel.split()"
   ]
  },
  {
   "cell_type": "code",
   "execution_count": 266,
   "metadata": {
    "scrolled": false
   },
   "outputs": [
    {
     "data": {
      "text/html": [
       "<div>\n",
       "<table border=\"1\" class=\"dataframe\">\n",
       "  <thead>\n",
       "    <tr style=\"text-align: right;\">\n",
       "      <th></th>\n",
       "      <th>DIPPERC</th>\n",
       "      <th>CGPA</th>\n",
       "    </tr>\n",
       "  </thead>\n",
       "  <tbody>\n",
       "    <tr>\n",
       "      <th>count</th>\n",
       "      <td>193.000000</td>\n",
       "      <td>193.000000</td>\n",
       "    </tr>\n",
       "    <tr>\n",
       "      <th>mean</th>\n",
       "      <td>0.594774</td>\n",
       "      <td>0.577718</td>\n",
       "    </tr>\n",
       "    <tr>\n",
       "      <th>std</th>\n",
       "      <td>0.072775</td>\n",
       "      <td>0.072102</td>\n",
       "    </tr>\n",
       "    <tr>\n",
       "      <th>min</th>\n",
       "      <td>0.500000</td>\n",
       "      <td>0.400000</td>\n",
       "    </tr>\n",
       "    <tr>\n",
       "      <th>25%</th>\n",
       "      <td>0.530000</td>\n",
       "      <td>0.547000</td>\n",
       "    </tr>\n",
       "    <tr>\n",
       "      <th>50%</th>\n",
       "      <td>0.580000</td>\n",
       "      <td>0.592500</td>\n",
       "    </tr>\n",
       "    <tr>\n",
       "      <th>75%</th>\n",
       "      <td>0.630000</td>\n",
       "      <td>0.622000</td>\n",
       "    </tr>\n",
       "    <tr>\n",
       "      <th>max</th>\n",
       "      <td>0.830000</td>\n",
       "      <td>0.740000</td>\n",
       "    </tr>\n",
       "  </tbody>\n",
       "</table>\n",
       "</div>"
      ],
      "text/plain": [
       "          DIPPERC        CGPA\n",
       "count  193.000000  193.000000\n",
       "mean     0.594774    0.577718\n",
       "std      0.072775    0.072102\n",
       "min      0.500000    0.400000\n",
       "25%      0.530000    0.547000\n",
       "50%      0.580000    0.592500\n",
       "75%      0.630000    0.622000\n",
       "max      0.830000    0.740000"
      ]
     },
     "execution_count": 266,
     "metadata": {},
     "output_type": "execute_result"
    }
   ],
   "source": [
    "trainDes"
   ]
  },
  {
   "cell_type": "code",
   "execution_count": 21,
   "metadata": {
    "scrolled": true
   },
   "outputs": [
    {
     "data": {
      "text/html": [
       "<div>\n",
       "<table border=\"1\" class=\"dataframe\">\n",
       "  <thead>\n",
       "    <tr style=\"text-align: right;\">\n",
       "      <th></th>\n",
       "      <th>DIPPERC</th>\n",
       "      <th>CGPA</th>\n",
       "    </tr>\n",
       "  </thead>\n",
       "  <tbody>\n",
       "    <tr>\n",
       "      <th>count</th>\n",
       "      <td>49.000000</td>\n",
       "      <td>49.000000</td>\n",
       "    </tr>\n",
       "    <tr>\n",
       "      <th>mean</th>\n",
       "      <td>0.592653</td>\n",
       "      <td>0.572949</td>\n",
       "    </tr>\n",
       "    <tr>\n",
       "      <th>std</th>\n",
       "      <td>0.075105</td>\n",
       "      <td>0.059417</td>\n",
       "    </tr>\n",
       "    <tr>\n",
       "      <th>min</th>\n",
       "      <td>0.500000</td>\n",
       "      <td>0.400000</td>\n",
       "    </tr>\n",
       "    <tr>\n",
       "      <th>25%</th>\n",
       "      <td>0.540000</td>\n",
       "      <td>0.551000</td>\n",
       "    </tr>\n",
       "    <tr>\n",
       "      <th>50%</th>\n",
       "      <td>0.580000</td>\n",
       "      <td>0.584500</td>\n",
       "    </tr>\n",
       "    <tr>\n",
       "      <th>75%</th>\n",
       "      <td>0.620000</td>\n",
       "      <td>0.610000</td>\n",
       "    </tr>\n",
       "    <tr>\n",
       "      <th>max</th>\n",
       "      <td>0.840000</td>\n",
       "      <td>0.698500</td>\n",
       "    </tr>\n",
       "  </tbody>\n",
       "</table>\n",
       "</div>"
      ],
      "text/plain": [
       "         DIPPERC       CGPA\n",
       "count  49.000000  49.000000\n",
       "mean    0.592653   0.572949\n",
       "std     0.075105   0.059417\n",
       "min     0.500000   0.400000\n",
       "25%     0.540000   0.551000\n",
       "50%     0.580000   0.584500\n",
       "75%     0.620000   0.610000\n",
       "max     0.840000   0.698500"
      ]
     },
     "execution_count": 21,
     "metadata": {},
     "output_type": "execute_result"
    }
   ],
   "source": [
    "tesDes"
   ]
  },
  {
   "cell_type": "code",
   "execution_count": 267,
   "metadata": {},
   "outputs": [
    {
     "name": "stdout",
     "output_type": "stream",
     "text": [
      "[LibSVM]"
     ]
    }
   ],
   "source": [
    "predictedValues=medecineModel.train()"
   ]
  },
  {
   "cell_type": "code",
   "execution_count": 23,
   "metadata": {
    "scrolled": true
   },
   "outputs": [
    {
     "data": {
      "text/html": [
       "<div>\n",
       "<table border=\"1\" class=\"dataframe\">\n",
       "  <thead>\n",
       "    <tr style=\"text-align: right;\">\n",
       "      <th></th>\n",
       "      <th>ElasticNet</th>\n",
       "      <th>Lasso</th>\n",
       "      <th>LinearSVR</th>\n",
       "      <th>Ridge</th>\n",
       "      <th>SVR</th>\n",
       "      <th>RealValue</th>\n",
       "    </tr>\n",
       "    <tr>\n",
       "      <th>ID</th>\n",
       "      <th></th>\n",
       "      <th></th>\n",
       "      <th></th>\n",
       "      <th></th>\n",
       "      <th></th>\n",
       "      <th></th>\n",
       "    </tr>\n",
       "  </thead>\n",
       "  <tbody>\n",
       "    <tr>\n",
       "      <th>10395</th>\n",
       "      <td>0.618516</td>\n",
       "      <td>0.617570</td>\n",
       "      <td>0.600756</td>\n",
       "      <td>0.599447</td>\n",
       "      <td>0.564280</td>\n",
       "      <td>0.6195</td>\n",
       "    </tr>\n",
       "    <tr>\n",
       "      <th>10437</th>\n",
       "      <td>0.632568</td>\n",
       "      <td>0.632735</td>\n",
       "      <td>0.633875</td>\n",
       "      <td>0.630198</td>\n",
       "      <td>0.586890</td>\n",
       "      <td>0.6075</td>\n",
       "    </tr>\n",
       "    <tr>\n",
       "      <th>10415</th>\n",
       "      <td>0.609239</td>\n",
       "      <td>0.608485</td>\n",
       "      <td>0.604709</td>\n",
       "      <td>0.601404</td>\n",
       "      <td>0.545157</td>\n",
       "      <td>0.5985</td>\n",
       "    </tr>\n",
       "    <tr>\n",
       "      <th>10519</th>\n",
       "      <td>0.597000</td>\n",
       "      <td>0.596068</td>\n",
       "      <td>0.581114</td>\n",
       "      <td>0.579572</td>\n",
       "      <td>0.544659</td>\n",
       "      <td>0.5980</td>\n",
       "    </tr>\n",
       "    <tr>\n",
       "      <th>10906</th>\n",
       "      <td>0.539998</td>\n",
       "      <td>0.540929</td>\n",
       "      <td>0.533855</td>\n",
       "      <td>0.554949</td>\n",
       "      <td>0.562773</td>\n",
       "      <td>0.5390</td>\n",
       "    </tr>\n",
       "  </tbody>\n",
       "</table>\n",
       "</div>"
      ],
      "text/plain": [
       "       ElasticNet     Lasso  LinearSVR     Ridge       SVR  RealValue\n",
       "ID                                                                   \n",
       "10395    0.618516  0.617570   0.600756  0.599447  0.564280     0.6195\n",
       "10437    0.632568  0.632735   0.633875  0.630198  0.586890     0.6075\n",
       "10415    0.609239  0.608485   0.604709  0.601404  0.545157     0.5985\n",
       "10519    0.597000  0.596068   0.581114  0.579572  0.544659     0.5980\n",
       "10906    0.539998  0.540929   0.533855  0.554949  0.562773     0.5390"
      ]
     },
     "execution_count": 23,
     "metadata": {},
     "output_type": "execute_result"
    }
   ],
   "source": [
    "predictedValues.head(5)"
   ]
  },
  {
   "cell_type": "code",
   "execution_count": 268,
   "metadata": {
    "scrolled": false
   },
   "outputs": [
    {
     "name": "stdout",
     "output_type": "stream",
     "text": [
      "('Predictions:\\t', array([ 0.61851645,  0.63256827,  0.60923878,  0.59700048,  0.53999797]))\n",
      "('Labels:\\t\\t', [0.61950000762899993, 0.60750000000000004, 0.59849998474099997, 0.59800001144399995, 0.53899999618500005])\n",
      "('Predictions:\\t', array([ 0.56427976,  0.58688952,  0.54515706,  0.54465932,  0.5627733 ]))\n",
      "('Labels:\\t\\t', [0.61950000762899993, 0.60750000000000004, 0.59849998474099997, 0.59800001144399995, 0.53899999618500005])\n",
      "('Predictions:\\t', array([ 0.60075631,  0.6338749 ,  0.60470872,  0.58111407,  0.53385469]))\n",
      "('Labels:\\t\\t', [0.61950000762899993, 0.60750000000000004, 0.59849998474099997, 0.59800001144399995, 0.53899999618500005])\n",
      "('Predictions:\\t', array([ 0.58867873,  0.63617338,  0.60059779,  0.57354025,  0.52833967]))\n",
      "('Labels:\\t\\t', [0.61950000762899993, 0.60750000000000004, 0.59849998474099997, 0.59800001144399995, 0.53899999618500005])\n",
      "('Predictions:\\t', array([ 0.61758798,  0.63248212,  0.6096308 ,  0.5960883 ,  0.54094611]))\n",
      "('Labels:\\t\\t', [0.61950000762899993, 0.60750000000000004, 0.59849998474099997, 0.59800001144399995, 0.53899999618500005])\n"
     ]
    }
   ],
   "source": [
    "RMSE={}\n",
    "for reg in medecineModel.predictiveModels.keys():\n",
    "    rmse=medecineModel.evaluate(model=reg,on='train') #RMSE of each model\n",
    "    RMSE[reg]=[rmse,rmse*100/medecineModel.dataset_bin.CGPA.mean()]"
   ]
  },
  {
   "cell_type": "code",
   "execution_count": 269,
   "metadata": {
    "scrolled": true
   },
   "outputs": [
    {
     "data": {
      "text/plain": [
       "{'ElasticNet': [0.040642792877699799, 7.0468395828451929],\n",
       " 'Lasso': [0.040670039857082181, 7.0515637929505974],\n",
       " 'LinearSVR': [0.044471700859937138, 7.7107137513722899],\n",
       " 'Ridge': [0.047916025938842581, 8.3079071178629764],\n",
       " 'SVR': [0.067880784974444108, 11.769491430176245]}"
      ]
     },
     "execution_count": 269,
     "metadata": {},
     "output_type": "execute_result"
    }
   ],
   "source": [
    "RMSE"
   ]
  },
  {
   "cell_type": "markdown",
   "metadata": {},
   "source": [
    "on remarque aisement que les valeurs predites par differents regressons disposent d'une bonne exacitude"
   ]
  },
  {
   "cell_type": "code",
   "execution_count": 25,
   "metadata": {},
   "outputs": [
    {
     "name": "stdout",
     "output_type": "stream",
     "text": [
      "[LibSVM][LibSVM][LibSVM][LibSVM][LibSVM][LibSVM][LibSVM][LibSVM][LibSVM][LibSVM]"
     ]
    }
   ],
   "source": [
    "CVScore={}\n",
    "for reg in medecineModel.predictiveModels.keys():\n",
    "    scores,Sstd,Smean=medecineModel.crossEvaluate(model=reg) #RMSE of each model\n",
    "    CVScore[reg]=[Smean,Smean*100/medecineModel.dataset_bin.CGPA.mean(),Sstd]"
   ]
  },
  {
   "cell_type": "code",
   "execution_count": 26,
   "metadata": {
    "scrolled": true
   },
   "outputs": [
    {
     "data": {
      "text/plain": [
       "{'ElasticNet': [0.064110091766669194,\n",
       "  11.11571081447714,\n",
       "  0.0089773130582696571],\n",
       " 'Lasso': [0.064084098058802538, 11.111203902512431, 0.0089165004807136242],\n",
       " 'LinearSVR': [0.066225937273730509, 11.482566111927079, 0.011329086979526115],\n",
       " 'Ridge': [0.063693369762372692, 11.043457583166099, 0.010033005792933954],\n",
       " 'SVR': [0.071259822458049252, 12.355364924722714, 0.0084853917420444416]}"
      ]
     },
     "execution_count": 26,
     "metadata": {},
     "output_type": "execute_result"
    }
   ],
   "source": [
    "CVScore"
   ]
  },
  {
   "cell_type": "markdown",
   "metadata": {},
   "source": [
    "Aussi on peut remarquer les methodes lineaires disposent des meilleurs resulats"
   ]
  },
  {
   "cell_type": "code",
   "execution_count": 27,
   "metadata": {
    "scrolled": false
   },
   "outputs": [
    {
     "name": "stdout",
     "output_type": "stream",
     "text": [
      "('Predictions:\\t', array([ 0.55173163,  0.5640818 ,  0.53376791,  0.57022842,  0.56122689]))\n",
      "('Labels:\\t\\t', [0.54299999237100005, 0.58950000762900001, 0.5264999961850001, 0.58599998474100001, 0.48899999618500006])\n",
      "('Predictions:\\t', array([ 0.56352663,  0.56427976,  0.5429176 ,  0.53439531,  0.56428356]))\n",
      "('Labels:\\t\\t', [0.54299999237100005, 0.58950000762900001, 0.5264999961850001, 0.58599998474100001, 0.48899999618500006])\n",
      "('Predictions:\\t', array([ 0.5516498 ,  0.5715292 ,  0.50074944,  0.58134997,  0.56582115]))\n",
      "('Labels:\\t\\t', [0.54299999237100005, 0.58950000762900001, 0.5264999961850001, 0.58599998474100001, 0.48899999618500006])\n",
      "('Predictions:\\t', array([ 0.56023939,  0.56448792,  0.55123042,  0.55473708,  0.59448046]))\n",
      "('Labels:\\t\\t', [0.54299999237100005, 0.58950000762900001, 0.5264999961850001, 0.58599998474100001, 0.48899999618500006])\n",
      "('Predictions:\\t', array([ 0.55263311,  0.56493969,  0.53482569,  0.57038552,  0.56228165]))\n",
      "('Labels:\\t\\t', [0.54299999237100005, 0.58950000762900001, 0.5264999961850001, 0.58599998474100001, 0.48899999618500006])\n"
     ]
    }
   ],
   "source": [
    "RMSE={}\n",
    "for reg in medecineModel.predictiveModels.keys():\n",
    "    rmse=medecineModel.evaluate(model=reg,on='test') #RMSE of each model\n",
    "    RMSE[reg]=[rmse,rmse*100/medecineModel.dataset_bin.CGPA.mean()]"
   ]
  },
  {
   "cell_type": "code",
   "execution_count": 138,
   "metadata": {
    "scrolled": false
   },
   "outputs": [
    {
     "data": {
      "text/plain": [
       "{'ElasticNet': [0.069053310809881224, 11.972789503070258],\n",
       " 'Lasso': [0.06885336607263759, 11.93812213921488],\n",
       " 'LinearSVR': [0.078396453860313006, 13.59274781828961],\n",
       " 'Ridge': [0.066020981080969224, 11.447029838220555],\n",
       " 'SVR': [0.061979763423994388, 10.746344414515617]}"
      ]
     },
     "execution_count": 138,
     "metadata": {},
     "output_type": "execute_result"
    }
   ],
   "source": [
    "RMSE"
   ]
  },
  {
   "cell_type": "code",
   "execution_count": 167,
   "metadata": {
    "scrolled": true
   },
   "outputs": [
    {
     "data": {
      "text/plain": [
       "Index([u'ElasticNet', u'Lasso', u'LinearSVR', u'Ridge', u'SVR', u'RealValue'], dtype='object')"
      ]
     },
     "execution_count": 167,
     "metadata": {},
     "output_type": "execute_result"
    }
   ],
   "source": [
    "predictedValues.columns"
   ]
  },
  {
   "cell_type": "code",
   "execution_count": 270,
   "metadata": {
    "scrolled": true
   },
   "outputs": [
    {
     "name": "stderr",
     "output_type": "stream",
     "text": [
      "/Users/espyMur/Desktop/Memory-WorkingDir/memoryVenv/lib/python2.7/site-packages/pandas/core/indexing.py:297: SettingWithCopyWarning: \n",
      "A value is trying to be set on a copy of a slice from a DataFrame.\n",
      "Try using .loc[row_indexer,col_indexer] = value instead\n",
      "\n",
      "See the caveats in the documentation: http://pandas.pydata.org/pandas-docs/stable/indexing.html#indexing-view-versus-copy\n",
      "  self.obj[key] = _infer_fill_value(value)\n",
      "/Users/espyMur/Desktop/Memory-WorkingDir/memoryVenv/lib/python2.7/site-packages/pandas/core/indexing.py:561: SettingWithCopyWarning: \n",
      "A value is trying to be set on a copy of a slice from a DataFrame.\n",
      "Try using .loc[row_indexer,col_indexer] = value instead\n",
      "\n",
      "See the caveats in the documentation: http://pandas.pydata.org/pandas-docs/stable/indexing.html#indexing-view-versus-copy\n",
      "  self.obj[item_labels[indexer[info_axis]]] = value\n"
     ]
    }
   ],
   "source": [
    "finalPred,finalRMSE=medecineModel.ensembelMethods(predictedValues=predictedValues[[u'ElasticNet', u'Lasso', u'Ridge',  u'RealValue']])"
   ]
  },
  {
   "cell_type": "code",
   "execution_count": 271,
   "metadata": {
    "scrolled": false
   },
   "outputs": [
    {
     "data": {
      "text/html": [
       "<div>\n",
       "<table border=\"1\" class=\"dataframe\">\n",
       "  <thead>\n",
       "    <tr style=\"text-align: right;\">\n",
       "      <th></th>\n",
       "      <th>ElasticNet</th>\n",
       "      <th>Lasso</th>\n",
       "      <th>Ridge</th>\n",
       "      <th>RealValue</th>\n",
       "      <th>finalPredict</th>\n",
       "    </tr>\n",
       "    <tr>\n",
       "      <th>ID</th>\n",
       "      <th></th>\n",
       "      <th></th>\n",
       "      <th></th>\n",
       "      <th></th>\n",
       "      <th></th>\n",
       "    </tr>\n",
       "  </thead>\n",
       "  <tbody>\n",
       "    <tr>\n",
       "      <th>10395</th>\n",
       "      <td>0.618516</td>\n",
       "      <td>0.617588</td>\n",
       "      <td>0.588679</td>\n",
       "      <td>0.6195</td>\n",
       "      <td>0.618991</td>\n",
       "    </tr>\n",
       "    <tr>\n",
       "      <th>10437</th>\n",
       "      <td>0.632568</td>\n",
       "      <td>0.632482</td>\n",
       "      <td>0.636173</td>\n",
       "      <td>0.6075</td>\n",
       "      <td>0.632605</td>\n",
       "    </tr>\n",
       "    <tr>\n",
       "      <th>10415</th>\n",
       "      <td>0.609239</td>\n",
       "      <td>0.609631</td>\n",
       "      <td>0.600598</td>\n",
       "      <td>0.5985</td>\n",
       "      <td>0.609496</td>\n",
       "    </tr>\n",
       "    <tr>\n",
       "      <th>10519</th>\n",
       "      <td>0.597000</td>\n",
       "      <td>0.596088</td>\n",
       "      <td>0.573540</td>\n",
       "      <td>0.5980</td>\n",
       "      <td>0.597258</td>\n",
       "    </tr>\n",
       "    <tr>\n",
       "      <th>10906</th>\n",
       "      <td>0.539998</td>\n",
       "      <td>0.540946</td>\n",
       "      <td>0.528340</td>\n",
       "      <td>0.5390</td>\n",
       "      <td>0.540105</td>\n",
       "    </tr>\n",
       "  </tbody>\n",
       "</table>\n",
       "</div>"
      ],
      "text/plain": [
       "       ElasticNet     Lasso     Ridge  RealValue  finalPredict\n",
       "ID                                                            \n",
       "10395    0.618516  0.617588  0.588679     0.6195      0.618991\n",
       "10437    0.632568  0.632482  0.636173     0.6075      0.632605\n",
       "10415    0.609239  0.609631  0.600598     0.5985      0.609496\n",
       "10519    0.597000  0.596088  0.573540     0.5980      0.597258\n",
       "10906    0.539998  0.540946  0.528340     0.5390      0.540105"
      ]
     },
     "execution_count": 271,
     "metadata": {},
     "output_type": "execute_result"
    }
   ],
   "source": [
    "finalPred.head(5)"
   ]
  },
  {
   "cell_type": "code",
   "execution_count": 31,
   "metadata": {},
   "outputs": [
    {
     "data": {
      "text/plain": [
       "7.0457982743938787"
      ]
     },
     "execution_count": 31,
     "metadata": {},
     "output_type": "execute_result"
    }
   ],
   "source": [
    "finalRMSE*100/medecineModel.dataset_bin.CGPA.mean()"
   ]
  },
  {
   "cell_type": "markdown",
   "metadata": {},
   "source": [
    "On remarque que notre ensemble methode sans modele avec SVM nous donne un score de R% en valdiation croisé voyons combien il nous donnerasavec l'ensemble d'evaluation"
   ]
  },
  {
   "cell_type": "code",
   "execution_count": 32,
   "metadata": {
    "collapsed": true
   },
   "outputs": [],
   "source": [
    "predictionTest=medecineModel.predictTest()"
   ]
  },
  {
   "cell_type": "code",
   "execution_count": 33,
   "metadata": {
    "scrolled": true
   },
   "outputs": [
    {
     "data": {
      "text/html": [
       "<div>\n",
       "<table border=\"1\" class=\"dataframe\">\n",
       "  <thead>\n",
       "    <tr style=\"text-align: right;\">\n",
       "      <th></th>\n",
       "      <th>ElasticNet</th>\n",
       "      <th>Lasso</th>\n",
       "      <th>LinearSVR</th>\n",
       "      <th>Ridge</th>\n",
       "      <th>SVR</th>\n",
       "      <th>RealValue</th>\n",
       "    </tr>\n",
       "    <tr>\n",
       "      <th>ID</th>\n",
       "      <th></th>\n",
       "      <th></th>\n",
       "      <th></th>\n",
       "      <th></th>\n",
       "      <th></th>\n",
       "      <th></th>\n",
       "    </tr>\n",
       "  </thead>\n",
       "  <tbody>\n",
       "    <tr>\n",
       "      <th>10825</th>\n",
       "      <td>0.551732</td>\n",
       "      <td>0.552633</td>\n",
       "      <td>0.55165</td>\n",
       "      <td>0.560239</td>\n",
       "      <td>0.563527</td>\n",
       "      <td>0.543</td>\n",
       "    </tr>\n",
       "  </tbody>\n",
       "</table>\n",
       "</div>"
      ],
      "text/plain": [
       "       ElasticNet     Lasso  LinearSVR     Ridge       SVR  RealValue\n",
       "ID                                                                   \n",
       "10825    0.551732  0.552633    0.55165  0.560239  0.563527      0.543"
      ]
     },
     "execution_count": 33,
     "metadata": {},
     "output_type": "execute_result"
    }
   ],
   "source": [
    "predictionTest.head(1)"
   ]
  },
  {
   "cell_type": "code",
   "execution_count": 34,
   "metadata": {
    "collapsed": true
   },
   "outputs": [],
   "source": [
    "finalPredictTes,rmseFinalTest=medecineModel.ensembelMethods(predictedValues=predictionTest[[u'ElasticNet', u'Lasso', u'Ridge',  u'RealValue']])"
   ]
  },
  {
   "cell_type": "code",
   "execution_count": 35,
   "metadata": {
    "scrolled": true
   },
   "outputs": [
    {
     "data": {
      "text/plain": [
       "9.9510545697527917"
      ]
     },
     "execution_count": 35,
     "metadata": {},
     "output_type": "execute_result"
    }
   ],
   "source": [
    "rmseFinalTest*100/medecineModel.Y_test.mean()"
   ]
  },
  {
   "cell_type": "markdown",
   "metadata": {},
   "source": [
    "Nous avons un resulat de % sur notre ensemble d'evaluation wouhhhhh........"
   ]
  },
  {
   "cell_type": "markdown",
   "metadata": {
    "collapsed": true
   },
   "source": [
    " 10.56"
   ]
  },
  {
   "cell_type": "markdown",
   "metadata": {},
   "source": [
    "esayons en fin d'anlayser les coefficients de nos modèles de regressions lineares"
   ]
  },
  {
   "cell_type": "code",
   "execution_count": 37,
   "metadata": {
    "collapsed": true
   },
   "outputs": [],
   "source": [
    "ridgeRgressorMed=medecineModel.predictiveModels['Ridge']"
   ]
  },
  {
   "cell_type": "code",
   "execution_count": 46,
   "metadata": {
    "scrolled": true
   },
   "outputs": [
    {
     "data": {
      "text/plain": [
       "[(0.14161788542203865, 'SCHOOL_RIGHT-isoko'),\n",
       " (0.091877489723899877, 'SCHOOL_RIGHT-kalimba'),\n",
       " (0.078453396863903554, 'SCHOOL_RIGHT-idap isp rutshuru'),\n",
       " (0.073460928661847252, 'SCHOOL_RIGHT-mabula'),\n",
       " (0.068542825522317247, 'SCHOOL_RIGHT-icl'),\n",
       " (0.066529782475518093, 'SCHOOL_RIGHT-maendeleo'),\n",
       " (0.06446105410930969, 'SCHOOL_RIGHT-bimenya'),\n",
       " (0.064199033529377683, 'SCHOOL_RIGHT-matanda'),\n",
       " (0.061628696400868835, 'SCHOOL_RIGHT-ngoma'),\n",
       " (0.057336785827979041, 'SCHOOL_RIGHT-bsangani'),\n",
       " (0.05268263861021346, 'SCHOOL_RIGHT-saint michel'),\n",
       " (0.050169143536419838, 'SCHOOL_RIGHT-sainte ursule'),\n",
       " (0.048531387423318535, 'SCHOOL_RIGHT-Mwangaza'),\n",
       " (0.044387699232079497, 'SCHOOL_RIGHT-totoro'),\n",
       " (0.043107499172760903, 'SCHOOL_RIGHT-anuarite'),\n",
       " (0.041154827746480514, 'SCHOOL_RIGHT-fadhili'),\n",
       " (0.041094449063746014, 'OPTION_RIGHT-secretariat'),\n",
       " (0.041011975142910176, 'SCHOOL_RIGHT-r\\xc3\\xa9v\\xc3\\xa9rend samba'),\n",
       " (0.040615212383598033, 'SCHOOL_RIGHT-mwanga'),\n",
       " (0.039348101671197164, 'SCHOOL_RIGHT-communautaire du lac'),\n",
       " (0.039335318576140241,\n",
       "  'SCHOOL_RIGHT-de r\\xc3\\xa9cup\\xc3\\xa9ration de la gombe'),\n",
       " (0.038556898284872639, 'SCHOOL_RIGHT-faraja'),\n",
       " (0.037428137000869693, 'SCHOOL_RIGHT-neema kwetu'),\n",
       " (0.03724734241942057, 'SCHOOL_RIGHT-iti gombe'),\n",
       " (0.036786171671234186, 'SCHOOL_RIGHT-bwindi'),\n",
       " (0.034752958604738329, 'SCHOOL_RIGHT-mama yetu'),\n",
       " (0.034431073242308229, 'SCHOOL_RIGHT-moria'),\n",
       " (0.034155659519149069, 'SCHOOL_RIGHT-de beni'),\n",
       " (0.03376051552057132, 'SCHOOL_RIGHT-itsu'),\n",
       " (0.033414677609359698, 'SCHOOL_RIGHT-john mabwindi'),\n",
       " (0.033163206542520876, 'SCHOOL_RIGHT-mikeno nc'),\n",
       " (0.032404342477367551, 'SCHOOL_RIGHT-imaki/kirumba'),\n",
       " (0.032011978957910157, 'SCHOOL_RIGHT-visoke'),\n",
       " (0.031594441434246043, 'SCHOOL_RIGHT-nyabushongo'),\n",
       " (0.030928157812130527, 'SCHOOL_RIGHT-kambali'),\n",
       " (0.030470157893915484, 'SCHOOL_RIGHT-uenezaji'),\n",
       " (0.029485139296773075, 'SCHOOL_RIGHT-kitsombiro'),\n",
       " (0.029485139296773048, 'ID'),\n",
       " (0.029121581135018622, 'SCHOOL_RIGHT-kyeshero'),\n",
       " (0.028793617146277376, 'SCHOOL_RIGHT-tupendane'),\n",
       " (0.027636251053740724, 'SCHOOL_RIGHT-isingo'),\n",
       " (0.026728446043813383, 'SCHOOL_RIGHT-amani'),\n",
       " (0.026451606508442735, 'SCHOOL_RIGHT-maadibisho'),\n",
       " (0.02633837231158119, 'SCHOOL_RIGHT-bwito'),\n",
       " (0.025796184587910373, 'SCHOOL_RIGHT-zanner'),\n",
       " (0.025528475362542897, 'SCHOOL_RIGHT-uhuru'),\n",
       " (0.025152581213641514, 'SCHOOL_RIGHT-Intitut ALLELUYA'),\n",
       " (0.025057655149461625, 'OPTION_RIGHT-sociale'),\n",
       " (0.025015741419756432, 'SCHOOL_RIGHT-metanoia'),\n",
       " (0.024261319680448222, 'OPTION_RIGHT-v\\xc3\\xa9t\\xc3\\xa9rinaire'),\n",
       " (0.023842877043512081, 'SCHOOL_RIGHT-la releve'),\n",
       " (0.022788949705190301, 'SCHOOL_RIGHT-mawato'),\n",
       " (0.022075825003050369, 'SCHOOL_RIGHT-mikeno islamique'),\n",
       " (0.021521392653902394, 'SCHOOL_RIGHT-thabiti'),\n",
       " (0.021345798196189803, 'SCHOOL_RIGHT-Lyc\\xc3\\xa9e Mwandu'),\n",
       " (0.020052527046356176, 'SCHOOL_RIGHT-la fontaine'),\n",
       " (0.019684415214628839, 'SCHOOL_RIGHT-ndahura'),\n",
       " (0.019145721063738755, 'SCHOOL_RIGHT-tuha utala'),\n",
       " (0.018428167348630484, 'SCHOOL_RIGHT-maranatha'),\n",
       " (0.018253139982203386, 'OPTION_RIGHT-agronomie'),\n",
       " (0.018178161626630562, 'SCHOOL_RIGHT-milima'),\n",
       " (0.017773393030791559, 'SCHOOL_RIGHT-groupe scolaire gilgali'),\n",
       " (0.017308675866959451, 'SCHOOL_RIGHT-malikia wa bingu'),\n",
       " (0.0171571267709878, 'SCHOOL_RIGHT-ndosho'),\n",
       " (0.016256653580525013, 'OPTION_RIGHT-commmerciale et adm'),\n",
       " (0.015948942112982527, 'SCHOOL_RIGHT-lukuga'),\n",
       " (0.015884783801901933, 'SCHOOL_RIGHT-majengo'),\n",
       " (0.014907029632592784, 'SCHOOL_RIGHT-Mugunga'),\n",
       " (0.014450817255982127, 'SCHOOL_RIGHT-sayuni'),\n",
       " (0.014208659809185356, 'OPTION_RIGHT-math-physique'),\n",
       " (0.014208659809185342, 'SCHOOL_RIGHT-mwanga/ uvira'),\n",
       " (0.014197818806843654, 'OPTION_RIGHT-nutr'),\n",
       " (0.013771893354409157, 'OPTION_RIGHT-pedagogie'),\n",
       " (0.013699934326139938, 'SCHOOL_RIGHT-mgr kataliko'),\n",
       " (0.012156005143361039, 'SCHOOL_RIGHT-pain de vie'),\n",
       " (0.01176343858024901, 'SCHOOL_RIGHT-ludaha'),\n",
       " (0.011655566195253961, 'SCHOOL_RIGHT-alfajiri'),\n",
       " (0.011289036820055562, 'SCHOOL_RIGHT-nyakasaza'),\n",
       " (0.011068094510808736, 'SCHOOL_RIGHT-mont caemel'),\n",
       " (0.011042701090457126, 'SCHOOL_RIGHT-bakandja'),\n",
       " (0.011036236546377509, 'OPTION_RIGHT-agrecole'),\n",
       " (0.010930269393578902, 'SCHOOL_RIGHT-jikaze'),\n",
       " (0.010736397273421126, 'SCHOOL_RIGHT-amen'),\n",
       " (0.0091741749969496168, 'SCHOOL_RIGHT-himbi'),\n",
       " (0.0078727670364699479, 'SCHOOL_RIGHT-mama mulezi'),\n",
       " (0.0077051323744107324, 'SCHOOL_RIGHT-Institut NJANJA'),\n",
       " (0.0058955622893598451, 'OPTION_RIGHT-commerciale informatique'),\n",
       " (0.002750436131083913, 'SCHOOL_RIGHT-bethanie'),\n",
       " (0.0026502432512994561, 'OPTION_RIGHT-latin philo'),\n",
       " (0.0019238889657221532, 'SCHOOL_RIGHT-masisi'),\n",
       " (0.0010167672010696995, 'SCHOOL_RIGHT-kalungu'),\n",
       " (0.00090419608181024696, 'SCHOOL_RIGHT-tuendelee'),\n",
       " (0.00089258108153540574, 'SCHOOL_RIGHT-mukaba'),\n",
       " (0.00048608031183524058, 'SCHOOL_RIGHT-hekima'),\n",
       " (0.00046723674123782714, 'SCHOOL_RIGHT-bulumbi'),\n",
       " (0.0, 'SCHOOL_RIGHT-uzima'),\n",
       " (0.0, 'SCHOOL_RIGHT-st joseph'),\n",
       " (0.0, 'SCHOOL_RIGHT-sebyera'),\n",
       " (0.0, 'SCHOOL_RIGHT-matendo'),\n",
       " (0.0, 'SCHOOL_RIGHT-masiki'),\n",
       " (0.0, 'SCHOOL_RIGHT-kashenda'),\n",
       " (0.0, 'SCHOOL_RIGHT-gs kigali'),\n",
       " (0.0, 'SCHOOL_RIGHT-de bukavu'),\n",
       " (0.0, 'SCHOOL_RIGHT-bemba gombo'),\n",
       " (0.0, 'SCHOOL_RIGHT-amani cebia'),\n",
       " (0.0, 'SCHOOL_RIGHT-Lwanga'),\n",
       " (0.0, 'OPTION_RIGHT-elec indust'),\n",
       " (0.0, 'OPTION_RIGHT-bio-chimie')]"
      ]
     },
     "execution_count": 46,
     "metadata": {},
     "output_type": "execute_result"
    }
   ],
   "source": [
    "sorted(zip(np.abs(ridgeRgressorMed.coef_), medecineModel.dataset_bin.columns), reverse=True)"
   ]
  },
  {
   "cell_type": "code",
   "execution_count": 47,
   "metadata": {
    "scrolled": false
   },
   "outputs": [
    {
     "data": {
      "text/html": [
       "<div>\n",
       "<table border=\"1\" class=\"dataframe\">\n",
       "  <thead>\n",
       "    <tr style=\"text-align: right;\">\n",
       "      <th></th>\n",
       "      <th>DIPPERC</th>\n",
       "      <th>SCHOOL_RIGHT</th>\n",
       "      <th>OPTION_RIGHT</th>\n",
       "      <th>FAC</th>\n",
       "      <th>CGPA</th>\n",
       "      <th>DistinctionRatio</th>\n",
       "      <th>EchecRatio</th>\n",
       "      <th>Pass1stSessionRatio</th>\n",
       "    </tr>\n",
       "    <tr>\n",
       "      <th>ID</th>\n",
       "      <th></th>\n",
       "      <th></th>\n",
       "      <th></th>\n",
       "      <th></th>\n",
       "      <th></th>\n",
       "      <th></th>\n",
       "      <th></th>\n",
       "      <th></th>\n",
       "    </tr>\n",
       "  </thead>\n",
       "  <tbody>\n",
       "    <tr>\n",
       "      <th>9879</th>\n",
       "      <td>62.0</td>\n",
       "      <td>sainte ursule</td>\n",
       "      <td>sociale</td>\n",
       "      <td>FM</td>\n",
       "      <td>61.549999</td>\n",
       "      <td>G</td>\n",
       "      <td>G</td>\n",
       "      <td>D</td>\n",
       "    </tr>\n",
       "    <tr>\n",
       "      <th>9891</th>\n",
       "      <td>50.0</td>\n",
       "      <td>sainte ursule</td>\n",
       "      <td>sociale</td>\n",
       "      <td>FM</td>\n",
       "      <td>55.900000</td>\n",
       "      <td>G</td>\n",
       "      <td>G</td>\n",
       "      <td>G</td>\n",
       "    </tr>\n",
       "    <tr>\n",
       "      <th>10250</th>\n",
       "      <td>55.0</td>\n",
       "      <td>sainte ursule</td>\n",
       "      <td>nutr</td>\n",
       "      <td>FM</td>\n",
       "      <td>57.600000</td>\n",
       "      <td>G</td>\n",
       "      <td>G</td>\n",
       "      <td>G</td>\n",
       "    </tr>\n",
       "    <tr>\n",
       "      <th>10290</th>\n",
       "      <td>66.0</td>\n",
       "      <td>sainte ursule</td>\n",
       "      <td>nutr</td>\n",
       "      <td>FM</td>\n",
       "      <td>60.150000</td>\n",
       "      <td>G</td>\n",
       "      <td>G</td>\n",
       "      <td>A</td>\n",
       "    </tr>\n",
       "    <tr>\n",
       "      <th>10324</th>\n",
       "      <td>58.0</td>\n",
       "      <td>sainte ursule</td>\n",
       "      <td>nutr</td>\n",
       "      <td>FM</td>\n",
       "      <td>55.250000</td>\n",
       "      <td>G</td>\n",
       "      <td>D</td>\n",
       "      <td>G</td>\n",
       "    </tr>\n",
       "    <tr>\n",
       "      <th>10481</th>\n",
       "      <td>57.0</td>\n",
       "      <td>sainte ursule</td>\n",
       "      <td>sociale</td>\n",
       "      <td>FM</td>\n",
       "      <td>59.150000</td>\n",
       "      <td>G</td>\n",
       "      <td>G</td>\n",
       "      <td>G</td>\n",
       "    </tr>\n",
       "    <tr>\n",
       "      <th>10535</th>\n",
       "      <td>58.0</td>\n",
       "      <td>sainte ursule</td>\n",
       "      <td>sociale</td>\n",
       "      <td>FM</td>\n",
       "      <td>61.550001</td>\n",
       "      <td>G</td>\n",
       "      <td>G</td>\n",
       "      <td>D</td>\n",
       "    </tr>\n",
       "    <tr>\n",
       "      <th>10538</th>\n",
       "      <td>53.0</td>\n",
       "      <td>sainte ursule</td>\n",
       "      <td>nutr</td>\n",
       "      <td>FM</td>\n",
       "      <td>61.100000</td>\n",
       "      <td>G</td>\n",
       "      <td>G</td>\n",
       "      <td>G</td>\n",
       "    </tr>\n",
       "    <tr>\n",
       "      <th>10550</th>\n",
       "      <td>54.0</td>\n",
       "      <td>sainte ursule</td>\n",
       "      <td>sociale</td>\n",
       "      <td>FM</td>\n",
       "      <td>47.000000</td>\n",
       "      <td>G</td>\n",
       "      <td>A</td>\n",
       "      <td>G</td>\n",
       "    </tr>\n",
       "    <tr>\n",
       "      <th>10897</th>\n",
       "      <td>60.0</td>\n",
       "      <td>sainte ursule</td>\n",
       "      <td>nutr</td>\n",
       "      <td>FM</td>\n",
       "      <td>50.850000</td>\n",
       "      <td>G</td>\n",
       "      <td>D</td>\n",
       "      <td>G</td>\n",
       "    </tr>\n",
       "    <tr>\n",
       "      <th>11400</th>\n",
       "      <td>61.0</td>\n",
       "      <td>sainte ursule</td>\n",
       "      <td>nutr</td>\n",
       "      <td>FM</td>\n",
       "      <td>58.299999</td>\n",
       "      <td>G</td>\n",
       "      <td>G</td>\n",
       "      <td>A</td>\n",
       "    </tr>\n",
       "    <tr>\n",
       "      <th>11565</th>\n",
       "      <td>63.0</td>\n",
       "      <td>sainte ursule</td>\n",
       "      <td>nutr</td>\n",
       "      <td>FM</td>\n",
       "      <td>57.299999</td>\n",
       "      <td>G</td>\n",
       "      <td>G</td>\n",
       "      <td>G</td>\n",
       "    </tr>\n",
       "    <tr>\n",
       "      <th>11780</th>\n",
       "      <td>57.0</td>\n",
       "      <td>sainte ursule</td>\n",
       "      <td>sociale</td>\n",
       "      <td>FM</td>\n",
       "      <td>62.099998</td>\n",
       "      <td>G</td>\n",
       "      <td>G</td>\n",
       "      <td>G</td>\n",
       "    </tr>\n",
       "    <tr>\n",
       "      <th>12159</th>\n",
       "      <td>70.0</td>\n",
       "      <td>sainte ursule</td>\n",
       "      <td>nutr</td>\n",
       "      <td>FM</td>\n",
       "      <td>63.599998</td>\n",
       "      <td>G</td>\n",
       "      <td>G</td>\n",
       "      <td>A</td>\n",
       "    </tr>\n",
       "  </tbody>\n",
       "</table>\n",
       "</div>"
      ],
      "text/plain": [
       "       DIPPERC   SCHOOL_RIGHT OPTION_RIGHT FAC       CGPA DistinctionRatio  \\\n",
       "ID                                                                           \n",
       "9879      62.0  sainte ursule      sociale  FM  61.549999                G   \n",
       "9891      50.0  sainte ursule      sociale  FM  55.900000                G   \n",
       "10250     55.0  sainte ursule         nutr  FM  57.600000                G   \n",
       "10290     66.0  sainte ursule         nutr  FM  60.150000                G   \n",
       "10324     58.0  sainte ursule         nutr  FM  55.250000                G   \n",
       "10481     57.0  sainte ursule      sociale  FM  59.150000                G   \n",
       "10535     58.0  sainte ursule      sociale  FM  61.550001                G   \n",
       "10538     53.0  sainte ursule         nutr  FM  61.100000                G   \n",
       "10550     54.0  sainte ursule      sociale  FM  47.000000                G   \n",
       "10897     60.0  sainte ursule         nutr  FM  50.850000                G   \n",
       "11400     61.0  sainte ursule         nutr  FM  58.299999                G   \n",
       "11565     63.0  sainte ursule         nutr  FM  57.299999                G   \n",
       "11780     57.0  sainte ursule      sociale  FM  62.099998                G   \n",
       "12159     70.0  sainte ursule         nutr  FM  63.599998                G   \n",
       "\n",
       "      EchecRatio Pass1stSessionRatio  \n",
       "ID                                    \n",
       "9879           G                   D  \n",
       "9891           G                   G  \n",
       "10250          G                   G  \n",
       "10290          G                   A  \n",
       "10324          D                   G  \n",
       "10481          G                   G  \n",
       "10535          G                   D  \n",
       "10538          G                   G  \n",
       "10550          A                   G  \n",
       "10897          D                   G  \n",
       "11400          G                   A  \n",
       "11565          G                   G  \n",
       "11780          G                   G  \n",
       "12159          G                   A  "
      ]
     },
     "execution_count": 47,
     "metadata": {},
     "output_type": "execute_result"
    }
   ],
   "source": [
    "medecine.loc[medecine.SCHOOL_RIGHT=='sainte ursule']"
   ]
  },
  {
   "cell_type": "code",
   "execution_count": 48,
   "metadata": {
    "scrolled": true
   },
   "outputs": [
    {
     "data": {
      "text/html": [
       "<div>\n",
       "<table border=\"1\" class=\"dataframe\">\n",
       "  <thead>\n",
       "    <tr style=\"text-align: right;\">\n",
       "      <th></th>\n",
       "      <th>ElasticNet</th>\n",
       "      <th>Lasso</th>\n",
       "      <th>LinearSVR</th>\n",
       "      <th>Ridge</th>\n",
       "      <th>SVR</th>\n",
       "      <th>RealValue</th>\n",
       "    </tr>\n",
       "    <tr>\n",
       "      <th>ID</th>\n",
       "      <th></th>\n",
       "      <th></th>\n",
       "      <th></th>\n",
       "      <th></th>\n",
       "      <th></th>\n",
       "      <th></th>\n",
       "    </tr>\n",
       "  </thead>\n",
       "  <tbody>\n",
       "    <tr>\n",
       "      <th>9879</th>\n",
       "      <td>0.617962</td>\n",
       "      <td>0.617356</td>\n",
       "      <td>0.625193</td>\n",
       "      <td>0.586703</td>\n",
       "      <td>0.530568</td>\n",
       "      <td>0.6155</td>\n",
       "    </tr>\n",
       "    <tr>\n",
       "      <th>9891</th>\n",
       "      <td>0.568561</td>\n",
       "      <td>0.568130</td>\n",
       "      <td>0.545675</td>\n",
       "      <td>0.569709</td>\n",
       "      <td>0.527591</td>\n",
       "      <td>0.5590</td>\n",
       "    </tr>\n",
       "    <tr>\n",
       "      <th>10250</th>\n",
       "      <td>NaN</td>\n",
       "      <td>NaN</td>\n",
       "      <td>NaN</td>\n",
       "      <td>NaN</td>\n",
       "      <td>NaN</td>\n",
       "      <td>NaN</td>\n",
       "    </tr>\n",
       "    <tr>\n",
       "      <th>10290</th>\n",
       "      <td>NaN</td>\n",
       "      <td>NaN</td>\n",
       "      <td>NaN</td>\n",
       "      <td>NaN</td>\n",
       "      <td>NaN</td>\n",
       "      <td>NaN</td>\n",
       "    </tr>\n",
       "    <tr>\n",
       "      <th>10324</th>\n",
       "      <td>0.541302</td>\n",
       "      <td>0.541910</td>\n",
       "      <td>0.535790</td>\n",
       "      <td>0.567813</td>\n",
       "      <td>0.545578</td>\n",
       "      <td>0.5525</td>\n",
       "    </tr>\n",
       "    <tr>\n",
       "      <th>10481</th>\n",
       "      <td>0.597378</td>\n",
       "      <td>0.596845</td>\n",
       "      <td>0.592060</td>\n",
       "      <td>0.579622</td>\n",
       "      <td>0.529327</td>\n",
       "      <td>0.5915</td>\n",
       "    </tr>\n",
       "    <tr>\n",
       "      <th>10535</th>\n",
       "      <td>0.601495</td>\n",
       "      <td>0.600947</td>\n",
       "      <td>0.598687</td>\n",
       "      <td>0.581038</td>\n",
       "      <td>0.529575</td>\n",
       "      <td>0.6155</td>\n",
       "    </tr>\n",
       "    <tr>\n",
       "      <th>10538</th>\n",
       "      <td>NaN</td>\n",
       "      <td>NaN</td>\n",
       "      <td>NaN</td>\n",
       "      <td>NaN</td>\n",
       "      <td>NaN</td>\n",
       "      <td>NaN</td>\n",
       "    </tr>\n",
       "    <tr>\n",
       "      <th>10550</th>\n",
       "      <td>NaN</td>\n",
       "      <td>NaN</td>\n",
       "      <td>NaN</td>\n",
       "      <td>NaN</td>\n",
       "      <td>NaN</td>\n",
       "      <td>NaN</td>\n",
       "    </tr>\n",
       "    <tr>\n",
       "      <th>10897</th>\n",
       "      <td>0.549536</td>\n",
       "      <td>0.550114</td>\n",
       "      <td>0.549043</td>\n",
       "      <td>0.570646</td>\n",
       "      <td>0.546074</td>\n",
       "      <td>0.5085</td>\n",
       "    </tr>\n",
       "    <tr>\n",
       "      <th>11400</th>\n",
       "      <td>NaN</td>\n",
       "      <td>NaN</td>\n",
       "      <td>NaN</td>\n",
       "      <td>NaN</td>\n",
       "      <td>NaN</td>\n",
       "      <td>NaN</td>\n",
       "    </tr>\n",
       "    <tr>\n",
       "      <th>11565</th>\n",
       "      <td>0.561886</td>\n",
       "      <td>0.562421</td>\n",
       "      <td>0.568922</td>\n",
       "      <td>0.574894</td>\n",
       "      <td>0.546818</td>\n",
       "      <td>0.5730</td>\n",
       "    </tr>\n",
       "    <tr>\n",
       "      <th>11780</th>\n",
       "      <td>0.597378</td>\n",
       "      <td>0.596845</td>\n",
       "      <td>0.592060</td>\n",
       "      <td>0.579622</td>\n",
       "      <td>0.529327</td>\n",
       "      <td>0.6210</td>\n",
       "    </tr>\n",
       "    <tr>\n",
       "      <th>12159</th>\n",
       "      <td>NaN</td>\n",
       "      <td>NaN</td>\n",
       "      <td>NaN</td>\n",
       "      <td>NaN</td>\n",
       "      <td>NaN</td>\n",
       "      <td>NaN</td>\n",
       "    </tr>\n",
       "  </tbody>\n",
       "</table>\n",
       "</div>"
      ],
      "text/plain": [
       "       ElasticNet     Lasso  LinearSVR     Ridge       SVR  RealValue\n",
       "ID                                                                   \n",
       "9879     0.617962  0.617356   0.625193  0.586703  0.530568     0.6155\n",
       "9891     0.568561  0.568130   0.545675  0.569709  0.527591     0.5590\n",
       "10250         NaN       NaN        NaN       NaN       NaN        NaN\n",
       "10290         NaN       NaN        NaN       NaN       NaN        NaN\n",
       "10324    0.541302  0.541910   0.535790  0.567813  0.545578     0.5525\n",
       "10481    0.597378  0.596845   0.592060  0.579622  0.529327     0.5915\n",
       "10535    0.601495  0.600947   0.598687  0.581038  0.529575     0.6155\n",
       "10538         NaN       NaN        NaN       NaN       NaN        NaN\n",
       "10550         NaN       NaN        NaN       NaN       NaN        NaN\n",
       "10897    0.549536  0.550114   0.549043  0.570646  0.546074     0.5085\n",
       "11400         NaN       NaN        NaN       NaN       NaN        NaN\n",
       "11565    0.561886  0.562421   0.568922  0.574894  0.546818     0.5730\n",
       "11780    0.597378  0.596845   0.592060  0.579622  0.529327     0.6210\n",
       "12159         NaN       NaN        NaN       NaN       NaN        NaN"
      ]
     },
     "execution_count": 48,
     "metadata": {},
     "output_type": "execute_result"
    }
   ],
   "source": [
    "predictedValues.loc[medecine.loc[medecine.SCHOOL_RIGHT=='sainte ursule'].index] + "
   ]
  },
  {
   "cell_type": "code",
   "execution_count": null,
   "metadata": {
    "collapsed": true
   },
   "outputs": [],
   "source": []
  },
  {
   "cell_type": "code",
   "execution_count": null,
   "metadata": {
    "collapsed": true
   },
   "outputs": [],
   "source": []
  },
  {
   "cell_type": "markdown",
   "metadata": {},
   "source": [
    "##### Faculté de Technologie"
   ]
  },
  {
   "cell_type": "code",
   "execution_count": 200,
   "metadata": {
    "collapsed": true
   },
   "outputs": [],
   "source": [
    "technologie=datasetCGPA.loc[datasetCGPA.FAC=='FSTA']"
   ]
  },
  {
   "cell_type": "code",
   "execution_count": 130,
   "metadata": {
    "scrolled": true
   },
   "outputs": [
    {
     "data": {
      "text/html": [
       "<div>\n",
       "<table border=\"1\" class=\"dataframe\">\n",
       "  <thead>\n",
       "    <tr style=\"text-align: right;\">\n",
       "      <th></th>\n",
       "      <th>DIPPERC</th>\n",
       "      <th>CGPA</th>\n",
       "    </tr>\n",
       "  </thead>\n",
       "  <tbody>\n",
       "    <tr>\n",
       "      <th>DIPPERC</th>\n",
       "      <td>1.000000</td>\n",
       "      <td>0.346685</td>\n",
       "    </tr>\n",
       "    <tr>\n",
       "      <th>CGPA</th>\n",
       "      <td>0.346685</td>\n",
       "      <td>1.000000</td>\n",
       "    </tr>\n",
       "  </tbody>\n",
       "</table>\n",
       "</div>"
      ],
      "text/plain": [
       "          DIPPERC      CGPA\n",
       "DIPPERC  1.000000  0.346685\n",
       "CGPA     0.346685  1.000000"
      ]
     },
     "execution_count": 130,
     "metadata": {},
     "output_type": "execute_result"
    }
   ],
   "source": [
    "technologie.corr()"
   ]
  },
  {
   "cell_type": "code",
   "execution_count": 33,
   "metadata": {
    "scrolled": true
   },
   "outputs": [
    {
     "data": {
      "text/plain": [
       "(903, 8)"
      ]
     },
     "execution_count": 33,
     "metadata": {},
     "output_type": "execute_result"
    }
   ],
   "source": [
    "technologie.shape"
   ]
  },
  {
   "cell_type": "code",
   "execution_count": 51,
   "metadata": {
    "scrolled": true
   },
   "outputs": [
    {
     "data": {
      "text/html": [
       "<div>\n",
       "<table border=\"1\" class=\"dataframe\">\n",
       "  <thead>\n",
       "    <tr style=\"text-align: right;\">\n",
       "      <th></th>\n",
       "      <th>DIPPERC</th>\n",
       "      <th>SCHOOL_RIGHT</th>\n",
       "      <th>OPTION_RIGHT</th>\n",
       "      <th>FAC</th>\n",
       "      <th>CGPA</th>\n",
       "      <th>DistinctionRatio</th>\n",
       "      <th>EchecRatio</th>\n",
       "      <th>Pass1stSessionRatio</th>\n",
       "    </tr>\n",
       "    <tr>\n",
       "      <th>ID</th>\n",
       "      <th></th>\n",
       "      <th></th>\n",
       "      <th></th>\n",
       "      <th></th>\n",
       "      <th></th>\n",
       "      <th></th>\n",
       "      <th></th>\n",
       "      <th></th>\n",
       "    </tr>\n",
       "  </thead>\n",
       "  <tbody>\n",
       "    <tr>\n",
       "      <th>10124</th>\n",
       "      <td>50.0</td>\n",
       "      <td>zanner</td>\n",
       "      <td>commmerciale et adm</td>\n",
       "      <td>FSTA</td>\n",
       "      <td>47.000000</td>\n",
       "      <td>G</td>\n",
       "      <td>A</td>\n",
       "      <td>G</td>\n",
       "    </tr>\n",
       "    <tr>\n",
       "      <th>10560</th>\n",
       "      <td>51.0</td>\n",
       "      <td>zanner</td>\n",
       "      <td>latin philo</td>\n",
       "      <td>FSTA</td>\n",
       "      <td>42.000000</td>\n",
       "      <td>G</td>\n",
       "      <td>A</td>\n",
       "      <td>G</td>\n",
       "    </tr>\n",
       "    <tr>\n",
       "      <th>11697</th>\n",
       "      <td>52.0</td>\n",
       "      <td>zanner</td>\n",
       "      <td>commmerciale et adm</td>\n",
       "      <td>FSTA</td>\n",
       "      <td>45.099998</td>\n",
       "      <td>G</td>\n",
       "      <td>A</td>\n",
       "      <td>G</td>\n",
       "    </tr>\n",
       "    <tr>\n",
       "      <th>3289</th>\n",
       "      <td>61.0</td>\n",
       "      <td>edap/isp</td>\n",
       "      <td>math-physique</td>\n",
       "      <td>FSTA</td>\n",
       "      <td>47.000000</td>\n",
       "      <td>G</td>\n",
       "      <td>A</td>\n",
       "      <td>G</td>\n",
       "    </tr>\n",
       "    <tr>\n",
       "      <th>3691</th>\n",
       "      <td>59.0</td>\n",
       "      <td>edap/isp</td>\n",
       "      <td>commmerciale et adm</td>\n",
       "      <td>FSTA</td>\n",
       "      <td>64.300001</td>\n",
       "      <td>G</td>\n",
       "      <td>G</td>\n",
       "      <td>G</td>\n",
       "    </tr>\n",
       "  </tbody>\n",
       "</table>\n",
       "</div>"
      ],
      "text/plain": [
       "       DIPPERC SCHOOL_RIGHT         OPTION_RIGHT   FAC       CGPA  \\\n",
       "ID                                                                  \n",
       "10124     50.0       zanner  commmerciale et adm  FSTA  47.000000   \n",
       "10560     51.0       zanner          latin philo  FSTA  42.000000   \n",
       "11697     52.0       zanner  commmerciale et adm  FSTA  45.099998   \n",
       "3289      61.0     edap/isp        math-physique  FSTA  47.000000   \n",
       "3691      59.0     edap/isp  commmerciale et adm  FSTA  64.300001   \n",
       "\n",
       "      DistinctionRatio EchecRatio Pass1stSessionRatio  \n",
       "ID                                                     \n",
       "10124                G          A                   G  \n",
       "10560                G          A                   G  \n",
       "11697                G          A                   G  \n",
       "3289                 G          A                   G  \n",
       "3691                 G          G                   G  "
      ]
     },
     "execution_count": 51,
     "metadata": {},
     "output_type": "execute_result"
    }
   ],
   "source": [
    "technologie.head(5)"
   ]
  },
  {
   "cell_type": "code",
   "execution_count": 34,
   "metadata": {
    "scrolled": false
   },
   "outputs": [
    {
     "data": {
      "text/plain": [
       "G    459\n",
       "A    289\n",
       "D     66\n",
       "E     52\n",
       "C     34\n",
       "F      3\n",
       "Name: EchecRatio, dtype: int64"
      ]
     },
     "execution_count": 34,
     "metadata": {},
     "output_type": "execute_result"
    }
   ],
   "source": [
    "technologie.EchecRatio.value_counts()"
   ]
  },
  {
   "cell_type": "code",
   "execution_count": 212,
   "metadata": {
    "collapsed": true,
    "scrolled": true
   },
   "outputs": [],
   "source": [
    "techModel=PredictiveModelByilding(dataset=technologie,encoderFunction=ConvertCat)"
   ]
  },
  {
   "cell_type": "code",
   "execution_count": 213,
   "metadata": {},
   "outputs": [
    {
     "data": {
      "text/plain": [
       "dict"
      ]
     },
     "execution_count": 213,
     "metadata": {},
     "output_type": "execute_result"
    }
   ],
   "source": [
    "type(techModel.encoders)"
   ]
  },
  {
   "cell_type": "code",
   "execution_count": 214,
   "metadata": {
    "collapsed": true,
    "scrolled": true
   },
   "outputs": [],
   "source": [
    "techModel.scale(['DIPPERC','CGPA'])"
   ]
  },
  {
   "cell_type": "code",
   "execution_count": 215,
   "metadata": {
    "collapsed": true,
    "scrolled": false
   },
   "outputs": [],
   "source": [
    "trainDes,tesDes=techModel.split()"
   ]
  },
  {
   "cell_type": "code",
   "execution_count": 248,
   "metadata": {
    "scrolled": true
   },
   "outputs": [
    {
     "data": {
      "text/html": [
       "<div>\n",
       "<table border=\"1\" class=\"dataframe\">\n",
       "  <thead>\n",
       "    <tr style=\"text-align: right;\">\n",
       "      <th></th>\n",
       "      <th>DIPPERC</th>\n",
       "      <th>CGPA</th>\n",
       "    </tr>\n",
       "  </thead>\n",
       "  <tbody>\n",
       "    <tr>\n",
       "      <th>count</th>\n",
       "      <td>112.000000</td>\n",
       "      <td>112.000000</td>\n",
       "    </tr>\n",
       "    <tr>\n",
       "      <th>mean</th>\n",
       "      <td>0.537500</td>\n",
       "      <td>0.618471</td>\n",
       "    </tr>\n",
       "    <tr>\n",
       "      <th>std</th>\n",
       "      <td>0.039421</td>\n",
       "      <td>0.062725</td>\n",
       "    </tr>\n",
       "    <tr>\n",
       "      <th>min</th>\n",
       "      <td>0.500000</td>\n",
       "      <td>0.410000</td>\n",
       "    </tr>\n",
       "    <tr>\n",
       "      <th>25%</th>\n",
       "      <td>0.510000</td>\n",
       "      <td>0.591500</td>\n",
       "    </tr>\n",
       "    <tr>\n",
       "      <th>50%</th>\n",
       "      <td>0.520000</td>\n",
       "      <td>0.620500</td>\n",
       "    </tr>\n",
       "    <tr>\n",
       "      <th>75%</th>\n",
       "      <td>0.552500</td>\n",
       "      <td>0.660000</td>\n",
       "    </tr>\n",
       "    <tr>\n",
       "      <th>max</th>\n",
       "      <td>0.650000</td>\n",
       "      <td>0.732500</td>\n",
       "    </tr>\n",
       "  </tbody>\n",
       "</table>\n",
       "</div>"
      ],
      "text/plain": [
       "          DIPPERC        CGPA\n",
       "count  112.000000  112.000000\n",
       "mean     0.537500    0.618471\n",
       "std      0.039421    0.062725\n",
       "min      0.500000    0.410000\n",
       "25%      0.510000    0.591500\n",
       "50%      0.520000    0.620500\n",
       "75%      0.552500    0.660000\n",
       "max      0.650000    0.732500"
      ]
     },
     "execution_count": 248,
     "metadata": {},
     "output_type": "execute_result"
    }
   ],
   "source": [
    "trainDes"
   ]
  },
  {
   "cell_type": "code",
   "execution_count": 249,
   "metadata": {
    "scrolled": false
   },
   "outputs": [
    {
     "data": {
      "text/html": [
       "<div>\n",
       "<table border=\"1\" class=\"dataframe\">\n",
       "  <thead>\n",
       "    <tr style=\"text-align: right;\">\n",
       "      <th></th>\n",
       "      <th>DIPPERC</th>\n",
       "      <th>CGPA</th>\n",
       "    </tr>\n",
       "  </thead>\n",
       "  <tbody>\n",
       "    <tr>\n",
       "      <th>count</th>\n",
       "      <td>28.000000</td>\n",
       "      <td>28.000000</td>\n",
       "    </tr>\n",
       "    <tr>\n",
       "      <th>mean</th>\n",
       "      <td>0.540714</td>\n",
       "      <td>0.626101</td>\n",
       "    </tr>\n",
       "    <tr>\n",
       "      <th>std</th>\n",
       "      <td>0.043879</td>\n",
       "      <td>0.061257</td>\n",
       "    </tr>\n",
       "    <tr>\n",
       "      <th>min</th>\n",
       "      <td>0.500000</td>\n",
       "      <td>0.430000</td>\n",
       "    </tr>\n",
       "    <tr>\n",
       "      <th>25%</th>\n",
       "      <td>0.510000</td>\n",
       "      <td>0.606500</td>\n",
       "    </tr>\n",
       "    <tr>\n",
       "      <th>50%</th>\n",
       "      <td>0.520000</td>\n",
       "      <td>0.633500</td>\n",
       "    </tr>\n",
       "    <tr>\n",
       "      <th>75%</th>\n",
       "      <td>0.570000</td>\n",
       "      <td>0.654250</td>\n",
       "    </tr>\n",
       "    <tr>\n",
       "      <th>max</th>\n",
       "      <td>0.690000</td>\n",
       "      <td>0.734000</td>\n",
       "    </tr>\n",
       "  </tbody>\n",
       "</table>\n",
       "</div>"
      ],
      "text/plain": [
       "         DIPPERC       CGPA\n",
       "count  28.000000  28.000000\n",
       "mean    0.540714   0.626101\n",
       "std     0.043879   0.061257\n",
       "min     0.500000   0.430000\n",
       "25%     0.510000   0.606500\n",
       "50%     0.520000   0.633500\n",
       "75%     0.570000   0.654250\n",
       "max     0.690000   0.734000"
      ]
     },
     "execution_count": 249,
     "metadata": {},
     "output_type": "execute_result"
    }
   ],
   "source": [
    "tesDes"
   ]
  },
  {
   "cell_type": "code",
   "execution_count": 216,
   "metadata": {
    "scrolled": false
   },
   "outputs": [
    {
     "name": "stdout",
     "output_type": "stream",
     "text": [
      "[LibSVM]"
     ]
    }
   ],
   "source": [
    "predictedValues=techModel.train()"
   ]
  },
  {
   "cell_type": "code",
   "execution_count": 217,
   "metadata": {
    "scrolled": false
   },
   "outputs": [
    {
     "data": {
      "text/html": [
       "<div>\n",
       "<table border=\"1\" class=\"dataframe\">\n",
       "  <thead>\n",
       "    <tr style=\"text-align: right;\">\n",
       "      <th></th>\n",
       "      <th>ElasticNet</th>\n",
       "      <th>Lasso</th>\n",
       "      <th>LinearSVR</th>\n",
       "      <th>Ridge</th>\n",
       "      <th>SVR</th>\n",
       "      <th>RealValue</th>\n",
       "    </tr>\n",
       "    <tr>\n",
       "      <th>ID</th>\n",
       "      <th></th>\n",
       "      <th></th>\n",
       "      <th></th>\n",
       "      <th></th>\n",
       "      <th></th>\n",
       "      <th></th>\n",
       "    </tr>\n",
       "  </thead>\n",
       "  <tbody>\n",
       "    <tr>\n",
       "      <th>9486</th>\n",
       "      <td>0.634815</td>\n",
       "      <td>0.636905</td>\n",
       "      <td>0.647048</td>\n",
       "      <td>0.649259</td>\n",
       "      <td>0.577358</td>\n",
       "      <td>0.644333</td>\n",
       "    </tr>\n",
       "    <tr>\n",
       "      <th>11485</th>\n",
       "      <td>0.599690</td>\n",
       "      <td>0.598085</td>\n",
       "      <td>0.589958</td>\n",
       "      <td>0.587566</td>\n",
       "      <td>0.572318</td>\n",
       "      <td>0.629000</td>\n",
       "    </tr>\n",
       "    <tr>\n",
       "      <th>12161</th>\n",
       "      <td>0.569621</td>\n",
       "      <td>0.568737</td>\n",
       "      <td>0.565688</td>\n",
       "      <td>0.567193</td>\n",
       "      <td>0.556174</td>\n",
       "      <td>0.566000</td>\n",
       "    </tr>\n",
       "    <tr>\n",
       "      <th>7530</th>\n",
       "      <td>0.609765</td>\n",
       "      <td>0.612045</td>\n",
       "      <td>0.622319</td>\n",
       "      <td>0.624170</td>\n",
       "      <td>0.562753</td>\n",
       "      <td>0.517000</td>\n",
       "    </tr>\n",
       "    <tr>\n",
       "      <th>9959</th>\n",
       "      <td>0.688854</td>\n",
       "      <td>0.687146</td>\n",
       "      <td>0.656663</td>\n",
       "      <td>0.636091</td>\n",
       "      <td>0.563066</td>\n",
       "      <td>0.663000</td>\n",
       "    </tr>\n",
       "  </tbody>\n",
       "</table>\n",
       "</div>"
      ],
      "text/plain": [
       "       ElasticNet     Lasso  LinearSVR     Ridge       SVR  RealValue\n",
       "ID                                                                   \n",
       "9486     0.634815  0.636905   0.647048  0.649259  0.577358   0.644333\n",
       "11485    0.599690  0.598085   0.589958  0.587566  0.572318   0.629000\n",
       "12161    0.569621  0.568737   0.565688  0.567193  0.556174   0.566000\n",
       "7530     0.609765  0.612045   0.622319  0.624170  0.562753   0.517000\n",
       "9959     0.688854  0.687146   0.656663  0.636091  0.563066   0.663000"
      ]
     },
     "execution_count": 217,
     "metadata": {},
     "output_type": "execute_result"
    }
   ],
   "source": [
    "predictedValues.head(5)"
   ]
  },
  {
   "cell_type": "code",
   "execution_count": 218,
   "metadata": {
    "scrolled": true
   },
   "outputs": [
    {
     "name": "stdout",
     "output_type": "stream",
     "text": [
      "('Predictions:\\t', array([ 0.63481512,  0.59968978,  0.56962066,  0.60976482,  0.68885419]))\n",
      "('Labels:\\t\\t', [0.64433333078999988, 0.62900001525900007, 0.565999984741, 0.51699999809300001, 0.66300003051800005])\n",
      "('Predictions:\\t', array([ 0.57735789,  0.57231847,  0.55617352,  0.56275306,  0.56306622]))\n",
      "('Labels:\\t\\t', [0.64433333078999988, 0.62900001525900007, 0.565999984741, 0.51699999809300001, 0.66300003051800005])\n",
      "('Predictions:\\t', array([ 0.64704777,  0.58995805,  0.56568758,  0.62231925,  0.65666288]))\n",
      "('Labels:\\t\\t', [0.64433333078999988, 0.62900001525900007, 0.565999984741, 0.51699999809300001, 0.66300003051800005])\n",
      "('Predictions:\\t', array([ 0.6492594 ,  0.58756614,  0.56719251,  0.62417026,  0.63609105]))\n",
      "('Labels:\\t\\t', [0.64433333078999988, 0.62900001525900007, 0.565999984741, 0.51699999809300001, 0.66300003051800005])\n",
      "('Predictions:\\t', array([ 0.63690525,  0.59808495,  0.56873684,  0.61204493,  0.6871458 ]))\n",
      "('Labels:\\t\\t', [0.64433333078999988, 0.62900001525900007, 0.565999984741, 0.51699999809300001, 0.66300003051800005])\n"
     ]
    }
   ],
   "source": [
    "RMSE={}\n",
    "for reg in techModel.predictiveModels.keys():\n",
    "    rmse=techModel.evaluate(model=reg,on='train') #RMSE of each model\n",
    "    RMSE[reg]=[rmse,rmse*100/techModel.dataset_bin.CGPA.mean()]"
   ]
  },
  {
   "cell_type": "code",
   "execution_count": 180,
   "metadata": {
    "scrolled": true
   },
   "outputs": [
    {
     "data": {
      "text/plain": [
       "(903, 240)"
      ]
     },
     "execution_count": 180,
     "metadata": {},
     "output_type": "execute_result"
    }
   ],
   "source": [
    "techModel.dataset_bin.shape"
   ]
  },
  {
   "cell_type": "code",
   "execution_count": 219,
   "metadata": {
    "scrolled": false
   },
   "outputs": [
    {
     "data": {
      "text/plain": [
       "{'ElasticNet': [0.061952060117206845, 11.178710379171463],\n",
       " 'Lasso': [0.062044077906170544, 11.19531418880444],\n",
       " 'LinearSVR': [0.064208474475398264, 11.585860723452269],\n",
       " 'Ridge': [0.065947807694384991, 11.899708273818463],\n",
       " 'SVR': [0.077191883495771912, 13.928603949399779]}"
      ]
     },
     "execution_count": 219,
     "metadata": {},
     "output_type": "execute_result"
    }
   ],
   "source": [
    "RMSE"
   ]
  },
  {
   "cell_type": "markdown",
   "metadata": {},
   "source": [
    "on remarque aisement que les valeurs predites par differents regressons disposent d'une bonne exacitude"
   ]
  },
  {
   "cell_type": "code",
   "execution_count": 159,
   "metadata": {},
   "outputs": [
    {
     "name": "stdout",
     "output_type": "stream",
     "text": [
      "[LibSVM][LibSVM][LibSVM][LibSVM][LibSVM][LibSVM][LibSVM][LibSVM][LibSVM][LibSVM]"
     ]
    }
   ],
   "source": [
    "CVScore={}\n",
    "for reg in techModel.predictiveModels.keys():\n",
    "    scores,Sstd,Smean=techModel.crossEvaluate(model=reg) #RMSE of each model\n",
    "    CVScore[reg]=[Smean,Smean*100/techModel.dataset_bin.CGPA.mean(),Sstd]"
   ]
  },
  {
   "cell_type": "code",
   "execution_count": 160,
   "metadata": {
    "scrolled": true
   },
   "outputs": [
    {
     "data": {
      "text/plain": [
       "{'ElasticNet': [0.080614181083205991,\n",
       "  14.546127781357663,\n",
       "  0.006798679897684492],\n",
       " 'Lasso': [0.080337423403767885, 14.496189265385846, 0.0067501931079835724],\n",
       " 'LinearSVR': [0.081768695928976246,\n",
       "  14.754449943121173,\n",
       "  0.0060599790765970161],\n",
       " 'Ridge': [0.07732886997795145, 13.953321968578633, 0.0066876799718420064],\n",
       " 'SVR': [0.079899404867756249, 14.41715263051819, 0.0053812025523476371]}"
      ]
     },
     "execution_count": 160,
     "metadata": {},
     "output_type": "execute_result"
    }
   ],
   "source": [
    "CVScore"
   ]
  },
  {
   "cell_type": "markdown",
   "metadata": {},
   "source": [
    "Aussi on peut remarquer les methodes lineaires disposent des meilleurs resulats"
   ]
  },
  {
   "cell_type": "code",
   "execution_count": 161,
   "metadata": {
    "scrolled": true
   },
   "outputs": [
    {
     "name": "stdout",
     "output_type": "stream",
     "text": [
      "('Predictions:\\t', array([ 0.39638595,  0.53117382,  0.68525706,  0.59829498,  0.57548309]))\n",
      "('Labels:\\t\\t', [0.46999999999999997, 0.40999999999999998, 0.67150001525899994, 0.64800003051800004, 0.48999999999999999])\n",
      "('Predictions:\\t', array([ 0.51200495,  0.54524049,  0.62750567,  0.57136649,  0.57215634]))\n",
      "('Labels:\\t\\t', [0.46999999999999997, 0.40999999999999998, 0.67150001525899994, 0.64800003051800004, 0.48999999999999999])\n",
      "('Predictions:\\t', array([ 0.40266541,  0.52672515,  0.68320047,  0.59397141,  0.56617559]))\n",
      "('Labels:\\t\\t', [0.46999999999999997, 0.40999999999999998, 0.67150001525899994, 0.64800003051800004, 0.48999999999999999])\n",
      "('Predictions:\\t', array([ 0.43734936,  0.55229027,  0.68046839,  0.59775067,  0.58092574]))\n",
      "('Labels:\\t\\t', [0.46999999999999997, 0.40999999999999998, 0.67150001525899994, 0.64800003051800004, 0.48999999999999999])\n",
      "('Predictions:\\t', array([ 0.39972731,  0.53472928,  0.6848059 ,  0.59802918,  0.57537606]))\n",
      "('Labels:\\t\\t', [0.46999999999999997, 0.40999999999999998, 0.67150001525899994, 0.64800003051800004, 0.48999999999999999])\n"
     ]
    }
   ],
   "source": [
    "RMSE={}\n",
    "for reg in techModel.predictiveModels.keys():\n",
    "    rmse=techModel.evaluate(model=reg,on='test') #RMSE of each model\n",
    "    RMSE[reg]=[rmse,rmse*100/techModel.dataset_bin.CGPA.mean()]"
   ]
  },
  {
   "cell_type": "code",
   "execution_count": 162,
   "metadata": {
    "scrolled": true
   },
   "outputs": [
    {
     "data": {
      "text/plain": [
       "{'ElasticNet': [0.07878055492562179, 14.215265890396694],\n",
       " 'Lasso': [0.078458853278539215, 14.157217626393287],\n",
       " 'LinearSVR': [0.07745361711389151, 13.975831504188374],\n",
       " 'Ridge': [0.07667625412410424, 13.835563114309517],\n",
       " 'SVR': [0.077260716153879569, 13.941024203837779]}"
      ]
     },
     "execution_count": 162,
     "metadata": {},
     "output_type": "execute_result"
    }
   ],
   "source": [
    "RMSE"
   ]
  },
  {
   "cell_type": "code",
   "execution_count": 58,
   "metadata": {
    "scrolled": true
   },
   "outputs": [
    {
     "data": {
      "text/plain": [
       "Index([u'ElasticNet', u'Lasso', u'LinearSVR', u'Ridge', u'SVR', u'RealValue'], dtype='object')"
      ]
     },
     "execution_count": 58,
     "metadata": {},
     "output_type": "execute_result"
    }
   ],
   "source": [
    "predictedValues.columns"
   ]
  },
  {
   "cell_type": "code",
   "execution_count": 237,
   "metadata": {
    "scrolled": false
   },
   "outputs": [
    {
     "ename": "NameError",
     "evalue": "name 'medecineModel' is not defined",
     "output_type": "error",
     "traceback": [
      "\u001b[0;31m---------------------------------------------------------------------------\u001b[0m",
      "\u001b[0;31mNameError\u001b[0m                                 Traceback (most recent call last)",
      "\u001b[0;32m<ipython-input-237-d87d0cd668b5>\u001b[0m in \u001b[0;36m<module>\u001b[0;34m()\u001b[0m\n\u001b[0;32m----> 1\u001b[0;31m \u001b[0mfinalPred\u001b[0m\u001b[0;34m,\u001b[0m\u001b[0mfinalRMSE\u001b[0m\u001b[0;34m=\u001b[0m\u001b[0mmedecineModel\u001b[0m\u001b[0;34m.\u001b[0m\u001b[0mensembelMethods\u001b[0m\u001b[0;34m(\u001b[0m\u001b[0mpredictedValues\u001b[0m\u001b[0;34m=\u001b[0m\u001b[0mpredictedValues\u001b[0m\u001b[0;34m)\u001b[0m\u001b[0;34m\u001b[0m\u001b[0m\n\u001b[0m",
      "\u001b[0;31mNameError\u001b[0m: name 'medecineModel' is not defined"
     ]
    }
   ],
   "source": [
    "finalPred,finalRMSE=medecineModel.ensembelMethods(predictedValues=predictedValues)"
   ]
  },
  {
   "cell_type": "code",
   "execution_count": 60,
   "metadata": {
    "scrolled": true
   },
   "outputs": [
    {
     "data": {
      "text/html": [
       "<div>\n",
       "<table border=\"1\" class=\"dataframe\">\n",
       "  <thead>\n",
       "    <tr style=\"text-align: right;\">\n",
       "      <th></th>\n",
       "      <th>ElasticNet</th>\n",
       "      <th>Lasso</th>\n",
       "      <th>LinearSVR</th>\n",
       "      <th>Ridge</th>\n",
       "      <th>SVR</th>\n",
       "      <th>RealValue</th>\n",
       "      <th>finalPredict</th>\n",
       "    </tr>\n",
       "    <tr>\n",
       "      <th>ID</th>\n",
       "      <th></th>\n",
       "      <th></th>\n",
       "      <th></th>\n",
       "      <th></th>\n",
       "      <th></th>\n",
       "      <th></th>\n",
       "      <th></th>\n",
       "    </tr>\n",
       "  </thead>\n",
       "  <tbody>\n",
       "    <tr>\n",
       "      <th>9486</th>\n",
       "      <td>0.634815</td>\n",
       "      <td>0.634622</td>\n",
       "      <td>0.647048</td>\n",
       "      <td>0.626841</td>\n",
       "      <td>0.577358</td>\n",
       "      <td>0.644333</td>\n",
       "      <td>0.635030</td>\n",
       "    </tr>\n",
       "    <tr>\n",
       "      <th>11485</th>\n",
       "      <td>0.599690</td>\n",
       "      <td>0.599323</td>\n",
       "      <td>0.589958</td>\n",
       "      <td>0.599942</td>\n",
       "      <td>0.572318</td>\n",
       "      <td>0.629000</td>\n",
       "      <td>0.600011</td>\n",
       "    </tr>\n",
       "    <tr>\n",
       "      <th>12161</th>\n",
       "      <td>0.569621</td>\n",
       "      <td>0.572930</td>\n",
       "      <td>0.565688</td>\n",
       "      <td>0.565653</td>\n",
       "      <td>0.556174</td>\n",
       "      <td>0.566000</td>\n",
       "      <td>0.566193</td>\n",
       "    </tr>\n",
       "    <tr>\n",
       "      <th>7530</th>\n",
       "      <td>0.609765</td>\n",
       "      <td>0.609463</td>\n",
       "      <td>0.622319</td>\n",
       "      <td>0.600205</td>\n",
       "      <td>0.562753</td>\n",
       "      <td>0.517000</td>\n",
       "      <td>0.610128</td>\n",
       "    </tr>\n",
       "    <tr>\n",
       "      <th>9959</th>\n",
       "      <td>0.688854</td>\n",
       "      <td>0.687458</td>\n",
       "      <td>0.656663</td>\n",
       "      <td>0.645131</td>\n",
       "      <td>0.563066</td>\n",
       "      <td>0.663000</td>\n",
       "      <td>0.690692</td>\n",
       "    </tr>\n",
       "  </tbody>\n",
       "</table>\n",
       "</div>"
      ],
      "text/plain": [
       "       ElasticNet     Lasso  LinearSVR     Ridge       SVR  RealValue  \\\n",
       "ID                                                                      \n",
       "9486     0.634815  0.634622   0.647048  0.626841  0.577358   0.644333   \n",
       "11485    0.599690  0.599323   0.589958  0.599942  0.572318   0.629000   \n",
       "12161    0.569621  0.572930   0.565688  0.565653  0.556174   0.566000   \n",
       "7530     0.609765  0.609463   0.622319  0.600205  0.562753   0.517000   \n",
       "9959     0.688854  0.687458   0.656663  0.645131  0.563066   0.663000   \n",
       "\n",
       "       finalPredict  \n",
       "ID                   \n",
       "9486       0.635030  \n",
       "11485      0.600011  \n",
       "12161      0.566193  \n",
       "7530       0.610128  \n",
       "9959       0.690692  "
      ]
     },
     "execution_count": 60,
     "metadata": {},
     "output_type": "execute_result"
    }
   ],
   "source": [
    "finalPred.head(5)"
   ]
  },
  {
   "cell_type": "code",
   "execution_count": 167,
   "metadata": {
    "scrolled": true
   },
   "outputs": [
    {
     "data": {
      "text/plain": [
       "11.174584576648359"
      ]
     },
     "execution_count": 167,
     "metadata": {},
     "output_type": "execute_result"
    }
   ],
   "source": [
    "finalRMSE*100/techModel.dataset_bin.CGPA.mean()"
   ]
  },
  {
   "cell_type": "markdown",
   "metadata": {},
   "source": [
    "On remarque que notre ensemble methode sans modele avec SVM nous donne un score de R% en valdiation croisé voyons combien il nous donnerasavec l'ensemble d'evaluation"
   ]
  },
  {
   "cell_type": "code",
   "execution_count": 171,
   "metadata": {
    "collapsed": true
   },
   "outputs": [],
   "source": [
    "predictionTest=techModel.predictTest()"
   ]
  },
  {
   "cell_type": "code",
   "execution_count": 169,
   "metadata": {
    "scrolled": false
   },
   "outputs": [
    {
     "data": {
      "text/html": [
       "<div>\n",
       "<table border=\"1\" class=\"dataframe\">\n",
       "  <thead>\n",
       "    <tr style=\"text-align: right;\">\n",
       "      <th></th>\n",
       "      <th>ElasticNet</th>\n",
       "      <th>Lasso</th>\n",
       "      <th>LinearSVR</th>\n",
       "      <th>Ridge</th>\n",
       "      <th>SVR</th>\n",
       "      <th>RealValue</th>\n",
       "    </tr>\n",
       "    <tr>\n",
       "      <th>ID</th>\n",
       "      <th></th>\n",
       "      <th></th>\n",
       "      <th></th>\n",
       "      <th></th>\n",
       "      <th></th>\n",
       "      <th></th>\n",
       "    </tr>\n",
       "  </thead>\n",
       "  <tbody>\n",
       "    <tr>\n",
       "      <th>10825</th>\n",
       "      <td>0.551732</td>\n",
       "      <td>0.552633</td>\n",
       "      <td>0.55165</td>\n",
       "      <td>0.560239</td>\n",
       "      <td>0.563527</td>\n",
       "      <td>0.543</td>\n",
       "    </tr>\n",
       "  </tbody>\n",
       "</table>\n",
       "</div>"
      ],
      "text/plain": [
       "       ElasticNet     Lasso  LinearSVR     Ridge       SVR  RealValue\n",
       "ID                                                                   \n",
       "10825    0.551732  0.552633    0.55165  0.560239  0.563527      0.543"
      ]
     },
     "execution_count": 169,
     "metadata": {},
     "output_type": "execute_result"
    }
   ],
   "source": [
    "predictionTest.head(1)"
   ]
  },
  {
   "cell_type": "code",
   "execution_count": 236,
   "metadata": {},
   "outputs": [
    {
     "ename": "NameError",
     "evalue": "name 'predictionTest' is not defined",
     "output_type": "error",
     "traceback": [
      "\u001b[0;31m---------------------------------------------------------------------------\u001b[0m",
      "\u001b[0;31mNameError\u001b[0m                                 Traceback (most recent call last)",
      "\u001b[0;32m<ipython-input-236-bb44f1745bf7>\u001b[0m in \u001b[0;36m<module>\u001b[0;34m()\u001b[0m\n\u001b[0;32m----> 1\u001b[0;31m \u001b[0mfinalPredictTes\u001b[0m\u001b[0;34m,\u001b[0m\u001b[0mrmseFinalTest\u001b[0m\u001b[0;34m=\u001b[0m\u001b[0mtechModel\u001b[0m\u001b[0;34m.\u001b[0m\u001b[0mensembelMethods\u001b[0m\u001b[0;34m(\u001b[0m\u001b[0mpredictedValues\u001b[0m\u001b[0;34m=\u001b[0m\u001b[0mpredictionTest\u001b[0m\u001b[0;34m)\u001b[0m\u001b[0;34m\u001b[0m\u001b[0m\n\u001b[0m",
      "\u001b[0;31mNameError\u001b[0m: name 'predictionTest' is not defined"
     ]
    }
   ],
   "source": [
    "finalPredictTes,rmseFinalTest=techModel.ensembelMethods(predictedValues=predictionTest)"
   ]
  },
  {
   "cell_type": "code",
   "execution_count": 173,
   "metadata": {
    "scrolled": true
   },
   "outputs": [
    {
     "data": {
      "text/plain": [
       "12.863755030838947"
      ]
     },
     "execution_count": 173,
     "metadata": {},
     "output_type": "execute_result"
    }
   ],
   "source": [
    "rmseFinalTest*100/techModel.Y_test.mean()"
   ]
  },
  {
   "cell_type": "markdown",
   "metadata": {},
   "source": [
    "Nous avons un resulat de % sur notre ensemble d'evaluation wouhhhhh........"
   ]
  },
  {
   "cell_type": "markdown",
   "metadata": {},
   "source": [
    "#### Faculté d'économie"
   ]
  },
  {
   "cell_type": "code",
   "execution_count": 185,
   "metadata": {
    "collapsed": true,
    "scrolled": false
   },
   "outputs": [],
   "source": [
    "economie = datasetCGPA.loc[datasetCGPA.FAC=='FSEG']"
   ]
  },
  {
   "cell_type": "code",
   "execution_count": 186,
   "metadata": {
    "scrolled": true
   },
   "outputs": [
    {
     "data": {
      "text/html": [
       "<div>\n",
       "<table border=\"1\" class=\"dataframe\">\n",
       "  <thead>\n",
       "    <tr style=\"text-align: right;\">\n",
       "      <th></th>\n",
       "      <th>DIPPERC</th>\n",
       "      <th>SCHOOL_RIGHT</th>\n",
       "      <th>OPTION_RIGHT</th>\n",
       "      <th>FAC</th>\n",
       "      <th>CGPA</th>\n",
       "      <th>DistinctionRatio</th>\n",
       "      <th>EchecRatio</th>\n",
       "      <th>Pass1stSessionRatio</th>\n",
       "    </tr>\n",
       "    <tr>\n",
       "      <th>ID</th>\n",
       "      <th></th>\n",
       "      <th></th>\n",
       "      <th></th>\n",
       "      <th></th>\n",
       "      <th></th>\n",
       "      <th></th>\n",
       "      <th></th>\n",
       "      <th></th>\n",
       "    </tr>\n",
       "  </thead>\n",
       "  <tbody>\n",
       "    <tr>\n",
       "      <th>3895</th>\n",
       "      <td>52.0</td>\n",
       "      <td>zanner</td>\n",
       "      <td>commmerciale et adm</td>\n",
       "      <td>FSEG</td>\n",
       "      <td>59.400002</td>\n",
       "      <td>G</td>\n",
       "      <td>G</td>\n",
       "      <td>G</td>\n",
       "    </tr>\n",
       "    <tr>\n",
       "      <th>4048</th>\n",
       "      <td>53.0</td>\n",
       "      <td>zanner</td>\n",
       "      <td>commmerciale et adm</td>\n",
       "      <td>FSEG</td>\n",
       "      <td>40.000000</td>\n",
       "      <td>G</td>\n",
       "      <td>A</td>\n",
       "      <td>G</td>\n",
       "    </tr>\n",
       "    <tr>\n",
       "      <th>4217</th>\n",
       "      <td>54.0</td>\n",
       "      <td>zanner</td>\n",
       "      <td>commmerciale et adm</td>\n",
       "      <td>FSEG</td>\n",
       "      <td>61.299999</td>\n",
       "      <td>G</td>\n",
       "      <td>G</td>\n",
       "      <td>A</td>\n",
       "    </tr>\n",
       "    <tr>\n",
       "      <th>4347</th>\n",
       "      <td>53.0</td>\n",
       "      <td>zanner</td>\n",
       "      <td>commmerciale et adm</td>\n",
       "      <td>FSEG</td>\n",
       "      <td>60.599998</td>\n",
       "      <td>G</td>\n",
       "      <td>G</td>\n",
       "      <td>G</td>\n",
       "    </tr>\n",
       "    <tr>\n",
       "      <th>4409</th>\n",
       "      <td>58.0</td>\n",
       "      <td>zanner</td>\n",
       "      <td>commmerciale et adm</td>\n",
       "      <td>FSEG</td>\n",
       "      <td>48.599998</td>\n",
       "      <td>G</td>\n",
       "      <td>A</td>\n",
       "      <td>G</td>\n",
       "    </tr>\n",
       "  </tbody>\n",
       "</table>\n",
       "</div>"
      ],
      "text/plain": [
       "      DIPPERC SCHOOL_RIGHT         OPTION_RIGHT   FAC       CGPA  \\\n",
       "ID                                                                 \n",
       "3895     52.0       zanner  commmerciale et adm  FSEG  59.400002   \n",
       "4048     53.0       zanner  commmerciale et adm  FSEG  40.000000   \n",
       "4217     54.0       zanner  commmerciale et adm  FSEG  61.299999   \n",
       "4347     53.0       zanner  commmerciale et adm  FSEG  60.599998   \n",
       "4409     58.0       zanner  commmerciale et adm  FSEG  48.599998   \n",
       "\n",
       "     DistinctionRatio EchecRatio Pass1stSessionRatio  \n",
       "ID                                                    \n",
       "3895                G          G                   G  \n",
       "4048                G          A                   G  \n",
       "4217                G          G                   A  \n",
       "4347                G          G                   G  \n",
       "4409                G          A                   G  "
      ]
     },
     "execution_count": 186,
     "metadata": {},
     "output_type": "execute_result"
    }
   ],
   "source": [
    "economie.head(5)"
   ]
  },
  {
   "cell_type": "code",
   "execution_count": 187,
   "metadata": {
    "collapsed": true,
    "scrolled": true
   },
   "outputs": [],
   "source": [
    "economieModel=PredictiveModelByilding(dataset=economie,encoderFunction=ConvertCat)"
   ]
  },
  {
   "cell_type": "code",
   "execution_count": 188,
   "metadata": {
    "collapsed": true,
    "scrolled": true
   },
   "outputs": [],
   "source": [
    "economieModel.scale(['DIPPERC','CGPA'])"
   ]
  },
  {
   "cell_type": "code",
   "execution_count": 189,
   "metadata": {
    "collapsed": true,
    "scrolled": false
   },
   "outputs": [],
   "source": [
    "trainDes,tesDes=economieModel.split()"
   ]
  },
  {
   "cell_type": "code",
   "execution_count": 248,
   "metadata": {
    "scrolled": false
   },
   "outputs": [
    {
     "data": {
      "text/html": [
       "<div>\n",
       "<table border=\"1\" class=\"dataframe\">\n",
       "  <thead>\n",
       "    <tr style=\"text-align: right;\">\n",
       "      <th></th>\n",
       "      <th>DIPPERC</th>\n",
       "      <th>CGPA</th>\n",
       "    </tr>\n",
       "  </thead>\n",
       "  <tbody>\n",
       "    <tr>\n",
       "      <th>count</th>\n",
       "      <td>112.000000</td>\n",
       "      <td>112.000000</td>\n",
       "    </tr>\n",
       "    <tr>\n",
       "      <th>mean</th>\n",
       "      <td>0.537500</td>\n",
       "      <td>0.618471</td>\n",
       "    </tr>\n",
       "    <tr>\n",
       "      <th>std</th>\n",
       "      <td>0.039421</td>\n",
       "      <td>0.062725</td>\n",
       "    </tr>\n",
       "    <tr>\n",
       "      <th>min</th>\n",
       "      <td>0.500000</td>\n",
       "      <td>0.410000</td>\n",
       "    </tr>\n",
       "    <tr>\n",
       "      <th>25%</th>\n",
       "      <td>0.510000</td>\n",
       "      <td>0.591500</td>\n",
       "    </tr>\n",
       "    <tr>\n",
       "      <th>50%</th>\n",
       "      <td>0.520000</td>\n",
       "      <td>0.620500</td>\n",
       "    </tr>\n",
       "    <tr>\n",
       "      <th>75%</th>\n",
       "      <td>0.552500</td>\n",
       "      <td>0.660000</td>\n",
       "    </tr>\n",
       "    <tr>\n",
       "      <th>max</th>\n",
       "      <td>0.650000</td>\n",
       "      <td>0.732500</td>\n",
       "    </tr>\n",
       "  </tbody>\n",
       "</table>\n",
       "</div>"
      ],
      "text/plain": [
       "          DIPPERC        CGPA\n",
       "count  112.000000  112.000000\n",
       "mean     0.537500    0.618471\n",
       "std      0.039421    0.062725\n",
       "min      0.500000    0.410000\n",
       "25%      0.510000    0.591500\n",
       "50%      0.520000    0.620500\n",
       "75%      0.552500    0.660000\n",
       "max      0.650000    0.732500"
      ]
     },
     "execution_count": 248,
     "metadata": {},
     "output_type": "execute_result"
    }
   ],
   "source": [
    "trainDes"
   ]
  },
  {
   "cell_type": "code",
   "execution_count": 249,
   "metadata": {
    "scrolled": false
   },
   "outputs": [
    {
     "data": {
      "text/html": [
       "<div>\n",
       "<table border=\"1\" class=\"dataframe\">\n",
       "  <thead>\n",
       "    <tr style=\"text-align: right;\">\n",
       "      <th></th>\n",
       "      <th>DIPPERC</th>\n",
       "      <th>CGPA</th>\n",
       "    </tr>\n",
       "  </thead>\n",
       "  <tbody>\n",
       "    <tr>\n",
       "      <th>count</th>\n",
       "      <td>28.000000</td>\n",
       "      <td>28.000000</td>\n",
       "    </tr>\n",
       "    <tr>\n",
       "      <th>mean</th>\n",
       "      <td>0.540714</td>\n",
       "      <td>0.626101</td>\n",
       "    </tr>\n",
       "    <tr>\n",
       "      <th>std</th>\n",
       "      <td>0.043879</td>\n",
       "      <td>0.061257</td>\n",
       "    </tr>\n",
       "    <tr>\n",
       "      <th>min</th>\n",
       "      <td>0.500000</td>\n",
       "      <td>0.430000</td>\n",
       "    </tr>\n",
       "    <tr>\n",
       "      <th>25%</th>\n",
       "      <td>0.510000</td>\n",
       "      <td>0.606500</td>\n",
       "    </tr>\n",
       "    <tr>\n",
       "      <th>50%</th>\n",
       "      <td>0.520000</td>\n",
       "      <td>0.633500</td>\n",
       "    </tr>\n",
       "    <tr>\n",
       "      <th>75%</th>\n",
       "      <td>0.570000</td>\n",
       "      <td>0.654250</td>\n",
       "    </tr>\n",
       "    <tr>\n",
       "      <th>max</th>\n",
       "      <td>0.690000</td>\n",
       "      <td>0.734000</td>\n",
       "    </tr>\n",
       "  </tbody>\n",
       "</table>\n",
       "</div>"
      ],
      "text/plain": [
       "         DIPPERC       CGPA\n",
       "count  28.000000  28.000000\n",
       "mean    0.540714   0.626101\n",
       "std     0.043879   0.061257\n",
       "min     0.500000   0.430000\n",
       "25%     0.510000   0.606500\n",
       "50%     0.520000   0.633500\n",
       "75%     0.570000   0.654250\n",
       "max     0.690000   0.734000"
      ]
     },
     "execution_count": 249,
     "metadata": {},
     "output_type": "execute_result"
    }
   ],
   "source": [
    "tesDes"
   ]
  },
  {
   "cell_type": "code",
   "execution_count": 190,
   "metadata": {},
   "outputs": [
    {
     "name": "stdout",
     "output_type": "stream",
     "text": [
      "[LibSVM]"
     ]
    }
   ],
   "source": [
    "predictedValues=economieModel.train()"
   ]
  },
  {
   "cell_type": "code",
   "execution_count": 191,
   "metadata": {
    "scrolled": false
   },
   "outputs": [
    {
     "data": {
      "text/html": [
       "<div>\n",
       "<table border=\"1\" class=\"dataframe\">\n",
       "  <thead>\n",
       "    <tr style=\"text-align: right;\">\n",
       "      <th></th>\n",
       "      <th>ElasticNet</th>\n",
       "      <th>Lasso</th>\n",
       "      <th>LinearSVR</th>\n",
       "      <th>Ridge</th>\n",
       "      <th>SVR</th>\n",
       "      <th>RealValue</th>\n",
       "    </tr>\n",
       "    <tr>\n",
       "      <th>ID</th>\n",
       "      <th></th>\n",
       "      <th></th>\n",
       "      <th></th>\n",
       "      <th></th>\n",
       "      <th></th>\n",
       "      <th></th>\n",
       "    </tr>\n",
       "  </thead>\n",
       "  <tbody>\n",
       "    <tr>\n",
       "      <th>3907</th>\n",
       "      <td>0.555112</td>\n",
       "      <td>0.554611</td>\n",
       "      <td>0.544067</td>\n",
       "      <td>0.557017</td>\n",
       "      <td>0.550573</td>\n",
       "      <td>0.486000</td>\n",
       "    </tr>\n",
       "    <tr>\n",
       "      <th>9700</th>\n",
       "      <td>0.602081</td>\n",
       "      <td>0.600060</td>\n",
       "      <td>0.599212</td>\n",
       "      <td>0.594155</td>\n",
       "      <td>0.545582</td>\n",
       "      <td>0.619000</td>\n",
       "    </tr>\n",
       "    <tr>\n",
       "      <th>9098</th>\n",
       "      <td>0.611790</td>\n",
       "      <td>0.605943</td>\n",
       "      <td>0.585577</td>\n",
       "      <td>0.584145</td>\n",
       "      <td>0.544026</td>\n",
       "      <td>0.618333</td>\n",
       "    </tr>\n",
       "    <tr>\n",
       "      <th>11606</th>\n",
       "      <td>0.582595</td>\n",
       "      <td>0.582465</td>\n",
       "      <td>0.576753</td>\n",
       "      <td>0.583322</td>\n",
       "      <td>0.544791</td>\n",
       "      <td>0.596000</td>\n",
       "    </tr>\n",
       "    <tr>\n",
       "      <th>7145</th>\n",
       "      <td>0.604056</td>\n",
       "      <td>0.603877</td>\n",
       "      <td>0.607617</td>\n",
       "      <td>0.603269</td>\n",
       "      <td>0.553744</td>\n",
       "      <td>0.623333</td>\n",
       "    </tr>\n",
       "  </tbody>\n",
       "</table>\n",
       "</div>"
      ],
      "text/plain": [
       "       ElasticNet     Lasso  LinearSVR     Ridge       SVR  RealValue\n",
       "ID                                                                   \n",
       "3907     0.555112  0.554611   0.544067  0.557017  0.550573   0.486000\n",
       "9700     0.602081  0.600060   0.599212  0.594155  0.545582   0.619000\n",
       "9098     0.611790  0.605943   0.585577  0.584145  0.544026   0.618333\n",
       "11606    0.582595  0.582465   0.576753  0.583322  0.544791   0.596000\n",
       "7145     0.604056  0.603877   0.607617  0.603269  0.553744   0.623333"
      ]
     },
     "execution_count": 191,
     "metadata": {},
     "output_type": "execute_result"
    }
   ],
   "source": [
    "predictedValues.head(5)"
   ]
  },
  {
   "cell_type": "code",
   "execution_count": 192,
   "metadata": {
    "scrolled": true
   },
   "outputs": [
    {
     "name": "stdout",
     "output_type": "stream",
     "text": [
      "('Predictions:\\t', array([ 0.55511222,  0.60208057,  0.61179008,  0.58259483,  0.60405612]))\n",
      "('Labels:\\t\\t', [0.48599998474099998, 0.61899999618500001, 0.618333333333, 0.59599998474100002, 0.62333333333300001])\n",
      "('Predictions:\\t', array([ 0.55057317,  0.54558226,  0.54402584,  0.54479125,  0.5537442 ]))\n",
      "('Labels:\\t\\t', [0.48599998474099998, 0.61899999618500001, 0.618333333333, 0.59599998474100002, 0.62333333333300001])\n",
      "('Predictions:\\t', array([ 0.54406702,  0.59921186,  0.58557652,  0.57675313,  0.60761677]))\n",
      "('Labels:\\t\\t', [0.48599998474099998, 0.61899999618500001, 0.618333333333, 0.59599998474100002, 0.62333333333300001])\n",
      "('Predictions:\\t', array([ 0.55701682,  0.59415512,  0.58414456,  0.58332202,  0.60326932]))\n",
      "('Labels:\\t\\t', [0.48599998474099998, 0.61899999618500001, 0.618333333333, 0.59599998474100002, 0.62333333333300001])\n",
      "('Predictions:\\t', array([ 0.55461081,  0.60006044,  0.60594333,  0.58246539,  0.60387692]))\n",
      "('Labels:\\t\\t', [0.48599998474099998, 0.61899999618500001, 0.618333333333, 0.59599998474100002, 0.62333333333300001])\n"
     ]
    }
   ],
   "source": [
    "RMSE={}\n",
    "for reg in economieModel.predictiveModels.keys():\n",
    "    rmse=economieModel.evaluate(model=reg,on='train') #RMSE of each model\n",
    "    RMSE[reg]=[rmse,rmse*100/economieModel.dataset_bin.CGPA.mean()]"
   ]
  },
  {
   "cell_type": "code",
   "execution_count": 193,
   "metadata": {
    "scrolled": false
   },
   "outputs": [
    {
     "data": {
      "text/plain": [
       "{'ElasticNet': [0.047821194298310048, 8.47201039968194],\n",
       " 'Lasso': [0.047958756376958421, 8.4963809194485727],\n",
       " 'LinearSVR': [0.050122559048785743, 8.8797205454777028],\n",
       " 'Ridge': [0.049256183881533661, 8.7262333828359875],\n",
       " 'SVR': [0.061859836390664738, 10.959098469083097]}"
      ]
     },
     "execution_count": 193,
     "metadata": {},
     "output_type": "execute_result"
    }
   ],
   "source": [
    "RMSE"
   ]
  },
  {
   "cell_type": "markdown",
   "metadata": {},
   "source": [
    "on remarque aisement que les valeurs predites par differents regressons disposent d'une bonne exacitude"
   ]
  },
  {
   "cell_type": "code",
   "execution_count": 194,
   "metadata": {},
   "outputs": [
    {
     "name": "stdout",
     "output_type": "stream",
     "text": [
      "[LibSVM][LibSVM][LibSVM][LibSVM][LibSVM][LibSVM][LibSVM][LibSVM][LibSVM][LibSVM]"
     ]
    }
   ],
   "source": [
    "CVScore={}\n",
    "for reg in economieModel.predictiveModels.keys():\n",
    "    scores,Sstd,Smean=economieModel.crossEvaluate(model=reg) #RMSE of each model\n",
    "    CVScore[reg]=[Smean,Smean*100/economieModel.dataset_bin.CGPA.mean(),Sstd]"
   ]
  },
  {
   "cell_type": "code",
   "execution_count": 195,
   "metadata": {
    "scrolled": false
   },
   "outputs": [
    {
     "data": {
      "text/plain": [
       "{'ElasticNet': [0.059152334465975953,\n",
       "  10.479436996807134,\n",
       "  0.0046933196576423915],\n",
       " 'Lasso': [0.0588256959678925, 10.421569668453998, 0.0047359710391706054],\n",
       " 'LinearSVR': [0.063013253823785004,\n",
       "  11.163438085271116,\n",
       "  0.0055082003177155834],\n",
       " 'Ridge': [0.057376527784788064, 10.16483480228645, 0.0047699422372373427],\n",
       " 'SVR': [0.063132869888177567, 11.184629286293433, 0.0036022950044768487]}"
      ]
     },
     "execution_count": 195,
     "metadata": {},
     "output_type": "execute_result"
    }
   ],
   "source": [
    "CVScore"
   ]
  },
  {
   "cell_type": "markdown",
   "metadata": {},
   "source": [
    "Aussi on peut remarquer les methodes lineaires disposent des meilleurs resulats"
   ]
  },
  {
   "cell_type": "code",
   "execution_count": 198,
   "metadata": {
    "scrolled": false
   },
   "outputs": [
    {
     "name": "stdout",
     "output_type": "stream",
     "text": [
      "('Predictions:\\t', array([ 0.5640067 ,  0.50060843,  0.53204586,  0.48522947,  0.57370035]))\n",
      "('Labels:\\t\\t', [0.64300003051800003, 0.60199998855600012, 0.45000000000000001, 0.48999999999999999, 0.62133332570400002])\n",
      "('Predictions:\\t', array([ 0.55124051,  0.55330167,  0.54054641,  0.52349951,  0.54412378]))\n",
      "('Labels:\\t\\t', [0.64300003051800003, 0.60199998855600012, 0.45000000000000001, 0.48999999999999999, 0.62133332570400002])\n",
      "('Predictions:\\t', array([ 0.56048537,  0.50626083,  0.53966336,  0.48181885,  0.56033478]))\n",
      "('Labels:\\t\\t', [0.64300003051800003, 0.60199998855600012, 0.45000000000000001, 0.48999999999999999, 0.62133332570400002])\n",
      "('Predictions:\\t', array([ 0.56368283,  0.51892243,  0.53153356,  0.49487057,  0.57665601]))\n",
      "('Labels:\\t\\t', [0.64300003051800003, 0.60199998855600012, 0.45000000000000001, 0.48999999999999999, 0.62133332570400002])\n",
      "('Predictions:\\t', array([ 0.56346775,  0.5026404 ,  0.53242426,  0.48705274,  0.57360845]))\n",
      "('Labels:\\t\\t', [0.64300003051800003, 0.60199998855600012, 0.45000000000000001, 0.48999999999999999, 0.62133332570400002])\n"
     ]
    }
   ],
   "source": [
    "RMSE={}\n",
    "for reg in economieModel.predictiveModels.keys():\n",
    "    rmse=economieModel.evaluate(model=reg,on='test') #RMSE of each model\n",
    "    RMSE[reg]=[rmse,rmse*100/economieModel.dataset_bin.CGPA.mean()]"
   ]
  },
  {
   "cell_type": "code",
   "execution_count": 199,
   "metadata": {
    "scrolled": false
   },
   "outputs": [
    {
     "data": {
      "text/plain": [
       "{'ElasticNet': [0.059088345046754753, 10.468100621104558],\n",
       " 'Lasso': [0.058981573592012816, 10.449184973174058],\n",
       " 'LinearSVR': [0.064710654812651758, 11.464149914850363],\n",
       " 'Ridge': [0.058797427439363725, 10.416561611436736],\n",
       " 'SVR': [0.065406921403279125, 11.587500614959387]}"
      ]
     },
     "execution_count": 199,
     "metadata": {},
     "output_type": "execute_result"
    }
   ],
   "source": [
    "RMSE"
   ]
  },
  {
   "cell_type": "code",
   "execution_count": 167,
   "metadata": {
    "scrolled": true
   },
   "outputs": [
    {
     "data": {
      "text/plain": [
       "Index([u'ElasticNet', u'Lasso', u'LinearSVR', u'Ridge', u'SVR', u'RealValue'], dtype='object')"
      ]
     },
     "execution_count": 167,
     "metadata": {},
     "output_type": "execute_result"
    }
   ],
   "source": [
    "predictedValues.columns"
   ]
  },
  {
   "cell_type": "code",
   "execution_count": 163,
   "metadata": {
    "collapsed": true,
    "scrolled": false
   },
   "outputs": [],
   "source": [
    "finalPred,finalRMSE=medecineModel.ensembelMethods(predictedValues=predictedValues)"
   ]
  },
  {
   "cell_type": "code",
   "execution_count": 164,
   "metadata": {
    "scrolled": false
   },
   "outputs": [
    {
     "data": {
      "text/html": [
       "<div>\n",
       "<table border=\"1\" class=\"dataframe\">\n",
       "  <thead>\n",
       "    <tr style=\"text-align: right;\">\n",
       "      <th></th>\n",
       "      <th>ElasticNet</th>\n",
       "      <th>Lasso</th>\n",
       "      <th>LinearSVR</th>\n",
       "      <th>Ridge</th>\n",
       "      <th>SVR</th>\n",
       "      <th>RealValue</th>\n",
       "      <th>finalPredict</th>\n",
       "    </tr>\n",
       "    <tr>\n",
       "      <th>ID</th>\n",
       "      <th></th>\n",
       "      <th></th>\n",
       "      <th></th>\n",
       "      <th></th>\n",
       "      <th></th>\n",
       "      <th></th>\n",
       "      <th></th>\n",
       "    </tr>\n",
       "  </thead>\n",
       "  <tbody>\n",
       "    <tr>\n",
       "      <th>9486</th>\n",
       "      <td>0.634815</td>\n",
       "      <td>0.634622</td>\n",
       "      <td>0.647048</td>\n",
       "      <td>0.626841</td>\n",
       "      <td>0.577358</td>\n",
       "      <td>0.644333</td>\n",
       "      <td>0.635030</td>\n",
       "    </tr>\n",
       "    <tr>\n",
       "      <th>11485</th>\n",
       "      <td>0.599690</td>\n",
       "      <td>0.599323</td>\n",
       "      <td>0.589958</td>\n",
       "      <td>0.599942</td>\n",
       "      <td>0.572318</td>\n",
       "      <td>0.629000</td>\n",
       "      <td>0.600011</td>\n",
       "    </tr>\n",
       "    <tr>\n",
       "      <th>12161</th>\n",
       "      <td>0.569621</td>\n",
       "      <td>0.572930</td>\n",
       "      <td>0.565688</td>\n",
       "      <td>0.565653</td>\n",
       "      <td>0.556174</td>\n",
       "      <td>0.566000</td>\n",
       "      <td>0.566193</td>\n",
       "    </tr>\n",
       "    <tr>\n",
       "      <th>7530</th>\n",
       "      <td>0.609765</td>\n",
       "      <td>0.609463</td>\n",
       "      <td>0.622319</td>\n",
       "      <td>0.600205</td>\n",
       "      <td>0.562753</td>\n",
       "      <td>0.517000</td>\n",
       "      <td>0.610128</td>\n",
       "    </tr>\n",
       "    <tr>\n",
       "      <th>9959</th>\n",
       "      <td>0.688854</td>\n",
       "      <td>0.687458</td>\n",
       "      <td>0.656663</td>\n",
       "      <td>0.645131</td>\n",
       "      <td>0.563066</td>\n",
       "      <td>0.663000</td>\n",
       "      <td>0.690692</td>\n",
       "    </tr>\n",
       "  </tbody>\n",
       "</table>\n",
       "</div>"
      ],
      "text/plain": [
       "       ElasticNet     Lasso  LinearSVR     Ridge       SVR  RealValue  \\\n",
       "ID                                                                      \n",
       "9486     0.634815  0.634622   0.647048  0.626841  0.577358   0.644333   \n",
       "11485    0.599690  0.599323   0.589958  0.599942  0.572318   0.629000   \n",
       "12161    0.569621  0.572930   0.565688  0.565653  0.556174   0.566000   \n",
       "7530     0.609765  0.609463   0.622319  0.600205  0.562753   0.517000   \n",
       "9959     0.688854  0.687458   0.656663  0.645131  0.563066   0.663000   \n",
       "\n",
       "       finalPredict  \n",
       "ID                   \n",
       "9486       0.635030  \n",
       "11485      0.600011  \n",
       "12161      0.566193  \n",
       "7530       0.610128  \n",
       "9959       0.690692  "
      ]
     },
     "execution_count": 164,
     "metadata": {},
     "output_type": "execute_result"
    }
   ],
   "source": [
    "finalPred.head(5)"
   ]
  },
  {
   "cell_type": "code",
   "execution_count": 167,
   "metadata": {
    "scrolled": true
   },
   "outputs": [
    {
     "data": {
      "text/plain": [
       "11.174584576648359"
      ]
     },
     "execution_count": 167,
     "metadata": {},
     "output_type": "execute_result"
    }
   ],
   "source": [
    "finalRMSE*100/techModel.dataset_bin.CGPA.mean()"
   ]
  },
  {
   "cell_type": "markdown",
   "metadata": {},
   "source": [
    "On remarque que notre ensemble methode sans modele avec SVM nous donne un score de R% en valdiation croisé voyons combien il nous donnerasavec l'ensemble d'evaluation"
   ]
  },
  {
   "cell_type": "code",
   "execution_count": 238,
   "metadata": {
    "collapsed": true
   },
   "outputs": [],
   "source": [
    "predictionTest=techModel.predictTest()"
   ]
  },
  {
   "cell_type": "code",
   "execution_count": 169,
   "metadata": {
    "scrolled": true
   },
   "outputs": [
    {
     "data": {
      "text/html": [
       "<div>\n",
       "<table border=\"1\" class=\"dataframe\">\n",
       "  <thead>\n",
       "    <tr style=\"text-align: right;\">\n",
       "      <th></th>\n",
       "      <th>ElasticNet</th>\n",
       "      <th>Lasso</th>\n",
       "      <th>LinearSVR</th>\n",
       "      <th>Ridge</th>\n",
       "      <th>SVR</th>\n",
       "      <th>RealValue</th>\n",
       "    </tr>\n",
       "    <tr>\n",
       "      <th>ID</th>\n",
       "      <th></th>\n",
       "      <th></th>\n",
       "      <th></th>\n",
       "      <th></th>\n",
       "      <th></th>\n",
       "      <th></th>\n",
       "    </tr>\n",
       "  </thead>\n",
       "  <tbody>\n",
       "    <tr>\n",
       "      <th>10825</th>\n",
       "      <td>0.551732</td>\n",
       "      <td>0.552633</td>\n",
       "      <td>0.55165</td>\n",
       "      <td>0.560239</td>\n",
       "      <td>0.563527</td>\n",
       "      <td>0.543</td>\n",
       "    </tr>\n",
       "  </tbody>\n",
       "</table>\n",
       "</div>"
      ],
      "text/plain": [
       "       ElasticNet     Lasso  LinearSVR     Ridge       SVR  RealValue\n",
       "ID                                                                   \n",
       "10825    0.551732  0.552633    0.55165  0.560239  0.563527      0.543"
      ]
     },
     "execution_count": 169,
     "metadata": {},
     "output_type": "execute_result"
    }
   ],
   "source": [
    "predictionTest.head(1)"
   ]
  },
  {
   "cell_type": "code",
   "execution_count": 239,
   "metadata": {
    "collapsed": true
   },
   "outputs": [],
   "source": [
    "finalPredictTes,rmseFinalTest=techModel.ensembelMethods(predictedValues=predictionTest)"
   ]
  },
  {
   "cell_type": "code",
   "execution_count": 173,
   "metadata": {
    "scrolled": true
   },
   "outputs": [
    {
     "data": {
      "text/plain": [
       "12.863755030838947"
      ]
     },
     "execution_count": 173,
     "metadata": {},
     "output_type": "execute_result"
    }
   ],
   "source": [
    "rmseFinalTest*100/techModel.Y_test.mean()"
   ]
  },
  {
   "cell_type": "markdown",
   "metadata": {},
   "source": [
    "#### Analyse des resultats"
   ]
  },
  {
   "cell_type": "code",
   "execution_count": 220,
   "metadata": {
    "collapsed": true
   },
   "outputs": [],
   "source": [
    "ridgeRgressorTech=techModel.predictiveModels['Ridge']"
   ]
  },
  {
   "cell_type": "markdown",
   "metadata": {},
   "source": [
    "voyons dans notre modèle quel sont les attribues le plus importans"
   ]
  },
  {
   "cell_type": "code",
   "execution_count": 221,
   "metadata": {},
   "outputs": [
    {
     "data": {
      "text/plain": [
       "0.67297224081182327"
      ]
     },
     "execution_count": 221,
     "metadata": {},
     "output_type": "execute_result"
    }
   ],
   "source": [
    "max(ridgeRgressorTech.coef_)"
   ]
  },
  {
   "cell_type": "code",
   "execution_count": 222,
   "metadata": {
    "scrolled": false
   },
   "outputs": [
    {
     "data": {
      "text/plain": [
       "0.0"
      ]
     },
     "execution_count": 222,
     "metadata": {},
     "output_type": "execute_result"
    }
   ],
   "source": [
    "ridgeRgressorTech.intercept_"
   ]
  },
  {
   "cell_type": "code",
   "execution_count": 223,
   "metadata": {
    "scrolled": true
   },
   "outputs": [
    {
     "data": {
      "text/plain": [
       "[(0.17512184109204287, 'elec indust'),\n",
       " (0.15760814161994055, 'math-physique'),\n",
       " (0.15114224221640107, 'bio-chimie'),\n",
       " (0.14345473841554349, 'elec'),\n",
       " (0.13998072786108823, 'mec gene'),\n",
       " (0.13411357728084811, 'commerciale informatique'),\n",
       " (0.12648384725490872, 'batiment'),\n",
       " (0.11107029237384893, 'commmerciale et adm'),\n",
       " (0.10536913411255536, 'electronique g\\xc3\\xa9n\\xc3\\xa9rale'),\n",
       " (0.10450837417962013, 'sociale'),\n",
       " (0.099806768061098408, 'inconnu'),\n",
       " (0.095646080946421463, 'pedagogie'),\n",
       " (0.09214226541338158, 'latin philo'),\n",
       " (0.086655212043990806, 'agrecole'),\n",
       " (0.082101481016180769, 'construction'),\n",
       " (0.077255216150454956, 'machine outil'),\n",
       " (0.063799516866856698, 'nutr'),\n",
       " (0.060447588998714184, 'industrielle'),\n",
       " (0.056351145746039132, 'mecanique machines outils'),\n",
       " (0.054723187053262082, 'agronomie'),\n",
       " (0.010831382676751862, 'imprimerie'),\n",
       " (0.0, 'secretariat'),\n",
       " (0.0, \"hotesse d'acceuil\")]"
      ]
     },
     "execution_count": 223,
     "metadata": {},
     "output_type": "execute_result"
    }
   ],
   "source": [
    "sorted(zip(ridgeRgressorTech.coef_[:23], techModel.X_train.columns[:23]),reverse=True)"
   ]
  },
  {
   "cell_type": "markdown",
   "metadata": {},
   "source": [
    "Nous remrqouns dans ces resulat que concernant les valeurs de coefficient de notre modèle de regression les options avec un bon score sont les options batiment , elec insustrielle , elec math physique et les option avec un moindre score en technologie soont le soptions imprimerie , latin philo,pedagogie,.."
   ]
  },
  {
   "cell_type": "markdown",
   "metadata": {},
   "source": [
    "Essayons de verifier les écoles :"
   ]
  },
  {
   "cell_type": "code",
   "execution_count": 224,
   "metadata": {
    "scrolled": true
   },
   "outputs": [
    {
     "data": {
      "text/plain": [
       "[(0.12221946644343301, 'itfm/bukavu'),\n",
       " (0.11544826021849611, 'vungi'),\n",
       " (0.10601692142687072, 'nikisi'),\n",
       " (0.10135463091815416, 'Lwanga'),\n",
       " (0.093502748892734133, 'it bugabo'),\n",
       " (0.090555922000722253, 'cirezi'),\n",
       " (0.088121403276466337, 'itk mahamba'),\n",
       " (0.079465114538439616, 'katana'),\n",
       " (0.079151243770063037, 'technique ind. de mahamba'),\n",
       " (0.07774206929450149, 'du lac'),\n",
       " (0.076335377719177949, 'mgr guido'),\n",
       " (0.075944583258854809, 'avenir'),\n",
       " (0.075030717919957607, 'saint michel'),\n",
       " (0.072977785314089133, 'de beni'),\n",
       " (0.066975528149117669, 'action kusaidiya'),\n",
       " (0.061269110455925049, 'namurera'),\n",
       " (0.060447588998714233, 'it salama'),\n",
       " (0.058463266084065074, 'kambali'),\n",
       " (0.058443609291880839, 'itig'),\n",
       " (0.057776867646034659, 'iti gombe'),\n",
       " (0.054440832383465088, 'uenezaji'),\n",
       " (0.052474455779097019, 'humule'),\n",
       " (0.05038194941607773, 'malikia wa bingu')]"
      ]
     },
     "execution_count": 224,
     "metadata": {},
     "output_type": "execute_result"
    }
   ],
   "source": [
    "sorted(zip(ridgeRgressorTech.coef_[24:236], techModel.X_train.columns[24:236]),reverse=True)[:23]"
   ]
  },
  {
   "cell_type": "code",
   "execution_count": 227,
   "metadata": {
    "scrolled": true
   },
   "outputs": [
    {
     "name": "stdout",
     "output_type": "stream",
     "text": [
      "(0.67297224081182327, 'DIPPERC')\n"
     ]
    }
   ],
   "source": [
    "print (ridgeRgressorTech.coef_[236], techModel.X_train.columns[236])"
   ]
  },
  {
   "cell_type": "code",
   "execution_count": 228,
   "metadata": {
    "scrolled": false
   },
   "outputs": [
    {
     "data": {
      "text/html": [
       "<div>\n",
       "<table border=\"1\" class=\"dataframe\">\n",
       "  <thead>\n",
       "    <tr style=\"text-align: right;\">\n",
       "      <th></th>\n",
       "      <th>DIPPERC</th>\n",
       "      <th>SCHOOL_RIGHT</th>\n",
       "      <th>OPTION_RIGHT</th>\n",
       "      <th>FAC</th>\n",
       "      <th>CGPA</th>\n",
       "      <th>DistinctionRatio</th>\n",
       "      <th>EchecRatio</th>\n",
       "      <th>Pass1stSessionRatio</th>\n",
       "    </tr>\n",
       "    <tr>\n",
       "      <th>ID</th>\n",
       "      <th></th>\n",
       "      <th></th>\n",
       "      <th></th>\n",
       "      <th></th>\n",
       "      <th></th>\n",
       "      <th></th>\n",
       "      <th></th>\n",
       "      <th></th>\n",
       "    </tr>\n",
       "  </thead>\n",
       "  <tbody>\n",
       "    <tr>\n",
       "      <th>2457</th>\n",
       "      <td>56.0</td>\n",
       "      <td>itfm/bukavu</td>\n",
       "      <td>elec indust</td>\n",
       "      <td>FSTA</td>\n",
       "      <td>76.400002</td>\n",
       "      <td>A</td>\n",
       "      <td>G</td>\n",
       "      <td>A</td>\n",
       "    </tr>\n",
       "    <tr>\n",
       "      <th>4071</th>\n",
       "      <td>63.0</td>\n",
       "      <td>itfm/bukavu</td>\n",
       "      <td>machine outil</td>\n",
       "      <td>FSTA</td>\n",
       "      <td>71.199997</td>\n",
       "      <td>A</td>\n",
       "      <td>G</td>\n",
       "      <td>G</td>\n",
       "    </tr>\n",
       "    <tr>\n",
       "      <th>4282</th>\n",
       "      <td>54.0</td>\n",
       "      <td>itfm/bukavu</td>\n",
       "      <td>elec indust</td>\n",
       "      <td>FSTA</td>\n",
       "      <td>70.750000</td>\n",
       "      <td>D</td>\n",
       "      <td>G</td>\n",
       "      <td>G</td>\n",
       "    </tr>\n",
       "    <tr>\n",
       "      <th>4313</th>\n",
       "      <td>51.0</td>\n",
       "      <td>itfm/bukavu</td>\n",
       "      <td>elec</td>\n",
       "      <td>FSTA</td>\n",
       "      <td>68.600002</td>\n",
       "      <td>D</td>\n",
       "      <td>G</td>\n",
       "      <td>G</td>\n",
       "    </tr>\n",
       "    <tr>\n",
       "      <th>9958</th>\n",
       "      <td>59.0</td>\n",
       "      <td>itfm/bukavu</td>\n",
       "      <td>mecanique machines outils</td>\n",
       "      <td>FSTA</td>\n",
       "      <td>71.699997</td>\n",
       "      <td>D</td>\n",
       "      <td>G</td>\n",
       "      <td>A</td>\n",
       "    </tr>\n",
       "    <tr>\n",
       "      <th>10043</th>\n",
       "      <td>58.0</td>\n",
       "      <td>itfm/bukavu</td>\n",
       "      <td>elec indust</td>\n",
       "      <td>FSTA</td>\n",
       "      <td>79.099998</td>\n",
       "      <td>A</td>\n",
       "      <td>G</td>\n",
       "      <td>A</td>\n",
       "    </tr>\n",
       "    <tr>\n",
       "      <th>10051</th>\n",
       "      <td>60.0</td>\n",
       "      <td>itfm/bukavu</td>\n",
       "      <td>elec indust</td>\n",
       "      <td>FSTA</td>\n",
       "      <td>72.500000</td>\n",
       "      <td>A</td>\n",
       "      <td>G</td>\n",
       "      <td>D</td>\n",
       "    </tr>\n",
       "    <tr>\n",
       "      <th>10142</th>\n",
       "      <td>56.0</td>\n",
       "      <td>itfm/bukavu</td>\n",
       "      <td>elec indust</td>\n",
       "      <td>FSTA</td>\n",
       "      <td>69.650002</td>\n",
       "      <td>D</td>\n",
       "      <td>G</td>\n",
       "      <td>A</td>\n",
       "    </tr>\n",
       "    <tr>\n",
       "      <th>10199</th>\n",
       "      <td>65.0</td>\n",
       "      <td>itfm/bukavu</td>\n",
       "      <td>mecanique machines outils</td>\n",
       "      <td>FSTA</td>\n",
       "      <td>83.549999</td>\n",
       "      <td>A</td>\n",
       "      <td>G</td>\n",
       "      <td>D</td>\n",
       "    </tr>\n",
       "    <tr>\n",
       "      <th>10200</th>\n",
       "      <td>57.0</td>\n",
       "      <td>itfm/bukavu</td>\n",
       "      <td>mecanique machines outils</td>\n",
       "      <td>FSTA</td>\n",
       "      <td>71.049999</td>\n",
       "      <td>D</td>\n",
       "      <td>G</td>\n",
       "      <td>D</td>\n",
       "    </tr>\n",
       "    <tr>\n",
       "      <th>10388</th>\n",
       "      <td>62.0</td>\n",
       "      <td>itfm/bukavu</td>\n",
       "      <td>elec indust</td>\n",
       "      <td>FSTA</td>\n",
       "      <td>74.149998</td>\n",
       "      <td>A</td>\n",
       "      <td>G</td>\n",
       "      <td>A</td>\n",
       "    </tr>\n",
       "    <tr>\n",
       "      <th>10574</th>\n",
       "      <td>63.0</td>\n",
       "      <td>itfm/bukavu</td>\n",
       "      <td>mec gene</td>\n",
       "      <td>FSTA</td>\n",
       "      <td>74.950001</td>\n",
       "      <td>A</td>\n",
       "      <td>G</td>\n",
       "      <td>A</td>\n",
       "    </tr>\n",
       "    <tr>\n",
       "      <th>9519</th>\n",
       "      <td>52.0</td>\n",
       "      <td>itfm/bukavu</td>\n",
       "      <td>elec indust</td>\n",
       "      <td>FSTA</td>\n",
       "      <td>68.066666</td>\n",
       "      <td>G</td>\n",
       "      <td>G</td>\n",
       "      <td>A</td>\n",
       "    </tr>\n",
       "    <tr>\n",
       "      <th>9527</th>\n",
       "      <td>59.0</td>\n",
       "      <td>itfm/bukavu</td>\n",
       "      <td>elec indust</td>\n",
       "      <td>FSTA</td>\n",
       "      <td>75.866666</td>\n",
       "      <td>A</td>\n",
       "      <td>G</td>\n",
       "      <td>A</td>\n",
       "    </tr>\n",
       "  </tbody>\n",
       "</table>\n",
       "</div>"
      ],
      "text/plain": [
       "       DIPPERC SCHOOL_RIGHT               OPTION_RIGHT   FAC       CGPA  \\\n",
       "ID                                                                        \n",
       "2457      56.0  itfm/bukavu                elec indust  FSTA  76.400002   \n",
       "4071      63.0  itfm/bukavu              machine outil  FSTA  71.199997   \n",
       "4282      54.0  itfm/bukavu                elec indust  FSTA  70.750000   \n",
       "4313      51.0  itfm/bukavu                       elec  FSTA  68.600002   \n",
       "9958      59.0  itfm/bukavu  mecanique machines outils  FSTA  71.699997   \n",
       "10043     58.0  itfm/bukavu                elec indust  FSTA  79.099998   \n",
       "10051     60.0  itfm/bukavu                elec indust  FSTA  72.500000   \n",
       "10142     56.0  itfm/bukavu                elec indust  FSTA  69.650002   \n",
       "10199     65.0  itfm/bukavu  mecanique machines outils  FSTA  83.549999   \n",
       "10200     57.0  itfm/bukavu  mecanique machines outils  FSTA  71.049999   \n",
       "10388     62.0  itfm/bukavu                elec indust  FSTA  74.149998   \n",
       "10574     63.0  itfm/bukavu                   mec gene  FSTA  74.950001   \n",
       "9519      52.0  itfm/bukavu                elec indust  FSTA  68.066666   \n",
       "9527      59.0  itfm/bukavu                elec indust  FSTA  75.866666   \n",
       "\n",
       "      DistinctionRatio EchecRatio Pass1stSessionRatio  \n",
       "ID                                                     \n",
       "2457                 A          G                   A  \n",
       "4071                 A          G                   G  \n",
       "4282                 D          G                   G  \n",
       "4313                 D          G                   G  \n",
       "9958                 D          G                   A  \n",
       "10043                A          G                   A  \n",
       "10051                A          G                   D  \n",
       "10142                D          G                   A  \n",
       "10199                A          G                   D  \n",
       "10200                D          G                   D  \n",
       "10388                A          G                   A  \n",
       "10574                A          G                   A  \n",
       "9519                 G          G                   A  \n",
       "9527                 A          G                   A  "
      ]
     },
     "execution_count": 228,
     "metadata": {},
     "output_type": "execute_result"
    }
   ],
   "source": [
    "technologie.loc[operator.and_(technologie.SCHOOL_RIGHT=='itfm/bukavu',technologie.CGPA>68)]"
   ]
  },
  {
   "cell_type": "code",
   "execution_count": 229,
   "metadata": {
    "collapsed": true,
    "scrolled": false
   },
   "outputs": [],
   "source": [
    "pred,error=techModel.ensembelMethods(predictedValues.loc[technologie.loc[operator.and_(technologie.SCHOOL_RIGHT=='itig',technologie.CGPA>65)].index].dropna())"
   ]
  },
  {
   "cell_type": "code",
   "execution_count": 230,
   "metadata": {
    "scrolled": true
   },
   "outputs": [
    {
     "data": {
      "text/html": [
       "<div>\n",
       "<table border=\"1\" class=\"dataframe\">\n",
       "  <thead>\n",
       "    <tr style=\"text-align: right;\">\n",
       "      <th></th>\n",
       "      <th>ElasticNet</th>\n",
       "      <th>Lasso</th>\n",
       "      <th>LinearSVR</th>\n",
       "      <th>Ridge</th>\n",
       "      <th>SVR</th>\n",
       "      <th>RealValue</th>\n",
       "      <th>finalPredict</th>\n",
       "    </tr>\n",
       "    <tr>\n",
       "      <th>ID</th>\n",
       "      <th></th>\n",
       "      <th></th>\n",
       "      <th></th>\n",
       "      <th></th>\n",
       "      <th></th>\n",
       "      <th></th>\n",
       "      <th></th>\n",
       "    </tr>\n",
       "  </thead>\n",
       "  <tbody>\n",
       "    <tr>\n",
       "      <th>3627</th>\n",
       "      <td>0.574900</td>\n",
       "      <td>0.572014</td>\n",
       "      <td>0.558456</td>\n",
       "      <td>0.555100</td>\n",
       "      <td>0.569956</td>\n",
       "      <td>0.670000</td>\n",
       "      <td>0.646194</td>\n",
       "    </tr>\n",
       "    <tr>\n",
       "      <th>4074</th>\n",
       "      <td>0.605507</td>\n",
       "      <td>0.605690</td>\n",
       "      <td>0.606418</td>\n",
       "      <td>0.605682</td>\n",
       "      <td>0.580733</td>\n",
       "      <td>0.654000</td>\n",
       "      <td>0.662018</td>\n",
       "    </tr>\n",
       "    <tr>\n",
       "      <th>4106</th>\n",
       "      <td>0.574900</td>\n",
       "      <td>0.572014</td>\n",
       "      <td>0.558456</td>\n",
       "      <td>0.555100</td>\n",
       "      <td>0.569956</td>\n",
       "      <td>0.672000</td>\n",
       "      <td>0.646194</td>\n",
       "    </tr>\n",
       "    <tr>\n",
       "      <th>7644</th>\n",
       "      <td>0.631069</td>\n",
       "      <td>0.635201</td>\n",
       "      <td>0.652961</td>\n",
       "      <td>0.656045</td>\n",
       "      <td>0.575412</td>\n",
       "      <td>0.739500</td>\n",
       "      <td>0.719650</td>\n",
       "    </tr>\n",
       "    <tr>\n",
       "      <th>8460</th>\n",
       "      <td>0.663395</td>\n",
       "      <td>0.666978</td>\n",
       "      <td>0.681573</td>\n",
       "      <td>0.684457</td>\n",
       "      <td>0.611192</td>\n",
       "      <td>0.691000</td>\n",
       "      <td>0.695236</td>\n",
       "    </tr>\n",
       "    <tr>\n",
       "      <th>8663</th>\n",
       "      <td>0.627324</td>\n",
       "      <td>0.630988</td>\n",
       "      <td>0.646661</td>\n",
       "      <td>0.649316</td>\n",
       "      <td>0.575049</td>\n",
       "      <td>0.723000</td>\n",
       "      <td>0.701324</td>\n",
       "    </tr>\n",
       "    <tr>\n",
       "      <th>9036</th>\n",
       "      <td>0.601763</td>\n",
       "      <td>0.601477</td>\n",
       "      <td>0.600118</td>\n",
       "      <td>0.598952</td>\n",
       "      <td>0.580368</td>\n",
       "      <td>0.719333</td>\n",
       "      <td>0.665863</td>\n",
       "    </tr>\n",
       "    <tr>\n",
       "      <th>9078</th>\n",
       "      <td>0.639209</td>\n",
       "      <td>0.643602</td>\n",
       "      <td>0.663121</td>\n",
       "      <td>0.666249</td>\n",
       "      <td>0.584008</td>\n",
       "      <td>0.807667</td>\n",
       "      <td>0.745544</td>\n",
       "    </tr>\n",
       "    <tr>\n",
       "      <th>9295</th>\n",
       "      <td>0.648416</td>\n",
       "      <td>0.650128</td>\n",
       "      <td>0.656371</td>\n",
       "      <td>0.657538</td>\n",
       "      <td>0.609739</td>\n",
       "      <td>0.678000</td>\n",
       "      <td>0.688095</td>\n",
       "    </tr>\n",
       "    <tr>\n",
       "      <th>9376</th>\n",
       "      <td>0.620486</td>\n",
       "      <td>0.622539</td>\n",
       "      <td>0.631620</td>\n",
       "      <td>0.632601</td>\n",
       "      <td>0.582189</td>\n",
       "      <td>0.662000</td>\n",
       "      <td>0.704422</td>\n",
       "    </tr>\n",
       "    <tr>\n",
       "      <th>9851</th>\n",
       "      <td>0.620486</td>\n",
       "      <td>0.622539</td>\n",
       "      <td>0.631620</td>\n",
       "      <td>0.632601</td>\n",
       "      <td>0.582189</td>\n",
       "      <td>0.713000</td>\n",
       "      <td>0.704422</td>\n",
       "    </tr>\n",
       "    <tr>\n",
       "      <th>10274</th>\n",
       "      <td>0.593623</td>\n",
       "      <td>0.593076</td>\n",
       "      <td>0.589958</td>\n",
       "      <td>0.588748</td>\n",
       "      <td>0.571775</td>\n",
       "      <td>0.653500</td>\n",
       "      <td>0.681824</td>\n",
       "    </tr>\n",
       "    <tr>\n",
       "      <th>10849</th>\n",
       "      <td>0.618459</td>\n",
       "      <td>0.616429</td>\n",
       "      <td>0.605969</td>\n",
       "      <td>0.603700</td>\n",
       "      <td>0.606829</td>\n",
       "      <td>0.681500</td>\n",
       "      <td>0.647369</td>\n",
       "    </tr>\n",
       "  </tbody>\n",
       "</table>\n",
       "</div>"
      ],
      "text/plain": [
       "       ElasticNet     Lasso  LinearSVR     Ridge       SVR  RealValue  \\\n",
       "ID                                                                      \n",
       "3627     0.574900  0.572014   0.558456  0.555100  0.569956   0.670000   \n",
       "4074     0.605507  0.605690   0.606418  0.605682  0.580733   0.654000   \n",
       "4106     0.574900  0.572014   0.558456  0.555100  0.569956   0.672000   \n",
       "7644     0.631069  0.635201   0.652961  0.656045  0.575412   0.739500   \n",
       "8460     0.663395  0.666978   0.681573  0.684457  0.611192   0.691000   \n",
       "8663     0.627324  0.630988   0.646661  0.649316  0.575049   0.723000   \n",
       "9036     0.601763  0.601477   0.600118  0.598952  0.580368   0.719333   \n",
       "9078     0.639209  0.643602   0.663121  0.666249  0.584008   0.807667   \n",
       "9295     0.648416  0.650128   0.656371  0.657538  0.609739   0.678000   \n",
       "9376     0.620486  0.622539   0.631620  0.632601  0.582189   0.662000   \n",
       "9851     0.620486  0.622539   0.631620  0.632601  0.582189   0.713000   \n",
       "10274    0.593623  0.593076   0.589958  0.588748  0.571775   0.653500   \n",
       "10849    0.618459  0.616429   0.605969  0.603700  0.606829   0.681500   \n",
       "\n",
       "       finalPredict  \n",
       "ID                   \n",
       "3627       0.646194  \n",
       "4074       0.662018  \n",
       "4106       0.646194  \n",
       "7644       0.719650  \n",
       "8460       0.695236  \n",
       "8663       0.701324  \n",
       "9036       0.665863  \n",
       "9078       0.745544  \n",
       "9295       0.688095  \n",
       "9376       0.704422  \n",
       "9851       0.704422  \n",
       "10274      0.681824  \n",
       "10849      0.647369  "
      ]
     },
     "execution_count": 230,
     "metadata": {},
     "output_type": "execute_result"
    }
   ],
   "source": [
    "pred"
   ]
  },
  {
   "cell_type": "markdown",
   "metadata": {},
   "source": [
    "##### Traitement des nouvelles valeurs"
   ]
  },
  {
   "cell_type": "markdown",
   "metadata": {},
   "source": [
    "Dans cette partie nous allons essayer de predire la valeur du CGPA pour des nouvelles variables qui ne sont pas dans notre ensemble d'apprentissage'"
   ]
  },
  {
   "cell_type": "code",
   "execution_count": 86,
   "metadata": {
    "scrolled": true
   },
   "outputs": [
    {
     "data": {
      "text/plain": [
       "Index([u'DIPPERC', u'SCHOOL_RIGHT', u'OPTION_RIGHT', u'FAC', u'CGPA',\n",
       "       u'DistinctionRatio', u'EchecRatio', u'Pass1stSessionRatio'],\n",
       "      dtype='object')"
      ]
     },
     "execution_count": 86,
     "metadata": {},
     "output_type": "execute_result"
    }
   ],
   "source": [
    "technologie.columns"
   ]
  },
  {
   "cell_type": "code",
   "execution_count": 118,
   "metadata": {
    "collapsed": true
   },
   "outputs": [],
   "source": [
    "newStudent={'DIPPERC':0.60,'SCHOOL_RIGHT':'itfm/bukavu','OPTION_RIGHT':'elec indust','CGPA':0}"
   ]
  },
  {
   "cell_type": "code",
   "execution_count": 232,
   "metadata": {
    "collapsed": true,
    "scrolled": false
   },
   "outputs": [],
   "source": [
    "newStData=pd.DataFrame(newStudent,columns=newStudent.keys(),index=range(1))"
   ]
  },
  {
   "cell_type": "code",
   "execution_count": 120,
   "metadata": {
    "scrolled": true
   },
   "outputs": [
    {
     "data": {
      "text/html": [
       "<div>\n",
       "<table border=\"1\" class=\"dataframe\">\n",
       "  <thead>\n",
       "    <tr style=\"text-align: right;\">\n",
       "      <th></th>\n",
       "      <th>DIPPERC</th>\n",
       "      <th>CGPA</th>\n",
       "      <th>OPTION_RIGHT</th>\n",
       "      <th>SCHOOL_RIGHT</th>\n",
       "    </tr>\n",
       "  </thead>\n",
       "  <tbody>\n",
       "    <tr>\n",
       "      <th>0</th>\n",
       "      <td>0.6</td>\n",
       "      <td>0</td>\n",
       "      <td>elec indust</td>\n",
       "      <td>itfm/bukavu</td>\n",
       "    </tr>\n",
       "  </tbody>\n",
       "</table>\n",
       "</div>"
      ],
      "text/plain": [
       "   DIPPERC  CGPA OPTION_RIGHT SCHOOL_RIGHT\n",
       "0      0.6     0  elec indust  itfm/bukavu"
      ]
     },
     "execution_count": 120,
     "metadata": {},
     "output_type": "execute_result"
    }
   ],
   "source": [
    "newStData"
   ]
  },
  {
   "cell_type": "code",
   "execution_count": 231,
   "metadata": {
    "scrolled": true
   },
   "outputs": [
    {
     "data": {
      "text/html": [
       "<div>\n",
       "<table border=\"1\" class=\"dataframe\">\n",
       "  <thead>\n",
       "    <tr style=\"text-align: right;\">\n",
       "      <th></th>\n",
       "      <th>OPTION_RIGHT</th>\n",
       "      <th>SCHOOL_RIGHT</th>\n",
       "    </tr>\n",
       "  </thead>\n",
       "  <tbody>\n",
       "    <tr>\n",
       "      <th>0</th>\n",
       "      <td>elec indust</td>\n",
       "      <td>itfm/bukavu</td>\n",
       "    </tr>\n",
       "  </tbody>\n",
       "</table>\n",
       "</div>"
      ],
      "text/plain": [
       "  OPTION_RIGHT SCHOOL_RIGHT\n",
       "0  elec indust  itfm/bukavu"
      ]
     },
     "execution_count": 231,
     "metadata": {},
     "output_type": "execute_result"
    }
   ],
   "source": [
    "newStData[['OPTION_RIGHT','SCHOOL_RIGHT']]"
   ]
  },
  {
   "cell_type": "code",
   "execution_count": 64,
   "metadata": {
    "collapsed": true,
    "scrolled": true
   },
   "outputs": [],
   "source": [
    "optionEnc=techModel.encoders['OPTION_RIGHT']"
   ]
  },
  {
   "cell_type": "code",
   "execution_count": 65,
   "metadata": {
    "collapsed": true
   },
   "outputs": [],
   "source": [
    "schoolEnc=techModel.encoders['SCHOOL_RIGHT']"
   ]
  },
  {
   "cell_type": "code",
   "execution_count": 157,
   "metadata": {
    "collapsed": true,
    "scrolled": false
   },
   "outputs": [],
   "source": [
    "Options=pd.DataFrame(data=dict(zip(optionEnc.classes_,optionEnc.transform(newStData[['OPTION_RIGHT']])[0])),\n",
    "             index=newStData.index, columns=optionEnc.classes_)"
   ]
  },
  {
   "cell_type": "code",
   "execution_count": 158,
   "metadata": {
    "collapsed": true
   },
   "outputs": [],
   "source": [
    "Schools=pd.DataFrame(data=dict(zip(schoolEnc.classes_,schoolEnc.transform(newStData[['SCHOOL_RIGHT']])[0])),\n",
    "             index=newStData.index, columns=schoolEnc.classes_)"
   ]
  },
  {
   "cell_type": "code",
   "execution_count": 94,
   "metadata": {
    "scrolled": true
   },
   "outputs": [
    {
     "data": {
      "text/html": [
       "<div>\n",
       "<table border=\"1\" class=\"dataframe\">\n",
       "  <thead>\n",
       "    <tr style=\"text-align: right;\">\n",
       "      <th></th>\n",
       "      <th>54</th>\n",
       "      <th>61</th>\n",
       "      <th>Bungulu Beni</th>\n",
       "      <th>INST DE KATWA</th>\n",
       "      <th>Institut MWANDA</th>\n",
       "      <th>LWANGA</th>\n",
       "      <th>Lwanga</th>\n",
       "      <th>MWANDU</th>\n",
       "      <th>Mwanda</th>\n",
       "      <th>action kusaidiya</th>\n",
       "      <th>...</th>\n",
       "      <th>uhuru</th>\n",
       "      <th>uzima</th>\n",
       "      <th>visoke</th>\n",
       "      <th>vungi</th>\n",
       "      <th>wai wai</th>\n",
       "      <th>wapole</th>\n",
       "      <th>weza</th>\n",
       "      <th>wima</th>\n",
       "      <th>zanner</th>\n",
       "      <th>zawadi ya raisi</th>\n",
       "    </tr>\n",
       "  </thead>\n",
       "  <tbody>\n",
       "    <tr>\n",
       "      <th>0</th>\n",
       "      <td>0</td>\n",
       "      <td>0</td>\n",
       "      <td>0</td>\n",
       "      <td>0</td>\n",
       "      <td>0</td>\n",
       "      <td>0</td>\n",
       "      <td>0</td>\n",
       "      <td>0</td>\n",
       "      <td>0</td>\n",
       "      <td>0</td>\n",
       "      <td>...</td>\n",
       "      <td>0</td>\n",
       "      <td>0</td>\n",
       "      <td>0</td>\n",
       "      <td>0</td>\n",
       "      <td>0</td>\n",
       "      <td>0</td>\n",
       "      <td>0</td>\n",
       "      <td>0</td>\n",
       "      <td>0</td>\n",
       "      <td>0</td>\n",
       "    </tr>\n",
       "  </tbody>\n",
       "</table>\n",
       "<p>1 rows × 213 columns</p>\n",
       "</div>"
      ],
      "text/plain": [
       "   54  61  Bungulu Beni  INST DE KATWA  Institut MWANDA  LWANGA  Lwanga  \\\n",
       "0   0   0             0              0                0       0       0   \n",
       "\n",
       "   MWANDU  Mwanda  action kusaidiya       ...         uhuru  uzima  visoke  \\\n",
       "0       0       0                 0       ...             0      0       0   \n",
       "\n",
       "   vungi  wai wai  wapole  weza  wima  zanner  zawadi ya raisi  \n",
       "0      0        0       0     0     0       0                0  \n",
       "\n",
       "[1 rows x 213 columns]"
      ]
     },
     "execution_count": 94,
     "metadata": {},
     "output_type": "execute_result"
    }
   ],
   "source": [
    "Schools"
   ]
  },
  {
   "cell_type": "code",
   "execution_count": 96,
   "metadata": {
    "scrolled": true
   },
   "outputs": [
    {
     "data": {
      "text/plain": [
       "0    0.60\n",
       "Name: DIPPERC, dtype: object"
      ]
     },
     "execution_count": 96,
     "metadata": {},
     "output_type": "execute_result"
    }
   ],
   "source": [
    "newStData['DIPPERC']"
   ]
  },
  {
   "cell_type": "code",
   "execution_count": 159,
   "metadata": {
    "collapsed": true
   },
   "outputs": [],
   "source": [
    "Schools.reset_index(inplace=True)\n",
    "Options.reset_index(inplace=True)"
   ]
  },
  {
   "cell_type": "code",
   "execution_count": 97,
   "metadata": {},
   "outputs": [
    {
     "data": {
      "text/plain": [
       "(722, 237)"
      ]
     },
     "execution_count": 97,
     "metadata": {},
     "output_type": "execute_result"
    }
   ],
   "source": [
    "techModel.X_train.shape"
   ]
  },
  {
   "cell_type": "code",
   "execution_count": 162,
   "metadata": {
    "collapsed": true,
    "scrolled": true
   },
   "outputs": [],
   "source": [
    "New_X=pd.merge(Options,Schools,on='index')"
   ]
  },
  {
   "cell_type": "code",
   "execution_count": 163,
   "metadata": {
    "collapsed": true
   },
   "outputs": [],
   "source": [
    "New_X['DIPPERC']=newStData['DIPPERC']"
   ]
  },
  {
   "cell_type": "code",
   "execution_count": 164,
   "metadata": {
    "collapsed": true
   },
   "outputs": [],
   "source": [
    "New_X.set_index(keys=['index'],inplace=True)"
   ]
  },
  {
   "cell_type": "code",
   "execution_count": 113,
   "metadata": {},
   "outputs": [
    {
     "data": {
      "text/plain": [
       "(1, 237)"
      ]
     },
     "execution_count": 113,
     "metadata": {},
     "output_type": "execute_result"
    }
   ],
   "source": [
    "New_X.shape"
   ]
  },
  {
   "cell_type": "code",
   "execution_count": 109,
   "metadata": {
    "scrolled": false
   },
   "outputs": [
    {
     "data": {
      "text/plain": [
       "237"
      ]
     },
     "execution_count": 109,
     "metadata": {},
     "output_type": "execute_result"
    }
   ],
   "source": [
    "len(ridgeRgressorTech.coef_)"
   ]
  },
  {
   "cell_type": "code",
   "execution_count": 165,
   "metadata": {
    "scrolled": false
   },
   "outputs": [
    {
     "data": {
      "text/plain": [
       "array([ 0.68790015])"
      ]
     },
     "execution_count": 165,
     "metadata": {},
     "output_type": "execute_result"
    }
   ],
   "source": [
    "ridgeRgressorTech.predict(New_X)"
   ]
  },
  {
   "cell_type": "code",
   "execution_count": 160,
   "metadata": {
    "scrolled": true
   },
   "outputs": [
    {
     "data": {
      "text/html": [
       "<div>\n",
       "<table border=\"1\" class=\"dataframe\">\n",
       "  <thead>\n",
       "    <tr style=\"text-align: right;\">\n",
       "      <th></th>\n",
       "      <th>agrecole</th>\n",
       "      <th>agronomie</th>\n",
       "      <th>batiment</th>\n",
       "      <th>bio-chimie</th>\n",
       "      <th>commerciale informatique</th>\n",
       "      <th>commmerciale et adm</th>\n",
       "      <th>construction</th>\n",
       "      <th>elec</th>\n",
       "      <th>elec indust</th>\n",
       "      <th>electronique générale</th>\n",
       "      <th>...</th>\n",
       "      <th>uzima</th>\n",
       "      <th>visoke</th>\n",
       "      <th>vungi</th>\n",
       "      <th>wai wai</th>\n",
       "      <th>wapole</th>\n",
       "      <th>weza</th>\n",
       "      <th>wima</th>\n",
       "      <th>zanner</th>\n",
       "      <th>zawadi ya raisi</th>\n",
       "      <th>DIPPERC</th>\n",
       "    </tr>\n",
       "    <tr>\n",
       "      <th>ID</th>\n",
       "      <th></th>\n",
       "      <th></th>\n",
       "      <th></th>\n",
       "      <th></th>\n",
       "      <th></th>\n",
       "      <th></th>\n",
       "      <th></th>\n",
       "      <th></th>\n",
       "      <th></th>\n",
       "      <th></th>\n",
       "      <th></th>\n",
       "      <th></th>\n",
       "      <th></th>\n",
       "      <th></th>\n",
       "      <th></th>\n",
       "      <th></th>\n",
       "      <th></th>\n",
       "      <th></th>\n",
       "      <th></th>\n",
       "      <th></th>\n",
       "      <th></th>\n",
       "    </tr>\n",
       "  </thead>\n",
       "  <tbody>\n",
       "    <tr>\n",
       "      <th>9486</th>\n",
       "      <td>0</td>\n",
       "      <td>0</td>\n",
       "      <td>0</td>\n",
       "      <td>1</td>\n",
       "      <td>0</td>\n",
       "      <td>0</td>\n",
       "      <td>0</td>\n",
       "      <td>0</td>\n",
       "      <td>0</td>\n",
       "      <td>0</td>\n",
       "      <td>...</td>\n",
       "      <td>0</td>\n",
       "      <td>0</td>\n",
       "      <td>0</td>\n",
       "      <td>0</td>\n",
       "      <td>0</td>\n",
       "      <td>0</td>\n",
       "      <td>0</td>\n",
       "      <td>0</td>\n",
       "      <td>0</td>\n",
       "      <td>0.74</td>\n",
       "    </tr>\n",
       "  </tbody>\n",
       "</table>\n",
       "<p>1 rows × 237 columns</p>\n",
       "</div>"
      ],
      "text/plain": [
       "      agrecole  agronomie  batiment  bio-chimie  commerciale informatique  \\\n",
       "ID                                                                          \n",
       "9486         0          0         0           1                         0   \n",
       "\n",
       "      commmerciale et adm  construction  elec  elec indust  \\\n",
       "ID                                                           \n",
       "9486                    0             0     0            0   \n",
       "\n",
       "      electronique générale   ...     uzima  visoke  vungi  wai wai  wapole  \\\n",
       "ID                            ...                                             \n",
       "9486                      0   ...         0       0      0        0       0   \n",
       "\n",
       "      weza  wima  zanner  zawadi ya raisi  DIPPERC  \n",
       "ID                                                  \n",
       "9486     0     0       0                0     0.74  \n",
       "\n",
       "[1 rows x 237 columns]"
      ]
     },
     "execution_count": 160,
     "metadata": {},
     "output_type": "execute_result"
    }
   ],
   "source": [
    "techModel.X_train.head(1)"
   ]
  },
  {
   "cell_type": "code",
   "execution_count": 161,
   "metadata": {
    "scrolled": false
   },
   "outputs": [
    {
     "data": {
      "text/html": [
       "<div>\n",
       "<table border=\"1\" class=\"dataframe\">\n",
       "  <thead>\n",
       "    <tr style=\"text-align: right;\">\n",
       "      <th></th>\n",
       "      <th>agrecole</th>\n",
       "      <th>agronomie</th>\n",
       "      <th>batiment</th>\n",
       "      <th>bio-chimie</th>\n",
       "      <th>commerciale informatique</th>\n",
       "      <th>commmerciale et adm</th>\n",
       "      <th>construction</th>\n",
       "      <th>elec</th>\n",
       "      <th>elec indust</th>\n",
       "      <th>electronique générale</th>\n",
       "      <th>...</th>\n",
       "      <th>uzima</th>\n",
       "      <th>visoke</th>\n",
       "      <th>vungi</th>\n",
       "      <th>wai wai</th>\n",
       "      <th>wapole</th>\n",
       "      <th>weza</th>\n",
       "      <th>wima</th>\n",
       "      <th>zanner</th>\n",
       "      <th>zawadi ya raisi</th>\n",
       "      <th>DIPPERC</th>\n",
       "    </tr>\n",
       "    <tr>\n",
       "      <th>index</th>\n",
       "      <th></th>\n",
       "      <th></th>\n",
       "      <th></th>\n",
       "      <th></th>\n",
       "      <th></th>\n",
       "      <th></th>\n",
       "      <th></th>\n",
       "      <th></th>\n",
       "      <th></th>\n",
       "      <th></th>\n",
       "      <th></th>\n",
       "      <th></th>\n",
       "      <th></th>\n",
       "      <th></th>\n",
       "      <th></th>\n",
       "      <th></th>\n",
       "      <th></th>\n",
       "      <th></th>\n",
       "      <th></th>\n",
       "      <th></th>\n",
       "      <th></th>\n",
       "    </tr>\n",
       "  </thead>\n",
       "  <tbody>\n",
       "    <tr>\n",
       "      <th>0</th>\n",
       "      <td>0</td>\n",
       "      <td>0</td>\n",
       "      <td>0</td>\n",
       "      <td>0</td>\n",
       "      <td>0</td>\n",
       "      <td>0</td>\n",
       "      <td>0</td>\n",
       "      <td>0</td>\n",
       "      <td>1</td>\n",
       "      <td>0</td>\n",
       "      <td>...</td>\n",
       "      <td>0</td>\n",
       "      <td>0</td>\n",
       "      <td>0</td>\n",
       "      <td>0</td>\n",
       "      <td>0</td>\n",
       "      <td>0</td>\n",
       "      <td>0</td>\n",
       "      <td>0</td>\n",
       "      <td>0</td>\n",
       "      <td>0.60</td>\n",
       "    </tr>\n",
       "  </tbody>\n",
       "</table>\n",
       "<p>1 rows × 237 columns</p>\n",
       "</div>"
      ],
      "text/plain": [
       "       agrecole  agronomie  batiment  bio-chimie  commerciale informatique  \\\n",
       "index                                                                        \n",
       "0             0          0         0           0                         0   \n",
       "\n",
       "       commmerciale et adm  construction  elec  elec indust  \\\n",
       "index                                                         \n",
       "0                        0             0     0            1   \n",
       "\n",
       "       electronique générale   ...     uzima  visoke  vungi  wai wai  wapole  \\\n",
       "index                          ...                                             \n",
       "0                          0   ...         0       0      0        0       0   \n",
       "\n",
       "       weza  wima  zanner  zawadi ya raisi  DIPPERC  \n",
       "index                                                \n",
       "0         0     0       0                0     0.60  \n",
       "\n",
       "[1 rows x 237 columns]"
      ]
     },
     "execution_count": 161,
     "metadata": {},
     "output_type": "execute_result"
    }
   ],
   "source": [
    "New_X.head(1)"
   ]
  },
  {
   "cell_type": "markdown",
   "metadata": {},
   "source": [
    "Essayons de prédire la nouvelles valeurs avec la nouvelle methode"
   ]
  },
  {
   "cell_type": "code",
   "execution_count": 233,
   "metadata": {
    "scrolled": true
   },
   "outputs": [
    {
     "ename": "AttributeError",
     "evalue": "'PredictiveModelByilding' object has no attribute 'X'",
     "output_type": "error",
     "traceback": [
      "\u001b[0;31m---------------------------------------------------------------------------\u001b[0m",
      "\u001b[0;31mAttributeError\u001b[0m                            Traceback (most recent call last)",
      "\u001b[0;32m<ipython-input-233-0bcbd2740ec6>\u001b[0m in \u001b[0;36m<module>\u001b[0;34m()\u001b[0m\n\u001b[0;32m----> 1\u001b[0;31m \u001b[0mtechModel\u001b[0m\u001b[0;34m.\u001b[0m\u001b[0mpredictNew\u001b[0m\u001b[0;34m(\u001b[0m\u001b[0mnewStData\u001b[0m\u001b[0;34m)\u001b[0m\u001b[0;34m\u001b[0m\u001b[0m\n\u001b[0m",
      "\u001b[0;32m<ipython-input-210-18a9658fe498>\u001b[0m in \u001b[0;36mpredictNew\u001b[0;34m(self, newStData)\u001b[0m\n\u001b[1;32m     85\u001b[0m     \u001b[0mpredictions\u001b[0m\u001b[0;34m=\u001b[0m\u001b[0;34m{\u001b[0m\u001b[0;34m}\u001b[0m\u001b[0;34m\u001b[0m\u001b[0m\n\u001b[1;32m     86\u001b[0m     \u001b[0;32mfor\u001b[0m \u001b[0mclf\u001b[0m \u001b[0;32min\u001b[0m \u001b[0mself\u001b[0m\u001b[0;34m.\u001b[0m\u001b[0mpredictiveModels\u001b[0m\u001b[0;34m.\u001b[0m\u001b[0mvalues\u001b[0m\u001b[0;34m(\u001b[0m\u001b[0;34m)\u001b[0m\u001b[0;34m:\u001b[0m\u001b[0;34m\u001b[0m\u001b[0m\n\u001b[0;32m---> 87\u001b[0;31m       \u001b[0mpredictions\u001b[0m\u001b[0;34m[\u001b[0m\u001b[0mclf\u001b[0m\u001b[0;34m.\u001b[0m\u001b[0m__class__\u001b[0m\u001b[0;34m.\u001b[0m\u001b[0m__name__\u001b[0m\u001b[0;34m]\u001b[0m\u001b[0;34m=\u001b[0m \u001b[0mclf\u001b[0m\u001b[0;34m.\u001b[0m\u001b[0mpredict\u001b[0m\u001b[0;34m(\u001b[0m\u001b[0mself\u001b[0m\u001b[0;34m.\u001b[0m\u001b[0mX\u001b[0m\u001b[0;34m)\u001b[0m\u001b[0;34m\u001b[0m\u001b[0m\n\u001b[0m\u001b[1;32m     88\u001b[0m     \u001b[0mpredictedVal\u001b[0m\u001b[0;34m=\u001b[0m\u001b[0mpd\u001b[0m\u001b[0;34m.\u001b[0m\u001b[0mDataFrame\u001b[0m\u001b[0;34m.\u001b[0m\u001b[0mfrom_dict\u001b[0m\u001b[0;34m(\u001b[0m\u001b[0mpredictions\u001b[0m\u001b[0;34m,\u001b[0m\u001b[0mdtype\u001b[0m\u001b[0;34m=\u001b[0m\u001b[0mnp\u001b[0m\u001b[0;34m.\u001b[0m\u001b[0mfloat\u001b[0m\u001b[0;34m)\u001b[0m\u001b[0;34m\u001b[0m\u001b[0m\n\u001b[1;32m     89\u001b[0m     \u001b[0mpredictedVal\u001b[0m\u001b[0;34m.\u001b[0m\u001b[0mset_index\u001b[0m\u001b[0;34m(\u001b[0m\u001b[0mself\u001b[0m\u001b[0;34m.\u001b[0m\u001b[0mX\u001b[0m\u001b[0;34m.\u001b[0m\u001b[0mindex\u001b[0m\u001b[0;34m,\u001b[0m\u001b[0minplace\u001b[0m\u001b[0;34m=\u001b[0m\u001b[0mTrue\u001b[0m\u001b[0;34m)\u001b[0m\u001b[0;34m\u001b[0m\u001b[0m\n",
      "\u001b[0;31mAttributeError\u001b[0m: 'PredictiveModelByilding' object has no attribute 'X'"
     ]
    }
   ],
   "source": [
    "techModel.predictNew(newStData)"
   ]
  },
  {
   "cell_type": "code",
   "execution_count": 234,
   "metadata": {
    "collapsed": true
   },
   "outputs": [],
   "source": [
    "def predictNew(self,newStData):\n",
    "    \"\"\"this call will handle predictions for new values,but frirst it will endcode them nand then try to predict\"\"\"\n",
    "    #start first by handling categorical values\n",
    "    optionEnc=self.encoders['OPTION_RIGHT']\n",
    "    schoolEnc=self.encoders['SCHOOL_RIGHT']\n",
    "    Options=pd.DataFrame(data=dict(zip(optionEnc.classes_,optionEnc.transform(newStData[['OPTION_RIGHT']])[0])),\n",
    "             index=newStData.index, columns=optionEnc.classes_)\n",
    "    Schools=pd.DataFrame(data=dict(zip(schoolEnc.classes_,schoolEnc.transform(newStData[['SCHOOL_RIGHT']])[0])),\n",
    "             index=newStData.index, columns=schoolEnc.classes_)\n",
    "    Schools.reset_index(inplace=True)\n",
    "    Options.reset_index(inplace=True)\n",
    "    X=pd.merge(Options,Schools,on='index')\n",
    "    X['DIPPERC']=newStData['DIPPERC']\n",
    "    X.set_index(keys=['index'],inplace=True)\n",
    "    predictions={}\n",
    "    for clf in self.predictiveModels.values():\n",
    "      predictions[clf.__class__.__name__]= clf.predict(X)\n",
    "    predictedVal=pd.DataFrame.from_dict(predictions,dtype=np.float)\n",
    "    predictedVal.set_index(X.index,inplace=True)\n",
    "    predictedVal.loc[:,'finalOutput']=self.stacker.predict(predictedVal)\n",
    "    return predictedVal"
   ]
  },
  {
   "cell_type": "code",
   "execution_count": 240,
   "metadata": {
    "scrolled": true
   },
   "outputs": [
    {
     "data": {
      "text/html": [
       "<div>\n",
       "<table border=\"1\" class=\"dataframe\">\n",
       "  <thead>\n",
       "    <tr style=\"text-align: right;\">\n",
       "      <th></th>\n",
       "      <th>ElasticNet</th>\n",
       "      <th>Lasso</th>\n",
       "      <th>LinearSVR</th>\n",
       "      <th>Ridge</th>\n",
       "      <th>SVR</th>\n",
       "      <th>finalOutput</th>\n",
       "    </tr>\n",
       "    <tr>\n",
       "      <th>index</th>\n",
       "      <th></th>\n",
       "      <th></th>\n",
       "      <th></th>\n",
       "      <th></th>\n",
       "      <th></th>\n",
       "      <th></th>\n",
       "    </tr>\n",
       "  </thead>\n",
       "  <tbody>\n",
       "    <tr>\n",
       "      <th>0</th>\n",
       "      <td>0.696491</td>\n",
       "      <td>0.698198</td>\n",
       "      <td>0.702101</td>\n",
       "      <td>0.701125</td>\n",
       "      <td>0.628597</td>\n",
       "      <td>0.680711</td>\n",
       "    </tr>\n",
       "  </tbody>\n",
       "</table>\n",
       "</div>"
      ],
      "text/plain": [
       "       ElasticNet     Lasso  LinearSVR     Ridge       SVR  finalOutput\n",
       "index                                                                  \n",
       "0        0.696491  0.698198   0.702101  0.701125  0.628597     0.680711"
      ]
     },
     "execution_count": 240,
     "metadata": {},
     "output_type": "execute_result"
    }
   ],
   "source": [
    "predictNew(self=techModel,newStData=newStData)"
   ]
  },
  {
   "cell_type": "code",
   "execution_count": 259,
   "metadata": {
    "collapsed": true
   },
   "outputs": [],
   "source": [
    "newStudent={'DIPPERC':0.7,'SCHOOL_RIGHT':'itfm/bukavu','OPTION_RIGHT':'elec'}"
   ]
  },
  {
   "cell_type": "code",
   "execution_count": 260,
   "metadata": {
    "collapsed": true,
    "scrolled": false
   },
   "outputs": [],
   "source": [
    "newStData2=pd.DataFrame(newStudent,columns=newStudent.keys(),index=range(1))"
   ]
  },
  {
   "cell_type": "code",
   "execution_count": 261,
   "metadata": {},
   "outputs": [
    {
     "data": {
      "text/html": [
       "<div>\n",
       "<table border=\"1\" class=\"dataframe\">\n",
       "  <thead>\n",
       "    <tr style=\"text-align: right;\">\n",
       "      <th></th>\n",
       "      <th>ElasticNet</th>\n",
       "      <th>Lasso</th>\n",
       "      <th>LinearSVR</th>\n",
       "      <th>Ridge</th>\n",
       "      <th>SVR</th>\n",
       "      <th>finalOutput</th>\n",
       "    </tr>\n",
       "    <tr>\n",
       "      <th>index</th>\n",
       "      <th></th>\n",
       "      <th></th>\n",
       "      <th></th>\n",
       "      <th></th>\n",
       "      <th></th>\n",
       "      <th></th>\n",
       "    </tr>\n",
       "  </thead>\n",
       "  <tbody>\n",
       "    <tr>\n",
       "      <th>0</th>\n",
       "      <td>0.702262</td>\n",
       "      <td>0.708521</td>\n",
       "      <td>0.734052</td>\n",
       "      <td>0.736755</td>\n",
       "      <td>0.603966</td>\n",
       "      <td>0.684074</td>\n",
       "    </tr>\n",
       "  </tbody>\n",
       "</table>\n",
       "</div>"
      ],
      "text/plain": [
       "       ElasticNet     Lasso  LinearSVR     Ridge       SVR  finalOutput\n",
       "index                                                                  \n",
       "0        0.702262  0.708521   0.734052  0.736755  0.603966     0.684074"
      ]
     },
     "execution_count": 261,
     "metadata": {},
     "output_type": "execute_result"
    }
   ],
   "source": [
    "predictNew(self=techModel,newStData=newStData2)"
   ]
  },
  {
   "cell_type": "markdown",
   "metadata": {},
   "source": [
    "essayons en faculté de Médecine"
   ]
  },
  {
   "cell_type": "code",
   "execution_count": 274,
   "metadata": {
    "collapsed": true
   },
   "outputs": [],
   "source": [
    "LassoMed=medecineModel.predictiveModels['Lasso']"
   ]
  },
  {
   "cell_type": "code",
   "execution_count": 280,
   "metadata": {},
   "outputs": [
    {
     "data": {
      "text/plain": [
       "13"
      ]
     },
     "execution_count": 280,
     "metadata": {},
     "output_type": "execute_result"
    }
   ],
   "source": [
    "len(medecine.OPTION_RIGHT.value_counts())"
   ]
  },
  {
   "cell_type": "code",
   "execution_count": 281,
   "metadata": {
    "scrolled": true
   },
   "outputs": [
    {
     "data": {
      "text/plain": [
       "[(0.35757368827182023, 'commerciale informatique'),\n",
       " (0.34979805279513343, 'commmerciale et adm'),\n",
       " (0.34775736681271191, 'math-physique'),\n",
       " (0.33985943323756168, 'latin philo'),\n",
       " (0.33015491684910009, 'bio-chimie'),\n",
       " (0.32823217678920358, 'v\\xc3\\xa9t\\xc3\\xa9rinaire'),\n",
       " (0.29493952634047493, 'sociale'),\n",
       " (0.28920522583779829, 'pedagogie'),\n",
       " (0.2819322147819795, 'elec indust'),\n",
       " (0.23277919234663122, 'nutr'),\n",
       " (0.21194946979189991, 'agrecole'),\n",
       " (0.0, 'secretariat'),\n",
       " (0.0, 'agronomie')]"
      ]
     },
     "execution_count": 281,
     "metadata": {},
     "output_type": "execute_result"
    }
   ],
   "source": [
    "sorted(zip(LassoMed.coef_[:13], medecineModel.X_train.columns[:13]),reverse=True)"
   ]
  },
  {
   "cell_type": "markdown",
   "metadata": {},
   "source": [
    "Essayons de verifier les écoles :"
   ]
  },
  {
   "cell_type": "code",
   "execution_count": 288,
   "metadata": {},
   "outputs": [
    {
     "data": {
      "text/plain": [
       "94"
      ]
     },
     "execution_count": 288,
     "metadata": {},
     "output_type": "execute_result"
    }
   ],
   "source": [
    "len(medecine.SCHOOL_RIGHT.value_counts()) #nombre des colones"
   ]
  },
  {
   "cell_type": "code",
   "execution_count": 291,
   "metadata": {
    "scrolled": true
   },
   "outputs": [
    {
     "data": {
      "text/plain": [
       "'v\\xc3\\xa9t\\xc3\\xa9rinaire'"
      ]
     },
     "execution_count": 291,
     "metadata": {},
     "output_type": "execute_result"
    }
   ],
   "source": [
    "medecineModel.X_train.columns[12]"
   ]
  },
  {
   "cell_type": "code",
   "execution_count": 287,
   "metadata": {
    "scrolled": true
   },
   "outputs": [
    {
     "data": {
      "text/plain": [
       "[(-0.1441318839144477, 'masisi'),\n",
       " (-0.13962352198707761, 'majengo'),\n",
       " (-0.12141658508131777, 'gs kigali'),\n",
       " (-0.11251800352776459, 'hekima'),\n",
       " (-0.10720237938597295, 'ngoma'),\n",
       " (-0.095335844000001099, 'de r\\xc3\\xa9cup\\xc3\\xa9ration de la gombe'),\n",
       " (-0.094776634847224872, 'amen'),\n",
       " (-0.089211977017360722, 'neema kwetu'),\n",
       " (-0.089042334344549348, 'de bukavu'),\n",
       " (-0.086953345697900128, 'Mwangaza'),\n",
       " (-0.071324022409169338, 'lukuga'),\n",
       " (-0.069783695396088016, 'kalungu'),\n",
       " (-0.069305925587554135, 'zanner'),\n",
       " (-0.06744266888518366, 'bimenya'),\n",
       " (-0.052480726765823014, 'communautaire du lac'),\n",
       " (-0.050089729535492775, 'ndosho'),\n",
       " (-0.047913018684819217, 'Intitut ALLELUYA'),\n",
       " (-0.034522842170380694, 'bethanie'),\n",
       " (-0.033870787425376019, 'himbi'),\n",
       " (-0.03241010488706185, 'la fontaine'),\n",
       " (-0.030346701263338913, 'amani'),\n",
       " (-0.028094236685508724, 'matanda'),\n",
       " (-0.021924696440913535, 'Lwanga'),\n",
       " (-0.020798051866254483, 'icl'),\n",
       " (-0.019862713511119887, 'milima'),\n",
       " (-0.018174782561455084, 'mont caemel'),\n",
       " (-0.015944306215162136, 'faraja'),\n",
       " (-0.012352181223825762, 'uhuru'),\n",
       " (-0.0085130442367498602, 'Lyc\\xc3\\xa9e Mwandu'),\n",
       " (-0.0084697184480514408, 'tupendane'),\n",
       " (-0.0019412158013017923, 'mukaba'),\n",
       " (-0.0018853132212548018, 'mwanga'),\n",
       " (-0.0017017825562944402, 'maendeleo'),\n",
       " (0.0, 'bulumbi'),\n",
       " (0.0, 'bwindi'),\n",
       " (0.0, 'groupe scolaire gilgali'),\n",
       " (0.0, 'isoko'),\n",
       " (0.0, 'iti gombe'),\n",
       " (0.0, 'itsu'),\n",
       " (0.0, 'jikaze'),\n",
       " (-0.0, 'john mabwindi'),\n",
       " (0.0, 'kalimba'),\n",
       " (0.0, 'kyeshero'),\n",
       " (0.0, 'la releve'),\n",
       " (0.0, 'mama yetu'),\n",
       " (0.0, 'mikeno islamique'),\n",
       " (0.0, 'nyakasaza'),\n",
       " (0.0, 'r\\xc3\\xa9v\\xc3\\xa9rend samba'),\n",
       " (-0.0, 'sayuni'),\n",
       " (0.0, 'sebyera'),\n",
       " (0.0, 'tuendelee'),\n",
       " (0.0052028421703877665, 'st joseph'),\n",
       " (0.0076968335041481721, 'visoke'),\n",
       " (0.0083149782025980484, 'maranatha'),\n",
       " (0.012477514430677144, 'bakandja'),\n",
       " (0.012829047702630419, 'alfajiri'),\n",
       " (0.013067924113904542, 'metanoia'),\n",
       " (0.01514797082914081, 'malikia wa bingu'),\n",
       " (0.02225131213196048, 'de beni'),\n",
       " (0.023368821458862994, 'mwanga/ uvira'),\n",
       " (0.023603618260338955, 'mabula'),\n",
       " (0.024117157829619471, 'uzima'),\n",
       " (0.027674832711267902, 'ndahura'),\n",
       " (0.028628784199188018, 'matendo'),\n",
       " (0.0287172930026907, 'pain de vie'),\n",
       " (0.030165244912066944, 'thabiti'),\n",
       " (0.030574214587663212, 'kambali'),\n",
       " (0.033992696071504597, 'kashenda'),\n",
       " (0.038923853343524148, 'bsangani'),\n",
       " (0.038938205999690487, 'isingo')]"
      ]
     },
     "execution_count": 287,
     "metadata": {},
     "output_type": "execute_result"
    }
   ],
   "source": [
    "sorted(zip(LassoMed.coef_[13:13+94], medecineModel.X_train.columns[13:13+94]),reverse=True)[:23]"
   ]
  },
  {
   "cell_type": "code",
   "execution_count": 296,
   "metadata": {},
   "outputs": [
    {
     "data": {
      "text/plain": [
       "(193, 108)"
      ]
     },
     "execution_count": 296,
     "metadata": {},
     "output_type": "execute_result"
    }
   ],
   "source": [
    "medecineModel.X_train.shape"
   ]
  },
  {
   "cell_type": "code",
   "execution_count": 298,
   "metadata": {
    "scrolled": false
   },
   "outputs": [
    {
     "name": "stdout",
     "output_type": "stream",
     "text": [
      "(0.44356521067840698, 'DIPPERC')\n"
     ]
    }
   ],
   "source": [
    "print (LassoMed.coef_[107], medecineModel.X_train.columns[107])"
   ]
  },
  {
   "cell_type": "code",
   "execution_count": 303,
   "metadata": {
    "scrolled": false
   },
   "outputs": [
    {
     "data": {
      "text/html": [
       "<div>\n",
       "<table border=\"1\" class=\"dataframe\">\n",
       "  <thead>\n",
       "    <tr style=\"text-align: right;\">\n",
       "      <th></th>\n",
       "      <th>DIPPERC</th>\n",
       "      <th>SCHOOL_RIGHT</th>\n",
       "      <th>OPTION_RIGHT</th>\n",
       "      <th>FAC</th>\n",
       "      <th>CGPA</th>\n",
       "      <th>DistinctionRatio</th>\n",
       "      <th>EchecRatio</th>\n",
       "      <th>Pass1stSessionRatio</th>\n",
       "    </tr>\n",
       "    <tr>\n",
       "      <th>ID</th>\n",
       "      <th></th>\n",
       "      <th></th>\n",
       "      <th></th>\n",
       "      <th></th>\n",
       "      <th></th>\n",
       "      <th></th>\n",
       "      <th></th>\n",
       "      <th></th>\n",
       "    </tr>\n",
       "  </thead>\n",
       "  <tbody>\n",
       "    <tr>\n",
       "      <th>10116</th>\n",
       "      <td>77.0</td>\n",
       "      <td>amani</td>\n",
       "      <td>bio-chimie</td>\n",
       "      <td>FM</td>\n",
       "      <td>62.950001</td>\n",
       "      <td>G</td>\n",
       "      <td>G</td>\n",
       "      <td>G</td>\n",
       "    </tr>\n",
       "    <tr>\n",
       "      <th>10118</th>\n",
       "      <td>72.0</td>\n",
       "      <td>amani</td>\n",
       "      <td>bio-chimie</td>\n",
       "      <td>FM</td>\n",
       "      <td>66.500000</td>\n",
       "      <td>G</td>\n",
       "      <td>G</td>\n",
       "      <td>A</td>\n",
       "    </tr>\n",
       "    <tr>\n",
       "      <th>10208</th>\n",
       "      <td>76.0</td>\n",
       "      <td>amani</td>\n",
       "      <td>bio-chimie</td>\n",
       "      <td>FM</td>\n",
       "      <td>58.349998</td>\n",
       "      <td>G</td>\n",
       "      <td>G</td>\n",
       "      <td>G</td>\n",
       "    </tr>\n",
       "    <tr>\n",
       "      <th>10289</th>\n",
       "      <td>73.0</td>\n",
       "      <td>amani</td>\n",
       "      <td>bio-chimie</td>\n",
       "      <td>FM</td>\n",
       "      <td>40.000000</td>\n",
       "      <td>G</td>\n",
       "      <td>A</td>\n",
       "      <td>G</td>\n",
       "    </tr>\n",
       "    <tr>\n",
       "      <th>10377</th>\n",
       "      <td>74.0</td>\n",
       "      <td>amani</td>\n",
       "      <td>bio-chimie</td>\n",
       "      <td>FM</td>\n",
       "      <td>58.949999</td>\n",
       "      <td>G</td>\n",
       "      <td>G</td>\n",
       "      <td>D</td>\n",
       "    </tr>\n",
       "    <tr>\n",
       "      <th>10437</th>\n",
       "      <td>75.0</td>\n",
       "      <td>amani</td>\n",
       "      <td>bio-chimie</td>\n",
       "      <td>FM</td>\n",
       "      <td>60.750000</td>\n",
       "      <td>G</td>\n",
       "      <td>G</td>\n",
       "      <td>A</td>\n",
       "    </tr>\n",
       "    <tr>\n",
       "      <th>11269</th>\n",
       "      <td>81.0</td>\n",
       "      <td>amani</td>\n",
       "      <td>bio-chimie</td>\n",
       "      <td>FM</td>\n",
       "      <td>74.000000</td>\n",
       "      <td>A</td>\n",
       "      <td>G</td>\n",
       "      <td>A</td>\n",
       "    </tr>\n",
       "    <tr>\n",
       "      <th>11781</th>\n",
       "      <td>64.0</td>\n",
       "      <td>amani</td>\n",
       "      <td>bio-chimie</td>\n",
       "      <td>FM</td>\n",
       "      <td>61.000000</td>\n",
       "      <td>G</td>\n",
       "      <td>G</td>\n",
       "      <td>A</td>\n",
       "    </tr>\n",
       "  </tbody>\n",
       "</table>\n",
       "</div>"
      ],
      "text/plain": [
       "       DIPPERC SCHOOL_RIGHT OPTION_RIGHT FAC       CGPA DistinctionRatio  \\\n",
       "ID                                                                         \n",
       "10116     77.0        amani   bio-chimie  FM  62.950001                G   \n",
       "10118     72.0        amani   bio-chimie  FM  66.500000                G   \n",
       "10208     76.0        amani   bio-chimie  FM  58.349998                G   \n",
       "10289     73.0        amani   bio-chimie  FM  40.000000                G   \n",
       "10377     74.0        amani   bio-chimie  FM  58.949999                G   \n",
       "10437     75.0        amani   bio-chimie  FM  60.750000                G   \n",
       "11269     81.0        amani   bio-chimie  FM  74.000000                A   \n",
       "11781     64.0        amani   bio-chimie  FM  61.000000                G   \n",
       "\n",
       "      EchecRatio Pass1stSessionRatio  \n",
       "ID                                    \n",
       "10116          G                   G  \n",
       "10118          G                   A  \n",
       "10208          G                   G  \n",
       "10289          A                   G  \n",
       "10377          G                   D  \n",
       "10437          G                   A  \n",
       "11269          G                   A  \n",
       "11781          G                   A  "
      ]
     },
     "execution_count": 303,
     "metadata": {},
     "output_type": "execute_result"
    }
   ],
   "source": [
    "medecine.loc[operator.and_(medecine.SCHOOL_RIGHT=='amani',True)]"
   ]
  },
  {
   "cell_type": "code",
   "execution_count": 304,
   "metadata": {
    "scrolled": true
   },
   "outputs": [
    {
     "ename": "TypeError",
     "evalue": "drop() got an unexpected keyword argument 'axis'",
     "output_type": "error",
     "traceback": [
      "\u001b[0;31m---------------------------------------------------------------------------\u001b[0m",
      "\u001b[0;31mTypeError\u001b[0m                                 Traceback (most recent call last)",
      "\u001b[0;32m<ipython-input-304-9686d74225dd>\u001b[0m in \u001b[0;36m<module>\u001b[0;34m()\u001b[0m\n\u001b[0;32m----> 1\u001b[0;31m \u001b[0mmedecineModel\u001b[0m\u001b[0;34m.\u001b[0m\u001b[0mensembelMethods\u001b[0m\u001b[0;34m(\u001b[0m\u001b[0mmedecine\u001b[0m\u001b[0;34m.\u001b[0m\u001b[0mloc\u001b[0m\u001b[0;34m[\u001b[0m\u001b[0moperator\u001b[0m\u001b[0;34m.\u001b[0m\u001b[0mand_\u001b[0m\u001b[0;34m(\u001b[0m\u001b[0mmedecine\u001b[0m\u001b[0;34m.\u001b[0m\u001b[0mSCHOOL_RIGHT\u001b[0m\u001b[0;34m==\u001b[0m\u001b[0;34m'amani'\u001b[0m\u001b[0;34m,\u001b[0m\u001b[0mTrue\u001b[0m\u001b[0;34m)\u001b[0m\u001b[0;34m]\u001b[0m\u001b[0;34m.\u001b[0m\u001b[0mindex\u001b[0m\u001b[0;34m)\u001b[0m\u001b[0;34m\u001b[0m\u001b[0m\n\u001b[0m",
      "\u001b[0;32m<ipython-input-210-18a9658fe498>\u001b[0m in \u001b[0;36mensembelMethods\u001b[0;34m(self, predictedValues)\u001b[0m\n\u001b[1;32m    121\u001b[0m     \u001b[0mthe\u001b[0m \u001b[0mvalue\u001b[0m \u001b[0mcompute\u001b[0m \u001b[0mby\u001b[0m  \u001b[0ma\u001b[0m \u001b[0mlinear\u001b[0m \u001b[0mregression\u001b[0m \u001b[0mbetween\u001b[0m \u001b[0mthe\u001b[0m \u001b[0;36m3\u001b[0m \u001b[0mvalues\u001b[0m \u001b[0;32mand\u001b[0m \u001b[0mRMSE\u001b[0m\u001b[0;34m\u001b[0m\u001b[0m\n\u001b[1;32m    122\u001b[0m     \"\"\"\n\u001b[0;32m--> 123\u001b[0;31m     \u001b[0mself\u001b[0m\u001b[0;34m.\u001b[0m\u001b[0mstacker\u001b[0m\u001b[0;34m.\u001b[0m\u001b[0mfit\u001b[0m\u001b[0;34m(\u001b[0m\u001b[0mpredictedValues\u001b[0m\u001b[0;34m.\u001b[0m\u001b[0mdrop\u001b[0m\u001b[0;34m(\u001b[0m\u001b[0mlabels\u001b[0m\u001b[0;34m=\u001b[0m\u001b[0;34m\"RealValue\"\u001b[0m\u001b[0;34m,\u001b[0m\u001b[0maxis\u001b[0m\u001b[0;34m=\u001b[0m\u001b[0;36m1\u001b[0m\u001b[0;34m)\u001b[0m\u001b[0;34m,\u001b[0m \u001b[0mpredictedValues\u001b[0m\u001b[0;34m.\u001b[0m\u001b[0mRealValue\u001b[0m\u001b[0;34m)\u001b[0m\u001b[0;34m\u001b[0m\u001b[0m\n\u001b[0m\u001b[1;32m    124\u001b[0m     \u001b[0mfinalPredict\u001b[0m\u001b[0;34m=\u001b[0m\u001b[0mself\u001b[0m\u001b[0;34m.\u001b[0m\u001b[0mstacker\u001b[0m\u001b[0;34m.\u001b[0m\u001b[0mpredict\u001b[0m\u001b[0;34m(\u001b[0m\u001b[0mpredictedValues\u001b[0m\u001b[0;34m.\u001b[0m\u001b[0mdrop\u001b[0m\u001b[0;34m(\u001b[0m\u001b[0mlabels\u001b[0m\u001b[0;34m=\u001b[0m\u001b[0;34m\"RealValue\"\u001b[0m\u001b[0;34m,\u001b[0m\u001b[0maxis\u001b[0m\u001b[0;34m=\u001b[0m\u001b[0;36m1\u001b[0m\u001b[0;34m)\u001b[0m\u001b[0;34m)\u001b[0m\u001b[0;34m\u001b[0m\u001b[0m\n\u001b[1;32m    125\u001b[0m     \u001b[0mpredictedValues\u001b[0m\u001b[0;34m.\u001b[0m\u001b[0mloc\u001b[0m\u001b[0;34m[\u001b[0m\u001b[0;34m:\u001b[0m\u001b[0;34m,\u001b[0m\u001b[0;34m'finalPredict'\u001b[0m\u001b[0;34m]\u001b[0m\u001b[0;34m=\u001b[0m\u001b[0mfinalPredict\u001b[0m\u001b[0;34m\u001b[0m\u001b[0m\n",
      "\u001b[0;31mTypeError\u001b[0m: drop() got an unexpected keyword argument 'axis'"
     ]
    }
   ],
   "source": [
    "medecineModel.ensembelMethods()"
   ]
  },
  {
   "cell_type": "code",
   "execution_count": 305,
   "metadata": {
    "collapsed": true
   },
   "outputs": [],
   "source": [
    "pred,error=techModel.ensembelMethods(predictedValues.loc[medecine.loc[operator.and_(medecine.SCHOOL_RIGHT=='amani',True)].index].dropna())"
   ]
  },
  {
   "cell_type": "code",
   "execution_count": 306,
   "metadata": {
    "scrolled": true
   },
   "outputs": [
    {
     "data": {
      "text/html": [
       "<div>\n",
       "<table border=\"1\" class=\"dataframe\">\n",
       "  <thead>\n",
       "    <tr style=\"text-align: right;\">\n",
       "      <th></th>\n",
       "      <th>ElasticNet</th>\n",
       "      <th>Lasso</th>\n",
       "      <th>LinearSVR</th>\n",
       "      <th>Ridge</th>\n",
       "      <th>SVR</th>\n",
       "      <th>RealValue</th>\n",
       "      <th>finalPredict</th>\n",
       "    </tr>\n",
       "    <tr>\n",
       "      <th>ID</th>\n",
       "      <th></th>\n",
       "      <th></th>\n",
       "      <th></th>\n",
       "      <th></th>\n",
       "      <th></th>\n",
       "      <th></th>\n",
       "      <th></th>\n",
       "    </tr>\n",
       "  </thead>\n",
       "  <tbody>\n",
       "    <tr>\n",
       "      <th>10116</th>\n",
       "      <td>0.640802</td>\n",
       "      <td>0.641353</td>\n",
       "      <td>0.647128</td>\n",
       "      <td>0.649566</td>\n",
       "      <td>0.587390</td>\n",
       "      <td>0.6295</td>\n",
       "      <td>0.62500</td>\n",
       "    </tr>\n",
       "    <tr>\n",
       "      <th>10118</th>\n",
       "      <td>0.620218</td>\n",
       "      <td>0.619175</td>\n",
       "      <td>0.613996</td>\n",
       "      <td>0.616084</td>\n",
       "      <td>0.586137</td>\n",
       "      <td>0.6650</td>\n",
       "      <td>0.71875</td>\n",
       "    </tr>\n",
       "    <tr>\n",
       "      <th>10208</th>\n",
       "      <td>0.636685</td>\n",
       "      <td>0.636918</td>\n",
       "      <td>0.640501</td>\n",
       "      <td>0.642870</td>\n",
       "      <td>0.587140</td>\n",
       "      <td>0.5835</td>\n",
       "      <td>0.56250</td>\n",
       "    </tr>\n",
       "    <tr>\n",
       "      <th>10377</th>\n",
       "      <td>0.628452</td>\n",
       "      <td>0.628046</td>\n",
       "      <td>0.627248</td>\n",
       "      <td>0.629477</td>\n",
       "      <td>0.586639</td>\n",
       "      <td>0.5895</td>\n",
       "      <td>0.59375</td>\n",
       "    </tr>\n",
       "    <tr>\n",
       "      <th>10437</th>\n",
       "      <td>0.632568</td>\n",
       "      <td>0.632482</td>\n",
       "      <td>0.633875</td>\n",
       "      <td>0.636173</td>\n",
       "      <td>0.586890</td>\n",
       "      <td>0.6075</td>\n",
       "      <td>0.62500</td>\n",
       "    </tr>\n",
       "    <tr>\n",
       "      <th>11269</th>\n",
       "      <td>0.657269</td>\n",
       "      <td>0.659096</td>\n",
       "      <td>0.673634</td>\n",
       "      <td>0.676351</td>\n",
       "      <td>0.588391</td>\n",
       "      <td>0.7400</td>\n",
       "      <td>0.78125</td>\n",
       "    </tr>\n",
       "  </tbody>\n",
       "</table>\n",
       "</div>"
      ],
      "text/plain": [
       "       ElasticNet     Lasso  LinearSVR     Ridge       SVR  RealValue  \\\n",
       "ID                                                                      \n",
       "10116    0.640802  0.641353   0.647128  0.649566  0.587390     0.6295   \n",
       "10118    0.620218  0.619175   0.613996  0.616084  0.586137     0.6650   \n",
       "10208    0.636685  0.636918   0.640501  0.642870  0.587140     0.5835   \n",
       "10377    0.628452  0.628046   0.627248  0.629477  0.586639     0.5895   \n",
       "10437    0.632568  0.632482   0.633875  0.636173  0.586890     0.6075   \n",
       "11269    0.657269  0.659096   0.673634  0.676351  0.588391     0.7400   \n",
       "\n",
       "       finalPredict  \n",
       "ID                   \n",
       "10116       0.62500  \n",
       "10118       0.71875  \n",
       "10208       0.56250  \n",
       "10377       0.59375  \n",
       "10437       0.62500  \n",
       "11269       0.78125  "
      ]
     },
     "execution_count": 306,
     "metadata": {},
     "output_type": "execute_result"
    }
   ],
   "source": [
    "pred"
   ]
  },
  {
   "cell_type": "code",
   "execution_count": 307,
   "metadata": {},
   "outputs": [
    {
     "data": {
      "text/plain": [
       "0.029933779762049806"
      ]
     },
     "execution_count": 307,
     "metadata": {},
     "output_type": "execute_result"
    }
   ],
   "source": [
    "error"
   ]
  },
  {
   "cell_type": "code",
   "execution_count": 308,
   "metadata": {
    "scrolled": false
   },
   "outputs": [
    {
     "ename": "ValueError",
     "evalue": "shapes (1,5) and (3,) not aligned: 5 (dim 1) != 3 (dim 0)",
     "output_type": "error",
     "traceback": [
      "\u001b[0;31m---------------------------------------------------------------------------\u001b[0m",
      "\u001b[0;31mValueError\u001b[0m                                Traceback (most recent call last)",
      "\u001b[0;32m<ipython-input-308-28e63ce715a2>\u001b[0m in \u001b[0;36m<module>\u001b[0;34m()\u001b[0m\n\u001b[0;32m----> 1\u001b[0;31m \u001b[0mpredictNew\u001b[0m\u001b[0;34m(\u001b[0m\u001b[0mself\u001b[0m\u001b[0;34m=\u001b[0m\u001b[0mmedecineModel\u001b[0m\u001b[0;34m,\u001b[0m\u001b[0mnewStData\u001b[0m\u001b[0;34m=\u001b[0m\u001b[0mnewStData2\u001b[0m\u001b[0;34m)\u001b[0m\u001b[0;34m\u001b[0m\u001b[0m\n\u001b[0m",
      "\u001b[0;32m<ipython-input-234-589bbbbf3fe7>\u001b[0m in \u001b[0;36mpredictNew\u001b[0;34m(self, newStData)\u001b[0m\n\u001b[1;32m     18\u001b[0m     \u001b[0mpredictedVal\u001b[0m\u001b[0;34m=\u001b[0m\u001b[0mpd\u001b[0m\u001b[0;34m.\u001b[0m\u001b[0mDataFrame\u001b[0m\u001b[0;34m.\u001b[0m\u001b[0mfrom_dict\u001b[0m\u001b[0;34m(\u001b[0m\u001b[0mpredictions\u001b[0m\u001b[0;34m,\u001b[0m\u001b[0mdtype\u001b[0m\u001b[0;34m=\u001b[0m\u001b[0mnp\u001b[0m\u001b[0;34m.\u001b[0m\u001b[0mfloat\u001b[0m\u001b[0;34m)\u001b[0m\u001b[0;34m\u001b[0m\u001b[0m\n\u001b[1;32m     19\u001b[0m     \u001b[0mpredictedVal\u001b[0m\u001b[0;34m.\u001b[0m\u001b[0mset_index\u001b[0m\u001b[0;34m(\u001b[0m\u001b[0mX\u001b[0m\u001b[0;34m.\u001b[0m\u001b[0mindex\u001b[0m\u001b[0;34m,\u001b[0m\u001b[0minplace\u001b[0m\u001b[0;34m=\u001b[0m\u001b[0mTrue\u001b[0m\u001b[0;34m)\u001b[0m\u001b[0;34m\u001b[0m\u001b[0m\n\u001b[0;32m---> 20\u001b[0;31m     \u001b[0mpredictedVal\u001b[0m\u001b[0;34m.\u001b[0m\u001b[0mloc\u001b[0m\u001b[0;34m[\u001b[0m\u001b[0;34m:\u001b[0m\u001b[0;34m,\u001b[0m\u001b[0;34m'finalOutput'\u001b[0m\u001b[0;34m]\u001b[0m\u001b[0;34m=\u001b[0m\u001b[0mself\u001b[0m\u001b[0;34m.\u001b[0m\u001b[0mstacker\u001b[0m\u001b[0;34m.\u001b[0m\u001b[0mpredict\u001b[0m\u001b[0;34m(\u001b[0m\u001b[0mpredictedVal\u001b[0m\u001b[0;34m)\u001b[0m\u001b[0;34m\u001b[0m\u001b[0m\n\u001b[0m\u001b[1;32m     21\u001b[0m     \u001b[0;32mreturn\u001b[0m \u001b[0mpredictedVal\u001b[0m\u001b[0;34m\u001b[0m\u001b[0m\n",
      "\u001b[0;32m/Users/espyMur/Desktop/Memory-WorkingDir/memoryVenv/lib/python2.7/site-packages/sklearn/linear_model/base.pyc\u001b[0m in \u001b[0;36mpredict\u001b[0;34m(self, X)\u001b[0m\n\u001b[1;32m    266\u001b[0m             \u001b[0mReturns\u001b[0m \u001b[0mpredicted\u001b[0m \u001b[0mvalues\u001b[0m\u001b[0;34m.\u001b[0m\u001b[0;34m\u001b[0m\u001b[0m\n\u001b[1;32m    267\u001b[0m         \"\"\"\n\u001b[0;32m--> 268\u001b[0;31m         \u001b[0;32mreturn\u001b[0m \u001b[0mself\u001b[0m\u001b[0;34m.\u001b[0m\u001b[0m_decision_function\u001b[0m\u001b[0;34m(\u001b[0m\u001b[0mX\u001b[0m\u001b[0;34m)\u001b[0m\u001b[0;34m\u001b[0m\u001b[0m\n\u001b[0m\u001b[1;32m    269\u001b[0m \u001b[0;34m\u001b[0m\u001b[0m\n\u001b[1;32m    270\u001b[0m     \u001b[0m_preprocess_data\u001b[0m \u001b[0;34m=\u001b[0m \u001b[0mstaticmethod\u001b[0m\u001b[0;34m(\u001b[0m\u001b[0m_preprocess_data\u001b[0m\u001b[0;34m)\u001b[0m\u001b[0;34m\u001b[0m\u001b[0m\n",
      "\u001b[0;32m/Users/espyMur/Desktop/Memory-WorkingDir/memoryVenv/lib/python2.7/site-packages/sklearn/linear_model/base.pyc\u001b[0m in \u001b[0;36m_decision_function\u001b[0;34m(self, X)\u001b[0m\n\u001b[1;32m    251\u001b[0m         \u001b[0mX\u001b[0m \u001b[0;34m=\u001b[0m \u001b[0mcheck_array\u001b[0m\u001b[0;34m(\u001b[0m\u001b[0mX\u001b[0m\u001b[0;34m,\u001b[0m \u001b[0maccept_sparse\u001b[0m\u001b[0;34m=\u001b[0m\u001b[0;34m[\u001b[0m\u001b[0;34m'csr'\u001b[0m\u001b[0;34m,\u001b[0m \u001b[0;34m'csc'\u001b[0m\u001b[0;34m,\u001b[0m \u001b[0;34m'coo'\u001b[0m\u001b[0;34m]\u001b[0m\u001b[0;34m)\u001b[0m\u001b[0;34m\u001b[0m\u001b[0m\n\u001b[1;32m    252\u001b[0m         return safe_sparse_dot(X, self.coef_.T,\n\u001b[0;32m--> 253\u001b[0;31m                                dense_output=True) + self.intercept_\n\u001b[0m\u001b[1;32m    254\u001b[0m \u001b[0;34m\u001b[0m\u001b[0m\n\u001b[1;32m    255\u001b[0m     \u001b[0;32mdef\u001b[0m \u001b[0mpredict\u001b[0m\u001b[0;34m(\u001b[0m\u001b[0mself\u001b[0m\u001b[0;34m,\u001b[0m \u001b[0mX\u001b[0m\u001b[0;34m)\u001b[0m\u001b[0;34m:\u001b[0m\u001b[0;34m\u001b[0m\u001b[0m\n",
      "\u001b[0;32m/Users/espyMur/Desktop/Memory-WorkingDir/memoryVenv/lib/python2.7/site-packages/sklearn/utils/extmath.pyc\u001b[0m in \u001b[0;36msafe_sparse_dot\u001b[0;34m(a, b, dense_output)\u001b[0m\n\u001b[1;32m    187\u001b[0m         \u001b[0;32mreturn\u001b[0m \u001b[0mret\u001b[0m\u001b[0;34m\u001b[0m\u001b[0m\n\u001b[1;32m    188\u001b[0m     \u001b[0;32melse\u001b[0m\u001b[0;34m:\u001b[0m\u001b[0;34m\u001b[0m\u001b[0m\n\u001b[0;32m--> 189\u001b[0;31m         \u001b[0;32mreturn\u001b[0m \u001b[0mfast_dot\u001b[0m\u001b[0;34m(\u001b[0m\u001b[0ma\u001b[0m\u001b[0;34m,\u001b[0m \u001b[0mb\u001b[0m\u001b[0;34m)\u001b[0m\u001b[0;34m\u001b[0m\u001b[0m\n\u001b[0m\u001b[1;32m    190\u001b[0m \u001b[0;34m\u001b[0m\u001b[0m\n\u001b[1;32m    191\u001b[0m \u001b[0;34m\u001b[0m\u001b[0m\n",
      "\u001b[0;31mValueError\u001b[0m: shapes (1,5) and (3,) not aligned: 5 (dim 1) != 3 (dim 0)"
     ]
    }
   ],
   "source": [
    "predictNew(self=medecineModel,newStData=newStData2)"
   ]
  },
  {
   "cell_type": "code",
   "execution_count": null,
   "metadata": {
    "collapsed": true
   },
   "outputs": [],
   "source": []
  }
 ],
 "metadata": {
  "kernelspec": {
   "display_name": "Python 2",
   "language": "python",
   "name": "python2"
  },
  "language_info": {
   "codemirror_mode": {
    "name": "ipython",
    "version": 2
   },
   "file_extension": ".py",
   "mimetype": "text/x-python",
   "name": "python",
   "nbconvert_exporter": "python",
   "pygments_lexer": "ipython2",
   "version": "2.7.13"
  }
 },
 "nbformat": 4,
 "nbformat_minor": 2
}
