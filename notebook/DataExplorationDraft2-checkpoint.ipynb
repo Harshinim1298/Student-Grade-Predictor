{
 "cells": [
  {
   "cell_type": "markdown",
   "metadata": {},
   "source": [
    "# Presentation et Exploitation  des Données "
   ]
  },
  {
   "cell_type": "markdown",
   "metadata": {},
   "source": [
    "Dans ce chapitre nous allons exploités les données mise en notre disposition par les autorités de l'ULPGL.\n",
    "Celles-ci sont issues du système d'information UAT (Univeristy Administrative Tool) et pour des raisons de confidentialité nous n'avons pas eu accès a toute la base des données nous avons juste fais une requete des donnes dont nous avons besoin pour notre étude et l'administrateur a executé une requete vers sa base des données et nous a fourni les données dont nous avions besoin pour l'etude sous forme d'un fichier csv (commat separted values).\n",
    "Comme souligné dans le chapitre premier ce chapitre se basera sur la methodologie CRISP-DM elle sera subdivisé en differentes sections:\n",
    "- L'exploration et la preparation des donnéés\n",
    "- selection des algorithmes et leur execution \n",
    "- l'amelioratrion et optimisation des algorithmes\n",
    "source : Sklean Handbook Appendix 2"
   ]
  },
  {
   "cell_type": "markdown",
   "metadata": {},
   "source": [
    "## Exploration et la preparation des donness données \n",
    "\n"
   ]
  },
  {
   "cell_type": "markdown",
   "metadata": {},
   "source": [
    "source : https://www.analyticsvidhya.com/blog/2016/01/guide-data-exploration/\n",
    "         SUNIL RAY , JANUARY 10, 2016"
   ]
  },
  {
   "cell_type": "markdown",
   "metadata": {},
   "source": [
    "les specialites affirment que 70-80 % du temps consacré à un projet dataMining est alloué à la phase de l'exploration et la preparation des données , il n' ya pas des racourcis pour cette phase et si on l'a pas bien effectué nous risquons de nous retouver entrain d'ameliorer l'exactitude de notre algorithme mais en vain nous serons toujours obligées de retourner à cette phase et toutes ces techniques de l'exploration des données pourrons nous venir en aide .\n"
   ]
  },
  {
   "cell_type": "markdown",
   "metadata": {},
   "source": [
    "1. Les Etapes de la phase d'exploration ét la preparation des donnes\n",
    "Certaines des ces étapes sont mentionées sur la figure suivante ;\n",
    "![alt text](Exploration.png \"Exploration\")\n",
    "source: http://www.saedsayad.com/data_mining_map.htm\n",
    "\n",
    "En bref l'exploration des données consiste à se plonger dans le passée pour prédire l'avenir .Souvenenons nous que la qualité de notre entré determine la qualité de notre sortie, ces phases  nous permettent  d'ameliorer la qualité de notre entré en vue d'avoir une bonne sortie.\n",
    "Voici les étapes de cette phases:\n",
    "\n",
    "- Identification des variables\n",
    "- Analyse univarié\n",
    "- Analyse Bi-varié\n",
    "- Traitement des valeur maquantes \n",
    "- Traitement des deviations ou outliers \n",
    "- Transformation des variables\n",
    "- creation des nouvelles variables\n",
    "\n",
    "Comme nous l'avons soulignées dans le chapitre 1 ce processus est un processus iteratif et incremetale nous executerons cette phase 2 a 5 fois ou plus en vue d'avoir un bon modele"
   ]
  },
  {
   "cell_type": "markdown",
   "metadata": {},
   "source": [
    "Comme soulignées dans la phase d'introduction les données mise à notre disposition sont sous format csv et nous alons utilisé la librarie pandas de python pour faire l'analyse , nous utiliserons aussi d'autres libraies qui nous permetrons de faire les statistiques ainsi ques les visualisations :\n",
    "\n",
    "voici le code pour charger le librairies."
   ]
  },
  {
   "cell_type": "code",
   "execution_count": 194,
   "metadata": {
    "collapsed": true
   },
   "outputs": [],
   "source": [
    "import pandas as pd\n",
    "import numpy as np\n",
    "import matplotlib.pyplot as plt\n",
    "import seaborn as sns #for beatiful visualisations\n",
    "%matplotlib inline \n",
    "import scipy.stats as scs #for statistics\n",
    "import operator\n",
    "from scipy.stats import chi2_contingency\n",
    "import scipy.stats as scs #for statistics\n",
    "import matplotlib.ticker as ticker\n",
    "import datetime\n",
    "import dateutil"
   ]
  },
  {
   "cell_type": "code",
   "execution_count": 42,
   "metadata": {
    "collapsed": true
   },
   "outputs": [],
   "source": [
    "dataset=pd.read_csv(\"mashineLearningExport.csv\")"
   ]
  },
  {
   "cell_type": "markdown",
   "metadata": {},
   "source": [
    "Nous venons de charger les donnes et nous pouvons remarquer à quoi ils ressemblent"
   ]
  },
  {
   "cell_type": "code",
   "execution_count": 3,
   "metadata": {},
   "outputs": [
    {
     "data": {
      "text/html": [
       "<div>\n",
       "<style>\n",
       "    .dataframe thead tr:only-child th {\n",
       "        text-align: right;\n",
       "    }\n",
       "\n",
       "    .dataframe thead th {\n",
       "        text-align: left;\n",
       "    }\n",
       "\n",
       "    .dataframe tbody tr th {\n",
       "        vertical-align: top;\n",
       "    }\n",
       "</style>\n",
       "<table border=\"1\" class=\"dataframe\">\n",
       "  <thead>\n",
       "    <tr style=\"text-align: right;\">\n",
       "      <th></th>\n",
       "      <th>IDENTIFICATION</th>\n",
       "      <th>BIRTHDAY</th>\n",
       "      <th>NAME</th>\n",
       "      <th>DIPLOMDATE</th>\n",
       "      <th>DIPLOMTYPE</th>\n",
       "      <th>DIPLOMMENTION</th>\n",
       "      <th>DIPLOMPERCENTAGE</th>\n",
       "      <th>DIPLOMSECTION</th>\n",
       "      <th>DIPLOMOPTION</th>\n",
       "      <th>DIPLOMPLACE</th>\n",
       "      <th>...</th>\n",
       "      <th>SCHOOLCODE</th>\n",
       "      <th>SCHOOLSTATUS</th>\n",
       "      <th>ACADYEAR</th>\n",
       "      <th>PERC1</th>\n",
       "      <th>MENT1</th>\n",
       "      <th>PERC2</th>\n",
       "      <th>MENT2</th>\n",
       "      <th>FAC</th>\n",
       "      <th>OPT</th>\n",
       "      <th>PROM</th>\n",
       "    </tr>\n",
       "  </thead>\n",
       "  <tbody>\n",
       "    <tr>\n",
       "      <th>0</th>\n",
       "      <td>215</td>\n",
       "      <td>1978-09-07</td>\n",
       "      <td>F</td>\n",
       "      <td>NaN</td>\n",
       "      <td>DIPLÔME D'ETAT</td>\n",
       "      <td>NaN</td>\n",
       "      <td>58.0</td>\n",
       "      <td>SCIENTIFIQUE</td>\n",
       "      <td>MATH-PHYSIQUE</td>\n",
       "      <td>NaN</td>\n",
       "      <td>...</td>\n",
       "      <td>INSTITUT VUNGI</td>\n",
       "      <td>inconnu</td>\n",
       "      <td>2012-2013</td>\n",
       "      <td>NaN</td>\n",
       "      <td>ADMIS AU MEMOIRE</td>\n",
       "      <td>63.099998</td>\n",
       "      <td>SATISFACTION</td>\n",
       "      <td>Faculté de Droit</td>\n",
       "      <td>Droit Privé et Judiciaire</td>\n",
       "      <td>L2</td>\n",
       "    </tr>\n",
       "    <tr>\n",
       "      <th>1</th>\n",
       "      <td>343</td>\n",
       "      <td>1973-03-04</td>\n",
       "      <td>H</td>\n",
       "      <td>1999-11-15</td>\n",
       "      <td>DIPLÔME D'ETAT</td>\n",
       "      <td>NaN</td>\n",
       "      <td>54.0</td>\n",
       "      <td>SCIENTIFIQUE</td>\n",
       "      <td>MATH PHYSIQUE</td>\n",
       "      <td>KINSHASA</td>\n",
       "      <td>...</td>\n",
       "      <td>INSTITUT FARAJA</td>\n",
       "      <td>inconnu</td>\n",
       "      <td>2015-2016</td>\n",
       "      <td>NaN</td>\n",
       "      <td>ASSIMILE AUX AJOURNES</td>\n",
       "      <td>52.200001</td>\n",
       "      <td>AJOURNE</td>\n",
       "      <td>Faculté des Sciences Économiques et de Gestion</td>\n",
       "      <td>Tronc commun</td>\n",
       "      <td>G2</td>\n",
       "    </tr>\n",
       "    <tr>\n",
       "      <th>2</th>\n",
       "      <td>356</td>\n",
       "      <td>1978-03-02</td>\n",
       "      <td>H</td>\n",
       "      <td>1997-12-24</td>\n",
       "      <td>DIPLÔME D'ETAT DU RWANDA</td>\n",
       "      <td>NaN</td>\n",
       "      <td>60.0</td>\n",
       "      <td>ECONOMIE ET COMMERCE</td>\n",
       "      <td>ECONOMIE</td>\n",
       "      <td>GISENYI</td>\n",
       "      <td>...</td>\n",
       "      <td>ESISE/GISENYI</td>\n",
       "      <td>inconnu</td>\n",
       "      <td>2015-2016</td>\n",
       "      <td>NaN</td>\n",
       "      <td>ADMIS AU STAGE ET AU MEMOIRE</td>\n",
       "      <td>59.900002</td>\n",
       "      <td>SATISFACTION</td>\n",
       "      <td>Faculté des Sciences Économiques et de Gestion</td>\n",
       "      <td>Gestion des Entreprises</td>\n",
       "      <td>L2</td>\n",
       "    </tr>\n",
       "    <tr>\n",
       "      <th>3</th>\n",
       "      <td>429</td>\n",
       "      <td>1973-01-11</td>\n",
       "      <td>H</td>\n",
       "      <td>NaN</td>\n",
       "      <td>DIPLÔME D'ETAT</td>\n",
       "      <td>NaN</td>\n",
       "      <td>0.0</td>\n",
       "      <td>TECHNIQUE</td>\n",
       "      <td>COMMERCIALE ET ADMINISTRATIVE</td>\n",
       "      <td>NaN</td>\n",
       "      <td>...</td>\n",
       "      <td>C,S, UMOJA</td>\n",
       "      <td>inconnu</td>\n",
       "      <td>2013-2014</td>\n",
       "      <td>NaN</td>\n",
       "      <td>ASSIMILE AUX AJOURNES</td>\n",
       "      <td>NaN</td>\n",
       "      <td>AJOURNE</td>\n",
       "      <td>Faculté de Droit</td>\n",
       "      <td>Tronc commun</td>\n",
       "      <td>G1</td>\n",
       "    </tr>\n",
       "    <tr>\n",
       "      <th>4</th>\n",
       "      <td>645</td>\n",
       "      <td>1979-11-24</td>\n",
       "      <td>H</td>\n",
       "      <td>1999-10-09</td>\n",
       "      <td>DIPLÔME D'ETAT</td>\n",
       "      <td>NaN</td>\n",
       "      <td>53.0</td>\n",
       "      <td>LITTERAIRE</td>\n",
       "      <td>LATIN PHILO</td>\n",
       "      <td>KINSHASA</td>\n",
       "      <td>...</td>\n",
       "      <td>INST TUPENDANE/KOLWEZI</td>\n",
       "      <td>inconnu</td>\n",
       "      <td>2014-2015</td>\n",
       "      <td>NaN</td>\n",
       "      <td>ASSIMILE AUX AJOURNES</td>\n",
       "      <td>61.400002</td>\n",
       "      <td>SATISFACTION</td>\n",
       "      <td>Faculté de Droit</td>\n",
       "      <td>Droit Public</td>\n",
       "      <td>L1</td>\n",
       "    </tr>\n",
       "    <tr>\n",
       "      <th>5</th>\n",
       "      <td>645</td>\n",
       "      <td>1979-11-24</td>\n",
       "      <td>H</td>\n",
       "      <td>1999-10-09</td>\n",
       "      <td>DIPLÔME D'ETAT</td>\n",
       "      <td>NaN</td>\n",
       "      <td>53.0</td>\n",
       "      <td>LITTERAIRE</td>\n",
       "      <td>LATIN PHILO</td>\n",
       "      <td>KINSHASA</td>\n",
       "      <td>...</td>\n",
       "      <td>INST TUPENDANE/KOLWEZI</td>\n",
       "      <td>inconnu</td>\n",
       "      <td>2015-2016</td>\n",
       "      <td>NaN</td>\n",
       "      <td>ASSIMILE AUX AJOURNES</td>\n",
       "      <td>NaN</td>\n",
       "      <td>NON ADMISSIBLE DS LA MEME FILIERE</td>\n",
       "      <td>Faculté de Droit</td>\n",
       "      <td>Droit Public</td>\n",
       "      <td>L2</td>\n",
       "    </tr>\n",
       "    <tr>\n",
       "      <th>6</th>\n",
       "      <td>665</td>\n",
       "      <td>1979-11-03</td>\n",
       "      <td>H</td>\n",
       "      <td>2001-04-30</td>\n",
       "      <td>DIPLÔME D'ETAT</td>\n",
       "      <td>NaN</td>\n",
       "      <td>52.0</td>\n",
       "      <td>TECHNIQUE</td>\n",
       "      <td>SOCIALE</td>\n",
       "      <td>KINSHASA</td>\n",
       "      <td>...</td>\n",
       "      <td>INSTITUT MIKENO</td>\n",
       "      <td>inconnu</td>\n",
       "      <td>2014-2015</td>\n",
       "      <td>NaN</td>\n",
       "      <td>ASSIMILE AUX AJOURNES</td>\n",
       "      <td>NaN</td>\n",
       "      <td>AJOURNE</td>\n",
       "      <td>Faculté des Sciences Économiques et de Gestion</td>\n",
       "      <td>Gestion des Entreprises</td>\n",
       "      <td>L2</td>\n",
       "    </tr>\n",
       "    <tr>\n",
       "      <th>7</th>\n",
       "      <td>735</td>\n",
       "      <td>1965-09-02</td>\n",
       "      <td>H</td>\n",
       "      <td>NaN</td>\n",
       "      <td>inconnu</td>\n",
       "      <td>NaN</td>\n",
       "      <td>0.0</td>\n",
       "      <td>inconnu</td>\n",
       "      <td>inconnu</td>\n",
       "      <td>NaN</td>\n",
       "      <td>...</td>\n",
       "      <td>NaN</td>\n",
       "      <td>inconnu</td>\n",
       "      <td>2014-2015</td>\n",
       "      <td>NaN</td>\n",
       "      <td>ASSIMILE AUX AJOURNES</td>\n",
       "      <td>65.099998</td>\n",
       "      <td>SATISFACTION</td>\n",
       "      <td>Faculté de Santé et Développement Communautaires</td>\n",
       "      <td>Santé et Développement Communautaires</td>\n",
       "      <td>L2</td>\n",
       "    </tr>\n",
       "    <tr>\n",
       "      <th>8</th>\n",
       "      <td>736</td>\n",
       "      <td>1961-07-07</td>\n",
       "      <td>H</td>\n",
       "      <td>NaN</td>\n",
       "      <td>inconnu</td>\n",
       "      <td>NaN</td>\n",
       "      <td>0.0</td>\n",
       "      <td>inconnu</td>\n",
       "      <td>inconnu</td>\n",
       "      <td>NaN</td>\n",
       "      <td>...</td>\n",
       "      <td>NaN</td>\n",
       "      <td>inconnu</td>\n",
       "      <td>2014-2015</td>\n",
       "      <td>NaN</td>\n",
       "      <td>ASSIMILE AUX AJOURNES</td>\n",
       "      <td>60.799999</td>\n",
       "      <td>SATISFACTION</td>\n",
       "      <td>Faculté de Santé et Développement Communautaires</td>\n",
       "      <td>Santé et Développement Communautaires</td>\n",
       "      <td>L2</td>\n",
       "    </tr>\n",
       "    <tr>\n",
       "      <th>9</th>\n",
       "      <td>827</td>\n",
       "      <td>1962-04-15</td>\n",
       "      <td>H</td>\n",
       "      <td>NaN</td>\n",
       "      <td>inconnu</td>\n",
       "      <td>NaN</td>\n",
       "      <td>60.0</td>\n",
       "      <td>TEC</td>\n",
       "      <td>CA</td>\n",
       "      <td>NaN</td>\n",
       "      <td>...</td>\n",
       "      <td>AUTO</td>\n",
       "      <td>inconnu</td>\n",
       "      <td>2014-2015</td>\n",
       "      <td>NaN</td>\n",
       "      <td>ASSIMILE AUX AJOURNES</td>\n",
       "      <td>NaN</td>\n",
       "      <td>AJOURNE</td>\n",
       "      <td>Faculté des Sciences Économiques et de Gestion</td>\n",
       "      <td>Gestion Financière</td>\n",
       "      <td>L2</td>\n",
       "    </tr>\n",
       "  </tbody>\n",
       "</table>\n",
       "<p>10 rows × 22 columns</p>\n",
       "</div>"
      ],
      "text/plain": [
       "   IDENTIFICATION    BIRTHDAY NAME  DIPLOMDATE                DIPLOMTYPE  \\\n",
       "0             215  1978-09-07    F         NaN            DIPLÔME D'ETAT   \n",
       "1             343  1973-03-04    H  1999-11-15            DIPLÔME D'ETAT   \n",
       "2             356  1978-03-02    H  1997-12-24  DIPLÔME D'ETAT DU RWANDA   \n",
       "3             429  1973-01-11    H         NaN            DIPLÔME D'ETAT   \n",
       "4             645  1979-11-24    H  1999-10-09            DIPLÔME D'ETAT   \n",
       "5             645  1979-11-24    H  1999-10-09            DIPLÔME D'ETAT   \n",
       "6             665  1979-11-03    H  2001-04-30            DIPLÔME D'ETAT   \n",
       "7             735  1965-09-02    H         NaN                   inconnu   \n",
       "8             736  1961-07-07    H         NaN                   inconnu   \n",
       "9             827  1962-04-15    H         NaN                   inconnu   \n",
       "\n",
       "  DIPLOMMENTION  DIPLOMPERCENTAGE         DIPLOMSECTION  \\\n",
       "0           NaN              58.0          SCIENTIFIQUE   \n",
       "1           NaN              54.0          SCIENTIFIQUE   \n",
       "2           NaN              60.0  ECONOMIE ET COMMERCE   \n",
       "3           NaN               0.0             TECHNIQUE   \n",
       "4           NaN              53.0            LITTERAIRE   \n",
       "5           NaN              53.0            LITTERAIRE   \n",
       "6           NaN              52.0             TECHNIQUE   \n",
       "7           NaN               0.0               inconnu   \n",
       "8           NaN               0.0               inconnu   \n",
       "9           NaN              60.0                   TEC   \n",
       "\n",
       "                    DIPLOMOPTION DIPLOMPLACE ...               SCHOOLCODE  \\\n",
       "0                  MATH-PHYSIQUE         NaN ...           INSTITUT VUNGI   \n",
       "1                  MATH PHYSIQUE    KINSHASA ...          INSTITUT FARAJA   \n",
       "2                       ECONOMIE     GISENYI ...            ESISE/GISENYI   \n",
       "3  COMMERCIALE ET ADMINISTRATIVE         NaN ...               C,S, UMOJA   \n",
       "4                    LATIN PHILO    KINSHASA ...   INST TUPENDANE/KOLWEZI   \n",
       "5                    LATIN PHILO    KINSHASA ...   INST TUPENDANE/KOLWEZI   \n",
       "6                        SOCIALE    KINSHASA ...          INSTITUT MIKENO   \n",
       "7                        inconnu         NaN ...                      NaN   \n",
       "8                        inconnu         NaN ...                      NaN   \n",
       "9                             CA         NaN ...                     AUTO   \n",
       "\n",
       "  SCHOOLSTATUS   ACADYEAR PERC1                         MENT1      PERC2  \\\n",
       "0      inconnu  2012-2013   NaN              ADMIS AU MEMOIRE  63.099998   \n",
       "1      inconnu  2015-2016   NaN         ASSIMILE AUX AJOURNES  52.200001   \n",
       "2      inconnu  2015-2016   NaN  ADMIS AU STAGE ET AU MEMOIRE  59.900002   \n",
       "3      inconnu  2013-2014   NaN         ASSIMILE AUX AJOURNES        NaN   \n",
       "4      inconnu  2014-2015   NaN         ASSIMILE AUX AJOURNES  61.400002   \n",
       "5      inconnu  2015-2016   NaN         ASSIMILE AUX AJOURNES        NaN   \n",
       "6      inconnu  2014-2015   NaN         ASSIMILE AUX AJOURNES        NaN   \n",
       "7      inconnu  2014-2015   NaN         ASSIMILE AUX AJOURNES  65.099998   \n",
       "8      inconnu  2014-2015   NaN         ASSIMILE AUX AJOURNES  60.799999   \n",
       "9      inconnu  2014-2015   NaN         ASSIMILE AUX AJOURNES        NaN   \n",
       "\n",
       "                               MENT2  \\\n",
       "0                       SATISFACTION   \n",
       "1                            AJOURNE   \n",
       "2                       SATISFACTION   \n",
       "3                            AJOURNE   \n",
       "4                       SATISFACTION   \n",
       "5  NON ADMISSIBLE DS LA MEME FILIERE   \n",
       "6                            AJOURNE   \n",
       "7                       SATISFACTION   \n",
       "8                       SATISFACTION   \n",
       "9                            AJOURNE   \n",
       "\n",
       "                                                FAC  \\\n",
       "0                                  Faculté de Droit   \n",
       "1    Faculté des Sciences Économiques et de Gestion   \n",
       "2    Faculté des Sciences Économiques et de Gestion   \n",
       "3                                  Faculté de Droit   \n",
       "4                                  Faculté de Droit   \n",
       "5                                  Faculté de Droit   \n",
       "6    Faculté des Sciences Économiques et de Gestion   \n",
       "7  Faculté de Santé et Développement Communautaires   \n",
       "8  Faculté de Santé et Développement Communautaires   \n",
       "9    Faculté des Sciences Économiques et de Gestion   \n",
       "\n",
       "                                     OPT PROM  \n",
       "0              Droit Privé et Judiciaire   L2  \n",
       "1                           Tronc commun   G2  \n",
       "2                Gestion des Entreprises   L2  \n",
       "3                           Tronc commun   G1  \n",
       "4                           Droit Public   L1  \n",
       "5                           Droit Public   L2  \n",
       "6                Gestion des Entreprises   L2  \n",
       "7  Santé et Développement Communautaires   L2  \n",
       "8  Santé et Développement Communautaires   L2  \n",
       "9                     Gestion Financière   L2  \n",
       "\n",
       "[10 rows x 22 columns]"
      ]
     },
     "execution_count": 3,
     "metadata": {},
     "output_type": "execute_result"
    }
   ],
   "source": [
    "dataset.head(10)"
   ]
  },
  {
   "cell_type": "code",
   "execution_count": 5,
   "metadata": {},
   "outputs": [
    {
     "data": {
      "text/plain": [
       "(7216, 22)"
      ]
     },
     "execution_count": 5,
     "metadata": {},
     "output_type": "execute_result"
    }
   ],
   "source": [
    "dataset.shape"
   ]
  },
  {
   "cell_type": "markdown",
   "metadata": {},
   "source": [
    "Nous remarquons que les données sont stocké dans un e structure de type matricielle appelé dataframe.\n",
    "source : https://pandas.pydata.org/pandas-docs/stable/dsintro.html#dataframe\n",
    "\n",
    "un DataFrame  selon la documentation officielle de pandas  est une structure des données bidementionnel avec des colonnes des données des differentes types . Il peut etre compareé à une feuille de calcul excel ou une table dans SQL"
   ]
  },
  {
   "cell_type": "markdown",
   "metadata": {},
   "source": [
    "la commande dataset.shape nous a permis de dire que notre emsemble d'apprentissage de  depart\n",
    "comprend 7216 lignes et 22 colones !\n",
    "Analysons de plus pret les colones "
   ]
  },
  {
   "cell_type": "code",
   "execution_count": 6,
   "metadata": {},
   "outputs": [
    {
     "data": {
      "text/plain": [
       "Index([u'IDENTIFICATION', u'BIRTHDAY', u'NAME', u'DIPLOMDATE', u'DIPLOMTYPE',\n",
       "       u'DIPLOMMENTION', u'DIPLOMPERCENTAGE', u'DIPLOMSECTION',\n",
       "       u'DIPLOMOPTION', u'DIPLOMPLACE', u'SCHOOL', u'SCHOOLPROVINCE',\n",
       "       u'SCHOOLCODE', u'SCHOOLSTATUS', u'ACADYEAR', u'PERC1', u'MENT1',\n",
       "       u'PERC2', u'MENT2', u'FAC', u'OPT', u'PROM'],\n",
       "      dtype='object')"
      ]
     },
     "execution_count": 6,
     "metadata": {},
     "output_type": "execute_result"
    }
   ],
   "source": [
    "dataset.columns"
   ]
  },
  {
   "cell_type": "markdown",
   "metadata": {},
   "source": [
    "chaque ligne comprend les information d'un étudiant pour une année Academeique"
   ]
  },
  {
   "cell_type": "markdown",
   "metadata": {},
   "source": [
    "1 IDENTIFICATION : contient une identification unique et anonyme d'un étudiant  les noms et les matricules reeles des étudiants on éé cachées pour des raisons de confidentialites \n",
    "\n",
    "2 BIRTHDAY : contient la date de naissance de chaque étudiant\n",
    "\n",
    "3 NAME : contient le sexe de chaque étudiant\n",
    "\n",
    "4 DIPLOMDATE : L'anné d'optiention du diplome\n",
    "\n",
    "5 DIPLOMTYPE : le type de diplome\n",
    "\n",
    "6 DIPLOMMENTION : mention de diplome\n",
    "\n",
    "7 DIPLOMPERCENTAGE: le pourcentage du diplome\n",
    "\n",
    "8 DIPLOMSECTION: la section du diplome\n",
    "\n",
    "9 DIPLOMOPTION : l'option\n",
    "\n",
    "10 DIPLOMPLACE : l'endroit d'optention du diplome\n",
    "\n",
    "11 SCHOOL : l'ecole de provenance\n",
    "\n",
    "12 SCHOOLPROVINCE : la province de provenance\n",
    "\n",
    "13 SCHOOLCODE : code de l'ecole\n",
    "\n",
    "14 SCHOOLSTATUS : le status de l'ecole (privaté , publique , conventioneé ,..)\n",
    "\n",
    "15 ACADYEAR  : l'annéé academique '\n",
    "\n",
    "16 PERC1 : poucentage en premiere session\n",
    "\n",
    "17 MENT1 : mention en premier session\n",
    "\n",
    "18 PERC2 : pourcentage en seconde session\n",
    "\n",
    "19 MENT2 : mention en seconde session\n",
    "\n",
    "20 FAC : la faculté\n",
    "\n",
    "21 OPT : l'option\n",
    "\n",
    "22 PROM : la promotion"
   ]
  },
  {
   "cell_type": "markdown",
   "metadata": {},
   "source": [
    "Comme nous pouvons le constater les colonnes 1-14 regrogent les informations que chaque étudiant donné à son instcription , ils constituerons nos variables d'entres\n",
    "les restes seronts utilisées pour constituer notre variable de sortie"
   ]
  },
  {
   "cell_type": "markdown",
   "metadata": {},
   "source": [
    "Nous l'avons aussi signales que chaque ligne comprend les information d'un étudiant pour une année academique .\n",
    "Pour mener bien notre anyse nous alons grouper les information de chaque etudieant en une lignee "
   ]
  },
  {
   "cell_type": "code",
   "execution_count": 5,
   "metadata": {
    "collapsed": true
   },
   "outputs": [],
   "source": [
    "inputCol=dataset.columns[0:14]"
   ]
  },
  {
   "cell_type": "markdown",
   "metadata": {},
   "source": [
    "nos données seront groupé selons les variables d'entrees ensuites les donnés de sorties serot groupes selon une fonction d'aggregation predefinie "
   ]
  },
  {
   "cell_type": "markdown",
   "metadata": {},
   "source": [
    "Nous allons premierement faire une analyse univarié sur les données en entrees !"
   ]
  },
  {
   "cell_type": "markdown",
   "metadata": {},
   "source": [
    "Avant la phase de traitement des donnés regardons notre ensemble pour enlever les colonnes sans informations consoiderables."
   ]
  },
  {
   "cell_type": "markdown",
   "metadata": {},
   "source": [
    "Nous avons ecrit une function qui nous donnes un pourcentrage des valeurs maquantes pour chaque collones et de prime à bord nous allons supprimer certaines colonnes qu\n",
    "ne comportent pas des informations.\n"
   ]
  },
  {
   "cell_type": "code",
   "execution_count": 4,
   "metadata": {
    "collapsed": true
   },
   "outputs": [],
   "source": [
    "def percentageMissin(Dataset):\n",
    "    \"\"\"this function will return the percentage of missing values in a dataset \"\"\"\n",
    "    if isinstance(Dataset,pd.DataFrame):\n",
    "        adict={} #a dictionary conatin keys columns names and values percentage of missin value in the columns\n",
    "        for col in Dataset.columns:\n",
    "            adict[col]=(np.count_nonzero(Dataset[col].isnull())*100)/len(Dataset[col])\n",
    "        return pd.DataFrame(adict,index=['% of missing'],columns=adict.keys())\n",
    "    else:\n",
    "        raise TypeError(\"can only be used with panda dataframe\")"
   ]
  },
  {
   "cell_type": "code",
   "execution_count": 5,
   "metadata": {
    "collapsed": true
   },
   "outputs": [],
   "source": [
    "MissinValueTables=percentageMissin(dataset)"
   ]
  },
  {
   "cell_type": "code",
   "execution_count": 6,
   "metadata": {},
   "outputs": [
    {
     "data": {
      "text/plain": [
       "BIRTHDAY             0\n",
       "DIPLOMDATE          98\n",
       "DIPLOMPLACE         98\n",
       "SCHOOLSTATUS         0\n",
       "DIPLOMPERCENTAGE     0\n",
       "SCHOOLPROVINCE       0\n",
       "FAC                  0\n",
       "ACADYEAR             0\n",
       "DIPLOMMENTION       99\n",
       "SCHOOLCODE          71\n",
       "PERC1               73\n",
       "PERC2               15\n",
       "DIPLOMOPTION         0\n",
       "OPT                  0\n",
       "SCHOOL               6\n",
       "NAME                 0\n",
       "DIPLOMSECTION        0\n",
       "MENT1                0\n",
       "PROM                 0\n",
       "MENT2                0\n",
       "IDENTIFICATION       0\n",
       "DIPLOMTYPE           0\n",
       "Name: % of missing, dtype: int64"
      ]
     },
     "execution_count": 6,
     "metadata": {},
     "output_type": "execute_result"
    }
   ],
   "source": [
    "MissinValueTables.loc['% of missing']"
   ]
  },
  {
   "cell_type": "code",
   "execution_count": 9,
   "metadata": {},
   "outputs": [
    {
     "data": {
      "text/html": [
       "<div>\n",
       "<style>\n",
       "    .dataframe thead tr:only-child th {\n",
       "        text-align: right;\n",
       "    }\n",
       "\n",
       "    .dataframe thead th {\n",
       "        text-align: left;\n",
       "    }\n",
       "\n",
       "    .dataframe tbody tr th {\n",
       "        vertical-align: top;\n",
       "    }\n",
       "</style>\n",
       "<table border=\"1\" class=\"dataframe\">\n",
       "  <thead>\n",
       "    <tr style=\"text-align: right;\">\n",
       "      <th></th>\n",
       "      <th>BIRTHDAY</th>\n",
       "      <th>DIPLOMDATE</th>\n",
       "      <th>DIPLOMPLACE</th>\n",
       "      <th>SCHOOLSTATUS</th>\n",
       "      <th>DIPLOMPERCENTAGE</th>\n",
       "      <th>SCHOOLPROVINCE</th>\n",
       "      <th>FAC</th>\n",
       "      <th>ACADYEAR</th>\n",
       "      <th>DIPLOMMENTION</th>\n",
       "      <th>SCHOOLCODE</th>\n",
       "      <th>...</th>\n",
       "      <th>DIPLOMOPTION</th>\n",
       "      <th>OPT</th>\n",
       "      <th>SCHOOL</th>\n",
       "      <th>NAME</th>\n",
       "      <th>DIPLOMSECTION</th>\n",
       "      <th>MENT1</th>\n",
       "      <th>PROM</th>\n",
       "      <th>MENT2</th>\n",
       "      <th>IDENTIFICATION</th>\n",
       "      <th>DIPLOMTYPE</th>\n",
       "    </tr>\n",
       "  </thead>\n",
       "  <tbody>\n",
       "    <tr>\n",
       "      <th>% of missing</th>\n",
       "      <td>0</td>\n",
       "      <td>98</td>\n",
       "      <td>98</td>\n",
       "      <td>0</td>\n",
       "      <td>0</td>\n",
       "      <td>0</td>\n",
       "      <td>0</td>\n",
       "      <td>0</td>\n",
       "      <td>99</td>\n",
       "      <td>71</td>\n",
       "      <td>...</td>\n",
       "      <td>0</td>\n",
       "      <td>0</td>\n",
       "      <td>6</td>\n",
       "      <td>0</td>\n",
       "      <td>0</td>\n",
       "      <td>0</td>\n",
       "      <td>0</td>\n",
       "      <td>0</td>\n",
       "      <td>0</td>\n",
       "      <td>0</td>\n",
       "    </tr>\n",
       "  </tbody>\n",
       "</table>\n",
       "<p>1 rows × 22 columns</p>\n",
       "</div>"
      ],
      "text/plain": [
       "              BIRTHDAY  DIPLOMDATE  DIPLOMPLACE  SCHOOLSTATUS  \\\n",
       "% of missing         0          98           98             0   \n",
       "\n",
       "              DIPLOMPERCENTAGE  SCHOOLPROVINCE  FAC  ACADYEAR  DIPLOMMENTION  \\\n",
       "% of missing                 0               0    0         0             99   \n",
       "\n",
       "              SCHOOLCODE     ...      DIPLOMOPTION  OPT  SCHOOL  NAME  \\\n",
       "% of missing          71     ...                 0    0       6     0   \n",
       "\n",
       "              DIPLOMSECTION  MENT1  PROM  MENT2  IDENTIFICATION  DIPLOMTYPE  \n",
       "% of missing              0      0     0      0               0           0  \n",
       "\n",
       "[1 rows x 22 columns]"
      ]
     },
     "execution_count": 9,
     "metadata": {},
     "output_type": "execute_result"
    }
   ],
   "source": [
    "MissinValueTables"
   ]
  },
  {
   "cell_type": "markdown",
   "metadata": {},
   "source": [
    "Avec cette table nous remarquons que 4 colones ne nous servirons à riens dans la suite car elles disposent de plus de 70 % des valeurs maquantes et nous devons les suprimées avant de continuer notre analyse "
   ]
  },
  {
   "cell_type": "code",
   "execution_count": 7,
   "metadata": {
    "collapsed": true
   },
   "outputs": [],
   "source": [
    "ColWIthoutInfo=['DIPLOMDATE','DIPLOMMENTION','DIPLOMPLACE','SCHOOLCODE']\n",
    "dataset.drop(labels=ColWIthoutInfo,axis=1,inplace=True)"
   ]
  },
  {
   "cell_type": "code",
   "execution_count": 8,
   "metadata": {},
   "outputs": [
    {
     "data": {
      "text/html": [
       "<div>\n",
       "<style>\n",
       "    .dataframe thead tr:only-child th {\n",
       "        text-align: right;\n",
       "    }\n",
       "\n",
       "    .dataframe thead th {\n",
       "        text-align: left;\n",
       "    }\n",
       "\n",
       "    .dataframe tbody tr th {\n",
       "        vertical-align: top;\n",
       "    }\n",
       "</style>\n",
       "<table border=\"1\" class=\"dataframe\">\n",
       "  <thead>\n",
       "    <tr style=\"text-align: right;\">\n",
       "      <th></th>\n",
       "      <th>IDENTIFICATION</th>\n",
       "      <th>BIRTHDAY</th>\n",
       "      <th>NAME</th>\n",
       "      <th>DIPLOMTYPE</th>\n",
       "      <th>DIPLOMPERCENTAGE</th>\n",
       "      <th>DIPLOMSECTION</th>\n",
       "      <th>DIPLOMOPTION</th>\n",
       "      <th>SCHOOL</th>\n",
       "      <th>SCHOOLPROVINCE</th>\n",
       "      <th>SCHOOLSTATUS</th>\n",
       "      <th>ACADYEAR</th>\n",
       "      <th>PERC1</th>\n",
       "      <th>MENT1</th>\n",
       "      <th>PERC2</th>\n",
       "      <th>MENT2</th>\n",
       "      <th>FAC</th>\n",
       "      <th>OPT</th>\n",
       "      <th>PROM</th>\n",
       "    </tr>\n",
       "  </thead>\n",
       "  <tbody>\n",
       "    <tr>\n",
       "      <th>0</th>\n",
       "      <td>215</td>\n",
       "      <td>1978-09-07</td>\n",
       "      <td>F</td>\n",
       "      <td>DIPLÔME D'ETAT</td>\n",
       "      <td>58.0</td>\n",
       "      <td>SCIENTIFIQUE</td>\n",
       "      <td>MATH-PHYSIQUE</td>\n",
       "      <td>INSTITUT VUNGI</td>\n",
       "      <td>NORD-KIVU</td>\n",
       "      <td>inconnu</td>\n",
       "      <td>2012-2013</td>\n",
       "      <td>NaN</td>\n",
       "      <td>ADMIS AU MEMOIRE</td>\n",
       "      <td>63.099998</td>\n",
       "      <td>SATISFACTION</td>\n",
       "      <td>Faculté de Droit</td>\n",
       "      <td>Droit Privé et Judiciaire</td>\n",
       "      <td>L2</td>\n",
       "    </tr>\n",
       "    <tr>\n",
       "      <th>1</th>\n",
       "      <td>343</td>\n",
       "      <td>1973-03-04</td>\n",
       "      <td>H</td>\n",
       "      <td>DIPLÔME D'ETAT</td>\n",
       "      <td>54.0</td>\n",
       "      <td>SCIENTIFIQUE</td>\n",
       "      <td>MATH PHYSIQUE</td>\n",
       "      <td>INSTITUT FARAJA</td>\n",
       "      <td>NORD-KIVU</td>\n",
       "      <td>inconnu</td>\n",
       "      <td>2015-2016</td>\n",
       "      <td>NaN</td>\n",
       "      <td>ASSIMILE AUX AJOURNES</td>\n",
       "      <td>52.200001</td>\n",
       "      <td>AJOURNE</td>\n",
       "      <td>Faculté des Sciences Économiques et de Gestion</td>\n",
       "      <td>Tronc commun</td>\n",
       "      <td>G2</td>\n",
       "    </tr>\n",
       "    <tr>\n",
       "      <th>2</th>\n",
       "      <td>356</td>\n",
       "      <td>1978-03-02</td>\n",
       "      <td>H</td>\n",
       "      <td>DIPLÔME D'ETAT DU RWANDA</td>\n",
       "      <td>60.0</td>\n",
       "      <td>ECONOMIE ET COMMERCE</td>\n",
       "      <td>ECONOMIE</td>\n",
       "      <td>ESISE/GISENYI</td>\n",
       "      <td>inconnu</td>\n",
       "      <td>inconnu</td>\n",
       "      <td>2015-2016</td>\n",
       "      <td>NaN</td>\n",
       "      <td>ADMIS AU STAGE ET AU MEMOIRE</td>\n",
       "      <td>59.900002</td>\n",
       "      <td>SATISFACTION</td>\n",
       "      <td>Faculté des Sciences Économiques et de Gestion</td>\n",
       "      <td>Gestion des Entreprises</td>\n",
       "      <td>L2</td>\n",
       "    </tr>\n",
       "    <tr>\n",
       "      <th>3</th>\n",
       "      <td>429</td>\n",
       "      <td>1973-01-11</td>\n",
       "      <td>H</td>\n",
       "      <td>DIPLÔME D'ETAT</td>\n",
       "      <td>0.0</td>\n",
       "      <td>TECHNIQUE</td>\n",
       "      <td>COMMERCIALE ET ADMINISTRATIVE</td>\n",
       "      <td>C,S, UMOJA</td>\n",
       "      <td>NORD-KIVU</td>\n",
       "      <td>inconnu</td>\n",
       "      <td>2013-2014</td>\n",
       "      <td>NaN</td>\n",
       "      <td>ASSIMILE AUX AJOURNES</td>\n",
       "      <td>NaN</td>\n",
       "      <td>AJOURNE</td>\n",
       "      <td>Faculté de Droit</td>\n",
       "      <td>Tronc commun</td>\n",
       "      <td>G1</td>\n",
       "    </tr>\n",
       "    <tr>\n",
       "      <th>4</th>\n",
       "      <td>645</td>\n",
       "      <td>1979-11-24</td>\n",
       "      <td>H</td>\n",
       "      <td>DIPLÔME D'ETAT</td>\n",
       "      <td>53.0</td>\n",
       "      <td>LITTERAIRE</td>\n",
       "      <td>LATIN PHILO</td>\n",
       "      <td>INST TUPENDANE/KOLWEZI</td>\n",
       "      <td>KATANGA</td>\n",
       "      <td>inconnu</td>\n",
       "      <td>2014-2015</td>\n",
       "      <td>NaN</td>\n",
       "      <td>ASSIMILE AUX AJOURNES</td>\n",
       "      <td>61.400002</td>\n",
       "      <td>SATISFACTION</td>\n",
       "      <td>Faculté de Droit</td>\n",
       "      <td>Droit Public</td>\n",
       "      <td>L1</td>\n",
       "    </tr>\n",
       "  </tbody>\n",
       "</table>\n",
       "</div>"
      ],
      "text/plain": [
       "   IDENTIFICATION    BIRTHDAY NAME                DIPLOMTYPE  \\\n",
       "0             215  1978-09-07    F            DIPLÔME D'ETAT   \n",
       "1             343  1973-03-04    H            DIPLÔME D'ETAT   \n",
       "2             356  1978-03-02    H  DIPLÔME D'ETAT DU RWANDA   \n",
       "3             429  1973-01-11    H            DIPLÔME D'ETAT   \n",
       "4             645  1979-11-24    H            DIPLÔME D'ETAT   \n",
       "\n",
       "   DIPLOMPERCENTAGE         DIPLOMSECTION                   DIPLOMOPTION  \\\n",
       "0              58.0          SCIENTIFIQUE                  MATH-PHYSIQUE   \n",
       "1              54.0          SCIENTIFIQUE                  MATH PHYSIQUE   \n",
       "2              60.0  ECONOMIE ET COMMERCE                       ECONOMIE   \n",
       "3               0.0             TECHNIQUE  COMMERCIALE ET ADMINISTRATIVE   \n",
       "4              53.0            LITTERAIRE                    LATIN PHILO   \n",
       "\n",
       "                   SCHOOL SCHOOLPROVINCE SCHOOLSTATUS   ACADYEAR  PERC1  \\\n",
       "0          INSTITUT VUNGI      NORD-KIVU      inconnu  2012-2013    NaN   \n",
       "1         INSTITUT FARAJA      NORD-KIVU      inconnu  2015-2016    NaN   \n",
       "2           ESISE/GISENYI        inconnu      inconnu  2015-2016    NaN   \n",
       "3              C,S, UMOJA      NORD-KIVU      inconnu  2013-2014    NaN   \n",
       "4  INST TUPENDANE/KOLWEZI        KATANGA      inconnu  2014-2015    NaN   \n",
       "\n",
       "                          MENT1      PERC2         MENT2  \\\n",
       "0              ADMIS AU MEMOIRE  63.099998  SATISFACTION   \n",
       "1         ASSIMILE AUX AJOURNES  52.200001       AJOURNE   \n",
       "2  ADMIS AU STAGE ET AU MEMOIRE  59.900002  SATISFACTION   \n",
       "3         ASSIMILE AUX AJOURNES        NaN       AJOURNE   \n",
       "4         ASSIMILE AUX AJOURNES  61.400002  SATISFACTION   \n",
       "\n",
       "                                              FAC                        OPT  \\\n",
       "0                                Faculté de Droit  Droit Privé et Judiciaire   \n",
       "1  Faculté des Sciences Économiques et de Gestion               Tronc commun   \n",
       "2  Faculté des Sciences Économiques et de Gestion    Gestion des Entreprises   \n",
       "3                                Faculté de Droit               Tronc commun   \n",
       "4                                Faculté de Droit               Droit Public   \n",
       "\n",
       "  PROM  \n",
       "0   L2  \n",
       "1   G2  \n",
       "2   L2  \n",
       "3   G1  \n",
       "4   L1  "
      ]
     },
     "execution_count": 8,
     "metadata": {},
     "output_type": "execute_result"
    }
   ],
   "source": [
    "dataset.head()"
   ]
  },
  {
   "cell_type": "markdown",
   "metadata": {},
   "source": [
    "Nous pouvons remarquer que notre ensemble d'apprentissage change de dimension et (7216,22) à (7216,18)"
   ]
  },
  {
   "cell_type": "code",
   "execution_count": 12,
   "metadata": {},
   "outputs": [
    {
     "data": {
      "text/plain": [
       "(7216, 18)"
      ]
     },
     "execution_count": 12,
     "metadata": {},
     "output_type": "execute_result"
    }
   ],
   "source": [
    "dataset.shape"
   ]
  },
  {
   "cell_type": "code",
   "execution_count": 13,
   "metadata": {},
   "outputs": [
    {
     "data": {
      "text/plain": [
       "Index([u'IDENTIFICATION', u'BIRTHDAY', u'NAME', u'DIPLOMTYPE',\n",
       "       u'DIPLOMPERCENTAGE', u'DIPLOMSECTION', u'DIPLOMOPTION', u'SCHOOL',\n",
       "       u'SCHOOLPROVINCE', u'SCHOOLSTATUS', u'ACADYEAR', u'PERC1', u'MENT1',\n",
       "       u'PERC2', u'MENT2', u'FAC', u'OPT', u'PROM'],\n",
       "      dtype='object')"
      ]
     },
     "execution_count": 13,
     "metadata": {},
     "output_type": "execute_result"
    }
   ],
   "source": [
    "dataset.columns"
   ]
  },
  {
   "cell_type": "markdown",
   "metadata": {},
   "source": [
    "les colonnes en entrée deviennent les 10 premiers colonnes "
   ]
  },
  {
   "cell_type": "code",
   "execution_count": 9,
   "metadata": {
    "collapsed": true
   },
   "outputs": [],
   "source": [
    "inCol=list(dataset.columns[0:10])"
   ]
  },
  {
   "cell_type": "code",
   "execution_count": 10,
   "metadata": {
    "collapsed": true
   },
   "outputs": [],
   "source": [
    "outCol=list(dataset.columns[10:])"
   ]
  },
  {
   "cell_type": "markdown",
   "metadata": {},
   "source": [
    "Pour une premiere approche nous allons grouper notre ensemble en fonction des données en entré et ensuite  ecrire une functuion qui va groupper les donnes de sortie"
   ]
  },
  {
   "cell_type": "code",
   "execution_count": 16,
   "metadata": {},
   "outputs": [
    {
     "data": {
      "text/plain": [
       "<pandas.core.groupby.DataFrameGroupBy object at 0x7f1ab2483bd0>"
      ]
     },
     "execution_count": 16,
     "metadata": {},
     "output_type": "execute_result"
    }
   ],
   "source": [
    "dataset.groupby(inCol)"
   ]
  },
  {
   "cell_type": "markdown",
   "metadata": {},
   "source": [
    "voici la function qui va groupper les données de sortie"
   ]
  },
  {
   "cell_type": "code",
   "execution_count": 11,
   "metadata": {
    "collapsed": true
   },
   "outputs": [],
   "source": [
    "def f(x):\n",
    "    return pd.Series(dict(\n",
    "     ACADYEAR=list(x['ACADYEAR']),\n",
    "     MENT1=list(x['MENT1']),\n",
    "     MENT2=list(x['MENT2']),\n",
    "     PERC1=list(x['PERC1']),\n",
    "     PERC2=list(x['PERC2']),\n",
    "     FAC=reduce(lambda x:x, [x['FAC'].iloc[0]]),\n",
    "     OPT=reduce(lambda x:x, [x['OPT'].iloc[0]]),\n",
    "     PROM=list(x['PROM'])\n",
    "    ))"
   ]
  },
  {
   "cell_type": "code",
   "execution_count": 12,
   "metadata": {
    "collapsed": true
   },
   "outputs": [],
   "source": [
    "datasetV1=dataset.groupby(inCol).apply(f)"
   ]
  },
  {
   "cell_type": "code",
   "execution_count": 19,
   "metadata": {},
   "outputs": [
    {
     "data": {
      "text/html": [
       "<div>\n",
       "<style>\n",
       "    .dataframe thead tr:only-child th {\n",
       "        text-align: right;\n",
       "    }\n",
       "\n",
       "    .dataframe thead th {\n",
       "        text-align: left;\n",
       "    }\n",
       "\n",
       "    .dataframe tbody tr th {\n",
       "        vertical-align: top;\n",
       "    }\n",
       "</style>\n",
       "<table border=\"1\" class=\"dataframe\">\n",
       "  <thead>\n",
       "    <tr style=\"text-align: right;\">\n",
       "      <th></th>\n",
       "      <th></th>\n",
       "      <th></th>\n",
       "      <th></th>\n",
       "      <th></th>\n",
       "      <th></th>\n",
       "      <th></th>\n",
       "      <th></th>\n",
       "      <th></th>\n",
       "      <th></th>\n",
       "      <th>ACADYEAR</th>\n",
       "      <th>FAC</th>\n",
       "      <th>MENT1</th>\n",
       "      <th>MENT2</th>\n",
       "      <th>OPT</th>\n",
       "      <th>PERC1</th>\n",
       "      <th>PERC2</th>\n",
       "      <th>PROM</th>\n",
       "    </tr>\n",
       "    <tr>\n",
       "      <th>IDENTIFICATION</th>\n",
       "      <th>BIRTHDAY</th>\n",
       "      <th>NAME</th>\n",
       "      <th>DIPLOMTYPE</th>\n",
       "      <th>DIPLOMPERCENTAGE</th>\n",
       "      <th>DIPLOMSECTION</th>\n",
       "      <th>DIPLOMOPTION</th>\n",
       "      <th>SCHOOL</th>\n",
       "      <th>SCHOOLPROVINCE</th>\n",
       "      <th>SCHOOLSTATUS</th>\n",
       "      <th></th>\n",
       "      <th></th>\n",
       "      <th></th>\n",
       "      <th></th>\n",
       "      <th></th>\n",
       "      <th></th>\n",
       "      <th></th>\n",
       "      <th></th>\n",
       "    </tr>\n",
       "  </thead>\n",
       "  <tbody>\n",
       "    <tr>\n",
       "      <th>215</th>\n",
       "      <th>1978-09-07</th>\n",
       "      <th>F</th>\n",
       "      <th>DIPLÔME D'ETAT</th>\n",
       "      <th>58.0</th>\n",
       "      <th>SCIENTIFIQUE</th>\n",
       "      <th>MATH-PHYSIQUE</th>\n",
       "      <th>INSTITUT VUNGI</th>\n",
       "      <th>NORD-KIVU</th>\n",
       "      <th>inconnu</th>\n",
       "      <td>[2012-2013]</td>\n",
       "      <td>Faculté de Droit</td>\n",
       "      <td>[ADMIS AU MEMOIRE]</td>\n",
       "      <td>[SATISFACTION]</td>\n",
       "      <td>Droit Privé et Judiciaire</td>\n",
       "      <td>[nan]</td>\n",
       "      <td>[63.0999984741]</td>\n",
       "      <td>[L2]</td>\n",
       "    </tr>\n",
       "    <tr>\n",
       "      <th>343</th>\n",
       "      <th>1973-03-04</th>\n",
       "      <th>H</th>\n",
       "      <th>DIPLÔME D'ETAT</th>\n",
       "      <th>54.0</th>\n",
       "      <th>SCIENTIFIQUE</th>\n",
       "      <th>MATH PHYSIQUE</th>\n",
       "      <th>INSTITUT FARAJA</th>\n",
       "      <th>NORD-KIVU</th>\n",
       "      <th>inconnu</th>\n",
       "      <td>[2015-2016]</td>\n",
       "      <td>Faculté des Sciences Économiques et de Gestion</td>\n",
       "      <td>[ASSIMILE AUX AJOURNES]</td>\n",
       "      <td>[AJOURNE]</td>\n",
       "      <td>Tronc commun</td>\n",
       "      <td>[nan]</td>\n",
       "      <td>[52.2000007629]</td>\n",
       "      <td>[G2]</td>\n",
       "    </tr>\n",
       "    <tr>\n",
       "      <th>356</th>\n",
       "      <th>1978-03-02</th>\n",
       "      <th>H</th>\n",
       "      <th>DIPLÔME D'ETAT DU RWANDA</th>\n",
       "      <th>60.0</th>\n",
       "      <th>ECONOMIE ET COMMERCE</th>\n",
       "      <th>ECONOMIE</th>\n",
       "      <th>ESISE/GISENYI</th>\n",
       "      <th>inconnu</th>\n",
       "      <th>inconnu</th>\n",
       "      <td>[2015-2016]</td>\n",
       "      <td>Faculté des Sciences Économiques et de Gestion</td>\n",
       "      <td>[ADMIS AU STAGE ET AU MEMOIRE]</td>\n",
       "      <td>[SATISFACTION]</td>\n",
       "      <td>Gestion des Entreprises</td>\n",
       "      <td>[nan]</td>\n",
       "      <td>[59.9000015259]</td>\n",
       "      <td>[L2]</td>\n",
       "    </tr>\n",
       "    <tr>\n",
       "      <th>429</th>\n",
       "      <th>1973-01-11</th>\n",
       "      <th>H</th>\n",
       "      <th>DIPLÔME D'ETAT</th>\n",
       "      <th>0.0</th>\n",
       "      <th>TECHNIQUE</th>\n",
       "      <th>COMMERCIALE ET ADMINISTRATIVE</th>\n",
       "      <th>C,S, UMOJA</th>\n",
       "      <th>NORD-KIVU</th>\n",
       "      <th>inconnu</th>\n",
       "      <td>[2013-2014]</td>\n",
       "      <td>Faculté de Droit</td>\n",
       "      <td>[ASSIMILE AUX AJOURNES]</td>\n",
       "      <td>[AJOURNE]</td>\n",
       "      <td>Tronc commun</td>\n",
       "      <td>[nan]</td>\n",
       "      <td>[nan]</td>\n",
       "      <td>[G1]</td>\n",
       "    </tr>\n",
       "    <tr>\n",
       "      <th>645</th>\n",
       "      <th>1979-11-24</th>\n",
       "      <th>H</th>\n",
       "      <th>DIPLÔME D'ETAT</th>\n",
       "      <th>53.0</th>\n",
       "      <th>LITTERAIRE</th>\n",
       "      <th>LATIN PHILO</th>\n",
       "      <th>INST TUPENDANE/KOLWEZI</th>\n",
       "      <th>KATANGA</th>\n",
       "      <th>inconnu</th>\n",
       "      <td>[2014-2015, 2015-2016]</td>\n",
       "      <td>Faculté de Droit</td>\n",
       "      <td>[ASSIMILE AUX AJOURNES, ASSIMILE AUX AJOURNES]</td>\n",
       "      <td>[SATISFACTION, NON ADMISSIBLE DS LA MEME FILIERE]</td>\n",
       "      <td>Droit Public</td>\n",
       "      <td>[nan, nan]</td>\n",
       "      <td>[61.4000015259, nan]</td>\n",
       "      <td>[L1, L2]</td>\n",
       "    </tr>\n",
       "  </tbody>\n",
       "</table>\n",
       "</div>"
      ],
      "text/plain": [
       "                                                                                                                                                                                              ACADYEAR  \\\n",
       "IDENTIFICATION BIRTHDAY   NAME DIPLOMTYPE               DIPLOMPERCENTAGE DIPLOMSECTION        DIPLOMOPTION                  SCHOOL                 SCHOOLPROVINCE SCHOOLSTATUS                           \n",
       "215            1978-09-07 F    DIPLÔME D'ETAT           58.0             SCIENTIFIQUE         MATH-PHYSIQUE                 INSTITUT VUNGI         NORD-KIVU      inconnu                  [2012-2013]   \n",
       "343            1973-03-04 H    DIPLÔME D'ETAT           54.0             SCIENTIFIQUE         MATH PHYSIQUE                 INSTITUT FARAJA        NORD-KIVU      inconnu                  [2015-2016]   \n",
       "356            1978-03-02 H    DIPLÔME D'ETAT DU RWANDA 60.0             ECONOMIE ET COMMERCE ECONOMIE                      ESISE/GISENYI          inconnu        inconnu                  [2015-2016]   \n",
       "429            1973-01-11 H    DIPLÔME D'ETAT           0.0              TECHNIQUE            COMMERCIALE ET ADMINISTRATIVE C,S, UMOJA             NORD-KIVU      inconnu                  [2013-2014]   \n",
       "645            1979-11-24 H    DIPLÔME D'ETAT           53.0             LITTERAIRE           LATIN PHILO                   INST TUPENDANE/KOLWEZI KATANGA        inconnu       [2014-2015, 2015-2016]   \n",
       "\n",
       "                                                                                                                                                                                                                           FAC  \\\n",
       "IDENTIFICATION BIRTHDAY   NAME DIPLOMTYPE               DIPLOMPERCENTAGE DIPLOMSECTION        DIPLOMOPTION                  SCHOOL                 SCHOOLPROVINCE SCHOOLSTATUS                                                   \n",
       "215            1978-09-07 F    DIPLÔME D'ETAT           58.0             SCIENTIFIQUE         MATH-PHYSIQUE                 INSTITUT VUNGI         NORD-KIVU      inconnu                                     Faculté de Droit   \n",
       "343            1973-03-04 H    DIPLÔME D'ETAT           54.0             SCIENTIFIQUE         MATH PHYSIQUE                 INSTITUT FARAJA        NORD-KIVU      inconnu       Faculté des Sciences Économiques et de Gestion   \n",
       "356            1978-03-02 H    DIPLÔME D'ETAT DU RWANDA 60.0             ECONOMIE ET COMMERCE ECONOMIE                      ESISE/GISENYI          inconnu        inconnu       Faculté des Sciences Économiques et de Gestion   \n",
       "429            1973-01-11 H    DIPLÔME D'ETAT           0.0              TECHNIQUE            COMMERCIALE ET ADMINISTRATIVE C,S, UMOJA             NORD-KIVU      inconnu                                     Faculté de Droit   \n",
       "645            1979-11-24 H    DIPLÔME D'ETAT           53.0             LITTERAIRE           LATIN PHILO                   INST TUPENDANE/KOLWEZI KATANGA        inconnu                                     Faculté de Droit   \n",
       "\n",
       "                                                                                                                                                                                                                         MENT1  \\\n",
       "IDENTIFICATION BIRTHDAY   NAME DIPLOMTYPE               DIPLOMPERCENTAGE DIPLOMSECTION        DIPLOMOPTION                  SCHOOL                 SCHOOLPROVINCE SCHOOLSTATUS                                                   \n",
       "215            1978-09-07 F    DIPLÔME D'ETAT           58.0             SCIENTIFIQUE         MATH-PHYSIQUE                 INSTITUT VUNGI         NORD-KIVU      inconnu                                   [ADMIS AU MEMOIRE]   \n",
       "343            1973-03-04 H    DIPLÔME D'ETAT           54.0             SCIENTIFIQUE         MATH PHYSIQUE                 INSTITUT FARAJA        NORD-KIVU      inconnu                              [ASSIMILE AUX AJOURNES]   \n",
       "356            1978-03-02 H    DIPLÔME D'ETAT DU RWANDA 60.0             ECONOMIE ET COMMERCE ECONOMIE                      ESISE/GISENYI          inconnu        inconnu                       [ADMIS AU STAGE ET AU MEMOIRE]   \n",
       "429            1973-01-11 H    DIPLÔME D'ETAT           0.0              TECHNIQUE            COMMERCIALE ET ADMINISTRATIVE C,S, UMOJA             NORD-KIVU      inconnu                              [ASSIMILE AUX AJOURNES]   \n",
       "645            1979-11-24 H    DIPLÔME D'ETAT           53.0             LITTERAIRE           LATIN PHILO                   INST TUPENDANE/KOLWEZI KATANGA        inconnu       [ASSIMILE AUX AJOURNES, ASSIMILE AUX AJOURNES]   \n",
       "\n",
       "                                                                                                                                                                                                                            MENT2  \\\n",
       "IDENTIFICATION BIRTHDAY   NAME DIPLOMTYPE               DIPLOMPERCENTAGE DIPLOMSECTION        DIPLOMOPTION                  SCHOOL                 SCHOOLPROVINCE SCHOOLSTATUS                                                      \n",
       "215            1978-09-07 F    DIPLÔME D'ETAT           58.0             SCIENTIFIQUE         MATH-PHYSIQUE                 INSTITUT VUNGI         NORD-KIVU      inconnu                                          [SATISFACTION]   \n",
       "343            1973-03-04 H    DIPLÔME D'ETAT           54.0             SCIENTIFIQUE         MATH PHYSIQUE                 INSTITUT FARAJA        NORD-KIVU      inconnu                                               [AJOURNE]   \n",
       "356            1978-03-02 H    DIPLÔME D'ETAT DU RWANDA 60.0             ECONOMIE ET COMMERCE ECONOMIE                      ESISE/GISENYI          inconnu        inconnu                                          [SATISFACTION]   \n",
       "429            1973-01-11 H    DIPLÔME D'ETAT           0.0              TECHNIQUE            COMMERCIALE ET ADMINISTRATIVE C,S, UMOJA             NORD-KIVU      inconnu                                               [AJOURNE]   \n",
       "645            1979-11-24 H    DIPLÔME D'ETAT           53.0             LITTERAIRE           LATIN PHILO                   INST TUPENDANE/KOLWEZI KATANGA        inconnu       [SATISFACTION, NON ADMISSIBLE DS LA MEME FILIERE]   \n",
       "\n",
       "                                                                                                                                                                                                      OPT  \\\n",
       "IDENTIFICATION BIRTHDAY   NAME DIPLOMTYPE               DIPLOMPERCENTAGE DIPLOMSECTION        DIPLOMOPTION                  SCHOOL                 SCHOOLPROVINCE SCHOOLSTATUS                              \n",
       "215            1978-09-07 F    DIPLÔME D'ETAT           58.0             SCIENTIFIQUE         MATH-PHYSIQUE                 INSTITUT VUNGI         NORD-KIVU      inconnu       Droit Privé et Judiciaire   \n",
       "343            1973-03-04 H    DIPLÔME D'ETAT           54.0             SCIENTIFIQUE         MATH PHYSIQUE                 INSTITUT FARAJA        NORD-KIVU      inconnu                    Tronc commun   \n",
       "356            1978-03-02 H    DIPLÔME D'ETAT DU RWANDA 60.0             ECONOMIE ET COMMERCE ECONOMIE                      ESISE/GISENYI          inconnu        inconnu         Gestion des Entreprises   \n",
       "429            1973-01-11 H    DIPLÔME D'ETAT           0.0              TECHNIQUE            COMMERCIALE ET ADMINISTRATIVE C,S, UMOJA             NORD-KIVU      inconnu                    Tronc commun   \n",
       "645            1979-11-24 H    DIPLÔME D'ETAT           53.0             LITTERAIRE           LATIN PHILO                   INST TUPENDANE/KOLWEZI KATANGA        inconnu                    Droit Public   \n",
       "\n",
       "                                                                                                                                                                                     PERC1  \\\n",
       "IDENTIFICATION BIRTHDAY   NAME DIPLOMTYPE               DIPLOMPERCENTAGE DIPLOMSECTION        DIPLOMOPTION                  SCHOOL                 SCHOOLPROVINCE SCHOOLSTATUS               \n",
       "215            1978-09-07 F    DIPLÔME D'ETAT           58.0             SCIENTIFIQUE         MATH-PHYSIQUE                 INSTITUT VUNGI         NORD-KIVU      inconnu            [nan]   \n",
       "343            1973-03-04 H    DIPLÔME D'ETAT           54.0             SCIENTIFIQUE         MATH PHYSIQUE                 INSTITUT FARAJA        NORD-KIVU      inconnu            [nan]   \n",
       "356            1978-03-02 H    DIPLÔME D'ETAT DU RWANDA 60.0             ECONOMIE ET COMMERCE ECONOMIE                      ESISE/GISENYI          inconnu        inconnu            [nan]   \n",
       "429            1973-01-11 H    DIPLÔME D'ETAT           0.0              TECHNIQUE            COMMERCIALE ET ADMINISTRATIVE C,S, UMOJA             NORD-KIVU      inconnu            [nan]   \n",
       "645            1979-11-24 H    DIPLÔME D'ETAT           53.0             LITTERAIRE           LATIN PHILO                   INST TUPENDANE/KOLWEZI KATANGA        inconnu       [nan, nan]   \n",
       "\n",
       "                                                                                                                                                                                               PERC2  \\\n",
       "IDENTIFICATION BIRTHDAY   NAME DIPLOMTYPE               DIPLOMPERCENTAGE DIPLOMSECTION        DIPLOMOPTION                  SCHOOL                 SCHOOLPROVINCE SCHOOLSTATUS                         \n",
       "215            1978-09-07 F    DIPLÔME D'ETAT           58.0             SCIENTIFIQUE         MATH-PHYSIQUE                 INSTITUT VUNGI         NORD-KIVU      inconnu            [63.0999984741]   \n",
       "343            1973-03-04 H    DIPLÔME D'ETAT           54.0             SCIENTIFIQUE         MATH PHYSIQUE                 INSTITUT FARAJA        NORD-KIVU      inconnu            [52.2000007629]   \n",
       "356            1978-03-02 H    DIPLÔME D'ETAT DU RWANDA 60.0             ECONOMIE ET COMMERCE ECONOMIE                      ESISE/GISENYI          inconnu        inconnu            [59.9000015259]   \n",
       "429            1973-01-11 H    DIPLÔME D'ETAT           0.0              TECHNIQUE            COMMERCIALE ET ADMINISTRATIVE C,S, UMOJA             NORD-KIVU      inconnu                      [nan]   \n",
       "645            1979-11-24 H    DIPLÔME D'ETAT           53.0             LITTERAIRE           LATIN PHILO                   INST TUPENDANE/KOLWEZI KATANGA        inconnu       [61.4000015259, nan]   \n",
       "\n",
       "                                                                                                                                                                                    PROM  \n",
       "IDENTIFICATION BIRTHDAY   NAME DIPLOMTYPE               DIPLOMPERCENTAGE DIPLOMSECTION        DIPLOMOPTION                  SCHOOL                 SCHOOLPROVINCE SCHOOLSTATUS            \n",
       "215            1978-09-07 F    DIPLÔME D'ETAT           58.0             SCIENTIFIQUE         MATH-PHYSIQUE                 INSTITUT VUNGI         NORD-KIVU      inconnu           [L2]  \n",
       "343            1973-03-04 H    DIPLÔME D'ETAT           54.0             SCIENTIFIQUE         MATH PHYSIQUE                 INSTITUT FARAJA        NORD-KIVU      inconnu           [G2]  \n",
       "356            1978-03-02 H    DIPLÔME D'ETAT DU RWANDA 60.0             ECONOMIE ET COMMERCE ECONOMIE                      ESISE/GISENYI          inconnu        inconnu           [L2]  \n",
       "429            1973-01-11 H    DIPLÔME D'ETAT           0.0              TECHNIQUE            COMMERCIALE ET ADMINISTRATIVE C,S, UMOJA             NORD-KIVU      inconnu           [G1]  \n",
       "645            1979-11-24 H    DIPLÔME D'ETAT           53.0             LITTERAIRE           LATIN PHILO                   INST TUPENDANE/KOLWEZI KATANGA        inconnu       [L1, L2]  "
      ]
     },
     "execution_count": 19,
     "metadata": {},
     "output_type": "execute_result"
    }
   ],
   "source": [
    "datasetV1.head(5)"
   ]
  },
  {
   "cell_type": "code",
   "execution_count": 13,
   "metadata": {
    "collapsed": true
   },
   "outputs": [],
   "source": [
    "datasetV1.reset_index(inplace=True)"
   ]
  },
  {
   "cell_type": "code",
   "execution_count": 62,
   "metadata": {
    "scrolled": false
   },
   "outputs": [
    {
     "data": {
      "text/html": [
       "<div>\n",
       "<table border=\"1\" class=\"dataframe\">\n",
       "  <thead>\n",
       "    <tr style=\"text-align: right;\">\n",
       "      <th></th>\n",
       "      <th>IDENTIFICATION</th>\n",
       "      <th>BIRTHDAY</th>\n",
       "      <th>NAME</th>\n",
       "      <th>DIPLOMTYPE</th>\n",
       "      <th>DIPLOMPERCENTAGE</th>\n",
       "      <th>DIPLOMSECTION</th>\n",
       "      <th>DIPLOMOPTION</th>\n",
       "      <th>SCHOOL</th>\n",
       "      <th>SCHOOLPROVINCE</th>\n",
       "      <th>SCHOOLSTATUS</th>\n",
       "      <th>ACADYEAR</th>\n",
       "      <th>FAC</th>\n",
       "      <th>MENT1</th>\n",
       "      <th>MENT2</th>\n",
       "      <th>OPT</th>\n",
       "      <th>PERC1</th>\n",
       "      <th>PERC2</th>\n",
       "      <th>PROM</th>\n",
       "    </tr>\n",
       "  </thead>\n",
       "  <tbody>\n",
       "    <tr>\n",
       "      <th>0</th>\n",
       "      <td>215</td>\n",
       "      <td>1978-09-07</td>\n",
       "      <td>F</td>\n",
       "      <td>DIPLÔME D'ETAT</td>\n",
       "      <td>58.0</td>\n",
       "      <td>SCIENTIFIQUE</td>\n",
       "      <td>MATH-PHYSIQUE</td>\n",
       "      <td>INSTITUT VUNGI</td>\n",
       "      <td>NORD-KIVU</td>\n",
       "      <td>inconnu</td>\n",
       "      <td>[2012-2013]</td>\n",
       "      <td>Faculté de Droit</td>\n",
       "      <td>[ADMIS AU MEMOIRE]</td>\n",
       "      <td>[SATISFACTION]</td>\n",
       "      <td>Droit Privé et Judiciaire</td>\n",
       "      <td>[nan]</td>\n",
       "      <td>[63.0999984741]</td>\n",
       "      <td>[L2]</td>\n",
       "    </tr>\n",
       "    <tr>\n",
       "      <th>1</th>\n",
       "      <td>343</td>\n",
       "      <td>1973-03-04</td>\n",
       "      <td>H</td>\n",
       "      <td>DIPLÔME D'ETAT</td>\n",
       "      <td>54.0</td>\n",
       "      <td>SCIENTIFIQUE</td>\n",
       "      <td>MATH PHYSIQUE</td>\n",
       "      <td>INSTITUT FARAJA</td>\n",
       "      <td>NORD-KIVU</td>\n",
       "      <td>inconnu</td>\n",
       "      <td>[2015-2016]</td>\n",
       "      <td>Faculté des Sciences Économiques et de Gestion</td>\n",
       "      <td>[ASSIMILE AUX AJOURNES]</td>\n",
       "      <td>[AJOURNE]</td>\n",
       "      <td>Tronc commun</td>\n",
       "      <td>[nan]</td>\n",
       "      <td>[52.2000007629]</td>\n",
       "      <td>[G2]</td>\n",
       "    </tr>\n",
       "    <tr>\n",
       "      <th>2</th>\n",
       "      <td>356</td>\n",
       "      <td>1978-03-02</td>\n",
       "      <td>H</td>\n",
       "      <td>DIPLÔME D'ETAT DU RWANDA</td>\n",
       "      <td>60.0</td>\n",
       "      <td>ECONOMIE ET COMMERCE</td>\n",
       "      <td>ECONOMIE</td>\n",
       "      <td>ESISE/GISENYI</td>\n",
       "      <td>inconnu</td>\n",
       "      <td>inconnu</td>\n",
       "      <td>[2015-2016]</td>\n",
       "      <td>Faculté des Sciences Économiques et de Gestion</td>\n",
       "      <td>[ADMIS AU STAGE ET AU MEMOIRE]</td>\n",
       "      <td>[SATISFACTION]</td>\n",
       "      <td>Gestion des Entreprises</td>\n",
       "      <td>[nan]</td>\n",
       "      <td>[59.9000015259]</td>\n",
       "      <td>[L2]</td>\n",
       "    </tr>\n",
       "    <tr>\n",
       "      <th>3</th>\n",
       "      <td>429</td>\n",
       "      <td>1973-01-11</td>\n",
       "      <td>H</td>\n",
       "      <td>DIPLÔME D'ETAT</td>\n",
       "      <td>0.0</td>\n",
       "      <td>TECHNIQUE</td>\n",
       "      <td>COMMERCIALE ET ADMINISTRATIVE</td>\n",
       "      <td>C,S, UMOJA</td>\n",
       "      <td>NORD-KIVU</td>\n",
       "      <td>inconnu</td>\n",
       "      <td>[2013-2014]</td>\n",
       "      <td>Faculté de Droit</td>\n",
       "      <td>[ASSIMILE AUX AJOURNES]</td>\n",
       "      <td>[AJOURNE]</td>\n",
       "      <td>Tronc commun</td>\n",
       "      <td>[nan]</td>\n",
       "      <td>[nan]</td>\n",
       "      <td>[G1]</td>\n",
       "    </tr>\n",
       "    <tr>\n",
       "      <th>4</th>\n",
       "      <td>645</td>\n",
       "      <td>1979-11-24</td>\n",
       "      <td>H</td>\n",
       "      <td>DIPLÔME D'ETAT</td>\n",
       "      <td>53.0</td>\n",
       "      <td>LITTERAIRE</td>\n",
       "      <td>LATIN PHILO</td>\n",
       "      <td>INST TUPENDANE/KOLWEZI</td>\n",
       "      <td>KATANGA</td>\n",
       "      <td>inconnu</td>\n",
       "      <td>[2014-2015, 2015-2016]</td>\n",
       "      <td>Faculté de Droit</td>\n",
       "      <td>[ASSIMILE AUX AJOURNES, ASSIMILE AUX AJOURNES]</td>\n",
       "      <td>[SATISFACTION, NON ADMISSIBLE DS LA MEME FILIERE]</td>\n",
       "      <td>Droit Public</td>\n",
       "      <td>[nan, nan]</td>\n",
       "      <td>[61.4000015259, nan]</td>\n",
       "      <td>[L1, L2]</td>\n",
       "    </tr>\n",
       "    <tr>\n",
       "      <th>5</th>\n",
       "      <td>665</td>\n",
       "      <td>1979-11-03</td>\n",
       "      <td>H</td>\n",
       "      <td>DIPLÔME D'ETAT</td>\n",
       "      <td>52.0</td>\n",
       "      <td>TECHNIQUE</td>\n",
       "      <td>SOCIALE</td>\n",
       "      <td>INSTITUT MIKENO</td>\n",
       "      <td>NORD-KIVU</td>\n",
       "      <td>inconnu</td>\n",
       "      <td>[2014-2015]</td>\n",
       "      <td>Faculté des Sciences Économiques et de Gestion</td>\n",
       "      <td>[ASSIMILE AUX AJOURNES]</td>\n",
       "      <td>[AJOURNE]</td>\n",
       "      <td>Gestion des Entreprises</td>\n",
       "      <td>[nan]</td>\n",
       "      <td>[nan]</td>\n",
       "      <td>[L2]</td>\n",
       "    </tr>\n",
       "    <tr>\n",
       "      <th>6</th>\n",
       "      <td>827</td>\n",
       "      <td>1962-04-15</td>\n",
       "      <td>H</td>\n",
       "      <td>inconnu</td>\n",
       "      <td>60.0</td>\n",
       "      <td>TEC</td>\n",
       "      <td>CA</td>\n",
       "      <td>AUTO</td>\n",
       "      <td>NORD-KIVU</td>\n",
       "      <td>inconnu</td>\n",
       "      <td>[2014-2015]</td>\n",
       "      <td>Faculté des Sciences Économiques et de Gestion</td>\n",
       "      <td>[ASSIMILE AUX AJOURNES]</td>\n",
       "      <td>[AJOURNE]</td>\n",
       "      <td>Gestion Financière</td>\n",
       "      <td>[nan]</td>\n",
       "      <td>[nan]</td>\n",
       "      <td>[L2]</td>\n",
       "    </tr>\n",
       "    <tr>\n",
       "      <th>7</th>\n",
       "      <td>1061</td>\n",
       "      <td>1979-02-18</td>\n",
       "      <td>H</td>\n",
       "      <td>DIPLÔME D'ETAT</td>\n",
       "      <td>51.0</td>\n",
       "      <td>PEDAGOGIEQUE</td>\n",
       "      <td>PEDA GENERALE</td>\n",
       "      <td>INSTITUT MONT GOMA</td>\n",
       "      <td>NORD-KIVU</td>\n",
       "      <td>inconnu</td>\n",
       "      <td>[2013-2014, 2014-2015]</td>\n",
       "      <td>Faculté des Sciences Économiques et de Gestion</td>\n",
       "      <td>[ASSIMILE AUX AJOURNES, ASSIMILE AUX AJOURNES]</td>\n",
       "      <td>[SATISFACTION, SATISFACTION]</td>\n",
       "      <td>Gestion Financière</td>\n",
       "      <td>[nan, nan]</td>\n",
       "      <td>[56.0, 62.5999984741]</td>\n",
       "      <td>[L1, L2]</td>\n",
       "    </tr>\n",
       "    <tr>\n",
       "      <th>8</th>\n",
       "      <td>1289</td>\n",
       "      <td>1967-12-02</td>\n",
       "      <td>F</td>\n",
       "      <td>inconnu</td>\n",
       "      <td>52.0</td>\n",
       "      <td>PED</td>\n",
       "      <td>PG</td>\n",
       "      <td>BUTURANDE</td>\n",
       "      <td>NORD-KIVU</td>\n",
       "      <td>inconnu</td>\n",
       "      <td>[2013-2014, 2014-2015]</td>\n",
       "      <td>Faculté de Psychologie et des Sciences de l'Éd...</td>\n",
       "      <td>[AJOURNE, ADMIS AU MEMOIRE]</td>\n",
       "      <td>[SATISFACTION, SATISFACTION]</td>\n",
       "      <td>Sciences de l'Éducation</td>\n",
       "      <td>[58.7000007629, nan]</td>\n",
       "      <td>[63.0, 68.3000030518]</td>\n",
       "      <td>[L1, L2]</td>\n",
       "    </tr>\n",
       "    <tr>\n",
       "      <th>9</th>\n",
       "      <td>1376</td>\n",
       "      <td>1979-06-24</td>\n",
       "      <td>H</td>\n",
       "      <td>DIPLÔME D'ETAT</td>\n",
       "      <td>51.0</td>\n",
       "      <td>PEDAGOGIEQUE</td>\n",
       "      <td>PEDA GENERALE</td>\n",
       "      <td>INST AMKENI</td>\n",
       "      <td>NORD-KIVU</td>\n",
       "      <td>inconnu</td>\n",
       "      <td>[2013-2014]</td>\n",
       "      <td>Faculté de Théologie</td>\n",
       "      <td>[ADMIS AU MEMOIRE]</td>\n",
       "      <td>[SATISFACTION]</td>\n",
       "      <td>Tronc commun</td>\n",
       "      <td>[61.0999984741]</td>\n",
       "      <td>[61.0999984741]</td>\n",
       "      <td>[L2]</td>\n",
       "    </tr>\n",
       "    <tr>\n",
       "      <th>10</th>\n",
       "      <td>1497</td>\n",
       "      <td>1984-09-08</td>\n",
       "      <td>H</td>\n",
       "      <td>DIPLÔME D'ETAT</td>\n",
       "      <td>62.0</td>\n",
       "      <td>MECANIQUE</td>\n",
       "      <td>MECANIQUE GENERALE</td>\n",
       "      <td>ITIG</td>\n",
       "      <td>NORD-KIVU</td>\n",
       "      <td>inconnu</td>\n",
       "      <td>[2014-2015, 2015-2016]</td>\n",
       "      <td>Faculté des Sciences et Technologies Appliquées</td>\n",
       "      <td>[ASSIMILE AUX AJOURNES, ASSIMILE AUX AJOURNES]</td>\n",
       "      <td>[AJOURNE, SATISFACTION]</td>\n",
       "      <td>Génie Civil</td>\n",
       "      <td>[nan, nan]</td>\n",
       "      <td>[nan, 61.0999984741]</td>\n",
       "      <td>[G3, Tech1]</td>\n",
       "    </tr>\n",
       "    <tr>\n",
       "      <th>11</th>\n",
       "      <td>1517</td>\n",
       "      <td>1980-12-26</td>\n",
       "      <td>H</td>\n",
       "      <td>DIPLÔME D'ETAT</td>\n",
       "      <td>52.0</td>\n",
       "      <td>TECHNIQUE INDUSTRIELLE</td>\n",
       "      <td>ELECTRICITE</td>\n",
       "      <td>ITIG</td>\n",
       "      <td>NORD-KIVU</td>\n",
       "      <td>inconnu</td>\n",
       "      <td>[2013-2014]</td>\n",
       "      <td>Faculté des Sciences et Technologies Appliquées</td>\n",
       "      <td>[AJOURNE]</td>\n",
       "      <td>[AJOURNE]</td>\n",
       "      <td>Génie Civil</td>\n",
       "      <td>[nan]</td>\n",
       "      <td>[nan]</td>\n",
       "      <td>[Tech2]</td>\n",
       "    </tr>\n",
       "    <tr>\n",
       "      <th>12</th>\n",
       "      <td>1670</td>\n",
       "      <td>1973-05-12</td>\n",
       "      <td>H</td>\n",
       "      <td>inconnu</td>\n",
       "      <td>51.0</td>\n",
       "      <td>TECHNIQUE</td>\n",
       "      <td>COMMERCIALE ADM</td>\n",
       "      <td>INST IMAKI/KIRUMBA</td>\n",
       "      <td>NORD-KIVU</td>\n",
       "      <td>inconnu</td>\n",
       "      <td>[2015-2016]</td>\n",
       "      <td>Faculté de Médecine</td>\n",
       "      <td>[AJOURNE]</td>\n",
       "      <td>[SATISFACTION]</td>\n",
       "      <td>Bio-Méd</td>\n",
       "      <td>[57.0999984741]</td>\n",
       "      <td>[59.2000007629]</td>\n",
       "      <td>[G2]</td>\n",
       "    </tr>\n",
       "    <tr>\n",
       "      <th>13</th>\n",
       "      <td>1846</td>\n",
       "      <td>1963-12-20</td>\n",
       "      <td>F</td>\n",
       "      <td>DIPLÔME D'ETAT</td>\n",
       "      <td>52.0</td>\n",
       "      <td>Pédagogique</td>\n",
       "      <td>Pédagogie Générale</td>\n",
       "      <td>Buturande</td>\n",
       "      <td>NORD-KIVU</td>\n",
       "      <td>inconnu</td>\n",
       "      <td>[2013-2014]</td>\n",
       "      <td>Faculté de Psychologie et des Sciences de l'Éd...</td>\n",
       "      <td>[AJOURNE]</td>\n",
       "      <td>[SATISFACTION]</td>\n",
       "      <td>Psychologie / Psychologie clinique</td>\n",
       "      <td>[52.5999984741]</td>\n",
       "      <td>[62.7000007629]</td>\n",
       "      <td>[L2]</td>\n",
       "    </tr>\n",
       "    <tr>\n",
       "      <th>14</th>\n",
       "      <td>1848</td>\n",
       "      <td>1985-02-25</td>\n",
       "      <td>F</td>\n",
       "      <td>DIPLÔME D'ETAT</td>\n",
       "      <td>52.0</td>\n",
       "      <td>SCIENTIFIQUE</td>\n",
       "      <td>BIO CHIMIE</td>\n",
       "      <td>INSTITUT MAJENGO</td>\n",
       "      <td>NORD-KIVU</td>\n",
       "      <td>inconnu</td>\n",
       "      <td>[2015-2016]</td>\n",
       "      <td>Faculté de Santé et Développement Communautaires</td>\n",
       "      <td>[ADMIS AU MEMOIRE]</td>\n",
       "      <td>[SATISFACTION]</td>\n",
       "      <td>Gestion et Administration des Projets de Santé</td>\n",
       "      <td>[nan]</td>\n",
       "      <td>[68.1999969482]</td>\n",
       "      <td>[L2]</td>\n",
       "    </tr>\n",
       "    <tr>\n",
       "      <th>15</th>\n",
       "      <td>1858</td>\n",
       "      <td>1986-03-11</td>\n",
       "      <td>F</td>\n",
       "      <td>DIPLÔME D'ETAT</td>\n",
       "      <td>59.0</td>\n",
       "      <td>PEDAGOGIEQUE</td>\n",
       "      <td>PEDA GENERALE</td>\n",
       "      <td>INSTITUT VISOKE</td>\n",
       "      <td>NORD-KIVU</td>\n",
       "      <td>inconnu</td>\n",
       "      <td>[2013-2014]</td>\n",
       "      <td>Faculté de Santé et Développement Communautaires</td>\n",
       "      <td>[ADMIS AU MEMOIRE]</td>\n",
       "      <td>[SATISFACTION]</td>\n",
       "      <td>Santé et Développement Communautaires</td>\n",
       "      <td>[nan]</td>\n",
       "      <td>[65.9000015259]</td>\n",
       "      <td>[L2]</td>\n",
       "    </tr>\n",
       "    <tr>\n",
       "      <th>16</th>\n",
       "      <td>1963</td>\n",
       "      <td>1975-07-17</td>\n",
       "      <td>H</td>\n",
       "      <td>DIPLÔME D'ETAT</td>\n",
       "      <td>58.0</td>\n",
       "      <td>SCIENTIFIQUE</td>\n",
       "      <td>MATH PHYSIQUE</td>\n",
       "      <td>INST KITUMAINI</td>\n",
       "      <td>SUD-KIVU</td>\n",
       "      <td>inconnu</td>\n",
       "      <td>[2015-2016]</td>\n",
       "      <td>Faculté de Santé et Développement Communautaires</td>\n",
       "      <td>[ASSIMILE AUX AJOURNES]</td>\n",
       "      <td>[ASSIMILE AUX AJOURNES]</td>\n",
       "      <td>Tronc commun</td>\n",
       "      <td>[nan]</td>\n",
       "      <td>[nan]</td>\n",
       "      <td>[G3]</td>\n",
       "    </tr>\n",
       "    <tr>\n",
       "      <th>17</th>\n",
       "      <td>2269</td>\n",
       "      <td>1984-11-28</td>\n",
       "      <td>H</td>\n",
       "      <td>inconnu</td>\n",
       "      <td>55.0</td>\n",
       "      <td>PEDAGOGIEQUE</td>\n",
       "      <td>PEDA GENERALE</td>\n",
       "      <td>MONT AMBA</td>\n",
       "      <td>KINSHASA</td>\n",
       "      <td>inconnu</td>\n",
       "      <td>[2013-2014, 2014-2015, 2015-2016]</td>\n",
       "      <td>Faculté de Santé et Développement Communautaires</td>\n",
       "      <td>[AJOURNE, ASSIMILE AUX AJOURNES, ADMIS AU MEMO...</td>\n",
       "      <td>[AJOURNE, ASSIMILE AUX AJOURNES, SATISFACTION]</td>\n",
       "      <td>Santé Communautaire</td>\n",
       "      <td>[nan, nan, nan]</td>\n",
       "      <td>[nan, nan, 62.7000007629]</td>\n",
       "      <td>[L2, L2, L2]</td>\n",
       "    </tr>\n",
       "    <tr>\n",
       "      <th>18</th>\n",
       "      <td>2271</td>\n",
       "      <td>1983-06-22</td>\n",
       "      <td>F</td>\n",
       "      <td>DIPLÔME D'ETAT</td>\n",
       "      <td>60.0</td>\n",
       "      <td>PEDAGOGIEQUE</td>\n",
       "      <td>PEDA GENERALE</td>\n",
       "      <td>C.S. LUMIERE</td>\n",
       "      <td>inconnu</td>\n",
       "      <td>inconnu</td>\n",
       "      <td>[2014-2015]</td>\n",
       "      <td>Faculté de Santé et Développement Communautaires</td>\n",
       "      <td>[ASSIMILE AUX AJOURNES]</td>\n",
       "      <td>[ASSIMILE AUX AJOURNES]</td>\n",
       "      <td>Tronc commun</td>\n",
       "      <td>[nan]</td>\n",
       "      <td>[nan]</td>\n",
       "      <td>[G3]</td>\n",
       "    </tr>\n",
       "    <tr>\n",
       "      <th>19</th>\n",
       "      <td>2277</td>\n",
       "      <td>1986-05-04</td>\n",
       "      <td>F</td>\n",
       "      <td>inconnu</td>\n",
       "      <td>62.0</td>\n",
       "      <td>TECHNIQUE</td>\n",
       "      <td>SOCIALE</td>\n",
       "      <td>LYCEE CHEMCHEM</td>\n",
       "      <td>NORD-KIVU</td>\n",
       "      <td>inconnu</td>\n",
       "      <td>[2013-2014]</td>\n",
       "      <td>Faculté de Santé et Développement Communautaires</td>\n",
       "      <td>[ASSIMILE AUX AJOURNES]</td>\n",
       "      <td>[AJOURNE]</td>\n",
       "      <td>Santé Environnementale</td>\n",
       "      <td>[nan]</td>\n",
       "      <td>[nan]</td>\n",
       "      <td>[L2]</td>\n",
       "    </tr>\n",
       "    <tr>\n",
       "      <th>20</th>\n",
       "      <td>2436</td>\n",
       "      <td>1984-09-19</td>\n",
       "      <td>H</td>\n",
       "      <td>inconnu</td>\n",
       "      <td>58.0</td>\n",
       "      <td>MECA</td>\n",
       "      <td>MACHINE OUTIL</td>\n",
       "      <td>ITFM/BKV</td>\n",
       "      <td>SUD-KIVU</td>\n",
       "      <td>inconnu</td>\n",
       "      <td>[2013-2014]</td>\n",
       "      <td>Faculté des Sciences et Technologies Appliquées</td>\n",
       "      <td>[ASSIMILE AUX AJOURNES]</td>\n",
       "      <td>[AJOURNE]</td>\n",
       "      <td>Génie Civil</td>\n",
       "      <td>[nan]</td>\n",
       "      <td>[nan]</td>\n",
       "      <td>[Tech2]</td>\n",
       "    </tr>\n",
       "    <tr>\n",
       "      <th>21</th>\n",
       "      <td>2509</td>\n",
       "      <td>1987-07-30</td>\n",
       "      <td>H</td>\n",
       "      <td>inconnu</td>\n",
       "      <td>55.0</td>\n",
       "      <td>TECH</td>\n",
       "      <td>CA</td>\n",
       "      <td>I D'IBANDA</td>\n",
       "      <td>SUD-KIVU</td>\n",
       "      <td>inconnu</td>\n",
       "      <td>[2014-2015]</td>\n",
       "      <td>Faculté des Sciences Économiques et de Gestion</td>\n",
       "      <td>[ASSIMILE AUX AJOURNES]</td>\n",
       "      <td>[SATISFACTION]</td>\n",
       "      <td>Gestion Financière</td>\n",
       "      <td>[nan]</td>\n",
       "      <td>[61.5999984741]</td>\n",
       "      <td>[L2]</td>\n",
       "    </tr>\n",
       "    <tr>\n",
       "      <th>22</th>\n",
       "      <td>2523</td>\n",
       "      <td>1979-05-06</td>\n",
       "      <td>F</td>\n",
       "      <td>inconnu</td>\n",
       "      <td>50.0</td>\n",
       "      <td>PEDAGOGIEQUE</td>\n",
       "      <td>PEDA GENERALE</td>\n",
       "      <td>INSTITUT TONGIL</td>\n",
       "      <td>inconnu</td>\n",
       "      <td>inconnu</td>\n",
       "      <td>[2013-2014]</td>\n",
       "      <td>Faculté de Psychologie et des Sciences de l'Éd...</td>\n",
       "      <td>[AJOURNE]</td>\n",
       "      <td>[SATISFACTION]</td>\n",
       "      <td>Psychologie / Psychologie clinique</td>\n",
       "      <td>[48.2000007629]</td>\n",
       "      <td>[59.0]</td>\n",
       "      <td>[L2]</td>\n",
       "    </tr>\n",
       "    <tr>\n",
       "      <th>23</th>\n",
       "      <td>2675</td>\n",
       "      <td>1976-09-05</td>\n",
       "      <td>F</td>\n",
       "      <td>DIPLÔME D'ETAT</td>\n",
       "      <td>50.0</td>\n",
       "      <td>Pédagogique</td>\n",
       "      <td>Pédagogie Générale</td>\n",
       "      <td>Visoke</td>\n",
       "      <td>N/K</td>\n",
       "      <td>inconnu</td>\n",
       "      <td>[2013-2014, 2014-2015, 2015-2016]</td>\n",
       "      <td>Faculté de Psychologie et des Sciences de l'Éd...</td>\n",
       "      <td>[ADMIS AU TFC, ASSIMILE AUX AJOURNES, ADMIS AU...</td>\n",
       "      <td>[SATISFACTION, SATISFACTION, SATISFACTION]</td>\n",
       "      <td>Sciences de l'Éducation</td>\n",
       "      <td>[nan, nan, nan]</td>\n",
       "      <td>[59.2999992371, 59.2000007629, 63.5999984741]</td>\n",
       "      <td>[G3, L1, L2]</td>\n",
       "    </tr>\n",
       "    <tr>\n",
       "      <th>24</th>\n",
       "      <td>3028</td>\n",
       "      <td>1988-06-29</td>\n",
       "      <td>F</td>\n",
       "      <td>DIPLÔME D'ETAT</td>\n",
       "      <td>53.0</td>\n",
       "      <td>LITTERAIRE</td>\n",
       "      <td>LATIN PHILO</td>\n",
       "      <td>INSTITUT MWANGA</td>\n",
       "      <td>NORD-KIVU</td>\n",
       "      <td>inconnu</td>\n",
       "      <td>[2013-2014]</td>\n",
       "      <td>Faculté des Sciences Économiques et de Gestion</td>\n",
       "      <td>[ASSIMILE AUX AJOURNES]</td>\n",
       "      <td>[SATISFACTION]</td>\n",
       "      <td>Économie Monétaire</td>\n",
       "      <td>[nan]</td>\n",
       "      <td>[66.1999969482]</td>\n",
       "      <td>[L2]</td>\n",
       "    </tr>\n",
       "    <tr>\n",
       "      <th>25</th>\n",
       "      <td>3053</td>\n",
       "      <td>1991-09-04</td>\n",
       "      <td>H</td>\n",
       "      <td>inconnu</td>\n",
       "      <td>51.0</td>\n",
       "      <td>Technique</td>\n",
       "      <td>Sociale</td>\n",
       "      <td>Mikeno Isl</td>\n",
       "      <td>NORD-KIVU</td>\n",
       "      <td>inconnu</td>\n",
       "      <td>[2013-2014]</td>\n",
       "      <td>Faculté de Droit</td>\n",
       "      <td>[ASSIMILE AUX AJOURNES]</td>\n",
       "      <td>[AJOURNE]</td>\n",
       "      <td>Tronc commun</td>\n",
       "      <td>[nan]</td>\n",
       "      <td>[nan]</td>\n",
       "      <td>[G1]</td>\n",
       "    </tr>\n",
       "    <tr>\n",
       "      <th>26</th>\n",
       "      <td>3068</td>\n",
       "      <td>1983-07-16</td>\n",
       "      <td>H</td>\n",
       "      <td>inconnu</td>\n",
       "      <td>51.0</td>\n",
       "      <td>PEDAGOGIEQUE</td>\n",
       "      <td>PEDA GENERALE</td>\n",
       "      <td>INST MINOVA</td>\n",
       "      <td>SUD-KIVU</td>\n",
       "      <td>inconnu</td>\n",
       "      <td>[2013-2014, 2014-2015]</td>\n",
       "      <td>Faculté de Droit</td>\n",
       "      <td>[ASSIMILE AUX AJOURNES, AJOURNE]</td>\n",
       "      <td>[SATISFACTION, SATISFACTION]</td>\n",
       "      <td>Droit Public</td>\n",
       "      <td>[nan, nan]</td>\n",
       "      <td>[53.5999984741, 59.4000015259]</td>\n",
       "      <td>[L1, L2]</td>\n",
       "    </tr>\n",
       "    <tr>\n",
       "      <th>27</th>\n",
       "      <td>3106</td>\n",
       "      <td>1982-01-28</td>\n",
       "      <td>H</td>\n",
       "      <td>DIPLÔME D'ETAT</td>\n",
       "      <td>52.0</td>\n",
       "      <td>PEDAGOGIEQUE</td>\n",
       "      <td>PEDA GENERALE</td>\n",
       "      <td>INST BUKINANYANA</td>\n",
       "      <td>SUD-KIVU</td>\n",
       "      <td>inconnu</td>\n",
       "      <td>[2013-2014]</td>\n",
       "      <td>Faculté de Théologie</td>\n",
       "      <td>[ASSIMILE AUX AJOURNES]</td>\n",
       "      <td>[ASSIMILE AUX AJOURNES]</td>\n",
       "      <td>Tronc commun</td>\n",
       "      <td>[nan]</td>\n",
       "      <td>[nan]</td>\n",
       "      <td>[L2]</td>\n",
       "    </tr>\n",
       "    <tr>\n",
       "      <th>28</th>\n",
       "      <td>3135</td>\n",
       "      <td>1971-09-09</td>\n",
       "      <td>F</td>\n",
       "      <td>inconnu</td>\n",
       "      <td>50.0</td>\n",
       "      <td>PEDAGOGIEQUE</td>\n",
       "      <td>PEDA GENERALE</td>\n",
       "      <td>AUTODIDACTE</td>\n",
       "      <td>NORD-KIVU</td>\n",
       "      <td>inconnu</td>\n",
       "      <td>[2013-2014]</td>\n",
       "      <td>Faculté de Théologie</td>\n",
       "      <td>[ADMIS AU STAGE ET AU MEMOIRE]</td>\n",
       "      <td>[SATISFACTION]</td>\n",
       "      <td>Tronc commun</td>\n",
       "      <td>[nan]</td>\n",
       "      <td>[60.0999984741]</td>\n",
       "      <td>[L2]</td>\n",
       "    </tr>\n",
       "    <tr>\n",
       "      <th>29</th>\n",
       "      <td>3159</td>\n",
       "      <td>1982-07-06</td>\n",
       "      <td>H</td>\n",
       "      <td>DIPLÔME D'ETAT</td>\n",
       "      <td>52.0</td>\n",
       "      <td>PEDAGOGIEQUE</td>\n",
       "      <td>PËDA GENERALE</td>\n",
       "      <td>INST BORA</td>\n",
       "      <td>NORD-KIVU</td>\n",
       "      <td>inconnu</td>\n",
       "      <td>[2014-2015]</td>\n",
       "      <td>Faculté de Santé et Développement Communautaires</td>\n",
       "      <td>[ASSIMILE AUX AJOURNES]</td>\n",
       "      <td>[SATISFACTION]</td>\n",
       "      <td>Gestion et Administration des Projets de Santé</td>\n",
       "      <td>[nan]</td>\n",
       "      <td>[62.0]</td>\n",
       "      <td>[L2]</td>\n",
       "    </tr>\n",
       "    <tr>\n",
       "      <th>...</th>\n",
       "      <td>...</td>\n",
       "      <td>...</td>\n",
       "      <td>...</td>\n",
       "      <td>...</td>\n",
       "      <td>...</td>\n",
       "      <td>...</td>\n",
       "      <td>...</td>\n",
       "      <td>...</td>\n",
       "      <td>...</td>\n",
       "      <td>...</td>\n",
       "      <td>...</td>\n",
       "      <td>...</td>\n",
       "      <td>...</td>\n",
       "      <td>...</td>\n",
       "      <td>...</td>\n",
       "      <td>...</td>\n",
       "      <td>...</td>\n",
       "      <td>...</td>\n",
       "    </tr>\n",
       "    <tr>\n",
       "      <th>4008</th>\n",
       "      <td>12221</td>\n",
       "      <td>1996-06-12</td>\n",
       "      <td>H</td>\n",
       "      <td>DIPLÔME D'ETAT</td>\n",
       "      <td>51.0</td>\n",
       "      <td>PEDAGOGIE</td>\n",
       "      <td>PEDAGOGIE GENERALE</td>\n",
       "      <td>Institut LINZO</td>\n",
       "      <td>NORD-KIVU</td>\n",
       "      <td>protestant</td>\n",
       "      <td>[2015-2016]</td>\n",
       "      <td>Faculté de Théologie</td>\n",
       "      <td>[ASSIMILE AUX AJOURNES]</td>\n",
       "      <td>[SATISFACTION]</td>\n",
       "      <td>Tronc commun</td>\n",
       "      <td>[nan]</td>\n",
       "      <td>[60.5999984741]</td>\n",
       "      <td>[G1]</td>\n",
       "    </tr>\n",
       "    <tr>\n",
       "      <th>4009</th>\n",
       "      <td>12222</td>\n",
       "      <td>1994-05-15</td>\n",
       "      <td>F</td>\n",
       "      <td>DIPLÔME D'ETAT</td>\n",
       "      <td>51.0</td>\n",
       "      <td>TECHNIQUE</td>\n",
       "      <td>Sociale</td>\n",
       "      <td>GS LUMIÈRE DU PROGRES</td>\n",
       "      <td>NORD-KIVU</td>\n",
       "      <td>privé</td>\n",
       "      <td>[2015-2016]</td>\n",
       "      <td>Faculté de Droit</td>\n",
       "      <td>[AJOURNE]</td>\n",
       "      <td>[SATISFACTION]</td>\n",
       "      <td>Tronc commun</td>\n",
       "      <td>[47.9000015259]</td>\n",
       "      <td>[55.9000015259]</td>\n",
       "      <td>[G1]</td>\n",
       "    </tr>\n",
       "    <tr>\n",
       "      <th>4010</th>\n",
       "      <td>12223</td>\n",
       "      <td>1994-12-25</td>\n",
       "      <td>H</td>\n",
       "      <td>DIPLÔME D'ETAT</td>\n",
       "      <td>52.0</td>\n",
       "      <td>PEDAGOGIE</td>\n",
       "      <td>PEDAGOGIE GENERALE</td>\n",
       "      <td>INSTITUT TUWUNGANE</td>\n",
       "      <td>NORD-KIVU</td>\n",
       "      <td>publique</td>\n",
       "      <td>[2015-2016]</td>\n",
       "      <td>Faculté de Théologie</td>\n",
       "      <td>[ASSIMILE AUX AJOURNES]</td>\n",
       "      <td>[SATISFACTION]</td>\n",
       "      <td>Tronc commun</td>\n",
       "      <td>[nan]</td>\n",
       "      <td>[62.5999984741]</td>\n",
       "      <td>[G1]</td>\n",
       "    </tr>\n",
       "    <tr>\n",
       "      <th>4011</th>\n",
       "      <td>12224</td>\n",
       "      <td>1990-01-01</td>\n",
       "      <td>H</td>\n",
       "      <td>DIPLÔME D'ETAT</td>\n",
       "      <td>50.0</td>\n",
       "      <td>TECHNIQUE</td>\n",
       "      <td>Sociale</td>\n",
       "      <td>Institut kalimabenge</td>\n",
       "      <td>SUD-KIVU</td>\n",
       "      <td>privé</td>\n",
       "      <td>[2015-2016]</td>\n",
       "      <td>Faculté de Droit</td>\n",
       "      <td>[AJOURNE]</td>\n",
       "      <td>[SATISFACTION]</td>\n",
       "      <td>Tronc commun</td>\n",
       "      <td>[59.2999992371]</td>\n",
       "      <td>[62.0999984741]</td>\n",
       "      <td>[G2]</td>\n",
       "    </tr>\n",
       "    <tr>\n",
       "      <th>4012</th>\n",
       "      <td>12225</td>\n",
       "      <td>1992-07-08</td>\n",
       "      <td>H</td>\n",
       "      <td>DIPLÔME D'ETAT</td>\n",
       "      <td>61.0</td>\n",
       "      <td>PEDAGOGIE</td>\n",
       "      <td>PEDAGOGIE GENERALE</td>\n",
       "      <td>A. IBANDA</td>\n",
       "      <td>SUD-KIVU</td>\n",
       "      <td>publique</td>\n",
       "      <td>[2015-2016]</td>\n",
       "      <td>Faculté de Droit</td>\n",
       "      <td>[ASSIMILE AUX AJOURNES]</td>\n",
       "      <td>[AJOURNE]</td>\n",
       "      <td>Droit Privé et Judiciaire</td>\n",
       "      <td>[nan]</td>\n",
       "      <td>[50.0]</td>\n",
       "      <td>[L1]</td>\n",
       "    </tr>\n",
       "    <tr>\n",
       "      <th>4013</th>\n",
       "      <td>12227</td>\n",
       "      <td>1993-08-09</td>\n",
       "      <td>H</td>\n",
       "      <td>DIPLÔME D'ETAT</td>\n",
       "      <td>65.0</td>\n",
       "      <td>COMMERCIALE</td>\n",
       "      <td>COMMERCIALE ADMINISTRATIVE</td>\n",
       "      <td>Institut METANOIA</td>\n",
       "      <td>NORD-KIVU</td>\n",
       "      <td>protestant</td>\n",
       "      <td>[2015-2016]</td>\n",
       "      <td>Faculté des Sciences et Technologies Appliquées</td>\n",
       "      <td>[ASSIMILE AUX AJOURNES]</td>\n",
       "      <td>[SATISFACTION]</td>\n",
       "      <td>Génie Informatique</td>\n",
       "      <td>[nan]</td>\n",
       "      <td>[64.5]</td>\n",
       "      <td>[Tech1]</td>\n",
       "    </tr>\n",
       "    <tr>\n",
       "      <th>4014</th>\n",
       "      <td>12228</td>\n",
       "      <td>1993-05-05</td>\n",
       "      <td>H</td>\n",
       "      <td>DIPLÔME D'ETAT</td>\n",
       "      <td>62.0</td>\n",
       "      <td>TECHNIQUE</td>\n",
       "      <td>ELECTRONIQUE</td>\n",
       "      <td>Institut Technique Ind. de MAHAMBA</td>\n",
       "      <td>NORD-KIVU</td>\n",
       "      <td>catholique</td>\n",
       "      <td>[2015-2016]</td>\n",
       "      <td>Faculté des Sciences et Technologies Appliquées</td>\n",
       "      <td>[ASSIMILE AUX AJOURNES]</td>\n",
       "      <td>[DISTINCTION]</td>\n",
       "      <td>Génie Informatique</td>\n",
       "      <td>[nan]</td>\n",
       "      <td>[71.9000015259]</td>\n",
       "      <td>[Tech1]</td>\n",
       "    </tr>\n",
       "    <tr>\n",
       "      <th>4015</th>\n",
       "      <td>12229</td>\n",
       "      <td>1992-11-03</td>\n",
       "      <td>H</td>\n",
       "      <td>DIPLÔME D'ETAT</td>\n",
       "      <td>62.0</td>\n",
       "      <td>SCIENTIFIQUE</td>\n",
       "      <td>BIO CHIMIE</td>\n",
       "      <td>Institut METANOIA</td>\n",
       "      <td>NORD-KIVU</td>\n",
       "      <td>protestant</td>\n",
       "      <td>[2015-2016]</td>\n",
       "      <td>Faculté des Sciences et Technologies Appliquées</td>\n",
       "      <td>[ASSIMILE AUX AJOURNES]</td>\n",
       "      <td>[DISTINCTION]</td>\n",
       "      <td>Génie Informatique</td>\n",
       "      <td>[nan]</td>\n",
       "      <td>[74.5]</td>\n",
       "      <td>[Tech1]</td>\n",
       "    </tr>\n",
       "    <tr>\n",
       "      <th>4016</th>\n",
       "      <td>12230</td>\n",
       "      <td>1992-08-28</td>\n",
       "      <td>F</td>\n",
       "      <td>DIPLÔME D'ETAT</td>\n",
       "      <td>51.0</td>\n",
       "      <td>TECHNIQUE</td>\n",
       "      <td>Nutrition</td>\n",
       "      <td>Institut  Kilokwa</td>\n",
       "      <td>NORD-KIVU</td>\n",
       "      <td>protestant</td>\n",
       "      <td>[2015-2016]</td>\n",
       "      <td>Faculté de Théologie</td>\n",
       "      <td>[ASSIMILE AUX AJOURNES]</td>\n",
       "      <td>[AJOURNE]</td>\n",
       "      <td>Tronc commun</td>\n",
       "      <td>[nan]</td>\n",
       "      <td>[nan]</td>\n",
       "      <td>[G1]</td>\n",
       "    </tr>\n",
       "    <tr>\n",
       "      <th>4017</th>\n",
       "      <td>12231</td>\n",
       "      <td>1990-11-03</td>\n",
       "      <td>F</td>\n",
       "      <td>DIPLÔME D'ETAT</td>\n",
       "      <td>60.0</td>\n",
       "      <td>PEDAGOGIE</td>\n",
       "      <td>PEDAGOGIE GENERALE</td>\n",
       "      <td>Institut de BAGIRA</td>\n",
       "      <td>SUD-KIVU</td>\n",
       "      <td>publique</td>\n",
       "      <td>[2015-2016]</td>\n",
       "      <td>Faculté des Sciences Économiques et de Gestion</td>\n",
       "      <td>[AJOURNE]</td>\n",
       "      <td>[SATISFACTION]</td>\n",
       "      <td>Économie Monétaire</td>\n",
       "      <td>[53.0]</td>\n",
       "      <td>[56.7999992371]</td>\n",
       "      <td>[L1]</td>\n",
       "    </tr>\n",
       "    <tr>\n",
       "      <th>4018</th>\n",
       "      <td>12234</td>\n",
       "      <td>1992-05-02</td>\n",
       "      <td>H</td>\n",
       "      <td>DIPLÔME D'ETAT</td>\n",
       "      <td>53.0</td>\n",
       "      <td>COMMERCIALE</td>\n",
       "      <td>COMMERCIALE INFORMATIQUE</td>\n",
       "      <td>Institut TUMAINI</td>\n",
       "      <td>NORD-KIVU</td>\n",
       "      <td>protestant</td>\n",
       "      <td>[2015-2016]</td>\n",
       "      <td>Faculté des Sciences Économiques et de Gestion</td>\n",
       "      <td>[ASSIMILE AUX AJOURNES]</td>\n",
       "      <td>[SATISFACTION]</td>\n",
       "      <td>Économie Industrielle</td>\n",
       "      <td>[nan]</td>\n",
       "      <td>[56.2000007629]</td>\n",
       "      <td>[L1]</td>\n",
       "    </tr>\n",
       "    <tr>\n",
       "      <th>4019</th>\n",
       "      <td>12235</td>\n",
       "      <td>1993-06-07</td>\n",
       "      <td>H</td>\n",
       "      <td>DIPLÔME D'ETAT</td>\n",
       "      <td>52.0</td>\n",
       "      <td>PEDAGOGIE</td>\n",
       "      <td>PEDAGOGIE GENERALE</td>\n",
       "      <td>CS KABA</td>\n",
       "      <td>NORD-KIVU</td>\n",
       "      <td>privé</td>\n",
       "      <td>[2015-2016]</td>\n",
       "      <td>Faculté des Sciences Économiques et de Gestion</td>\n",
       "      <td>[ASSIMILE AUX AJOURNES]</td>\n",
       "      <td>[AJOURNE]</td>\n",
       "      <td>Tronc commun</td>\n",
       "      <td>[nan]</td>\n",
       "      <td>[49.4000015259]</td>\n",
       "      <td>[G1]</td>\n",
       "    </tr>\n",
       "    <tr>\n",
       "      <th>4020</th>\n",
       "      <td>12236</td>\n",
       "      <td>1985-10-15</td>\n",
       "      <td>H</td>\n",
       "      <td>DIPLÔME D'ETAT</td>\n",
       "      <td>51.0</td>\n",
       "      <td>TECHNIQUE</td>\n",
       "      <td>Sociale</td>\n",
       "      <td>Institut KIVISIRE</td>\n",
       "      <td>NORD-KIVU</td>\n",
       "      <td>protestant</td>\n",
       "      <td>[2015-2016]</td>\n",
       "      <td>Faculté de Théologie</td>\n",
       "      <td>[ASSIMILE AUX AJOURNES]</td>\n",
       "      <td>[SATISFACTION]</td>\n",
       "      <td>Tronc commun</td>\n",
       "      <td>[nan]</td>\n",
       "      <td>[65.3000030518]</td>\n",
       "      <td>[G1]</td>\n",
       "    </tr>\n",
       "    <tr>\n",
       "      <th>4021</th>\n",
       "      <td>12237</td>\n",
       "      <td>1988-01-02</td>\n",
       "      <td>H</td>\n",
       "      <td>DIPLÔME D'ETAT</td>\n",
       "      <td>50.0</td>\n",
       "      <td>COMMERCIALE</td>\n",
       "      <td>COMMERCIALE ADMINISTRATIVE</td>\n",
       "      <td>Institut de Kirumba</td>\n",
       "      <td>NORD-KIVU</td>\n",
       "      <td>protestant</td>\n",
       "      <td>[2015-2016]</td>\n",
       "      <td>Faculté de Théologie</td>\n",
       "      <td>[ASSIMILE AUX AJOURNES]</td>\n",
       "      <td>[AJOURNE]</td>\n",
       "      <td>Tronc commun</td>\n",
       "      <td>[nan]</td>\n",
       "      <td>[49.4000015259]</td>\n",
       "      <td>[G1]</td>\n",
       "    </tr>\n",
       "    <tr>\n",
       "      <th>4022</th>\n",
       "      <td>12239</td>\n",
       "      <td>1992-01-02</td>\n",
       "      <td>F</td>\n",
       "      <td>DIPLÔME D'ETAT</td>\n",
       "      <td>55.0</td>\n",
       "      <td>COMMERCIALE</td>\n",
       "      <td>COMMERCIALE ADMINISTRATIVE</td>\n",
       "      <td>Lycée BUTEMBO</td>\n",
       "      <td>NORD-KIVU</td>\n",
       "      <td>catholique</td>\n",
       "      <td>[2015-2016]</td>\n",
       "      <td>Faculté des Sciences Économiques et de Gestion</td>\n",
       "      <td>[AJOURNE]</td>\n",
       "      <td>[SATISFACTION]</td>\n",
       "      <td>Gestion des Entreprises</td>\n",
       "      <td>[44.5999984741]</td>\n",
       "      <td>[55.4000015259]</td>\n",
       "      <td>[L1]</td>\n",
       "    </tr>\n",
       "    <tr>\n",
       "      <th>4023</th>\n",
       "      <td>12240</td>\n",
       "      <td>1994-03-29</td>\n",
       "      <td>H</td>\n",
       "      <td>DIPLÔME D'ETAT</td>\n",
       "      <td>63.0</td>\n",
       "      <td>SCIENTIFIQUE</td>\n",
       "      <td>Mathématique Physique</td>\n",
       "      <td>Institut Majengo</td>\n",
       "      <td>NORD-KIVU</td>\n",
       "      <td>protestant</td>\n",
       "      <td>[2015-2016]</td>\n",
       "      <td>Faculté des Sciences et Technologies Appliquées</td>\n",
       "      <td>[AJOURNE]</td>\n",
       "      <td>[SATISFACTION]</td>\n",
       "      <td>Tronc commun</td>\n",
       "      <td>[43.7000007629]</td>\n",
       "      <td>[55.7999992371]</td>\n",
       "      <td>[G0]</td>\n",
       "    </tr>\n",
       "    <tr>\n",
       "      <th>4024</th>\n",
       "      <td>12241</td>\n",
       "      <td>1993-09-23</td>\n",
       "      <td>F</td>\n",
       "      <td>DIPLÔME D'ETAT</td>\n",
       "      <td>57.0</td>\n",
       "      <td>PEDAGOGIE</td>\n",
       "      <td>PEDAGOGIE GENERALE</td>\n",
       "      <td>EDACK/ISGEA</td>\n",
       "      <td>ORIENTALE</td>\n",
       "      <td>privé</td>\n",
       "      <td>[2015-2016]</td>\n",
       "      <td>Faculté des Sciences Économiques et de Gestion</td>\n",
       "      <td>[ASSIMILE AUX AJOURNES]</td>\n",
       "      <td>[AJOURNE]</td>\n",
       "      <td>Gestion des Entreprises</td>\n",
       "      <td>[nan]</td>\n",
       "      <td>[48.7999992371]</td>\n",
       "      <td>[L1]</td>\n",
       "    </tr>\n",
       "    <tr>\n",
       "      <th>4025</th>\n",
       "      <td>12242</td>\n",
       "      <td>1993-03-25</td>\n",
       "      <td>F</td>\n",
       "      <td>DIPLÔME D'ETAT</td>\n",
       "      <td>57.0</td>\n",
       "      <td>TECHNIQUE</td>\n",
       "      <td>Sociale</td>\n",
       "      <td>IDAP/ISP BUNIA</td>\n",
       "      <td>ORIENTALE</td>\n",
       "      <td>privé</td>\n",
       "      <td>[2015-2016]</td>\n",
       "      <td>Faculté des Sciences Économiques et de Gestion</td>\n",
       "      <td>[AJOURNE]</td>\n",
       "      <td>[SATISFACTION]</td>\n",
       "      <td>Gestion des Entreprises</td>\n",
       "      <td>[48.5999984741]</td>\n",
       "      <td>[58.2999992371]</td>\n",
       "      <td>[L1]</td>\n",
       "    </tr>\n",
       "    <tr>\n",
       "      <th>4026</th>\n",
       "      <td>12243</td>\n",
       "      <td>1992-10-28</td>\n",
       "      <td>H</td>\n",
       "      <td>DIPLÔME D'ETAT</td>\n",
       "      <td>54.0</td>\n",
       "      <td>TECHNIQUE</td>\n",
       "      <td>Sociale</td>\n",
       "      <td>EDACK/ISGEA</td>\n",
       "      <td>ORIENTALE</td>\n",
       "      <td>privé</td>\n",
       "      <td>[2015-2016]</td>\n",
       "      <td>Faculté des Sciences Économiques et de Gestion</td>\n",
       "      <td>[AJOURNE]</td>\n",
       "      <td>[SATISFACTION]</td>\n",
       "      <td>Gestion des Entreprises</td>\n",
       "      <td>[46.2999992371]</td>\n",
       "      <td>[54.2999992371]</td>\n",
       "      <td>[L1]</td>\n",
       "    </tr>\n",
       "    <tr>\n",
       "      <th>4027</th>\n",
       "      <td>12244</td>\n",
       "      <td>1997-06-01</td>\n",
       "      <td>F</td>\n",
       "      <td>DIPLÔME D'ETAT</td>\n",
       "      <td>50.0</td>\n",
       "      <td>TECHNIQUE</td>\n",
       "      <td>Sociale</td>\n",
       "      <td>Lycée Saint Ursule</td>\n",
       "      <td>NORD-KIVU</td>\n",
       "      <td>catholique</td>\n",
       "      <td>[2015-2016]</td>\n",
       "      <td>Faculté des Sciences Économiques et de Gestion</td>\n",
       "      <td>[ASSIMILE AUX AJOURNES]</td>\n",
       "      <td>[SATISFACTION]</td>\n",
       "      <td>Tronc commun</td>\n",
       "      <td>[nan]</td>\n",
       "      <td>[55.5]</td>\n",
       "      <td>[G1]</td>\n",
       "    </tr>\n",
       "    <tr>\n",
       "      <th>4028</th>\n",
       "      <td>12245</td>\n",
       "      <td>1997-10-11</td>\n",
       "      <td>H</td>\n",
       "      <td>DIPLÔME D'ETAT</td>\n",
       "      <td>51.0</td>\n",
       "      <td>Technique</td>\n",
       "      <td>Sociale</td>\n",
       "      <td>Institut Mont Carmel</td>\n",
       "      <td>NORD-KIVU</td>\n",
       "      <td>catholique</td>\n",
       "      <td>[2015-2016]</td>\n",
       "      <td>Faculté des Sciences et Technologies Appliquées</td>\n",
       "      <td>[ASSIMILE AUX AJOURNES]</td>\n",
       "      <td>[AJOURNE]</td>\n",
       "      <td>Tronc commun</td>\n",
       "      <td>[nan]</td>\n",
       "      <td>[49.7999992371]</td>\n",
       "      <td>[G0]</td>\n",
       "    </tr>\n",
       "    <tr>\n",
       "      <th>4029</th>\n",
       "      <td>12246</td>\n",
       "      <td>1993-02-18</td>\n",
       "      <td>H</td>\n",
       "      <td>DIPLÔME D'ETAT</td>\n",
       "      <td>53.0</td>\n",
       "      <td>TECHNIQUE</td>\n",
       "      <td>MECANIQUE GENERALE</td>\n",
       "      <td>Institut MARANATHA</td>\n",
       "      <td>NORD-KIVU</td>\n",
       "      <td>protestant</td>\n",
       "      <td>[2015-2016]</td>\n",
       "      <td>Faculté des Sciences et Technologies Appliquées</td>\n",
       "      <td>[ASSIMILE AUX AJOURNES]</td>\n",
       "      <td>[SATISFACTION]</td>\n",
       "      <td>Tronc commun</td>\n",
       "      <td>[nan]</td>\n",
       "      <td>[56.2999992371]</td>\n",
       "      <td>[G1]</td>\n",
       "    </tr>\n",
       "    <tr>\n",
       "      <th>4030</th>\n",
       "      <td>12250</td>\n",
       "      <td>1997-07-06</td>\n",
       "      <td>H</td>\n",
       "      <td>DIPLÔME D'ETAT</td>\n",
       "      <td>72.0</td>\n",
       "      <td>SCIENTIFIQUE</td>\n",
       "      <td>BIO CHIMIE</td>\n",
       "      <td>Institut ISIDORE BANKAJA</td>\n",
       "      <td>NORD-KIVU</td>\n",
       "      <td>catholique</td>\n",
       "      <td>[2015-2016]</td>\n",
       "      <td>Faculté des Sciences Économiques et de Gestion</td>\n",
       "      <td>[ASSIMILE AUX AJOURNES]</td>\n",
       "      <td>[SATISFACTION]</td>\n",
       "      <td>Tronc commun</td>\n",
       "      <td>[nan]</td>\n",
       "      <td>[65.3000030518]</td>\n",
       "      <td>[G1]</td>\n",
       "    </tr>\n",
       "    <tr>\n",
       "      <th>4031</th>\n",
       "      <td>12251</td>\n",
       "      <td>1997-10-14</td>\n",
       "      <td>F</td>\n",
       "      <td>DIPLÔME D'ETAT</td>\n",
       "      <td>54.0</td>\n",
       "      <td>PEDAGOGIE</td>\n",
       "      <td>PEDAGOGIE GENERALE</td>\n",
       "      <td>Institut MWANZO</td>\n",
       "      <td>SUD-KIVU</td>\n",
       "      <td>publique</td>\n",
       "      <td>[2015-2016]</td>\n",
       "      <td>Faculté de Droit</td>\n",
       "      <td>[ASSIMILE AUX AJOURNES]</td>\n",
       "      <td>[AJOURNE]</td>\n",
       "      <td>Tronc commun</td>\n",
       "      <td>[nan]</td>\n",
       "      <td>[47.9000015259]</td>\n",
       "      <td>[G1]</td>\n",
       "    </tr>\n",
       "    <tr>\n",
       "      <th>4032</th>\n",
       "      <td>12252</td>\n",
       "      <td>1997-06-16</td>\n",
       "      <td>F</td>\n",
       "      <td>DIPLÔME D'ETAT</td>\n",
       "      <td>645.0</td>\n",
       "      <td>SCIENTIFIQUE</td>\n",
       "      <td>BIO CHIMIE</td>\n",
       "      <td>College John MABWINDI</td>\n",
       "      <td>KINSHASA</td>\n",
       "      <td>protestant</td>\n",
       "      <td>[2015-2016]</td>\n",
       "      <td>Faculté de Médecine</td>\n",
       "      <td>[ASSIMILE AUX AJOURNES]</td>\n",
       "      <td>[SATISFACTION]</td>\n",
       "      <td>Bio-Méd</td>\n",
       "      <td>[nan]</td>\n",
       "      <td>[61.5999984741]</td>\n",
       "      <td>[G1]</td>\n",
       "    </tr>\n",
       "    <tr>\n",
       "      <th>4033</th>\n",
       "      <td>12254</td>\n",
       "      <td>1993-01-30</td>\n",
       "      <td>H</td>\n",
       "      <td>DIPLÔME D'ETAT</td>\n",
       "      <td>50.0</td>\n",
       "      <td>LITTERAIRE</td>\n",
       "      <td>LATIN PHILO</td>\n",
       "      <td>CS LA SAPINIERE</td>\n",
       "      <td>SUD-KIVU</td>\n",
       "      <td>privé</td>\n",
       "      <td>[2015-2016]</td>\n",
       "      <td>Faculté de Droit</td>\n",
       "      <td>[ASSIMILE AUX AJOURNES]</td>\n",
       "      <td>[SATISFACTION]</td>\n",
       "      <td>Tronc commun</td>\n",
       "      <td>[nan]</td>\n",
       "      <td>[58.5999984741]</td>\n",
       "      <td>[G1]</td>\n",
       "    </tr>\n",
       "    <tr>\n",
       "      <th>4034</th>\n",
       "      <td>12255</td>\n",
       "      <td>1997-01-22</td>\n",
       "      <td>H</td>\n",
       "      <td>DIPLÔME D'ETAT</td>\n",
       "      <td>54.0</td>\n",
       "      <td>PÉDAGOGIQUE</td>\n",
       "      <td>PEDAGOGIE GENERALE</td>\n",
       "      <td>Institut BUHALA</td>\n",
       "      <td>NORD-KIVU</td>\n",
       "      <td>publique</td>\n",
       "      <td>[2015-2016]</td>\n",
       "      <td>Faculté des Sciences Économiques et de Gestion</td>\n",
       "      <td>[ASSIMILE AUX AJOURNES]</td>\n",
       "      <td>[AJOURNE]</td>\n",
       "      <td>Tronc commun</td>\n",
       "      <td>[nan]</td>\n",
       "      <td>[nan]</td>\n",
       "      <td>[G1]</td>\n",
       "    </tr>\n",
       "    <tr>\n",
       "      <th>4035</th>\n",
       "      <td>12256</td>\n",
       "      <td>1994-10-21</td>\n",
       "      <td>H</td>\n",
       "      <td>DIPLÔME D'ETAT</td>\n",
       "      <td>53.0</td>\n",
       "      <td>PEDAGOGIE</td>\n",
       "      <td>PEDAGOGIE GENERALE</td>\n",
       "      <td>CS TSIESI</td>\n",
       "      <td>NORD-KIVU</td>\n",
       "      <td>privé</td>\n",
       "      <td>[2015-2016]</td>\n",
       "      <td>Faculté de Droit</td>\n",
       "      <td>[ASSIMILE AUX AJOURNES]</td>\n",
       "      <td>[SATISFACTION]</td>\n",
       "      <td>Tronc commun</td>\n",
       "      <td>[nan]</td>\n",
       "      <td>[59.7999992371]</td>\n",
       "      <td>[G2]</td>\n",
       "    </tr>\n",
       "    <tr>\n",
       "      <th>4036</th>\n",
       "      <td>12257</td>\n",
       "      <td>1995-02-28</td>\n",
       "      <td>H</td>\n",
       "      <td>DIPLÔME D'ETAT</td>\n",
       "      <td>58.0</td>\n",
       "      <td>COMMERCIALE</td>\n",
       "      <td>COMMERCIALE ADMINISTRATIVE</td>\n",
       "      <td>Institut de Goma</td>\n",
       "      <td>NORD-KIVU</td>\n",
       "      <td>publique</td>\n",
       "      <td>[2015-2016]</td>\n",
       "      <td>Faculté des Sciences Économiques et de Gestion</td>\n",
       "      <td>[ASSIMILE AUX AJOURNES]</td>\n",
       "      <td>[AJOURNE]</td>\n",
       "      <td>Économie Monétaire</td>\n",
       "      <td>[nan]</td>\n",
       "      <td>[50.7999992371]</td>\n",
       "      <td>[L1]</td>\n",
       "    </tr>\n",
       "    <tr>\n",
       "      <th>4037</th>\n",
       "      <td>12360</td>\n",
       "      <td>1988-01-10</td>\n",
       "      <td>H</td>\n",
       "      <td>DIPLÔME D'ETAT</td>\n",
       "      <td>60.0</td>\n",
       "      <td>dfd</td>\n",
       "      <td>fdf</td>\n",
       "      <td>fdf</td>\n",
       "      <td>BANDUNDU</td>\n",
       "      <td>autodidacte</td>\n",
       "      <td>[2015-2016]</td>\n",
       "      <td>Faculté de Droit</td>\n",
       "      <td>[ASSIMILE AUX AJOURNES]</td>\n",
       "      <td>[NON ADMISSIBLE DS LA MEME FILIERE]</td>\n",
       "      <td>Tronc commun</td>\n",
       "      <td>[nan]</td>\n",
       "      <td>[nan]</td>\n",
       "      <td>[G1]</td>\n",
       "    </tr>\n",
       "  </tbody>\n",
       "</table>\n",
       "<p>4038 rows × 18 columns</p>\n",
       "</div>"
      ],
      "text/plain": [
       "      IDENTIFICATION    BIRTHDAY NAME                DIPLOMTYPE  \\\n",
       "0                215  1978-09-07    F            DIPLÔME D'ETAT   \n",
       "1                343  1973-03-04    H            DIPLÔME D'ETAT   \n",
       "2                356  1978-03-02    H  DIPLÔME D'ETAT DU RWANDA   \n",
       "3                429  1973-01-11    H            DIPLÔME D'ETAT   \n",
       "4                645  1979-11-24    H            DIPLÔME D'ETAT   \n",
       "5                665  1979-11-03    H            DIPLÔME D'ETAT   \n",
       "6                827  1962-04-15    H                   inconnu   \n",
       "7               1061  1979-02-18    H            DIPLÔME D'ETAT   \n",
       "8               1289  1967-12-02    F                   inconnu   \n",
       "9               1376  1979-06-24    H            DIPLÔME D'ETAT   \n",
       "10              1497  1984-09-08    H            DIPLÔME D'ETAT   \n",
       "11              1517  1980-12-26    H            DIPLÔME D'ETAT   \n",
       "12              1670  1973-05-12    H                   inconnu   \n",
       "13              1846  1963-12-20    F            DIPLÔME D'ETAT   \n",
       "14              1848  1985-02-25    F            DIPLÔME D'ETAT   \n",
       "15              1858  1986-03-11    F            DIPLÔME D'ETAT   \n",
       "16              1963  1975-07-17    H            DIPLÔME D'ETAT   \n",
       "17              2269  1984-11-28    H                   inconnu   \n",
       "18              2271  1983-06-22    F            DIPLÔME D'ETAT   \n",
       "19              2277  1986-05-04    F                   inconnu   \n",
       "20              2436  1984-09-19    H                   inconnu   \n",
       "21              2509  1987-07-30    H                   inconnu   \n",
       "22              2523  1979-05-06    F                   inconnu   \n",
       "23              2675  1976-09-05    F            DIPLÔME D'ETAT   \n",
       "24              3028  1988-06-29    F            DIPLÔME D'ETAT   \n",
       "25              3053  1991-09-04    H                   inconnu   \n",
       "26              3068  1983-07-16    H                   inconnu   \n",
       "27              3106  1982-01-28    H            DIPLÔME D'ETAT   \n",
       "28              3135  1971-09-09    F                   inconnu   \n",
       "29              3159  1982-07-06    H            DIPLÔME D'ETAT   \n",
       "...              ...         ...  ...                       ...   \n",
       "4008           12221  1996-06-12    H            DIPLÔME D'ETAT   \n",
       "4009           12222  1994-05-15    F            DIPLÔME D'ETAT   \n",
       "4010           12223  1994-12-25    H            DIPLÔME D'ETAT   \n",
       "4011           12224  1990-01-01    H            DIPLÔME D'ETAT   \n",
       "4012           12225  1992-07-08    H            DIPLÔME D'ETAT   \n",
       "4013           12227  1993-08-09    H            DIPLÔME D'ETAT   \n",
       "4014           12228  1993-05-05    H            DIPLÔME D'ETAT   \n",
       "4015           12229  1992-11-03    H            DIPLÔME D'ETAT   \n",
       "4016           12230  1992-08-28    F            DIPLÔME D'ETAT   \n",
       "4017           12231  1990-11-03    F            DIPLÔME D'ETAT   \n",
       "4018           12234  1992-05-02    H            DIPLÔME D'ETAT   \n",
       "4019           12235  1993-06-07    H            DIPLÔME D'ETAT   \n",
       "4020           12236  1985-10-15    H            DIPLÔME D'ETAT   \n",
       "4021           12237  1988-01-02    H            DIPLÔME D'ETAT   \n",
       "4022           12239  1992-01-02    F            DIPLÔME D'ETAT   \n",
       "4023           12240  1994-03-29    H            DIPLÔME D'ETAT   \n",
       "4024           12241  1993-09-23    F            DIPLÔME D'ETAT   \n",
       "4025           12242  1993-03-25    F            DIPLÔME D'ETAT   \n",
       "4026           12243  1992-10-28    H            DIPLÔME D'ETAT   \n",
       "4027           12244  1997-06-01    F            DIPLÔME D'ETAT   \n",
       "4028           12245  1997-10-11    H            DIPLÔME D'ETAT   \n",
       "4029           12246  1993-02-18    H            DIPLÔME D'ETAT   \n",
       "4030           12250  1997-07-06    H            DIPLÔME D'ETAT   \n",
       "4031           12251  1997-10-14    F            DIPLÔME D'ETAT   \n",
       "4032           12252  1997-06-16    F            DIPLÔME D'ETAT   \n",
       "4033           12254  1993-01-30    H            DIPLÔME D'ETAT   \n",
       "4034           12255  1997-01-22    H            DIPLÔME D'ETAT   \n",
       "4035           12256  1994-10-21    H            DIPLÔME D'ETAT   \n",
       "4036           12257  1995-02-28    H            DIPLÔME D'ETAT   \n",
       "4037           12360  1988-01-10    H            DIPLÔME D'ETAT   \n",
       "\n",
       "      DIPLOMPERCENTAGE           DIPLOMSECTION                   DIPLOMOPTION  \\\n",
       "0                 58.0            SCIENTIFIQUE                  MATH-PHYSIQUE   \n",
       "1                 54.0            SCIENTIFIQUE                  MATH PHYSIQUE   \n",
       "2                 60.0    ECONOMIE ET COMMERCE                       ECONOMIE   \n",
       "3                  0.0               TECHNIQUE  COMMERCIALE ET ADMINISTRATIVE   \n",
       "4                 53.0              LITTERAIRE                    LATIN PHILO   \n",
       "5                 52.0               TECHNIQUE                        SOCIALE   \n",
       "6                 60.0                     TEC                             CA   \n",
       "7                 51.0            PEDAGOGIEQUE                  PEDA GENERALE   \n",
       "8                 52.0                     PED                             PG   \n",
       "9                 51.0            PEDAGOGIEQUE                  PEDA GENERALE   \n",
       "10                62.0               MECANIQUE             MECANIQUE GENERALE   \n",
       "11                52.0  TECHNIQUE INDUSTRIELLE                    ELECTRICITE   \n",
       "12                51.0               TECHNIQUE                COMMERCIALE ADM   \n",
       "13                52.0             Pédagogique             Pédagogie Générale   \n",
       "14                52.0            SCIENTIFIQUE                     BIO CHIMIE   \n",
       "15                59.0            PEDAGOGIEQUE                  PEDA GENERALE   \n",
       "16                58.0            SCIENTIFIQUE                  MATH PHYSIQUE   \n",
       "17                55.0            PEDAGOGIEQUE                  PEDA GENERALE   \n",
       "18                60.0            PEDAGOGIEQUE                  PEDA GENERALE   \n",
       "19                62.0               TECHNIQUE                        SOCIALE   \n",
       "20                58.0                    MECA                  MACHINE OUTIL   \n",
       "21                55.0                    TECH                             CA   \n",
       "22                50.0            PEDAGOGIEQUE                  PEDA GENERALE   \n",
       "23                50.0             Pédagogique             Pédagogie Générale   \n",
       "24                53.0              LITTERAIRE                    LATIN PHILO   \n",
       "25                51.0               Technique                        Sociale   \n",
       "26                51.0            PEDAGOGIEQUE                  PEDA GENERALE   \n",
       "27                52.0            PEDAGOGIEQUE                  PEDA GENERALE   \n",
       "28                50.0            PEDAGOGIEQUE                  PEDA GENERALE   \n",
       "29                52.0            PEDAGOGIEQUE                  PËDA GENERALE   \n",
       "...                ...                     ...                            ...   \n",
       "4008              51.0               PEDAGOGIE             PEDAGOGIE GENERALE   \n",
       "4009              51.0               TECHNIQUE                        Sociale   \n",
       "4010              52.0               PEDAGOGIE             PEDAGOGIE GENERALE   \n",
       "4011              50.0               TECHNIQUE                        Sociale   \n",
       "4012              61.0               PEDAGOGIE             PEDAGOGIE GENERALE   \n",
       "4013              65.0             COMMERCIALE     COMMERCIALE ADMINISTRATIVE   \n",
       "4014              62.0               TECHNIQUE                   ELECTRONIQUE   \n",
       "4015              62.0            SCIENTIFIQUE                     BIO CHIMIE   \n",
       "4016              51.0               TECHNIQUE                      Nutrition   \n",
       "4017              60.0               PEDAGOGIE             PEDAGOGIE GENERALE   \n",
       "4018              53.0             COMMERCIALE       COMMERCIALE INFORMATIQUE   \n",
       "4019              52.0               PEDAGOGIE             PEDAGOGIE GENERALE   \n",
       "4020              51.0               TECHNIQUE                        Sociale   \n",
       "4021              50.0             COMMERCIALE     COMMERCIALE ADMINISTRATIVE   \n",
       "4022              55.0             COMMERCIALE     COMMERCIALE ADMINISTRATIVE   \n",
       "4023              63.0            SCIENTIFIQUE          Mathématique Physique   \n",
       "4024              57.0               PEDAGOGIE             PEDAGOGIE GENERALE   \n",
       "4025              57.0               TECHNIQUE                        Sociale   \n",
       "4026              54.0               TECHNIQUE                        Sociale   \n",
       "4027              50.0               TECHNIQUE                        Sociale   \n",
       "4028              51.0               Technique                        Sociale   \n",
       "4029              53.0               TECHNIQUE             MECANIQUE GENERALE   \n",
       "4030              72.0            SCIENTIFIQUE                     BIO CHIMIE   \n",
       "4031              54.0               PEDAGOGIE             PEDAGOGIE GENERALE   \n",
       "4032             645.0            SCIENTIFIQUE                     BIO CHIMIE   \n",
       "4033              50.0              LITTERAIRE                    LATIN PHILO   \n",
       "4034              54.0             PÉDAGOGIQUE             PEDAGOGIE GENERALE   \n",
       "4035              53.0               PEDAGOGIE             PEDAGOGIE GENERALE   \n",
       "4036              58.0             COMMERCIALE     COMMERCIALE ADMINISTRATIVE   \n",
       "4037              60.0                     dfd                            fdf   \n",
       "\n",
       "                                  SCHOOL SCHOOLPROVINCE SCHOOLSTATUS  \\\n",
       "0                         INSTITUT VUNGI      NORD-KIVU      inconnu   \n",
       "1                        INSTITUT FARAJA      NORD-KIVU      inconnu   \n",
       "2                          ESISE/GISENYI        inconnu      inconnu   \n",
       "3                             C,S, UMOJA      NORD-KIVU      inconnu   \n",
       "4                 INST TUPENDANE/KOLWEZI        KATANGA      inconnu   \n",
       "5                        INSTITUT MIKENO      NORD-KIVU      inconnu   \n",
       "6                                   AUTO      NORD-KIVU      inconnu   \n",
       "7                     INSTITUT MONT GOMA      NORD-KIVU      inconnu   \n",
       "8                              BUTURANDE      NORD-KIVU      inconnu   \n",
       "9                            INST AMKENI      NORD-KIVU      inconnu   \n",
       "10                                  ITIG      NORD-KIVU      inconnu   \n",
       "11                                  ITIG      NORD-KIVU      inconnu   \n",
       "12                    INST IMAKI/KIRUMBA      NORD-KIVU      inconnu   \n",
       "13                             Buturande      NORD-KIVU      inconnu   \n",
       "14                      INSTITUT MAJENGO      NORD-KIVU      inconnu   \n",
       "15                       INSTITUT VISOKE      NORD-KIVU      inconnu   \n",
       "16                        INST KITUMAINI       SUD-KIVU      inconnu   \n",
       "17                             MONT AMBA       KINSHASA      inconnu   \n",
       "18                          C.S. LUMIERE        inconnu      inconnu   \n",
       "19                        LYCEE CHEMCHEM      NORD-KIVU      inconnu   \n",
       "20                              ITFM/BKV       SUD-KIVU      inconnu   \n",
       "21                            I D'IBANDA       SUD-KIVU      inconnu   \n",
       "22                       INSTITUT TONGIL        inconnu      inconnu   \n",
       "23                                Visoke            N/K      inconnu   \n",
       "24                       INSTITUT MWANGA      NORD-KIVU      inconnu   \n",
       "25                            Mikeno Isl      NORD-KIVU      inconnu   \n",
       "26                           INST MINOVA       SUD-KIVU      inconnu   \n",
       "27                      INST BUKINANYANA       SUD-KIVU      inconnu   \n",
       "28                           AUTODIDACTE      NORD-KIVU      inconnu   \n",
       "29                             INST BORA      NORD-KIVU      inconnu   \n",
       "...                                  ...            ...          ...   \n",
       "4008                      Institut LINZO      NORD-KIVU   protestant   \n",
       "4009               GS LUMIÈRE DU PROGRES      NORD-KIVU        privé   \n",
       "4010                  INSTITUT TUWUNGANE      NORD-KIVU     publique   \n",
       "4011                Institut kalimabenge       SUD-KIVU        privé   \n",
       "4012                           A. IBANDA       SUD-KIVU     publique   \n",
       "4013                   Institut METANOIA      NORD-KIVU   protestant   \n",
       "4014  Institut Technique Ind. de MAHAMBA      NORD-KIVU   catholique   \n",
       "4015                   Institut METANOIA      NORD-KIVU   protestant   \n",
       "4016                   Institut  Kilokwa      NORD-KIVU   protestant   \n",
       "4017                  Institut de BAGIRA       SUD-KIVU     publique   \n",
       "4018                    Institut TUMAINI      NORD-KIVU   protestant   \n",
       "4019                             CS KABA      NORD-KIVU        privé   \n",
       "4020                   Institut KIVISIRE      NORD-KIVU   protestant   \n",
       "4021                 Institut de Kirumba      NORD-KIVU   protestant   \n",
       "4022                       Lycée BUTEMBO      NORD-KIVU   catholique   \n",
       "4023                    Institut Majengo      NORD-KIVU   protestant   \n",
       "4024                         EDACK/ISGEA      ORIENTALE        privé   \n",
       "4025                      IDAP/ISP BUNIA      ORIENTALE        privé   \n",
       "4026                         EDACK/ISGEA      ORIENTALE        privé   \n",
       "4027                  Lycée Saint Ursule      NORD-KIVU   catholique   \n",
       "4028                Institut Mont Carmel      NORD-KIVU   catholique   \n",
       "4029                  Institut MARANATHA      NORD-KIVU   protestant   \n",
       "4030            Institut ISIDORE BANKAJA      NORD-KIVU   catholique   \n",
       "4031                     Institut MWANZO       SUD-KIVU     publique   \n",
       "4032               College John MABWINDI       KINSHASA   protestant   \n",
       "4033                     CS LA SAPINIERE       SUD-KIVU        privé   \n",
       "4034                     Institut BUHALA      NORD-KIVU     publique   \n",
       "4035                           CS TSIESI      NORD-KIVU        privé   \n",
       "4036                    Institut de Goma      NORD-KIVU     publique   \n",
       "4037                                 fdf       BANDUNDU  autodidacte   \n",
       "\n",
       "                               ACADYEAR  \\\n",
       "0                           [2012-2013]   \n",
       "1                           [2015-2016]   \n",
       "2                           [2015-2016]   \n",
       "3                           [2013-2014]   \n",
       "4                [2014-2015, 2015-2016]   \n",
       "5                           [2014-2015]   \n",
       "6                           [2014-2015]   \n",
       "7                [2013-2014, 2014-2015]   \n",
       "8                [2013-2014, 2014-2015]   \n",
       "9                           [2013-2014]   \n",
       "10               [2014-2015, 2015-2016]   \n",
       "11                          [2013-2014]   \n",
       "12                          [2015-2016]   \n",
       "13                          [2013-2014]   \n",
       "14                          [2015-2016]   \n",
       "15                          [2013-2014]   \n",
       "16                          [2015-2016]   \n",
       "17    [2013-2014, 2014-2015, 2015-2016]   \n",
       "18                          [2014-2015]   \n",
       "19                          [2013-2014]   \n",
       "20                          [2013-2014]   \n",
       "21                          [2014-2015]   \n",
       "22                          [2013-2014]   \n",
       "23    [2013-2014, 2014-2015, 2015-2016]   \n",
       "24                          [2013-2014]   \n",
       "25                          [2013-2014]   \n",
       "26               [2013-2014, 2014-2015]   \n",
       "27                          [2013-2014]   \n",
       "28                          [2013-2014]   \n",
       "29                          [2014-2015]   \n",
       "...                                 ...   \n",
       "4008                        [2015-2016]   \n",
       "4009                        [2015-2016]   \n",
       "4010                        [2015-2016]   \n",
       "4011                        [2015-2016]   \n",
       "4012                        [2015-2016]   \n",
       "4013                        [2015-2016]   \n",
       "4014                        [2015-2016]   \n",
       "4015                        [2015-2016]   \n",
       "4016                        [2015-2016]   \n",
       "4017                        [2015-2016]   \n",
       "4018                        [2015-2016]   \n",
       "4019                        [2015-2016]   \n",
       "4020                        [2015-2016]   \n",
       "4021                        [2015-2016]   \n",
       "4022                        [2015-2016]   \n",
       "4023                        [2015-2016]   \n",
       "4024                        [2015-2016]   \n",
       "4025                        [2015-2016]   \n",
       "4026                        [2015-2016]   \n",
       "4027                        [2015-2016]   \n",
       "4028                        [2015-2016]   \n",
       "4029                        [2015-2016]   \n",
       "4030                        [2015-2016]   \n",
       "4031                        [2015-2016]   \n",
       "4032                        [2015-2016]   \n",
       "4033                        [2015-2016]   \n",
       "4034                        [2015-2016]   \n",
       "4035                        [2015-2016]   \n",
       "4036                        [2015-2016]   \n",
       "4037                        [2015-2016]   \n",
       "\n",
       "                                                    FAC  \\\n",
       "0                                      Faculté de Droit   \n",
       "1        Faculté des Sciences Économiques et de Gestion   \n",
       "2        Faculté des Sciences Économiques et de Gestion   \n",
       "3                                      Faculté de Droit   \n",
       "4                                      Faculté de Droit   \n",
       "5        Faculté des Sciences Économiques et de Gestion   \n",
       "6        Faculté des Sciences Économiques et de Gestion   \n",
       "7        Faculté des Sciences Économiques et de Gestion   \n",
       "8     Faculté de Psychologie et des Sciences de l'Éd...   \n",
       "9                                  Faculté de Théologie   \n",
       "10      Faculté des Sciences et Technologies Appliquées   \n",
       "11      Faculté des Sciences et Technologies Appliquées   \n",
       "12                                  Faculté de Médecine   \n",
       "13    Faculté de Psychologie et des Sciences de l'Éd...   \n",
       "14     Faculté de Santé et Développement Communautaires   \n",
       "15     Faculté de Santé et Développement Communautaires   \n",
       "16     Faculté de Santé et Développement Communautaires   \n",
       "17     Faculté de Santé et Développement Communautaires   \n",
       "18     Faculté de Santé et Développement Communautaires   \n",
       "19     Faculté de Santé et Développement Communautaires   \n",
       "20      Faculté des Sciences et Technologies Appliquées   \n",
       "21       Faculté des Sciences Économiques et de Gestion   \n",
       "22    Faculté de Psychologie et des Sciences de l'Éd...   \n",
       "23    Faculté de Psychologie et des Sciences de l'Éd...   \n",
       "24       Faculté des Sciences Économiques et de Gestion   \n",
       "25                                     Faculté de Droit   \n",
       "26                                     Faculté de Droit   \n",
       "27                                 Faculté de Théologie   \n",
       "28                                 Faculté de Théologie   \n",
       "29     Faculté de Santé et Développement Communautaires   \n",
       "...                                                 ...   \n",
       "4008                               Faculté de Théologie   \n",
       "4009                                   Faculté de Droit   \n",
       "4010                               Faculté de Théologie   \n",
       "4011                                   Faculté de Droit   \n",
       "4012                                   Faculté de Droit   \n",
       "4013    Faculté des Sciences et Technologies Appliquées   \n",
       "4014    Faculté des Sciences et Technologies Appliquées   \n",
       "4015    Faculté des Sciences et Technologies Appliquées   \n",
       "4016                               Faculté de Théologie   \n",
       "4017     Faculté des Sciences Économiques et de Gestion   \n",
       "4018     Faculté des Sciences Économiques et de Gestion   \n",
       "4019     Faculté des Sciences Économiques et de Gestion   \n",
       "4020                               Faculté de Théologie   \n",
       "4021                               Faculté de Théologie   \n",
       "4022     Faculté des Sciences Économiques et de Gestion   \n",
       "4023    Faculté des Sciences et Technologies Appliquées   \n",
       "4024     Faculté des Sciences Économiques et de Gestion   \n",
       "4025     Faculté des Sciences Économiques et de Gestion   \n",
       "4026     Faculté des Sciences Économiques et de Gestion   \n",
       "4027     Faculté des Sciences Économiques et de Gestion   \n",
       "4028    Faculté des Sciences et Technologies Appliquées   \n",
       "4029    Faculté des Sciences et Technologies Appliquées   \n",
       "4030     Faculté des Sciences Économiques et de Gestion   \n",
       "4031                                   Faculté de Droit   \n",
       "4032                                Faculté de Médecine   \n",
       "4033                                   Faculté de Droit   \n",
       "4034     Faculté des Sciences Économiques et de Gestion   \n",
       "4035                                   Faculté de Droit   \n",
       "4036     Faculté des Sciences Économiques et de Gestion   \n",
       "4037                                   Faculté de Droit   \n",
       "\n",
       "                                                  MENT1  \\\n",
       "0                                    [ADMIS AU MEMOIRE]   \n",
       "1                               [ASSIMILE AUX AJOURNES]   \n",
       "2                        [ADMIS AU STAGE ET AU MEMOIRE]   \n",
       "3                               [ASSIMILE AUX AJOURNES]   \n",
       "4        [ASSIMILE AUX AJOURNES, ASSIMILE AUX AJOURNES]   \n",
       "5                               [ASSIMILE AUX AJOURNES]   \n",
       "6                               [ASSIMILE AUX AJOURNES]   \n",
       "7        [ASSIMILE AUX AJOURNES, ASSIMILE AUX AJOURNES]   \n",
       "8                           [AJOURNE, ADMIS AU MEMOIRE]   \n",
       "9                                    [ADMIS AU MEMOIRE]   \n",
       "10       [ASSIMILE AUX AJOURNES, ASSIMILE AUX AJOURNES]   \n",
       "11                                            [AJOURNE]   \n",
       "12                                            [AJOURNE]   \n",
       "13                                            [AJOURNE]   \n",
       "14                                   [ADMIS AU MEMOIRE]   \n",
       "15                                   [ADMIS AU MEMOIRE]   \n",
       "16                              [ASSIMILE AUX AJOURNES]   \n",
       "17    [AJOURNE, ASSIMILE AUX AJOURNES, ADMIS AU MEMO...   \n",
       "18                              [ASSIMILE AUX AJOURNES]   \n",
       "19                              [ASSIMILE AUX AJOURNES]   \n",
       "20                              [ASSIMILE AUX AJOURNES]   \n",
       "21                              [ASSIMILE AUX AJOURNES]   \n",
       "22                                            [AJOURNE]   \n",
       "23    [ADMIS AU TFC, ASSIMILE AUX AJOURNES, ADMIS AU...   \n",
       "24                              [ASSIMILE AUX AJOURNES]   \n",
       "25                              [ASSIMILE AUX AJOURNES]   \n",
       "26                     [ASSIMILE AUX AJOURNES, AJOURNE]   \n",
       "27                              [ASSIMILE AUX AJOURNES]   \n",
       "28                       [ADMIS AU STAGE ET AU MEMOIRE]   \n",
       "29                              [ASSIMILE AUX AJOURNES]   \n",
       "...                                                 ...   \n",
       "4008                            [ASSIMILE AUX AJOURNES]   \n",
       "4009                                          [AJOURNE]   \n",
       "4010                            [ASSIMILE AUX AJOURNES]   \n",
       "4011                                          [AJOURNE]   \n",
       "4012                            [ASSIMILE AUX AJOURNES]   \n",
       "4013                            [ASSIMILE AUX AJOURNES]   \n",
       "4014                            [ASSIMILE AUX AJOURNES]   \n",
       "4015                            [ASSIMILE AUX AJOURNES]   \n",
       "4016                            [ASSIMILE AUX AJOURNES]   \n",
       "4017                                          [AJOURNE]   \n",
       "4018                            [ASSIMILE AUX AJOURNES]   \n",
       "4019                            [ASSIMILE AUX AJOURNES]   \n",
       "4020                            [ASSIMILE AUX AJOURNES]   \n",
       "4021                            [ASSIMILE AUX AJOURNES]   \n",
       "4022                                          [AJOURNE]   \n",
       "4023                                          [AJOURNE]   \n",
       "4024                            [ASSIMILE AUX AJOURNES]   \n",
       "4025                                          [AJOURNE]   \n",
       "4026                                          [AJOURNE]   \n",
       "4027                            [ASSIMILE AUX AJOURNES]   \n",
       "4028                            [ASSIMILE AUX AJOURNES]   \n",
       "4029                            [ASSIMILE AUX AJOURNES]   \n",
       "4030                            [ASSIMILE AUX AJOURNES]   \n",
       "4031                            [ASSIMILE AUX AJOURNES]   \n",
       "4032                            [ASSIMILE AUX AJOURNES]   \n",
       "4033                            [ASSIMILE AUX AJOURNES]   \n",
       "4034                            [ASSIMILE AUX AJOURNES]   \n",
       "4035                            [ASSIMILE AUX AJOURNES]   \n",
       "4036                            [ASSIMILE AUX AJOURNES]   \n",
       "4037                            [ASSIMILE AUX AJOURNES]   \n",
       "\n",
       "                                                  MENT2  \\\n",
       "0                                        [SATISFACTION]   \n",
       "1                                             [AJOURNE]   \n",
       "2                                        [SATISFACTION]   \n",
       "3                                             [AJOURNE]   \n",
       "4     [SATISFACTION, NON ADMISSIBLE DS LA MEME FILIERE]   \n",
       "5                                             [AJOURNE]   \n",
       "6                                             [AJOURNE]   \n",
       "7                          [SATISFACTION, SATISFACTION]   \n",
       "8                          [SATISFACTION, SATISFACTION]   \n",
       "9                                        [SATISFACTION]   \n",
       "10                              [AJOURNE, SATISFACTION]   \n",
       "11                                            [AJOURNE]   \n",
       "12                                       [SATISFACTION]   \n",
       "13                                       [SATISFACTION]   \n",
       "14                                       [SATISFACTION]   \n",
       "15                                       [SATISFACTION]   \n",
       "16                              [ASSIMILE AUX AJOURNES]   \n",
       "17       [AJOURNE, ASSIMILE AUX AJOURNES, SATISFACTION]   \n",
       "18                              [ASSIMILE AUX AJOURNES]   \n",
       "19                                            [AJOURNE]   \n",
       "20                                            [AJOURNE]   \n",
       "21                                       [SATISFACTION]   \n",
       "22                                       [SATISFACTION]   \n",
       "23           [SATISFACTION, SATISFACTION, SATISFACTION]   \n",
       "24                                       [SATISFACTION]   \n",
       "25                                            [AJOURNE]   \n",
       "26                         [SATISFACTION, SATISFACTION]   \n",
       "27                              [ASSIMILE AUX AJOURNES]   \n",
       "28                                       [SATISFACTION]   \n",
       "29                                       [SATISFACTION]   \n",
       "...                                                 ...   \n",
       "4008                                     [SATISFACTION]   \n",
       "4009                                     [SATISFACTION]   \n",
       "4010                                     [SATISFACTION]   \n",
       "4011                                     [SATISFACTION]   \n",
       "4012                                          [AJOURNE]   \n",
       "4013                                     [SATISFACTION]   \n",
       "4014                                      [DISTINCTION]   \n",
       "4015                                      [DISTINCTION]   \n",
       "4016                                          [AJOURNE]   \n",
       "4017                                     [SATISFACTION]   \n",
       "4018                                     [SATISFACTION]   \n",
       "4019                                          [AJOURNE]   \n",
       "4020                                     [SATISFACTION]   \n",
       "4021                                          [AJOURNE]   \n",
       "4022                                     [SATISFACTION]   \n",
       "4023                                     [SATISFACTION]   \n",
       "4024                                          [AJOURNE]   \n",
       "4025                                     [SATISFACTION]   \n",
       "4026                                     [SATISFACTION]   \n",
       "4027                                     [SATISFACTION]   \n",
       "4028                                          [AJOURNE]   \n",
       "4029                                     [SATISFACTION]   \n",
       "4030                                     [SATISFACTION]   \n",
       "4031                                          [AJOURNE]   \n",
       "4032                                     [SATISFACTION]   \n",
       "4033                                     [SATISFACTION]   \n",
       "4034                                          [AJOURNE]   \n",
       "4035                                     [SATISFACTION]   \n",
       "4036                                          [AJOURNE]   \n",
       "4037                [NON ADMISSIBLE DS LA MEME FILIERE]   \n",
       "\n",
       "                                                 OPT                 PERC1  \\\n",
       "0                          Droit Privé et Judiciaire                 [nan]   \n",
       "1                                       Tronc commun                 [nan]   \n",
       "2                            Gestion des Entreprises                 [nan]   \n",
       "3                                       Tronc commun                 [nan]   \n",
       "4                                       Droit Public            [nan, nan]   \n",
       "5                            Gestion des Entreprises                 [nan]   \n",
       "6                                 Gestion Financière                 [nan]   \n",
       "7                                 Gestion Financière            [nan, nan]   \n",
       "8                            Sciences de l'Éducation  [58.7000007629, nan]   \n",
       "9                                       Tronc commun       [61.0999984741]   \n",
       "10                                       Génie Civil            [nan, nan]   \n",
       "11                                       Génie Civil                 [nan]   \n",
       "12                                           Bio-Méd       [57.0999984741]   \n",
       "13                Psychologie / Psychologie clinique       [52.5999984741]   \n",
       "14    Gestion et Administration des Projets de Santé                 [nan]   \n",
       "15             Santé et Développement Communautaires                 [nan]   \n",
       "16                                      Tronc commun                 [nan]   \n",
       "17                               Santé Communautaire       [nan, nan, nan]   \n",
       "18                                      Tronc commun                 [nan]   \n",
       "19                            Santé Environnementale                 [nan]   \n",
       "20                                       Génie Civil                 [nan]   \n",
       "21                                Gestion Financière                 [nan]   \n",
       "22                Psychologie / Psychologie clinique       [48.2000007629]   \n",
       "23                           Sciences de l'Éducation       [nan, nan, nan]   \n",
       "24                                Économie Monétaire                 [nan]   \n",
       "25                                      Tronc commun                 [nan]   \n",
       "26                                      Droit Public            [nan, nan]   \n",
       "27                                      Tronc commun                 [nan]   \n",
       "28                                      Tronc commun                 [nan]   \n",
       "29    Gestion et Administration des Projets de Santé                 [nan]   \n",
       "...                                              ...                   ...   \n",
       "4008                                    Tronc commun                 [nan]   \n",
       "4009                                    Tronc commun       [47.9000015259]   \n",
       "4010                                    Tronc commun                 [nan]   \n",
       "4011                                    Tronc commun       [59.2999992371]   \n",
       "4012                       Droit Privé et Judiciaire                 [nan]   \n",
       "4013                              Génie Informatique                 [nan]   \n",
       "4014                              Génie Informatique                 [nan]   \n",
       "4015                              Génie Informatique                 [nan]   \n",
       "4016                                    Tronc commun                 [nan]   \n",
       "4017                              Économie Monétaire                [53.0]   \n",
       "4018                           Économie Industrielle                 [nan]   \n",
       "4019                                    Tronc commun                 [nan]   \n",
       "4020                                    Tronc commun                 [nan]   \n",
       "4021                                    Tronc commun                 [nan]   \n",
       "4022                         Gestion des Entreprises       [44.5999984741]   \n",
       "4023                                    Tronc commun       [43.7000007629]   \n",
       "4024                         Gestion des Entreprises                 [nan]   \n",
       "4025                         Gestion des Entreprises       [48.5999984741]   \n",
       "4026                         Gestion des Entreprises       [46.2999992371]   \n",
       "4027                                    Tronc commun                 [nan]   \n",
       "4028                                    Tronc commun                 [nan]   \n",
       "4029                                    Tronc commun                 [nan]   \n",
       "4030                                    Tronc commun                 [nan]   \n",
       "4031                                    Tronc commun                 [nan]   \n",
       "4032                                         Bio-Méd                 [nan]   \n",
       "4033                                    Tronc commun                 [nan]   \n",
       "4034                                    Tronc commun                 [nan]   \n",
       "4035                                    Tronc commun                 [nan]   \n",
       "4036                              Économie Monétaire                 [nan]   \n",
       "4037                                    Tronc commun                 [nan]   \n",
       "\n",
       "                                              PERC2          PROM  \n",
       "0                                   [63.0999984741]          [L2]  \n",
       "1                                   [52.2000007629]          [G2]  \n",
       "2                                   [59.9000015259]          [L2]  \n",
       "3                                             [nan]          [G1]  \n",
       "4                              [61.4000015259, nan]      [L1, L2]  \n",
       "5                                             [nan]          [L2]  \n",
       "6                                             [nan]          [L2]  \n",
       "7                             [56.0, 62.5999984741]      [L1, L2]  \n",
       "8                             [63.0, 68.3000030518]      [L1, L2]  \n",
       "9                                   [61.0999984741]          [L2]  \n",
       "10                             [nan, 61.0999984741]   [G3, Tech1]  \n",
       "11                                            [nan]       [Tech2]  \n",
       "12                                  [59.2000007629]          [G2]  \n",
       "13                                  [62.7000007629]          [L2]  \n",
       "14                                  [68.1999969482]          [L2]  \n",
       "15                                  [65.9000015259]          [L2]  \n",
       "16                                            [nan]          [G3]  \n",
       "17                        [nan, nan, 62.7000007629]  [L2, L2, L2]  \n",
       "18                                            [nan]          [G3]  \n",
       "19                                            [nan]          [L2]  \n",
       "20                                            [nan]       [Tech2]  \n",
       "21                                  [61.5999984741]          [L2]  \n",
       "22                                           [59.0]          [L2]  \n",
       "23    [59.2999992371, 59.2000007629, 63.5999984741]  [G3, L1, L2]  \n",
       "24                                  [66.1999969482]          [L2]  \n",
       "25                                            [nan]          [G1]  \n",
       "26                   [53.5999984741, 59.4000015259]      [L1, L2]  \n",
       "27                                            [nan]          [L2]  \n",
       "28                                  [60.0999984741]          [L2]  \n",
       "29                                           [62.0]          [L2]  \n",
       "...                                             ...           ...  \n",
       "4008                                [60.5999984741]          [G1]  \n",
       "4009                                [55.9000015259]          [G1]  \n",
       "4010                                [62.5999984741]          [G1]  \n",
       "4011                                [62.0999984741]          [G2]  \n",
       "4012                                         [50.0]          [L1]  \n",
       "4013                                         [64.5]       [Tech1]  \n",
       "4014                                [71.9000015259]       [Tech1]  \n",
       "4015                                         [74.5]       [Tech1]  \n",
       "4016                                          [nan]          [G1]  \n",
       "4017                                [56.7999992371]          [L1]  \n",
       "4018                                [56.2000007629]          [L1]  \n",
       "4019                                [49.4000015259]          [G1]  \n",
       "4020                                [65.3000030518]          [G1]  \n",
       "4021                                [49.4000015259]          [G1]  \n",
       "4022                                [55.4000015259]          [L1]  \n",
       "4023                                [55.7999992371]          [G0]  \n",
       "4024                                [48.7999992371]          [L1]  \n",
       "4025                                [58.2999992371]          [L1]  \n",
       "4026                                [54.2999992371]          [L1]  \n",
       "4027                                         [55.5]          [G1]  \n",
       "4028                                [49.7999992371]          [G0]  \n",
       "4029                                [56.2999992371]          [G1]  \n",
       "4030                                [65.3000030518]          [G1]  \n",
       "4031                                [47.9000015259]          [G1]  \n",
       "4032                                [61.5999984741]          [G1]  \n",
       "4033                                [58.5999984741]          [G1]  \n",
       "4034                                          [nan]          [G1]  \n",
       "4035                                [59.7999992371]          [G2]  \n",
       "4036                                [50.7999992371]          [L1]  \n",
       "4037                                          [nan]          [G1]  \n",
       "\n",
       "[4038 rows x 18 columns]"
      ]
     },
     "execution_count": 62,
     "metadata": {},
     "output_type": "execute_result"
    }
   ],
   "source": [
    "datasetV1"
   ]
  },
  {
   "cell_type": "markdown",
   "metadata": {},
   "source": [
    "apres groupement en fonction des matricules nous venons de remarquer que notre ensemble comprend 4038 rows et  18 columns et c'est sera notre ensemble pour notre étude "
   ]
  },
  {
   "cell_type": "markdown",
   "metadata": {},
   "source": [
    "cette ensemble est subdivisé en variables d'entré et variables de sortie!"
   ]
  },
  {
   "cell_type": "code",
   "execution_count": 14,
   "metadata": {
    "collapsed": true
   },
   "outputs": [],
   "source": [
    "datasetIn=pd.DataFrame(datasetV1[inCol])"
   ]
  },
  {
   "cell_type": "code",
   "execution_count": 15,
   "metadata": {
    "collapsed": true
   },
   "outputs": [],
   "source": [
    "datasetOut=pd.DataFrame(datasetV1[['IDENTIFICATION']+outCol])"
   ]
  },
  {
   "cell_type": "code",
   "execution_count": 164,
   "metadata": {},
   "outputs": [
    {
     "data": {
      "text/html": [
       "<div>\n",
       "<style>\n",
       "    .dataframe thead tr:only-child th {\n",
       "        text-align: right;\n",
       "    }\n",
       "\n",
       "    .dataframe thead th {\n",
       "        text-align: left;\n",
       "    }\n",
       "\n",
       "    .dataframe tbody tr th {\n",
       "        vertical-align: top;\n",
       "    }\n",
       "</style>\n",
       "<table border=\"1\" class=\"dataframe\">\n",
       "  <thead>\n",
       "    <tr style=\"text-align: right;\">\n",
       "      <th></th>\n",
       "      <th>IDENTIFICATION</th>\n",
       "      <th>ACADYEAR</th>\n",
       "      <th>PERC1</th>\n",
       "      <th>MENT1</th>\n",
       "      <th>PERC2</th>\n",
       "      <th>MENT2</th>\n",
       "      <th>FAC</th>\n",
       "      <th>OPT</th>\n",
       "      <th>PROM</th>\n",
       "    </tr>\n",
       "  </thead>\n",
       "  <tbody>\n",
       "    <tr>\n",
       "      <th>0</th>\n",
       "      <td>215</td>\n",
       "      <td>[2012-2013]</td>\n",
       "      <td>[nan]</td>\n",
       "      <td>[ADMIS AU MEMOIRE]</td>\n",
       "      <td>[63.0999984741]</td>\n",
       "      <td>[SATISFACTION]</td>\n",
       "      <td>Faculté de Droit</td>\n",
       "      <td>Droit Privé et Judiciaire</td>\n",
       "      <td>[L2]</td>\n",
       "    </tr>\n",
       "    <tr>\n",
       "      <th>1</th>\n",
       "      <td>343</td>\n",
       "      <td>[2015-2016]</td>\n",
       "      <td>[nan]</td>\n",
       "      <td>[ASSIMILE AUX AJOURNES]</td>\n",
       "      <td>[52.2000007629]</td>\n",
       "      <td>[AJOURNE]</td>\n",
       "      <td>Faculté des Sciences Économiques et de Gestion</td>\n",
       "      <td>Tronc commun</td>\n",
       "      <td>[G2]</td>\n",
       "    </tr>\n",
       "    <tr>\n",
       "      <th>2</th>\n",
       "      <td>356</td>\n",
       "      <td>[2015-2016]</td>\n",
       "      <td>[nan]</td>\n",
       "      <td>[ADMIS AU STAGE ET AU MEMOIRE]</td>\n",
       "      <td>[59.9000015259]</td>\n",
       "      <td>[SATISFACTION]</td>\n",
       "      <td>Faculté des Sciences Économiques et de Gestion</td>\n",
       "      <td>Gestion des Entreprises</td>\n",
       "      <td>[L2]</td>\n",
       "    </tr>\n",
       "    <tr>\n",
       "      <th>3</th>\n",
       "      <td>429</td>\n",
       "      <td>[2013-2014]</td>\n",
       "      <td>[nan]</td>\n",
       "      <td>[ASSIMILE AUX AJOURNES]</td>\n",
       "      <td>[nan]</td>\n",
       "      <td>[AJOURNE]</td>\n",
       "      <td>Faculté de Droit</td>\n",
       "      <td>Tronc commun</td>\n",
       "      <td>[G1]</td>\n",
       "    </tr>\n",
       "    <tr>\n",
       "      <th>4</th>\n",
       "      <td>645</td>\n",
       "      <td>[2014-2015, 2015-2016]</td>\n",
       "      <td>[nan, nan]</td>\n",
       "      <td>[ASSIMILE AUX AJOURNES, ASSIMILE AUX AJOURNES]</td>\n",
       "      <td>[61.4000015259, nan]</td>\n",
       "      <td>[SATISFACTION, NON ADMISSIBLE DS LA MEME FILIERE]</td>\n",
       "      <td>Faculté de Droit</td>\n",
       "      <td>Droit Public</td>\n",
       "      <td>[L1, L2]</td>\n",
       "    </tr>\n",
       "    <tr>\n",
       "      <th>5</th>\n",
       "      <td>665</td>\n",
       "      <td>[2014-2015]</td>\n",
       "      <td>[nan]</td>\n",
       "      <td>[ASSIMILE AUX AJOURNES]</td>\n",
       "      <td>[nan]</td>\n",
       "      <td>[AJOURNE]</td>\n",
       "      <td>Faculté des Sciences Économiques et de Gestion</td>\n",
       "      <td>Gestion des Entreprises</td>\n",
       "      <td>[L2]</td>\n",
       "    </tr>\n",
       "    <tr>\n",
       "      <th>6</th>\n",
       "      <td>827</td>\n",
       "      <td>[2014-2015]</td>\n",
       "      <td>[nan]</td>\n",
       "      <td>[ASSIMILE AUX AJOURNES]</td>\n",
       "      <td>[nan]</td>\n",
       "      <td>[AJOURNE]</td>\n",
       "      <td>Faculté des Sciences Économiques et de Gestion</td>\n",
       "      <td>Gestion Financière</td>\n",
       "      <td>[L2]</td>\n",
       "    </tr>\n",
       "    <tr>\n",
       "      <th>7</th>\n",
       "      <td>1061</td>\n",
       "      <td>[2013-2014, 2014-2015]</td>\n",
       "      <td>[nan, nan]</td>\n",
       "      <td>[ASSIMILE AUX AJOURNES, ASSIMILE AUX AJOURNES]</td>\n",
       "      <td>[56.0, 62.5999984741]</td>\n",
       "      <td>[SATISFACTION, SATISFACTION]</td>\n",
       "      <td>Faculté des Sciences Économiques et de Gestion</td>\n",
       "      <td>Gestion Financière</td>\n",
       "      <td>[L1, L2]</td>\n",
       "    </tr>\n",
       "    <tr>\n",
       "      <th>8</th>\n",
       "      <td>1289</td>\n",
       "      <td>[2013-2014, 2014-2015]</td>\n",
       "      <td>[58.7000007629, nan]</td>\n",
       "      <td>[AJOURNE, ADMIS AU MEMOIRE]</td>\n",
       "      <td>[63.0, 68.3000030518]</td>\n",
       "      <td>[SATISFACTION, SATISFACTION]</td>\n",
       "      <td>Faculté de Psychologie et des Sciences de l'Éd...</td>\n",
       "      <td>Sciences de l'Éducation</td>\n",
       "      <td>[L1, L2]</td>\n",
       "    </tr>\n",
       "    <tr>\n",
       "      <th>9</th>\n",
       "      <td>1376</td>\n",
       "      <td>[2013-2014]</td>\n",
       "      <td>[61.0999984741]</td>\n",
       "      <td>[ADMIS AU MEMOIRE]</td>\n",
       "      <td>[61.0999984741]</td>\n",
       "      <td>[SATISFACTION]</td>\n",
       "      <td>Faculté de Théologie</td>\n",
       "      <td>Tronc commun</td>\n",
       "      <td>[L2]</td>\n",
       "    </tr>\n",
       "  </tbody>\n",
       "</table>\n",
       "</div>"
      ],
      "text/plain": [
       "   IDENTIFICATION                ACADYEAR                 PERC1  \\\n",
       "0             215             [2012-2013]                 [nan]   \n",
       "1             343             [2015-2016]                 [nan]   \n",
       "2             356             [2015-2016]                 [nan]   \n",
       "3             429             [2013-2014]                 [nan]   \n",
       "4             645  [2014-2015, 2015-2016]            [nan, nan]   \n",
       "5             665             [2014-2015]                 [nan]   \n",
       "6             827             [2014-2015]                 [nan]   \n",
       "7            1061  [2013-2014, 2014-2015]            [nan, nan]   \n",
       "8            1289  [2013-2014, 2014-2015]  [58.7000007629, nan]   \n",
       "9            1376             [2013-2014]       [61.0999984741]   \n",
       "\n",
       "                                            MENT1                  PERC2  \\\n",
       "0                              [ADMIS AU MEMOIRE]        [63.0999984741]   \n",
       "1                         [ASSIMILE AUX AJOURNES]        [52.2000007629]   \n",
       "2                  [ADMIS AU STAGE ET AU MEMOIRE]        [59.9000015259]   \n",
       "3                         [ASSIMILE AUX AJOURNES]                  [nan]   \n",
       "4  [ASSIMILE AUX AJOURNES, ASSIMILE AUX AJOURNES]   [61.4000015259, nan]   \n",
       "5                         [ASSIMILE AUX AJOURNES]                  [nan]   \n",
       "6                         [ASSIMILE AUX AJOURNES]                  [nan]   \n",
       "7  [ASSIMILE AUX AJOURNES, ASSIMILE AUX AJOURNES]  [56.0, 62.5999984741]   \n",
       "8                     [AJOURNE, ADMIS AU MEMOIRE]  [63.0, 68.3000030518]   \n",
       "9                              [ADMIS AU MEMOIRE]        [61.0999984741]   \n",
       "\n",
       "                                               MENT2  \\\n",
       "0                                     [SATISFACTION]   \n",
       "1                                          [AJOURNE]   \n",
       "2                                     [SATISFACTION]   \n",
       "3                                          [AJOURNE]   \n",
       "4  [SATISFACTION, NON ADMISSIBLE DS LA MEME FILIERE]   \n",
       "5                                          [AJOURNE]   \n",
       "6                                          [AJOURNE]   \n",
       "7                       [SATISFACTION, SATISFACTION]   \n",
       "8                       [SATISFACTION, SATISFACTION]   \n",
       "9                                     [SATISFACTION]   \n",
       "\n",
       "                                                 FAC  \\\n",
       "0                                   Faculté de Droit   \n",
       "1     Faculté des Sciences Économiques et de Gestion   \n",
       "2     Faculté des Sciences Économiques et de Gestion   \n",
       "3                                   Faculté de Droit   \n",
       "4                                   Faculté de Droit   \n",
       "5     Faculté des Sciences Économiques et de Gestion   \n",
       "6     Faculté des Sciences Économiques et de Gestion   \n",
       "7     Faculté des Sciences Économiques et de Gestion   \n",
       "8  Faculté de Psychologie et des Sciences de l'Éd...   \n",
       "9                               Faculté de Théologie   \n",
       "\n",
       "                         OPT      PROM  \n",
       "0  Droit Privé et Judiciaire      [L2]  \n",
       "1               Tronc commun      [G2]  \n",
       "2    Gestion des Entreprises      [L2]  \n",
       "3               Tronc commun      [G1]  \n",
       "4               Droit Public  [L1, L2]  \n",
       "5    Gestion des Entreprises      [L2]  \n",
       "6         Gestion Financière      [L2]  \n",
       "7         Gestion Financière  [L1, L2]  \n",
       "8    Sciences de l'Éducation  [L1, L2]  \n",
       "9               Tronc commun      [L2]  "
      ]
     },
     "execution_count": 164,
     "metadata": {},
     "output_type": "execute_result"
    }
   ],
   "source": [
    "datasetOut.head(10)"
   ]
  },
  {
   "cell_type": "code",
   "execution_count": 79,
   "metadata": {},
   "outputs": [
    {
     "name": "stdout",
     "output_type": "stream",
     "text": [
      "<class 'pandas.core.frame.DataFrame'>\n",
      "RangeIndex: 4038 entries, 0 to 4037\n",
      "Data columns (total 9 columns):\n",
      "IDENTIFICATION    4038 non-null int64\n",
      "ACADYEAR          4038 non-null object\n",
      "PERC1             4038 non-null object\n",
      "MENT1             4038 non-null object\n",
      "PERC2             4038 non-null object\n",
      "MENT2             4038 non-null object\n",
      "FAC               4038 non-null object\n",
      "OPT               4038 non-null object\n",
      "PROM              4038 non-null object\n",
      "dtypes: int64(1), object(8)\n",
      "memory usage: 284.0+ KB\n"
     ]
    }
   ],
   "source": [
    "datasetOut.info()"
   ]
  },
  {
   "cell_type": "markdown",
   "metadata": {},
   "source": [
    "Nous venons de finir avec la presentation des nos données nous allons maintenant debuter avec la phase d'analyse promremendite des donnés que nous avons en entré , ensuite nous fairons une analyse des données en sortie et enfin analyse les donnes des sortie combinées à celles des données en entrée."
   ]
  },
  {
   "cell_type": "markdown",
   "metadata": {},
   "source": [
    "### Analyse des données"
   ]
  },
  {
   "cell_type": "markdown",
   "metadata": {},
   "source": [
    "Cette phase comprend une analyse statistique bivarié et univarié nous visualiserons les résultat à l'aide des graphiques .\n",
    "Dans cette partie nous utiliserons beaucoup plus la statistique descriptives et inferentielle."
   ]
  },
  {
   "cell_type": "code",
   "execution_count": 78,
   "metadata": {},
   "outputs": [
    {
     "name": "stdout",
     "output_type": "stream",
     "text": [
      "<class 'pandas.core.frame.DataFrame'>\n",
      "RangeIndex: 4038 entries, 0 to 4037\n",
      "Data columns (total 10 columns):\n",
      "IDENTIFICATION      4038 non-null int64\n",
      "BIRTHDAY            4038 non-null object\n",
      "NAME                4038 non-null object\n",
      "DIPLOMTYPE          4038 non-null object\n",
      "DIPLOMPERCENTAGE    4038 non-null float64\n",
      "DIPLOMSECTION       4038 non-null object\n",
      "DIPLOMOPTION        4038 non-null object\n",
      "SCHOOL              4038 non-null object\n",
      "SCHOOLPROVINCE      4038 non-null object\n",
      "SCHOOLSTATUS        4038 non-null object\n",
      "dtypes: float64(1), int64(1), object(8)\n",
      "memory usage: 315.5+ KB\n"
     ]
    }
   ],
   "source": [
    "datasetIn.info()"
   ]
  },
  {
   "cell_type": "markdown",
   "metadata": {},
   "source": [
    "Comme nous pous pouvons le remarquer notre ensemble d'apprentissage comprend à la fois des données numeriques (continues ) ainsi que des données discrètes categories.\n",
    "voici comment nous allons procèder"
   ]
  },
  {
   "cell_type": "markdown",
   "metadata": {},
   "source": [
    "#### Statistique Descriptive (Analyse Univarié)"
   ]
  },
  {
   "attachments": {
    "Dataexploration.png": {
     "image/png": "[encoded data removed]"
    }
   },
   "cell_type": "markdown",
   "metadata": {},
   "source": [
    "1. variable Numériques ou continues :\n",
    "Pour les données continues nous allons essayer de comprendre la tendence et la dispertion des nos variables .les metriques utilisées sont sur la figure suivante:\n",
    "\n",
    "![Dataexploration.png](attachment:Dataexploration.png)\n",
    "En bréf nous allons éxaminer le moyenne , le mode , l'ecart-type et la variance , nous conterons aussi les variables nous fairons les visualisations avec des boxplot!\n",
    "cette étape nous sera aussi utile dans le traitement des valeur maquantes et des outliers!\n",
    "2. variable categorielle ou quantitative\n",
    "Pour les données discrètes nous aloons les tables des frequences pour comprendre la distrubution de chaque categorie nous pour aussi voir le pourcentage de chaque categorie , les histogrammes et bar chart seront utilisées. \n"
   ]
  },
  {
   "cell_type": "markdown",
   "metadata": {},
   "source": [
    "####  Statistique Descriptive : ANalyse Bivarié"
   ]
  },
  {
   "cell_type": "markdown",
   "metadata": {},
   "source": [
    "Technique d'analyse statistique des données, consistant à découvrir les relations qui peuvent exister entre les variables prises deux par deux.\n",
    "L'analyse bivariée utilise les mesures d'association entre deux variables à différents niveaux de mesure et les tests d'inférence pour des mesures observées sur deux groupes et sur plus de deux groupes.\n",
    "\n",
    "Source: Becker, William. Uncertainty propagation through large nonlinear models. Diss. University of Sheffield, 2011.\n",
    "de Smith, M. J. \"STATSREF: Statistical Analysis Handbook-a web-based statistics.\" (2015)."
   ]
  },
  {
   "cell_type": "markdown",
   "metadata": {},
   "source": [
    "Nous effecurons cette analyse à 3 niveau :\n",
    "1. Variables Continues et categorielle ou quantitatives\n",
    "Pour effectuer cette analyse nous utiliserons le test ANOVA (Analyse of variance):\n",
    "\n",
    "\u000f Si les deux variables sont liées, la variable quantitative aura des\n",
    "moyennes significativement différentes sur chacun des groupes\n",
    "définis par la variable qualitative.\n",
    "\n",
    "\u000f L’hypothèse H0 est du type :\n",
    "Moyenne G1 = Moyenne G2 = Moyenne G3\n",
    "Conditions d'application\n",
    "\n",
    "\u000f les populations étudiées suivent une distribution normale\n",
    "\n",
    "\n",
    "\u000f les variances des populations sont toutes égales (HOMOSCEDASTICITE)\n",
    "\n",
    "\n",
    "\u000f les échantillons   de tailles   sont prélevés aléatoirement et indépendamment dans les populations.\n",
    "\n",
    "[formule et decision]\n",
    "2. variable Categorielles et Cateorielles\n",
    "\n",
    "Pour ces types des données nous allons effectué le test de chi carré:\n",
    "Le chi carré est un test statistique conçu pour déterminer si la différence\n",
    "entre deux distributions de fréquences est attribuable à l’erreur\n",
    "d’échantillonnage (le hasard) ou est suffisamment grande pour être\n",
    "statistiquement significative.\n",
    "\n",
    "Ho - est, comme son nom l'indique, une hypothèse qui postule qu'il n'y a pas de différence entre les fréquences ou les proportions des deux groupes elle est considére comme hypothèse nulle.\n",
    "\n",
    "Si la différence entre les deux distributions est réduite, l’hypothèse nulle\n",
    "sera acceptée. Si la différence est grande, l’hypothèse nulle sera rejetée.\n",
    "Dans ce dernier cas, on parlera d’une différence statistiquement\n",
    "significative parce que l’écart entre les deux distributions est trop\n",
    "important pour être expliqué par le hasard seulement : une différence\n",
    "réelle existe donc.\n",
    "[Inserrer la formule]\n",
    "\n",
    "3. Variables Continues et Continues \n",
    "\n",
    "Pour les variables continues on utilise cherche la correlation et pour notre travail nous allons utilisée le coeficient de correlation de pearson:\n",
    "Les coefficients de corrélation permettent de donner une mesure synthétique de l'intensité de la relation entre deux caractères et de son sens lorsque cette relation est monotone. Le coefficient de corrélation de Pearson permet d'analyser les relations linéaires et le coefficient de corrélation de Spearman les relations non-linéaires monotones. Il existe d'autres coefficients pour les relations non-linéaires et non-monotones.\n",
    " \n",
    "Signalons que python dispose des mutiples librairies pour effectuer ces genres d'analyse."
   ]
  },
  {
   "cell_type": "markdown",
   "metadata": {},
   "source": [
    "Commencons par l'analyse des données univariés sur les variables d'entré"
   ]
  },
  {
   "cell_type": "code",
   "execution_count": 16,
   "metadata": {},
   "outputs": [
    {
     "name": "stdout",
     "output_type": "stream",
     "text": [
      "<class 'pandas.core.frame.DataFrame'>\n",
      "RangeIndex: 4038 entries, 0 to 4037\n",
      "Data columns (total 10 columns):\n",
      "IDENTIFICATION      4038 non-null int64\n",
      "BIRTHDAY            4038 non-null object\n",
      "NAME                4038 non-null object\n",
      "DIPLOMTYPE          4038 non-null object\n",
      "DIPLOMPERCENTAGE    4038 non-null float64\n",
      "DIPLOMSECTION       4038 non-null object\n",
      "DIPLOMOPTION        4038 non-null object\n",
      "SCHOOL              4038 non-null object\n",
      "SCHOOLPROVINCE      4038 non-null object\n",
      "SCHOOLSTATUS        4038 non-null object\n",
      "dtypes: float64(1), int64(1), object(8)\n",
      "memory usage: 315.5+ KB\n"
     ]
    }
   ],
   "source": [
    "datasetIn.info()"
   ]
  },
  {
   "cell_type": "markdown",
   "metadata": {},
   "source": [
    "Nous remarquons que nous données en entré dispose des 10 colones avec variables quantitatives et qualitatives, "
   ]
  },
  {
   "cell_type": "markdown",
   "metadata": {},
   "source": [
    "###### 1. Variables continues\n",
    "###### a. Attribue Date"
   ]
  },
  {
   "cell_type": "markdown",
   "metadata": {},
   "source": [
    "Type: String"
   ]
  },
  {
   "cell_type": "markdown",
   "metadata": {},
   "source": [
    "Pour nous faciliter la tache nous allons remplacer la date de naissance de chaque individu par son age a ce moment ci et ainsi obtenit un attribue continue de plus."
   ]
  },
  {
   "cell_type": "code",
   "execution_count": 30,
   "metadata": {
    "collapsed": true,
    "scrolled": true
   },
   "outputs": [],
   "source": [
    "from datetime import date\n",
    "datasetIn['BIRTHDAY'] = pd.to_datetime(datasetIn['BIRTHDAY'], format='%Y-%m-%d',errors='coerce')     #convert the time from string to date\n",
    "datasetIn['BIRTHDAY']=datasetIn['BIRTHDAY'].apply(lambda x : date.today().year - x.year - ((date.today().month, date.today().day) < (x.month, x.day)))"
   ]
  },
  {
   "cell_type": "markdown",
   "metadata": {},
   "source": [
    "Valeurs Maquantes : Oui , ils sont causées par des erreurs à l'entré"
   ]
  },
  {
   "cell_type": "code",
   "execution_count": 31,
   "metadata": {},
   "outputs": [
    {
     "data": {
      "text/plain": [
       "67"
      ]
     },
     "execution_count": 31,
     "metadata": {},
     "output_type": "execute_result"
    }
   ],
   "source": [
    "datasetIn['BIRTHDAY'].isnull().sum()"
   ]
  },
  {
   "cell_type": "code",
   "execution_count": 73,
   "metadata": {},
   "outputs": [
    {
     "data": {
      "text/plain": [
       "4038"
      ]
     },
     "execution_count": 73,
     "metadata": {},
     "output_type": "execute_result"
    }
   ],
   "source": [
    "len(datasetIn)"
   ]
  },
  {
   "cell_type": "code",
   "execution_count": 76,
   "metadata": {},
   "outputs": [
    {
     "data": {
      "text/plain": [
       "0"
      ]
     },
     "execution_count": 76,
     "metadata": {},
     "output_type": "execute_result"
    }
   ],
   "source": [
    "67/ 4038"
   ]
  },
  {
   "cell_type": "markdown",
   "metadata": {},
   "source": [
    "Solution : Ils sont remplace par la moyenne comme leur proportion est insignifiant"
   ]
  },
  {
   "cell_type": "code",
   "execution_count": 32,
   "metadata": {
    "collapsed": true
   },
   "outputs": [],
   "source": [
    "datasetIn['BIRTHDAY']=datasetIn['BIRTHDAY'].fillna(np.mean(datasetIn['BIRTHDAY']))"
   ]
  },
  {
   "cell_type": "code",
   "execution_count": 33,
   "metadata": {},
   "outputs": [
    {
     "data": {
      "text/html": [
       "<div>\n",
       "<style>\n",
       "    .dataframe thead tr:only-child th {\n",
       "        text-align: right;\n",
       "    }\n",
       "\n",
       "    .dataframe thead th {\n",
       "        text-align: left;\n",
       "    }\n",
       "\n",
       "    .dataframe tbody tr th {\n",
       "        vertical-align: top;\n",
       "    }\n",
       "</style>\n",
       "<table border=\"1\" class=\"dataframe\">\n",
       "  <thead>\n",
       "    <tr style=\"text-align: right;\">\n",
       "      <th></th>\n",
       "      <th>IDENTIFICATION</th>\n",
       "      <th>BIRTHDAY</th>\n",
       "      <th>DIPLOMPERCENTAGE</th>\n",
       "    </tr>\n",
       "  </thead>\n",
       "  <tbody>\n",
       "    <tr>\n",
       "      <th>count</th>\n",
       "      <td>4038.000000</td>\n",
       "      <td>4038.000000</td>\n",
       "      <td>4038.000000</td>\n",
       "    </tr>\n",
       "    <tr>\n",
       "      <th>mean</th>\n",
       "      <td>8792.137692</td>\n",
       "      <td>26.072022</td>\n",
       "      <td>57.749876</td>\n",
       "    </tr>\n",
       "    <tr>\n",
       "      <th>std</th>\n",
       "      <td>2333.542658</td>\n",
       "      <td>3.957584</td>\n",
       "      <td>95.088746</td>\n",
       "    </tr>\n",
       "    <tr>\n",
       "      <th>min</th>\n",
       "      <td>215.000000</td>\n",
       "      <td>20.000000</td>\n",
       "      <td>0.000000</td>\n",
       "    </tr>\n",
       "    <tr>\n",
       "      <th>25%</th>\n",
       "      <td>7310.250000</td>\n",
       "      <td>24.000000</td>\n",
       "      <td>52.000000</td>\n",
       "    </tr>\n",
       "    <tr>\n",
       "      <th>50%</th>\n",
       "      <td>9181.500000</td>\n",
       "      <td>25.000000</td>\n",
       "      <td>55.000000</td>\n",
       "    </tr>\n",
       "    <tr>\n",
       "      <th>75%</th>\n",
       "      <td>10540.750000</td>\n",
       "      <td>27.000000</td>\n",
       "      <td>60.000000</td>\n",
       "    </tr>\n",
       "    <tr>\n",
       "      <th>max</th>\n",
       "      <td>12360.000000</td>\n",
       "      <td>58.000000</td>\n",
       "      <td>6053.000000</td>\n",
       "    </tr>\n",
       "  </tbody>\n",
       "</table>\n",
       "</div>"
      ],
      "text/plain": [
       "       IDENTIFICATION     BIRTHDAY  DIPLOMPERCENTAGE\n",
       "count     4038.000000  4038.000000       4038.000000\n",
       "mean      8792.137692    26.072022         57.749876\n",
       "std       2333.542658     3.957584         95.088746\n",
       "min        215.000000    20.000000          0.000000\n",
       "25%       7310.250000    24.000000         52.000000\n",
       "50%       9181.500000    25.000000         55.000000\n",
       "75%      10540.750000    27.000000         60.000000\n",
       "max      12360.000000    58.000000       6053.000000"
      ]
     },
     "execution_count": 33,
     "metadata": {},
     "output_type": "execute_result"
    }
   ],
   "source": [
    "datasetIn.describe()"
   ]
  },
  {
   "cell_type": "markdown",
   "metadata": {},
   "source": [
    "Ce tableau decrit toutes les informations possibles sur les données continues \n",
    "et de prime à bord nous sommes à mesure de constater certaines incoherences sur les diplome percentage qui on un maximun de 6053 et un minimum de 0 qui est vraiment impossible car le diplome en RDC doi etre compris entre 50 et 100 % !Nous allons visualisé ces inchoherence de plus prêt avec des boxplots."
   ]
  },
  {
   "cell_type": "code",
   "execution_count": 34,
   "metadata": {},
   "outputs": [
    {
     "data": {
      "image/png": "[encoded data removed]",
      "text/plain": [
       "<matplotlib.figure.Figure at 0x7fb772181290>"
      ]
     },
     "metadata": {},
     "output_type": "display_data"
    }
   ],
   "source": [
    "ax = sns.boxplot(x=datasetIn['DIPLOMPERCENTAGE'])"
   ]
  },
  {
   "cell_type": "code",
   "execution_count": 35,
   "metadata": {},
   "outputs": [
    {
     "data": {
      "image/png": "[encoded data removed]",
      "text/plain": [
       "<matplotlib.figure.Figure at 0x7fb7726f3bd0>"
      ]
     },
     "metadata": {},
     "output_type": "display_data"
    }
   ],
   "source": [
    "ax = sns.boxplot(x=datasetIn['BIRTHDAY'])"
   ]
  },
  {
   "cell_type": "markdown",
   "metadata": {},
   "source": [
    "Au vu de ces courbes nous remarquons que l'attribue diplome percentage dispose de beaucoup des deviations."
   ]
  },
  {
   "cell_type": "markdown",
   "metadata": {},
   "source": [
    "Mais l'attribue Bithday a une distribution presque normale"
   ]
  },
  {
   "cell_type": "code",
   "execution_count": 36,
   "metadata": {},
   "outputs": [
    {
     "data": {
      "text/plain": [
       "<matplotlib.axes._subplots.AxesSubplot at 0x7fb771ca6410>"
      ]
     },
     "execution_count": 36,
     "metadata": {},
     "output_type": "execute_result"
    },
    {
     "data": {
      "image/png": "[encoded data removed]",
      "text/plain": [
       "<matplotlib.figure.Figure at 0x7fb771f13650>"
      ]
     },
     "metadata": {},
     "output_type": "display_data"
    }
   ],
   "source": [
    "sns.distplot(datasetIn['BIRTHDAY'],bins=20,axlabel='AGE A Present',kde=1,norm_hist=0)"
   ]
  },
  {
   "cell_type": "markdown",
   "metadata": {},
   "source": [
    "Nous pouvons facilement voir que l'age a une distribution presque normale.\n",
    "NB: change norm hist to 1 to see count"
   ]
  },
  {
   "cell_type": "markdown",
   "metadata": {},
   "source": [
    "regardons de plus pret celui du diplome percentage"
   ]
  },
  {
   "cell_type": "code",
   "execution_count": 128,
   "metadata": {},
   "outputs": [
    {
     "data": {
      "text/plain": [
       "<matplotlib.axes._subplots.AxesSubplot at 0x7f1a8e854150>"
      ]
     },
     "execution_count": 128,
     "metadata": {},
     "output_type": "execute_result"
    },
    {
     "data": {
      "image/png": "[encoded data removed]",
      "text/plain": [
       "<matplotlib.figure.Figure at 0x7f1a8e4e19d0>"
      ]
     },
     "metadata": {},
     "output_type": "display_data"
    }
   ],
   "source": [
    "sns.distplot(datasetIn['DIPLOMPERCENTAGE'],bins=20,axlabel='AGE A Present',kde=1,norm_hist=0)"
   ]
  },
  {
   "cell_type": "markdown",
   "metadata": {},
   "source": [
    "A cause des dispertions nous ne pouvons pas bien visualis la distribution.\n",
    "essayons d'isoler les distibution pour voir de plus prét les données . "
   ]
  },
  {
   "cell_type": "code",
   "execution_count": 132,
   "metadata": {},
   "outputs": [
    {
     "data": {
      "text/plain": [
       "29"
      ]
     },
     "execution_count": 132,
     "metadata": {},
     "output_type": "execute_result"
    }
   ],
   "source": [
    "len(datasetIn[~datasetIn.DIPLOMPERCENTAGE.isin(range(50,100) )])"
   ]
  },
  {
   "cell_type": "markdown",
   "metadata": {},
   "source": [
    "Nous remarquons que nous avons 29 échantillons avec des valeur hors normes nous allons les normaliser dans la phase de préparation"
   ]
  },
  {
   "cell_type": "markdown",
   "metadata": {},
   "source": [
    "##### Variables qualitatives ou categorieles"
   ]
  },
  {
   "cell_type": "markdown",
   "metadata": {},
   "source": [
    "Pour chaque attriblue nous alons faire de count plot voir les diffrerents valeurs"
   ]
  },
  {
   "cell_type": "code",
   "execution_count": 77,
   "metadata": {
    "collapsed": true
   },
   "outputs": [],
   "source": [
    "colCat=list(datasetIn.select_dtypes(exclude=[np.number]).columns)"
   ]
  },
  {
   "cell_type": "code",
   "execution_count": 78,
   "metadata": {},
   "outputs": [
    {
     "data": {
      "text/plain": [
       "['NAME',\n",
       " 'DIPLOMTYPE',\n",
       " 'DIPLOMSECTION',\n",
       " 'DIPLOMOPTION',\n",
       " 'SCHOOL',\n",
       " 'SCHOOLPROVINCE',\n",
       " 'SCHOOLSTATUS']"
      ]
     },
     "execution_count": 78,
     "metadata": {},
     "output_type": "execute_result"
    }
   ],
   "source": [
    "colCat"
   ]
  },
  {
   "cell_type": "code",
   "execution_count": 37,
   "metadata": {},
   "outputs": [
    {
     "data": {
      "text/plain": [
       "H    2402\n",
       "F    1636\n",
       "Name: NAME, dtype: int64"
      ]
     },
     "execution_count": 37,
     "metadata": {},
     "output_type": "execute_result"
    }
   ],
   "source": [
    "datasetIn['NAME'].value_counts()"
   ]
  },
  {
   "cell_type": "markdown",
   "metadata": {},
   "source": [
    "Nous pouvons remarqué facilement avec cete comande la repartition des sexes!"
   ]
  },
  {
   "cell_type": "code",
   "execution_count": 140,
   "metadata": {
    "collapsed": true
   },
   "outputs": [],
   "source": [
    "def plotCate(X,dataset,**kwargs):\n",
    "    if isinstance(dataset,pd.DataFrame) and isinstance(X,str) and X in dataset.columns :\n",
    "        plt.figure(figsize= kwargs.get('size'))\n",
    "        ax=sns.countplot(x=X, data=datasetIn,orient=kwargs.get('orient'))\n",
    "        plt.title('Distribution de '+ X )\n",
    "        plt.xlabel(X)\n",
    "        ax.set_xticklabels(ax.xaxis.get_majorticklabels(), rotation=45)\n",
    "        # Make twin axis\n",
    "        #ax2=ax.twinx()\n",
    "        # Switch so count axis is on right, frequency on left\n",
    "        #ax2.yaxis.tick_left()\n",
    "        #ax.yaxis.tick_right()\n",
    "        #ax.yaxis.set_label_position('right')\n",
    "        #ax2.yaxis.set_label_position('left')\n",
    "        \n",
    "        #ax2.set_ylabel('Poucentage [%]')\n",
    "        for p in ax.patches:\n",
    "            x=p.get_bbox().get_points()[:,0]\n",
    "            y=p.get_bbox().get_points()[1,1]\n",
    "            ax.annotate('{:.3f} % soit : {:.3f}'.format(100.*y/len(dataset),y), (x.mean(), y), ha='center', va='bottom') # set the alignment of the text\n",
    "        # Use a LinearLocator to ensure the correct number of ticks\n",
    "        #ax.yaxis.set_major_locator(ticker.LinearLocator(11))\n",
    "\n",
    "        # Fix the frequency range to 0-100\n",
    "        #ax2.set_ylim(0,100)\n",
    "        ax.set_ylim(0,len(dataset))\n",
    "\n",
    "        # And use a MultipleLocator to ensure a tick spacing of 10\n",
    "        #ax2.yaxis.set_major_locator(ticker.MultipleLocator(10))\n",
    "\n",
    "        # Need to turn the grid on ax2 off, otherwise the gridlines end up on top of the bars\n",
    "        #ax2.grid(None)\n",
    "        plt.savefig(X+'.png',dpi=100)\n",
    "    else:\n",
    "        raise TypeError('need only dataframe')"
   ]
  },
  {
   "cell_type": "code",
   "execution_count": 141,
   "metadata": {},
   "outputs": [
    {
     "data": {
      "image/png": "[encoded data removed]",
      "text/plain": [
       "<matplotlib.figure.Figure at 0x7fb76da1d510>"
      ]
     },
     "metadata": {},
     "output_type": "display_data"
    }
   ],
   "source": [
    "plotCate('NAME',datasetIn,size=(6,4))"
   ]
  },
  {
   "cell_type": "markdown",
   "metadata": {
    "collapsed": true
   },
   "source": [
    "Voici la repartition des sexes des nos echantillons pas mal.."
   ]
  },
  {
   "cell_type": "markdown",
   "metadata": {},
   "source": [
    "###### Attribue : Diplome Type"
   ]
  },
  {
   "cell_type": "code",
   "execution_count": 88,
   "metadata": {},
   "outputs": [
    {
     "data": {
      "image/png": "[encoded data removed]",
      "text/plain": [
       "<matplotlib.figure.Figure at 0x7fb76f5d0210>"
      ]
     },
     "metadata": {},
     "output_type": "display_data"
    }
   ],
   "source": [
    "plotCate(colCat[1],datasetIn,size=(12,8),orient='h')"
   ]
  },
  {
   "cell_type": "markdown",
   "metadata": {},
   "source": [
    "Nous pouvons remarquer que notre dataset contient plus de 70% d'element avec le diplome d'etat\n",
    "et 26 avec un diplome type inconue nous allons traaiter cela à la suite et quelque echantillon avec des\n",
    "diplomes du Rwanda et d'autre avec des anciens diplomes"
   ]
  },
  {
   "cell_type": "markdown",
   "metadata": {},
   "source": [
    "###### Attribue Diplome option et Diplome Section"
   ]
  },
  {
   "cell_type": "code",
   "execution_count": 104,
   "metadata": {},
   "outputs": [
    {
     "data": {
      "text/plain": [
       "90"
      ]
     },
     "execution_count": 104,
     "metadata": {},
     "output_type": "execute_result"
    }
   ],
   "source": [
    "len(datasetIn[colCat[2]].value_counts())"
   ]
  },
  {
   "cell_type": "code",
   "execution_count": 108,
   "metadata": {
    "scrolled": true
   },
   "outputs": [
    {
     "data": {
      "text/plain": [
       "<matplotlib.axes._subplots.AxesSubplot at 0x7fb76f69b6d0>"
      ]
     },
     "execution_count": 108,
     "metadata": {},
     "output_type": "execute_result"
    },
    {
     "data": {
      "image/png": "[encoded data removed]",
      "text/plain": [
       "<matplotlib.figure.Figure at 0x7fb771f08110>"
      ]
     },
     "metadata": {},
     "output_type": "display_data"
    }
   ],
   "source": [
    "plt.figure(figsize=(30,120))\n",
    "sns.countplot(y=colCat[2], data=datasetIn, palette=\"Greens_d\")"
   ]
  },
  {
   "cell_type": "markdown",
   "metadata": {},
   "source": [
    "Nous avons plus de 90 sections"
   ]
  },
  {
   "cell_type": "code",
   "execution_count": 110,
   "metadata": {},
   "outputs": [
    {
     "data": {
      "text/plain": [
       "Pédagogie Générale                           515\n",
       "Sociale                                      342\n",
       "PG                                           292\n",
       "Commerciale et Administrative                271\n",
       "SOCIALE                                      229\n",
       "PEDAGOGIE GENERALE                           217\n",
       "CA                                           210\n",
       "BC                                           165\n",
       "Commerciale Administrative                    98\n",
       "Biologie Chimie                               92\n",
       "LP                                            88\n",
       "COMMERCIALE ET ADMINISTRATIVE                 78\n",
       "Biologie chimie                               73\n",
       "Pédagogie générale                            67\n",
       "Latin Philo                                   63\n",
       "BIO CHIMIE                                    59\n",
       "Mathématique Physique                         58\n",
       "MP                                            56\n",
       "LATIN PHILO                                   55\n",
       "Bio chimie                                    50\n",
       "Biologie-Chimie                               50\n",
       "PEDA GENERALE                                 46\n",
       "Latin Philosophie                             45\n",
       "Latin philo                                   43\n",
       "Commerciale administrative                    36\n",
       "NUTRITION                                     31\n",
       "COMMERCIALE INFORMATIQUE                      30\n",
       "Biologie-chimie                               28\n",
       "Construction                                  28\n",
       "CONSTRUCTION                                  24\n",
       "                                            ... \n",
       "Industrielle                                   1\n",
       "MECANIQUE GEN                                  1\n",
       "Mécamique générale                             1\n",
       "MES GENE                                       1\n",
       "PËDA GENERALE                                  1\n",
       "Commerciale Infomratique                       1\n",
       "Batiment                                       1\n",
       "PDAGOGIE GENERALE                              1\n",
       "ELEC IND                                       1\n",
       "COMMERCIALE ET ADMIN                           1\n",
       "LATIN PHILIO                                   1\n",
       "Hôtesse d’Accueil                              1\n",
       "PEDA                                           1\n",
       "latin philo                                    1\n",
       "Commerciale et AdministrativeInformatique      1\n",
       "Commerciale et Informatique                    1\n",
       "MACANIQUE MACHINES OU                          1\n",
       "pédagogie générale                             1\n",
       "Mécanique Géénrale                             1\n",
       "coupe couture                                  1\n",
       "Chimie Biologie                                1\n",
       "PN                                             1\n",
       "Coupe Couture                                  1\n",
       "Mecanique                                      1\n",
       "PM                                             1\n",
       "fdf                                            1\n",
       "SOCAILE                                        1\n",
       "C                                              1\n",
       "bc                                             1\n",
       "HOTESSE D'ACCEUIL                              1\n",
       "Name: DIPLOMOPTION, Length: 216, dtype: int64"
      ]
     },
     "execution_count": 110,
     "metadata": {},
     "output_type": "execute_result"
    }
   ],
   "source": [
    "datasetIn['DIPLOMOPTION'].value_counts()"
   ]
  },
  {
   "cell_type": "markdown",
   "metadata": {},
   "source": [
    "une chose importante à remarquer au niveau des attribues 'DIPLOMOPTION' et 'DIPLOMSECTION' sont tres desorganisées il faut bien les oragniées dans la phase de préparation des données "
   ]
  },
  {
   "cell_type": "code",
   "execution_count": 119,
   "metadata": {},
   "outputs": [
    {
     "data": {
      "text/plain": [
       "DIPLOMSECTION\n",
       "COMM                        1\n",
       "COMMERC                     1\n",
       "COMMERCIALE               140\n",
       "ECONOMIE ET COMMERCE        1\n",
       "ELE                         3\n",
       "ELEC                        2\n",
       "ELECT                       1\n",
       "ELECTR                      2\n",
       "ELECTRICITE                 1\n",
       "ELECTRICITE INDUSTR         1\n",
       "Générale                    1\n",
       "HOTESE D'ACCEUIL            1\n",
       "HOTESSE D ACEUIL            1\n",
       "HOTESSE D'ACCUEIL           1\n",
       "L                           1\n",
       "LIT                        85\n",
       "LITERAIRE                   8\n",
       "LITERRAIRE                 10\n",
       "LITT                        3\n",
       "LITTERAIRE                 50\n",
       "Litteraire                 13\n",
       "Littéraire                160\n",
       "MEC                         4\n",
       "MEC GEN                     1\n",
       "MECA                        1\n",
       "MECANIQUE                   8\n",
       "MECANIQUE GENERALE          1\n",
       "NUTRI                       1\n",
       "NUTRITION                   3\n",
       "PD                          1\n",
       "                         ... \n",
       "TEC NUTRI                   1\n",
       "TEC µ                       1\n",
       "TECH                       43\n",
       "TECH  ELECTRICITE           1\n",
       "TECH  INDUST                1\n",
       "TECH AGRICOLE               1\n",
       "TECHN                      17\n",
       "TECHN IQUE                  1\n",
       "TECHNI                      1\n",
       "TECHNI INDUST               1\n",
       "TECHNIQUE                 277\n",
       "TECHNIQUE INDUST            1\n",
       "TECHNIQUE INDUSTRIELLE      1\n",
       "TECHNIQUES                  2\n",
       "TECSC                       1\n",
       "Techhnique                  1\n",
       "Techniqe                    4\n",
       "Technique                 898\n",
       "Technique Agricole          1\n",
       "a                           1\n",
       "dfd                         1\n",
       "inconnu                     2\n",
       "lit                         2\n",
       "pPédagogique                1\n",
       "ped                         3\n",
       "s=Scientifique              1\n",
       "sScientifique               2\n",
       "sc                          1\n",
       "techni                      1\n",
       "technique                   3\n",
       "Name: DIPLOMOPTION, Length: 90, dtype: int64"
      ]
     },
     "execution_count": 119,
     "metadata": {},
     "output_type": "execute_result"
    }
   ],
   "source": [
    "datasetIn.groupby(colCat[2])[colCat[3]].count()"
   ]
  },
  {
   "cell_type": "markdown",
   "metadata": {},
   "source": [
    "###### Attribue School Province"
   ]
  },
  {
   "cell_type": "code",
   "execution_count": 120,
   "metadata": {},
   "outputs": [
    {
     "data": {
      "text/plain": [
       "NORD-KIVU           3145\n",
       "SUD-KIVU             630\n",
       "ORIENTALE             72\n",
       "KINSHASA              63\n",
       "MANIEMA               37\n",
       "KATANGA               22\n",
       "inconnu               19\n",
       "BANDUNDU              12\n",
       "KASAI ORIENTAL        10\n",
       "N/K                    4\n",
       "KASAI OCCIDENTAL       3\n",
       "nk                     3\n",
       "EQUATEUR               3\n",
       "OUEST                  2\n",
       "BAS CONGO              2\n",
       "sk                     2\n",
       "NORD KVU               2\n",
       "NORD KVIU              2\n",
       "KIGALI                 2\n",
       "NYARUKENGE             1\n",
       "K OR                   1\n",
       "N K                    1\n",
       "Name: SCHOOLPROVINCE, dtype: int64"
      ]
     },
     "execution_count": 120,
     "metadata": {},
     "output_type": "execute_result"
    }
   ],
   "source": [
    "datasetIn.SCHOOLPROVINCE.value_counts()"
   ]
  },
  {
   "cell_type": "code",
   "execution_count": 144,
   "metadata": {
    "scrolled": true
   },
   "outputs": [
    {
     "data": {
      "text/plain": [
       "<ipywidgets.widgets.interaction._InteractFactory at 0x7fb771e85290>"
      ]
     },
     "execution_count": 144,
     "metadata": {},
     "output_type": "execute_result"
    },
    {
     "data": {
      "image/png": "[encoded data removed]",
      "text/plain": [
       "<matplotlib.figure.Figure at 0x7fb76c1dbf50>"
      ]
     },
     "metadata": {},
     "output_type": "display_data"
    }
   ],
   "source": []
  },
  {
   "cell_type": "markdown",
   "metadata": {
    "collapsed": true
   },
   "source": [
    "Avec cette image nous pouvons aisement constater que 63 % des étudaints de l'ulpgl proviennent de la province du nord kivu mais il ya une autre categorie qui provient du sud KIVu soit 15% "
   ]
  },
  {
   "cell_type": "markdown",
   "metadata": {},
   "source": [
    "###### Attribue SCHOOL ET SCHOOL STATUS"
   ]
  },
  {
   "cell_type": "code",
   "execution_count": 149,
   "metadata": {
    "collapsed": true
   },
   "outputs": [],
   "source": [
    "datasetIn.SCHOOL=datasetIn.SCHOOL.apply(lambda x: x.lower())"
   ]
  },
  {
   "cell_type": "markdown",
   "metadata": {},
   "source": [
    "Pour une bonne visualisation on peut prealablement transformer les colones en minuscule"
   ]
  },
  {
   "cell_type": "code",
   "execution_count": 150,
   "metadata": {},
   "outputs": [
    {
     "data": {
      "text/plain": [
       "metanoia                           185\n",
       "mwanga                             168\n",
       "maendeleo                           87\n",
       "faraja                              69\n",
       "majengo                             67\n",
       "kyeshero                            61\n",
       "isidore bakanja                     59\n",
       "itig                                53\n",
       "zanner                              51\n",
       "himbi                               49\n",
       "mont carmel                         49\n",
       "maranatha                           41\n",
       "institut mwanga                     38\n",
       "autodidacte                         38\n",
       "lycée sainte ursule                 36\n",
       "institut metanoia                   35\n",
       "moria                               29\n",
       "mont goma                           28\n",
       "uzima                               27\n",
       "goma                                26\n",
       "icl                                 26\n",
       "mama yetu                           25\n",
       "mikeno nc                           24\n",
       "lycée amani                         22\n",
       "bungulu                             22\n",
       "saint joseph                        21\n",
       "lycée saint ursule                  21\n",
       "institut de goma                    21\n",
       "ibanda                              21\n",
       "mont sinai                          20\n",
       "                                  ... \n",
       "nzamiboko                            1\n",
       "lumière du progrès                   1\n",
       "lycée omisalisa                      1\n",
       "mwana                                1\n",
       "institut action kusayidiya           1\n",
       "institut de kirumba                  1\n",
       "institut bunyakiri                   1\n",
       "virunga                              1\n",
       "lycée notre dame de la jeunesse      1\n",
       "institut bobokoli                    1\n",
       "institut lwanzururu                  1\n",
       "cs mapendo/ngese                     1\n",
       "malula                               1\n",
       "katana centre                        1\n",
       "i ibanda                             1\n",
       "edap/isp-bukavu                      1\n",
       "katudwe                              1\n",
       "mwenga                               1\n",
       "kinyavuhiri                          1\n",
       "bakadja                              1\n",
       "funu maendeleo                       1\n",
       "institut mgr kataliko                1\n",
       "kavagendi                            1\n",
       "nyamusirwa                           1\n",
       "ebi institut                         1\n",
       "intitut mavuno                       1\n",
       "lycée bsangani                       1\n",
       "vuvatsi                              1\n",
       "inst amkeni                          1\n",
       "college mwanga                       1\n",
       "Name: SCHOOL, Length: 1285, dtype: int64"
      ]
     },
     "execution_count": 150,
     "metadata": {},
     "output_type": "execute_result"
    }
   ],
   "source": [
    "datasetIn.SCHOOL.value_counts()"
   ]
  },
  {
   "cell_type": "markdown",
   "metadata": {},
   "source": [
    "Nous avon un attribue avec 1285 categories differentes ...\n",
    "Nous devons les analyser en details"
   ]
  },
  {
   "cell_type": "code",
   "execution_count": 151,
   "metadata": {},
   "outputs": [
    {
     "data": {
      "text/plain": [
       "inconnu         3329\n",
       "protestant       210\n",
       "catholique       208\n",
       "privé            152\n",
       "publique         129\n",
       "musulman           6\n",
       "kimbanguiste       3\n",
       "autodidacte        1\n",
       "Name: SCHOOLSTATUS, dtype: int64"
      ]
     },
     "execution_count": 151,
     "metadata": {},
     "output_type": "execute_result"
    }
   ],
   "source": [
    "datasetIn.SCHOOLSTATUS.value_counts()"
   ]
  },
  {
   "cell_type": "code",
   "execution_count": 159,
   "metadata": {},
   "outputs": [
    {
     "data": {
      "text/plain": [
       "metanoia                           185\n",
       "mwanga                             166\n",
       "maendeleo                           87\n",
       "faraja                              68\n",
       "majengo                             67\n",
       "isidore bakanja                     59\n",
       "kyeshero                            59\n",
       "itig                                51\n",
       "zanner                              51\n",
       "mont carmel                         49\n",
       "himbi                               47\n",
       "maranatha                           41\n",
       "autodidacte                         37\n",
       "lycée sainte ursule                 35\n",
       "moria                               29\n",
       "mont goma                           28\n",
       "uzima                               27\n",
       "goma                                26\n",
       "mama yetu                           25\n",
       "mikeno nc                           24\n",
       "icl                                 24\n",
       "bungulu                             22\n",
       "saint joseph                        21\n",
       "ibanda                              21\n",
       "visoke                              20\n",
       "alfajiri                            19\n",
       "mont sinai                          19\n",
       "nuru                                18\n",
       "mikeno islamique                    18\n",
       "instigo                             18\n",
       "                                  ... \n",
       "mgr guido m.c                        1\n",
       "kisimba                              1\n",
       "mandai                               1\n",
       "i enano                              1\n",
       "edap/isp-bukavu                      1\n",
       "vuvatsi                              1\n",
       "bugarula                             1\n",
       "ebi institut                         1\n",
       "institut kalimba                     1\n",
       "einstein ujuzi                       1\n",
       "lumière du progrès                   1\n",
       "lycée omisalisa                      1\n",
       "mwana                                1\n",
       "virunga                              1\n",
       "lycée notre dame de la jeunesse      1\n",
       "institut lwanzururu                  1\n",
       "cs mapendo/ngese                     1\n",
       "malula                               1\n",
       "katana centre                        1\n",
       "nzamiboko                            1\n",
       "pilote de kalima                     1\n",
       "i ibanda                             1\n",
       "katudwe                              1\n",
       "mwenga                               1\n",
       "kinyavuhiri                          1\n",
       "bakadja                              1\n",
       "funu maendeleo                       1\n",
       "kavagendi                            1\n",
       "nyamusirwa                           1\n",
       "institut ifendula                    1\n",
       "Name: SCHOOL, Length: 1006, dtype: int64"
      ]
     },
     "execution_count": 159,
     "metadata": {},
     "output_type": "execute_result"
    }
   ],
   "source": [
    "datasetIn.loc[datasetIn.groupby('SCHOOLSTATUS').groups.get('inconnu')]['SCHOOL'].value_counts()"
   ]
  },
  {
   "cell_type": "markdown",
   "metadata": {},
   "source": [
    "ces attribues aussi necessite un nettoyage et une bonne reparation"
   ]
  },
  {
   "cell_type": "code",
   "execution_count": 160,
   "metadata": {},
   "outputs": [
    {
     "data": {
      "text/plain": [
       "institut mwanga                       28\n",
       "lycée saint ursule                    20\n",
       "institut isidore bakanja              11\n",
       "institut saint marc                    8\n",
       "lycée  anuarite                        6\n",
       "institut mwanga/uvira                  6\n",
       "iti goma                               5\n",
       "institut saint michel                  5\n",
       "lycée anuarite                         5\n",
       "lycée amani                            4\n",
       "institut uzima                         4\n",
       "institut mont carmel                   4\n",
       "institut kashofu                       3\n",
       "institut bemba gombo                   3\n",
       "institut avenir                        3\n",
       "malkia wa mbingu                       2\n",
       "institut mgr guido                     2\n",
       "institut sebyera                       2\n",
       "lycée butembo                          2\n",
       "institut mgr  kataliko                 2\n",
       "mwanga                                 2\n",
       "institut luanga                        2\n",
       "itfm bukavu                            2\n",
       "institut saint joseph                  2\n",
       "itig                                   2\n",
       "college lluanga bobandana              1\n",
       "lycée saint mariya  goritti            1\n",
       "college mwanga                         1\n",
       "institut bahati                        1\n",
       "institut saint andre                   1\n",
       "                                      ..\n",
       "institut technique fundi maendeleo     1\n",
       "institut nyalukemba                    1\n",
       "institut malikiya wa mbingu            1\n",
       "institut zawadi/ngangi                 1\n",
       "kambale institut                       1\n",
       "institut matumaini                     1\n",
       "institut cardinale etsou               1\n",
       "institut  kanzanza                     1\n",
       "college saint agate                    1\n",
       "lycée  muhani                          1\n",
       "institut nyamokola                     1\n",
       "imoteyiti                              1\n",
       "nyalukemba                             1\n",
       "institut busimba                       1\n",
       "institut kambali                       1\n",
       "institut zahabu ya hekima              1\n",
       "institut kasabinyole                   1\n",
       "institut malikia wa bingu              1\n",
       "institut saint antoine                 1\n",
       "institut bushushu                      1\n",
       "institut  saint joseph                 1\n",
       "institut   bahati                      1\n",
       "bakandja                               1\n",
       "institut  mont carmel                  1\n",
       "college saint laurent                  1\n",
       "college saint alphonse                 1\n",
       "institut mwanda                        1\n",
       "lycée tobogisa                         1\n",
       "institut mgr henri pierard             1\n",
       "institut du kasai                      1\n",
       "Name: SCHOOL, Length: 98, dtype: int64"
      ]
     },
     "execution_count": 160,
     "metadata": {},
     "output_type": "execute_result"
    }
   ],
   "source": [
    "datasetIn.loc[datasetIn.groupby('SCHOOLSTATUS').groups.get('catholique')]['SCHOOL'].value_counts()"
   ]
  },
  {
   "cell_type": "code",
   "execution_count": 161,
   "metadata": {},
   "outputs": [
    {
     "data": {
      "text/plain": [
       "institut de goma             15\n",
       "institut mont goma           10\n",
       "institut nyabushongo          6\n",
       "institut tupendane            4\n",
       "institut de butembo           3\n",
       "institut bungulu              3\n",
       "autodidactes                  3\n",
       "institut mikeno nc            3\n",
       "institut uzima                2\n",
       "institut d'ibanda             2\n",
       "institut moria                2\n",
       "institut zawadi ya raisi      2\n",
       "institut munyembelu           2\n",
       "institut tuungane             2\n",
       "institut uenezaji             2\n",
       "institut de masisi            1\n",
       "autodidacte                   1\n",
       "lycée  saint ursule           1\n",
       "idap isp bunia                1\n",
       "institut kalangala            1\n",
       "institut lumiere du monde     1\n",
       "itav/mushweshwe               1\n",
       "institut njanja               1\n",
       "institut buhimba              1\n",
       "institut mwanzo               1\n",
       "institut isidore bakanja      1\n",
       "institut de kisangani ii      1\n",
       "institut mbula                1\n",
       "lycée chem chem               1\n",
       "institut de basoko            1\n",
       "                             ..\n",
       "institut tuwungane            1\n",
       "institut kiraku               1\n",
       "institut ndahura              1\n",
       "institut sayuni               1\n",
       "institut mikeno               1\n",
       "institut ndosho               1\n",
       "institut namurhera            1\n",
       "institut de kindu             1\n",
       "institut mwanga/uvira         1\n",
       "institut nuru                 1\n",
       "instigo                       1\n",
       "institut bugina               1\n",
       "institut jiwe                 1\n",
       "institut karambi              1\n",
       "a. ibanda                     1\n",
       "institut fadhili              1\n",
       "mugunga                       1\n",
       "itav/butembo                  1\n",
       "butembo                       1\n",
       "institut kavaghendi           1\n",
       "itp/gombe                     1\n",
       "institut bweremana            1\n",
       "institut katarina             1\n",
       "atene ibanda                  1\n",
       "institut mululu/sake          1\n",
       "institut bundji               1\n",
       "institut mululusake           1\n",
       "institut nyamianda            1\n",
       "institut maranatha            1\n",
       "wai wai institut              1\n",
       "Name: SCHOOL, Length: 83, dtype: int64"
      ]
     },
     "execution_count": 161,
     "metadata": {},
     "output_type": "execute_result"
    }
   ],
   "source": [
    "datasetIn.loc[datasetIn.groupby('SCHOOLSTATUS').groups.get('publique')]['SCHOOL'].value_counts()"
   ]
  },
  {
   "cell_type": "markdown",
   "metadata": {},
   "source": [
    "#### Preparation des Données "
   ]
  },
  {
   "cell_type": "markdown",
   "metadata": {},
   "source": [
    "Dans la phase précedante nous avons pu remarquer que certains variables possedent des valeurs maquantes et des valeurs extremes  nous devons resoudre ce problème pour avoir une bonne entrée\n",
    "dans cette phase nous allons faire le traitement des valeurs manquantes des deviatons ,et pour les variables qualitatives nous allons grouper les donnée et bien les arrangées"
   ]
  },
  {
   "cell_type": "markdown",
   "metadata": {},
   "source": [
    "Nous allons d'abord expliquer les raisons de la présence des valeur maquantes et des disperssion"
   ]
  },
  {
   "cell_type": "markdown",
   "metadata": {},
   "source": [
    "et la maniere de traiter les valeurs maquantes et les dispersions"
   ]
  },
  {
   "cell_type": "markdown",
   "metadata": {},
   "source": [
    "Malgré la quantité croissante de données, les problématiques de données manquantes et des valeurs extremes  restent très répandues dans\n",
    "les problèmes statistiques et nécessitent une approche particulière. Ignorer les\n",
    "données manquantes et les valeurs etrmes peut entraîner, outre une perte de précision, de forts biais dans les modèles d’analyse et comme signaler dans l'introduction de ce chapitre peuvent augmenter l'erreur de prédiction."
   ]
  },
  {
   "cell_type": "markdown",
   "metadata": {},
   "source": [
    "###### Cause et types des Données Manquantes "
   ]
  },
  {
   "cell_type": "markdown",
   "metadata": {},
   "source": [
    "source: https://serval.unil.ch/resource/serval:BIB_31AEEBD151B0.P001/REF"
   ]
  },
  {
   "cell_type": "markdown",
   "metadata": {},
   "source": [
    "Les données manquantes (DM) ont de multiples causes. Il peut être impossible de\n",
    "contacter une personne sélectionnée pour faire partie d’une enquête (non-réponse totale)\n",
    "ou un répondant peut refuser de répondre à une ou plusieurs questions (non-réponse partielle).\n",
    "Une mauvaise saisie de l’information peut également générer des DM. Finalement,des DM peuvent aussi être causées par l’existence de données aberrantes qui doivent être\n",
    "supprimées avant d’effectuer des analyses."
   ]
  },
  {
   "cell_type": "markdown",
   "metadata": {},
   "source": [
    "selon les cause on classe les données manquantes selon differentes types "
   ]
  },
  {
   "cell_type": "markdown",
   "metadata": {},
   "source": [
    "source : [6] Little R.J.A., Rubin D.B. (1987). Statistical Analysis with Missing Data. New York :\n",
    "John Wiley."
   ]
  },
  {
   "cell_type": "markdown",
   "metadata": {},
   "source": [
    "il existe plusieurs types de données manquantes, ils peuvent etre introduit lors de :\n",
    "    \n",
    "    1. l'extraction des données :\n",
    "    il peut etre possible qu'on ait des problèmes lors de l'extraction des données \n",
    "    dasn ce cas il es preferable de verifier les données avec les donnateurs c'est comme par exemple pour notre étude dans une premiere approche nous n'avons pas reussie les données des etudiants ayant passer en premiere session \n",
    "    cetraines function peuvent aussi creer des données manquantes comme c'est le cas de notre functio qui calcule les dates '\n",
    "    ces genres des données peuvent facilement etre detecter.\n",
    "    2. la collecte des données ;\n",
    "    c'est le cas le plus courant et il est plus facile de le detecter.\n",
    "dans ce cas la classification la plus couramment utilisée ayant été proposée par Little et Rubin (1987) : \n",
    "    “Missing completely at random”(MCAR) (complètement aléatoire), \n",
    "    “Missing at random” (MAR) (aléatoire),\n",
    "    “Missing not at random” (MNAR) (non aléatoire).\n",
    "Les DM sont MCAR lorsque la probabilité de non réponse pour une variable ne dépend pas de celle-ci, mais uniquement de paramètres\n",
    "extérieurs, indépendants de cette variable. Cela veut dire qu’il n’est pas possible de défi-\n",
    "nir un profil des individus ayant des DM et que la probabilité des DM est uniforme. De\n",
    "manière générale, ce type de DM est très rare. \n",
    "\n",
    "Les DM sont dites MAR lorsque la probabilité de non-réponse peut dépendre des observations mais pas des DM, par exemple s’il\n",
    "existe une différence de non-réponse entre les hommes et les femmes concernant la question\n",
    "du revenu, mais que parmi les hommes entre eux ou parmi les femmes entre-elles,\n",
    "la probabilité d’avoir des non-réponses est identique quel que soit le niveau du revenu.\n",
    "\n",
    "Finalement, les DM sont de type MNAR lorsque la probabilité de non-réponse est liée aux\n",
    "valeurs prises par la variable ayant des DM.comme par exemple pour notre cas les étudiant n'ayant pas passé tous leurs examens à une session n'ont pas des pourcentage à cette session et on pour mention AA assimiléé aux ajournées ."
   ]
  },
  {
   "cell_type": "markdown",
   "metadata": {},
   "source": [
    "###### Methodes d'imputations "
   ]
  },
  {
   "cell_type": "markdown",
   "metadata": {},
   "source": [
    "Nous avons choisi 9 méthodes de traitement des données manquantes largement ré-\n",
    "pandues à l’heure actuelle, y compris des méthodes connues pour être peu performantes\n",
    "mais cependant toujours utilisées. \n",
    "1. Analyse des cas complets (CC) : \n",
    "2. Imputation par la moyenne (MEAN) : c'est la méthode que nous utiliserons par défaut\n",
    "3. Imputation par la médiane (MED) \n",
    "4. Imputation par régression simple (REG) \n",
    "5. Imputation multiple par Markov Chain Monte-Carlo (MCMC)\n",
    "6. Imputation par le plus proche voisin (KNN) \n",
    "8. Imputation multiple par un algorithme basé sur le bootstrap, approchant des ré-\n",
    "sultats de l’algorithme EM (EM) \n",
    "9. Imputation multiple par “Predictive Mean Matching” (PMM) \n",
    "Toutes ces techniques existe sont implementées dans  les librairies que nous utlisons "
   ]
  },
  {
   "cell_type": "markdown",
   "metadata": {},
   "source": [
    "Dans ce travail selon le cas nous allons faire une imputation par la moyenne ou par analyse des cas compltets mais soulignons qu'il faut bien reflechir avant d'utiliser une imputation par la moyenne car il a une mauvaise influance sur la variance"
   ]
  },
  {
   "cell_type": "markdown",
   "metadata": {},
   "source": [
    "###### Valeurs aberantes ou extremes ou outliers"
   ]
  },
  {
   "cell_type": "markdown",
   "metadata": {},
   "source": [
    "Une valeur aberrante est une valeur qui diffère de façon significative de la tendance globale\n",
    "des autres observations quand on observe un ensemble de données ayant des caractéristiques\n",
    "communes.\n",
    "Par exemple dans l'anayse  des poucentage des diplome à l'examen d'etat nous trouvons des diplome qui ne sont pas dans l'intervalle \n",
    "0 à 50 % des étudiant avec des diplomes de 634% ou des diplomes de 0%\n"
   ]
  },
  {
   "cell_type": "markdown",
   "metadata": {},
   "source": [
    "Voici quelque remarques à considerer pour les valeurs manquantes :\n",
    "    \n",
    "     1. Les valeurs aberrantes ne sont pas forcément erronées.\n",
    "     Dans certains cas, la valeur aberrante doit être acceptée comme une indication intéressante.\n",
    "     par exemple apres anlayse on trouve une étudaint agé de 60 ans!\n",
    "     2. Il ne faut pas adopter une attitude radicale de rejet,\n",
    "    ou d’inclusion systématique des valeurs aberrantes.\n",
    "    Le rejet systématique peut entraîner la perte d’informations réelles\n",
    "    Le rejet des valeurs aberrantes a des conséquences statistiques non négligeables\n",
    "    car l’analyse est ensuite faite sur un échantillon censuré qui n’est plus aléatoire.\n",
    "\n",
    "En fonction des circonstances, il existe des méthodes, dites robustes, qui prennent en\n",
    "compte toutes les données mais minimisent l’influence des valeurs aberrantes.\n",
    "\n",
    "L’apparition de valeurs aberrantes est due à diverses sources de natures différentes,\n",
    "d’où la complexité de l’examen des valeurs aberrantes. \n",
    "    "
   ]
  },
  {
   "cell_type": "markdown",
   "metadata": {},
   "source": [
    "Pour detecter les valeurs manquantes nous avons utiliser les techniques suivantes :"
   ]
  },
  {
   "cell_type": "markdown",
   "metadata": {},
   "source": [
    "a) Contrôle sur le domaine des valeurs :\n",
    "Exemple : Pour la variable « DIPLOMPERCENTAGE », une borne maximale (100\n",
    " % ) est connue et la valeur minimale est de 50  .\n",
    " Les valeurs supérieures à 100 et inferrieur à 50 sont considérés comme abérantes.\n",
    "\n",
    "b) Détection graphique : Pour détecter la présence de valeurs aberrantes On a utilisé :\n",
    "- Boxplot\n",
    "- diagramme de dispersion des observations\n",
    "classées en fonction de leur rang "
   ]
  },
  {
   "cell_type": "markdown",
   "metadata": {},
   "source": [
    "Traitement des valeurs aberrantes :\n",
    "\n",
    "3 méthodes pour traiter les données aberrantes :\n",
    "1. Les valeurs aberrantes pouvant provenir d’erreurs de saisie, on le traite séparement en étudiant cas par cas.c'est cette technique que nous allons utilisé pour certaines valeur du poucentage de diplome.\n",
    "\n",
    "2. On les rejette et on applique ensuite une des méthodes d’imputation (moyenne,médiane…) vues pour les valeurs manquantes. \n",
    "\n",
    "3. On adopte des méthodes qui diminuent leur impact au cours des analyses statistiques :la médiane"
   ]
  },
  {
   "cell_type": "markdown",
   "metadata": {},
   "source": [
    "passons maintenant à la préparatipn proprement dite"
   ]
  },
  {
   "cell_type": "code",
   "execution_count": 169,
   "metadata": {},
   "outputs": [
    {
     "data": {
      "text/plain": [
       "dtype('O')"
      ]
     },
     "execution_count": 169,
     "metadata": {},
     "output_type": "execute_result"
    }
   ],
   "source": [
    "dataset.BIRTHDAY.dtype"
   ]
  },
  {
   "cell_type": "code",
   "execution_count": 182,
   "metadata": {},
   "outputs": [
    {
     "data": {
      "text/plain": [
       "Timestamp('1998-11-17 00:00:00')"
      ]
     },
     "execution_count": 182,
     "metadata": {},
     "output_type": "execute_result"
    }
   ],
   "source": [
    "pd.to_datetime(datasetV1['BIRTHDAY'], format='%Y-%m-%d',errors='coerce').max()"
   ]
  },
  {
   "cell_type": "code",
   "execution_count": 9,
   "metadata": {
    "collapsed": true
   },
   "outputs": [],
   "source": [
    "import pandas as pd\n",
    "import datetime,dateutil"
   ]
  },
  {
   "cell_type": "code",
   "execution_count": 3,
   "metadata": {},
   "outputs": [],
   "source": [
    "datasetIn=pd.read_csv('DatasetInClean.csv')"
   ]
  },
  {
   "cell_type": "markdown",
   "metadata": {},
   "source": [
    "Nous allons passer en revue toutes les attribues un à un encore pour corriger les valeur manquantes "
   ]
  },
  {
   "cell_type": "markdown",
   "metadata": {},
   "source": [
    "###### Attribut BIRTHDAY "
   ]
  },
  {
   "cell_type": "markdown",
   "metadata": {},
   "source": [
    "comme nous l'avons souligner dans la phase precedante cette colone contient les dates des nnaissances que nous avons juger bon de convertir en age ."
   ]
  },
  {
   "cell_type": "code",
   "execution_count": 25,
   "metadata": {
    "collapsed": true
   },
   "outputs": [],
   "source": [
    "BIRTHDAY1=pd.to_datetime(datasetIn['BIRTHDAY'], format='%Y-%m-%d',errors='coerce')"
   ]
  },
  {
   "cell_type": "code",
   "execution_count": 26,
   "metadata": {
    "scrolled": true
   },
   "outputs": [
    {
     "data": {
      "text/plain": [
       "7"
      ]
     },
     "execution_count": 26,
     "metadata": {},
     "output_type": "execute_result"
    }
   ],
   "source": [
    "len(BIRTHDAY1.loc[BIRTHDAY1.isnull()==True])"
   ]
  },
  {
   "cell_type": "code",
   "execution_count": 27,
   "metadata": {},
   "outputs": [],
   "source": [
    "moyenAge=int(BIRTHDAY1.loc[BIRTHDAY1.isnull()!=True].apply(birthday).mean())"
   ]
  },
  {
   "cell_type": "code",
   "execution_count": 33,
   "metadata": {
    "collapsed": true
   },
   "outputs": [],
   "source": [
    "BIRTHDAY1.fillna(datetime.datetime.now(),inplace=True)"
   ]
  },
  {
   "cell_type": "code",
   "execution_count": 53,
   "metadata": {},
   "outputs": [
    {
     "data": {
      "text/plain": [
       "0"
      ]
     },
     "execution_count": 53,
     "metadata": {},
     "output_type": "execute_result"
    }
   ],
   "source": [
    "BIRTHDAY1.apply(birthday).min()"
   ]
  },
  {
   "cell_type": "markdown",
   "metadata": {},
   "source": [
    "Nous venon de voir que l'attribue date dispose de 7 valeurs manquantes que nous allons imputer par la moyenee"
   ]
  },
  {
   "cell_type": "code",
   "execution_count": 32,
   "metadata": {
    "scrolled": true
   },
   "outputs": [
    {
     "ename": "AttributeError",
     "evalue": "'NoneType' object has no attribute 'loc'",
     "output_type": "error",
     "traceback": [
      "\u001b[0;31m---------------------------------------------------------------------------\u001b[0m",
      "\u001b[0;31mAttributeError\u001b[0m                            Traceback (most recent call last)",
      "\u001b[0;32m<ipython-input-32-f28fb7982bd8>\u001b[0m in \u001b[0;36m<module>\u001b[0;34m()\u001b[0m\n\u001b[0;32m----> 1\u001b[0;31m \u001b[0mAGE\u001b[0m\u001b[0;34m.\u001b[0m\u001b[0mloc\u001b[0m\u001b[0;34m[\u001b[0m\u001b[0;36m33\u001b[0m\u001b[0;34m]\u001b[0m\u001b[0;34m\u001b[0m\u001b[0m\n\u001b[0m",
      "\u001b[0;31mAttributeError\u001b[0m: 'NoneType' object has no attribute 'loc'"
     ]
    }
   ],
   "source": [
    "AGE.loc[33]"
   ]
  },
  {
   "cell_type": "code",
   "execution_count": 51,
   "metadata": {},
   "outputs": [
    {
     "data": {
      "text/plain": [
       "24"
      ]
     },
     "execution_count": 51,
     "metadata": {},
     "output_type": "execute_result"
    }
   ],
   "source": [
    "moyenAge"
   ]
  },
  {
   "cell_type": "code",
   "execution_count": 52,
   "metadata": {},
   "outputs": [
    {
     "data": {
      "text/plain": [
       "'1993-08-22'"
      ]
     },
     "execution_count": 52,
     "metadata": {},
     "output_type": "execute_result"
    }
   ],
   "source": [
    "datasetIn.BIRTHDAY.loc[33]"
   ]
  },
  {
   "cell_type": "code",
   "execution_count": 55,
   "metadata": {
    "collapsed": true
   },
   "outputs": [],
   "source": [
    "AGES=BIRTHDAY1.apply(birthday)"
   ]
  },
  {
   "cell_type": "code",
   "execution_count": 59,
   "metadata": {},
   "outputs": [
    {
     "data": {
      "text/plain": [
       "18"
      ]
     },
     "execution_count": 59,
     "metadata": {},
     "output_type": "execute_result"
    }
   ],
   "source": [
    "AGES.min()"
   ]
  },
  {
   "cell_type": "code",
   "execution_count": 58,
   "metadata": {
    "scrolled": true
   },
   "outputs": [],
   "source": [
    "AGES.loc[AGES==0]=moyenAge"
   ]
  },
  {
   "cell_type": "code",
   "execution_count": 60,
   "metadata": {
    "scrolled": false
   },
   "outputs": [],
   "source": [
    "datasetIn['AGE']=AGES"
   ]
  },
  {
   "cell_type": "code",
   "execution_count": 44,
   "metadata": {
    "scrolled": true
   },
   "outputs": [
    {
     "name": "stdout",
     "output_type": "stream",
     "text": [
      "<class 'pandas.core.frame.DataFrame'>\n",
      "RangeIndex: 4715 entries, 0 to 4714\n",
      "Data columns (total 11 columns):\n",
      "Unnamed: 0          4715 non-null int64\n",
      "IDENTIFICATION      4715 non-null int64\n",
      "SCHOOLSTATUS        4715 non-null object\n",
      "SCHOOL_RIGHT        4715 non-null object\n",
      "OPTION_RIGHT        4715 non-null object\n",
      "FAC                 4715 non-null object\n",
      "SCHOOLPROVINCE      4715 non-null object\n",
      "BIRTHDAY            4715 non-null object\n",
      "GENDER              4715 non-null object\n",
      "DIPLOMPERCENTAGE    4715 non-null float64\n",
      "AGE                 4715 non-null int64\n",
      "dtypes: float64(1), int64(3), object(7)\n",
      "memory usage: 405.3+ KB\n"
     ]
    }
   ],
   "source": [
    "datasetIn.drop()"
   ]
  },
  {
   "cell_type": "code",
   "execution_count": 7,
   "metadata": {
    "collapsed": true
   },
   "outputs": [],
   "source": [
    "def birthday(date):\n",
    "    # Get the current date\n",
    "    now = datetime.datetime.utcnow()\n",
    "    now = now.date()\n",
    "    # Get the difference between the current date and the birthday\n",
    "    age = dateutil.relativedelta.relativedelta(now, date)\n",
    "    age = age.years\n",
    "    return age"
   ]
  },
  {
   "cell_type": "markdown",
   "metadata": {},
   "source": [
    "Ensuite nous allons combiner les deux avec les données manquantes et sans les données manquantes"
   ]
  },
  {
   "cell_type": "markdown",
   "metadata": {},
   "source": [
    "apres imputation des valeurs manquantes essayons de voir la repartion de l'age encore"
   ]
  },
  {
   "cell_type": "code",
   "execution_count": 315,
   "metadata": {},
   "outputs": [
    {
     "data": {
      "text/plain": [
       "<matplotlib.axes._subplots.AxesSubplot at 0x7fb76d0de190>"
      ]
     },
     "execution_count": 315,
     "metadata": {},
     "output_type": "execute_result"
    },
    {
     "data": {
      "image/png": "[encoded data removed]",
      "text/plain": [
       "<matplotlib.figure.Figure at 0x7fb76d912610>"
      ]
     },
     "metadata": {},
     "output_type": "display_data"
    }
   ],
   "source": [
    "sns.distplot(datasetIn['BIRTHDAY'],bins=20,axlabel='AGE A Present',kde=1,norm_hist=0)"
   ]
  },
  {
   "cell_type": "code",
   "execution_count": 61,
   "metadata": {},
   "outputs": [
    {
     "data": {
      "text/plain": [
       "18"
      ]
     },
     "execution_count": 61,
     "metadata": {},
     "output_type": "execute_result"
    }
   ],
   "source": [
    "datasetIn['AGE'].min()"
   ]
  },
  {
   "cell_type": "markdown",
   "metadata": {},
   "source": [
    "Et nous pouvons voir avec un box plot encore"
   ]
  },
  {
   "cell_type": "code",
   "execution_count": 317,
   "metadata": {},
   "outputs": [
    {
     "data": {
      "image/png": "[encoded data removed]",
      "text/plain": [
       "<matplotlib.figure.Figure at 0x7fb76c254b50>"
      ]
     },
     "metadata": {},
     "output_type": "display_data"
    }
   ],
   "source": [
    "ax = sns.boxplot(x=datasetIn['BIRTHDAY'])"
   ]
  },
  {
   "cell_type": "code",
   "execution_count": 318,
   "metadata": {},
   "outputs": [
    {
     "data": {
      "text/html": [
       "<div>\n",
       "<style>\n",
       "    .dataframe thead tr:only-child th {\n",
       "        text-align: right;\n",
       "    }\n",
       "\n",
       "    .dataframe thead th {\n",
       "        text-align: left;\n",
       "    }\n",
       "\n",
       "    .dataframe tbody tr th {\n",
       "        vertical-align: top;\n",
       "    }\n",
       "</style>\n",
       "<table border=\"1\" class=\"dataframe\">\n",
       "  <thead>\n",
       "    <tr style=\"text-align: right;\">\n",
       "      <th></th>\n",
       "      <th>IDENTIFICATION</th>\n",
       "      <th>BIRTHDAY</th>\n",
       "      <th>DIPLOMPERCENTAGE</th>\n",
       "    </tr>\n",
       "  </thead>\n",
       "  <tbody>\n",
       "    <tr>\n",
       "      <th>count</th>\n",
       "      <td>4038.000000</td>\n",
       "      <td>4038.000000</td>\n",
       "      <td>4038.000000</td>\n",
       "    </tr>\n",
       "    <tr>\n",
       "      <th>mean</th>\n",
       "      <td>8792.137692</td>\n",
       "      <td>24.544329</td>\n",
       "      <td>57.749876</td>\n",
       "    </tr>\n",
       "    <tr>\n",
       "      <th>std</th>\n",
       "      <td>2333.542658</td>\n",
       "      <td>4.300963</td>\n",
       "      <td>95.088746</td>\n",
       "    </tr>\n",
       "    <tr>\n",
       "      <th>min</th>\n",
       "      <td>215.000000</td>\n",
       "      <td>18.000000</td>\n",
       "      <td>0.000000</td>\n",
       "    </tr>\n",
       "    <tr>\n",
       "      <th>25%</th>\n",
       "      <td>7310.250000</td>\n",
       "      <td>22.000000</td>\n",
       "      <td>52.000000</td>\n",
       "    </tr>\n",
       "    <tr>\n",
       "      <th>50%</th>\n",
       "      <td>9181.500000</td>\n",
       "      <td>24.000000</td>\n",
       "      <td>55.000000</td>\n",
       "    </tr>\n",
       "    <tr>\n",
       "      <th>75%</th>\n",
       "      <td>10540.750000</td>\n",
       "      <td>26.000000</td>\n",
       "      <td>60.000000</td>\n",
       "    </tr>\n",
       "    <tr>\n",
       "      <th>max</th>\n",
       "      <td>12360.000000</td>\n",
       "      <td>58.000000</td>\n",
       "      <td>6053.000000</td>\n",
       "    </tr>\n",
       "  </tbody>\n",
       "</table>\n",
       "</div>"
      ],
      "text/plain": [
       "       IDENTIFICATION     BIRTHDAY  DIPLOMPERCENTAGE\n",
       "count     4038.000000  4038.000000       4038.000000\n",
       "mean      8792.137692    24.544329         57.749876\n",
       "std       2333.542658     4.300963         95.088746\n",
       "min        215.000000    18.000000          0.000000\n",
       "25%       7310.250000    22.000000         52.000000\n",
       "50%       9181.500000    24.000000         55.000000\n",
       "75%      10540.750000    26.000000         60.000000\n",
       "max      12360.000000    58.000000       6053.000000"
      ]
     },
     "execution_count": 318,
     "metadata": {},
     "output_type": "execute_result"
    }
   ],
   "source": [
    "datasetIn.describe()"
   ]
  },
  {
   "cell_type": "markdown",
   "metadata": {},
   "source": [
    "###### Attribue Diplome Percentage"
   ]
  },
  {
   "cell_type": "markdown",
   "metadata": {},
   "source": [
    "comme souligné dans la phase précedante cette variable dispose des variables aberantes "
   ]
  },
  {
   "cell_type": "markdown",
   "metadata": {},
   "source": [
    "voyons cela de pret encore :"
   ]
  },
  {
   "cell_type": "code",
   "execution_count": 320,
   "metadata": {},
   "outputs": [
    {
     "data": {
      "image/png": "[encoded data removed]",
      "text/plain": [
       "<matplotlib.figure.Figure at 0x7fb76f9c4550>"
      ]
     },
     "metadata": {},
     "output_type": "display_data"
    }
   ],
   "source": [
    "ax = sns.boxplot(x=datasetIn['DIPLOMPERCENTAGE'])"
   ]
  },
  {
   "cell_type": "markdown",
   "metadata": {},
   "source": [
    "ce graphique montre parfaitement que la variable dispose des valeurs aberantes qui ont une tres grande influance sur la moyenne et l'ecart type'"
   ]
  },
  {
   "cell_type": "code",
   "execution_count": 322,
   "metadata": {},
   "outputs": [
    {
     "data": {
      "text/plain": [
       "count    4038.000000\n",
       "mean       57.749876\n",
       "std        95.088746\n",
       "min         0.000000\n",
       "25%        52.000000\n",
       "50%        55.000000\n",
       "75%        60.000000\n",
       "max      6053.000000\n",
       "Name: DIPLOMPERCENTAGE, dtype: float64"
      ]
     },
     "execution_count": 322,
     "metadata": {},
     "output_type": "execute_result"
    }
   ],
   "source": [
    "datasetIn.DIPLOMPERCENTAGE.describe()"
   ]
  },
  {
   "cell_type": "markdown",
   "metadata": {},
   "source": [
    "un max de 6053 et un minimum de 0 c'est pratiquement impossible pour le pourcentage d'un diplome d'etat'"
   ]
  },
  {
   "cell_type": "code",
   "execution_count": 324,
   "metadata": {},
   "outputs": [
    {
     "data": {
      "text/plain": [
       "29"
      ]
     },
     "execution_count": 324,
     "metadata": {},
     "output_type": "execute_result"
    }
   ],
   "source": [
    "len(datasetIn.loc[~datasetIn.DIPLOMPERCENTAGE.isin(range(50,100) )])"
   ]
  },
  {
   "cell_type": "markdown",
   "metadata": {},
   "source": [
    "nous dispons de 29 données aberantes qui riquent de biaser notre études nous avons decider de le imputer au cas par cas"
   ]
  },
  {
   "cell_type": "markdown",
   "metadata": {},
   "source": [
    "jettons au cout d'oeil sur le bloxplot sans les données aberantes "
   ]
  },
  {
   "cell_type": "code",
   "execution_count": 326,
   "metadata": {
    "scrolled": true
   },
   "outputs": [
    {
     "data": {
      "image/png": "[encoded data removed]",
      "text/plain": [
       "<matplotlib.figure.Figure at 0x7fb76c501fd0>"
      ]
     },
     "metadata": {},
     "output_type": "display_data"
    }
   ],
   "source": [
    "ax = sns.boxplot(x=datasetIn.DIPLOMPERCENTAGE.loc[datasetIn.DIPLOMPERCENTAGE.isin(range(50,100) )])"
   ]
  },
  {
   "cell_type": "markdown",
   "metadata": {},
   "source": [
    "et les description statistiques "
   ]
  },
  {
   "cell_type": "code",
   "execution_count": 77,
   "metadata": {
    "scrolled": true
   },
   "outputs": [],
   "source": [
    "datasetIn.DIPLOMPERCENTAGE.loc[datasetIn.DIPLOMPERCENTAGE<50]=MoyeneDip"
   ]
  },
  {
   "cell_type": "code",
   "execution_count": 78,
   "metadata": {},
   "outputs": [
    {
     "data": {
      "text/html": [
       "<div>\n",
       "<table border=\"1\" class=\"dataframe\">\n",
       "  <thead>\n",
       "    <tr style=\"text-align: right;\">\n",
       "      <th></th>\n",
       "      <th>Unnamed: 0</th>\n",
       "      <th>IDENTIFICATION</th>\n",
       "      <th>DIPLOMPERCENTAGE</th>\n",
       "      <th>AGE</th>\n",
       "    </tr>\n",
       "  </thead>\n",
       "  <tbody>\n",
       "    <tr>\n",
       "      <th>count</th>\n",
       "      <td>4715.00000</td>\n",
       "      <td>4715.000000</td>\n",
       "      <td>4715.000000</td>\n",
       "      <td>4715.000000</td>\n",
       "    </tr>\n",
       "    <tr>\n",
       "      <th>mean</th>\n",
       "      <td>2357.00000</td>\n",
       "      <td>8720.744221</td>\n",
       "      <td>56.878914</td>\n",
       "      <td>24.732768</td>\n",
       "    </tr>\n",
       "    <tr>\n",
       "      <th>std</th>\n",
       "      <td>1361.24759</td>\n",
       "      <td>2451.528838</td>\n",
       "      <td>5.756663</td>\n",
       "      <td>4.621602</td>\n",
       "    </tr>\n",
       "    <tr>\n",
       "      <th>min</th>\n",
       "      <td>0.00000</td>\n",
       "      <td>45.000000</td>\n",
       "      <td>50.000000</td>\n",
       "      <td>18.000000</td>\n",
       "    </tr>\n",
       "    <tr>\n",
       "      <th>25%</th>\n",
       "      <td>1178.50000</td>\n",
       "      <td>7149.000000</td>\n",
       "      <td>52.000000</td>\n",
       "      <td>22.000000</td>\n",
       "    </tr>\n",
       "    <tr>\n",
       "      <th>50%</th>\n",
       "      <td>2357.00000</td>\n",
       "      <td>9172.000000</td>\n",
       "      <td>56.000000</td>\n",
       "      <td>24.000000</td>\n",
       "    </tr>\n",
       "    <tr>\n",
       "      <th>75%</th>\n",
       "      <td>3535.50000</td>\n",
       "      <td>10579.500000</td>\n",
       "      <td>60.000000</td>\n",
       "      <td>27.000000</td>\n",
       "    </tr>\n",
       "    <tr>\n",
       "      <th>max</th>\n",
       "      <td>4714.00000</td>\n",
       "      <td>12360.000000</td>\n",
       "      <td>86.000000</td>\n",
       "      <td>59.000000</td>\n",
       "    </tr>\n",
       "  </tbody>\n",
       "</table>\n",
       "</div>"
      ],
      "text/plain": [
       "       Unnamed: 0  IDENTIFICATION  DIPLOMPERCENTAGE          AGE\n",
       "count  4715.00000     4715.000000       4715.000000  4715.000000\n",
       "mean   2357.00000     8720.744221         56.878914    24.732768\n",
       "std    1361.24759     2451.528838          5.756663     4.621602\n",
       "min       0.00000       45.000000         50.000000    18.000000\n",
       "25%    1178.50000     7149.000000         52.000000    22.000000\n",
       "50%    2357.00000     9172.000000         56.000000    24.000000\n",
       "75%    3535.50000    10579.500000         60.000000    27.000000\n",
       "max    4714.00000    12360.000000         86.000000    59.000000"
      ]
     },
     "execution_count": 78,
     "metadata": {},
     "output_type": "execute_result"
    }
   ],
   "source": [
    "datasetIn.describe()"
   ]
  },
  {
   "cell_type": "code",
   "execution_count": 76,
   "metadata": {},
   "outputs": [],
   "source": [
    "MoyeneDip=datasetIn.DIPLOMPERCENTAGE.loc[datasetIn.DIPLOMPERCENTAGE.isin(range(50,100) )].mean()"
   ]
  },
  {
   "cell_type": "code",
   "execution_count": 79,
   "metadata": {
    "collapsed": true
   },
   "outputs": [],
   "source": [
    "datasetIn.to_csv('DatasetInClean.csv')"
   ]
  },
  {
   "cell_type": "code",
   "execution_count": null,
   "metadata": {
    "collapsed": true
   },
   "outputs": [],
   "source": []
  }
 ],
 "metadata": {
  "kernelspec": {
   "display_name": "Python 2",
   "language": "python",
   "name": "python2"
  },
  "language_info": {
   "codemirror_mode": {
    "name": "ipython",
    "version": 2
   },
   "file_extension": ".py",
   "mimetype": "text/x-python",
   "name": "python",
   "nbconvert_exporter": "python",
   "pygments_lexer": "ipython2",
   "version": "2.7.13"
  }
 },
 "nbformat": 4,
 "nbformat_minor": 2
}
