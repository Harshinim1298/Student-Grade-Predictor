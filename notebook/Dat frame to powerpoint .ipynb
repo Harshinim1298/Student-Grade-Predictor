{
 "cells": [
  {
   "cell_type": "code",
   "execution_count": 3,
   "metadata": {
    "collapsed": true
   },
   "outputs": [],
   "source": [
    "import pandas as pd\n",
    "import numpy as np\n",
    "import matplotlib.pyplot as plt\n",
    "import seaborn as sns #for beatiful visualizations\n",
    "%matplotlib inline \n",
    "import scipy.stats as scs #for statistics\n",
    "import operator\n",
    "from scipy.stats import chi2_contingency\n",
    "import matplotlib.ticker as ticker\n",
    "import statsmodels.api as sm\n",
    "from statsmodels.formula.api import ols\n",
    "from sklearn.preprocessing import *"
   ]
  },
  {
   "cell_type": "code",
   "execution_count": 4,
   "metadata": {
    "collapsed": true
   },
   "outputs": [],
   "source": [
    "from sklearn.linear_model import Ridge,Lasso,ElasticNet,LinearRegression\n",
    "from sklearn.model_selection import cross_val_score\n",
    "from sklearn.model_selection import StratifiedShuffleSplit\n",
    "from sklearn.svm import LinearSVR,SVR\n",
    "from sklearn.metrics import mean_squared_error\n",
    "from sklearn.externals import joblib"
   ]
  },
  {
   "cell_type": "code",
   "execution_count": 6,
   "metadata": {},
   "outputs": [],
   "source": [
    "dataset = pd.read_csv('../dataset/FinalData.csv')"
   ]
  },
  {
   "cell_type": "code",
   "execution_count": 7,
   "metadata": {
    "scrolled": false
   },
   "outputs": [
    {
     "data": {
      "text/html": [
       "<div>\n",
       "<table border=\"1\" class=\"dataframe\">\n",
       "  <thead>\n",
       "    <tr style=\"text-align: right;\">\n",
       "      <th></th>\n",
       "      <th>IDENTIFICATION</th>\n",
       "      <th>BIRTHDAY</th>\n",
       "      <th>NAME</th>\n",
       "      <th>DIPLOMDATE</th>\n",
       "      <th>DIPLOMTYPE</th>\n",
       "      <th>DIPLOMMENTION</th>\n",
       "      <th>DIPLOMPERCENTAGE</th>\n",
       "      <th>DIPLOMSECTION</th>\n",
       "      <th>DIPLOMOPTION</th>\n",
       "      <th>DIPLOMPLACE</th>\n",
       "      <th>...</th>\n",
       "      <th>SCHOOLCODE</th>\n",
       "      <th>SCHOOLSTATUS</th>\n",
       "      <th>ACADYEAR</th>\n",
       "      <th>PERC1</th>\n",
       "      <th>MENT1</th>\n",
       "      <th>PERC2</th>\n",
       "      <th>MENT2</th>\n",
       "      <th>FAC</th>\n",
       "      <th>OPT</th>\n",
       "      <th>PROM</th>\n",
       "    </tr>\n",
       "  </thead>\n",
       "  <tbody>\n",
       "    <tr>\n",
       "      <th>0</th>\n",
       "      <td>45</td>\n",
       "      <td>1972-03-21</td>\n",
       "      <td>H</td>\n",
       "      <td>1994-09-29</td>\n",
       "      <td>inconnu</td>\n",
       "      <td>NaN</td>\n",
       "      <td>50.0</td>\n",
       "      <td>PEDAGOGIEQUE</td>\n",
       "      <td>PEDA GENERALE</td>\n",
       "      <td>KIN</td>\n",
       "      <td>...</td>\n",
       "      <td>INSTITUT MAENDELEO</td>\n",
       "      <td>inconnu</td>\n",
       "      <td>2013-2014</td>\n",
       "      <td>NaN</td>\n",
       "      <td>ASSIMILE AUX AJOURNES</td>\n",
       "      <td>NaN</td>\n",
       "      <td>NaN</td>\n",
       "      <td>Faculté de Psychologie et des Sciences de l'Éd...</td>\n",
       "      <td>Sciences de l'Éducation</td>\n",
       "      <td>L2</td>\n",
       "    </tr>\n",
       "    <tr>\n",
       "      <th>1</th>\n",
       "      <td>215</td>\n",
       "      <td>1978-09-07</td>\n",
       "      <td>F</td>\n",
       "      <td>NaN</td>\n",
       "      <td>DIPLÔME D'ETAT</td>\n",
       "      <td>NaN</td>\n",
       "      <td>58.0</td>\n",
       "      <td>SCIENTIFIQUE</td>\n",
       "      <td>MATH-PHYSIQUE</td>\n",
       "      <td>NaN</td>\n",
       "      <td>...</td>\n",
       "      <td>INSTITUT VUNGI</td>\n",
       "      <td>inconnu</td>\n",
       "      <td>2012-2013</td>\n",
       "      <td>NaN</td>\n",
       "      <td>ADMIS AU MEMOIRE</td>\n",
       "      <td>63.099998</td>\n",
       "      <td>SATISFACTION</td>\n",
       "      <td>Faculté de Droit</td>\n",
       "      <td>Droit Privé et Judiciaire</td>\n",
       "      <td>L2</td>\n",
       "    </tr>\n",
       "    <tr>\n",
       "      <th>2</th>\n",
       "      <td>343</td>\n",
       "      <td>1973-03-04</td>\n",
       "      <td>H</td>\n",
       "      <td>1999-11-15</td>\n",
       "      <td>DIPLÔME D'ETAT</td>\n",
       "      <td>NaN</td>\n",
       "      <td>54.0</td>\n",
       "      <td>SCIENTIFIQUE</td>\n",
       "      <td>MATH PHYSIQUE</td>\n",
       "      <td>KINSHASA</td>\n",
       "      <td>...</td>\n",
       "      <td>INSTITUT FARAJA</td>\n",
       "      <td>inconnu</td>\n",
       "      <td>2015-2016</td>\n",
       "      <td>NaN</td>\n",
       "      <td>ASSIMILE AUX AJOURNES</td>\n",
       "      <td>52.200001</td>\n",
       "      <td>AJOURNE</td>\n",
       "      <td>Faculté des Sciences Économiques et de Gestion</td>\n",
       "      <td>Tronc commun</td>\n",
       "      <td>G2</td>\n",
       "    </tr>\n",
       "    <tr>\n",
       "      <th>3</th>\n",
       "      <td>356</td>\n",
       "      <td>1978-03-02</td>\n",
       "      <td>H</td>\n",
       "      <td>1997-12-24</td>\n",
       "      <td>DIPLÔME D'ETAT DU RWANDA</td>\n",
       "      <td>NaN</td>\n",
       "      <td>60.0</td>\n",
       "      <td>ECONOMIE ET COMMERCE</td>\n",
       "      <td>ECONOMIE</td>\n",
       "      <td>GISENYI</td>\n",
       "      <td>...</td>\n",
       "      <td>ESISE/GISENYI</td>\n",
       "      <td>inconnu</td>\n",
       "      <td>2015-2016</td>\n",
       "      <td>NaN</td>\n",
       "      <td>ADMIS AU STAGE ET AU MEMOIRE</td>\n",
       "      <td>59.900002</td>\n",
       "      <td>SATISFACTION</td>\n",
       "      <td>Faculté des Sciences Économiques et de Gestion</td>\n",
       "      <td>Gestion des Entreprises</td>\n",
       "      <td>L2</td>\n",
       "    </tr>\n",
       "    <tr>\n",
       "      <th>4</th>\n",
       "      <td>398</td>\n",
       "      <td>1968-02-28</td>\n",
       "      <td>H</td>\n",
       "      <td>1990-07-02</td>\n",
       "      <td>DIPLÔME D'ETAT</td>\n",
       "      <td>NaN</td>\n",
       "      <td>60.0</td>\n",
       "      <td>SCIENTIFIQUE</td>\n",
       "      <td>MATH PHYSIQUE</td>\n",
       "      <td>KINSHASA</td>\n",
       "      <td>...</td>\n",
       "      <td>NaN</td>\n",
       "      <td>inconnu</td>\n",
       "      <td>2012-2013</td>\n",
       "      <td>65.099998</td>\n",
       "      <td>SATISFACTION</td>\n",
       "      <td>NaN</td>\n",
       "      <td>NaN</td>\n",
       "      <td>Faculté de Santé et Développement Communautaires</td>\n",
       "      <td>Santé et Développement Communautaires</td>\n",
       "      <td>L2</td>\n",
       "    </tr>\n",
       "  </tbody>\n",
       "</table>\n",
       "<p>5 rows × 22 columns</p>\n",
       "</div>"
      ],
      "text/plain": [
       "   IDENTIFICATION    BIRTHDAY NAME  DIPLOMDATE                DIPLOMTYPE  \\\n",
       "0              45  1972-03-21    H  1994-09-29                   inconnu   \n",
       "1             215  1978-09-07    F         NaN            DIPLÔME D'ETAT   \n",
       "2             343  1973-03-04    H  1999-11-15            DIPLÔME D'ETAT   \n",
       "3             356  1978-03-02    H  1997-12-24  DIPLÔME D'ETAT DU RWANDA   \n",
       "4             398  1968-02-28    H  1990-07-02            DIPLÔME D'ETAT   \n",
       "\n",
       "  DIPLOMMENTION  DIPLOMPERCENTAGE         DIPLOMSECTION   DIPLOMOPTION  \\\n",
       "0           NaN              50.0          PEDAGOGIEQUE  PEDA GENERALE   \n",
       "1           NaN              58.0          SCIENTIFIQUE  MATH-PHYSIQUE   \n",
       "2           NaN              54.0          SCIENTIFIQUE  MATH PHYSIQUE   \n",
       "3           NaN              60.0  ECONOMIE ET COMMERCE       ECONOMIE   \n",
       "4           NaN              60.0          SCIENTIFIQUE  MATH PHYSIQUE   \n",
       "\n",
       "  DIPLOMPLACE ...           SCHOOLCODE SCHOOLSTATUS   ACADYEAR      PERC1  \\\n",
       "0         KIN ...   INSTITUT MAENDELEO      inconnu  2013-2014        NaN   \n",
       "1         NaN ...       INSTITUT VUNGI      inconnu  2012-2013        NaN   \n",
       "2    KINSHASA ...      INSTITUT FARAJA      inconnu  2015-2016        NaN   \n",
       "3     GISENYI ...        ESISE/GISENYI      inconnu  2015-2016        NaN   \n",
       "4    KINSHASA ...                  NaN      inconnu  2012-2013  65.099998   \n",
       "\n",
       "                          MENT1      PERC2         MENT2  \\\n",
       "0         ASSIMILE AUX AJOURNES        NaN           NaN   \n",
       "1              ADMIS AU MEMOIRE  63.099998  SATISFACTION   \n",
       "2         ASSIMILE AUX AJOURNES  52.200001       AJOURNE   \n",
       "3  ADMIS AU STAGE ET AU MEMOIRE  59.900002  SATISFACTION   \n",
       "4                  SATISFACTION        NaN           NaN   \n",
       "\n",
       "                                                 FAC  \\\n",
       "0  Faculté de Psychologie et des Sciences de l'Éd...   \n",
       "1                                   Faculté de Droit   \n",
       "2     Faculté des Sciences Économiques et de Gestion   \n",
       "3     Faculté des Sciences Économiques et de Gestion   \n",
       "4   Faculté de Santé et Développement Communautaires   \n",
       "\n",
       "                                     OPT PROM  \n",
       "0                Sciences de l'Éducation   L2  \n",
       "1              Droit Privé et Judiciaire   L2  \n",
       "2                           Tronc commun   G2  \n",
       "3                Gestion des Entreprises   L2  \n",
       "4  Santé et Développement Communautaires   L2  \n",
       "\n",
       "[5 rows x 22 columns]"
      ]
     },
     "execution_count": 7,
     "metadata": {},
     "output_type": "execute_result"
    }
   ],
   "source": [
    "dataset.head(5)"
   ]
  },
  {
   "cell_type": "code",
   "execution_count": 11,
   "metadata": {
    "scrolled": false
   },
   "outputs": [],
   "source": [
    "dataset.drop(labels=['DIPLOMDATE','DIPLOMTYPE','DIPLOMMENTION'],axis=1,inplace=True)"
   ]
  },
  {
   "cell_type": "code",
   "execution_count": 14,
   "metadata": {
    "scrolled": false
   },
   "outputs": [],
   "source": [
    "dataset.rename(columns={'IDENTIFICATION':'ID','NAME':'SEXE','DIPLOMPERCENTAGE':'DIPPERC','DIPLOMSECTION':'SECTION','DIPLOMOPTION':'OPTION'},inplace=True)"
   ]
  },
  {
   "cell_type": "code",
   "execution_count": 19,
   "metadata": {
    "scrolled": true
   },
   "outputs": [],
   "source": [
    "dataset.drop(labels=['SCHOOLCODE','DIPLOMPLACE'],inplace=True,axis=1)"
   ]
  },
  {
   "cell_type": "code",
   "execution_count": 15,
   "metadata": {
    "scrolled": true
   },
   "outputs": [],
   "source": [
    "dataset.set_index('ID',inplace=True)"
   ]
  },
  {
   "cell_type": "code",
   "execution_count": 24,
   "metadata": {},
   "outputs": [],
   "source": [
    "dataset = dataset.head(10)"
   ]
  },
  {
   "cell_type": "code",
   "execution_count": 32,
   "metadata": {
    "scrolled": false
   },
   "outputs": [],
   "source": [
    "dataset.to_csv('../dataset/DataForPresentation.csv')"
   ]
  },
  {
   "cell_type": "markdown",
   "metadata": {},
   "source": [
    "In this slide we will try to convert all the dataset and pictures to power point elements for the last presentation"
   ]
  },
  {
   "cell_type": "code",
   "execution_count": 36,
   "metadata": {
    "scrolled": true
   },
   "outputs": [
    {
     "data": {
      "text/html": [
       "<div>\n",
       "<table border=\"1\" class=\"dataframe\">\n",
       "  <thead>\n",
       "    <tr style=\"text-align: right;\">\n",
       "      <th></th>\n",
       "      <th>BIRTHDAY</th>\n",
       "      <th>SEXE</th>\n",
       "      <th>DIPPERC</th>\n",
       "      <th>SECTION</th>\n",
       "      <th>OPTION</th>\n",
       "      <th>SCHOOL</th>\n",
       "      <th>SCHOOLPROVINCE</th>\n",
       "      <th>SCHOOLSTATUS</th>\n",
       "      <th>ACADYEAR</th>\n",
       "      <th>PERC1</th>\n",
       "      <th>MENT1</th>\n",
       "      <th>PERC2</th>\n",
       "      <th>MENT2</th>\n",
       "      <th>FAC</th>\n",
       "      <th>OPT</th>\n",
       "      <th>PROM</th>\n",
       "    </tr>\n",
       "    <tr>\n",
       "      <th>ID</th>\n",
       "      <th></th>\n",
       "      <th></th>\n",
       "      <th></th>\n",
       "      <th></th>\n",
       "      <th></th>\n",
       "      <th></th>\n",
       "      <th></th>\n",
       "      <th></th>\n",
       "      <th></th>\n",
       "      <th></th>\n",
       "      <th></th>\n",
       "      <th></th>\n",
       "      <th></th>\n",
       "      <th></th>\n",
       "      <th></th>\n",
       "      <th></th>\n",
       "    </tr>\n",
       "  </thead>\n",
       "  <tbody>\n",
       "    <tr>\n",
       "      <th>45</th>\n",
       "      <td>1972-03-21</td>\n",
       "      <td>H</td>\n",
       "      <td>50.0</td>\n",
       "      <td>PEDAGOGIEQUE</td>\n",
       "      <td>PEDA GENERALE</td>\n",
       "      <td>INSTITUT MAENDELEO</td>\n",
       "      <td>NORD-KIVU</td>\n",
       "      <td>inconnu</td>\n",
       "      <td>2013-2014</td>\n",
       "      <td>NaN</td>\n",
       "      <td>ASSIMILE AUX AJOURNES</td>\n",
       "      <td>NaN</td>\n",
       "      <td>NaN</td>\n",
       "      <td>Faculté de Psychologie et des Sciences de l'Éd...</td>\n",
       "      <td>Sciences de l'Éducation</td>\n",
       "      <td>L2</td>\n",
       "    </tr>\n",
       "  </tbody>\n",
       "</table>\n",
       "</div>"
      ],
      "text/plain": [
       "      BIRTHDAY SEXE  DIPPERC       SECTION         OPTION              SCHOOL  \\\n",
       "ID                                                                              \n",
       "45  1972-03-21    H     50.0  PEDAGOGIEQUE  PEDA GENERALE  INSTITUT MAENDELEO   \n",
       "\n",
       "   SCHOOLPROVINCE SCHOOLSTATUS   ACADYEAR  PERC1                  MENT1  \\\n",
       "ID                                                                        \n",
       "45      NORD-KIVU      inconnu  2013-2014    NaN  ASSIMILE AUX AJOURNES   \n",
       "\n",
       "    PERC2 MENT2                                                FAC  \\\n",
       "ID                                                                   \n",
       "45    NaN   NaN  Faculté de Psychologie et des Sciences de l'Éd...   \n",
       "\n",
       "                        OPT PROM  \n",
       "ID                                \n",
       "45  Sciences de l'Éducation   L2  "
      ]
     },
     "execution_count": 36,
     "metadata": {},
     "output_type": "execute_result"
    }
   ],
   "source": []
  },
  {
   "cell_type": "code",
   "execution_count": 54,
   "metadata": {},
   "outputs": [],
   "source": [
    "dataset = pd.read_csv('../dataset/DataForPresentation.csv')"
   ]
  },
  {
   "cell_type": "code",
   "execution_count": 28,
   "metadata": {
    "scrolled": false
   },
   "outputs": [],
   "source": [
    "dataset=dataset[[u'ID', u'BIRTHDAY', u'SEXE', u'DIPLOMDATE',\n",
    "       u'DIPLOMTYPE', u'DIPPERC', u'SECTION', u'OPTION',\n",
    "       u'SCHOOL', u'SCHOOLPROVINCE', u'SCHOOLSTATUS']]"
   ]
  },
  {
   "cell_type": "code",
   "execution_count": 60,
   "metadata": {
    "scrolled": false
   },
   "outputs": [],
   "source": [
    "dataset=dataset.drop(labels=['DIPLOMDATE'],axis=1).set_index(keys='ID').head(10)"
   ]
  },
  {
   "cell_type": "code",
   "execution_count": 88,
   "metadata": {
    "collapsed": true
   },
   "outputs": [],
   "source": [
    "writer =  pd.ExcelWriter('DataForPresentation.xlsx')"
   ]
  },
  {
   "cell_type": "code",
   "execution_count": 50,
   "metadata": {
    "collapsed": true
   },
   "outputs": [],
   "source": [
    "writer =  pd.ExcelWriter('DataForPresentation.xlsx')\n",
    "dataset.to_excel(writer,'datasetIn1',na_rep='NaN',encoding='utf-8')\n",
    "writer.close()"
   ]
  },
  {
   "cell_type": "code",
   "execution_count": 52,
   "metadata": {
    "scrolled": true
   },
   "outputs": [],
   "source": [
    "writer.save()"
   ]
  },
  {
   "cell_type": "code",
   "execution_count": 53,
   "metadata": {},
   "outputs": [],
   "source": [
    "writer.close()"
   ]
  },
  {
   "cell_type": "code",
   "execution_count": 48,
   "metadata": {
    "collapsed": true
   },
   "outputs": [],
   "source": [
    "import sys\n",
    "reload(sys)\n",
    "sys.setdefaultencoding('utf-8')"
   ]
  },
  {
   "cell_type": "code",
   "execution_count": 68,
   "metadata": {
    "collapsed": true
   },
   "outputs": [],
   "source": [
    "datasetOut = pd.read_csv('../dataset/DatasetOutV2.csv')"
   ]
  },
  {
   "cell_type": "code",
   "execution_count": 69,
   "metadata": {
    "scrolled": false
   },
   "outputs": [],
   "source": [
    "datasetOut=datasetOut.loc[datasetOut.ID.isin(dataset.index)]"
   ]
  },
  {
   "cell_type": "code",
   "execution_count": 65,
   "metadata": {},
   "outputs": [
    {
     "data": {
      "text/plain": [
       "Index([u'Unnamed: 0', u'ID', u'ACADYEAR', u'PERC1', u'MENT1', u'PERC2',\n",
       "       u'MENT2', u'FAC', u'PROM', u'Echec', u'Pass1erSession', u'Distinction',\n",
       "       u'PercFinal'],\n",
       "      dtype='object')"
      ]
     },
     "execution_count": 65,
     "metadata": {},
     "output_type": "execute_result"
    }
   ],
   "source": [
    "datasetOut.columns"
   ]
  },
  {
   "cell_type": "code",
   "execution_count": 71,
   "metadata": {
    "scrolled": true
   },
   "outputs": [],
   "source": [
    "datasetOut=datasetOut[[u'ID', u'ACADYEAR', u'PERC1', u'MENT1', u'PERC2',\n",
    "       u'MENT2', u'FAC', u'PROM']]"
   ]
  },
  {
   "cell_type": "code",
   "execution_count": 72,
   "metadata": {},
   "outputs": [
    {
     "data": {
      "text/plain": [
       "(11, 8)"
      ]
     },
     "execution_count": 72,
     "metadata": {},
     "output_type": "execute_result"
    }
   ],
   "source": [
    "datasetOut.shape"
   ]
  },
  {
   "cell_type": "code",
   "execution_count": 74,
   "metadata": {
    "scrolled": false
   },
   "outputs": [
    {
     "data": {
      "text/html": [
       "<div>\n",
       "<table border=\"1\" class=\"dataframe\">\n",
       "  <thead>\n",
       "    <tr style=\"text-align: right;\">\n",
       "      <th></th>\n",
       "      <th>ACADYEAR</th>\n",
       "      <th>PERC1</th>\n",
       "      <th>MENT1</th>\n",
       "      <th>PERC2</th>\n",
       "      <th>MENT2</th>\n",
       "      <th>FAC</th>\n",
       "      <th>PROM</th>\n",
       "    </tr>\n",
       "    <tr>\n",
       "      <th>ID</th>\n",
       "      <th></th>\n",
       "      <th></th>\n",
       "      <th></th>\n",
       "      <th></th>\n",
       "      <th></th>\n",
       "      <th></th>\n",
       "      <th></th>\n",
       "    </tr>\n",
       "  </thead>\n",
       "  <tbody>\n",
       "    <tr>\n",
       "      <th>45</th>\n",
       "      <td>2013-2014</td>\n",
       "      <td>NaN</td>\n",
       "      <td>AA</td>\n",
       "      <td>NaN</td>\n",
       "      <td>NaN</td>\n",
       "      <td>FPSE</td>\n",
       "      <td>L2</td>\n",
       "    </tr>\n",
       "    <tr>\n",
       "      <th>215</th>\n",
       "      <td>2012-2013</td>\n",
       "      <td>NaN</td>\n",
       "      <td>ADM</td>\n",
       "      <td>63.099998</td>\n",
       "      <td>S</td>\n",
       "      <td>FD</td>\n",
       "      <td>L2</td>\n",
       "    </tr>\n",
       "    <tr>\n",
       "      <th>343</th>\n",
       "      <td>2015-2016</td>\n",
       "      <td>NaN</td>\n",
       "      <td>AA</td>\n",
       "      <td>52.200001</td>\n",
       "      <td>A</td>\n",
       "      <td>FSEG</td>\n",
       "      <td>G2</td>\n",
       "    </tr>\n",
       "    <tr>\n",
       "      <th>356</th>\n",
       "      <td>2015-2016</td>\n",
       "      <td>NaN</td>\n",
       "      <td>ADSTM</td>\n",
       "      <td>59.900002</td>\n",
       "      <td>S</td>\n",
       "      <td>FSEG</td>\n",
       "      <td>L2</td>\n",
       "    </tr>\n",
       "    <tr>\n",
       "      <th>398</th>\n",
       "      <td>2012-2013</td>\n",
       "      <td>65.099998</td>\n",
       "      <td>S</td>\n",
       "      <td>NaN</td>\n",
       "      <td>NaN</td>\n",
       "      <td>FSDC</td>\n",
       "      <td>L2</td>\n",
       "    </tr>\n",
       "    <tr>\n",
       "      <th>429</th>\n",
       "      <td>2013-2014</td>\n",
       "      <td>NaN</td>\n",
       "      <td>AA</td>\n",
       "      <td>NaN</td>\n",
       "      <td>A</td>\n",
       "      <td>FD</td>\n",
       "      <td>G1</td>\n",
       "    </tr>\n",
       "    <tr>\n",
       "      <th>474</th>\n",
       "      <td>2014-2015</td>\n",
       "      <td>NaN</td>\n",
       "      <td>AA</td>\n",
       "      <td>NaN</td>\n",
       "      <td>NaN</td>\n",
       "      <td>FD</td>\n",
       "      <td>G3</td>\n",
       "    </tr>\n",
       "    <tr>\n",
       "      <th>474</th>\n",
       "      <td>2015-2016</td>\n",
       "      <td>62.500000</td>\n",
       "      <td>S</td>\n",
       "      <td>NaN</td>\n",
       "      <td>NaN</td>\n",
       "      <td>FD</td>\n",
       "      <td>G3</td>\n",
       "    </tr>\n",
       "    <tr>\n",
       "      <th>526</th>\n",
       "      <td>2012-2013</td>\n",
       "      <td>65.000000</td>\n",
       "      <td>S</td>\n",
       "      <td>NaN</td>\n",
       "      <td>NaN</td>\n",
       "      <td>FSDC</td>\n",
       "      <td>L2</td>\n",
       "    </tr>\n",
       "    <tr>\n",
       "      <th>644</th>\n",
       "      <td>2013-2014</td>\n",
       "      <td>60.400002</td>\n",
       "      <td>S</td>\n",
       "      <td>NaN</td>\n",
       "      <td>NaN</td>\n",
       "      <td>FD</td>\n",
       "      <td>L1</td>\n",
       "    </tr>\n",
       "    <tr>\n",
       "      <th>644</th>\n",
       "      <td>2014-2015</td>\n",
       "      <td>68.000000</td>\n",
       "      <td>S</td>\n",
       "      <td>NaN</td>\n",
       "      <td>NaN</td>\n",
       "      <td>FD</td>\n",
       "      <td>L2</td>\n",
       "    </tr>\n",
       "  </tbody>\n",
       "</table>\n",
       "</div>"
      ],
      "text/plain": [
       "      ACADYEAR      PERC1  MENT1      PERC2 MENT2   FAC PROM\n",
       "ID                                                          \n",
       "45   2013-2014        NaN     AA        NaN   NaN  FPSE   L2\n",
       "215  2012-2013        NaN    ADM  63.099998     S    FD   L2\n",
       "343  2015-2016        NaN     AA  52.200001     A  FSEG   G2\n",
       "356  2015-2016        NaN  ADSTM  59.900002     S  FSEG   L2\n",
       "398  2012-2013  65.099998      S        NaN   NaN  FSDC   L2\n",
       "429  2013-2014        NaN     AA        NaN     A    FD   G1\n",
       "474  2014-2015        NaN     AA        NaN   NaN    FD   G3\n",
       "474  2015-2016  62.500000      S        NaN   NaN    FD   G3\n",
       "526  2012-2013  65.000000      S        NaN   NaN  FSDC   L2\n",
       "644  2013-2014  60.400002      S        NaN   NaN    FD   L1\n",
       "644  2014-2015  68.000000      S        NaN   NaN    FD   L2"
      ]
     },
     "execution_count": 74,
     "metadata": {},
     "output_type": "execute_result"
    }
   ],
   "source": [
    "datasetOut.set_index(keys=['ID'])"
   ]
  },
  {
   "cell_type": "code",
   "execution_count": 80,
   "metadata": {
    "scrolled": false
   },
   "outputs": [],
   "source": [
    "dataset = pd.merge(left=dataset, right=datasetOut,left_on='ID',right_on='ID')"
   ]
  },
  {
   "cell_type": "code",
   "execution_count": 78,
   "metadata": {
    "scrolled": true
   },
   "outputs": [],
   "source": [
    "dataset.reset_index(inplace=True)\n",
    "dataset.reset_index(inplace=True)"
   ]
  },
  {
   "cell_type": "code",
   "execution_count": 85,
   "metadata": {
    "scrolled": false
   },
   "outputs": [],
   "source": [
    "dataset.drop(labels=['index'],axis=1,inplace=True)"
   ]
  },
  {
   "cell_type": "code",
   "execution_count": 87,
   "metadata": {},
   "outputs": [],
   "source": [
    "dataset.set_index(inplace=True,keys='ID')"
   ]
  },
  {
   "cell_type": "code",
   "execution_count": 89,
   "metadata": {
    "collapsed": true
   },
   "outputs": [],
   "source": [
    "writer =  pd.ExcelWriter('DataForPresentation.xlsx')\n",
    "dataset.to_excel(writer,'datasetIn1',na_rep='NaN',encoding='utf-8')\n",
    "writer.close()"
   ]
  },
  {
   "cell_type": "code",
   "execution_count": null,
   "metadata": {
    "collapsed": true
   },
   "outputs": [],
   "source": []
  }
 ],
 "metadata": {
  "kernelspec": {
   "display_name": "Python 2",
   "language": "python",
   "name": "python2"
  },
  "language_info": {
   "codemirror_mode": {
    "name": "ipython",
    "version": 2
   },
   "file_extension": ".py",
   "mimetype": "text/x-python",
   "name": "python",
   "nbconvert_exporter": "python",
   "pygments_lexer": "ipython2",
   "version": "2.7.13"
  }
 },
 "nbformat": 4,
 "nbformat_minor": 2
}
