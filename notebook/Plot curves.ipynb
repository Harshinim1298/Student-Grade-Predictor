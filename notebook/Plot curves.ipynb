{
 "cells": [
  {
   "cell_type": "code",
   "execution_count": 2,
   "metadata": {
    "collapsed": true
   },
   "outputs": [],
   "source": [
    "import pandas as pd\n",
    "import numpy as np\n",
    "import matplotlib.pyplot as plt\n",
    "import seaborn as sns #for beatiful visualizations\n",
    "%matplotlib inline \n",
    "import scipy.stats as scs #for statistics\n",
    "import operator\n",
    "from scipy.stats import chi2_contingency\n",
    "import matplotlib.ticker as ticker\n",
    "import statsmodels.api as sm\n",
    "from statsmodels.formula.api import ols\n",
    "from sklearn.preprocessing import *"
   ]
  },
  {
   "cell_type": "code",
   "execution_count": 3,
   "metadata": {
    "collapsed": true
   },
   "outputs": [],
   "source": [
    "from sklearn.linear_model import Ridge,Lasso,ElasticNet,LinearRegression\n",
    "from sklearn.model_selection import cross_val_score\n",
    "from sklearn.model_selection import StratifiedShuffleSplit\n",
    "from sklearn.svm import LinearSVR,SVR\n",
    "from sklearn.metrics import mean_squared_error\n",
    "from sklearn.externals import joblib"
   ]
  },
  {
   "cell_type": "code",
   "execution_count": 4,
   "metadata": {
    "collapsed": true
   },
   "outputs": [],
   "source": [
    "import predictiveModelBuilding\n",
    "from predictiveModelBuilding import PredictiveModelBuilding, final_job, convert_cat, build_final_dataset"
   ]
  },
  {
   "cell_type": "code",
   "execution_count": 4,
   "metadata": {
    "scrolled": true
   },
   "outputs": [
    {
     "name": "stdout",
     "output_type": "stream",
     "text": [
      "-------------before load--------------\n",
      "-------------after load--------------\n",
      "-------------before load--------------\n",
      "-------------after load--------------\n",
      "-------------before load--------------\n",
      "-------------after load--------------\n",
      "-------------before load--------------\n",
      "-------------after load--------------\n",
      "-------------before load--------------\n",
      "-------------after load--------------\n",
      "-------------before load--------------\n",
      "-------------after load--------------\n",
      "-------------before load--------------\n",
      "-------------after load--------------\n"
     ]
    }
   ],
   "source": [
    "import os\n",
    "predictives_models = []\n",
    "path = '../GradePredictorApp/app/static/classes/'\n",
    "for filename in os.listdir(path):\n",
    "    print '-------------before load--------------'\n",
    "    model = joblib.load(path+filename)\n",
    "    predictives_models.append(model)\n",
    "    print '-------------after load--------------'"
   ]
  },
  {
   "cell_type": "code",
   "execution_count": 5,
   "metadata": {},
   "outputs": [
    {
     "data": {
      "text/plain": [
       "[<predictiveModelBuilding.PredictiveModelBuilding at 0x106c1dd10>,\n",
       " <predictiveModelBuilding.PredictiveModelBuilding at 0x10bdb07d0>,\n",
       " <predictiveModelBuilding.PredictiveModelBuilding at 0x10c4d6090>,\n",
       " <predictiveModelBuilding.PredictiveModelBuilding at 0x10c4d6fd0>,\n",
       " <predictiveModelBuilding.PredictiveModelBuilding at 0x10bdb0910>,\n",
       " <predictiveModelBuilding.PredictiveModelBuilding at 0x10bdb08d0>,\n",
       " <predictiveModelBuilding.PredictiveModelBuilding at 0x10c4d6150>]"
      ]
     },
     "execution_count": 5,
     "metadata": {},
     "output_type": "execute_result"
    }
   ],
   "source": [
    "predictives_models"
   ]
  },
  {
   "cell_type": "code",
   "execution_count": 6,
   "metadata": {
    "collapsed": true
   },
   "outputs": [],
   "source": [
    "model_names = ['FM', 'FSTA', 'FD', 'FSDC', 'FSEG', 'FPSE', 'FT']"
   ]
  },
  {
   "cell_type": "code",
   "execution_count": 19,
   "metadata": {
    "collapsed": true,
    "scrolled": false
   },
   "outputs": [],
   "source": [
    "for dept, name in zip(predictives_models, model_names):\n",
    "    if name =='FPSE':\n",
    "        model=dept.predictive_models['Ridge']\n",
    "        coefficients=sorted(zip(np.abs(model.coef_), dept.dataset_bin.columns), reverse=True)"
   ]
  },
  {
   "cell_type": "code",
   "execution_count": 20,
   "metadata": {
    "scrolled": false
   },
   "outputs": [
    {
     "data": {
      "text/plain": [
       "[(0.67804584662265144, 'zawadi ya raisi'),\n",
       " (0.18896536264584327, 'construction'),\n",
       " (0.1674369148229489, 'machine outil'),\n",
       " (0.15628053158582803, 'math-physique'),\n",
       " (0.15248416105945381, 'batiment'),\n",
       " (0.1252001454878067, 'electricite'),\n",
       " (0.12077723845223862, 'commerciale et administrative'),\n",
       " (0.12044189129895197, 'imprimerie'),\n",
       " (0.11767695020423589, 'nutr'),\n",
       " (0.11669727137178823, 'commerciale informatique'),\n",
       " (0.11627757409948371, 'bio-chimie'),\n",
       " (0.11162337723484428, 'secretariat'),\n",
       " (0.10713224017549226, 'industrielle'),\n",
       " (0.10387461632020416, 'nidunga'),\n",
       " (0.099085150737779459, 'latin philo'),\n",
       " (0.094262046593652046, 'itfm maendeleo'),\n",
       " (0.090004053106756216, 'mec gene'),\n",
       " (0.088676845912415023, 'isoko'),\n",
       " (0.084386075388452622, 'chidasa'),\n",
       " (0.082262248155338363, 'ID'),\n",
       " (0.076745999818391683, 'lumumba'),\n",
       " (0.075483879800241863, 'kirimavolo'),\n",
       " (0.07381929092086878, 'de la sucrerie de kiliba'),\n",
       " (0.073454621672016357, 'uhuru'),\n",
       " (0.072835862946494689, 'itig'),\n",
       " (0.072177393540076185, 'mgr byaghene'),\n",
       " (0.072125194519739574, 'st michel'),\n",
       " (0.071530247114915249, 'itav/mushweshwe'),\n",
       " (0.070746435614868, 'mecanique machines outils'),\n",
       " (0.070524149501298164, 'kasika'),\n",
       " (0.068164034215704439, 'kamole'),\n",
       " (0.067047151988481796, 'visoke'),\n",
       " (0.066411136319620756, 'it kasabinyole'),\n",
       " (0.066411136319620714, 'inconnu'),\n",
       " (0.06611886301768824, 'cirezi'),\n",
       " (0.061126161893780312, '61'),\n",
       " (0.060245771478774177, 'mali'),\n",
       " (0.056606980682088658, 'katana'),\n",
       " (0.055089147581266172, 'himbi'),\n",
       " (0.054823113853556364, 'techn. f. maendeleo'),\n",
       " (0.053851473339067729, 'agrecole'),\n",
       " (0.053598675035831884, 'agronomie'),\n",
       " (0.052515605283409074, 'butembo'),\n",
       " (0.050186292982748855, 'saint marc'),\n",
       " (0.049290986343384871, 'maboso'),\n",
       " (0.04876900980339402, 'autodidacte'),\n",
       " (0.048054015965209494, 'it bugabo'),\n",
       " (0.047778227469813181, 'mukaba'),\n",
       " (0.047254386503395286, 'edak/goma'),\n",
       " (0.047114908680439424, 'namurera'),\n",
       " (0.045958375146116739, 'kambale'),\n",
       " (0.045546063749635622, 'gs la promise'),\n",
       " (0.04393629298274887, 'ndosho'),\n",
       " (0.043380700906009616, 'uenezaji'),\n",
       " (0.0433594365627165, 'groupe scolaire gilgali'),\n",
       " (0.042907376478079726, 'gscc'),\n",
       " (0.041528237006813171, 'de beni'),\n",
       " (0.041247228305774819, 'matendo'),\n",
       " (0.040351752932043357, 'mawato'),\n",
       " (0.040225747610377303, 'alfajiri'),\n",
       " (0.039349367114988335, 'st joseph'),\n",
       " (0.039277038875909914, 'sayuni'),\n",
       " (0.039277038875909859, 'pedagogie'),\n",
       " (0.03891655959310545, 'i katwa'),\n",
       " (0.038313146021366422, 'bambu'),\n",
       " (0.037734400438590887, 'ovoa'),\n",
       " (0.037643170456561258, 'enano'),\n",
       " (0.03617479088061433, 'mululu'),\n",
       " (0.036058479162265414, '54'),\n",
       " (0.035291293159704175, 'mwanda'),\n",
       " (0.03525710084314497, 'mehe'),\n",
       " (0.034786024971612844, 'itk mahamba'),\n",
       " (0.034587322508171009, 'iti gombe'),\n",
       " (0.034507545750951815, 'bakandja'),\n",
       " (0.034274304068151289, 'complex scolaire la veronique'),\n",
       " (0.033672916788253168, 'mbovote'),\n",
       " (0.033636191599437204, 'imani panzi'),\n",
       " (0.033503687202103595, 'pilote de katana'),\n",
       " (0.033146130303557342, 'milima'),\n",
       " (0.032194514247436086, 'masisi'),\n",
       " (0.031961523698930107, 'mululusake'),\n",
       " (0.031536359536670611, 'inst de katwa'),\n",
       " (0.031383160924041635, 'la pereaux'),\n",
       " (0.03118548428137095, 'rwabika'),\n",
       " (0.030989817829830964, 'bungulu beni'),\n",
       " (0.030945245095122254, 'kitundu'),\n",
       " (0.030902654680637912, 'bwindi'),\n",
       " (0.030813146021366426, 'mwendu'),\n",
       " (0.03023127744563368, 'icl'),\n",
       " (0.030101756746543317, 'technique mapendano'),\n",
       " (0.029808691658039593, 'kyeshero'),\n",
       " (0.029628737052073761, 'bahati'),\n",
       " (0.029520077118362697, 'imani'),\n",
       " (0.029461523698930119, 'oicha'),\n",
       " (0.029243102847256446, 'maadibisho'),\n",
       " (0.028765605283409098, 'jikaze'),\n",
       " (0.028453373982979611, 'du lac'),\n",
       " (0.028361567796813189, 'nyamukola'),\n",
       " (0.028279133525258536, 'rambo'),\n",
       " (0.028202093092603086, 'maman sphie'),\n",
       " (0.027988830477634542, 'sainte famille'),\n",
       " (0.027722758921124076, 'mgr henri pierrard'),\n",
       " (0.027657877493104343, 'tuzo'),\n",
       " (0.027445241280622232, 'mungano'),\n",
       " (0.026221891693781724, 'nyantende'),\n",
       " (0.026209322950066657, \"l'amitie\"),\n",
       " (0.025799332681883693, \"de l'unite\"),\n",
       " (0.025754041448675994, 'ipp/beni'),\n",
       " (0.025695248909622204, 'avenir'),\n",
       " (0.025358706380946002, 'namire'),\n",
       " (0.025027486347675234, 'nyabushongo'),\n",
       " (0.024901144875696564, 'action kusaidiya'),\n",
       " (0.024748265783527096, 'kashenda'),\n",
       " (0.024631963465009628, 'kalimba'),\n",
       " (0.024479000520570223, 'moria'),\n",
       " (0.024464227163114877, 'bustani'),\n",
       " (0.023251786857426387, 'kashofu'),\n",
       " (0.023145079025362725, 'bulera'),\n",
       " (0.022872849996009401, 'mama mulezi'),\n",
       " (0.022861655509236963, 'mayele'),\n",
       " (0.022821512816755547, 'saint andre'),\n",
       " (0.022682886152430002, 'wapole'),\n",
       " (0.022252229088913379, 'gihundu'),\n",
       " (0.021798435642349297, 'itfm/bukavu'),\n",
       " (0.021662143979801467, 'kigonza'),\n",
       " (0.021631856778263434, 'maranatha'),\n",
       " (0.020818619047380402, 'saint francois xavier'),\n",
       " (0.020400063242219164, 'mama yetu'),\n",
       " (0.020076955800441419, 'technique ind. de mahamba'),\n",
       " (0.019790467006669581, 'nengapeta'),\n",
       " (0.01965327016411356, 'mikeno islamique'),\n",
       " (0.019606228581496941, 'kahya cibanda'),\n",
       " (0.019346445345474587, 'kahumo'),\n",
       " (0.019221770622686877, 'elise'),\n",
       " (0.018969921398569321, 'tumba'),\n",
       " (0.018545311649043932, 'mwanga/ uvira'),\n",
       " (0.018417336221796823, 'mahamba'),\n",
       " (0.018320133560288124, 'amani'),\n",
       " (0.017906339873170477, 'ndahura'),\n",
       " (0.017792905348982136, 'sociale'),\n",
       " (0.017155054974534199, 'mwandu'),\n",
       " (0.01705269580935272, 'nikisi'),\n",
       " (0.016885377533363843, 'idap isp bunia'),\n",
       " (0.016745191577689802, 'st augustin'),\n",
       " (0.016733040101887201, 'utfm'),\n",
       " (0.016650063242219192, 'du lac/kamvivira'),\n",
       " (0.016002229088913397, 'bemba gombo'),\n",
       " (0.015933987272848612, 'wai wai'),\n",
       " (0.015315481755461487, 'thabiti'),\n",
       " (0.015234390902090961, 'faraja'),\n",
       " (0.015143775233002994, 'mgr guido maria conforti'),\n",
       " (0.014874453651363228, 'sebyera'),\n",
       " (0.014075770115270442, 'lukanga'),\n",
       " (0.014053837409571489, 'uzima'),\n",
       " (0.014053008760006059, 'luanga'),\n",
       " (0.013190813624798219, 'tsololo'),\n",
       " (0.012971595683673629, 'etpm'),\n",
       " (0.012270082840362686, 'busimba'),\n",
       " (0.012259830194605945, 'kasali'),\n",
       " (0.011755921615330654, 'mapema'),\n",
       " (0.011650063242219191, 'adventiste/bunia'),\n",
       " (0.011614601759433778, 'maendeleo'),\n",
       " (0.011297914880753135, 'edap/isp bukavu'),\n",
       " (0.011249627764204188, 'epsk/fomulac'),\n",
       " (0.010776740896162405, 'malikia wa bingu'),\n",
       " (0.010719214959103232, 'vungi'),\n",
       " (0.010601206557052947, 'weza'),\n",
       " (0.01047544260421757, 'gs kigali'),\n",
       " (0.010471770622686862, 'mgr guido'),\n",
       " (0.010308684029039642, 'kibabi'),\n",
       " (0.010172912973753149, 'buhimba'),\n",
       " (0.010075336530691118, 'it salama'),\n",
       " (0.0099711242779164863, 'hekima'),\n",
       " (0.0098376901040759211, 'tumaini letu'),\n",
       " (0.0098372515907182555, 'de bukavu'),\n",
       " (0.0096435920163431572, 'zanner'),\n",
       " (0.0090891405877661698, 'asseco'),\n",
       " (0.0082391324917684035, 'mont sinai'),\n",
       " (0.0081408691490966537, 'muhini'),\n",
       " (0.0080098378236058958, 'bakita'),\n",
       " (0.0079000632422191498, 'majengo'),\n",
       " (0.0077637805668871072, 'saint vincent de paul'),\n",
       " (0.0070098340091059169, 'tupendane'),\n",
       " (0.0069310671402035475, 'metanoia'),\n",
       " (0.0068434858398293431, 'moli\\xc3\\xa8re'),\n",
       " (0.0064210142740100309, 'akili'),\n",
       " (0.0061001420142654172, 'galaxie'),\n",
       " (0.0059212752261328262, 'fadhili'),\n",
       " (0.0058315413895736199, 'kimbilio'),\n",
       " (0.0055676494815643657, 'wima'),\n",
       " (0.0055017305572511964, 'lumiere'),\n",
       " (0.0054196040363145206, 'mwanga'),\n",
       " (0.0053963912606884547, 'masiki'),\n",
       " (0.005384320533169157, 'baraka'),\n",
       " (0.0050961288454420993, 'sainte ursule'),\n",
       " (0.0049615160694301127, 'saint paul'),\n",
       " (0.0044452929586507785, 'kiribunye'),\n",
       " (0.0044147324243581088, 'de goma'),\n",
       " (0.0040510829233471124, 'anuarite'),\n",
       " (0.0040206168276205635, 'burhiba'),\n",
       " (0.0036666433896637768, 'humule'),\n",
       " (0.003490167898394036, 'nelson mandela'),\n",
       " (0.0034363006122488694, 'fazili'),\n",
       " (0.003313188032095263, 'mikeno nc'),\n",
       " (0.0024413121564604077, 'shalom'),\n",
       " (0.0022385811291396915, 'kanyabayonga'),\n",
       " (0.0021166717341302749, 'etoile'),\n",
       " (0.0020453961299836134, 'lwanga'),\n",
       " (0.0020038844060188909, 'ibanda'),\n",
       " (0.001910853690233852, 'kambali'),\n",
       " (0.0018474426577640584, 'saint michel'),\n",
       " (0.0016166242159253573, 'alpha'),\n",
       " (0.0014187639850572632, 'alfa'),\n",
       " (0.0011978305262425964, 'kivako'),\n",
       " (0.0011482432534566718, 'kalungu'),\n",
       " (0.00071154411054331272, 'auto'),\n",
       " (0.0, 'tetembwa'),\n",
       " (0.0, 'saint mariya goritti'),\n",
       " (0.0, 'ngoma'),\n",
       " (0.0, 'muku'),\n",
       " (0.0, 'mont caemel'),\n",
       " (0.0, 'mgr kataliko'),\n",
       " (0.0, 'lyce techn de la pleine'),\n",
       " (0.0, 'lasagesse'),\n",
       " (0.0, 'la fontaine'),\n",
       " (0.0, 'kitsombiro'),\n",
       " (0.0, 'kishanga'),\n",
       " (0.0, 'kimua'),\n",
       " (0.0, 'kaya'),\n",
       " (0.0, 'kaumo'),\n",
       " (0.0, 'institut mwanda'),\n",
       " (0.0, \"hotesse d'acceuil\"),\n",
       " (0.0, 'electronique g\\xc3\\xa9n\\xc3\\xa9rale'),\n",
       " (0.0, 'complexe scolaire nova stella'),\n",
       " (0.0, 'bunyakiri'),\n",
       " (0.0, 'aigle de dieu')]"
      ]
     },
     "execution_count": 20,
     "metadata": {},
     "output_type": "execute_result"
    }
   ],
   "source": [
    "coefficients"
   ]
  },
  {
   "cell_type": "markdown",
   "metadata": {
    "collapsed": true
   },
   "source": [
    "### Plot curves "
   ]
  },
  {
   "cell_type": "code",
   "execution_count": 49,
   "metadata": {
    "collapsed": true
   },
   "outputs": [],
   "source": [
    "from sklearn import datasets \n",
    "X, y = datasets.make_regression(n_samples=1000,n_features=1,\n",
    "                                n_informative=1,noise=15,\n",
    "                                bias=1000,random_state=0)"
   ]
  },
  {
   "cell_type": "code",
   "execution_count": 4,
   "metadata": {},
   "outputs": [
    {
     "data": {
      "text/plain": [
       "(1000, 1)"
      ]
     },
     "execution_count": 4,
     "metadata": {},
     "output_type": "execute_result"
    }
   ],
   "source": [
    "X.shape"
   ]
  },
  {
   "cell_type": "code",
   "execution_count": 5,
   "metadata": {},
   "outputs": [
    {
     "data": {
      "text/plain": [
       "(1000,)"
      ]
     },
     "execution_count": 5,
     "metadata": {},
     "output_type": "execute_result"
    }
   ],
   "source": [
    "y.shape"
   ]
  },
  {
   "cell_type": "code",
   "execution_count": 51,
   "metadata": {
    "collapsed": true,
    "scrolled": true
   },
   "outputs": [],
   "source": [
    "learning_rate = alpha = 0.01                                                                    \n",
    "iters = 1000      \n",
    "\n",
    "def linear_cost(theta,X,y):                                                     \n",
    "    m = y.shape[0]                                                              \n",
    "    return 1. / (2. * m) * np.sum((np.dot(X, theta) - y) ** 2.)                            \n",
    "                                                                                \n",
    "def linear_cost_grad(theta,X,y):                                                \n",
    "    m = y.shape[0]                                                              \n",
    "    return 1. / m * np.dot(X.T, (y - np.dot(X,theta)))                                 \n",
    "                                                                                \n",
    "def gradient_descent(X,y,alpha,iters):                                    \n",
    "    m = y.shape[0]                                                              \n",
    "    all_cost = []\n",
    "    #Initialize theta to zeros\n",
    "    all_theta = [np.zeros((X.shape[1],1))]\n",
    "    for i in range(iters):                                                      \n",
    "        all_cost.append(linear_cost(all_theta[-1], X, y))\n",
    "        all_theta.append(all_theta[-1] + float(alpha) * linear_cost_grad(all_theta[-1], X, y))                       \n",
    "    return all_theta,all_cost                                                       \n",
    "                                                                             \n",
    "#Perform linear regression via gradient descent                                \n",
    "all_theta, all_cost = gradient_descent(X, y, alpha, iters)"
   ]
  },
  {
   "cell_type": "code",
   "execution_count": 52,
   "metadata": {
    "scrolled": true
   },
   "outputs": [
    {
     "data": {
      "text/plain": [
       "<matplotlib.text.Text at 0x11afa3810>"
      ]
     },
     "execution_count": 52,
     "metadata": {},
     "output_type": "execute_result"
    },
    {
     "data": {
      "image/png": "[encoded data removed]",
      "text/plain": [
       "<matplotlib.figure.Figure at 0x11bb89e10>"
      ]
     },
     "metadata": {},
     "output_type": "display_data"
    }
   ],
   "source": [
    "sns.set_style(\"whitegrid\", {'axes.grid' : False})\n",
    "fig=plt.figure(figsize=(10,5))\n",
    "plt.plot(all_cost, color='steelblue',linewidth=2)\n",
    "plt.title('Erreur en Fonction du nombre des iteration')"
   ]
  },
  {
   "cell_type": "code",
   "execution_count": 53,
   "metadata": {
    "collapsed": true
   },
   "outputs": [],
   "source": [
    "fig.savefig('../../FinalYearProjectReport/fig/Cost_vs_iterations.png',dpi=100)"
   ]
  },
  {
   "cell_type": "code",
   "execution_count": 14,
   "metadata": {},
   "outputs": [
    {
     "name": "stderr",
     "output_type": "stream",
     "text": [
      "/Users/espyMur/Desktop/Memory-WorkingDir/memoryVenv/lib/python2.7/site-packages/matplotlib/figure.py:402: UserWarning: matplotlib is currently using a non-GUI backend, so cannot show the figure\n",
      "  \"matplotlib is currently using a non-GUI backend, \"\n"
     ]
    }
   ],
   "source": [
    "fig.show()"
   ]
  },
  {
   "cell_type": "markdown",
   "metadata": {
    "scrolled": false
   },
   "source": [
    "closed_form_best_thetas = np.linalg.pinv(np.dot(X.T, X)).dot(X.T).dot(y)\n",
    "fig=plt.figure()\n",
    "plt.grid()\n",
    "plt.scatter(X[:, 1], y, color='darkred', edgecolor='none')\n",
    "plt.plot(X[:, 1], np.dot(X, closed_form_best_thetas), color='steelblue')\n",
    "plt.title('Gradient regression')"
   ]
  },
  {
   "cell_type": "code",
   "execution_count": 23,
   "metadata": {
    "collapsed": true
   },
   "outputs": [],
   "source": [
    "X = np.hstack((np.ones((X.shape[0], 1)), X))"
   ]
  },
  {
   "cell_type": "code",
   "execution_count": 27,
   "metadata": {
    "collapsed": true
   },
   "outputs": [],
   "source": [
    "fig.savefig('../../FinalYearProjectReport/fig/linear_regression_1.png',dpi=100)"
   ]
  },
  {
   "cell_type": "markdown",
   "metadata": {
    "collapsed": true
   },
   "source": [
    "#### Logistic Rgression Boundary"
   ]
  },
  {
   "cell_type": "code",
   "execution_count": 15,
   "metadata": {
    "collapsed": true
   },
   "outputs": [],
   "source": [
    "from sklearn.linear_model import LogisticRegression\n",
    "from sklearn.datasets import make_classification"
   ]
  },
  {
   "cell_type": "code",
   "execution_count": 35,
   "metadata": {
    "collapsed": true
   },
   "outputs": [],
   "source": [
    "from scipy.stats import logistic"
   ]
  },
  {
   "cell_type": "markdown",
   "metadata": {},
   "source": [
    "data genreattion"
   ]
  },
  {
   "cell_type": "code",
   "execution_count": 17,
   "metadata": {
    "collapsed": true
   },
   "outputs": [],
   "source": [
    "X, y = make_classification(200, 2, 2, 0, weights=[.5, .5], random_state=15)\n",
    "clf = LogisticRegression().fit(X[:100], y[:100])"
   ]
  },
  {
   "cell_type": "code",
   "execution_count": 19,
   "metadata": {
    "collapsed": true
   },
   "outputs": [],
   "source": [
    "xx, yy = np.mgrid[-5:5:.01, -5:5:.01]\n",
    "grid = np.c_[xx.ravel(), yy.ravel()]\n",
    "probs = clf.predict_proba(grid)[:, 1].reshape(xx.shape)"
   ]
  },
  {
   "cell_type": "code",
   "execution_count": 21,
   "metadata": {
    "scrolled": true
   },
   "outputs": [
    {
     "data": {
      "text/plain": [
       "[(-5, 5),\n",
       " <matplotlib.text.Text at 0x11ac9f090>,\n",
       " (-5, 5),\n",
       " <matplotlib.text.Text at 0x11ac92310>,\n",
       " None]"
      ]
     },
     "execution_count": 21,
     "metadata": {},
     "output_type": "execute_result"
    },
    {
     "data": {
      "image/png": "[encoded data removed]",
      "text/plain": [
       "<matplotlib.figure.Figure at 0x11a763450>"
      ]
     },
     "metadata": {},
     "output_type": "display_data"
    }
   ],
   "source": [
    "sns.set_style(\"whitegrid\", {'axes.grid' : False})\n",
    "f, ax = plt.subplots(figsize=(8, 6),)\n",
    "ax.contour(xx, yy, probs, levels=[.5], cmap=\"Greys\", vmin=0, vmax=.6)\n",
    "\n",
    "ax.scatter(X[100:,0], X[100:, 1], c=y[100:], s=50,\n",
    "           cmap=\"RdBu\", vmin=-.2, vmax=1.2,\n",
    "           edgecolor=\"white\", linewidth=1)\n",
    "\n",
    "ax.set(aspect=\"equal\",\n",
    "       xlim=(-5, 5), ylim=(-5, 5),\n",
    "       xlabel=\"$X_1$\", ylabel=\"$X_2$\")"
   ]
  },
  {
   "cell_type": "code",
   "execution_count": 22,
   "metadata": {
    "collapsed": true
   },
   "outputs": [],
   "source": [
    "f.savefig('../../FinalYearProjectReport/fig/DecisionBoudary.png')"
   ]
  },
  {
   "cell_type": "code",
   "execution_count": 26,
   "metadata": {
    "collapsed": true
   },
   "outputs": [],
   "source": [
    "x=np.linspace(start=-3,stop=3,num=50)"
   ]
  },
  {
   "cell_type": "code",
   "execution_count": 29,
   "metadata": {
    "scrolled": true
   },
   "outputs": [
    {
     "data": {
      "text/plain": [
       "[<matplotlib.lines.Line2D at 0x116146e50>]"
      ]
     },
     "execution_count": 29,
     "metadata": {},
     "output_type": "execute_result"
    }
   ],
   "source": [
    "ax.plot(x,y)"
   ]
  },
  {
   "cell_type": "code",
   "execution_count": 41,
   "metadata": {
    "scrolled": false
   },
   "outputs": [
    {
     "data": {
      "text/plain": [
       "[<matplotlib.lines.Line2D at 0x11a7637d0>]"
      ]
     },
     "execution_count": 41,
     "metadata": {},
     "output_type": "execute_result"
    },
    {
     "data": {
      "image/png": "[encoded data removed]",
      "text/plain": [
       "<matplotlib.figure.Figure at 0x11b4f9110>"
      ]
     },
     "metadata": {},
     "output_type": "display_data"
    }
   ],
   "source": [
    "sns.set_style(\"whitegrid\", {'axes.grid' : False})\n",
    "f, ax = plt.subplots(figsize=(8, 6),)\n",
    "ax.plot(x,-np.log(1-logistic.cdf(x)))"
   ]
  },
  {
   "cell_type": "code",
   "execution_count": 42,
   "metadata": {
    "collapsed": true
   },
   "outputs": [],
   "source": [
    "f.savefig('../../FinalYearProjectReport/fig/ErreurRegressionLogistique2.png')"
   ]
  },
  {
   "cell_type": "code",
   "execution_count": null,
   "metadata": {
    "collapsed": true
   },
   "outputs": [],
   "source": []
  }
 ],
 "metadata": {
  "kernelspec": {
   "display_name": "Python 2",
   "language": "python",
   "name": "python2"
  },
  "language_info": {
   "codemirror_mode": {
    "name": "ipython",
    "version": 2
   },
   "file_extension": ".py",
   "mimetype": "text/x-python",
   "name": "python",
   "nbconvert_exporter": "python",
   "pygments_lexer": "ipython2",
   "version": "2.7.13"
  }
 },
 "nbformat": 4,
 "nbformat_minor": 2
}
