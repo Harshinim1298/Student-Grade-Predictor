{
 "cells": [
  {
   "cell_type": "markdown",
   "metadata": {},
   "source": [
    "# Elaboration du Notre Modèle de Prediction"
   ]
  },
  {
   "cell_type": "markdown",
   "metadata": {},
   "source": [
    "Nous voila enfin arrivé à la phase finale de notre projet , cele consistant à la creation et à l'evaluation de notre modèle.\n",
    "Au sein de cette partie nous allons effectuer les taches suivantes:\n",
    "- Data Sampling : consistera à subdiviser notre ensemblle d'apprentissage en une partie pour l'entrainement du modèle :(training set) et une autre pour le test et evaluation du modèle :(test set) nous utiliserons les techniques d'echantillonage de la librairie scikit-learn\n",
    "- Feature Encoding : Vue que la plus part des algorithmes du machine learning ne fonctionnent qu'avec des données de nature numeriques , toutes nos variables seront encodées en variables binaires en utilisant la technique du one-hot encoding\n",
    "- Shortlist - Pomissing models: Dans cette partie nous allons entrainer differents algorithmes du Machin Learning pour predire notre output à la fin nous ne  retiendrons que les modèles les plus prometteur après leur evaluation\n",
    "- Enfin Nous allons optimiser les modèles et ne retenir que les modèles les plus prommeteur."
   ]
  },
  {
   "cell_type": "code",
   "execution_count": 1,
   "metadata": {
    "collapsed": true
   },
   "outputs": [],
   "source": [
    "import pandas as pd\n",
    "import numpy as np\n",
    "import matplotlib.pyplot as plt\n",
    "import seaborn as sns #for beatiful visualizations\n",
    "%matplotlib inline \n",
    "import scipy.stats as scs #for statistics\n",
    "import operator\n",
    "from scipy.stats import chi2_contingency\n",
    "import matplotlib.ticker as ticker\n",
    "import statsmodels.api as sm\n",
    "from statsmodels.formula.api import ols\n",
    "from sklearn.preprocessing import *"
   ]
  },
  {
   "cell_type": "code",
   "execution_count": 2,
   "metadata": {
    "collapsed": true
   },
   "outputs": [],
   "source": []
  },
  {
   "cell_type": "code",
   "execution_count": 2,
   "metadata": {
    "collapsed": true,
    "scrolled": false
   },
   "outputs": [],
   "source": [
    "Techo=pd.read_csv(\"../dataset/DatasetTechno.csv\",index_col=\"Unnamed: 0\")\n",
    "Medecine=pd.read_csv(\"../dataset/DatasetMedecine.csv\",index_col=\"Unnamed: 0\")\n",
    "Economie=pd.read_csv(\"../dataset/DatasetEconomie.csv\",index_col=\"Unnamed: 0\")\n",
    "dataset=pd.read_csv(\"../dataset/DatasetFinalV1.csv\",index_col=\"Unnamed: 0\")"
   ]
  },
  {
   "cell_type": "code",
   "execution_count": 30,
   "metadata": {
    "collapsed": true,
    "scrolled": false
   },
   "outputs": [],
   "source": [
    "sample=dataset.loc[dataset.FAC=='FM'].head(3).append( dataset.loc[dataset.FAC=='FSTA'].head(5).append(dataset.loc[dataset.FAC=='FSEG'].head(5))).append(dataset.loc[dataset.FAC=='FD'].head(3)).append(dataset.loc[dataset.FAC=='FT'].head(2)).append(dataset.loc[dataset.FAC=='FPSE'].head(4)).append(dataset.loc[dataset.FAC=='FSDC'].head(3))"
   ]
  },
  {
   "cell_type": "code",
   "execution_count": 37,
   "metadata": {
    "scrolled": false
   },
   "outputs": [
    {
     "data": {
      "text/html": [
       "<div>\n",
       "<table border=\"1\" class=\"dataframe\">\n",
       "  <thead>\n",
       "    <tr style=\"text-align: right;\">\n",
       "      <th></th>\n",
       "      <th>ID</th>\n",
       "      <th>DIPPERC</th>\n",
       "      <th>AGE</th>\n",
       "      <th>GENDER</th>\n",
       "      <th>FAC</th>\n",
       "      <th>CGPA</th>\n",
       "    </tr>\n",
       "  </thead>\n",
       "  <tbody>\n",
       "    <tr>\n",
       "      <th>55</th>\n",
       "      <td>10384</td>\n",
       "      <td>59.0</td>\n",
       "      <td>22</td>\n",
       "      <td>F</td>\n",
       "      <td>FM</td>\n",
       "      <td>59.15</td>\n",
       "    </tr>\n",
       "    <tr>\n",
       "      <th>71</th>\n",
       "      <td>11610</td>\n",
       "      <td>52.0</td>\n",
       "      <td>23</td>\n",
       "      <td>H</td>\n",
       "      <td>FM</td>\n",
       "      <td>44.00</td>\n",
       "    </tr>\n",
       "  </tbody>\n",
       "</table>\n",
       "</div>"
      ],
      "text/plain": [
       "       ID  DIPPERC  AGE GENDER FAC   CGPA\n",
       "55  10384     59.0   22      F  FM  59.15\n",
       "71  11610     52.0   23      H  FM  44.00"
      ]
     },
     "execution_count": 37,
     "metadata": {},
     "output_type": "execute_result"
    }
   ],
   "source": [
    "sample[['ID','DIPPERC','AGE','GENDER','FAC','CGPA']].head(2)"
   ]
  },
  {
   "cell_type": "markdown",
   "metadata": {},
   "source": [
    "Commencons par la préparation des nos données pour les algorithmes"
   ]
  },
  {
   "cell_type": "markdown",
   "metadata": {},
   "source": [
    "## Preparation des données pour les algorithmes "
   ]
  },
  {
   "cell_type": "markdown",
   "metadata": {},
   "source": [
    "Au sein de cette partie nous allons écrire des fonctions qui effectuerons la préparartion automatiques des nos données avant l'execution des algorithmes '"
   ]
  },
  {
   "cell_type": "markdown",
   "metadata": {},
   "source": [
    "La premiere transformation que nous fairons sera l'encodage de nos données et pour celle ci nous allons utiliser la technique appelé one-hot encoding"
   ]
  },
  {
   "cell_type": "markdown",
   "metadata": {},
   "source": [
    "Mais avant supprimons les colones qui n'ont aucun interet dans notre ensemble d'apprentissage."
   ]
  },
  {
   "cell_type": "markdown",
   "metadata": {},
   "source": [
    "Commencons par supprimer les colonnes sexe, age , pourcentage à l'exetat qui comme souligné au paragraphe précedant n'ont aucune influence sur notre variable finale"
   ]
  },
  {
   "cell_type": "code",
   "execution_count": 38,
   "metadata": {
    "scrolled": true
   },
   "outputs": [
    {
     "data": {
      "text/plain": [
       "Index([u'ID', u'SCHOOLSTATUS', u'SCHOOL_RIGHT', u'OPTION_RIGHT', u'FAC',\n",
       "       u'SCHOOLPROVINCE', u'GENDER', u'DIPPERC', u'AGE', u'CGPA',\n",
       "       u'DistinctionRatio', u'EchecRatio', u'NACADYEAR',\n",
       "       u'Pass1stSessionRatio'],\n",
       "      dtype='object')"
      ]
     },
     "execution_count": 38,
     "metadata": {},
     "output_type": "execute_result"
    }
   ],
   "source": [
    "dataset.columns"
   ]
  },
  {
   "cell_type": "code",
   "execution_count": 3,
   "metadata": {},
   "outputs": [
    {
     "data": {
      "text/html": [
       "<div>\n",
       "<table border=\"1\" class=\"dataframe\">\n",
       "  <thead>\n",
       "    <tr style=\"text-align: right;\">\n",
       "      <th></th>\n",
       "      <th>ID</th>\n",
       "      <th>SCHOOLSTATUS</th>\n",
       "      <th>SCHOOL_RIGHT</th>\n",
       "      <th>OPTION_RIGHT</th>\n",
       "      <th>FAC</th>\n",
       "      <th>SCHOOLPROVINCE</th>\n",
       "      <th>GENDER</th>\n",
       "      <th>DIPPERC</th>\n",
       "      <th>AGE</th>\n",
       "      <th>CGPA</th>\n",
       "      <th>DistinctionRatio</th>\n",
       "      <th>EchecRatio</th>\n",
       "      <th>NACADYEAR</th>\n",
       "      <th>Pass1stSessionRatio</th>\n",
       "    </tr>\n",
       "  </thead>\n",
       "  <tbody>\n",
       "    <tr>\n",
       "      <th>0</th>\n",
       "      <td>3895</td>\n",
       "      <td>protestant</td>\n",
       "      <td>zanner</td>\n",
       "      <td>commmerciale et adm</td>\n",
       "      <td>FSEG</td>\n",
       "      <td>NORD-KIVU</td>\n",
       "      <td>H</td>\n",
       "      <td>52.0</td>\n",
       "      <td>31</td>\n",
       "      <td>59.400002</td>\n",
       "      <td>G</td>\n",
       "      <td>G</td>\n",
       "      <td>1.0</td>\n",
       "      <td>G</td>\n",
       "    </tr>\n",
       "  </tbody>\n",
       "</table>\n",
       "</div>"
      ],
      "text/plain": [
       "     ID SCHOOLSTATUS SCHOOL_RIGHT         OPTION_RIGHT   FAC SCHOOLPROVINCE  \\\n",
       "0  3895   protestant       zanner  commmerciale et adm  FSEG      NORD-KIVU   \n",
       "\n",
       "  GENDER  DIPPERC  AGE       CGPA DistinctionRatio EchecRatio  NACADYEAR  \\\n",
       "0      H     52.0   31  59.400002                G          G        1.0   \n",
       "\n",
       "  Pass1stSessionRatio  \n",
       "0                   G  "
      ]
     },
     "execution_count": 3,
     "metadata": {},
     "output_type": "execute_result"
    }
   ],
   "source": [
    "dataset.head(1)"
   ]
  },
  {
   "cell_type": "code",
   "execution_count": 4,
   "metadata": {
    "collapsed": true,
    "scrolled": false
   },
   "outputs": [],
   "source": [
    "dataset.set_index(keys='ID',inplace=True)"
   ]
  },
  {
   "cell_type": "markdown",
   "metadata": {},
   "source": [
    "now let get only the data with the CGPA after"
   ]
  },
  {
   "cell_type": "markdown",
   "metadata": {},
   "source": [
    "Avant de continuer verifions les correlations existantes entre les colonnes SCHOOL,SCHOOLSTATUS, et SCHOOLPROVINCE"
   ]
  },
  {
   "cell_type": "code",
   "execution_count": 29,
   "metadata": {
    "collapsed": true
   },
   "outputs": [],
   "source": [
    "# %load ChiSquareCal.py\n",
    "class ChiSquareCalc(object):\n",
    "    \"\"\"this class is designed to calculated and interpret the relationship between 2 categorials variables by computing the chi square test between them\n",
    "    you can find more on chi square test on this video https://www.youtube.com/watch?v=misMgRRV3jQ\n",
    "    it will use pandas , numpy ,searborn matplotlib , scipy\n",
    "    \"\"\"\n",
    "    def __init__(self, X,Y,dataset,**kwargs):\n",
    "        \"\"\"we will initailise the with 2 colums of a datafrme the input must be a data and columns names\"\"\"\n",
    "        if isinstance(dataset,pd.DataFrame) and isinstance(X,str)and isinstance(Y,str) and X in dataset.columns and Y in dataset.columns :\n",
    "            if operator.and_(operator.__eq__(dataset[X].dtypes, 'object'),operator.__eq__(dataset[Y].dtypes, 'object')):\n",
    "                self.dataset=dataset\n",
    "                self.X=dataset[X]\n",
    "                self.Y=dataset[Y]\n",
    "                self.contingency=pd.DataFrame()\n",
    "                self.c=0\n",
    "                self.p=0\n",
    "                self.dof=0\n",
    "                self.q=0.95 #lower tail probability\n",
    "                self.criticalValue=0\n",
    "            else:\n",
    "                raise TypeError('Class only deal wih categorial columns')\n",
    "        else:\n",
    "            raise TypeError('Columns names must be string and data must be a DataFrame')\n",
    "    def contengencyTable(self):\n",
    "        \"\"\"this method will return a contengency table of the 2 variables\"\"\"\n",
    "        self.contingency = pd.crosstab(self.X,self.Y)\n",
    "        return self.contingency\n",
    "    def chisquare(self):\n",
    "        \"\"\"this one will calculate the chi square value and return\n",
    "        q: chi square results\n",
    "        df: degree of freedom\n",
    "        p: probability\n",
    "        expexcted: excepected frequency table\n",
    "        \"\"\"\n",
    "        if (not self.contingency.empty):\n",
    "            self.c, self.p, self.dof, expected = chi2_contingency(self.contingency)\n",
    "            return pd.DataFrame(expected,columns=self.contingency.columns,index=self.contingency.index)\n",
    "        else:\n",
    "            raise ValueError('contingency table must be initialised')\n",
    "    def conclude(self,on):\n",
    "        \"\"\"\n",
    "        we can decide to conclude on chi square value(chi) or on p (p)value\n",
    "        Here is how we build the conclusion according to p value\n",
    "         Probability of 0: It indicates that both categorical variable are dependent\n",
    "         Probability of 1: It shows that both variables are independent.\n",
    "         Probability less than 0.05: It indicates that the relationship between the variables is significant at 95% confidence\n",
    "        And according to chi square value and df we use a ccritical value calculate with :\n",
    "        q:lower tail probability\n",
    "        df:degree of freedom\n",
    "         the conclusion is approving or rejecting a null hypothesis\n",
    "        \"\"\"\n",
    "        NulHyp='is no relationship between '+self.X+'and '+self.Y\n",
    "        self.criticalValue=scs.chi2.ppf(q = self.q, df =self.dof)\n",
    "        if on not in ['chi','p']:\n",
    "            raise ValueError('choose chi or p')\n",
    "        else:\n",
    "            if on=='chi':\n",
    "                if self.criticalValue > self.c:\n",
    "                    return 'Accepted : '+NulHyp\n",
    "                else:\n",
    "                    return 'null hypothesis is rejected : There is a relationhip between the categorical variable'\n",
    "            else:\n",
    "                if self.p==0:\n",
    "                    return ' It indicates that both categorical variable are dependent'\n",
    "                elif self.p==1:\n",
    "                    return 'It shows that both variables are independent'\n",
    "                elif self.p <(1-self.q):\n",
    "                    return 'It indicates that the relationship between the variables is significant at confidence of %s',self.q\n",
    "                else:\n",
    "                    return 'there is no relationship '\n",
    "    def DrawPlot(self,**kwargs):\n",
    "        \"\"\" and as for bonus you can draw plot to visualise the relationship \"\"\"\n",
    "        plt.figure(figsize= kwargs.get('size'))\n",
    "        plt.title('Distribution de ' )\n",
    "        plt.xlabel('Label')\n",
    "        ax=sns.countplot(hue=self.X,y=self.Y,data=self.dataset,orient=kwargs.get('orient'))\n",
    "        ax.set_xticklabels(ax.xaxis.get_majorticklabels(), rotation=45)\n",
    "        return ax\n",
    "        \n",
    "\n"
   ]
  },
  {
   "cell_type": "code",
   "execution_count": 11,
   "metadata": {
    "collapsed": true
   },
   "outputs": [],
   "source": [
    "SchoolStat=ChiSquareCalc(dataset=datasetCGPA,X='SCHOOL_RIGHT',Y='SCHOOLSTATUS')"
   ]
  },
  {
   "cell_type": "code",
   "execution_count": 12,
   "metadata": {
    "scrolled": false
   },
   "outputs": [
    {
     "data": {
      "text/html": [
       "<div>\n",
       "<table border=\"1\" class=\"dataframe\">\n",
       "  <thead>\n",
       "    <tr style=\"text-align: right;\">\n",
       "      <th>SCHOOLSTATUS</th>\n",
       "      <th>autodidacte</th>\n",
       "      <th>catholique</th>\n",
       "      <th>inconnu</th>\n",
       "      <th>kimbanguiste</th>\n",
       "      <th>musulman</th>\n",
       "      <th>privé</th>\n",
       "      <th>protestant</th>\n",
       "      <th>publique</th>\n",
       "    </tr>\n",
       "    <tr>\n",
       "      <th>SCHOOL_RIGHT</th>\n",
       "      <th></th>\n",
       "      <th></th>\n",
       "      <th></th>\n",
       "      <th></th>\n",
       "      <th></th>\n",
       "      <th></th>\n",
       "      <th></th>\n",
       "      <th></th>\n",
       "    </tr>\n",
       "  </thead>\n",
       "  <tbody>\n",
       "    <tr>\n",
       "      <th>1uto</th>\n",
       "      <td>0</td>\n",
       "      <td>0</td>\n",
       "      <td>1</td>\n",
       "      <td>0</td>\n",
       "      <td>0</td>\n",
       "      <td>0</td>\n",
       "      <td>0</td>\n",
       "      <td>0</td>\n",
       "    </tr>\n",
       "    <tr>\n",
       "      <th>53</th>\n",
       "      <td>0</td>\n",
       "      <td>0</td>\n",
       "      <td>1</td>\n",
       "      <td>0</td>\n",
       "      <td>0</td>\n",
       "      <td>0</td>\n",
       "      <td>0</td>\n",
       "      <td>0</td>\n",
       "    </tr>\n",
       "    <tr>\n",
       "      <th>54</th>\n",
       "      <td>0</td>\n",
       "      <td>0</td>\n",
       "      <td>1</td>\n",
       "      <td>0</td>\n",
       "      <td>0</td>\n",
       "      <td>0</td>\n",
       "      <td>0</td>\n",
       "      <td>0</td>\n",
       "    </tr>\n",
       "    <tr>\n",
       "      <th>61</th>\n",
       "      <td>0</td>\n",
       "      <td>0</td>\n",
       "      <td>2</td>\n",
       "      <td>0</td>\n",
       "      <td>0</td>\n",
       "      <td>0</td>\n",
       "      <td>0</td>\n",
       "      <td>0</td>\n",
       "    </tr>\n",
       "    <tr>\n",
       "      <th>Alleluya</th>\n",
       "      <td>0</td>\n",
       "      <td>0</td>\n",
       "      <td>2</td>\n",
       "      <td>0</td>\n",
       "      <td>0</td>\n",
       "      <td>0</td>\n",
       "      <td>0</td>\n",
       "      <td>0</td>\n",
       "    </tr>\n",
       "    <tr>\n",
       "      <th>BWANGA</th>\n",
       "      <td>0</td>\n",
       "      <td>0</td>\n",
       "      <td>2</td>\n",
       "      <td>0</td>\n",
       "      <td>0</td>\n",
       "      <td>0</td>\n",
       "      <td>0</td>\n",
       "      <td>0</td>\n",
       "    </tr>\n",
       "    <tr>\n",
       "      <th>Bungulu Beni</th>\n",
       "      <td>0</td>\n",
       "      <td>0</td>\n",
       "      <td>1</td>\n",
       "      <td>0</td>\n",
       "      <td>0</td>\n",
       "      <td>0</td>\n",
       "      <td>0</td>\n",
       "      <td>0</td>\n",
       "    </tr>\n",
       "    <tr>\n",
       "      <th>GRACIA</th>\n",
       "      <td>0</td>\n",
       "      <td>0</td>\n",
       "      <td>1</td>\n",
       "      <td>0</td>\n",
       "      <td>0</td>\n",
       "      <td>0</td>\n",
       "      <td>0</td>\n",
       "      <td>0</td>\n",
       "    </tr>\n",
       "    <tr>\n",
       "      <th>I DE BKV</th>\n",
       "      <td>0</td>\n",
       "      <td>0</td>\n",
       "      <td>1</td>\n",
       "      <td>0</td>\n",
       "      <td>0</td>\n",
       "      <td>0</td>\n",
       "      <td>0</td>\n",
       "      <td>0</td>\n",
       "    </tr>\n",
       "    <tr>\n",
       "      <th>I LWANGA</th>\n",
       "      <td>0</td>\n",
       "      <td>0</td>\n",
       "      <td>1</td>\n",
       "      <td>0</td>\n",
       "      <td>0</td>\n",
       "      <td>0</td>\n",
       "      <td>0</td>\n",
       "      <td>0</td>\n",
       "    </tr>\n",
       "    <tr>\n",
       "      <th>INST DE KATWA</th>\n",
       "      <td>0</td>\n",
       "      <td>0</td>\n",
       "      <td>1</td>\n",
       "      <td>0</td>\n",
       "      <td>0</td>\n",
       "      <td>0</td>\n",
       "      <td>0</td>\n",
       "      <td>0</td>\n",
       "    </tr>\n",
       "    <tr>\n",
       "      <th>INST LWANGA</th>\n",
       "      <td>0</td>\n",
       "      <td>0</td>\n",
       "      <td>1</td>\n",
       "      <td>0</td>\n",
       "      <td>0</td>\n",
       "      <td>0</td>\n",
       "      <td>0</td>\n",
       "      <td>0</td>\n",
       "    </tr>\n",
       "    <tr>\n",
       "      <th>INST. MPINGA</th>\n",
       "      <td>0</td>\n",
       "      <td>0</td>\n",
       "      <td>1</td>\n",
       "      <td>0</td>\n",
       "      <td>0</td>\n",
       "      <td>0</td>\n",
       "      <td>0</td>\n",
       "      <td>0</td>\n",
       "    </tr>\n",
       "    <tr>\n",
       "      <th>INSTITUT BWINZI</th>\n",
       "      <td>0</td>\n",
       "      <td>0</td>\n",
       "      <td>1</td>\n",
       "      <td>0</td>\n",
       "      <td>0</td>\n",
       "      <td>0</td>\n",
       "      <td>0</td>\n",
       "      <td>0</td>\n",
       "    </tr>\n",
       "    <tr>\n",
       "      <th>INSTITUT LWANGA</th>\n",
       "      <td>0</td>\n",
       "      <td>0</td>\n",
       "      <td>1</td>\n",
       "      <td>0</td>\n",
       "      <td>0</td>\n",
       "      <td>0</td>\n",
       "      <td>0</td>\n",
       "      <td>0</td>\n",
       "    </tr>\n",
       "    <tr>\n",
       "      <th>ITM DE BOGA</th>\n",
       "      <td>0</td>\n",
       "      <td>0</td>\n",
       "      <td>1</td>\n",
       "      <td>0</td>\n",
       "      <td>0</td>\n",
       "      <td>0</td>\n",
       "      <td>0</td>\n",
       "      <td>0</td>\n",
       "    </tr>\n",
       "    <tr>\n",
       "      <th>Institut BWANGA</th>\n",
       "      <td>0</td>\n",
       "      <td>0</td>\n",
       "      <td>0</td>\n",
       "      <td>0</td>\n",
       "      <td>0</td>\n",
       "      <td>4</td>\n",
       "      <td>0</td>\n",
       "      <td>0</td>\n",
       "    </tr>\n",
       "    <tr>\n",
       "      <th>Institut MWANDA</th>\n",
       "      <td>0</td>\n",
       "      <td>1</td>\n",
       "      <td>0</td>\n",
       "      <td>0</td>\n",
       "      <td>0</td>\n",
       "      <td>0</td>\n",
       "      <td>0</td>\n",
       "      <td>0</td>\n",
       "    </tr>\n",
       "    <tr>\n",
       "      <th>Institut MWANZO</th>\n",
       "      <td>0</td>\n",
       "      <td>0</td>\n",
       "      <td>0</td>\n",
       "      <td>0</td>\n",
       "      <td>0</td>\n",
       "      <td>0</td>\n",
       "      <td>0</td>\n",
       "      <td>1</td>\n",
       "    </tr>\n",
       "    <tr>\n",
       "      <th>Institut NJANJA</th>\n",
       "      <td>0</td>\n",
       "      <td>0</td>\n",
       "      <td>0</td>\n",
       "      <td>0</td>\n",
       "      <td>0</td>\n",
       "      <td>0</td>\n",
       "      <td>0</td>\n",
       "      <td>1</td>\n",
       "    </tr>\n",
       "    <tr>\n",
       "      <th>Institut de KATWA</th>\n",
       "      <td>0</td>\n",
       "      <td>0</td>\n",
       "      <td>0</td>\n",
       "      <td>0</td>\n",
       "      <td>0</td>\n",
       "      <td>0</td>\n",
       "      <td>1</td>\n",
       "      <td>0</td>\n",
       "    </tr>\n",
       "    <tr>\n",
       "      <th>Intitut ALLELUYA</th>\n",
       "      <td>0</td>\n",
       "      <td>0</td>\n",
       "      <td>0</td>\n",
       "      <td>0</td>\n",
       "      <td>0</td>\n",
       "      <td>0</td>\n",
       "      <td>0</td>\n",
       "      <td>1</td>\n",
       "    </tr>\n",
       "    <tr>\n",
       "      <th>L MWANDU</th>\n",
       "      <td>0</td>\n",
       "      <td>0</td>\n",
       "      <td>2</td>\n",
       "      <td>0</td>\n",
       "      <td>0</td>\n",
       "      <td>0</td>\n",
       "      <td>0</td>\n",
       "      <td>0</td>\n",
       "    </tr>\n",
       "    <tr>\n",
       "      <th>LWANGA</th>\n",
       "      <td>0</td>\n",
       "      <td>0</td>\n",
       "      <td>8</td>\n",
       "      <td>0</td>\n",
       "      <td>0</td>\n",
       "      <td>0</td>\n",
       "      <td>0</td>\n",
       "      <td>0</td>\n",
       "    </tr>\n",
       "    <tr>\n",
       "      <th>LYCEE MWANDU</th>\n",
       "      <td>0</td>\n",
       "      <td>0</td>\n",
       "      <td>2</td>\n",
       "      <td>0</td>\n",
       "      <td>0</td>\n",
       "      <td>0</td>\n",
       "      <td>0</td>\n",
       "      <td>0</td>\n",
       "    </tr>\n",
       "    <tr>\n",
       "      <th>LYCEE MWINDA</th>\n",
       "      <td>0</td>\n",
       "      <td>0</td>\n",
       "      <td>1</td>\n",
       "      <td>0</td>\n",
       "      <td>0</td>\n",
       "      <td>0</td>\n",
       "      <td>0</td>\n",
       "      <td>0</td>\n",
       "    </tr>\n",
       "    <tr>\n",
       "      <th>Lwanga</th>\n",
       "      <td>0</td>\n",
       "      <td>0</td>\n",
       "      <td>13</td>\n",
       "      <td>0</td>\n",
       "      <td>0</td>\n",
       "      <td>0</td>\n",
       "      <td>0</td>\n",
       "      <td>0</td>\n",
       "    </tr>\n",
       "    <tr>\n",
       "      <th>Lycée Mwandu</th>\n",
       "      <td>0</td>\n",
       "      <td>0</td>\n",
       "      <td>6</td>\n",
       "      <td>0</td>\n",
       "      <td>0</td>\n",
       "      <td>0</td>\n",
       "      <td>0</td>\n",
       "      <td>0</td>\n",
       "    </tr>\n",
       "    <tr>\n",
       "      <th>MUGUNGA</th>\n",
       "      <td>0</td>\n",
       "      <td>0</td>\n",
       "      <td>4</td>\n",
       "      <td>0</td>\n",
       "      <td>0</td>\n",
       "      <td>0</td>\n",
       "      <td>0</td>\n",
       "      <td>0</td>\n",
       "    </tr>\n",
       "    <tr>\n",
       "      <th>MWANA</th>\n",
       "      <td>0</td>\n",
       "      <td>0</td>\n",
       "      <td>1</td>\n",
       "      <td>0</td>\n",
       "      <td>0</td>\n",
       "      <td>0</td>\n",
       "      <td>0</td>\n",
       "      <td>0</td>\n",
       "    </tr>\n",
       "    <tr>\n",
       "      <th>...</th>\n",
       "      <td>...</td>\n",
       "      <td>...</td>\n",
       "      <td>...</td>\n",
       "      <td>...</td>\n",
       "      <td>...</td>\n",
       "      <td>...</td>\n",
       "      <td>...</td>\n",
       "      <td>...</td>\n",
       "    </tr>\n",
       "    <tr>\n",
       "      <th>ujumbe</th>\n",
       "      <td>0</td>\n",
       "      <td>0</td>\n",
       "      <td>0</td>\n",
       "      <td>0</td>\n",
       "      <td>0</td>\n",
       "      <td>1</td>\n",
       "      <td>0</td>\n",
       "      <td>0</td>\n",
       "    </tr>\n",
       "    <tr>\n",
       "      <th>umoja fs</th>\n",
       "      <td>0</td>\n",
       "      <td>0</td>\n",
       "      <td>1</td>\n",
       "      <td>0</td>\n",
       "      <td>0</td>\n",
       "      <td>0</td>\n",
       "      <td>0</td>\n",
       "      <td>0</td>\n",
       "    </tr>\n",
       "    <tr>\n",
       "      <th>umuja international french school</th>\n",
       "      <td>0</td>\n",
       "      <td>0</td>\n",
       "      <td>0</td>\n",
       "      <td>0</td>\n",
       "      <td>0</td>\n",
       "      <td>0</td>\n",
       "      <td>0</td>\n",
       "      <td>1</td>\n",
       "    </tr>\n",
       "    <tr>\n",
       "      <th>utamaduni</th>\n",
       "      <td>0</td>\n",
       "      <td>0</td>\n",
       "      <td>3</td>\n",
       "      <td>0</td>\n",
       "      <td>0</td>\n",
       "      <td>0</td>\n",
       "      <td>0</td>\n",
       "      <td>0</td>\n",
       "    </tr>\n",
       "    <tr>\n",
       "      <th>utaniadun</th>\n",
       "      <td>0</td>\n",
       "      <td>0</td>\n",
       "      <td>1</td>\n",
       "      <td>0</td>\n",
       "      <td>0</td>\n",
       "      <td>0</td>\n",
       "      <td>0</td>\n",
       "      <td>0</td>\n",
       "    </tr>\n",
       "    <tr>\n",
       "      <th>uvira</th>\n",
       "      <td>0</td>\n",
       "      <td>0</td>\n",
       "      <td>1</td>\n",
       "      <td>0</td>\n",
       "      <td>0</td>\n",
       "      <td>0</td>\n",
       "      <td>0</td>\n",
       "      <td>0</td>\n",
       "    </tr>\n",
       "    <tr>\n",
       "      <th>uzima</th>\n",
       "      <td>0</td>\n",
       "      <td>4</td>\n",
       "      <td>0</td>\n",
       "      <td>0</td>\n",
       "      <td>0</td>\n",
       "      <td>0</td>\n",
       "      <td>0</td>\n",
       "      <td>35</td>\n",
       "    </tr>\n",
       "    <tr>\n",
       "      <th>veronique</th>\n",
       "      <td>0</td>\n",
       "      <td>0</td>\n",
       "      <td>0</td>\n",
       "      <td>0</td>\n",
       "      <td>0</td>\n",
       "      <td>3</td>\n",
       "      <td>0</td>\n",
       "      <td>0</td>\n",
       "    </tr>\n",
       "    <tr>\n",
       "      <th>vihya</th>\n",
       "      <td>0</td>\n",
       "      <td>0</td>\n",
       "      <td>1</td>\n",
       "      <td>0</td>\n",
       "      <td>0</td>\n",
       "      <td>0</td>\n",
       "      <td>0</td>\n",
       "      <td>0</td>\n",
       "    </tr>\n",
       "    <tr>\n",
       "      <th>vikanzu</th>\n",
       "      <td>0</td>\n",
       "      <td>0</td>\n",
       "      <td>1</td>\n",
       "      <td>0</td>\n",
       "      <td>0</td>\n",
       "      <td>0</td>\n",
       "      <td>0</td>\n",
       "      <td>0</td>\n",
       "    </tr>\n",
       "    <tr>\n",
       "      <th>virunga</th>\n",
       "      <td>0</td>\n",
       "      <td>0</td>\n",
       "      <td>0</td>\n",
       "      <td>0</td>\n",
       "      <td>0</td>\n",
       "      <td>3</td>\n",
       "      <td>0</td>\n",
       "      <td>0</td>\n",
       "    </tr>\n",
       "    <tr>\n",
       "      <th>virunga/quartier</th>\n",
       "      <td>0</td>\n",
       "      <td>0</td>\n",
       "      <td>0</td>\n",
       "      <td>0</td>\n",
       "      <td>0</td>\n",
       "      <td>2</td>\n",
       "      <td>0</td>\n",
       "      <td>1</td>\n",
       "    </tr>\n",
       "    <tr>\n",
       "      <th>visogho</th>\n",
       "      <td>0</td>\n",
       "      <td>0</td>\n",
       "      <td>3</td>\n",
       "      <td>0</td>\n",
       "      <td>0</td>\n",
       "      <td>0</td>\n",
       "      <td>0</td>\n",
       "      <td>0</td>\n",
       "    </tr>\n",
       "    <tr>\n",
       "      <th>visoke</th>\n",
       "      <td>0</td>\n",
       "      <td>0</td>\n",
       "      <td>0</td>\n",
       "      <td>0</td>\n",
       "      <td>0</td>\n",
       "      <td>0</td>\n",
       "      <td>33</td>\n",
       "      <td>0</td>\n",
       "    </tr>\n",
       "    <tr>\n",
       "      <th>visolo</th>\n",
       "      <td>0</td>\n",
       "      <td>0</td>\n",
       "      <td>1</td>\n",
       "      <td>0</td>\n",
       "      <td>0</td>\n",
       "      <td>0</td>\n",
       "      <td>0</td>\n",
       "      <td>0</td>\n",
       "    </tr>\n",
       "    <tr>\n",
       "      <th>vuhika</th>\n",
       "      <td>0</td>\n",
       "      <td>0</td>\n",
       "      <td>2</td>\n",
       "      <td>0</td>\n",
       "      <td>0</td>\n",
       "      <td>0</td>\n",
       "      <td>0</td>\n",
       "      <td>0</td>\n",
       "    </tr>\n",
       "    <tr>\n",
       "      <th>vungi</th>\n",
       "      <td>0</td>\n",
       "      <td>0</td>\n",
       "      <td>0</td>\n",
       "      <td>0</td>\n",
       "      <td>0</td>\n",
       "      <td>0</td>\n",
       "      <td>8</td>\n",
       "      <td>0</td>\n",
       "    </tr>\n",
       "    <tr>\n",
       "      <th>wai wai</th>\n",
       "      <td>0</td>\n",
       "      <td>0</td>\n",
       "      <td>0</td>\n",
       "      <td>0</td>\n",
       "      <td>0</td>\n",
       "      <td>0</td>\n",
       "      <td>0</td>\n",
       "      <td>1</td>\n",
       "    </tr>\n",
       "    <tr>\n",
       "      <th>wamaza</th>\n",
       "      <td>0</td>\n",
       "      <td>0</td>\n",
       "      <td>1</td>\n",
       "      <td>0</td>\n",
       "      <td>0</td>\n",
       "      <td>0</td>\n",
       "      <td>0</td>\n",
       "      <td>0</td>\n",
       "    </tr>\n",
       "    <tr>\n",
       "      <th>wapole</th>\n",
       "      <td>0</td>\n",
       "      <td>0</td>\n",
       "      <td>3</td>\n",
       "      <td>0</td>\n",
       "      <td>0</td>\n",
       "      <td>0</td>\n",
       "      <td>0</td>\n",
       "      <td>0</td>\n",
       "    </tr>\n",
       "    <tr>\n",
       "      <th>wema</th>\n",
       "      <td>0</td>\n",
       "      <td>0</td>\n",
       "      <td>2</td>\n",
       "      <td>0</td>\n",
       "      <td>0</td>\n",
       "      <td>0</td>\n",
       "      <td>0</td>\n",
       "      <td>0</td>\n",
       "    </tr>\n",
       "    <tr>\n",
       "      <th>weza</th>\n",
       "      <td>0</td>\n",
       "      <td>6</td>\n",
       "      <td>0</td>\n",
       "      <td>0</td>\n",
       "      <td>0</td>\n",
       "      <td>0</td>\n",
       "      <td>0</td>\n",
       "      <td>0</td>\n",
       "    </tr>\n",
       "    <tr>\n",
       "      <th>weza2</th>\n",
       "      <td>0</td>\n",
       "      <td>0</td>\n",
       "      <td>1</td>\n",
       "      <td>0</td>\n",
       "      <td>0</td>\n",
       "      <td>0</td>\n",
       "      <td>0</td>\n",
       "      <td>0</td>\n",
       "    </tr>\n",
       "    <tr>\n",
       "      <th>wima</th>\n",
       "      <td>0</td>\n",
       "      <td>21</td>\n",
       "      <td>0</td>\n",
       "      <td>0</td>\n",
       "      <td>0</td>\n",
       "      <td>0</td>\n",
       "      <td>0</td>\n",
       "      <td>0</td>\n",
       "    </tr>\n",
       "    <tr>\n",
       "      <th>z</th>\n",
       "      <td>0</td>\n",
       "      <td>0</td>\n",
       "      <td>1</td>\n",
       "      <td>0</td>\n",
       "      <td>0</td>\n",
       "      <td>0</td>\n",
       "      <td>0</td>\n",
       "      <td>0</td>\n",
       "    </tr>\n",
       "    <tr>\n",
       "      <th>zako</th>\n",
       "      <td>0</td>\n",
       "      <td>0</td>\n",
       "      <td>1</td>\n",
       "      <td>0</td>\n",
       "      <td>0</td>\n",
       "      <td>0</td>\n",
       "      <td>0</td>\n",
       "      <td>0</td>\n",
       "    </tr>\n",
       "    <tr>\n",
       "      <th>zanner</th>\n",
       "      <td>0</td>\n",
       "      <td>0</td>\n",
       "      <td>0</td>\n",
       "      <td>0</td>\n",
       "      <td>0</td>\n",
       "      <td>0</td>\n",
       "      <td>78</td>\n",
       "      <td>0</td>\n",
       "    </tr>\n",
       "    <tr>\n",
       "      <th>zawadi ya raisi</th>\n",
       "      <td>0</td>\n",
       "      <td>1</td>\n",
       "      <td>0</td>\n",
       "      <td>0</td>\n",
       "      <td>0</td>\n",
       "      <td>0</td>\n",
       "      <td>0</td>\n",
       "      <td>11</td>\n",
       "    </tr>\n",
       "    <tr>\n",
       "      <th>ziwa kivu</th>\n",
       "      <td>0</td>\n",
       "      <td>5</td>\n",
       "      <td>0</td>\n",
       "      <td>0</td>\n",
       "      <td>0</td>\n",
       "      <td>1</td>\n",
       "      <td>0</td>\n",
       "      <td>0</td>\n",
       "    </tr>\n",
       "    <tr>\n",
       "      <th>zuza</th>\n",
       "      <td>0</td>\n",
       "      <td>0</td>\n",
       "      <td>0</td>\n",
       "      <td>0</td>\n",
       "      <td>0</td>\n",
       "      <td>1</td>\n",
       "      <td>0</td>\n",
       "      <td>0</td>\n",
       "    </tr>\n",
       "  </tbody>\n",
       "</table>\n",
       "<p>591 rows × 8 columns</p>\n",
       "</div>"
      ],
      "text/plain": [
       "SCHOOLSTATUS                       autodidacte  catholique  inconnu  \\\n",
       "SCHOOL_RIGHT                                                          \n",
       "1uto                                         0           0        1   \n",
       "53                                           0           0        1   \n",
       "54                                           0           0        1   \n",
       "61                                           0           0        2   \n",
       "Alleluya                                     0           0        2   \n",
       "BWANGA                                       0           0        2   \n",
       "Bungulu Beni                                 0           0        1   \n",
       "GRACIA                                       0           0        1   \n",
       "I DE BKV                                     0           0        1   \n",
       "I LWANGA                                     0           0        1   \n",
       "INST DE KATWA                                0           0        1   \n",
       "INST LWANGA                                  0           0        1   \n",
       "INST. MPINGA                                 0           0        1   \n",
       "INSTITUT BWINZI                              0           0        1   \n",
       "INSTITUT LWANGA                              0           0        1   \n",
       "ITM DE BOGA                                  0           0        1   \n",
       "Institut BWANGA                              0           0        0   \n",
       "Institut MWANDA                              0           1        0   \n",
       "Institut MWANZO                              0           0        0   \n",
       "Institut NJANJA                              0           0        0   \n",
       "Institut de KATWA                            0           0        0   \n",
       "Intitut ALLELUYA                             0           0        0   \n",
       "L MWANDU                                     0           0        2   \n",
       "LWANGA                                       0           0        8   \n",
       "LYCEE MWANDU                                 0           0        2   \n",
       "LYCEE MWINDA                                 0           0        1   \n",
       "Lwanga                                       0           0       13   \n",
       "Lycée Mwandu                                 0           0        6   \n",
       "MUGUNGA                                      0           0        4   \n",
       "MWANA                                        0           0        1   \n",
       "...                                        ...         ...      ...   \n",
       "ujumbe                                       0           0        0   \n",
       "umoja fs                                     0           0        1   \n",
       "umuja international french school            0           0        0   \n",
       "utamaduni                                    0           0        3   \n",
       "utaniadun                                    0           0        1   \n",
       "uvira                                        0           0        1   \n",
       "uzima                                        0           4        0   \n",
       "veronique                                    0           0        0   \n",
       "vihya                                        0           0        1   \n",
       "vikanzu                                      0           0        1   \n",
       "virunga                                      0           0        0   \n",
       "virunga/quartier                             0           0        0   \n",
       "visogho                                      0           0        3   \n",
       "visoke                                       0           0        0   \n",
       "visolo                                       0           0        1   \n",
       "vuhika                                       0           0        2   \n",
       "vungi                                        0           0        0   \n",
       "wai wai                                      0           0        0   \n",
       "wamaza                                       0           0        1   \n",
       "wapole                                       0           0        3   \n",
       "wema                                         0           0        2   \n",
       "weza                                         0           6        0   \n",
       "weza2                                        0           0        1   \n",
       "wima                                         0          21        0   \n",
       "z                                            0           0        1   \n",
       "zako                                         0           0        1   \n",
       "zanner                                       0           0        0   \n",
       "zawadi ya raisi                              0           1        0   \n",
       "ziwa kivu                                    0           5        0   \n",
       "zuza                                         0           0        0   \n",
       "\n",
       "SCHOOLSTATUS                       kimbanguiste  musulman  privé  protestant  \\\n",
       "SCHOOL_RIGHT                                                                   \n",
       "1uto                                          0         0      0           0   \n",
       "53                                            0         0      0           0   \n",
       "54                                            0         0      0           0   \n",
       "61                                            0         0      0           0   \n",
       "Alleluya                                      0         0      0           0   \n",
       "BWANGA                                        0         0      0           0   \n",
       "Bungulu Beni                                  0         0      0           0   \n",
       "GRACIA                                        0         0      0           0   \n",
       "I DE BKV                                      0         0      0           0   \n",
       "I LWANGA                                      0         0      0           0   \n",
       "INST DE KATWA                                 0         0      0           0   \n",
       "INST LWANGA                                   0         0      0           0   \n",
       "INST. MPINGA                                  0         0      0           0   \n",
       "INSTITUT BWINZI                               0         0      0           0   \n",
       "INSTITUT LWANGA                               0         0      0           0   \n",
       "ITM DE BOGA                                   0         0      0           0   \n",
       "Institut BWANGA                               0         0      4           0   \n",
       "Institut MWANDA                               0         0      0           0   \n",
       "Institut MWANZO                               0         0      0           0   \n",
       "Institut NJANJA                               0         0      0           0   \n",
       "Institut de KATWA                             0         0      0           1   \n",
       "Intitut ALLELUYA                              0         0      0           0   \n",
       "L MWANDU                                      0         0      0           0   \n",
       "LWANGA                                        0         0      0           0   \n",
       "LYCEE MWANDU                                  0         0      0           0   \n",
       "LYCEE MWINDA                                  0         0      0           0   \n",
       "Lwanga                                        0         0      0           0   \n",
       "Lycée Mwandu                                  0         0      0           0   \n",
       "MUGUNGA                                       0         0      0           0   \n",
       "MWANA                                         0         0      0           0   \n",
       "...                                         ...       ...    ...         ...   \n",
       "ujumbe                                        0         0      1           0   \n",
       "umoja fs                                      0         0      0           0   \n",
       "umuja international french school             0         0      0           0   \n",
       "utamaduni                                     0         0      0           0   \n",
       "utaniadun                                     0         0      0           0   \n",
       "uvira                                         0         0      0           0   \n",
       "uzima                                         0         0      0           0   \n",
       "veronique                                     0         0      3           0   \n",
       "vihya                                         0         0      0           0   \n",
       "vikanzu                                       0         0      0           0   \n",
       "virunga                                       0         0      3           0   \n",
       "virunga/quartier                              0         0      2           0   \n",
       "visogho                                       0         0      0           0   \n",
       "visoke                                        0         0      0          33   \n",
       "visolo                                        0         0      0           0   \n",
       "vuhika                                        0         0      0           0   \n",
       "vungi                                         0         0      0           8   \n",
       "wai wai                                       0         0      0           0   \n",
       "wamaza                                        0         0      0           0   \n",
       "wapole                                        0         0      0           0   \n",
       "wema                                          0         0      0           0   \n",
       "weza                                          0         0      0           0   \n",
       "weza2                                         0         0      0           0   \n",
       "wima                                          0         0      0           0   \n",
       "z                                             0         0      0           0   \n",
       "zako                                          0         0      0           0   \n",
       "zanner                                        0         0      0          78   \n",
       "zawadi ya raisi                               0         0      0           0   \n",
       "ziwa kivu                                     0         0      1           0   \n",
       "zuza                                          0         0      1           0   \n",
       "\n",
       "SCHOOLSTATUS                       publique  \n",
       "SCHOOL_RIGHT                                 \n",
       "1uto                                      0  \n",
       "53                                        0  \n",
       "54                                        0  \n",
       "61                                        0  \n",
       "Alleluya                                  0  \n",
       "BWANGA                                    0  \n",
       "Bungulu Beni                              0  \n",
       "GRACIA                                    0  \n",
       "I DE BKV                                  0  \n",
       "I LWANGA                                  0  \n",
       "INST DE KATWA                             0  \n",
       "INST LWANGA                               0  \n",
       "INST. MPINGA                              0  \n",
       "INSTITUT BWINZI                           0  \n",
       "INSTITUT LWANGA                           0  \n",
       "ITM DE BOGA                               0  \n",
       "Institut BWANGA                           0  \n",
       "Institut MWANDA                           0  \n",
       "Institut MWANZO                           1  \n",
       "Institut NJANJA                           1  \n",
       "Institut de KATWA                         0  \n",
       "Intitut ALLELUYA                          1  \n",
       "L MWANDU                                  0  \n",
       "LWANGA                                    0  \n",
       "LYCEE MWANDU                              0  \n",
       "LYCEE MWINDA                              0  \n",
       "Lwanga                                    0  \n",
       "Lycée Mwandu                              0  \n",
       "MUGUNGA                                   0  \n",
       "MWANA                                     0  \n",
       "...                                     ...  \n",
       "ujumbe                                    0  \n",
       "umoja fs                                  0  \n",
       "umuja international french school         1  \n",
       "utamaduni                                 0  \n",
       "utaniadun                                 0  \n",
       "uvira                                     0  \n",
       "uzima                                    35  \n",
       "veronique                                 0  \n",
       "vihya                                     0  \n",
       "vikanzu                                   0  \n",
       "virunga                                   0  \n",
       "virunga/quartier                          1  \n",
       "visogho                                   0  \n",
       "visoke                                    0  \n",
       "visolo                                    0  \n",
       "vuhika                                    0  \n",
       "vungi                                     0  \n",
       "wai wai                                   1  \n",
       "wamaza                                    0  \n",
       "wapole                                    0  \n",
       "wema                                      0  \n",
       "weza                                      0  \n",
       "weza2                                     0  \n",
       "wima                                      0  \n",
       "z                                         0  \n",
       "zako                                      0  \n",
       "zanner                                    0  \n",
       "zawadi ya raisi                          11  \n",
       "ziwa kivu                                 0  \n",
       "zuza                                      0  \n",
       "\n",
       "[591 rows x 8 columns]"
      ]
     },
     "execution_count": 12,
     "metadata": {},
     "output_type": "execute_result"
    }
   ],
   "source": [
    "SchoolStat.contengencyTable()"
   ]
  },
  {
   "cell_type": "code",
   "execution_count": 13,
   "metadata": {},
   "outputs": [
    {
     "data": {
      "text/html": [
       "<div>\n",
       "<table border=\"1\" class=\"dataframe\">\n",
       "  <thead>\n",
       "    <tr style=\"text-align: right;\">\n",
       "      <th>SCHOOLSTATUS</th>\n",
       "      <th>autodidacte</th>\n",
       "      <th>catholique</th>\n",
       "      <th>inconnu</th>\n",
       "      <th>kimbanguiste</th>\n",
       "      <th>musulman</th>\n",
       "      <th>privé</th>\n",
       "      <th>protestant</th>\n",
       "      <th>publique</th>\n",
       "    </tr>\n",
       "    <tr>\n",
       "      <th>SCHOOL_RIGHT</th>\n",
       "      <th></th>\n",
       "      <th></th>\n",
       "      <th></th>\n",
       "      <th></th>\n",
       "      <th></th>\n",
       "      <th></th>\n",
       "      <th></th>\n",
       "      <th></th>\n",
       "    </tr>\n",
       "  </thead>\n",
       "  <tbody>\n",
       "    <tr>\n",
       "      <th>1uto</th>\n",
       "      <td>0.009332</td>\n",
       "      <td>0.276988</td>\n",
       "      <td>0.146554</td>\n",
       "      <td>0.001060</td>\n",
       "      <td>0.008059</td>\n",
       "      <td>0.113680</td>\n",
       "      <td>0.290562</td>\n",
       "      <td>0.153765</td>\n",
       "    </tr>\n",
       "    <tr>\n",
       "      <th>53</th>\n",
       "      <td>0.009332</td>\n",
       "      <td>0.276988</td>\n",
       "      <td>0.146554</td>\n",
       "      <td>0.001060</td>\n",
       "      <td>0.008059</td>\n",
       "      <td>0.113680</td>\n",
       "      <td>0.290562</td>\n",
       "      <td>0.153765</td>\n",
       "    </tr>\n",
       "    <tr>\n",
       "      <th>54</th>\n",
       "      <td>0.009332</td>\n",
       "      <td>0.276988</td>\n",
       "      <td>0.146554</td>\n",
       "      <td>0.001060</td>\n",
       "      <td>0.008059</td>\n",
       "      <td>0.113680</td>\n",
       "      <td>0.290562</td>\n",
       "      <td>0.153765</td>\n",
       "    </tr>\n",
       "    <tr>\n",
       "      <th>61</th>\n",
       "      <td>0.018664</td>\n",
       "      <td>0.553977</td>\n",
       "      <td>0.293107</td>\n",
       "      <td>0.002121</td>\n",
       "      <td>0.016119</td>\n",
       "      <td>0.227359</td>\n",
       "      <td>0.581124</td>\n",
       "      <td>0.307529</td>\n",
       "    </tr>\n",
       "    <tr>\n",
       "      <th>Alleluya</th>\n",
       "      <td>0.018664</td>\n",
       "      <td>0.553977</td>\n",
       "      <td>0.293107</td>\n",
       "      <td>0.002121</td>\n",
       "      <td>0.016119</td>\n",
       "      <td>0.227359</td>\n",
       "      <td>0.581124</td>\n",
       "      <td>0.307529</td>\n",
       "    </tr>\n",
       "    <tr>\n",
       "      <th>BWANGA</th>\n",
       "      <td>0.018664</td>\n",
       "      <td>0.553977</td>\n",
       "      <td>0.293107</td>\n",
       "      <td>0.002121</td>\n",
       "      <td>0.016119</td>\n",
       "      <td>0.227359</td>\n",
       "      <td>0.581124</td>\n",
       "      <td>0.307529</td>\n",
       "    </tr>\n",
       "    <tr>\n",
       "      <th>Bungulu Beni</th>\n",
       "      <td>0.009332</td>\n",
       "      <td>0.276988</td>\n",
       "      <td>0.146554</td>\n",
       "      <td>0.001060</td>\n",
       "      <td>0.008059</td>\n",
       "      <td>0.113680</td>\n",
       "      <td>0.290562</td>\n",
       "      <td>0.153765</td>\n",
       "    </tr>\n",
       "    <tr>\n",
       "      <th>GRACIA</th>\n",
       "      <td>0.009332</td>\n",
       "      <td>0.276988</td>\n",
       "      <td>0.146554</td>\n",
       "      <td>0.001060</td>\n",
       "      <td>0.008059</td>\n",
       "      <td>0.113680</td>\n",
       "      <td>0.290562</td>\n",
       "      <td>0.153765</td>\n",
       "    </tr>\n",
       "    <tr>\n",
       "      <th>I DE BKV</th>\n",
       "      <td>0.009332</td>\n",
       "      <td>0.276988</td>\n",
       "      <td>0.146554</td>\n",
       "      <td>0.001060</td>\n",
       "      <td>0.008059</td>\n",
       "      <td>0.113680</td>\n",
       "      <td>0.290562</td>\n",
       "      <td>0.153765</td>\n",
       "    </tr>\n",
       "    <tr>\n",
       "      <th>I LWANGA</th>\n",
       "      <td>0.009332</td>\n",
       "      <td>0.276988</td>\n",
       "      <td>0.146554</td>\n",
       "      <td>0.001060</td>\n",
       "      <td>0.008059</td>\n",
       "      <td>0.113680</td>\n",
       "      <td>0.290562</td>\n",
       "      <td>0.153765</td>\n",
       "    </tr>\n",
       "    <tr>\n",
       "      <th>INST DE KATWA</th>\n",
       "      <td>0.009332</td>\n",
       "      <td>0.276988</td>\n",
       "      <td>0.146554</td>\n",
       "      <td>0.001060</td>\n",
       "      <td>0.008059</td>\n",
       "      <td>0.113680</td>\n",
       "      <td>0.290562</td>\n",
       "      <td>0.153765</td>\n",
       "    </tr>\n",
       "    <tr>\n",
       "      <th>INST LWANGA</th>\n",
       "      <td>0.009332</td>\n",
       "      <td>0.276988</td>\n",
       "      <td>0.146554</td>\n",
       "      <td>0.001060</td>\n",
       "      <td>0.008059</td>\n",
       "      <td>0.113680</td>\n",
       "      <td>0.290562</td>\n",
       "      <td>0.153765</td>\n",
       "    </tr>\n",
       "    <tr>\n",
       "      <th>INST. MPINGA</th>\n",
       "      <td>0.009332</td>\n",
       "      <td>0.276988</td>\n",
       "      <td>0.146554</td>\n",
       "      <td>0.001060</td>\n",
       "      <td>0.008059</td>\n",
       "      <td>0.113680</td>\n",
       "      <td>0.290562</td>\n",
       "      <td>0.153765</td>\n",
       "    </tr>\n",
       "    <tr>\n",
       "      <th>INSTITUT BWINZI</th>\n",
       "      <td>0.009332</td>\n",
       "      <td>0.276988</td>\n",
       "      <td>0.146554</td>\n",
       "      <td>0.001060</td>\n",
       "      <td>0.008059</td>\n",
       "      <td>0.113680</td>\n",
       "      <td>0.290562</td>\n",
       "      <td>0.153765</td>\n",
       "    </tr>\n",
       "    <tr>\n",
       "      <th>INSTITUT LWANGA</th>\n",
       "      <td>0.009332</td>\n",
       "      <td>0.276988</td>\n",
       "      <td>0.146554</td>\n",
       "      <td>0.001060</td>\n",
       "      <td>0.008059</td>\n",
       "      <td>0.113680</td>\n",
       "      <td>0.290562</td>\n",
       "      <td>0.153765</td>\n",
       "    </tr>\n",
       "    <tr>\n",
       "      <th>ITM DE BOGA</th>\n",
       "      <td>0.009332</td>\n",
       "      <td>0.276988</td>\n",
       "      <td>0.146554</td>\n",
       "      <td>0.001060</td>\n",
       "      <td>0.008059</td>\n",
       "      <td>0.113680</td>\n",
       "      <td>0.290562</td>\n",
       "      <td>0.153765</td>\n",
       "    </tr>\n",
       "    <tr>\n",
       "      <th>Institut BWANGA</th>\n",
       "      <td>0.037328</td>\n",
       "      <td>1.107953</td>\n",
       "      <td>0.586214</td>\n",
       "      <td>0.004242</td>\n",
       "      <td>0.032238</td>\n",
       "      <td>0.454719</td>\n",
       "      <td>1.162248</td>\n",
       "      <td>0.615058</td>\n",
       "    </tr>\n",
       "    <tr>\n",
       "      <th>Institut MWANDA</th>\n",
       "      <td>0.009332</td>\n",
       "      <td>0.276988</td>\n",
       "      <td>0.146554</td>\n",
       "      <td>0.001060</td>\n",
       "      <td>0.008059</td>\n",
       "      <td>0.113680</td>\n",
       "      <td>0.290562</td>\n",
       "      <td>0.153765</td>\n",
       "    </tr>\n",
       "    <tr>\n",
       "      <th>Institut MWANZO</th>\n",
       "      <td>0.009332</td>\n",
       "      <td>0.276988</td>\n",
       "      <td>0.146554</td>\n",
       "      <td>0.001060</td>\n",
       "      <td>0.008059</td>\n",
       "      <td>0.113680</td>\n",
       "      <td>0.290562</td>\n",
       "      <td>0.153765</td>\n",
       "    </tr>\n",
       "    <tr>\n",
       "      <th>Institut NJANJA</th>\n",
       "      <td>0.009332</td>\n",
       "      <td>0.276988</td>\n",
       "      <td>0.146554</td>\n",
       "      <td>0.001060</td>\n",
       "      <td>0.008059</td>\n",
       "      <td>0.113680</td>\n",
       "      <td>0.290562</td>\n",
       "      <td>0.153765</td>\n",
       "    </tr>\n",
       "    <tr>\n",
       "      <th>Institut de KATWA</th>\n",
       "      <td>0.009332</td>\n",
       "      <td>0.276988</td>\n",
       "      <td>0.146554</td>\n",
       "      <td>0.001060</td>\n",
       "      <td>0.008059</td>\n",
       "      <td>0.113680</td>\n",
       "      <td>0.290562</td>\n",
       "      <td>0.153765</td>\n",
       "    </tr>\n",
       "    <tr>\n",
       "      <th>Intitut ALLELUYA</th>\n",
       "      <td>0.009332</td>\n",
       "      <td>0.276988</td>\n",
       "      <td>0.146554</td>\n",
       "      <td>0.001060</td>\n",
       "      <td>0.008059</td>\n",
       "      <td>0.113680</td>\n",
       "      <td>0.290562</td>\n",
       "      <td>0.153765</td>\n",
       "    </tr>\n",
       "    <tr>\n",
       "      <th>L MWANDU</th>\n",
       "      <td>0.018664</td>\n",
       "      <td>0.553977</td>\n",
       "      <td>0.293107</td>\n",
       "      <td>0.002121</td>\n",
       "      <td>0.016119</td>\n",
       "      <td>0.227359</td>\n",
       "      <td>0.581124</td>\n",
       "      <td>0.307529</td>\n",
       "    </tr>\n",
       "    <tr>\n",
       "      <th>LWANGA</th>\n",
       "      <td>0.074655</td>\n",
       "      <td>2.215907</td>\n",
       "      <td>1.172428</td>\n",
       "      <td>0.008484</td>\n",
       "      <td>0.064475</td>\n",
       "      <td>0.909438</td>\n",
       "      <td>2.324496</td>\n",
       "      <td>1.230117</td>\n",
       "    </tr>\n",
       "    <tr>\n",
       "      <th>LYCEE MWANDU</th>\n",
       "      <td>0.018664</td>\n",
       "      <td>0.553977</td>\n",
       "      <td>0.293107</td>\n",
       "      <td>0.002121</td>\n",
       "      <td>0.016119</td>\n",
       "      <td>0.227359</td>\n",
       "      <td>0.581124</td>\n",
       "      <td>0.307529</td>\n",
       "    </tr>\n",
       "    <tr>\n",
       "      <th>LYCEE MWINDA</th>\n",
       "      <td>0.009332</td>\n",
       "      <td>0.276988</td>\n",
       "      <td>0.146554</td>\n",
       "      <td>0.001060</td>\n",
       "      <td>0.008059</td>\n",
       "      <td>0.113680</td>\n",
       "      <td>0.290562</td>\n",
       "      <td>0.153765</td>\n",
       "    </tr>\n",
       "    <tr>\n",
       "      <th>Lwanga</th>\n",
       "      <td>0.121315</td>\n",
       "      <td>3.600848</td>\n",
       "      <td>1.905196</td>\n",
       "      <td>0.013786</td>\n",
       "      <td>0.104772</td>\n",
       "      <td>1.477837</td>\n",
       "      <td>3.777306</td>\n",
       "      <td>1.998940</td>\n",
       "    </tr>\n",
       "    <tr>\n",
       "      <th>Lycée Mwandu</th>\n",
       "      <td>0.055992</td>\n",
       "      <td>1.661930</td>\n",
       "      <td>0.879321</td>\n",
       "      <td>0.006363</td>\n",
       "      <td>0.048356</td>\n",
       "      <td>0.682078</td>\n",
       "      <td>1.743372</td>\n",
       "      <td>0.922587</td>\n",
       "    </tr>\n",
       "    <tr>\n",
       "      <th>MUGUNGA</th>\n",
       "      <td>0.037328</td>\n",
       "      <td>1.107953</td>\n",
       "      <td>0.586214</td>\n",
       "      <td>0.004242</td>\n",
       "      <td>0.032238</td>\n",
       "      <td>0.454719</td>\n",
       "      <td>1.162248</td>\n",
       "      <td>0.615058</td>\n",
       "    </tr>\n",
       "    <tr>\n",
       "      <th>MWANA</th>\n",
       "      <td>0.009332</td>\n",
       "      <td>0.276988</td>\n",
       "      <td>0.146554</td>\n",
       "      <td>0.001060</td>\n",
       "      <td>0.008059</td>\n",
       "      <td>0.113680</td>\n",
       "      <td>0.290562</td>\n",
       "      <td>0.153765</td>\n",
       "    </tr>\n",
       "    <tr>\n",
       "      <th>...</th>\n",
       "      <td>...</td>\n",
       "      <td>...</td>\n",
       "      <td>...</td>\n",
       "      <td>...</td>\n",
       "      <td>...</td>\n",
       "      <td>...</td>\n",
       "      <td>...</td>\n",
       "      <td>...</td>\n",
       "    </tr>\n",
       "    <tr>\n",
       "      <th>ujumbe</th>\n",
       "      <td>0.009332</td>\n",
       "      <td>0.276988</td>\n",
       "      <td>0.146554</td>\n",
       "      <td>0.001060</td>\n",
       "      <td>0.008059</td>\n",
       "      <td>0.113680</td>\n",
       "      <td>0.290562</td>\n",
       "      <td>0.153765</td>\n",
       "    </tr>\n",
       "    <tr>\n",
       "      <th>umoja fs</th>\n",
       "      <td>0.009332</td>\n",
       "      <td>0.276988</td>\n",
       "      <td>0.146554</td>\n",
       "      <td>0.001060</td>\n",
       "      <td>0.008059</td>\n",
       "      <td>0.113680</td>\n",
       "      <td>0.290562</td>\n",
       "      <td>0.153765</td>\n",
       "    </tr>\n",
       "    <tr>\n",
       "      <th>umuja international french school</th>\n",
       "      <td>0.009332</td>\n",
       "      <td>0.276988</td>\n",
       "      <td>0.146554</td>\n",
       "      <td>0.001060</td>\n",
       "      <td>0.008059</td>\n",
       "      <td>0.113680</td>\n",
       "      <td>0.290562</td>\n",
       "      <td>0.153765</td>\n",
       "    </tr>\n",
       "    <tr>\n",
       "      <th>utamaduni</th>\n",
       "      <td>0.027996</td>\n",
       "      <td>0.830965</td>\n",
       "      <td>0.439661</td>\n",
       "      <td>0.003181</td>\n",
       "      <td>0.024178</td>\n",
       "      <td>0.341039</td>\n",
       "      <td>0.871686</td>\n",
       "      <td>0.461294</td>\n",
       "    </tr>\n",
       "    <tr>\n",
       "      <th>utaniadun</th>\n",
       "      <td>0.009332</td>\n",
       "      <td>0.276988</td>\n",
       "      <td>0.146554</td>\n",
       "      <td>0.001060</td>\n",
       "      <td>0.008059</td>\n",
       "      <td>0.113680</td>\n",
       "      <td>0.290562</td>\n",
       "      <td>0.153765</td>\n",
       "    </tr>\n",
       "    <tr>\n",
       "      <th>uvira</th>\n",
       "      <td>0.009332</td>\n",
       "      <td>0.276988</td>\n",
       "      <td>0.146554</td>\n",
       "      <td>0.001060</td>\n",
       "      <td>0.008059</td>\n",
       "      <td>0.113680</td>\n",
       "      <td>0.290562</td>\n",
       "      <td>0.153765</td>\n",
       "    </tr>\n",
       "    <tr>\n",
       "      <th>uzima</th>\n",
       "      <td>0.363945</td>\n",
       "      <td>10.802545</td>\n",
       "      <td>5.715589</td>\n",
       "      <td>0.041357</td>\n",
       "      <td>0.314316</td>\n",
       "      <td>4.433510</td>\n",
       "      <td>11.331919</td>\n",
       "      <td>5.996819</td>\n",
       "    </tr>\n",
       "    <tr>\n",
       "      <th>veronique</th>\n",
       "      <td>0.027996</td>\n",
       "      <td>0.830965</td>\n",
       "      <td>0.439661</td>\n",
       "      <td>0.003181</td>\n",
       "      <td>0.024178</td>\n",
       "      <td>0.341039</td>\n",
       "      <td>0.871686</td>\n",
       "      <td>0.461294</td>\n",
       "    </tr>\n",
       "    <tr>\n",
       "      <th>vihya</th>\n",
       "      <td>0.009332</td>\n",
       "      <td>0.276988</td>\n",
       "      <td>0.146554</td>\n",
       "      <td>0.001060</td>\n",
       "      <td>0.008059</td>\n",
       "      <td>0.113680</td>\n",
       "      <td>0.290562</td>\n",
       "      <td>0.153765</td>\n",
       "    </tr>\n",
       "    <tr>\n",
       "      <th>vikanzu</th>\n",
       "      <td>0.009332</td>\n",
       "      <td>0.276988</td>\n",
       "      <td>0.146554</td>\n",
       "      <td>0.001060</td>\n",
       "      <td>0.008059</td>\n",
       "      <td>0.113680</td>\n",
       "      <td>0.290562</td>\n",
       "      <td>0.153765</td>\n",
       "    </tr>\n",
       "    <tr>\n",
       "      <th>virunga</th>\n",
       "      <td>0.027996</td>\n",
       "      <td>0.830965</td>\n",
       "      <td>0.439661</td>\n",
       "      <td>0.003181</td>\n",
       "      <td>0.024178</td>\n",
       "      <td>0.341039</td>\n",
       "      <td>0.871686</td>\n",
       "      <td>0.461294</td>\n",
       "    </tr>\n",
       "    <tr>\n",
       "      <th>virunga/quartier</th>\n",
       "      <td>0.027996</td>\n",
       "      <td>0.830965</td>\n",
       "      <td>0.439661</td>\n",
       "      <td>0.003181</td>\n",
       "      <td>0.024178</td>\n",
       "      <td>0.341039</td>\n",
       "      <td>0.871686</td>\n",
       "      <td>0.461294</td>\n",
       "    </tr>\n",
       "    <tr>\n",
       "      <th>visogho</th>\n",
       "      <td>0.027996</td>\n",
       "      <td>0.830965</td>\n",
       "      <td>0.439661</td>\n",
       "      <td>0.003181</td>\n",
       "      <td>0.024178</td>\n",
       "      <td>0.341039</td>\n",
       "      <td>0.871686</td>\n",
       "      <td>0.461294</td>\n",
       "    </tr>\n",
       "    <tr>\n",
       "      <th>visoke</th>\n",
       "      <td>0.307953</td>\n",
       "      <td>9.140615</td>\n",
       "      <td>4.836267</td>\n",
       "      <td>0.034995</td>\n",
       "      <td>0.265960</td>\n",
       "      <td>3.751432</td>\n",
       "      <td>9.588547</td>\n",
       "      <td>5.074231</td>\n",
       "    </tr>\n",
       "    <tr>\n",
       "      <th>visolo</th>\n",
       "      <td>0.009332</td>\n",
       "      <td>0.276988</td>\n",
       "      <td>0.146554</td>\n",
       "      <td>0.001060</td>\n",
       "      <td>0.008059</td>\n",
       "      <td>0.113680</td>\n",
       "      <td>0.290562</td>\n",
       "      <td>0.153765</td>\n",
       "    </tr>\n",
       "    <tr>\n",
       "      <th>vuhika</th>\n",
       "      <td>0.018664</td>\n",
       "      <td>0.553977</td>\n",
       "      <td>0.293107</td>\n",
       "      <td>0.002121</td>\n",
       "      <td>0.016119</td>\n",
       "      <td>0.227359</td>\n",
       "      <td>0.581124</td>\n",
       "      <td>0.307529</td>\n",
       "    </tr>\n",
       "    <tr>\n",
       "      <th>vungi</th>\n",
       "      <td>0.074655</td>\n",
       "      <td>2.215907</td>\n",
       "      <td>1.172428</td>\n",
       "      <td>0.008484</td>\n",
       "      <td>0.064475</td>\n",
       "      <td>0.909438</td>\n",
       "      <td>2.324496</td>\n",
       "      <td>1.230117</td>\n",
       "    </tr>\n",
       "    <tr>\n",
       "      <th>wai wai</th>\n",
       "      <td>0.009332</td>\n",
       "      <td>0.276988</td>\n",
       "      <td>0.146554</td>\n",
       "      <td>0.001060</td>\n",
       "      <td>0.008059</td>\n",
       "      <td>0.113680</td>\n",
       "      <td>0.290562</td>\n",
       "      <td>0.153765</td>\n",
       "    </tr>\n",
       "    <tr>\n",
       "      <th>wamaza</th>\n",
       "      <td>0.009332</td>\n",
       "      <td>0.276988</td>\n",
       "      <td>0.146554</td>\n",
       "      <td>0.001060</td>\n",
       "      <td>0.008059</td>\n",
       "      <td>0.113680</td>\n",
       "      <td>0.290562</td>\n",
       "      <td>0.153765</td>\n",
       "    </tr>\n",
       "    <tr>\n",
       "      <th>wapole</th>\n",
       "      <td>0.027996</td>\n",
       "      <td>0.830965</td>\n",
       "      <td>0.439661</td>\n",
       "      <td>0.003181</td>\n",
       "      <td>0.024178</td>\n",
       "      <td>0.341039</td>\n",
       "      <td>0.871686</td>\n",
       "      <td>0.461294</td>\n",
       "    </tr>\n",
       "    <tr>\n",
       "      <th>wema</th>\n",
       "      <td>0.018664</td>\n",
       "      <td>0.553977</td>\n",
       "      <td>0.293107</td>\n",
       "      <td>0.002121</td>\n",
       "      <td>0.016119</td>\n",
       "      <td>0.227359</td>\n",
       "      <td>0.581124</td>\n",
       "      <td>0.307529</td>\n",
       "    </tr>\n",
       "    <tr>\n",
       "      <th>weza</th>\n",
       "      <td>0.055992</td>\n",
       "      <td>1.661930</td>\n",
       "      <td>0.879321</td>\n",
       "      <td>0.006363</td>\n",
       "      <td>0.048356</td>\n",
       "      <td>0.682078</td>\n",
       "      <td>1.743372</td>\n",
       "      <td>0.922587</td>\n",
       "    </tr>\n",
       "    <tr>\n",
       "      <th>weza2</th>\n",
       "      <td>0.009332</td>\n",
       "      <td>0.276988</td>\n",
       "      <td>0.146554</td>\n",
       "      <td>0.001060</td>\n",
       "      <td>0.008059</td>\n",
       "      <td>0.113680</td>\n",
       "      <td>0.290562</td>\n",
       "      <td>0.153765</td>\n",
       "    </tr>\n",
       "    <tr>\n",
       "      <th>wima</th>\n",
       "      <td>0.195970</td>\n",
       "      <td>5.816755</td>\n",
       "      <td>3.077625</td>\n",
       "      <td>0.022269</td>\n",
       "      <td>0.169247</td>\n",
       "      <td>2.387275</td>\n",
       "      <td>6.101803</td>\n",
       "      <td>3.229056</td>\n",
       "    </tr>\n",
       "    <tr>\n",
       "      <th>z</th>\n",
       "      <td>0.009332</td>\n",
       "      <td>0.276988</td>\n",
       "      <td>0.146554</td>\n",
       "      <td>0.001060</td>\n",
       "      <td>0.008059</td>\n",
       "      <td>0.113680</td>\n",
       "      <td>0.290562</td>\n",
       "      <td>0.153765</td>\n",
       "    </tr>\n",
       "    <tr>\n",
       "      <th>zako</th>\n",
       "      <td>0.009332</td>\n",
       "      <td>0.276988</td>\n",
       "      <td>0.146554</td>\n",
       "      <td>0.001060</td>\n",
       "      <td>0.008059</td>\n",
       "      <td>0.113680</td>\n",
       "      <td>0.290562</td>\n",
       "      <td>0.153765</td>\n",
       "    </tr>\n",
       "    <tr>\n",
       "      <th>zanner</th>\n",
       "      <td>0.727890</td>\n",
       "      <td>21.605090</td>\n",
       "      <td>11.431177</td>\n",
       "      <td>0.082715</td>\n",
       "      <td>0.628632</td>\n",
       "      <td>8.867020</td>\n",
       "      <td>22.663839</td>\n",
       "      <td>11.993637</td>\n",
       "    </tr>\n",
       "    <tr>\n",
       "      <th>zawadi ya raisi</th>\n",
       "      <td>0.111983</td>\n",
       "      <td>3.323860</td>\n",
       "      <td>1.758643</td>\n",
       "      <td>0.012725</td>\n",
       "      <td>0.096713</td>\n",
       "      <td>1.364157</td>\n",
       "      <td>3.486744</td>\n",
       "      <td>1.845175</td>\n",
       "    </tr>\n",
       "    <tr>\n",
       "      <th>ziwa kivu</th>\n",
       "      <td>0.055992</td>\n",
       "      <td>1.661930</td>\n",
       "      <td>0.879321</td>\n",
       "      <td>0.006363</td>\n",
       "      <td>0.048356</td>\n",
       "      <td>0.682078</td>\n",
       "      <td>1.743372</td>\n",
       "      <td>0.922587</td>\n",
       "    </tr>\n",
       "    <tr>\n",
       "      <th>zuza</th>\n",
       "      <td>0.009332</td>\n",
       "      <td>0.276988</td>\n",
       "      <td>0.146554</td>\n",
       "      <td>0.001060</td>\n",
       "      <td>0.008059</td>\n",
       "      <td>0.113680</td>\n",
       "      <td>0.290562</td>\n",
       "      <td>0.153765</td>\n",
       "    </tr>\n",
       "  </tbody>\n",
       "</table>\n",
       "<p>591 rows × 8 columns</p>\n",
       "</div>"
      ],
      "text/plain": [
       "SCHOOLSTATUS                       autodidacte  catholique    inconnu  \\\n",
       "SCHOOL_RIGHT                                                            \n",
       "1uto                                  0.009332    0.276988   0.146554   \n",
       "53                                    0.009332    0.276988   0.146554   \n",
       "54                                    0.009332    0.276988   0.146554   \n",
       "61                                    0.018664    0.553977   0.293107   \n",
       "Alleluya                              0.018664    0.553977   0.293107   \n",
       "BWANGA                                0.018664    0.553977   0.293107   \n",
       "Bungulu Beni                          0.009332    0.276988   0.146554   \n",
       "GRACIA                                0.009332    0.276988   0.146554   \n",
       "I DE BKV                              0.009332    0.276988   0.146554   \n",
       "I LWANGA                              0.009332    0.276988   0.146554   \n",
       "INST DE KATWA                         0.009332    0.276988   0.146554   \n",
       "INST LWANGA                           0.009332    0.276988   0.146554   \n",
       "INST. MPINGA                          0.009332    0.276988   0.146554   \n",
       "INSTITUT BWINZI                       0.009332    0.276988   0.146554   \n",
       "INSTITUT LWANGA                       0.009332    0.276988   0.146554   \n",
       "ITM DE BOGA                           0.009332    0.276988   0.146554   \n",
       "Institut BWANGA                       0.037328    1.107953   0.586214   \n",
       "Institut MWANDA                       0.009332    0.276988   0.146554   \n",
       "Institut MWANZO                       0.009332    0.276988   0.146554   \n",
       "Institut NJANJA                       0.009332    0.276988   0.146554   \n",
       "Institut de KATWA                     0.009332    0.276988   0.146554   \n",
       "Intitut ALLELUYA                      0.009332    0.276988   0.146554   \n",
       "L MWANDU                              0.018664    0.553977   0.293107   \n",
       "LWANGA                                0.074655    2.215907   1.172428   \n",
       "LYCEE MWANDU                          0.018664    0.553977   0.293107   \n",
       "LYCEE MWINDA                          0.009332    0.276988   0.146554   \n",
       "Lwanga                                0.121315    3.600848   1.905196   \n",
       "Lycée Mwandu                          0.055992    1.661930   0.879321   \n",
       "MUGUNGA                               0.037328    1.107953   0.586214   \n",
       "MWANA                                 0.009332    0.276988   0.146554   \n",
       "...                                        ...         ...        ...   \n",
       "ujumbe                                0.009332    0.276988   0.146554   \n",
       "umoja fs                              0.009332    0.276988   0.146554   \n",
       "umuja international french school     0.009332    0.276988   0.146554   \n",
       "utamaduni                             0.027996    0.830965   0.439661   \n",
       "utaniadun                             0.009332    0.276988   0.146554   \n",
       "uvira                                 0.009332    0.276988   0.146554   \n",
       "uzima                                 0.363945   10.802545   5.715589   \n",
       "veronique                             0.027996    0.830965   0.439661   \n",
       "vihya                                 0.009332    0.276988   0.146554   \n",
       "vikanzu                               0.009332    0.276988   0.146554   \n",
       "virunga                               0.027996    0.830965   0.439661   \n",
       "virunga/quartier                      0.027996    0.830965   0.439661   \n",
       "visogho                               0.027996    0.830965   0.439661   \n",
       "visoke                                0.307953    9.140615   4.836267   \n",
       "visolo                                0.009332    0.276988   0.146554   \n",
       "vuhika                                0.018664    0.553977   0.293107   \n",
       "vungi                                 0.074655    2.215907   1.172428   \n",
       "wai wai                               0.009332    0.276988   0.146554   \n",
       "wamaza                                0.009332    0.276988   0.146554   \n",
       "wapole                                0.027996    0.830965   0.439661   \n",
       "wema                                  0.018664    0.553977   0.293107   \n",
       "weza                                  0.055992    1.661930   0.879321   \n",
       "weza2                                 0.009332    0.276988   0.146554   \n",
       "wima                                  0.195970    5.816755   3.077625   \n",
       "z                                     0.009332    0.276988   0.146554   \n",
       "zako                                  0.009332    0.276988   0.146554   \n",
       "zanner                                0.727890   21.605090  11.431177   \n",
       "zawadi ya raisi                       0.111983    3.323860   1.758643   \n",
       "ziwa kivu                             0.055992    1.661930   0.879321   \n",
       "zuza                                  0.009332    0.276988   0.146554   \n",
       "\n",
       "SCHOOLSTATUS                       kimbanguiste  musulman     privé  \\\n",
       "SCHOOL_RIGHT                                                          \n",
       "1uto                                   0.001060  0.008059  0.113680   \n",
       "53                                     0.001060  0.008059  0.113680   \n",
       "54                                     0.001060  0.008059  0.113680   \n",
       "61                                     0.002121  0.016119  0.227359   \n",
       "Alleluya                               0.002121  0.016119  0.227359   \n",
       "BWANGA                                 0.002121  0.016119  0.227359   \n",
       "Bungulu Beni                           0.001060  0.008059  0.113680   \n",
       "GRACIA                                 0.001060  0.008059  0.113680   \n",
       "I DE BKV                               0.001060  0.008059  0.113680   \n",
       "I LWANGA                               0.001060  0.008059  0.113680   \n",
       "INST DE KATWA                          0.001060  0.008059  0.113680   \n",
       "INST LWANGA                            0.001060  0.008059  0.113680   \n",
       "INST. MPINGA                           0.001060  0.008059  0.113680   \n",
       "INSTITUT BWINZI                        0.001060  0.008059  0.113680   \n",
       "INSTITUT LWANGA                        0.001060  0.008059  0.113680   \n",
       "ITM DE BOGA                            0.001060  0.008059  0.113680   \n",
       "Institut BWANGA                        0.004242  0.032238  0.454719   \n",
       "Institut MWANDA                        0.001060  0.008059  0.113680   \n",
       "Institut MWANZO                        0.001060  0.008059  0.113680   \n",
       "Institut NJANJA                        0.001060  0.008059  0.113680   \n",
       "Institut de KATWA                      0.001060  0.008059  0.113680   \n",
       "Intitut ALLELUYA                       0.001060  0.008059  0.113680   \n",
       "L MWANDU                               0.002121  0.016119  0.227359   \n",
       "LWANGA                                 0.008484  0.064475  0.909438   \n",
       "LYCEE MWANDU                           0.002121  0.016119  0.227359   \n",
       "LYCEE MWINDA                           0.001060  0.008059  0.113680   \n",
       "Lwanga                                 0.013786  0.104772  1.477837   \n",
       "Lycée Mwandu                           0.006363  0.048356  0.682078   \n",
       "MUGUNGA                                0.004242  0.032238  0.454719   \n",
       "MWANA                                  0.001060  0.008059  0.113680   \n",
       "...                                         ...       ...       ...   \n",
       "ujumbe                                 0.001060  0.008059  0.113680   \n",
       "umoja fs                               0.001060  0.008059  0.113680   \n",
       "umuja international french school      0.001060  0.008059  0.113680   \n",
       "utamaduni                              0.003181  0.024178  0.341039   \n",
       "utaniadun                              0.001060  0.008059  0.113680   \n",
       "uvira                                  0.001060  0.008059  0.113680   \n",
       "uzima                                  0.041357  0.314316  4.433510   \n",
       "veronique                              0.003181  0.024178  0.341039   \n",
       "vihya                                  0.001060  0.008059  0.113680   \n",
       "vikanzu                                0.001060  0.008059  0.113680   \n",
       "virunga                                0.003181  0.024178  0.341039   \n",
       "virunga/quartier                       0.003181  0.024178  0.341039   \n",
       "visogho                                0.003181  0.024178  0.341039   \n",
       "visoke                                 0.034995  0.265960  3.751432   \n",
       "visolo                                 0.001060  0.008059  0.113680   \n",
       "vuhika                                 0.002121  0.016119  0.227359   \n",
       "vungi                                  0.008484  0.064475  0.909438   \n",
       "wai wai                                0.001060  0.008059  0.113680   \n",
       "wamaza                                 0.001060  0.008059  0.113680   \n",
       "wapole                                 0.003181  0.024178  0.341039   \n",
       "wema                                   0.002121  0.016119  0.227359   \n",
       "weza                                   0.006363  0.048356  0.682078   \n",
       "weza2                                  0.001060  0.008059  0.113680   \n",
       "wima                                   0.022269  0.169247  2.387275   \n",
       "z                                      0.001060  0.008059  0.113680   \n",
       "zako                                   0.001060  0.008059  0.113680   \n",
       "zanner                                 0.082715  0.628632  8.867020   \n",
       "zawadi ya raisi                        0.012725  0.096713  1.364157   \n",
       "ziwa kivu                              0.006363  0.048356  0.682078   \n",
       "zuza                                   0.001060  0.008059  0.113680   \n",
       "\n",
       "SCHOOLSTATUS                       protestant   publique  \n",
       "SCHOOL_RIGHT                                              \n",
       "1uto                                 0.290562   0.153765  \n",
       "53                                   0.290562   0.153765  \n",
       "54                                   0.290562   0.153765  \n",
       "61                                   0.581124   0.307529  \n",
       "Alleluya                             0.581124   0.307529  \n",
       "BWANGA                               0.581124   0.307529  \n",
       "Bungulu Beni                         0.290562   0.153765  \n",
       "GRACIA                               0.290562   0.153765  \n",
       "I DE BKV                             0.290562   0.153765  \n",
       "I LWANGA                             0.290562   0.153765  \n",
       "INST DE KATWA                        0.290562   0.153765  \n",
       "INST LWANGA                          0.290562   0.153765  \n",
       "INST. MPINGA                         0.290562   0.153765  \n",
       "INSTITUT BWINZI                      0.290562   0.153765  \n",
       "INSTITUT LWANGA                      0.290562   0.153765  \n",
       "ITM DE BOGA                          0.290562   0.153765  \n",
       "Institut BWANGA                      1.162248   0.615058  \n",
       "Institut MWANDA                      0.290562   0.153765  \n",
       "Institut MWANZO                      0.290562   0.153765  \n",
       "Institut NJANJA                      0.290562   0.153765  \n",
       "Institut de KATWA                    0.290562   0.153765  \n",
       "Intitut ALLELUYA                     0.290562   0.153765  \n",
       "L MWANDU                             0.581124   0.307529  \n",
       "LWANGA                               2.324496   1.230117  \n",
       "LYCEE MWANDU                         0.581124   0.307529  \n",
       "LYCEE MWINDA                         0.290562   0.153765  \n",
       "Lwanga                               3.777306   1.998940  \n",
       "Lycée Mwandu                         1.743372   0.922587  \n",
       "MUGUNGA                              1.162248   0.615058  \n",
       "MWANA                                0.290562   0.153765  \n",
       "...                                       ...        ...  \n",
       "ujumbe                               0.290562   0.153765  \n",
       "umoja fs                             0.290562   0.153765  \n",
       "umuja international french school    0.290562   0.153765  \n",
       "utamaduni                            0.871686   0.461294  \n",
       "utaniadun                            0.290562   0.153765  \n",
       "uvira                                0.290562   0.153765  \n",
       "uzima                               11.331919   5.996819  \n",
       "veronique                            0.871686   0.461294  \n",
       "vihya                                0.290562   0.153765  \n",
       "vikanzu                              0.290562   0.153765  \n",
       "virunga                              0.871686   0.461294  \n",
       "virunga/quartier                     0.871686   0.461294  \n",
       "visogho                              0.871686   0.461294  \n",
       "visoke                               9.588547   5.074231  \n",
       "visolo                               0.290562   0.153765  \n",
       "vuhika                               0.581124   0.307529  \n",
       "vungi                                2.324496   1.230117  \n",
       "wai wai                              0.290562   0.153765  \n",
       "wamaza                               0.290562   0.153765  \n",
       "wapole                               0.871686   0.461294  \n",
       "wema                                 0.581124   0.307529  \n",
       "weza                                 1.743372   0.922587  \n",
       "weza2                                0.290562   0.153765  \n",
       "wima                                 6.101803   3.229056  \n",
       "z                                    0.290562   0.153765  \n",
       "zako                                 0.290562   0.153765  \n",
       "zanner                              22.663839  11.993637  \n",
       "zawadi ya raisi                      3.486744   1.845175  \n",
       "ziwa kivu                            1.743372   0.922587  \n",
       "zuza                                 0.290562   0.153765  \n",
       "\n",
       "[591 rows x 8 columns]"
      ]
     },
     "execution_count": 13,
     "metadata": {},
     "output_type": "execute_result"
    }
   ],
   "source": [
    "SchoolStat.chisquare()"
   ]
  },
  {
   "cell_type": "code",
   "execution_count": 19,
   "metadata": {
    "scrolled": false
   },
   "outputs": [
    {
     "data": {
      "text/plain": [
       "0       null hypothesis is rejected : is no relationsh...\n",
       "1       null hypothesis is rejected : is no relationsh...\n",
       "2       null hypothesis is rejected : is no relationsh...\n",
       "3       null hypothesis is rejected : is no relationsh...\n",
       "4       null hypothesis is rejected : is no relationsh...\n",
       "5       null hypothesis is rejected : is no relationsh...\n",
       "6       null hypothesis is rejected : is no relationsh...\n",
       "7       null hypothesis is rejected : is no relationsh...\n",
       "8       null hypothesis is rejected : is no relationsh...\n",
       "9       null hypothesis is rejected : is no relationsh...\n",
       "10      null hypothesis is rejected : is no relationsh...\n",
       "11      null hypothesis is rejected : is no relationsh...\n",
       "12      null hypothesis is rejected : is no relationsh...\n",
       "13      null hypothesis is rejected : is no relationsh...\n",
       "14      null hypothesis is rejected : is no relationsh...\n",
       "15      null hypothesis is rejected : is no relationsh...\n",
       "16      null hypothesis is rejected : is no relationsh...\n",
       "17      null hypothesis is rejected : is no relationsh...\n",
       "18      null hypothesis is rejected : is no relationsh...\n",
       "19      null hypothesis is rejected : is no relationsh...\n",
       "20      null hypothesis is rejected : is no relationsh...\n",
       "21      null hypothesis is rejected : is no relationsh...\n",
       "22      null hypothesis is rejected : is no relationsh...\n",
       "23      null hypothesis is rejected : is no relationsh...\n",
       "24      null hypothesis is rejected : is no relationsh...\n",
       "25      null hypothesis is rejected : is no relationsh...\n",
       "26      null hypothesis is rejected : is no relationsh...\n",
       "27      null hypothesis is rejected : is no relationsh...\n",
       "28      null hypothesis is rejected : is no relationsh...\n",
       "29      null hypothesis is rejected : is no relationsh...\n",
       "                              ...                        \n",
       "4685    null hypothesis is rejected : is no relationsh...\n",
       "4686    null hypothesis is rejected : is no relationsh...\n",
       "4687    null hypothesis is rejected : is no relationsh...\n",
       "4688    null hypothesis is rejected : is no relationsh...\n",
       "4689    null hypothesis is rejected : is no relationsh...\n",
       "4690    null hypothesis is rejected : is no relationsh...\n",
       "4691    null hypothesis is rejected : is no relationsh...\n",
       "4692    null hypothesis is rejected : is no relationsh...\n",
       "4693    null hypothesis is rejected : is no relationsh...\n",
       "4694    null hypothesis is rejected : is no relationsh...\n",
       "4695    null hypothesis is rejected : is no relationsh...\n",
       "4696    null hypothesis is rejected : is no relationsh...\n",
       "4697    null hypothesis is rejected : is no relationsh...\n",
       "4698    null hypothesis is rejected : is no relationsh...\n",
       "4699    null hypothesis is rejected : is no relationsh...\n",
       "4700    null hypothesis is rejected : is no relationsh...\n",
       "4701    null hypothesis is rejected : is no relationsh...\n",
       "4702    null hypothesis is rejected : is no relationsh...\n",
       "4703    null hypothesis is rejected : is no relationsh...\n",
       "4704    null hypothesis is rejected : is no relationsh...\n",
       "4705    null hypothesis is rejected : is no relationsh...\n",
       "4706    null hypothesis is rejected : is no relationsh...\n",
       "4707    null hypothesis is rejected : is no relationsh...\n",
       "4708    null hypothesis is rejected : is no relationsh...\n",
       "4709    null hypothesis is rejected : is no relationsh...\n",
       "4710    null hypothesis is rejected : is no relationsh...\n",
       "4711    null hypothesis is rejected : is no relationsh...\n",
       "4712    null hypothesis is rejected : is no relationsh...\n",
       "4713    null hypothesis is rejected : is no relationsh...\n",
       "4714    null hypothesis is rejected : is no relationsh...\n",
       "dtype: object"
      ]
     },
     "execution_count": 19,
     "metadata": {},
     "output_type": "execute_result"
    }
   ],
   "source": [
    "SchoolStat.conclude(on='chi')"
   ]
  },
  {
   "cell_type": "code",
   "execution_count": 18,
   "metadata": {},
   "outputs": [
    {
     "data": {
      "text/plain": [
       "4130"
      ]
     },
     "execution_count": 18,
     "metadata": {},
     "output_type": "execute_result"
    }
   ],
   "source": [
    "SchoolStat.dof"
   ]
  },
  {
   "cell_type": "code",
   "execution_count": 20,
   "metadata": {},
   "outputs": [
    {
     "data": {
      "text/plain": [
       "0.0"
      ]
     },
     "execution_count": 20,
     "metadata": {},
     "output_type": "execute_result"
    }
   ],
   "source": [
    "SchoolStat.p"
   ]
  },
  {
   "cell_type": "markdown",
   "metadata": {},
   "source": [
    "Comme notre hypothese null es rejeter nous pouvons affirmativement conclure qu'il existe une relation entre l'ecole et le status de l'ecole'"
   ]
  },
  {
   "cell_type": "markdown",
   "metadata": {},
   "source": [
    "DOnc connaissance l'ecole  nous pouvons savaoir le status"
   ]
  },
  {
   "cell_type": "code",
   "execution_count": 22,
   "metadata": {
    "collapsed": true
   },
   "outputs": [],
   "source": [
    "SchoolStat2=ChiSquareCalc(dataset=datasetCGPA,X='SCHOOL_RIGHT',Y='SCHOOLPROVINCE')"
   ]
  },
  {
   "cell_type": "code",
   "execution_count": 23,
   "metadata": {
    "scrolled": true
   },
   "outputs": [
    {
     "data": {
      "text/html": [
       "<div>\n",
       "<table border=\"1\" class=\"dataframe\">\n",
       "  <thead>\n",
       "    <tr style=\"text-align: right;\">\n",
       "      <th>SCHOOLPROVINCE</th>\n",
       "      <th>BANDUNDU</th>\n",
       "      <th>BAS CONGO</th>\n",
       "      <th>EQUATEUR</th>\n",
       "      <th>K OR</th>\n",
       "      <th>KASAI OCCIDENTAL</th>\n",
       "      <th>KASAI ORIENTAL</th>\n",
       "      <th>KATANGA</th>\n",
       "      <th>KIGALI</th>\n",
       "      <th>KINSHASA</th>\n",
       "      <th>MANIEMA</th>\n",
       "      <th>NORD-KIVU</th>\n",
       "      <th>NYARUKENGE</th>\n",
       "      <th>ORIENTALE</th>\n",
       "      <th>OUEST</th>\n",
       "      <th>SUD-KIVU</th>\n",
       "      <th>inconnu</th>\n",
       "    </tr>\n",
       "    <tr>\n",
       "      <th>SCHOOL_RIGHT</th>\n",
       "      <th></th>\n",
       "      <th></th>\n",
       "      <th></th>\n",
       "      <th></th>\n",
       "      <th></th>\n",
       "      <th></th>\n",
       "      <th></th>\n",
       "      <th></th>\n",
       "      <th></th>\n",
       "      <th></th>\n",
       "      <th></th>\n",
       "      <th></th>\n",
       "      <th></th>\n",
       "      <th></th>\n",
       "      <th></th>\n",
       "      <th></th>\n",
       "    </tr>\n",
       "  </thead>\n",
       "  <tbody>\n",
       "    <tr>\n",
       "      <th>1uto</th>\n",
       "      <td>0</td>\n",
       "      <td>0</td>\n",
       "      <td>0</td>\n",
       "      <td>0</td>\n",
       "      <td>0</td>\n",
       "      <td>0</td>\n",
       "      <td>0</td>\n",
       "      <td>0</td>\n",
       "      <td>0</td>\n",
       "      <td>0</td>\n",
       "      <td>1</td>\n",
       "      <td>0</td>\n",
       "      <td>0</td>\n",
       "      <td>0</td>\n",
       "      <td>0</td>\n",
       "      <td>0</td>\n",
       "    </tr>\n",
       "    <tr>\n",
       "      <th>53</th>\n",
       "      <td>0</td>\n",
       "      <td>0</td>\n",
       "      <td>0</td>\n",
       "      <td>0</td>\n",
       "      <td>0</td>\n",
       "      <td>0</td>\n",
       "      <td>0</td>\n",
       "      <td>0</td>\n",
       "      <td>0</td>\n",
       "      <td>0</td>\n",
       "      <td>1</td>\n",
       "      <td>0</td>\n",
       "      <td>0</td>\n",
       "      <td>0</td>\n",
       "      <td>0</td>\n",
       "      <td>0</td>\n",
       "    </tr>\n",
       "    <tr>\n",
       "      <th>54</th>\n",
       "      <td>0</td>\n",
       "      <td>0</td>\n",
       "      <td>0</td>\n",
       "      <td>0</td>\n",
       "      <td>0</td>\n",
       "      <td>0</td>\n",
       "      <td>0</td>\n",
       "      <td>0</td>\n",
       "      <td>0</td>\n",
       "      <td>0</td>\n",
       "      <td>0</td>\n",
       "      <td>0</td>\n",
       "      <td>0</td>\n",
       "      <td>0</td>\n",
       "      <td>1</td>\n",
       "      <td>0</td>\n",
       "    </tr>\n",
       "    <tr>\n",
       "      <th>61</th>\n",
       "      <td>0</td>\n",
       "      <td>0</td>\n",
       "      <td>0</td>\n",
       "      <td>0</td>\n",
       "      <td>0</td>\n",
       "      <td>0</td>\n",
       "      <td>0</td>\n",
       "      <td>0</td>\n",
       "      <td>0</td>\n",
       "      <td>0</td>\n",
       "      <td>2</td>\n",
       "      <td>0</td>\n",
       "      <td>0</td>\n",
       "      <td>0</td>\n",
       "      <td>0</td>\n",
       "      <td>0</td>\n",
       "    </tr>\n",
       "    <tr>\n",
       "      <th>Alleluya</th>\n",
       "      <td>0</td>\n",
       "      <td>0</td>\n",
       "      <td>0</td>\n",
       "      <td>0</td>\n",
       "      <td>0</td>\n",
       "      <td>0</td>\n",
       "      <td>0</td>\n",
       "      <td>0</td>\n",
       "      <td>0</td>\n",
       "      <td>0</td>\n",
       "      <td>2</td>\n",
       "      <td>0</td>\n",
       "      <td>0</td>\n",
       "      <td>0</td>\n",
       "      <td>0</td>\n",
       "      <td>0</td>\n",
       "    </tr>\n",
       "    <tr>\n",
       "      <th>BWANGA</th>\n",
       "      <td>0</td>\n",
       "      <td>0</td>\n",
       "      <td>0</td>\n",
       "      <td>0</td>\n",
       "      <td>0</td>\n",
       "      <td>0</td>\n",
       "      <td>0</td>\n",
       "      <td>0</td>\n",
       "      <td>0</td>\n",
       "      <td>0</td>\n",
       "      <td>2</td>\n",
       "      <td>0</td>\n",
       "      <td>0</td>\n",
       "      <td>0</td>\n",
       "      <td>0</td>\n",
       "      <td>0</td>\n",
       "    </tr>\n",
       "    <tr>\n",
       "      <th>Bungulu Beni</th>\n",
       "      <td>0</td>\n",
       "      <td>0</td>\n",
       "      <td>0</td>\n",
       "      <td>0</td>\n",
       "      <td>0</td>\n",
       "      <td>0</td>\n",
       "      <td>0</td>\n",
       "      <td>0</td>\n",
       "      <td>0</td>\n",
       "      <td>0</td>\n",
       "      <td>1</td>\n",
       "      <td>0</td>\n",
       "      <td>0</td>\n",
       "      <td>0</td>\n",
       "      <td>0</td>\n",
       "      <td>0</td>\n",
       "    </tr>\n",
       "    <tr>\n",
       "      <th>GRACIA</th>\n",
       "      <td>0</td>\n",
       "      <td>0</td>\n",
       "      <td>0</td>\n",
       "      <td>0</td>\n",
       "      <td>0</td>\n",
       "      <td>0</td>\n",
       "      <td>0</td>\n",
       "      <td>0</td>\n",
       "      <td>0</td>\n",
       "      <td>0</td>\n",
       "      <td>0</td>\n",
       "      <td>0</td>\n",
       "      <td>0</td>\n",
       "      <td>0</td>\n",
       "      <td>1</td>\n",
       "      <td>0</td>\n",
       "    </tr>\n",
       "    <tr>\n",
       "      <th>I DE BKV</th>\n",
       "      <td>0</td>\n",
       "      <td>0</td>\n",
       "      <td>0</td>\n",
       "      <td>0</td>\n",
       "      <td>0</td>\n",
       "      <td>0</td>\n",
       "      <td>0</td>\n",
       "      <td>0</td>\n",
       "      <td>0</td>\n",
       "      <td>0</td>\n",
       "      <td>0</td>\n",
       "      <td>0</td>\n",
       "      <td>0</td>\n",
       "      <td>0</td>\n",
       "      <td>1</td>\n",
       "      <td>0</td>\n",
       "    </tr>\n",
       "    <tr>\n",
       "      <th>I LWANGA</th>\n",
       "      <td>0</td>\n",
       "      <td>0</td>\n",
       "      <td>0</td>\n",
       "      <td>0</td>\n",
       "      <td>0</td>\n",
       "      <td>0</td>\n",
       "      <td>0</td>\n",
       "      <td>0</td>\n",
       "      <td>0</td>\n",
       "      <td>0</td>\n",
       "      <td>0</td>\n",
       "      <td>0</td>\n",
       "      <td>0</td>\n",
       "      <td>0</td>\n",
       "      <td>1</td>\n",
       "      <td>0</td>\n",
       "    </tr>\n",
       "    <tr>\n",
       "      <th>INST DE KATWA</th>\n",
       "      <td>0</td>\n",
       "      <td>0</td>\n",
       "      <td>0</td>\n",
       "      <td>0</td>\n",
       "      <td>0</td>\n",
       "      <td>0</td>\n",
       "      <td>0</td>\n",
       "      <td>0</td>\n",
       "      <td>0</td>\n",
       "      <td>0</td>\n",
       "      <td>1</td>\n",
       "      <td>0</td>\n",
       "      <td>0</td>\n",
       "      <td>0</td>\n",
       "      <td>0</td>\n",
       "      <td>0</td>\n",
       "    </tr>\n",
       "    <tr>\n",
       "      <th>INST LWANGA</th>\n",
       "      <td>0</td>\n",
       "      <td>0</td>\n",
       "      <td>0</td>\n",
       "      <td>0</td>\n",
       "      <td>0</td>\n",
       "      <td>0</td>\n",
       "      <td>0</td>\n",
       "      <td>0</td>\n",
       "      <td>0</td>\n",
       "      <td>0</td>\n",
       "      <td>0</td>\n",
       "      <td>0</td>\n",
       "      <td>0</td>\n",
       "      <td>0</td>\n",
       "      <td>1</td>\n",
       "      <td>0</td>\n",
       "    </tr>\n",
       "    <tr>\n",
       "      <th>INST. MPINGA</th>\n",
       "      <td>0</td>\n",
       "      <td>0</td>\n",
       "      <td>0</td>\n",
       "      <td>0</td>\n",
       "      <td>0</td>\n",
       "      <td>0</td>\n",
       "      <td>0</td>\n",
       "      <td>0</td>\n",
       "      <td>0</td>\n",
       "      <td>0</td>\n",
       "      <td>0</td>\n",
       "      <td>0</td>\n",
       "      <td>0</td>\n",
       "      <td>0</td>\n",
       "      <td>1</td>\n",
       "      <td>0</td>\n",
       "    </tr>\n",
       "    <tr>\n",
       "      <th>INSTITUT BWINZI</th>\n",
       "      <td>0</td>\n",
       "      <td>0</td>\n",
       "      <td>0</td>\n",
       "      <td>0</td>\n",
       "      <td>0</td>\n",
       "      <td>0</td>\n",
       "      <td>0</td>\n",
       "      <td>0</td>\n",
       "      <td>0</td>\n",
       "      <td>0</td>\n",
       "      <td>0</td>\n",
       "      <td>0</td>\n",
       "      <td>0</td>\n",
       "      <td>0</td>\n",
       "      <td>1</td>\n",
       "      <td>0</td>\n",
       "    </tr>\n",
       "    <tr>\n",
       "      <th>INSTITUT LWANGA</th>\n",
       "      <td>0</td>\n",
       "      <td>0</td>\n",
       "      <td>0</td>\n",
       "      <td>0</td>\n",
       "      <td>0</td>\n",
       "      <td>0</td>\n",
       "      <td>0</td>\n",
       "      <td>0</td>\n",
       "      <td>0</td>\n",
       "      <td>0</td>\n",
       "      <td>1</td>\n",
       "      <td>0</td>\n",
       "      <td>0</td>\n",
       "      <td>0</td>\n",
       "      <td>0</td>\n",
       "      <td>0</td>\n",
       "    </tr>\n",
       "    <tr>\n",
       "      <th>ITM DE BOGA</th>\n",
       "      <td>0</td>\n",
       "      <td>0</td>\n",
       "      <td>0</td>\n",
       "      <td>0</td>\n",
       "      <td>0</td>\n",
       "      <td>0</td>\n",
       "      <td>0</td>\n",
       "      <td>0</td>\n",
       "      <td>0</td>\n",
       "      <td>0</td>\n",
       "      <td>0</td>\n",
       "      <td>0</td>\n",
       "      <td>1</td>\n",
       "      <td>0</td>\n",
       "      <td>0</td>\n",
       "      <td>0</td>\n",
       "    </tr>\n",
       "    <tr>\n",
       "      <th>Institut BWANGA</th>\n",
       "      <td>0</td>\n",
       "      <td>0</td>\n",
       "      <td>0</td>\n",
       "      <td>0</td>\n",
       "      <td>0</td>\n",
       "      <td>0</td>\n",
       "      <td>0</td>\n",
       "      <td>0</td>\n",
       "      <td>0</td>\n",
       "      <td>0</td>\n",
       "      <td>4</td>\n",
       "      <td>0</td>\n",
       "      <td>0</td>\n",
       "      <td>0</td>\n",
       "      <td>0</td>\n",
       "      <td>0</td>\n",
       "    </tr>\n",
       "    <tr>\n",
       "      <th>Institut MWANDA</th>\n",
       "      <td>0</td>\n",
       "      <td>0</td>\n",
       "      <td>0</td>\n",
       "      <td>0</td>\n",
       "      <td>0</td>\n",
       "      <td>0</td>\n",
       "      <td>0</td>\n",
       "      <td>0</td>\n",
       "      <td>0</td>\n",
       "      <td>0</td>\n",
       "      <td>1</td>\n",
       "      <td>0</td>\n",
       "      <td>0</td>\n",
       "      <td>0</td>\n",
       "      <td>0</td>\n",
       "      <td>0</td>\n",
       "    </tr>\n",
       "    <tr>\n",
       "      <th>Institut MWANZO</th>\n",
       "      <td>0</td>\n",
       "      <td>0</td>\n",
       "      <td>0</td>\n",
       "      <td>0</td>\n",
       "      <td>0</td>\n",
       "      <td>0</td>\n",
       "      <td>0</td>\n",
       "      <td>0</td>\n",
       "      <td>0</td>\n",
       "      <td>0</td>\n",
       "      <td>0</td>\n",
       "      <td>0</td>\n",
       "      <td>0</td>\n",
       "      <td>0</td>\n",
       "      <td>1</td>\n",
       "      <td>0</td>\n",
       "    </tr>\n",
       "    <tr>\n",
       "      <th>Institut NJANJA</th>\n",
       "      <td>0</td>\n",
       "      <td>0</td>\n",
       "      <td>0</td>\n",
       "      <td>0</td>\n",
       "      <td>0</td>\n",
       "      <td>0</td>\n",
       "      <td>1</td>\n",
       "      <td>0</td>\n",
       "      <td>0</td>\n",
       "      <td>0</td>\n",
       "      <td>0</td>\n",
       "      <td>0</td>\n",
       "      <td>0</td>\n",
       "      <td>0</td>\n",
       "      <td>0</td>\n",
       "      <td>0</td>\n",
       "    </tr>\n",
       "    <tr>\n",
       "      <th>Institut de KATWA</th>\n",
       "      <td>0</td>\n",
       "      <td>0</td>\n",
       "      <td>0</td>\n",
       "      <td>0</td>\n",
       "      <td>0</td>\n",
       "      <td>0</td>\n",
       "      <td>0</td>\n",
       "      <td>0</td>\n",
       "      <td>0</td>\n",
       "      <td>0</td>\n",
       "      <td>1</td>\n",
       "      <td>0</td>\n",
       "      <td>0</td>\n",
       "      <td>0</td>\n",
       "      <td>0</td>\n",
       "      <td>0</td>\n",
       "    </tr>\n",
       "    <tr>\n",
       "      <th>Intitut ALLELUYA</th>\n",
       "      <td>0</td>\n",
       "      <td>0</td>\n",
       "      <td>0</td>\n",
       "      <td>0</td>\n",
       "      <td>0</td>\n",
       "      <td>0</td>\n",
       "      <td>0</td>\n",
       "      <td>0</td>\n",
       "      <td>0</td>\n",
       "      <td>0</td>\n",
       "      <td>1</td>\n",
       "      <td>0</td>\n",
       "      <td>0</td>\n",
       "      <td>0</td>\n",
       "      <td>0</td>\n",
       "      <td>0</td>\n",
       "    </tr>\n",
       "    <tr>\n",
       "      <th>L MWANDU</th>\n",
       "      <td>0</td>\n",
       "      <td>0</td>\n",
       "      <td>0</td>\n",
       "      <td>0</td>\n",
       "      <td>0</td>\n",
       "      <td>0</td>\n",
       "      <td>0</td>\n",
       "      <td>0</td>\n",
       "      <td>0</td>\n",
       "      <td>0</td>\n",
       "      <td>2</td>\n",
       "      <td>0</td>\n",
       "      <td>0</td>\n",
       "      <td>0</td>\n",
       "      <td>0</td>\n",
       "      <td>0</td>\n",
       "    </tr>\n",
       "    <tr>\n",
       "      <th>LWANGA</th>\n",
       "      <td>0</td>\n",
       "      <td>0</td>\n",
       "      <td>0</td>\n",
       "      <td>0</td>\n",
       "      <td>0</td>\n",
       "      <td>0</td>\n",
       "      <td>0</td>\n",
       "      <td>0</td>\n",
       "      <td>0</td>\n",
       "      <td>0</td>\n",
       "      <td>0</td>\n",
       "      <td>0</td>\n",
       "      <td>0</td>\n",
       "      <td>0</td>\n",
       "      <td>8</td>\n",
       "      <td>0</td>\n",
       "    </tr>\n",
       "    <tr>\n",
       "      <th>LYCEE MWANDU</th>\n",
       "      <td>0</td>\n",
       "      <td>0</td>\n",
       "      <td>0</td>\n",
       "      <td>0</td>\n",
       "      <td>0</td>\n",
       "      <td>0</td>\n",
       "      <td>0</td>\n",
       "      <td>0</td>\n",
       "      <td>0</td>\n",
       "      <td>0</td>\n",
       "      <td>2</td>\n",
       "      <td>0</td>\n",
       "      <td>0</td>\n",
       "      <td>0</td>\n",
       "      <td>0</td>\n",
       "      <td>0</td>\n",
       "    </tr>\n",
       "    <tr>\n",
       "      <th>LYCEE MWINDA</th>\n",
       "      <td>0</td>\n",
       "      <td>0</td>\n",
       "      <td>1</td>\n",
       "      <td>0</td>\n",
       "      <td>0</td>\n",
       "      <td>0</td>\n",
       "      <td>0</td>\n",
       "      <td>0</td>\n",
       "      <td>0</td>\n",
       "      <td>0</td>\n",
       "      <td>0</td>\n",
       "      <td>0</td>\n",
       "      <td>0</td>\n",
       "      <td>0</td>\n",
       "      <td>0</td>\n",
       "      <td>0</td>\n",
       "    </tr>\n",
       "    <tr>\n",
       "      <th>Lwanga</th>\n",
       "      <td>0</td>\n",
       "      <td>0</td>\n",
       "      <td>0</td>\n",
       "      <td>0</td>\n",
       "      <td>0</td>\n",
       "      <td>0</td>\n",
       "      <td>0</td>\n",
       "      <td>0</td>\n",
       "      <td>0</td>\n",
       "      <td>0</td>\n",
       "      <td>4</td>\n",
       "      <td>0</td>\n",
       "      <td>0</td>\n",
       "      <td>0</td>\n",
       "      <td>9</td>\n",
       "      <td>0</td>\n",
       "    </tr>\n",
       "    <tr>\n",
       "      <th>Lycée Mwandu</th>\n",
       "      <td>0</td>\n",
       "      <td>0</td>\n",
       "      <td>0</td>\n",
       "      <td>0</td>\n",
       "      <td>0</td>\n",
       "      <td>0</td>\n",
       "      <td>0</td>\n",
       "      <td>0</td>\n",
       "      <td>0</td>\n",
       "      <td>0</td>\n",
       "      <td>6</td>\n",
       "      <td>0</td>\n",
       "      <td>0</td>\n",
       "      <td>0</td>\n",
       "      <td>0</td>\n",
       "      <td>0</td>\n",
       "    </tr>\n",
       "    <tr>\n",
       "      <th>MUGUNGA</th>\n",
       "      <td>0</td>\n",
       "      <td>0</td>\n",
       "      <td>0</td>\n",
       "      <td>0</td>\n",
       "      <td>0</td>\n",
       "      <td>0</td>\n",
       "      <td>0</td>\n",
       "      <td>0</td>\n",
       "      <td>0</td>\n",
       "      <td>0</td>\n",
       "      <td>4</td>\n",
       "      <td>0</td>\n",
       "      <td>0</td>\n",
       "      <td>0</td>\n",
       "      <td>0</td>\n",
       "      <td>0</td>\n",
       "    </tr>\n",
       "    <tr>\n",
       "      <th>MWANA</th>\n",
       "      <td>0</td>\n",
       "      <td>0</td>\n",
       "      <td>0</td>\n",
       "      <td>0</td>\n",
       "      <td>0</td>\n",
       "      <td>0</td>\n",
       "      <td>0</td>\n",
       "      <td>0</td>\n",
       "      <td>0</td>\n",
       "      <td>0</td>\n",
       "      <td>1</td>\n",
       "      <td>0</td>\n",
       "      <td>0</td>\n",
       "      <td>0</td>\n",
       "      <td>0</td>\n",
       "      <td>0</td>\n",
       "    </tr>\n",
       "    <tr>\n",
       "      <th>...</th>\n",
       "      <td>...</td>\n",
       "      <td>...</td>\n",
       "      <td>...</td>\n",
       "      <td>...</td>\n",
       "      <td>...</td>\n",
       "      <td>...</td>\n",
       "      <td>...</td>\n",
       "      <td>...</td>\n",
       "      <td>...</td>\n",
       "      <td>...</td>\n",
       "      <td>...</td>\n",
       "      <td>...</td>\n",
       "      <td>...</td>\n",
       "      <td>...</td>\n",
       "      <td>...</td>\n",
       "      <td>...</td>\n",
       "    </tr>\n",
       "    <tr>\n",
       "      <th>ujumbe</th>\n",
       "      <td>0</td>\n",
       "      <td>0</td>\n",
       "      <td>0</td>\n",
       "      <td>0</td>\n",
       "      <td>0</td>\n",
       "      <td>0</td>\n",
       "      <td>0</td>\n",
       "      <td>0</td>\n",
       "      <td>0</td>\n",
       "      <td>0</td>\n",
       "      <td>1</td>\n",
       "      <td>0</td>\n",
       "      <td>0</td>\n",
       "      <td>0</td>\n",
       "      <td>0</td>\n",
       "      <td>0</td>\n",
       "    </tr>\n",
       "    <tr>\n",
       "      <th>umoja fs</th>\n",
       "      <td>0</td>\n",
       "      <td>0</td>\n",
       "      <td>0</td>\n",
       "      <td>0</td>\n",
       "      <td>0</td>\n",
       "      <td>0</td>\n",
       "      <td>0</td>\n",
       "      <td>0</td>\n",
       "      <td>0</td>\n",
       "      <td>0</td>\n",
       "      <td>0</td>\n",
       "      <td>0</td>\n",
       "      <td>0</td>\n",
       "      <td>0</td>\n",
       "      <td>0</td>\n",
       "      <td>1</td>\n",
       "    </tr>\n",
       "    <tr>\n",
       "      <th>umuja international french school</th>\n",
       "      <td>0</td>\n",
       "      <td>0</td>\n",
       "      <td>0</td>\n",
       "      <td>0</td>\n",
       "      <td>0</td>\n",
       "      <td>0</td>\n",
       "      <td>0</td>\n",
       "      <td>0</td>\n",
       "      <td>0</td>\n",
       "      <td>0</td>\n",
       "      <td>0</td>\n",
       "      <td>0</td>\n",
       "      <td>0</td>\n",
       "      <td>0</td>\n",
       "      <td>0</td>\n",
       "      <td>1</td>\n",
       "    </tr>\n",
       "    <tr>\n",
       "      <th>utamaduni</th>\n",
       "      <td>0</td>\n",
       "      <td>0</td>\n",
       "      <td>0</td>\n",
       "      <td>0</td>\n",
       "      <td>0</td>\n",
       "      <td>0</td>\n",
       "      <td>0</td>\n",
       "      <td>0</td>\n",
       "      <td>0</td>\n",
       "      <td>0</td>\n",
       "      <td>3</td>\n",
       "      <td>0</td>\n",
       "      <td>0</td>\n",
       "      <td>0</td>\n",
       "      <td>0</td>\n",
       "      <td>0</td>\n",
       "    </tr>\n",
       "    <tr>\n",
       "      <th>utaniadun</th>\n",
       "      <td>0</td>\n",
       "      <td>0</td>\n",
       "      <td>0</td>\n",
       "      <td>0</td>\n",
       "      <td>0</td>\n",
       "      <td>0</td>\n",
       "      <td>0</td>\n",
       "      <td>0</td>\n",
       "      <td>0</td>\n",
       "      <td>0</td>\n",
       "      <td>1</td>\n",
       "      <td>0</td>\n",
       "      <td>0</td>\n",
       "      <td>0</td>\n",
       "      <td>0</td>\n",
       "      <td>0</td>\n",
       "    </tr>\n",
       "    <tr>\n",
       "      <th>uvira</th>\n",
       "      <td>0</td>\n",
       "      <td>0</td>\n",
       "      <td>0</td>\n",
       "      <td>0</td>\n",
       "      <td>0</td>\n",
       "      <td>0</td>\n",
       "      <td>0</td>\n",
       "      <td>0</td>\n",
       "      <td>0</td>\n",
       "      <td>0</td>\n",
       "      <td>0</td>\n",
       "      <td>0</td>\n",
       "      <td>0</td>\n",
       "      <td>0</td>\n",
       "      <td>1</td>\n",
       "      <td>0</td>\n",
       "    </tr>\n",
       "    <tr>\n",
       "      <th>uzima</th>\n",
       "      <td>0</td>\n",
       "      <td>0</td>\n",
       "      <td>0</td>\n",
       "      <td>0</td>\n",
       "      <td>0</td>\n",
       "      <td>0</td>\n",
       "      <td>0</td>\n",
       "      <td>0</td>\n",
       "      <td>0</td>\n",
       "      <td>0</td>\n",
       "      <td>39</td>\n",
       "      <td>0</td>\n",
       "      <td>0</td>\n",
       "      <td>0</td>\n",
       "      <td>0</td>\n",
       "      <td>0</td>\n",
       "    </tr>\n",
       "    <tr>\n",
       "      <th>veronique</th>\n",
       "      <td>0</td>\n",
       "      <td>0</td>\n",
       "      <td>0</td>\n",
       "      <td>0</td>\n",
       "      <td>0</td>\n",
       "      <td>0</td>\n",
       "      <td>0</td>\n",
       "      <td>0</td>\n",
       "      <td>0</td>\n",
       "      <td>0</td>\n",
       "      <td>2</td>\n",
       "      <td>0</td>\n",
       "      <td>0</td>\n",
       "      <td>0</td>\n",
       "      <td>1</td>\n",
       "      <td>0</td>\n",
       "    </tr>\n",
       "    <tr>\n",
       "      <th>vihya</th>\n",
       "      <td>0</td>\n",
       "      <td>0</td>\n",
       "      <td>0</td>\n",
       "      <td>0</td>\n",
       "      <td>0</td>\n",
       "      <td>0</td>\n",
       "      <td>0</td>\n",
       "      <td>0</td>\n",
       "      <td>0</td>\n",
       "      <td>0</td>\n",
       "      <td>1</td>\n",
       "      <td>0</td>\n",
       "      <td>0</td>\n",
       "      <td>0</td>\n",
       "      <td>0</td>\n",
       "      <td>0</td>\n",
       "    </tr>\n",
       "    <tr>\n",
       "      <th>vikanzu</th>\n",
       "      <td>0</td>\n",
       "      <td>0</td>\n",
       "      <td>0</td>\n",
       "      <td>0</td>\n",
       "      <td>0</td>\n",
       "      <td>0</td>\n",
       "      <td>0</td>\n",
       "      <td>0</td>\n",
       "      <td>0</td>\n",
       "      <td>0</td>\n",
       "      <td>1</td>\n",
       "      <td>0</td>\n",
       "      <td>0</td>\n",
       "      <td>0</td>\n",
       "      <td>0</td>\n",
       "      <td>0</td>\n",
       "    </tr>\n",
       "    <tr>\n",
       "      <th>virunga</th>\n",
       "      <td>0</td>\n",
       "      <td>0</td>\n",
       "      <td>0</td>\n",
       "      <td>0</td>\n",
       "      <td>0</td>\n",
       "      <td>0</td>\n",
       "      <td>0</td>\n",
       "      <td>0</td>\n",
       "      <td>0</td>\n",
       "      <td>0</td>\n",
       "      <td>3</td>\n",
       "      <td>0</td>\n",
       "      <td>0</td>\n",
       "      <td>0</td>\n",
       "      <td>0</td>\n",
       "      <td>0</td>\n",
       "    </tr>\n",
       "    <tr>\n",
       "      <th>virunga/quartier</th>\n",
       "      <td>0</td>\n",
       "      <td>0</td>\n",
       "      <td>0</td>\n",
       "      <td>0</td>\n",
       "      <td>0</td>\n",
       "      <td>0</td>\n",
       "      <td>0</td>\n",
       "      <td>0</td>\n",
       "      <td>0</td>\n",
       "      <td>0</td>\n",
       "      <td>3</td>\n",
       "      <td>0</td>\n",
       "      <td>0</td>\n",
       "      <td>0</td>\n",
       "      <td>0</td>\n",
       "      <td>0</td>\n",
       "    </tr>\n",
       "    <tr>\n",
       "      <th>visogho</th>\n",
       "      <td>0</td>\n",
       "      <td>0</td>\n",
       "      <td>0</td>\n",
       "      <td>0</td>\n",
       "      <td>0</td>\n",
       "      <td>0</td>\n",
       "      <td>0</td>\n",
       "      <td>0</td>\n",
       "      <td>0</td>\n",
       "      <td>0</td>\n",
       "      <td>3</td>\n",
       "      <td>0</td>\n",
       "      <td>0</td>\n",
       "      <td>0</td>\n",
       "      <td>0</td>\n",
       "      <td>0</td>\n",
       "    </tr>\n",
       "    <tr>\n",
       "      <th>visoke</th>\n",
       "      <td>0</td>\n",
       "      <td>0</td>\n",
       "      <td>0</td>\n",
       "      <td>0</td>\n",
       "      <td>0</td>\n",
       "      <td>0</td>\n",
       "      <td>0</td>\n",
       "      <td>0</td>\n",
       "      <td>0</td>\n",
       "      <td>0</td>\n",
       "      <td>32</td>\n",
       "      <td>0</td>\n",
       "      <td>0</td>\n",
       "      <td>0</td>\n",
       "      <td>1</td>\n",
       "      <td>0</td>\n",
       "    </tr>\n",
       "    <tr>\n",
       "      <th>visolo</th>\n",
       "      <td>0</td>\n",
       "      <td>0</td>\n",
       "      <td>0</td>\n",
       "      <td>0</td>\n",
       "      <td>0</td>\n",
       "      <td>0</td>\n",
       "      <td>0</td>\n",
       "      <td>0</td>\n",
       "      <td>0</td>\n",
       "      <td>0</td>\n",
       "      <td>1</td>\n",
       "      <td>0</td>\n",
       "      <td>0</td>\n",
       "      <td>0</td>\n",
       "      <td>0</td>\n",
       "      <td>0</td>\n",
       "    </tr>\n",
       "    <tr>\n",
       "      <th>vuhika</th>\n",
       "      <td>0</td>\n",
       "      <td>0</td>\n",
       "      <td>0</td>\n",
       "      <td>0</td>\n",
       "      <td>0</td>\n",
       "      <td>0</td>\n",
       "      <td>0</td>\n",
       "      <td>0</td>\n",
       "      <td>0</td>\n",
       "      <td>0</td>\n",
       "      <td>2</td>\n",
       "      <td>0</td>\n",
       "      <td>0</td>\n",
       "      <td>0</td>\n",
       "      <td>0</td>\n",
       "      <td>0</td>\n",
       "    </tr>\n",
       "    <tr>\n",
       "      <th>vungi</th>\n",
       "      <td>0</td>\n",
       "      <td>0</td>\n",
       "      <td>0</td>\n",
       "      <td>0</td>\n",
       "      <td>0</td>\n",
       "      <td>0</td>\n",
       "      <td>0</td>\n",
       "      <td>0</td>\n",
       "      <td>0</td>\n",
       "      <td>0</td>\n",
       "      <td>8</td>\n",
       "      <td>0</td>\n",
       "      <td>0</td>\n",
       "      <td>0</td>\n",
       "      <td>0</td>\n",
       "      <td>0</td>\n",
       "    </tr>\n",
       "    <tr>\n",
       "      <th>wai wai</th>\n",
       "      <td>0</td>\n",
       "      <td>0</td>\n",
       "      <td>0</td>\n",
       "      <td>0</td>\n",
       "      <td>0</td>\n",
       "      <td>0</td>\n",
       "      <td>0</td>\n",
       "      <td>0</td>\n",
       "      <td>0</td>\n",
       "      <td>0</td>\n",
       "      <td>1</td>\n",
       "      <td>0</td>\n",
       "      <td>0</td>\n",
       "      <td>0</td>\n",
       "      <td>0</td>\n",
       "      <td>0</td>\n",
       "    </tr>\n",
       "    <tr>\n",
       "      <th>wamaza</th>\n",
       "      <td>0</td>\n",
       "      <td>0</td>\n",
       "      <td>0</td>\n",
       "      <td>0</td>\n",
       "      <td>0</td>\n",
       "      <td>0</td>\n",
       "      <td>0</td>\n",
       "      <td>0</td>\n",
       "      <td>0</td>\n",
       "      <td>0</td>\n",
       "      <td>1</td>\n",
       "      <td>0</td>\n",
       "      <td>0</td>\n",
       "      <td>0</td>\n",
       "      <td>0</td>\n",
       "      <td>0</td>\n",
       "    </tr>\n",
       "    <tr>\n",
       "      <th>wapole</th>\n",
       "      <td>0</td>\n",
       "      <td>0</td>\n",
       "      <td>0</td>\n",
       "      <td>0</td>\n",
       "      <td>0</td>\n",
       "      <td>0</td>\n",
       "      <td>0</td>\n",
       "      <td>0</td>\n",
       "      <td>0</td>\n",
       "      <td>0</td>\n",
       "      <td>3</td>\n",
       "      <td>0</td>\n",
       "      <td>0</td>\n",
       "      <td>0</td>\n",
       "      <td>0</td>\n",
       "      <td>0</td>\n",
       "    </tr>\n",
       "    <tr>\n",
       "      <th>wema</th>\n",
       "      <td>0</td>\n",
       "      <td>0</td>\n",
       "      <td>0</td>\n",
       "      <td>0</td>\n",
       "      <td>0</td>\n",
       "      <td>0</td>\n",
       "      <td>0</td>\n",
       "      <td>0</td>\n",
       "      <td>0</td>\n",
       "      <td>0</td>\n",
       "      <td>2</td>\n",
       "      <td>0</td>\n",
       "      <td>0</td>\n",
       "      <td>0</td>\n",
       "      <td>0</td>\n",
       "      <td>0</td>\n",
       "    </tr>\n",
       "    <tr>\n",
       "      <th>weza</th>\n",
       "      <td>0</td>\n",
       "      <td>0</td>\n",
       "      <td>0</td>\n",
       "      <td>0</td>\n",
       "      <td>0</td>\n",
       "      <td>0</td>\n",
       "      <td>0</td>\n",
       "      <td>0</td>\n",
       "      <td>0</td>\n",
       "      <td>0</td>\n",
       "      <td>1</td>\n",
       "      <td>0</td>\n",
       "      <td>0</td>\n",
       "      <td>0</td>\n",
       "      <td>5</td>\n",
       "      <td>0</td>\n",
       "    </tr>\n",
       "    <tr>\n",
       "      <th>weza2</th>\n",
       "      <td>0</td>\n",
       "      <td>0</td>\n",
       "      <td>0</td>\n",
       "      <td>0</td>\n",
       "      <td>0</td>\n",
       "      <td>0</td>\n",
       "      <td>0</td>\n",
       "      <td>0</td>\n",
       "      <td>0</td>\n",
       "      <td>0</td>\n",
       "      <td>0</td>\n",
       "      <td>0</td>\n",
       "      <td>0</td>\n",
       "      <td>0</td>\n",
       "      <td>1</td>\n",
       "      <td>0</td>\n",
       "    </tr>\n",
       "    <tr>\n",
       "      <th>wima</th>\n",
       "      <td>0</td>\n",
       "      <td>0</td>\n",
       "      <td>0</td>\n",
       "      <td>0</td>\n",
       "      <td>0</td>\n",
       "      <td>0</td>\n",
       "      <td>0</td>\n",
       "      <td>0</td>\n",
       "      <td>0</td>\n",
       "      <td>0</td>\n",
       "      <td>2</td>\n",
       "      <td>0</td>\n",
       "      <td>0</td>\n",
       "      <td>0</td>\n",
       "      <td>19</td>\n",
       "      <td>0</td>\n",
       "    </tr>\n",
       "    <tr>\n",
       "      <th>z</th>\n",
       "      <td>0</td>\n",
       "      <td>0</td>\n",
       "      <td>0</td>\n",
       "      <td>0</td>\n",
       "      <td>0</td>\n",
       "      <td>0</td>\n",
       "      <td>0</td>\n",
       "      <td>0</td>\n",
       "      <td>0</td>\n",
       "      <td>0</td>\n",
       "      <td>1</td>\n",
       "      <td>0</td>\n",
       "      <td>0</td>\n",
       "      <td>0</td>\n",
       "      <td>0</td>\n",
       "      <td>0</td>\n",
       "    </tr>\n",
       "    <tr>\n",
       "      <th>zako</th>\n",
       "      <td>0</td>\n",
       "      <td>0</td>\n",
       "      <td>0</td>\n",
       "      <td>0</td>\n",
       "      <td>0</td>\n",
       "      <td>0</td>\n",
       "      <td>0</td>\n",
       "      <td>0</td>\n",
       "      <td>0</td>\n",
       "      <td>0</td>\n",
       "      <td>1</td>\n",
       "      <td>0</td>\n",
       "      <td>0</td>\n",
       "      <td>0</td>\n",
       "      <td>0</td>\n",
       "      <td>0</td>\n",
       "    </tr>\n",
       "    <tr>\n",
       "      <th>zanner</th>\n",
       "      <td>0</td>\n",
       "      <td>0</td>\n",
       "      <td>0</td>\n",
       "      <td>0</td>\n",
       "      <td>0</td>\n",
       "      <td>0</td>\n",
       "      <td>0</td>\n",
       "      <td>0</td>\n",
       "      <td>0</td>\n",
       "      <td>0</td>\n",
       "      <td>78</td>\n",
       "      <td>0</td>\n",
       "      <td>0</td>\n",
       "      <td>0</td>\n",
       "      <td>0</td>\n",
       "      <td>0</td>\n",
       "    </tr>\n",
       "    <tr>\n",
       "      <th>zawadi ya raisi</th>\n",
       "      <td>0</td>\n",
       "      <td>0</td>\n",
       "      <td>0</td>\n",
       "      <td>0</td>\n",
       "      <td>0</td>\n",
       "      <td>0</td>\n",
       "      <td>0</td>\n",
       "      <td>0</td>\n",
       "      <td>0</td>\n",
       "      <td>0</td>\n",
       "      <td>2</td>\n",
       "      <td>0</td>\n",
       "      <td>1</td>\n",
       "      <td>0</td>\n",
       "      <td>9</td>\n",
       "      <td>0</td>\n",
       "    </tr>\n",
       "    <tr>\n",
       "      <th>ziwa kivu</th>\n",
       "      <td>0</td>\n",
       "      <td>0</td>\n",
       "      <td>0</td>\n",
       "      <td>0</td>\n",
       "      <td>0</td>\n",
       "      <td>0</td>\n",
       "      <td>0</td>\n",
       "      <td>0</td>\n",
       "      <td>0</td>\n",
       "      <td>0</td>\n",
       "      <td>2</td>\n",
       "      <td>0</td>\n",
       "      <td>2</td>\n",
       "      <td>0</td>\n",
       "      <td>2</td>\n",
       "      <td>0</td>\n",
       "    </tr>\n",
       "    <tr>\n",
       "      <th>zuza</th>\n",
       "      <td>0</td>\n",
       "      <td>0</td>\n",
       "      <td>0</td>\n",
       "      <td>0</td>\n",
       "      <td>0</td>\n",
       "      <td>0</td>\n",
       "      <td>0</td>\n",
       "      <td>0</td>\n",
       "      <td>1</td>\n",
       "      <td>0</td>\n",
       "      <td>0</td>\n",
       "      <td>0</td>\n",
       "      <td>0</td>\n",
       "      <td>0</td>\n",
       "      <td>0</td>\n",
       "      <td>0</td>\n",
       "    </tr>\n",
       "  </tbody>\n",
       "</table>\n",
       "<p>591 rows × 16 columns</p>\n",
       "</div>"
      ],
      "text/plain": [
       "SCHOOLPROVINCE                     BANDUNDU  BAS CONGO  EQUATEUR  K OR  \\\n",
       "SCHOOL_RIGHT                                                             \n",
       "1uto                                      0          0         0     0   \n",
       "53                                        0          0         0     0   \n",
       "54                                        0          0         0     0   \n",
       "61                                        0          0         0     0   \n",
       "Alleluya                                  0          0         0     0   \n",
       "BWANGA                                    0          0         0     0   \n",
       "Bungulu Beni                              0          0         0     0   \n",
       "GRACIA                                    0          0         0     0   \n",
       "I DE BKV                                  0          0         0     0   \n",
       "I LWANGA                                  0          0         0     0   \n",
       "INST DE KATWA                             0          0         0     0   \n",
       "INST LWANGA                               0          0         0     0   \n",
       "INST. MPINGA                              0          0         0     0   \n",
       "INSTITUT BWINZI                           0          0         0     0   \n",
       "INSTITUT LWANGA                           0          0         0     0   \n",
       "ITM DE BOGA                               0          0         0     0   \n",
       "Institut BWANGA                           0          0         0     0   \n",
       "Institut MWANDA                           0          0         0     0   \n",
       "Institut MWANZO                           0          0         0     0   \n",
       "Institut NJANJA                           0          0         0     0   \n",
       "Institut de KATWA                         0          0         0     0   \n",
       "Intitut ALLELUYA                          0          0         0     0   \n",
       "L MWANDU                                  0          0         0     0   \n",
       "LWANGA                                    0          0         0     0   \n",
       "LYCEE MWANDU                              0          0         0     0   \n",
       "LYCEE MWINDA                              0          0         1     0   \n",
       "Lwanga                                    0          0         0     0   \n",
       "Lycée Mwandu                              0          0         0     0   \n",
       "MUGUNGA                                   0          0         0     0   \n",
       "MWANA                                     0          0         0     0   \n",
       "...                                     ...        ...       ...   ...   \n",
       "ujumbe                                    0          0         0     0   \n",
       "umoja fs                                  0          0         0     0   \n",
       "umuja international french school         0          0         0     0   \n",
       "utamaduni                                 0          0         0     0   \n",
       "utaniadun                                 0          0         0     0   \n",
       "uvira                                     0          0         0     0   \n",
       "uzima                                     0          0         0     0   \n",
       "veronique                                 0          0         0     0   \n",
       "vihya                                     0          0         0     0   \n",
       "vikanzu                                   0          0         0     0   \n",
       "virunga                                   0          0         0     0   \n",
       "virunga/quartier                          0          0         0     0   \n",
       "visogho                                   0          0         0     0   \n",
       "visoke                                    0          0         0     0   \n",
       "visolo                                    0          0         0     0   \n",
       "vuhika                                    0          0         0     0   \n",
       "vungi                                     0          0         0     0   \n",
       "wai wai                                   0          0         0     0   \n",
       "wamaza                                    0          0         0     0   \n",
       "wapole                                    0          0         0     0   \n",
       "wema                                      0          0         0     0   \n",
       "weza                                      0          0         0     0   \n",
       "weza2                                     0          0         0     0   \n",
       "wima                                      0          0         0     0   \n",
       "z                                         0          0         0     0   \n",
       "zako                                      0          0         0     0   \n",
       "zanner                                    0          0         0     0   \n",
       "zawadi ya raisi                           0          0         0     0   \n",
       "ziwa kivu                                 0          0         0     0   \n",
       "zuza                                      0          0         0     0   \n",
       "\n",
       "SCHOOLPROVINCE                     KASAI OCCIDENTAL  KASAI ORIENTAL  KATANGA  \\\n",
       "SCHOOL_RIGHT                                                                   \n",
       "1uto                                              0               0        0   \n",
       "53                                                0               0        0   \n",
       "54                                                0               0        0   \n",
       "61                                                0               0        0   \n",
       "Alleluya                                          0               0        0   \n",
       "BWANGA                                            0               0        0   \n",
       "Bungulu Beni                                      0               0        0   \n",
       "GRACIA                                            0               0        0   \n",
       "I DE BKV                                          0               0        0   \n",
       "I LWANGA                                          0               0        0   \n",
       "INST DE KATWA                                     0               0        0   \n",
       "INST LWANGA                                       0               0        0   \n",
       "INST. MPINGA                                      0               0        0   \n",
       "INSTITUT BWINZI                                   0               0        0   \n",
       "INSTITUT LWANGA                                   0               0        0   \n",
       "ITM DE BOGA                                       0               0        0   \n",
       "Institut BWANGA                                   0               0        0   \n",
       "Institut MWANDA                                   0               0        0   \n",
       "Institut MWANZO                                   0               0        0   \n",
       "Institut NJANJA                                   0               0        1   \n",
       "Institut de KATWA                                 0               0        0   \n",
       "Intitut ALLELUYA                                  0               0        0   \n",
       "L MWANDU                                          0               0        0   \n",
       "LWANGA                                            0               0        0   \n",
       "LYCEE MWANDU                                      0               0        0   \n",
       "LYCEE MWINDA                                      0               0        0   \n",
       "Lwanga                                            0               0        0   \n",
       "Lycée Mwandu                                      0               0        0   \n",
       "MUGUNGA                                           0               0        0   \n",
       "MWANA                                             0               0        0   \n",
       "...                                             ...             ...      ...   \n",
       "ujumbe                                            0               0        0   \n",
       "umoja fs                                          0               0        0   \n",
       "umuja international french school                 0               0        0   \n",
       "utamaduni                                         0               0        0   \n",
       "utaniadun                                         0               0        0   \n",
       "uvira                                             0               0        0   \n",
       "uzima                                             0               0        0   \n",
       "veronique                                         0               0        0   \n",
       "vihya                                             0               0        0   \n",
       "vikanzu                                           0               0        0   \n",
       "virunga                                           0               0        0   \n",
       "virunga/quartier                                  0               0        0   \n",
       "visogho                                           0               0        0   \n",
       "visoke                                            0               0        0   \n",
       "visolo                                            0               0        0   \n",
       "vuhika                                            0               0        0   \n",
       "vungi                                             0               0        0   \n",
       "wai wai                                           0               0        0   \n",
       "wamaza                                            0               0        0   \n",
       "wapole                                            0               0        0   \n",
       "wema                                              0               0        0   \n",
       "weza                                              0               0        0   \n",
       "weza2                                             0               0        0   \n",
       "wima                                              0               0        0   \n",
       "z                                                 0               0        0   \n",
       "zako                                              0               0        0   \n",
       "zanner                                            0               0        0   \n",
       "zawadi ya raisi                                   0               0        0   \n",
       "ziwa kivu                                         0               0        0   \n",
       "zuza                                              0               0        0   \n",
       "\n",
       "SCHOOLPROVINCE                     KIGALI  KINSHASA  MANIEMA  NORD-KIVU  \\\n",
       "SCHOOL_RIGHT                                                              \n",
       "1uto                                    0         0        0          1   \n",
       "53                                      0         0        0          1   \n",
       "54                                      0         0        0          0   \n",
       "61                                      0         0        0          2   \n",
       "Alleluya                                0         0        0          2   \n",
       "BWANGA                                  0         0        0          2   \n",
       "Bungulu Beni                            0         0        0          1   \n",
       "GRACIA                                  0         0        0          0   \n",
       "I DE BKV                                0         0        0          0   \n",
       "I LWANGA                                0         0        0          0   \n",
       "INST DE KATWA                           0         0        0          1   \n",
       "INST LWANGA                             0         0        0          0   \n",
       "INST. MPINGA                            0         0        0          0   \n",
       "INSTITUT BWINZI                         0         0        0          0   \n",
       "INSTITUT LWANGA                         0         0        0          1   \n",
       "ITM DE BOGA                             0         0        0          0   \n",
       "Institut BWANGA                         0         0        0          4   \n",
       "Institut MWANDA                         0         0        0          1   \n",
       "Institut MWANZO                         0         0        0          0   \n",
       "Institut NJANJA                         0         0        0          0   \n",
       "Institut de KATWA                       0         0        0          1   \n",
       "Intitut ALLELUYA                        0         0        0          1   \n",
       "L MWANDU                                0         0        0          2   \n",
       "LWANGA                                  0         0        0          0   \n",
       "LYCEE MWANDU                            0         0        0          2   \n",
       "LYCEE MWINDA                            0         0        0          0   \n",
       "Lwanga                                  0         0        0          4   \n",
       "Lycée Mwandu                            0         0        0          6   \n",
       "MUGUNGA                                 0         0        0          4   \n",
       "MWANA                                   0         0        0          1   \n",
       "...                                   ...       ...      ...        ...   \n",
       "ujumbe                                  0         0        0          1   \n",
       "umoja fs                                0         0        0          0   \n",
       "umuja international french school       0         0        0          0   \n",
       "utamaduni                               0         0        0          3   \n",
       "utaniadun                               0         0        0          1   \n",
       "uvira                                   0         0        0          0   \n",
       "uzima                                   0         0        0         39   \n",
       "veronique                               0         0        0          2   \n",
       "vihya                                   0         0        0          1   \n",
       "vikanzu                                 0         0        0          1   \n",
       "virunga                                 0         0        0          3   \n",
       "virunga/quartier                        0         0        0          3   \n",
       "visogho                                 0         0        0          3   \n",
       "visoke                                  0         0        0         32   \n",
       "visolo                                  0         0        0          1   \n",
       "vuhika                                  0         0        0          2   \n",
       "vungi                                   0         0        0          8   \n",
       "wai wai                                 0         0        0          1   \n",
       "wamaza                                  0         0        0          1   \n",
       "wapole                                  0         0        0          3   \n",
       "wema                                    0         0        0          2   \n",
       "weza                                    0         0        0          1   \n",
       "weza2                                   0         0        0          0   \n",
       "wima                                    0         0        0          2   \n",
       "z                                       0         0        0          1   \n",
       "zako                                    0         0        0          1   \n",
       "zanner                                  0         0        0         78   \n",
       "zawadi ya raisi                         0         0        0          2   \n",
       "ziwa kivu                               0         0        0          2   \n",
       "zuza                                    0         1        0          0   \n",
       "\n",
       "SCHOOLPROVINCE                     NYARUKENGE  ORIENTALE  OUEST  SUD-KIVU  \\\n",
       "SCHOOL_RIGHT                                                                \n",
       "1uto                                        0          0      0         0   \n",
       "53                                          0          0      0         0   \n",
       "54                                          0          0      0         1   \n",
       "61                                          0          0      0         0   \n",
       "Alleluya                                    0          0      0         0   \n",
       "BWANGA                                      0          0      0         0   \n",
       "Bungulu Beni                                0          0      0         0   \n",
       "GRACIA                                      0          0      0         1   \n",
       "I DE BKV                                    0          0      0         1   \n",
       "I LWANGA                                    0          0      0         1   \n",
       "INST DE KATWA                               0          0      0         0   \n",
       "INST LWANGA                                 0          0      0         1   \n",
       "INST. MPINGA                                0          0      0         1   \n",
       "INSTITUT BWINZI                             0          0      0         1   \n",
       "INSTITUT LWANGA                             0          0      0         0   \n",
       "ITM DE BOGA                                 0          1      0         0   \n",
       "Institut BWANGA                             0          0      0         0   \n",
       "Institut MWANDA                             0          0      0         0   \n",
       "Institut MWANZO                             0          0      0         1   \n",
       "Institut NJANJA                             0          0      0         0   \n",
       "Institut de KATWA                           0          0      0         0   \n",
       "Intitut ALLELUYA                            0          0      0         0   \n",
       "L MWANDU                                    0          0      0         0   \n",
       "LWANGA                                      0          0      0         8   \n",
       "LYCEE MWANDU                                0          0      0         0   \n",
       "LYCEE MWINDA                                0          0      0         0   \n",
       "Lwanga                                      0          0      0         9   \n",
       "Lycée Mwandu                                0          0      0         0   \n",
       "MUGUNGA                                     0          0      0         0   \n",
       "MWANA                                       0          0      0         0   \n",
       "...                                       ...        ...    ...       ...   \n",
       "ujumbe                                      0          0      0         0   \n",
       "umoja fs                                    0          0      0         0   \n",
       "umuja international french school           0          0      0         0   \n",
       "utamaduni                                   0          0      0         0   \n",
       "utaniadun                                   0          0      0         0   \n",
       "uvira                                       0          0      0         1   \n",
       "uzima                                       0          0      0         0   \n",
       "veronique                                   0          0      0         1   \n",
       "vihya                                       0          0      0         0   \n",
       "vikanzu                                     0          0      0         0   \n",
       "virunga                                     0          0      0         0   \n",
       "virunga/quartier                            0          0      0         0   \n",
       "visogho                                     0          0      0         0   \n",
       "visoke                                      0          0      0         1   \n",
       "visolo                                      0          0      0         0   \n",
       "vuhika                                      0          0      0         0   \n",
       "vungi                                       0          0      0         0   \n",
       "wai wai                                     0          0      0         0   \n",
       "wamaza                                      0          0      0         0   \n",
       "wapole                                      0          0      0         0   \n",
       "wema                                        0          0      0         0   \n",
       "weza                                        0          0      0         5   \n",
       "weza2                                       0          0      0         1   \n",
       "wima                                        0          0      0        19   \n",
       "z                                           0          0      0         0   \n",
       "zako                                        0          0      0         0   \n",
       "zanner                                      0          0      0         0   \n",
       "zawadi ya raisi                             0          1      0         9   \n",
       "ziwa kivu                                   0          2      0         2   \n",
       "zuza                                        0          0      0         0   \n",
       "\n",
       "SCHOOLPROVINCE                     inconnu  \n",
       "SCHOOL_RIGHT                                \n",
       "1uto                                     0  \n",
       "53                                       0  \n",
       "54                                       0  \n",
       "61                                       0  \n",
       "Alleluya                                 0  \n",
       "BWANGA                                   0  \n",
       "Bungulu Beni                             0  \n",
       "GRACIA                                   0  \n",
       "I DE BKV                                 0  \n",
       "I LWANGA                                 0  \n",
       "INST DE KATWA                            0  \n",
       "INST LWANGA                              0  \n",
       "INST. MPINGA                             0  \n",
       "INSTITUT BWINZI                          0  \n",
       "INSTITUT LWANGA                          0  \n",
       "ITM DE BOGA                              0  \n",
       "Institut BWANGA                          0  \n",
       "Institut MWANDA                          0  \n",
       "Institut MWANZO                          0  \n",
       "Institut NJANJA                          0  \n",
       "Institut de KATWA                        0  \n",
       "Intitut ALLELUYA                         0  \n",
       "L MWANDU                                 0  \n",
       "LWANGA                                   0  \n",
       "LYCEE MWANDU                             0  \n",
       "LYCEE MWINDA                             0  \n",
       "Lwanga                                   0  \n",
       "Lycée Mwandu                             0  \n",
       "MUGUNGA                                  0  \n",
       "MWANA                                    0  \n",
       "...                                    ...  \n",
       "ujumbe                                   0  \n",
       "umoja fs                                 1  \n",
       "umuja international french school        1  \n",
       "utamaduni                                0  \n",
       "utaniadun                                0  \n",
       "uvira                                    0  \n",
       "uzima                                    0  \n",
       "veronique                                0  \n",
       "vihya                                    0  \n",
       "vikanzu                                  0  \n",
       "virunga                                  0  \n",
       "virunga/quartier                         0  \n",
       "visogho                                  0  \n",
       "visoke                                   0  \n",
       "visolo                                   0  \n",
       "vuhika                                   0  \n",
       "vungi                                    0  \n",
       "wai wai                                  0  \n",
       "wamaza                                   0  \n",
       "wapole                                   0  \n",
       "wema                                     0  \n",
       "weza                                     0  \n",
       "weza2                                    0  \n",
       "wima                                     0  \n",
       "z                                        0  \n",
       "zako                                     0  \n",
       "zanner                                   0  \n",
       "zawadi ya raisi                          0  \n",
       "ziwa kivu                                0  \n",
       "zuza                                     0  \n",
       "\n",
       "[591 rows x 16 columns]"
      ]
     },
     "execution_count": 23,
     "metadata": {},
     "output_type": "execute_result"
    }
   ],
   "source": [
    "SchoolStat2.contengencyTable()"
   ]
  },
  {
   "cell_type": "code",
   "execution_count": 26,
   "metadata": {
    "scrolled": true
   },
   "outputs": [
    {
     "data": {
      "text/html": [
       "<div>\n",
       "<table border=\"1\" class=\"dataframe\">\n",
       "  <thead>\n",
       "    <tr style=\"text-align: right;\">\n",
       "      <th>SCHOOLPROVINCE</th>\n",
       "      <th>BANDUNDU</th>\n",
       "      <th>BAS CONGO</th>\n",
       "      <th>EQUATEUR</th>\n",
       "      <th>K OR</th>\n",
       "      <th>KASAI OCCIDENTAL</th>\n",
       "      <th>KASAI ORIENTAL</th>\n",
       "      <th>KATANGA</th>\n",
       "      <th>KIGALI</th>\n",
       "      <th>KINSHASA</th>\n",
       "      <th>MANIEMA</th>\n",
       "      <th>NORD-KIVU</th>\n",
       "      <th>NYARUKENGE</th>\n",
       "      <th>ORIENTALE</th>\n",
       "      <th>OUEST</th>\n",
       "      <th>SUD-KIVU</th>\n",
       "      <th>inconnu</th>\n",
       "    </tr>\n",
       "    <tr>\n",
       "      <th>SCHOOL_RIGHT</th>\n",
       "      <th></th>\n",
       "      <th></th>\n",
       "      <th></th>\n",
       "      <th></th>\n",
       "      <th></th>\n",
       "      <th></th>\n",
       "      <th></th>\n",
       "      <th></th>\n",
       "      <th></th>\n",
       "      <th></th>\n",
       "      <th></th>\n",
       "      <th></th>\n",
       "      <th></th>\n",
       "      <th></th>\n",
       "      <th></th>\n",
       "      <th></th>\n",
       "    </tr>\n",
       "  </thead>\n",
       "  <tbody>\n",
       "    <tr>\n",
       "      <th>1uto</th>\n",
       "      <td>0.002545</td>\n",
       "      <td>0.000424</td>\n",
       "      <td>0.000848</td>\n",
       "      <td>0.000212</td>\n",
       "      <td>0.000636</td>\n",
       "      <td>0.002121</td>\n",
       "      <td>0.005090</td>\n",
       "      <td>0.000424</td>\n",
       "      <td>0.014846</td>\n",
       "      <td>0.008696</td>\n",
       "      <td>0.784730</td>\n",
       "      <td>0.000212</td>\n",
       "      <td>0.017603</td>\n",
       "      <td>0.000424</td>\n",
       "      <td>0.156098</td>\n",
       "      <td>0.005090</td>\n",
       "    </tr>\n",
       "    <tr>\n",
       "      <th>53</th>\n",
       "      <td>0.002545</td>\n",
       "      <td>0.000424</td>\n",
       "      <td>0.000848</td>\n",
       "      <td>0.000212</td>\n",
       "      <td>0.000636</td>\n",
       "      <td>0.002121</td>\n",
       "      <td>0.005090</td>\n",
       "      <td>0.000424</td>\n",
       "      <td>0.014846</td>\n",
       "      <td>0.008696</td>\n",
       "      <td>0.784730</td>\n",
       "      <td>0.000212</td>\n",
       "      <td>0.017603</td>\n",
       "      <td>0.000424</td>\n",
       "      <td>0.156098</td>\n",
       "      <td>0.005090</td>\n",
       "    </tr>\n",
       "    <tr>\n",
       "      <th>54</th>\n",
       "      <td>0.002545</td>\n",
       "      <td>0.000424</td>\n",
       "      <td>0.000848</td>\n",
       "      <td>0.000212</td>\n",
       "      <td>0.000636</td>\n",
       "      <td>0.002121</td>\n",
       "      <td>0.005090</td>\n",
       "      <td>0.000424</td>\n",
       "      <td>0.014846</td>\n",
       "      <td>0.008696</td>\n",
       "      <td>0.784730</td>\n",
       "      <td>0.000212</td>\n",
       "      <td>0.017603</td>\n",
       "      <td>0.000424</td>\n",
       "      <td>0.156098</td>\n",
       "      <td>0.005090</td>\n",
       "    </tr>\n",
       "    <tr>\n",
       "      <th>61</th>\n",
       "      <td>0.005090</td>\n",
       "      <td>0.000848</td>\n",
       "      <td>0.001697</td>\n",
       "      <td>0.000424</td>\n",
       "      <td>0.001273</td>\n",
       "      <td>0.004242</td>\n",
       "      <td>0.010180</td>\n",
       "      <td>0.000848</td>\n",
       "      <td>0.029692</td>\n",
       "      <td>0.017391</td>\n",
       "      <td>1.569459</td>\n",
       "      <td>0.000424</td>\n",
       "      <td>0.035207</td>\n",
       "      <td>0.000848</td>\n",
       "      <td>0.312195</td>\n",
       "      <td>0.010180</td>\n",
       "    </tr>\n",
       "    <tr>\n",
       "      <th>Alleluya</th>\n",
       "      <td>0.005090</td>\n",
       "      <td>0.000848</td>\n",
       "      <td>0.001697</td>\n",
       "      <td>0.000424</td>\n",
       "      <td>0.001273</td>\n",
       "      <td>0.004242</td>\n",
       "      <td>0.010180</td>\n",
       "      <td>0.000848</td>\n",
       "      <td>0.029692</td>\n",
       "      <td>0.017391</td>\n",
       "      <td>1.569459</td>\n",
       "      <td>0.000424</td>\n",
       "      <td>0.035207</td>\n",
       "      <td>0.000848</td>\n",
       "      <td>0.312195</td>\n",
       "      <td>0.010180</td>\n",
       "    </tr>\n",
       "    <tr>\n",
       "      <th>BWANGA</th>\n",
       "      <td>0.005090</td>\n",
       "      <td>0.000848</td>\n",
       "      <td>0.001697</td>\n",
       "      <td>0.000424</td>\n",
       "      <td>0.001273</td>\n",
       "      <td>0.004242</td>\n",
       "      <td>0.010180</td>\n",
       "      <td>0.000848</td>\n",
       "      <td>0.029692</td>\n",
       "      <td>0.017391</td>\n",
       "      <td>1.569459</td>\n",
       "      <td>0.000424</td>\n",
       "      <td>0.035207</td>\n",
       "      <td>0.000848</td>\n",
       "      <td>0.312195</td>\n",
       "      <td>0.010180</td>\n",
       "    </tr>\n",
       "    <tr>\n",
       "      <th>Bungulu Beni</th>\n",
       "      <td>0.002545</td>\n",
       "      <td>0.000424</td>\n",
       "      <td>0.000848</td>\n",
       "      <td>0.000212</td>\n",
       "      <td>0.000636</td>\n",
       "      <td>0.002121</td>\n",
       "      <td>0.005090</td>\n",
       "      <td>0.000424</td>\n",
       "      <td>0.014846</td>\n",
       "      <td>0.008696</td>\n",
       "      <td>0.784730</td>\n",
       "      <td>0.000212</td>\n",
       "      <td>0.017603</td>\n",
       "      <td>0.000424</td>\n",
       "      <td>0.156098</td>\n",
       "      <td>0.005090</td>\n",
       "    </tr>\n",
       "    <tr>\n",
       "      <th>GRACIA</th>\n",
       "      <td>0.002545</td>\n",
       "      <td>0.000424</td>\n",
       "      <td>0.000848</td>\n",
       "      <td>0.000212</td>\n",
       "      <td>0.000636</td>\n",
       "      <td>0.002121</td>\n",
       "      <td>0.005090</td>\n",
       "      <td>0.000424</td>\n",
       "      <td>0.014846</td>\n",
       "      <td>0.008696</td>\n",
       "      <td>0.784730</td>\n",
       "      <td>0.000212</td>\n",
       "      <td>0.017603</td>\n",
       "      <td>0.000424</td>\n",
       "      <td>0.156098</td>\n",
       "      <td>0.005090</td>\n",
       "    </tr>\n",
       "    <tr>\n",
       "      <th>I DE BKV</th>\n",
       "      <td>0.002545</td>\n",
       "      <td>0.000424</td>\n",
       "      <td>0.000848</td>\n",
       "      <td>0.000212</td>\n",
       "      <td>0.000636</td>\n",
       "      <td>0.002121</td>\n",
       "      <td>0.005090</td>\n",
       "      <td>0.000424</td>\n",
       "      <td>0.014846</td>\n",
       "      <td>0.008696</td>\n",
       "      <td>0.784730</td>\n",
       "      <td>0.000212</td>\n",
       "      <td>0.017603</td>\n",
       "      <td>0.000424</td>\n",
       "      <td>0.156098</td>\n",
       "      <td>0.005090</td>\n",
       "    </tr>\n",
       "    <tr>\n",
       "      <th>I LWANGA</th>\n",
       "      <td>0.002545</td>\n",
       "      <td>0.000424</td>\n",
       "      <td>0.000848</td>\n",
       "      <td>0.000212</td>\n",
       "      <td>0.000636</td>\n",
       "      <td>0.002121</td>\n",
       "      <td>0.005090</td>\n",
       "      <td>0.000424</td>\n",
       "      <td>0.014846</td>\n",
       "      <td>0.008696</td>\n",
       "      <td>0.784730</td>\n",
       "      <td>0.000212</td>\n",
       "      <td>0.017603</td>\n",
       "      <td>0.000424</td>\n",
       "      <td>0.156098</td>\n",
       "      <td>0.005090</td>\n",
       "    </tr>\n",
       "    <tr>\n",
       "      <th>INST DE KATWA</th>\n",
       "      <td>0.002545</td>\n",
       "      <td>0.000424</td>\n",
       "      <td>0.000848</td>\n",
       "      <td>0.000212</td>\n",
       "      <td>0.000636</td>\n",
       "      <td>0.002121</td>\n",
       "      <td>0.005090</td>\n",
       "      <td>0.000424</td>\n",
       "      <td>0.014846</td>\n",
       "      <td>0.008696</td>\n",
       "      <td>0.784730</td>\n",
       "      <td>0.000212</td>\n",
       "      <td>0.017603</td>\n",
       "      <td>0.000424</td>\n",
       "      <td>0.156098</td>\n",
       "      <td>0.005090</td>\n",
       "    </tr>\n",
       "    <tr>\n",
       "      <th>INST LWANGA</th>\n",
       "      <td>0.002545</td>\n",
       "      <td>0.000424</td>\n",
       "      <td>0.000848</td>\n",
       "      <td>0.000212</td>\n",
       "      <td>0.000636</td>\n",
       "      <td>0.002121</td>\n",
       "      <td>0.005090</td>\n",
       "      <td>0.000424</td>\n",
       "      <td>0.014846</td>\n",
       "      <td>0.008696</td>\n",
       "      <td>0.784730</td>\n",
       "      <td>0.000212</td>\n",
       "      <td>0.017603</td>\n",
       "      <td>0.000424</td>\n",
       "      <td>0.156098</td>\n",
       "      <td>0.005090</td>\n",
       "    </tr>\n",
       "    <tr>\n",
       "      <th>INST. MPINGA</th>\n",
       "      <td>0.002545</td>\n",
       "      <td>0.000424</td>\n",
       "      <td>0.000848</td>\n",
       "      <td>0.000212</td>\n",
       "      <td>0.000636</td>\n",
       "      <td>0.002121</td>\n",
       "      <td>0.005090</td>\n",
       "      <td>0.000424</td>\n",
       "      <td>0.014846</td>\n",
       "      <td>0.008696</td>\n",
       "      <td>0.784730</td>\n",
       "      <td>0.000212</td>\n",
       "      <td>0.017603</td>\n",
       "      <td>0.000424</td>\n",
       "      <td>0.156098</td>\n",
       "      <td>0.005090</td>\n",
       "    </tr>\n",
       "    <tr>\n",
       "      <th>INSTITUT BWINZI</th>\n",
       "      <td>0.002545</td>\n",
       "      <td>0.000424</td>\n",
       "      <td>0.000848</td>\n",
       "      <td>0.000212</td>\n",
       "      <td>0.000636</td>\n",
       "      <td>0.002121</td>\n",
       "      <td>0.005090</td>\n",
       "      <td>0.000424</td>\n",
       "      <td>0.014846</td>\n",
       "      <td>0.008696</td>\n",
       "      <td>0.784730</td>\n",
       "      <td>0.000212</td>\n",
       "      <td>0.017603</td>\n",
       "      <td>0.000424</td>\n",
       "      <td>0.156098</td>\n",
       "      <td>0.005090</td>\n",
       "    </tr>\n",
       "    <tr>\n",
       "      <th>INSTITUT LWANGA</th>\n",
       "      <td>0.002545</td>\n",
       "      <td>0.000424</td>\n",
       "      <td>0.000848</td>\n",
       "      <td>0.000212</td>\n",
       "      <td>0.000636</td>\n",
       "      <td>0.002121</td>\n",
       "      <td>0.005090</td>\n",
       "      <td>0.000424</td>\n",
       "      <td>0.014846</td>\n",
       "      <td>0.008696</td>\n",
       "      <td>0.784730</td>\n",
       "      <td>0.000212</td>\n",
       "      <td>0.017603</td>\n",
       "      <td>0.000424</td>\n",
       "      <td>0.156098</td>\n",
       "      <td>0.005090</td>\n",
       "    </tr>\n",
       "    <tr>\n",
       "      <th>ITM DE BOGA</th>\n",
       "      <td>0.002545</td>\n",
       "      <td>0.000424</td>\n",
       "      <td>0.000848</td>\n",
       "      <td>0.000212</td>\n",
       "      <td>0.000636</td>\n",
       "      <td>0.002121</td>\n",
       "      <td>0.005090</td>\n",
       "      <td>0.000424</td>\n",
       "      <td>0.014846</td>\n",
       "      <td>0.008696</td>\n",
       "      <td>0.784730</td>\n",
       "      <td>0.000212</td>\n",
       "      <td>0.017603</td>\n",
       "      <td>0.000424</td>\n",
       "      <td>0.156098</td>\n",
       "      <td>0.005090</td>\n",
       "    </tr>\n",
       "    <tr>\n",
       "      <th>Institut BWANGA</th>\n",
       "      <td>0.010180</td>\n",
       "      <td>0.001697</td>\n",
       "      <td>0.003393</td>\n",
       "      <td>0.000848</td>\n",
       "      <td>0.002545</td>\n",
       "      <td>0.008484</td>\n",
       "      <td>0.020361</td>\n",
       "      <td>0.001697</td>\n",
       "      <td>0.059385</td>\n",
       "      <td>0.034783</td>\n",
       "      <td>3.138918</td>\n",
       "      <td>0.000848</td>\n",
       "      <td>0.070414</td>\n",
       "      <td>0.001697</td>\n",
       "      <td>0.624390</td>\n",
       "      <td>0.020361</td>\n",
       "    </tr>\n",
       "    <tr>\n",
       "      <th>Institut MWANDA</th>\n",
       "      <td>0.002545</td>\n",
       "      <td>0.000424</td>\n",
       "      <td>0.000848</td>\n",
       "      <td>0.000212</td>\n",
       "      <td>0.000636</td>\n",
       "      <td>0.002121</td>\n",
       "      <td>0.005090</td>\n",
       "      <td>0.000424</td>\n",
       "      <td>0.014846</td>\n",
       "      <td>0.008696</td>\n",
       "      <td>0.784730</td>\n",
       "      <td>0.000212</td>\n",
       "      <td>0.017603</td>\n",
       "      <td>0.000424</td>\n",
       "      <td>0.156098</td>\n",
       "      <td>0.005090</td>\n",
       "    </tr>\n",
       "    <tr>\n",
       "      <th>Institut MWANZO</th>\n",
       "      <td>0.002545</td>\n",
       "      <td>0.000424</td>\n",
       "      <td>0.000848</td>\n",
       "      <td>0.000212</td>\n",
       "      <td>0.000636</td>\n",
       "      <td>0.002121</td>\n",
       "      <td>0.005090</td>\n",
       "      <td>0.000424</td>\n",
       "      <td>0.014846</td>\n",
       "      <td>0.008696</td>\n",
       "      <td>0.784730</td>\n",
       "      <td>0.000212</td>\n",
       "      <td>0.017603</td>\n",
       "      <td>0.000424</td>\n",
       "      <td>0.156098</td>\n",
       "      <td>0.005090</td>\n",
       "    </tr>\n",
       "    <tr>\n",
       "      <th>Institut NJANJA</th>\n",
       "      <td>0.002545</td>\n",
       "      <td>0.000424</td>\n",
       "      <td>0.000848</td>\n",
       "      <td>0.000212</td>\n",
       "      <td>0.000636</td>\n",
       "      <td>0.002121</td>\n",
       "      <td>0.005090</td>\n",
       "      <td>0.000424</td>\n",
       "      <td>0.014846</td>\n",
       "      <td>0.008696</td>\n",
       "      <td>0.784730</td>\n",
       "      <td>0.000212</td>\n",
       "      <td>0.017603</td>\n",
       "      <td>0.000424</td>\n",
       "      <td>0.156098</td>\n",
       "      <td>0.005090</td>\n",
       "    </tr>\n",
       "    <tr>\n",
       "      <th>Institut de KATWA</th>\n",
       "      <td>0.002545</td>\n",
       "      <td>0.000424</td>\n",
       "      <td>0.000848</td>\n",
       "      <td>0.000212</td>\n",
       "      <td>0.000636</td>\n",
       "      <td>0.002121</td>\n",
       "      <td>0.005090</td>\n",
       "      <td>0.000424</td>\n",
       "      <td>0.014846</td>\n",
       "      <td>0.008696</td>\n",
       "      <td>0.784730</td>\n",
       "      <td>0.000212</td>\n",
       "      <td>0.017603</td>\n",
       "      <td>0.000424</td>\n",
       "      <td>0.156098</td>\n",
       "      <td>0.005090</td>\n",
       "    </tr>\n",
       "    <tr>\n",
       "      <th>Intitut ALLELUYA</th>\n",
       "      <td>0.002545</td>\n",
       "      <td>0.000424</td>\n",
       "      <td>0.000848</td>\n",
       "      <td>0.000212</td>\n",
       "      <td>0.000636</td>\n",
       "      <td>0.002121</td>\n",
       "      <td>0.005090</td>\n",
       "      <td>0.000424</td>\n",
       "      <td>0.014846</td>\n",
       "      <td>0.008696</td>\n",
       "      <td>0.784730</td>\n",
       "      <td>0.000212</td>\n",
       "      <td>0.017603</td>\n",
       "      <td>0.000424</td>\n",
       "      <td>0.156098</td>\n",
       "      <td>0.005090</td>\n",
       "    </tr>\n",
       "    <tr>\n",
       "      <th>L MWANDU</th>\n",
       "      <td>0.005090</td>\n",
       "      <td>0.000848</td>\n",
       "      <td>0.001697</td>\n",
       "      <td>0.000424</td>\n",
       "      <td>0.001273</td>\n",
       "      <td>0.004242</td>\n",
       "      <td>0.010180</td>\n",
       "      <td>0.000848</td>\n",
       "      <td>0.029692</td>\n",
       "      <td>0.017391</td>\n",
       "      <td>1.569459</td>\n",
       "      <td>0.000424</td>\n",
       "      <td>0.035207</td>\n",
       "      <td>0.000848</td>\n",
       "      <td>0.312195</td>\n",
       "      <td>0.010180</td>\n",
       "    </tr>\n",
       "    <tr>\n",
       "      <th>LWANGA</th>\n",
       "      <td>0.020361</td>\n",
       "      <td>0.003393</td>\n",
       "      <td>0.006787</td>\n",
       "      <td>0.001697</td>\n",
       "      <td>0.005090</td>\n",
       "      <td>0.016967</td>\n",
       "      <td>0.040721</td>\n",
       "      <td>0.003393</td>\n",
       "      <td>0.118770</td>\n",
       "      <td>0.069565</td>\n",
       "      <td>6.277837</td>\n",
       "      <td>0.001697</td>\n",
       "      <td>0.140827</td>\n",
       "      <td>0.003393</td>\n",
       "      <td>1.248780</td>\n",
       "      <td>0.040721</td>\n",
       "    </tr>\n",
       "    <tr>\n",
       "      <th>LYCEE MWANDU</th>\n",
       "      <td>0.005090</td>\n",
       "      <td>0.000848</td>\n",
       "      <td>0.001697</td>\n",
       "      <td>0.000424</td>\n",
       "      <td>0.001273</td>\n",
       "      <td>0.004242</td>\n",
       "      <td>0.010180</td>\n",
       "      <td>0.000848</td>\n",
       "      <td>0.029692</td>\n",
       "      <td>0.017391</td>\n",
       "      <td>1.569459</td>\n",
       "      <td>0.000424</td>\n",
       "      <td>0.035207</td>\n",
       "      <td>0.000848</td>\n",
       "      <td>0.312195</td>\n",
       "      <td>0.010180</td>\n",
       "    </tr>\n",
       "    <tr>\n",
       "      <th>LYCEE MWINDA</th>\n",
       "      <td>0.002545</td>\n",
       "      <td>0.000424</td>\n",
       "      <td>0.000848</td>\n",
       "      <td>0.000212</td>\n",
       "      <td>0.000636</td>\n",
       "      <td>0.002121</td>\n",
       "      <td>0.005090</td>\n",
       "      <td>0.000424</td>\n",
       "      <td>0.014846</td>\n",
       "      <td>0.008696</td>\n",
       "      <td>0.784730</td>\n",
       "      <td>0.000212</td>\n",
       "      <td>0.017603</td>\n",
       "      <td>0.000424</td>\n",
       "      <td>0.156098</td>\n",
       "      <td>0.005090</td>\n",
       "    </tr>\n",
       "    <tr>\n",
       "      <th>Lwanga</th>\n",
       "      <td>0.033086</td>\n",
       "      <td>0.005514</td>\n",
       "      <td>0.011029</td>\n",
       "      <td>0.002757</td>\n",
       "      <td>0.008271</td>\n",
       "      <td>0.027572</td>\n",
       "      <td>0.066172</td>\n",
       "      <td>0.005514</td>\n",
       "      <td>0.193001</td>\n",
       "      <td>0.113043</td>\n",
       "      <td>10.201485</td>\n",
       "      <td>0.002757</td>\n",
       "      <td>0.228844</td>\n",
       "      <td>0.005514</td>\n",
       "      <td>2.029268</td>\n",
       "      <td>0.066172</td>\n",
       "    </tr>\n",
       "    <tr>\n",
       "      <th>Lycée Mwandu</th>\n",
       "      <td>0.015270</td>\n",
       "      <td>0.002545</td>\n",
       "      <td>0.005090</td>\n",
       "      <td>0.001273</td>\n",
       "      <td>0.003818</td>\n",
       "      <td>0.012725</td>\n",
       "      <td>0.030541</td>\n",
       "      <td>0.002545</td>\n",
       "      <td>0.089077</td>\n",
       "      <td>0.052174</td>\n",
       "      <td>4.708378</td>\n",
       "      <td>0.001273</td>\n",
       "      <td>0.105620</td>\n",
       "      <td>0.002545</td>\n",
       "      <td>0.936585</td>\n",
       "      <td>0.030541</td>\n",
       "    </tr>\n",
       "    <tr>\n",
       "      <th>MUGUNGA</th>\n",
       "      <td>0.010180</td>\n",
       "      <td>0.001697</td>\n",
       "      <td>0.003393</td>\n",
       "      <td>0.000848</td>\n",
       "      <td>0.002545</td>\n",
       "      <td>0.008484</td>\n",
       "      <td>0.020361</td>\n",
       "      <td>0.001697</td>\n",
       "      <td>0.059385</td>\n",
       "      <td>0.034783</td>\n",
       "      <td>3.138918</td>\n",
       "      <td>0.000848</td>\n",
       "      <td>0.070414</td>\n",
       "      <td>0.001697</td>\n",
       "      <td>0.624390</td>\n",
       "      <td>0.020361</td>\n",
       "    </tr>\n",
       "    <tr>\n",
       "      <th>MWANA</th>\n",
       "      <td>0.002545</td>\n",
       "      <td>0.000424</td>\n",
       "      <td>0.000848</td>\n",
       "      <td>0.000212</td>\n",
       "      <td>0.000636</td>\n",
       "      <td>0.002121</td>\n",
       "      <td>0.005090</td>\n",
       "      <td>0.000424</td>\n",
       "      <td>0.014846</td>\n",
       "      <td>0.008696</td>\n",
       "      <td>0.784730</td>\n",
       "      <td>0.000212</td>\n",
       "      <td>0.017603</td>\n",
       "      <td>0.000424</td>\n",
       "      <td>0.156098</td>\n",
       "      <td>0.005090</td>\n",
       "    </tr>\n",
       "    <tr>\n",
       "      <th>...</th>\n",
       "      <td>...</td>\n",
       "      <td>...</td>\n",
       "      <td>...</td>\n",
       "      <td>...</td>\n",
       "      <td>...</td>\n",
       "      <td>...</td>\n",
       "      <td>...</td>\n",
       "      <td>...</td>\n",
       "      <td>...</td>\n",
       "      <td>...</td>\n",
       "      <td>...</td>\n",
       "      <td>...</td>\n",
       "      <td>...</td>\n",
       "      <td>...</td>\n",
       "      <td>...</td>\n",
       "      <td>...</td>\n",
       "    </tr>\n",
       "    <tr>\n",
       "      <th>ujumbe</th>\n",
       "      <td>0.002545</td>\n",
       "      <td>0.000424</td>\n",
       "      <td>0.000848</td>\n",
       "      <td>0.000212</td>\n",
       "      <td>0.000636</td>\n",
       "      <td>0.002121</td>\n",
       "      <td>0.005090</td>\n",
       "      <td>0.000424</td>\n",
       "      <td>0.014846</td>\n",
       "      <td>0.008696</td>\n",
       "      <td>0.784730</td>\n",
       "      <td>0.000212</td>\n",
       "      <td>0.017603</td>\n",
       "      <td>0.000424</td>\n",
       "      <td>0.156098</td>\n",
       "      <td>0.005090</td>\n",
       "    </tr>\n",
       "    <tr>\n",
       "      <th>umoja fs</th>\n",
       "      <td>0.002545</td>\n",
       "      <td>0.000424</td>\n",
       "      <td>0.000848</td>\n",
       "      <td>0.000212</td>\n",
       "      <td>0.000636</td>\n",
       "      <td>0.002121</td>\n",
       "      <td>0.005090</td>\n",
       "      <td>0.000424</td>\n",
       "      <td>0.014846</td>\n",
       "      <td>0.008696</td>\n",
       "      <td>0.784730</td>\n",
       "      <td>0.000212</td>\n",
       "      <td>0.017603</td>\n",
       "      <td>0.000424</td>\n",
       "      <td>0.156098</td>\n",
       "      <td>0.005090</td>\n",
       "    </tr>\n",
       "    <tr>\n",
       "      <th>umuja international french school</th>\n",
       "      <td>0.002545</td>\n",
       "      <td>0.000424</td>\n",
       "      <td>0.000848</td>\n",
       "      <td>0.000212</td>\n",
       "      <td>0.000636</td>\n",
       "      <td>0.002121</td>\n",
       "      <td>0.005090</td>\n",
       "      <td>0.000424</td>\n",
       "      <td>0.014846</td>\n",
       "      <td>0.008696</td>\n",
       "      <td>0.784730</td>\n",
       "      <td>0.000212</td>\n",
       "      <td>0.017603</td>\n",
       "      <td>0.000424</td>\n",
       "      <td>0.156098</td>\n",
       "      <td>0.005090</td>\n",
       "    </tr>\n",
       "    <tr>\n",
       "      <th>utamaduni</th>\n",
       "      <td>0.007635</td>\n",
       "      <td>0.001273</td>\n",
       "      <td>0.002545</td>\n",
       "      <td>0.000636</td>\n",
       "      <td>0.001909</td>\n",
       "      <td>0.006363</td>\n",
       "      <td>0.015270</td>\n",
       "      <td>0.001273</td>\n",
       "      <td>0.044539</td>\n",
       "      <td>0.026087</td>\n",
       "      <td>2.354189</td>\n",
       "      <td>0.000636</td>\n",
       "      <td>0.052810</td>\n",
       "      <td>0.001273</td>\n",
       "      <td>0.468293</td>\n",
       "      <td>0.015270</td>\n",
       "    </tr>\n",
       "    <tr>\n",
       "      <th>utaniadun</th>\n",
       "      <td>0.002545</td>\n",
       "      <td>0.000424</td>\n",
       "      <td>0.000848</td>\n",
       "      <td>0.000212</td>\n",
       "      <td>0.000636</td>\n",
       "      <td>0.002121</td>\n",
       "      <td>0.005090</td>\n",
       "      <td>0.000424</td>\n",
       "      <td>0.014846</td>\n",
       "      <td>0.008696</td>\n",
       "      <td>0.784730</td>\n",
       "      <td>0.000212</td>\n",
       "      <td>0.017603</td>\n",
       "      <td>0.000424</td>\n",
       "      <td>0.156098</td>\n",
       "      <td>0.005090</td>\n",
       "    </tr>\n",
       "    <tr>\n",
       "      <th>uvira</th>\n",
       "      <td>0.002545</td>\n",
       "      <td>0.000424</td>\n",
       "      <td>0.000848</td>\n",
       "      <td>0.000212</td>\n",
       "      <td>0.000636</td>\n",
       "      <td>0.002121</td>\n",
       "      <td>0.005090</td>\n",
       "      <td>0.000424</td>\n",
       "      <td>0.014846</td>\n",
       "      <td>0.008696</td>\n",
       "      <td>0.784730</td>\n",
       "      <td>0.000212</td>\n",
       "      <td>0.017603</td>\n",
       "      <td>0.000424</td>\n",
       "      <td>0.156098</td>\n",
       "      <td>0.005090</td>\n",
       "    </tr>\n",
       "    <tr>\n",
       "      <th>uzima</th>\n",
       "      <td>0.099258</td>\n",
       "      <td>0.016543</td>\n",
       "      <td>0.033086</td>\n",
       "      <td>0.008271</td>\n",
       "      <td>0.024814</td>\n",
       "      <td>0.082715</td>\n",
       "      <td>0.198515</td>\n",
       "      <td>0.016543</td>\n",
       "      <td>0.579003</td>\n",
       "      <td>0.339130</td>\n",
       "      <td>30.604454</td>\n",
       "      <td>0.008271</td>\n",
       "      <td>0.686532</td>\n",
       "      <td>0.016543</td>\n",
       "      <td>6.087805</td>\n",
       "      <td>0.198515</td>\n",
       "    </tr>\n",
       "    <tr>\n",
       "      <th>veronique</th>\n",
       "      <td>0.007635</td>\n",
       "      <td>0.001273</td>\n",
       "      <td>0.002545</td>\n",
       "      <td>0.000636</td>\n",
       "      <td>0.001909</td>\n",
       "      <td>0.006363</td>\n",
       "      <td>0.015270</td>\n",
       "      <td>0.001273</td>\n",
       "      <td>0.044539</td>\n",
       "      <td>0.026087</td>\n",
       "      <td>2.354189</td>\n",
       "      <td>0.000636</td>\n",
       "      <td>0.052810</td>\n",
       "      <td>0.001273</td>\n",
       "      <td>0.468293</td>\n",
       "      <td>0.015270</td>\n",
       "    </tr>\n",
       "    <tr>\n",
       "      <th>vihya</th>\n",
       "      <td>0.002545</td>\n",
       "      <td>0.000424</td>\n",
       "      <td>0.000848</td>\n",
       "      <td>0.000212</td>\n",
       "      <td>0.000636</td>\n",
       "      <td>0.002121</td>\n",
       "      <td>0.005090</td>\n",
       "      <td>0.000424</td>\n",
       "      <td>0.014846</td>\n",
       "      <td>0.008696</td>\n",
       "      <td>0.784730</td>\n",
       "      <td>0.000212</td>\n",
       "      <td>0.017603</td>\n",
       "      <td>0.000424</td>\n",
       "      <td>0.156098</td>\n",
       "      <td>0.005090</td>\n",
       "    </tr>\n",
       "    <tr>\n",
       "      <th>vikanzu</th>\n",
       "      <td>0.002545</td>\n",
       "      <td>0.000424</td>\n",
       "      <td>0.000848</td>\n",
       "      <td>0.000212</td>\n",
       "      <td>0.000636</td>\n",
       "      <td>0.002121</td>\n",
       "      <td>0.005090</td>\n",
       "      <td>0.000424</td>\n",
       "      <td>0.014846</td>\n",
       "      <td>0.008696</td>\n",
       "      <td>0.784730</td>\n",
       "      <td>0.000212</td>\n",
       "      <td>0.017603</td>\n",
       "      <td>0.000424</td>\n",
       "      <td>0.156098</td>\n",
       "      <td>0.005090</td>\n",
       "    </tr>\n",
       "    <tr>\n",
       "      <th>virunga</th>\n",
       "      <td>0.007635</td>\n",
       "      <td>0.001273</td>\n",
       "      <td>0.002545</td>\n",
       "      <td>0.000636</td>\n",
       "      <td>0.001909</td>\n",
       "      <td>0.006363</td>\n",
       "      <td>0.015270</td>\n",
       "      <td>0.001273</td>\n",
       "      <td>0.044539</td>\n",
       "      <td>0.026087</td>\n",
       "      <td>2.354189</td>\n",
       "      <td>0.000636</td>\n",
       "      <td>0.052810</td>\n",
       "      <td>0.001273</td>\n",
       "      <td>0.468293</td>\n",
       "      <td>0.015270</td>\n",
       "    </tr>\n",
       "    <tr>\n",
       "      <th>virunga/quartier</th>\n",
       "      <td>0.007635</td>\n",
       "      <td>0.001273</td>\n",
       "      <td>0.002545</td>\n",
       "      <td>0.000636</td>\n",
       "      <td>0.001909</td>\n",
       "      <td>0.006363</td>\n",
       "      <td>0.015270</td>\n",
       "      <td>0.001273</td>\n",
       "      <td>0.044539</td>\n",
       "      <td>0.026087</td>\n",
       "      <td>2.354189</td>\n",
       "      <td>0.000636</td>\n",
       "      <td>0.052810</td>\n",
       "      <td>0.001273</td>\n",
       "      <td>0.468293</td>\n",
       "      <td>0.015270</td>\n",
       "    </tr>\n",
       "    <tr>\n",
       "      <th>visogho</th>\n",
       "      <td>0.007635</td>\n",
       "      <td>0.001273</td>\n",
       "      <td>0.002545</td>\n",
       "      <td>0.000636</td>\n",
       "      <td>0.001909</td>\n",
       "      <td>0.006363</td>\n",
       "      <td>0.015270</td>\n",
       "      <td>0.001273</td>\n",
       "      <td>0.044539</td>\n",
       "      <td>0.026087</td>\n",
       "      <td>2.354189</td>\n",
       "      <td>0.000636</td>\n",
       "      <td>0.052810</td>\n",
       "      <td>0.001273</td>\n",
       "      <td>0.468293</td>\n",
       "      <td>0.015270</td>\n",
       "    </tr>\n",
       "    <tr>\n",
       "      <th>visoke</th>\n",
       "      <td>0.083987</td>\n",
       "      <td>0.013998</td>\n",
       "      <td>0.027996</td>\n",
       "      <td>0.006999</td>\n",
       "      <td>0.020997</td>\n",
       "      <td>0.069989</td>\n",
       "      <td>0.167975</td>\n",
       "      <td>0.013998</td>\n",
       "      <td>0.489926</td>\n",
       "      <td>0.286957</td>\n",
       "      <td>25.896076</td>\n",
       "      <td>0.006999</td>\n",
       "      <td>0.580912</td>\n",
       "      <td>0.013998</td>\n",
       "      <td>5.151220</td>\n",
       "      <td>0.167975</td>\n",
       "    </tr>\n",
       "    <tr>\n",
       "      <th>visolo</th>\n",
       "      <td>0.002545</td>\n",
       "      <td>0.000424</td>\n",
       "      <td>0.000848</td>\n",
       "      <td>0.000212</td>\n",
       "      <td>0.000636</td>\n",
       "      <td>0.002121</td>\n",
       "      <td>0.005090</td>\n",
       "      <td>0.000424</td>\n",
       "      <td>0.014846</td>\n",
       "      <td>0.008696</td>\n",
       "      <td>0.784730</td>\n",
       "      <td>0.000212</td>\n",
       "      <td>0.017603</td>\n",
       "      <td>0.000424</td>\n",
       "      <td>0.156098</td>\n",
       "      <td>0.005090</td>\n",
       "    </tr>\n",
       "    <tr>\n",
       "      <th>vuhika</th>\n",
       "      <td>0.005090</td>\n",
       "      <td>0.000848</td>\n",
       "      <td>0.001697</td>\n",
       "      <td>0.000424</td>\n",
       "      <td>0.001273</td>\n",
       "      <td>0.004242</td>\n",
       "      <td>0.010180</td>\n",
       "      <td>0.000848</td>\n",
       "      <td>0.029692</td>\n",
       "      <td>0.017391</td>\n",
       "      <td>1.569459</td>\n",
       "      <td>0.000424</td>\n",
       "      <td>0.035207</td>\n",
       "      <td>0.000848</td>\n",
       "      <td>0.312195</td>\n",
       "      <td>0.010180</td>\n",
       "    </tr>\n",
       "    <tr>\n",
       "      <th>vungi</th>\n",
       "      <td>0.020361</td>\n",
       "      <td>0.003393</td>\n",
       "      <td>0.006787</td>\n",
       "      <td>0.001697</td>\n",
       "      <td>0.005090</td>\n",
       "      <td>0.016967</td>\n",
       "      <td>0.040721</td>\n",
       "      <td>0.003393</td>\n",
       "      <td>0.118770</td>\n",
       "      <td>0.069565</td>\n",
       "      <td>6.277837</td>\n",
       "      <td>0.001697</td>\n",
       "      <td>0.140827</td>\n",
       "      <td>0.003393</td>\n",
       "      <td>1.248780</td>\n",
       "      <td>0.040721</td>\n",
       "    </tr>\n",
       "    <tr>\n",
       "      <th>wai wai</th>\n",
       "      <td>0.002545</td>\n",
       "      <td>0.000424</td>\n",
       "      <td>0.000848</td>\n",
       "      <td>0.000212</td>\n",
       "      <td>0.000636</td>\n",
       "      <td>0.002121</td>\n",
       "      <td>0.005090</td>\n",
       "      <td>0.000424</td>\n",
       "      <td>0.014846</td>\n",
       "      <td>0.008696</td>\n",
       "      <td>0.784730</td>\n",
       "      <td>0.000212</td>\n",
       "      <td>0.017603</td>\n",
       "      <td>0.000424</td>\n",
       "      <td>0.156098</td>\n",
       "      <td>0.005090</td>\n",
       "    </tr>\n",
       "    <tr>\n",
       "      <th>wamaza</th>\n",
       "      <td>0.002545</td>\n",
       "      <td>0.000424</td>\n",
       "      <td>0.000848</td>\n",
       "      <td>0.000212</td>\n",
       "      <td>0.000636</td>\n",
       "      <td>0.002121</td>\n",
       "      <td>0.005090</td>\n",
       "      <td>0.000424</td>\n",
       "      <td>0.014846</td>\n",
       "      <td>0.008696</td>\n",
       "      <td>0.784730</td>\n",
       "      <td>0.000212</td>\n",
       "      <td>0.017603</td>\n",
       "      <td>0.000424</td>\n",
       "      <td>0.156098</td>\n",
       "      <td>0.005090</td>\n",
       "    </tr>\n",
       "    <tr>\n",
       "      <th>wapole</th>\n",
       "      <td>0.007635</td>\n",
       "      <td>0.001273</td>\n",
       "      <td>0.002545</td>\n",
       "      <td>0.000636</td>\n",
       "      <td>0.001909</td>\n",
       "      <td>0.006363</td>\n",
       "      <td>0.015270</td>\n",
       "      <td>0.001273</td>\n",
       "      <td>0.044539</td>\n",
       "      <td>0.026087</td>\n",
       "      <td>2.354189</td>\n",
       "      <td>0.000636</td>\n",
       "      <td>0.052810</td>\n",
       "      <td>0.001273</td>\n",
       "      <td>0.468293</td>\n",
       "      <td>0.015270</td>\n",
       "    </tr>\n",
       "    <tr>\n",
       "      <th>wema</th>\n",
       "      <td>0.005090</td>\n",
       "      <td>0.000848</td>\n",
       "      <td>0.001697</td>\n",
       "      <td>0.000424</td>\n",
       "      <td>0.001273</td>\n",
       "      <td>0.004242</td>\n",
       "      <td>0.010180</td>\n",
       "      <td>0.000848</td>\n",
       "      <td>0.029692</td>\n",
       "      <td>0.017391</td>\n",
       "      <td>1.569459</td>\n",
       "      <td>0.000424</td>\n",
       "      <td>0.035207</td>\n",
       "      <td>0.000848</td>\n",
       "      <td>0.312195</td>\n",
       "      <td>0.010180</td>\n",
       "    </tr>\n",
       "    <tr>\n",
       "      <th>weza</th>\n",
       "      <td>0.015270</td>\n",
       "      <td>0.002545</td>\n",
       "      <td>0.005090</td>\n",
       "      <td>0.001273</td>\n",
       "      <td>0.003818</td>\n",
       "      <td>0.012725</td>\n",
       "      <td>0.030541</td>\n",
       "      <td>0.002545</td>\n",
       "      <td>0.089077</td>\n",
       "      <td>0.052174</td>\n",
       "      <td>4.708378</td>\n",
       "      <td>0.001273</td>\n",
       "      <td>0.105620</td>\n",
       "      <td>0.002545</td>\n",
       "      <td>0.936585</td>\n",
       "      <td>0.030541</td>\n",
       "    </tr>\n",
       "    <tr>\n",
       "      <th>weza2</th>\n",
       "      <td>0.002545</td>\n",
       "      <td>0.000424</td>\n",
       "      <td>0.000848</td>\n",
       "      <td>0.000212</td>\n",
       "      <td>0.000636</td>\n",
       "      <td>0.002121</td>\n",
       "      <td>0.005090</td>\n",
       "      <td>0.000424</td>\n",
       "      <td>0.014846</td>\n",
       "      <td>0.008696</td>\n",
       "      <td>0.784730</td>\n",
       "      <td>0.000212</td>\n",
       "      <td>0.017603</td>\n",
       "      <td>0.000424</td>\n",
       "      <td>0.156098</td>\n",
       "      <td>0.005090</td>\n",
       "    </tr>\n",
       "    <tr>\n",
       "      <th>wima</th>\n",
       "      <td>0.053446</td>\n",
       "      <td>0.008908</td>\n",
       "      <td>0.017815</td>\n",
       "      <td>0.004454</td>\n",
       "      <td>0.013362</td>\n",
       "      <td>0.044539</td>\n",
       "      <td>0.106893</td>\n",
       "      <td>0.008908</td>\n",
       "      <td>0.311771</td>\n",
       "      <td>0.182609</td>\n",
       "      <td>16.479321</td>\n",
       "      <td>0.004454</td>\n",
       "      <td>0.369671</td>\n",
       "      <td>0.008908</td>\n",
       "      <td>3.278049</td>\n",
       "      <td>0.106893</td>\n",
       "    </tr>\n",
       "    <tr>\n",
       "      <th>z</th>\n",
       "      <td>0.002545</td>\n",
       "      <td>0.000424</td>\n",
       "      <td>0.000848</td>\n",
       "      <td>0.000212</td>\n",
       "      <td>0.000636</td>\n",
       "      <td>0.002121</td>\n",
       "      <td>0.005090</td>\n",
       "      <td>0.000424</td>\n",
       "      <td>0.014846</td>\n",
       "      <td>0.008696</td>\n",
       "      <td>0.784730</td>\n",
       "      <td>0.000212</td>\n",
       "      <td>0.017603</td>\n",
       "      <td>0.000424</td>\n",
       "      <td>0.156098</td>\n",
       "      <td>0.005090</td>\n",
       "    </tr>\n",
       "    <tr>\n",
       "      <th>zako</th>\n",
       "      <td>0.002545</td>\n",
       "      <td>0.000424</td>\n",
       "      <td>0.000848</td>\n",
       "      <td>0.000212</td>\n",
       "      <td>0.000636</td>\n",
       "      <td>0.002121</td>\n",
       "      <td>0.005090</td>\n",
       "      <td>0.000424</td>\n",
       "      <td>0.014846</td>\n",
       "      <td>0.008696</td>\n",
       "      <td>0.784730</td>\n",
       "      <td>0.000212</td>\n",
       "      <td>0.017603</td>\n",
       "      <td>0.000424</td>\n",
       "      <td>0.156098</td>\n",
       "      <td>0.005090</td>\n",
       "    </tr>\n",
       "    <tr>\n",
       "      <th>zanner</th>\n",
       "      <td>0.198515</td>\n",
       "      <td>0.033086</td>\n",
       "      <td>0.066172</td>\n",
       "      <td>0.016543</td>\n",
       "      <td>0.049629</td>\n",
       "      <td>0.165429</td>\n",
       "      <td>0.397031</td>\n",
       "      <td>0.033086</td>\n",
       "      <td>1.158006</td>\n",
       "      <td>0.678261</td>\n",
       "      <td>61.208908</td>\n",
       "      <td>0.016543</td>\n",
       "      <td>1.373065</td>\n",
       "      <td>0.033086</td>\n",
       "      <td>12.175610</td>\n",
       "      <td>0.397031</td>\n",
       "    </tr>\n",
       "    <tr>\n",
       "      <th>zawadi ya raisi</th>\n",
       "      <td>0.030541</td>\n",
       "      <td>0.005090</td>\n",
       "      <td>0.010180</td>\n",
       "      <td>0.002545</td>\n",
       "      <td>0.007635</td>\n",
       "      <td>0.025451</td>\n",
       "      <td>0.061082</td>\n",
       "      <td>0.005090</td>\n",
       "      <td>0.178155</td>\n",
       "      <td>0.104348</td>\n",
       "      <td>9.416755</td>\n",
       "      <td>0.002545</td>\n",
       "      <td>0.211241</td>\n",
       "      <td>0.005090</td>\n",
       "      <td>1.873171</td>\n",
       "      <td>0.061082</td>\n",
       "    </tr>\n",
       "    <tr>\n",
       "      <th>ziwa kivu</th>\n",
       "      <td>0.015270</td>\n",
       "      <td>0.002545</td>\n",
       "      <td>0.005090</td>\n",
       "      <td>0.001273</td>\n",
       "      <td>0.003818</td>\n",
       "      <td>0.012725</td>\n",
       "      <td>0.030541</td>\n",
       "      <td>0.002545</td>\n",
       "      <td>0.089077</td>\n",
       "      <td>0.052174</td>\n",
       "      <td>4.708378</td>\n",
       "      <td>0.001273</td>\n",
       "      <td>0.105620</td>\n",
       "      <td>0.002545</td>\n",
       "      <td>0.936585</td>\n",
       "      <td>0.030541</td>\n",
       "    </tr>\n",
       "    <tr>\n",
       "      <th>zuza</th>\n",
       "      <td>0.002545</td>\n",
       "      <td>0.000424</td>\n",
       "      <td>0.000848</td>\n",
       "      <td>0.000212</td>\n",
       "      <td>0.000636</td>\n",
       "      <td>0.002121</td>\n",
       "      <td>0.005090</td>\n",
       "      <td>0.000424</td>\n",
       "      <td>0.014846</td>\n",
       "      <td>0.008696</td>\n",
       "      <td>0.784730</td>\n",
       "      <td>0.000212</td>\n",
       "      <td>0.017603</td>\n",
       "      <td>0.000424</td>\n",
       "      <td>0.156098</td>\n",
       "      <td>0.005090</td>\n",
       "    </tr>\n",
       "  </tbody>\n",
       "</table>\n",
       "<p>591 rows × 16 columns</p>\n",
       "</div>"
      ],
      "text/plain": [
       "SCHOOLPROVINCE                     BANDUNDU  BAS CONGO  EQUATEUR      K OR  \\\n",
       "SCHOOL_RIGHT                                                                 \n",
       "1uto                               0.002545   0.000424  0.000848  0.000212   \n",
       "53                                 0.002545   0.000424  0.000848  0.000212   \n",
       "54                                 0.002545   0.000424  0.000848  0.000212   \n",
       "61                                 0.005090   0.000848  0.001697  0.000424   \n",
       "Alleluya                           0.005090   0.000848  0.001697  0.000424   \n",
       "BWANGA                             0.005090   0.000848  0.001697  0.000424   \n",
       "Bungulu Beni                       0.002545   0.000424  0.000848  0.000212   \n",
       "GRACIA                             0.002545   0.000424  0.000848  0.000212   \n",
       "I DE BKV                           0.002545   0.000424  0.000848  0.000212   \n",
       "I LWANGA                           0.002545   0.000424  0.000848  0.000212   \n",
       "INST DE KATWA                      0.002545   0.000424  0.000848  0.000212   \n",
       "INST LWANGA                        0.002545   0.000424  0.000848  0.000212   \n",
       "INST. MPINGA                       0.002545   0.000424  0.000848  0.000212   \n",
       "INSTITUT BWINZI                    0.002545   0.000424  0.000848  0.000212   \n",
       "INSTITUT LWANGA                    0.002545   0.000424  0.000848  0.000212   \n",
       "ITM DE BOGA                        0.002545   0.000424  0.000848  0.000212   \n",
       "Institut BWANGA                    0.010180   0.001697  0.003393  0.000848   \n",
       "Institut MWANDA                    0.002545   0.000424  0.000848  0.000212   \n",
       "Institut MWANZO                    0.002545   0.000424  0.000848  0.000212   \n",
       "Institut NJANJA                    0.002545   0.000424  0.000848  0.000212   \n",
       "Institut de KATWA                  0.002545   0.000424  0.000848  0.000212   \n",
       "Intitut ALLELUYA                   0.002545   0.000424  0.000848  0.000212   \n",
       "L MWANDU                           0.005090   0.000848  0.001697  0.000424   \n",
       "LWANGA                             0.020361   0.003393  0.006787  0.001697   \n",
       "LYCEE MWANDU                       0.005090   0.000848  0.001697  0.000424   \n",
       "LYCEE MWINDA                       0.002545   0.000424  0.000848  0.000212   \n",
       "Lwanga                             0.033086   0.005514  0.011029  0.002757   \n",
       "Lycée Mwandu                       0.015270   0.002545  0.005090  0.001273   \n",
       "MUGUNGA                            0.010180   0.001697  0.003393  0.000848   \n",
       "MWANA                              0.002545   0.000424  0.000848  0.000212   \n",
       "...                                     ...        ...       ...       ...   \n",
       "ujumbe                             0.002545   0.000424  0.000848  0.000212   \n",
       "umoja fs                           0.002545   0.000424  0.000848  0.000212   \n",
       "umuja international french school  0.002545   0.000424  0.000848  0.000212   \n",
       "utamaduni                          0.007635   0.001273  0.002545  0.000636   \n",
       "utaniadun                          0.002545   0.000424  0.000848  0.000212   \n",
       "uvira                              0.002545   0.000424  0.000848  0.000212   \n",
       "uzima                              0.099258   0.016543  0.033086  0.008271   \n",
       "veronique                          0.007635   0.001273  0.002545  0.000636   \n",
       "vihya                              0.002545   0.000424  0.000848  0.000212   \n",
       "vikanzu                            0.002545   0.000424  0.000848  0.000212   \n",
       "virunga                            0.007635   0.001273  0.002545  0.000636   \n",
       "virunga/quartier                   0.007635   0.001273  0.002545  0.000636   \n",
       "visogho                            0.007635   0.001273  0.002545  0.000636   \n",
       "visoke                             0.083987   0.013998  0.027996  0.006999   \n",
       "visolo                             0.002545   0.000424  0.000848  0.000212   \n",
       "vuhika                             0.005090   0.000848  0.001697  0.000424   \n",
       "vungi                              0.020361   0.003393  0.006787  0.001697   \n",
       "wai wai                            0.002545   0.000424  0.000848  0.000212   \n",
       "wamaza                             0.002545   0.000424  0.000848  0.000212   \n",
       "wapole                             0.007635   0.001273  0.002545  0.000636   \n",
       "wema                               0.005090   0.000848  0.001697  0.000424   \n",
       "weza                               0.015270   0.002545  0.005090  0.001273   \n",
       "weza2                              0.002545   0.000424  0.000848  0.000212   \n",
       "wima                               0.053446   0.008908  0.017815  0.004454   \n",
       "z                                  0.002545   0.000424  0.000848  0.000212   \n",
       "zako                               0.002545   0.000424  0.000848  0.000212   \n",
       "zanner                             0.198515   0.033086  0.066172  0.016543   \n",
       "zawadi ya raisi                    0.030541   0.005090  0.010180  0.002545   \n",
       "ziwa kivu                          0.015270   0.002545  0.005090  0.001273   \n",
       "zuza                               0.002545   0.000424  0.000848  0.000212   \n",
       "\n",
       "SCHOOLPROVINCE                     KASAI OCCIDENTAL  KASAI ORIENTAL   KATANGA  \\\n",
       "SCHOOL_RIGHT                                                                    \n",
       "1uto                                       0.000636        0.002121  0.005090   \n",
       "53                                         0.000636        0.002121  0.005090   \n",
       "54                                         0.000636        0.002121  0.005090   \n",
       "61                                         0.001273        0.004242  0.010180   \n",
       "Alleluya                                   0.001273        0.004242  0.010180   \n",
       "BWANGA                                     0.001273        0.004242  0.010180   \n",
       "Bungulu Beni                               0.000636        0.002121  0.005090   \n",
       "GRACIA                                     0.000636        0.002121  0.005090   \n",
       "I DE BKV                                   0.000636        0.002121  0.005090   \n",
       "I LWANGA                                   0.000636        0.002121  0.005090   \n",
       "INST DE KATWA                              0.000636        0.002121  0.005090   \n",
       "INST LWANGA                                0.000636        0.002121  0.005090   \n",
       "INST. MPINGA                               0.000636        0.002121  0.005090   \n",
       "INSTITUT BWINZI                            0.000636        0.002121  0.005090   \n",
       "INSTITUT LWANGA                            0.000636        0.002121  0.005090   \n",
       "ITM DE BOGA                                0.000636        0.002121  0.005090   \n",
       "Institut BWANGA                            0.002545        0.008484  0.020361   \n",
       "Institut MWANDA                            0.000636        0.002121  0.005090   \n",
       "Institut MWANZO                            0.000636        0.002121  0.005090   \n",
       "Institut NJANJA                            0.000636        0.002121  0.005090   \n",
       "Institut de KATWA                          0.000636        0.002121  0.005090   \n",
       "Intitut ALLELUYA                           0.000636        0.002121  0.005090   \n",
       "L MWANDU                                   0.001273        0.004242  0.010180   \n",
       "LWANGA                                     0.005090        0.016967  0.040721   \n",
       "LYCEE MWANDU                               0.001273        0.004242  0.010180   \n",
       "LYCEE MWINDA                               0.000636        0.002121  0.005090   \n",
       "Lwanga                                     0.008271        0.027572  0.066172   \n",
       "Lycée Mwandu                               0.003818        0.012725  0.030541   \n",
       "MUGUNGA                                    0.002545        0.008484  0.020361   \n",
       "MWANA                                      0.000636        0.002121  0.005090   \n",
       "...                                             ...             ...       ...   \n",
       "ujumbe                                     0.000636        0.002121  0.005090   \n",
       "umoja fs                                   0.000636        0.002121  0.005090   \n",
       "umuja international french school          0.000636        0.002121  0.005090   \n",
       "utamaduni                                  0.001909        0.006363  0.015270   \n",
       "utaniadun                                  0.000636        0.002121  0.005090   \n",
       "uvira                                      0.000636        0.002121  0.005090   \n",
       "uzima                                      0.024814        0.082715  0.198515   \n",
       "veronique                                  0.001909        0.006363  0.015270   \n",
       "vihya                                      0.000636        0.002121  0.005090   \n",
       "vikanzu                                    0.000636        0.002121  0.005090   \n",
       "virunga                                    0.001909        0.006363  0.015270   \n",
       "virunga/quartier                           0.001909        0.006363  0.015270   \n",
       "visogho                                    0.001909        0.006363  0.015270   \n",
       "visoke                                     0.020997        0.069989  0.167975   \n",
       "visolo                                     0.000636        0.002121  0.005090   \n",
       "vuhika                                     0.001273        0.004242  0.010180   \n",
       "vungi                                      0.005090        0.016967  0.040721   \n",
       "wai wai                                    0.000636        0.002121  0.005090   \n",
       "wamaza                                     0.000636        0.002121  0.005090   \n",
       "wapole                                     0.001909        0.006363  0.015270   \n",
       "wema                                       0.001273        0.004242  0.010180   \n",
       "weza                                       0.003818        0.012725  0.030541   \n",
       "weza2                                      0.000636        0.002121  0.005090   \n",
       "wima                                       0.013362        0.044539  0.106893   \n",
       "z                                          0.000636        0.002121  0.005090   \n",
       "zako                                       0.000636        0.002121  0.005090   \n",
       "zanner                                     0.049629        0.165429  0.397031   \n",
       "zawadi ya raisi                            0.007635        0.025451  0.061082   \n",
       "ziwa kivu                                  0.003818        0.012725  0.030541   \n",
       "zuza                                       0.000636        0.002121  0.005090   \n",
       "\n",
       "SCHOOLPROVINCE                       KIGALI  KINSHASA   MANIEMA  NORD-KIVU  \\\n",
       "SCHOOL_RIGHT                                                                 \n",
       "1uto                               0.000424  0.014846  0.008696   0.784730   \n",
       "53                                 0.000424  0.014846  0.008696   0.784730   \n",
       "54                                 0.000424  0.014846  0.008696   0.784730   \n",
       "61                                 0.000848  0.029692  0.017391   1.569459   \n",
       "Alleluya                           0.000848  0.029692  0.017391   1.569459   \n",
       "BWANGA                             0.000848  0.029692  0.017391   1.569459   \n",
       "Bungulu Beni                       0.000424  0.014846  0.008696   0.784730   \n",
       "GRACIA                             0.000424  0.014846  0.008696   0.784730   \n",
       "I DE BKV                           0.000424  0.014846  0.008696   0.784730   \n",
       "I LWANGA                           0.000424  0.014846  0.008696   0.784730   \n",
       "INST DE KATWA                      0.000424  0.014846  0.008696   0.784730   \n",
       "INST LWANGA                        0.000424  0.014846  0.008696   0.784730   \n",
       "INST. MPINGA                       0.000424  0.014846  0.008696   0.784730   \n",
       "INSTITUT BWINZI                    0.000424  0.014846  0.008696   0.784730   \n",
       "INSTITUT LWANGA                    0.000424  0.014846  0.008696   0.784730   \n",
       "ITM DE BOGA                        0.000424  0.014846  0.008696   0.784730   \n",
       "Institut BWANGA                    0.001697  0.059385  0.034783   3.138918   \n",
       "Institut MWANDA                    0.000424  0.014846  0.008696   0.784730   \n",
       "Institut MWANZO                    0.000424  0.014846  0.008696   0.784730   \n",
       "Institut NJANJA                    0.000424  0.014846  0.008696   0.784730   \n",
       "Institut de KATWA                  0.000424  0.014846  0.008696   0.784730   \n",
       "Intitut ALLELUYA                   0.000424  0.014846  0.008696   0.784730   \n",
       "L MWANDU                           0.000848  0.029692  0.017391   1.569459   \n",
       "LWANGA                             0.003393  0.118770  0.069565   6.277837   \n",
       "LYCEE MWANDU                       0.000848  0.029692  0.017391   1.569459   \n",
       "LYCEE MWINDA                       0.000424  0.014846  0.008696   0.784730   \n",
       "Lwanga                             0.005514  0.193001  0.113043  10.201485   \n",
       "Lycée Mwandu                       0.002545  0.089077  0.052174   4.708378   \n",
       "MUGUNGA                            0.001697  0.059385  0.034783   3.138918   \n",
       "MWANA                              0.000424  0.014846  0.008696   0.784730   \n",
       "...                                     ...       ...       ...        ...   \n",
       "ujumbe                             0.000424  0.014846  0.008696   0.784730   \n",
       "umoja fs                           0.000424  0.014846  0.008696   0.784730   \n",
       "umuja international french school  0.000424  0.014846  0.008696   0.784730   \n",
       "utamaduni                          0.001273  0.044539  0.026087   2.354189   \n",
       "utaniadun                          0.000424  0.014846  0.008696   0.784730   \n",
       "uvira                              0.000424  0.014846  0.008696   0.784730   \n",
       "uzima                              0.016543  0.579003  0.339130  30.604454   \n",
       "veronique                          0.001273  0.044539  0.026087   2.354189   \n",
       "vihya                              0.000424  0.014846  0.008696   0.784730   \n",
       "vikanzu                            0.000424  0.014846  0.008696   0.784730   \n",
       "virunga                            0.001273  0.044539  0.026087   2.354189   \n",
       "virunga/quartier                   0.001273  0.044539  0.026087   2.354189   \n",
       "visogho                            0.001273  0.044539  0.026087   2.354189   \n",
       "visoke                             0.013998  0.489926  0.286957  25.896076   \n",
       "visolo                             0.000424  0.014846  0.008696   0.784730   \n",
       "vuhika                             0.000848  0.029692  0.017391   1.569459   \n",
       "vungi                              0.003393  0.118770  0.069565   6.277837   \n",
       "wai wai                            0.000424  0.014846  0.008696   0.784730   \n",
       "wamaza                             0.000424  0.014846  0.008696   0.784730   \n",
       "wapole                             0.001273  0.044539  0.026087   2.354189   \n",
       "wema                               0.000848  0.029692  0.017391   1.569459   \n",
       "weza                               0.002545  0.089077  0.052174   4.708378   \n",
       "weza2                              0.000424  0.014846  0.008696   0.784730   \n",
       "wima                               0.008908  0.311771  0.182609  16.479321   \n",
       "z                                  0.000424  0.014846  0.008696   0.784730   \n",
       "zako                               0.000424  0.014846  0.008696   0.784730   \n",
       "zanner                             0.033086  1.158006  0.678261  61.208908   \n",
       "zawadi ya raisi                    0.005090  0.178155  0.104348   9.416755   \n",
       "ziwa kivu                          0.002545  0.089077  0.052174   4.708378   \n",
       "zuza                               0.000424  0.014846  0.008696   0.784730   \n",
       "\n",
       "SCHOOLPROVINCE                     NYARUKENGE  ORIENTALE     OUEST   SUD-KIVU  \\\n",
       "SCHOOL_RIGHT                                                                    \n",
       "1uto                                 0.000212   0.017603  0.000424   0.156098   \n",
       "53                                   0.000212   0.017603  0.000424   0.156098   \n",
       "54                                   0.000212   0.017603  0.000424   0.156098   \n",
       "61                                   0.000424   0.035207  0.000848   0.312195   \n",
       "Alleluya                             0.000424   0.035207  0.000848   0.312195   \n",
       "BWANGA                               0.000424   0.035207  0.000848   0.312195   \n",
       "Bungulu Beni                         0.000212   0.017603  0.000424   0.156098   \n",
       "GRACIA                               0.000212   0.017603  0.000424   0.156098   \n",
       "I DE BKV                             0.000212   0.017603  0.000424   0.156098   \n",
       "I LWANGA                             0.000212   0.017603  0.000424   0.156098   \n",
       "INST DE KATWA                        0.000212   0.017603  0.000424   0.156098   \n",
       "INST LWANGA                          0.000212   0.017603  0.000424   0.156098   \n",
       "INST. MPINGA                         0.000212   0.017603  0.000424   0.156098   \n",
       "INSTITUT BWINZI                      0.000212   0.017603  0.000424   0.156098   \n",
       "INSTITUT LWANGA                      0.000212   0.017603  0.000424   0.156098   \n",
       "ITM DE BOGA                          0.000212   0.017603  0.000424   0.156098   \n",
       "Institut BWANGA                      0.000848   0.070414  0.001697   0.624390   \n",
       "Institut MWANDA                      0.000212   0.017603  0.000424   0.156098   \n",
       "Institut MWANZO                      0.000212   0.017603  0.000424   0.156098   \n",
       "Institut NJANJA                      0.000212   0.017603  0.000424   0.156098   \n",
       "Institut de KATWA                    0.000212   0.017603  0.000424   0.156098   \n",
       "Intitut ALLELUYA                     0.000212   0.017603  0.000424   0.156098   \n",
       "L MWANDU                             0.000424   0.035207  0.000848   0.312195   \n",
       "LWANGA                               0.001697   0.140827  0.003393   1.248780   \n",
       "LYCEE MWANDU                         0.000424   0.035207  0.000848   0.312195   \n",
       "LYCEE MWINDA                         0.000212   0.017603  0.000424   0.156098   \n",
       "Lwanga                               0.002757   0.228844  0.005514   2.029268   \n",
       "Lycée Mwandu                         0.001273   0.105620  0.002545   0.936585   \n",
       "MUGUNGA                              0.000848   0.070414  0.001697   0.624390   \n",
       "MWANA                                0.000212   0.017603  0.000424   0.156098   \n",
       "...                                       ...        ...       ...        ...   \n",
       "ujumbe                               0.000212   0.017603  0.000424   0.156098   \n",
       "umoja fs                             0.000212   0.017603  0.000424   0.156098   \n",
       "umuja international french school    0.000212   0.017603  0.000424   0.156098   \n",
       "utamaduni                            0.000636   0.052810  0.001273   0.468293   \n",
       "utaniadun                            0.000212   0.017603  0.000424   0.156098   \n",
       "uvira                                0.000212   0.017603  0.000424   0.156098   \n",
       "uzima                                0.008271   0.686532  0.016543   6.087805   \n",
       "veronique                            0.000636   0.052810  0.001273   0.468293   \n",
       "vihya                                0.000212   0.017603  0.000424   0.156098   \n",
       "vikanzu                              0.000212   0.017603  0.000424   0.156098   \n",
       "virunga                              0.000636   0.052810  0.001273   0.468293   \n",
       "virunga/quartier                     0.000636   0.052810  0.001273   0.468293   \n",
       "visogho                              0.000636   0.052810  0.001273   0.468293   \n",
       "visoke                               0.006999   0.580912  0.013998   5.151220   \n",
       "visolo                               0.000212   0.017603  0.000424   0.156098   \n",
       "vuhika                               0.000424   0.035207  0.000848   0.312195   \n",
       "vungi                                0.001697   0.140827  0.003393   1.248780   \n",
       "wai wai                              0.000212   0.017603  0.000424   0.156098   \n",
       "wamaza                               0.000212   0.017603  0.000424   0.156098   \n",
       "wapole                               0.000636   0.052810  0.001273   0.468293   \n",
       "wema                                 0.000424   0.035207  0.000848   0.312195   \n",
       "weza                                 0.001273   0.105620  0.002545   0.936585   \n",
       "weza2                                0.000212   0.017603  0.000424   0.156098   \n",
       "wima                                 0.004454   0.369671  0.008908   3.278049   \n",
       "z                                    0.000212   0.017603  0.000424   0.156098   \n",
       "zako                                 0.000212   0.017603  0.000424   0.156098   \n",
       "zanner                               0.016543   1.373065  0.033086  12.175610   \n",
       "zawadi ya raisi                      0.002545   0.211241  0.005090   1.873171   \n",
       "ziwa kivu                            0.001273   0.105620  0.002545   0.936585   \n",
       "zuza                                 0.000212   0.017603  0.000424   0.156098   \n",
       "\n",
       "SCHOOLPROVINCE                      inconnu  \n",
       "SCHOOL_RIGHT                                 \n",
       "1uto                               0.005090  \n",
       "53                                 0.005090  \n",
       "54                                 0.005090  \n",
       "61                                 0.010180  \n",
       "Alleluya                           0.010180  \n",
       "BWANGA                             0.010180  \n",
       "Bungulu Beni                       0.005090  \n",
       "GRACIA                             0.005090  \n",
       "I DE BKV                           0.005090  \n",
       "I LWANGA                           0.005090  \n",
       "INST DE KATWA                      0.005090  \n",
       "INST LWANGA                        0.005090  \n",
       "INST. MPINGA                       0.005090  \n",
       "INSTITUT BWINZI                    0.005090  \n",
       "INSTITUT LWANGA                    0.005090  \n",
       "ITM DE BOGA                        0.005090  \n",
       "Institut BWANGA                    0.020361  \n",
       "Institut MWANDA                    0.005090  \n",
       "Institut MWANZO                    0.005090  \n",
       "Institut NJANJA                    0.005090  \n",
       "Institut de KATWA                  0.005090  \n",
       "Intitut ALLELUYA                   0.005090  \n",
       "L MWANDU                           0.010180  \n",
       "LWANGA                             0.040721  \n",
       "LYCEE MWANDU                       0.010180  \n",
       "LYCEE MWINDA                       0.005090  \n",
       "Lwanga                             0.066172  \n",
       "Lycée Mwandu                       0.030541  \n",
       "MUGUNGA                            0.020361  \n",
       "MWANA                              0.005090  \n",
       "...                                     ...  \n",
       "ujumbe                             0.005090  \n",
       "umoja fs                           0.005090  \n",
       "umuja international french school  0.005090  \n",
       "utamaduni                          0.015270  \n",
       "utaniadun                          0.005090  \n",
       "uvira                              0.005090  \n",
       "uzima                              0.198515  \n",
       "veronique                          0.015270  \n",
       "vihya                              0.005090  \n",
       "vikanzu                            0.005090  \n",
       "virunga                            0.015270  \n",
       "virunga/quartier                   0.015270  \n",
       "visogho                            0.015270  \n",
       "visoke                             0.167975  \n",
       "visolo                             0.005090  \n",
       "vuhika                             0.010180  \n",
       "vungi                              0.040721  \n",
       "wai wai                            0.005090  \n",
       "wamaza                             0.005090  \n",
       "wapole                             0.015270  \n",
       "wema                               0.010180  \n",
       "weza                               0.030541  \n",
       "weza2                              0.005090  \n",
       "wima                               0.106893  \n",
       "z                                  0.005090  \n",
       "zako                               0.005090  \n",
       "zanner                             0.397031  \n",
       "zawadi ya raisi                    0.061082  \n",
       "ziwa kivu                          0.030541  \n",
       "zuza                               0.005090  \n",
       "\n",
       "[591 rows x 16 columns]"
      ]
     },
     "execution_count": 26,
     "metadata": {},
     "output_type": "execute_result"
    }
   ],
   "source": [
    "SchoolStat2.chisquare()"
   ]
  },
  {
   "cell_type": "code",
   "execution_count": 27,
   "metadata": {},
   "outputs": [
    {
     "data": {
      "text/plain": [
       "' It indicates that both categorical variable are dependent'"
      ]
     },
     "execution_count": 27,
     "metadata": {},
     "output_type": "execute_result"
    }
   ],
   "source": [
    "SchoolStat2.conclude(on='p')"
   ]
  },
  {
   "cell_type": "code",
   "execution_count": 28,
   "metadata": {},
   "outputs": [
    {
     "data": {
      "text/plain": [
       "0       null hypothesis is rejected : is no relationsh...\n",
       "1       null hypothesis is rejected : is no relationsh...\n",
       "2       null hypothesis is rejected : is no relationsh...\n",
       "3       null hypothesis is rejected : is no relationsh...\n",
       "4       null hypothesis is rejected : is no relationsh...\n",
       "5       null hypothesis is rejected : is no relationsh...\n",
       "6       null hypothesis is rejected : is no relationsh...\n",
       "7       null hypothesis is rejected : is no relationsh...\n",
       "8       null hypothesis is rejected : is no relationsh...\n",
       "9       null hypothesis is rejected : is no relationsh...\n",
       "10      null hypothesis is rejected : is no relationsh...\n",
       "11      null hypothesis is rejected : is no relationsh...\n",
       "12      null hypothesis is rejected : is no relationsh...\n",
       "13      null hypothesis is rejected : is no relationsh...\n",
       "14      null hypothesis is rejected : is no relationsh...\n",
       "15      null hypothesis is rejected : is no relationsh...\n",
       "16      null hypothesis is rejected : is no relationsh...\n",
       "17      null hypothesis is rejected : is no relationsh...\n",
       "18      null hypothesis is rejected : is no relationsh...\n",
       "19      null hypothesis is rejected : is no relationsh...\n",
       "20      null hypothesis is rejected : is no relationsh...\n",
       "21      null hypothesis is rejected : is no relationsh...\n",
       "22      null hypothesis is rejected : is no relationsh...\n",
       "23      null hypothesis is rejected : is no relationsh...\n",
       "24      null hypothesis is rejected : is no relationsh...\n",
       "25      null hypothesis is rejected : is no relationsh...\n",
       "26      null hypothesis is rejected : is no relationsh...\n",
       "27      null hypothesis is rejected : is no relationsh...\n",
       "28      null hypothesis is rejected : is no relationsh...\n",
       "29      null hypothesis is rejected : is no relationsh...\n",
       "                              ...                        \n",
       "4685    null hypothesis is rejected : is no relationsh...\n",
       "4686    null hypothesis is rejected : is no relationsh...\n",
       "4687    null hypothesis is rejected : is no relationsh...\n",
       "4688    null hypothesis is rejected : is no relationsh...\n",
       "4689    null hypothesis is rejected : is no relationsh...\n",
       "4690    null hypothesis is rejected : is no relationsh...\n",
       "4691    null hypothesis is rejected : is no relationsh...\n",
       "4692    null hypothesis is rejected : is no relationsh...\n",
       "4693    null hypothesis is rejected : is no relationsh...\n",
       "4694    null hypothesis is rejected : is no relationsh...\n",
       "4695    null hypothesis is rejected : is no relationsh...\n",
       "4696    null hypothesis is rejected : is no relationsh...\n",
       "4697    null hypothesis is rejected : is no relationsh...\n",
       "4698    null hypothesis is rejected : is no relationsh...\n",
       "4699    null hypothesis is rejected : is no relationsh...\n",
       "4700    null hypothesis is rejected : is no relationsh...\n",
       "4701    null hypothesis is rejected : is no relationsh...\n",
       "4702    null hypothesis is rejected : is no relationsh...\n",
       "4703    null hypothesis is rejected : is no relationsh...\n",
       "4704    null hypothesis is rejected : is no relationsh...\n",
       "4705    null hypothesis is rejected : is no relationsh...\n",
       "4706    null hypothesis is rejected : is no relationsh...\n",
       "4707    null hypothesis is rejected : is no relationsh...\n",
       "4708    null hypothesis is rejected : is no relationsh...\n",
       "4709    null hypothesis is rejected : is no relationsh...\n",
       "4710    null hypothesis is rejected : is no relationsh...\n",
       "4711    null hypothesis is rejected : is no relationsh...\n",
       "4712    null hypothesis is rejected : is no relationsh...\n",
       "4713    null hypothesis is rejected : is no relationsh...\n",
       "4714    null hypothesis is rejected : is no relationsh...\n",
       "dtype: object"
      ]
     },
     "execution_count": 28,
     "metadata": {},
     "output_type": "execute_result"
    }
   ],
   "source": [
    "SchoolStat2.conclude(on='chi')"
   ]
  },
  {
   "cell_type": "code",
   "execution_count": 30,
   "metadata": {},
   "outputs": [
    {
     "data": {
      "text/plain": [
       "8850"
      ]
     },
     "execution_count": 30,
     "metadata": {},
     "output_type": "execute_result"
    }
   ],
   "source": [
    "SchoolStat2.dof"
   ]
  },
  {
   "cell_type": "code",
   "execution_count": 6,
   "metadata": {},
   "outputs": [
    {
     "data": {
      "text/plain": [
       "Index([u'SCHOOLSTATUS', u'SCHOOL_RIGHT', u'OPTION_RIGHT', u'FAC',\n",
       "       u'SCHOOLPROVINCE', u'GENDER', u'DIPPERC', u'AGE', u'CGPA',\n",
       "       u'DistinctionRatio', u'EchecRatio', u'NACADYEAR',\n",
       "       u'Pass1stSessionRatio'],\n",
       "      dtype='object')"
      ]
     },
     "execution_count": 6,
     "metadata": {},
     "output_type": "execute_result"
    }
   ],
   "source": [
    "dataset.columns"
   ]
  },
  {
   "cell_type": "code",
   "execution_count": 5,
   "metadata": {
    "collapsed": true
   },
   "outputs": [],
   "source": [
    "datasetCGPA=dataset[['DIPPERC', u'SCHOOL_RIGHT', u'OPTION_RIGHT', u'FAC' , u'CGPA','DistinctionRatio','EchecRatio','Pass1stSessionRatio']]"
   ]
  },
  {
   "cell_type": "markdown",
   "metadata": {},
   "source": [
    "Dans une premiere approche nous allons utiliser le dataset CGPA pour la construction de notre modèle car ils ne contiendra uniquement que 3 attribues et reste seront utiliser ulterieurment"
   ]
  },
  {
   "cell_type": "markdown",
   "metadata": {},
   "source": [
    "Nous allons construire notre ensemble d'apprentissage uniquement sur base de ces attribues  , les autres on été supprimées car ils ne disposent d'aucune corrlation avec le CGPA"
   ]
  },
  {
   "cell_type": "code",
   "execution_count": 5,
   "metadata": {
    "scrolled": true
   },
   "outputs": [
    {
     "data": {
      "text/html": [
       "<div>\n",
       "<table border=\"1\" class=\"dataframe\">\n",
       "  <thead>\n",
       "    <tr style=\"text-align: right;\">\n",
       "      <th></th>\n",
       "      <th>DIPPERC</th>\n",
       "      <th>SCHOOL_RIGHT</th>\n",
       "      <th>OPTION_RIGHT</th>\n",
       "      <th>FAC</th>\n",
       "      <th>CGPA</th>\n",
       "      <th>DistinctionRatio</th>\n",
       "      <th>EchecRatio</th>\n",
       "      <th>Pass1stSessionRatio</th>\n",
       "    </tr>\n",
       "    <tr>\n",
       "      <th>ID</th>\n",
       "      <th></th>\n",
       "      <th></th>\n",
       "      <th></th>\n",
       "      <th></th>\n",
       "      <th></th>\n",
       "      <th></th>\n",
       "      <th></th>\n",
       "      <th></th>\n",
       "    </tr>\n",
       "  </thead>\n",
       "  <tbody>\n",
       "    <tr>\n",
       "      <th>3895</th>\n",
       "      <td>52.0</td>\n",
       "      <td>zanner</td>\n",
       "      <td>commmerciale et adm</td>\n",
       "      <td>FSEG</td>\n",
       "      <td>59.400002</td>\n",
       "      <td>G</td>\n",
       "      <td>G</td>\n",
       "      <td>G</td>\n",
       "    </tr>\n",
       "    <tr>\n",
       "      <th>4048</th>\n",
       "      <td>53.0</td>\n",
       "      <td>zanner</td>\n",
       "      <td>commmerciale et adm</td>\n",
       "      <td>FSEG</td>\n",
       "      <td>40.000000</td>\n",
       "      <td>G</td>\n",
       "      <td>A</td>\n",
       "      <td>G</td>\n",
       "    </tr>\n",
       "    <tr>\n",
       "      <th>4217</th>\n",
       "      <td>54.0</td>\n",
       "      <td>zanner</td>\n",
       "      <td>commmerciale et adm</td>\n",
       "      <td>FSEG</td>\n",
       "      <td>61.299999</td>\n",
       "      <td>G</td>\n",
       "      <td>G</td>\n",
       "      <td>A</td>\n",
       "    </tr>\n",
       "    <tr>\n",
       "      <th>4347</th>\n",
       "      <td>53.0</td>\n",
       "      <td>zanner</td>\n",
       "      <td>commmerciale et adm</td>\n",
       "      <td>FSEG</td>\n",
       "      <td>60.599998</td>\n",
       "      <td>G</td>\n",
       "      <td>G</td>\n",
       "      <td>G</td>\n",
       "    </tr>\n",
       "    <tr>\n",
       "      <th>4409</th>\n",
       "      <td>58.0</td>\n",
       "      <td>zanner</td>\n",
       "      <td>commmerciale et adm</td>\n",
       "      <td>FSEG</td>\n",
       "      <td>48.599998</td>\n",
       "      <td>G</td>\n",
       "      <td>A</td>\n",
       "      <td>G</td>\n",
       "    </tr>\n",
       "  </tbody>\n",
       "</table>\n",
       "</div>"
      ],
      "text/plain": [
       "      DIPPERC SCHOOL_RIGHT         OPTION_RIGHT   FAC       CGPA  \\\n",
       "ID                                                                 \n",
       "3895     52.0       zanner  commmerciale et adm  FSEG  59.400002   \n",
       "4048     53.0       zanner  commmerciale et adm  FSEG  40.000000   \n",
       "4217     54.0       zanner  commmerciale et adm  FSEG  61.299999   \n",
       "4347     53.0       zanner  commmerciale et adm  FSEG  60.599998   \n",
       "4409     58.0       zanner  commmerciale et adm  FSEG  48.599998   \n",
       "\n",
       "     DistinctionRatio EchecRatio Pass1stSessionRatio  \n",
       "ID                                                    \n",
       "3895                G          G                   G  \n",
       "4048                G          A                   G  \n",
       "4217                G          G                   A  \n",
       "4347                G          G                   G  \n",
       "4409                G          A                   G  "
      ]
     },
     "execution_count": 5,
     "metadata": {},
     "output_type": "execute_result"
    }
   ],
   "source": [
    "datasetCGPA.head(5)"
   ]
  },
  {
   "cell_type": "markdown",
   "metadata": {},
   "source": [
    "Avant de passer a l'encodage nous allons remplacer certaines écoles moins representé par un et un seul unique groupe  appéle autres école"
   ]
  },
  {
   "cell_type": "code",
   "execution_count": 60,
   "metadata": {
    "scrolled": false
   },
   "outputs": [
    {
     "data": {
      "text/plain": [
       "591"
      ]
     },
     "execution_count": 60,
     "metadata": {},
     "output_type": "execute_result"
    }
   ],
   "source": [
    "len(datasetCGPA.SCHOOL_RIGHT.value_counts())"
   ]
  },
  {
   "cell_type": "markdown",
   "metadata": {},
   "source": [
    "Nous pouvons aisement remarquer que nos étudiant proviennent de plus pret de 600 écoles differentes , nous allons essayer de reduire ces ecoles en essayans de prendre les écoles qui ont un maximum de 6 éleves à la fa"
   ]
  },
  {
   "cell_type": "code",
   "execution_count": 67,
   "metadata": {
    "scrolled": true
   },
   "outputs": [
    {
     "data": {
      "text/plain": [
       "133"
      ]
     },
     "execution_count": 67,
     "metadata": {},
     "output_type": "execute_result"
    }
   ],
   "source": [
    "len(datasetCGPA.SCHOOL_RIGHT.value_counts()[datasetCGPA.SCHOOL_RIGHT.value_counts()>5])"
   ]
  },
  {
   "cell_type": "markdown",
   "metadata": {},
   "source": [
    "Nous pouvons voir que la solution comme suggere ici https://datascience.stackexchange.com/a/9447/30464 nous allons utilser \n",
    "    la technique du one hot encoding suivie par celle de PCA Principal Component analysis pour les attribues comme la valeur de l'ecole de provenance qui dispose de plus de 596 differents valeurs'"
   ]
  },
  {
   "cell_type": "markdown",
   "metadata": {},
   "source": [
    "https://stats.stackexchange.com/questions/2691/making-sense-of-principal-component-analysis-eigenvectors-eigenvalues"
   ]
  },
  {
   "cell_type": "code",
   "execution_count": null,
   "metadata": {
    "collapsed": true
   },
   "outputs": [],
   "source": [
    "datasetCGPA.to_csv('../dataset/DatasetCGPA.csv')\n",
    "datasetFin.to_csv('DatasetFinalV1.csv')\n",
    "Techno.to_csv(\"DatasetTechno.csv\")\n",
    "Medecine.to_csv('DatasetMedecine.csv')\n",
    "Economie.to_csv('DatasetEconomie.csv')\n",
    "Droit.to_csv('DatasetDroit.csv')\n",
    "Sante.to_csv('DatsetSante.csv')\n",
    "Psyco.to_csv('DatasetPsycho.csv')\n",
    "Teologie.to_csv('DatasetTeo.csv')"
   ]
  },
  {
   "cell_type": "markdown",
   "metadata": {},
   "source": [
    "Commencons par proceder à l'encodage des toutes nos  variables categorielle en utilisant notre techique du one hot encoding"
   ]
  },
  {
   "cell_type": "code",
   "execution_count": 4,
   "metadata": {
    "collapsed": true
   },
   "outputs": [],
   "source": []
  },
  {
   "cell_type": "code",
   "execution_count": 6,
   "metadata": {
    "collapsed": true,
    "scrolled": false
   },
   "outputs": [],
   "source": [
    "enc= LabelBinarizer()\n",
    "X_train_1=datasetCGPA[[u'SCHOOLSTATUS', u'SCHOOL_RIGHT', u'OPTION_RIGHT',u'SCHOOLPROVINCE']]\n",
    "X=datasetCGPA[['FAC','CGPA']]\n",
    "catCol=X_train_1.columns\n",
    "for col in catCol:\n",
    "    # creating an exhaustive list of all possible categorical values\n",
    "    \n",
    "    data=dataset[[col]]\n",
    "    enc.fit(data)\n",
    "    # Fitting One Hot Encoding on train data\n",
    "    temp = enc.transform(dataset[[col]])\n",
    "    # Changing the encoded features into a data frame with new column names\n",
    "    temp=pd.DataFrame(temp,columns=[ col + '-' +i for i in data[col].value_counts().index])\n",
    "    # In side by side concatenation index values should be same\n",
    "    # Setting the index values similar to the X_train data frame\n",
    "    temp=temp.set_index(dataset.index)\n",
    "    # adding the new One Hot Encoded varibales to the train data frame\n",
    "    X=pd.merge(temp,X,right_index=True,left_index=True)"
   ]
  },
  {
   "cell_type": "code",
   "execution_count": 7,
   "metadata": {
    "scrolled": false
   },
   "outputs": [
    {
     "data": {
      "text/plain": [
       "645"
      ]
     },
     "execution_count": 7,
     "metadata": {},
     "output_type": "execute_result"
    }
   ],
   "source": [
    "len(dataset.SCHOOL_RIGHT.value_counts()) + len(dataset.OPTION_RIGHT.value_counts()) +len(dataset.SCHOOLSTATUS.value_counts())  +  len(dataset.SCHOOLPROVINCE.value_counts())"
   ]
  },
  {
   "cell_type": "code",
   "execution_count": 21,
   "metadata": {
    "scrolled": false
   },
   "outputs": [
    {
     "data": {
      "text/plain": [
       "Index([u'SCHOOLPROVINCE-NORD-KIVU', u'SCHOOLPROVINCE-SUD-KIVU',\n",
       "       u'SCHOOLPROVINCE-ORIENTALE', u'SCHOOLPROVINCE-KINSHASA',\n",
       "       u'SCHOOLPROVINCE-MANIEMA', u'SCHOOLPROVINCE-inconnu',\n",
       "       u'SCHOOLPROVINCE-KATANGA', u'SCHOOLPROVINCE-BANDUNDU',\n",
       "       u'SCHOOLPROVINCE-KASAI ORIENTAL', u'SCHOOLPROVINCE-EQUATEUR',\n",
       "       ...\n",
       "       u'SCHOOLSTATUS-protestant', u'SCHOOLSTATUS-catholique',\n",
       "       u'SCHOOLSTATUS-publique', u'SCHOOLSTATUS-inconnu',\n",
       "       u'SCHOOLSTATUS-privé', u'SCHOOLSTATUS-autodidacte',\n",
       "       u'SCHOOLSTATUS-musulman', u'SCHOOLSTATUS-kimbanguiste', u'FAC',\n",
       "       u'CGPA'],\n",
       "      dtype='object', length=647)"
      ]
     },
     "execution_count": 21,
     "metadata": {},
     "output_type": "execute_result"
    }
   ],
   "source": [
    "X.columns"
   ]
  },
  {
   "cell_type": "markdown",
   "metadata": {},
   "source": [
    "Après notre encodage nous pouvons aisement remarquer que notre ensemble d'apprentissage vient de passer de (4715, 4 )à (4715 , 647) et nous pouvons constater qu'on vient de l'elargir et ça risque de nous pauser un problème de performences lors de l'execution des algorithmes sur le training set!\n",
    "Nous allons proceder ainsi pour le reste de du travail:\n",
    "- Entrainer les algoritmes au sein de chaque faculté  et evaluer grace à une validation croisée\n",
    "- Ensuite pour l'algorithme SVM nous allons proceder à une reduction des dimensions ensuite comparer les performances des algorithmes avant et après l'evaluation du modèle"
   ]
  },
  {
   "cell_type": "markdown",
   "metadata": {},
   "source": [
    "Comme pour les chapitres précedants nous entrainerons et evaluerons nos modèles facultés par faculté enfin et enfin prédire le maximun de notre variable CGPA au sein de chaque faculté "
   ]
  },
  {
   "cell_type": "markdown",
   "metadata": {},
   "source": [
    "Nous pouvons aussi echelonner notre variable final le cGPA en le divisant par 100"
   ]
  },
  {
   "cell_type": "code",
   "execution_count": 24,
   "metadata": {
    "collapsed": true
   },
   "outputs": [],
   "source": [
    "X.loc[:,'CGPA']=X.CGPA/100"
   ]
  },
  {
   "cell_type": "markdown",
   "metadata": {},
   "source": [
    "##### 1. Faculté de Medecine"
   ]
  },
  {
   "cell_type": "markdown",
   "metadata": {
    "collapsed": true
   },
   "source": [
    "Pour commencer notre entrainement nous alons echantilloner nos donnes pour constituter un ensemble d'apprentissahe (Training set), et un ensemble d'evaluation du modèle (test set)"
   ]
  },
  {
   "cell_type": "code",
   "execution_count": 6,
   "metadata": {
    "collapsed": true
   },
   "outputs": [],
   "source": [
    "Medecine=datasetCGPA.loc[datasetCGPA.FAC=='FM']"
   ]
  },
  {
   "cell_type": "markdown",
   "metadata": {},
   "source": [
    "Nous allons avant tous standariser le poucentage pour un bon calcul nous allons le diviser par 100"
   ]
  },
  {
   "cell_type": "code",
   "execution_count": 37,
   "metadata": {
    "scrolled": true
   },
   "outputs": [
    {
     "name": "stderr",
     "output_type": "stream",
     "text": [
      "/Users/espyMur/Desktop/Memory-WorkingDir/memoryVenv/lib/python2.7/site-packages/pandas/core/indexing.py:477: SettingWithCopyWarning: \n",
      "A value is trying to be set on a copy of a slice from a DataFrame.\n",
      "Try using .loc[row_indexer,col_indexer] = value instead\n",
      "\n",
      "See the caveats in the documentation: http://pandas.pydata.org/pandas-docs/stable/indexing.html#indexing-view-versus-copy\n",
      "  self.obj[item] = s\n"
     ]
    }
   ],
   "source": [
    "Medecine.loc[:,'DIPPERC']=Medecine.DIPPERC/100"
   ]
  },
  {
   "cell_type": "code",
   "execution_count": 38,
   "metadata": {
    "collapsed": true
   },
   "outputs": [],
   "source": [
    "Medecine.loc[:,'CGPA']=Medecine.CGPA/100"
   ]
  },
  {
   "cell_type": "code",
   "execution_count": 39,
   "metadata": {},
   "outputs": [
    {
     "data": {
      "text/html": [
       "<div>\n",
       "<table border=\"1\" class=\"dataframe\">\n",
       "  <thead>\n",
       "    <tr style=\"text-align: right;\">\n",
       "      <th></th>\n",
       "      <th>ID</th>\n",
       "      <th>DIPPERC</th>\n",
       "      <th>SCHOOL_RIGHT</th>\n",
       "      <th>OPTION_RIGHT</th>\n",
       "      <th>FAC</th>\n",
       "      <th>CGPA</th>\n",
       "      <th>DistinctionRatio</th>\n",
       "      <th>EchecRatio</th>\n",
       "      <th>Pass1stSessionRatio</th>\n",
       "    </tr>\n",
       "  </thead>\n",
       "  <tbody>\n",
       "    <tr>\n",
       "      <th>0</th>\n",
       "      <td>10384</td>\n",
       "      <td>0.590000</td>\n",
       "      <td>zanner</td>\n",
       "      <td>latin philo</td>\n",
       "      <td>FM</td>\n",
       "      <td>0.5915</td>\n",
       "      <td>G</td>\n",
       "      <td>G</td>\n",
       "      <td>G</td>\n",
       "    </tr>\n",
       "    <tr>\n",
       "      <th>1</th>\n",
       "      <td>11610</td>\n",
       "      <td>0.520000</td>\n",
       "      <td>zanner</td>\n",
       "      <td>latin philo</td>\n",
       "      <td>FM</td>\n",
       "      <td>0.4400</td>\n",
       "      <td>G</td>\n",
       "      <td>A</td>\n",
       "      <td>G</td>\n",
       "    </tr>\n",
       "    <tr>\n",
       "      <th>2</th>\n",
       "      <td>10159</td>\n",
       "      <td>0.568765</td>\n",
       "      <td>iti gombe</td>\n",
       "      <td>vétérinaire</td>\n",
       "      <td>FM</td>\n",
       "      <td>0.5805</td>\n",
       "      <td>G</td>\n",
       "      <td>G</td>\n",
       "      <td>G</td>\n",
       "    </tr>\n",
       "    <tr>\n",
       "      <th>3</th>\n",
       "      <td>11776</td>\n",
       "      <td>0.510000</td>\n",
       "      <td>masisi</td>\n",
       "      <td>latin philo</td>\n",
       "      <td>FM</td>\n",
       "      <td>0.4200</td>\n",
       "      <td>G</td>\n",
       "      <td>A</td>\n",
       "      <td>G</td>\n",
       "    </tr>\n",
       "    <tr>\n",
       "      <th>4</th>\n",
       "      <td>10411</td>\n",
       "      <td>0.570000</td>\n",
       "      <td>ndosho</td>\n",
       "      <td>pedagogie</td>\n",
       "      <td>FM</td>\n",
       "      <td>0.4900</td>\n",
       "      <td>G</td>\n",
       "      <td>A</td>\n",
       "      <td>G</td>\n",
       "    </tr>\n",
       "    <tr>\n",
       "      <th>5</th>\n",
       "      <td>10093</td>\n",
       "      <td>0.530000</td>\n",
       "      <td>himbi</td>\n",
       "      <td>latin philo</td>\n",
       "      <td>FM</td>\n",
       "      <td>0.5880</td>\n",
       "      <td>G</td>\n",
       "      <td>G</td>\n",
       "      <td>D</td>\n",
       "    </tr>\n",
       "  </tbody>\n",
       "</table>\n",
       "</div>"
      ],
      "text/plain": [
       "      ID   DIPPERC SCHOOL_RIGHT OPTION_RIGHT FAC    CGPA DistinctionRatio  \\\n",
       "0  10384  0.590000       zanner  latin philo  FM  0.5915                G   \n",
       "1  11610  0.520000       zanner  latin philo  FM  0.4400                G   \n",
       "2  10159  0.568765    iti gombe  vétérinaire  FM  0.5805                G   \n",
       "3  11776  0.510000       masisi  latin philo  FM  0.4200                G   \n",
       "4  10411  0.570000       ndosho    pedagogie  FM  0.4900                G   \n",
       "5  10093  0.530000        himbi  latin philo  FM  0.5880                G   \n",
       "\n",
       "  EchecRatio Pass1stSessionRatio  \n",
       "0          G                   G  \n",
       "1          A                   G  \n",
       "2          G                   G  \n",
       "3          A                   G  \n",
       "4          A                   G  \n",
       "5          G                   D  "
      ]
     },
     "execution_count": 39,
     "metadata": {},
     "output_type": "execute_result"
    }
   ],
   "source": [
    "Medecine.head(6)"
   ]
  },
  {
   "cell_type": "markdown",
   "metadata": {},
   "source": [
    "Dans une premiere approche nous allons constituer notre training set et test set qui sera representatif des nos données "
   ]
  },
  {
   "cell_type": "markdown",
   "metadata": {},
   "source": [
    "Nous allons proceder à un echantillonage stratifier pour constituer notre training set et notre test set nous prendrons les individus dans 2 categories differentes ceux qui ont un CGPA superieur à 50% et ceux dont le CPGA est inferieur à 50%"
   ]
  },
  {
   "cell_type": "code",
   "execution_count": 8,
   "metadata": {},
   "outputs": [
    {
     "data": {
      "text/plain": [
       "25"
      ]
     },
     "execution_count": 8,
     "metadata": {},
     "output_type": "execute_result"
    }
   ],
   "source": [
    "len(Medecine.loc[Medecine.CGPA<.55])*100/len(Medecine)"
   ]
  },
  {
   "cell_type": "code",
   "execution_count": 27,
   "metadata": {
    "scrolled": true
   },
   "outputs": [
    {
     "data": {
      "text/plain": [
       "74"
      ]
     },
     "execution_count": 27,
     "metadata": {},
     "output_type": "execute_result"
    }
   ],
   "source": [
    "len(Medecine.loc[Medecine.CGPA>=.55])*100/len(Medecine)"
   ]
  },
  {
   "cell_type": "code",
   "execution_count": 93,
   "metadata": {},
   "outputs": [
    {
     "data": {
      "text/plain": [
       "28"
      ]
     },
     "execution_count": 93,
     "metadata": {},
     "output_type": "execute_result"
    }
   ],
   "source": [
    "len(Medecine.loc[Medecine.DIPPERC<.55])*100/len(Medecine)"
   ]
  },
  {
   "cell_type": "code",
   "execution_count": 94,
   "metadata": {},
   "outputs": [
    {
     "data": {
      "text/plain": [
       "71"
      ]
     },
     "execution_count": 94,
     "metadata": {},
     "output_type": "execute_result"
    }
   ],
   "source": [
    "len(Medecine.loc[Medecine.DIPPERC>=.55])*100/len(Medecine)"
   ]
  },
  {
   "cell_type": "markdown",
   "metadata": {},
   "source": [
    "Nous allons efefctuer un  echantillonager stratifier dans chaque categorie des nos variables echec ratio, distinction ratio, Passage en premiere session ratio ensuite cree une union des indices pour avoir un ensemble d'apprentissage et un ensemble d'evaluation."
   ]
  },
  {
   "cell_type": "code",
   "execution_count": 110,
   "metadata": {
    "collapsed": true
   },
   "outputs": [],
   "source": [
    "Medecine_bin=ConvertCat(Medecine,catCol=['SCHOOL_RIGHT', 'OPTION_RIGHT'],numCol=['DIPPERC','CGPA','EchecRatio'])"
   ]
  },
  {
   "cell_type": "code",
   "execution_count": 111,
   "metadata": {
    "collapsed": true
   },
   "outputs": [],
   "source": [
    "Medecine_bin.reset_index(inplace=True)"
   ]
  },
  {
   "cell_type": "code",
   "execution_count": 112,
   "metadata": {},
   "outputs": [
    {
     "data": {
      "text/plain": [
       "(242, 111)"
      ]
     },
     "execution_count": 112,
     "metadata": {},
     "output_type": "execute_result"
    }
   ],
   "source": [
    "Medecine_bin.shape"
   ]
  },
  {
   "cell_type": "code",
   "execution_count": 113,
   "metadata": {
    "collapsed": true
   },
   "outputs": [],
   "source": [
    "from sklearn.model_selection import StratifiedShuffleSplit"
   ]
  },
  {
   "cell_type": "code",
   "execution_count": 114,
   "metadata": {
    "collapsed": true
   },
   "outputs": [],
   "source": [
    "split = StratifiedShuffleSplit(n_splits=1, test_size=0.2, random_state=42)"
   ]
  },
  {
   "cell_type": "code",
   "execution_count": 115,
   "metadata": {
    "collapsed": true,
    "scrolled": false
   },
   "outputs": [],
   "source": [
    "for train_index, test_index in split.split(Medecine_bin, Medecine_bin.EchecRatio):\n",
    "    Med_Train_bin=Medecine_bin.loc[train_index]\n",
    "    Med_Test_bin=Medecine_bin.loc[test_index]"
   ]
  },
  {
   "cell_type": "code",
   "execution_count": 120,
   "metadata": {
    "scrolled": true
   },
   "outputs": [
    {
     "data": {
      "text/html": [
       "<div>\n",
       "<table border=\"1\" class=\"dataframe\">\n",
       "  <thead>\n",
       "    <tr style=\"text-align: right;\">\n",
       "      <th></th>\n",
       "      <th>index</th>\n",
       "      <th>OPTION_RIGHT-bio-chimie</th>\n",
       "      <th>OPTION_RIGHT-pedagogie</th>\n",
       "      <th>OPTION_RIGHT-sociale</th>\n",
       "      <th>OPTION_RIGHT-nutr</th>\n",
       "      <th>OPTION_RIGHT-math-physique</th>\n",
       "      <th>OPTION_RIGHT-latin philo</th>\n",
       "      <th>OPTION_RIGHT-commmerciale et adm</th>\n",
       "      <th>OPTION_RIGHT-vétérinaire</th>\n",
       "      <th>OPTION_RIGHT-commerciale informatique</th>\n",
       "      <th>...</th>\n",
       "      <th>SCHOOL_RIGHT-nyakasaza</th>\n",
       "      <th>SCHOOL_RIGHT-neema kwetu</th>\n",
       "      <th>SCHOOL_RIGHT-masisi</th>\n",
       "      <th>SCHOOL_RIGHT-mikeno islamique</th>\n",
       "      <th>SCHOOL_RIGHT-ludaha</th>\n",
       "      <th>SCHOOL_RIGHT-kyeshero</th>\n",
       "      <th>SCHOOL_RIGHT-isoko</th>\n",
       "      <th>DIPPERC</th>\n",
       "      <th>CGPA</th>\n",
       "      <th>EchecRatio</th>\n",
       "    </tr>\n",
       "  </thead>\n",
       "  <tbody>\n",
       "    <tr>\n",
       "      <th>178</th>\n",
       "      <td>178</td>\n",
       "      <td>0</td>\n",
       "      <td>0</td>\n",
       "      <td>1</td>\n",
       "      <td>0</td>\n",
       "      <td>0</td>\n",
       "      <td>0</td>\n",
       "      <td>0</td>\n",
       "      <td>0</td>\n",
       "      <td>0</td>\n",
       "      <td>...</td>\n",
       "      <td>0</td>\n",
       "      <td>0</td>\n",
       "      <td>0</td>\n",
       "      <td>0</td>\n",
       "      <td>0</td>\n",
       "      <td>0</td>\n",
       "      <td>0</td>\n",
       "      <td>0.55</td>\n",
       "      <td>0.543</td>\n",
       "      <td>A</td>\n",
       "    </tr>\n",
       "  </tbody>\n",
       "</table>\n",
       "<p>1 rows × 111 columns</p>\n",
       "</div>"
      ],
      "text/plain": [
       "     index  OPTION_RIGHT-bio-chimie  OPTION_RIGHT-pedagogie  \\\n",
       "178    178                        0                       0   \n",
       "\n",
       "     OPTION_RIGHT-sociale  OPTION_RIGHT-nutr  OPTION_RIGHT-math-physique  \\\n",
       "178                     1                  0                           0   \n",
       "\n",
       "     OPTION_RIGHT-latin philo  OPTION_RIGHT-commmerciale et adm  \\\n",
       "178                         0                                 0   \n",
       "\n",
       "     OPTION_RIGHT-vétérinaire  OPTION_RIGHT-commerciale informatique  \\\n",
       "178                         0                                      0   \n",
       "\n",
       "        ...      SCHOOL_RIGHT-nyakasaza  SCHOOL_RIGHT-neema kwetu  \\\n",
       "178     ...                           0                         0   \n",
       "\n",
       "     SCHOOL_RIGHT-masisi  SCHOOL_RIGHT-mikeno islamique  SCHOOL_RIGHT-ludaha  \\\n",
       "178                    0                              0                    0   \n",
       "\n",
       "     SCHOOL_RIGHT-kyeshero  SCHOOL_RIGHT-isoko  DIPPERC   CGPA  EchecRatio  \n",
       "178                      0                   0     0.55  0.543           A  \n",
       "\n",
       "[1 rows x 111 columns]"
      ]
     },
     "execution_count": 120,
     "metadata": {},
     "output_type": "execute_result"
    }
   ],
   "source": [
    "Med_Test_bin.head(1)"
   ]
  },
  {
   "cell_type": "code",
   "execution_count": 117,
   "metadata": {},
   "outputs": [
    {
     "data": {
      "text/plain": [
       "(193, 111)"
      ]
     },
     "execution_count": 117,
     "metadata": {},
     "output_type": "execute_result"
    }
   ],
   "source": [
    "Med_Train_bin.shape"
   ]
  },
  {
   "cell_type": "code",
   "execution_count": 15,
   "metadata": {
    "scrolled": true
   },
   "outputs": [
    {
     "data": {
      "text/plain": [
       "28.497409326424872"
      ]
     },
     "execution_count": 15,
     "metadata": {},
     "output_type": "execute_result"
    }
   ],
   "source": [
    "len(Med_Train.loc[Med_Train.DIPPERC<55])*100/float(len(Med_Train))"
   ]
  },
  {
   "cell_type": "code",
   "execution_count": 16,
   "metadata": {},
   "outputs": [
    {
     "data": {
      "text/plain": [
       "28.571428571428573"
      ]
     },
     "execution_count": 16,
     "metadata": {},
     "output_type": "execute_result"
    }
   ],
   "source": [
    "len(Med_Test.loc[Med_Test.DIPPERC<55])*100/float(len(Med_Test))"
   ]
  },
  {
   "cell_type": "code",
   "execution_count": 17,
   "metadata": {},
   "outputs": [
    {
     "data": {
      "text/plain": [
       "25.906735751295336"
      ]
     },
     "execution_count": 17,
     "metadata": {},
     "output_type": "execute_result"
    }
   ],
   "source": [
    "len(Med_Train.loc[Med_Train.CGPA<55])*100/float(len(Med_Train))"
   ]
  },
  {
   "cell_type": "code",
   "execution_count": 18,
   "metadata": {},
   "outputs": [
    {
     "data": {
      "text/plain": [
       "24.489795918367346"
      ]
     },
     "execution_count": 18,
     "metadata": {},
     "output_type": "execute_result"
    }
   ],
   "source": [
    "len(Med_Test.loc[Med_Test.CGPA<55])*100/float(len(Med_Test))"
   ]
  },
  {
   "cell_type": "markdown",
   "metadata": {},
   "source": [
    "Nous allons effetuer un echantillonage stratifier en fonction de la colonne echec ratio, nous allons prendre les individus deans chque categrie"
   ]
  },
  {
   "cell_type": "markdown",
   "metadata": {},
   "source": [
    "nous pouvons constater que notre echantilonage est bien effectuer car les proportions des diplome percentage et CGPA sont bien respecté"
   ]
  },
  {
   "cell_type": "markdown",
   "metadata": {},
   "source": [
    "Apres la construction de nos 2 ensembles nous pouvons passer à l'encodage de nos données "
   ]
  },
  {
   "cell_type": "code",
   "execution_count": 121,
   "metadata": {
    "collapsed": true,
    "scrolled": false
   },
   "outputs": [],
   "source": [
    "Med_Train_bin.set_index(keys='index',inplace=True)\n",
    "Med_Test_bin.set_index(keys='index',inplace=True)"
   ]
  },
  {
   "cell_type": "code",
   "execution_count": 21,
   "metadata": {
    "collapsed": true
   },
   "outputs": [],
   "source": [
    "def ConvertCat(dataset, catCol,numCol):\n",
    "    \"\"\"this function will binarize a dataset given in parametrer and return the dataset with categorical columns binarise by one-hot encoding\"\"\"\n",
    "    enc= LabelBinarizer()\n",
    "    X_train_1=dataset[catCol]\n",
    "    X=dataset[numCol]\n",
    "    catCol=X_train_1.columns\n",
    "    for col in catCol:\n",
    "        data=dataset[[col]]\n",
    "        enc.fit(data)\n",
    "        # Fitting One Hot Encoding on train data\n",
    "        temp = enc.transform(dataset[[col]])\n",
    "        # Changing the encoded features into a data frame with new column names\n",
    "        temp=pd.DataFrame(temp,columns=[ col + '-' +i for i in data[col].value_counts().index])\n",
    "        # In side by side concatenation index values should be same\n",
    "        # Setting the index values similar to the X_train data frame\n",
    "        temp=temp.set_index(dataset.index)\n",
    "        # adding the new One Hot Encoded varibales to the train data frame\n",
    "        X=pd.merge(temp,X,right_index=True,left_index=True)\n",
    "    return X"
   ]
  },
  {
   "cell_type": "markdown",
   "metadata": {},
   "source": [
    "Une fois la binerisation terminée nous allons debuter avec l'entrainement de nos models d'apprentissages :"
   ]
  },
  {
   "cell_type": "markdown",
   "metadata": {},
   "source": [
    "Pour commencer nous allons nous referer au cheatsheet de skleran pour debuter avec l'entrainement de nos differents modèles."
   ]
  },
  {
   "cell_type": "markdown",
   "metadata": {},
   "source": [
    "### 1. Alogritme de Prediction : Regression Lineaire avec gradient descent"
   ]
  },
  {
   "cell_type": "markdown",
   "metadata": {},
   "source": [
    "Pour la premierre approche nous allons effectuer une regression lineare en utilisant l'algoritmne SGD ensuite nous evaluerons les preformance du modèle."
   ]
  },
  {
   "cell_type": "markdown",
   "metadata": {},
   "source": [
    "Commencons par charger notre modèle :"
   ]
  },
  {
   "cell_type": "code",
   "execution_count": 47,
   "metadata": {
    "collapsed": true
   },
   "outputs": [],
   "source": [
    "from sklearn.linear_model import SGDRegressor"
   ]
  },
  {
   "cell_type": "code",
   "execution_count": 48,
   "metadata": {
    "collapsed": true
   },
   "outputs": [],
   "source": [
    "lin_reg=SGDRegressor(learning_rate='optimal',n_iter=5)"
   ]
  },
  {
   "cell_type": "code",
   "execution_count": 122,
   "metadata": {
    "collapsed": true,
    "scrolled": true
   },
   "outputs": [],
   "source": [
    "Y_Train=Med_Train_bin.CGPA\n",
    "X_Train=Med_Train_bin.drop(labels=['CGPA','EchecRatio'],axis=1)\n",
    "Y_Test=Med_Test_bin.CGPA\n",
    "X_Test=Med_Test_bin.drop(labels=['CGPA','EchecRatio'],axis=1)"
   ]
  },
  {
   "cell_type": "code",
   "execution_count": 123,
   "metadata": {
    "scrolled": false
   },
   "outputs": [
    {
     "data": {
      "text/html": [
       "<div>\n",
       "<table border=\"1\" class=\"dataframe\">\n",
       "  <thead>\n",
       "    <tr style=\"text-align: right;\">\n",
       "      <th></th>\n",
       "      <th>OPTION_RIGHT-bio-chimie</th>\n",
       "      <th>OPTION_RIGHT-pedagogie</th>\n",
       "      <th>OPTION_RIGHT-sociale</th>\n",
       "      <th>OPTION_RIGHT-nutr</th>\n",
       "      <th>OPTION_RIGHT-math-physique</th>\n",
       "      <th>OPTION_RIGHT-latin philo</th>\n",
       "      <th>OPTION_RIGHT-commmerciale et adm</th>\n",
       "      <th>OPTION_RIGHT-vétérinaire</th>\n",
       "      <th>OPTION_RIGHT-commerciale informatique</th>\n",
       "      <th>OPTION_RIGHT-elec indust</th>\n",
       "      <th>...</th>\n",
       "      <th>SCHOOL_RIGHT-de bukavu</th>\n",
       "      <th>SCHOOL_RIGHT-isingo</th>\n",
       "      <th>SCHOOL_RIGHT-nyakasaza</th>\n",
       "      <th>SCHOOL_RIGHT-neema kwetu</th>\n",
       "      <th>SCHOOL_RIGHT-masisi</th>\n",
       "      <th>SCHOOL_RIGHT-mikeno islamique</th>\n",
       "      <th>SCHOOL_RIGHT-ludaha</th>\n",
       "      <th>SCHOOL_RIGHT-kyeshero</th>\n",
       "      <th>SCHOOL_RIGHT-isoko</th>\n",
       "      <th>DIPPERC</th>\n",
       "    </tr>\n",
       "    <tr>\n",
       "      <th>index</th>\n",
       "      <th></th>\n",
       "      <th></th>\n",
       "      <th></th>\n",
       "      <th></th>\n",
       "      <th></th>\n",
       "      <th></th>\n",
       "      <th></th>\n",
       "      <th></th>\n",
       "      <th></th>\n",
       "      <th></th>\n",
       "      <th></th>\n",
       "      <th></th>\n",
       "      <th></th>\n",
       "      <th></th>\n",
       "      <th></th>\n",
       "      <th></th>\n",
       "      <th></th>\n",
       "      <th></th>\n",
       "      <th></th>\n",
       "      <th></th>\n",
       "      <th></th>\n",
       "    </tr>\n",
       "  </thead>\n",
       "  <tbody>\n",
       "    <tr>\n",
       "      <th>67</th>\n",
       "      <td>0</td>\n",
       "      <td>0</td>\n",
       "      <td>1</td>\n",
       "      <td>0</td>\n",
       "      <td>0</td>\n",
       "      <td>0</td>\n",
       "      <td>0</td>\n",
       "      <td>0</td>\n",
       "      <td>0</td>\n",
       "      <td>0</td>\n",
       "      <td>...</td>\n",
       "      <td>0</td>\n",
       "      <td>0</td>\n",
       "      <td>0</td>\n",
       "      <td>0</td>\n",
       "      <td>0</td>\n",
       "      <td>0</td>\n",
       "      <td>0</td>\n",
       "      <td>0</td>\n",
       "      <td>0</td>\n",
       "      <td>0.58</td>\n",
       "    </tr>\n",
       "    <tr>\n",
       "      <th>153</th>\n",
       "      <td>0</td>\n",
       "      <td>0</td>\n",
       "      <td>1</td>\n",
       "      <td>0</td>\n",
       "      <td>0</td>\n",
       "      <td>0</td>\n",
       "      <td>0</td>\n",
       "      <td>0</td>\n",
       "      <td>0</td>\n",
       "      <td>0</td>\n",
       "      <td>...</td>\n",
       "      <td>0</td>\n",
       "      <td>0</td>\n",
       "      <td>0</td>\n",
       "      <td>0</td>\n",
       "      <td>0</td>\n",
       "      <td>0</td>\n",
       "      <td>0</td>\n",
       "      <td>0</td>\n",
       "      <td>0</td>\n",
       "      <td>0.75</td>\n",
       "    </tr>\n",
       "    <tr>\n",
       "      <th>94</th>\n",
       "      <td>0</td>\n",
       "      <td>0</td>\n",
       "      <td>0</td>\n",
       "      <td>0</td>\n",
       "      <td>0</td>\n",
       "      <td>0</td>\n",
       "      <td>0</td>\n",
       "      <td>0</td>\n",
       "      <td>0</td>\n",
       "      <td>1</td>\n",
       "      <td>...</td>\n",
       "      <td>0</td>\n",
       "      <td>0</td>\n",
       "      <td>0</td>\n",
       "      <td>0</td>\n",
       "      <td>1</td>\n",
       "      <td>0</td>\n",
       "      <td>0</td>\n",
       "      <td>0</td>\n",
       "      <td>0</td>\n",
       "      <td>0.61</td>\n",
       "    </tr>\n",
       "    <tr>\n",
       "      <th>11</th>\n",
       "      <td>0</td>\n",
       "      <td>0</td>\n",
       "      <td>0</td>\n",
       "      <td>0</td>\n",
       "      <td>0</td>\n",
       "      <td>0</td>\n",
       "      <td>0</td>\n",
       "      <td>0</td>\n",
       "      <td>0</td>\n",
       "      <td>1</td>\n",
       "      <td>...</td>\n",
       "      <td>0</td>\n",
       "      <td>0</td>\n",
       "      <td>0</td>\n",
       "      <td>0</td>\n",
       "      <td>0</td>\n",
       "      <td>0</td>\n",
       "      <td>0</td>\n",
       "      <td>0</td>\n",
       "      <td>0</td>\n",
       "      <td>0.59</td>\n",
       "    </tr>\n",
       "    <tr>\n",
       "      <th>191</th>\n",
       "      <td>0</td>\n",
       "      <td>0</td>\n",
       "      <td>1</td>\n",
       "      <td>0</td>\n",
       "      <td>0</td>\n",
       "      <td>0</td>\n",
       "      <td>0</td>\n",
       "      <td>0</td>\n",
       "      <td>0</td>\n",
       "      <td>0</td>\n",
       "      <td>...</td>\n",
       "      <td>0</td>\n",
       "      <td>0</td>\n",
       "      <td>0</td>\n",
       "      <td>0</td>\n",
       "      <td>0</td>\n",
       "      <td>0</td>\n",
       "      <td>0</td>\n",
       "      <td>0</td>\n",
       "      <td>0</td>\n",
       "      <td>0.52</td>\n",
       "    </tr>\n",
       "  </tbody>\n",
       "</table>\n",
       "<p>5 rows × 108 columns</p>\n",
       "</div>"
      ],
      "text/plain": [
       "       OPTION_RIGHT-bio-chimie  OPTION_RIGHT-pedagogie  OPTION_RIGHT-sociale  \\\n",
       "index                                                                          \n",
       "67                           0                       0                     1   \n",
       "153                          0                       0                     1   \n",
       "94                           0                       0                     0   \n",
       "11                           0                       0                     0   \n",
       "191                          0                       0                     1   \n",
       "\n",
       "       OPTION_RIGHT-nutr  OPTION_RIGHT-math-physique  \\\n",
       "index                                                  \n",
       "67                     0                           0   \n",
       "153                    0                           0   \n",
       "94                     0                           0   \n",
       "11                     0                           0   \n",
       "191                    0                           0   \n",
       "\n",
       "       OPTION_RIGHT-latin philo  OPTION_RIGHT-commmerciale et adm  \\\n",
       "index                                                               \n",
       "67                            0                                 0   \n",
       "153                           0                                 0   \n",
       "94                            0                                 0   \n",
       "11                            0                                 0   \n",
       "191                           0                                 0   \n",
       "\n",
       "       OPTION_RIGHT-vétérinaire  OPTION_RIGHT-commerciale informatique  \\\n",
       "index                                                                    \n",
       "67                            0                                      0   \n",
       "153                           0                                      0   \n",
       "94                            0                                      0   \n",
       "11                            0                                      0   \n",
       "191                           0                                      0   \n",
       "\n",
       "       OPTION_RIGHT-elec indust   ...     SCHOOL_RIGHT-de bukavu  \\\n",
       "index                             ...                              \n",
       "67                            0   ...                          0   \n",
       "153                           0   ...                          0   \n",
       "94                            1   ...                          0   \n",
       "11                            1   ...                          0   \n",
       "191                           0   ...                          0   \n",
       "\n",
       "       SCHOOL_RIGHT-isingo  SCHOOL_RIGHT-nyakasaza  SCHOOL_RIGHT-neema kwetu  \\\n",
       "index                                                                          \n",
       "67                       0                       0                         0   \n",
       "153                      0                       0                         0   \n",
       "94                       0                       0                         0   \n",
       "11                       0                       0                         0   \n",
       "191                      0                       0                         0   \n",
       "\n",
       "       SCHOOL_RIGHT-masisi  SCHOOL_RIGHT-mikeno islamique  \\\n",
       "index                                                       \n",
       "67                       0                              0   \n",
       "153                      0                              0   \n",
       "94                       1                              0   \n",
       "11                       0                              0   \n",
       "191                      0                              0   \n",
       "\n",
       "       SCHOOL_RIGHT-ludaha  SCHOOL_RIGHT-kyeshero  SCHOOL_RIGHT-isoko  DIPPERC  \n",
       "index                                                                           \n",
       "67                       0                      0                   0     0.58  \n",
       "153                      0                      0                   0     0.75  \n",
       "94                       0                      0                   0     0.61  \n",
       "11                       0                      0                   0     0.59  \n",
       "191                      0                      0                   0     0.52  \n",
       "\n",
       "[5 rows x 108 columns]"
      ]
     },
     "execution_count": 123,
     "metadata": {},
     "output_type": "execute_result"
    }
   ],
   "source": [
    "X_Train[:5]"
   ]
  },
  {
   "cell_type": "code",
   "execution_count": 124,
   "metadata": {
    "scrolled": true
   },
   "outputs": [
    {
     "data": {
      "text/plain": [
       "index\n",
       "67     0.6195\n",
       "153    0.6075\n",
       "94     0.5985\n",
       "11     0.5980\n",
       "191    0.5390\n",
       "Name: CGPA, dtype: float64"
      ]
     },
     "execution_count": 124,
     "metadata": {},
     "output_type": "execute_result"
    }
   ],
   "source": [
    "Y_Train[:5]"
   ]
  },
  {
   "cell_type": "code",
   "execution_count": 126,
   "metadata": {},
   "outputs": [
    {
     "data": {
      "text/plain": [
       "ID                          10395\n",
       "DIPPERC                      0.58\n",
       "SCHOOL_RIGHT              thabiti\n",
       "OPTION_RIGHT           bio-chimie\n",
       "FAC                            FM\n",
       "CGPA                       0.6195\n",
       "DistinctionRatio                G\n",
       "EchecRatio                      G\n",
       "Pass1stSessionRatio             G\n",
       "Name: 67, dtype: object"
      ]
     },
     "execution_count": 126,
     "metadata": {},
     "output_type": "execute_result"
    }
   ],
   "source": [
    "Medecine.loc[67]"
   ]
  },
  {
   "cell_type": "code",
   "execution_count": 127,
   "metadata": {
    "scrolled": false
   },
   "outputs": [
    {
     "data": {
      "text/plain": [
       "SGDRegressor(alpha=0.0001, average=False, epsilon=0.1, eta0=0.01,\n",
       "       fit_intercept=True, l1_ratio=0.15, learning_rate='optimal',\n",
       "       loss='squared_loss', n_iter=5, penalty='l2', power_t=0.25,\n",
       "       random_state=None, shuffle=True, verbose=0, warm_start=False)"
      ]
     },
     "execution_count": 127,
     "metadata": {},
     "output_type": "execute_result"
    }
   ],
   "source": [
    "lin_reg.fit(X_Train,Y_Train)"
   ]
  },
  {
   "cell_type": "code",
   "execution_count": 128,
   "metadata": {
    "scrolled": false
   },
   "outputs": [
    {
     "name": "stdout",
     "output_type": "stream",
     "text": [
      "('Predictions:\\t', array([ -2.84799063e+12,   3.75899644e+12,   1.43017621e+13,\n",
      "         2.43067865e+13,  -3.38281559e+12]))\n",
      "('Labels:\\t\\t', [0.61950000762899993, 0.60750000000000004, 0.59849998474099997, 0.59800001144399995, 0.53899999618500005])\n"
     ]
    }
   ],
   "source": [
    "some_data = X_Train.iloc[:5]\n",
    "some_labels = Y_Train.iloc[:5]\n",
    "print(\"Predictions:\\t\", lin_reg.predict(some_data))\n",
    "print(\"Labels:\\t\\t\", list(some_labels))"
   ]
  },
  {
   "cell_type": "markdown",
   "metadata": {},
   "source": [
    "Après notre premierre approche on remqrque que notre modèle est très mal construit"
   ]
  },
  {
   "cell_type": "markdown",
   "metadata": {},
   "source": [
    "Essayons une evaluation avec le RMSE"
   ]
  },
  {
   "cell_type": "code",
   "execution_count": 78,
   "metadata": {},
   "outputs": [
    {
     "data": {
      "text/plain": [
       "13343427426329.395"
      ]
     },
     "execution_count": 78,
     "metadata": {},
     "output_type": "execute_result"
    }
   ],
   "source": [
    "from sklearn.metrics import mean_squared_error\n",
    "CGPA_predictions = lin_reg.predict(X_Train)\n",
    "lin_mse = mean_squared_error(Y_Train, CGPA_predictions)\n",
    "lin_rmse=np.sqrt(lin_mse)\n",
    "lin_rmse"
   ]
  },
  {
   "cell_type": "markdown",
   "metadata": {},
   "source": [
    "Comme souligner à l'appendice comme notre ensemble d'apprentissage n'est pas assez grand nous pouvons conclure que au vue de l'erreur que nous avions obtenu et notre taille del'echantillons que le SGD algoritme ne convient pas '"
   ]
  },
  {
   "cell_type": "code",
   "execution_count": null,
   "metadata": {
    "collapsed": true
   },
   "outputs": [],
   "source": []
  },
  {
   "cell_type": "markdown",
   "metadata": {},
   "source": [
    "##### 2. Modele des Regression Regularisée"
   ]
  },
  {
   "cell_type": "markdown",
   "metadata": {},
   "source": [
    "Comme notre ensemble d'apprentissage est relativement petit nous entrainerons une regression rigide"
   ]
  },
  {
   "cell_type": "code",
   "execution_count": 81,
   "metadata": {
    "collapsed": true
   },
   "outputs": [],
   "source": [
    "from sklearn.linear_model import Ridge"
   ]
  },
  {
   "cell_type": "code",
   "execution_count": 82,
   "metadata": {
    "collapsed": true
   },
   "outputs": [],
   "source": [
    "ridge_reg=Ridge(alpha=1, solver=\"cholesky\")"
   ]
  },
  {
   "cell_type": "code",
   "execution_count": 129,
   "metadata": {
    "scrolled": true
   },
   "outputs": [
    {
     "data": {
      "text/plain": [
       "Ridge(alpha=1, copy_X=True, fit_intercept=True, max_iter=None,\n",
       "   normalize=False, random_state=None, solver='cholesky', tol=0.001)"
      ]
     },
     "execution_count": 129,
     "metadata": {},
     "output_type": "execute_result"
    }
   ],
   "source": [
    "ridge_reg.fit(X_Train,Y_Train)"
   ]
  },
  {
   "cell_type": "code",
   "execution_count": 130,
   "metadata": {
    "scrolled": true
   },
   "outputs": [
    {
     "name": "stdout",
     "output_type": "stream",
     "text": [
      "('Predictions:\\t', array([ 0.59944748,  0.63019844,  0.60140417,  0.57957184,  0.55494894]))\n",
      "('Labels:\\t\\t', [0.61950000762899993, 0.60750000000000004, 0.59849998474099997, 0.59800001144399995, 0.53899999618500005])\n"
     ]
    }
   ],
   "source": [
    "some_data = X_Train.iloc[:5]\n",
    "some_labels = Y_Train.iloc[:5]\n",
    "print(\"Predictions:\\t\", ridge_reg.predict(some_data))\n",
    "print(\"Labels:\\t\\t\", list(some_labels))"
   ]
  },
  {
   "cell_type": "markdown",
   "metadata": {},
   "source": [
    "Avec cette seconde approche nous remarquons que notre modèle commence à s'ameliorer"
   ]
  },
  {
   "cell_type": "markdown",
   "metadata": {},
   "source": [
    "Essayons une evaluation avec le RMSE"
   ]
  },
  {
   "cell_type": "code",
   "execution_count": 134,
   "metadata": {
    "scrolled": true
   },
   "outputs": [
    {
     "data": {
      "text/plain": [
       "0.046650628919065386"
      ]
     },
     "execution_count": 134,
     "metadata": {},
     "output_type": "execute_result"
    }
   ],
   "source": [
    "from sklearn.metrics import mean_squared_error\n",
    "CGPA_predictions = ridge_reg.predict(X_Train)\n",
    "lin_mse = mean_squared_error(Y_Train, CGPA_predictions)\n",
    "lin_rmse=np.sqrt(lin_mse)\n",
    "lin_rmse"
   ]
  },
  {
   "cell_type": "markdown",
   "metadata": {},
   "source": [
    "EValuons ensuite notre modele sur le test set et voyons comment evoluera le RMSE"
   ]
  },
  {
   "cell_type": "code",
   "execution_count": 132,
   "metadata": {},
   "outputs": [
    {
     "data": {
      "text/plain": [
       "108"
      ]
     },
     "execution_count": 132,
     "metadata": {},
     "output_type": "execute_result"
    }
   ],
   "source": [
    "len(ridge_reg.coef_)"
   ]
  },
  {
   "cell_type": "code",
   "execution_count": 92,
   "metadata": {
    "collapsed": true
   },
   "outputs": [],
   "source": [
    "Y_Test=Med_Test_bin.CGPA\n",
    "X_Test=Med_Test_bin.drop(labels=['CGPA'],axis=1)"
   ]
  },
  {
   "cell_type": "code",
   "execution_count": 138,
   "metadata": {},
   "outputs": [
    {
     "data": {
      "text/plain": [
       "(49, 110)"
      ]
     },
     "execution_count": 138,
     "metadata": {},
     "output_type": "execute_result"
    }
   ],
   "source": [
    "Med_Test_bin.shape"
   ]
  },
  {
   "cell_type": "code",
   "execution_count": 135,
   "metadata": {},
   "outputs": [
    {
     "data": {
      "text/plain": [
       "0.066020981080969224"
      ]
     },
     "execution_count": 135,
     "metadata": {},
     "output_type": "execute_result"
    }
   ],
   "source": [
    "from sklearn.metrics import mean_squared_error\n",
    "CGPA_predictions = ridge_reg.predict(X_Test)\n",
    "lin_mse = mean_squared_error(Y_Test, CGPA_predictions)\n",
    "lin_rmse=np.sqrt(lin_mse)\n",
    "lin_rmse"
   ]
  },
  {
   "cell_type": "markdown",
   "metadata": {},
   "source": [
    "comme nos valeurs du CGPA sont compris entre 0.4 et 0.83 une erreur de 0.06 sur la prediction inferieur à 10% est pratiquement aceptable"
   ]
  },
  {
   "cell_type": "markdown",
   "metadata": {
    "collapsed": true
   },
   "source": [
    "#### 2.1 Cross Validation du Modèle"
   ]
  },
  {
   "cell_type": "markdown",
   "metadata": {},
   "source": [
    "Verifions avant tous que nos modèles ont les meme distributions statistiques"
   ]
  },
  {
   "cell_type": "code",
   "execution_count": 86,
   "metadata": {
    "scrolled": true
   },
   "outputs": [
    {
     "data": {
      "text/html": [
       "<div>\n",
       "<table border=\"1\" class=\"dataframe\">\n",
       "  <thead>\n",
       "    <tr style=\"text-align: right;\">\n",
       "      <th></th>\n",
       "      <th>DIPPERC</th>\n",
       "      <th>CGPA</th>\n",
       "    </tr>\n",
       "  </thead>\n",
       "  <tbody>\n",
       "    <tr>\n",
       "      <th>count</th>\n",
       "      <td>193.000000</td>\n",
       "      <td>193.000000</td>\n",
       "    </tr>\n",
       "    <tr>\n",
       "      <th>mean</th>\n",
       "      <td>0.594774</td>\n",
       "      <td>0.577718</td>\n",
       "    </tr>\n",
       "    <tr>\n",
       "      <th>std</th>\n",
       "      <td>0.072775</td>\n",
       "      <td>0.072102</td>\n",
       "    </tr>\n",
       "    <tr>\n",
       "      <th>min</th>\n",
       "      <td>0.500000</td>\n",
       "      <td>0.400000</td>\n",
       "    </tr>\n",
       "    <tr>\n",
       "      <th>25%</th>\n",
       "      <td>0.530000</td>\n",
       "      <td>0.547000</td>\n",
       "    </tr>\n",
       "    <tr>\n",
       "      <th>50%</th>\n",
       "      <td>0.580000</td>\n",
       "      <td>0.592500</td>\n",
       "    </tr>\n",
       "    <tr>\n",
       "      <th>75%</th>\n",
       "      <td>0.630000</td>\n",
       "      <td>0.622000</td>\n",
       "    </tr>\n",
       "    <tr>\n",
       "      <th>max</th>\n",
       "      <td>0.830000</td>\n",
       "      <td>0.740000</td>\n",
       "    </tr>\n",
       "  </tbody>\n",
       "</table>\n",
       "</div>"
      ],
      "text/plain": [
       "          DIPPERC        CGPA\n",
       "count  193.000000  193.000000\n",
       "mean     0.594774    0.577718\n",
       "std      0.072775    0.072102\n",
       "min      0.500000    0.400000\n",
       "25%      0.530000    0.547000\n",
       "50%      0.580000    0.592500\n",
       "75%      0.630000    0.622000\n",
       "max      0.830000    0.740000"
      ]
     },
     "execution_count": 86,
     "metadata": {},
     "output_type": "execute_result"
    }
   ],
   "source": [
    "Med_Train.describe()"
   ]
  },
  {
   "cell_type": "code",
   "execution_count": 87,
   "metadata": {},
   "outputs": [
    {
     "data": {
      "text/html": [
       "<div>\n",
       "<table border=\"1\" class=\"dataframe\">\n",
       "  <thead>\n",
       "    <tr style=\"text-align: right;\">\n",
       "      <th></th>\n",
       "      <th>DIPPERC</th>\n",
       "      <th>CGPA</th>\n",
       "    </tr>\n",
       "  </thead>\n",
       "  <tbody>\n",
       "    <tr>\n",
       "      <th>count</th>\n",
       "      <td>49.000000</td>\n",
       "      <td>49.000000</td>\n",
       "    </tr>\n",
       "    <tr>\n",
       "      <th>mean</th>\n",
       "      <td>0.592653</td>\n",
       "      <td>0.572949</td>\n",
       "    </tr>\n",
       "    <tr>\n",
       "      <th>std</th>\n",
       "      <td>0.075105</td>\n",
       "      <td>0.059417</td>\n",
       "    </tr>\n",
       "    <tr>\n",
       "      <th>min</th>\n",
       "      <td>0.500000</td>\n",
       "      <td>0.400000</td>\n",
       "    </tr>\n",
       "    <tr>\n",
       "      <th>25%</th>\n",
       "      <td>0.540000</td>\n",
       "      <td>0.551000</td>\n",
       "    </tr>\n",
       "    <tr>\n",
       "      <th>50%</th>\n",
       "      <td>0.580000</td>\n",
       "      <td>0.584500</td>\n",
       "    </tr>\n",
       "    <tr>\n",
       "      <th>75%</th>\n",
       "      <td>0.620000</td>\n",
       "      <td>0.610000</td>\n",
       "    </tr>\n",
       "    <tr>\n",
       "      <th>max</th>\n",
       "      <td>0.840000</td>\n",
       "      <td>0.698500</td>\n",
       "    </tr>\n",
       "  </tbody>\n",
       "</table>\n",
       "</div>"
      ],
      "text/plain": [
       "         DIPPERC       CGPA\n",
       "count  49.000000  49.000000\n",
       "mean    0.592653   0.572949\n",
       "std     0.075105   0.059417\n",
       "min     0.500000   0.400000\n",
       "25%     0.540000   0.551000\n",
       "50%     0.580000   0.584500\n",
       "75%     0.620000   0.610000\n",
       "max     0.840000   0.698500"
      ]
     },
     "execution_count": 87,
     "metadata": {},
     "output_type": "execute_result"
    }
   ],
   "source": [
    "Med_Test.describe()"
   ]
  },
  {
   "cell_type": "markdown",
   "metadata": {},
   "source": [
    "Nous pouvons conclure aisement que nos deux ensembles ont pratiquement les memes dimensions ou presque"
   ]
  },
  {
   "cell_type": "code",
   "execution_count": 136,
   "metadata": {
    "collapsed": true
   },
   "outputs": [],
   "source": [
    "from sklearn.model_selection import cross_val_score\n"
   ]
  },
  {
   "cell_type": "code",
   "execution_count": 140,
   "metadata": {
    "collapsed": true
   },
   "outputs": [],
   "source": [
    "from sklearn.model_selection import cross_val_score\n",
    "scores = cross_val_score(ridge_reg, X_Train, Y_Train,scoring=\"neg_mean_squared_error\", cv=10)\n",
    "rmse_scores = np.sqrt(-scores)"
   ]
  },
  {
   "cell_type": "code",
   "execution_count": 142,
   "metadata": {
    "scrolled": true
   },
   "outputs": [
    {
     "name": "stdout",
     "output_type": "stream",
     "text": [
      "('Scores:', array([ 0.0576845 ,  0.07388   ,  0.08361106,  0.05121212,  0.05438664,\n",
      "        0.05934756,  0.05879391,  0.07577841,  0.05755318,  0.06468633]))\n",
      "('Mean:', 0.063693369762372692)\n",
      "('Standard deviation:', 0.010033005792933954)\n"
     ]
    }
   ],
   "source": [
    "def display_scores(scores):\n",
    "    print(\"Scores:\", scores)\n",
    "    print(\"Mean:\", scores.mean())\n",
    "    print(\"Standard deviation:\", scores.std())\n",
    "display_scores(rmse_scores)"
   ]
  },
  {
   "cell_type": "markdown",
   "metadata": {},
   "source": [
    "on peut aisement remarquer sue notre modèle meme lors d'une validation croisée dispose de la meme valeur de l'erreur "
   ]
  },
  {
   "cell_type": "markdown",
   "metadata": {},
   "source": [
    "Nous pouvons enfin sauvergarder notre modèle et passer au modèle suivant"
   ]
  },
  {
   "cell_type": "code",
   "execution_count": 147,
   "metadata": {
    "scrolled": true
   },
   "outputs": [
    {
     "data": {
      "text/plain": [
       "['../predictivesModels/medecineRidgRegress.pkl']"
      ]
     },
     "execution_count": 147,
     "metadata": {},
     "output_type": "execute_result"
    }
   ],
   "source": [
    "from sklearn.externals import joblib\n",
    "joblib.dump(ridge_reg, \"../predictivesModels/medecineRidgRegress.pkl\")"
   ]
  },
  {
   "cell_type": "markdown",
   "metadata": {},
   "source": [
    "#### 3.Modèle Support Vector Regresssor Gaussien Kernel RBF"
   ]
  },
  {
   "cell_type": "code",
   "execution_count": 148,
   "metadata": {
    "collapsed": true
   },
   "outputs": [],
   "source": [
    "from sklearn.svm import LinearSVR"
   ]
  },
  {
   "cell_type": "code",
   "execution_count": 155,
   "metadata": {
    "collapsed": true
   },
   "outputs": [],
   "source": [
    "linSVM_reg=LinearSVR(dual=False,fit_intercept=False,loss='squared_epsilon_insensitive' )"
   ]
  },
  {
   "cell_type": "code",
   "execution_count": 156,
   "metadata": {
    "scrolled": false
   },
   "outputs": [
    {
     "data": {
      "text/plain": [
       "LinearSVR(C=1.0, dual=False, epsilon=0.0, fit_intercept=False,\n",
       "     intercept_scaling=1.0, loss='squared_epsilon_insensitive',\n",
       "     max_iter=1000, random_state=None, tol=0.0001, verbose=0)"
      ]
     },
     "execution_count": 156,
     "metadata": {},
     "output_type": "execute_result"
    }
   ],
   "source": [
    "linSVM_reg.fit(X_Train,Y_Train)"
   ]
  },
  {
   "cell_type": "code",
   "execution_count": 157,
   "metadata": {
    "scrolled": true
   },
   "outputs": [
    {
     "name": "stdout",
     "output_type": "stream",
     "text": [
      "('Predictions:\\t', array([ 0.60075631,  0.6338749 ,  0.60470872,  0.58111407,  0.53385469]))\n",
      "('Labels:\\t\\t', [0.61950000762899993, 0.60750000000000004, 0.59849998474099997, 0.59800001144399995, 0.53899999618500005])\n"
     ]
    }
   ],
   "source": [
    "some_data = X_Train.iloc[:5]\n",
    "some_labels = Y_Train.iloc[:5]\n",
    "print(\"Predictions:\\t\", linSVM_reg.predict(some_data))\n",
    "print(\"Labels:\\t\\t\", list(some_labels))"
   ]
  },
  {
   "cell_type": "markdown",
   "metadata": {},
   "source": [
    "Avec cette seconde approche nous remarquons que notre modèle commence à s'ameliorer"
   ]
  },
  {
   "cell_type": "markdown",
   "metadata": {},
   "source": [
    "Essayons une evaluation avec le RMSE"
   ]
  },
  {
   "cell_type": "code",
   "execution_count": 159,
   "metadata": {
    "scrolled": true
   },
   "outputs": [
    {
     "data": {
      "text/plain": [
       "0.044471700859937138"
      ]
     },
     "execution_count": 159,
     "metadata": {},
     "output_type": "execute_result"
    }
   ],
   "source": [
    "from sklearn.metrics import mean_squared_error\n",
    "CGPA_predictions = linSVM_reg.predict(X_Train)\n",
    "lin_mse = mean_squared_error(Y_Train, CGPA_predictions)\n",
    "lin_rmse=np.sqrt(lin_mse)\n",
    "lin_rmse"
   ]
  },
  {
   "cell_type": "markdown",
   "metadata": {},
   "source": [
    "EValuons ensuite notre modele sur le test set et voyons comment evoluera le RMSE"
   ]
  },
  {
   "cell_type": "code",
   "execution_count": 132,
   "metadata": {},
   "outputs": [
    {
     "data": {
      "text/plain": [
       "108"
      ]
     },
     "execution_count": 132,
     "metadata": {},
     "output_type": "execute_result"
    }
   ],
   "source": [
    "len(ridge_reg.coef_)"
   ]
  },
  {
   "cell_type": "code",
   "execution_count": 160,
   "metadata": {},
   "outputs": [
    {
     "data": {
      "text/plain": [
       "0.078396453860313006"
      ]
     },
     "execution_count": 160,
     "metadata": {},
     "output_type": "execute_result"
    }
   ],
   "source": [
    "from sklearn.metrics import mean_squared_error\n",
    "CGPA_predictions = linSVM_reg.predict(X_Test)\n",
    "lin_mse = mean_squared_error(Y_Test, CGPA_predictions)\n",
    "lin_rmse=np.sqrt(lin_mse)\n",
    "lin_rmse"
   ]
  },
  {
   "cell_type": "markdown",
   "metadata": {},
   "source": [
    "comme nos valeurs du CGPA sont compris entre 0.4 et 0.83 une erreur de 0.07839 sur la prediction inferieur à 10% est pratiquement aceptable"
   ]
  },
  {
   "cell_type": "markdown",
   "metadata": {
    "collapsed": true
   },
   "source": [
    "#### 2.1 Cross Validation du Modèle"
   ]
  },
  {
   "cell_type": "code",
   "execution_count": 136,
   "metadata": {
    "collapsed": true
   },
   "outputs": [],
   "source": [
    "from sklearn.model_selection import cross_val_score\n"
   ]
  },
  {
   "cell_type": "code",
   "execution_count": 161,
   "metadata": {
    "collapsed": true
   },
   "outputs": [],
   "source": [
    "from sklearn.model_selection import cross_val_score\n",
    "scores = cross_val_score(linSVM_reg, X_Train, Y_Train,scoring=\"neg_mean_squared_error\", cv=10)\n",
    "rmse_scores = np.sqrt(-scores)"
   ]
  },
  {
   "cell_type": "code",
   "execution_count": 162,
   "metadata": {
    "scrolled": true
   },
   "outputs": [
    {
     "name": "stdout",
     "output_type": "stream",
     "text": [
      "('Scores:', array([ 0.06707195,  0.08078435,  0.08956454,  0.06594362,  0.06962361,\n",
      "        0.05213383,  0.05002476,  0.06410408,  0.06002967,  0.06297896]))\n",
      "('Mean:', 0.066225937273730509)\n",
      "('Standard deviation:', 0.011329086979526115)\n"
     ]
    }
   ],
   "source": [
    "def display_scores(scores):\n",
    "    print(\"Scores:\", scores)\n",
    "    print(\"Mean:\", scores.mean())\n",
    "    print(\"Standard deviation:\", scores.std())\n",
    "display_scores(rmse_scores)"
   ]
  },
  {
   "cell_type": "markdown",
   "metadata": {},
   "source": [
    "on peut aisement remarquer sue notre modèle meme lors d'une validation croisée dispose de la meme valeur de l'erreur "
   ]
  },
  {
   "cell_type": "markdown",
   "metadata": {},
   "source": [
    "Nous pouvons enfin sauvergarder notre modèle et passer au modèle suivant"
   ]
  },
  {
   "cell_type": "code",
   "execution_count": 163,
   "metadata": {
    "scrolled": true
   },
   "outputs": [
    {
     "data": {
      "text/plain": [
       "['../predictivesModels/medecineSVR.pkl']"
      ]
     },
     "execution_count": 163,
     "metadata": {},
     "output_type": "execute_result"
    }
   ],
   "source": [
    "from sklearn.externals import joblib\n",
    "joblib.dump(ridge_reg, \"../predictivesModels/medecineSVR.pkl\")"
   ]
  },
  {
   "cell_type": "markdown",
   "metadata": {},
   "source": [
    "Avant d'essayer la réduction des dimmensions nous notons cette remarquons ceci du livre handons on a MAchine learning Project"
   ]
  },
  {
   "cell_type": "code",
   "execution_count": null,
   "metadata": {
    "collapsed": true
   },
   "outputs": [],
   "source": []
  },
  {
   "cell_type": "markdown",
   "metadata": {},
   "source": [
    "##### 1. Faculté d'economie"
   ]
  },
  {
   "cell_type": "markdown",
   "metadata": {
    "collapsed": true
   },
   "source": [
    "Pour commencer notre entrainement nous alons echantilloner nos donnes pour constituter un ensemble d'apprentissahe (Training set), et un ensemble d'evaluation du modèle (test set)"
   ]
  },
  {
   "cell_type": "code",
   "execution_count": 3,
   "metadata": {},
   "outputs": [
    {
     "ename": "NameError",
     "evalue": "name 'datasetCGPA' is not defined",
     "output_type": "error",
     "traceback": [
      "\u001b[0;31m---------------------------------------------------------------------------\u001b[0m",
      "\u001b[0;31mNameError\u001b[0m                                 Traceback (most recent call last)",
      "\u001b[0;32m<ipython-input-3-e932e8bf2dbf>\u001b[0m in \u001b[0;36m<module>\u001b[0;34m()\u001b[0m\n\u001b[0;32m----> 1\u001b[0;31m \u001b[0mTechno\u001b[0m\u001b[0;34m=\u001b[0m\u001b[0mdatasetCGPA\u001b[0m\u001b[0;34m.\u001b[0m\u001b[0mloc\u001b[0m\u001b[0;34m[\u001b[0m\u001b[0mdatasetCGPA\u001b[0m\u001b[0;34m.\u001b[0m\u001b[0mFAC\u001b[0m\u001b[0;34m==\u001b[0m\u001b[0;34m'FSTA'\u001b[0m\u001b[0;34m]\u001b[0m\u001b[0;34m\u001b[0m\u001b[0m\n\u001b[0m",
      "\u001b[0;31mNameError\u001b[0m: name 'datasetCGPA' is not defined"
     ]
    }
   ],
   "source": [
    "Techno=datasetCGPA.loc[datasetCGPA.FAC=='FSTA']"
   ]
  },
  {
   "cell_type": "markdown",
   "metadata": {},
   "source": [
    "Nous allons avant tous standariser le poucentage pour un bon calcul nous allons le diviser par 100"
   ]
  },
  {
   "cell_type": "code",
   "execution_count": 37,
   "metadata": {
    "scrolled": true
   },
   "outputs": [
    {
     "name": "stderr",
     "output_type": "stream",
     "text": [
      "/Users/espyMur/Desktop/Memory-WorkingDir/memoryVenv/lib/python2.7/site-packages/pandas/core/indexing.py:477: SettingWithCopyWarning: \n",
      "A value is trying to be set on a copy of a slice from a DataFrame.\n",
      "Try using .loc[row_indexer,col_indexer] = value instead\n",
      "\n",
      "See the caveats in the documentation: http://pandas.pydata.org/pandas-docs/stable/indexing.html#indexing-view-versus-copy\n",
      "  self.obj[item] = s\n"
     ]
    }
   ],
   "source": [
    "Medecine.loc[:,'DIPPERC']=Medecine.DIPPERC/100"
   ]
  },
  {
   "cell_type": "code",
   "execution_count": 38,
   "metadata": {
    "collapsed": true
   },
   "outputs": [],
   "source": [
    "Medecine.loc[:,'CGPA']=Medecine.CGPA/100"
   ]
  },
  {
   "cell_type": "code",
   "execution_count": 39,
   "metadata": {},
   "outputs": [
    {
     "data": {
      "text/html": [
       "<div>\n",
       "<table border=\"1\" class=\"dataframe\">\n",
       "  <thead>\n",
       "    <tr style=\"text-align: right;\">\n",
       "      <th></th>\n",
       "      <th>ID</th>\n",
       "      <th>DIPPERC</th>\n",
       "      <th>SCHOOL_RIGHT</th>\n",
       "      <th>OPTION_RIGHT</th>\n",
       "      <th>FAC</th>\n",
       "      <th>CGPA</th>\n",
       "      <th>DistinctionRatio</th>\n",
       "      <th>EchecRatio</th>\n",
       "      <th>Pass1stSessionRatio</th>\n",
       "    </tr>\n",
       "  </thead>\n",
       "  <tbody>\n",
       "    <tr>\n",
       "      <th>0</th>\n",
       "      <td>10384</td>\n",
       "      <td>0.590000</td>\n",
       "      <td>zanner</td>\n",
       "      <td>latin philo</td>\n",
       "      <td>FM</td>\n",
       "      <td>0.5915</td>\n",
       "      <td>G</td>\n",
       "      <td>G</td>\n",
       "      <td>G</td>\n",
       "    </tr>\n",
       "    <tr>\n",
       "      <th>1</th>\n",
       "      <td>11610</td>\n",
       "      <td>0.520000</td>\n",
       "      <td>zanner</td>\n",
       "      <td>latin philo</td>\n",
       "      <td>FM</td>\n",
       "      <td>0.4400</td>\n",
       "      <td>G</td>\n",
       "      <td>A</td>\n",
       "      <td>G</td>\n",
       "    </tr>\n",
       "    <tr>\n",
       "      <th>2</th>\n",
       "      <td>10159</td>\n",
       "      <td>0.568765</td>\n",
       "      <td>iti gombe</td>\n",
       "      <td>vétérinaire</td>\n",
       "      <td>FM</td>\n",
       "      <td>0.5805</td>\n",
       "      <td>G</td>\n",
       "      <td>G</td>\n",
       "      <td>G</td>\n",
       "    </tr>\n",
       "    <tr>\n",
       "      <th>3</th>\n",
       "      <td>11776</td>\n",
       "      <td>0.510000</td>\n",
       "      <td>masisi</td>\n",
       "      <td>latin philo</td>\n",
       "      <td>FM</td>\n",
       "      <td>0.4200</td>\n",
       "      <td>G</td>\n",
       "      <td>A</td>\n",
       "      <td>G</td>\n",
       "    </tr>\n",
       "    <tr>\n",
       "      <th>4</th>\n",
       "      <td>10411</td>\n",
       "      <td>0.570000</td>\n",
       "      <td>ndosho</td>\n",
       "      <td>pedagogie</td>\n",
       "      <td>FM</td>\n",
       "      <td>0.4900</td>\n",
       "      <td>G</td>\n",
       "      <td>A</td>\n",
       "      <td>G</td>\n",
       "    </tr>\n",
       "    <tr>\n",
       "      <th>5</th>\n",
       "      <td>10093</td>\n",
       "      <td>0.530000</td>\n",
       "      <td>himbi</td>\n",
       "      <td>latin philo</td>\n",
       "      <td>FM</td>\n",
       "      <td>0.5880</td>\n",
       "      <td>G</td>\n",
       "      <td>G</td>\n",
       "      <td>D</td>\n",
       "    </tr>\n",
       "  </tbody>\n",
       "</table>\n",
       "</div>"
      ],
      "text/plain": [
       "      ID   DIPPERC SCHOOL_RIGHT OPTION_RIGHT FAC    CGPA DistinctionRatio  \\\n",
       "0  10384  0.590000       zanner  latin philo  FM  0.5915                G   \n",
       "1  11610  0.520000       zanner  latin philo  FM  0.4400                G   \n",
       "2  10159  0.568765    iti gombe  vétérinaire  FM  0.5805                G   \n",
       "3  11776  0.510000       masisi  latin philo  FM  0.4200                G   \n",
       "4  10411  0.570000       ndosho    pedagogie  FM  0.4900                G   \n",
       "5  10093  0.530000        himbi  latin philo  FM  0.5880                G   \n",
       "\n",
       "  EchecRatio Pass1stSessionRatio  \n",
       "0          G                   G  \n",
       "1          A                   G  \n",
       "2          G                   G  \n",
       "3          A                   G  \n",
       "4          A                   G  \n",
       "5          G                   D  "
      ]
     },
     "execution_count": 39,
     "metadata": {},
     "output_type": "execute_result"
    }
   ],
   "source": [
    "Medecine.head(6)"
   ]
  },
  {
   "cell_type": "markdown",
   "metadata": {},
   "source": [
    "Dans une premiere approche nous allons constituer notre training set et test set qui sera representatif des nos données "
   ]
  },
  {
   "cell_type": "markdown",
   "metadata": {},
   "source": [
    "Nous allons proceder à un echantillonage stratifier pour constituer notre training set et notre test set nous prendrons les individus dans 2 categories differentes ceux qui ont un CGPA superieur à 50% et ceux dont le CPGA est inferieur à 50%"
   ]
  },
  {
   "cell_type": "code",
   "execution_count": 8,
   "metadata": {},
   "outputs": [
    {
     "data": {
      "text/plain": [
       "25"
      ]
     },
     "execution_count": 8,
     "metadata": {},
     "output_type": "execute_result"
    }
   ],
   "source": [
    "len(Medecine.loc[Medecine.CGPA<.55])*100/len(Medecine)"
   ]
  },
  {
   "cell_type": "code",
   "execution_count": 27,
   "metadata": {
    "scrolled": true
   },
   "outputs": [
    {
     "data": {
      "text/plain": [
       "74"
      ]
     },
     "execution_count": 27,
     "metadata": {},
     "output_type": "execute_result"
    }
   ],
   "source": [
    "len(Medecine.loc[Medecine.CGPA>=.55])*100/len(Medecine)"
   ]
  },
  {
   "cell_type": "code",
   "execution_count": 93,
   "metadata": {},
   "outputs": [
    {
     "data": {
      "text/plain": [
       "28"
      ]
     },
     "execution_count": 93,
     "metadata": {},
     "output_type": "execute_result"
    }
   ],
   "source": [
    "len(Medecine.loc[Medecine.DIPPERC<.55])*100/len(Medecine)"
   ]
  },
  {
   "cell_type": "code",
   "execution_count": 94,
   "metadata": {},
   "outputs": [
    {
     "data": {
      "text/plain": [
       "71"
      ]
     },
     "execution_count": 94,
     "metadata": {},
     "output_type": "execute_result"
    }
   ],
   "source": [
    "len(Medecine.loc[Medecine.DIPPERC>=.55])*100/len(Medecine)"
   ]
  },
  {
   "cell_type": "markdown",
   "metadata": {},
   "source": [
    "Nous allons efefctuer un  echantillonager stratifier dans chaque categorie des nos variables echec ratio, distinction ratio, Passage en premiere session ratio ensuite cree une union des indices pour avoir un ensemble d'apprentissage et un ensemble d'evaluation."
   ]
  },
  {
   "cell_type": "code",
   "execution_count": 110,
   "metadata": {
    "collapsed": true
   },
   "outputs": [],
   "source": [
    "Medecine_bin=ConvertCat(Medecine,catCol=['SCHOOL_RIGHT', 'OPTION_RIGHT'],numCol=['DIPPERC','CGPA','EchecRatio'])"
   ]
  },
  {
   "cell_type": "code",
   "execution_count": 111,
   "metadata": {
    "collapsed": true
   },
   "outputs": [],
   "source": [
    "Medecine_bin.reset_index(inplace=True)"
   ]
  },
  {
   "cell_type": "code",
   "execution_count": 112,
   "metadata": {},
   "outputs": [
    {
     "data": {
      "text/plain": [
       "(242, 111)"
      ]
     },
     "execution_count": 112,
     "metadata": {},
     "output_type": "execute_result"
    }
   ],
   "source": [
    "Medecine_bin.shape"
   ]
  },
  {
   "cell_type": "code",
   "execution_count": 113,
   "metadata": {
    "collapsed": true
   },
   "outputs": [],
   "source": [
    "from sklearn.model_selection import StratifiedShuffleSplit"
   ]
  },
  {
   "cell_type": "code",
   "execution_count": 114,
   "metadata": {
    "collapsed": true
   },
   "outputs": [],
   "source": [
    "split = StratifiedShuffleSplit(n_splits=1, test_size=0.2, random_state=42)"
   ]
  },
  {
   "cell_type": "code",
   "execution_count": 115,
   "metadata": {
    "collapsed": true,
    "scrolled": false
   },
   "outputs": [],
   "source": [
    "for train_index, test_index in split.split(Medecine_bin, Medecine_bin.EchecRatio):\n",
    "    Med_Train_bin=Medecine_bin.loc[train_index]\n",
    "    Med_Test_bin=Medecine_bin.loc[test_index]"
   ]
  },
  {
   "cell_type": "code",
   "execution_count": 120,
   "metadata": {
    "scrolled": true
   },
   "outputs": [
    {
     "data": {
      "text/html": [
       "<div>\n",
       "<table border=\"1\" class=\"dataframe\">\n",
       "  <thead>\n",
       "    <tr style=\"text-align: right;\">\n",
       "      <th></th>\n",
       "      <th>index</th>\n",
       "      <th>OPTION_RIGHT-bio-chimie</th>\n",
       "      <th>OPTION_RIGHT-pedagogie</th>\n",
       "      <th>OPTION_RIGHT-sociale</th>\n",
       "      <th>OPTION_RIGHT-nutr</th>\n",
       "      <th>OPTION_RIGHT-math-physique</th>\n",
       "      <th>OPTION_RIGHT-latin philo</th>\n",
       "      <th>OPTION_RIGHT-commmerciale et adm</th>\n",
       "      <th>OPTION_RIGHT-vétérinaire</th>\n",
       "      <th>OPTION_RIGHT-commerciale informatique</th>\n",
       "      <th>...</th>\n",
       "      <th>SCHOOL_RIGHT-nyakasaza</th>\n",
       "      <th>SCHOOL_RIGHT-neema kwetu</th>\n",
       "      <th>SCHOOL_RIGHT-masisi</th>\n",
       "      <th>SCHOOL_RIGHT-mikeno islamique</th>\n",
       "      <th>SCHOOL_RIGHT-ludaha</th>\n",
       "      <th>SCHOOL_RIGHT-kyeshero</th>\n",
       "      <th>SCHOOL_RIGHT-isoko</th>\n",
       "      <th>DIPPERC</th>\n",
       "      <th>CGPA</th>\n",
       "      <th>EchecRatio</th>\n",
       "    </tr>\n",
       "  </thead>\n",
       "  <tbody>\n",
       "    <tr>\n",
       "      <th>178</th>\n",
       "      <td>178</td>\n",
       "      <td>0</td>\n",
       "      <td>0</td>\n",
       "      <td>1</td>\n",
       "      <td>0</td>\n",
       "      <td>0</td>\n",
       "      <td>0</td>\n",
       "      <td>0</td>\n",
       "      <td>0</td>\n",
       "      <td>0</td>\n",
       "      <td>...</td>\n",
       "      <td>0</td>\n",
       "      <td>0</td>\n",
       "      <td>0</td>\n",
       "      <td>0</td>\n",
       "      <td>0</td>\n",
       "      <td>0</td>\n",
       "      <td>0</td>\n",
       "      <td>0.55</td>\n",
       "      <td>0.543</td>\n",
       "      <td>A</td>\n",
       "    </tr>\n",
       "  </tbody>\n",
       "</table>\n",
       "<p>1 rows × 111 columns</p>\n",
       "</div>"
      ],
      "text/plain": [
       "     index  OPTION_RIGHT-bio-chimie  OPTION_RIGHT-pedagogie  \\\n",
       "178    178                        0                       0   \n",
       "\n",
       "     OPTION_RIGHT-sociale  OPTION_RIGHT-nutr  OPTION_RIGHT-math-physique  \\\n",
       "178                     1                  0                           0   \n",
       "\n",
       "     OPTION_RIGHT-latin philo  OPTION_RIGHT-commmerciale et adm  \\\n",
       "178                         0                                 0   \n",
       "\n",
       "     OPTION_RIGHT-vétérinaire  OPTION_RIGHT-commerciale informatique  \\\n",
       "178                         0                                      0   \n",
       "\n",
       "        ...      SCHOOL_RIGHT-nyakasaza  SCHOOL_RIGHT-neema kwetu  \\\n",
       "178     ...                           0                         0   \n",
       "\n",
       "     SCHOOL_RIGHT-masisi  SCHOOL_RIGHT-mikeno islamique  SCHOOL_RIGHT-ludaha  \\\n",
       "178                    0                              0                    0   \n",
       "\n",
       "     SCHOOL_RIGHT-kyeshero  SCHOOL_RIGHT-isoko  DIPPERC   CGPA  EchecRatio  \n",
       "178                      0                   0     0.55  0.543           A  \n",
       "\n",
       "[1 rows x 111 columns]"
      ]
     },
     "execution_count": 120,
     "metadata": {},
     "output_type": "execute_result"
    }
   ],
   "source": [
    "Med_Test_bin.head(1)"
   ]
  },
  {
   "cell_type": "code",
   "execution_count": 117,
   "metadata": {},
   "outputs": [
    {
     "data": {
      "text/plain": [
       "(193, 111)"
      ]
     },
     "execution_count": 117,
     "metadata": {},
     "output_type": "execute_result"
    }
   ],
   "source": [
    "Med_Train_bin.shape"
   ]
  },
  {
   "cell_type": "code",
   "execution_count": 15,
   "metadata": {
    "scrolled": true
   },
   "outputs": [
    {
     "data": {
      "text/plain": [
       "28.497409326424872"
      ]
     },
     "execution_count": 15,
     "metadata": {},
     "output_type": "execute_result"
    }
   ],
   "source": [
    "len(Med_Train.loc[Med_Train.DIPPERC<55])*100/float(len(Med_Train))"
   ]
  },
  {
   "cell_type": "code",
   "execution_count": 16,
   "metadata": {},
   "outputs": [
    {
     "data": {
      "text/plain": [
       "28.571428571428573"
      ]
     },
     "execution_count": 16,
     "metadata": {},
     "output_type": "execute_result"
    }
   ],
   "source": [
    "len(Med_Test.loc[Med_Test.DIPPERC<55])*100/float(len(Med_Test))"
   ]
  },
  {
   "cell_type": "code",
   "execution_count": 17,
   "metadata": {},
   "outputs": [
    {
     "data": {
      "text/plain": [
       "25.906735751295336"
      ]
     },
     "execution_count": 17,
     "metadata": {},
     "output_type": "execute_result"
    }
   ],
   "source": [
    "len(Med_Train.loc[Med_Train.CGPA<55])*100/float(len(Med_Train))"
   ]
  },
  {
   "cell_type": "code",
   "execution_count": 18,
   "metadata": {},
   "outputs": [
    {
     "data": {
      "text/plain": [
       "24.489795918367346"
      ]
     },
     "execution_count": 18,
     "metadata": {},
     "output_type": "execute_result"
    }
   ],
   "source": [
    "len(Med_Test.loc[Med_Test.CGPA<55])*100/float(len(Med_Test))"
   ]
  },
  {
   "cell_type": "markdown",
   "metadata": {},
   "source": [
    "Nous allons effetuer un echantillonage stratifier en fonction de la colonne echec ratio, nous allons prendre les individus deans chque categrie"
   ]
  },
  {
   "cell_type": "markdown",
   "metadata": {},
   "source": [
    "nous pouvons constater que notre echantilonage est bien effectuer car les proportions des diplome percentage et CGPA sont bien respecté"
   ]
  },
  {
   "cell_type": "markdown",
   "metadata": {},
   "source": [
    "Apres la construction de nos 2 ensembles nous pouvons passer à l'encodage de nos données "
   ]
  },
  {
   "cell_type": "code",
   "execution_count": 121,
   "metadata": {
    "collapsed": true,
    "scrolled": false
   },
   "outputs": [],
   "source": [
    "Med_Train_bin.set_index(keys='index',inplace=True)\n",
    "Med_Test_bin.set_index(keys='index',inplace=True)"
   ]
  },
  {
   "cell_type": "code",
   "execution_count": 53,
   "metadata": {
    "collapsed": true
   },
   "outputs": [],
   "source": [
    "def ConvertCat(dataset, catCol,numCol):\n",
    "    \"\"\"this function will binarize a dataset given in parametrer and return the dataset with categorical columns binarise by one-hot encoding\"\"\"\n",
    "    enc= LabelBinarizer()\n",
    "    X_train_1=dataset[catCol]\n",
    "    X=dataset[numCol]\n",
    "    catCol=X_train_1.columns\n",
    "    for col in catCol:\n",
    "        data=dataset[[col]]\n",
    "        enc.fit(data)\n",
    "        # Fitting One Hot Encoding on train data\n",
    "        temp = enc.transform(dataset[[col]])\n",
    "        # Changing the encoded features into a data frame with new column names\n",
    "        temp=pd.DataFrame(temp,columns=[ col + '-' +i for i in data[col].value_counts().index])\n",
    "        # In side by side concatenation index values should be same\n",
    "        # Setting the index values similar to the X_train data frame\n",
    "        temp=temp.set_index(dataset.index)\n",
    "        # adding the new One Hot Encoded varibales to the train data frame\n",
    "        X=pd.merge(temp,X,right_index=True,left_index=True)\n",
    "    return X"
   ]
  },
  {
   "cell_type": "markdown",
   "metadata": {},
   "source": [
    "Une fois la binerisation terminée nous allons debuter avec l'entrainement de nos models d'apprentissages :"
   ]
  },
  {
   "cell_type": "markdown",
   "metadata": {},
   "source": [
    "Pour commencer nous allons nous referer au cheatsheet de skleran pour debuter avec l'entrainement de nos differents modèles."
   ]
  },
  {
   "cell_type": "markdown",
   "metadata": {},
   "source": [
    "### 1. Alogritme de Prediction : Regression Lineaire avec gradient descent"
   ]
  },
  {
   "cell_type": "markdown",
   "metadata": {},
   "source": [
    "Pour la premierre approche nous allons effectuer une regression lineare en utilisant l'algoritmne SGD ensuite nous evaluerons les preformance du modèle."
   ]
  },
  {
   "cell_type": "markdown",
   "metadata": {},
   "source": [
    "Commencons par charger notre modèle :"
   ]
  },
  {
   "cell_type": "code",
   "execution_count": 47,
   "metadata": {
    "collapsed": true
   },
   "outputs": [],
   "source": [
    "from sklearn.linear_model import SGDRegressor"
   ]
  },
  {
   "cell_type": "code",
   "execution_count": 48,
   "metadata": {
    "collapsed": true
   },
   "outputs": [],
   "source": [
    "lin_reg=SGDRegressor(learning_rate='optimal',n_iter=5)"
   ]
  },
  {
   "cell_type": "code",
   "execution_count": 122,
   "metadata": {
    "collapsed": true,
    "scrolled": true
   },
   "outputs": [],
   "source": [
    "Y_Train=Med_Train_bin.CGPA\n",
    "X_Train=Med_Train_bin.drop(labels=['CGPA','EchecRatio'],axis=1)\n",
    "Y_Test=Med_Test_bin.CGPA\n",
    "X_Test=Med_Test_bin.drop(labels=['CGPA','EchecRatio'],axis=1)"
   ]
  },
  {
   "cell_type": "code",
   "execution_count": 123,
   "metadata": {
    "scrolled": false
   },
   "outputs": [
    {
     "data": {
      "text/html": [
       "<div>\n",
       "<table border=\"1\" class=\"dataframe\">\n",
       "  <thead>\n",
       "    <tr style=\"text-align: right;\">\n",
       "      <th></th>\n",
       "      <th>OPTION_RIGHT-bio-chimie</th>\n",
       "      <th>OPTION_RIGHT-pedagogie</th>\n",
       "      <th>OPTION_RIGHT-sociale</th>\n",
       "      <th>OPTION_RIGHT-nutr</th>\n",
       "      <th>OPTION_RIGHT-math-physique</th>\n",
       "      <th>OPTION_RIGHT-latin philo</th>\n",
       "      <th>OPTION_RIGHT-commmerciale et adm</th>\n",
       "      <th>OPTION_RIGHT-vétérinaire</th>\n",
       "      <th>OPTION_RIGHT-commerciale informatique</th>\n",
       "      <th>OPTION_RIGHT-elec indust</th>\n",
       "      <th>...</th>\n",
       "      <th>SCHOOL_RIGHT-de bukavu</th>\n",
       "      <th>SCHOOL_RIGHT-isingo</th>\n",
       "      <th>SCHOOL_RIGHT-nyakasaza</th>\n",
       "      <th>SCHOOL_RIGHT-neema kwetu</th>\n",
       "      <th>SCHOOL_RIGHT-masisi</th>\n",
       "      <th>SCHOOL_RIGHT-mikeno islamique</th>\n",
       "      <th>SCHOOL_RIGHT-ludaha</th>\n",
       "      <th>SCHOOL_RIGHT-kyeshero</th>\n",
       "      <th>SCHOOL_RIGHT-isoko</th>\n",
       "      <th>DIPPERC</th>\n",
       "    </tr>\n",
       "    <tr>\n",
       "      <th>index</th>\n",
       "      <th></th>\n",
       "      <th></th>\n",
       "      <th></th>\n",
       "      <th></th>\n",
       "      <th></th>\n",
       "      <th></th>\n",
       "      <th></th>\n",
       "      <th></th>\n",
       "      <th></th>\n",
       "      <th></th>\n",
       "      <th></th>\n",
       "      <th></th>\n",
       "      <th></th>\n",
       "      <th></th>\n",
       "      <th></th>\n",
       "      <th></th>\n",
       "      <th></th>\n",
       "      <th></th>\n",
       "      <th></th>\n",
       "      <th></th>\n",
       "      <th></th>\n",
       "    </tr>\n",
       "  </thead>\n",
       "  <tbody>\n",
       "    <tr>\n",
       "      <th>67</th>\n",
       "      <td>0</td>\n",
       "      <td>0</td>\n",
       "      <td>1</td>\n",
       "      <td>0</td>\n",
       "      <td>0</td>\n",
       "      <td>0</td>\n",
       "      <td>0</td>\n",
       "      <td>0</td>\n",
       "      <td>0</td>\n",
       "      <td>0</td>\n",
       "      <td>...</td>\n",
       "      <td>0</td>\n",
       "      <td>0</td>\n",
       "      <td>0</td>\n",
       "      <td>0</td>\n",
       "      <td>0</td>\n",
       "      <td>0</td>\n",
       "      <td>0</td>\n",
       "      <td>0</td>\n",
       "      <td>0</td>\n",
       "      <td>0.58</td>\n",
       "    </tr>\n",
       "    <tr>\n",
       "      <th>153</th>\n",
       "      <td>0</td>\n",
       "      <td>0</td>\n",
       "      <td>1</td>\n",
       "      <td>0</td>\n",
       "      <td>0</td>\n",
       "      <td>0</td>\n",
       "      <td>0</td>\n",
       "      <td>0</td>\n",
       "      <td>0</td>\n",
       "      <td>0</td>\n",
       "      <td>...</td>\n",
       "      <td>0</td>\n",
       "      <td>0</td>\n",
       "      <td>0</td>\n",
       "      <td>0</td>\n",
       "      <td>0</td>\n",
       "      <td>0</td>\n",
       "      <td>0</td>\n",
       "      <td>0</td>\n",
       "      <td>0</td>\n",
       "      <td>0.75</td>\n",
       "    </tr>\n",
       "    <tr>\n",
       "      <th>94</th>\n",
       "      <td>0</td>\n",
       "      <td>0</td>\n",
       "      <td>0</td>\n",
       "      <td>0</td>\n",
       "      <td>0</td>\n",
       "      <td>0</td>\n",
       "      <td>0</td>\n",
       "      <td>0</td>\n",
       "      <td>0</td>\n",
       "      <td>1</td>\n",
       "      <td>...</td>\n",
       "      <td>0</td>\n",
       "      <td>0</td>\n",
       "      <td>0</td>\n",
       "      <td>0</td>\n",
       "      <td>1</td>\n",
       "      <td>0</td>\n",
       "      <td>0</td>\n",
       "      <td>0</td>\n",
       "      <td>0</td>\n",
       "      <td>0.61</td>\n",
       "    </tr>\n",
       "    <tr>\n",
       "      <th>11</th>\n",
       "      <td>0</td>\n",
       "      <td>0</td>\n",
       "      <td>0</td>\n",
       "      <td>0</td>\n",
       "      <td>0</td>\n",
       "      <td>0</td>\n",
       "      <td>0</td>\n",
       "      <td>0</td>\n",
       "      <td>0</td>\n",
       "      <td>1</td>\n",
       "      <td>...</td>\n",
       "      <td>0</td>\n",
       "      <td>0</td>\n",
       "      <td>0</td>\n",
       "      <td>0</td>\n",
       "      <td>0</td>\n",
       "      <td>0</td>\n",
       "      <td>0</td>\n",
       "      <td>0</td>\n",
       "      <td>0</td>\n",
       "      <td>0.59</td>\n",
       "    </tr>\n",
       "    <tr>\n",
       "      <th>191</th>\n",
       "      <td>0</td>\n",
       "      <td>0</td>\n",
       "      <td>1</td>\n",
       "      <td>0</td>\n",
       "      <td>0</td>\n",
       "      <td>0</td>\n",
       "      <td>0</td>\n",
       "      <td>0</td>\n",
       "      <td>0</td>\n",
       "      <td>0</td>\n",
       "      <td>...</td>\n",
       "      <td>0</td>\n",
       "      <td>0</td>\n",
       "      <td>0</td>\n",
       "      <td>0</td>\n",
       "      <td>0</td>\n",
       "      <td>0</td>\n",
       "      <td>0</td>\n",
       "      <td>0</td>\n",
       "      <td>0</td>\n",
       "      <td>0.52</td>\n",
       "    </tr>\n",
       "  </tbody>\n",
       "</table>\n",
       "<p>5 rows × 108 columns</p>\n",
       "</div>"
      ],
      "text/plain": [
       "       OPTION_RIGHT-bio-chimie  OPTION_RIGHT-pedagogie  OPTION_RIGHT-sociale  \\\n",
       "index                                                                          \n",
       "67                           0                       0                     1   \n",
       "153                          0                       0                     1   \n",
       "94                           0                       0                     0   \n",
       "11                           0                       0                     0   \n",
       "191                          0                       0                     1   \n",
       "\n",
       "       OPTION_RIGHT-nutr  OPTION_RIGHT-math-physique  \\\n",
       "index                                                  \n",
       "67                     0                           0   \n",
       "153                    0                           0   \n",
       "94                     0                           0   \n",
       "11                     0                           0   \n",
       "191                    0                           0   \n",
       "\n",
       "       OPTION_RIGHT-latin philo  OPTION_RIGHT-commmerciale et adm  \\\n",
       "index                                                               \n",
       "67                            0                                 0   \n",
       "153                           0                                 0   \n",
       "94                            0                                 0   \n",
       "11                            0                                 0   \n",
       "191                           0                                 0   \n",
       "\n",
       "       OPTION_RIGHT-vétérinaire  OPTION_RIGHT-commerciale informatique  \\\n",
       "index                                                                    \n",
       "67                            0                                      0   \n",
       "153                           0                                      0   \n",
       "94                            0                                      0   \n",
       "11                            0                                      0   \n",
       "191                           0                                      0   \n",
       "\n",
       "       OPTION_RIGHT-elec indust   ...     SCHOOL_RIGHT-de bukavu  \\\n",
       "index                             ...                              \n",
       "67                            0   ...                          0   \n",
       "153                           0   ...                          0   \n",
       "94                            1   ...                          0   \n",
       "11                            1   ...                          0   \n",
       "191                           0   ...                          0   \n",
       "\n",
       "       SCHOOL_RIGHT-isingo  SCHOOL_RIGHT-nyakasaza  SCHOOL_RIGHT-neema kwetu  \\\n",
       "index                                                                          \n",
       "67                       0                       0                         0   \n",
       "153                      0                       0                         0   \n",
       "94                       0                       0                         0   \n",
       "11                       0                       0                         0   \n",
       "191                      0                       0                         0   \n",
       "\n",
       "       SCHOOL_RIGHT-masisi  SCHOOL_RIGHT-mikeno islamique  \\\n",
       "index                                                       \n",
       "67                       0                              0   \n",
       "153                      0                              0   \n",
       "94                       1                              0   \n",
       "11                       0                              0   \n",
       "191                      0                              0   \n",
       "\n",
       "       SCHOOL_RIGHT-ludaha  SCHOOL_RIGHT-kyeshero  SCHOOL_RIGHT-isoko  DIPPERC  \n",
       "index                                                                           \n",
       "67                       0                      0                   0     0.58  \n",
       "153                      0                      0                   0     0.75  \n",
       "94                       0                      0                   0     0.61  \n",
       "11                       0                      0                   0     0.59  \n",
       "191                      0                      0                   0     0.52  \n",
       "\n",
       "[5 rows x 108 columns]"
      ]
     },
     "execution_count": 123,
     "metadata": {},
     "output_type": "execute_result"
    }
   ],
   "source": [
    "X_Train[:5]"
   ]
  },
  {
   "cell_type": "code",
   "execution_count": 124,
   "metadata": {
    "scrolled": true
   },
   "outputs": [
    {
     "data": {
      "text/plain": [
       "index\n",
       "67     0.6195\n",
       "153    0.6075\n",
       "94     0.5985\n",
       "11     0.5980\n",
       "191    0.5390\n",
       "Name: CGPA, dtype: float64"
      ]
     },
     "execution_count": 124,
     "metadata": {},
     "output_type": "execute_result"
    }
   ],
   "source": [
    "Y_Train[:5]"
   ]
  },
  {
   "cell_type": "code",
   "execution_count": 126,
   "metadata": {},
   "outputs": [
    {
     "data": {
      "text/plain": [
       "ID                          10395\n",
       "DIPPERC                      0.58\n",
       "SCHOOL_RIGHT              thabiti\n",
       "OPTION_RIGHT           bio-chimie\n",
       "FAC                            FM\n",
       "CGPA                       0.6195\n",
       "DistinctionRatio                G\n",
       "EchecRatio                      G\n",
       "Pass1stSessionRatio             G\n",
       "Name: 67, dtype: object"
      ]
     },
     "execution_count": 126,
     "metadata": {},
     "output_type": "execute_result"
    }
   ],
   "source": [
    "Medecine.loc[67]"
   ]
  },
  {
   "cell_type": "code",
   "execution_count": 127,
   "metadata": {
    "scrolled": false
   },
   "outputs": [
    {
     "data": {
      "text/plain": [
       "SGDRegressor(alpha=0.0001, average=False, epsilon=0.1, eta0=0.01,\n",
       "       fit_intercept=True, l1_ratio=0.15, learning_rate='optimal',\n",
       "       loss='squared_loss', n_iter=5, penalty='l2', power_t=0.25,\n",
       "       random_state=None, shuffle=True, verbose=0, warm_start=False)"
      ]
     },
     "execution_count": 127,
     "metadata": {},
     "output_type": "execute_result"
    }
   ],
   "source": [
    "lin_reg.fit(X_Train,Y_Train)"
   ]
  },
  {
   "cell_type": "code",
   "execution_count": 128,
   "metadata": {
    "scrolled": false
   },
   "outputs": [
    {
     "name": "stdout",
     "output_type": "stream",
     "text": [
      "('Predictions:\\t', array([ -2.84799063e+12,   3.75899644e+12,   1.43017621e+13,\n",
      "         2.43067865e+13,  -3.38281559e+12]))\n",
      "('Labels:\\t\\t', [0.61950000762899993, 0.60750000000000004, 0.59849998474099997, 0.59800001144399995, 0.53899999618500005])\n"
     ]
    }
   ],
   "source": [
    "some_data = X_Train.iloc[:5]\n",
    "some_labels = Y_Train.iloc[:5]\n",
    "print(\"Predictions:\\t\", lin_reg.predict(some_data))\n",
    "print(\"Labels:\\t\\t\", list(some_labels))"
   ]
  },
  {
   "cell_type": "markdown",
   "metadata": {},
   "source": [
    "Après notre premierre approche on remqrque que notre modèle est très mal construit"
   ]
  },
  {
   "cell_type": "markdown",
   "metadata": {},
   "source": [
    "Essayons une evaluation avec le RMSE"
   ]
  },
  {
   "cell_type": "code",
   "execution_count": 78,
   "metadata": {},
   "outputs": [
    {
     "data": {
      "text/plain": [
       "13343427426329.395"
      ]
     },
     "execution_count": 78,
     "metadata": {},
     "output_type": "execute_result"
    }
   ],
   "source": [
    "from sklearn.metrics import mean_squared_error\n",
    "CGPA_predictions = lin_reg.predict(X_Train)\n",
    "lin_mse = mean_squared_error(Y_Train, CGPA_predictions)\n",
    "lin_rmse=np.sqrt(lin_mse)\n",
    "lin_rmse"
   ]
  },
  {
   "cell_type": "markdown",
   "metadata": {},
   "source": [
    "Comme souligner à l'appendice comme notre ensemble d'apprentissage n'est pas assez grand nous pouvons conclure que au vue de l'erreur que nous avions obtenu et notre taille del'echantillons que le SGD algoritme ne convient pas '"
   ]
  },
  {
   "cell_type": "code",
   "execution_count": null,
   "metadata": {
    "collapsed": true
   },
   "outputs": [],
   "source": []
  },
  {
   "cell_type": "markdown",
   "metadata": {},
   "source": [
    "##### 2. Modele des Regression Regularisée"
   ]
  },
  {
   "cell_type": "markdown",
   "metadata": {},
   "source": [
    "Comme notre ensemble d'apprentissage est relativement petit nous entrainerons une regression rigide"
   ]
  },
  {
   "cell_type": "code",
   "execution_count": 81,
   "metadata": {
    "collapsed": true
   },
   "outputs": [],
   "source": [
    "from sklearn.linear_model import Ridge"
   ]
  },
  {
   "cell_type": "code",
   "execution_count": 82,
   "metadata": {
    "collapsed": true
   },
   "outputs": [],
   "source": [
    "ridge_reg=Ridge(alpha=1, solver=\"cholesky\")"
   ]
  },
  {
   "cell_type": "code",
   "execution_count": 129,
   "metadata": {
    "scrolled": true
   },
   "outputs": [
    {
     "data": {
      "text/plain": [
       "Ridge(alpha=1, copy_X=True, fit_intercept=True, max_iter=None,\n",
       "   normalize=False, random_state=None, solver='cholesky', tol=0.001)"
      ]
     },
     "execution_count": 129,
     "metadata": {},
     "output_type": "execute_result"
    }
   ],
   "source": [
    "ridge_reg.fit(X_Train,Y_Train)"
   ]
  },
  {
   "cell_type": "code",
   "execution_count": 130,
   "metadata": {
    "scrolled": true
   },
   "outputs": [
    {
     "name": "stdout",
     "output_type": "stream",
     "text": [
      "('Predictions:\\t', array([ 0.59944748,  0.63019844,  0.60140417,  0.57957184,  0.55494894]))\n",
      "('Labels:\\t\\t', [0.61950000762899993, 0.60750000000000004, 0.59849998474099997, 0.59800001144399995, 0.53899999618500005])\n"
     ]
    }
   ],
   "source": [
    "some_data = X_Train.iloc[:5]\n",
    "some_labels = Y_Train.iloc[:5]\n",
    "print(\"Predictions:\\t\", ridge_reg.predict(some_data))\n",
    "print(\"Labels:\\t\\t\", list(some_labels))"
   ]
  },
  {
   "cell_type": "markdown",
   "metadata": {},
   "source": [
    "Avec cette seconde approche nous remarquons que notre modèle commence à s'ameliorer"
   ]
  },
  {
   "cell_type": "markdown",
   "metadata": {},
   "source": [
    "Essayons une evaluation avec le RMSE"
   ]
  },
  {
   "cell_type": "code",
   "execution_count": 134,
   "metadata": {
    "scrolled": true
   },
   "outputs": [
    {
     "data": {
      "text/plain": [
       "0.046650628919065386"
      ]
     },
     "execution_count": 134,
     "metadata": {},
     "output_type": "execute_result"
    }
   ],
   "source": [
    "from sklearn.metrics import mean_squared_error\n",
    "CGPA_predictions = ridge_reg.predict(X_Train)\n",
    "lin_mse = mean_squared_error(Y_Train, CGPA_predictions)\n",
    "lin_rmse=np.sqrt(lin_mse)\n",
    "lin_rmse"
   ]
  },
  {
   "cell_type": "markdown",
   "metadata": {},
   "source": [
    "EValuons ensuite notre modele sur le test set et voyons comment evoluera le RMSE"
   ]
  },
  {
   "cell_type": "code",
   "execution_count": 132,
   "metadata": {},
   "outputs": [
    {
     "data": {
      "text/plain": [
       "108"
      ]
     },
     "execution_count": 132,
     "metadata": {},
     "output_type": "execute_result"
    }
   ],
   "source": [
    "len(ridge_reg.coef_)"
   ]
  },
  {
   "cell_type": "code",
   "execution_count": 92,
   "metadata": {
    "collapsed": true
   },
   "outputs": [],
   "source": [
    "Y_Test=Med_Test_bin.CGPA\n",
    "X_Test=Med_Test_bin.drop(labels=['CGPA'],axis=1)"
   ]
  },
  {
   "cell_type": "code",
   "execution_count": 138,
   "metadata": {},
   "outputs": [
    {
     "data": {
      "text/plain": [
       "(49, 110)"
      ]
     },
     "execution_count": 138,
     "metadata": {},
     "output_type": "execute_result"
    }
   ],
   "source": [
    "Med_Test_bin.shape"
   ]
  },
  {
   "cell_type": "code",
   "execution_count": 135,
   "metadata": {},
   "outputs": [
    {
     "data": {
      "text/plain": [
       "0.066020981080969224"
      ]
     },
     "execution_count": 135,
     "metadata": {},
     "output_type": "execute_result"
    }
   ],
   "source": [
    "from sklearn.metrics import mean_squared_error\n",
    "CGPA_predictions = ridge_reg.predict(X_Test)\n",
    "lin_mse = mean_squared_error(Y_Test, CGPA_predictions)\n",
    "lin_rmse=np.sqrt(lin_mse)\n",
    "lin_rmse"
   ]
  },
  {
   "cell_type": "markdown",
   "metadata": {},
   "source": [
    "comme nos valeurs du CGPA sont compris entre 0.4 et 0.83 une erreur de 0.06 sur la prediction inferieur à 10% est pratiquement aceptable"
   ]
  },
  {
   "cell_type": "markdown",
   "metadata": {
    "collapsed": true
   },
   "source": [
    "#### 2.1 Cross Validation du Modèle"
   ]
  },
  {
   "cell_type": "markdown",
   "metadata": {},
   "source": [
    "Verifions avant tous que nos modèles ont les meme distributions statistiques"
   ]
  },
  {
   "cell_type": "code",
   "execution_count": 86,
   "metadata": {
    "scrolled": true
   },
   "outputs": [
    {
     "data": {
      "text/html": [
       "<div>\n",
       "<table border=\"1\" class=\"dataframe\">\n",
       "  <thead>\n",
       "    <tr style=\"text-align: right;\">\n",
       "      <th></th>\n",
       "      <th>DIPPERC</th>\n",
       "      <th>CGPA</th>\n",
       "    </tr>\n",
       "  </thead>\n",
       "  <tbody>\n",
       "    <tr>\n",
       "      <th>count</th>\n",
       "      <td>193.000000</td>\n",
       "      <td>193.000000</td>\n",
       "    </tr>\n",
       "    <tr>\n",
       "      <th>mean</th>\n",
       "      <td>0.594774</td>\n",
       "      <td>0.577718</td>\n",
       "    </tr>\n",
       "    <tr>\n",
       "      <th>std</th>\n",
       "      <td>0.072775</td>\n",
       "      <td>0.072102</td>\n",
       "    </tr>\n",
       "    <tr>\n",
       "      <th>min</th>\n",
       "      <td>0.500000</td>\n",
       "      <td>0.400000</td>\n",
       "    </tr>\n",
       "    <tr>\n",
       "      <th>25%</th>\n",
       "      <td>0.530000</td>\n",
       "      <td>0.547000</td>\n",
       "    </tr>\n",
       "    <tr>\n",
       "      <th>50%</th>\n",
       "      <td>0.580000</td>\n",
       "      <td>0.592500</td>\n",
       "    </tr>\n",
       "    <tr>\n",
       "      <th>75%</th>\n",
       "      <td>0.630000</td>\n",
       "      <td>0.622000</td>\n",
       "    </tr>\n",
       "    <tr>\n",
       "      <th>max</th>\n",
       "      <td>0.830000</td>\n",
       "      <td>0.740000</td>\n",
       "    </tr>\n",
       "  </tbody>\n",
       "</table>\n",
       "</div>"
      ],
      "text/plain": [
       "          DIPPERC        CGPA\n",
       "count  193.000000  193.000000\n",
       "mean     0.594774    0.577718\n",
       "std      0.072775    0.072102\n",
       "min      0.500000    0.400000\n",
       "25%      0.530000    0.547000\n",
       "50%      0.580000    0.592500\n",
       "75%      0.630000    0.622000\n",
       "max      0.830000    0.740000"
      ]
     },
     "execution_count": 86,
     "metadata": {},
     "output_type": "execute_result"
    }
   ],
   "source": [
    "Med_Train.describe()"
   ]
  },
  {
   "cell_type": "code",
   "execution_count": 87,
   "metadata": {},
   "outputs": [
    {
     "data": {
      "text/html": [
       "<div>\n",
       "<table border=\"1\" class=\"dataframe\">\n",
       "  <thead>\n",
       "    <tr style=\"text-align: right;\">\n",
       "      <th></th>\n",
       "      <th>DIPPERC</th>\n",
       "      <th>CGPA</th>\n",
       "    </tr>\n",
       "  </thead>\n",
       "  <tbody>\n",
       "    <tr>\n",
       "      <th>count</th>\n",
       "      <td>49.000000</td>\n",
       "      <td>49.000000</td>\n",
       "    </tr>\n",
       "    <tr>\n",
       "      <th>mean</th>\n",
       "      <td>0.592653</td>\n",
       "      <td>0.572949</td>\n",
       "    </tr>\n",
       "    <tr>\n",
       "      <th>std</th>\n",
       "      <td>0.075105</td>\n",
       "      <td>0.059417</td>\n",
       "    </tr>\n",
       "    <tr>\n",
       "      <th>min</th>\n",
       "      <td>0.500000</td>\n",
       "      <td>0.400000</td>\n",
       "    </tr>\n",
       "    <tr>\n",
       "      <th>25%</th>\n",
       "      <td>0.540000</td>\n",
       "      <td>0.551000</td>\n",
       "    </tr>\n",
       "    <tr>\n",
       "      <th>50%</th>\n",
       "      <td>0.580000</td>\n",
       "      <td>0.584500</td>\n",
       "    </tr>\n",
       "    <tr>\n",
       "      <th>75%</th>\n",
       "      <td>0.620000</td>\n",
       "      <td>0.610000</td>\n",
       "    </tr>\n",
       "    <tr>\n",
       "      <th>max</th>\n",
       "      <td>0.840000</td>\n",
       "      <td>0.698500</td>\n",
       "    </tr>\n",
       "  </tbody>\n",
       "</table>\n",
       "</div>"
      ],
      "text/plain": [
       "         DIPPERC       CGPA\n",
       "count  49.000000  49.000000\n",
       "mean    0.592653   0.572949\n",
       "std     0.075105   0.059417\n",
       "min     0.500000   0.400000\n",
       "25%     0.540000   0.551000\n",
       "50%     0.580000   0.584500\n",
       "75%     0.620000   0.610000\n",
       "max     0.840000   0.698500"
      ]
     },
     "execution_count": 87,
     "metadata": {},
     "output_type": "execute_result"
    }
   ],
   "source": [
    "Med_Test.describe()"
   ]
  },
  {
   "cell_type": "markdown",
   "metadata": {},
   "source": [
    "Nous pouvons conclure aisement que nos deux ensembles ont pratiquement les memes dimensions ou presque"
   ]
  },
  {
   "cell_type": "code",
   "execution_count": 136,
   "metadata": {
    "collapsed": true
   },
   "outputs": [],
   "source": [
    "from sklearn.model_selection import cross_val_score\n"
   ]
  },
  {
   "cell_type": "code",
   "execution_count": 140,
   "metadata": {
    "collapsed": true
   },
   "outputs": [],
   "source": [
    "from sklearn.model_selection import cross_val_score\n",
    "scores = cross_val_score(ridge_reg, X_Train, Y_Train,scoring=\"neg_mean_squared_error\", cv=10)\n",
    "rmse_scores = np.sqrt(-scores)"
   ]
  },
  {
   "cell_type": "code",
   "execution_count": 142,
   "metadata": {
    "scrolled": true
   },
   "outputs": [
    {
     "name": "stdout",
     "output_type": "stream",
     "text": [
      "('Scores:', array([ 0.0576845 ,  0.07388   ,  0.08361106,  0.05121212,  0.05438664,\n",
      "        0.05934756,  0.05879391,  0.07577841,  0.05755318,  0.06468633]))\n",
      "('Mean:', 0.063693369762372692)\n",
      "('Standard deviation:', 0.010033005792933954)\n"
     ]
    }
   ],
   "source": [
    "def display_scores(scores):\n",
    "    print(\"Scores:\", scores)\n",
    "    print(\"Mean:\", scores.mean())\n",
    "    print(\"Standard deviation:\", scores.std())\n",
    "display_scores(rmse_scores)"
   ]
  },
  {
   "cell_type": "markdown",
   "metadata": {},
   "source": [
    "on peut aisement remarquer sue notre modèle meme lors d'une validation croisée dispose de la meme valeur de l'erreur "
   ]
  },
  {
   "cell_type": "markdown",
   "metadata": {},
   "source": [
    "Nous pouvons enfin sauvergarder notre modèle et passer au modèle suivant"
   ]
  },
  {
   "cell_type": "code",
   "execution_count": 147,
   "metadata": {
    "scrolled": true
   },
   "outputs": [
    {
     "data": {
      "text/plain": [
       "['../predictivesModels/medecineRidgRegress.pkl']"
      ]
     },
     "execution_count": 147,
     "metadata": {},
     "output_type": "execute_result"
    }
   ],
   "source": [
    "from sklearn.externals import joblib\n",
    "joblib.dump(ridge_reg, \"../predictivesModels/medecineRidgRegress.pkl\")"
   ]
  },
  {
   "cell_type": "markdown",
   "metadata": {},
   "source": [
    "#### 3.Modèle Support Vector Regresssor"
   ]
  },
  {
   "cell_type": "markdown",
   "metadata": {},
   "source": [
    "Nous allons maintennant entrainner un modèle pour le SVR : il utilse le meme principe que le SVM normal pour la classification mais bien adapté pour les taches de regressions"
   ]
  },
  {
   "cell_type": "code",
   "execution_count": 148,
   "metadata": {
    "collapsed": true
   },
   "outputs": [],
   "source": [
    "from sklearn.svm import LinearSVR"
   ]
  },
  {
   "cell_type": "code",
   "execution_count": 155,
   "metadata": {
    "collapsed": true
   },
   "outputs": [],
   "source": [
    "linSVM_reg=LinearSVR(dual=False,fit_intercept=False,loss='squared_epsilon_insensitive' )"
   ]
  },
  {
   "cell_type": "code",
   "execution_count": 156,
   "metadata": {
    "scrolled": false
   },
   "outputs": [
    {
     "data": {
      "text/plain": [
       "LinearSVR(C=1.0, dual=False, epsilon=0.0, fit_intercept=False,\n",
       "     intercept_scaling=1.0, loss='squared_epsilon_insensitive',\n",
       "     max_iter=1000, random_state=None, tol=0.0001, verbose=0)"
      ]
     },
     "execution_count": 156,
     "metadata": {},
     "output_type": "execute_result"
    }
   ],
   "source": [
    "linSVM_reg.fit(X_Train,Y_Train)"
   ]
  },
  {
   "cell_type": "code",
   "execution_count": 157,
   "metadata": {
    "scrolled": true
   },
   "outputs": [
    {
     "name": "stdout",
     "output_type": "stream",
     "text": [
      "('Predictions:\\t', array([ 0.60075631,  0.6338749 ,  0.60470872,  0.58111407,  0.53385469]))\n",
      "('Labels:\\t\\t', [0.61950000762899993, 0.60750000000000004, 0.59849998474099997, 0.59800001144399995, 0.53899999618500005])\n"
     ]
    }
   ],
   "source": [
    "some_data = X_Train.iloc[:5]\n",
    "some_labels = Y_Train.iloc[:5]\n",
    "print(\"Predictions:\\t\", linSVM_reg.predict(some_data))\n",
    "print(\"Labels:\\t\\t\", list(some_labels))"
   ]
  },
  {
   "cell_type": "markdown",
   "metadata": {},
   "source": [
    "Avec cette seconde approche nous remarquons que notre modèle commence à s'ameliorer"
   ]
  },
  {
   "cell_type": "markdown",
   "metadata": {},
   "source": [
    "Essayons une evaluation avec le RMSE"
   ]
  },
  {
   "cell_type": "code",
   "execution_count": 159,
   "metadata": {
    "scrolled": true
   },
   "outputs": [
    {
     "data": {
      "text/plain": [
       "0.044471700859937138"
      ]
     },
     "execution_count": 159,
     "metadata": {},
     "output_type": "execute_result"
    }
   ],
   "source": [
    "from sklearn.metrics import mean_squared_error\n",
    "CGPA_predictions = linSVM_reg.predict(X_Train)\n",
    "lin_mse = mean_squared_error(Y_Train, CGPA_predictions)\n",
    "lin_rmse=np.sqrt(lin_mse)\n",
    "lin_rmse"
   ]
  },
  {
   "cell_type": "markdown",
   "metadata": {},
   "source": [
    "EValuons ensuite notre modele sur le test set et voyons comment evoluera le RMSE"
   ]
  },
  {
   "cell_type": "code",
   "execution_count": 132,
   "metadata": {},
   "outputs": [
    {
     "data": {
      "text/plain": [
       "108"
      ]
     },
     "execution_count": 132,
     "metadata": {},
     "output_type": "execute_result"
    }
   ],
   "source": [
    "len(ridge_reg.coef_)"
   ]
  },
  {
   "cell_type": "code",
   "execution_count": 160,
   "metadata": {},
   "outputs": [
    {
     "data": {
      "text/plain": [
       "0.078396453860313006"
      ]
     },
     "execution_count": 160,
     "metadata": {},
     "output_type": "execute_result"
    }
   ],
   "source": [
    "from sklearn.metrics import mean_squared_error\n",
    "CGPA_predictions = linSVM_reg.predict(X_Test)\n",
    "lin_mse = mean_squared_error(Y_Test, CGPA_predictions)\n",
    "lin_rmse=np.sqrt(lin_mse)\n",
    "lin_rmse"
   ]
  },
  {
   "cell_type": "markdown",
   "metadata": {},
   "source": [
    "comme nos valeurs du CGPA sont compris entre 0.4 et 0.83 une erreur de 0.07839 sur la prediction inferieur à 10% est pratiquement aceptable"
   ]
  },
  {
   "cell_type": "markdown",
   "metadata": {
    "collapsed": true
   },
   "source": [
    "#### 2.1 Cross Validation du Modèle"
   ]
  },
  {
   "cell_type": "code",
   "execution_count": 136,
   "metadata": {
    "collapsed": true
   },
   "outputs": [],
   "source": [
    "from sklearn.model_selection import cross_val_score\n"
   ]
  },
  {
   "cell_type": "code",
   "execution_count": 161,
   "metadata": {
    "collapsed": true
   },
   "outputs": [],
   "source": [
    "from sklearn.model_selection import cross_val_score\n",
    "scores = cross_val_score(linSVM_reg, X_Train, Y_Train,scoring=\"neg_mean_squared_error\", cv=10)\n",
    "rmse_scores = np.sqrt(-scores)"
   ]
  },
  {
   "cell_type": "code",
   "execution_count": 162,
   "metadata": {
    "scrolled": true
   },
   "outputs": [
    {
     "name": "stdout",
     "output_type": "stream",
     "text": [
      "('Scores:', array([ 0.06707195,  0.08078435,  0.08956454,  0.06594362,  0.06962361,\n",
      "        0.05213383,  0.05002476,  0.06410408,  0.06002967,  0.06297896]))\n",
      "('Mean:', 0.066225937273730509)\n",
      "('Standard deviation:', 0.011329086979526115)\n"
     ]
    }
   ],
   "source": [
    "def display_scores(scores):\n",
    "    print(\"Scores:\", scores)\n",
    "    print(\"Mean:\", scores.mean())\n",
    "    print(\"Standard deviation:\", scores.std())\n",
    "display_scores(rmse_scores)"
   ]
  },
  {
   "cell_type": "markdown",
   "metadata": {},
   "source": [
    "on peut aisement remarquer sue notre modèle meme lors d'une validation croisée dispose de la meme valeur de l'erreur "
   ]
  },
  {
   "cell_type": "markdown",
   "metadata": {},
   "source": [
    "Nous pouvons enfin sauvergarder notre modèle et passer au modèle suivant"
   ]
  },
  {
   "cell_type": "code",
   "execution_count": 163,
   "metadata": {
    "scrolled": true
   },
   "outputs": [
    {
     "data": {
      "text/plain": [
       "['../predictivesModels/medecineSVR.pkl']"
      ]
     },
     "execution_count": 163,
     "metadata": {},
     "output_type": "execute_result"
    }
   ],
   "source": [
    "from sklearn.externals import joblib\n",
    "joblib.dump(ridge_reg, \"../predictivesModels/medecineSVR.pkl\")"
   ]
  },
  {
   "cell_type": "markdown",
   "metadata": {},
   "source": [
    "#### Réduction des Dimensions"
   ]
  },
  {
   "cell_type": "code",
   "execution_count": null,
   "metadata": {
    "collapsed": true
   },
   "outputs": [],
   "source": []
  },
  {
   "cell_type": "code",
   "execution_count": 80,
   "metadata": {
    "collapsed": true
   },
   "outputs": [],
   "source": [
    "from sklearn.decomposition import PCA"
   ]
  },
  {
   "cell_type": "code",
   "execution_count": 88,
   "metadata": {
    "collapsed": true
   },
   "outputs": [],
   "source": [
    "pca = PCA()\n",
    "pca.fit(X)\n",
    "cumsum = np.cumsum(pca.explained_variance_ratio_)\n",
    "d = np.argmax(cumsum >= 0.98) + 1"
   ]
  },
  {
   "cell_type": "markdown",
   "metadata": {},
   "source": [
    "##### 2. Faculté d'Economie"
   ]
  },
  {
   "cell_type": "markdown",
   "metadata": {
    "collapsed": true
   },
   "source": [
    "Pour commencer notre entrainement nous alons echantilloner nos donnes pour constituter un ensemble d'apprentissahe (Training set), et un ensemble d'evaluation du modèle (test set)"
   ]
  },
  {
   "cell_type": "code",
   "execution_count": 219,
   "metadata": {},
   "outputs": [],
   "source": [
    "Economie=datasetCGPA.loc[datasetCGPA.FAC=='FSEG']"
   ]
  },
  {
   "cell_type": "code",
   "execution_count": 220,
   "metadata": {},
   "outputs": [
    {
     "data": {
      "text/plain": [
       "(1549, 8)"
      ]
     },
     "execution_count": 220,
     "metadata": {},
     "output_type": "execute_result"
    }
   ],
   "source": [
    "Economie.shape"
   ]
  },
  {
   "cell_type": "markdown",
   "metadata": {},
   "source": [
    "Nous allons avant tous standariser le poucentage pour un bon calcul nous allons le diviser par 100"
   ]
  },
  {
   "cell_type": "code",
   "execution_count": 221,
   "metadata": {
    "scrolled": true
   },
   "outputs": [],
   "source": [
    "Economie.loc[:,'DIPPERC']=Economie.DIPPERC/100"
   ]
  },
  {
   "cell_type": "code",
   "execution_count": 222,
   "metadata": {
    "collapsed": true
   },
   "outputs": [],
   "source": [
    "Economie.loc[:,'CGPA']=Economie.CGPA/100"
   ]
  },
  {
   "cell_type": "code",
   "execution_count": 223,
   "metadata": {
    "scrolled": false
   },
   "outputs": [
    {
     "data": {
      "text/html": [
       "<div>\n",
       "<table border=\"1\" class=\"dataframe\">\n",
       "  <thead>\n",
       "    <tr style=\"text-align: right;\">\n",
       "      <th></th>\n",
       "      <th>DIPPERC</th>\n",
       "      <th>SCHOOL_RIGHT</th>\n",
       "      <th>OPTION_RIGHT</th>\n",
       "      <th>FAC</th>\n",
       "      <th>CGPA</th>\n",
       "      <th>DistinctionRatio</th>\n",
       "      <th>EchecRatio</th>\n",
       "      <th>Pass1stSessionRatio</th>\n",
       "    </tr>\n",
       "    <tr>\n",
       "      <th>ID</th>\n",
       "      <th></th>\n",
       "      <th></th>\n",
       "      <th></th>\n",
       "      <th></th>\n",
       "      <th></th>\n",
       "      <th></th>\n",
       "      <th></th>\n",
       "      <th></th>\n",
       "    </tr>\n",
       "  </thead>\n",
       "  <tbody>\n",
       "    <tr>\n",
       "      <th>3895</th>\n",
       "      <td>0.52</td>\n",
       "      <td>zanner</td>\n",
       "      <td>commmerciale et adm</td>\n",
       "      <td>FSEG</td>\n",
       "      <td>0.594</td>\n",
       "      <td>G</td>\n",
       "      <td>G</td>\n",
       "      <td>G</td>\n",
       "    </tr>\n",
       "    <tr>\n",
       "      <th>4048</th>\n",
       "      <td>0.53</td>\n",
       "      <td>zanner</td>\n",
       "      <td>commmerciale et adm</td>\n",
       "      <td>FSEG</td>\n",
       "      <td>0.400</td>\n",
       "      <td>G</td>\n",
       "      <td>A</td>\n",
       "      <td>G</td>\n",
       "    </tr>\n",
       "    <tr>\n",
       "      <th>4217</th>\n",
       "      <td>0.54</td>\n",
       "      <td>zanner</td>\n",
       "      <td>commmerciale et adm</td>\n",
       "      <td>FSEG</td>\n",
       "      <td>0.613</td>\n",
       "      <td>G</td>\n",
       "      <td>G</td>\n",
       "      <td>A</td>\n",
       "    </tr>\n",
       "    <tr>\n",
       "      <th>4347</th>\n",
       "      <td>0.53</td>\n",
       "      <td>zanner</td>\n",
       "      <td>commmerciale et adm</td>\n",
       "      <td>FSEG</td>\n",
       "      <td>0.606</td>\n",
       "      <td>G</td>\n",
       "      <td>G</td>\n",
       "      <td>G</td>\n",
       "    </tr>\n",
       "    <tr>\n",
       "      <th>4409</th>\n",
       "      <td>0.58</td>\n",
       "      <td>zanner</td>\n",
       "      <td>commmerciale et adm</td>\n",
       "      <td>FSEG</td>\n",
       "      <td>0.486</td>\n",
       "      <td>G</td>\n",
       "      <td>A</td>\n",
       "      <td>G</td>\n",
       "    </tr>\n",
       "    <tr>\n",
       "      <th>4473</th>\n",
       "      <td>0.52</td>\n",
       "      <td>zanner</td>\n",
       "      <td>commmerciale et adm</td>\n",
       "      <td>FSEG</td>\n",
       "      <td>0.554</td>\n",
       "      <td>G</td>\n",
       "      <td>E</td>\n",
       "      <td>G</td>\n",
       "    </tr>\n",
       "  </tbody>\n",
       "</table>\n",
       "</div>"
      ],
      "text/plain": [
       "      DIPPERC SCHOOL_RIGHT         OPTION_RIGHT   FAC   CGPA DistinctionRatio  \\\n",
       "ID                                                                              \n",
       "3895     0.52       zanner  commmerciale et adm  FSEG  0.594                G   \n",
       "4048     0.53       zanner  commmerciale et adm  FSEG  0.400                G   \n",
       "4217     0.54       zanner  commmerciale et adm  FSEG  0.613                G   \n",
       "4347     0.53       zanner  commmerciale et adm  FSEG  0.606                G   \n",
       "4409     0.58       zanner  commmerciale et adm  FSEG  0.486                G   \n",
       "4473     0.52       zanner  commmerciale et adm  FSEG  0.554                G   \n",
       "\n",
       "     EchecRatio Pass1stSessionRatio  \n",
       "ID                                   \n",
       "3895          G                   G  \n",
       "4048          A                   G  \n",
       "4217          G                   A  \n",
       "4347          G                   G  \n",
       "4409          A                   G  \n",
       "4473          E                   G  "
      ]
     },
     "execution_count": 223,
     "metadata": {},
     "output_type": "execute_result"
    }
   ],
   "source": [
    "Economie.head(6)"
   ]
  },
  {
   "cell_type": "markdown",
   "metadata": {},
   "source": [
    "Dans une premiere approche nous allons constituer notre training set et test set qui sera representatif des nos données "
   ]
  },
  {
   "cell_type": "markdown",
   "metadata": {},
   "source": [
    "Nous allons proceder à un echantillonage stratifier pour constituer notre training set et notre test set nous prendrons les individus dans 2 categories differentes ceux qui ont un CGPA superieur à 50% et ceux dont le CPGA est inferieur à 50%"
   ]
  },
  {
   "cell_type": "code",
   "execution_count": 224,
   "metadata": {},
   "outputs": [
    {
     "data": {
      "text/plain": [
       "30.148482892188508"
      ]
     },
     "execution_count": 224,
     "metadata": {},
     "output_type": "execute_result"
    }
   ],
   "source": [
    "len(Economie.loc[Economie.CGPA<.55])*100/float(len(Economie))"
   ]
  },
  {
   "cell_type": "code",
   "execution_count": 225,
   "metadata": {
    "scrolled": true
   },
   "outputs": [
    {
     "data": {
      "text/plain": [
       "69.85151710781149"
      ]
     },
     "execution_count": 225,
     "metadata": {},
     "output_type": "execute_result"
    }
   ],
   "source": [
    "len(Economie.loc[Economie.CGPA>=.55])*100/float(len(Economie))"
   ]
  },
  {
   "cell_type": "code",
   "execution_count": 18,
   "metadata": {},
   "outputs": [
    {
     "data": {
      "text/plain": [
       "28"
      ]
     },
     "execution_count": 18,
     "metadata": {},
     "output_type": "execute_result"
    }
   ],
   "source": [
    "len(Economie.loc[Economie.DIPPERC<.55])*100/len(Economie)"
   ]
  },
  {
   "cell_type": "code",
   "execution_count": 226,
   "metadata": {},
   "outputs": [
    {
     "data": {
      "text/plain": [
       "58"
      ]
     },
     "execution_count": 226,
     "metadata": {},
     "output_type": "execute_result"
    }
   ],
   "source": [
    "len(Economie.loc[Economie.DIPPERC>=.55])*100/len(Economie)"
   ]
  },
  {
   "cell_type": "markdown",
   "metadata": {},
   "source": [
    "Nous allons efefctuer un  echantillonager stratifier dans chaque categorie des nos variables echec ratio, distinction ratio, Passage en premiere session ratio ensuite cree une union des indices pour avoir un ensemble d'apprentissage et un ensemble d'evaluation."
   ]
  },
  {
   "cell_type": "code",
   "execution_count": 227,
   "metadata": {},
   "outputs": [],
   "source": [
    "Economie_bin=ConvertCat(Economie,catCol=['SCHOOL_RIGHT', 'OPTION_RIGHT'],numCol=['DIPPERC','CGPA','EchecRatio'])"
   ]
  },
  {
   "cell_type": "code",
   "execution_count": 228,
   "metadata": {
    "collapsed": true
   },
   "outputs": [],
   "source": [
    "Economie_bin.reset_index(inplace=True)"
   ]
  },
  {
   "cell_type": "code",
   "execution_count": 229,
   "metadata": {},
   "outputs": [
    {
     "data": {
      "text/plain": [
       "(1549, 286)"
      ]
     },
     "execution_count": 229,
     "metadata": {},
     "output_type": "execute_result"
    }
   ],
   "source": [
    "Economie_bin.shape"
   ]
  },
  {
   "cell_type": "code",
   "execution_count": 25,
   "metadata": {
    "collapsed": true
   },
   "outputs": [],
   "source": [
    "from sklearn.model_selection import StratifiedShuffleSplit"
   ]
  },
  {
   "cell_type": "code",
   "execution_count": 230,
   "metadata": {
    "collapsed": true
   },
   "outputs": [],
   "source": [
    "split = StratifiedShuffleSplit(n_splits=1, test_size=0.2, random_state=42)"
   ]
  },
  {
   "cell_type": "code",
   "execution_count": 231,
   "metadata": {
    "collapsed": true,
    "scrolled": false
   },
   "outputs": [],
   "source": [
    "for train_index, test_index in split.split(Economie_bin, Economie.EchecRatio):\n",
    "    eco_Train_bin=Economie_bin.loc[train_index]\n",
    "    eco_Test_bin=Economie_bin.loc[test_index]"
   ]
  },
  {
   "cell_type": "code",
   "execution_count": 233,
   "metadata": {
    "scrolled": true
   },
   "outputs": [
    {
     "data": {
      "text/html": [
       "<div>\n",
       "<table border=\"1\" class=\"dataframe\">\n",
       "  <thead>\n",
       "    <tr style=\"text-align: right;\">\n",
       "      <th></th>\n",
       "      <th>ID</th>\n",
       "      <th>OPTION_RIGHT-commmerciale et adm</th>\n",
       "      <th>OPTION_RIGHT-pedagogie</th>\n",
       "      <th>OPTION_RIGHT-sociale</th>\n",
       "      <th>OPTION_RIGHT-bio-chimie</th>\n",
       "      <th>OPTION_RIGHT-latin philo</th>\n",
       "      <th>OPTION_RIGHT-commerciale informatique</th>\n",
       "      <th>OPTION_RIGHT-math-physique</th>\n",
       "      <th>OPTION_RIGHT-nutr</th>\n",
       "      <th>OPTION_RIGHT-secretariat</th>\n",
       "      <th>...</th>\n",
       "      <th>SCHOOL_RIGHT-kamanyola</th>\n",
       "      <th>SCHOOL_RIGHT-Rwaraga</th>\n",
       "      <th>SCHOOL_RIGHT-savana</th>\n",
       "      <th>SCHOOL_RIGHT-MWENGA</th>\n",
       "      <th>SCHOOL_RIGHT-de beni</th>\n",
       "      <th>SCHOOL_RIGHT-g.s lemba</th>\n",
       "      <th>SCHOOL_RIGHT-la sapiniere</th>\n",
       "      <th>DIPPERC</th>\n",
       "      <th>CGPA</th>\n",
       "      <th>EchecRatio</th>\n",
       "    </tr>\n",
       "  </thead>\n",
       "  <tbody>\n",
       "    <tr>\n",
       "      <th>1013</th>\n",
       "      <td>4536</td>\n",
       "      <td>0</td>\n",
       "      <td>0</td>\n",
       "      <td>0</td>\n",
       "      <td>0</td>\n",
       "      <td>1</td>\n",
       "      <td>0</td>\n",
       "      <td>0</td>\n",
       "      <td>0</td>\n",
       "      <td>0</td>\n",
       "      <td>...</td>\n",
       "      <td>0</td>\n",
       "      <td>0</td>\n",
       "      <td>0</td>\n",
       "      <td>0</td>\n",
       "      <td>0</td>\n",
       "      <td>0</td>\n",
       "      <td>0</td>\n",
       "      <td>0.53</td>\n",
       "      <td>0.643</td>\n",
       "      <td>G</td>\n",
       "    </tr>\n",
       "  </tbody>\n",
       "</table>\n",
       "<p>1 rows × 286 columns</p>\n",
       "</div>"
      ],
      "text/plain": [
       "        ID  OPTION_RIGHT-commmerciale et adm  OPTION_RIGHT-pedagogie  \\\n",
       "1013  4536                                 0                       0   \n",
       "\n",
       "      OPTION_RIGHT-sociale  OPTION_RIGHT-bio-chimie  OPTION_RIGHT-latin philo  \\\n",
       "1013                     0                        0                         1   \n",
       "\n",
       "      OPTION_RIGHT-commerciale informatique  OPTION_RIGHT-math-physique  \\\n",
       "1013                                      0                           0   \n",
       "\n",
       "      OPTION_RIGHT-nutr  OPTION_RIGHT-secretariat     ...      \\\n",
       "1013                  0                         0     ...       \n",
       "\n",
       "      SCHOOL_RIGHT-kamanyola  SCHOOL_RIGHT-Rwaraga  SCHOOL_RIGHT-savana  \\\n",
       "1013                       0                     0                    0   \n",
       "\n",
       "      SCHOOL_RIGHT-MWENGA  SCHOOL_RIGHT-de beni  SCHOOL_RIGHT-g.s lemba  \\\n",
       "1013                    0                     0                       0   \n",
       "\n",
       "      SCHOOL_RIGHT-la sapiniere  DIPPERC   CGPA  EchecRatio  \n",
       "1013                          0     0.53  0.643           G  \n",
       "\n",
       "[1 rows x 286 columns]"
      ]
     },
     "execution_count": 233,
     "metadata": {},
     "output_type": "execute_result"
    }
   ],
   "source": [
    "eco_Test_bin.head(1)"
   ]
  },
  {
   "cell_type": "code",
   "execution_count": 234,
   "metadata": {
    "scrolled": true
   },
   "outputs": [
    {
     "data": {
      "text/html": [
       "<div>\n",
       "<table border=\"1\" class=\"dataframe\">\n",
       "  <thead>\n",
       "    <tr style=\"text-align: right;\">\n",
       "      <th></th>\n",
       "      <th>DIPPERC</th>\n",
       "      <th>CGPA</th>\n",
       "    </tr>\n",
       "  </thead>\n",
       "  <tbody>\n",
       "    <tr>\n",
       "      <th>count</th>\n",
       "      <td>1239.000000</td>\n",
       "      <td>1239.000000</td>\n",
       "    </tr>\n",
       "    <tr>\n",
       "      <th>mean</th>\n",
       "      <td>0.569117</td>\n",
       "      <td>0.564485</td>\n",
       "    </tr>\n",
       "    <tr>\n",
       "      <th>std</th>\n",
       "      <td>0.056110</td>\n",
       "      <td>0.061951</td>\n",
       "    </tr>\n",
       "    <tr>\n",
       "      <th>min</th>\n",
       "      <td>0.500000</td>\n",
       "      <td>0.357000</td>\n",
       "    </tr>\n",
       "    <tr>\n",
       "      <th>25%</th>\n",
       "      <td>0.520000</td>\n",
       "      <td>0.537000</td>\n",
       "    </tr>\n",
       "    <tr>\n",
       "      <th>50%</th>\n",
       "      <td>0.560000</td>\n",
       "      <td>0.578333</td>\n",
       "    </tr>\n",
       "    <tr>\n",
       "      <th>75%</th>\n",
       "      <td>0.600000</td>\n",
       "      <td>0.603000</td>\n",
       "    </tr>\n",
       "    <tr>\n",
       "      <th>max</th>\n",
       "      <td>0.790000</td>\n",
       "      <td>0.749000</td>\n",
       "    </tr>\n",
       "  </tbody>\n",
       "</table>\n",
       "</div>"
      ],
      "text/plain": [
       "           DIPPERC         CGPA\n",
       "count  1239.000000  1239.000000\n",
       "mean      0.569117     0.564485\n",
       "std       0.056110     0.061951\n",
       "min       0.500000     0.357000\n",
       "25%       0.520000     0.537000\n",
       "50%       0.560000     0.578333\n",
       "75%       0.600000     0.603000\n",
       "max       0.790000     0.749000"
      ]
     },
     "execution_count": 234,
     "metadata": {},
     "output_type": "execute_result"
    }
   ],
   "source": [
    "eco_Train_bin.describe()[['DIPPERC','CGPA']]"
   ]
  },
  {
   "cell_type": "code",
   "execution_count": 235,
   "metadata": {
    "scrolled": false
   },
   "outputs": [
    {
     "data": {
      "text/html": [
       "<div>\n",
       "<table border=\"1\" class=\"dataframe\">\n",
       "  <thead>\n",
       "    <tr style=\"text-align: right;\">\n",
       "      <th></th>\n",
       "      <th>DIPPERC</th>\n",
       "      <th>CGPA</th>\n",
       "    </tr>\n",
       "  </thead>\n",
       "  <tbody>\n",
       "    <tr>\n",
       "      <th>count</th>\n",
       "      <td>310.000000</td>\n",
       "      <td>310.000000</td>\n",
       "    </tr>\n",
       "    <tr>\n",
       "      <th>mean</th>\n",
       "      <td>0.565161</td>\n",
       "      <td>0.564366</td>\n",
       "    </tr>\n",
       "    <tr>\n",
       "      <th>std</th>\n",
       "      <td>0.052711</td>\n",
       "      <td>0.065679</td>\n",
       "    </tr>\n",
       "    <tr>\n",
       "      <th>min</th>\n",
       "      <td>0.500000</td>\n",
       "      <td>0.400000</td>\n",
       "    </tr>\n",
       "    <tr>\n",
       "      <th>25%</th>\n",
       "      <td>0.520000</td>\n",
       "      <td>0.538750</td>\n",
       "    </tr>\n",
       "    <tr>\n",
       "      <th>50%</th>\n",
       "      <td>0.550000</td>\n",
       "      <td>0.573000</td>\n",
       "    </tr>\n",
       "    <tr>\n",
       "      <th>75%</th>\n",
       "      <td>0.600000</td>\n",
       "      <td>0.606875</td>\n",
       "    </tr>\n",
       "    <tr>\n",
       "      <th>max</th>\n",
       "      <td>0.770000</td>\n",
       "      <td>0.724750</td>\n",
       "    </tr>\n",
       "  </tbody>\n",
       "</table>\n",
       "</div>"
      ],
      "text/plain": [
       "          DIPPERC        CGPA\n",
       "count  310.000000  310.000000\n",
       "mean     0.565161    0.564366\n",
       "std      0.052711    0.065679\n",
       "min      0.500000    0.400000\n",
       "25%      0.520000    0.538750\n",
       "50%      0.550000    0.573000\n",
       "75%      0.600000    0.606875\n",
       "max      0.770000    0.724750"
      ]
     },
     "execution_count": 235,
     "metadata": {},
     "output_type": "execute_result"
    }
   ],
   "source": [
    "eco_Test_bin.describe()[['DIPPERC','CGPA']]"
   ]
  },
  {
   "cell_type": "markdown",
   "metadata": {},
   "source": [
    "Nous allons effetuer un echantillonage stratifier en fonction de la colonne echec ratio, nous allons prendre les individus deans chque categrie et nos echantillons on les memes descriptions statistiques"
   ]
  },
  {
   "cell_type": "markdown",
   "metadata": {},
   "source": [
    "nous pouvons constater que notre echantilonage est bien effectuer car les proportions des diplome percentage et CGPA sont bien respecté"
   ]
  },
  {
   "cell_type": "markdown",
   "metadata": {},
   "source": [
    "Apres la construction de nos 2 ensembles nous pouvons passer à l'encodage de nos données "
   ]
  },
  {
   "cell_type": "code",
   "execution_count": 236,
   "metadata": {
    "scrolled": false
   },
   "outputs": [],
   "source": [
    "eco_Train_bin.set_index(keys='ID',inplace=True)\n",
    "eco_Test_bin.set_index(keys='ID',inplace=True)"
   ]
  },
  {
   "cell_type": "markdown",
   "metadata": {},
   "source": [
    "Une fois la binerisation terminée nous allons debuter avec l'entrainement de nos models d'apprentissages :"
   ]
  },
  {
   "cell_type": "markdown",
   "metadata": {},
   "source": [
    "Pour commencer nous allons nous referer au cheatsheet de skleran pour debuter avec l'entrainement de nos differents modèles."
   ]
  },
  {
   "cell_type": "markdown",
   "metadata": {},
   "source": [
    "### 1. Alogritme de Prediction : Regression Lineaire avec gradient descent"
   ]
  },
  {
   "cell_type": "markdown",
   "metadata": {},
   "source": [
    "Pour la premierre approche nous allons effectuer une regression lineare en utilisant l'algoritmne SGD ensuite nous evaluerons les preformance du modèle."
   ]
  },
  {
   "cell_type": "markdown",
   "metadata": {},
   "source": [
    "Commencons par charger notre modèle :"
   ]
  },
  {
   "cell_type": "code",
   "execution_count": 36,
   "metadata": {
    "collapsed": true
   },
   "outputs": [],
   "source": [
    "from sklearn.linear_model import SGDRegressor"
   ]
  },
  {
   "cell_type": "code",
   "execution_count": 37,
   "metadata": {
    "collapsed": true
   },
   "outputs": [],
   "source": [
    "lin_reg=SGDRegressor(learning_rate='optimal',n_iter=1000)"
   ]
  },
  {
   "cell_type": "code",
   "execution_count": 237,
   "metadata": {
    "collapsed": true,
    "scrolled": true
   },
   "outputs": [],
   "source": [
    "Y_Train=eco_Train_bin.CGPA\n",
    "X_Train=eco_Train_bin.drop(labels=['CGPA','EchecRatio'],axis=1)\n",
    "Y_Test=eco_Test_bin.CGPA\n",
    "X_Test=eco_Test_bin.drop(labels=['CGPA','EchecRatio'],axis=1)"
   ]
  },
  {
   "cell_type": "code",
   "execution_count": 238,
   "metadata": {
    "scrolled": false
   },
   "outputs": [
    {
     "data": {
      "text/html": [
       "<div>\n",
       "<table border=\"1\" class=\"dataframe\">\n",
       "  <thead>\n",
       "    <tr style=\"text-align: right;\">\n",
       "      <th></th>\n",
       "      <th>OPTION_RIGHT-commmerciale et adm</th>\n",
       "      <th>OPTION_RIGHT-pedagogie</th>\n",
       "      <th>OPTION_RIGHT-sociale</th>\n",
       "      <th>OPTION_RIGHT-bio-chimie</th>\n",
       "      <th>OPTION_RIGHT-latin philo</th>\n",
       "      <th>OPTION_RIGHT-commerciale informatique</th>\n",
       "      <th>OPTION_RIGHT-math-physique</th>\n",
       "      <th>OPTION_RIGHT-nutr</th>\n",
       "      <th>OPTION_RIGHT-secretariat</th>\n",
       "      <th>OPTION_RIGHT-coupe couture</th>\n",
       "      <th>...</th>\n",
       "      <th>SCHOOL_RIGHT-ziwa kivu</th>\n",
       "      <th>SCHOOL_RIGHT-mabalako</th>\n",
       "      <th>SCHOOL_RIGHT-kamanyola</th>\n",
       "      <th>SCHOOL_RIGHT-Rwaraga</th>\n",
       "      <th>SCHOOL_RIGHT-savana</th>\n",
       "      <th>SCHOOL_RIGHT-MWENGA</th>\n",
       "      <th>SCHOOL_RIGHT-de beni</th>\n",
       "      <th>SCHOOL_RIGHT-g.s lemba</th>\n",
       "      <th>SCHOOL_RIGHT-la sapiniere</th>\n",
       "      <th>DIPPERC</th>\n",
       "    </tr>\n",
       "    <tr>\n",
       "      <th>ID</th>\n",
       "      <th></th>\n",
       "      <th></th>\n",
       "      <th></th>\n",
       "      <th></th>\n",
       "      <th></th>\n",
       "      <th></th>\n",
       "      <th></th>\n",
       "      <th></th>\n",
       "      <th></th>\n",
       "      <th></th>\n",
       "      <th></th>\n",
       "      <th></th>\n",
       "      <th></th>\n",
       "      <th></th>\n",
       "      <th></th>\n",
       "      <th></th>\n",
       "      <th></th>\n",
       "      <th></th>\n",
       "      <th></th>\n",
       "      <th></th>\n",
       "      <th></th>\n",
       "    </tr>\n",
       "  </thead>\n",
       "  <tbody>\n",
       "    <tr>\n",
       "      <th>3907</th>\n",
       "      <td>0</td>\n",
       "      <td>0</td>\n",
       "      <td>0</td>\n",
       "      <td>0</td>\n",
       "      <td>1</td>\n",
       "      <td>0</td>\n",
       "      <td>0</td>\n",
       "      <td>0</td>\n",
       "      <td>0</td>\n",
       "      <td>0</td>\n",
       "      <td>...</td>\n",
       "      <td>0</td>\n",
       "      <td>0</td>\n",
       "      <td>0</td>\n",
       "      <td>0</td>\n",
       "      <td>0</td>\n",
       "      <td>0</td>\n",
       "      <td>0</td>\n",
       "      <td>0</td>\n",
       "      <td>0</td>\n",
       "      <td>0.50</td>\n",
       "    </tr>\n",
       "    <tr>\n",
       "      <th>9700</th>\n",
       "      <td>0</td>\n",
       "      <td>0</td>\n",
       "      <td>0</td>\n",
       "      <td>0</td>\n",
       "      <td>1</td>\n",
       "      <td>0</td>\n",
       "      <td>0</td>\n",
       "      <td>0</td>\n",
       "      <td>0</td>\n",
       "      <td>0</td>\n",
       "      <td>...</td>\n",
       "      <td>0</td>\n",
       "      <td>0</td>\n",
       "      <td>0</td>\n",
       "      <td>0</td>\n",
       "      <td>0</td>\n",
       "      <td>0</td>\n",
       "      <td>0</td>\n",
       "      <td>0</td>\n",
       "      <td>0</td>\n",
       "      <td>0.59</td>\n",
       "    </tr>\n",
       "    <tr>\n",
       "      <th>9098</th>\n",
       "      <td>0</td>\n",
       "      <td>0</td>\n",
       "      <td>0</td>\n",
       "      <td>0</td>\n",
       "      <td>1</td>\n",
       "      <td>0</td>\n",
       "      <td>0</td>\n",
       "      <td>0</td>\n",
       "      <td>0</td>\n",
       "      <td>0</td>\n",
       "      <td>...</td>\n",
       "      <td>0</td>\n",
       "      <td>0</td>\n",
       "      <td>0</td>\n",
       "      <td>0</td>\n",
       "      <td>0</td>\n",
       "      <td>0</td>\n",
       "      <td>0</td>\n",
       "      <td>0</td>\n",
       "      <td>0</td>\n",
       "      <td>0.52</td>\n",
       "    </tr>\n",
       "    <tr>\n",
       "      <th>11606</th>\n",
       "      <td>0</td>\n",
       "      <td>0</td>\n",
       "      <td>0</td>\n",
       "      <td>0</td>\n",
       "      <td>1</td>\n",
       "      <td>0</td>\n",
       "      <td>0</td>\n",
       "      <td>0</td>\n",
       "      <td>0</td>\n",
       "      <td>0</td>\n",
       "      <td>...</td>\n",
       "      <td>0</td>\n",
       "      <td>0</td>\n",
       "      <td>0</td>\n",
       "      <td>0</td>\n",
       "      <td>0</td>\n",
       "      <td>0</td>\n",
       "      <td>0</td>\n",
       "      <td>0</td>\n",
       "      <td>0</td>\n",
       "      <td>0.55</td>\n",
       "    </tr>\n",
       "    <tr>\n",
       "      <th>7145</th>\n",
       "      <td>0</td>\n",
       "      <td>0</td>\n",
       "      <td>1</td>\n",
       "      <td>0</td>\n",
       "      <td>0</td>\n",
       "      <td>0</td>\n",
       "      <td>0</td>\n",
       "      <td>0</td>\n",
       "      <td>0</td>\n",
       "      <td>0</td>\n",
       "      <td>...</td>\n",
       "      <td>0</td>\n",
       "      <td>0</td>\n",
       "      <td>0</td>\n",
       "      <td>0</td>\n",
       "      <td>0</td>\n",
       "      <td>0</td>\n",
       "      <td>0</td>\n",
       "      <td>0</td>\n",
       "      <td>0</td>\n",
       "      <td>0.60</td>\n",
       "    </tr>\n",
       "  </tbody>\n",
       "</table>\n",
       "<p>5 rows × 283 columns</p>\n",
       "</div>"
      ],
      "text/plain": [
       "       OPTION_RIGHT-commmerciale et adm  OPTION_RIGHT-pedagogie  \\\n",
       "ID                                                                \n",
       "3907                                  0                       0   \n",
       "9700                                  0                       0   \n",
       "9098                                  0                       0   \n",
       "11606                                 0                       0   \n",
       "7145                                  0                       0   \n",
       "\n",
       "       OPTION_RIGHT-sociale  OPTION_RIGHT-bio-chimie  \\\n",
       "ID                                                     \n",
       "3907                      0                        0   \n",
       "9700                      0                        0   \n",
       "9098                      0                        0   \n",
       "11606                     0                        0   \n",
       "7145                      1                        0   \n",
       "\n",
       "       OPTION_RIGHT-latin philo  OPTION_RIGHT-commerciale informatique  \\\n",
       "ID                                                                       \n",
       "3907                          1                                      0   \n",
       "9700                          1                                      0   \n",
       "9098                          1                                      0   \n",
       "11606                         1                                      0   \n",
       "7145                          0                                      0   \n",
       "\n",
       "       OPTION_RIGHT-math-physique  OPTION_RIGHT-nutr  \\\n",
       "ID                                                     \n",
       "3907                            0                  0   \n",
       "9700                            0                  0   \n",
       "9098                            0                  0   \n",
       "11606                           0                  0   \n",
       "7145                            0                  0   \n",
       "\n",
       "       OPTION_RIGHT-secretariat  OPTION_RIGHT-coupe couture   ...     \\\n",
       "ID                                                            ...      \n",
       "3907                          0                           0   ...      \n",
       "9700                          0                           0   ...      \n",
       "9098                          0                           0   ...      \n",
       "11606                         0                           0   ...      \n",
       "7145                          0                           0   ...      \n",
       "\n",
       "       SCHOOL_RIGHT-ziwa kivu  SCHOOL_RIGHT-mabalako  SCHOOL_RIGHT-kamanyola  \\\n",
       "ID                                                                             \n",
       "3907                        0                      0                       0   \n",
       "9700                        0                      0                       0   \n",
       "9098                        0                      0                       0   \n",
       "11606                       0                      0                       0   \n",
       "7145                        0                      0                       0   \n",
       "\n",
       "       SCHOOL_RIGHT-Rwaraga  SCHOOL_RIGHT-savana  SCHOOL_RIGHT-MWENGA  \\\n",
       "ID                                                                      \n",
       "3907                      0                    0                    0   \n",
       "9700                      0                    0                    0   \n",
       "9098                      0                    0                    0   \n",
       "11606                     0                    0                    0   \n",
       "7145                      0                    0                    0   \n",
       "\n",
       "       SCHOOL_RIGHT-de beni  SCHOOL_RIGHT-g.s lemba  \\\n",
       "ID                                                    \n",
       "3907                      0                       0   \n",
       "9700                      0                       0   \n",
       "9098                      0                       0   \n",
       "11606                     0                       0   \n",
       "7145                      0                       0   \n",
       "\n",
       "       SCHOOL_RIGHT-la sapiniere  DIPPERC  \n",
       "ID                                         \n",
       "3907                           0     0.50  \n",
       "9700                           0     0.59  \n",
       "9098                           0     0.52  \n",
       "11606                          0     0.55  \n",
       "7145                           0     0.60  \n",
       "\n",
       "[5 rows x 283 columns]"
      ]
     },
     "execution_count": 238,
     "metadata": {},
     "output_type": "execute_result"
    }
   ],
   "source": [
    "X_Train[:5]"
   ]
  },
  {
   "cell_type": "code",
   "execution_count": 40,
   "metadata": {
    "scrolled": true
   },
   "outputs": [
    {
     "data": {
      "text/plain": [
       "ID\n",
       "9486     0.644333\n",
       "11485    0.629000\n",
       "12161    0.566000\n",
       "7530     0.517000\n",
       "9959     0.663000\n",
       "Name: CGPA, dtype: float64"
      ]
     },
     "execution_count": 40,
     "metadata": {},
     "output_type": "execute_result"
    }
   ],
   "source": [
    "Y_Train[:5]"
   ]
  },
  {
   "cell_type": "code",
   "execution_count": 239,
   "metadata": {
    "scrolled": false
   },
   "outputs": [
    {
     "data": {
      "text/plain": [
       "SGDRegressor(alpha=0.0001, average=False, epsilon=0.1, eta0=0.01,\n",
       "       fit_intercept=True, l1_ratio=0.15, learning_rate='optimal',\n",
       "       loss='squared_loss', n_iter=1000, penalty='l2', power_t=0.25,\n",
       "       random_state=None, shuffle=True, verbose=0, warm_start=False)"
      ]
     },
     "execution_count": 239,
     "metadata": {},
     "output_type": "execute_result"
    }
   ],
   "source": [
    "lin_reg.fit(X_Train,Y_Train)"
   ]
  },
  {
   "cell_type": "code",
   "execution_count": 240,
   "metadata": {
    "scrolled": false
   },
   "outputs": [
    {
     "name": "stdout",
     "output_type": "stream",
     "text": [
      "('Predictions:\\t', array([ 122553.54996276,  -18700.29683608,   49285.35048351,\n",
      "         55629.53519225,  -68641.0705857 ]))\n",
      "('Labels:\\t\\t', [0.48599998474099998, 0.61899999618500001, 0.618333333333, 0.59599998474100002, 0.62333333333300001])\n"
     ]
    }
   ],
   "source": [
    "some_data = X_Train.iloc[:5]\n",
    "some_labels = Y_Train.iloc[:5]\n",
    "print(\"Predictions:\\t\", lin_reg.predict(some_data))\n",
    "print(\"Labels:\\t\\t\", list(some_labels))"
   ]
  },
  {
   "cell_type": "markdown",
   "metadata": {},
   "source": [
    "Après notre premierre approche on remqrque que notre modèle est très mal construit"
   ]
  },
  {
   "cell_type": "markdown",
   "metadata": {},
   "source": [
    "Essayons une evaluation avec le RMSE"
   ]
  },
  {
   "cell_type": "code",
   "execution_count": 241,
   "metadata": {},
   "outputs": [
    {
     "data": {
      "text/plain": [
       "180876.85392540382"
      ]
     },
     "execution_count": 241,
     "metadata": {},
     "output_type": "execute_result"
    }
   ],
   "source": [
    "from sklearn.metrics import mean_squared_error\n",
    "CGPA_predictions = lin_reg.predict(X_Train)\n",
    "lin_mse = mean_squared_error(Y_Train, CGPA_predictions)\n",
    "lin_rmse=np.sqrt(lin_mse)\n",
    "lin_rmse"
   ]
  },
  {
   "cell_type": "markdown",
   "metadata": {},
   "source": [
    "Comme souligner à l'appendice comme notre ensemble d'apprentissage n'est pas assez grand nous pouvons conclure que au vue de l'erreur que nous avions obtenu et notre taille del'echantillons que le SGD algoritme ne convient pas '"
   ]
  },
  {
   "cell_type": "code",
   "execution_count": null,
   "metadata": {
    "collapsed": true
   },
   "outputs": [],
   "source": []
  },
  {
   "cell_type": "markdown",
   "metadata": {},
   "source": [
    "##### 2. Modele des Regression Regularisée"
   ]
  },
  {
   "cell_type": "markdown",
   "metadata": {},
   "source": [
    "Comme notre ensemble d'apprentissage est relativement petit nous entrainerons une regression rigide"
   ]
  },
  {
   "cell_type": "code",
   "execution_count": 242,
   "metadata": {
    "collapsed": true
   },
   "outputs": [],
   "source": [
    "from sklearn.linear_model import Ridge"
   ]
  },
  {
   "cell_type": "code",
   "execution_count": 243,
   "metadata": {
    "collapsed": true
   },
   "outputs": [],
   "source": [
    "ridge_reg=Ridge(alpha=1, solver=\"cholesky\")"
   ]
  },
  {
   "cell_type": "code",
   "execution_count": 244,
   "metadata": {
    "scrolled": true
   },
   "outputs": [
    {
     "data": {
      "text/plain": [
       "Ridge(alpha=1, copy_X=True, fit_intercept=True, max_iter=None,\n",
       "   normalize=False, random_state=None, solver='cholesky', tol=0.001)"
      ]
     },
     "execution_count": 244,
     "metadata": {},
     "output_type": "execute_result"
    }
   ],
   "source": [
    "ridge_reg.fit(X_Train,Y_Train)"
   ]
  },
  {
   "cell_type": "code",
   "execution_count": 245,
   "metadata": {
    "scrolled": false
   },
   "outputs": [
    {
     "name": "stdout",
     "output_type": "stream",
     "text": [
      "('Predictions:\\t', array([ 0.55701682,  0.59415512,  0.58414456,  0.58332202,  0.60326932]))\n",
      "('Labels:\\t\\t', [0.48599998474099998, 0.61899999618500001, 0.618333333333, 0.59599998474100002, 0.62333333333300001])\n"
     ]
    }
   ],
   "source": [
    "some_data = X_Train.iloc[:5]\n",
    "some_labels = Y_Train.iloc[:5]\n",
    "print(\"Predictions:\\t\", ridge_reg.predict(some_data))\n",
    "print(\"Labels:\\t\\t\", list(some_labels))"
   ]
  },
  {
   "cell_type": "markdown",
   "metadata": {},
   "source": [
    "Avec cette seconde approche nous remarquons que notre modèle commence à s'ameliorer"
   ]
  },
  {
   "cell_type": "markdown",
   "metadata": {},
   "source": [
    "Essayons une evaluation avec le RMSE"
   ]
  },
  {
   "cell_type": "code",
   "execution_count": 246,
   "metadata": {
    "scrolled": true
   },
   "outputs": [
    {
     "data": {
      "text/plain": [
       "0.049256183881533661"
      ]
     },
     "execution_count": 246,
     "metadata": {},
     "output_type": "execute_result"
    }
   ],
   "source": [
    "from sklearn.metrics import mean_squared_error\n",
    "CGPA_predictions = ridge_reg.predict(X_Train)\n",
    "lin_mse = mean_squared_error(Y_Train, CGPA_predictions)\n",
    "lin_rmse=np.sqrt(lin_mse)\n",
    "lin_rmse"
   ]
  },
  {
   "cell_type": "markdown",
   "metadata": {},
   "source": [
    "EValuons ensuite notre modele sur le test set et voyons comment evoluera le RMSE"
   ]
  },
  {
   "cell_type": "code",
   "execution_count": 247,
   "metadata": {},
   "outputs": [
    {
     "data": {
      "text/plain": [
       "283"
      ]
     },
     "execution_count": 247,
     "metadata": {},
     "output_type": "execute_result"
    }
   ],
   "source": [
    "len(ridge_reg.coef_)"
   ]
  },
  {
   "cell_type": "markdown",
   "metadata": {},
   "source": [
    "Evaluons notre modèle sur l'ensemble d'evaluation et verifions les resultats"
   ]
  },
  {
   "cell_type": "code",
   "execution_count": 248,
   "metadata": {},
   "outputs": [
    {
     "data": {
      "text/plain": [
       "0.058797427439363725"
      ]
     },
     "execution_count": 248,
     "metadata": {},
     "output_type": "execute_result"
    }
   ],
   "source": [
    "from sklearn.metrics import mean_squared_error\n",
    "CGPA_predictions = ridge_reg.predict(X_Test)\n",
    "lin_mse = mean_squared_error(Y_Test, CGPA_predictions)\n",
    "lin_rmse=np.sqrt(lin_mse)\n",
    "lin_rmse"
   ]
  },
  {
   "cell_type": "markdown",
   "metadata": {},
   "source": [
    "comme nos valeurs du CGPA sont compris entre 0.4 et 0.83 une erreur de 0.06 sur la prediction inferieur à 10% est pratiquement aceptable"
   ]
  },
  {
   "cell_type": "markdown",
   "metadata": {
    "collapsed": true
   },
   "source": [
    "#### 2.1 Cross Validation du Modèle"
   ]
  },
  {
   "cell_type": "markdown",
   "metadata": {},
   "source": [
    "Verifions avant tous que nos modèles ont les meme distributions statistiques"
   ]
  },
  {
   "cell_type": "markdown",
   "metadata": {},
   "source": [
    "Nous pouvons conclure aisement que nos deux ensembles ont pratiquement les memes dimensions ou presque"
   ]
  },
  {
   "cell_type": "code",
   "execution_count": 249,
   "metadata": {
    "collapsed": true
   },
   "outputs": [],
   "source": [
    "from sklearn.model_selection import cross_val_score\n",
    "scores = cross_val_score(ridge_reg, X_Train, Y_Train,scoring=\"neg_mean_squared_error\", cv=10)\n",
    "rmse_scores = np.sqrt(-scores)"
   ]
  },
  {
   "cell_type": "code",
   "execution_count": 250,
   "metadata": {
    "scrolled": true
   },
   "outputs": [
    {
     "name": "stdout",
     "output_type": "stream",
     "text": [
      "('Scores:', array([ 0.06040778,  0.063084  ,  0.05917228,  0.05338855,  0.05353587,\n",
      "        0.05834529,  0.06686407,  0.05381406,  0.05361605,  0.05153734]))\n",
      "('Mean:', 0.057376527784788064)\n",
      "('Standard deviation:', 0.0047699422372373427)\n"
     ]
    }
   ],
   "source": [
    "def display_scores(scores):\n",
    "    print(\"Scores:\", scores)\n",
    "    print(\"Mean:\", scores.mean())\n",
    "    print(\"Standard deviation:\", scores.std())\n",
    "display_scores(rmse_scores)"
   ]
  },
  {
   "cell_type": "markdown",
   "metadata": {},
   "source": [
    "on peut aisement remarquer sue notre modèle meme lors d'une validation croisée dispose de la meme valeur de l'erreur "
   ]
  },
  {
   "cell_type": "markdown",
   "metadata": {},
   "source": [
    "Nous pouvons enfin sauvergarder notre modèle et passer au modèle suivant"
   ]
  },
  {
   "cell_type": "code",
   "execution_count": 251,
   "metadata": {
    "scrolled": true
   },
   "outputs": [
    {
     "data": {
      "text/plain": [
       "['../predictivesModels/EconomieRidgRegress.pkl']"
      ]
     },
     "execution_count": 251,
     "metadata": {},
     "output_type": "execute_result"
    }
   ],
   "source": [
    "from sklearn.externals import joblib\n",
    "joblib.dump(ridge_reg, \"../predictivesModels/EconomieRidgRegress.pkl\")"
   ]
  },
  {
   "cell_type": "markdown",
   "metadata": {},
   "source": [
    "#### 3.Modèle Support Vector Regresssor"
   ]
  },
  {
   "cell_type": "markdown",
   "metadata": {},
   "source": [
    "Nous allons maintennant entrainner un modèle pour le SVR : il utilse le meme principe que le SVM normal pour la classification mais bien adapté pour les taches de regressions"
   ]
  },
  {
   "cell_type": "code",
   "execution_count": 56,
   "metadata": {
    "collapsed": true
   },
   "outputs": [],
   "source": [
    "from sklearn.svm import LinearSVR"
   ]
  },
  {
   "cell_type": "code",
   "execution_count": 252,
   "metadata": {},
   "outputs": [],
   "source": [
    "linSVM_reg=LinearSVR(dual=False,fit_intercept=False,loss='squared_epsilon_insensitive' )"
   ]
  },
  {
   "cell_type": "code",
   "execution_count": 253,
   "metadata": {
    "scrolled": false
   },
   "outputs": [
    {
     "data": {
      "text/plain": [
       "LinearSVR(C=1.0, dual=False, epsilon=0.0, fit_intercept=False,\n",
       "     intercept_scaling=1.0, loss='squared_epsilon_insensitive',\n",
       "     max_iter=1000, random_state=None, tol=0.0001, verbose=0)"
      ]
     },
     "execution_count": 253,
     "metadata": {},
     "output_type": "execute_result"
    }
   ],
   "source": [
    "linSVM_reg.fit(X_Train,Y_Train)"
   ]
  },
  {
   "cell_type": "code",
   "execution_count": 254,
   "metadata": {
    "scrolled": true
   },
   "outputs": [
    {
     "name": "stdout",
     "output_type": "stream",
     "text": [
      "('Predictions:\\t', array([ 0.54406702,  0.59921186,  0.58557652,  0.57675313,  0.60761677]))\n",
      "('Labels:\\t\\t', [0.48599998474099998, 0.61899999618500001, 0.618333333333, 0.59599998474100002, 0.62333333333300001])\n"
     ]
    }
   ],
   "source": [
    "some_data = X_Train.iloc[:5]\n",
    "some_labels = Y_Train.iloc[:5]\n",
    "print(\"Predictions:\\t\", linSVM_reg.predict(some_data))\n",
    "print(\"Labels:\\t\\t\", list(some_labels))"
   ]
  },
  {
   "cell_type": "markdown",
   "metadata": {},
   "source": [
    "Avec cette seconde approche nous remarquons que notre modèle commence à s'ameliorer"
   ]
  },
  {
   "cell_type": "markdown",
   "metadata": {},
   "source": [
    "Essayons une evaluation avec le RMSE"
   ]
  },
  {
   "cell_type": "code",
   "execution_count": 255,
   "metadata": {
    "scrolled": true
   },
   "outputs": [
    {
     "data": {
      "text/plain": [
       "0.050122559048785743"
      ]
     },
     "execution_count": 255,
     "metadata": {},
     "output_type": "execute_result"
    }
   ],
   "source": [
    "from sklearn.metrics import mean_squared_error\n",
    "CGPA_predictions = linSVM_reg.predict(X_Train)\n",
    "lin_mse = mean_squared_error(Y_Train, CGPA_predictions)\n",
    "lin_rmse=np.sqrt(lin_mse)\n",
    "lin_rmse"
   ]
  },
  {
   "cell_type": "markdown",
   "metadata": {},
   "source": [
    "EValuons ensuite notre modele sur le test set et voyons comment evoluera le RMSE"
   ]
  },
  {
   "cell_type": "code",
   "execution_count": 257,
   "metadata": {},
   "outputs": [
    {
     "data": {
      "text/plain": [
       "0.064710654812651758"
      ]
     },
     "execution_count": 257,
     "metadata": {},
     "output_type": "execute_result"
    }
   ],
   "source": [
    "from sklearn.metrics import mean_squared_error\n",
    "CGPA_predictions = linSVM_reg.predict(X_Test)\n",
    "lin_mse = mean_squared_error(Y_Test, CGPA_predictions)\n",
    "lin_rmse=np.sqrt(lin_mse)\n",
    "lin_rmse"
   ]
  },
  {
   "cell_type": "markdown",
   "metadata": {},
   "source": [
    "comme nos valeurs du CGPA sont compris entre 0.4 et 0.83 une erreur de 0.07839 sur la prediction inferieur à 10% est pratiquement aceptable"
   ]
  },
  {
   "cell_type": "markdown",
   "metadata": {
    "collapsed": true
   },
   "source": [
    "#### 2.1 Cross Validation du Modèle"
   ]
  },
  {
   "cell_type": "code",
   "execution_count": 258,
   "metadata": {
    "collapsed": true
   },
   "outputs": [],
   "source": [
    "from sklearn.model_selection import cross_val_score\n",
    "scores = cross_val_score(linSVM_reg, X_Train, Y_Train,scoring=\"neg_mean_squared_error\", cv=10)\n",
    "rmse_scores = np.sqrt(-scores)"
   ]
  },
  {
   "cell_type": "code",
   "execution_count": 259,
   "metadata": {
    "scrolled": true
   },
   "outputs": [
    {
     "name": "stdout",
     "output_type": "stream",
     "text": [
      "('Scores:', array([ 0.06290206,  0.06406853,  0.06371744,  0.0531503 ,  0.05996778,\n",
      "        0.07121686,  0.07103052,  0.06420991,  0.05528356,  0.06458557]))\n",
      "('Mean:', 0.063013253823785004)\n",
      "('Standard deviation:', 0.0055082003177155834)\n"
     ]
    }
   ],
   "source": [
    "def display_scores(scores):\n",
    "    print(\"Scores:\", scores)\n",
    "    print(\"Mean:\", scores.mean())\n",
    "    print(\"Standard deviation:\", scores.std())\n",
    "display_scores(rmse_scores)"
   ]
  },
  {
   "cell_type": "markdown",
   "metadata": {},
   "source": [
    "on peut aisement remarquer sue notre modèle meme lors d'une validation croisée dispose de la meme valeur de l'erreur "
   ]
  },
  {
   "cell_type": "markdown",
   "metadata": {},
   "source": [
    "Nous pouvons enfin sauvergarder notre modèle et passer au modèle suivant"
   ]
  },
  {
   "cell_type": "code",
   "execution_count": 260,
   "metadata": {
    "scrolled": true
   },
   "outputs": [
    {
     "data": {
      "text/plain": [
       "['../predictivesModels/EconomieSVR.pkl']"
      ]
     },
     "execution_count": 260,
     "metadata": {},
     "output_type": "execute_result"
    }
   ],
   "source": [
    "from sklearn.externals import joblib\n",
    "joblib.dump(ridge_reg, \"../predictivesModels/EconomieSVR.pkl\")"
   ]
  },
  {
   "cell_type": "markdown",
   "metadata": {},
   "source": [
    "Nous pouvons constater que notre modèle dispose d'une erreur de prédiction de l'ordre des 10% maximun c'est qui n'est pas parfait , cela veut dire qu'il prédit le CGPA a 10% pret "
   ]
  },
  {
   "cell_type": "markdown",
   "metadata": {},
   "source": [
    "Comme les modèles lineaires ne nous donnent pas des meilleurs resultat et comme sugererer sur la figure nous allons entrainer un SVR avec un kernel gaussien rbf (voir kernel SVM)"
   ]
  },
  {
   "cell_type": "markdown",
   "metadata": {},
   "source": [
    "#### 3.Modèle Support Vector Regresssor Kernel Gaussien (RBF)"
   ]
  },
  {
   "cell_type": "markdown",
   "metadata": {},
   "source": [
    "Nous allons maintennant entrainner un modèle pour le SVR : il utilse le meme principe que le SVM normal pour la classification mais bien adapté pour les taches de regressions"
   ]
  },
  {
   "cell_type": "code",
   "execution_count": 66,
   "metadata": {
    "collapsed": true
   },
   "outputs": [],
   "source": [
    "from sklearn.svm import SVR"
   ]
  },
  {
   "cell_type": "code",
   "execution_count": 261,
   "metadata": {},
   "outputs": [],
   "source": [
    "rbfSVM_reg=SVR(verbose=True)"
   ]
  },
  {
   "cell_type": "code",
   "execution_count": 262,
   "metadata": {
    "scrolled": false
   },
   "outputs": [
    {
     "name": "stdout",
     "output_type": "stream",
     "text": [
      "[LibSVM]"
     ]
    },
    {
     "data": {
      "text/plain": [
       "SVR(C=1.0, cache_size=200, coef0=0.0, degree=3, epsilon=0.1, gamma='auto',\n",
       "  kernel='rbf', max_iter=-1, shrinking=True, tol=0.001, verbose=True)"
      ]
     },
     "execution_count": 262,
     "metadata": {},
     "output_type": "execute_result"
    }
   ],
   "source": [
    "rbfSVM_reg.fit(X_Train,Y_Train)"
   ]
  },
  {
   "cell_type": "code",
   "execution_count": 263,
   "metadata": {
    "scrolled": true
   },
   "outputs": [
    {
     "name": "stdout",
     "output_type": "stream",
     "text": [
      "('Predictions:\\t', array([ 0.55057317,  0.54558226,  0.54402584,  0.54479125,  0.5537442 ]))\n",
      "('Labels:\\t\\t', [0.48599998474099998, 0.61899999618500001, 0.618333333333, 0.59599998474100002, 0.62333333333300001])\n"
     ]
    }
   ],
   "source": [
    "some_data = X_Train.iloc[:5]\n",
    "some_labels = Y_Train.iloc[:5]\n",
    "print(\"Predictions:\\t\", rbfSVM_reg.predict(some_data))\n",
    "print(\"Labels:\\t\\t\", list(some_labels))"
   ]
  },
  {
   "cell_type": "markdown",
   "metadata": {},
   "source": [
    "Avec cette seconde approche nous remarquons que notre modèle commence à s'ameliorer"
   ]
  },
  {
   "cell_type": "markdown",
   "metadata": {},
   "source": [
    "Essayons une evaluation avec le RMSE"
   ]
  },
  {
   "cell_type": "code",
   "execution_count": 264,
   "metadata": {
    "scrolled": true
   },
   "outputs": [
    {
     "data": {
      "text/plain": [
       "0.061859836390664738"
      ]
     },
     "execution_count": 264,
     "metadata": {},
     "output_type": "execute_result"
    }
   ],
   "source": [
    "from sklearn.metrics import mean_squared_error\n",
    "CGPA_predictions = rbfSVM_reg.predict(X_Train)\n",
    "lin_mse = mean_squared_error(Y_Train, CGPA_predictions)\n",
    "lin_rmse=np.sqrt(lin_mse)\n",
    "lin_rmse"
   ]
  },
  {
   "cell_type": "markdown",
   "metadata": {},
   "source": [
    "EValuons ensuite notre modele sur le test set et voyons comment evoluera le RMSE"
   ]
  },
  {
   "cell_type": "code",
   "execution_count": 61,
   "metadata": {},
   "outputs": [
    {
     "data": {
      "text/plain": [
       "237"
      ]
     },
     "execution_count": 61,
     "metadata": {},
     "output_type": "execute_result"
    }
   ],
   "source": [
    "len(ridge_reg.coef_)"
   ]
  },
  {
   "cell_type": "code",
   "execution_count": 265,
   "metadata": {},
   "outputs": [
    {
     "data": {
      "text/plain": [
       "0.065406921403279125"
      ]
     },
     "execution_count": 265,
     "metadata": {},
     "output_type": "execute_result"
    }
   ],
   "source": [
    "from sklearn.metrics import mean_squared_error\n",
    "CGPA_predictions = rbfSVM_reg.predict(X_Test)\n",
    "lin_mse = mean_squared_error(Y_Test, CGPA_predictions)\n",
    "lin_rmse=np.sqrt(lin_mse)\n",
    "lin_rmse"
   ]
  },
  {
   "cell_type": "markdown",
   "metadata": {},
   "source": [
    "comme nos valeurs du CGPA sont compris entre 0.4 et 0.83 une erreur de 0.07839 sur la prediction inferieur à 10% est pratiquement aceptable"
   ]
  },
  {
   "cell_type": "markdown",
   "metadata": {
    "collapsed": true
   },
   "source": [
    "#### 2.1 Cross Validation du Modèle"
   ]
  },
  {
   "cell_type": "code",
   "execution_count": 266,
   "metadata": {},
   "outputs": [
    {
     "name": "stdout",
     "output_type": "stream",
     "text": [
      "[LibSVM][LibSVM][LibSVM][LibSVM][LibSVM][LibSVM][LibSVM][LibSVM][LibSVM][LibSVM]"
     ]
    }
   ],
   "source": [
    "from sklearn.model_selection import cross_val_score\n",
    "scores = cross_val_score(rbfSVM_reg, X_Train, Y_Train,scoring=\"neg_mean_squared_error\", cv=10)\n",
    "rmse_scores = np.sqrt(-scores)"
   ]
  },
  {
   "cell_type": "code",
   "execution_count": 267,
   "metadata": {
    "scrolled": true
   },
   "outputs": [
    {
     "name": "stdout",
     "output_type": "stream",
     "text": [
      "('Scores:', array([ 0.06990468,  0.06213945,  0.06415987,  0.0612956 ,  0.05994264,\n",
      "        0.06394214,  0.0682813 ,  0.05758861,  0.06403873,  0.06003568]))\n",
      "('Mean:', 0.063132869888177567)\n",
      "('Standard deviation:', 0.0036022950044768487)\n"
     ]
    }
   ],
   "source": [
    "def display_scores(scores):\n",
    "    print(\"Scores:\", scores)\n",
    "    print(\"Mean:\", scores.mean())\n",
    "    print(\"Standard deviation:\", scores.std())\n",
    "display_scores(rmse_scores)"
   ]
  },
  {
   "cell_type": "markdown",
   "metadata": {},
   "source": [
    "on peut aisement remarquer sue notre modèle meme lors d'une validation croisée dispose de la meme valeur de l'erreur "
   ]
  },
  {
   "cell_type": "markdown",
   "metadata": {},
   "source": [
    "Nous pouvons enfin sauvergarder notre modèle et passer au modèle suivant"
   ]
  },
  {
   "cell_type": "code",
   "execution_count": 268,
   "metadata": {
    "scrolled": true
   },
   "outputs": [
    {
     "data": {
      "text/plain": [
       "['../predictivesModels/EconomierbfSVR.pkl']"
      ]
     },
     "execution_count": 268,
     "metadata": {},
     "output_type": "execute_result"
    }
   ],
   "source": [
    "from sklearn.externals import joblib\n",
    "joblib.dump(ridge_reg, \"../predictivesModels/EconomierbfSVR.pkl\")"
   ]
  },
  {
   "cell_type": "markdown",
   "metadata": {},
   "source": [
    "le RMSE dans la faculté d'economie est sensiblment faible "
   ]
  },
  {
   "cell_type": "markdown",
   "metadata": {},
   "source": [
    "##### Amelioration du modèle "
   ]
  },
  {
   "cell_type": "markdown",
   "metadata": {},
   "source": [
    "Pour ameliorer notre modèle nous utiliserons 2 techniques :\n",
    "    - Feature Importance : La technique consiste à evaluer les attribues les plus importants pour notre modèle de prédiction et entrainer uniquement le modèle avec ces attribues\n",
    "    - Ensemble Methods : La techniques consistant à combiner plusieurs algoritmes et choisir celui qui a un bon score"
   ]
  },
  {
   "cell_type": "markdown",
   "metadata": {},
   "source": [
    "La premiere approche consistera à efectuer divers combinaison des parametres pour le modèle SVM et ensuite choisir le meilleur mais aussi les attribues les plus importants"
   ]
  },
  {
   "cell_type": "code",
   "execution_count": 269,
   "metadata": {
    "collapsed": true
   },
   "outputs": [],
   "source": [
    "from sklearn.model_selection import GridSearchCV"
   ]
  },
  {
   "cell_type": "code",
   "execution_count": 270,
   "metadata": {
    "collapsed": true
   },
   "outputs": [],
   "source": [
    "param_grid = [\n",
    " {'C': [1, 10, 100, 1000], 'kernel': ['linear']},\n",
    " {'C': [1, 10, 100, 1000], 'gamma': [0.001, 0.0001], 'kernel': ['rbf']},\n",
    "]"
   ]
  },
  {
   "cell_type": "code",
   "execution_count": 271,
   "metadata": {
    "collapsed": true
   },
   "outputs": [],
   "source": [
    "grid_search = GridSearchCV(rbfSVM_reg, param_grid, cv=5,scoring='neg_mean_squared_error')"
   ]
  },
  {
   "cell_type": "code",
   "execution_count": 272,
   "metadata": {
    "scrolled": true
   },
   "outputs": [
    {
     "name": "stdout",
     "output_type": "stream",
     "text": [
      "[LibSVM][LibSVM][LibSVM][LibSVM][LibSVM][LibSVM][LibSVM][LibSVM][LibSVM][LibSVM][LibSVM][LibSVM][LibSVM][LibSVM][LibSVM][LibSVM][LibSVM][LibSVM][LibSVM][LibSVM][LibSVM][LibSVM][LibSVM][LibSVM][LibSVM][LibSVM][LibSVM][LibSVM][LibSVM][LibSVM][LibSVM][LibSVM][LibSVM][LibSVM][LibSVM][LibSVM][LibSVM][LibSVM][LibSVM][LibSVM][LibSVM][LibSVM][LibSVM][LibSVM][LibSVM][LibSVM][LibSVM][LibSVM][LibSVM][LibSVM][LibSVM][LibSVM][LibSVM][LibSVM][LibSVM][LibSVM][LibSVM][LibSVM][LibSVM][LibSVM][LibSVM]"
     ]
    },
    {
     "data": {
      "text/plain": [
       "GridSearchCV(cv=5, error_score='raise',\n",
       "       estimator=SVR(C=1.0, cache_size=200, coef0=0.0, degree=3, epsilon=0.1, gamma='auto',\n",
       "  kernel='rbf', max_iter=-1, shrinking=True, tol=0.001, verbose=True),\n",
       "       fit_params={}, iid=True, n_jobs=1,\n",
       "       param_grid=[{'kernel': ['linear'], 'C': [1, 10, 100, 1000]}, {'kernel': ['rbf'], 'C': [1, 10, 100, 1000], 'gamma': [0.001, 0.0001]}],\n",
       "       pre_dispatch='2*n_jobs', refit=True, return_train_score=True,\n",
       "       scoring='neg_mean_squared_error', verbose=0)"
      ]
     },
     "execution_count": 272,
     "metadata": {},
     "output_type": "execute_result"
    }
   ],
   "source": [
    "grid_search.fit(X_Train,Y_Train)"
   ]
  },
  {
   "cell_type": "code",
   "execution_count": 81,
   "metadata": {},
   "outputs": [
    {
     "data": {
      "text/plain": [
       "{'C': 1000, 'kernel': 'linear'}"
      ]
     },
     "execution_count": 81,
     "metadata": {},
     "output_type": "execute_result"
    }
   ],
   "source": [
    "grid_search.best_params_"
   ]
  },
  {
   "cell_type": "markdown",
   "metadata": {},
   "source": [
    "Après avoir essayer diverses combinaison des parametres nous constatons que le modele qui donne un bon resultat pour SVM est SVM avec un Kernel lineaire et une penalité de C=1000"
   ]
  },
  {
   "cell_type": "markdown",
   "metadata": {},
   "source": [
    "Nous pouvons voir les scores de plus pret pour la valeur de RMSE"
   ]
  },
  {
   "cell_type": "code",
   "execution_count": 273,
   "metadata": {
    "scrolled": false
   },
   "outputs": [
    {
     "name": "stdout",
     "output_type": "stream",
     "text": [
      "(0.062354245049522528, {'kernel': 'linear', 'C': 1})\n",
      "(0.062354571135077509, {'kernel': 'linear', 'C': 10})\n",
      "(0.062373730434042082, {'kernel': 'linear', 'C': 100})\n",
      "(0.062454694680117759, {'kernel': 'linear', 'C': 1000})\n",
      "(0.062479514082768486, {'kernel': 'rbf', 'C': 1, 'gamma': 0.001})\n",
      "(0.062508231127871364, {'kernel': 'rbf', 'C': 1, 'gamma': 0.0001})\n",
      "(0.062561350971048146, {'kernel': 'rbf', 'C': 10, 'gamma': 0.001})\n",
      "(0.062683505131161527, {'kernel': 'rbf', 'C': 10, 'gamma': 0.0001})\n",
      "(0.062689508240519332, {'kernel': 'rbf', 'C': 100, 'gamma': 0.001})\n",
      "(0.063892345973154935, {'kernel': 'rbf', 'C': 100, 'gamma': 0.0001})\n",
      "(0.06390116202635511, {'kernel': 'rbf', 'C': 1000, 'gamma': 0.001})\n",
      "(0.065787604182040937, {'kernel': 'rbf', 'C': 1000, 'gamma': 0.0001})\n"
     ]
    }
   ],
   "source": [
    "cvres = grid_search.cv_results_\n",
    "for mean_score, params in zip(sorted(cvres[\"mean_test_score\"],reverse=True), cvres[\"params\"]):\n",
    "    print(np.sqrt(-mean_score), params)"
   ]
  },
  {
   "cell_type": "markdown",
   "metadata": {},
   "source": [
    "On constate que le modèle avec un kernel lineaire et C:1 dispose d'un meilleur resultat en validation croisé avec comme erreur dans l'order de 0.076"
   ]
  },
  {
   "cell_type": "markdown",
   "metadata": {},
   "source": [
    "cherchons les parametres les plus importants"
   ]
  },
  {
   "cell_type": "markdown",
   "metadata": {},
   "source": [
    "Effectuons ensuite le gird search pour nos modèles de regression lineaire"
   ]
  },
  {
   "cell_type": "code",
   "execution_count": 96,
   "metadata": {},
   "outputs": [
    {
     "data": {
      "text/plain": [
       "array([-5. , -3.5, -2. ])"
      ]
     },
     "execution_count": 96,
     "metadata": {},
     "output_type": "execute_result"
    }
   ],
   "source": [
    "np.linspace(-5, -2, 3)"
   ]
  },
  {
   "cell_type": "code",
   "execution_count": null,
   "metadata": {
    "collapsed": true
   },
   "outputs": [],
   "source": []
  },
  {
   "cell_type": "code",
   "execution_count": 283,
   "metadata": {},
   "outputs": [],
   "source": [
    "param_grid_lin = {'alpha': 1.0/ np.array([1,2,3,4,5,6,7,8,9,10,100,1000,10000]),\n",
    "                  'solver': ['auto', 'svd', 'cholesky', 'lsqr', 'sparse_cg', 'sag']}"
   ]
  },
  {
   "cell_type": "code",
   "execution_count": 284,
   "metadata": {},
   "outputs": [
    {
     "data": {
      "text/plain": [
       "{'alpha': array([  1.00000000e+00,   5.00000000e-01,   3.33333333e-01,\n",
       "          2.50000000e-01,   2.00000000e-01,   1.66666667e-01,\n",
       "          1.42857143e-01,   1.25000000e-01,   1.11111111e-01,\n",
       "          1.00000000e-01,   1.00000000e-02,   1.00000000e-03,\n",
       "          1.00000000e-04]),\n",
       " 'solver': ['auto', 'svd', 'cholesky', 'lsqr', 'sparse_cg', 'sag']}"
      ]
     },
     "execution_count": 284,
     "metadata": {},
     "output_type": "execute_result"
    }
   ],
   "source": [
    "param_grid_lin"
   ]
  },
  {
   "cell_type": "code",
   "execution_count": 285,
   "metadata": {
    "collapsed": true
   },
   "outputs": [],
   "source": [
    "grid_search_lin = GridSearchCV(ridge_reg, param_grid_lin, cv=10,scoring='neg_mean_squared_error')"
   ]
  },
  {
   "cell_type": "code",
   "execution_count": 286,
   "metadata": {
    "scrolled": true
   },
   "outputs": [
    {
     "data": {
      "text/plain": [
       "GridSearchCV(cv=10, error_score='raise',\n",
       "       estimator=Ridge(alpha=1, copy_X=True, fit_intercept=True, max_iter=None,\n",
       "   normalize=False, random_state=None, solver='cholesky', tol=0.001),\n",
       "       fit_params={}, iid=True, n_jobs=1,\n",
       "       param_grid={'alpha': array([  1.00000e+00,   5.00000e-01,   3.33333e-01,   2.50000e-01,\n",
       "         2.00000e-01,   1.66667e-01,   1.42857e-01,   1.25000e-01,\n",
       "         1.11111e-01,   1.00000e-01,   1.00000e-02,   1.00000e-03,\n",
       "         1.00000e-04]), 'solver': ['auto', 'svd', 'cholesky', 'lsqr', 'sparse_cg', 'sag']},\n",
       "       pre_dispatch='2*n_jobs', refit=True, return_train_score=True,\n",
       "       scoring='neg_mean_squared_error', verbose=0)"
      ]
     },
     "execution_count": 286,
     "metadata": {},
     "output_type": "execute_result"
    }
   ],
   "source": [
    "grid_search_lin.fit(X_Train,Y_Train)"
   ]
  },
  {
   "cell_type": "code",
   "execution_count": 287,
   "metadata": {
    "scrolled": false
   },
   "outputs": [
    {
     "name": "stdout",
     "output_type": "stream",
     "text": [
      "(0.057572414718673172, {'alpha': 1.0, 'solver': 'auto'})\n",
      "(0.057576036678588252, {'alpha': 1.0, 'solver': 'svd'})\n",
      "(0.057579075579730597, {'alpha': 1.0, 'solver': 'cholesky'})\n",
      "(0.057579075579730597, {'alpha': 1.0, 'solver': 'lsqr'})\n",
      "(0.057579075579730597, {'alpha': 1.0, 'solver': 'sparse_cg'})\n",
      "(0.057580290553720007, {'alpha': 1.0, 'solver': 'sag'})\n",
      "(0.058003545059892657, {'alpha': 0.5, 'solver': 'auto'})\n",
      "(0.058008520293238212, {'alpha': 0.5, 'solver': 'svd'})\n",
      "(0.058010036717980273, {'alpha': 0.5, 'solver': 'cholesky'})\n",
      "(0.058010036717980273, {'alpha': 0.5, 'solver': 'lsqr'})\n",
      "(0.058010036717980294, {'alpha': 0.5, 'solver': 'sparse_cg'})\n",
      "(0.058011621865937793, {'alpha': 0.5, 'solver': 'sag'})\n",
      "(0.058262701329435125, {'alpha': 0.33333333333333331, 'solver': 'auto'})\n",
      "(0.058287811692831627, {'alpha': 0.33333333333333331, 'solver': 'svd'})\n",
      "(0.058287811692831627, {'alpha': 0.33333333333333331, 'solver': 'cholesky'})\n",
      "(0.058287811692831648, {'alpha': 0.33333333333333331, 'solver': 'lsqr'})\n",
      "(0.05828858181242938, {'alpha': 0.33333333333333331, 'solver': 'sparse_cg'})\n",
      "(0.058290693229454203, {'alpha': 0.33333333333333331, 'solver': 'sag'})\n",
      "(0.058403261069674244, {'alpha': 0.25, 'solver': 'auto'})\n",
      "(0.058478869699042806, {'alpha': 0.25, 'solver': 'svd'})\n",
      "(0.058478869699042806, {'alpha': 0.25, 'solver': 'cholesky'})\n",
      "(0.058478869699042819, {'alpha': 0.25, 'solver': 'lsqr'})\n",
      "(0.058479584360012229, {'alpha': 0.25, 'solver': 'sparse_cg'})\n",
      "(0.058484238597571077, {'alpha': 0.25, 'solver': 'sag'})\n",
      "(0.058527020474320339, {'alpha': 0.20000000000000001, 'solver': 'auto'})\n",
      "(0.058596884294858875, {'alpha': 0.20000000000000001, 'solver': 'svd'})\n",
      "(0.058616986942855644, {'alpha': 0.20000000000000001, 'solver': 'cholesky'})\n",
      "(0.058619549777571715, {'alpha': 0.20000000000000001, 'solver': 'lsqr'})\n",
      "(0.058619549777571715, {'alpha': 0.20000000000000001, 'solver': 'sparse_cg'})\n",
      "(0.058619549777571736, {'alpha': 0.20000000000000001, 'solver': 'sag'})\n",
      "(0.058623712826015542, {'alpha': 0.16666666666666666, 'solver': 'auto'})\n",
      "(0.058661357414561202, {'alpha': 0.16666666666666666, 'solver': 'svd'})\n",
      "(0.05871667184616345, {'alpha': 0.16666666666666666, 'solver': 'cholesky'})\n",
      "(0.058727078513756005, {'alpha': 0.16666666666666666, 'solver': 'lsqr'})\n",
      "(0.058728387526147181, {'alpha': 0.16666666666666666, 'solver': 'sparse_cg'})\n",
      "(0.058728387526147181, {'alpha': 0.16666666666666666, 'solver': 'sag'})\n",
      "(0.058728387526147216, {'alpha': 0.14285714285714285, 'solver': 'auto'})\n",
      "(0.058730623021089744, {'alpha': 0.14285714285714285, 'solver': 'svd'})\n",
      "(0.058770987515664952, {'alpha': 0.14285714285714285, 'solver': 'cholesky'})\n",
      "(0.05880551418036313, {'alpha': 0.14285714285714285, 'solver': 'lsqr'})\n",
      "(0.058815671016700974, {'alpha': 0.14285714285714285, 'solver': 'sparse_cg'})\n",
      "(0.058815671016700974, {'alpha': 0.14285714285714285, 'solver': 'sag'})\n",
      "(0.058815671016701002, {'alpha': 0.125, 'solver': 'auto'})\n",
      "(0.058816075512936113, {'alpha': 0.125, 'solver': 'svd'})\n",
      "(0.058816531400252864, {'alpha': 0.125, 'solver': 'cholesky'})\n",
      "(0.058887416439135039, {'alpha': 0.125, 'solver': 'lsqr'})\n",
      "(0.058887577176775008, {'alpha': 0.125, 'solver': 'sparse_cg'})\n",
      "(0.058887577176775008, {'alpha': 0.125, 'solver': 'sag'})\n",
      "(0.058887577176775056, {'alpha': 0.1111111111111111, 'solver': 'auto'})\n",
      "(0.058890345926793902, {'alpha': 0.1111111111111111, 'solver': 'svd'})\n",
      "(0.058947067380670709, {'alpha': 0.1111111111111111, 'solver': 'cholesky'})\n",
      "(0.05894805824496871, {'alpha': 0.1111111111111111, 'solver': 'lsqr'})\n",
      "(0.05894805824496871, {'alpha': 0.1111111111111111, 'solver': 'sparse_cg'})\n",
      "(0.058948058244968751, {'alpha': 0.1111111111111111, 'solver': 'sag'})\n",
      "(0.058949510327594198, {'alpha': 0.10000000000000001, 'solver': 'auto'})\n",
      "(0.05899793373258299, {'alpha': 0.10000000000000001, 'solver': 'svd'})\n",
      "(0.058998103919098703, {'alpha': 0.10000000000000001, 'solver': 'cholesky'})\n",
      "(0.05899977507570809, {'alpha': 0.10000000000000001, 'solver': 'lsqr'})\n",
      "(0.05899977507570809, {'alpha': 0.10000000000000001, 'solver': 'sparse_cg'})\n",
      "(0.058999775075708145, {'alpha': 0.10000000000000001, 'solver': 'sag'})\n",
      "(0.059437982472280139, {'alpha': 0.01, 'solver': 'auto'})\n",
      "(0.059547853474241706, {'alpha': 0.01, 'solver': 'svd'})\n",
      "(0.059555267477525757, {'alpha': 0.01, 'solver': 'cholesky'})\n",
      "(0.059609570868269054, {'alpha': 0.01, 'solver': 'lsqr'})\n",
      "(0.059609570868269054, {'alpha': 0.01, 'solver': 'sparse_cg'})\n",
      "(0.059609570868269471, {'alpha': 0.01, 'solver': 'sag'})\n",
      "(0.05961292105944814, {'alpha': 0.001, 'solver': 'auto'})\n",
      "(0.059629208139072278, {'alpha': 0.001, 'solver': 'svd'})\n",
      "(0.059702452453470223, {'alpha': 0.001, 'solver': 'cholesky'})\n",
      "(0.059704694822441118, {'alpha': 0.001, 'solver': 'lsqr'})\n",
      "(0.059704694822441118, {'alpha': 0.001, 'solver': 'sparse_cg'})\n",
      "(0.059704694822444442, {'alpha': 0.001, 'solver': 'sag'})\n",
      "(0.059714816673044811, {'alpha': 0.0001, 'solver': 'auto'})\n",
      "(0.059714816673044811, {'alpha': 0.0001, 'solver': 'svd'})\n",
      "(0.059714816673081428, {'alpha': 0.0001, 'solver': 'cholesky'})\n",
      "(0.059720219574541746, {'alpha': 0.0001, 'solver': 'lsqr'})\n",
      "(0.059724773616691464, {'alpha': 0.0001, 'solver': 'sparse_cg'})\n",
      "(0.059735619810536669, {'alpha': 0.0001, 'solver': 'sag'})\n"
     ]
    }
   ],
   "source": [
    "cvres = grid_search_lin.cv_results_\n",
    "for mean_score, params in zip(sorted(cvres[\"mean_test_score\"],reverse=True), cvres[\"params\"]):\n",
    "    print(np.sqrt(-mean_score), params)"
   ]
  },
  {
   "cell_type": "markdown",
   "metadata": {},
   "source": [
    "Notre modele de regression n'as  des bon resultats qu'avec alpha ==1"
   ]
  },
  {
   "cell_type": "code",
   "execution_count": 288,
   "metadata": {},
   "outputs": [],
   "source": [
    "feature_importances = grid_search_lin.best_estimator_.coef_"
   ]
  },
  {
   "cell_type": "code",
   "execution_count": 289,
   "metadata": {
    "scrolled": true
   },
   "outputs": [
    {
     "data": {
      "text/plain": [
       "[(0.22122077084142808, 'DIPPERC'),\n",
       " (0.072038327725591031, 'SCHOOL_RIGHT-lukuga'),\n",
       " (0.069471772099506002, 'SCHOOL_RIGHT-ahen\\xc3\\xa9e de butembo'),\n",
       " (0.053231246968156988, 'SCHOOL_RIGHT-icl'),\n",
       " (0.051876970416454005, 'SCHOOL_RIGHT-st joseph')]"
      ]
     },
     "execution_count": 289,
     "metadata": {},
     "output_type": "execute_result"
    }
   ],
   "source": [
    "sorted(zip(feature_importances, X_Train.columns), reverse=True)[:5]"
   ]
  },
  {
   "cell_type": "markdown",
   "metadata": {},
   "source": [
    "Dans ce tableau on remarque aisement que l'attribue le plus important dans la prediction du CGPA est le DIPPERC or celui n'as aucune corelation ave le cGPA!n'es ce pas la raison de notre erreur???"
   ]
  },
  {
   "cell_type": "markdown",
   "metadata": {},
   "source": [
    "reprenons nos calculs sans DIP PERC et evaluons notre modele"
   ]
  },
  {
   "cell_type": "code",
   "execution_count": 290,
   "metadata": {
    "scrolled": true
   },
   "outputs": [
    {
     "data": {
      "text/plain": [
       "GridSearchCV(cv=10, error_score='raise',\n",
       "       estimator=Ridge(alpha=1, copy_X=True, fit_intercept=True, max_iter=None,\n",
       "   normalize=False, random_state=None, solver='cholesky', tol=0.001),\n",
       "       fit_params={}, iid=True, n_jobs=1,\n",
       "       param_grid={'alpha': array([  1.00000e+00,   5.00000e-01,   3.33333e-01,   2.50000e-01,\n",
       "         2.00000e-01,   1.66667e-01,   1.42857e-01,   1.25000e-01,\n",
       "         1.11111e-01,   1.00000e-01,   1.00000e-02,   1.00000e-03,\n",
       "         1.00000e-04]), 'solver': ['auto', 'svd', 'cholesky', 'lsqr', 'sparse_cg', 'sag']},\n",
       "       pre_dispatch='2*n_jobs', refit=True, return_train_score=True,\n",
       "       scoring='neg_mean_squared_error', verbose=0)"
      ]
     },
     "execution_count": 290,
     "metadata": {},
     "output_type": "execute_result"
    }
   ],
   "source": [
    "grid_search_lin.fit(X_Train.drop(labels='DIPPERC',axis=1),Y_Train)"
   ]
  },
  {
   "cell_type": "code",
   "execution_count": 291,
   "metadata": {
    "scrolled": true
   },
   "outputs": [
    {
     "name": "stdout",
     "output_type": "stream",
     "text": [
      "(0.059416083702605774, {'alpha': 1.0, 'solver': 'auto'})\n",
      "(0.059417929131867789, {'alpha': 1.0, 'solver': 'svd'})\n",
      "(0.059420173191434757, {'alpha': 1.0, 'solver': 'cholesky'})\n",
      "(0.059420173191434757, {'alpha': 1.0, 'solver': 'lsqr'})\n",
      "(0.059420173191434764, {'alpha': 1.0, 'solver': 'sparse_cg'})\n",
      "(0.059420744048002308, {'alpha': 1.0, 'solver': 'sag'})\n",
      "(0.059888857472109383, {'alpha': 0.5, 'solver': 'auto'})\n",
      "(0.05990599834915733, {'alpha': 0.5, 'solver': 'svd'})\n",
      "(0.059906487824463207, {'alpha': 0.5, 'solver': 'cholesky'})\n",
      "(0.059906487824463207, {'alpha': 0.5, 'solver': 'lsqr'})\n",
      "(0.059906487824463207, {'alpha': 0.5, 'solver': 'sparse_cg'})\n",
      "(0.059906998880094146, {'alpha': 0.5, 'solver': 'sag'})\n",
      "(0.060154861259250278, {'alpha': 0.33333333333333331, 'solver': 'auto'})\n",
      "(0.060186457735905641, {'alpha': 0.33333333333333331, 'solver': 'svd'})\n",
      "(0.060188806333020921, {'alpha': 0.33333333333333331, 'solver': 'cholesky'})\n",
      "(0.060188806333020921, {'alpha': 0.33333333333333331, 'solver': 'lsqr'})\n",
      "(0.060188806333020935, {'alpha': 0.33333333333333331, 'solver': 'sparse_cg'})\n",
      "(0.060191166037856021, {'alpha': 0.33333333333333331, 'solver': 'sag'})\n",
      "(0.06029768747321046, {'alpha': 0.25, 'solver': 'auto'})\n",
      "(0.060377868879469831, {'alpha': 0.25, 'solver': 'svd'})\n",
      "(0.060377868879469831, {'alpha': 0.25, 'solver': 'cholesky'})\n",
      "(0.060377868879469838, {'alpha': 0.25, 'solver': 'lsqr'})\n",
      "(0.060378513167417602, {'alpha': 0.25, 'solver': 'sparse_cg'})\n",
      "(0.060380447559396568, {'alpha': 0.25, 'solver': 'sag'})\n",
      "(0.060403387338603245, {'alpha': 0.20000000000000001, 'solver': 'auto'})\n",
      "(0.060476132034427491, {'alpha': 0.20000000000000001, 'solver': 'svd'})\n",
      "(0.060515858140489376, {'alpha': 0.20000000000000001, 'solver': 'cholesky'})\n",
      "(0.060515858140489376, {'alpha': 0.20000000000000001, 'solver': 'lsqr'})\n",
      "(0.06051585814048939, {'alpha': 0.20000000000000001, 'solver': 'sparse_cg'})\n",
      "(0.060517708613919599, {'alpha': 0.20000000000000001, 'solver': 'sag'})\n",
      "(0.060518163499483343, {'alpha': 0.16666666666666666, 'solver': 'auto'})\n",
      "(0.060549138375471358, {'alpha': 0.16666666666666666, 'solver': 'svd'})\n",
      "(0.060597438363541936, {'alpha': 0.16666666666666666, 'solver': 'cholesky'})\n",
      "(0.06062185010137363, {'alpha': 0.16666666666666666, 'solver': 'lsqr'})\n",
      "(0.060622339390230831, {'alpha': 0.16666666666666666, 'solver': 'sparse_cg'})\n",
      "(0.060622339390230831, {'alpha': 0.16666666666666666, 'solver': 'sag'})\n",
      "(0.060622339390230845, {'alpha': 0.14285714285714285, 'solver': 'auto'})\n",
      "(0.060626347219816155, {'alpha': 0.14285714285714285, 'solver': 'svd'})\n",
      "(0.060640709106375694, {'alpha': 0.14285714285714285, 'solver': 'cholesky'})\n",
      "(0.060668410797169961, {'alpha': 0.14285714285714285, 'solver': 'lsqr'})\n",
      "(0.060706347836280698, {'alpha': 0.14285714285714285, 'solver': 'sparse_cg'})\n",
      "(0.060707729278007161, {'alpha': 0.14285714285714285, 'solver': 'sag'})\n",
      "(0.060707729278007161, {'alpha': 0.125, 'solver': 'auto'})\n",
      "(0.060707729278007175, {'alpha': 0.125, 'solver': 'svd'})\n",
      "(0.060711466462174089, {'alpha': 0.125, 'solver': 'cholesky'})\n",
      "(0.060776222426798955, {'alpha': 0.125, 'solver': 'lsqr'})\n",
      "(0.060776603886826444, {'alpha': 0.125, 'solver': 'sparse_cg'})\n",
      "(0.060778148210928425, {'alpha': 0.125, 'solver': 'sag'})\n",
      "(0.060778148210928425, {'alpha': 0.1111111111111111, 'solver': 'auto'})\n",
      "(0.060778148210928452, {'alpha': 0.1111111111111111, 'solver': 'svd'})\n",
      "(0.060837465717235126, {'alpha': 0.1111111111111111, 'solver': 'cholesky'})\n",
      "(0.060837465717235126, {'alpha': 0.1111111111111111, 'solver': 'lsqr'})\n",
      "(0.06083746571723514, {'alpha': 0.1111111111111111, 'solver': 'sparse_cg'})\n",
      "(0.060839203244805018, {'alpha': 0.1111111111111111, 'solver': 'sag'})\n",
      "(0.060839571684675138, {'alpha': 0.10000000000000001, 'solver': 'auto'})\n",
      "(0.060886438788726065, {'alpha': 0.10000000000000001, 'solver': 'svd'})\n",
      "(0.060887307918651504, {'alpha': 0.10000000000000001, 'solver': 'cholesky'})\n",
      "(0.060888269666512486, {'alpha': 0.10000000000000001, 'solver': 'lsqr'})\n",
      "(0.060888269666512486, {'alpha': 0.10000000000000001, 'solver': 'sparse_cg'})\n",
      "(0.060888269666512514, {'alpha': 0.10000000000000001, 'solver': 'sag'})\n",
      "(0.061296863911706113, {'alpha': 0.01, 'solver': 'auto'})\n",
      "(0.061411040406149954, {'alpha': 0.01, 'solver': 'svd'})\n",
      "(0.061418466575982947, {'alpha': 0.01, 'solver': 'cholesky'})\n",
      "(0.061494474529539371, {'alpha': 0.01, 'solver': 'lsqr'})\n",
      "(0.061495552057388957, {'alpha': 0.01, 'solver': 'sparse_cg'})\n",
      "(0.061495552057388957, {'alpha': 0.01, 'solver': 'sag'})\n",
      "(0.061495552057389297, {'alpha': 0.001, 'solver': 'auto'})\n",
      "(0.061503490826955345, {'alpha': 0.001, 'solver': 'svd'})\n",
      "(0.061587384222893227, {'alpha': 0.001, 'solver': 'cholesky'})\n",
      "(0.061589468783121784, {'alpha': 0.001, 'solver': 'lsqr'})\n",
      "(0.061591718431881104, {'alpha': 0.001, 'solver': 'sparse_cg'})\n",
      "(0.061591718431881104, {'alpha': 0.001, 'solver': 'sag'})\n",
      "(0.061591718431884372, {'alpha': 0.0001, 'solver': 'auto'})\n",
      "(0.061600633747484625, {'alpha': 0.0001, 'solver': 'svd'})\n",
      "(0.061601971173096591, {'alpha': 0.0001, 'solver': 'cholesky'})\n",
      "(0.061601971173096591, {'alpha': 0.0001, 'solver': 'lsqr'})\n",
      "(0.061601971173127684, {'alpha': 0.0001, 'solver': 'sparse_cg'})\n",
      "(0.061609755544475647, {'alpha': 0.0001, 'solver': 'sag'})\n"
     ]
    }
   ],
   "source": [
    "cvres = grid_search_lin.cv_results_\n",
    "for mean_score, params in zip(sorted(cvres[\"mean_test_score\"],reverse=True), cvres[\"params\"]):\n",
    "    print(np.sqrt(-mean_score), params)"
   ]
  },
  {
   "cell_type": "markdown",
   "metadata": {},
   "source": [
    "aucune amelioration"
   ]
  },
  {
   "cell_type": "markdown",
   "metadata": {},
   "source": [
    "#### Ensemble Methods"
   ]
  },
  {
   "cell_type": "markdown",
   "metadata": {},
   "source": [
    "Nous venons de finir l'entrainenement des modeles simple et nous avons pu remarquer que deux modèles on des resultat aceptables ,nous allons essayer de construire un modèle simple regroupant Ridge regression et linear SVR et essayer de voir si on obtiendra un bon score avec celui-ci"
   ]
  },
  {
   "cell_type": "code",
   "execution_count": 147,
   "metadata": {
    "collapsed": true
   },
   "outputs": [],
   "source": [
    "from sklearn.ensemble import VotingClassifier"
   ]
  },
  {
   "cell_type": "code",
   "execution_count": 148,
   "metadata": {
    "collapsed": true
   },
   "outputs": [],
   "source": [
    "voting_clf = VotingClassifier(\n",
    "estimators=[('lr', linSVM_reg), ('SVR', rbfSVM_reg), ('lr', ridge_reg)],\n",
    "voting='hard'\n",
    ")"
   ]
  },
  {
   "cell_type": "code",
   "execution_count": null,
   "metadata": {
    "collapsed": true
   },
   "outputs": [],
   "source": [
    "predictions={} #a dict containning all regressor and predicted values by it\n",
    "for rgs in (rbfSVM_reg, ridge_reg, linSVM_reg):\n",
    "    rgs.fit(X_Train, Y_Train)\n",
    "    predictions[rgs.__class__.__name__]= clf.predict(X_Train)"
   ]
  },
  {
   "cell_type": "code",
   "execution_count": 172,
   "metadata": {
    "scrolled": true
   },
   "outputs": [
    {
     "name": "stdout",
     "output_type": "stream",
     "text": [
      "[LibSVM]('SVR', 0.064208474475398264)\n",
      "('Ridge', 0.064208474475398264)\n",
      "('LinearSVR', 0.064208474475398264)\n"
     ]
    }
   ],
   "source": [
    "predictions={}\n",
    "for clf in (rbfSVM_reg, ridge_reg, linSVM_reg):\n",
    "    clf.fit(X_Train, Y_Train)\n",
    "    predictions[clf.__class__.__name__]= clf.predict(X_Train)\n",
    "    print(clf.__class__.__name__, np.sqrt(mean_squared_error(Y_Train, y_pred)))"
   ]
  },
  {
   "cell_type": "code",
   "execution_count": 182,
   "metadata": {
    "collapsed": true
   },
   "outputs": [],
   "source": [
    "predictedVal=pd.DataFrame.from_dict(predictions,dtype=np.float)"
   ]
  },
  {
   "cell_type": "code",
   "execution_count": 189,
   "metadata": {},
   "outputs": [],
   "source": [
    "predictedVal.loc[:,'RealValue']=Y_Train"
   ]
  },
  {
   "cell_type": "code",
   "execution_count": 193,
   "metadata": {
    "scrolled": true
   },
   "outputs": [],
   "source": [
    "predictedVal.set_index(Y_Train.index,inplace=True)"
   ]
  },
  {
   "cell_type": "code",
   "execution_count": 194,
   "metadata": {
    "collapsed": true
   },
   "outputs": [],
   "source": [
    "predictedVal.loc[:,'RealValue']=Y_Train"
   ]
  },
  {
   "cell_type": "code",
   "execution_count": 197,
   "metadata": {
    "scrolled": false
   },
   "outputs": [
    {
     "data": {
      "text/plain": [
       "LinearRegression(copy_X=True, fit_intercept=True, n_jobs=1, normalize=False)"
      ]
     },
     "execution_count": 197,
     "metadata": {},
     "output_type": "execute_result"
    }
   ],
   "source": [
    "from sklearn.linear_model import LinearRegression\n",
    "stacker= LinearRegression()\n",
    "stacker.fit(predictedVal.drop(labels=\"RealValue\",axis=1), predictedVal.RealValue)\n"
   ]
  },
  {
   "cell_type": "code",
   "execution_count": 198,
   "metadata": {
    "collapsed": true
   },
   "outputs": [],
   "source": [
    "Y_Predict=stacker.predict(predictedVal.drop(labels=\"RealValue\",axis=1))"
   ]
  },
  {
   "cell_type": "code",
   "execution_count": 199,
   "metadata": {},
   "outputs": [
    {
     "data": {
      "text/plain": [
       "0.062768271324069813"
      ]
     },
     "execution_count": 199,
     "metadata": {},
     "output_type": "execute_result"
    }
   ],
   "source": [
    "np.sqrt(mean_squared_error(predictedVal.RealValue, Y_Predict))"
   ]
  },
  {
   "cell_type": "markdown",
   "metadata": {},
   "source": [
    "Nous remarquons qu'en combinant les 3 modeles on Parvient ten sois peut à reduire l'erreur de prédiction"
   ]
  },
  {
   "cell_type": "markdown",
   "metadata": {},
   "source": [
    "cette technique s'appelle stacking nous pouvons continuer a l'evaluer et le performer , nous avons esayer une rgression lineare sur differentes valeurs et on optient un score de 0.062 ensuite essayons le max "
   ]
  },
  {
   "cell_type": "code",
   "execution_count": 202,
   "metadata": {},
   "outputs": [],
   "source": [
    "yPredictedMax=predictedVal.drop(labels=\"RealValue\",axis=1).apply(np.max,axis=1)"
   ]
  },
  {
   "cell_type": "code",
   "execution_count": 203,
   "metadata": {},
   "outputs": [
    {
     "data": {
      "text/plain": [
       "0.070364470760339928"
      ]
     },
     "execution_count": 203,
     "metadata": {},
     "output_type": "execute_result"
    }
   ],
   "source": [
    "np.sqrt(mean_squared_error(predictedVal.RealValue,yPredictedMax ))"
   ]
  },
  {
   "cell_type": "markdown",
   "metadata": {},
   "source": [
    "le maximun donne la meme valeur que  les valeurs exaxtes"
   ]
  },
  {
   "cell_type": "markdown",
   "metadata": {},
   "source": [
    "Essayons avec la moyenne"
   ]
  },
  {
   "cell_type": "code",
   "execution_count": 204,
   "metadata": {
    "collapsed": true
   },
   "outputs": [],
   "source": [
    "yPredictedMean=predictedVal.drop(labels=\"RealValue\",axis=1).apply(np.mean,axis=1)"
   ]
  },
  {
   "cell_type": "code",
   "execution_count": 205,
   "metadata": {},
   "outputs": [
    {
     "data": {
      "text/plain": [
       "0.0658029616728011"
      ]
     },
     "execution_count": 205,
     "metadata": {},
     "output_type": "execute_result"
    }
   ],
   "source": [
    "np.sqrt(mean_squared_error(predictedVal.RealValue,yPredictedMean ))"
   ]
  },
  {
   "cell_type": "markdown",
   "metadata": {},
   "source": [
    "Nous retiendrons uniquement le resulat avec la regression car il perform mieux"
   ]
  },
  {
   "cell_type": "markdown",
   "metadata": {},
   "source": [
    "Essayons pour finir sur le test set"
   ]
  },
  {
   "cell_type": "code",
   "execution_count": 209,
   "metadata": {},
   "outputs": [
    {
     "name": "stdout",
     "output_type": "stream",
     "text": [
      "[LibSVM]"
     ]
    }
   ],
   "source": [
    "predictionsTest={}\n",
    "for clf in (rbfSVM_reg, ridge_reg, linSVM_reg):\n",
    "    clf.fit(X_Test, Y_Test)\n",
    "    predictionsTest[clf.__class__.__name__]= clf.predict(X_Test)"
   ]
  },
  {
   "cell_type": "code",
   "execution_count": 211,
   "metadata": {
    "collapsed": true
   },
   "outputs": [],
   "source": [
    "predictedValTest=pd.DataFrame.from_dict(predictions,dtype=np.float)"
   ]
  },
  {
   "cell_type": "code",
   "execution_count": 212,
   "metadata": {
    "collapsed": true,
    "scrolled": true
   },
   "outputs": [],
   "source": [
    "predictedValTest.set_index(Y_Test.index,inplace=True)"
   ]
  },
  {
   "cell_type": "code",
   "execution_count": 216,
   "metadata": {
    "collapsed": true
   },
   "outputs": [],
   "source": [
    "predictedValTest.loc[:,'RealValue']=Y_Test"
   ]
  },
  {
   "cell_type": "code",
   "execution_count": 217,
   "metadata": {},
   "outputs": [],
   "source": [
    "Y_PredictTest=stacker.predict(predictedValTest.drop(labels=\"RealValue\",axis=1))"
   ]
  },
  {
   "cell_type": "code",
   "execution_count": 218,
   "metadata": {
    "scrolled": true
   },
   "outputs": [
    {
     "data": {
      "text/plain": [
       "0.052091602488511607"
      ]
     },
     "execution_count": 218,
     "metadata": {},
     "output_type": "execute_result"
    }
   ],
   "source": [
    "np.sqrt(mean_squared_error(predictedValTest.RealValue, Y_PredictTest))"
   ]
  },
  {
   "cell_type": "markdown",
   "metadata": {},
   "source": [
    "Nous venons d'obtenir une erreur dans l'ordre de 5% qui est bon et parfait mais à prendre avec reserve car nous n'avons pas effectuer une validation croisée'"
   ]
  },
  {
   "cell_type": "code",
   "execution_count": null,
   "metadata": {
    "collapsed": true
   },
   "outputs": [],
   "source": []
  },
  {
   "cell_type": "code",
   "execution_count": null,
   "metadata": {
    "collapsed": true
   },
   "outputs": [],
   "source": []
  },
  {
   "cell_type": "markdown",
   "metadata": {},
   "source": [
    "##### 2. Faculté de Technologies Appliquées"
   ]
  },
  {
   "cell_type": "markdown",
   "metadata": {
    "collapsed": true
   },
   "source": [
    "Pour commencer notre entrainement nous alons echantilloner nos donnes pour constituter un ensemble d'apprentissahe (Training set), et un ensemble d'evaluation du modèle (test set)"
   ]
  },
  {
   "cell_type": "code",
   "execution_count": 8,
   "metadata": {
    "collapsed": true
   },
   "outputs": [],
   "source": [
    "Economie=datasetCGPA.loc[datasetCGPA.FAC=='FSEG']"
   ]
  },
  {
   "cell_type": "markdown",
   "metadata": {},
   "source": [
    "Nous allons avant tous standariser le poucentage pour un bon calcul nous allons le diviser par 100"
   ]
  },
  {
   "cell_type": "code",
   "execution_count": 9,
   "metadata": {
    "collapsed": true,
    "scrolled": true
   },
   "outputs": [],
   "source": [
    "Techno.loc[:,'DIPPERC']=Techno.DIPPERC/100"
   ]
  },
  {
   "cell_type": "code",
   "execution_count": 10,
   "metadata": {
    "collapsed": true
   },
   "outputs": [],
   "source": [
    "Techno.loc[:,'CGPA']=Techno.CGPA/100"
   ]
  },
  {
   "cell_type": "code",
   "execution_count": 11,
   "metadata": {
    "scrolled": false
   },
   "outputs": [
    {
     "data": {
      "text/html": [
       "<div>\n",
       "<table border=\"1\" class=\"dataframe\">\n",
       "  <thead>\n",
       "    <tr style=\"text-align: right;\">\n",
       "      <th></th>\n",
       "      <th>DIPPERC</th>\n",
       "      <th>SCHOOL_RIGHT</th>\n",
       "      <th>OPTION_RIGHT</th>\n",
       "      <th>FAC</th>\n",
       "      <th>CGPA</th>\n",
       "      <th>DistinctionRatio</th>\n",
       "      <th>EchecRatio</th>\n",
       "      <th>Pass1stSessionRatio</th>\n",
       "    </tr>\n",
       "    <tr>\n",
       "      <th>ID</th>\n",
       "      <th></th>\n",
       "      <th></th>\n",
       "      <th></th>\n",
       "      <th></th>\n",
       "      <th></th>\n",
       "      <th></th>\n",
       "      <th></th>\n",
       "      <th></th>\n",
       "    </tr>\n",
       "  </thead>\n",
       "  <tbody>\n",
       "    <tr>\n",
       "      <th>10124</th>\n",
       "      <td>0.50</td>\n",
       "      <td>zanner</td>\n",
       "      <td>commmerciale et adm</td>\n",
       "      <td>FSTA</td>\n",
       "      <td>0.470</td>\n",
       "      <td>G</td>\n",
       "      <td>A</td>\n",
       "      <td>G</td>\n",
       "    </tr>\n",
       "    <tr>\n",
       "      <th>10560</th>\n",
       "      <td>0.51</td>\n",
       "      <td>zanner</td>\n",
       "      <td>latin philo</td>\n",
       "      <td>FSTA</td>\n",
       "      <td>0.420</td>\n",
       "      <td>G</td>\n",
       "      <td>A</td>\n",
       "      <td>G</td>\n",
       "    </tr>\n",
       "    <tr>\n",
       "      <th>11697</th>\n",
       "      <td>0.52</td>\n",
       "      <td>zanner</td>\n",
       "      <td>commmerciale et adm</td>\n",
       "      <td>FSTA</td>\n",
       "      <td>0.451</td>\n",
       "      <td>G</td>\n",
       "      <td>A</td>\n",
       "      <td>G</td>\n",
       "    </tr>\n",
       "    <tr>\n",
       "      <th>3289</th>\n",
       "      <td>0.61</td>\n",
       "      <td>edap/isp</td>\n",
       "      <td>math-physique</td>\n",
       "      <td>FSTA</td>\n",
       "      <td>0.470</td>\n",
       "      <td>G</td>\n",
       "      <td>A</td>\n",
       "      <td>G</td>\n",
       "    </tr>\n",
       "    <tr>\n",
       "      <th>3691</th>\n",
       "      <td>0.59</td>\n",
       "      <td>edap/isp</td>\n",
       "      <td>commmerciale et adm</td>\n",
       "      <td>FSTA</td>\n",
       "      <td>0.643</td>\n",
       "      <td>G</td>\n",
       "      <td>G</td>\n",
       "      <td>G</td>\n",
       "    </tr>\n",
       "    <tr>\n",
       "      <th>4617</th>\n",
       "      <td>0.61</td>\n",
       "      <td>edap/isp</td>\n",
       "      <td>bio-chimie</td>\n",
       "      <td>FSTA</td>\n",
       "      <td>0.750</td>\n",
       "      <td>A</td>\n",
       "      <td>G</td>\n",
       "      <td>D</td>\n",
       "    </tr>\n",
       "  </tbody>\n",
       "</table>\n",
       "</div>"
      ],
      "text/plain": [
       "       DIPPERC SCHOOL_RIGHT         OPTION_RIGHT   FAC   CGPA  \\\n",
       "ID                                                              \n",
       "10124     0.50       zanner  commmerciale et adm  FSTA  0.470   \n",
       "10560     0.51       zanner          latin philo  FSTA  0.420   \n",
       "11697     0.52       zanner  commmerciale et adm  FSTA  0.451   \n",
       "3289      0.61     edap/isp        math-physique  FSTA  0.470   \n",
       "3691      0.59     edap/isp  commmerciale et adm  FSTA  0.643   \n",
       "4617      0.61     edap/isp           bio-chimie  FSTA  0.750   \n",
       "\n",
       "      DistinctionRatio EchecRatio Pass1stSessionRatio  \n",
       "ID                                                     \n",
       "10124                G          A                   G  \n",
       "10560                G          A                   G  \n",
       "11697                G          A                   G  \n",
       "3289                 G          A                   G  \n",
       "3691                 G          G                   G  \n",
       "4617                 A          G                   D  "
      ]
     },
     "execution_count": 11,
     "metadata": {},
     "output_type": "execute_result"
    }
   ],
   "source": [
    "Techno.head(6)"
   ]
  },
  {
   "cell_type": "markdown",
   "metadata": {},
   "source": [
    "Dans une premiere approche nous allons constituer notre training set et test set qui sera representatif des nos données "
   ]
  },
  {
   "cell_type": "markdown",
   "metadata": {},
   "source": [
    "Nous allons proceder à un echantillonage stratifier pour constituer notre training set et notre test set nous prendrons les individus dans 2 categories differentes ceux qui ont un CGPA superieur à 50% et ceux dont le CPGA est inferieur à 50%"
   ]
  },
  {
   "cell_type": "code",
   "execution_count": 17,
   "metadata": {},
   "outputs": [
    {
     "data": {
      "text/plain": [
       "47.06533776301218"
      ]
     },
     "execution_count": 17,
     "metadata": {},
     "output_type": "execute_result"
    }
   ],
   "source": [
    "len(Techno.loc[Techno.CGPA<.55])*100/float(len(Techno))"
   ]
  },
  {
   "cell_type": "code",
   "execution_count": 16,
   "metadata": {
    "scrolled": true
   },
   "outputs": [
    {
     "data": {
      "text/plain": [
       "52.93466223698782"
      ]
     },
     "execution_count": 16,
     "metadata": {},
     "output_type": "execute_result"
    }
   ],
   "source": [
    "len(Techno.loc[Techno.CGPA>=.55])*100/float(len(Techno))"
   ]
  },
  {
   "cell_type": "code",
   "execution_count": 18,
   "metadata": {},
   "outputs": [
    {
     "data": {
      "text/plain": [
       "28"
      ]
     },
     "execution_count": 18,
     "metadata": {},
     "output_type": "execute_result"
    }
   ],
   "source": [
    "len(Techno.loc[Techno.DIPPERC<.55])*100/len(Techno)"
   ]
  },
  {
   "cell_type": "code",
   "execution_count": 19,
   "metadata": {},
   "outputs": [
    {
     "data": {
      "text/plain": [
       "71"
      ]
     },
     "execution_count": 19,
     "metadata": {},
     "output_type": "execute_result"
    }
   ],
   "source": [
    "len(Techno.loc[Techno.DIPPERC>=.55])*100/len(Techno)"
   ]
  },
  {
   "cell_type": "markdown",
   "metadata": {},
   "source": [
    "Nous allons efefctuer un  echantillonager stratifier dans chaque categorie des nos variables echec ratio, distinction ratio, Passage en premiere session ratio ensuite cree une union des indices pour avoir un ensemble d'apprentissage et un ensemble d'evaluation."
   ]
  },
  {
   "cell_type": "code",
   "execution_count": 22,
   "metadata": {
    "collapsed": true
   },
   "outputs": [],
   "source": [
    "Techno_bin=ConvertCat(Techno,catCol=['SCHOOL_RIGHT', 'OPTION_RIGHT'],numCol=['DIPPERC','CGPA','EchecRatio'])"
   ]
  },
  {
   "cell_type": "code",
   "execution_count": 23,
   "metadata": {
    "collapsed": true
   },
   "outputs": [],
   "source": [
    "Techno_bin.reset_index(inplace=True)"
   ]
  },
  {
   "cell_type": "code",
   "execution_count": 24,
   "metadata": {},
   "outputs": [
    {
     "data": {
      "text/plain": [
       "(903, 240)"
      ]
     },
     "execution_count": 24,
     "metadata": {},
     "output_type": "execute_result"
    }
   ],
   "source": [
    "Techno_bin.shape"
   ]
  },
  {
   "cell_type": "code",
   "execution_count": 25,
   "metadata": {
    "collapsed": true
   },
   "outputs": [],
   "source": [
    "from sklearn.model_selection import StratifiedShuffleSplit"
   ]
  },
  {
   "cell_type": "code",
   "execution_count": 26,
   "metadata": {
    "collapsed": true
   },
   "outputs": [],
   "source": [
    "split = StratifiedShuffleSplit(n_splits=1, test_size=0.2, random_state=42)"
   ]
  },
  {
   "cell_type": "code",
   "execution_count": 27,
   "metadata": {
    "collapsed": true,
    "scrolled": false
   },
   "outputs": [],
   "source": [
    "for train_index, test_index in split.split(Techno_bin, Techno_bin.EchecRatio):\n",
    "    tech_Train_bin=Techno_bin.loc[train_index]\n",
    "    tech_Test_bin=Techno_bin.loc[test_index]"
   ]
  },
  {
   "cell_type": "code",
   "execution_count": 29,
   "metadata": {
    "scrolled": true
   },
   "outputs": [
    {
     "data": {
      "text/html": [
       "<div>\n",
       "<table border=\"1\" class=\"dataframe\">\n",
       "  <thead>\n",
       "    <tr style=\"text-align: right;\">\n",
       "      <th></th>\n",
       "      <th>ID</th>\n",
       "      <th>OPTION_RIGHT-bio-chimie</th>\n",
       "      <th>OPTION_RIGHT-math-physique</th>\n",
       "      <th>OPTION_RIGHT-pedagogie</th>\n",
       "      <th>OPTION_RIGHT-mec gene</th>\n",
       "      <th>OPTION_RIGHT-commmerciale et adm</th>\n",
       "      <th>OPTION_RIGHT-sociale</th>\n",
       "      <th>OPTION_RIGHT-construction</th>\n",
       "      <th>OPTION_RIGHT-elec indust</th>\n",
       "      <th>OPTION_RIGHT-elec</th>\n",
       "      <th>...</th>\n",
       "      <th>SCHOOL_RIGHT-61</th>\n",
       "      <th>SCHOOL_RIGHT-ipp/beni</th>\n",
       "      <th>SCHOOL_RIGHT-bemba gombo</th>\n",
       "      <th>SCHOOL_RIGHT-imani</th>\n",
       "      <th>SCHOOL_RIGHT-MWANDU</th>\n",
       "      <th>SCHOOL_RIGHT-rambo</th>\n",
       "      <th>SCHOOL_RIGHT-thabiti</th>\n",
       "      <th>DIPPERC</th>\n",
       "      <th>CGPA</th>\n",
       "      <th>EchecRatio</th>\n",
       "    </tr>\n",
       "  </thead>\n",
       "  <tbody>\n",
       "    <tr>\n",
       "      <th>816</th>\n",
       "      <td>9300</td>\n",
       "      <td>0</td>\n",
       "      <td>0</td>\n",
       "      <td>0</td>\n",
       "      <td>0</td>\n",
       "      <td>0</td>\n",
       "      <td>0</td>\n",
       "      <td>0</td>\n",
       "      <td>0</td>\n",
       "      <td>0</td>\n",
       "      <td>...</td>\n",
       "      <td>0</td>\n",
       "      <td>0</td>\n",
       "      <td>0</td>\n",
       "      <td>0</td>\n",
       "      <td>0</td>\n",
       "      <td>0</td>\n",
       "      <td>0</td>\n",
       "      <td>0.5</td>\n",
       "      <td>0.47</td>\n",
       "      <td>A</td>\n",
       "    </tr>\n",
       "  </tbody>\n",
       "</table>\n",
       "<p>1 rows × 240 columns</p>\n",
       "</div>"
      ],
      "text/plain": [
       "       ID  OPTION_RIGHT-bio-chimie  OPTION_RIGHT-math-physique  \\\n",
       "816  9300                        0                           0   \n",
       "\n",
       "     OPTION_RIGHT-pedagogie  OPTION_RIGHT-mec gene  \\\n",
       "816                       0                      0   \n",
       "\n",
       "     OPTION_RIGHT-commmerciale et adm  OPTION_RIGHT-sociale  \\\n",
       "816                                 0                     0   \n",
       "\n",
       "     OPTION_RIGHT-construction  OPTION_RIGHT-elec indust  OPTION_RIGHT-elec  \\\n",
       "816                          0                         0                  0   \n",
       "\n",
       "        ...      SCHOOL_RIGHT-61  SCHOOL_RIGHT-ipp/beni  \\\n",
       "816     ...                    0                      0   \n",
       "\n",
       "     SCHOOL_RIGHT-bemba gombo  SCHOOL_RIGHT-imani  SCHOOL_RIGHT-MWANDU  \\\n",
       "816                         0                   0                    0   \n",
       "\n",
       "     SCHOOL_RIGHT-rambo  SCHOOL_RIGHT-thabiti  DIPPERC  CGPA  EchecRatio  \n",
       "816                   0                     0      0.5  0.47           A  \n",
       "\n",
       "[1 rows x 240 columns]"
      ]
     },
     "execution_count": 29,
     "metadata": {},
     "output_type": "execute_result"
    }
   ],
   "source": [
    "tech_Test_bin.head(1)"
   ]
  },
  {
   "cell_type": "code",
   "execution_count": 32,
   "metadata": {
    "scrolled": true
   },
   "outputs": [
    {
     "data": {
      "text/html": [
       "<div>\n",
       "<table border=\"1\" class=\"dataframe\">\n",
       "  <thead>\n",
       "    <tr style=\"text-align: right;\">\n",
       "      <th></th>\n",
       "      <th>DIPPERC</th>\n",
       "      <th>CGPA</th>\n",
       "    </tr>\n",
       "  </thead>\n",
       "  <tbody>\n",
       "    <tr>\n",
       "      <th>count</th>\n",
       "      <td>722.000000</td>\n",
       "      <td>722.000000</td>\n",
       "    </tr>\n",
       "    <tr>\n",
       "      <th>mean</th>\n",
       "      <td>0.589602</td>\n",
       "      <td>0.554931</td>\n",
       "    </tr>\n",
       "    <tr>\n",
       "      <th>std</th>\n",
       "      <td>0.062792</td>\n",
       "      <td>0.087623</td>\n",
       "    </tr>\n",
       "    <tr>\n",
       "      <th>min</th>\n",
       "      <td>0.500000</td>\n",
       "      <td>0.395000</td>\n",
       "    </tr>\n",
       "    <tr>\n",
       "      <th>25%</th>\n",
       "      <td>0.540000</td>\n",
       "      <td>0.480000</td>\n",
       "    </tr>\n",
       "    <tr>\n",
       "      <th>50%</th>\n",
       "      <td>0.580000</td>\n",
       "      <td>0.558000</td>\n",
       "    </tr>\n",
       "    <tr>\n",
       "      <th>75%</th>\n",
       "      <td>0.630000</td>\n",
       "      <td>0.621000</td>\n",
       "    </tr>\n",
       "    <tr>\n",
       "      <th>max</th>\n",
       "      <td>0.860000</td>\n",
       "      <td>0.835500</td>\n",
       "    </tr>\n",
       "  </tbody>\n",
       "</table>\n",
       "</div>"
      ],
      "text/plain": [
       "          DIPPERC        CGPA\n",
       "count  722.000000  722.000000\n",
       "mean     0.589602    0.554931\n",
       "std      0.062792    0.087623\n",
       "min      0.500000    0.395000\n",
       "25%      0.540000    0.480000\n",
       "50%      0.580000    0.558000\n",
       "75%      0.630000    0.621000\n",
       "max      0.860000    0.835500"
      ]
     },
     "execution_count": 32,
     "metadata": {},
     "output_type": "execute_result"
    }
   ],
   "source": [
    "tech_Train_bin.describe()[['DIPPERC','CGPA']]"
   ]
  },
  {
   "cell_type": "code",
   "execution_count": 33,
   "metadata": {
    "scrolled": false
   },
   "outputs": [
    {
     "data": {
      "text/html": [
       "<div>\n",
       "<table border=\"1\" class=\"dataframe\">\n",
       "  <thead>\n",
       "    <tr style=\"text-align: right;\">\n",
       "      <th></th>\n",
       "      <th>DIPPERC</th>\n",
       "      <th>CGPA</th>\n",
       "    </tr>\n",
       "  </thead>\n",
       "  <tbody>\n",
       "    <tr>\n",
       "      <th>count</th>\n",
       "      <td>181.000000</td>\n",
       "      <td>181.000000</td>\n",
       "    </tr>\n",
       "    <tr>\n",
       "      <th>mean</th>\n",
       "      <td>0.588674</td>\n",
       "      <td>0.551267</td>\n",
       "    </tr>\n",
       "    <tr>\n",
       "      <th>std</th>\n",
       "      <td>0.060161</td>\n",
       "      <td>0.087160</td>\n",
       "    </tr>\n",
       "    <tr>\n",
       "      <th>min</th>\n",
       "      <td>0.500000</td>\n",
       "      <td>0.400000</td>\n",
       "    </tr>\n",
       "    <tr>\n",
       "      <th>25%</th>\n",
       "      <td>0.540000</td>\n",
       "      <td>0.480000</td>\n",
       "    </tr>\n",
       "    <tr>\n",
       "      <th>50%</th>\n",
       "      <td>0.580000</td>\n",
       "      <td>0.552667</td>\n",
       "    </tr>\n",
       "    <tr>\n",
       "      <th>75%</th>\n",
       "      <td>0.630000</td>\n",
       "      <td>0.615500</td>\n",
       "    </tr>\n",
       "    <tr>\n",
       "      <th>max</th>\n",
       "      <td>0.770000</td>\n",
       "      <td>0.793750</td>\n",
       "    </tr>\n",
       "  </tbody>\n",
       "</table>\n",
       "</div>"
      ],
      "text/plain": [
       "          DIPPERC        CGPA\n",
       "count  181.000000  181.000000\n",
       "mean     0.588674    0.551267\n",
       "std      0.060161    0.087160\n",
       "min      0.500000    0.400000\n",
       "25%      0.540000    0.480000\n",
       "50%      0.580000    0.552667\n",
       "75%      0.630000    0.615500\n",
       "max      0.770000    0.793750"
      ]
     },
     "execution_count": 33,
     "metadata": {},
     "output_type": "execute_result"
    }
   ],
   "source": [
    "tech_Test_bin.describe()[['DIPPERC','CGPA']]"
   ]
  },
  {
   "cell_type": "markdown",
   "metadata": {},
   "source": [
    "Nous allons effetuer un echantillonage stratifier en fonction de la colonne echec ratio, nous allons prendre les individus deans chque categrie et nos echantillons on les memes descriptions statistiques"
   ]
  },
  {
   "cell_type": "markdown",
   "metadata": {},
   "source": [
    "nous pouvons constater que notre echantilonage est bien effectuer car les proportions des diplome percentage et CGPA sont bien respecté"
   ]
  },
  {
   "cell_type": "markdown",
   "metadata": {},
   "source": [
    "Apres la construction de nos 2 ensembles nous pouvons passer à l'encodage de nos données "
   ]
  },
  {
   "cell_type": "code",
   "execution_count": 35,
   "metadata": {
    "collapsed": true,
    "scrolled": false
   },
   "outputs": [],
   "source": [
    "tech_Train_bin.set_index(keys='ID',inplace=True)\n",
    "tech_Test_bin.set_index(keys='ID',inplace=True)"
   ]
  },
  {
   "cell_type": "markdown",
   "metadata": {},
   "source": [
    "Une fois la binerisation terminée nous allons debuter avec l'entrainement de nos models d'apprentissages :"
   ]
  },
  {
   "cell_type": "markdown",
   "metadata": {},
   "source": [
    "Pour commencer nous allons nous referer au cheatsheet de skleran pour debuter avec l'entrainement de nos differents modèles."
   ]
  },
  {
   "cell_type": "markdown",
   "metadata": {},
   "source": [
    "### 1. Alogritme de Prediction : Regression Lineaire avec gradient descent"
   ]
  },
  {
   "cell_type": "markdown",
   "metadata": {},
   "source": [
    "Pour la premierre approche nous allons effectuer une regression lineare en utilisant l'algoritmne SGD ensuite nous evaluerons les preformance du modèle."
   ]
  },
  {
   "cell_type": "markdown",
   "metadata": {},
   "source": [
    "Commencons par charger notre modèle :"
   ]
  },
  {
   "cell_type": "code",
   "execution_count": 36,
   "metadata": {
    "collapsed": true
   },
   "outputs": [],
   "source": [
    "from sklearn.linear_model import SGDRegressor"
   ]
  },
  {
   "cell_type": "code",
   "execution_count": 37,
   "metadata": {
    "collapsed": true
   },
   "outputs": [],
   "source": [
    "lin_reg=SGDRegressor(learning_rate='optimal',n_iter=1000)"
   ]
  },
  {
   "cell_type": "code",
   "execution_count": 38,
   "metadata": {
    "collapsed": true,
    "scrolled": true
   },
   "outputs": [],
   "source": [
    "Y_Train=tech_Train_bin.CGPA\n",
    "X_Train=tech_Train_bin.drop(labels=['CGPA','EchecRatio'],axis=1)\n",
    "Y_Test=tech_Test_bin.CGPA\n",
    "X_Test=tech_Test_bin.drop(labels=['CGPA','EchecRatio'],axis=1)"
   ]
  },
  {
   "cell_type": "code",
   "execution_count": 39,
   "metadata": {
    "scrolled": true
   },
   "outputs": [
    {
     "data": {
      "text/html": [
       "<div>\n",
       "<table border=\"1\" class=\"dataframe\">\n",
       "  <thead>\n",
       "    <tr style=\"text-align: right;\">\n",
       "      <th></th>\n",
       "      <th>OPTION_RIGHT-bio-chimie</th>\n",
       "      <th>OPTION_RIGHT-math-physique</th>\n",
       "      <th>OPTION_RIGHT-pedagogie</th>\n",
       "      <th>OPTION_RIGHT-mec gene</th>\n",
       "      <th>OPTION_RIGHT-commmerciale et adm</th>\n",
       "      <th>OPTION_RIGHT-sociale</th>\n",
       "      <th>OPTION_RIGHT-construction</th>\n",
       "      <th>OPTION_RIGHT-elec indust</th>\n",
       "      <th>OPTION_RIGHT-elec</th>\n",
       "      <th>OPTION_RIGHT-latin philo</th>\n",
       "      <th>...</th>\n",
       "      <th>SCHOOL_RIGHT-mwendu</th>\n",
       "      <th>SCHOOL_RIGHT-Institut MWANDA</th>\n",
       "      <th>SCHOOL_RIGHT-61</th>\n",
       "      <th>SCHOOL_RIGHT-ipp/beni</th>\n",
       "      <th>SCHOOL_RIGHT-bemba gombo</th>\n",
       "      <th>SCHOOL_RIGHT-imani</th>\n",
       "      <th>SCHOOL_RIGHT-MWANDU</th>\n",
       "      <th>SCHOOL_RIGHT-rambo</th>\n",
       "      <th>SCHOOL_RIGHT-thabiti</th>\n",
       "      <th>DIPPERC</th>\n",
       "    </tr>\n",
       "    <tr>\n",
       "      <th>ID</th>\n",
       "      <th></th>\n",
       "      <th></th>\n",
       "      <th></th>\n",
       "      <th></th>\n",
       "      <th></th>\n",
       "      <th></th>\n",
       "      <th></th>\n",
       "      <th></th>\n",
       "      <th></th>\n",
       "      <th></th>\n",
       "      <th></th>\n",
       "      <th></th>\n",
       "      <th></th>\n",
       "      <th></th>\n",
       "      <th></th>\n",
       "      <th></th>\n",
       "      <th></th>\n",
       "      <th></th>\n",
       "      <th></th>\n",
       "      <th></th>\n",
       "      <th></th>\n",
       "    </tr>\n",
       "  </thead>\n",
       "  <tbody>\n",
       "    <tr>\n",
       "      <th>9486</th>\n",
       "      <td>0</td>\n",
       "      <td>0</td>\n",
       "      <td>0</td>\n",
       "      <td>1</td>\n",
       "      <td>0</td>\n",
       "      <td>0</td>\n",
       "      <td>0</td>\n",
       "      <td>0</td>\n",
       "      <td>0</td>\n",
       "      <td>0</td>\n",
       "      <td>...</td>\n",
       "      <td>0</td>\n",
       "      <td>0</td>\n",
       "      <td>0</td>\n",
       "      <td>0</td>\n",
       "      <td>0</td>\n",
       "      <td>0</td>\n",
       "      <td>0</td>\n",
       "      <td>0</td>\n",
       "      <td>0</td>\n",
       "      <td>0.74</td>\n",
       "    </tr>\n",
       "    <tr>\n",
       "      <th>11485</th>\n",
       "      <td>0</td>\n",
       "      <td>0</td>\n",
       "      <td>0</td>\n",
       "      <td>1</td>\n",
       "      <td>0</td>\n",
       "      <td>0</td>\n",
       "      <td>0</td>\n",
       "      <td>0</td>\n",
       "      <td>0</td>\n",
       "      <td>0</td>\n",
       "      <td>...</td>\n",
       "      <td>0</td>\n",
       "      <td>0</td>\n",
       "      <td>0</td>\n",
       "      <td>0</td>\n",
       "      <td>0</td>\n",
       "      <td>0</td>\n",
       "      <td>0</td>\n",
       "      <td>0</td>\n",
       "      <td>0</td>\n",
       "      <td>0.60</td>\n",
       "    </tr>\n",
       "    <tr>\n",
       "      <th>12161</th>\n",
       "      <td>0</td>\n",
       "      <td>0</td>\n",
       "      <td>0</td>\n",
       "      <td>1</td>\n",
       "      <td>0</td>\n",
       "      <td>0</td>\n",
       "      <td>0</td>\n",
       "      <td>0</td>\n",
       "      <td>0</td>\n",
       "      <td>0</td>\n",
       "      <td>...</td>\n",
       "      <td>0</td>\n",
       "      <td>0</td>\n",
       "      <td>0</td>\n",
       "      <td>0</td>\n",
       "      <td>0</td>\n",
       "      <td>0</td>\n",
       "      <td>0</td>\n",
       "      <td>0</td>\n",
       "      <td>0</td>\n",
       "      <td>0.62</td>\n",
       "    </tr>\n",
       "    <tr>\n",
       "      <th>7530</th>\n",
       "      <td>0</td>\n",
       "      <td>0</td>\n",
       "      <td>0</td>\n",
       "      <td>0</td>\n",
       "      <td>0</td>\n",
       "      <td>0</td>\n",
       "      <td>0</td>\n",
       "      <td>0</td>\n",
       "      <td>0</td>\n",
       "      <td>0</td>\n",
       "      <td>...</td>\n",
       "      <td>0</td>\n",
       "      <td>0</td>\n",
       "      <td>0</td>\n",
       "      <td>0</td>\n",
       "      <td>0</td>\n",
       "      <td>0</td>\n",
       "      <td>0</td>\n",
       "      <td>0</td>\n",
       "      <td>0</td>\n",
       "      <td>0.68</td>\n",
       "    </tr>\n",
       "    <tr>\n",
       "      <th>9959</th>\n",
       "      <td>0</td>\n",
       "      <td>0</td>\n",
       "      <td>0</td>\n",
       "      <td>1</td>\n",
       "      <td>0</td>\n",
       "      <td>0</td>\n",
       "      <td>0</td>\n",
       "      <td>0</td>\n",
       "      <td>0</td>\n",
       "      <td>0</td>\n",
       "      <td>...</td>\n",
       "      <td>0</td>\n",
       "      <td>0</td>\n",
       "      <td>0</td>\n",
       "      <td>0</td>\n",
       "      <td>0</td>\n",
       "      <td>0</td>\n",
       "      <td>0</td>\n",
       "      <td>0</td>\n",
       "      <td>0</td>\n",
       "      <td>0.57</td>\n",
       "    </tr>\n",
       "  </tbody>\n",
       "</table>\n",
       "<p>5 rows × 237 columns</p>\n",
       "</div>"
      ],
      "text/plain": [
       "       OPTION_RIGHT-bio-chimie  OPTION_RIGHT-math-physique  \\\n",
       "ID                                                           \n",
       "9486                         0                           0   \n",
       "11485                        0                           0   \n",
       "12161                        0                           0   \n",
       "7530                         0                           0   \n",
       "9959                         0                           0   \n",
       "\n",
       "       OPTION_RIGHT-pedagogie  OPTION_RIGHT-mec gene  \\\n",
       "ID                                                     \n",
       "9486                        0                      1   \n",
       "11485                       0                      1   \n",
       "12161                       0                      1   \n",
       "7530                        0                      0   \n",
       "9959                        0                      1   \n",
       "\n",
       "       OPTION_RIGHT-commmerciale et adm  OPTION_RIGHT-sociale  \\\n",
       "ID                                                              \n",
       "9486                                  0                     0   \n",
       "11485                                 0                     0   \n",
       "12161                                 0                     0   \n",
       "7530                                  0                     0   \n",
       "9959                                  0                     0   \n",
       "\n",
       "       OPTION_RIGHT-construction  OPTION_RIGHT-elec indust  OPTION_RIGHT-elec  \\\n",
       "ID                                                                              \n",
       "9486                           0                         0                  0   \n",
       "11485                          0                         0                  0   \n",
       "12161                          0                         0                  0   \n",
       "7530                           0                         0                  0   \n",
       "9959                           0                         0                  0   \n",
       "\n",
       "       OPTION_RIGHT-latin philo   ...     SCHOOL_RIGHT-mwendu  \\\n",
       "ID                                ...                           \n",
       "9486                          0   ...                       0   \n",
       "11485                         0   ...                       0   \n",
       "12161                         0   ...                       0   \n",
       "7530                          0   ...                       0   \n",
       "9959                          0   ...                       0   \n",
       "\n",
       "       SCHOOL_RIGHT-Institut MWANDA  SCHOOL_RIGHT-61  SCHOOL_RIGHT-ipp/beni  \\\n",
       "ID                                                                            \n",
       "9486                              0                0                      0   \n",
       "11485                             0                0                      0   \n",
       "12161                             0                0                      0   \n",
       "7530                              0                0                      0   \n",
       "9959                              0                0                      0   \n",
       "\n",
       "       SCHOOL_RIGHT-bemba gombo  SCHOOL_RIGHT-imani  SCHOOL_RIGHT-MWANDU  \\\n",
       "ID                                                                         \n",
       "9486                          0                   0                    0   \n",
       "11485                         0                   0                    0   \n",
       "12161                         0                   0                    0   \n",
       "7530                          0                   0                    0   \n",
       "9959                          0                   0                    0   \n",
       "\n",
       "       SCHOOL_RIGHT-rambo  SCHOOL_RIGHT-thabiti  DIPPERC  \n",
       "ID                                                        \n",
       "9486                    0                     0     0.74  \n",
       "11485                   0                     0     0.60  \n",
       "12161                   0                     0     0.62  \n",
       "7530                    0                     0     0.68  \n",
       "9959                    0                     0     0.57  \n",
       "\n",
       "[5 rows x 237 columns]"
      ]
     },
     "execution_count": 39,
     "metadata": {},
     "output_type": "execute_result"
    }
   ],
   "source": [
    "X_Train[:5]"
   ]
  },
  {
   "cell_type": "code",
   "execution_count": 40,
   "metadata": {
    "scrolled": true
   },
   "outputs": [
    {
     "data": {
      "text/plain": [
       "ID\n",
       "9486     0.644333\n",
       "11485    0.629000\n",
       "12161    0.566000\n",
       "7530     0.517000\n",
       "9959     0.663000\n",
       "Name: CGPA, dtype: float64"
      ]
     },
     "execution_count": 40,
     "metadata": {},
     "output_type": "execute_result"
    }
   ],
   "source": [
    "Y_Train[:5]"
   ]
  },
  {
   "cell_type": "code",
   "execution_count": 41,
   "metadata": {
    "scrolled": false
   },
   "outputs": [
    {
     "data": {
      "text/plain": [
       "SGDRegressor(alpha=0.0001, average=False, epsilon=0.1, eta0=0.01,\n",
       "       fit_intercept=True, l1_ratio=0.15, learning_rate='optimal',\n",
       "       loss='squared_loss', n_iter=1000, penalty='l2', power_t=0.25,\n",
       "       random_state=None, shuffle=True, verbose=0, warm_start=False)"
      ]
     },
     "execution_count": 41,
     "metadata": {},
     "output_type": "execute_result"
    }
   ],
   "source": [
    "lin_reg.fit(X_Train,Y_Train)"
   ]
  },
  {
   "cell_type": "code",
   "execution_count": 42,
   "metadata": {
    "scrolled": false
   },
   "outputs": [
    {
     "name": "stdout",
     "output_type": "stream",
     "text": [
      "('Predictions:\\t', array([-100854.37767774,   60762.9756358 ,   26008.19554317,\n",
      "       -104868.96867512,   29007.06220251]))\n",
      "('Labels:\\t\\t', [0.64433333078999988, 0.62900001525900007, 0.565999984741, 0.51699999809300001, 0.66300003051800005])\n"
     ]
    }
   ],
   "source": [
    "some_data = X_Train.iloc[:5]\n",
    "some_labels = Y_Train.iloc[:5]\n",
    "print(\"Predictions:\\t\", lin_reg.predict(some_data))\n",
    "print(\"Labels:\\t\\t\", list(some_labels))"
   ]
  },
  {
   "cell_type": "markdown",
   "metadata": {},
   "source": [
    "Après notre premierre approche on remqrque que notre modèle est très mal construit"
   ]
  },
  {
   "cell_type": "markdown",
   "metadata": {},
   "source": [
    "Essayons une evaluation avec le RMSE"
   ]
  },
  {
   "cell_type": "code",
   "execution_count": 43,
   "metadata": {},
   "outputs": [
    {
     "data": {
      "text/plain": [
       "100867.39741056167"
      ]
     },
     "execution_count": 43,
     "metadata": {},
     "output_type": "execute_result"
    }
   ],
   "source": [
    "from sklearn.metrics import mean_squared_error\n",
    "CGPA_predictions = lin_reg.predict(X_Train)\n",
    "lin_mse = mean_squared_error(Y_Train, CGPA_predictions)\n",
    "lin_rmse=np.sqrt(lin_mse)\n",
    "lin_rmse"
   ]
  },
  {
   "cell_type": "markdown",
   "metadata": {},
   "source": [
    "Comme souligner à l'appendice comme notre ensemble d'apprentissage n'est pas assez grand nous pouvons conclure que au vue de l'erreur que nous avions obtenu et notre taille del'echantillons que le SGD algoritme ne convient pas '"
   ]
  },
  {
   "cell_type": "code",
   "execution_count": null,
   "metadata": {
    "collapsed": true
   },
   "outputs": [],
   "source": []
  },
  {
   "cell_type": "markdown",
   "metadata": {},
   "source": [
    "##### 2. Modele des Regression Regularisée"
   ]
  },
  {
   "cell_type": "markdown",
   "metadata": {},
   "source": [
    "Comme notre ensemble d'apprentissage est relativement petit nous entrainerons une regression rigide"
   ]
  },
  {
   "cell_type": "code",
   "execution_count": 44,
   "metadata": {
    "collapsed": true
   },
   "outputs": [],
   "source": [
    "from sklearn.linear_model import Ridge"
   ]
  },
  {
   "cell_type": "code",
   "execution_count": 45,
   "metadata": {
    "collapsed": true
   },
   "outputs": [],
   "source": [
    "ridge_reg=Ridge(alpha=1, solver=\"cholesky\")"
   ]
  },
  {
   "cell_type": "code",
   "execution_count": 46,
   "metadata": {
    "scrolled": true
   },
   "outputs": [
    {
     "data": {
      "text/plain": [
       "Ridge(alpha=1, copy_X=True, fit_intercept=True, max_iter=None,\n",
       "   normalize=False, random_state=None, solver='cholesky', tol=0.001)"
      ]
     },
     "execution_count": 46,
     "metadata": {},
     "output_type": "execute_result"
    }
   ],
   "source": [
    "ridge_reg.fit(X_Train,Y_Train)"
   ]
  },
  {
   "cell_type": "code",
   "execution_count": 47,
   "metadata": {
    "scrolled": false
   },
   "outputs": [
    {
     "name": "stdout",
     "output_type": "stream",
     "text": [
      "('Predictions:\\t', array([ 0.62684068,  0.59994195,  0.5656532 ,  0.60020493,  0.6451306 ]))\n",
      "('Labels:\\t\\t', [0.64433333078999988, 0.62900001525900007, 0.565999984741, 0.51699999809300001, 0.66300003051800005])\n"
     ]
    }
   ],
   "source": [
    "some_data = X_Train.iloc[:5]\n",
    "some_labels = Y_Train.iloc[:5]\n",
    "print(\"Predictions:\\t\", ridge_reg.predict(some_data))\n",
    "print(\"Labels:\\t\\t\", list(some_labels))"
   ]
  },
  {
   "cell_type": "markdown",
   "metadata": {},
   "source": [
    "Avec cette seconde approche nous remarquons que notre modèle commence à s'ameliorer"
   ]
  },
  {
   "cell_type": "markdown",
   "metadata": {},
   "source": [
    "Essayons une evaluation avec le RMSE"
   ]
  },
  {
   "cell_type": "code",
   "execution_count": 48,
   "metadata": {
    "scrolled": true
   },
   "outputs": [
    {
     "data": {
      "text/plain": [
       "0.064235140164626295"
      ]
     },
     "execution_count": 48,
     "metadata": {},
     "output_type": "execute_result"
    }
   ],
   "source": [
    "from sklearn.metrics import mean_squared_error\n",
    "CGPA_predictions = ridge_reg.predict(X_Train)\n",
    "lin_mse = mean_squared_error(Y_Train, CGPA_predictions)\n",
    "lin_rmse=np.sqrt(lin_mse)\n",
    "lin_rmse"
   ]
  },
  {
   "cell_type": "markdown",
   "metadata": {},
   "source": [
    "EValuons ensuite notre modele sur le test set et voyons comment evoluera le RMSE"
   ]
  },
  {
   "cell_type": "code",
   "execution_count": 49,
   "metadata": {},
   "outputs": [
    {
     "data": {
      "text/plain": [
       "237"
      ]
     },
     "execution_count": 49,
     "metadata": {},
     "output_type": "execute_result"
    }
   ],
   "source": [
    "len(ridge_reg.coef_)"
   ]
  },
  {
   "cell_type": "markdown",
   "metadata": {},
   "source": [
    "Evaluons notre modèle sur l'ensemble d'evaluation et verifions les resultats"
   ]
  },
  {
   "cell_type": "code",
   "execution_count": 50,
   "metadata": {},
   "outputs": [
    {
     "data": {
      "text/plain": [
       "0.07667625412410424"
      ]
     },
     "execution_count": 50,
     "metadata": {},
     "output_type": "execute_result"
    }
   ],
   "source": [
    "from sklearn.metrics import mean_squared_error\n",
    "CGPA_predictions = ridge_reg.predict(X_Test)\n",
    "lin_mse = mean_squared_error(Y_Test, CGPA_predictions)\n",
    "lin_rmse=np.sqrt(lin_mse)\n",
    "lin_rmse"
   ]
  },
  {
   "cell_type": "markdown",
   "metadata": {},
   "source": [
    "comme nos valeurs du CGPA sont compris entre 0.4 et 0.83 une erreur de 0.06 sur la prediction inferieur à 10% est pratiquement aceptable"
   ]
  },
  {
   "cell_type": "markdown",
   "metadata": {
    "collapsed": true
   },
   "source": [
    "#### 2.1 Cross Validation du Modèle"
   ]
  },
  {
   "cell_type": "markdown",
   "metadata": {},
   "source": [
    "Verifions avant tous que nos modèles ont les meme distributions statistiques"
   ]
  },
  {
   "cell_type": "markdown",
   "metadata": {},
   "source": [
    "Nous pouvons conclure aisement que nos deux ensembles ont pratiquement les memes dimensions ou presque"
   ]
  },
  {
   "cell_type": "code",
   "execution_count": 51,
   "metadata": {
    "collapsed": true
   },
   "outputs": [],
   "source": [
    "from sklearn.model_selection import cross_val_score\n"
   ]
  },
  {
   "cell_type": "code",
   "execution_count": 52,
   "metadata": {
    "collapsed": true
   },
   "outputs": [],
   "source": [
    "from sklearn.model_selection import cross_val_score\n",
    "scores = cross_val_score(ridge_reg, X_Train, Y_Train,scoring=\"neg_mean_squared_error\", cv=10)\n",
    "rmse_scores = np.sqrt(-scores)"
   ]
  },
  {
   "cell_type": "code",
   "execution_count": 53,
   "metadata": {
    "scrolled": true
   },
   "outputs": [
    {
     "name": "stdout",
     "output_type": "stream",
     "text": [
      "('Scores:', array([ 0.06828856,  0.07418753,  0.0804283 ,  0.08539244,  0.07966121,\n",
      "        0.08422242,  0.07995321,  0.06680948,  0.08460492,  0.06974064]))\n",
      "('Mean:', 0.07732886997795145)\n",
      "('Standard deviation:', 0.0066876799718420064)\n"
     ]
    }
   ],
   "source": [
    "def display_scores(scores):\n",
    "    print(\"Scores:\", scores)\n",
    "    print(\"Mean:\", scores.mean())\n",
    "    print(\"Standard deviation:\", scores.std())\n",
    "display_scores(rmse_scores)"
   ]
  },
  {
   "cell_type": "markdown",
   "metadata": {},
   "source": [
    "on peut aisement remarquer sue notre modèle meme lors d'une validation croisée dispose de la meme valeur de l'erreur "
   ]
  },
  {
   "cell_type": "markdown",
   "metadata": {},
   "source": [
    "Nous pouvons enfin sauvergarder notre modèle et passer au modèle suivant"
   ]
  },
  {
   "cell_type": "code",
   "execution_count": 54,
   "metadata": {
    "scrolled": true
   },
   "outputs": [
    {
     "data": {
      "text/plain": [
       "['../predictivesModels/TechnoRidgRegress.pkl']"
      ]
     },
     "execution_count": 54,
     "metadata": {},
     "output_type": "execute_result"
    }
   ],
   "source": [
    "from sklearn.externals import joblib\n",
    "joblib.dump(ridge_reg, \"../predictivesModels/TechnoRidgRegress.pkl\")"
   ]
  },
  {
   "cell_type": "markdown",
   "metadata": {},
   "source": [
    "#### 3.Modèle Support Vector Regresssor"
   ]
  },
  {
   "cell_type": "markdown",
   "metadata": {},
   "source": [
    "Nous allons maintennant entrainner un modèle pour le SVR : il utilse le meme principe que le SVM normal pour la classification mais bien adapté pour les taches de regressions"
   ]
  },
  {
   "cell_type": "code",
   "execution_count": 56,
   "metadata": {
    "collapsed": true
   },
   "outputs": [],
   "source": [
    "from sklearn.svm import LinearSVR"
   ]
  },
  {
   "cell_type": "code",
   "execution_count": 57,
   "metadata": {
    "collapsed": true
   },
   "outputs": [],
   "source": [
    "linSVM_reg=LinearSVR(dual=False,fit_intercept=False,loss='squared_epsilon_insensitive' )"
   ]
  },
  {
   "cell_type": "code",
   "execution_count": 58,
   "metadata": {
    "scrolled": false
   },
   "outputs": [
    {
     "data": {
      "text/plain": [
       "LinearSVR(C=1.0, dual=False, epsilon=0.0, fit_intercept=False,\n",
       "     intercept_scaling=1.0, loss='squared_epsilon_insensitive',\n",
       "     max_iter=1000, random_state=None, tol=0.0001, verbose=0)"
      ]
     },
     "execution_count": 58,
     "metadata": {},
     "output_type": "execute_result"
    }
   ],
   "source": [
    "linSVM_reg.fit(X_Train,Y_Train)"
   ]
  },
  {
   "cell_type": "code",
   "execution_count": 59,
   "metadata": {
    "scrolled": true
   },
   "outputs": [
    {
     "name": "stdout",
     "output_type": "stream",
     "text": [
      "('Predictions:\\t', array([ 0.64704777,  0.58995805,  0.56568758,  0.62231925,  0.65666288]))\n",
      "('Labels:\\t\\t', [0.64433333078999988, 0.62900001525900007, 0.565999984741, 0.51699999809300001, 0.66300003051800005])\n"
     ]
    }
   ],
   "source": [
    "some_data = X_Train.iloc[:5]\n",
    "some_labels = Y_Train.iloc[:5]\n",
    "print(\"Predictions:\\t\", linSVM_reg.predict(some_data))\n",
    "print(\"Labels:\\t\\t\", list(some_labels))"
   ]
  },
  {
   "cell_type": "markdown",
   "metadata": {},
   "source": [
    "Avec cette seconde approche nous remarquons que notre modèle commence à s'ameliorer"
   ]
  },
  {
   "cell_type": "markdown",
   "metadata": {},
   "source": [
    "Essayons une evaluation avec le RMSE"
   ]
  },
  {
   "cell_type": "code",
   "execution_count": 60,
   "metadata": {
    "scrolled": true
   },
   "outputs": [
    {
     "data": {
      "text/plain": [
       "0.064208474475398264"
      ]
     },
     "execution_count": 60,
     "metadata": {},
     "output_type": "execute_result"
    }
   ],
   "source": [
    "from sklearn.metrics import mean_squared_error\n",
    "CGPA_predictions = linSVM_reg.predict(X_Train)\n",
    "lin_mse = mean_squared_error(Y_Train, CGPA_predictions)\n",
    "lin_rmse=np.sqrt(lin_mse)\n",
    "lin_rmse"
   ]
  },
  {
   "cell_type": "markdown",
   "metadata": {},
   "source": [
    "EValuons ensuite notre modele sur le test set et voyons comment evoluera le RMSE"
   ]
  },
  {
   "cell_type": "code",
   "execution_count": 61,
   "metadata": {},
   "outputs": [
    {
     "data": {
      "text/plain": [
       "237"
      ]
     },
     "execution_count": 61,
     "metadata": {},
     "output_type": "execute_result"
    }
   ],
   "source": [
    "len(ridge_reg.coef_)"
   ]
  },
  {
   "cell_type": "code",
   "execution_count": 62,
   "metadata": {},
   "outputs": [
    {
     "data": {
      "text/plain": [
       "0.07745361711389151"
      ]
     },
     "execution_count": 62,
     "metadata": {},
     "output_type": "execute_result"
    }
   ],
   "source": [
    "from sklearn.metrics import mean_squared_error\n",
    "CGPA_predictions = linSVM_reg.predict(X_Test)\n",
    "lin_mse = mean_squared_error(Y_Test, CGPA_predictions)\n",
    "lin_rmse=np.sqrt(lin_mse)\n",
    "lin_rmse"
   ]
  },
  {
   "cell_type": "markdown",
   "metadata": {},
   "source": [
    "comme nos valeurs du CGPA sont compris entre 0.4 et 0.83 une erreur de 0.07839 sur la prediction inferieur à 10% est pratiquement aceptable"
   ]
  },
  {
   "cell_type": "markdown",
   "metadata": {
    "collapsed": true
   },
   "source": [
    "#### 2.1 Cross Validation du Modèle"
   ]
  },
  {
   "cell_type": "code",
   "execution_count": 136,
   "metadata": {
    "collapsed": true
   },
   "outputs": [],
   "source": [
    "from sklearn.model_selection import cross_val_score\n"
   ]
  },
  {
   "cell_type": "code",
   "execution_count": 63,
   "metadata": {
    "collapsed": true
   },
   "outputs": [],
   "source": [
    "from sklearn.model_selection import cross_val_score\n",
    "scores = cross_val_score(linSVM_reg, X_Train, Y_Train,scoring=\"neg_mean_squared_error\", cv=10)\n",
    "rmse_scores = np.sqrt(-scores)"
   ]
  },
  {
   "cell_type": "code",
   "execution_count": 64,
   "metadata": {
    "scrolled": true
   },
   "outputs": [
    {
     "name": "stdout",
     "output_type": "stream",
     "text": [
      "('Scores:', array([ 0.07691574,  0.07631095,  0.08856581,  0.08663474,  0.08298807,\n",
      "        0.08150741,  0.07906447,  0.07660264,  0.09437213,  0.07472501]))\n",
      "('Mean:', 0.081768695928976246)\n",
      "('Standard deviation:', 0.0060599790765970161)\n"
     ]
    }
   ],
   "source": [
    "def display_scores(scores):\n",
    "    print(\"Scores:\", scores)\n",
    "    print(\"Mean:\", scores.mean())\n",
    "    print(\"Standard deviation:\", scores.std())\n",
    "display_scores(rmse_scores)"
   ]
  },
  {
   "cell_type": "markdown",
   "metadata": {},
   "source": [
    "on peut aisement remarquer sue notre modèle meme lors d'une validation croisée dispose de la meme valeur de l'erreur "
   ]
  },
  {
   "cell_type": "markdown",
   "metadata": {},
   "source": [
    "Nous pouvons enfin sauvergarder notre modèle et passer au modèle suivant"
   ]
  },
  {
   "cell_type": "code",
   "execution_count": 163,
   "metadata": {
    "scrolled": true
   },
   "outputs": [
    {
     "data": {
      "text/plain": [
       "['../predictivesModels/medecineSVR.pkl']"
      ]
     },
     "execution_count": 163,
     "metadata": {},
     "output_type": "execute_result"
    }
   ],
   "source": [
    "from sklearn.externals import joblib\n",
    "joblib.dump(ridge_reg, \"../predictivesModels/TechnoSVR.pkl\")"
   ]
  },
  {
   "cell_type": "markdown",
   "metadata": {},
   "source": [
    "Nous pouvons constater que notre modèle dispose d'une erreur de prédiction de l'ordre des 10% maximun c'est qui n'est pas parfait , cela veut dire qu'il prédit le CGPA a 10% pret "
   ]
  },
  {
   "cell_type": "markdown",
   "metadata": {},
   "source": [
    "Comme les modèles lineaires ne nous donnent pas des meilleurs resultat et comme sugererer sur la figure nous allons entrainer un SVR avec un kernel gaussien rbf (voir kernel SVM)"
   ]
  },
  {
   "cell_type": "markdown",
   "metadata": {},
   "source": [
    "#### 3.Modèle Support Vector Regresssor Kernel Gaussien (RBF)"
   ]
  },
  {
   "cell_type": "markdown",
   "metadata": {},
   "source": [
    "Nous allons maintennant entrainner un modèle pour le SVR : il utilse le meme principe que le SVM normal pour la classification mais bien adapté pour les taches de regressions"
   ]
  },
  {
   "cell_type": "code",
   "execution_count": 66,
   "metadata": {
    "collapsed": true
   },
   "outputs": [],
   "source": [
    "from sklearn.svm import SVR"
   ]
  },
  {
   "cell_type": "code",
   "execution_count": 69,
   "metadata": {
    "collapsed": true
   },
   "outputs": [],
   "source": [
    "rbfSVM_reg=SVR(verbose=True)"
   ]
  },
  {
   "cell_type": "code",
   "execution_count": 70,
   "metadata": {
    "scrolled": false
   },
   "outputs": [
    {
     "name": "stdout",
     "output_type": "stream",
     "text": [
      "[LibSVM]"
     ]
    },
    {
     "data": {
      "text/plain": [
       "SVR(C=1.0, cache_size=200, coef0=0.0, degree=3, epsilon=0.1, gamma='auto',\n",
       "  kernel='rbf', max_iter=-1, shrinking=True, tol=0.001, verbose=True)"
      ]
     },
     "execution_count": 70,
     "metadata": {},
     "output_type": "execute_result"
    }
   ],
   "source": [
    "rbfSVM_reg.fit(X_Train,Y_Train)"
   ]
  },
  {
   "cell_type": "code",
   "execution_count": 71,
   "metadata": {
    "scrolled": true
   },
   "outputs": [
    {
     "name": "stdout",
     "output_type": "stream",
     "text": [
      "('Predictions:\\t', array([ 0.57735789,  0.57231847,  0.55617352,  0.56275306,  0.56306622]))\n",
      "('Labels:\\t\\t', [0.64433333078999988, 0.62900001525900007, 0.565999984741, 0.51699999809300001, 0.66300003051800005])\n"
     ]
    }
   ],
   "source": [
    "some_data = X_Train.iloc[:5]\n",
    "some_labels = Y_Train.iloc[:5]\n",
    "print(\"Predictions:\\t\", rbfSVM_reg.predict(some_data))\n",
    "print(\"Labels:\\t\\t\", list(some_labels))"
   ]
  },
  {
   "cell_type": "markdown",
   "metadata": {},
   "source": [
    "Avec cette seconde approche nous remarquons que notre modèle commence à s'ameliorer"
   ]
  },
  {
   "cell_type": "markdown",
   "metadata": {},
   "source": [
    "Essayons une evaluation avec le RMSE"
   ]
  },
  {
   "cell_type": "code",
   "execution_count": 72,
   "metadata": {
    "scrolled": true
   },
   "outputs": [
    {
     "data": {
      "text/plain": [
       "0.077191883495771912"
      ]
     },
     "execution_count": 72,
     "metadata": {},
     "output_type": "execute_result"
    }
   ],
   "source": [
    "from sklearn.metrics import mean_squared_error\n",
    "CGPA_predictions = rbfSVM_reg.predict(X_Train)\n",
    "lin_mse = mean_squared_error(Y_Train, CGPA_predictions)\n",
    "lin_rmse=np.sqrt(lin_mse)\n",
    "lin_rmse"
   ]
  },
  {
   "cell_type": "markdown",
   "metadata": {},
   "source": [
    "EValuons ensuite notre modele sur le test set et voyons comment evoluera le RMSE"
   ]
  },
  {
   "cell_type": "code",
   "execution_count": 61,
   "metadata": {},
   "outputs": [
    {
     "data": {
      "text/plain": [
       "237"
      ]
     },
     "execution_count": 61,
     "metadata": {},
     "output_type": "execute_result"
    }
   ],
   "source": [
    "len(ridge_reg.coef_)"
   ]
  },
  {
   "cell_type": "code",
   "execution_count": 73,
   "metadata": {},
   "outputs": [
    {
     "data": {
      "text/plain": [
       "0.077260716153879569"
      ]
     },
     "execution_count": 73,
     "metadata": {},
     "output_type": "execute_result"
    }
   ],
   "source": [
    "from sklearn.metrics import mean_squared_error\n",
    "CGPA_predictions = rbfSVM_reg.predict(X_Test)\n",
    "lin_mse = mean_squared_error(Y_Test, CGPA_predictions)\n",
    "lin_rmse=np.sqrt(lin_mse)\n",
    "lin_rmse"
   ]
  },
  {
   "cell_type": "markdown",
   "metadata": {},
   "source": [
    "comme nos valeurs du CGPA sont compris entre 0.4 et 0.83 une erreur de 0.07839 sur la prediction inferieur à 10% est pratiquement aceptable"
   ]
  },
  {
   "cell_type": "markdown",
   "metadata": {
    "collapsed": true
   },
   "source": [
    "#### 2.1 Cross Validation du Modèle"
   ]
  },
  {
   "cell_type": "code",
   "execution_count": 136,
   "metadata": {
    "collapsed": true
   },
   "outputs": [],
   "source": [
    "from sklearn.model_selection import cross_val_score\n"
   ]
  },
  {
   "cell_type": "code",
   "execution_count": 74,
   "metadata": {},
   "outputs": [
    {
     "name": "stdout",
     "output_type": "stream",
     "text": [
      "[LibSVM][LibSVM][LibSVM][LibSVM][LibSVM][LibSVM][LibSVM][LibSVM][LibSVM][LibSVM]"
     ]
    }
   ],
   "source": [
    "from sklearn.model_selection import cross_val_score\n",
    "scores = cross_val_score(rbfSVM_reg, X_Train, Y_Train,scoring=\"neg_mean_squared_error\", cv=10)\n",
    "rmse_scores = np.sqrt(-scores)"
   ]
  },
  {
   "cell_type": "code",
   "execution_count": 75,
   "metadata": {
    "scrolled": true
   },
   "outputs": [
    {
     "name": "stdout",
     "output_type": "stream",
     "text": [
      "('Scores:', array([ 0.07028214,  0.07744742,  0.08597827,  0.08621871,  0.07897918,\n",
      "        0.08297883,  0.08190469,  0.07376708,  0.08623629,  0.07520144]))\n",
      "('Mean:', 0.079899404867756249)\n",
      "('Standard deviation:', 0.0053812025523476371)\n"
     ]
    }
   ],
   "source": [
    "def display_scores(scores):\n",
    "    print(\"Scores:\", scores)\n",
    "    print(\"Mean:\", scores.mean())\n",
    "    print(\"Standard deviation:\", scores.std())\n",
    "display_scores(rmse_scores)"
   ]
  },
  {
   "cell_type": "markdown",
   "metadata": {},
   "source": [
    "on peut aisement remarquer sue notre modèle meme lors d'une validation croisée dispose de la meme valeur de l'erreur "
   ]
  },
  {
   "cell_type": "markdown",
   "metadata": {},
   "source": [
    "Nous pouvons enfin sauvergarder notre modèle et passer au modèle suivant"
   ]
  },
  {
   "cell_type": "code",
   "execution_count": 76,
   "metadata": {
    "scrolled": true
   },
   "outputs": [
    {
     "data": {
      "text/plain": [
       "['../predictivesModels/TechnorbfSVR.pkl']"
      ]
     },
     "execution_count": 76,
     "metadata": {},
     "output_type": "execute_result"
    }
   ],
   "source": [
    "from sklearn.externals import joblib\n",
    "joblib.dump(ridge_reg, \"../predictivesModels/TechnorbfSVR.pkl\")"
   ]
  },
  {
   "cell_type": "markdown",
   "metadata": {},
   "source": [
    "Conslusion tous nos modèles entrainer nous donnent un score de l'ordre de 10% ce qui n'est pas tolerable  nous allons essayer d'ameliorere le modèle'"
   ]
  },
  {
   "cell_type": "markdown",
   "metadata": {},
   "source": [
    "##### Amelioration du modèle "
   ]
  },
  {
   "cell_type": "markdown",
   "metadata": {},
   "source": [
    "Pour ameliorer notre modèle nous utiliserons 2 techniques :\n",
    "    - Feature Importance : La technique consiste à evaluer les attribues les plus importants pour notre modèle de prédiction et entrainer uniquement le modèle avec ces attribues\n",
    "    - Ensemble Methods : La techniques consistant à combiner plusieurs algoritmes et choisir celui qui a un bon score"
   ]
  },
  {
   "cell_type": "markdown",
   "metadata": {},
   "source": [
    "La premiere approche consistera à efectuer divers combinaison des parametres pour le modèle SVM et ensuite choisir le meilleur mais aussi les attribues les plus importants"
   ]
  },
  {
   "cell_type": "code",
   "execution_count": 77,
   "metadata": {
    "collapsed": true
   },
   "outputs": [],
   "source": [
    "from sklearn.model_selection import GridSearchCV"
   ]
  },
  {
   "cell_type": "code",
   "execution_count": 78,
   "metadata": {
    "collapsed": true
   },
   "outputs": [],
   "source": [
    "param_grid = [\n",
    " {'C': [1, 10, 100, 1000], 'kernel': ['linear']},\n",
    " {'C': [1, 10, 100, 1000], 'gamma': [0.001, 0.0001], 'kernel': ['rbf']},\n",
    "]"
   ]
  },
  {
   "cell_type": "code",
   "execution_count": 79,
   "metadata": {
    "collapsed": true
   },
   "outputs": [],
   "source": [
    "grid_search = GridSearchCV(rbfSVM_reg, param_grid, cv=5,scoring='neg_mean_squared_error')"
   ]
  },
  {
   "cell_type": "code",
   "execution_count": 80,
   "metadata": {
    "scrolled": true
   },
   "outputs": [
    {
     "name": "stdout",
     "output_type": "stream",
     "text": [
      "[LibSVM][LibSVM][LibSVM][LibSVM][LibSVM][LibSVM][LibSVM][LibSVM][LibSVM][LibSVM][LibSVM][LibSVM][LibSVM][LibSVM][LibSVM][LibSVM][LibSVM][LibSVM][LibSVM][LibSVM][LibSVM][LibSVM][LibSVM][LibSVM][LibSVM][LibSVM][LibSVM][LibSVM][LibSVM][LibSVM][LibSVM][LibSVM][LibSVM][LibSVM][LibSVM][LibSVM][LibSVM][LibSVM][LibSVM][LibSVM][LibSVM][LibSVM][LibSVM][LibSVM][LibSVM][LibSVM][LibSVM][LibSVM][LibSVM][LibSVM][LibSVM][LibSVM][LibSVM][LibSVM][LibSVM][LibSVM][LibSVM][LibSVM][LibSVM][LibSVM][LibSVM]"
     ]
    },
    {
     "data": {
      "text/plain": [
       "GridSearchCV(cv=5, error_score='raise',\n",
       "       estimator=SVR(C=1.0, cache_size=200, coef0=0.0, degree=3, epsilon=0.1, gamma='auto',\n",
       "  kernel='rbf', max_iter=-1, shrinking=True, tol=0.001, verbose=True),\n",
       "       fit_params={}, iid=True, n_jobs=1,\n",
       "       param_grid=[{'kernel': ['linear'], 'C': [1, 10, 100, 1000]}, {'kernel': ['rbf'], 'C': [1, 10, 100, 1000], 'gamma': [0.001, 0.0001]}],\n",
       "       pre_dispatch='2*n_jobs', refit=True, return_train_score=True,\n",
       "       scoring='neg_mean_squared_error', verbose=0)"
      ]
     },
     "execution_count": 80,
     "metadata": {},
     "output_type": "execute_result"
    }
   ],
   "source": [
    "grid_search.fit(X_Train,Y_Train)"
   ]
  },
  {
   "cell_type": "code",
   "execution_count": 81,
   "metadata": {},
   "outputs": [
    {
     "data": {
      "text/plain": [
       "{'C': 1000, 'kernel': 'linear'}"
      ]
     },
     "execution_count": 81,
     "metadata": {},
     "output_type": "execute_result"
    }
   ],
   "source": [
    "grid_search.best_params_"
   ]
  },
  {
   "cell_type": "markdown",
   "metadata": {},
   "source": [
    "Après avoir essayer diverses combinaison des parametres nous constatons que le modele qui donne un bon resultat pour SVM est SVM avec un Kernel lineaire et une penalité de C=1000"
   ]
  },
  {
   "cell_type": "markdown",
   "metadata": {},
   "source": [
    "Nous pouvons voir les scores de plus pret pour la valeur de RMSE"
   ]
  },
  {
   "cell_type": "code",
   "execution_count": 84,
   "metadata": {
    "scrolled": true
   },
   "outputs": [
    {
     "name": "stdout",
     "output_type": "stream",
     "text": [
      "(0.07675278252432885, {'kernel': 'linear', 'C': 1})\n",
      "(0.076754172732700424, {'kernel': 'linear', 'C': 10})\n",
      "(0.076791530464845714, {'kernel': 'linear', 'C': 100})\n",
      "(0.076851784342713766, {'kernel': 'linear', 'C': 1000})\n",
      "(0.077038045993413212, {'kernel': 'rbf', 'C': 1, 'gamma': 0.001})\n",
      "(0.078037461599557587, {'kernel': 'rbf', 'C': 1, 'gamma': 0.0001})\n",
      "(0.078088871298108847, {'kernel': 'rbf', 'C': 10, 'gamma': 0.001})\n",
      "(0.079127583919326741, {'kernel': 'rbf', 'C': 10, 'gamma': 0.0001})\n",
      "(0.079128394673061153, {'kernel': 'rbf', 'C': 100, 'gamma': 0.001})\n",
      "(0.083438123277125797, {'kernel': 'rbf', 'C': 100, 'gamma': 0.0001})\n",
      "(0.083438791694413456, {'kernel': 'rbf', 'C': 1000, 'gamma': 0.001})\n",
      "(0.087013786377859836, {'kernel': 'rbf', 'C': 1000, 'gamma': 0.0001})\n"
     ]
    }
   ],
   "source": [
    "cvres = grid_search.cv_results_\n",
    "for mean_score, params in zip(sorted(cvres[\"mean_test_score\"],reverse=True), cvres[\"params\"]):\n",
    "    print(np.sqrt(-mean_score), params)"
   ]
  },
  {
   "cell_type": "markdown",
   "metadata": {},
   "source": [
    "On constate que le modèle avec un kernel lineaire et C:1 dispose d'un meilleur resultat en validation croisé avec comme erreur dans l'order de 0.076"
   ]
  },
  {
   "cell_type": "markdown",
   "metadata": {},
   "source": [
    "cherchons les parametres les plus importants"
   ]
  },
  {
   "cell_type": "markdown",
   "metadata": {},
   "source": [
    "Effectuons ensuite le gird search pour nos modèles de regression lineaire"
   ]
  },
  {
   "cell_type": "code",
   "execution_count": 96,
   "metadata": {},
   "outputs": [
    {
     "data": {
      "text/plain": [
       "array([-5. , -3.5, -2. ])"
      ]
     },
     "execution_count": 96,
     "metadata": {},
     "output_type": "execute_result"
    }
   ],
   "source": [
    "np.linspace(-5, -2, 3)"
   ]
  },
  {
   "cell_type": "code",
   "execution_count": null,
   "metadata": {
    "collapsed": true
   },
   "outputs": [],
   "source": []
  },
  {
   "cell_type": "code",
   "execution_count": 135,
   "metadata": {
    "collapsed": true
   },
   "outputs": [],
   "source": [
    "param_grid_lin = {'alpha': 1.0/ np.array([1,2,3,4,5,6,7,8,9,10])}"
   ]
  },
  {
   "cell_type": "code",
   "execution_count": 117,
   "metadata": {},
   "outputs": [
    {
     "data": {
      "text/plain": [
       "{'alpha': array([ 1,  2,  3,  4,  5,  6,  7,  8,  9, 10])}"
      ]
     },
     "execution_count": 117,
     "metadata": {},
     "output_type": "execute_result"
    }
   ],
   "source": [
    "param_grid_lin"
   ]
  },
  {
   "cell_type": "code",
   "execution_count": 136,
   "metadata": {
    "collapsed": true
   },
   "outputs": [],
   "source": [
    "grid_search_lin = GridSearchCV(ridge_reg, param_grid_lin, cv=10,scoring='neg_mean_squared_error')"
   ]
  },
  {
   "cell_type": "code",
   "execution_count": 119,
   "metadata": {
    "scrolled": true
   },
   "outputs": [
    {
     "data": {
      "text/plain": [
       "GridSearchCV(cv=10, error_score='raise',\n",
       "       estimator=Ridge(alpha=1, copy_X=True, fit_intercept=True, max_iter=None,\n",
       "   normalize=False, random_state=None, solver='cholesky', tol=0.001),\n",
       "       fit_params={}, iid=True, n_jobs=1,\n",
       "       param_grid={'alpha': array([ 1,  2,  3,  4,  5,  6,  7,  8,  9, 10])},\n",
       "       pre_dispatch='2*n_jobs', refit=True, return_train_score=True,\n",
       "       scoring='neg_mean_squared_error', verbose=0)"
      ]
     },
     "execution_count": 119,
     "metadata": {},
     "output_type": "execute_result"
    }
   ],
   "source": [
    "grid_search_lin.fit(X_Train,Y_Train)"
   ]
  },
  {
   "cell_type": "code",
   "execution_count": 120,
   "metadata": {
    "scrolled": true
   },
   "outputs": [
    {
     "name": "stdout",
     "output_type": "stream",
     "text": [
      "(0.076989011842613503, {'alpha': 1})\n",
      "(0.077016502101592402, {'alpha': 2})\n",
      "(0.077082110678980631, {'alpha': 3})\n",
      "(0.077087562330210663, {'alpha': 4})\n",
      "(0.077176038051613036, {'alpha': 5})\n",
      "(0.077271484518299668, {'alpha': 6})\n",
      "(0.077369293721889207, {'alpha': 7})\n",
      "(0.077467303058230907, {'alpha': 8})\n",
      "(0.077564463647778387, {'alpha': 9})\n",
      "(0.077600726582856244, {'alpha': 10})\n"
     ]
    }
   ],
   "source": [
    "cvres = grid_search_lin.cv_results_\n",
    "for mean_score, params in zip(sorted(cvres[\"mean_test_score\"],reverse=True), cvres[\"params\"]):\n",
    "    print(np.sqrt(-mean_score), params)"
   ]
  },
  {
   "cell_type": "markdown",
   "metadata": {},
   "source": [
    "Notre modele de regression n'as  des bon resultats qu'avec alpha ==1"
   ]
  },
  {
   "cell_type": "code",
   "execution_count": 139,
   "metadata": {
    "collapsed": true
   },
   "outputs": [],
   "source": [
    "feature_importances = grid_search_lin.best_estimator_.coef_"
   ]
  },
  {
   "cell_type": "code",
   "execution_count": 140,
   "metadata": {
    "scrolled": true
   },
   "outputs": [
    {
     "data": {
      "text/plain": [
       "[(0.098173689994728322, 'SCHOOL_RIGHT-humule'),\n",
       " (0.094824196851536716, 'SCHOOL_RIGHT-61'),\n",
       " (0.092675432688184387, 'SCHOOL_RIGHT-bakita'),\n",
       " (0.092165704423230327, 'SCHOOL_RIGHT-enano'),\n",
       " (0.091226273117972392, 'SCHOOL_RIGHT-metanoia')]"
      ]
     },
     "execution_count": 140,
     "metadata": {},
     "output_type": "execute_result"
    }
   ],
   "source": [
    "sorted(zip(feature_importances, X_Train.columns), reverse=True)[:5]"
   ]
  },
  {
   "cell_type": "markdown",
   "metadata": {},
   "source": [
    "Dans ce tableau on remarque aisement que l'attribue le plus important dans la prediction du CGPA est le DIPPERC or celui n'as aucune corelation ave le cGPA!n'es ce pas la raison de notre erreur???"
   ]
  },
  {
   "cell_type": "markdown",
   "metadata": {},
   "source": [
    "reprenons nos calculs sans DIP PERC et evaluons notre modele"
   ]
  },
  {
   "cell_type": "code",
   "execution_count": 137,
   "metadata": {
    "scrolled": true
   },
   "outputs": [
    {
     "data": {
      "text/plain": [
       "GridSearchCV(cv=10, error_score='raise',\n",
       "       estimator=Ridge(alpha=1, copy_X=True, fit_intercept=True, max_iter=None,\n",
       "   normalize=False, random_state=None, solver='cholesky', tol=0.001),\n",
       "       fit_params={}, iid=True, n_jobs=1,\n",
       "       param_grid={'alpha': array([ 1.     ,  0.5    ,  0.33333,  0.25   ,  0.2    ,  0.16667,\n",
       "        0.14286,  0.125  ,  0.11111,  0.1    ])},\n",
       "       pre_dispatch='2*n_jobs', refit=True, return_train_score=True,\n",
       "       scoring='neg_mean_squared_error', verbose=0)"
      ]
     },
     "execution_count": 137,
     "metadata": {},
     "output_type": "execute_result"
    }
   ],
   "source": [
    "grid_search_lin.fit(X_Train.drop(labels='DIPPERC',axis=1),Y_Train)"
   ]
  },
  {
   "cell_type": "code",
   "execution_count": 138,
   "metadata": {
    "scrolled": true
   },
   "outputs": [
    {
     "name": "stdout",
     "output_type": "stream",
     "text": [
      "(0.079958788055231558, {'alpha': 1.0})\n",
      "(0.080981302641597863, {'alpha': 0.5})\n",
      "(0.081578207757310506, {'alpha': 0.33333333333333331})\n",
      "(0.081970010277268732, {'alpha': 0.25})\n",
      "(0.082247552671374416, {'alpha': 0.20000000000000001})\n",
      "(0.082454771667827997, {'alpha': 0.16666666666666666})\n",
      "(0.082615547998165631, {'alpha': 0.14285714285714285})\n",
      "(0.082744005417236463, {'alpha': 0.125})\n",
      "(0.082849045655425002, {'alpha': 0.1111111111111111})\n",
      "(0.082936564434028359, {'alpha': 0.10000000000000001})\n"
     ]
    }
   ],
   "source": [
    "cvres = grid_search_lin.cv_results_\n",
    "for mean_score, params in zip(sorted(cvres[\"mean_test_score\"],reverse=True), cvres[\"params\"]):\n",
    "    print(np.sqrt(-mean_score), params)"
   ]
  },
  {
   "cell_type": "markdown",
   "metadata": {},
   "source": [
    "aucune amelioration"
   ]
  },
  {
   "cell_type": "markdown",
   "metadata": {},
   "source": [
    "#### Ensemble Methods"
   ]
  },
  {
   "cell_type": "markdown",
   "metadata": {},
   "source": [
    "Nous venons de finir l'entrainenement des modeles simple et nous avons pu remarquer que deux modèles on des resultat aceptables ,nous allons essayer de construire un modèle simple regroupant Ridge regression et linear SVR et essayer de voir si on obtiendra un bon score avec celui-ci"
   ]
  },
  {
   "cell_type": "code",
   "execution_count": 147,
   "metadata": {
    "collapsed": true
   },
   "outputs": [],
   "source": [
    "from sklearn.ensemble import VotingClassifier"
   ]
  },
  {
   "cell_type": "code",
   "execution_count": 148,
   "metadata": {
    "collapsed": true
   },
   "outputs": [],
   "source": [
    "voting_clf = VotingClassifier(\n",
    "estimators=[('lr', linSVM_reg), ('SVR', rbfSVM_reg), ('lr', ridge_reg)],\n",
    "voting='hard'\n",
    ")"
   ]
  },
  {
   "cell_type": "code",
   "execution_count": null,
   "metadata": {
    "collapsed": true
   },
   "outputs": [],
   "source": [
    "predictions={} #a dict containning all regressor and predicted values by it\n",
    "for rgs in (rbfSVM_reg, ridge_reg, linSVM_reg):\n",
    "    rgs.fit(X_Train, Y_Train)\n",
    "    predictions[rgs.__class__.__name__]= clf.predict(X_Train)"
   ]
  },
  {
   "cell_type": "code",
   "execution_count": 172,
   "metadata": {
    "scrolled": false
   },
   "outputs": [
    {
     "name": "stdout",
     "output_type": "stream",
     "text": [
      "[LibSVM]('SVR', 0.064208474475398264)\n",
      "('Ridge', 0.064208474475398264)\n",
      "('LinearSVR', 0.064208474475398264)\n"
     ]
    }
   ],
   "source": [
    "predictions={}\n",
    "for clf in (rbfSVM_reg, ridge_reg, linSVM_reg):\n",
    "    clf.fit(X_Train, Y_Train)\n",
    "    predictions[clf.__class__.__name__]= clf.predict(X_Train)\n",
    "    print(clf.__class__.__name__, np.sqrt(mean_squared_error(Y_Train, y_pred)))"
   ]
  },
  {
   "cell_type": "code",
   "execution_count": 182,
   "metadata": {
    "collapsed": true
   },
   "outputs": [],
   "source": [
    "predictedVal=pd.DataFrame.from_dict(predictions,dtype=np.float)"
   ]
  },
  {
   "cell_type": "code",
   "execution_count": 189,
   "metadata": {
    "collapsed": true
   },
   "outputs": [],
   "source": [
    "predictedVal.loc[:,'RealValue']=Y_Train"
   ]
  },
  {
   "cell_type": "code",
   "execution_count": 193,
   "metadata": {
    "collapsed": true,
    "scrolled": true
   },
   "outputs": [],
   "source": [
    "predictedVal.set_index(Y_Train.index,inplace=True)"
   ]
  },
  {
   "cell_type": "code",
   "execution_count": 194,
   "metadata": {
    "collapsed": true
   },
   "outputs": [],
   "source": [
    "predictedVal.loc[:,'RealValue']=Y_Train"
   ]
  },
  {
   "cell_type": "code",
   "execution_count": 197,
   "metadata": {
    "scrolled": false
   },
   "outputs": [
    {
     "data": {
      "text/plain": [
       "LinearRegression(copy_X=True, fit_intercept=True, n_jobs=1, normalize=False)"
      ]
     },
     "execution_count": 197,
     "metadata": {},
     "output_type": "execute_result"
    }
   ],
   "source": [
    "from sklearn.linear_model import LinearRegression\n",
    "stacker= LinearRegression()\n",
    "stacker.fit(predictedVal.drop(labels=\"RealValue\",axis=1), predictedVal.RealValue)\n"
   ]
  },
  {
   "cell_type": "code",
   "execution_count": 198,
   "metadata": {
    "collapsed": true
   },
   "outputs": [],
   "source": [
    "Y_Predict=stacker.predict(predictedVal.drop(labels=\"RealValue\",axis=1))"
   ]
  },
  {
   "cell_type": "code",
   "execution_count": 199,
   "metadata": {},
   "outputs": [
    {
     "data": {
      "text/plain": [
       "0.062768271324069813"
      ]
     },
     "execution_count": 199,
     "metadata": {},
     "output_type": "execute_result"
    }
   ],
   "source": [
    "np.sqrt(mean_squared_error(predictedVal.RealValue, Y_Predict))"
   ]
  },
  {
   "cell_type": "markdown",
   "metadata": {},
   "source": [
    "Nous remarquons qu'en combinant les 3 modeles on Parvient ten sois peut à reduire l'erreur de prédiction"
   ]
  },
  {
   "cell_type": "markdown",
   "metadata": {},
   "source": [
    "cette technique s'appelle stacking nous pouvons continuer a l'evaluer et le performer , nous avons esayer une rgression lineare sur differentes valeurs et on optient un score de 0.062 ensuite essayons le max "
   ]
  },
  {
   "cell_type": "code",
   "execution_count": 202,
   "metadata": {
    "collapsed": true
   },
   "outputs": [],
   "source": [
    "yPredictedMax=predictedVal.drop(labels=\"RealValue\",axis=1).apply(np.max,axis=1)"
   ]
  },
  {
   "cell_type": "code",
   "execution_count": 203,
   "metadata": {},
   "outputs": [
    {
     "data": {
      "text/plain": [
       "0.070364470760339928"
      ]
     },
     "execution_count": 203,
     "metadata": {},
     "output_type": "execute_result"
    }
   ],
   "source": [
    "np.sqrt(mean_squared_error(predictedVal.RealValue,yPredictedMax ))"
   ]
  },
  {
   "cell_type": "markdown",
   "metadata": {},
   "source": [
    "le maximun donne la meme valeur que  les valeurs exaxtes"
   ]
  },
  {
   "cell_type": "markdown",
   "metadata": {},
   "source": [
    "Essayons avec la moyenne"
   ]
  },
  {
   "cell_type": "code",
   "execution_count": 204,
   "metadata": {
    "collapsed": true
   },
   "outputs": [],
   "source": [
    "yPredictedMean=predictedVal.drop(labels=\"RealValue\",axis=1).apply(np.mean,axis=1)"
   ]
  },
  {
   "cell_type": "code",
   "execution_count": 205,
   "metadata": {},
   "outputs": [
    {
     "data": {
      "text/plain": [
       "0.0658029616728011"
      ]
     },
     "execution_count": 205,
     "metadata": {},
     "output_type": "execute_result"
    }
   ],
   "source": [
    "np.sqrt(mean_squared_error(predictedVal.RealValue,yPredictedMean ))"
   ]
  },
  {
   "cell_type": "markdown",
   "metadata": {},
   "source": [
    "Nous retiendrons uniquement le resulat avec la regression car il perform mieux"
   ]
  },
  {
   "cell_type": "markdown",
   "metadata": {},
   "source": [
    "Essayons pour finir sur le test set"
   ]
  },
  {
   "cell_type": "code",
   "execution_count": 209,
   "metadata": {},
   "outputs": [
    {
     "name": "stdout",
     "output_type": "stream",
     "text": [
      "[LibSVM]"
     ]
    }
   ],
   "source": [
    "predictionsTest={}\n",
    "for clf in (rbfSVM_reg, ridge_reg, linSVM_reg):\n",
    "    clf.fit(X_Test, Y_Test)\n",
    "    predictionsTest[clf.__class__.__name__]= clf.predict(X_Test)"
   ]
  },
  {
   "cell_type": "code",
   "execution_count": 211,
   "metadata": {
    "collapsed": true
   },
   "outputs": [],
   "source": [
    "predictedValTest=pd.DataFrame.from_dict(predictions,dtype=np.float)"
   ]
  },
  {
   "cell_type": "code",
   "execution_count": 212,
   "metadata": {
    "collapsed": true,
    "scrolled": true
   },
   "outputs": [],
   "source": [
    "predictedValTest.set_index(Y_Test.index,inplace=True)"
   ]
  },
  {
   "cell_type": "code",
   "execution_count": 216,
   "metadata": {
    "collapsed": true
   },
   "outputs": [],
   "source": [
    "predictedValTest.loc[:,'RealValue']=Y_Test"
   ]
  },
  {
   "cell_type": "code",
   "execution_count": 217,
   "metadata": {
    "collapsed": true
   },
   "outputs": [],
   "source": [
    "Y_PredictTest=stacker.predict(predictedValTest.drop(labels=\"RealValue\",axis=1))"
   ]
  },
  {
   "cell_type": "code",
   "execution_count": 218,
   "metadata": {
    "scrolled": true
   },
   "outputs": [
    {
     "data": {
      "text/plain": [
       "0.052091602488511607"
      ]
     },
     "execution_count": 218,
     "metadata": {},
     "output_type": "execute_result"
    }
   ],
   "source": [
    "np.sqrt(mean_squared_error(predictedValTest.RealValue, Y_PredictTest))"
   ]
  },
  {
   "cell_type": "markdown",
   "metadata": {},
   "source": [
    "Nous venons d'obtenir une erreur dans l'ordre de 5% qui est bon et parfait mais à prendre avec reserve car nous n'avons pas effectuer une validation croisée'"
   ]
  },
  {
   "cell_type": "markdown",
   "metadata": {},
   "source": [
    "#### Réduction des Dimensions"
   ]
  },
  {
   "cell_type": "code",
   "execution_count": 89,
   "metadata": {
    "scrolled": false
   },
   "outputs": [
    {
     "data": {
      "text/plain": [
       "348"
      ]
     },
     "execution_count": 89,
     "metadata": {},
     "output_type": "execute_result"
    }
   ],
   "source": [
    "d"
   ]
  },
  {
   "cell_type": "code",
   "execution_count": 85,
   "metadata": {
    "scrolled": true
   },
   "outputs": [
    {
     "data": {
      "text/plain": [
       "0.99999999999999967"
      ]
     },
     "execution_count": 85,
     "metadata": {},
     "output_type": "execute_result"
    }
   ],
   "source": [
    "np.sum(pca.explained_variance_ratio_)"
   ]
  },
  {
   "cell_type": "code",
   "execution_count": 137,
   "metadata": {
    "scrolled": false
   },
   "outputs": [
    {
     "ename": "ValueError",
     "evalue": "continuous is not supported",
     "output_type": "error",
     "traceback": [
      "\u001b[0;31m---------------------------------------------------------------------------\u001b[0m",
      "\u001b[0;31mValueError\u001b[0m                                Traceback (most recent call last)",
      "\u001b[0;32m<ipython-input-137-5d05fb066338>\u001b[0m in \u001b[0;36m<module>\u001b[0;34m()\u001b[0m\n\u001b[0;32m----> 1\u001b[0;31m \u001b[0mcross_val_score\u001b[0m\u001b[0;34m(\u001b[0m\u001b[0mridge_reg\u001b[0m\u001b[0;34m,\u001b[0m \u001b[0mX_Train\u001b[0m\u001b[0;34m,\u001b[0m \u001b[0mY_Train\u001b[0m\u001b[0;34m,\u001b[0m \u001b[0mcv\u001b[0m\u001b[0;34m=\u001b[0m\u001b[0;36m5\u001b[0m\u001b[0;34m,\u001b[0m \u001b[0mscoring\u001b[0m\u001b[0;34m=\u001b[0m\u001b[0;34m\"accuracy\"\u001b[0m\u001b[0;34m)\u001b[0m\u001b[0;34m\u001b[0m\u001b[0m\n\u001b[0m",
      "\u001b[0;32m/Users/espyMur/Desktop/Memory-WorkingDir/memoryVenv/lib/python2.7/site-packages/sklearn/model_selection/_validation.pyc\u001b[0m in \u001b[0;36mcross_val_score\u001b[0;34m(estimator, X, y, groups, scoring, cv, n_jobs, verbose, fit_params, pre_dispatch)\u001b[0m\n\u001b[1;32m    138\u001b[0m                                               \u001b[0mtrain\u001b[0m\u001b[0;34m,\u001b[0m \u001b[0mtest\u001b[0m\u001b[0;34m,\u001b[0m \u001b[0mverbose\u001b[0m\u001b[0;34m,\u001b[0m \u001b[0mNone\u001b[0m\u001b[0;34m,\u001b[0m\u001b[0;34m\u001b[0m\u001b[0m\n\u001b[1;32m    139\u001b[0m                                               fit_params)\n\u001b[0;32m--> 140\u001b[0;31m                       for train, test in cv_iter)\n\u001b[0m\u001b[1;32m    141\u001b[0m     \u001b[0;32mreturn\u001b[0m \u001b[0mnp\u001b[0m\u001b[0;34m.\u001b[0m\u001b[0marray\u001b[0m\u001b[0;34m(\u001b[0m\u001b[0mscores\u001b[0m\u001b[0;34m)\u001b[0m\u001b[0;34m[\u001b[0m\u001b[0;34m:\u001b[0m\u001b[0;34m,\u001b[0m \u001b[0;36m0\u001b[0m\u001b[0;34m]\u001b[0m\u001b[0;34m\u001b[0m\u001b[0m\n\u001b[1;32m    142\u001b[0m \u001b[0;34m\u001b[0m\u001b[0m\n",
      "\u001b[0;32m/Users/espyMur/Desktop/Memory-WorkingDir/memoryVenv/lib/python2.7/site-packages/sklearn/externals/joblib/parallel.pyc\u001b[0m in \u001b[0;36m__call__\u001b[0;34m(self, iterable)\u001b[0m\n\u001b[1;32m    756\u001b[0m             \u001b[0;31m# was dispatched. In particular this covers the edge\u001b[0m\u001b[0;34m\u001b[0m\u001b[0;34m\u001b[0m\u001b[0m\n\u001b[1;32m    757\u001b[0m             \u001b[0;31m# case of Parallel used with an exhausted iterator.\u001b[0m\u001b[0;34m\u001b[0m\u001b[0;34m\u001b[0m\u001b[0m\n\u001b[0;32m--> 758\u001b[0;31m             \u001b[0;32mwhile\u001b[0m \u001b[0mself\u001b[0m\u001b[0;34m.\u001b[0m\u001b[0mdispatch_one_batch\u001b[0m\u001b[0;34m(\u001b[0m\u001b[0miterator\u001b[0m\u001b[0;34m)\u001b[0m\u001b[0;34m:\u001b[0m\u001b[0;34m\u001b[0m\u001b[0m\n\u001b[0m\u001b[1;32m    759\u001b[0m                 \u001b[0mself\u001b[0m\u001b[0;34m.\u001b[0m\u001b[0m_iterating\u001b[0m \u001b[0;34m=\u001b[0m \u001b[0mTrue\u001b[0m\u001b[0;34m\u001b[0m\u001b[0m\n\u001b[1;32m    760\u001b[0m             \u001b[0;32melse\u001b[0m\u001b[0;34m:\u001b[0m\u001b[0;34m\u001b[0m\u001b[0m\n",
      "\u001b[0;32m/Users/espyMur/Desktop/Memory-WorkingDir/memoryVenv/lib/python2.7/site-packages/sklearn/externals/joblib/parallel.pyc\u001b[0m in \u001b[0;36mdispatch_one_batch\u001b[0;34m(self, iterator)\u001b[0m\n\u001b[1;32m    606\u001b[0m                 \u001b[0;32mreturn\u001b[0m \u001b[0mFalse\u001b[0m\u001b[0;34m\u001b[0m\u001b[0m\n\u001b[1;32m    607\u001b[0m             \u001b[0;32melse\u001b[0m\u001b[0;34m:\u001b[0m\u001b[0;34m\u001b[0m\u001b[0m\n\u001b[0;32m--> 608\u001b[0;31m                 \u001b[0mself\u001b[0m\u001b[0;34m.\u001b[0m\u001b[0m_dispatch\u001b[0m\u001b[0;34m(\u001b[0m\u001b[0mtasks\u001b[0m\u001b[0;34m)\u001b[0m\u001b[0;34m\u001b[0m\u001b[0m\n\u001b[0m\u001b[1;32m    609\u001b[0m                 \u001b[0;32mreturn\u001b[0m \u001b[0mTrue\u001b[0m\u001b[0;34m\u001b[0m\u001b[0m\n\u001b[1;32m    610\u001b[0m \u001b[0;34m\u001b[0m\u001b[0m\n",
      "\u001b[0;32m/Users/espyMur/Desktop/Memory-WorkingDir/memoryVenv/lib/python2.7/site-packages/sklearn/externals/joblib/parallel.pyc\u001b[0m in \u001b[0;36m_dispatch\u001b[0;34m(self, batch)\u001b[0m\n\u001b[1;32m    569\u001b[0m         \u001b[0mdispatch_timestamp\u001b[0m \u001b[0;34m=\u001b[0m \u001b[0mtime\u001b[0m\u001b[0;34m.\u001b[0m\u001b[0mtime\u001b[0m\u001b[0;34m(\u001b[0m\u001b[0;34m)\u001b[0m\u001b[0;34m\u001b[0m\u001b[0m\n\u001b[1;32m    570\u001b[0m         \u001b[0mcb\u001b[0m \u001b[0;34m=\u001b[0m \u001b[0mBatchCompletionCallBack\u001b[0m\u001b[0;34m(\u001b[0m\u001b[0mdispatch_timestamp\u001b[0m\u001b[0;34m,\u001b[0m \u001b[0mlen\u001b[0m\u001b[0;34m(\u001b[0m\u001b[0mbatch\u001b[0m\u001b[0;34m)\u001b[0m\u001b[0;34m,\u001b[0m \u001b[0mself\u001b[0m\u001b[0;34m)\u001b[0m\u001b[0;34m\u001b[0m\u001b[0m\n\u001b[0;32m--> 571\u001b[0;31m         \u001b[0mjob\u001b[0m \u001b[0;34m=\u001b[0m \u001b[0mself\u001b[0m\u001b[0;34m.\u001b[0m\u001b[0m_backend\u001b[0m\u001b[0;34m.\u001b[0m\u001b[0mapply_async\u001b[0m\u001b[0;34m(\u001b[0m\u001b[0mbatch\u001b[0m\u001b[0;34m,\u001b[0m \u001b[0mcallback\u001b[0m\u001b[0;34m=\u001b[0m\u001b[0mcb\u001b[0m\u001b[0;34m)\u001b[0m\u001b[0;34m\u001b[0m\u001b[0m\n\u001b[0m\u001b[1;32m    572\u001b[0m         \u001b[0mself\u001b[0m\u001b[0;34m.\u001b[0m\u001b[0m_jobs\u001b[0m\u001b[0;34m.\u001b[0m\u001b[0mappend\u001b[0m\u001b[0;34m(\u001b[0m\u001b[0mjob\u001b[0m\u001b[0;34m)\u001b[0m\u001b[0;34m\u001b[0m\u001b[0m\n\u001b[1;32m    573\u001b[0m \u001b[0;34m\u001b[0m\u001b[0m\n",
      "\u001b[0;32m/Users/espyMur/Desktop/Memory-WorkingDir/memoryVenv/lib/python2.7/site-packages/sklearn/externals/joblib/_parallel_backends.pyc\u001b[0m in \u001b[0;36mapply_async\u001b[0;34m(self, func, callback)\u001b[0m\n\u001b[1;32m    107\u001b[0m     \u001b[0;32mdef\u001b[0m \u001b[0mapply_async\u001b[0m\u001b[0;34m(\u001b[0m\u001b[0mself\u001b[0m\u001b[0;34m,\u001b[0m \u001b[0mfunc\u001b[0m\u001b[0;34m,\u001b[0m \u001b[0mcallback\u001b[0m\u001b[0;34m=\u001b[0m\u001b[0mNone\u001b[0m\u001b[0;34m)\u001b[0m\u001b[0;34m:\u001b[0m\u001b[0;34m\u001b[0m\u001b[0m\n\u001b[1;32m    108\u001b[0m         \u001b[0;34m\"\"\"Schedule a func to be run\"\"\"\u001b[0m\u001b[0;34m\u001b[0m\u001b[0m\n\u001b[0;32m--> 109\u001b[0;31m         \u001b[0mresult\u001b[0m \u001b[0;34m=\u001b[0m \u001b[0mImmediateResult\u001b[0m\u001b[0;34m(\u001b[0m\u001b[0mfunc\u001b[0m\u001b[0;34m)\u001b[0m\u001b[0;34m\u001b[0m\u001b[0m\n\u001b[0m\u001b[1;32m    110\u001b[0m         \u001b[0;32mif\u001b[0m \u001b[0mcallback\u001b[0m\u001b[0;34m:\u001b[0m\u001b[0;34m\u001b[0m\u001b[0m\n\u001b[1;32m    111\u001b[0m             \u001b[0mcallback\u001b[0m\u001b[0;34m(\u001b[0m\u001b[0mresult\u001b[0m\u001b[0;34m)\u001b[0m\u001b[0;34m\u001b[0m\u001b[0m\n",
      "\u001b[0;32m/Users/espyMur/Desktop/Memory-WorkingDir/memoryVenv/lib/python2.7/site-packages/sklearn/externals/joblib/_parallel_backends.pyc\u001b[0m in \u001b[0;36m__init__\u001b[0;34m(self, batch)\u001b[0m\n\u001b[1;32m    324\u001b[0m         \u001b[0;31m# Don't delay the application, to avoid keeping the input\u001b[0m\u001b[0;34m\u001b[0m\u001b[0;34m\u001b[0m\u001b[0m\n\u001b[1;32m    325\u001b[0m         \u001b[0;31m# arguments in memory\u001b[0m\u001b[0;34m\u001b[0m\u001b[0;34m\u001b[0m\u001b[0m\n\u001b[0;32m--> 326\u001b[0;31m         \u001b[0mself\u001b[0m\u001b[0;34m.\u001b[0m\u001b[0mresults\u001b[0m \u001b[0;34m=\u001b[0m \u001b[0mbatch\u001b[0m\u001b[0;34m(\u001b[0m\u001b[0;34m)\u001b[0m\u001b[0;34m\u001b[0m\u001b[0m\n\u001b[0m\u001b[1;32m    327\u001b[0m \u001b[0;34m\u001b[0m\u001b[0m\n\u001b[1;32m    328\u001b[0m     \u001b[0;32mdef\u001b[0m \u001b[0mget\u001b[0m\u001b[0;34m(\u001b[0m\u001b[0mself\u001b[0m\u001b[0;34m)\u001b[0m\u001b[0;34m:\u001b[0m\u001b[0;34m\u001b[0m\u001b[0m\n",
      "\u001b[0;32m/Users/espyMur/Desktop/Memory-WorkingDir/memoryVenv/lib/python2.7/site-packages/sklearn/externals/joblib/parallel.pyc\u001b[0m in \u001b[0;36m__call__\u001b[0;34m(self)\u001b[0m\n\u001b[1;32m    129\u001b[0m \u001b[0;34m\u001b[0m\u001b[0m\n\u001b[1;32m    130\u001b[0m     \u001b[0;32mdef\u001b[0m \u001b[0m__call__\u001b[0m\u001b[0;34m(\u001b[0m\u001b[0mself\u001b[0m\u001b[0;34m)\u001b[0m\u001b[0;34m:\u001b[0m\u001b[0;34m\u001b[0m\u001b[0m\n\u001b[0;32m--> 131\u001b[0;31m         \u001b[0;32mreturn\u001b[0m \u001b[0;34m[\u001b[0m\u001b[0mfunc\u001b[0m\u001b[0;34m(\u001b[0m\u001b[0;34m*\u001b[0m\u001b[0margs\u001b[0m\u001b[0;34m,\u001b[0m \u001b[0;34m**\u001b[0m\u001b[0mkwargs\u001b[0m\u001b[0;34m)\u001b[0m \u001b[0;32mfor\u001b[0m \u001b[0mfunc\u001b[0m\u001b[0;34m,\u001b[0m \u001b[0margs\u001b[0m\u001b[0;34m,\u001b[0m \u001b[0mkwargs\u001b[0m \u001b[0;32min\u001b[0m \u001b[0mself\u001b[0m\u001b[0;34m.\u001b[0m\u001b[0mitems\u001b[0m\u001b[0;34m]\u001b[0m\u001b[0;34m\u001b[0m\u001b[0m\n\u001b[0m\u001b[1;32m    132\u001b[0m \u001b[0;34m\u001b[0m\u001b[0m\n\u001b[1;32m    133\u001b[0m     \u001b[0;32mdef\u001b[0m \u001b[0m__len__\u001b[0m\u001b[0;34m(\u001b[0m\u001b[0mself\u001b[0m\u001b[0;34m)\u001b[0m\u001b[0;34m:\u001b[0m\u001b[0;34m\u001b[0m\u001b[0m\n",
      "\u001b[0;32m/Users/espyMur/Desktop/Memory-WorkingDir/memoryVenv/lib/python2.7/site-packages/sklearn/model_selection/_validation.pyc\u001b[0m in \u001b[0;36m_fit_and_score\u001b[0;34m(estimator, X, y, scorer, train, test, verbose, parameters, fit_params, return_train_score, return_parameters, return_n_test_samples, return_times, error_score)\u001b[0m\n\u001b[1;32m    258\u001b[0m     \u001b[0;32melse\u001b[0m\u001b[0;34m:\u001b[0m\u001b[0;34m\u001b[0m\u001b[0m\n\u001b[1;32m    259\u001b[0m         \u001b[0mfit_time\u001b[0m \u001b[0;34m=\u001b[0m \u001b[0mtime\u001b[0m\u001b[0;34m.\u001b[0m\u001b[0mtime\u001b[0m\u001b[0;34m(\u001b[0m\u001b[0;34m)\u001b[0m \u001b[0;34m-\u001b[0m \u001b[0mstart_time\u001b[0m\u001b[0;34m\u001b[0m\u001b[0m\n\u001b[0;32m--> 260\u001b[0;31m         \u001b[0mtest_score\u001b[0m \u001b[0;34m=\u001b[0m \u001b[0m_score\u001b[0m\u001b[0;34m(\u001b[0m\u001b[0mestimator\u001b[0m\u001b[0;34m,\u001b[0m \u001b[0mX_test\u001b[0m\u001b[0;34m,\u001b[0m \u001b[0my_test\u001b[0m\u001b[0;34m,\u001b[0m \u001b[0mscorer\u001b[0m\u001b[0;34m)\u001b[0m\u001b[0;34m\u001b[0m\u001b[0m\n\u001b[0m\u001b[1;32m    261\u001b[0m         \u001b[0mscore_time\u001b[0m \u001b[0;34m=\u001b[0m \u001b[0mtime\u001b[0m\u001b[0;34m.\u001b[0m\u001b[0mtime\u001b[0m\u001b[0;34m(\u001b[0m\u001b[0;34m)\u001b[0m \u001b[0;34m-\u001b[0m \u001b[0mstart_time\u001b[0m \u001b[0;34m-\u001b[0m \u001b[0mfit_time\u001b[0m\u001b[0;34m\u001b[0m\u001b[0m\n\u001b[1;32m    262\u001b[0m         \u001b[0;32mif\u001b[0m \u001b[0mreturn_train_score\u001b[0m\u001b[0;34m:\u001b[0m\u001b[0;34m\u001b[0m\u001b[0m\n",
      "\u001b[0;32m/Users/espyMur/Desktop/Memory-WorkingDir/memoryVenv/lib/python2.7/site-packages/sklearn/model_selection/_validation.pyc\u001b[0m in \u001b[0;36m_score\u001b[0;34m(estimator, X_test, y_test, scorer)\u001b[0m\n\u001b[1;32m    286\u001b[0m         \u001b[0mscore\u001b[0m \u001b[0;34m=\u001b[0m \u001b[0mscorer\u001b[0m\u001b[0;34m(\u001b[0m\u001b[0mestimator\u001b[0m\u001b[0;34m,\u001b[0m \u001b[0mX_test\u001b[0m\u001b[0;34m)\u001b[0m\u001b[0;34m\u001b[0m\u001b[0m\n\u001b[1;32m    287\u001b[0m     \u001b[0;32melse\u001b[0m\u001b[0;34m:\u001b[0m\u001b[0;34m\u001b[0m\u001b[0m\n\u001b[0;32m--> 288\u001b[0;31m         \u001b[0mscore\u001b[0m \u001b[0;34m=\u001b[0m \u001b[0mscorer\u001b[0m\u001b[0;34m(\u001b[0m\u001b[0mestimator\u001b[0m\u001b[0;34m,\u001b[0m \u001b[0mX_test\u001b[0m\u001b[0;34m,\u001b[0m \u001b[0my_test\u001b[0m\u001b[0;34m)\u001b[0m\u001b[0;34m\u001b[0m\u001b[0m\n\u001b[0m\u001b[1;32m    289\u001b[0m     \u001b[0;32mif\u001b[0m \u001b[0mhasattr\u001b[0m\u001b[0;34m(\u001b[0m\u001b[0mscore\u001b[0m\u001b[0;34m,\u001b[0m \u001b[0;34m'item'\u001b[0m\u001b[0;34m)\u001b[0m\u001b[0;34m:\u001b[0m\u001b[0;34m\u001b[0m\u001b[0m\n\u001b[1;32m    290\u001b[0m         \u001b[0;32mtry\u001b[0m\u001b[0;34m:\u001b[0m\u001b[0;34m\u001b[0m\u001b[0m\n",
      "\u001b[0;32m/Users/espyMur/Desktop/Memory-WorkingDir/memoryVenv/lib/python2.7/site-packages/sklearn/metrics/scorer.pyc\u001b[0m in \u001b[0;36m__call__\u001b[0;34m(self, estimator, X, y_true, sample_weight)\u001b[0m\n\u001b[1;32m     96\u001b[0m         \u001b[0;32melse\u001b[0m\u001b[0;34m:\u001b[0m\u001b[0;34m\u001b[0m\u001b[0m\n\u001b[1;32m     97\u001b[0m             return self._sign * self._score_func(y_true, y_pred,\n\u001b[0;32m---> 98\u001b[0;31m                                                  **self._kwargs)\n\u001b[0m\u001b[1;32m     99\u001b[0m \u001b[0;34m\u001b[0m\u001b[0m\n\u001b[1;32m    100\u001b[0m \u001b[0;34m\u001b[0m\u001b[0m\n",
      "\u001b[0;32m/Users/espyMur/Desktop/Memory-WorkingDir/memoryVenv/lib/python2.7/site-packages/sklearn/metrics/classification.pyc\u001b[0m in \u001b[0;36maccuracy_score\u001b[0;34m(y_true, y_pred, normalize, sample_weight)\u001b[0m\n\u001b[1;32m    170\u001b[0m \u001b[0;34m\u001b[0m\u001b[0m\n\u001b[1;32m    171\u001b[0m     \u001b[0;31m# Compute accuracy for each possible representation\u001b[0m\u001b[0;34m\u001b[0m\u001b[0;34m\u001b[0m\u001b[0m\n\u001b[0;32m--> 172\u001b[0;31m     \u001b[0my_type\u001b[0m\u001b[0;34m,\u001b[0m \u001b[0my_true\u001b[0m\u001b[0;34m,\u001b[0m \u001b[0my_pred\u001b[0m \u001b[0;34m=\u001b[0m \u001b[0m_check_targets\u001b[0m\u001b[0;34m(\u001b[0m\u001b[0my_true\u001b[0m\u001b[0;34m,\u001b[0m \u001b[0my_pred\u001b[0m\u001b[0;34m)\u001b[0m\u001b[0;34m\u001b[0m\u001b[0m\n\u001b[0m\u001b[1;32m    173\u001b[0m     \u001b[0;32mif\u001b[0m \u001b[0my_type\u001b[0m\u001b[0;34m.\u001b[0m\u001b[0mstartswith\u001b[0m\u001b[0;34m(\u001b[0m\u001b[0;34m'multilabel'\u001b[0m\u001b[0;34m)\u001b[0m\u001b[0;34m:\u001b[0m\u001b[0;34m\u001b[0m\u001b[0m\n\u001b[1;32m    174\u001b[0m         \u001b[0mdiffering_labels\u001b[0m \u001b[0;34m=\u001b[0m \u001b[0mcount_nonzero\u001b[0m\u001b[0;34m(\u001b[0m\u001b[0my_true\u001b[0m \u001b[0;34m-\u001b[0m \u001b[0my_pred\u001b[0m\u001b[0;34m,\u001b[0m \u001b[0maxis\u001b[0m\u001b[0;34m=\u001b[0m\u001b[0;36m1\u001b[0m\u001b[0;34m)\u001b[0m\u001b[0;34m\u001b[0m\u001b[0m\n",
      "\u001b[0;32m/Users/espyMur/Desktop/Memory-WorkingDir/memoryVenv/lib/python2.7/site-packages/sklearn/metrics/classification.pyc\u001b[0m in \u001b[0;36m_check_targets\u001b[0;34m(y_true, y_pred)\u001b[0m\n\u001b[1;32m     87\u001b[0m     \u001b[0;31m# No metrics support \"multiclass-multioutput\" format\u001b[0m\u001b[0;34m\u001b[0m\u001b[0;34m\u001b[0m\u001b[0m\n\u001b[1;32m     88\u001b[0m     \u001b[0;32mif\u001b[0m \u001b[0;34m(\u001b[0m\u001b[0my_type\u001b[0m \u001b[0;32mnot\u001b[0m \u001b[0;32min\u001b[0m \u001b[0;34m[\u001b[0m\u001b[0;34m\"binary\"\u001b[0m\u001b[0;34m,\u001b[0m \u001b[0;34m\"multiclass\"\u001b[0m\u001b[0;34m,\u001b[0m \u001b[0;34m\"multilabel-indicator\"\u001b[0m\u001b[0;34m]\u001b[0m\u001b[0;34m)\u001b[0m\u001b[0;34m:\u001b[0m\u001b[0;34m\u001b[0m\u001b[0m\n\u001b[0;32m---> 89\u001b[0;31m         \u001b[0;32mraise\u001b[0m \u001b[0mValueError\u001b[0m\u001b[0;34m(\u001b[0m\u001b[0;34m\"{0} is not supported\"\u001b[0m\u001b[0;34m.\u001b[0m\u001b[0mformat\u001b[0m\u001b[0;34m(\u001b[0m\u001b[0my_type\u001b[0m\u001b[0;34m)\u001b[0m\u001b[0;34m)\u001b[0m\u001b[0;34m\u001b[0m\u001b[0m\n\u001b[0m\u001b[1;32m     90\u001b[0m \u001b[0;34m\u001b[0m\u001b[0m\n\u001b[1;32m     91\u001b[0m     \u001b[0;32mif\u001b[0m \u001b[0my_type\u001b[0m \u001b[0;32min\u001b[0m \u001b[0;34m[\u001b[0m\u001b[0;34m\"binary\"\u001b[0m\u001b[0;34m,\u001b[0m \u001b[0;34m\"multiclass\"\u001b[0m\u001b[0;34m]\u001b[0m\u001b[0;34m:\u001b[0m\u001b[0;34m\u001b[0m\u001b[0m\n",
      "\u001b[0;31mValueError\u001b[0m: continuous is not supported"
     ]
    }
   ],
   "source": []
  },
  {
   "cell_type": "code",
   "execution_count": 87,
   "metadata": {
    "scrolled": false
   },
   "outputs": [
    {
     "data": {
      "image/png": "[encoded data removed]",
      "text/plain": [
       "<matplotlib.figure.Figure at 0x1140d59d0>"
      ]
     },
     "metadata": {},
     "output_type": "display_data"
    }
   ],
   "source": [
    "plt.plot(cumsum)\n",
    "plt.show()"
   ]
  },
  {
   "cell_type": "code",
   "execution_count": 8,
   "metadata": {
    "collapsed": true
   },
   "outputs": [],
   "source": [
    "import sys\n",
    "reload(sys)\n",
    "sys.setdefaultencoding('utf-8')"
   ]
  },
  {
   "cell_type": "code",
   "execution_count": 9,
   "metadata": {},
   "outputs": [
    {
     "data": {
      "text/plain": [
       "(4715, 647)"
      ]
     },
     "execution_count": 9,
     "metadata": {},
     "output_type": "execute_result"
    }
   ],
   "source": [
    "X.shape"
   ]
  },
  {
   "cell_type": "code",
   "execution_count": null,
   "metadata": {
    "collapsed": true
   },
   "outputs": [],
   "source": [
    "a"
   ]
  }
 ],
 "metadata": {
  "kernelspec": {
   "display_name": "Python 2",
   "language": "python",
   "name": "python2"
  },
  "language_info": {
   "codemirror_mode": {
    "name": "ipython",
    "version": 2
   },
   "file_extension": ".py",
   "mimetype": "text/x-python",
   "name": "python",
   "nbconvert_exporter": "python",
   "pygments_lexer": "ipython2",
   "version": "2.7.13"
  }
 },
 "nbformat": 4,
 "nbformat_minor": 2
}
