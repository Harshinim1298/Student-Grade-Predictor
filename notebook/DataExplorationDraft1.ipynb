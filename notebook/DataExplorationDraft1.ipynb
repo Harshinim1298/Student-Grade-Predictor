{
 "cells": [
  {
   "cell_type": "markdown",
   "metadata": {},
   "source": [
    "# Presentation et Exploitation  des Données "
   ]
  },
  {
   "cell_type": "markdown",
   "metadata": {},
   "source": [
    "Dans ce chapitre nous allons exploités les données mise en notre disposition par les autorités de l'ULPGL.\n",
    "Celles-ci sont issues du système d'information UAT (Univeristy Administrative Tool) et pour des raisons de confidentialité nous n'avons pas eu accès a toute la base des données nous avons juste fais une requete des donnes dont nous avons besoin pour notre étude et l'administrateur a executé une requete vers sa base des données et nous a fourni les données dont nous avions besoin pour l'etude sous forme d'un fichier csv (commat separted values).\n",
    "Comme souligné dans le chapitre premier ce chapitre se basera sur la methodologie CRISP-DM elle sera subdivisé en differentes sections:\n",
    "- L'exploration et la preparation des donnéés\n",
    "- selection des algorithmes et leur execution \n",
    "- l'amelioratrion et optimisation des algorithmes\n",
    "source : Sklean Handbook Appendix 2"
   ]
  },
  {
   "cell_type": "markdown",
   "metadata": {},
   "source": [
    "## Exploration et la preparation des donness données \n",
    "\n"
   ]
  },
  {
   "cell_type": "markdown",
   "metadata": {},
   "source": [
    "source : https://www.analyticsvidhya.com/blog/2016/01/guide-data-exploration/\n",
    "         SUNIL RAY , JANUARY 10, 2016"
   ]
  },
  {
   "cell_type": "markdown",
   "metadata": {},
   "source": [
    "les specialites affirment que 70-80 % du temps consacré à un projet dataMining est alloué à la phase de l'exploration et la preparation des données , il n' ya pas des racourcis pour cette phase et si on l'a pas bien effectué nous risquons de nous retouver entrain d'ameliorer l'exactitude de notre algorithme mais en vain nous serons toujours obligées de retourner à cette phase et toutes ces techniques de l'exploration des données pourrons nous venir en aide .\n"
   ]
  },
  {
   "cell_type": "markdown",
   "metadata": {},
   "source": [
    "1. Les Etapes de la phase d'exploration ét la preparation des donnes\n",
    "Certaines des ces étapes sont mentionées sur la figure suivante ;\n",
    "source: http://www.saedsayad.com/data_mining_map.htm\n",
    "\n",
    "En bref l'exploration des données consiste à se plonger dans le passée pour prédire l'avenir .Souvenenons nous que la qualité de notre entré determine la qualité de notre sortie, ces phases  nous permettent  d'ameliorer la qualité de notre entré en vue d'avoir une bonne sortie.\n",
    "Voici les étapes de cette phases:\n",
    "\n",
    "- Identification des variables\n",
    "- Statistique Descriptive\n",
    "- Analyse Bi-varié\n",
    "- Traitement des valeur maquantes \n",
    "- Traitement des deviations ou outliers \n",
    "- Transformation des variables\n",
    "- creation des nouvelles variables\n",
    "\n",
    "Comme nous l'avons soulignées dans le chapitre 1 ce processus est un processus iteratif et incremetale nous executerons cette phase 2 a 5 fois ou plus en vue d'avoir un bon modele"
   ]
  },
  {
   "cell_type": "markdown",
   "metadata": {
    "collapsed": true
   },
   "source": [
    "### Identification des Données et des Variables"
   ]
  },
  {
   "cell_type": "markdown",
   "metadata": {},
   "source": [
    "Comme soulignées dans la phase d'introduction les données mise à notre disposition sont sous format csv et nous alons utilisé la librarie pandas de python pour faire l'analyse , nous utiliserons aussi d'autres libraies qui nous permetrons de faire les statistiques ainsi ques les visualisations :\n",
    "\n",
    "voici le code pour charger le librairies."
   ]
  },
  {
   "cell_type": "code",
   "execution_count": 1,
   "metadata": {
    "collapsed": true
   },
   "outputs": [],
   "source": [
    "import pandas as pd\n",
    "import numpy as np\n",
    "import matplotlib.pyplot as plt\n",
    "import seaborn as sns #for beatiful visualizations\n",
    "%matplotlib inline \n",
    "import scipy.stats as scs #for statistics\n",
    "import operator\n",
    "from scipy.stats import chi2_contingency\n",
    "import matplotlib.ticker as ticker\n",
    "pd.set_option('display.notebook_repr_html', True)\n",
    "def _repr_latex_(self):\n",
    "    return \"\\centering{%s}\" % self.to_latex()\n",
    "\n",
    "pd.DataFrame._repr_latex_ = _repr_latex_"
   ]
  },
  {
   "cell_type": "code",
   "execution_count": 2,
   "metadata": {
    "collapsed": true
   },
   "outputs": [],
   "source": [
    "dataset=pd.read_csv(\"DatasetV2.csv\")"
   ]
  },
  {
   "cell_type": "markdown",
   "metadata": {},
   "source": [
    "Nous venons de charger les donnes et nous pouvons remarquer à quoi ils ressemblent"
   ]
  },
  {
   "cell_type": "code",
   "execution_count": 52,
   "metadata": {},
   "outputs": [
    {
     "data": {
      "text/plain": [
       "(9606, 18)"
      ]
     },
     "execution_count": 52,
     "metadata": {},
     "output_type": "execute_result"
    }
   ],
   "source": [
    "dataset.shape"
   ]
  },
  {
   "cell_type": "markdown",
   "metadata": {},
   "source": [
    "Nous remarquons que les données sont stocké dans un e structure de type matricielle appelé dataframe.\n",
    "source : https://pandas.pydata.org/pandas-docs/stable/dsintro.html#dataframe\n",
    "\n",
    "un DataFrame  selon la documentation officielle de pandas  est une structure des données bidementionnel avec des colonnes des données des differentes types . Il peut etre compareé à une feuille de calcul excel ou une table dans SQL"
   ]
  },
  {
   "cell_type": "markdown",
   "metadata": {},
   "source": [
    "la commande dataset.shape nous a permis de dire que notre emsemble d'apprentissage de  depart\n",
    "comprend 9606 lignes et 22 colones !\n",
    "Analysons de plus pret les colones "
   ]
  },
  {
   "cell_type": "code",
   "execution_count": 6,
   "metadata": {},
   "outputs": [
    {
     "data": {
      "text/plain": [
       "Index([u'IDENTIFICATION', u'BIRTHDAY', u'NAME', u'DIPLOMDATE', u'DIPLOMTYPE',\n",
       "       u'DIPLOMMENTION', u'DIPLOMPERCENTAGE', u'DIPLOMSECTION',\n",
       "       u'DIPLOMOPTION', u'DIPLOMPLACE', u'SCHOOL', u'SCHOOLPROVINCE',\n",
       "       u'SCHOOLCODE', u'SCHOOLSTATUS', u'ACADYEAR', u'PERC1', u'MENT1',\n",
       "       u'PERC2', u'MENT2', u'FAC', u'OPT', u'PROM'],\n",
       "      dtype='object')"
      ]
     },
     "execution_count": 6,
     "metadata": {},
     "output_type": "execute_result"
    }
   ],
   "source": [
    "dataset.columns"
   ]
  },
  {
   "cell_type": "markdown",
   "metadata": {},
   "source": [
    "chaque ligne comprend les information d'un étudiant pour une année Academique"
   ]
  },
  {
   "cell_type": "markdown",
   "metadata": {},
   "source": [
    "1 IDENTIFICATION : contient une identification unique et anonyme d'un étudiant  les noms et les matricules reeles des étudiants on éé cachées pour des raisons de confidentialites \n",
    "\n",
    "2 BIRTHDAY : contient la date de naissance de chaque étudiant\n",
    "\n",
    "3 NAME : contient le sexe de chaque étudiant\n",
    "\n",
    "4 DIPLOMDATE : L'anné d'optiention du diplome\n",
    "\n",
    "5 DIPLOMTYPE : le type de diplome\n",
    "\n",
    "6 DIPLOMMENTION : mention de diplome\n",
    "\n",
    "7 DIPLOMPERCENTAGE: le pourcentage du diplome\n",
    "\n",
    "8 DIPLOMSECTION: la section du diplome\n",
    "\n",
    "9 DIPLOMOPTION : l'option\n",
    "\n",
    "10 DIPLOMPLACE : l'endroit d'optention du diplome\n",
    "\n",
    "11 SCHOOL : l'ecole de provenance\n",
    "\n",
    "12 SCHOOLPROVINCE : la province de provenance\n",
    "\n",
    "13 SCHOOLCODE : code de l'ecole\n",
    "\n",
    "14 SCHOOLSTATUS : le status de l'ecole (privaté , publique , conventioneé ,..)\n",
    "\n",
    "15 ACADYEAR  : l'annéé academique '\n",
    "\n",
    "16 PERC1 : poucentage en premiere session\n",
    "\n",
    "17 MENT1 : mention en premier session\n",
    "\n",
    "18 PERC2 : pourcentage en seconde session\n",
    "\n",
    "19 MENT2 : mention en seconde session\n",
    "\n",
    "20 FAC : la faculté\n",
    "\n",
    "21 OPT : l'option\n",
    "\n",
    "22 PROM : la promotion"
   ]
  },
  {
   "cell_type": "markdown",
   "metadata": {},
   "source": [
    "Comme nous pouvons le constater les colonnes 1-14 regrogent les informations que chaque étudiant donné à son instcription , ils constituerons nos variables d'entres\n",
    "les restes seronts utilisées pour constituer notre variable de sortie"
   ]
  },
  {
   "cell_type": "markdown",
   "metadata": {},
   "source": [
    "Nous l'avons aussi signales que chaque ligne comprend les information d'un étudiant pour une année academique .\n",
    "Pour mener bien notre anyse nous alons grouper les information de chaque etudieant en une lignee "
   ]
  },
  {
   "cell_type": "code",
   "execution_count": 6,
   "metadata": {
    "collapsed": true
   },
   "outputs": [],
   "source": [
    "inputCol=dataset.columns[0:14]"
   ]
  },
  {
   "cell_type": "markdown",
   "metadata": {},
   "source": [
    "nos données seront groupé selons les variables d'entrees ensuites les donnés de sorties serot groupes selon une fonction d'aggregation predefinie "
   ]
  },
  {
   "cell_type": "markdown",
   "metadata": {},
   "source": [
    "Nous allons premierement faire une analyse univarié sur les données en entrees !"
   ]
  },
  {
   "cell_type": "markdown",
   "metadata": {},
   "source": [
    "Avant la phase de traitement des donnés regardons notre ensemble pour enlever les colonnes sans informations consoiderables."
   ]
  },
  {
   "cell_type": "markdown",
   "metadata": {},
   "source": [
    "Nous avons ecrit une function qui nous donnes un pourcentrage des valeurs maquantes pour chaque collones et de prime à bord nous allons supprimer certaines colonnes qu\n",
    "ne comportent pas des informations.\n"
   ]
  },
  {
   "cell_type": "code",
   "execution_count": 3,
   "metadata": {
    "collapsed": true
   },
   "outputs": [],
   "source": [
    "def percentageMissin(Dataset):\n",
    "    \"\"\"this function will return the percentage of missing values in a dataset \"\"\"\n",
    "    if isinstance(Dataset,pd.DataFrame):\n",
    "        adict={} #a dictionary conatin keys columns names and values percentage of missin value in the columns\n",
    "        for col in Dataset.columns:\n",
    "            adict[col]=(np.count_nonzero(Dataset[col].isnull())*100)/len(Dataset[col])\n",
    "        return pd.DataFrame(adict,index=['% of missing'],columns=adict.keys())\n",
    "    else:\n",
    "        raise TypeError(\"can only be used with panda dataframe\")"
   ]
  },
  {
   "cell_type": "code",
   "execution_count": 8,
   "metadata": {
    "collapsed": true
   },
   "outputs": [],
   "source": [
    "MissinValueTables=percentageMissin(dataset)"
   ]
  },
  {
   "cell_type": "code",
   "execution_count": 6,
   "metadata": {},
   "outputs": [
    {
     "data": {
      "text/plain": [
       "BIRTHDAY             0\n",
       "DIPLOMDATE          98\n",
       "DIPLOMPLACE         98\n",
       "SCHOOLSTATUS         0\n",
       "DIPLOMPERCENTAGE     0\n",
       "SCHOOLPROVINCE       0\n",
       "FAC                  0\n",
       "ACADYEAR             0\n",
       "DIPLOMMENTION       99\n",
       "SCHOOLCODE          70\n",
       "PERC1               55\n",
       "PERC2               36\n",
       "DIPLOMOPTION         0\n",
       "OPT                  0\n",
       "SCHOOL               5\n",
       "NAME                 0\n",
       "DIPLOMSECTION        0\n",
       "MENT1                0\n",
       "PROM                 0\n",
       "MENT2               24\n",
       "IDENTIFICATION       0\n",
       "DIPLOMTYPE           0\n",
       "Name: % of missing, dtype: int64"
      ]
     },
     "execution_count": 6,
     "metadata": {},
     "output_type": "execute_result"
    }
   ],
   "source": [
    "MissinValueTables.loc['% of missing']"
   ]
  },
  {
   "cell_type": "markdown",
   "metadata": {},
   "source": [
    "Avec cette table nous remarquons que 4 colones ne nous servirons à riens dans la suite car elles disposent de plus de 70 % des valeurs maquantes et nous devons les suprimées avant de continuer notre analyse "
   ]
  },
  {
   "cell_type": "code",
   "execution_count": 4,
   "metadata": {
    "collapsed": true
   },
   "outputs": [],
   "source": [
    "ColWIthoutInfo=['DIPLOMDATE','DIPLOMMENTION','DIPLOMPLACE','SCHOOLCODE']\n",
    "dataset.drop(labels=ColWIthoutInfo,axis=1,inplace=True)"
   ]
  },
  {
   "cell_type": "markdown",
   "metadata": {},
   "source": [
    "Nous pouvons remarquer que notre ensemble d'apprentissage change de dimenssion et (7216,22) à (7216,18)"
   ]
  },
  {
   "cell_type": "code",
   "execution_count": 5,
   "metadata": {},
   "outputs": [
    {
     "data": {
      "text/plain": [
       "(9606, 18)"
      ]
     },
     "execution_count": 5,
     "metadata": {},
     "output_type": "execute_result"
    }
   ],
   "source": [
    "dataset.shape"
   ]
  },
  {
   "cell_type": "code",
   "execution_count": 6,
   "metadata": {},
   "outputs": [
    {
     "data": {
      "text/plain": [
       "Index([u'IDENTIFICATION', u'BIRTHDAY', u'NAME', u'DIPLOMTYPE',\n",
       "       u'DIPLOMPERCENTAGE', u'DIPLOMSECTION', u'DIPLOMOPTION', u'SCHOOL',\n",
       "       u'SCHOOLPROVINCE', u'SCHOOLSTATUS', u'ACADYEAR', u'PERC1', u'MENT1',\n",
       "       u'PERC2', u'MENT2', u'FAC', u'OPT', u'PROM'],\n",
       "      dtype='object')"
      ]
     },
     "execution_count": 6,
     "metadata": {},
     "output_type": "execute_result"
    }
   ],
   "source": [
    "dataset.columns"
   ]
  },
  {
   "cell_type": "markdown",
   "metadata": {},
   "source": [
    "les colonnes en entrée deviennent les 10 premiers colonnes "
   ]
  },
  {
   "cell_type": "code",
   "execution_count": 7,
   "metadata": {
    "collapsed": true
   },
   "outputs": [],
   "source": [
    "inCol=list(dataset.columns[0:10])"
   ]
  },
  {
   "cell_type": "code",
   "execution_count": 8,
   "metadata": {
    "collapsed": true
   },
   "outputs": [],
   "source": [
    "outCol=list(dataset.columns[10:])"
   ]
  },
  {
   "cell_type": "markdown",
   "metadata": {},
   "source": [
    "Pour une premiere approche nous allons grouper notre ensemble en fonction des données en entré et ensuite  ecrire une functuion qui va groupper les donnes de sortie"
   ]
  },
  {
   "cell_type": "code",
   "execution_count": 35,
   "metadata": {},
   "outputs": [
    {
     "data": {
      "text/plain": [
       "(9606, 18)"
      ]
     },
     "execution_count": 35,
     "metadata": {},
     "output_type": "execute_result"
    }
   ],
   "source": [
    "dataset.shape"
   ]
  },
  {
   "cell_type": "markdown",
   "metadata": {},
   "source": [
    "voici la function qui va grouper les données de sortie"
   ]
  },
  {
   "cell_type": "code",
   "execution_count": 9,
   "metadata": {
    "scrolled": true
   },
   "outputs": [
    {
     "data": {
      "text/plain": [
       "ASSIMILE AUX AJOURNES                              4569\n",
       "AJOURNE                                            2351\n",
       "SATISFACTION                                       2037\n",
       "DISTINCTION                                         268\n",
       "ADMIS AU MEMOIRE                                    101\n",
       "ADMIS AU TFC                                         81\n",
       "ADMIS AU STAGE ET AU MEMOIRE                         74\n",
       "ADMIS AU STAGE ET AU TFC                             55\n",
       "ADMIS AU STAGE                                       45\n",
       "NON ADMISSIBLE DS LA MEME FILIERE                    17\n",
       "GRANDE DISTINCTION                                    7\n",
       "ASSIMILE AUX NON ADMISSIBLES DS LA MEME FILIERE       1\n",
       "Name: MENT1, dtype: int64"
      ]
     },
     "execution_count": 9,
     "metadata": {},
     "output_type": "execute_result"
    }
   ],
   "source": [
    "dataset.MENT1.value_counts()"
   ]
  },
  {
   "cell_type": "code",
   "execution_count": 10,
   "metadata": {
    "scrolled": true
   },
   "outputs": [
    {
     "name": "stderr",
     "output_type": "stream",
     "text": [
      "/Users/espyMur/Desktop/Memory-WorkingDir/memoryVenv/lib/python2.7/site-packages/pandas/core/indexing.py:141: SettingWithCopyWarning: \n",
      "A value is trying to be set on a copy of a slice from a DataFrame\n",
      "\n",
      "See the caveats in the documentation: http://pandas.pydata.org/pandas-docs/stable/indexing.html#indexing-view-versus-copy\n",
      "  self._setitem_with_indexer(indexer, value)\n"
     ]
    }
   ],
   "source": [
    "dataset.MENT1.loc[dataset.MENT1=='GRANDE DISTINCTION']='GD'\n",
    "dataset.MENT1.loc[dataset.MENT1=='ASSIMILE AUX AJOURNES']='AA'\n",
    "dataset.MENT1.loc[dataset.MENT1=='AJOURNE']='A'\n",
    "dataset.MENT1.loc[dataset.MENT1=='SATISFACTION']='S'\n",
    "dataset.MENT1.loc[dataset.MENT1=='DISTINCTION']='D'\n",
    "dataset.MENT1.loc[dataset.MENT1=='ADMIS AU MEMOIRE']='ADM'\n",
    "dataset.MENT1.loc[dataset.MENT1=='ADMIS AU TFC']='ADTFC'\n",
    "dataset.MENT1.loc[dataset.MENT1=='ADMIS AU STAGE ET AU MEMOIRE']='ADSTM'\n",
    "dataset.MENT1.loc[dataset.MENT1=='ADMIS AU STAGE ET AU TFC']='ADSTFC'\n",
    "dataset.MENT1.loc[dataset.MENT1=='ADMIS AU STAGE']='ADST'\n",
    "dataset.MENT1.loc[dataset.MENT1=='NON ADMISSIBLE DS LA MEME FILIERE']='NAF'\n",
    "dataset.MENT1.loc[dataset.MENT1=='ASSIMILE AUX NON ADMISSIBLES DS LA MEME FILIERE']='ANAF'"
   ]
  },
  {
   "cell_type": "code",
   "execution_count": 11,
   "metadata": {
    "scrolled": false
   },
   "outputs": [
    {
     "data": {
      "text/plain": [
       "SATISFACTION                                       5376\n",
       "AJOURNE                                            1102\n",
       "ASSIMILE AUX AJOURNES                               517\n",
       "DISTINCTION                                          96\n",
       "NON ADMISSIBLE DS LA MEME FILIERE                    65\n",
       "ADMIS AU MEMOIRE                                     23\n",
       "ADMIS AU STAGE ET AU MEMOIRE                         19\n",
       "ADMIS AU TFC                                          5\n",
       "ADMIS AU STAGE                                        5\n",
       "ASSIMILE AUX NON ADMISSIBLES DS LA MEME FILIERE       3\n",
       "AR                                                    2\n",
       "ADMIS AU STAGE ET AU TFC                              2\n",
       "GRANDE DISTINCTION                                    1\n",
       "Name: MENT2, dtype: int64"
      ]
     },
     "execution_count": 11,
     "metadata": {},
     "output_type": "execute_result"
    }
   ],
   "source": [
    "dataset.MENT2.value_counts()"
   ]
  },
  {
   "cell_type": "code",
   "execution_count": 12,
   "metadata": {
    "collapsed": true
   },
   "outputs": [],
   "source": [
    "dataset.MENT2.loc[dataset.MENT2=='GRANDE DISTINCTION']='GD'\n",
    "dataset.MENT2.loc[dataset.MENT2=='ASSIMILE AUX AJOURNES']='AA'\n",
    "dataset.MENT2.loc[dataset.MENT2=='AJOURNE']='A'\n",
    "dataset.MENT2.loc[dataset.MENT2=='SATISFACTION']='S'\n",
    "dataset.MENT2.loc[dataset.MENT2=='DISTINCTION']='D'\n",
    "dataset.MENT2.loc[dataset.MENT2=='ADMIS AU MEMOIRE']='ADM'\n",
    "dataset.MENT2.loc[dataset.MENT2=='ADMIS AU TFC']='ADTFC'\n",
    "dataset.MENT2.loc[dataset.MENT2=='ADMIS AU STAGE ET AU MEMOIRE']='ADSTM'\n",
    "dataset.MENT2.loc[dataset.MENT2=='ADMIS AU STAGE ET AU TFC']='ADSTFC'\n",
    "dataset.MENT2.loc[dataset.MENT2=='ADMIS AU STAGE']='ADST'\n",
    "dataset.MENT2.loc[dataset.MENT2=='NON ADMISSIBLE DS LA MEME FILIERE']='NAF'\n",
    "dataset.MENT2.loc[dataset.MENT2=='ASSIMILE AUX NON ADMISSIBLES DS LA MEME FILIERE']='ANAF'"
   ]
  },
  {
   "cell_type": "code",
   "execution_count": 39,
   "metadata": {},
   "outputs": [
    {
     "data": {
      "text/plain": [
       "S         5376\n",
       "A         1102\n",
       "AA         517\n",
       "D           96\n",
       "NAF         65\n",
       "ADM         23\n",
       "ADSTM       19\n",
       "ADST         5\n",
       "ADTFC        5\n",
       "ANAF         3\n",
       "AR           2\n",
       "ADSTFC       2\n",
       "GD           1\n",
       "Name: MENT2, dtype: int64"
      ]
     },
     "execution_count": 39,
     "metadata": {},
     "output_type": "execute_result"
    }
   ],
   "source": [
    "dataset.MENT2.value_counts()"
   ]
  },
  {
   "cell_type": "code",
   "execution_count": 13,
   "metadata": {
    "collapsed": true
   },
   "outputs": [],
   "source": [
    "def f(x):\n",
    "    return pd.Series(dict(\n",
    "     ACADYEAR=list(x['ACADYEAR']),\n",
    "     MENT1=list(x['MENT1']),\n",
    "     MENT2=list(x['MENT2']),\n",
    "     PERC1=list(x['PERC1']),\n",
    "     PERC2=list(x['PERC2']),\n",
    "     FAC=reduce(lambda x:x, [x['FAC'].iloc[0]]),\n",
    "     OPT=reduce(lambda x:x, [x['OPT'].iloc[0]]),\n",
    "     PROM=list(x['PROM'])\n",
    "    ))"
   ]
  },
  {
   "cell_type": "code",
   "execution_count": 14,
   "metadata": {
    "collapsed": true
   },
   "outputs": [],
   "source": [
    "datasetV1=dataset.groupby(inCol).apply(f)"
   ]
  },
  {
   "cell_type": "code",
   "execution_count": 16,
   "metadata": {},
   "outputs": [
    {
     "data": {
      "text/plain": [
       "(4715, 18)"
      ]
     },
     "execution_count": 16,
     "metadata": {},
     "output_type": "execute_result"
    }
   ],
   "source": [
    "datasetV1.shape"
   ]
  },
  {
   "cell_type": "code",
   "execution_count": 16,
   "metadata": {
    "collapsed": true
   },
   "outputs": [],
   "source": [
    "datasetV1.reset_index(inplace=True)"
   ]
  },
  {
   "cell_type": "markdown",
   "metadata": {},
   "source": [
    "apres groupement en fonction des matricules nous venons de remarquer que notre ensemble comprend 4715 rows et  18 columns et c'est sera notre ensemble pour notre étude "
   ]
  },
  {
   "cell_type": "markdown",
   "metadata": {},
   "source": [
    "cette ensemble est subdivisé en variables d'entré et variables de sortie!"
   ]
  },
  {
   "cell_type": "code",
   "execution_count": 17,
   "metadata": {
    "collapsed": true
   },
   "outputs": [],
   "source": [
    "datasetIn=pd.DataFrame(datasetV1[inCol])"
   ]
  },
  {
   "cell_type": "code",
   "execution_count": 29,
   "metadata": {
    "collapsed": true
   },
   "outputs": [],
   "source": [
    "datasetIn.drop(['DIPLOMTYPE'],axis=1,inplace=True\n",
    "              )"
   ]
  },
  {
   "cell_type": "code",
   "execution_count": 49,
   "metadata": {
    "collapsed": true
   },
   "outputs": [],
   "source": [
    "datasetOut.drop(['OPT'],axis=1,inplace=True)"
   ]
  },
  {
   "cell_type": "code",
   "execution_count": 26,
   "metadata": {
    "collapsed": true
   },
   "outputs": [],
   "source": [
    "datasetIn.rename(columns={'IDENTIFICATION':'ID','DIPLOMPERCENTAGE':'DIPPERC'},inplace=True)"
   ]
  },
  {
   "cell_type": "code",
   "execution_count": 20,
   "metadata": {
    "collapsed": true
   },
   "outputs": [],
   "source": [
    "datasetOut=pd.DataFrame(dataset[['IDENTIFICATION']+outCol])"
   ]
  },
  {
   "cell_type": "code",
   "execution_count": 21,
   "metadata": {
    "collapsed": true
   },
   "outputs": [],
   "source": [
    "datasetOut.FAC.loc[datasetOut.FAC==\"Faculté des Sciences Économiques et de Gestion\"]=\"FSEG\"\n",
    "datasetOut.FAC.loc[datasetOut.FAC==\"Faculté des Sciences et Technologies Appliquées\"]=\"FSTA\"\n",
    "datasetOut.FAC.loc[datasetOut.FAC==\"Faculté de Droit\"]=\"FD\"\n",
    "datasetOut.FAC.loc[datasetOut.FAC==\"Faculté de Santé et Développement Communautaires\"]=\"FSDC\"\n",
    "datasetOut.FAC.loc[datasetOut.FAC==\"Faculté de Médecine\"]=\"FM\"\n",
    "datasetOut.FAC.loc[datasetOut.FAC==\"Faculté de Psychologie et des Sciences de l'Éducation\"]=\"FPSE\"\n",
    "datasetOut.FAC.loc[datasetOut.FAC==\"Faculté de Théologie\"]=\"FT\""
   ]
  },
  {
   "cell_type": "code",
   "execution_count": 22,
   "metadata": {
    "collapsed": true
   },
   "outputs": [],
   "source": [
    "datasetOut.to_csv(\"DatasetOut.csv\")"
   ]
  },
  {
   "cell_type": "code",
   "execution_count": 52,
   "metadata": {
    "collapsed": true
   },
   "outputs": [],
   "source": [
    "datasetOut.head(8).to_latex(\"datasetOut.tex\",bold_rows=True,decimal=',',encoding='utf-8',escape=True)"
   ]
  },
  {
   "cell_type": "code",
   "execution_count": 51,
   "metadata": {
    "collapsed": true
   },
   "outputs": [],
   "source": [
    "datasetOut.rename(columns={'IDENTIFICATION':'ID'},inplace=True)"
   ]
  },
  {
   "cell_type": "markdown",
   "metadata": {},
   "source": [
    "Nous allons afficher notre ensemble d\"enntre et de sortie ici"
   ]
  },
  {
   "cell_type": "code",
   "execution_count": 30,
   "metadata": {
    "collapsed": true
   },
   "outputs": [],
   "source": [
    "datasetIn.head(8).to_latex(\"datasetIn.tex\",bold_rows=True,decimal=',',encoding='utf-8',escape=True)\n",
    "datasetOut.rename(columns={'IDENTIFICATION':'ID'},inplace=True)"
   ]
  },
  {
   "cell_type": "markdown",
   "metadata": {},
   "source": [
    "Nous venons de finir avec la presentation des nos données nous allons maintenant debuter avec la phase d'analyse promremendite des donnés que nous avons en entré et ensuite nous fairons une analyse des données en sortie en enfin analyse les donnes des sortie combinées à celles des données ?"
   ]
  },
  {
   "cell_type": "markdown",
   "metadata": {},
   "source": [
    "### Analyse des données"
   ]
  },
  {
   "cell_type": "markdown",
   "metadata": {},
   "source": [
    "Cette phase comprend une analyse statistique bivarié et univarié nous visualiserons les résultat à l'aide des graphiques .\n",
    "Dans cette partie nous utiliserons beaucoup plus la statistique descriptives et inferentielle."
   ]
  },
  {
   "cell_type": "markdown",
   "metadata": {},
   "source": [
    "Comme nous pous pouvons le remarquer notre ensemble d'apprentissage comprend à la fois des données numeriques (continues ) ainsi que des données discrètes categories.\n",
    "voici comment nous allons procèder"
   ]
  },
  {
   "cell_type": "markdown",
   "metadata": {},
   "source": [
    "#### Statistique Descriptive "
   ]
  },
  {
   "cell_type": "markdown",
   "metadata": {},
   "source": [
    "1. variable Numériques ou continues :\n",
    "Pour les données continues nous allons essayer de comprendre la tendence et la dispertion des nos variables .les metriques utilisées sont sur la figure suivante:\n",
    "En bréf nous allons éxaminer le moyenne , le mode , l'ecart-type et la variance , nous conterons aussi les variables nous fairons les visualisations avec des boxplot!\n",
    "cette étape nous sera aussi utile dans le traitement des valeur maquantes et des outliers!\n",
    "2. variable categorielle ou quantitative\n",
    "Pour les données discrètes nous aloons les tables des frequences pour comprendre la distrubution de chaque categorie nous pour aussi voir le pourcentage de chaque categorie , les histogrammes et bar chart seront utilisées. \n"
   ]
  },
  {
   "cell_type": "markdown",
   "metadata": {},
   "source": [
    "####  Analyse Bivariée"
   ]
  },
  {
   "cell_type": "markdown",
   "metadata": {},
   "source": [
    "c'est une technique d'analyse statistique des données, consistant à découvrir la relation pouvant exister entre 2 variables dans le but de tester l'hypothèse d'association et de causalité entre 2 variables !Par exemple dans notre anlyser nous allons essayer de voir la relation existant entre le choix de la faculté de le pourcentage du diplome à l'exetat.\n",
    "Elle se deroule en 4 étapes :\n",
    "- Définition de la nature des rélations\n",
    "- Identification et direction des rélations\n",
    "- Determination si la relation est important du poinr de vue statistique(Intervalle de confiance)\n",
    "- Detarmination de La force de relation\n",
    "\n",
    "Source: Becker, William. Uncertainty propagation through large nonlinear models. Diss. University of Sheffield, 2011.\n",
    "de Smith, M. J. \"STATSREF: Statistical Analysis Handbook-a web-based statistics.\" (2015)."
   ]
  },
  {
   "cell_type": "markdown",
   "metadata": {},
   "source": [
    "Nous effecurons cette analyse à 3 niveau :\n",
    "1. Variables Continues et categorielle ou quantitatives\n",
    "Pour effectuer cette analyse nous utiliserons le test ANOVA (Analyse of variance):\n",
    "\n",
    "\u000f Si les deux variables sont liées, la variable quantitative aura des\n",
    "moyennes significativement différentes sur chacun des groupes\n",
    "définis par la variable qualitative.\n",
    "\n",
    "\u000f L’hypothèse H0 est du type :\n",
    "Moyenne G1 = Moyenne G2 = Moyenne G3\n",
    "Conditions d'application\n",
    "\n",
    "\u000f les populations étudiées suivent une distribution normale\n",
    "\n",
    "\n",
    "\u000f les variances des populations sont toutes égales (HOMOSCEDASTICITE)\n",
    "\n",
    "\n",
    "\u000f les échantillons   de tailles   sont prélevés aléatoirement et indépendamment dans les populations.\n",
    "\n",
    "[formule et decision]\n",
    "2. variable Categorielles et Cateorielles\n",
    "\n",
    "Pour ces types des données nous allons effectué le test de chi carré:\n",
    "Le chi carré est un test statistique conçu pour déterminer si la différence\n",
    "entre deux distributions de fréquences est attribuable à l’erreur\n",
    "d’échantillonnage (le hasard) ou est suffisamment grande pour être\n",
    "statistiquement significative.\n",
    "\n",
    "Ho - est, comme son nom l'indique, une hypothèse qui postule qu'il n'y a pas de différence entre les fréquences ou les proportions des deux groupes elle est considére comme hypothèse nulle.\n",
    "\n",
    "Si la différence entre les deux distributions est réduite, l’hypothèse nulle\n",
    "sera acceptée. Si la différence est grande, l’hypothèse nulle sera rejetée.\n",
    "Dans ce dernier cas, on parlera d’une différence statistiquement\n",
    "significative parce que l’écart entre les deux distributions est trop\n",
    "important pour être expliqué par le hasard seulement : une différence\n",
    "réelle existe donc.\n",
    "[Inserrer la formule]\n",
    "\n",
    "3. Variables Continues et Continues \n",
    "\n",
    "Pour les variables continues on utilise cherche la correlation et pour notre travail nous allons utilisée le coeficient de correlation de pearson:\n",
    "Les coefficients de corrélation permettent de donner une mesure synthétique de l'intensité de la relation entre deux caractères et de son sens lorsque cette relation est monotone. Le coefficient de corrélation de Pearson permet d'analyser les relations linéaires et le coefficient de corrélation de Spearman les relations non-linéaires monotones. Il existe d'autres coefficients pour les relations non-linéaires et non-monotones.\n",
    " \n",
    "Signalons que python dispose des mutiples librairies pour effectuer ces genres d'analyse."
   ]
  },
  {
   "cell_type": "markdown",
   "metadata": {},
   "source": [
    "Commencons par l'analyse des données univariés sur les variables d'entré"
   ]
  },
  {
   "cell_type": "code",
   "execution_count": 16,
   "metadata": {},
   "outputs": [
    {
     "name": "stdout",
     "output_type": "stream",
     "text": [
      "<class 'pandas.core.frame.DataFrame'>\n",
      "RangeIndex: 4038 entries, 0 to 4037\n",
      "Data columns (total 10 columns):\n",
      "IDENTIFICATION      4038 non-null int64\n",
      "BIRTHDAY            4038 non-null object\n",
      "NAME                4038 non-null object\n",
      "DIPLOMTYPE          4038 non-null object\n",
      "DIPLOMPERCENTAGE    4038 non-null float64\n",
      "DIPLOMSECTION       4038 non-null object\n",
      "DIPLOMOPTION        4038 non-null object\n",
      "SCHOOL              4038 non-null object\n",
      "SCHOOLPROVINCE      4038 non-null object\n",
      "SCHOOLSTATUS        4038 non-null object\n",
      "dtypes: float64(1), int64(1), object(8)\n",
      "memory usage: 315.5+ KB\n"
     ]
    }
   ],
   "source": [
    "datasetIn.info()"
   ]
  },
  {
   "cell_type": "markdown",
   "metadata": {},
   "source": [
    "Nous remarquons que nous données en entré dispose des 10 colones avec variables quantitatives et qualitatives, "
   ]
  },
  {
   "cell_type": "markdown",
   "metadata": {},
   "source": [
    "###### 1. Variables continues\n",
    "###### a. Attribue Date"
   ]
  },
  {
   "cell_type": "markdown",
   "metadata": {},
   "source": [
    "Type: String"
   ]
  },
  {
   "cell_type": "markdown",
   "metadata": {},
   "source": [
    "Pour nous faciliter la tache nous allons remplacer la date de naissance de chaque individu par son age a ce moment ci et ainsi obtenit un attribue continue de plus."
   ]
  },
  {
   "cell_type": "code",
   "execution_count": 23,
   "metadata": {
    "collapsed": true,
    "scrolled": true
   },
   "outputs": [],
   "source": [
    "from datetime import date\n",
    "datasetIn['BIRTHDAY'] = pd.to_datetime(datasetIn['BIRTHDAY'], format='%Y-%m-%d',errors='coerce')     #convert the time from string to date\n",
    "datasetIn['BIRTHDAY']=datasetIn['BIRTHDAY'].apply(lambda x : date.today().year - x.year - ((date.today().month, date.today().day) < (x.month, x.day)))"
   ]
  },
  {
   "cell_type": "markdown",
   "metadata": {},
   "source": [
    "Valeurs Maquantes : Oui , ils sont causées par des erreurs à l'entré"
   ]
  },
  {
   "cell_type": "code",
   "execution_count": 24,
   "metadata": {},
   "outputs": [
    {
     "data": {
      "text/plain": [
       "7"
      ]
     },
     "execution_count": 24,
     "metadata": {},
     "output_type": "execute_result"
    }
   ],
   "source": [
    "datasetIn['BIRTHDAY'].isnull().sum()"
   ]
  },
  {
   "cell_type": "code",
   "execution_count": 73,
   "metadata": {},
   "outputs": [
    {
     "data": {
      "text/plain": [
       "4038"
      ]
     },
     "execution_count": 73,
     "metadata": {},
     "output_type": "execute_result"
    }
   ],
   "source": [
    "len(datasetIn)"
   ]
  },
  {
   "cell_type": "code",
   "execution_count": 76,
   "metadata": {},
   "outputs": [
    {
     "data": {
      "text/plain": [
       "0"
      ]
     },
     "execution_count": 76,
     "metadata": {},
     "output_type": "execute_result"
    }
   ],
   "source": [
    "67/ 4038"
   ]
  },
  {
   "cell_type": "markdown",
   "metadata": {},
   "source": [
    "Solution : Ils sont remplace par la moyenne comme leur proportion est insignifiant"
   ]
  },
  {
   "cell_type": "code",
   "execution_count": 25,
   "metadata": {
    "collapsed": true
   },
   "outputs": [],
   "source": [
    "datasetIn['BIRTHDAY']=datasetIn['BIRTHDAY'].fillna(np.mean(datasetIn['BIRTHDAY']))"
   ]
  },
  {
   "cell_type": "markdown",
   "metadata": {},
   "source": [
    "Ce tableau decrit toutes les informations possibles sur les données continues \n",
    "et de prime à bord nous sommes à mesure de constater certaines incoherences sur les diplome percentage qui on un maximun de 6053 et un minimum de 0 qui est vraiment impossible car le diplome en RDC doi etre compris entre 50 et 100 % !Nous allons visualisé ces inchoherence de plus prêt avec des boxplots."
   ]
  },
  {
   "cell_type": "code",
   "execution_count": 8,
   "metadata": {
    "scrolled": true
   },
   "outputs": [
    {
     "data": {
      "image/png": "[encoded data removed]",
      "text/plain": [
       "<matplotlib.figure.Figure at 0x11513d9d0>"
      ]
     },
     "metadata": {},
     "output_type": "display_data"
    }
   ],
   "source": [
    "\n",
    "ax = sns.boxplot(x=datasetInClean['DIPLOMPERCENTAGE'])\n",
    "plt.savefig('dipomePourcentage.png',dpi=100)"
   ]
  },
  {
   "cell_type": "code",
   "execution_count": 10,
   "metadata": {},
   "outputs": [
    {
     "data": {
      "image/png": "[encoded data removed]",
      "text/plain": [
       "<matplotlib.figure.Figure at 0x11584d4d0>"
      ]
     },
     "metadata": {},
     "output_type": "display_data"
    }
   ],
   "source": [
    "plt.figure()\n",
    "ax = sns.boxplot(x=datasetInClean['AGE'])\n",
    "plt.savefig('AGE.png',dpi=100)"
   ]
  },
  {
   "cell_type": "markdown",
   "metadata": {},
   "source": [
    "Au vu de ces courbes nous remarquons que l'attribue diplome percentage dispose de beaucoup des deviations."
   ]
  },
  {
   "cell_type": "markdown",
   "metadata": {},
   "source": [
    "Mais l'attribue Bithday a une distribution presque normale"
   ]
  },
  {
   "cell_type": "code",
   "execution_count": 13,
   "metadata": {},
   "outputs": [
    {
     "data": {
      "image/png": "[encoded data removed]",
      "text/plain": [
       "<matplotlib.figure.Figure at 0x1152faf90>"
      ]
     },
     "metadata": {},
     "output_type": "display_data"
    }
   ],
   "source": [
    "plt.figure()\n",
    "sns.distplot(datasetInClean['AGE'],bins=20,axlabel='AGE A Present',kde=1,norm_hist=0)\n",
    "plt.savefig('AGEDist.png',dpi=100)"
   ]
  },
  {
   "cell_type": "markdown",
   "metadata": {},
   "source": [
    "Nous pouvons facilement voir que l'age a une distribution presque normale.\n",
    "NB: change norm hist to 1 to see count"
   ]
  },
  {
   "cell_type": "markdown",
   "metadata": {},
   "source": [
    "regardons de plus pret celui du diplome percentage"
   ]
  },
  {
   "cell_type": "code",
   "execution_count": 14,
   "metadata": {
    "scrolled": true
   },
   "outputs": [
    {
     "data": {
      "image/png": "[encoded data removed]",
      "text/plain": [
       "<matplotlib.figure.Figure at 0x1151aa190>"
      ]
     },
     "metadata": {},
     "output_type": "display_data"
    }
   ],
   "source": [
    "plt.figure()\n",
    "sns.distplot(datasetInClean['DIPLOMPERCENTAGE'],bins=20,axlabel='Pourcentage de diplome',kde=1,norm_hist=0)\n",
    "plt.savefig('diplomePercentageDis.png',dpi=100)"
   ]
  },
  {
   "cell_type": "markdown",
   "metadata": {},
   "source": [
    "A cause des dispertions nous ne pouvons pas bien visualis la distribution.\n",
    "essayons d'isoler les distibution pour voir de plus prét les données . "
   ]
  },
  {
   "cell_type": "code",
   "execution_count": 98,
   "metadata": {},
   "outputs": [
    {
     "data": {
      "text/plain": [
       "34"
      ]
     },
     "execution_count": 98,
     "metadata": {},
     "output_type": "execute_result"
    }
   ],
   "source": [
    "len(datasetIn[~datasetIn.DIPLOMPERCENTAGE.isin(range(50,100) )])"
   ]
  },
  {
   "cell_type": "markdown",
   "metadata": {},
   "source": [
    "Nous remarquons que nous avons 29 échantillons avec des valeur hors normes nous allons les normaliser dans la phase de préparation"
   ]
  },
  {
   "cell_type": "markdown",
   "metadata": {},
   "source": [
    "##### Variables qualitatives ou categorieles"
   ]
  },
  {
   "cell_type": "markdown",
   "metadata": {},
   "source": [
    "Pour chaque attriblue nous alons faire de count plot voir les diffrerents valeurs"
   ]
  },
  {
   "cell_type": "code",
   "execution_count": 35,
   "metadata": {
    "collapsed": true
   },
   "outputs": [],
   "source": [
    "colCat=list(datasetIn.select_dtypes(exclude=[np.number]).columns)"
   ]
  },
  {
   "cell_type": "code",
   "execution_count": 37,
   "metadata": {
    "scrolled": true
   },
   "outputs": [
    {
     "data": {
      "text/plain": [
       "['BIRTHDAY',\n",
       " 'NAME',\n",
       " 'DIPLOMTYPE',\n",
       " 'DIPLOMSECTION',\n",
       " 'DIPLOMOPTION',\n",
       " 'SCHOOL',\n",
       " 'SCHOOLPROVINCE',\n",
       " 'SCHOOLSTATUS']"
      ]
     },
     "execution_count": 37,
     "metadata": {},
     "output_type": "execute_result"
    }
   ],
   "source": [
    "colCat"
   ]
  },
  {
   "cell_type": "code",
   "execution_count": 39,
   "metadata": {},
   "outputs": [
    {
     "data": {
      "text/plain": [
       "H    2771\n",
       "F    1944\n",
       "Name: NAME, dtype: int64"
      ]
     },
     "execution_count": 39,
     "metadata": {},
     "output_type": "execute_result"
    }
   ],
   "source": [
    "datasetIn['NAME'].value_counts()"
   ]
  },
  {
   "cell_type": "markdown",
   "metadata": {},
   "source": [
    "Nous pouvons remarqué facilement avec cete comande la repartition des sexes!"
   ]
  },
  {
   "cell_type": "code",
   "execution_count": null,
   "metadata": {
    "collapsed": true
   },
   "outputs": [],
   "source": [
    "plt.figure(figsize= kwargs.get('size'))\n",
    "plt.savefig(X+'.png',dpi=100)"
   ]
  },
  {
   "cell_type": "code",
   "execution_count": 3,
   "metadata": {
    "collapsed": true
   },
   "outputs": [],
   "source": [
    "def plotCate(X,dataset,**kwargs):\n",
    "    \n",
    "    \"\"\"this function will make a plot for categorical attribute\"\"\"\n",
    "    n=kwargs.get('n') #number of value to plot\n",
    "    if isinstance(dataset,pd.DataFrame) and isinstance(X,str) and X in dataset.columns :\n",
    "        plt.figure(figsize= kwargs.get('size'))\n",
    "        ax=sns.countplot(x=X, data=dataset,orient=kwargs.get('orient'),order=dataset[X].value_counts().sort_values(ascending=False).index[:n])\n",
    "        plt.title('Distribution de '+ X )\n",
    "        plt.xlabel(X)\n",
    "        ax.set_xticklabels(ax.xaxis.get_majorticklabels(), rotation=45)\n",
    "        # Make twin axis\n",
    "        #ax2=ax.twinx()\n",
    "        # Switch so count axis is on right, frequency on left\n",
    "        #ax2.yaxis.tick_left()\n",
    "        #ax.yaxis.tick_right()\n",
    "        #ax.yaxis.set_label_position('right')\n",
    "        #ax2.yaxis.set_label_position('left')\n",
    "        \n",
    "        #ax2.set_ylabel('Poucentage [%]')\n",
    "        for p in ax.patches:\n",
    "            x=p.get_bbox().get_points()[:,0]\n",
    "            y=p.get_bbox().get_points()[1,1]\n",
    "            ax.annotate('{:.3f} % soit : {:.3f}'.format(100.*y/len(dataset),y), (x.mean(), y), ha='center', va='bottom') # set the alignment of the text\n",
    "        # Use a LinearLocator to ensure the correct number of ticks\n",
    "        #ax.yaxis.set_major_locator(ticker.LinearLocator(11))\n",
    "\n",
    "        # Fix the frequency range to 0-100\n",
    "        #ax2.set_ylim(0,100)\n",
    "        ax.set_ylim(0,len(dataset))\n",
    "\n",
    "        # And use a MultipleLocator to ensure a tick spacing of 10\n",
    "        #ax2.yaxis.set_major_locator(ticker.MultipleLocator(10))\n",
    "\n",
    "        # Need to turn the grid on ax2 off, otherwise the gridlines end up on top of the bars\n",
    "        #ax2.grid(None)\n",
    "        plt.savefig(X+'.png',dpi=100)\n",
    "    else:\n",
    "        raise TypeError('need only dataframe')"
   ]
  },
  {
   "cell_type": "code",
   "execution_count": 42,
   "metadata": {},
   "outputs": [
    {
     "data": {
      "image/png": "[encoded data removed]",
      "text/plain": [
       "<matplotlib.figure.Figure at 0x10fa83790>"
      ]
     },
     "metadata": {},
     "output_type": "display_data"
    }
   ],
   "source": [
    "plotCate('NAME',datasetIn,size=(6,4))"
   ]
  },
  {
   "cell_type": "markdown",
   "metadata": {
    "collapsed": true
   },
   "source": [
    "Voici la repartition de sexes dans notre ensemble d'apprentissage on peut aisement constater qu'il n'est pas si desequilibré que ça!, le genre est vraiment respecté avec 41% dés nouveaux étudiant etant de sexe feminin."
   ]
  },
  {
   "cell_type": "markdown",
   "metadata": {},
   "source": [
    "###### Attribue : Diplome Type"
   ]
  },
  {
   "cell_type": "code",
   "execution_count": 60,
   "metadata": {
    "scrolled": true
   },
   "outputs": [
    {
     "data": {
      "image/png": "[encoded data removed]",
      "text/plain": [
       "<matplotlib.figure.Figure at 0x10d980c50>"
      ]
     },
     "metadata": {},
     "output_type": "display_data"
    }
   ],
   "source": [
    "plotCate('DIPLOMTYPE',datasetIn,size=(12,8),orient='h')"
   ]
  },
  {
   "cell_type": "markdown",
   "metadata": {},
   "source": [
    "Nous pouvons remarquer que notre dataset contient plus de 70% d'element avec le diplome d'etat\n",
    "et 26 avec un diplome type inconue nous allons traaiter cela à la suite et quelque echantillon avec des\n",
    "diplomes du Rwanda et d'autre avec des anciens diplomes, les individus dont le diplomé type sont inconu serons consideré comme diplome d'etat, donc nous pouvons le remplacer par le diplome d'etat."
   ]
  },
  {
   "cell_type": "code",
   "execution_count": 50,
   "metadata": {},
   "outputs": [
    {
     "data": {
      "text/plain": [
       "DIPLÔME D'ETAT              4706\n",
       "DIPLÔME D'ETAT A2              4\n",
       "DIPLÔME D'ETAT DU RWANDA       4\n",
       "DIPLÔME D'ETAT067              1\n",
       "Name: DIPLOMTYPE, dtype: int64"
      ]
     },
     "execution_count": 50,
     "metadata": {},
     "output_type": "execute_result"
    }
   ],
   "source": [
    "datasetIn.DIPLOMTYPE.value_counts()"
   ]
  },
  {
   "cell_type": "code",
   "execution_count": 61,
   "metadata": {
    "collapsed": true,
    "scrolled": true
   },
   "outputs": [],
   "source": [
    "datasetIn.DIPLOMTYPE.loc[datasetIn.DIPLOMTYPE =='inconnu']=datasetIn.DIPLOMTYPE[1]"
   ]
  },
  {
   "cell_type": "code",
   "execution_count": 62,
   "metadata": {
    "scrolled": false
   },
   "outputs": [
    {
     "data": {
      "image/png": "[encoded data removed]",
      "text/plain": [
       "<matplotlib.figure.Figure at 0x10da7b350>"
      ]
     },
     "metadata": {},
     "output_type": "display_data"
    }
   ],
   "source": [
    "plotCate('DIPLOMTYPE',datasetIn,size=(12,8),orient='h')"
   ]
  },
  {
   "cell_type": "markdown",
   "metadata": {},
   "source": [
    "###### Attribue Diplome option et Diplome Section"
   ]
  },
  {
   "cell_type": "code",
   "execution_count": 104,
   "metadata": {},
   "outputs": [
    {
     "data": {
      "text/plain": [
       "90"
      ]
     },
     "execution_count": 104,
     "metadata": {},
     "output_type": "execute_result"
    }
   ],
   "source": [
    "len(datasetIn[colCat[2]].value_counts())"
   ]
  },
  {
   "cell_type": "markdown",
   "metadata": {},
   "source": [
    "Nous avons plus de 90 sections"
   ]
  },
  {
   "cell_type": "markdown",
   "metadata": {},
   "source": [
    "une chose importante à remarquer au niveau des attribues 'DIPLOMOPTION' et 'DIPLOMSECTION' sont tres desorganisées il faut bien les oragniées dans la phase de préparation des données "
   ]
  },
  {
   "cell_type": "markdown",
   "metadata": {},
   "source": [
    "###### Attribue School Province"
   ]
  },
  {
   "cell_type": "code",
   "execution_count": 19,
   "metadata": {
    "scrolled": false
   },
   "outputs": [
    {
     "data": {
      "image/png": "[encoded data removed]",
      "text/plain": [
       "<matplotlib.figure.Figure at 0x115ce23d0>"
      ]
     },
     "metadata": {},
     "output_type": "display_data"
    }
   ],
   "source": [
    "plotCate('SCHOOLPROVINCE',datasetInClean,size=(30,8),orient='h')"
   ]
  },
  {
   "cell_type": "markdown",
   "metadata": {
    "collapsed": true
   },
   "source": [
    "Avec cette image nous pouvons aisement constater que 63 % des étudaints de l'ulpgl proviennent de la province du nord kivu mais il ya une autre categorie qui provient du sud KIVu soit 15% "
   ]
  },
  {
   "cell_type": "markdown",
   "metadata": {},
   "source": [
    "###### Attribue SCHOOL ET SCHOOL STATUS"
   ]
  },
  {
   "cell_type": "code",
   "execution_count": 44,
   "metadata": {
    "collapsed": true
   },
   "outputs": [],
   "source": [
    "datasetIn.SCHOOL=datasetIn.SCHOOL.apply(lambda x: x.lower())"
   ]
  },
  {
   "cell_type": "markdown",
   "metadata": {},
   "source": [
    "Pour une bonne visualisation on peut prealablement transformer les colones en minuscule"
   ]
  },
  {
   "cell_type": "markdown",
   "metadata": {},
   "source": [
    "Nous avon un attribue avec 1285 categories differentes ...\n",
    "Nous devons les analyser en details"
   ]
  },
  {
   "cell_type": "code",
   "execution_count": 46,
   "metadata": {},
   "outputs": [
    {
     "data": {
      "text/plain": [
       "inconnu         3833\n",
       "catholique       289\n",
       "protestant       260\n",
       "privé            170\n",
       "publique         152\n",
       "musulman           6\n",
       "kimbanguiste       3\n",
       "autodidacte        2\n",
       "Name: SCHOOLSTATUS, dtype: int64"
      ]
     },
     "execution_count": 46,
     "metadata": {},
     "output_type": "execute_result"
    }
   ],
   "source": [
    "datasetIn.SCHOOLSTATUS.value_counts()"
   ]
  },
  {
   "cell_type": "markdown",
   "metadata": {},
   "source": [
    "ces attribues aussi necessite un nettoyage et une bonne reparation"
   ]
  },
  {
   "cell_type": "markdown",
   "metadata": {
    "collapsed": true
   },
   "source": [
    "Nous allons creer une branches à part pour le traitement de ces valeurs pour les diplomes section et diplome option"
   ]
  },
  {
   "cell_type": "code",
   "execution_count": 47,
   "metadata": {},
   "outputs": [
    {
     "data": {
      "text/plain": [
       "['IDENTIFICATION',\n",
       " 'BIRTHDAY',\n",
       " 'NAME',\n",
       " 'DIPLOMTYPE',\n",
       " 'DIPLOMPERCENTAGE',\n",
       " 'DIPLOMSECTION',\n",
       " 'DIPLOMOPTION',\n",
       " 'SCHOOL',\n",
       " 'SCHOOLPROVINCE',\n",
       " 'SCHOOLSTATUS']"
      ]
     },
     "execution_count": 47,
     "metadata": {},
     "output_type": "execute_result"
    }
   ],
   "source": [
    "inCol"
   ]
  },
  {
   "cell_type": "markdown",
   "metadata": {},
   "source": [
    "les collones que nous allons traiter sont school ,schoolstatus, dilpomesection,diplomeoption"
   ]
  },
  {
   "cell_type": "code",
   "execution_count": 76,
   "metadata": {
    "collapsed": true
   },
   "outputs": [],
   "source": [
    "noisyCol=['IDENTIFICATION','DIPLOMSECTION','DIPLOMOPTION','SCHOOL','SCHOOLSTATUS']"
   ]
  },
  {
   "cell_type": "code",
   "execution_count": 77,
   "metadata": {
    "collapsed": true
   },
   "outputs": [],
   "source": [
    "datasetInNoisy=datasetIn[noisyCol]"
   ]
  },
  {
   "cell_type": "code",
   "execution_count": 78,
   "metadata": {
    "scrolled": true
   },
   "outputs": [
    {
     "data": {
      "text/html": [
       "<div>\n",
       "<table border=\"1\" class=\"dataframe\">\n",
       "  <thead>\n",
       "    <tr style=\"text-align: right;\">\n",
       "      <th></th>\n",
       "      <th>IDENTIFICATION</th>\n",
       "      <th>DIPLOMSECTION</th>\n",
       "      <th>DIPLOMOPTION</th>\n",
       "      <th>SCHOOL</th>\n",
       "      <th>SCHOOLSTATUS</th>\n",
       "    </tr>\n",
       "  </thead>\n",
       "  <tbody>\n",
       "    <tr>\n",
       "      <th>0</th>\n",
       "      <td>45</td>\n",
       "      <td>PEDAGOGIEQUE</td>\n",
       "      <td>PEDA GENERALE</td>\n",
       "      <td>INSTITUT MAENDELEO</td>\n",
       "      <td>inconnu</td>\n",
       "    </tr>\n",
       "    <tr>\n",
       "      <th>1</th>\n",
       "      <td>215</td>\n",
       "      <td>SCIENTIFIQUE</td>\n",
       "      <td>MATH-PHYSIQUE</td>\n",
       "      <td>INSTITUT VUNGI</td>\n",
       "      <td>inconnu</td>\n",
       "    </tr>\n",
       "    <tr>\n",
       "      <th>2</th>\n",
       "      <td>343</td>\n",
       "      <td>SCIENTIFIQUE</td>\n",
       "      <td>MATH PHYSIQUE</td>\n",
       "      <td>INSTITUT FARAJA</td>\n",
       "      <td>inconnu</td>\n",
       "    </tr>\n",
       "    <tr>\n",
       "      <th>3</th>\n",
       "      <td>356</td>\n",
       "      <td>ECONOMIE ET COMMERCE</td>\n",
       "      <td>ECONOMIE</td>\n",
       "      <td>ESISE/GISENYI</td>\n",
       "      <td>inconnu</td>\n",
       "    </tr>\n",
       "    <tr>\n",
       "      <th>4</th>\n",
       "      <td>429</td>\n",
       "      <td>TECHNIQUE</td>\n",
       "      <td>COMMERCIALE ET ADMINISTRATIVE</td>\n",
       "      <td>C,S, UMOJA</td>\n",
       "      <td>inconnu</td>\n",
       "    </tr>\n",
       "  </tbody>\n",
       "</table>\n",
       "</div>"
      ],
      "text/plain": [
       "   IDENTIFICATION         DIPLOMSECTION                   DIPLOMOPTION  \\\n",
       "0              45          PEDAGOGIEQUE                  PEDA GENERALE   \n",
       "1             215          SCIENTIFIQUE                  MATH-PHYSIQUE   \n",
       "2             343          SCIENTIFIQUE                  MATH PHYSIQUE   \n",
       "3             356  ECONOMIE ET COMMERCE                       ECONOMIE   \n",
       "4             429             TECHNIQUE  COMMERCIALE ET ADMINISTRATIVE   \n",
       "\n",
       "               SCHOOL SCHOOLSTATUS  \n",
       "0  INSTITUT MAENDELEO      inconnu  \n",
       "1      INSTITUT VUNGI      inconnu  \n",
       "2     INSTITUT FARAJA      inconnu  \n",
       "3       ESISE/GISENYI      inconnu  \n",
       "4          C,S, UMOJA      inconnu  "
      ]
     },
     "execution_count": 78,
     "metadata": {},
     "output_type": "execute_result"
    }
   ],
   "source": [
    "datasetInNoisy.head(5)"
   ]
  },
  {
   "cell_type": "markdown",
   "metadata": {},
   "source": [
    "Nous allons sauvergarder cet nouveau dataframe dans un fichier csv et creer une notebook à part pour le traitement et le raffinement de ces collones"
   ]
  },
  {
   "cell_type": "markdown",
   "metadata": {
    "collapsed": true
   },
   "source": [
    "##### Nettoyage des attribues bruitées "
   ]
  },
  {
   "cell_type": "markdown",
   "metadata": {},
   "source": [
    "Nous avons pu remarquer dans la phase de precedante que certaines attribues ont des valeurs très desorganisées et vraiment dispersé et ce qui a une mauvaise influance sur le calcul de l'entropie et ainsi sur les algorithmes du Machine Learning .\n",
    "Nous pouvons aisement constater que ce problèmes est du à des fautes d'orthographes commise lors de la phase de saisie des données et ainsi pour countinues nous devons essayer de corriger ces erreurs et bien organisé les données .\n",
    "Voyons d'abord en chiffre comment cela se presente"
   ]
  },
  {
   "cell_type": "markdown",
   "metadata": {},
   "source": [
    "###### Attribue Diplomes sections"
   ]
  },
  {
   "cell_type": "code",
   "execution_count": 42,
   "metadata": {},
   "outputs": [
    {
     "data": {
      "text/plain": [
       "101"
      ]
     },
     "execution_count": 42,
     "metadata": {},
     "output_type": "execute_result"
    }
   ],
   "source": [
    "len(datasetIn.DIPLOMSECTION.value_counts())"
   ]
  },
  {
   "cell_type": "markdown",
   "metadata": {},
   "source": [
    "Avec cette commande nous remarquons que cette attribue dispose de 101 valeurs disctinctes qui c'es qui es impossible pour la valeur de diplome section"
   ]
  },
  {
   "cell_type": "markdown",
   "metadata": {},
   "source": [
    "voyons un peu en details ce qui contient cette attribue"
   ]
  },
  {
   "cell_type": "markdown",
   "metadata": {},
   "source": [
    "Dans cette simple description nous remarquons que les valeurs on été mal saisi comme par example les valeurs suivantes :\n",
    "'TECSC',   'Techniqe', 'TECHN IQUE',technique','TCH' qui sont saisie pour la meme et unique section 'techniques' mais avec differentes erreurs d'orthographe"
   ]
  },
  {
   "cell_type": "markdown",
   "metadata": {},
   "source": [
    "cela n'est qu'un example des differentes valeurs mal orthographiées presente dans notre ensemble d'etude "
   ]
  },
  {
   "cell_type": "markdown",
   "metadata": {
    "collapsed": true
   },
   "source": [
    "ce genre d'erreur de notation  à pour consequence le fait qu'il font augmenter l'entropie de nos colonnes et ainsi penalisent nos algoritmes surtout lorsqu'on travaille avec les arbres de décisions nous avons procéde à un nettoyage automatique qui a consisté en un groupement des valleurs proches en utilisant la distance de leveinstein :(source : leveinstein) et le cllustering par l'agorithme d'affinity propagation,et ainsi qu'un nettoyage manuelle pour arranger les données à la fin de cette phase nous avons obtenus des données moyenement propres et bien netoyer avec un entropie faibe.\n",
    "Nous pouvons le remarquer dans l'ensemble d'apprentissager suivant que ces données sont bien grouper."
   ]
  },
  {
   "cell_type": "code",
   "execution_count": 6,
   "metadata": {
    "collapsed": true
   },
   "outputs": [],
   "source": [
    "datasetInClean=pd.read_csv('DatasetInClean.csv')"
   ]
  },
  {
   "cell_type": "code",
   "execution_count": 5,
   "metadata": {
    "collapsed": true
   },
   "outputs": [],
   "source": [
    "datasetInClean[['DIPLOMPERCENTAGE','AGE']].describe().to_latex(\"describe.tex\",bold_rows=True,decimal=',',encoding='utf-8',escape=True)"
   ]
  },
  {
   "cell_type": "code",
   "execution_count": 71,
   "metadata": {
    "scrolled": true
   },
   "outputs": [
    {
     "data": {
      "text/html": [
       "<div>\n",
       "<table border=\"1\" class=\"dataframe\">\n",
       "  <thead>\n",
       "    <tr style=\"text-align: right;\">\n",
       "      <th></th>\n",
       "      <th>SCHOOLSTATUS</th>\n",
       "      <th>SCHOOL_RIGHT</th>\n",
       "      <th>OPTION_RIGHT</th>\n",
       "      <th>SCHOOLPROVINCE</th>\n",
       "      <th>DIPLOMPERCENTAGE</th>\n",
       "    </tr>\n",
       "  </thead>\n",
       "  <tbody>\n",
       "    <tr>\n",
       "      <th>45</th>\n",
       "      <td>protestant</td>\n",
       "      <td>zanner</td>\n",
       "      <td>commmerciale et adm</td>\n",
       "      <td>NORD-KIVU</td>\n",
       "      <td>61.000000</td>\n",
       "    </tr>\n",
       "    <tr>\n",
       "      <th>215</th>\n",
       "      <td>publique</td>\n",
       "      <td>chemchem</td>\n",
       "      <td>pedagogie</td>\n",
       "      <td>MANIEMA</td>\n",
       "      <td>51.000000</td>\n",
       "    </tr>\n",
       "    <tr>\n",
       "      <th>343</th>\n",
       "      <td>catholique</td>\n",
       "      <td>kambali</td>\n",
       "      <td>bio-chimie</td>\n",
       "      <td>NORD-KIVU</td>\n",
       "      <td>62.000000</td>\n",
       "    </tr>\n",
       "    <tr>\n",
       "      <th>356</th>\n",
       "      <td>catholique</td>\n",
       "      <td>mwanga/ uvira</td>\n",
       "      <td>latin philo</td>\n",
       "      <td>SUD-KIVU</td>\n",
       "      <td>51.000000</td>\n",
       "    </tr>\n",
       "    <tr>\n",
       "      <th>429</th>\n",
       "      <td>protestant</td>\n",
       "      <td>maendeleo</td>\n",
       "      <td>inconnu</td>\n",
       "      <td>NORD-KIVU</td>\n",
       "      <td>56.876522</td>\n",
       "    </tr>\n",
       "  </tbody>\n",
       "</table>\n",
       "</div>"
      ],
      "text/latex": [
       "\\centering{\\begin{tabular}{lllllr}\n",
       "\\toprule\n",
       "{} & SCHOOLSTATUS &   SCHOOL\\_RIGHT &         OPTION\\_RIGHT & SCHOOLPROVINCE &  DIPLOMPERCENTAGE \\\\\n",
       "\\midrule\n",
       "45  &   protestant &         zanner &  commmerciale et adm &      NORD-KIVU &         61.000000 \\\\\n",
       "215 &     publique &       chemchem &            pedagogie &        MANIEMA &         51.000000 \\\\\n",
       "343 &   catholique &        kambali &           bio-chimie &      NORD-KIVU &         62.000000 \\\\\n",
       "356 &   catholique &  mwanga/ uvira &          latin philo &       SUD-KIVU &         51.000000 \\\\\n",
       "429 &   protestant &      maendeleo &              inconnu &      NORD-KIVU &         56.876522 \\\\\n",
       "\\bottomrule\n",
       "\\end{tabular}\n",
       "}"
      ],
      "text/plain": [
       "    SCHOOLSTATUS   SCHOOL_RIGHT         OPTION_RIGHT SCHOOLPROVINCE  \\\n",
       "45    protestant         zanner  commmerciale et adm      NORD-KIVU   \n",
       "215     publique       chemchem            pedagogie        MANIEMA   \n",
       "343   catholique        kambali           bio-chimie      NORD-KIVU   \n",
       "356   catholique  mwanga/ uvira          latin philo       SUD-KIVU   \n",
       "429   protestant      maendeleo              inconnu      NORD-KIVU   \n",
       "\n",
       "     DIPLOMPERCENTAGE  \n",
       "45          61.000000  \n",
       "215         51.000000  \n",
       "343         62.000000  \n",
       "356         51.000000  \n",
       "429         56.876522  "
      ]
     },
     "execution_count": 71,
     "metadata": {},
     "output_type": "execute_result"
    }
   ],
   "source": [
    "datasetInClean.loc[datasetOut.head(5).ID]"
   ]
  },
  {
   "cell_type": "code",
   "execution_count": 70,
   "metadata": {
    "collapsed": true
   },
   "outputs": [],
   "source": [
    "datasetInClean.drop('ID',axis=1,inplace=True)"
   ]
  },
  {
   "cell_type": "code",
   "execution_count": 64,
   "metadata": {
    "collapsed": true
   },
   "outputs": [],
   "source": [
    "datasetInClean.rename(columns={'IDENTIFICATION':'ID'},inplace=True)"
   ]
  },
  {
   "cell_type": "code",
   "execution_count": 73,
   "metadata": {
    "collapsed": true,
    "scrolled": false
   },
   "outputs": [],
   "source": [
    "datasetInClean.loc[datasetOut.head(8).ID].to_latex(\"datasetInClean.tex\",bold_rows=True,decimal=',',encoding='utf-8',escape=False)"
   ]
  },
  {
   "cell_type": "code",
   "execution_count": 36,
   "metadata": {},
   "outputs": [
    {
     "data": {
      "text/plain": [
       "protestant      1370\n",
       "catholique      1305\n",
       "publique         726\n",
       "inconnu          691\n",
       "privé            536\n",
       "autodidacte       44\n",
       "musulman          38\n",
       "kimbanguiste       5\n",
       "Name: SCHOOLSTATUS, dtype: int64"
      ]
     },
     "execution_count": 36,
     "metadata": {},
     "output_type": "execute_result"
    }
   ],
   "source": [
    "datasetInClean.SCHOOLSTATUS.value_counts()"
   ]
  },
  {
   "cell_type": "code",
   "execution_count": 6,
   "metadata": {
    "collapsed": true
   },
   "outputs": [],
   "source": [
    "datasetInClean.IDENTIFICATION=datasetInClean.IDENTIFICATION.round(0).astype(int)"
   ]
  },
  {
   "cell_type": "code",
   "execution_count": 7,
   "metadata": {
    "scrolled": true
   },
   "outputs": [
    {
     "data": {
      "text/plain": [
       "protestant      1370\n",
       "catholique      1305\n",
       "publique         726\n",
       "inconnu          691\n",
       "privé            536\n",
       "autodidacte       44\n",
       "musulman          38\n",
       "kimbanguiste       5\n",
       "Name: SCHOOLSTATUS, dtype: int64"
      ]
     },
     "execution_count": 7,
     "metadata": {},
     "output_type": "execute_result"
    }
   ],
   "source": [
    "datasetInClean.SCHOOLSTATUS.value_counts()"
   ]
  },
  {
   "cell_type": "markdown",
   "metadata": {},
   "source": [
    "Nous pouvons maintenant combinner cette ensemble avec notre ensemble d'apprentissage de départ et ainsi continuer nore anlyse univarié poour les collones avce des varaibles qualitatives"
   ]
  },
  {
   "cell_type": "code",
   "execution_count": 49,
   "metadata": {
    "collapsed": true,
    "scrolled": true
   },
   "outputs": [],
   "source": [
    "datasetInClean.rename(columns={'OPTION':'OPTION_RIGHT'},inplace=True)"
   ]
  },
  {
   "cell_type": "code",
   "execution_count": 162,
   "metadata": {},
   "outputs": [
    {
     "data": {
      "text/plain": [
       "protestant      1370\n",
       "catholique      1305\n",
       "publique         726\n",
       "inconnu          691\n",
       "privé            536\n",
       "autodidacte       44\n",
       "musulman          38\n",
       "kimbanguiste       5\n",
       "Name: SCHOOLSTATUS, dtype: int64"
      ]
     },
     "execution_count": 162,
     "metadata": {},
     "output_type": "execute_result"
    }
   ],
   "source": [
    "datasetInClean.SCHOOLSTATUS.value_counts()"
   ]
  },
  {
   "cell_type": "code",
   "execution_count": 186,
   "metadata": {
    "collapsed": true
   },
   "outputs": [],
   "source": [
    "datasetInClean.drop('SCHOOLSTATUS',axis=1,inplace=True)"
   ]
  },
  {
   "cell_type": "markdown",
   "metadata": {},
   "source": [
    "Nous allons enfin continuer avec notre anlyser univarié pour les attribues nouvellement nettoyer "
   ]
  },
  {
   "cell_type": "code",
   "execution_count": 12,
   "metadata": {},
   "outputs": [
    {
     "data": {
      "text/html": [
       "<div>\n",
       "<table border=\"1\" class=\"dataframe\">\n",
       "  <thead>\n",
       "    <tr style=\"text-align: right;\">\n",
       "      <th></th>\n",
       "      <th>IDENTIFICATION</th>\n",
       "      <th>DIPLOMSECTION</th>\n",
       "      <th>DIPLOMOPTION</th>\n",
       "      <th>SCHOOL</th>\n",
       "      <th>SCHOOLSTATUS</th>\n",
       "      <th>SCHOOL_CORRECT</th>\n",
       "      <th>SCHOOL_RIGHT</th>\n",
       "      <th>OPTION_RIGHT</th>\n",
       "    </tr>\n",
       "  </thead>\n",
       "  <tbody>\n",
       "    <tr>\n",
       "      <th>0</th>\n",
       "      <td>3895.0</td>\n",
       "      <td>TECHN</td>\n",
       "      <td>ca</td>\n",
       "      <td>i zanner</td>\n",
       "      <td>protestant</td>\n",
       "      <td>zanner</td>\n",
       "      <td>zanner</td>\n",
       "      <td>commmerciale et adm</td>\n",
       "    </tr>\n",
       "  </tbody>\n",
       "</table>\n",
       "</div>"
      ],
      "text/plain": [
       "   IDENTIFICATION DIPLOMSECTION DIPLOMOPTION    SCHOOL SCHOOLSTATUS  \\\n",
       "0          3895.0         TECHN           ca  i zanner   protestant   \n",
       "\n",
       "  SCHOOL_CORRECT SCHOOL_RIGHT         OPTION_RIGHT  \n",
       "0         zanner       zanner  commmerciale et adm  "
      ]
     },
     "execution_count": 12,
     "metadata": {},
     "output_type": "execute_result"
    }
   ],
   "source": [
    "datasetInClean.loc[datasetInClean.IDENTIFICATION==3895]"
   ]
  },
  {
   "cell_type": "markdown",
   "metadata": {},
   "source": [
    "##### Attribue SCHOOLSTATUS"
   ]
  },
  {
   "cell_type": "code",
   "execution_count": 42,
   "metadata": {
    "scrolled": false
   },
   "outputs": [
    {
     "data": {
      "image/png": "[encoded data removed]",
      "text/plain": [
       "<matplotlib.figure.Figure at 0x10fa4f690>"
      ]
     },
     "metadata": {},
     "output_type": "display_data"
    }
   ],
   "source": [
    "plotCate('SCHOOLSTATUS',datasetInClean,size=(20,6))"
   ]
  },
  {
   "cell_type": "markdown",
   "metadata": {},
   "source": [
    "Dans cette figure nous pouvons remarquer aisement que 29% des étudiants proviennent des écoles dites protestantes , 27% viennent des écoles catholiques , 11% des écoles privé , 15 des écoles publiques\n",
    "mais aussi il ya des étudiants venant des autodidactes , ceux provenant des écoles musulmanes et kibanguistes mais en proportion vraiment negligeable"
   ]
  },
  {
   "cell_type": "markdown",
   "metadata": {
    "collapsed": true
   },
   "source": [
    "##### Attribue OPTIONRIGHT"
   ]
  },
  {
   "cell_type": "markdown",
   "metadata": {},
   "source": [
    "Nous allons maintenant nous attaquer à l'attribue option du diplome qui contient les valeurs de l'option du diplome de 'étudaint'"
   ]
  },
  {
   "cell_type": "markdown",
   "metadata": {},
   "source": [
    "Essayons de voir de plus pret combien des valeur distinctes il dispose "
   ]
  },
  {
   "cell_type": "code",
   "execution_count": 32,
   "metadata": {},
   "outputs": [
    {
     "data": {
      "text/plain": [
       "33"
      ]
     },
     "execution_count": 32,
     "metadata": {},
     "output_type": "execute_result"
    }
   ],
   "source": [
    "len(datasetInClean.OPTION_RIGHT.value_counts())"
   ]
  },
  {
   "cell_type": "markdown",
   "metadata": {},
   "source": [
    "Nous pouvons aisement remarquer que les étudiants de notre étude proviennent des 33 écoles differentes "
   ]
  },
  {
   "cell_type": "code",
   "execution_count": 43,
   "metadata": {
    "scrolled": false
   },
   "outputs": [
    {
     "data": {
      "image/png": "[encoded data removed]",
      "text/plain": [
       "<matplotlib.figure.Figure at 0x10d8d3f10>"
      ]
     },
     "metadata": {},
     "output_type": "display_data"
    }
   ],
   "source": [
    "plotCate('OPTION_RIGHT',datasetInClean.loc[datasetInClean.OPTION_RIGHT.isin(datasetInClean.OPTION_RIGHT.value_counts()[:17].index) ],size=(30,10),n=17)"
   ]
  },
  {
   "cell_type": "markdown",
   "metadata": {},
   "source": [
    "Dans cette figure nous pouvons remarquer que la majeure partie des étudiants de notre études proviennent de la section pedagogique avec enivoront 28% ensuite vienne la section commerciale et administrative avec 19% , suivent sociale avec 13%, scientifique bio-chimie avec 14 % ensuite viennent autres differentes options avec des valeurs inferieurs à 5%"
   ]
  },
  {
   "cell_type": "markdown",
   "metadata": {},
   "source": [
    "##### Attribut School"
   ]
  },
  {
   "cell_type": "markdown",
   "metadata": {},
   "source": [
    "cette attribue comprend les valeurs de l'ecole de provenance des nos finaliste combiné avec l'attribue school status il joue un role important dans notre étude."
   ]
  },
  {
   "cell_type": "markdown",
   "metadata": {},
   "source": [
    "voyons d'abord combien des valeurs differentes il comprend:"
   ]
  },
  {
   "cell_type": "code",
   "execution_count": 13,
   "metadata": {},
   "outputs": [
    {
     "data": {
      "text/plain": [
       "594"
      ]
     },
     "execution_count": 13,
     "metadata": {},
     "output_type": "execute_result"
    }
   ],
   "source": [
    "len(datasetInClean.SCHOOL_RIGHT.value_counts())"
   ]
  },
  {
   "cell_type": "markdown",
   "metadata": {},
   "source": [
    "nous pouvons aisement remarquer que les eleves proviennent de 594 écoles differentes dans l'image qui va suivre  nous allons visulaise les écoles les plus representées"
   ]
  },
  {
   "cell_type": "code",
   "execution_count": null,
   "metadata": {
    "collapsed": true
   },
   "outputs": [],
   "source": [
    "plotCate('SCHOOL_RIGHT',datasetInClean.loc[datasetInClean.SCHOOL_RIGHT.isin(datasetInClean.SCHOOL_RIGHT.value_counts()[:17].index) ],size=(30,5),n=17)"
   ]
  },
  {
   "cell_type": "markdown",
   "metadata": {},
   "source": [
    "Nous pouvons remarquer aisement que le top 10 des école de provenance est constituer de grandes écoles de la ville de Goma avec l'insititut metanoia et le college mwanga en tete de liste avec \n",
    "l'institut mwanga et metanoia en tete de liste avec 15%  chacun ensuite vienne l'institut bakanja avec 6% ensuite vienne maendelo, le lycée sainte ursule et l'institut de Goma  avec 6%, 5% et 5 % respectivement et d'autres éecole se partagent le reste de 50%."
   ]
  },
  {
   "cell_type": "markdown",
   "metadata": {},
   "source": [
    "Pour finaliser l'analyser univarrié des nos données en entrée nous allons jetter un coup d'oeil sur la colonne Fac qui contient la faculté choisie par l'etudiant."
   ]
  },
  {
   "cell_type": "code",
   "execution_count": 72,
   "metadata": {
    "collapsed": true,
    "scrolled": true
   },
   "outputs": [],
   "source": [
    "datasetInClean=pd.merge(datasetInClean,datasetOut[['IDENTIFICATION','FAC']],on='IDENTIFICATION')"
   ]
  },
  {
   "cell_type": "code",
   "execution_count": 8,
   "metadata": {},
   "outputs": [
    {
     "data": {
      "text/plain": [
       "Faculté des Sciences Économiques et de Gestion           1549\n",
       "Faculté des Sciences et Technologies Appliquées           903\n",
       "Faculté de Droit                                          896\n",
       "Faculté de Santé et Développement Communautaires          758\n",
       "Faculté de Médecine                                       242\n",
       "Faculté de Psychologie et des Sciences de l'Éducation     227\n",
       "Faculté de Théologie                                      140\n",
       "Name: FAC, dtype: int64"
      ]
     },
     "execution_count": 8,
     "metadata": {},
     "output_type": "execute_result"
    }
   ],
   "source": [
    "datasetInClean.FAC.value_counts()"
   ]
  },
  {
   "cell_type": "markdown",
   "metadata": {},
   "source": [
    "Nous allons remplacer les non des facultées par leurs abreviations respectifs"
   ]
  },
  {
   "cell_type": "code",
   "execution_count": 9,
   "metadata": {
    "scrolled": true
   },
   "outputs": [
    {
     "name": "stderr",
     "output_type": "stream",
     "text": [
      "/Users/espyMur/Desktop/Memory-WorkingDir/memoryVenv/lib/python2.7/site-packages/pandas/core/indexing.py:141: SettingWithCopyWarning: \n",
      "A value is trying to be set on a copy of a slice from a DataFrame\n",
      "\n",
      "See the caveats in the documentation: http://pandas.pydata.org/pandas-docs/stable/indexing.html#indexing-view-versus-copy\n",
      "  self._setitem_with_indexer(indexer, value)\n"
     ]
    }
   ],
   "source": [
    "datasetInClean.FAC.loc[datasetInClean.FAC==\"Faculté des Sciences Économiques et de Gestion\"]=\"FSEG\"\n",
    "datasetInClean.FAC.loc[datasetInClean.FAC==\"Faculté des Sciences et Technologies Appliquées\"]=\"FSTA\"\n",
    "datasetInClean.FAC.loc[datasetInClean.FAC==\"Faculté de Droit\"]=\"FD\"\n",
    "datasetInClean.FAC.loc[datasetInClean.FAC==\"Faculté de Santé et Développement Communautaires\"]=\"FSDC\"\n",
    "datasetInClean.FAC.loc[datasetInClean.FAC==\"Faculté de Médecine\"]=\"FM\"\n",
    "datasetInClean.FAC.loc[datasetInClean.FAC==\"Faculté de Psychologie et des Sciences de l'Éducation\"]=\"FPSE\"\n",
    "datasetInClean.FAC.loc[datasetInClean.FAC==\"Faculté de Théologie\"]=\"FT\""
   ]
  },
  {
   "cell_type": "code",
   "execution_count": null,
   "metadata": {
    "collapsed": true
   },
   "outputs": [],
   "source": []
  },
  {
   "cell_type": "code",
   "execution_count": 10,
   "metadata": {},
   "outputs": [
    {
     "data": {
      "text/plain": [
       "FSEG    1549\n",
       "FSTA     903\n",
       "FD       896\n",
       "FSDC     758\n",
       "FM       242\n",
       "FPSE     227\n",
       "FT       140\n",
       "Name: FAC, dtype: int64"
      ]
     },
     "execution_count": 10,
     "metadata": {},
     "output_type": "execute_result"
    }
   ],
   "source": [
    "datasetInClean.FAC.value_counts()"
   ]
  },
  {
   "cell_type": "code",
   "execution_count": 89,
   "metadata": {},
   "outputs": [
    {
     "data": {
      "image/png": "[encoded data removed]",
      "text/plain": [
       "<matplotlib.figure.Figure at 0x10ffdb8d0>"
      ]
     },
     "metadata": {},
     "output_type": "display_data"
    }
   ],
   "source": [
    "plotCate('FAC',datasetInClean,size=(30,5))"
   ]
  },
  {
   "cell_type": "markdown",
   "metadata": {},
   "source": [
    "Dans ce tableau nous remarquons la distribution des valeurs pour l'attribue faculté des étudiants:\n",
    "- FSGEG: 32,8%\n",
    "- FSTA : 19,153%\n",
    "- FD :19%\n",
    "- FSDC :16%\n",
    "- FM : 5%\n",
    "- FPSE : 4%\n",
    "- FT :3%"
   ]
  },
  {
   "cell_type": "markdown",
   "metadata": {},
   "source": [
    "Nous pouvons maintenant passer à l'analyse bi-varié "
   ]
  },
  {
   "cell_type": "markdown",
   "metadata": {},
   "source": [
    "####  Statistique Bivariée"
   ]
  },
  {
   "cell_type": "markdown",
   "metadata": {},
   "source": [
    "Dans cette partie nous allons nous allons effectué une analyse bivariée entre les attribues en entrée et les attribues en sortie , pour une premiere approche nous allons faire une analyse entre la faculté choisie et les differentes variables d'entres de notre ensemble d'apprentissage dans la seconde approche nous essayerons de le faire la meme chose pour le autres variables de sortie.\n",
    "voici le differentes combinaisons que nous allons effectuer:\n",
    "1. FAC-Diplome Province : Pour voir la relation entre la faculté et la province d'origine de l'etudiant\n",
    "2. FAC-DIPPOURCENTAGE: Pour voir la relation entre la faculté et la pourcentage obtenu à l'exetat\n",
    "3. FAC-AGE: Pour voir la relation entre l'age de l'etudiant et la FAC\n",
    "4. FAC-DIPLOMEOPTION: Pour voir la relation entre la faculté et l'option du diplome\n",
    "5. FAC-SEXE: Pour la relation avec le sexe des étudiants\n",
    "6. FAC-SCHOOL: pour la relation entre l'ecole de provenance  la fac\n",
    "7. FAC-SCOOLSTATUS : pour la relation entre le status de l'ecole de la FAC"
   ]
  },
  {
   "cell_type": "markdown",
   "metadata": {},
   "source": [
    "###### FACULTE DIPLOME PROVINCE "
   ]
  },
  {
   "cell_type": "markdown",
   "metadata": {},
   "source": [
    "1. Definition et Nature de la relation:\n",
    "    Nous allons essayer de decouvrir la relation existante entre la province de l'ecole et le choix de ma section\n",
    "2. Pour determiner le type nous allons utiliser le test de chi-carré qui nous permettra de trouver la force de la cette relation\n"
   ]
  },
  {
   "cell_type": "code",
   "execution_count": 4,
   "metadata": {
    "collapsed": true
   },
   "outputs": [],
   "source": [
    "# %load ChiSquareCal.py\n",
    "class ChiSquareCalc(object):\n",
    "    \"\"\"this class is designed to calculated and interpret the relationship between 2 categorials variables by computing the chi square test between them\n",
    "    you can find more on chi square test on this video https://www.youtube.com/watch?v=misMgRRV3jQ\n",
    "    it will use pandas , numpy ,searborn matplotlib , scipy\n",
    "    \"\"\"\n",
    "    def __init__(self, X,Y,dataset,**kwargs):\n",
    "        \"\"\"we will initailise the with 2 colums of a datafrme the input must be a data and columns names\"\"\"\n",
    "        if isinstance(dataset,pd.DataFrame) and isinstance(X,str)and isinstance(Y,str) and X in dataset.columns and Y in dataset.columns :\n",
    "            if operator.and_(operator.__eq__(dataset[X].dtypes, 'object'),operator.__eq__(dataset[Y].dtypes, 'object')):\n",
    "                self.dataset=dataset\n",
    "                self.X=dataset[X]\n",
    "                self.Y=dataset[Y]\n",
    "                self.contingency=pd.DataFrame()\n",
    "                self.c=0\n",
    "                self.p=0\n",
    "                self.dof=0\n",
    "                self.q=0.95 #lower tail probability\n",
    "                self.criticalValue=0\n",
    "            else:\n",
    "                raise TypeError('Class only deal wih categorial columns')\n",
    "        else:\n",
    "            raise TypeError('Columns names must be string and data must be a DataFrame')\n",
    "    def contengencyTable(self):\n",
    "        \"\"\"this method will return a contengency table of the 2 variables\"\"\"\n",
    "        self.contingency = pd.crosstab(self.X,self.Y)\n",
    "        return self.contingency\n",
    "    def chisquare(self):\n",
    "        \"\"\"this one will calculate the chi square value and return\n",
    "        q: chi square results\n",
    "        df: degree of freedom\n",
    "        p: probability\n",
    "        expexcted: excepected frequency table\n",
    "        \"\"\"\n",
    "        if (not self.contingency.empty):\n",
    "            self.c, self.p, self.dof, expected = chi2_contingency(self.contingency)\n",
    "            return pd.DataFrame(expected,columns=self.contingency.columns,index=self.contingency.index)\n",
    "        else:\n",
    "            raise ValueError('contingency table must be initialised')\n",
    "    def conclude(self,on):\n",
    "        \"\"\"\n",
    "        we can decide to conclude on chi square value(chi) or on p (p)value\n",
    "        Here is how we build the conclusion according to p value\n",
    "         Probability of 0: It indicates that both categorical variable are dependent\n",
    "         Probability of 1: It shows that both variables are independent.\n",
    "         Probability less than 0.05: It indicates that the relationship between the variables is significant at 95% confidence\n",
    "        And according to chi square value and df we use a ccritical value calculate with :\n",
    "        q:lower tail probability\n",
    "        df:degree of freedom\n",
    "         the conclusion is approving or rejecting a null hypothesis\n",
    "        \"\"\"\n",
    "        NulHyp='is no relationship between '+self.X+'and '+self.Y\n",
    "        self.criticalValue=scs.chi2.ppf(q = self.q, df =self.dof)\n",
    "        if on not in ['chi','p']:\n",
    "            raise ValueError('choose chi or p')\n",
    "        else:\n",
    "            if on=='chi':\n",
    "                if self.criticalValue > self.c:\n",
    "                    return 'Accepted : '+NulHyp\n",
    "                else:\n",
    "                    return 'null hypothesis is rejected : '+NulHyp\n",
    "            else:\n",
    "                if self.p==0:\n",
    "                    return ' It indicates that both categorical variable are dependent'\n",
    "                elif self.p==1:\n",
    "                    return 'It shows that both variables are independent'\n",
    "                elif self.p <(1-self.q):\n",
    "                    return 'It indicates that the relationship between the variables is significant at confidence of %s',self.q\n",
    "                else:\n",
    "                    return 'there is no relationship '\n",
    "    def DrawPlot(self,**kwargs):\n",
    "        \"\"\" and as for bonus you can draw plot to visualise the relationship \"\"\"\n",
    "        plt.figure(figsize= kwargs.get('size'))\n",
    "        plt.title('Distribution de ' )\n",
    "        plt.xlabel('Label')\n",
    "        ax=sns.countplot(hue=self.X,y=self.Y,data=self.dataset,orient=kwargs.get('orient'))\n",
    "        ax.set_xticklabels(ax.xaxis.get_majorticklabels(), rotation=45)\n",
    "        return ax\n",
    "        \n"
   ]
  },
  {
   "cell_type": "markdown",
   "metadata": {},
   "source": [
    "Notre hypothèse est la suivante est la suivante : il n'yas pas de relation etntre la province du diplome et la section coise"
   ]
  },
  {
   "cell_type": "markdown",
   "metadata": {},
   "source": [
    "Nous nous somme servie d'une  classe specialisé qui contient les methodes qui nous permettrons de conduire notre test statistique"
   ]
  },
  {
   "cell_type": "markdown",
   "metadata": {},
   "source": [
    "Prèmierement nous allons cherche la table de contigence qui nous montre comment nos valeurs se repartissent en terme des section"
   ]
  },
  {
   "cell_type": "code",
   "execution_count": 9,
   "metadata": {
    "collapsed": true
   },
   "outputs": [],
   "source": [
    "facProvinceChi2=ChiSquareCalc('FAC','SCHOOLPROVINCE',datasetInClean)"
   ]
  },
  {
   "cell_type": "code",
   "execution_count": 10,
   "metadata": {},
   "outputs": [
    {
     "data": {
      "text/html": [
       "<div>\n",
       "<table border=\"1\" class=\"dataframe\">\n",
       "  <thead>\n",
       "    <tr style=\"text-align: right;\">\n",
       "      <th>SCHOOLPROVINCE</th>\n",
       "      <th>BANDUNDU</th>\n",
       "      <th>BAS CONGO</th>\n",
       "      <th>EQUATEUR</th>\n",
       "      <th>K OR</th>\n",
       "      <th>KASAI OCCIDENTAL</th>\n",
       "      <th>KASAI ORIENTAL</th>\n",
       "      <th>KATANGA</th>\n",
       "      <th>KIGALI</th>\n",
       "      <th>KINSHASA</th>\n",
       "      <th>MANIEMA</th>\n",
       "      <th>NORD-KIVU</th>\n",
       "      <th>NYARUKENGE</th>\n",
       "      <th>ORIENTALE</th>\n",
       "      <th>OUEST</th>\n",
       "      <th>SUD-KIVU</th>\n",
       "      <th>inconnu</th>\n",
       "    </tr>\n",
       "    <tr>\n",
       "      <th>FAC</th>\n",
       "      <th></th>\n",
       "      <th></th>\n",
       "      <th></th>\n",
       "      <th></th>\n",
       "      <th></th>\n",
       "      <th></th>\n",
       "      <th></th>\n",
       "      <th></th>\n",
       "      <th></th>\n",
       "      <th></th>\n",
       "      <th></th>\n",
       "      <th></th>\n",
       "      <th></th>\n",
       "      <th></th>\n",
       "      <th></th>\n",
       "      <th></th>\n",
       "    </tr>\n",
       "  </thead>\n",
       "  <tbody>\n",
       "    <tr>\n",
       "      <th>FD</th>\n",
       "      <td>2</td>\n",
       "      <td>1</td>\n",
       "      <td>1</td>\n",
       "      <td>0</td>\n",
       "      <td>0</td>\n",
       "      <td>2</td>\n",
       "      <td>8</td>\n",
       "      <td>0</td>\n",
       "      <td>12</td>\n",
       "      <td>16</td>\n",
       "      <td>654</td>\n",
       "      <td>0</td>\n",
       "      <td>16</td>\n",
       "      <td>0</td>\n",
       "      <td>179</td>\n",
       "      <td>5</td>\n",
       "    </tr>\n",
       "    <tr>\n",
       "      <th>FM</th>\n",
       "      <td>0</td>\n",
       "      <td>0</td>\n",
       "      <td>0</td>\n",
       "      <td>0</td>\n",
       "      <td>0</td>\n",
       "      <td>0</td>\n",
       "      <td>2</td>\n",
       "      <td>0</td>\n",
       "      <td>5</td>\n",
       "      <td>1</td>\n",
       "      <td>217</td>\n",
       "      <td>0</td>\n",
       "      <td>0</td>\n",
       "      <td>1</td>\n",
       "      <td>16</td>\n",
       "      <td>0</td>\n",
       "    </tr>\n",
       "    <tr>\n",
       "      <th>FPSE</th>\n",
       "      <td>1</td>\n",
       "      <td>0</td>\n",
       "      <td>0</td>\n",
       "      <td>0</td>\n",
       "      <td>1</td>\n",
       "      <td>0</td>\n",
       "      <td>0</td>\n",
       "      <td>0</td>\n",
       "      <td>2</td>\n",
       "      <td>3</td>\n",
       "      <td>167</td>\n",
       "      <td>0</td>\n",
       "      <td>1</td>\n",
       "      <td>0</td>\n",
       "      <td>51</td>\n",
       "      <td>1</td>\n",
       "    </tr>\n",
       "    <tr>\n",
       "      <th>FSDC</th>\n",
       "      <td>6</td>\n",
       "      <td>0</td>\n",
       "      <td>0</td>\n",
       "      <td>0</td>\n",
       "      <td>1</td>\n",
       "      <td>2</td>\n",
       "      <td>4</td>\n",
       "      <td>2</td>\n",
       "      <td>15</td>\n",
       "      <td>4</td>\n",
       "      <td>596</td>\n",
       "      <td>0</td>\n",
       "      <td>23</td>\n",
       "      <td>1</td>\n",
       "      <td>101</td>\n",
       "      <td>3</td>\n",
       "    </tr>\n",
       "    <tr>\n",
       "      <th>FSEG</th>\n",
       "      <td>2</td>\n",
       "      <td>1</td>\n",
       "      <td>2</td>\n",
       "      <td>0</td>\n",
       "      <td>0</td>\n",
       "      <td>5</td>\n",
       "      <td>4</td>\n",
       "      <td>0</td>\n",
       "      <td>30</td>\n",
       "      <td>9</td>\n",
       "      <td>1302</td>\n",
       "      <td>0</td>\n",
       "      <td>24</td>\n",
       "      <td>0</td>\n",
       "      <td>160</td>\n",
       "      <td>10</td>\n",
       "    </tr>\n",
       "    <tr>\n",
       "      <th>FSTA</th>\n",
       "      <td>1</td>\n",
       "      <td>0</td>\n",
       "      <td>1</td>\n",
       "      <td>1</td>\n",
       "      <td>1</td>\n",
       "      <td>1</td>\n",
       "      <td>6</td>\n",
       "      <td>0</td>\n",
       "      <td>5</td>\n",
       "      <td>7</td>\n",
       "      <td>643</td>\n",
       "      <td>0</td>\n",
       "      <td>16</td>\n",
       "      <td>0</td>\n",
       "      <td>216</td>\n",
       "      <td>5</td>\n",
       "    </tr>\n",
       "    <tr>\n",
       "      <th>FT</th>\n",
       "      <td>0</td>\n",
       "      <td>0</td>\n",
       "      <td>0</td>\n",
       "      <td>0</td>\n",
       "      <td>0</td>\n",
       "      <td>0</td>\n",
       "      <td>0</td>\n",
       "      <td>0</td>\n",
       "      <td>1</td>\n",
       "      <td>1</td>\n",
       "      <td>121</td>\n",
       "      <td>1</td>\n",
       "      <td>3</td>\n",
       "      <td>0</td>\n",
       "      <td>13</td>\n",
       "      <td>0</td>\n",
       "    </tr>\n",
       "  </tbody>\n",
       "</table>\n",
       "</div>"
      ],
      "text/latex": [
       "\\centering{\\begin{tabular}{lrrrrrrrrrrrrrrrr}\n",
       "\\toprule\n",
       "SCHOOLPROVINCE &  BANDUNDU &  BAS CONGO &  EQUATEUR &  K OR &  KASAI OCCIDENTAL &  KASAI ORIENTAL &  KATANGA &  KIGALI &  KINSHASA &  MANIEMA &  NORD-KIVU &  NYARUKENGE &  ORIENTALE &  OUEST &  SUD-KIVU &  inconnu \\\\\n",
       "FAC  &           &            &           &       &                   &                 &          &         &           &          &            &             &            &        &           &          \\\\\n",
       "\\midrule\n",
       "FD   &         2 &          1 &         1 &     0 &                 0 &               2 &        8 &       0 &        12 &       16 &        654 &           0 &         16 &      0 &       179 &        5 \\\\\n",
       "FM   &         0 &          0 &         0 &     0 &                 0 &               0 &        2 &       0 &         5 &        1 &        217 &           0 &          0 &      1 &        16 &        0 \\\\\n",
       "FPSE &         1 &          0 &         0 &     0 &                 1 &               0 &        0 &       0 &         2 &        3 &        167 &           0 &          1 &      0 &        51 &        1 \\\\\n",
       "FSDC &         6 &          0 &         0 &     0 &                 1 &               2 &        4 &       2 &        15 &        4 &        596 &           0 &         23 &      1 &       101 &        3 \\\\\n",
       "FSEG &         2 &          1 &         2 &     0 &                 0 &               5 &        4 &       0 &        30 &        9 &       1302 &           0 &         24 &      0 &       160 &       10 \\\\\n",
       "FSTA &         1 &          0 &         1 &     1 &                 1 &               1 &        6 &       0 &         5 &        7 &        643 &           0 &         16 &      0 &       216 &        5 \\\\\n",
       "FT   &         0 &          0 &         0 &     0 &                 0 &               0 &        0 &       0 &         1 &        1 &        121 &           1 &          3 &      0 &        13 &        0 \\\\\n",
       "\\bottomrule\n",
       "\\end{tabular}\n",
       "}"
      ],
      "text/plain": [
       "SCHOOLPROVINCE  BANDUNDU  BAS CONGO  EQUATEUR  K OR  KASAI OCCIDENTAL  \\\n",
       "FAC                                                                     \n",
       "FD                     2          1         1     0                 0   \n",
       "FM                     0          0         0     0                 0   \n",
       "FPSE                   1          0         0     0                 1   \n",
       "FSDC                   6          0         0     0                 1   \n",
       "FSEG                   2          1         2     0                 0   \n",
       "FSTA                   1          0         1     1                 1   \n",
       "FT                     0          0         0     0                 0   \n",
       "\n",
       "SCHOOLPROVINCE  KASAI ORIENTAL  KATANGA  KIGALI  KINSHASA  MANIEMA  NORD-KIVU  \\\n",
       "FAC                                                                             \n",
       "FD                           2        8       0        12       16        654   \n",
       "FM                           0        2       0         5        1        217   \n",
       "FPSE                         0        0       0         2        3        167   \n",
       "FSDC                         2        4       2        15        4        596   \n",
       "FSEG                         5        4       0        30        9       1302   \n",
       "FSTA                         1        6       0         5        7        643   \n",
       "FT                           0        0       0         1        1        121   \n",
       "\n",
       "SCHOOLPROVINCE  NYARUKENGE  ORIENTALE  OUEST  SUD-KIVU  inconnu  \n",
       "FAC                                                              \n",
       "FD                       0         16      0       179        5  \n",
       "FM                       0          0      1        16        0  \n",
       "FPSE                     0          1      0        51        1  \n",
       "FSDC                     0         23      1       101        3  \n",
       "FSEG                     0         24      0       160       10  \n",
       "FSTA                     0         16      0       216        5  \n",
       "FT                       1          3      0        13        0  "
      ]
     },
     "execution_count": 10,
     "metadata": {},
     "output_type": "execute_result"
    }
   ],
   "source": [
    "facProvinceChi2.contengencyTable()"
   ]
  },
  {
   "cell_type": "code",
   "execution_count": 11,
   "metadata": {},
   "outputs": [
    {
     "data": {
      "text/html": [
       "<div>\n",
       "<table border=\"1\" class=\"dataframe\">\n",
       "  <thead>\n",
       "    <tr style=\"text-align: right;\">\n",
       "      <th>SCHOOLPROVINCE</th>\n",
       "      <th>BANDUNDU</th>\n",
       "      <th>BAS CONGO</th>\n",
       "      <th>EQUATEUR</th>\n",
       "      <th>K OR</th>\n",
       "      <th>KASAI OCCIDENTAL</th>\n",
       "      <th>KASAI ORIENTAL</th>\n",
       "      <th>KATANGA</th>\n",
       "      <th>KIGALI</th>\n",
       "      <th>KINSHASA</th>\n",
       "      <th>MANIEMA</th>\n",
       "      <th>NORD-KIVU</th>\n",
       "      <th>NYARUKENGE</th>\n",
       "      <th>ORIENTALE</th>\n",
       "      <th>OUEST</th>\n",
       "      <th>SUD-KIVU</th>\n",
       "      <th>inconnu</th>\n",
       "    </tr>\n",
       "    <tr>\n",
       "      <th>FAC</th>\n",
       "      <th></th>\n",
       "      <th></th>\n",
       "      <th></th>\n",
       "      <th></th>\n",
       "      <th></th>\n",
       "      <th></th>\n",
       "      <th></th>\n",
       "      <th></th>\n",
       "      <th></th>\n",
       "      <th></th>\n",
       "      <th></th>\n",
       "      <th></th>\n",
       "      <th></th>\n",
       "      <th></th>\n",
       "      <th></th>\n",
       "      <th></th>\n",
       "    </tr>\n",
       "  </thead>\n",
       "  <tbody>\n",
       "    <tr>\n",
       "      <th>FD</th>\n",
       "      <td>2.280382</td>\n",
       "      <td>0.380064</td>\n",
       "      <td>0.760127</td>\n",
       "      <td>0.190032</td>\n",
       "      <td>0.570095</td>\n",
       "      <td>1.900318</td>\n",
       "      <td>4.560764</td>\n",
       "      <td>0.380064</td>\n",
       "      <td>13.302227</td>\n",
       "      <td>7.791304</td>\n",
       "      <td>703.117709</td>\n",
       "      <td>0.190032</td>\n",
       "      <td>15.772641</td>\n",
       "      <td>0.380064</td>\n",
       "      <td>139.863415</td>\n",
       "      <td>4.560764</td>\n",
       "    </tr>\n",
       "    <tr>\n",
       "      <th>FM</th>\n",
       "      <td>0.615907</td>\n",
       "      <td>0.102651</td>\n",
       "      <td>0.205302</td>\n",
       "      <td>0.051326</td>\n",
       "      <td>0.153977</td>\n",
       "      <td>0.513256</td>\n",
       "      <td>1.231813</td>\n",
       "      <td>0.102651</td>\n",
       "      <td>3.592789</td>\n",
       "      <td>2.104348</td>\n",
       "      <td>189.904560</td>\n",
       "      <td>0.051326</td>\n",
       "      <td>4.260021</td>\n",
       "      <td>0.102651</td>\n",
       "      <td>37.775610</td>\n",
       "      <td>1.231813</td>\n",
       "    </tr>\n",
       "    <tr>\n",
       "      <th>FPSE</th>\n",
       "      <td>0.577731</td>\n",
       "      <td>0.096288</td>\n",
       "      <td>0.192577</td>\n",
       "      <td>0.048144</td>\n",
       "      <td>0.144433</td>\n",
       "      <td>0.481442</td>\n",
       "      <td>1.155461</td>\n",
       "      <td>0.096288</td>\n",
       "      <td>3.370095</td>\n",
       "      <td>1.973913</td>\n",
       "      <td>178.133616</td>\n",
       "      <td>0.048144</td>\n",
       "      <td>3.995970</td>\n",
       "      <td>0.096288</td>\n",
       "      <td>35.434146</td>\n",
       "      <td>1.155461</td>\n",
       "    </tr>\n",
       "    <tr>\n",
       "      <th>FSDC</th>\n",
       "      <td>1.929162</td>\n",
       "      <td>0.321527</td>\n",
       "      <td>0.643054</td>\n",
       "      <td>0.160764</td>\n",
       "      <td>0.482291</td>\n",
       "      <td>1.607635</td>\n",
       "      <td>3.858324</td>\n",
       "      <td>0.321527</td>\n",
       "      <td>11.253446</td>\n",
       "      <td>6.591304</td>\n",
       "      <td>594.825027</td>\n",
       "      <td>0.160764</td>\n",
       "      <td>13.343372</td>\n",
       "      <td>0.321527</td>\n",
       "      <td>118.321951</td>\n",
       "      <td>3.858324</td>\n",
       "    </tr>\n",
       "    <tr>\n",
       "      <th>FSEG</th>\n",
       "      <td>3.942312</td>\n",
       "      <td>0.657052</td>\n",
       "      <td>1.314104</td>\n",
       "      <td>0.328526</td>\n",
       "      <td>0.985578</td>\n",
       "      <td>3.285260</td>\n",
       "      <td>7.884624</td>\n",
       "      <td>0.657052</td>\n",
       "      <td>22.996819</td>\n",
       "      <td>13.469565</td>\n",
       "      <td>1215.546129</td>\n",
       "      <td>0.328526</td>\n",
       "      <td>27.267656</td>\n",
       "      <td>0.657052</td>\n",
       "      <td>241.795122</td>\n",
       "      <td>7.884624</td>\n",
       "    </tr>\n",
       "    <tr>\n",
       "      <th>FSTA</th>\n",
       "      <td>2.298197</td>\n",
       "      <td>0.383033</td>\n",
       "      <td>0.766066</td>\n",
       "      <td>0.191516</td>\n",
       "      <td>0.574549</td>\n",
       "      <td>1.915164</td>\n",
       "      <td>4.596394</td>\n",
       "      <td>0.383033</td>\n",
       "      <td>13.406151</td>\n",
       "      <td>7.852174</td>\n",
       "      <td>708.610817</td>\n",
       "      <td>0.191516</td>\n",
       "      <td>15.895864</td>\n",
       "      <td>0.383033</td>\n",
       "      <td>140.956098</td>\n",
       "      <td>4.596394</td>\n",
       "    </tr>\n",
       "    <tr>\n",
       "      <th>FT</th>\n",
       "      <td>0.356310</td>\n",
       "      <td>0.059385</td>\n",
       "      <td>0.118770</td>\n",
       "      <td>0.029692</td>\n",
       "      <td>0.089077</td>\n",
       "      <td>0.296925</td>\n",
       "      <td>0.712619</td>\n",
       "      <td>0.059385</td>\n",
       "      <td>2.078473</td>\n",
       "      <td>1.217391</td>\n",
       "      <td>109.862142</td>\n",
       "      <td>0.029692</td>\n",
       "      <td>2.464475</td>\n",
       "      <td>0.059385</td>\n",
       "      <td>21.853659</td>\n",
       "      <td>0.712619</td>\n",
       "    </tr>\n",
       "  </tbody>\n",
       "</table>\n",
       "</div>"
      ],
      "text/latex": [
       "\\centering{\\begin{tabular}{lrrrrrrrrrrrrrrrr}\n",
       "\\toprule\n",
       "SCHOOLPROVINCE &  BANDUNDU &  BAS CONGO &  EQUATEUR &      K OR &  KASAI OCCIDENTAL &  KASAI ORIENTAL &   KATANGA &    KIGALI &   KINSHASA &    MANIEMA &    NORD-KIVU &  NYARUKENGE &  ORIENTALE &     OUEST &    SUD-KIVU &   inconnu \\\\\n",
       "FAC  &           &            &           &           &                   &                 &           &           &            &            &              &             &            &           &             &           \\\\\n",
       "\\midrule\n",
       "FD   &  2.280382 &   0.380064 &  0.760127 &  0.190032 &          0.570095 &        1.900318 &  4.560764 &  0.380064 &  13.302227 &   7.791304 &   703.117709 &    0.190032 &  15.772641 &  0.380064 &  139.863415 &  4.560764 \\\\\n",
       "FM   &  0.615907 &   0.102651 &  0.205302 &  0.051326 &          0.153977 &        0.513256 &  1.231813 &  0.102651 &   3.592789 &   2.104348 &   189.904560 &    0.051326 &   4.260021 &  0.102651 &   37.775610 &  1.231813 \\\\\n",
       "FPSE &  0.577731 &   0.096288 &  0.192577 &  0.048144 &          0.144433 &        0.481442 &  1.155461 &  0.096288 &   3.370095 &   1.973913 &   178.133616 &    0.048144 &   3.995970 &  0.096288 &   35.434146 &  1.155461 \\\\\n",
       "FSDC &  1.929162 &   0.321527 &  0.643054 &  0.160764 &          0.482291 &        1.607635 &  3.858324 &  0.321527 &  11.253446 &   6.591304 &   594.825027 &    0.160764 &  13.343372 &  0.321527 &  118.321951 &  3.858324 \\\\\n",
       "FSEG &  3.942312 &   0.657052 &  1.314104 &  0.328526 &          0.985578 &        3.285260 &  7.884624 &  0.657052 &  22.996819 &  13.469565 &  1215.546129 &    0.328526 &  27.267656 &  0.657052 &  241.795122 &  7.884624 \\\\\n",
       "FSTA &  2.298197 &   0.383033 &  0.766066 &  0.191516 &          0.574549 &        1.915164 &  4.596394 &  0.383033 &  13.406151 &   7.852174 &   708.610817 &    0.191516 &  15.895864 &  0.383033 &  140.956098 &  4.596394 \\\\\n",
       "FT   &  0.356310 &   0.059385 &  0.118770 &  0.029692 &          0.089077 &        0.296925 &  0.712619 &  0.059385 &   2.078473 &   1.217391 &   109.862142 &    0.029692 &   2.464475 &  0.059385 &   21.853659 &  0.712619 \\\\\n",
       "\\bottomrule\n",
       "\\end{tabular}\n",
       "}"
      ],
      "text/plain": [
       "SCHOOLPROVINCE  BANDUNDU  BAS CONGO  EQUATEUR      K OR  KASAI OCCIDENTAL  \\\n",
       "FAC                                                                         \n",
       "FD              2.280382   0.380064  0.760127  0.190032          0.570095   \n",
       "FM              0.615907   0.102651  0.205302  0.051326          0.153977   \n",
       "FPSE            0.577731   0.096288  0.192577  0.048144          0.144433   \n",
       "FSDC            1.929162   0.321527  0.643054  0.160764          0.482291   \n",
       "FSEG            3.942312   0.657052  1.314104  0.328526          0.985578   \n",
       "FSTA            2.298197   0.383033  0.766066  0.191516          0.574549   \n",
       "FT              0.356310   0.059385  0.118770  0.029692          0.089077   \n",
       "\n",
       "SCHOOLPROVINCE  KASAI ORIENTAL   KATANGA    KIGALI   KINSHASA    MANIEMA  \\\n",
       "FAC                                                                        \n",
       "FD                    1.900318  4.560764  0.380064  13.302227   7.791304   \n",
       "FM                    0.513256  1.231813  0.102651   3.592789   2.104348   \n",
       "FPSE                  0.481442  1.155461  0.096288   3.370095   1.973913   \n",
       "FSDC                  1.607635  3.858324  0.321527  11.253446   6.591304   \n",
       "FSEG                  3.285260  7.884624  0.657052  22.996819  13.469565   \n",
       "FSTA                  1.915164  4.596394  0.383033  13.406151   7.852174   \n",
       "FT                    0.296925  0.712619  0.059385   2.078473   1.217391   \n",
       "\n",
       "SCHOOLPROVINCE    NORD-KIVU  NYARUKENGE  ORIENTALE     OUEST    SUD-KIVU  \\\n",
       "FAC                                                                        \n",
       "FD               703.117709    0.190032  15.772641  0.380064  139.863415   \n",
       "FM               189.904560    0.051326   4.260021  0.102651   37.775610   \n",
       "FPSE             178.133616    0.048144   3.995970  0.096288   35.434146   \n",
       "FSDC             594.825027    0.160764  13.343372  0.321527  118.321951   \n",
       "FSEG            1215.546129    0.328526  27.267656  0.657052  241.795122   \n",
       "FSTA             708.610817    0.191516  15.895864  0.383033  140.956098   \n",
       "FT               109.862142    0.029692   2.464475  0.059385   21.853659   \n",
       "\n",
       "SCHOOLPROVINCE   inconnu  \n",
       "FAC                       \n",
       "FD              4.560764  \n",
       "FM              1.231813  \n",
       "FPSE            1.155461  \n",
       "FSDC            3.858324  \n",
       "FSEG            7.884624  \n",
       "FSTA            4.596394  \n",
       "FT              0.712619  "
      ]
     },
     "execution_count": 11,
     "metadata": {},
     "output_type": "execute_result"
    }
   ],
   "source": [
    "facProvinceChi2.chisquare()"
   ]
  },
  {
   "cell_type": "markdown",
   "metadata": {},
   "source": [
    "Dans ces 2 tableau nous avons les differentes tables l'une c'est pour les valleurs observées et l'autre c'est pour les valeurs attendu\n",
    "ainsi avec ces valeurs nous pouvons trouver la valeur du test statistique chi-carrée ensuite la comparée avec notre valeur critique et ensuiste verifier si nous pouvons confirmé ou infimé notre hypothèse nulle"
   ]
  },
  {
   "cell_type": "code",
   "execution_count": 12,
   "metadata": {},
   "outputs": [
    {
     "data": {
      "text/plain": [
       "90"
      ]
     },
     "execution_count": 12,
     "metadata": {},
     "output_type": "execute_result"
    }
   ],
   "source": [
    "facProvinceChi2.dof"
   ]
  },
  {
   "cell_type": "code",
   "execution_count": 15,
   "metadata": {},
   "outputs": [
    {
     "data": {
      "text/plain": [
       "113.1452701425554"
      ]
     },
     "execution_count": 15,
     "metadata": {},
     "output_type": "execute_result"
    }
   ],
   "source": [
    "facProvinceChi2.criticalValue"
   ]
  },
  {
   "cell_type": "code",
   "execution_count": 16,
   "metadata": {},
   "outputs": [
    {
     "data": {
      "text/plain": [
       "256.44151382725215"
      ]
     },
     "execution_count": 16,
     "metadata": {},
     "output_type": "execute_result"
    }
   ],
   "source": [
    "facProvinceChi2.c"
   ]
  },
  {
   "cell_type": "code",
   "execution_count": 14,
   "metadata": {},
   "outputs": [
    {
     "data": {
      "text/plain": [
       "('It indicates that the relationship between the variables is significant at confidence of %s',\n",
       " 0.95)"
      ]
     },
     "execution_count": 14,
     "metadata": {},
     "output_type": "execute_result"
    }
   ],
   "source": [
    "facProvinceChi2.conclude(on='p')"
   ]
  },
  {
   "cell_type": "code",
   "execution_count": 125,
   "metadata": {},
   "outputs": [
    {
     "data": {
      "text/plain": [
       "113.1452701425554"
      ]
     },
     "execution_count": 125,
     "metadata": {},
     "output_type": "execute_result"
    }
   ],
   "source": [
    "facProvinceChi2.criticalValue"
   ]
  },
  {
   "cell_type": "markdown",
   "metadata": {},
   "source": [
    "Notre valeur critique est de 113,14"
   ]
  },
  {
   "cell_type": "markdown",
   "metadata": {},
   "source": [
    "et notre valeur du test statistique est donnée par :"
   ]
  },
  {
   "cell_type": "markdown",
   "metadata": {},
   "source": [
    "lorque nous comparons ces 2 valeurs nous remarquons que notre valeur de chi2 est superieur à notre valeur critique et tombe dans la region de rejet de notre hypothèse nulle et ainsi celle est rejetée et ainsi nou concluons avec 95% de certitude que notre hypothèse alternative est vrai: il ya une relation entre la province et la faculté en d'autre terme ayant un nombre des  étudiant venant d'une province nous pouvons predire la faculté choisie."
   ]
  },
  {
   "cell_type": "markdown",
   "metadata": {},
   "source": [
    "Mais cette relation est à prendre avec reserve car les données sont inegalement repartie entre les provinces!"
   ]
  },
  {
   "cell_type": "markdown",
   "metadata": {},
   "source": [
    "Nous pouvons remarquer les résultat des nos analyser dans cette figure."
   ]
  },
  {
   "cell_type": "code",
   "execution_count": 18,
   "metadata": {},
   "outputs": [
    {
     "data": {
      "text/plain": [
       "<matplotlib.axes._subplots.AxesSubplot at 0x10ae1bc90>"
      ]
     },
     "execution_count": 18,
     "metadata": {},
     "output_type": "execute_result"
    },
    {
     "data": {
      "image/png": "[encoded data removed]",
      "text/plain": [
       "<matplotlib.figure.Figure at 0x10ae88390>"
      ]
     },
     "metadata": {},
     "output_type": "display_data"
    }
   ],
   "source": [
    "facProvinceChi2.DrawPlot()"
   ]
  },
  {
   "cell_type": "markdown",
   "metadata": {},
   "source": [
    "###### FACULTE DIPLOMEOPTION"
   ]
  },
  {
   "cell_type": "markdown",
   "metadata": {},
   "source": [
    "nous allons refaire la meme analyse que pour le point  precedant!!"
   ]
  },
  {
   "cell_type": "code",
   "execution_count": 17,
   "metadata": {
    "collapsed": true
   },
   "outputs": [],
   "source": [
    "facOptionChi2=ChiSquareCalc('FAC','OPTION_RIGHT',datasetInClean)"
   ]
  },
  {
   "cell_type": "code",
   "execution_count": 20,
   "metadata": {
    "scrolled": true
   },
   "outputs": [
    {
     "data": {
      "text/html": [
       "<div>\n",
       "<table border=\"1\" class=\"dataframe\">\n",
       "  <thead>\n",
       "    <tr style=\"text-align: right;\">\n",
       "      <th>OPTION_RIGHT</th>\n",
       "      <th>agrecole</th>\n",
       "      <th>agronomie</th>\n",
       "      <th>batiment</th>\n",
       "      <th>bio-chimie</th>\n",
       "      <th>commerciale informatique</th>\n",
       "      <th>commmerciale et adm</th>\n",
       "      <th>construction</th>\n",
       "      <th>coupe couture</th>\n",
       "      <th>diet</th>\n",
       "      <th>economie</th>\n",
       "      <th>...</th>\n",
       "      <th>machine outil</th>\n",
       "      <th>math-physique</th>\n",
       "      <th>mec gene</th>\n",
       "      <th>mecanique machines outils</th>\n",
       "      <th>nutr</th>\n",
       "      <th>pedagogie</th>\n",
       "      <th>relations publiques</th>\n",
       "      <th>secretariat</th>\n",
       "      <th>sociale</th>\n",
       "      <th>vétérinaire</th>\n",
       "    </tr>\n",
       "    <tr>\n",
       "      <th>FAC</th>\n",
       "      <th></th>\n",
       "      <th></th>\n",
       "      <th></th>\n",
       "      <th></th>\n",
       "      <th></th>\n",
       "      <th></th>\n",
       "      <th></th>\n",
       "      <th></th>\n",
       "      <th></th>\n",
       "      <th></th>\n",
       "      <th></th>\n",
       "      <th></th>\n",
       "      <th></th>\n",
       "      <th></th>\n",
       "      <th></th>\n",
       "      <th></th>\n",
       "      <th></th>\n",
       "      <th></th>\n",
       "      <th></th>\n",
       "      <th></th>\n",
       "      <th></th>\n",
       "    </tr>\n",
       "  </thead>\n",
       "  <tbody>\n",
       "    <tr>\n",
       "      <th>FD</th>\n",
       "      <td>1</td>\n",
       "      <td>0</td>\n",
       "      <td>0</td>\n",
       "      <td>28</td>\n",
       "      <td>12</td>\n",
       "      <td>62</td>\n",
       "      <td>0</td>\n",
       "      <td>3</td>\n",
       "      <td>0</td>\n",
       "      <td>1</td>\n",
       "      <td>...</td>\n",
       "      <td>0</td>\n",
       "      <td>10</td>\n",
       "      <td>3</td>\n",
       "      <td>0</td>\n",
       "      <td>1</td>\n",
       "      <td>327</td>\n",
       "      <td>0</td>\n",
       "      <td>0</td>\n",
       "      <td>169</td>\n",
       "      <td>0</td>\n",
       "    </tr>\n",
       "    <tr>\n",
       "      <th>FM</th>\n",
       "      <td>1</td>\n",
       "      <td>1</td>\n",
       "      <td>0</td>\n",
       "      <td>111</td>\n",
       "      <td>4</td>\n",
       "      <td>5</td>\n",
       "      <td>0</td>\n",
       "      <td>0</td>\n",
       "      <td>0</td>\n",
       "      <td>0</td>\n",
       "      <td>...</td>\n",
       "      <td>0</td>\n",
       "      <td>13</td>\n",
       "      <td>0</td>\n",
       "      <td>0</td>\n",
       "      <td>14</td>\n",
       "      <td>48</td>\n",
       "      <td>0</td>\n",
       "      <td>1</td>\n",
       "      <td>27</td>\n",
       "      <td>4</td>\n",
       "    </tr>\n",
       "    <tr>\n",
       "      <th>FPSE</th>\n",
       "      <td>0</td>\n",
       "      <td>0</td>\n",
       "      <td>0</td>\n",
       "      <td>4</td>\n",
       "      <td>0</td>\n",
       "      <td>2</td>\n",
       "      <td>0</td>\n",
       "      <td>2</td>\n",
       "      <td>0</td>\n",
       "      <td>0</td>\n",
       "      <td>...</td>\n",
       "      <td>0</td>\n",
       "      <td>2</td>\n",
       "      <td>0</td>\n",
       "      <td>0</td>\n",
       "      <td>0</td>\n",
       "      <td>189</td>\n",
       "      <td>0</td>\n",
       "      <td>0</td>\n",
       "      <td>16</td>\n",
       "      <td>0</td>\n",
       "    </tr>\n",
       "    <tr>\n",
       "      <th>FSDC</th>\n",
       "      <td>1</td>\n",
       "      <td>0</td>\n",
       "      <td>0</td>\n",
       "      <td>117</td>\n",
       "      <td>1</td>\n",
       "      <td>31</td>\n",
       "      <td>0</td>\n",
       "      <td>10</td>\n",
       "      <td>2</td>\n",
       "      <td>0</td>\n",
       "      <td>...</td>\n",
       "      <td>0</td>\n",
       "      <td>11</td>\n",
       "      <td>0</td>\n",
       "      <td>0</td>\n",
       "      <td>47</td>\n",
       "      <td>290</td>\n",
       "      <td>0</td>\n",
       "      <td>0</td>\n",
       "      <td>187</td>\n",
       "      <td>5</td>\n",
       "    </tr>\n",
       "    <tr>\n",
       "      <th>FSEG</th>\n",
       "      <td>1</td>\n",
       "      <td>0</td>\n",
       "      <td>1</td>\n",
       "      <td>156</td>\n",
       "      <td>63</td>\n",
       "      <td>724</td>\n",
       "      <td>3</td>\n",
       "      <td>4</td>\n",
       "      <td>0</td>\n",
       "      <td>1</td>\n",
       "      <td>...</td>\n",
       "      <td>0</td>\n",
       "      <td>42</td>\n",
       "      <td>2</td>\n",
       "      <td>0</td>\n",
       "      <td>6</td>\n",
       "      <td>270</td>\n",
       "      <td>1</td>\n",
       "      <td>5</td>\n",
       "      <td>184</td>\n",
       "      <td>1</td>\n",
       "    </tr>\n",
       "    <tr>\n",
       "      <th>FSTA</th>\n",
       "      <td>5</td>\n",
       "      <td>2</td>\n",
       "      <td>2</td>\n",
       "      <td>244</td>\n",
       "      <td>11</td>\n",
       "      <td>59</td>\n",
       "      <td>48</td>\n",
       "      <td>0</td>\n",
       "      <td>0</td>\n",
       "      <td>0</td>\n",
       "      <td>...</td>\n",
       "      <td>7</td>\n",
       "      <td>149</td>\n",
       "      <td>64</td>\n",
       "      <td>11</td>\n",
       "      <td>1</td>\n",
       "      <td>114</td>\n",
       "      <td>0</td>\n",
       "      <td>2</td>\n",
       "      <td>51</td>\n",
       "      <td>0</td>\n",
       "    </tr>\n",
       "    <tr>\n",
       "      <th>FT</th>\n",
       "      <td>0</td>\n",
       "      <td>1</td>\n",
       "      <td>0</td>\n",
       "      <td>6</td>\n",
       "      <td>0</td>\n",
       "      <td>10</td>\n",
       "      <td>2</td>\n",
       "      <td>0</td>\n",
       "      <td>0</td>\n",
       "      <td>0</td>\n",
       "      <td>...</td>\n",
       "      <td>0</td>\n",
       "      <td>4</td>\n",
       "      <td>0</td>\n",
       "      <td>0</td>\n",
       "      <td>3</td>\n",
       "      <td>90</td>\n",
       "      <td>0</td>\n",
       "      <td>0</td>\n",
       "      <td>13</td>\n",
       "      <td>1</td>\n",
       "    </tr>\n",
       "  </tbody>\n",
       "</table>\n",
       "<p>7 rows × 30 columns</p>\n",
       "</div>"
      ],
      "text/latex": [
       "\\centering{\\begin{tabular}{lrrrrrrrrrrrrrrrrrrrrrrrrrrrrrr}\n",
       "\\toprule\n",
       "OPTION\\_RIGHT &  agrecole &  agronomie &  batiment &  bio-chimie &  commerciale informatique &  commmerciale et adm &  construction &  coupe couture &  diet &  economie &  elec &  elec indust &  electronique générale &  fdf &  hospitalière &  hotesse d'acceuil &  imprimerie &  inconnu &  industrielle &  latin philo &  machine outil &  math-physique &  mec gene &  mecanique machines outils &  nutr &  pedagogie &  relations publiques &  secretariat &  sociale &  vétérinaire \\\\\n",
       "FAC  &           &            &           &             &                           &                      &               &                &       &           &       &              &                        &      &               &                    &             &          &               &              &                &                &           &                            &       &            &                      &              &          &              \\\\\n",
       "\\midrule\n",
       "FD   &         1 &          0 &         0 &          28 &                        12 &                   62 &             0 &              3 &     0 &         1 &     0 &            1 &                      1 &    1 &             0 &                  1 &           0 &        4 &             0 &          271 &              0 &             10 &         3 &                          0 &     1 &        327 &                    0 &            0 &      169 &            0 \\\\\n",
       "FM   &         1 &          1 &         0 &         111 &                         4 &                    5 &             0 &              0 &     0 &         0 &     0 &            1 &                      0 &    0 &             0 &                  0 &           0 &        0 &             0 &           12 &              0 &             13 &         0 &                          0 &    14 &         48 &                    0 &            1 &       27 &            4 \\\\\n",
       "FPSE &         0 &          0 &         0 &           4 &                         0 &                    2 &             0 &              2 &     0 &         0 &     0 &            0 &                      0 &    0 &             0 &                  0 &           0 &        0 &             0 &           12 &              0 &              2 &         0 &                          0 &     0 &        189 &                    0 &            0 &       16 &            0 \\\\\n",
       "FSDC &         1 &          0 &         0 &         117 &                         1 &                   31 &             0 &             10 &     2 &         0 &     0 &            0 &                      0 &    0 &             3 &                  1 &           0 &        5 &             0 &           47 &              0 &             11 &         0 &                          0 &    47 &        290 &                    0 &            0 &      187 &            5 \\\\\n",
       "FSEG &         1 &          0 &         1 &         156 &                        63 &                  724 &             3 &              4 &     0 &         1 &     2 &            2 &                      0 &    0 &             0 &                  1 &           0 &        3 &             0 &           77 &              0 &             42 &         2 &                          0 &     6 &        270 &                    1 &            5 &      184 &            1 \\\\\n",
       "FSTA &         5 &          2 &         2 &         244 &                        11 &                   59 &            48 &              0 &     0 &         0 &    45 &           46 &                     15 &    0 &             0 &                  1 &           1 &        4 &             1 &           20 &              7 &            149 &        64 &                         11 &     1 &        114 &                    0 &            2 &       51 &            0 \\\\\n",
       "FT   &         0 &          1 &         0 &           6 &                         0 &                   10 &             2 &              0 &     0 &         0 &     0 &            0 &                      0 &    0 &             0 &                  3 &           0 &        0 &             0 &            7 &              0 &              4 &         0 &                          0 &     3 &         90 &                    0 &            0 &       13 &            1 \\\\\n",
       "\\bottomrule\n",
       "\\end{tabular}\n",
       "}"
      ],
      "text/plain": [
       "OPTION_RIGHT  agrecole  agronomie  batiment  bio-chimie  \\\n",
       "FAC                                                       \n",
       "FD                   1          0         0          28   \n",
       "FM                   1          1         0         111   \n",
       "FPSE                 0          0         0           4   \n",
       "FSDC                 1          0         0         117   \n",
       "FSEG                 1          0         1         156   \n",
       "FSTA                 5          2         2         244   \n",
       "FT                   0          1         0           6   \n",
       "\n",
       "OPTION_RIGHT  commerciale informatique  commmerciale et adm  construction  \\\n",
       "FAC                                                                         \n",
       "FD                                  12                   62             0   \n",
       "FM                                   4                    5             0   \n",
       "FPSE                                 0                    2             0   \n",
       "FSDC                                 1                   31             0   \n",
       "FSEG                                63                  724             3   \n",
       "FSTA                                11                   59            48   \n",
       "FT                                   0                   10             2   \n",
       "\n",
       "OPTION_RIGHT  coupe couture  diet  economie     ...       machine outil  \\\n",
       "FAC                                             ...                       \n",
       "FD                        3     0         1     ...                   0   \n",
       "FM                        0     0         0     ...                   0   \n",
       "FPSE                      2     0         0     ...                   0   \n",
       "FSDC                     10     2         0     ...                   0   \n",
       "FSEG                      4     0         1     ...                   0   \n",
       "FSTA                      0     0         0     ...                   7   \n",
       "FT                        0     0         0     ...                   0   \n",
       "\n",
       "OPTION_RIGHT  math-physique  mec gene  mecanique machines outils  nutr  \\\n",
       "FAC                                                                      \n",
       "FD                       10         3                          0     1   \n",
       "FM                       13         0                          0    14   \n",
       "FPSE                      2         0                          0     0   \n",
       "FSDC                     11         0                          0    47   \n",
       "FSEG                     42         2                          0     6   \n",
       "FSTA                    149        64                         11     1   \n",
       "FT                        4         0                          0     3   \n",
       "\n",
       "OPTION_RIGHT  pedagogie  relations publiques  secretariat  sociale  \\\n",
       "FAC                                                                  \n",
       "FD                  327                    0            0      169   \n",
       "FM                   48                    0            1       27   \n",
       "FPSE                189                    0            0       16   \n",
       "FSDC                290                    0            0      187   \n",
       "FSEG                270                    1            5      184   \n",
       "FSTA                114                    0            2       51   \n",
       "FT                   90                    0            0       13   \n",
       "\n",
       "OPTION_RIGHT  vétérinaire  \n",
       "FAC                        \n",
       "FD                      0  \n",
       "FM                      4  \n",
       "FPSE                    0  \n",
       "FSDC                    5  \n",
       "FSEG                    1  \n",
       "FSTA                    0  \n",
       "FT                      1  \n",
       "\n",
       "[7 rows x 30 columns]"
      ]
     },
     "execution_count": 20,
     "metadata": {},
     "output_type": "execute_result"
    }
   ],
   "source": [
    "facOptionChi2.contengencyTable()"
   ]
  },
  {
   "cell_type": "code",
   "execution_count": 21,
   "metadata": {},
   "outputs": [
    {
     "data": {
      "text/html": [
       "<div>\n",
       "<table border=\"1\" class=\"dataframe\">\n",
       "  <thead>\n",
       "    <tr style=\"text-align: right;\">\n",
       "      <th>OPTION_RIGHT</th>\n",
       "      <th>agrecole</th>\n",
       "      <th>agronomie</th>\n",
       "      <th>batiment</th>\n",
       "      <th>bio-chimie</th>\n",
       "      <th>commerciale informatique</th>\n",
       "      <th>commmerciale et adm</th>\n",
       "      <th>construction</th>\n",
       "      <th>coupe couture</th>\n",
       "      <th>diet</th>\n",
       "      <th>economie</th>\n",
       "      <th>...</th>\n",
       "      <th>machine outil</th>\n",
       "      <th>math-physique</th>\n",
       "      <th>mec gene</th>\n",
       "      <th>mecanique machines outils</th>\n",
       "      <th>nutr</th>\n",
       "      <th>pedagogie</th>\n",
       "      <th>relations publiques</th>\n",
       "      <th>secretariat</th>\n",
       "      <th>sociale</th>\n",
       "      <th>vétérinaire</th>\n",
       "    </tr>\n",
       "    <tr>\n",
       "      <th>FAC</th>\n",
       "      <th></th>\n",
       "      <th></th>\n",
       "      <th></th>\n",
       "      <th></th>\n",
       "      <th></th>\n",
       "      <th></th>\n",
       "      <th></th>\n",
       "      <th></th>\n",
       "      <th></th>\n",
       "      <th></th>\n",
       "      <th></th>\n",
       "      <th></th>\n",
       "      <th></th>\n",
       "      <th></th>\n",
       "      <th></th>\n",
       "      <th></th>\n",
       "      <th></th>\n",
       "      <th></th>\n",
       "      <th></th>\n",
       "      <th></th>\n",
       "      <th></th>\n",
       "    </tr>\n",
       "  </thead>\n",
       "  <tbody>\n",
       "    <tr>\n",
       "      <th>FD</th>\n",
       "      <td>1.710286</td>\n",
       "      <td>0.760127</td>\n",
       "      <td>0.570095</td>\n",
       "      <td>126.561188</td>\n",
       "      <td>17.292895</td>\n",
       "      <td>169.698409</td>\n",
       "      <td>10.071686</td>\n",
       "      <td>3.610604</td>\n",
       "      <td>0.380064</td>\n",
       "      <td>0.380064</td>\n",
       "      <td>...</td>\n",
       "      <td>1.330223</td>\n",
       "      <td>43.897349</td>\n",
       "      <td>13.112195</td>\n",
       "      <td>2.090350</td>\n",
       "      <td>13.682291</td>\n",
       "      <td>252.362248</td>\n",
       "      <td>0.190032</td>\n",
       "      <td>1.520255</td>\n",
       "      <td>122.950583</td>\n",
       "      <td>2.090350</td>\n",
       "    </tr>\n",
       "    <tr>\n",
       "      <th>FM</th>\n",
       "      <td>0.461930</td>\n",
       "      <td>0.205302</td>\n",
       "      <td>0.153977</td>\n",
       "      <td>34.182821</td>\n",
       "      <td>4.670626</td>\n",
       "      <td>45.833722</td>\n",
       "      <td>2.720255</td>\n",
       "      <td>0.975186</td>\n",
       "      <td>0.102651</td>\n",
       "      <td>0.102651</td>\n",
       "      <td>...</td>\n",
       "      <td>0.359279</td>\n",
       "      <td>11.856204</td>\n",
       "      <td>3.541463</td>\n",
       "      <td>0.564581</td>\n",
       "      <td>3.695440</td>\n",
       "      <td>68.160339</td>\n",
       "      <td>0.051326</td>\n",
       "      <td>0.410604</td>\n",
       "      <td>33.207635</td>\n",
       "      <td>0.564581</td>\n",
       "    </tr>\n",
       "    <tr>\n",
       "      <th>FPSE</th>\n",
       "      <td>0.433298</td>\n",
       "      <td>0.192577</td>\n",
       "      <td>0.144433</td>\n",
       "      <td>32.064051</td>\n",
       "      <td>4.381124</td>\n",
       "      <td>42.992789</td>\n",
       "      <td>2.551644</td>\n",
       "      <td>0.914740</td>\n",
       "      <td>0.096288</td>\n",
       "      <td>0.096288</td>\n",
       "      <td>...</td>\n",
       "      <td>0.337010</td>\n",
       "      <td>11.121315</td>\n",
       "      <td>3.321951</td>\n",
       "      <td>0.529586</td>\n",
       "      <td>3.466384</td>\n",
       "      <td>63.935525</td>\n",
       "      <td>0.048144</td>\n",
       "      <td>0.385154</td>\n",
       "      <td>31.149311</td>\n",
       "      <td>0.529586</td>\n",
       "    </tr>\n",
       "    <tr>\n",
       "      <th>FSDC</th>\n",
       "      <td>1.446872</td>\n",
       "      <td>0.643054</td>\n",
       "      <td>0.482291</td>\n",
       "      <td>107.068505</td>\n",
       "      <td>14.629480</td>\n",
       "      <td>143.561824</td>\n",
       "      <td>8.520467</td>\n",
       "      <td>3.054507</td>\n",
       "      <td>0.321527</td>\n",
       "      <td>0.321527</td>\n",
       "      <td>...</td>\n",
       "      <td>1.125345</td>\n",
       "      <td>37.136373</td>\n",
       "      <td>11.092683</td>\n",
       "      <td>1.768399</td>\n",
       "      <td>11.574973</td>\n",
       "      <td>213.493955</td>\n",
       "      <td>0.160764</td>\n",
       "      <td>1.286108</td>\n",
       "      <td>104.013998</td>\n",
       "      <td>1.768399</td>\n",
       "    </tr>\n",
       "    <tr>\n",
       "      <th>FSEG</th>\n",
       "      <td>2.956734</td>\n",
       "      <td>1.314104</td>\n",
       "      <td>0.985578</td>\n",
       "      <td>218.798303</td>\n",
       "      <td>29.895864</td>\n",
       "      <td>293.373701</td>\n",
       "      <td>17.411877</td>\n",
       "      <td>6.241994</td>\n",
       "      <td>0.657052</td>\n",
       "      <td>0.657052</td>\n",
       "      <td>...</td>\n",
       "      <td>2.299682</td>\n",
       "      <td>75.889502</td>\n",
       "      <td>22.668293</td>\n",
       "      <td>3.613786</td>\n",
       "      <td>23.653871</td>\n",
       "      <td>436.282503</td>\n",
       "      <td>0.328526</td>\n",
       "      <td>2.628208</td>\n",
       "      <td>212.556310</td>\n",
       "      <td>3.613786</td>\n",
       "    </tr>\n",
       "    <tr>\n",
       "      <th>FSTA</th>\n",
       "      <td>1.723648</td>\n",
       "      <td>0.766066</td>\n",
       "      <td>0.574549</td>\n",
       "      <td>127.549947</td>\n",
       "      <td>17.427996</td>\n",
       "      <td>171.024178</td>\n",
       "      <td>10.150371</td>\n",
       "      <td>3.638812</td>\n",
       "      <td>0.383033</td>\n",
       "      <td>0.383033</td>\n",
       "      <td>...</td>\n",
       "      <td>1.340615</td>\n",
       "      <td>44.240297</td>\n",
       "      <td>13.214634</td>\n",
       "      <td>2.106681</td>\n",
       "      <td>13.789183</td>\n",
       "      <td>254.333828</td>\n",
       "      <td>0.191516</td>\n",
       "      <td>1.532131</td>\n",
       "      <td>123.911135</td>\n",
       "      <td>2.106681</td>\n",
       "    </tr>\n",
       "    <tr>\n",
       "      <th>FT</th>\n",
       "      <td>0.267232</td>\n",
       "      <td>0.118770</td>\n",
       "      <td>0.089077</td>\n",
       "      <td>19.775186</td>\n",
       "      <td>2.702015</td>\n",
       "      <td>26.515376</td>\n",
       "      <td>1.573701</td>\n",
       "      <td>0.564157</td>\n",
       "      <td>0.059385</td>\n",
       "      <td>0.059385</td>\n",
       "      <td>...</td>\n",
       "      <td>0.207847</td>\n",
       "      <td>6.858961</td>\n",
       "      <td>2.048780</td>\n",
       "      <td>0.326617</td>\n",
       "      <td>2.137858</td>\n",
       "      <td>39.431601</td>\n",
       "      <td>0.029692</td>\n",
       "      <td>0.237540</td>\n",
       "      <td>19.211029</td>\n",
       "      <td>0.326617</td>\n",
       "    </tr>\n",
       "  </tbody>\n",
       "</table>\n",
       "<p>7 rows × 30 columns</p>\n",
       "</div>"
      ],
      "text/latex": [
       "\\centering{\\begin{tabular}{lrrrrrrrrrrrrrrrrrrrrrrrrrrrrrr}\n",
       "\\toprule\n",
       "OPTION\\_RIGHT &  agrecole &  agronomie &  batiment &  bio-chimie &  commerciale informatique &  commmerciale et adm &  construction &  coupe couture &      diet &  economie &       elec &  elec indust &  electronique générale &       fdf &  hospitalière &  hotesse d'acceuil &  imprimerie &   inconnu &  industrielle &  latin philo &  machine outil &  math-physique &   mec gene &  mecanique machines outils &       nutr &   pedagogie &  relations publiques &  secretariat &     sociale &  vétérinaire \\\\\n",
       "FAC  &           &            &           &             &                           &                      &               &                &           &           &            &              &                        &           &               &                    &             &           &               &              &                &                &            &                            &            &             &                      &              &             &              \\\\\n",
       "\\midrule\n",
       "FD   &  1.710286 &   0.760127 &  0.570095 &  126.561188 &                 17.292895 &           169.698409 &     10.071686 &       3.610604 &  0.380064 &  0.380064 &   8.931495 &     9.501591 &               3.040509 &  0.190032 &      0.570095 &           1.330223 &    0.190032 &  3.040509 &      0.190032 &    84.754189 &       1.330223 &      43.897349 &  13.112195 &                   2.090350 &  13.682291 &  252.362248 &             0.190032 &     1.520255 &  122.950583 &     2.090350 \\\\\n",
       "FM   &  0.461930 &   0.205302 &  0.153977 &   34.182821 &                  4.670626 &            45.833722 &      2.720255 &       0.975186 &  0.102651 &  0.102651 &   2.412301 &     2.566278 &               0.821209 &  0.051326 &      0.153977 &           0.359279 &    0.051326 &  0.821209 &      0.051326 &    22.891198 &       0.359279 &      11.856204 &   3.541463 &                   0.564581 &   3.695440 &   68.160339 &             0.051326 &     0.410604 &   33.207635 &     0.564581 \\\\\n",
       "FPSE &  0.433298 &   0.192577 &  0.144433 &   32.064051 &                  4.381124 &            42.992789 &      2.551644 &       0.914740 &  0.096288 &  0.096288 &   2.262778 &     2.407211 &               0.770308 &  0.048144 &      0.144433 &           0.337010 &    0.048144 &  0.770308 &      0.048144 &    21.472322 &       0.337010 &      11.121315 &   3.321951 &                   0.529586 &   3.466384 &   63.935525 &             0.048144 &     0.385154 &   31.149311 &     0.529586 \\\\\n",
       "FSDC &  1.446872 &   0.643054 &  0.482291 &  107.068505 &                 14.629480 &           143.561824 &      8.520467 &       3.054507 &  0.321527 &  0.321527 &   7.555885 &     8.038176 &               2.572216 &  0.160764 &      0.482291 &           1.125345 &    0.160764 &  2.572216 &      0.160764 &    71.700530 &       1.125345 &      37.136373 &  11.092683 &                   1.768399 &  11.574973 &  213.493955 &             0.160764 &     1.286108 &  104.013998 &     1.768399 \\\\\n",
       "FSEG &  2.956734 &   1.314104 &  0.985578 &  218.798303 &                 29.895864 &           293.373701 &     17.411877 &       6.241994 &  0.657052 &  0.657052 &  15.440721 &    16.426299 &               5.256416 &  0.328526 &      0.985578 &           2.299682 &    0.328526 &  5.256416 &      0.328526 &   146.522587 &       2.299682 &      75.889502 &  22.668293 &                   3.613786 &  23.653871 &  436.282503 &             0.328526 &     2.628208 &  212.556310 &     3.613786 \\\\\n",
       "FSTA &  1.723648 &   0.766066 &  0.574549 &  127.549947 &                 17.427996 &           171.024178 &     10.150371 &       3.638812 &  0.383033 &  0.383033 &   9.001273 &     9.575822 &               3.064263 &  0.191516 &      0.574549 &           1.340615 &    0.191516 &  3.064263 &      0.191516 &    85.416331 &       1.340615 &      44.240297 &  13.214634 &                   2.106681 &  13.789183 &  254.333828 &             0.191516 &     1.532131 &  123.911135 &     2.106681 \\\\\n",
       "FT   &  0.267232 &   0.118770 &  0.089077 &   19.775186 &                  2.702015 &            26.515376 &      1.573701 &       0.564157 &  0.059385 &  0.059385 &   1.395546 &     1.484624 &               0.475080 &  0.029692 &      0.089077 &           0.207847 &    0.029692 &  0.475080 &      0.029692 &    13.242842 &       0.207847 &       6.858961 &   2.048780 &                   0.326617 &   2.137858 &   39.431601 &             0.029692 &     0.237540 &   19.211029 &     0.326617 \\\\\n",
       "\\bottomrule\n",
       "\\end{tabular}\n",
       "}"
      ],
      "text/plain": [
       "OPTION_RIGHT  agrecole  agronomie  batiment  bio-chimie  \\\n",
       "FAC                                                       \n",
       "FD            1.710286   0.760127  0.570095  126.561188   \n",
       "FM            0.461930   0.205302  0.153977   34.182821   \n",
       "FPSE          0.433298   0.192577  0.144433   32.064051   \n",
       "FSDC          1.446872   0.643054  0.482291  107.068505   \n",
       "FSEG          2.956734   1.314104  0.985578  218.798303   \n",
       "FSTA          1.723648   0.766066  0.574549  127.549947   \n",
       "FT            0.267232   0.118770  0.089077   19.775186   \n",
       "\n",
       "OPTION_RIGHT  commerciale informatique  commmerciale et adm  construction  \\\n",
       "FAC                                                                         \n",
       "FD                           17.292895           169.698409     10.071686   \n",
       "FM                            4.670626            45.833722      2.720255   \n",
       "FPSE                          4.381124            42.992789      2.551644   \n",
       "FSDC                         14.629480           143.561824      8.520467   \n",
       "FSEG                         29.895864           293.373701     17.411877   \n",
       "FSTA                         17.427996           171.024178     10.150371   \n",
       "FT                            2.702015            26.515376      1.573701   \n",
       "\n",
       "OPTION_RIGHT  coupe couture      diet  economie     ...       machine outil  \\\n",
       "FAC                                                 ...                       \n",
       "FD                 3.610604  0.380064  0.380064     ...            1.330223   \n",
       "FM                 0.975186  0.102651  0.102651     ...            0.359279   \n",
       "FPSE               0.914740  0.096288  0.096288     ...            0.337010   \n",
       "FSDC               3.054507  0.321527  0.321527     ...            1.125345   \n",
       "FSEG               6.241994  0.657052  0.657052     ...            2.299682   \n",
       "FSTA               3.638812  0.383033  0.383033     ...            1.340615   \n",
       "FT                 0.564157  0.059385  0.059385     ...            0.207847   \n",
       "\n",
       "OPTION_RIGHT  math-physique   mec gene  mecanique machines outils       nutr  \\\n",
       "FAC                                                                            \n",
       "FD                43.897349  13.112195                   2.090350  13.682291   \n",
       "FM                11.856204   3.541463                   0.564581   3.695440   \n",
       "FPSE              11.121315   3.321951                   0.529586   3.466384   \n",
       "FSDC              37.136373  11.092683                   1.768399  11.574973   \n",
       "FSEG              75.889502  22.668293                   3.613786  23.653871   \n",
       "FSTA              44.240297  13.214634                   2.106681  13.789183   \n",
       "FT                 6.858961   2.048780                   0.326617   2.137858   \n",
       "\n",
       "OPTION_RIGHT   pedagogie  relations publiques  secretariat     sociale  \\\n",
       "FAC                                                                      \n",
       "FD            252.362248             0.190032     1.520255  122.950583   \n",
       "FM             68.160339             0.051326     0.410604   33.207635   \n",
       "FPSE           63.935525             0.048144     0.385154   31.149311   \n",
       "FSDC          213.493955             0.160764     1.286108  104.013998   \n",
       "FSEG          436.282503             0.328526     2.628208  212.556310   \n",
       "FSTA          254.333828             0.191516     1.532131  123.911135   \n",
       "FT             39.431601             0.029692     0.237540   19.211029   \n",
       "\n",
       "OPTION_RIGHT  vétérinaire  \n",
       "FAC                        \n",
       "FD               2.090350  \n",
       "FM               0.564581  \n",
       "FPSE             0.529586  \n",
       "FSDC             1.768399  \n",
       "FSEG             3.613786  \n",
       "FSTA             2.106681  \n",
       "FT               0.326617  \n",
       "\n",
       "[7 rows x 30 columns]"
      ]
     },
     "execution_count": 21,
     "metadata": {},
     "output_type": "execute_result"
    }
   ],
   "source": [
    "facOptionChi2.chisquare()"
   ]
  },
  {
   "cell_type": "code",
   "execution_count": 22,
   "metadata": {},
   "outputs": [
    {
     "data": {
      "text/plain": [
       "4155.0246292496686"
      ]
     },
     "execution_count": 22,
     "metadata": {},
     "output_type": "execute_result"
    }
   ],
   "source": [
    "facOptionChi2.c"
   ]
  },
  {
   "cell_type": "code",
   "execution_count": 152,
   "metadata": {},
   "outputs": [
    {
     "data": {
      "text/plain": [
       "' It indicates that both categorical variable are dependent'"
      ]
     },
     "execution_count": 152,
     "metadata": {},
     "output_type": "execute_result"
    }
   ],
   "source": [
    "facOptionChi2.conclude(on='p')"
   ]
  },
  {
   "cell_type": "code",
   "execution_count": 153,
   "metadata": {},
   "outputs": [
    {
     "data": {
      "text/plain": [
       "205.77862677980613"
      ]
     },
     "execution_count": 153,
     "metadata": {},
     "output_type": "execute_result"
    }
   ],
   "source": [
    "facOptionChi2.criticalValue"
   ]
  },
  {
   "cell_type": "code",
   "execution_count": 23,
   "metadata": {},
   "outputs": [
    {
     "data": {
      "text/plain": [
       "174"
      ]
     },
     "execution_count": 23,
     "metadata": {},
     "output_type": "execute_result"
    }
   ],
   "source": [
    "facOptionChi2.dof"
   ]
  },
  {
   "cell_type": "markdown",
   "metadata": {},
   "source": [
    "sur base de ce fait on fait la meme conclusion que pour la province : il ya une relation de dependance entre la section du diplome et la faculté ce qui est loqique car les étudiant en genral se base sur leur option pour chosir leur faculté"
   ]
  },
  {
   "cell_type": "code",
   "execution_count": null,
   "metadata": {
    "collapsed": true
   },
   "outputs": [],
   "source": []
  },
  {
   "cell_type": "markdown",
   "metadata": {},
   "source": [
    "   ###### FACULTE SCHOOLSTATUS"
   ]
  },
  {
   "cell_type": "markdown",
   "metadata": {},
   "source": [
    "nous allons refaire la meme analyse que pour le point  precedant!!"
   ]
  },
  {
   "cell_type": "code",
   "execution_count": 24,
   "metadata": {
    "collapsed": true
   },
   "outputs": [],
   "source": [
    "facStatusSchoolChi2=ChiSquareCalc('FAC','SCHOOLSTATUS',datasetInClean)"
   ]
  },
  {
   "cell_type": "code",
   "execution_count": 26,
   "metadata": {},
   "outputs": [
    {
     "data": {
      "text/html": [
       "<div>\n",
       "<table border=\"1\" class=\"dataframe\">\n",
       "  <thead>\n",
       "    <tr style=\"text-align: right;\">\n",
       "      <th>SCHOOLSTATUS</th>\n",
       "      <th>autodidacte</th>\n",
       "      <th>catholique</th>\n",
       "      <th>inconnu</th>\n",
       "      <th>kimbanguiste</th>\n",
       "      <th>musulman</th>\n",
       "      <th>privé</th>\n",
       "      <th>protestant</th>\n",
       "      <th>publique</th>\n",
       "    </tr>\n",
       "    <tr>\n",
       "      <th>FAC</th>\n",
       "      <th></th>\n",
       "      <th></th>\n",
       "      <th></th>\n",
       "      <th></th>\n",
       "      <th></th>\n",
       "      <th></th>\n",
       "      <th></th>\n",
       "      <th></th>\n",
       "    </tr>\n",
       "  </thead>\n",
       "  <tbody>\n",
       "    <tr>\n",
       "      <th>FD</th>\n",
       "      <td>14</td>\n",
       "      <td>178</td>\n",
       "      <td>157</td>\n",
       "      <td>2</td>\n",
       "      <td>10</td>\n",
       "      <td>130</td>\n",
       "      <td>262</td>\n",
       "      <td>143</td>\n",
       "    </tr>\n",
       "    <tr>\n",
       "      <th>FM</th>\n",
       "      <td>0</td>\n",
       "      <td>88</td>\n",
       "      <td>19</td>\n",
       "      <td>0</td>\n",
       "      <td>2</td>\n",
       "      <td>29</td>\n",
       "      <td>74</td>\n",
       "      <td>30</td>\n",
       "    </tr>\n",
       "    <tr>\n",
       "      <th>FPSE</th>\n",
       "      <td>3</td>\n",
       "      <td>50</td>\n",
       "      <td>46</td>\n",
       "      <td>0</td>\n",
       "      <td>1</td>\n",
       "      <td>16</td>\n",
       "      <td>83</td>\n",
       "      <td>28</td>\n",
       "    </tr>\n",
       "    <tr>\n",
       "      <th>FSDC</th>\n",
       "      <td>9</td>\n",
       "      <td>154</td>\n",
       "      <td>146</td>\n",
       "      <td>0</td>\n",
       "      <td>7</td>\n",
       "      <td>94</td>\n",
       "      <td>195</td>\n",
       "      <td>153</td>\n",
       "    </tr>\n",
       "    <tr>\n",
       "      <th>FSEG</th>\n",
       "      <td>8</td>\n",
       "      <td>479</td>\n",
       "      <td>152</td>\n",
       "      <td>2</td>\n",
       "      <td>17</td>\n",
       "      <td>190</td>\n",
       "      <td>484</td>\n",
       "      <td>217</td>\n",
       "    </tr>\n",
       "    <tr>\n",
       "      <th>FSTA</th>\n",
       "      <td>9</td>\n",
       "      <td>353</td>\n",
       "      <td>125</td>\n",
       "      <td>1</td>\n",
       "      <td>1</td>\n",
       "      <td>70</td>\n",
       "      <td>215</td>\n",
       "      <td>129</td>\n",
       "    </tr>\n",
       "    <tr>\n",
       "      <th>FT</th>\n",
       "      <td>1</td>\n",
       "      <td>3</td>\n",
       "      <td>46</td>\n",
       "      <td>0</td>\n",
       "      <td>0</td>\n",
       "      <td>7</td>\n",
       "      <td>57</td>\n",
       "      <td>26</td>\n",
       "    </tr>\n",
       "  </tbody>\n",
       "</table>\n",
       "</div>"
      ],
      "text/latex": [
       "\\centering{\\begin{tabular}{lrrrrrrrr}\n",
       "\\toprule\n",
       "SCHOOLSTATUS &  autodidacte &  catholique &  inconnu &  kimbanguiste &  musulman &  privé &  protestant &  publique \\\\\n",
       "FAC  &              &             &          &               &           &        &             &           \\\\\n",
       "\\midrule\n",
       "FD   &           14 &         178 &      157 &             2 &        10 &    130 &         262 &       143 \\\\\n",
       "FM   &            0 &          88 &       19 &             0 &         2 &     29 &          74 &        30 \\\\\n",
       "FPSE &            3 &          50 &       46 &             0 &         1 &     16 &          83 &        28 \\\\\n",
       "FSDC &            9 &         154 &      146 &             0 &         7 &     94 &         195 &       153 \\\\\n",
       "FSEG &            8 &         479 &      152 &             2 &        17 &    190 &         484 &       217 \\\\\n",
       "FSTA &            9 &         353 &      125 &             1 &         1 &     70 &         215 &       129 \\\\\n",
       "FT   &            1 &           3 &       46 &             0 &         0 &      7 &          57 &        26 \\\\\n",
       "\\bottomrule\n",
       "\\end{tabular}\n",
       "}"
      ],
      "text/plain": [
       "SCHOOLSTATUS  autodidacte  catholique  inconnu  kimbanguiste  musulman  privé  \\\n",
       "FAC                                                                             \n",
       "FD                     14         178      157             2        10    130   \n",
       "FM                      0          88       19             0         2     29   \n",
       "FPSE                    3          50       46             0         1     16   \n",
       "FSDC                    9         154      146             0         7     94   \n",
       "FSEG                    8         479      152             2        17    190   \n",
       "FSTA                    9         353      125             1         1     70   \n",
       "FT                      1           3       46             0         0      7   \n",
       "\n",
       "SCHOOLSTATUS  protestant  publique  \n",
       "FAC                                 \n",
       "FD                   262       143  \n",
       "FM                    74        30  \n",
       "FPSE                  83        28  \n",
       "FSDC                 195       153  \n",
       "FSEG                 484       217  \n",
       "FSTA                 215       129  \n",
       "FT                    57        26  "
      ]
     },
     "execution_count": 26,
     "metadata": {},
     "output_type": "execute_result"
    }
   ],
   "source": [
    "facStatusSchoolChi2.contengencyTable()"
   ]
  },
  {
   "cell_type": "code",
   "execution_count": 27,
   "metadata": {
    "scrolled": true
   },
   "outputs": [
    {
     "data": {
      "text/html": [
       "<div>\n",
       "<table border=\"1\" class=\"dataframe\">\n",
       "  <thead>\n",
       "    <tr style=\"text-align: right;\">\n",
       "      <th>SCHOOLSTATUS</th>\n",
       "      <th>autodidacte</th>\n",
       "      <th>catholique</th>\n",
       "      <th>inconnu</th>\n",
       "      <th>kimbanguiste</th>\n",
       "      <th>musulman</th>\n",
       "      <th>privé</th>\n",
       "      <th>protestant</th>\n",
       "      <th>publique</th>\n",
       "    </tr>\n",
       "    <tr>\n",
       "      <th>FAC</th>\n",
       "      <th></th>\n",
       "      <th></th>\n",
       "      <th></th>\n",
       "      <th></th>\n",
       "      <th></th>\n",
       "      <th></th>\n",
       "      <th></th>\n",
       "      <th></th>\n",
       "    </tr>\n",
       "  </thead>\n",
       "  <tbody>\n",
       "    <tr>\n",
       "      <th>FD</th>\n",
       "      <td>8.361400</td>\n",
       "      <td>247.991516</td>\n",
       "      <td>131.311983</td>\n",
       "      <td>0.950159</td>\n",
       "      <td>7.221209</td>\n",
       "      <td>101.857052</td>\n",
       "      <td>260.343584</td>\n",
       "      <td>137.963097</td>\n",
       "    </tr>\n",
       "    <tr>\n",
       "      <th>FM</th>\n",
       "      <td>2.258324</td>\n",
       "      <td>66.979852</td>\n",
       "      <td>35.465960</td>\n",
       "      <td>0.256628</td>\n",
       "      <td>1.950371</td>\n",
       "      <td>27.510498</td>\n",
       "      <td>70.316013</td>\n",
       "      <td>37.262354</td>\n",
       "    </tr>\n",
       "    <tr>\n",
       "      <th>FPSE</th>\n",
       "      <td>2.118346</td>\n",
       "      <td>62.828208</td>\n",
       "      <td>33.267656</td>\n",
       "      <td>0.240721</td>\n",
       "      <td>1.829480</td>\n",
       "      <td>25.805302</td>\n",
       "      <td>65.957582</td>\n",
       "      <td>34.952704</td>\n",
       "    </tr>\n",
       "    <tr>\n",
       "      <th>FSDC</th>\n",
       "      <td>7.073595</td>\n",
       "      <td>209.796394</td>\n",
       "      <td>111.087593</td>\n",
       "      <td>0.803818</td>\n",
       "      <td>6.109014</td>\n",
       "      <td>86.169247</td>\n",
       "      <td>220.246023</td>\n",
       "      <td>116.714316</td>\n",
       "    </tr>\n",
       "    <tr>\n",
       "      <th>FSEG</th>\n",
       "      <td>14.455143</td>\n",
       "      <td>428.726405</td>\n",
       "      <td>227.011453</td>\n",
       "      <td>1.642630</td>\n",
       "      <td>12.483987</td>\n",
       "      <td>176.089926</td>\n",
       "      <td>450.080594</td>\n",
       "      <td>238.509862</td>\n",
       "    </tr>\n",
       "    <tr>\n",
       "      <th>FSTA</th>\n",
       "      <td>8.426723</td>\n",
       "      <td>249.928950</td>\n",
       "      <td>132.337858</td>\n",
       "      <td>0.957582</td>\n",
       "      <td>7.277625</td>\n",
       "      <td>102.652810</td>\n",
       "      <td>262.377519</td>\n",
       "      <td>139.040933</td>\n",
       "    </tr>\n",
       "    <tr>\n",
       "      <th>FT</th>\n",
       "      <td>1.306469</td>\n",
       "      <td>38.748674</td>\n",
       "      <td>20.517497</td>\n",
       "      <td>0.148462</td>\n",
       "      <td>1.128314</td>\n",
       "      <td>15.915164</td>\n",
       "      <td>40.678685</td>\n",
       "      <td>21.556734</td>\n",
       "    </tr>\n",
       "  </tbody>\n",
       "</table>\n",
       "</div>"
      ],
      "text/latex": [
       "\\centering{\\begin{tabular}{lrrrrrrrr}\n",
       "\\toprule\n",
       "SCHOOLSTATUS &  autodidacte &  catholique &     inconnu &  kimbanguiste &   musulman &       privé &  protestant &    publique \\\\\n",
       "FAC  &              &             &             &               &            &             &             &             \\\\\n",
       "\\midrule\n",
       "FD   &     8.361400 &  247.991516 &  131.311983 &      0.950159 &   7.221209 &  101.857052 &  260.343584 &  137.963097 \\\\\n",
       "FM   &     2.258324 &   66.979852 &   35.465960 &      0.256628 &   1.950371 &   27.510498 &   70.316013 &   37.262354 \\\\\n",
       "FPSE &     2.118346 &   62.828208 &   33.267656 &      0.240721 &   1.829480 &   25.805302 &   65.957582 &   34.952704 \\\\\n",
       "FSDC &     7.073595 &  209.796394 &  111.087593 &      0.803818 &   6.109014 &   86.169247 &  220.246023 &  116.714316 \\\\\n",
       "FSEG &    14.455143 &  428.726405 &  227.011453 &      1.642630 &  12.483987 &  176.089926 &  450.080594 &  238.509862 \\\\\n",
       "FSTA &     8.426723 &  249.928950 &  132.337858 &      0.957582 &   7.277625 &  102.652810 &  262.377519 &  139.040933 \\\\\n",
       "FT   &     1.306469 &   38.748674 &   20.517497 &      0.148462 &   1.128314 &   15.915164 &   40.678685 &   21.556734 \\\\\n",
       "\\bottomrule\n",
       "\\end{tabular}\n",
       "}"
      ],
      "text/plain": [
       "SCHOOLSTATUS  autodidacte  catholique     inconnu  kimbanguiste   musulman  \\\n",
       "FAC                                                                          \n",
       "FD               8.361400  247.991516  131.311983      0.950159   7.221209   \n",
       "FM               2.258324   66.979852   35.465960      0.256628   1.950371   \n",
       "FPSE             2.118346   62.828208   33.267656      0.240721   1.829480   \n",
       "FSDC             7.073595  209.796394  111.087593      0.803818   6.109014   \n",
       "FSEG            14.455143  428.726405  227.011453      1.642630  12.483987   \n",
       "FSTA             8.426723  249.928950  132.337858      0.957582   7.277625   \n",
       "FT               1.306469   38.748674   20.517497      0.148462   1.128314   \n",
       "\n",
       "SCHOOLSTATUS       privé  protestant    publique  \n",
       "FAC                                               \n",
       "FD            101.857052  260.343584  137.963097  \n",
       "FM             27.510498   70.316013   37.262354  \n",
       "FPSE           25.805302   65.957582   34.952704  \n",
       "FSDC           86.169247  220.246023  116.714316  \n",
       "FSEG          176.089926  450.080594  238.509862  \n",
       "FSTA          102.652810  262.377519  139.040933  \n",
       "FT             15.915164   40.678685   21.556734  "
      ]
     },
     "execution_count": 27,
     "metadata": {},
     "output_type": "execute_result"
    }
   ],
   "source": [
    "facStatusSchoolChi2.chisquare()"
   ]
  },
  {
   "cell_type": "code",
   "execution_count": 28,
   "metadata": {
    "scrolled": true
   },
   "outputs": [
    {
     "data": {
      "text/plain": [
       "42"
      ]
     },
     "execution_count": 28,
     "metadata": {},
     "output_type": "execute_result"
    }
   ],
   "source": [
    "facStatusSchoolChi2.dof"
   ]
  },
  {
   "cell_type": "code",
   "execution_count": 32,
   "metadata": {},
   "outputs": [
    {
     "data": {
      "text/plain": [
       "('It indicates that the relationship between the variables is significant at confidence of %s',\n",
       " 0.95)"
      ]
     },
     "execution_count": 32,
     "metadata": {},
     "output_type": "execute_result"
    }
   ],
   "source": [
    "facStatusSchoolChi2.conclude(on='p')"
   ]
  },
  {
   "cell_type": "code",
   "execution_count": 33,
   "metadata": {},
   "outputs": [
    {
     "data": {
      "text/plain": [
       "58.124037680868028"
      ]
     },
     "execution_count": 33,
     "metadata": {},
     "output_type": "execute_result"
    }
   ],
   "source": [
    "facStatusSchoolChi2.criticalValue"
   ]
  },
  {
   "cell_type": "code",
   "execution_count": 36,
   "metadata": {},
   "outputs": [
    {
     "data": {
      "text/plain": [
       "304.71578214658456"
      ]
     },
     "execution_count": 36,
     "metadata": {},
     "output_type": "execute_result"
    }
   ],
   "source": [
    "facStatusSchoolChi2.c"
   ]
  },
  {
   "cell_type": "markdown",
   "metadata": {},
   "source": [
    "sur base de ce fait on fait la meme conclusion que pour la province : il ya une relation de dependance entre la section du diplome et la faculté ce qui est loqique car les étudiant en genral se base sur leur option pour chosir leur option"
   ]
  },
  {
   "cell_type": "markdown",
   "metadata": {},
   "source": [
    "###### FACULTE SCHOOL"
   ]
  },
  {
   "cell_type": "code",
   "execution_count": 39,
   "metadata": {
    "collapsed": true
   },
   "outputs": [],
   "source": [
    "facSchoolChi2=ChiSquareCalc('FAC','SCHOOL_RIGHT',datasetInClean)"
   ]
  },
  {
   "cell_type": "code",
   "execution_count": 40,
   "metadata": {
    "scrolled": false
   },
   "outputs": [
    {
     "data": {
      "text/html": [
       "<div>\n",
       "<table border=\"1\" class=\"dataframe\">\n",
       "  <thead>\n",
       "    <tr style=\"text-align: right;\">\n",
       "      <th>SCHOOL_RIGHT</th>\n",
       "      <th>1uto</th>\n",
       "      <th>53</th>\n",
       "      <th>54</th>\n",
       "      <th>61</th>\n",
       "      <th>Alleluya</th>\n",
       "      <th>BWANGA</th>\n",
       "      <th>Bungulu Beni</th>\n",
       "      <th>GRACIA</th>\n",
       "      <th>I DE BKV</th>\n",
       "      <th>I LWANGA</th>\n",
       "      <th>...</th>\n",
       "      <th>wema</th>\n",
       "      <th>weza</th>\n",
       "      <th>weza2</th>\n",
       "      <th>wima</th>\n",
       "      <th>z</th>\n",
       "      <th>zako</th>\n",
       "      <th>zanner</th>\n",
       "      <th>zawadi ya raisi</th>\n",
       "      <th>ziwa kivu</th>\n",
       "      <th>zuza</th>\n",
       "    </tr>\n",
       "    <tr>\n",
       "      <th>FAC</th>\n",
       "      <th></th>\n",
       "      <th></th>\n",
       "      <th></th>\n",
       "      <th></th>\n",
       "      <th></th>\n",
       "      <th></th>\n",
       "      <th></th>\n",
       "      <th></th>\n",
       "      <th></th>\n",
       "      <th></th>\n",
       "      <th></th>\n",
       "      <th></th>\n",
       "      <th></th>\n",
       "      <th></th>\n",
       "      <th></th>\n",
       "      <th></th>\n",
       "      <th></th>\n",
       "      <th></th>\n",
       "      <th></th>\n",
       "      <th></th>\n",
       "      <th></th>\n",
       "    </tr>\n",
       "  </thead>\n",
       "  <tbody>\n",
       "    <tr>\n",
       "      <th>FD</th>\n",
       "      <td>0</td>\n",
       "      <td>0</td>\n",
       "      <td>0</td>\n",
       "      <td>0</td>\n",
       "      <td>1</td>\n",
       "      <td>0</td>\n",
       "      <td>0</td>\n",
       "      <td>0</td>\n",
       "      <td>1</td>\n",
       "      <td>0</td>\n",
       "      <td>...</td>\n",
       "      <td>0</td>\n",
       "      <td>1</td>\n",
       "      <td>0</td>\n",
       "      <td>8</td>\n",
       "      <td>1</td>\n",
       "      <td>0</td>\n",
       "      <td>29</td>\n",
       "      <td>4</td>\n",
       "      <td>1</td>\n",
       "      <td>0</td>\n",
       "    </tr>\n",
       "    <tr>\n",
       "      <th>FM</th>\n",
       "      <td>0</td>\n",
       "      <td>0</td>\n",
       "      <td>0</td>\n",
       "      <td>0</td>\n",
       "      <td>0</td>\n",
       "      <td>0</td>\n",
       "      <td>0</td>\n",
       "      <td>0</td>\n",
       "      <td>0</td>\n",
       "      <td>0</td>\n",
       "      <td>...</td>\n",
       "      <td>0</td>\n",
       "      <td>0</td>\n",
       "      <td>0</td>\n",
       "      <td>0</td>\n",
       "      <td>0</td>\n",
       "      <td>0</td>\n",
       "      <td>2</td>\n",
       "      <td>0</td>\n",
       "      <td>0</td>\n",
       "      <td>0</td>\n",
       "    </tr>\n",
       "    <tr>\n",
       "      <th>FPSE</th>\n",
       "      <td>0</td>\n",
       "      <td>0</td>\n",
       "      <td>0</td>\n",
       "      <td>0</td>\n",
       "      <td>0</td>\n",
       "      <td>0</td>\n",
       "      <td>0</td>\n",
       "      <td>0</td>\n",
       "      <td>0</td>\n",
       "      <td>0</td>\n",
       "      <td>...</td>\n",
       "      <td>0</td>\n",
       "      <td>1</td>\n",
       "      <td>0</td>\n",
       "      <td>1</td>\n",
       "      <td>0</td>\n",
       "      <td>0</td>\n",
       "      <td>0</td>\n",
       "      <td>1</td>\n",
       "      <td>0</td>\n",
       "      <td>0</td>\n",
       "    </tr>\n",
       "    <tr>\n",
       "      <th>FSDC</th>\n",
       "      <td>1</td>\n",
       "      <td>0</td>\n",
       "      <td>0</td>\n",
       "      <td>1</td>\n",
       "      <td>1</td>\n",
       "      <td>0</td>\n",
       "      <td>0</td>\n",
       "      <td>0</td>\n",
       "      <td>0</td>\n",
       "      <td>1</td>\n",
       "      <td>...</td>\n",
       "      <td>0</td>\n",
       "      <td>1</td>\n",
       "      <td>1</td>\n",
       "      <td>2</td>\n",
       "      <td>0</td>\n",
       "      <td>0</td>\n",
       "      <td>2</td>\n",
       "      <td>2</td>\n",
       "      <td>4</td>\n",
       "      <td>0</td>\n",
       "    </tr>\n",
       "    <tr>\n",
       "      <th>FSEG</th>\n",
       "      <td>0</td>\n",
       "      <td>1</td>\n",
       "      <td>0</td>\n",
       "      <td>0</td>\n",
       "      <td>0</td>\n",
       "      <td>2</td>\n",
       "      <td>0</td>\n",
       "      <td>1</td>\n",
       "      <td>0</td>\n",
       "      <td>0</td>\n",
       "      <td>...</td>\n",
       "      <td>2</td>\n",
       "      <td>0</td>\n",
       "      <td>0</td>\n",
       "      <td>5</td>\n",
       "      <td>0</td>\n",
       "      <td>0</td>\n",
       "      <td>42</td>\n",
       "      <td>2</td>\n",
       "      <td>1</td>\n",
       "      <td>1</td>\n",
       "    </tr>\n",
       "    <tr>\n",
       "      <th>FSTA</th>\n",
       "      <td>0</td>\n",
       "      <td>0</td>\n",
       "      <td>1</td>\n",
       "      <td>1</td>\n",
       "      <td>0</td>\n",
       "      <td>0</td>\n",
       "      <td>1</td>\n",
       "      <td>0</td>\n",
       "      <td>0</td>\n",
       "      <td>0</td>\n",
       "      <td>...</td>\n",
       "      <td>0</td>\n",
       "      <td>3</td>\n",
       "      <td>0</td>\n",
       "      <td>5</td>\n",
       "      <td>0</td>\n",
       "      <td>0</td>\n",
       "      <td>3</td>\n",
       "      <td>3</td>\n",
       "      <td>0</td>\n",
       "      <td>0</td>\n",
       "    </tr>\n",
       "    <tr>\n",
       "      <th>FT</th>\n",
       "      <td>0</td>\n",
       "      <td>0</td>\n",
       "      <td>0</td>\n",
       "      <td>0</td>\n",
       "      <td>0</td>\n",
       "      <td>0</td>\n",
       "      <td>0</td>\n",
       "      <td>0</td>\n",
       "      <td>0</td>\n",
       "      <td>0</td>\n",
       "      <td>...</td>\n",
       "      <td>0</td>\n",
       "      <td>0</td>\n",
       "      <td>0</td>\n",
       "      <td>0</td>\n",
       "      <td>0</td>\n",
       "      <td>1</td>\n",
       "      <td>0</td>\n",
       "      <td>0</td>\n",
       "      <td>0</td>\n",
       "      <td>0</td>\n",
       "    </tr>\n",
       "  </tbody>\n",
       "</table>\n",
       "<p>7 rows × 594 columns</p>\n",
       "</div>"
      ],
      "text/latex": [
       "\\centering{\\begin{tabular}{lrrrrrrrrrrrrrrrrrrrrrrrrrrrrrrrrrrrrrrrrrrrrrrrrrrrrrrrrrrrrrrrrrrrrrrrrrrrrrrrrrrrrrrrrrrrrrrrrrrrrrrrrrrrrrrrrrrrrrrrrrrrrrrrrrrrrrrrrrrrrrrrrrrrrrrrrrrrrrrrrrrrrrrrrrrrrrrrrrrrrrrrrrrrrrrrrrrrrrrrrrrrrrrrrrrrrrrrrrrrrrrrrrrrrrrrrrrrrrrrrrrrrrrrrrrrrrrrrrrrrrrrrrrrrrrrrrrrrrrrrrrrrrrrrrrrrrrrrrrrrrrrrrrrrrrrrrrrrrrrrrrrrrrrrrrrrrrrrrrrrrrrrrrrrrrrrrrrrrrrrrrrrrrrrrrrrrrrrrrrrrrrrrrrrrrrrrrrrrrrrrrrrrrrrrrrrrrrrrrrrrrrrrrrrrrrrrrrrrrrrrrrrrrrrrrrrrrrrrrrrrrrrrrrrrrrrrrrrrrrrrrrrrrrrrrrrrrrrrrrrrrrrrrrrrrrrrrrrrrrrrrrrrrrrrrrrrrrrrrrrrrrrrrrrrrrrrrrrrrrrrrrrrrrrrrrrrrrrrrrrrrrrrrrrrrrrrr}\n",
       "\\toprule\n",
       "SCHOOL\\_RIGHT &  1uto &  53 &  54 &  61 &  Alleluya &  BWANGA &  Bungulu Beni &  GRACIA &  I DE BKV &  I LWANGA &  INST DE KATWA &  INST LWANGA &  INST. MPINGA &  INSTITUT BWINZI &  INSTITUT LWANGA &  ITM DE BOGA &  Institut BWANGA &  Institut MWANDA &  Institut MWANZO &  Institut NJANJA &  Institut de KATWA &  Intitut ALLELUYA &  L MWANDU &  LWANGA &  LYCEE MWANDU &  LYCEE MWINDA &  Lwanga &  Lycée Mwandu &  MUGUNGA &  MWANA &  MWANDU &  MWANGAZA &  MWANGI &  MWENGA &  Mbaga &  Mugunga &  Mwanda &  Mwandu &  Mwangaza &  Mwanzo &  NDEREMBI &  Rwaraga &  action kusaidiya &  adventiste/bunia &  aero &  ahenée de butembo &  aigle de dieu &  akili &  aleluya &  alfa &  alfajiri &  alliance ouest africaine &  alpha &  amani &  amani cebia &  amen &  amina &  amkeni &  anuarite &  anuarite/kisangani &  asseco &  auto &  autodidacte &  autsau &  auzi &  avenir &  azma &  babwise &  bagira &  bahati &  bakandja &  bakita &  bambu &  bandari &  bandashe &  banza &  baraka &  base &  bashu &  belge &  bemba gombo &  bethanie &  bethsaida &  bibwe &  bigilimani &  bikuba &  bikuka &  bimenya &  bobokoli &  bokolo &  bokoro &  bonsomi &  boyulu &  bsangani &  bugarula &  buhimba &  bukinanyana &  bulera &  bulumbi &  bundji &  bunyakiri &  bunyanga &  buramba &  burhiba &  burhuza &  bushumba &  bushumba kafubi &  busimba &  bustani &  butembo &  butumba &  bweremana &  bwindi &  bwito &  c,s, umoja &  camp fac &  cardinale etsou &  carmel &  ceago &  chemchem &  chemchem ya uzima &  chidasa &  cibanda &  cirezi &  communautaire du lac &  complex scolaire la veronique &  complexe scolaire asteria urafiki &  complexe scolaire de l'unité &  complexe scolaire kyabo &  complexe scolaire mulezi &  complexe scolaire nova stella &  conglais (au burundi) &  congolaise de bujumbura &  de bagira &  de basoko &  de beni &  de bukavu &  de bunia &  de goma &  de kalamu &  de kindu &  de kingasani ii &  de kirumba &  de l'unite &  de la gombe &  de la sucrerie de kiliba &  de récupération de la gombe &  diabena &  dibasana &  du lac &  du lac/kamvivira &  ebi &  ecl &  edac/isgea &  edak/goma &  edap isp bkv &  edap isp walikale &  edap/isp &  edap/isp bukavu &  edap/kasuku &  edap/upn &  eistein ujuzi &  elise &  enano &  epaf &  epsk/fomulac &  esengo &  esise/gisenyi &  espoir1 &  essi nyamirambo &  etoile &  etpm &  fadhili &  famila dei &  faraja &  fatima &  fazili &  fdf &  frere alimba &  g.s lemba &  galaxie &  gihundu &  gilgali &  goupe scolaire mont sinai &  groupe scol. ndbc de byumba &  groupe scolaire gilgali &  gs 8 mars &  gs asteria urafiki &  gs consulaire congolaise/rwanda &  gs de la salle &  gs kigali &  gs la promise &  gs lumière du progrès &  gs mont sinai &  gs tumba &  gscc &  guido &  hekima &  himbi &  hodari &  home feyen &  humule &  i katwa &  ibanda &  ibanga &  ibanga 2 &  icl &  idambo &  idap isp bunia &  idap isp rutshuru &  ifendula &  ilambula &  imaki/kirumba &  imani &  imani panzi &  imara &  imoteyiti &  insrtitut de masisi &  instituti ndosho &  ipp/beni &  isea &  isingo &  isoko &  it bugabo &  it kasabinyole &  it salama &  itav &  itav bbo &  itav/mushweshwe &  itc ngaliema &  itcb &  itfm maendeleo &  itfm/bukavu &  iti gombe &  itig &  itk mahamba &  itm &  itm kizito &  itm tulizeni/kyondo &  itso &  itsu &  itve &  jikaze &  jiwe &  jjardin de fleurs &  john mabwindi &  kabalaka &  kabale &  kabanda &  kabila &  kabolwa &  kahumo &  kahya cibanda &  kalangala &  kalimabenge &  kalimba &  kalungu &  kamagema &  kamanyola &  kambale &  kambali &  kamole &  kando &  kantundwe &  kanyabayonga &  kanzanza &  kanzulinzuli &  kaoze &  karhale &  kasalala &  kasali &  kashali &  kasheke &  kashenda &  kashofu &  kashozi &  kasika &  kasuo &  katana &  katarina &  katasoire &  katudwe &  kaumo &  kausa &  kavanda &  kaya &  kayadja &  kayanja &  kibabi &  kibali &  kifungo &  kigonza &  kilambo &  kilimani &  kimbilio &  kimua &  kipushi &  kiraku &  kiribunye &  kirikiri &  kirimavolo &  kiruli &  kirumba &  kishanga &  kisolokele &  kitsombiro &  kitumaini &  kitunda &  kitundu &  kivako &  kiwele &  kiyabo &  kuntwala &  kyambogho &  kyatenga &  kyeshero &  l mapema &  l mapendo &  l'amitie &  la charite divine &  la fontaine &  la félicité &  la pereaux &  la releve &  la sapiniere &  la vision &  lasagesse &  laudjo &  le germe &  lemera &  les dibobol &  les petits génies &  les vert &  linzo &  lisalisi &  losa &  lowa &  loyola &  luanga &  luapula &  ludaha &  luka &  lukanga &  lukeba &  lukuga &  lukweti &  lumbishi &  lumiere &  lumiere du monde &  lumumba &  lunya &  lusaka &  luvango &  lwanga bobandana &  lwanzururu &  lwiro &  lyce techn de la pleine &  lycéé anuarité &  lyliane &  maadibisho &  mabakanga &  mabalako &  maboso &  mabula &  macha &  madame de seviniere &  maendeleo &  maendeleo de oicha &  magherya &  mahamba &  majengo &  makyase &  malende &  mali &  malikia wa bingu &  malula &  mama mulezi &  mama mwilu &  mama onja &  mama sarah &  mama yetu &  maman sphie &  mambo &  mambowa &  mandai &  mandayi &  mapema &  mapendo &  mapendo/ngese &  mapera &  maranatha &  masanikilo &  masapi &  mashauri &  masiki &  masikilizano &  masisi &  matanda &  matcha &  matenda &  matendo &  matengenezo &  matolu &  matumaini &  mavuno &  mawato &  mayele &  mboga &  mbolitini &  mbovote &  mehe &  meso &  metanoia &  mfuki &  mgr byaghene &  mgr guido &  mgr guido maria conforti &  mgr henri pierrard &  mgr kataliko &  mgr moke &  mikeno isl &  mikeno islamique &  mikeno nc &  milima &  mlezi &  molende &  moliere &  molière &  mont caemel &  mont des oliviers &  mont kitenge &  mont sinai &  mont sionii &  mont tshikenge &  moria &  moyo safi &  msaada &  mugeri &  muhe &  muhini &  muhungano &  mukaba &  muku &  mulo &  mululu &  mululusake &  mungano &  musanga &  mushere &  musienene &  mutambala &  mutsoperwa &  muungano &  mwajengo &  mwanga &  mwanga/ uvira &  mwendu &  namango &  namire &  namurera &  ndahura &  ndosho &  nduba &  neema kwetu &  nelson mandela &  nengapeta &  ngoma &  nidunga &  nikisi &  notre dame de la jeunesse &  notre dame olame &  nsindo &  nyabibwe &  nyabiondo &  nyabushongo &  nyakasaza &  nyamianda &  nyamukola &  nyantende &  nzamiboko &  odari &  oicha &  okapi &  ovoa &  pain de vie &  patemo &  petit séminaire mugeri &  petits génies &  pilote de katana &  pt seminaire tumaini letu &  rambo &  rijumba &  rufunda &  ruhamiro &  ruharaga &  rutoboko &  ruvunda &  ruwenzori &  rwabika &  révérend samba &  safina &  saint andre &  saint francois xavier &  saint marc &  saint mariya goritti &  saint michel &  saint paul &  saint pierre apôtre &  saint raphael &  saint vincent de paul &  sainte famille &  sainte ursule &  sake &  salama &  salamu &  sauvetage &  savana &  savana school &  savana school international &  sayuni &  seamen &  sebyera &  shalom &  shaloom &  singa &  source du savoir &  st augustin &  st etienne &  st joseph &  st michel &  tabiti &  taraja &  techn. f. maendeleo &  technique de l’Étude sociale &  technique ind. de mahamba &  technique mapendano &  tetembwa &  thabiti &  tisiesi &  tisiesi/karisimbi &  tmaini &  tobongisa &  totoro &  totro &  tshoka &  tsiesi &  tsololo &  tuendelee &  tuha utala &  tujenge &  tujikaze &  tumaini letu &  tumba &  tupendane &  tupendane fec &  tusome &  tuungane &  tuzo &  uaminifu &  uenezaji &  ufamandu &  uhuru &  ujasiri &  ujumbe &  umoja fs &  umuja international french school &  utamaduni &  utaniadun &  utfm &  uvira &  uzima &  veronique &  vihya &  vikanzu &  virunga &  virunga/quartier &  visogho &  visoke &  visolo &  vuhika &  vungi &  wai wai &  wamaza &  wapole &  wema &  weza &  weza2 &  wima &  z &  zako &  zanner &  zawadi ya raisi &  ziwa kivu &  zuza \\\\\n",
       "FAC  &       &     &     &     &           &         &               &         &           &           &                &              &               &                  &                  &              &                  &                  &                  &                  &                    &                   &           &         &               &               &         &               &          &        &         &           &         &         &        &          &         &         &           &         &           &          &                   &                   &       &                    &                &        &          &       &           &                           &        &        &              &       &        &         &           &                     &         &       &              &         &       &         &       &          &         &         &           &         &        &          &           &        &         &       &        &        &              &           &            &        &             &         &         &          &           &         &         &          &         &           &           &          &              &         &          &         &            &           &          &          &          &           &                  &          &          &          &          &            &         &        &             &           &                  &         &        &           &                    &          &          &         &                       &                                &                                    &                               &                          &                           &                                &                        &                          &            &            &          &            &           &          &            &           &                  &             &             &              &                           &                              &          &           &         &                   &      &      &             &            &               &                    &           &                  &              &           &                &        &        &       &               &         &                &          &                  &         &       &          &             &         &         &         &      &               &            &          &          &          &                            &                              &                          &            &                     &                                  &                 &            &                &                        &                &           &       &        &         &        &         &             &         &          &         &         &           &      &         &                 &                    &           &           &                &        &              &        &            &                      &                   &           &       &         &        &            &                 &            &       &           &                  &               &       &                 &              &            &       &              &      &             &                      &       &       &       &         &       &                    &                &           &         &          &         &          &         &                &            &              &          &          &           &            &          &          &         &        &            &               &           &               &        &          &           &         &          &          &           &          &          &         &        &         &           &            &          &        &        &          &       &          &          &         &         &          &          &          &           &           &        &          &         &            &           &             &         &          &           &             &             &            &          &          &         &         &         &           &            &           &           &           &            &           &                    &              &              &             &            &               &            &            &         &           &         &              &                    &           &        &           &       &       &         &         &          &         &       &          &         &         &          &           &          &                   &          &        &         &          &                   &             &        &                          &                 &          &             &            &           &         &         &        &                      &            &                     &           &          &          &          &          &       &                   &         &              &             &            &             &            &              &        &          &         &          &         &          &                &         &            &             &         &           &         &               &         &          &         &          &          &              &         &            &         &         &         &        &            &          &       &       &           &        &               &            &                           &                     &               &           &             &                   &            &         &        &          &          &          &              &                    &               &             &              &                 &        &            &         &         &       &         &            &         &       &       &         &             &          &          &          &            &            &             &           &           &         &                &         &          &         &           &          &         &        &              &                 &            &        &          &         &                            &                   &         &           &            &              &            &            &            &            &            &        &        &        &       &              &         &                         &                &                   &                            &        &          &          &           &           &           &          &            &          &                 &         &              &                        &             &                       &               &             &                      &                &                        &                 &                &       &         &         &            &         &                &                              &         &         &          &         &          &        &                   &              &             &            &            &         &         &                      &                               &                            &                      &           &          &          &                    &         &            &         &        &         &         &          &            &             &          &           &               &        &            &                &         &           &       &           &           &           &        &          &         &           &                                    &            &            &       &        &        &            &        &          &          &                   &          &         &         &         &        &          &         &         &       &       &        &       &    &       &         &                  &            &       \\\\\n",
       "\\midrule\n",
       "FD   &     0 &   0 &   0 &   0 &         1 &       0 &             0 &       0 &         1 &         0 &              0 &            0 &             1 &                1 &                0 &            0 &                3 &                0 &                1 &                0 &                  0 &                 0 &         1 &       2 &             1 &             1 &       2 &             3 &        2 &      1 &       1 &         1 &       1 &       0 &      0 &        3 &       0 &       2 &         1 &       0 &         0 &        0 &                 4 &                 0 &     0 &                  0 &              2 &      0 &        1 &     0 &         4 &                         0 &      1 &      2 &            0 &     3 &      1 &       1 &         3 &                   1 &       0 &     3 &           14 &       1 &     0 &       1 &     3 &        0 &       2 &       2 &         9 &       0 &      0 &        1 &         2 &      0 &       1 &     0 &      0 &      2 &            2 &         0 &          1 &      0 &           3 &       0 &       0 &        0 &         1 &       0 &       1 &        0 &       0 &         1 &         0 &        1 &            1 &       7 &        0 &       1 &          0 &         1 &        0 &        0 &        1 &         1 &                1 &        1 &        0 &        5 &        0 &          0 &       1 &      0 &           1 &         0 &                0 &       1 &      1 &         7 &                  0 &        2 &        0 &       1 &                     5 &                              0 &                                  1 &                             0 &                        2 &                         0 &                              0 &                      0 &                        0 &          0 &          1 &        5 &          8 &         0 &        3 &          0 &         1 &                1 &           0 &           2 &            0 &                         0 &                            0 &        1 &         0 &       0 &                 0 &    1 &    0 &           3 &          0 &             1 &                  1 &         0 &                0 &            2 &         1 &              2 &      0 &      0 &     1 &             1 &       0 &              0 &        2 &                0 &       0 &     0 &        4 &           0 &       8 &       0 &       1 &    1 &             0 &          0 &        0 &        0 &        0 &                          0 &                            0 &                        1 &          1 &                   0 &                                1 &               1 &          0 &              1 &                      1 &              3 &         1 &     0 &      0 &       3 &     18 &       2 &           2 &       0 &        0 &       6 &       1 &         0 &    1 &       0 &               2 &                  0 &         0 &         1 &              1 &      0 &            1 &      0 &          0 &                    0 &                 1 &         0 &     0 &       0 &      0 &          1 &               1 &          0 &     0 &         0 &                0 &             0 &     0 &               0 &            0 &          0 &     1 &            2 &    0 &           0 &                    0 &     1 &     0 &     0 &       0 &     2 &                  0 &              0 &         0 &       0 &        0 &       1 &        0 &       0 &              1 &          0 &            2 &        7 &       12 &         1 &          0 &        0 &        4 &       0 &      0 &          0 &             0 &         0 &             2 &      0 &        0 &         0 &       3 &        0 &        1 &         7 &        2 &        0 &       1 &      0 &       1 &         0 &          0 &        0 &      0 &      1 &        0 &     0 &        0 &        1 &       0 &       1 &        0 &        2 &        1 &         0 &         8 &      0 &        0 &       0 &          0 &         1 &           0 &       0 &        0 &         1 &           1 &           0 &          0 &        0 &        0 &       0 &       1 &       1 &         1 &          0 &         0 &         6 &         0 &          0 &         0 &                  1 &            7 &            1 &           3 &          3 &             3 &          0 &          2 &       1 &         0 &       1 &            0 &                  0 &         1 &      0 &         1 &     1 &     0 &       0 &       0 &        0 &       0 &     0 &        2 &       0 &       0 &        0 &         1 &        1 &                 1 &        0 &      0 &       1 &        0 &                 3 &           2 &      0 &                        0 &               0 &        0 &           1 &          1 &         0 &       0 &       0 &      0 &                    0 &         35 &                   0 &         0 &        0 &        5 &        0 &        0 &     0 &                 4 &       0 &            0 &           0 &          0 &           0 &          2 &            0 &      1 &        0 &       0 &        0 &       0 &        1 &              1 &       0 &         12 &           1 &       0 &         0 &       0 &             2 &       0 &        0 &       1 &        0 &        6 &            0 &       0 &          0 &       4 &       5 &       0 &      1 &          0 &        0 &     0 &     0 &        74 &      1 &             1 &          1 &                         2 &                   0 &             0 &         0 &           5 &                 5 &          8 &       4 &      0 &        0 &        0 &        0 &           15 &                  1 &             1 &           7 &            1 &               1 &     16 &          2 &       0 &       0 &     1 &      12 &          0 &       2 &     0 &     0 &       3 &           1 &        0 &        0 &        3 &          1 &          0 &           1 &         0 &         0 &      58 &              4 &       0 &        0 &       0 &         2 &        5 &       4 &      0 &            1 &               0 &          1 &     25 &        0 &       0 &                          0 &                 3 &       1 &         0 &          0 &            8 &          0 &          0 &          4 &          1 &          0 &      1 &      0 &      0 &     0 &            4 &       1 &                       0 &              0 &                 0 &                          1 &      1 &        0 &        0 &         1 &         0 &         1 &        1 &          1 &        0 &               0 &       0 &            2 &                      0 &           0 &                     0 &             0 &           4 &                    1 &              0 &                      0 &               1 &             14 &     3 &       0 &       0 &          1 &       2 &              2 &                            1 &       4 &       0 &        1 &       1 &        1 &      0 &                 1 &            0 &           0 &          6 &          0 &       0 &       0 &                    0 &                             1 &                          0 &                    0 &         0 &        0 &        1 &                  0 &       1 &          2 &       4 &      0 &       0 &       1 &        0 &          3 &           0 &        1 &         0 &             1 &      4 &          2 &              2 &       1 &         7 &     0 &         0 &         1 &         1 &     14 &        1 &       1 &         0 &                                  0 &          1 &          0 &     0 &      1 &      4 &          1 &      1 &        0 &        0 &                 2 &        0 &       2 &       1 &       1 &      2 &        0 &       1 &       0 &     0 &     1 &      0 &     8 &  1 &     0 &      29 &                4 &          1 &     0 \\\\\n",
       "FM   &     0 &   0 &   0 &   0 &         0 &       0 &             0 &       0 &         0 &         0 &              0 &            0 &             0 &                0 &                0 &            0 &                0 &                0 &                0 &                1 &                  0 &                 1 &         0 &       0 &             0 &             0 &       2 &             2 &        0 &      0 &       0 &         0 &       0 &       0 &      0 &        2 &       0 &       0 &         1 &       0 &         0 &        0 &                 0 &                 0 &     0 &                  0 &              0 &      0 &        0 &     0 &         1 &                         0 &      0 &      8 &            1 &     1 &      0 &       0 &         2 &                   0 &       0 &     0 &            0 &       0 &     0 &       0 &     0 &        0 &       0 &       0 &        16 &       0 &      0 &        0 &         0 &      0 &       0 &     0 &      0 &      0 &            2 &         1 &          0 &      0 &           0 &       0 &       0 &        2 &         0 &       0 &       0 &        0 &       0 &         1 &         0 &        0 &            0 &       0 &        1 &       0 &          0 &         0 &        0 &        0 &        0 &         0 &                0 &        0 &        0 &        0 &        0 &          0 &       1 &      1 &           0 &         0 &                0 &       0 &      0 &         0 &                  0 &        0 &        0 &       0 &                     2 &                              0 &                                  0 &                             0 &                        0 &                         0 &                              0 &                      0 &                        0 &          0 &          0 &        1 &          1 &         0 &        0 &          0 &         0 &                0 &           0 &           0 &            0 &                         0 &                            1 &        0 &         0 &       0 &                 0 &    0 &    0 &           0 &          0 &             0 &                  0 &         0 &                0 &            0 &         0 &              0 &      0 &      0 &     0 &             0 &       0 &              0 &        0 &                0 &       0 &     0 &        1 &           0 &       8 &       0 &       0 &    0 &             0 &          0 &        0 &        0 &        0 &                          0 &                            0 &                        1 &          0 &                   0 &                                0 &               0 &          3 &              0 &                      0 &              0 &         0 &     0 &      0 &       1 &      4 &       0 &           0 &       0 &        0 &       0 &       0 &         0 &    4 &       0 &               0 &                  1 &         0 &         0 &              1 &      0 &            0 &      0 &          0 &                    0 &                 0 &         0 &     0 &       1 &      1 &          0 &               0 &          0 &     0 &         0 &                0 &             0 &     0 &               0 &            0 &          1 &     0 &            0 &    0 &           0 &                    0 &     0 &     1 &     0 &       1 &     0 &                  0 &              1 &         0 &       0 &        0 &       0 &        0 &       0 &              0 &          0 &            0 &        1 &        1 &         0 &          0 &        0 &        2 &       0 &      0 &          0 &             0 &         0 &             0 &      0 &        0 &         0 &       0 &        0 &        0 &         1 &        0 &        0 &       0 &      0 &       0 &         0 &          0 &        0 &      0 &      0 &        0 &     0 &        0 &        0 &       0 &       0 &        0 &        0 &        0 &         0 &         0 &      0 &        0 &       0 &          0 &         0 &           0 &       0 &        0 &         0 &           0 &           2 &          0 &        0 &        0 &       0 &       0 &       0 &         0 &          0 &         0 &         1 &         0 &          0 &         0 &                  0 &            1 &            0 &           0 &          1 &             0 &          0 &          0 &       0 &         0 &       0 &            0 &                  0 &         0 &      0 &         0 &     0 &     0 &       0 &       0 &        0 &       1 &     0 &        0 &       0 &       1 &        0 &         0 &        0 &                 0 &        0 &      0 &       0 &        0 &                 0 &           0 &      0 &                        0 &               0 &        0 &           1 &          0 &         0 &       0 &       2 &      0 &                    0 &          1 &                   0 &         0 &        0 &        7 &        0 &        0 &     0 &                 1 &       0 &            2 &           0 &          0 &           0 &          1 &            0 &      0 &        0 &       0 &        0 &       0 &        0 &              0 &       0 &         14 &           0 &       0 &         0 &       1 &             0 &       1 &        2 &       0 &        0 &        3 &            0 &       0 &          0 &       0 &       1 &       0 &      0 &          0 &        0 &     0 &     0 &        18 &      0 &             0 &          0 &                         0 &                   0 &             2 &         0 &           0 &                 1 &          1 &       1 &      0 &        0 &        0 &        0 &            2 &                  0 &             0 &           0 &            0 &               0 &      3 &          0 &       0 &       0 &     0 &       0 &          0 &       2 &     0 &     0 &       0 &           0 &        0 &        0 &        0 &          0 &          0 &           0 &         0 &         0 &      20 &              1 &       0 &        0 &       0 &         0 &        1 &       1 &      0 &            1 &               0 &          0 &      7 &        0 &       0 &                          0 &                 0 &       0 &         0 &          0 &            1 &          1 &          0 &          0 &          0 &          0 &      0 &      0 &      0 &     0 &            1 &       0 &                       0 &              0 &                 0 &                          0 &      0 &        0 &        0 &         0 &         0 &         0 &        0 &          0 &        0 &               1 &       0 &            0 &                      0 &           0 &                     0 &             5 &           0 &                    0 &              0 &                      0 &               0 &             14 &     0 &       0 &       0 &          0 &       0 &              0 &                            0 &       2 &       0 &        1 &       0 &        0 &      0 &                 0 &            0 &           0 &          2 &          0 &       0 &       0 &                    0 &                             0 &                          0 &                    0 &         0 &        1 &        0 &                  0 &       0 &          0 &       2 &      0 &       0 &       0 &        0 &          1 &           1 &        0 &         0 &             0 &      0 &          5 &              0 &       0 &         0 &     0 &         0 &         3 &         0 &      5 &        0 &       0 &         0 &                                  0 &          0 &          0 &     0 &      0 &      1 &          0 &      0 &        0 &        0 &                 0 &        0 &       1 &       0 &       0 &      0 &        0 &       0 &       0 &     0 &     0 &      0 &     0 &  0 &     0 &       2 &                0 &          0 &     0 \\\\\n",
       "FPSE &     0 &   0 &   0 &   0 &         0 &       0 &             0 &       0 &         0 &         0 &              0 &            1 &             0 &                0 &                1 &            0 &                0 &                0 &                0 &                0 &                  0 &                 0 &         0 &       0 &             0 &             0 &       3 &             0 &        1 &      0 &       0 &         0 &       0 &       0 &      0 &        1 &       0 &       0 &         0 &       0 &         0 &        0 &                 1 &                 0 &     0 &                  0 &              0 &      0 &        0 &     0 &         0 &                         0 &      0 &      2 &            0 &     0 &      0 &       1 &         6 &                   0 &       1 &     0 &            3 &       0 &     0 &       0 &     0 &        0 &       0 &       0 &         8 &       0 &      0 &        0 &         0 &      0 &       0 &     0 &      0 &      0 &            0 &         0 &          0 &      0 &           0 &       1 &       1 &        1 &         0 &       0 &       0 &        0 &       0 &         2 &         0 &        0 &            1 &       9 &        0 &       0 &          0 &         0 &        1 &        0 &        0 &         0 &                0 &        0 &        0 &        3 &        0 &          0 &       1 &      0 &           0 &         0 &                0 &       0 &      0 &         2 &                  0 &        0 &        1 &       2 &                     0 &                              0 &                                  0 &                             0 &                        1 &                         0 &                              0 &                      0 &                        0 &          1 &          0 &        0 &          0 &         0 &        1 &          0 &         0 &                0 &           0 &           1 &            0 &                         0 &                            0 &        0 &         0 &       0 &                 0 &    0 &    0 &           0 &          0 &             0 &                  0 &         0 &                0 &            0 &         0 &              0 &      0 &      0 &     0 &             0 &       0 &              0 &        0 &                0 &       0 &     0 &        1 &           0 &       5 &       0 &       0 &    0 &             0 &          0 &        0 &        0 &        0 &                          0 &                            0 &                        0 &          2 &                   1 &                                1 &               0 &          0 &              0 &                      0 &              0 &         0 &     0 &      0 &       0 &      7 &       0 &           0 &       0 &        0 &       0 &       0 &         0 &    1 &       0 &               0 &                  0 &         0 &         0 &              0 &      0 &            0 &      0 &          0 &                    1 &                 0 &         0 &     0 &       0 &      0 &          0 &               0 &          0 &     0 &         0 &                0 &             0 &     0 &               0 &            0 &          0 &     0 &            0 &    0 &           0 &                    0 &     0 &     0 &     0 &       0 &     0 &                  0 &              0 &         0 &       0 &        1 &       0 &        0 &       0 &              0 &          1 &            0 &        2 &        6 &         0 &          0 &        0 &        1 &       0 &      1 &          0 &             1 &         0 &             0 &      0 &        0 &         0 &       1 &        0 &        1 &         0 &        0 &        1 &       3 &      0 &       3 &         0 &          0 &        0 &      0 &      0 &        0 &     0 &        0 &        0 &       0 &       0 &        0 &        0 &        0 &         1 &         3 &      0 &        0 &       0 &          0 &         1 &           0 &       0 &        0 &         2 &           0 &           3 &          0 &        0 &        0 &       0 &       0 &       0 &         0 &          0 &         1 &         3 &         0 &          0 &         0 &                  0 &            0 &            0 &           0 &          0 &             0 &          0 &          0 &       0 &         0 &       0 &            0 &                  0 &         0 &      0 &         0 &     0 &     0 &       0 &       0 &        0 &       0 &     2 &        0 &       1 &       1 &        0 &         0 &        0 &                 0 &        0 &      0 &       0 &        0 &                 0 &           0 &      1 &                        0 &               0 &        0 &           0 &          0 &         0 &       0 &       0 &      0 &                    1 &          5 &                   0 &         0 &        0 &        0 &        0 &        0 &     0 &                 1 &       0 &            0 &           0 &          0 &           0 &          0 &            0 &      0 &        0 &       0 &        0 &       0 &        0 &              0 &       0 &          5 &           0 &       0 &         0 &       0 &             0 &       0 &        0 &       0 &        0 &        0 &            0 &       0 &          0 &       0 &       1 &       0 &      0 &          0 &        0 &     1 &     0 &        16 &      0 &             0 &          0 &                         0 &                   0 &             0 &         0 &           0 &                 1 &          1 &       3 &      0 &        0 &        0 &        0 &            8 &                  0 &             0 &           1 &            0 &               0 &      2 &          0 &       0 &       0 &     0 &       1 &          0 &       1 &     0 &     0 &       0 &           1 &        0 &        0 &        0 &          0 &          0 &           0 &         1 &         0 &       5 &              0 &       0 &        0 &       0 &         0 &        1 &       2 &      0 &            0 &               0 &          1 &      4 &        0 &       0 &                          0 &                 1 &       0 &         0 &          0 &            0 &          0 &          1 &          5 &          0 &          0 &      0 &      0 &      0 &     0 &            0 &       0 &                       0 &              0 &                 0 &                          0 &      0 &        0 &        0 &         0 &         1 &         1 &        0 &          0 &        0 &               0 &       0 &            1 &                      0 &           0 &                     0 &             0 &           0 &                    0 &              0 &                      0 &               1 &              2 &     0 &       0 &       1 &          0 &       0 &              0 &                            0 &       2 &       0 &        0 &       0 &        0 &      0 &                 0 &            0 &           0 &          0 &          0 &       0 &       0 &                    0 &                             0 &                          0 &                    0 &         0 &        0 &        1 &                  1 &       0 &          1 &       4 &      0 &       0 &       0 &        0 &          1 &           0 &        1 &         0 &             1 &      0 &          0 &              0 &       0 &         1 &     0 &         0 &         0 &         1 &      0 &        0 &       0 &         0 &                                  0 &          1 &          0 &     0 &      0 &      0 &          1 &      0 &        0 &        2 &                 0 &        2 &       9 &       0 &       0 &      0 &        0 &       0 &       0 &     0 &     1 &      0 &     1 &  0 &     0 &       0 &                1 &          0 &     0 \\\\\n",
       "FSDC &     1 &   0 &   0 &   1 &         1 &       0 &             0 &       0 &         0 &         1 &              0 &            0 &             0 &                0 &                0 &            1 &                1 &                0 &                0 &                0 &                  0 &                 0 &         1 &       2 &             0 &             0 &       1 &             1 &        1 &      0 &       0 &         0 &       0 &       0 &      0 &        1 &       1 &       0 &         0 &       0 &         0 &        0 &                 1 &                 0 &     0 &                  0 &              2 &      0 &        0 &     0 &         0 &                         0 &      0 &     10 &            0 &     3 &      1 &       0 &         9 &                   0 &       0 &     1 &            9 &       0 &     0 &       0 &     1 &        0 &       2 &       1 &        22 &       1 &      0 &        0 &         1 &      0 &       0 &     0 &      0 &      0 &            4 &         0 &          1 &      1 &           3 &       0 &       0 &        0 &         0 &       0 &       0 &        0 &       0 &         0 &         1 &        0 &            0 &       8 &        1 &       0 &          0 &         0 &        0 &        0 &        0 &         0 &                0 &        0 &        1 &        5 &        1 &          2 &       0 &      1 &           0 &         0 &                0 &       0 &      0 &        26 &                  0 &        1 &        0 &       2 &                     1 &                              0 &                                  0 &                             1 &                        1 &                         2 &                              0 &                      0 &                        0 &          1 &          0 &        3 &          3 &         0 &        9 &          1 &         0 &                1 &           0 &           0 &            1 &                         0 &                            0 &        0 &         0 &       0 &                 0 &    0 &    0 &           0 &          0 &             1 &                  0 &         0 &                1 &            0 &         1 &              3 &      0 &      0 &     0 &             0 &       0 &              0 &        0 &                0 &       0 &     0 &        1 &           1 &      14 &       0 &       0 &    0 &             1 &          0 &        0 &        0 &        0 &                          1 &                            0 &                        0 &          2 &                   1 &                                1 &               1 &          4 &              2 &                      3 &              2 &         0 &     0 &      0 &       5 &      9 &       1 &           0 &       0 &        1 &       5 &       0 &         0 &    5 &       0 &               1 &                  0 &         0 &         0 &              0 &      0 &            1 &      1 &          1 &                    0 &                 0 &         0 &     0 &       1 &      0 &          1 &               1 &          0 &     0 &         1 &                0 &             0 &     2 &               0 &            0 &          1 &     0 &            0 &    1 &           3 &                    1 &     0 &     0 &     0 &       1 &     1 &                  0 &              0 &         2 &       0 &        0 &       0 &        0 &       0 &              0 &          2 &            0 &        6 &        9 &         0 &          0 &        0 &        0 &       1 &      0 &          0 &             0 &         0 &             1 &      1 &        1 &         0 &       1 &        0 &        0 &         4 &        1 &        0 &       1 &      0 &       2 &         1 &          1 &        1 &      0 &      0 &        1 &     0 &        1 &        0 &       0 &       0 &        0 &        7 &        0 &         2 &         8 &      3 &        1 &       2 &          2 &         2 &           1 &       0 &        1 &         3 &           0 &           2 &          1 &        0 &        0 &       0 &       0 &       0 &         0 &          0 &         0 &        14 &         0 &          0 &         0 &                  0 &            4 &            0 &           2 &          2 &             0 &          1 &          2 &       0 &         1 &       0 &            1 &                  3 &         0 &      0 &         0 &     0 &     0 &       1 &       1 &        1 &       0 &     1 &        8 &       0 &       2 &        0 &         0 &        2 &                 0 &        0 &      1 &       0 &        0 &                 1 &           0 &      0 &                        0 &               0 &        2 &           2 &          0 &         0 &       0 &       1 &      1 &                    0 &         25 &                   1 &         0 &        0 &        7 &        1 &        0 &     0 &                 5 &       1 &            0 &           0 &          1 &           1 &         10 &            0 &      0 &        0 &       1 &        0 &       1 &        0 &              0 &       0 &          9 &           0 &       0 &         1 &       0 &             0 &       1 &        0 &       0 &        0 &        8 &            1 &       0 &          1 &       3 &       9 &       0 &      1 &          1 &        0 &     0 &     0 &        23 &      0 &             0 &          0 &                         1 &                   0 &             2 &         0 &           6 &                 3 &         14 &       2 &      0 &        1 &        1 &        0 &            7 &                  0 &             0 &           8 &            2 &               0 &      8 &          1 &       0 &       1 &     0 &       8 &          0 &       7 &     0 &     0 &       2 &           1 &        0 &        0 &        1 &          0 &          1 &           0 &         0 &         1 &      14 &              0 &       0 &        0 &       0 &         0 &        7 &       5 &      0 &            0 &               0 &          0 &     15 &        2 &       0 &                          0 &                 0 &       0 &         1 &          0 &            5 &          2 &          0 &          2 &          1 &          0 &      0 &      1 &      0 &     0 &            3 &       2 &                       0 &              3 &                 0 &                          0 &      0 &        0 &        1 &         0 &         0 &         4 &        0 &          1 &        0 &               0 &       1 &            4 &                      0 &           0 &                     0 &             6 &           2 &                    0 &              0 &                      0 &               0 &             34 &     0 &       1 &       0 &          1 &       0 &              0 &                            0 &       5 &       0 &        0 &       3 &        0 &      1 &                 0 &            2 &           0 &          5 &          1 &       0 &       1 &                    0 &                             0 &                          0 &                    0 &         0 &        1 &        0 &                  0 &       0 &          0 &       5 &      1 &       0 &       0 &        0 &          0 &           0 &        0 &         1 &             1 &      0 &          6 &              2 &       0 &         3 &     0 &         1 &         1 &         0 &     10 &        0 &       0 &         0 &                                  0 &          0 &          0 &     0 &      0 &     12 &          0 &      0 &        0 &        0 &                 0 &        0 &       5 &       0 &       0 &      0 &        0 &       0 &       1 &     0 &     1 &      1 &     2 &  0 &     0 &       2 &                2 &          4 &     0 \\\\\n",
       "FSEG &     0 &   1 &   0 &   0 &         0 &       2 &             0 &       1 &         0 &         0 &              0 &            0 &             0 &                0 &                0 &            0 &                0 &                0 &                0 &                0 &                  0 &                 0 &         0 &       3 &             1 &             0 &       2 &             0 &        0 &      0 &       1 &         0 &       0 &       1 &      1 &        2 &       0 &       0 &         0 &       1 &         0 &        1 &                 1 &                 0 &     0 &                  1 &              4 &      0 &        0 &     0 &         4 &                         1 &      1 &     24 &            0 &     3 &      0 &       0 &        21 &                   1 &       0 &     5 &            9 &       0 &     1 &       2 &     0 &        1 &       1 &       3 &        65 &       0 &      0 &        0 &         1 &      1 &       1 &     1 &      0 &      0 &            2 &         0 &          1 &      0 &           0 &       0 &       1 &        1 &         1 &       0 &       0 &        1 &       0 &         4 &         0 &        1 &            0 &       3 &        0 &       0 &          0 &         0 &        0 &        1 &        0 &         0 &                0 &        0 &        0 &        4 &        0 &          0 &       0 &      0 &           0 &         1 &                1 &       0 &      0 &        15 &                  1 &        1 &        0 &       0 &                     2 &                              0 &                                  0 &                             0 &                        4 &                         1 &                              0 &                      1 &                        1 &          1 &          0 &        1 &          3 &         2 &       24 &          0 &         0 &                0 &           0 &           1 &            0 &                         0 &                            0 &        0 &         1 &       0 &                 0 &    0 &    1 &           4 &          0 &             2 &                  0 &         3 &                0 &            1 &         0 &              0 &      0 &      1 &     0 &             0 &       0 &              1 &       10 &                1 &       3 &     0 &        5 &           0 &      45 &       1 &       0 &    0 &             2 &          1 &        0 &        0 &        0 &                          0 &                            1 &                        2 &          2 &                   0 &                                0 &               1 &          2 &              2 &                      0 &              4 &         1 &     0 &      1 &       0 &     36 &       1 &           1 &       0 &        4 &      10 &       0 &         1 &   12 &       1 &               3 &                  0 &         1 &         0 &              0 &      0 &            0 &      0 &          0 &                    0 &                 0 &         0 &     0 &       0 &      0 &          0 &               1 &          0 &     0 &         0 &                0 &             3 &     0 &               0 &            1 &          2 &     3 &            0 &    0 &           1 &                    0 &     0 &     0 &     1 &       7 &     0 &                  1 &              0 &         0 &       1 &        0 &       0 &        1 &       0 &              0 &          0 &            0 &        6 &       10 &         0 &          1 &        0 &        1 &       2 &      0 &          0 &             0 &         1 &             0 &      0 &        0 &         0 &       6 &        1 &        0 &         1 &        9 &        0 &       1 &      0 &       1 &         0 &          0 &        0 &      0 &      1 &        0 &     0 &        0 &        0 &       0 &       0 &        1 &        1 &        0 &         1 &        20 &      0 &        0 &       2 &          1 &         1 &           0 &       0 &        1 &         1 &           2 &           0 &          0 &        0 &        0 &       0 &       0 &       2 &         0 &          0 &         0 &        10 &         2 &          1 &         0 &                  0 &            5 &            1 &           0 &          2 &             1 &          0 &          1 &       0 &         0 &       0 &            0 &                  0 &         0 &      0 &         0 &     0 &     1 &       1 &       0 &        0 &       0 &     1 &        7 &       0 &       1 &        0 &         0 &        5 &                 1 &        0 &      0 &       0 &        1 &                 0 &           7 &      0 &                        0 &               1 &        0 &           4 &          0 &         1 &       0 &       0 &      1 &                    0 &         51 &                   0 &         1 &        0 &       41 &        0 &        1 &     0 &                 9 &       0 &            4 &           1 &          0 &           0 &         30 &            0 &      0 &        0 &       1 &        1 &       1 &        3 &              0 &       1 &         16 &           0 &       0 &         0 &       0 &             1 &       2 &        0 &       0 &        1 &        6 &            0 &       0 &          3 &       4 &       6 &       1 &      0 &          0 &        0 &     0 &     1 &       148 &      0 &             1 &          5 &                         1 &                   1 &            10 &         1 &           8 &                12 &         24 &       6 &      0 &        0 &        0 &        0 &           29 &                  1 &             0 &           7 &            2 &               0 &     21 &          0 &       1 &       0 &     0 &      19 &          1 &       7 &     0 &     2 &       0 &           0 &        0 &        1 &        0 &          0 &          0 &           0 &         0 &         0 &     151 &              6 &       0 &        1 &       0 &         3 &        7 &       6 &      1 &            0 &               0 &          0 &     34 &        1 &       0 &                          1 &                 3 &       0 &         0 &          0 &            7 &          4 &          0 &          3 &          0 &          1 &      0 &      0 &      1 &     0 &            2 &       0 &                       1 &              1 &                 4 &                          0 &      0 &        1 &        0 &         0 &         0 &         3 &        0 &          0 &        1 &               1 &       0 &            5 &                      0 &           0 &                     0 &             0 &           4 &                    0 &              1 &                      0 &               1 &             47 &     0 &       0 &       0 &          0 &       1 &              1 &                            0 &       7 &       0 &        1 &       0 &        1 &      0 &                 0 &            0 &           2 &         28 &          0 &       2 &       0 &                    0 &                             0 &                          0 &                    1 &         0 &        0 &        0 &                  0 &       0 &          1 &       5 &      0 &       1 &       0 &        0 &          1 &           0 &        0 &         0 &             0 &      4 &          2 &              1 &       0 &         7 &     0 &         1 &         0 &         0 &     28 &        2 &       0 &         1 &                                  1 &          0 &          1 &     0 &      0 &     18 &          1 &      0 &        0 &        1 &                 1 &        0 &       8 &       0 &       0 &      3 &        0 &       0 &       0 &     2 &     0 &      0 &     5 &  0 &     0 &      42 &                2 &          1 &     1 \\\\\n",
       "FSTA &     0 &   0 &   1 &   1 &         0 &       0 &             1 &       0 &         0 &         0 &              1 &            0 &             0 &                0 &                0 &            0 &                0 &                1 &                0 &                0 &                  0 &                 0 &         0 &       1 &             0 &             0 &       3 &             0 &        0 &      0 &       1 &         0 &       0 &       0 &      0 &        0 &       1 &       0 &         0 &       0 &         0 &        0 &                 2 &                 1 &     0 &                  0 &              2 &      1 &        0 &     1 &        23 &                         0 &      1 &     22 &            0 &     0 &      0 &       0 &         4 &                   0 &       1 &     3 &           13 &       0 &     0 &      14 &     0 &        0 &       0 &       1 &        31 &       2 &      1 &        0 &         0 &      0 &       1 &     0 &      0 &      0 &            1 &         0 &          0 &      0 &           0 &       0 &       0 &        0 &         0 &       0 &       0 &        0 &       0 &         0 &         0 &        1 &            0 &       1 &        0 &       0 &          1 &         0 &        0 &        1 &        0 &         0 &                0 &        1 &        1 &        6 &        0 &          0 &       1 &      0 &           0 &         0 &                0 &       0 &      0 &         0 &                  0 &        2 &        0 &       4 &                     0 &                              2 &                                  0 &                             0 &                        0 &                         0 &                              1 &                      0 &                        0 &          0 &          0 &        1 &          1 &         0 &       18 &          0 &         0 &                0 &           0 &           4 &            0 &                         1 &                            0 &        0 &         0 &       1 &                 1 &    0 &    0 &           0 &          1 &             6 &                  0 &         7 &                4 &            0 &         0 &              0 &      1 &      1 &     0 &             2 &       0 &              0 &        0 &                0 &       1 &     1 &        6 &           0 &      18 &       0 &       1 &    0 &             0 &          0 &        1 &        1 &        0 &                          0 &                            0 &                        1 &          0 &                   0 &                                0 &               0 &          3 &              2 &                      0 &              0 &         0 &     1 &      0 &       2 &      8 &       0 &           0 &       1 &        1 &      12 &       0 &         0 &    4 &       0 &               6 &                  0 &         0 &         0 &              0 &      1 &            1 &      0 &          0 &                    0 &                 0 &         1 &     0 &       0 &      1 &          1 &               1 &          1 &     0 &         0 &                1 &             0 &     0 &               8 &           30 &          9 &    59 &            4 &    0 &           0 &                    0 &     0 &     0 &     0 &       2 &     0 &                  0 &              0 &         0 &       0 &        0 &       0 &        0 &       1 &              2 &          0 &            0 &        1 &        6 &         0 &          0 &        1 &        4 &       1 &      0 &          0 &             2 &         0 &             0 &      0 &        0 &         0 &       2 &        0 &        0 &         1 &        2 &        0 &       2 &      0 &       1 &         0 &          0 &        0 &      1 &      0 &        0 &     1 &        0 &        0 &       1 &       0 &        0 &        1 &        0 &         0 &         1 &      1 &        0 &       0 &          1 &         0 &           1 &       0 &        0 &         2 &           0 &           1 &          0 &        0 &        1 &       1 &       0 &       0 &         0 &          0 &         0 &        45 &         0 &          0 &         1 &                  0 &            3 &            0 &           1 &          0 &             0 &          0 &          2 &       0 &         0 &       0 &            0 &                  0 &         0 &      0 &         0 &     0 &     0 &       0 &       1 &        0 &       0 &     0 &        4 &       0 &       0 &        0 &         0 &        1 &                 0 &        1 &      0 &       0 &        0 &                 0 &           0 &      0 &                        1 &               0 &        0 &           1 &          0 &         0 &       1 &       0 &      0 &                    0 &          7 &                   0 &         0 &        8 &       39 &        0 &        0 &     1 &                 3 &       0 &            2 &           0 &          0 &           0 &          3 &            1 &      0 &        0 &       0 &        0 &       2 &        0 &              0 &       0 &         15 &           0 &       0 &         0 &       1 &             0 &       1 &        0 &       0 &        0 &        3 &            0 &       0 &          0 &       0 &       4 &       1 &      0 &          0 &        1 &     1 &     0 &        27 &      0 &             1 &          3 &                         1 &                   1 &             3 &         0 &           0 &                 1 &          4 &       4 &      0 &        0 &        0 &        1 &           12 &                  0 &             0 &           1 &            0 &               0 &      6 &          0 &       0 &       0 &     0 &       5 &          0 &       2 &     2 &     0 &       1 &           1 &        1 &        0 &        0 &          0 &          0 &           0 &         0 &         0 &      59 &              3 &       1 &        0 &       1 &         3 &        3 &       4 &      0 &            0 &               1 &          1 &     16 &        1 &       1 &                          0 &                 0 &       0 &         0 &          0 &            3 &          0 &          0 &          2 &          2 &          0 &      0 &      3 &      0 &     1 &            0 &       0 &                       0 &              0 &                 2 &                          0 &      1 &        0 &        0 &         0 &         0 &         0 &        0 &          0 &        2 &               0 &       0 &            2 &                      2 &          17 &                     1 &             1 &          14 &                    0 &              0 &                      1 &               3 &              5 &     0 &       0 &       0 &          0 &       0 &              0 &                            0 &       3 &       0 &        1 &       2 &        0 &      0 &                 0 &            1 &           0 &          3 &          1 &       0 &       0 &                    2 &                             0 &                          1 &                    1 &         1 &        1 &        0 &                  0 &       0 &          0 &       0 &      0 &       0 &       0 &        1 &          0 &           0 &        0 &         0 &             1 &      1 &          3 &              0 &       0 &         0 &     1 &         0 &         7 &         0 &     15 &        0 &       0 &         0 &                                  0 &          0 &          0 &     1 &      0 &      4 &          0 &      0 &        0 &        0 &                 0 &        0 &       8 &       0 &       0 &      3 &        1 &       0 &       2 &     0 &     3 &      0 &     5 &  0 &     0 &       3 &                3 &          0 &     0 \\\\\n",
       "FT   &     0 &   0 &   0 &   0 &         0 &       0 &             0 &       0 &         0 &         0 &              0 &            0 &             0 &                0 &                0 &            0 &                0 &                0 &                0 &                0 &                  1 &                 0 &         0 &       0 &             0 &             0 &       0 &             0 &        0 &      0 &       0 &         0 &       0 &       0 &      0 &        0 &       0 &       0 &         0 &       0 &         1 &        0 &                 0 &                 0 &     1 &                  0 &              2 &      0 &        0 &     1 &         0 &                         0 &      0 &      1 &            0 &     0 &      1 &       4 &         1 &                   0 &       0 &     2 &            1 &       0 &     0 &       0 &     0 &        0 &       0 &       0 &         0 &       0 &      1 &        0 &         0 &      0 &       0 &     0 &      1 &      0 &            0 &         0 &          0 &      0 &           0 &       0 &       1 &        0 &         0 &       1 &       0 &        0 &       1 &         0 &         0 &        0 &            2 &       5 &        2 &       0 &          0 &         0 &        1 &        0 &        0 &         0 &                0 &        0 &        0 &        1 &        0 &          1 &       0 &      0 &           0 &         0 &                0 &       0 &      0 &         0 &                  0 &        2 &        0 &       0 &                     0 &                              0 &                                  0 &                             0 &                        0 &                         0 &                              0 &                      0 &                        0 &          0 &          0 &        0 &          0 &         0 &        0 &          0 &         0 &                0 &           1 &           0 &            0 &                         0 &                            0 &        0 &         0 &       0 &                 0 &    0 &    0 &           0 &          0 &             0 &                  0 &         0 &                0 &            0 &         0 &              0 &      0 &      0 &     0 &             0 &       1 &              0 &        0 &                0 &       0 &     0 &        0 &           0 &       0 &       0 &       0 &    0 &             0 &          0 &        0 &        0 &        1 &                          0 &                            0 &                        0 &          0 &                   0 &                                0 &               0 &          1 &              0 &                      0 &              0 &         0 &     0 &      0 &       0 &      4 &       0 &           0 &       0 &        4 &       1 &       0 &         0 &    0 &       0 &               0 &                  0 &         0 &         0 &              1 &      0 &            0 &      0 &          0 &                    0 &                 0 &         0 &     1 &       0 &      0 &          0 &               0 &          0 &     1 &         0 &                0 &             0 &     0 &               0 &            0 &          0 &     0 &            0 &    0 &           0 &                    0 &     0 &     0 &     0 &       1 &     0 &                  0 &              0 &         0 &       0 &        0 &       0 &        0 &       0 &              0 &          0 &            0 &        8 &        5 &         0 &          0 &        0 &        0 &       0 &      0 &          1 &             0 &         0 &             0 &      0 &        0 &         1 &       0 &        0 &        0 &         2 &        0 &        0 &       1 &      1 &       0 &         0 &          0 &        0 &      0 &      0 &        0 &     0 &        0 &        0 &       0 &       0 &        0 &        1 &        0 &         0 &         0 &      0 &        0 &       0 &          0 &         3 &           0 &       1 &        1 &         6 &           0 &           4 &          0 &        1 &        0 &       0 &       0 &       0 &         0 &          1 &         1 &         0 &         0 &          0 &         0 &                  0 &            0 &            0 &           0 &          0 &             0 &          0 &          0 &       0 &         0 &       0 &            0 &                  0 &         0 &      1 &         0 &     0 &     0 &       0 &       0 &        0 &       0 &     0 &        0 &       0 &       0 &        1 &         0 &        0 &                 0 &        0 &      0 &       0 &        0 &                 0 &           0 &      0 &                        0 &               0 &        0 &           0 &          0 &         0 &       0 &       1 &      0 &                    0 &          1 &                   0 &         0 &        0 &        3 &        0 &        0 &     0 &                 0 &       0 &            0 &           0 &          0 &           0 &          0 &            0 &      0 &        1 &       0 &        0 &       0 &        0 &              0 &       0 &          0 &           0 &       1 &         0 &       0 &             0 &       0 &        0 &       0 &        0 &        0 &            0 &       2 &          0 &       0 &       1 &       0 &      0 &          0 &        0 &     0 &     0 &         1 &      0 &             0 &          1 &                         0 &                   0 &             0 &         0 &           0 &                 0 &          1 &       0 &      1 &        0 &        0 &        1 &            0 &                  0 &             0 &           0 &            0 &               0 &      0 &          0 &       0 &       0 &     0 &       1 &          0 &       2 &     0 &     0 &       0 &           1 &        0 &        0 &        0 &          0 &          0 &           0 &         0 &         0 &       0 &              1 &       0 &        0 &       0 &         0 &        1 &       2 &      0 &            0 &               0 &          0 &      5 &        0 &       0 &                          0 &                 0 &       0 &         0 &          1 &            0 &          0 &          0 &          0 &          0 &          0 &      0 &      0 &      0 &     0 &            1 &       0 &                       0 &              0 &                 0 &                          0 &      0 &        0 &        0 &         0 &         0 &         1 &        0 &          0 &        1 &               0 &       0 &            0 &                      0 &           0 &                     0 &             0 &           0 &                    0 &              0 &                      0 &               0 &              0 &     0 &       1 &       0 &          0 &       0 &              0 &                            0 &       1 &       1 &        0 &       0 &        0 &      0 &                 0 &            1 &           0 &          0 &          0 &       0 &       0 &                    0 &                             0 &                          0 &                    0 &         0 &        0 &        0 &                  0 &       0 &          0 &       1 &      0 &       0 &       0 &        0 &          0 &           0 &        0 &         0 &             0 &      1 &          0 &              0 &       0 &         1 &     0 &         2 &         0 &         1 &      1 &        0 &       0 &         0 &                                  0 &          1 &          0 &     0 &      0 &      0 &          0 &      0 &        1 &        0 &                 0 &        1 &       0 &       0 &       1 &      0 &        0 &       0 &       0 &     0 &     0 &      0 &     0 &  0 &     1 &       0 &                0 &          0 &     0 \\\\\n",
       "\\bottomrule\n",
       "\\end{tabular}\n",
       "}"
      ],
      "text/plain": [
       "SCHOOL_RIGHT  1uto  53  54  61  Alleluya  BWANGA  Bungulu Beni  GRACIA  \\\n",
       "FAC                                                                      \n",
       "FD               0   0   0   0         1       0             0       0   \n",
       "FM               0   0   0   0         0       0             0       0   \n",
       "FPSE             0   0   0   0         0       0             0       0   \n",
       "FSDC             1   0   0   1         1       0             0       0   \n",
       "FSEG             0   1   0   0         0       2             0       1   \n",
       "FSTA             0   0   1   1         0       0             1       0   \n",
       "FT               0   0   0   0         0       0             0       0   \n",
       "\n",
       "SCHOOL_RIGHT  I DE BKV  I LWANGA  ...   wema  weza  weza2  wima  z  zako  \\\n",
       "FAC                               ...                                      \n",
       "FD                   1         0  ...      0     1      0     8  1     0   \n",
       "FM                   0         0  ...      0     0      0     0  0     0   \n",
       "FPSE                 0         0  ...      0     1      0     1  0     0   \n",
       "FSDC                 0         1  ...      0     1      1     2  0     0   \n",
       "FSEG                 0         0  ...      2     0      0     5  0     0   \n",
       "FSTA                 0         0  ...      0     3      0     5  0     0   \n",
       "FT                   0         0  ...      0     0      0     0  0     1   \n",
       "\n",
       "SCHOOL_RIGHT  zanner  zawadi ya raisi  ziwa kivu  zuza  \n",
       "FAC                                                     \n",
       "FD                29                4          1     0  \n",
       "FM                 2                0          0     0  \n",
       "FPSE               0                1          0     0  \n",
       "FSDC               2                2          4     0  \n",
       "FSEG              42                2          1     1  \n",
       "FSTA               3                3          0     0  \n",
       "FT                 0                0          0     0  \n",
       "\n",
       "[7 rows x 594 columns]"
      ]
     },
     "execution_count": 40,
     "metadata": {},
     "output_type": "execute_result"
    }
   ],
   "source": [
    "facSchoolChi2.contengencyTable()"
   ]
  },
  {
   "cell_type": "code",
   "execution_count": 42,
   "metadata": {},
   "outputs": [
    {
     "data": {
      "text/html": [
       "<div>\n",
       "<table border=\"1\" class=\"dataframe\">\n",
       "  <thead>\n",
       "    <tr style=\"text-align: right;\">\n",
       "      <th>SCHOOL_RIGHT</th>\n",
       "      <th>1uto</th>\n",
       "      <th>53</th>\n",
       "      <th>54</th>\n",
       "      <th>61</th>\n",
       "      <th>Alleluya</th>\n",
       "      <th>BWANGA</th>\n",
       "      <th>Bungulu Beni</th>\n",
       "      <th>GRACIA</th>\n",
       "      <th>I DE BKV</th>\n",
       "      <th>I LWANGA</th>\n",
       "      <th>...</th>\n",
       "      <th>wema</th>\n",
       "      <th>weza</th>\n",
       "      <th>weza2</th>\n",
       "      <th>wima</th>\n",
       "      <th>z</th>\n",
       "      <th>zako</th>\n",
       "      <th>zanner</th>\n",
       "      <th>zawadi ya raisi</th>\n",
       "      <th>ziwa kivu</th>\n",
       "      <th>zuza</th>\n",
       "    </tr>\n",
       "    <tr>\n",
       "      <th>FAC</th>\n",
       "      <th></th>\n",
       "      <th></th>\n",
       "      <th></th>\n",
       "      <th></th>\n",
       "      <th></th>\n",
       "      <th></th>\n",
       "      <th></th>\n",
       "      <th></th>\n",
       "      <th></th>\n",
       "      <th></th>\n",
       "      <th></th>\n",
       "      <th></th>\n",
       "      <th></th>\n",
       "      <th></th>\n",
       "      <th></th>\n",
       "      <th></th>\n",
       "      <th></th>\n",
       "      <th></th>\n",
       "      <th></th>\n",
       "      <th></th>\n",
       "      <th></th>\n",
       "    </tr>\n",
       "  </thead>\n",
       "  <tbody>\n",
       "    <tr>\n",
       "      <th>FD</th>\n",
       "      <td>0.190032</td>\n",
       "      <td>0.190032</td>\n",
       "      <td>0.190032</td>\n",
       "      <td>0.380064</td>\n",
       "      <td>0.380064</td>\n",
       "      <td>0.380064</td>\n",
       "      <td>0.190032</td>\n",
       "      <td>0.190032</td>\n",
       "      <td>0.190032</td>\n",
       "      <td>0.190032</td>\n",
       "      <td>...</td>\n",
       "      <td>0.380064</td>\n",
       "      <td>1.140191</td>\n",
       "      <td>0.190032</td>\n",
       "      <td>3.990668</td>\n",
       "      <td>0.190032</td>\n",
       "      <td>0.190032</td>\n",
       "      <td>14.822481</td>\n",
       "      <td>2.280382</td>\n",
       "      <td>1.140191</td>\n",
       "      <td>0.190032</td>\n",
       "    </tr>\n",
       "    <tr>\n",
       "      <th>FM</th>\n",
       "      <td>0.051326</td>\n",
       "      <td>0.051326</td>\n",
       "      <td>0.051326</td>\n",
       "      <td>0.102651</td>\n",
       "      <td>0.102651</td>\n",
       "      <td>0.102651</td>\n",
       "      <td>0.051326</td>\n",
       "      <td>0.051326</td>\n",
       "      <td>0.051326</td>\n",
       "      <td>0.051326</td>\n",
       "      <td>...</td>\n",
       "      <td>0.102651</td>\n",
       "      <td>0.307953</td>\n",
       "      <td>0.051326</td>\n",
       "      <td>1.077837</td>\n",
       "      <td>0.051326</td>\n",
       "      <td>0.051326</td>\n",
       "      <td>4.003393</td>\n",
       "      <td>0.615907</td>\n",
       "      <td>0.307953</td>\n",
       "      <td>0.051326</td>\n",
       "    </tr>\n",
       "    <tr>\n",
       "      <th>FPSE</th>\n",
       "      <td>0.048144</td>\n",
       "      <td>0.048144</td>\n",
       "      <td>0.048144</td>\n",
       "      <td>0.096288</td>\n",
       "      <td>0.096288</td>\n",
       "      <td>0.096288</td>\n",
       "      <td>0.048144</td>\n",
       "      <td>0.048144</td>\n",
       "      <td>0.048144</td>\n",
       "      <td>0.048144</td>\n",
       "      <td>...</td>\n",
       "      <td>0.096288</td>\n",
       "      <td>0.288865</td>\n",
       "      <td>0.048144</td>\n",
       "      <td>1.011029</td>\n",
       "      <td>0.048144</td>\n",
       "      <td>0.048144</td>\n",
       "      <td>3.755249</td>\n",
       "      <td>0.577731</td>\n",
       "      <td>0.288865</td>\n",
       "      <td>0.048144</td>\n",
       "    </tr>\n",
       "    <tr>\n",
       "      <th>FSDC</th>\n",
       "      <td>0.160764</td>\n",
       "      <td>0.160764</td>\n",
       "      <td>0.160764</td>\n",
       "      <td>0.321527</td>\n",
       "      <td>0.321527</td>\n",
       "      <td>0.321527</td>\n",
       "      <td>0.160764</td>\n",
       "      <td>0.160764</td>\n",
       "      <td>0.160764</td>\n",
       "      <td>0.160764</td>\n",
       "      <td>...</td>\n",
       "      <td>0.321527</td>\n",
       "      <td>0.964581</td>\n",
       "      <td>0.160764</td>\n",
       "      <td>3.376034</td>\n",
       "      <td>0.160764</td>\n",
       "      <td>0.160764</td>\n",
       "      <td>12.539555</td>\n",
       "      <td>1.929162</td>\n",
       "      <td>0.964581</td>\n",
       "      <td>0.160764</td>\n",
       "    </tr>\n",
       "    <tr>\n",
       "      <th>FSEG</th>\n",
       "      <td>0.328526</td>\n",
       "      <td>0.328526</td>\n",
       "      <td>0.328526</td>\n",
       "      <td>0.657052</td>\n",
       "      <td>0.657052</td>\n",
       "      <td>0.657052</td>\n",
       "      <td>0.328526</td>\n",
       "      <td>0.328526</td>\n",
       "      <td>0.328526</td>\n",
       "      <td>0.328526</td>\n",
       "      <td>...</td>\n",
       "      <td>0.657052</td>\n",
       "      <td>1.971156</td>\n",
       "      <td>0.328526</td>\n",
       "      <td>6.899046</td>\n",
       "      <td>0.328526</td>\n",
       "      <td>0.328526</td>\n",
       "      <td>25.625027</td>\n",
       "      <td>3.942312</td>\n",
       "      <td>1.971156</td>\n",
       "      <td>0.328526</td>\n",
       "    </tr>\n",
       "    <tr>\n",
       "      <th>FSTA</th>\n",
       "      <td>0.191516</td>\n",
       "      <td>0.191516</td>\n",
       "      <td>0.191516</td>\n",
       "      <td>0.383033</td>\n",
       "      <td>0.383033</td>\n",
       "      <td>0.383033</td>\n",
       "      <td>0.191516</td>\n",
       "      <td>0.191516</td>\n",
       "      <td>0.191516</td>\n",
       "      <td>0.191516</td>\n",
       "      <td>...</td>\n",
       "      <td>0.383033</td>\n",
       "      <td>1.149099</td>\n",
       "      <td>0.191516</td>\n",
       "      <td>4.021845</td>\n",
       "      <td>0.191516</td>\n",
       "      <td>0.191516</td>\n",
       "      <td>14.938282</td>\n",
       "      <td>2.298197</td>\n",
       "      <td>1.149099</td>\n",
       "      <td>0.191516</td>\n",
       "    </tr>\n",
       "    <tr>\n",
       "      <th>FT</th>\n",
       "      <td>0.029692</td>\n",
       "      <td>0.029692</td>\n",
       "      <td>0.029692</td>\n",
       "      <td>0.059385</td>\n",
       "      <td>0.059385</td>\n",
       "      <td>0.059385</td>\n",
       "      <td>0.029692</td>\n",
       "      <td>0.029692</td>\n",
       "      <td>0.029692</td>\n",
       "      <td>0.029692</td>\n",
       "      <td>...</td>\n",
       "      <td>0.059385</td>\n",
       "      <td>0.178155</td>\n",
       "      <td>0.029692</td>\n",
       "      <td>0.623542</td>\n",
       "      <td>0.029692</td>\n",
       "      <td>0.029692</td>\n",
       "      <td>2.316013</td>\n",
       "      <td>0.356310</td>\n",
       "      <td>0.178155</td>\n",
       "      <td>0.029692</td>\n",
       "    </tr>\n",
       "  </tbody>\n",
       "</table>\n",
       "<p>7 rows × 594 columns</p>\n",
       "</div>"
      ],
      "text/latex": [
       "\\centering{\\begin{tabular}{lrrrrrrrrrrrrrrrrrrrrrrrrrrrrrrrrrrrrrrrrrrrrrrrrrrrrrrrrrrrrrrrrrrrrrrrrrrrrrrrrrrrrrrrrrrrrrrrrrrrrrrrrrrrrrrrrrrrrrrrrrrrrrrrrrrrrrrrrrrrrrrrrrrrrrrrrrrrrrrrrrrrrrrrrrrrrrrrrrrrrrrrrrrrrrrrrrrrrrrrrrrrrrrrrrrrrrrrrrrrrrrrrrrrrrrrrrrrrrrrrrrrrrrrrrrrrrrrrrrrrrrrrrrrrrrrrrrrrrrrrrrrrrrrrrrrrrrrrrrrrrrrrrrrrrrrrrrrrrrrrrrrrrrrrrrrrrrrrrrrrrrrrrrrrrrrrrrrrrrrrrrrrrrrrrrrrrrrrrrrrrrrrrrrrrrrrrrrrrrrrrrrrrrrrrrrrrrrrrrrrrrrrrrrrrrrrrrrrrrrrrrrrrrrrrrrrrrrrrrrrrrrrrrrrrrrrrrrrrrrrrrrrrrrrrrrrrrrrrrrrrrrrrrrrrrrrrrrrrrrrrrrrrrrrrrrrrrrrrrrrrrrrrrrrrrrrrrrrrrrrrrrrrrrrrrrrrrrrrrrrrrrrrrrrrrrrrr}\n",
       "\\toprule\n",
       "SCHOOL\\_RIGHT &      1uto &        53 &        54 &        61 &  Alleluya &    BWANGA &  Bungulu Beni &    GRACIA &  I DE BKV &  I LWANGA &  INST DE KATWA &  INST LWANGA &  INST. MPINGA &  INSTITUT BWINZI &  INSTITUT LWANGA &  ITM DE BOGA &  Institut BWANGA &  Institut MWANDA &  Institut MWANZO &  Institut NJANJA &  Institut de KATWA &  Intitut ALLELUYA &  L MWANDU &    LWANGA &  LYCEE MWANDU &  LYCEE MWINDA &    Lwanga &  Lycée Mwandu &   MUGUNGA &     MWANA &    MWANDU &  MWANGAZA &    MWANGI &    MWENGA &     Mbaga &   Mugunga &    Mwanda &    Mwandu &  Mwangaza &    Mwanzo &  NDEREMBI &   Rwaraga &  action kusaidiya &  adventiste/bunia &      aero &  ahenée de butembo &  aigle de dieu &     akili &   aleluya &      alfa &   alfajiri &  alliance ouest africaine &     alpha &      amani &  amani cebia &      amen &     amina &    amkeni &   anuarite &  anuarite/kisangani &    asseco &      auto &  autodidacte &    autsau &      auzi &    avenir &      azma &   babwise &    bagira &    bahati &   bakandja &    bakita &     bambu &   bandari &  bandashe &     banza &    baraka &      base &     bashu &     belge &  bemba gombo &  bethanie &  bethsaida &     bibwe &  bigilimani &    bikuba &    bikuka &   bimenya &  bobokoli &    bokolo &    bokoro &   bonsomi &    boyulu &  bsangani &  bugarula &   buhimba &  bukinanyana &     bulera &   bulumbi &    bundji &  bunyakiri &  bunyanga &   buramba &   burhiba &   burhuza &  bushumba &  bushumba kafubi &   busimba &   bustani &   butembo &   butumba &  bweremana &    bwindi &     bwito &  c,s, umoja &  camp fac &  cardinale etsou &    carmel &     ceago &   chemchem &  chemchem ya uzima &   chidasa &   cibanda &    cirezi &  communautaire du lac &  complex scolaire la veronique &  complexe scolaire asteria urafiki &  complexe scolaire de l'unité &  complexe scolaire kyabo &  complexe scolaire mulezi &  complexe scolaire nova stella &  conglais (au burundi) &  congolaise de bujumbura &  de bagira &  de basoko &   de beni &  de bukavu &  de bunia &    de goma &  de kalamu &  de kindu &  de kingasani ii &  de kirumba &  de l'unite &  de la gombe &  de la sucrerie de kiliba &  de récupération de la gombe &   diabena &  dibasana &    du lac &  du lac/kamvivira &       ebi &       ecl &  edac/isgea &  edak/goma &  edap isp bkv &  edap isp walikale &  edap/isp &  edap/isp bukavu &  edap/kasuku &  edap/upn &  eistein ujuzi &     elise &     enano &      epaf &  epsk/fomulac &    esengo &  esise/gisenyi &   espoir1 &  essi nyamirambo &    etoile &      etpm &   fadhili &  famila dei &     faraja &    fatima &    fazili &       fdf &  frere alimba &  g.s lemba &   galaxie &   gihundu &   gilgali &  goupe scolaire mont sinai &  groupe scol. ndbc de byumba &  groupe scolaire gilgali &  gs 8 mars &  gs asteria urafiki &  gs consulaire congolaise/rwanda &  gs de la salle &  gs kigali &  gs la promise &  gs lumière du progrès &  gs mont sinai &  gs tumba &      gscc &     guido &    hekima &      himbi &    hodari &  home feyen &    humule &   i katwa &     ibanda &    ibanga &  ibanga 2 &       icl &    idambo &  idap isp bunia &  idap isp rutshuru &  ifendula &  ilambula &  imaki/kirumba &     imani &  imani panzi &     imara &  imoteyiti &  insrtitut de masisi &  instituti ndosho &  ipp/beni &      isea &    isingo &     isoko &  it bugabo &  it kasabinyole &  it salama &      itav &  itav bbo &  itav/mushweshwe &  itc ngaliema &      itcb &  itfm maendeleo &  itfm/bukavu &  iti gombe &       itig &  itk mahamba &       itm &  itm kizito &  itm tulizeni/kyondo &      itso &      itsu &      itve &    jikaze &      jiwe &  jjardin de fleurs &  john mabwindi &  kabalaka &    kabale &   kabanda &    kabila &   kabolwa &    kahumo &  kahya cibanda &  kalangala &  kalimabenge &    kalimba &    kalungu &  kamagema &  kamanyola &   kambale &   kambali &    kamole &     kando &  kantundwe &  kanyabayonga &  kanzanza &  kanzulinzuli &     kaoze &   karhale &  kasalala &    kasali &   kashali &   kasheke &  kashenda &   kashofu &   kashozi &    kasika &     kasuo &    katana &  katarina &  katasoire &   katudwe &     kaumo &     kausa &   kavanda &      kaya &   kayadja &   kayanja &    kibabi &    kibali &   kifungo &   kigonza &   kilambo &  kilimani &   kimbilio &     kimua &   kipushi &    kiraku &  kiribunye &  kirikiri &  kirimavolo &    kiruli &   kirumba &  kishanga &  kisolokele &  kitsombiro &  kitumaini &   kitunda &   kitundu &    kivako &    kiwele &    kiyabo &  kuntwala &  kyambogho &  kyatenga &   kyeshero &  l mapema &  l mapendo &  l'amitie &  la charite divine &  la fontaine &  la félicité &  la pereaux &  la releve &  la sapiniere &  la vision &  lasagesse &    laudjo &  le germe &    lemera &  les dibobol &  les petits génies &  les vert &     linzo &  lisalisi &      losa &      lowa &    loyola &    luanga &   luapula &    ludaha &      luka &   lukanga &    lukeba &    lukuga &   lukweti &  lumbishi &   lumiere &  lumiere du monde &   lumumba &     lunya &    lusaka &   luvango &  lwanga bobandana &  lwanzururu &     lwiro &  lyce techn de la pleine &  lycéé anuarité &   lyliane &  maadibisho &  mabakanga &  mabalako &    maboso &    mabula &     macha &  madame de seviniere &  maendeleo &  maendeleo de oicha &  magherya &   mahamba &    majengo &   makyase &   malende &      mali &  malikia wa bingu &    malula &  mama mulezi &  mama mwilu &  mama onja &  mama sarah &  mama yetu &  maman sphie &     mambo &   mambowa &    mandai &   mandayi &    mapema &   mapendo &  mapendo/ngese &    mapera &  maranatha &  masanikilo &    masapi &  mashauri &    masiki &  masikilizano &    masisi &   matanda &    matcha &   matenda &   matendo &  matengenezo &    matolu &  matumaini &    mavuno &    mawato &    mayele &     mboga &  mbolitini &   mbovote &      mehe &      meso &    metanoia &     mfuki &  mgr byaghene &  mgr guido &  mgr guido maria conforti &  mgr henri pierrard &  mgr kataliko &  mgr moke &  mikeno isl &  mikeno islamique &  mikeno nc &    milima &     mlezi &   molende &   moliere &   molière &  mont caemel &  mont des oliviers &  mont kitenge &  mont sinai &  mont sionii &  mont tshikenge &      moria &  moyo safi &    msaada &    mugeri &      muhe &     muhini &  muhungano &    mukaba &      muku &      mulo &    mululu &  mululusake &   mungano &   musanga &   mushere &  musienene &  mutambala &  mutsoperwa &  muungano &  mwajengo &      mwanga &  mwanga/ uvira &    mwendu &   namango &    namire &  namurera &   ndahura &    ndosho &     nduba &  neema kwetu &  nelson mandela &  nengapeta &      ngoma &   nidunga &    nikisi &  notre dame de la jeunesse &  notre dame olame &    nsindo &  nyabibwe &  nyabiondo &  nyabushongo &  nyakasaza &  nyamianda &  nyamukola &  nyantende &  nzamiboko &     odari &     oicha &     okapi &      ovoa &  pain de vie &    patemo &  petit séminaire mugeri &  petits génies &  pilote de katana &  pt seminaire tumaini letu &     rambo &   rijumba &   rufunda &  ruhamiro &  ruharaga &  rutoboko &   ruvunda &  ruwenzori &   rwabika &  révérend samba &    safina &  saint andre &  saint francois xavier &  saint marc &  saint mariya goritti &  saint michel &  saint paul &  saint pierre apôtre &  saint raphael &  saint vincent de paul &  sainte famille &  sainte ursule &      sake &    salama &    salamu &  sauvetage &    savana &  savana school &  savana school international &    sayuni &    seamen &   sebyera &    shalom &   shaloom &     singa &  source du savoir &  st augustin &  st etienne &  st joseph &  st michel &    tabiti &    taraja &  techn. f. maendeleo &  technique de l’Étude sociale &  technique ind. de mahamba &  technique mapendano &  tetembwa &   thabiti &   tisiesi &  tisiesi/karisimbi &    tmaini &  tobongisa &    totoro &     totro &    tshoka &    tsiesi &   tsololo &  tuendelee &  tuha utala &   tujenge &  tujikaze &  tumaini letu &     tumba &  tupendane &  tupendane fec &    tusome &  tuungane &      tuzo &  uaminifu &  uenezaji &  ufamandu &      uhuru &   ujasiri &    ujumbe &  umoja fs &  umuja international french school &  utamaduni &  utaniadun &      utfm &     uvira &      uzima &  veronique &     vihya &   vikanzu &   virunga &  virunga/quartier &   visogho &     visoke &    visolo &    vuhika &     vungi &   wai wai &    wamaza &    wapole &      wema &      weza &     weza2 &      wima &         z &      zako &     zanner &  zawadi ya raisi &  ziwa kivu &      zuza \\\\\n",
       "FAC  &           &           &           &           &           &           &               &           &           &           &                &              &               &                  &                  &              &                  &                  &                  &                  &                    &                   &           &           &               &               &           &               &           &           &           &           &           &           &           &           &           &           &           &           &           &           &                   &                   &           &                    &                &           &           &           &            &                           &           &            &              &           &           &           &            &                     &           &           &              &           &           &           &           &           &           &           &            &           &           &           &           &           &           &           &           &           &              &           &            &           &             &           &           &           &           &           &           &           &           &           &           &           &              &            &           &           &            &           &           &           &           &           &                  &           &           &           &           &            &           &           &             &           &                  &           &           &            &                    &           &           &           &                       &                                &                                    &                               &                          &                           &                                &                        &                          &            &            &           &            &           &            &            &           &                  &             &             &              &                           &                              &           &           &           &                   &           &           &             &            &               &                    &           &                  &              &           &                &           &           &           &               &           &                &           &                  &           &           &           &             &            &           &           &           &               &            &           &           &           &                            &                              &                          &            &                     &                                  &                 &            &                &                        &                &           &           &           &           &            &           &             &           &           &            &           &           &           &           &                 &                    &           &           &                &           &              &           &            &                      &                   &           &           &           &           &            &                 &            &           &           &                  &               &           &                 &              &            &            &              &           &             &                      &           &           &           &           &           &                    &                &           &           &           &           &           &           &                &            &              &            &            &           &            &           &           &           &           &            &               &           &               &           &           &           &           &           &           &           &           &           &           &           &           &           &            &           &           &           &           &           &           &           &           &           &           &           &           &           &            &           &           &           &            &           &             &           &           &           &             &             &            &           &           &           &           &           &           &            &           &            &           &            &           &                    &              &              &             &            &               &            &            &           &           &           &              &                    &           &           &           &           &           &           &           &           &           &           &           &           &           &           &           &           &                   &           &           &           &           &                   &             &           &                          &                 &           &             &            &           &           &           &           &                      &            &                     &           &           &            &           &           &           &                   &           &              &             &            &             &            &              &           &           &           &           &           &           &                &           &            &             &           &           &           &               &           &           &           &           &           &              &           &            &           &           &           &           &            &           &           &           &             &           &               &            &                           &                     &               &           &             &                   &            &           &           &           &           &           &              &                    &               &             &              &                 &            &            &           &           &           &            &            &           &           &           &           &             &           &           &           &            &            &             &           &           &             &                &           &           &           &           &           &           &           &              &                 &            &            &           &           &                            &                   &           &           &            &              &            &            &            &            &            &           &           &           &           &              &           &                         &                &                   &                            &           &           &           &           &           &           &           &            &           &                 &           &              &                        &             &                       &               &             &                      &                &                        &                 &                &           &           &           &            &           &                &                              &           &           &           &           &           &           &                   &              &             &            &            &           &           &                      &                               &                            &                      &           &           &           &                    &           &            &           &           &           &           &           &            &             &           &           &               &           &            &                &           &           &           &           &           &           &            &           &           &           &                                    &            &            &           &           &            &            &           &           &           &                   &           &            &           &           &           &           &           &           &           &           &           &           &           &           &            &                  &            &           \\\\\n",
       "\\midrule\n",
       "FD   &  0.190032 &  0.190032 &  0.190032 &  0.380064 &  0.380064 &  0.380064 &      0.190032 &  0.190032 &  0.190032 &  0.190032 &       0.190032 &     0.190032 &      0.190032 &         0.190032 &         0.190032 &     0.190032 &         0.760127 &         0.190032 &         0.190032 &         0.190032 &           0.190032 &          0.190032 &  0.380064 &  1.520255 &      0.380064 &      0.190032 &  2.470414 &      1.140191 &  0.760127 &  0.190032 &  0.570095 &  0.190032 &  0.190032 &  0.190032 &  0.190032 &  1.710286 &  0.380064 &  0.380064 &  0.380064 &  0.190032 &  0.190032 &  0.190032 &          1.710286 &          0.190032 &  0.190032 &           0.190032 &       2.280382 &  0.190032 &  0.190032 &  0.380064 &   6.081018 &                  0.190032 &  0.570095 &  13.112195 &     0.190032 &  1.900318 &  0.570095 &  1.140191 &   8.741463 &            0.380064 &  0.380064 &  2.660445 &     9.311559 &  0.190032 &  0.190032 &  3.230541 &  0.760127 &  0.190032 &  0.950159 &  1.330223 &  28.694804 &  0.570095 &  0.380064 &  0.190032 &  0.760127 &  0.190032 &  0.570095 &  0.190032 &  0.190032 &  0.380064 &     2.090350 &  0.190032 &   0.570095 &  0.190032 &    1.140191 &  0.190032 &  0.570095 &  0.760127 &  0.380064 &  0.190032 &  0.190032 &  0.190032 &  0.190032 &  1.520255 &  0.190032 &  0.570095 &     0.760127 &   6.271050 &  0.760127 &  0.190032 &   0.190032 &  0.190032 &  0.380064 &  0.380064 &  0.190032 &  0.190032 &         0.190032 &  0.380064 &  0.380064 &  4.560764 &  0.190032 &   0.570095 &  0.760127 &  0.380064 &    0.190032 &  0.190032 &         0.190032 &  0.190032 &  0.190032 &   9.501591 &           0.190032 &  1.520255 &  0.190032 &  1.710286 &              1.900318 &                       0.380064 &                           0.190032 &                      0.190032 &                 1.520255 &                  0.570095 &                       0.190032 &               0.190032 &                 0.190032 &   0.570095 &   0.190032 &  2.090350 &   3.040509 &  0.380064 &  10.451750 &   0.190032 &  0.190032 &         0.380064 &    0.190032 &    1.520255 &     0.190032 &                  0.190032 &                     0.190032 &  0.190032 &  0.190032 &  0.190032 &          0.190032 &  0.190032 &  0.190032 &    1.330223 &   0.190032 &      1.900318 &           0.190032 &  1.900318 &         0.950159 &     0.570095 &  0.380064 &       0.950159 &  0.190032 &  0.380064 &  0.190032 &      0.570095 &  0.190032 &       0.190032 &  2.280382 &         0.190032 &  0.760127 &  0.190032 &  3.420573 &    0.190032 &  18.623118 &  0.190032 &  0.380064 &  0.190032 &      0.570095 &   0.190032 &  0.190032 &  0.190032 &  0.190032 &                   0.190032 &                     0.190032 &                 0.950159 &   1.330223 &            0.380064 &                         0.570095 &        0.570095 &   2.470414 &       1.330223 &               0.760127 &       1.710286 &  0.380064 &  0.190032 &  0.190032 &  2.090350 &  16.342736 &  0.760127 &    0.570095 &  0.190032 &  1.900318 &   6.461082 &  0.190032 &  0.190032 &  5.130859 &  0.190032 &        2.280382 &           0.190032 &  0.190032 &  0.190032 &       0.570095 &  0.190032 &     0.570095 &  0.190032 &   0.190032 &             0.190032 &          0.190032 &  0.190032 &  0.190032 &  0.380064 &  0.380064 &   0.570095 &        0.760127 &   0.190032 &  0.190032 &  0.190032 &         0.190032 &      0.570095 &  0.380064 &        1.520255 &     5.890986 &   2.470414 &  11.972004 &     1.140191 &  0.190032 &    0.760127 &             0.190032 &  0.190032 &  0.190032 &  0.190032 &  2.280382 &  0.570095 &           0.190032 &       0.190032 &  0.380064 &  0.190032 &  0.190032 &  0.190032 &  0.190032 &  0.190032 &       0.570095 &   0.570095 &     0.380064 &   5.890986 &   9.311559 &  0.190032 &   0.190032 &  0.190032 &  2.280382 &  0.760127 &  0.190032 &   0.190032 &      0.570095 &  0.190032 &      0.570095 &  0.190032 &  0.190032 &  0.190032 &  2.470414 &  0.190032 &  0.380064 &  3.040509 &  2.660445 &  0.190032 &  1.710286 &  0.190032 &  1.520255 &  0.190032 &   0.190032 &  0.190032 &  0.190032 &  0.380064 &  0.190032 &  0.190032 &  0.190032 &  0.190032 &  0.190032 &  0.190032 &  0.190032 &  2.280382 &  0.190032 &  0.760127 &   7.601273 &  0.760127 &  0.190032 &  0.760127 &   0.760127 &  1.520255 &    0.380064 &  0.190032 &  0.570095 &  2.850477 &    0.570095 &    2.280382 &   0.190032 &  0.190032 &  0.190032 &  0.190032 &  0.190032 &  0.570095 &  0.190032 &   0.190032 &  0.380064 &  15.012513 &  0.380064 &   0.190032 &  0.190032 &           0.190032 &     3.800636 &     0.380064 &    1.140191 &   1.520255 &      0.760127 &   0.190032 &   1.330223 &  0.190032 &  0.190032 &  0.190032 &     0.190032 &           0.570095 &  0.190032 &  0.190032 &  0.190032 &  0.190032 &  0.190032 &  0.380064 &  0.380064 &  0.190032 &  0.190032 &  0.760127 &  3.990668 &  0.190032 &  0.950159 &  0.190032 &  0.190032 &  1.710286 &          0.380064 &  0.190032 &  0.190032 &  0.190032 &  0.190032 &          0.760127 &    1.710286 &  0.190032 &                 0.190032 &        0.190032 &  0.380064 &    1.710286 &   0.190032 &  0.190032 &  0.190032 &  0.760127 &  0.380064 &             0.190032 &  23.753977 &            0.190032 &  0.190032 &  1.520255 &  19.383245 &  0.190032 &  0.190032 &  0.190032 &          4.370732 &  0.190032 &     1.520255 &    0.190032 &   0.190032 &    0.190032 &   8.741463 &     0.190032 &  0.190032 &  0.190032 &  0.380064 &  0.190032 &  0.760127 &  0.760127 &       0.190032 &  0.190032 &  13.492259 &    0.190032 &  0.190032 &  0.190032 &  0.380064 &      0.570095 &  0.950159 &  0.380064 &  0.190032 &  0.190032 &  4.940827 &     0.190032 &  0.380064 &   0.760127 &  2.090350 &  5.130859 &  0.380064 &  0.380064 &   0.190032 &  0.190032 &  0.380064 &  0.190032 &   58.339767 &  0.190032 &      0.570095 &   1.900318 &                  0.950159 &            0.380064 &      3.230541 &  0.190032 &    3.610604 &          4.370732 &  10.071686 &  3.800636 &  0.190032 &  0.190032 &  0.190032 &  0.380064 &    13.872322 &           0.380064 &      0.190032 &    4.560764 &     0.950159 &        0.190032 &  10.641782 &   0.570095 &  0.190032 &  0.190032 &  0.190032 &   8.741463 &   0.190032 &  4.370732 &  0.380064 &  0.380064 &  1.140191 &    0.950159 &  0.190032 &  0.190032 &  0.760127 &   0.190032 &   0.190032 &    0.190032 &  0.190032 &  0.190032 &   58.339767 &       2.850477 &  0.190032 &  0.190032 &  0.190032 &  1.520255 &  4.750795 &  4.560764 &  0.190032 &     0.380064 &        0.190032 &   0.570095 &  20.143372 &  0.760127 &  0.190032 &                   0.190032 &          1.330223 &  0.190032 &  0.190032 &   0.190032 &     4.560764 &   1.330223 &   0.190032 &   3.040509 &   0.760127 &   0.190032 &  0.190032 &  0.760127 &  0.190032 &  0.190032 &     2.090350 &  0.570095 &                0.190032 &       0.760127 &          1.140191 &                   0.190032 &  0.380064 &  0.190032 &  0.190032 &  0.190032 &  0.190032 &  1.900318 &  0.190032 &   0.380064 &  0.760127 &        0.380064 &  0.190032 &     2.660445 &               0.380064 &    3.230541 &              0.190032 &      2.280382 &    4.560764 &             0.190032 &       0.190032 &               0.190032 &        1.140191 &      22.043690 &  0.570095 &  0.380064 &  0.190032 &   0.380064 &  0.570095 &       0.570095 &                     0.190032 &  4.560764 &  0.190032 &  0.760127 &  1.140191 &  0.380064 &  0.190032 &          0.190032 &     0.760127 &    0.380064 &   8.361400 &   0.380064 &  0.380064 &  0.190032 &             0.380064 &                      0.190032 &                   0.190032 &             0.380064 &  0.190032 &  0.570095 &  0.380064 &           0.190032 &  0.190032 &   0.760127 &  3.990668 &  0.190032 &  0.190032 &  0.190032 &  0.190032 &   1.140191 &    0.190032 &  0.380064 &  0.190032 &      0.760127 &  1.900318 &   3.420573 &       0.950159 &  0.190032 &  3.610604 &  0.190032 &  0.760127 &  2.280382 &  0.570095 &  13.872322 &  0.570095 &  0.190032 &  0.190032 &                           0.190032 &   0.570095 &   0.190032 &  0.190032 &  0.190032 &   7.411241 &   0.570095 &  0.190032 &  0.190032 &  0.570095 &          0.570095 &  0.570095 &   6.271050 &  0.190032 &  0.380064 &  1.520255 &  0.190032 &  0.190032 &  0.570095 &  0.380064 &  1.140191 &  0.190032 &  3.990668 &  0.190032 &  0.190032 &  14.822481 &         2.280382 &   1.140191 &  0.190032 \\\\\n",
       "FM   &  0.051326 &  0.051326 &  0.051326 &  0.102651 &  0.102651 &  0.102651 &      0.051326 &  0.051326 &  0.051326 &  0.051326 &       0.051326 &     0.051326 &      0.051326 &         0.051326 &         0.051326 &     0.051326 &         0.205302 &         0.051326 &         0.051326 &         0.051326 &           0.051326 &          0.051326 &  0.102651 &  0.410604 &      0.102651 &      0.051326 &  0.667232 &      0.307953 &  0.205302 &  0.051326 &  0.153977 &  0.051326 &  0.051326 &  0.051326 &  0.051326 &  0.461930 &  0.102651 &  0.102651 &  0.102651 &  0.051326 &  0.051326 &  0.051326 &          0.461930 &          0.051326 &  0.051326 &           0.051326 &       0.615907 &  0.051326 &  0.051326 &  0.102651 &   1.642418 &                  0.051326 &  0.153977 &   3.541463 &     0.051326 &  0.513256 &  0.153977 &  0.307953 &   2.360976 &            0.102651 &  0.102651 &  0.718558 &     2.514952 &  0.051326 &  0.051326 &  0.872534 &  0.205302 &  0.051326 &  0.256628 &  0.359279 &   7.750159 &  0.153977 &  0.102651 &  0.051326 &  0.205302 &  0.051326 &  0.153977 &  0.051326 &  0.051326 &  0.102651 &     0.564581 &  0.051326 &   0.153977 &  0.051326 &    0.307953 &  0.051326 &  0.153977 &  0.205302 &  0.102651 &  0.051326 &  0.051326 &  0.051326 &  0.051326 &  0.410604 &  0.051326 &  0.153977 &     0.205302 &   1.693743 &  0.205302 &  0.051326 &   0.051326 &  0.051326 &  0.102651 &  0.102651 &  0.051326 &  0.051326 &         0.051326 &  0.102651 &  0.102651 &  1.231813 &  0.051326 &   0.153977 &  0.205302 &  0.102651 &    0.051326 &  0.051326 &         0.051326 &  0.051326 &  0.051326 &   2.566278 &           0.051326 &  0.410604 &  0.051326 &  0.461930 &              0.513256 &                       0.102651 &                           0.051326 &                      0.051326 &                 0.410604 &                  0.153977 &                       0.051326 &               0.051326 &                 0.051326 &   0.153977 &   0.051326 &  0.564581 &   0.821209 &  0.102651 &   2.822906 &   0.051326 &  0.051326 &         0.102651 &    0.051326 &    0.410604 &     0.051326 &                  0.051326 &                     0.051326 &  0.051326 &  0.051326 &  0.051326 &          0.051326 &  0.051326 &  0.051326 &    0.359279 &   0.051326 &      0.513256 &           0.051326 &  0.513256 &         0.256628 &     0.153977 &  0.102651 &       0.256628 &  0.051326 &  0.102651 &  0.051326 &      0.153977 &  0.051326 &       0.051326 &  0.615907 &         0.051326 &  0.205302 &  0.051326 &  0.923860 &    0.051326 &   5.029905 &  0.051326 &  0.102651 &  0.051326 &      0.153977 &   0.051326 &  0.051326 &  0.051326 &  0.051326 &                   0.051326 &                     0.051326 &                 0.256628 &   0.359279 &            0.102651 &                         0.153977 &        0.153977 &   0.667232 &       0.359279 &               0.205302 &       0.461930 &  0.102651 &  0.051326 &  0.051326 &  0.564581 &   4.413998 &  0.205302 &    0.153977 &  0.051326 &  0.513256 &   1.745069 &  0.051326 &  0.051326 &  1.385790 &  0.051326 &        0.615907 &           0.051326 &  0.051326 &  0.051326 &       0.153977 &  0.051326 &     0.153977 &  0.051326 &   0.051326 &             0.051326 &          0.051326 &  0.051326 &  0.051326 &  0.102651 &  0.102651 &   0.153977 &        0.205302 &   0.051326 &  0.051326 &  0.051326 &         0.051326 &      0.153977 &  0.102651 &        0.410604 &     1.591092 &   0.667232 &   3.233510 &     0.307953 &  0.051326 &    0.205302 &             0.051326 &  0.051326 &  0.051326 &  0.051326 &  0.615907 &  0.153977 &           0.051326 &       0.051326 &  0.102651 &  0.051326 &  0.051326 &  0.051326 &  0.051326 &  0.051326 &       0.153977 &   0.153977 &     0.102651 &   1.591092 &   2.514952 &  0.051326 &   0.051326 &  0.051326 &  0.615907 &  0.205302 &  0.051326 &   0.051326 &      0.153977 &  0.051326 &      0.153977 &  0.051326 &  0.051326 &  0.051326 &  0.667232 &  0.051326 &  0.102651 &  0.821209 &  0.718558 &  0.051326 &  0.461930 &  0.051326 &  0.410604 &  0.051326 &   0.051326 &  0.051326 &  0.051326 &  0.102651 &  0.051326 &  0.051326 &  0.051326 &  0.051326 &  0.051326 &  0.051326 &  0.051326 &  0.615907 &  0.051326 &  0.205302 &   2.053022 &  0.205302 &  0.051326 &  0.205302 &   0.205302 &  0.410604 &    0.102651 &  0.051326 &  0.153977 &  0.769883 &    0.153977 &    0.615907 &   0.051326 &  0.051326 &  0.051326 &  0.051326 &  0.051326 &  0.153977 &  0.051326 &   0.051326 &  0.102651 &   4.054719 &  0.102651 &   0.051326 &  0.051326 &           0.051326 &     1.026511 &     0.102651 &    0.307953 &   0.410604 &      0.205302 &   0.051326 &   0.359279 &  0.051326 &  0.051326 &  0.051326 &     0.051326 &           0.153977 &  0.051326 &  0.051326 &  0.051326 &  0.051326 &  0.051326 &  0.102651 &  0.102651 &  0.051326 &  0.051326 &  0.205302 &  1.077837 &  0.051326 &  0.256628 &  0.051326 &  0.051326 &  0.461930 &          0.102651 &  0.051326 &  0.051326 &  0.051326 &  0.051326 &          0.205302 &    0.461930 &  0.051326 &                 0.051326 &        0.051326 &  0.102651 &    0.461930 &   0.051326 &  0.051326 &  0.051326 &  0.205302 &  0.102651 &             0.051326 &   6.415695 &            0.051326 &  0.051326 &  0.410604 &   5.235207 &  0.051326 &  0.051326 &  0.051326 &          1.180488 &  0.051326 &     0.410604 &    0.051326 &   0.051326 &    0.051326 &   2.360976 &     0.051326 &  0.051326 &  0.051326 &  0.102651 &  0.051326 &  0.205302 &  0.205302 &       0.051326 &  0.051326 &   3.644115 &    0.051326 &  0.051326 &  0.051326 &  0.102651 &      0.153977 &  0.256628 &  0.102651 &  0.051326 &  0.051326 &  1.334464 &     0.051326 &  0.102651 &   0.205302 &  0.564581 &  1.385790 &  0.102651 &  0.102651 &   0.051326 &  0.051326 &  0.102651 &  0.051326 &   15.756946 &  0.051326 &      0.153977 &   0.513256 &                  0.256628 &            0.102651 &      0.872534 &  0.051326 &    0.975186 &          1.180488 &   2.720255 &  1.026511 &  0.051326 &  0.051326 &  0.051326 &  0.102651 &     3.746766 &           0.102651 &      0.051326 &    1.231813 &     0.256628 &        0.051326 &   2.874231 &   0.153977 &  0.051326 &  0.051326 &  0.051326 &   2.360976 &   0.051326 &  1.180488 &  0.102651 &  0.102651 &  0.307953 &    0.256628 &  0.051326 &  0.051326 &  0.205302 &   0.051326 &   0.051326 &    0.051326 &  0.051326 &  0.051326 &   15.756946 &       0.769883 &  0.051326 &  0.051326 &  0.051326 &  0.410604 &  1.283139 &  1.231813 &  0.051326 &     0.102651 &        0.051326 &   0.153977 &   5.440509 &  0.205302 &  0.051326 &                   0.051326 &          0.359279 &  0.051326 &  0.051326 &   0.051326 &     1.231813 &   0.359279 &   0.051326 &   0.821209 &   0.205302 &   0.051326 &  0.051326 &  0.205302 &  0.051326 &  0.051326 &     0.564581 &  0.153977 &                0.051326 &       0.205302 &          0.307953 &                   0.051326 &  0.102651 &  0.051326 &  0.051326 &  0.051326 &  0.051326 &  0.513256 &  0.051326 &   0.102651 &  0.205302 &        0.102651 &  0.051326 &     0.718558 &               0.102651 &    0.872534 &              0.051326 &      0.615907 &    1.231813 &             0.051326 &       0.051326 &               0.051326 &        0.307953 &       5.953765 &  0.153977 &  0.102651 &  0.051326 &   0.102651 &  0.153977 &       0.153977 &                     0.051326 &  1.231813 &  0.051326 &  0.205302 &  0.307953 &  0.102651 &  0.051326 &          0.051326 &     0.205302 &    0.102651 &   2.258324 &   0.102651 &  0.102651 &  0.051326 &             0.102651 &                      0.051326 &                   0.051326 &             0.102651 &  0.051326 &  0.153977 &  0.102651 &           0.051326 &  0.051326 &   0.205302 &  1.077837 &  0.051326 &  0.051326 &  0.051326 &  0.051326 &   0.307953 &    0.051326 &  0.102651 &  0.051326 &      0.205302 &  0.513256 &   0.923860 &       0.256628 &  0.051326 &  0.975186 &  0.051326 &  0.205302 &  0.615907 &  0.153977 &   3.746766 &  0.153977 &  0.051326 &  0.051326 &                           0.051326 &   0.153977 &   0.051326 &  0.051326 &  0.051326 &   2.001697 &   0.153977 &  0.051326 &  0.051326 &  0.153977 &          0.153977 &  0.153977 &   1.693743 &  0.051326 &  0.102651 &  0.410604 &  0.051326 &  0.051326 &  0.153977 &  0.102651 &  0.307953 &  0.051326 &  1.077837 &  0.051326 &  0.051326 &   4.003393 &         0.615907 &   0.307953 &  0.051326 \\\\\n",
       "FPSE &  0.048144 &  0.048144 &  0.048144 &  0.096288 &  0.096288 &  0.096288 &      0.048144 &  0.048144 &  0.048144 &  0.048144 &       0.048144 &     0.048144 &      0.048144 &         0.048144 &         0.048144 &     0.048144 &         0.192577 &         0.048144 &         0.048144 &         0.048144 &           0.048144 &          0.048144 &  0.096288 &  0.385154 &      0.096288 &      0.048144 &  0.625875 &      0.288865 &  0.192577 &  0.048144 &  0.144433 &  0.048144 &  0.048144 &  0.048144 &  0.048144 &  0.433298 &  0.096288 &  0.096288 &  0.096288 &  0.048144 &  0.048144 &  0.048144 &          0.433298 &          0.048144 &  0.048144 &           0.048144 &       0.577731 &  0.048144 &  0.048144 &  0.096288 &   1.540615 &                  0.048144 &  0.144433 &   3.321951 &     0.048144 &  0.481442 &  0.144433 &  0.288865 &   2.214634 &            0.096288 &  0.096288 &  0.674019 &     2.359067 &  0.048144 &  0.048144 &  0.818452 &  0.192577 &  0.048144 &  0.240721 &  0.337010 &   7.269777 &  0.144433 &  0.096288 &  0.048144 &  0.192577 &  0.048144 &  0.144433 &  0.048144 &  0.048144 &  0.096288 &     0.529586 &  0.048144 &   0.144433 &  0.048144 &    0.288865 &  0.048144 &  0.144433 &  0.192577 &  0.096288 &  0.048144 &  0.048144 &  0.048144 &  0.048144 &  0.385154 &  0.048144 &  0.144433 &     0.192577 &   1.588759 &  0.192577 &  0.048144 &   0.048144 &  0.048144 &  0.096288 &  0.096288 &  0.048144 &  0.048144 &         0.048144 &  0.096288 &  0.096288 &  1.155461 &  0.048144 &   0.144433 &  0.192577 &  0.096288 &    0.048144 &  0.048144 &         0.048144 &  0.048144 &  0.048144 &   2.407211 &           0.048144 &  0.385154 &  0.048144 &  0.433298 &              0.481442 &                       0.096288 &                           0.048144 &                      0.048144 &                 0.385154 &                  0.144433 &                       0.048144 &               0.048144 &                 0.048144 &   0.144433 &   0.048144 &  0.529586 &   0.770308 &  0.096288 &   2.647932 &   0.048144 &  0.048144 &         0.096288 &    0.048144 &    0.385154 &     0.048144 &                  0.048144 &                     0.048144 &  0.048144 &  0.048144 &  0.048144 &          0.048144 &  0.048144 &  0.048144 &    0.337010 &   0.048144 &      0.481442 &           0.048144 &  0.481442 &         0.240721 &     0.144433 &  0.096288 &       0.240721 &  0.048144 &  0.096288 &  0.048144 &      0.144433 &  0.048144 &       0.048144 &  0.577731 &         0.048144 &  0.192577 &  0.048144 &  0.866596 &    0.048144 &   4.718134 &  0.048144 &  0.096288 &  0.048144 &      0.144433 &   0.048144 &  0.048144 &  0.048144 &  0.048144 &                   0.048144 &                     0.048144 &                 0.240721 &   0.337010 &            0.096288 &                         0.144433 &        0.144433 &   0.625875 &       0.337010 &               0.192577 &       0.433298 &  0.096288 &  0.048144 &  0.048144 &  0.529586 &   4.140403 &  0.192577 &    0.144433 &  0.048144 &  0.481442 &   1.636903 &  0.048144 &  0.048144 &  1.299894 &  0.048144 &        0.577731 &           0.048144 &  0.048144 &  0.048144 &       0.144433 &  0.048144 &     0.144433 &  0.048144 &   0.048144 &             0.048144 &          0.048144 &  0.048144 &  0.048144 &  0.096288 &  0.096288 &   0.144433 &        0.192577 &   0.048144 &  0.048144 &  0.048144 &         0.048144 &      0.144433 &  0.096288 &        0.385154 &     1.492471 &   0.625875 &   3.033086 &     0.288865 &  0.048144 &    0.192577 &             0.048144 &  0.048144 &  0.048144 &  0.048144 &  0.577731 &  0.144433 &           0.048144 &       0.048144 &  0.096288 &  0.048144 &  0.048144 &  0.048144 &  0.048144 &  0.048144 &       0.144433 &   0.144433 &     0.096288 &   1.492471 &   2.359067 &  0.048144 &   0.048144 &  0.048144 &  0.577731 &  0.192577 &  0.048144 &   0.048144 &      0.144433 &  0.048144 &      0.144433 &  0.048144 &  0.048144 &  0.048144 &  0.625875 &  0.048144 &  0.096288 &  0.770308 &  0.674019 &  0.048144 &  0.433298 &  0.048144 &  0.385154 &  0.048144 &   0.048144 &  0.048144 &  0.048144 &  0.096288 &  0.048144 &  0.048144 &  0.048144 &  0.048144 &  0.048144 &  0.048144 &  0.048144 &  0.577731 &  0.048144 &  0.192577 &   1.925769 &  0.192577 &  0.048144 &  0.192577 &   0.192577 &  0.385154 &    0.096288 &  0.048144 &  0.144433 &  0.722163 &    0.144433 &    0.577731 &   0.048144 &  0.048144 &  0.048144 &  0.048144 &  0.048144 &  0.144433 &  0.048144 &   0.048144 &  0.096288 &   3.803393 &  0.096288 &   0.048144 &  0.048144 &           0.048144 &     0.962884 &     0.096288 &    0.288865 &   0.385154 &      0.192577 &   0.048144 &   0.337010 &  0.048144 &  0.048144 &  0.048144 &     0.048144 &           0.144433 &  0.048144 &  0.048144 &  0.048144 &  0.048144 &  0.048144 &  0.096288 &  0.096288 &  0.048144 &  0.048144 &  0.192577 &  1.011029 &  0.048144 &  0.240721 &  0.048144 &  0.048144 &  0.433298 &          0.096288 &  0.048144 &  0.048144 &  0.048144 &  0.048144 &          0.192577 &    0.433298 &  0.048144 &                 0.048144 &        0.048144 &  0.096288 &    0.433298 &   0.048144 &  0.048144 &  0.048144 &  0.192577 &  0.096288 &             0.048144 &   6.018028 &            0.048144 &  0.048144 &  0.385154 &   4.910710 &  0.048144 &  0.048144 &  0.048144 &          1.107317 &  0.048144 &     0.385154 &    0.048144 &   0.048144 &    0.048144 &   2.214634 &     0.048144 &  0.048144 &  0.048144 &  0.096288 &  0.048144 &  0.192577 &  0.192577 &       0.048144 &  0.048144 &   3.418240 &    0.048144 &  0.048144 &  0.048144 &  0.096288 &      0.144433 &  0.240721 &  0.096288 &  0.048144 &  0.048144 &  1.251750 &     0.048144 &  0.096288 &   0.192577 &  0.529586 &  1.299894 &  0.096288 &  0.096288 &   0.048144 &  0.048144 &  0.096288 &  0.048144 &   14.780276 &  0.048144 &      0.144433 &   0.481442 &                  0.240721 &            0.096288 &      0.818452 &  0.048144 &    0.914740 &          1.107317 &   2.551644 &  0.962884 &  0.048144 &  0.048144 &  0.048144 &  0.096288 &     3.514528 &           0.096288 &      0.048144 &    1.155461 &     0.240721 &        0.048144 &   2.696076 &   0.144433 &  0.048144 &  0.048144 &  0.048144 &   2.214634 &   0.048144 &  1.107317 &  0.096288 &  0.096288 &  0.288865 &    0.240721 &  0.048144 &  0.048144 &  0.192577 &   0.048144 &   0.048144 &    0.048144 &  0.048144 &  0.048144 &   14.780276 &       0.722163 &  0.048144 &  0.048144 &  0.048144 &  0.385154 &  1.203606 &  1.155461 &  0.048144 &     0.096288 &        0.048144 &   0.144433 &   5.103287 &  0.192577 &  0.048144 &                   0.048144 &          0.337010 &  0.048144 &  0.048144 &   0.048144 &     1.155461 &   0.337010 &   0.048144 &   0.770308 &   0.192577 &   0.048144 &  0.048144 &  0.192577 &  0.048144 &  0.048144 &     0.529586 &  0.144433 &                0.048144 &       0.192577 &          0.288865 &                   0.048144 &  0.096288 &  0.048144 &  0.048144 &  0.048144 &  0.048144 &  0.481442 &  0.048144 &   0.096288 &  0.192577 &        0.096288 &  0.048144 &     0.674019 &               0.096288 &    0.818452 &              0.048144 &      0.577731 &    1.155461 &             0.048144 &       0.048144 &               0.048144 &        0.288865 &       5.584730 &  0.144433 &  0.096288 &  0.048144 &   0.096288 &  0.144433 &       0.144433 &                     0.048144 &  1.155461 &  0.048144 &  0.192577 &  0.288865 &  0.096288 &  0.048144 &          0.048144 &     0.192577 &    0.096288 &   2.118346 &   0.096288 &  0.096288 &  0.048144 &             0.096288 &                      0.048144 &                   0.048144 &             0.096288 &  0.048144 &  0.144433 &  0.096288 &           0.048144 &  0.048144 &   0.192577 &  1.011029 &  0.048144 &  0.048144 &  0.048144 &  0.048144 &   0.288865 &    0.048144 &  0.096288 &  0.048144 &      0.192577 &  0.481442 &   0.866596 &       0.240721 &  0.048144 &  0.914740 &  0.048144 &  0.192577 &  0.577731 &  0.144433 &   3.514528 &  0.144433 &  0.048144 &  0.048144 &                           0.048144 &   0.144433 &   0.048144 &  0.048144 &  0.048144 &   1.877625 &   0.144433 &  0.048144 &  0.048144 &  0.144433 &          0.144433 &  0.144433 &   1.588759 &  0.048144 &  0.096288 &  0.385154 &  0.048144 &  0.048144 &  0.144433 &  0.096288 &  0.288865 &  0.048144 &  1.011029 &  0.048144 &  0.048144 &   3.755249 &         0.577731 &   0.288865 &  0.048144 \\\\\n",
       "FSDC &  0.160764 &  0.160764 &  0.160764 &  0.321527 &  0.321527 &  0.321527 &      0.160764 &  0.160764 &  0.160764 &  0.160764 &       0.160764 &     0.160764 &      0.160764 &         0.160764 &         0.160764 &     0.160764 &         0.643054 &         0.160764 &         0.160764 &         0.160764 &           0.160764 &          0.160764 &  0.321527 &  1.286108 &      0.321527 &      0.160764 &  2.089926 &      0.964581 &  0.643054 &  0.160764 &  0.482291 &  0.160764 &  0.160764 &  0.160764 &  0.160764 &  1.446872 &  0.321527 &  0.321527 &  0.321527 &  0.160764 &  0.160764 &  0.160764 &          1.446872 &          0.160764 &  0.160764 &           0.160764 &       1.929162 &  0.160764 &  0.160764 &  0.321527 &   5.144433 &                  0.160764 &  0.482291 &  11.092683 &     0.160764 &  1.607635 &  0.482291 &  0.964581 &   7.395122 &            0.321527 &  0.321527 &  2.250689 &     7.877413 &  0.160764 &  0.160764 &  2.732980 &  0.643054 &  0.160764 &  0.803818 &  1.125345 &  24.275292 &  0.482291 &  0.321527 &  0.160764 &  0.643054 &  0.160764 &  0.482291 &  0.160764 &  0.160764 &  0.321527 &     1.768399 &  0.160764 &   0.482291 &  0.160764 &    0.964581 &  0.160764 &  0.482291 &  0.643054 &  0.321527 &  0.160764 &  0.160764 &  0.160764 &  0.160764 &  1.286108 &  0.160764 &  0.482291 &     0.643054 &   5.305196 &  0.643054 &  0.160764 &   0.160764 &  0.160764 &  0.321527 &  0.321527 &  0.160764 &  0.160764 &         0.160764 &  0.321527 &  0.321527 &  3.858324 &  0.160764 &   0.482291 &  0.643054 &  0.321527 &    0.160764 &  0.160764 &         0.160764 &  0.160764 &  0.160764 &   8.038176 &           0.160764 &  1.286108 &  0.160764 &  1.446872 &              1.607635 &                       0.321527 &                           0.160764 &                      0.160764 &                 1.286108 &                  0.482291 &                       0.160764 &               0.160764 &                 0.160764 &   0.482291 &   0.160764 &  1.768399 &   2.572216 &  0.321527 &   8.841994 &   0.160764 &  0.160764 &         0.321527 &    0.160764 &    1.286108 &     0.160764 &                  0.160764 &                     0.160764 &  0.160764 &  0.160764 &  0.160764 &          0.160764 &  0.160764 &  0.160764 &    1.125345 &   0.160764 &      1.607635 &           0.160764 &  1.607635 &         0.803818 &     0.482291 &  0.321527 &       0.803818 &  0.160764 &  0.321527 &  0.160764 &      0.482291 &  0.160764 &       0.160764 &  1.929162 &         0.160764 &  0.643054 &  0.160764 &  2.893743 &    0.160764 &  15.754825 &  0.160764 &  0.321527 &  0.160764 &      0.482291 &   0.160764 &  0.160764 &  0.160764 &  0.160764 &                   0.160764 &                     0.160764 &                 0.803818 &   1.125345 &            0.321527 &                         0.482291 &        0.482291 &   2.089926 &       1.125345 &               0.643054 &       1.446872 &  0.321527 &  0.160764 &  0.160764 &  1.768399 &  13.825663 &  0.643054 &    0.482291 &  0.160764 &  1.607635 &   5.465960 &  0.160764 &  0.160764 &  4.340615 &  0.160764 &        1.929162 &           0.160764 &  0.160764 &  0.160764 &       0.482291 &  0.160764 &     0.482291 &  0.160764 &   0.160764 &             0.160764 &          0.160764 &  0.160764 &  0.160764 &  0.321527 &  0.321527 &   0.482291 &        0.643054 &   0.160764 &  0.160764 &  0.160764 &         0.160764 &      0.482291 &  0.321527 &        1.286108 &     4.983669 &   2.089926 &  10.128102 &     0.964581 &  0.160764 &    0.643054 &             0.160764 &  0.160764 &  0.160764 &  0.160764 &  1.929162 &  0.482291 &           0.160764 &       0.160764 &  0.321527 &  0.160764 &  0.160764 &  0.160764 &  0.160764 &  0.160764 &       0.482291 &   0.482291 &     0.321527 &   4.983669 &   7.877413 &  0.160764 &   0.160764 &  0.160764 &  1.929162 &  0.643054 &  0.160764 &   0.160764 &      0.482291 &  0.160764 &      0.482291 &  0.160764 &  0.160764 &  0.160764 &  2.089926 &  0.160764 &  0.321527 &  2.572216 &  2.250689 &  0.160764 &  1.446872 &  0.160764 &  1.286108 &  0.160764 &   0.160764 &  0.160764 &  0.160764 &  0.321527 &  0.160764 &  0.160764 &  0.160764 &  0.160764 &  0.160764 &  0.160764 &  0.160764 &  1.929162 &  0.160764 &  0.643054 &   6.430541 &  0.643054 &  0.160764 &  0.643054 &   0.643054 &  1.286108 &    0.321527 &  0.160764 &  0.482291 &  2.411453 &    0.482291 &    1.929162 &   0.160764 &  0.160764 &  0.160764 &  0.160764 &  0.160764 &  0.482291 &  0.160764 &   0.160764 &  0.321527 &  12.700318 &  0.321527 &   0.160764 &  0.160764 &           0.160764 &     3.215270 &     0.321527 &    0.964581 &   1.286108 &      0.643054 &   0.160764 &   1.125345 &  0.160764 &  0.160764 &  0.160764 &     0.160764 &           0.482291 &  0.160764 &  0.160764 &  0.160764 &  0.160764 &  0.160764 &  0.321527 &  0.321527 &  0.160764 &  0.160764 &  0.643054 &  3.376034 &  0.160764 &  0.803818 &  0.160764 &  0.160764 &  1.446872 &          0.321527 &  0.160764 &  0.160764 &  0.160764 &  0.160764 &          0.643054 &    1.446872 &  0.160764 &                 0.160764 &        0.160764 &  0.321527 &    1.446872 &   0.160764 &  0.160764 &  0.160764 &  0.643054 &  0.321527 &             0.160764 &  20.095440 &            0.160764 &  0.160764 &  1.286108 &  16.397879 &  0.160764 &  0.160764 &  0.160764 &          3.697561 &  0.160764 &     1.286108 &    0.160764 &   0.160764 &    0.160764 &   7.395122 &     0.160764 &  0.160764 &  0.160764 &  0.321527 &  0.160764 &  0.643054 &  0.643054 &       0.160764 &  0.160764 &  11.414210 &    0.160764 &  0.160764 &  0.160764 &  0.321527 &      0.482291 &  0.803818 &  0.321527 &  0.160764 &  0.160764 &  4.179852 &     0.160764 &  0.321527 &   0.643054 &  1.768399 &  4.340615 &  0.321527 &  0.321527 &   0.160764 &  0.160764 &  0.321527 &  0.160764 &   49.354401 &  0.160764 &      0.482291 &   1.607635 &                  0.803818 &            0.321527 &      2.732980 &  0.160764 &    3.054507 &          3.697561 &   8.520467 &  3.215270 &  0.160764 &  0.160764 &  0.160764 &  0.321527 &    11.735737 &           0.321527 &      0.160764 &    3.858324 &     0.803818 &        0.160764 &   9.002757 &   0.482291 &  0.160764 &  0.160764 &  0.160764 &   7.395122 &   0.160764 &  3.697561 &  0.321527 &  0.321527 &  0.964581 &    0.803818 &  0.160764 &  0.160764 &  0.643054 &   0.160764 &   0.160764 &    0.160764 &  0.160764 &  0.160764 &   49.354401 &       2.411453 &  0.160764 &  0.160764 &  0.160764 &  1.286108 &  4.019088 &  3.858324 &  0.160764 &     0.321527 &        0.160764 &   0.482291 &  17.040933 &  0.643054 &  0.160764 &                   0.160764 &          1.125345 &  0.160764 &  0.160764 &   0.160764 &     3.858324 &   1.125345 &   0.160764 &   2.572216 &   0.643054 &   0.160764 &  0.160764 &  0.643054 &  0.160764 &  0.160764 &     1.768399 &  0.482291 &                0.160764 &       0.643054 &          0.964581 &                   0.160764 &  0.321527 &  0.160764 &  0.160764 &  0.160764 &  0.160764 &  1.607635 &  0.160764 &   0.321527 &  0.643054 &        0.321527 &  0.160764 &     2.250689 &               0.321527 &    2.732980 &              0.160764 &      1.929162 &    3.858324 &             0.160764 &       0.160764 &               0.160764 &        0.964581 &      18.648568 &  0.482291 &  0.321527 &  0.160764 &   0.321527 &  0.482291 &       0.482291 &                     0.160764 &  3.858324 &  0.160764 &  0.643054 &  0.964581 &  0.321527 &  0.160764 &          0.160764 &     0.643054 &    0.321527 &   7.073595 &   0.321527 &  0.321527 &  0.160764 &             0.321527 &                      0.160764 &                   0.160764 &             0.321527 &  0.160764 &  0.482291 &  0.321527 &           0.160764 &  0.160764 &   0.643054 &  3.376034 &  0.160764 &  0.160764 &  0.160764 &  0.160764 &   0.964581 &    0.160764 &  0.321527 &  0.160764 &      0.643054 &  1.607635 &   2.893743 &       0.803818 &  0.160764 &  3.054507 &  0.160764 &  0.643054 &  1.929162 &  0.482291 &  11.735737 &  0.482291 &  0.160764 &  0.160764 &                           0.160764 &   0.482291 &   0.160764 &  0.160764 &  0.160764 &   6.269777 &   0.482291 &  0.160764 &  0.160764 &  0.482291 &          0.482291 &  0.482291 &   5.305196 &  0.160764 &  0.321527 &  1.286108 &  0.160764 &  0.160764 &  0.482291 &  0.321527 &  0.964581 &  0.160764 &  3.376034 &  0.160764 &  0.160764 &  12.539555 &         1.929162 &   0.964581 &  0.160764 \\\\\n",
       "FSEG &  0.328526 &  0.328526 &  0.328526 &  0.657052 &  0.657052 &  0.657052 &      0.328526 &  0.328526 &  0.328526 &  0.328526 &       0.328526 &     0.328526 &      0.328526 &         0.328526 &         0.328526 &     0.328526 &         1.314104 &         0.328526 &         0.328526 &         0.328526 &           0.328526 &          0.328526 &  0.657052 &  2.628208 &      0.657052 &      0.328526 &  4.270838 &      1.971156 &  1.314104 &  0.328526 &  0.985578 &  0.328526 &  0.328526 &  0.328526 &  0.328526 &  2.956734 &  0.657052 &  0.657052 &  0.657052 &  0.328526 &  0.328526 &  0.328526 &          2.956734 &          0.328526 &  0.328526 &           0.328526 &       3.942312 &  0.328526 &  0.328526 &  0.657052 &  10.512831 &                  0.328526 &  0.985578 &  22.668293 &     0.328526 &  3.285260 &  0.985578 &  1.971156 &  15.112195 &            0.657052 &  0.657052 &  4.599364 &    16.097773 &  0.328526 &  0.328526 &  5.584942 &  1.314104 &  0.328526 &  1.642630 &  2.299682 &  49.607423 &  0.985578 &  0.657052 &  0.328526 &  1.314104 &  0.328526 &  0.985578 &  0.328526 &  0.328526 &  0.657052 &     3.613786 &  0.328526 &   0.985578 &  0.328526 &    1.971156 &  0.328526 &  0.985578 &  1.314104 &  0.657052 &  0.328526 &  0.328526 &  0.328526 &  0.328526 &  2.628208 &  0.328526 &  0.985578 &     1.314104 &  10.841357 &  1.314104 &  0.328526 &   0.328526 &  0.328526 &  0.657052 &  0.657052 &  0.328526 &  0.328526 &         0.328526 &  0.657052 &  0.657052 &  7.884624 &  0.328526 &   0.985578 &  1.314104 &  0.657052 &    0.328526 &  0.328526 &         0.328526 &  0.328526 &  0.328526 &  16.426299 &           0.328526 &  2.628208 &  0.328526 &  2.956734 &              3.285260 &                       0.657052 &                           0.328526 &                      0.328526 &                 2.628208 &                  0.985578 &                       0.328526 &               0.328526 &                 0.328526 &   0.985578 &   0.328526 &  3.613786 &   5.256416 &  0.657052 &  18.068929 &   0.328526 &  0.328526 &         0.657052 &    0.328526 &    2.628208 &     0.328526 &                  0.328526 &                     0.328526 &  0.328526 &  0.328526 &  0.328526 &          0.328526 &  0.328526 &  0.328526 &    2.299682 &   0.328526 &      3.285260 &           0.328526 &  3.285260 &         1.642630 &     0.985578 &  0.657052 &       1.642630 &  0.328526 &  0.657052 &  0.328526 &      0.985578 &  0.328526 &       0.328526 &  3.942312 &         0.328526 &  1.314104 &  0.328526 &  5.913468 &    0.328526 &  32.195546 &  0.328526 &  0.657052 &  0.328526 &      0.985578 &   0.328526 &  0.328526 &  0.328526 &  0.328526 &                   0.328526 &                     0.328526 &                 1.642630 &   2.299682 &            0.657052 &                         0.985578 &        0.985578 &   4.270838 &       2.299682 &               1.314104 &       2.956734 &  0.657052 &  0.328526 &  0.328526 &  3.613786 &  28.253234 &  1.314104 &    0.985578 &  0.328526 &  3.285260 &  11.169883 &  0.328526 &  0.328526 &  8.870201 &  0.328526 &        3.942312 &           0.328526 &  0.328526 &  0.328526 &       0.985578 &  0.328526 &     0.985578 &  0.328526 &   0.328526 &             0.328526 &          0.328526 &  0.328526 &  0.328526 &  0.657052 &  0.657052 &   0.985578 &        1.314104 &   0.328526 &  0.328526 &  0.328526 &         0.328526 &      0.985578 &  0.657052 &        2.628208 &    10.184305 &   4.270838 &  20.697137 &     1.971156 &  0.328526 &    1.314104 &             0.328526 &  0.328526 &  0.328526 &  0.328526 &  3.942312 &  0.985578 &           0.328526 &       0.328526 &  0.657052 &  0.328526 &  0.328526 &  0.328526 &  0.328526 &  0.328526 &       0.985578 &   0.985578 &     0.657052 &  10.184305 &  16.097773 &  0.328526 &   0.328526 &  0.328526 &  3.942312 &  1.314104 &  0.328526 &   0.328526 &      0.985578 &  0.328526 &      0.985578 &  0.328526 &  0.328526 &  0.328526 &  4.270838 &  0.328526 &  0.657052 &  5.256416 &  4.599364 &  0.328526 &  2.956734 &  0.328526 &  2.628208 &  0.328526 &   0.328526 &  0.328526 &  0.328526 &  0.657052 &  0.328526 &  0.328526 &  0.328526 &  0.328526 &  0.328526 &  0.328526 &  0.328526 &  3.942312 &  0.328526 &  1.314104 &  13.141039 &  1.314104 &  0.328526 &  1.314104 &   1.314104 &  2.628208 &    0.657052 &  0.328526 &  0.985578 &  4.927890 &    0.985578 &    3.942312 &   0.328526 &  0.328526 &  0.328526 &  0.328526 &  0.328526 &  0.985578 &  0.328526 &   0.328526 &  0.657052 &  25.953552 &  0.657052 &   0.328526 &  0.328526 &           0.328526 &     6.570520 &     0.657052 &    1.971156 &   2.628208 &      1.314104 &   0.328526 &   2.299682 &  0.328526 &  0.328526 &  0.328526 &     0.328526 &           0.985578 &  0.328526 &  0.328526 &  0.328526 &  0.328526 &  0.328526 &  0.657052 &  0.657052 &  0.328526 &  0.328526 &  1.314104 &  6.899046 &  0.328526 &  1.642630 &  0.328526 &  0.328526 &  2.956734 &          0.657052 &  0.328526 &  0.328526 &  0.328526 &  0.328526 &          1.314104 &    2.956734 &  0.328526 &                 0.328526 &        0.328526 &  0.657052 &    2.956734 &   0.328526 &  0.328526 &  0.328526 &  1.314104 &  0.657052 &             0.328526 &  41.065748 &            0.328526 &  0.328526 &  2.628208 &  33.509650 &  0.328526 &  0.328526 &  0.328526 &          7.556098 &  0.328526 &     2.628208 &    0.328526 &   0.328526 &    0.328526 &  15.112195 &     0.328526 &  0.328526 &  0.328526 &  0.657052 &  0.328526 &  1.314104 &  1.314104 &       0.328526 &  0.328526 &  23.325345 &    0.328526 &  0.328526 &  0.328526 &  0.657052 &      0.985578 &  1.642630 &  0.657052 &  0.328526 &  0.328526 &  8.541676 &     0.328526 &  0.657052 &   1.314104 &  3.613786 &  8.870201 &  0.657052 &  0.657052 &   0.328526 &  0.328526 &  0.657052 &  0.328526 &  100.857476 &  0.328526 &      0.985578 &   3.285260 &                  1.642630 &            0.657052 &      5.584942 &  0.328526 &    6.241994 &          7.556098 &  17.411877 &  6.570520 &  0.328526 &  0.328526 &  0.328526 &  0.657052 &    23.982397 &           0.657052 &      0.328526 &    7.884624 &     1.642630 &        0.328526 &  18.397455 &   0.985578 &  0.328526 &  0.328526 &  0.328526 &  15.112195 &   0.328526 &  7.556098 &  0.657052 &  0.657052 &  1.971156 &    1.642630 &  0.328526 &  0.328526 &  1.314104 &   0.328526 &   0.328526 &    0.328526 &  0.328526 &  0.328526 &  100.857476 &       4.927890 &  0.328526 &  0.328526 &  0.328526 &  2.628208 &  8.213150 &  7.884624 &  0.328526 &     0.657052 &        0.328526 &   0.985578 &  34.823754 &  1.314104 &  0.328526 &                   0.328526 &          2.299682 &  0.328526 &  0.328526 &   0.328526 &     7.884624 &   2.299682 &   0.328526 &   5.256416 &   1.314104 &   0.328526 &  0.328526 &  1.314104 &  0.328526 &  0.328526 &     3.613786 &  0.985578 &                0.328526 &       1.314104 &          1.971156 &                   0.328526 &  0.657052 &  0.328526 &  0.328526 &  0.328526 &  0.328526 &  3.285260 &  0.328526 &   0.657052 &  1.314104 &        0.657052 &  0.328526 &     4.599364 &               0.657052 &    5.584942 &              0.328526 &      3.942312 &    7.884624 &             0.328526 &       0.328526 &               0.328526 &        1.971156 &      38.109014 &  0.985578 &  0.657052 &  0.328526 &   0.657052 &  0.985578 &       0.985578 &                     0.328526 &  7.884624 &  0.328526 &  1.314104 &  1.971156 &  0.657052 &  0.328526 &          0.328526 &     1.314104 &    0.657052 &  14.455143 &   0.657052 &  0.657052 &  0.328526 &             0.657052 &                      0.328526 &                   0.328526 &             0.657052 &  0.328526 &  0.985578 &  0.657052 &           0.328526 &  0.328526 &   1.314104 &  6.899046 &  0.328526 &  0.328526 &  0.328526 &  0.328526 &   1.971156 &    0.328526 &  0.657052 &  0.328526 &      1.314104 &  3.285260 &   5.913468 &       1.642630 &  0.328526 &  6.241994 &  0.328526 &  1.314104 &  3.942312 &  0.985578 &  23.982397 &  0.985578 &  0.328526 &  0.328526 &                           0.328526 &   0.985578 &   0.328526 &  0.328526 &  0.328526 &  12.812513 &   0.985578 &  0.328526 &  0.328526 &  0.985578 &          0.985578 &  0.985578 &  10.841357 &  0.328526 &  0.657052 &  2.628208 &  0.328526 &  0.328526 &  0.985578 &  0.657052 &  1.971156 &  0.328526 &  6.899046 &  0.328526 &  0.328526 &  25.625027 &         3.942312 &   1.971156 &  0.328526 \\\\\n",
       "FSTA &  0.191516 &  0.191516 &  0.191516 &  0.383033 &  0.383033 &  0.383033 &      0.191516 &  0.191516 &  0.191516 &  0.191516 &       0.191516 &     0.191516 &      0.191516 &         0.191516 &         0.191516 &     0.191516 &         0.766066 &         0.191516 &         0.191516 &         0.191516 &           0.191516 &          0.191516 &  0.383033 &  1.532131 &      0.383033 &      0.191516 &  2.489714 &      1.149099 &  0.766066 &  0.191516 &  0.574549 &  0.191516 &  0.191516 &  0.191516 &  0.191516 &  1.723648 &  0.383033 &  0.383033 &  0.383033 &  0.191516 &  0.191516 &  0.191516 &          1.723648 &          0.191516 &  0.191516 &           0.191516 &       2.298197 &  0.191516 &  0.191516 &  0.383033 &   6.128526 &                  0.191516 &  0.574549 &  13.214634 &     0.191516 &  1.915164 &  0.574549 &  1.149099 &   8.809756 &            0.383033 &  0.383033 &  2.681230 &     9.384305 &  0.191516 &  0.191516 &  3.255779 &  0.766066 &  0.191516 &  0.957582 &  1.340615 &  28.918982 &  0.574549 &  0.383033 &  0.191516 &  0.766066 &  0.191516 &  0.574549 &  0.191516 &  0.191516 &  0.383033 &     2.106681 &  0.191516 &   0.574549 &  0.191516 &    1.149099 &  0.191516 &  0.574549 &  0.766066 &  0.383033 &  0.191516 &  0.191516 &  0.191516 &  0.191516 &  1.532131 &  0.191516 &  0.574549 &     0.766066 &   6.320042 &  0.766066 &  0.191516 &   0.191516 &  0.191516 &  0.383033 &  0.383033 &  0.191516 &  0.191516 &         0.191516 &  0.383033 &  0.383033 &  4.596394 &  0.191516 &   0.574549 &  0.766066 &  0.383033 &    0.191516 &  0.191516 &         0.191516 &  0.191516 &  0.191516 &   9.575822 &           0.191516 &  1.532131 &  0.191516 &  1.723648 &              1.915164 &                       0.383033 &                           0.191516 &                      0.191516 &                 1.532131 &                  0.574549 &                       0.191516 &               0.191516 &                 0.191516 &   0.574549 &   0.191516 &  2.106681 &   3.064263 &  0.383033 &  10.533404 &   0.191516 &  0.191516 &         0.383033 &    0.191516 &    1.532131 &     0.191516 &                  0.191516 &                     0.191516 &  0.191516 &  0.191516 &  0.191516 &          0.191516 &  0.191516 &  0.191516 &    1.340615 &   0.191516 &      1.915164 &           0.191516 &  1.915164 &         0.957582 &     0.574549 &  0.383033 &       0.957582 &  0.191516 &  0.383033 &  0.191516 &      0.574549 &  0.191516 &       0.191516 &  2.298197 &         0.191516 &  0.766066 &  0.191516 &  3.447296 &    0.191516 &  18.768611 &  0.191516 &  0.383033 &  0.191516 &      0.574549 &   0.191516 &  0.191516 &  0.191516 &  0.191516 &                   0.191516 &                     0.191516 &                 0.957582 &   1.340615 &            0.383033 &                         0.574549 &        0.574549 &   2.489714 &       1.340615 &               0.766066 &       1.723648 &  0.383033 &  0.191516 &  0.191516 &  2.106681 &  16.470414 &  0.766066 &    0.574549 &  0.191516 &  1.915164 &   6.511559 &  0.191516 &  0.191516 &  5.170944 &  0.191516 &        2.298197 &           0.191516 &  0.191516 &  0.191516 &       0.574549 &  0.191516 &     0.574549 &  0.191516 &   0.191516 &             0.191516 &          0.191516 &  0.191516 &  0.191516 &  0.383033 &  0.383033 &   0.574549 &        0.766066 &   0.191516 &  0.191516 &  0.191516 &         0.191516 &      0.574549 &  0.383033 &        1.532131 &     5.937010 &   2.489714 &  12.065536 &     1.149099 &  0.191516 &    0.766066 &             0.191516 &  0.191516 &  0.191516 &  0.191516 &  2.298197 &  0.574549 &           0.191516 &       0.191516 &  0.383033 &  0.191516 &  0.191516 &  0.191516 &  0.191516 &  0.191516 &       0.574549 &   0.574549 &     0.383033 &   5.937010 &   9.384305 &  0.191516 &   0.191516 &  0.191516 &  2.298197 &  0.766066 &  0.191516 &   0.191516 &      0.574549 &  0.191516 &      0.574549 &  0.191516 &  0.191516 &  0.191516 &  2.489714 &  0.191516 &  0.383033 &  3.064263 &  2.681230 &  0.191516 &  1.723648 &  0.191516 &  1.532131 &  0.191516 &   0.191516 &  0.191516 &  0.191516 &  0.383033 &  0.191516 &  0.191516 &  0.191516 &  0.191516 &  0.191516 &  0.191516 &  0.191516 &  2.298197 &  0.191516 &  0.766066 &   7.660657 &  0.766066 &  0.191516 &  0.766066 &   0.766066 &  1.532131 &    0.383033 &  0.191516 &  0.574549 &  2.872747 &    0.574549 &    2.298197 &   0.191516 &  0.191516 &  0.191516 &  0.191516 &  0.191516 &  0.574549 &  0.191516 &   0.191516 &  0.383033 &  15.129799 &  0.383033 &   0.191516 &  0.191516 &           0.191516 &     3.830329 &     0.383033 &    1.149099 &   1.532131 &      0.766066 &   0.191516 &   1.340615 &  0.191516 &  0.191516 &  0.191516 &     0.191516 &           0.574549 &  0.191516 &  0.191516 &  0.191516 &  0.191516 &  0.191516 &  0.383033 &  0.383033 &  0.191516 &  0.191516 &  0.766066 &  4.021845 &  0.191516 &  0.957582 &  0.191516 &  0.191516 &  1.723648 &          0.383033 &  0.191516 &  0.191516 &  0.191516 &  0.191516 &          0.766066 &    1.723648 &  0.191516 &                 0.191516 &        0.191516 &  0.383033 &    1.723648 &   0.191516 &  0.191516 &  0.191516 &  0.766066 &  0.383033 &             0.191516 &  23.939555 &            0.191516 &  0.191516 &  1.532131 &  19.534677 &  0.191516 &  0.191516 &  0.191516 &          4.404878 &  0.191516 &     1.532131 &    0.191516 &   0.191516 &    0.191516 &   8.809756 &     0.191516 &  0.191516 &  0.191516 &  0.383033 &  0.191516 &  0.766066 &  0.766066 &       0.191516 &  0.191516 &  13.597667 &    0.191516 &  0.191516 &  0.191516 &  0.383033 &      0.574549 &  0.957582 &  0.383033 &  0.191516 &  0.191516 &  4.979427 &     0.191516 &  0.383033 &   0.766066 &  2.106681 &  5.170944 &  0.383033 &  0.383033 &   0.191516 &  0.191516 &  0.383033 &  0.191516 &   58.795546 &  0.191516 &      0.574549 &   1.915164 &                  0.957582 &            0.383033 &      3.255779 &  0.191516 &    3.638812 &          4.404878 &  10.150371 &  3.830329 &  0.191516 &  0.191516 &  0.191516 &  0.383033 &    13.980700 &           0.383033 &      0.191516 &    4.596394 &     0.957582 &        0.191516 &  10.724920 &   0.574549 &  0.191516 &  0.191516 &  0.191516 &   8.809756 &   0.191516 &  4.404878 &  0.383033 &  0.383033 &  1.149099 &    0.957582 &  0.191516 &  0.191516 &  0.766066 &   0.191516 &   0.191516 &    0.191516 &  0.191516 &  0.191516 &   58.795546 &       2.872747 &  0.191516 &  0.191516 &  0.191516 &  1.532131 &  4.787911 &  4.596394 &  0.191516 &     0.383033 &        0.191516 &   0.574549 &  20.300742 &  0.766066 &  0.191516 &                   0.191516 &          1.340615 &  0.191516 &  0.191516 &   0.191516 &     4.596394 &   1.340615 &   0.191516 &   3.064263 &   0.766066 &   0.191516 &  0.191516 &  0.766066 &  0.191516 &  0.191516 &     2.106681 &  0.574549 &                0.191516 &       0.766066 &          1.149099 &                   0.191516 &  0.383033 &  0.191516 &  0.191516 &  0.191516 &  0.191516 &  1.915164 &  0.191516 &   0.383033 &  0.766066 &        0.383033 &  0.191516 &     2.681230 &               0.383033 &    3.255779 &              0.191516 &      2.298197 &    4.596394 &             0.191516 &       0.191516 &               0.191516 &        1.149099 &      22.215907 &  0.574549 &  0.383033 &  0.191516 &   0.383033 &  0.574549 &       0.574549 &                     0.191516 &  4.596394 &  0.191516 &  0.766066 &  1.149099 &  0.383033 &  0.191516 &          0.191516 &     0.766066 &    0.383033 &   8.426723 &   0.383033 &  0.383033 &  0.191516 &             0.383033 &                      0.191516 &                   0.191516 &             0.383033 &  0.191516 &  0.574549 &  0.383033 &           0.191516 &  0.191516 &   0.766066 &  4.021845 &  0.191516 &  0.191516 &  0.191516 &  0.191516 &   1.149099 &    0.191516 &  0.383033 &  0.191516 &      0.766066 &  1.915164 &   3.447296 &       0.957582 &  0.191516 &  3.638812 &  0.191516 &  0.766066 &  2.298197 &  0.574549 &  13.980700 &  0.574549 &  0.191516 &  0.191516 &                           0.191516 &   0.574549 &   0.191516 &  0.191516 &  0.191516 &   7.469141 &   0.574549 &  0.191516 &  0.191516 &  0.574549 &          0.574549 &  0.574549 &   6.320042 &  0.191516 &  0.383033 &  1.532131 &  0.191516 &  0.191516 &  0.574549 &  0.383033 &  1.149099 &  0.191516 &  4.021845 &  0.191516 &  0.191516 &  14.938282 &         2.298197 &   1.149099 &  0.191516 \\\\\n",
       "FT   &  0.029692 &  0.029692 &  0.029692 &  0.059385 &  0.059385 &  0.059385 &      0.029692 &  0.029692 &  0.029692 &  0.029692 &       0.029692 &     0.029692 &      0.029692 &         0.029692 &         0.029692 &     0.029692 &         0.118770 &         0.029692 &         0.029692 &         0.029692 &           0.029692 &          0.029692 &  0.059385 &  0.237540 &      0.059385 &      0.029692 &  0.386002 &      0.178155 &  0.118770 &  0.029692 &  0.089077 &  0.029692 &  0.029692 &  0.029692 &  0.029692 &  0.267232 &  0.059385 &  0.059385 &  0.059385 &  0.029692 &  0.029692 &  0.029692 &          0.267232 &          0.029692 &  0.029692 &           0.029692 &       0.356310 &  0.029692 &  0.029692 &  0.059385 &   0.950159 &                  0.029692 &  0.089077 &   2.048780 &     0.029692 &  0.296925 &  0.089077 &  0.178155 &   1.365854 &            0.059385 &  0.059385 &  0.415695 &     1.454931 &  0.029692 &  0.029692 &  0.504772 &  0.118770 &  0.029692 &  0.148462 &  0.207847 &   4.483563 &  0.089077 &  0.059385 &  0.029692 &  0.118770 &  0.029692 &  0.089077 &  0.029692 &  0.029692 &  0.059385 &     0.326617 &  0.029692 &   0.089077 &  0.029692 &    0.178155 &  0.029692 &  0.089077 &  0.118770 &  0.059385 &  0.029692 &  0.029692 &  0.029692 &  0.029692 &  0.237540 &  0.029692 &  0.089077 &     0.118770 &   0.979852 &  0.118770 &  0.029692 &   0.029692 &  0.029692 &  0.059385 &  0.059385 &  0.029692 &  0.029692 &         0.029692 &  0.059385 &  0.059385 &  0.712619 &  0.029692 &   0.089077 &  0.118770 &  0.059385 &    0.029692 &  0.029692 &         0.029692 &  0.029692 &  0.029692 &   1.484624 &           0.029692 &  0.237540 &  0.029692 &  0.267232 &              0.296925 &                       0.059385 &                           0.029692 &                      0.029692 &                 0.237540 &                  0.089077 &                       0.029692 &               0.029692 &                 0.029692 &   0.089077 &   0.029692 &  0.326617 &   0.475080 &  0.059385 &   1.633086 &   0.029692 &  0.029692 &         0.059385 &    0.029692 &    0.237540 &     0.029692 &                  0.029692 &                     0.029692 &  0.029692 &  0.029692 &  0.029692 &          0.029692 &  0.029692 &  0.029692 &    0.207847 &   0.029692 &      0.296925 &           0.029692 &  0.296925 &         0.148462 &     0.089077 &  0.059385 &       0.148462 &  0.029692 &  0.059385 &  0.029692 &      0.089077 &  0.029692 &       0.029692 &  0.356310 &         0.029692 &  0.118770 &  0.029692 &  0.534464 &    0.029692 &   2.909862 &  0.029692 &  0.059385 &  0.029692 &      0.089077 &   0.029692 &  0.029692 &  0.029692 &  0.029692 &                   0.029692 &                     0.029692 &                 0.148462 &   0.207847 &            0.059385 &                         0.089077 &        0.089077 &   0.386002 &       0.207847 &               0.118770 &       0.267232 &  0.059385 &  0.029692 &  0.029692 &  0.326617 &   2.553552 &  0.118770 &    0.089077 &  0.029692 &  0.296925 &   1.009544 &  0.029692 &  0.029692 &  0.801697 &  0.029692 &        0.356310 &           0.029692 &  0.029692 &  0.029692 &       0.089077 &  0.029692 &     0.089077 &  0.029692 &   0.029692 &             0.029692 &          0.029692 &  0.029692 &  0.029692 &  0.059385 &  0.059385 &   0.089077 &        0.118770 &   0.029692 &  0.029692 &  0.029692 &         0.029692 &      0.089077 &  0.059385 &        0.237540 &     0.920467 &   0.386002 &   1.870626 &     0.178155 &  0.029692 &    0.118770 &             0.029692 &  0.029692 &  0.029692 &  0.029692 &  0.356310 &  0.089077 &           0.029692 &       0.029692 &  0.059385 &  0.029692 &  0.029692 &  0.029692 &  0.029692 &  0.029692 &       0.089077 &   0.089077 &     0.059385 &   0.920467 &   1.454931 &  0.029692 &   0.029692 &  0.029692 &  0.356310 &  0.118770 &  0.029692 &   0.029692 &      0.089077 &  0.029692 &      0.089077 &  0.029692 &  0.029692 &  0.029692 &  0.386002 &  0.029692 &  0.059385 &  0.475080 &  0.415695 &  0.029692 &  0.267232 &  0.029692 &  0.237540 &  0.029692 &   0.029692 &  0.029692 &  0.029692 &  0.059385 &  0.029692 &  0.029692 &  0.029692 &  0.029692 &  0.029692 &  0.029692 &  0.029692 &  0.356310 &  0.029692 &  0.118770 &   1.187699 &  0.118770 &  0.029692 &  0.118770 &   0.118770 &  0.237540 &    0.059385 &  0.029692 &  0.089077 &  0.445387 &    0.089077 &    0.356310 &   0.029692 &  0.029692 &  0.029692 &  0.029692 &  0.029692 &  0.089077 &  0.029692 &   0.029692 &  0.059385 &   2.345705 &  0.059385 &   0.029692 &  0.029692 &           0.029692 &     0.593849 &     0.059385 &    0.178155 &   0.237540 &      0.118770 &   0.029692 &   0.207847 &  0.029692 &  0.029692 &  0.029692 &     0.029692 &           0.089077 &  0.029692 &  0.029692 &  0.029692 &  0.029692 &  0.029692 &  0.059385 &  0.059385 &  0.029692 &  0.029692 &  0.118770 &  0.623542 &  0.029692 &  0.148462 &  0.029692 &  0.029692 &  0.267232 &          0.059385 &  0.029692 &  0.029692 &  0.029692 &  0.029692 &          0.118770 &    0.267232 &  0.029692 &                 0.029692 &        0.029692 &  0.059385 &    0.267232 &   0.029692 &  0.029692 &  0.029692 &  0.118770 &  0.059385 &             0.029692 &   3.711559 &            0.029692 &  0.029692 &  0.237540 &   3.028632 &  0.029692 &  0.029692 &  0.029692 &          0.682927 &  0.029692 &     0.237540 &    0.029692 &   0.029692 &    0.029692 &   1.365854 &     0.029692 &  0.029692 &  0.029692 &  0.059385 &  0.029692 &  0.118770 &  0.118770 &       0.029692 &  0.029692 &   2.108165 &    0.029692 &  0.029692 &  0.029692 &  0.059385 &      0.089077 &  0.148462 &  0.059385 &  0.029692 &  0.029692 &  0.772004 &     0.029692 &  0.059385 &   0.118770 &  0.326617 &  0.801697 &  0.059385 &  0.059385 &   0.029692 &  0.029692 &  0.059385 &  0.029692 &    9.115589 &  0.029692 &      0.089077 &   0.296925 &                  0.148462 &            0.059385 &      0.504772 &  0.029692 &    0.564157 &          0.682927 &   1.573701 &  0.593849 &  0.029692 &  0.029692 &  0.029692 &  0.059385 &     2.167550 &           0.059385 &      0.029692 &    0.712619 &     0.148462 &        0.029692 &   1.662778 &   0.089077 &  0.029692 &  0.029692 &  0.029692 &   1.365854 &   0.029692 &  0.682927 &  0.059385 &  0.059385 &  0.178155 &    0.148462 &  0.029692 &  0.029692 &  0.118770 &   0.029692 &   0.029692 &    0.029692 &  0.029692 &  0.029692 &    9.115589 &       0.445387 &  0.029692 &  0.029692 &  0.029692 &  0.237540 &  0.742312 &  0.712619 &  0.029692 &     0.059385 &        0.029692 &   0.089077 &   3.147402 &  0.118770 &  0.029692 &                   0.029692 &          0.207847 &  0.029692 &  0.029692 &   0.029692 &     0.712619 &   0.207847 &   0.029692 &   0.475080 &   0.118770 &   0.029692 &  0.029692 &  0.118770 &  0.029692 &  0.029692 &     0.326617 &  0.089077 &                0.029692 &       0.118770 &          0.178155 &                   0.029692 &  0.059385 &  0.029692 &  0.029692 &  0.029692 &  0.029692 &  0.296925 &  0.029692 &   0.059385 &  0.118770 &        0.059385 &  0.029692 &     0.415695 &               0.059385 &    0.504772 &              0.029692 &      0.356310 &    0.712619 &             0.029692 &       0.029692 &               0.029692 &        0.178155 &       3.444327 &  0.089077 &  0.059385 &  0.029692 &   0.059385 &  0.089077 &       0.089077 &                     0.029692 &  0.712619 &  0.029692 &  0.118770 &  0.178155 &  0.059385 &  0.029692 &          0.029692 &     0.118770 &    0.059385 &   1.306469 &   0.059385 &  0.059385 &  0.029692 &             0.059385 &                      0.029692 &                   0.029692 &             0.059385 &  0.029692 &  0.089077 &  0.059385 &           0.029692 &  0.029692 &   0.118770 &  0.623542 &  0.029692 &  0.029692 &  0.029692 &  0.029692 &   0.178155 &    0.029692 &  0.059385 &  0.029692 &      0.118770 &  0.296925 &   0.534464 &       0.148462 &  0.029692 &  0.564157 &  0.029692 &  0.118770 &  0.356310 &  0.089077 &   2.167550 &  0.089077 &  0.029692 &  0.029692 &                           0.029692 &   0.089077 &   0.029692 &  0.029692 &  0.029692 &   1.158006 &   0.089077 &  0.029692 &  0.029692 &  0.089077 &          0.089077 &  0.089077 &   0.979852 &  0.029692 &  0.059385 &  0.237540 &  0.029692 &  0.029692 &  0.089077 &  0.059385 &  0.178155 &  0.029692 &  0.623542 &  0.029692 &  0.029692 &   2.316013 &         0.356310 &   0.178155 &  0.029692 \\\\\n",
       "\\bottomrule\n",
       "\\end{tabular}\n",
       "}"
      ],
      "text/plain": [
       "SCHOOL_RIGHT      1uto        53        54        61  Alleluya    BWANGA  \\\n",
       "FAC                                                                        \n",
       "FD            0.190032  0.190032  0.190032  0.380064  0.380064  0.380064   \n",
       "FM            0.051326  0.051326  0.051326  0.102651  0.102651  0.102651   \n",
       "FPSE          0.048144  0.048144  0.048144  0.096288  0.096288  0.096288   \n",
       "FSDC          0.160764  0.160764  0.160764  0.321527  0.321527  0.321527   \n",
       "FSEG          0.328526  0.328526  0.328526  0.657052  0.657052  0.657052   \n",
       "FSTA          0.191516  0.191516  0.191516  0.383033  0.383033  0.383033   \n",
       "FT            0.029692  0.029692  0.029692  0.059385  0.059385  0.059385   \n",
       "\n",
       "SCHOOL_RIGHT  Bungulu Beni    GRACIA  I DE BKV  I LWANGA    ...         wema  \\\n",
       "FAC                                                         ...                \n",
       "FD                0.190032  0.190032  0.190032  0.190032    ...     0.380064   \n",
       "FM                0.051326  0.051326  0.051326  0.051326    ...     0.102651   \n",
       "FPSE              0.048144  0.048144  0.048144  0.048144    ...     0.096288   \n",
       "FSDC              0.160764  0.160764  0.160764  0.160764    ...     0.321527   \n",
       "FSEG              0.328526  0.328526  0.328526  0.328526    ...     0.657052   \n",
       "FSTA              0.191516  0.191516  0.191516  0.191516    ...     0.383033   \n",
       "FT                0.029692  0.029692  0.029692  0.029692    ...     0.059385   \n",
       "\n",
       "SCHOOL_RIGHT      weza     weza2      wima         z      zako     zanner  \\\n",
       "FAC                                                                         \n",
       "FD            1.140191  0.190032  3.990668  0.190032  0.190032  14.822481   \n",
       "FM            0.307953  0.051326  1.077837  0.051326  0.051326   4.003393   \n",
       "FPSE          0.288865  0.048144  1.011029  0.048144  0.048144   3.755249   \n",
       "FSDC          0.964581  0.160764  3.376034  0.160764  0.160764  12.539555   \n",
       "FSEG          1.971156  0.328526  6.899046  0.328526  0.328526  25.625027   \n",
       "FSTA          1.149099  0.191516  4.021845  0.191516  0.191516  14.938282   \n",
       "FT            0.178155  0.029692  0.623542  0.029692  0.029692   2.316013   \n",
       "\n",
       "SCHOOL_RIGHT  zawadi ya raisi  ziwa kivu      zuza  \n",
       "FAC                                                 \n",
       "FD                   2.280382   1.140191  0.190032  \n",
       "FM                   0.615907   0.307953  0.051326  \n",
       "FPSE                 0.577731   0.288865  0.048144  \n",
       "FSDC                 1.929162   0.964581  0.160764  \n",
       "FSEG                 3.942312   1.971156  0.328526  \n",
       "FSTA                 2.298197   1.149099  0.191516  \n",
       "FT                   0.356310   0.178155  0.029692  \n",
       "\n",
       "[7 rows x 594 columns]"
      ]
     },
     "execution_count": 42,
     "metadata": {},
     "output_type": "execute_result"
    }
   ],
   "source": [
    "facSchoolChi2.chisquare()"
   ]
  },
  {
   "cell_type": "code",
   "execution_count": 43,
   "metadata": {},
   "outputs": [
    {
     "data": {
      "text/plain": [
       "3558"
      ]
     },
     "execution_count": 43,
     "metadata": {},
     "output_type": "execute_result"
    }
   ],
   "source": [
    "facSchoolChi2.dof"
   ]
  },
  {
   "cell_type": "code",
   "execution_count": 47,
   "metadata": {},
   "outputs": [
    {
     "data": {
      "text/plain": [
       "3697.8815995010605"
      ]
     },
     "execution_count": 47,
     "metadata": {},
     "output_type": "execute_result"
    }
   ],
   "source": [
    "facSchoolChi2.criticalValue"
   ]
  },
  {
   "cell_type": "code",
   "execution_count": 48,
   "metadata": {},
   "outputs": [
    {
     "data": {
      "text/plain": [
       "6389.4044131161027"
      ]
     },
     "execution_count": 48,
     "metadata": {},
     "output_type": "execute_result"
    }
   ],
   "source": [
    "facSchoolChi2.c"
   ]
  },
  {
   "cell_type": "code",
   "execution_count": 46,
   "metadata": {},
   "outputs": [
    {
     "data": {
      "text/plain": [
       "('It indicates that the relationship between the variables is significant at confidence of %s',\n",
       " 0.95)"
      ]
     },
     "execution_count": 46,
     "metadata": {},
     "output_type": "execute_result"
    }
   ],
   "source": [
    "facSchoolChi2.conclude(on='p')"
   ]
  },
  {
   "cell_type": "code",
   "execution_count": 199,
   "metadata": {},
   "outputs": [
    {
     "data": {
      "text/plain": [
       "3697.8815995010605"
      ]
     },
     "execution_count": 199,
     "metadata": {},
     "output_type": "execute_result"
    }
   ],
   "source": [
    "facOptionChi2.criticalValue"
   ]
  },
  {
   "cell_type": "markdown",
   "metadata": {},
   "source": [
    "reste à verifier ...."
   ]
  },
  {
   "cell_type": "markdown",
   "metadata": {},
   "source": [
    "###### FACULTE SEXE"
   ]
  },
  {
   "cell_type": "code",
   "execution_count": 49,
   "metadata": {
    "collapsed": true
   },
   "outputs": [],
   "source": [
    "facSexeChi2=ChiSquareCalc('FAC','GENDER',datasetInClean)"
   ]
  },
  {
   "cell_type": "code",
   "execution_count": 50,
   "metadata": {
    "scrolled": true
   },
   "outputs": [
    {
     "data": {
      "text/html": [
       "<div>\n",
       "<table border=\"1\" class=\"dataframe\">\n",
       "  <thead>\n",
       "    <tr style=\"text-align: right;\">\n",
       "      <th>GENDER</th>\n",
       "      <th>F</th>\n",
       "      <th>H</th>\n",
       "    </tr>\n",
       "    <tr>\n",
       "      <th>FAC</th>\n",
       "      <th></th>\n",
       "      <th></th>\n",
       "    </tr>\n",
       "  </thead>\n",
       "  <tbody>\n",
       "    <tr>\n",
       "      <th>FD</th>\n",
       "      <td>356</td>\n",
       "      <td>540</td>\n",
       "    </tr>\n",
       "    <tr>\n",
       "      <th>FM</th>\n",
       "      <td>109</td>\n",
       "      <td>133</td>\n",
       "    </tr>\n",
       "    <tr>\n",
       "      <th>FPSE</th>\n",
       "      <td>119</td>\n",
       "      <td>108</td>\n",
       "    </tr>\n",
       "    <tr>\n",
       "      <th>FSDC</th>\n",
       "      <td>469</td>\n",
       "      <td>289</td>\n",
       "    </tr>\n",
       "    <tr>\n",
       "      <th>FSEG</th>\n",
       "      <td>726</td>\n",
       "      <td>823</td>\n",
       "    </tr>\n",
       "    <tr>\n",
       "      <th>FSTA</th>\n",
       "      <td>140</td>\n",
       "      <td>763</td>\n",
       "    </tr>\n",
       "    <tr>\n",
       "      <th>FT</th>\n",
       "      <td>25</td>\n",
       "      <td>115</td>\n",
       "    </tr>\n",
       "  </tbody>\n",
       "</table>\n",
       "</div>"
      ],
      "text/latex": [
       "\\centering{\\begin{tabular}{lrr}\n",
       "\\toprule\n",
       "GENDER &    F &    H \\\\\n",
       "FAC  &      &      \\\\\n",
       "\\midrule\n",
       "FD   &  356 &  540 \\\\\n",
       "FM   &  109 &  133 \\\\\n",
       "FPSE &  119 &  108 \\\\\n",
       "FSDC &  469 &  289 \\\\\n",
       "FSEG &  726 &  823 \\\\\n",
       "FSTA &  140 &  763 \\\\\n",
       "FT   &   25 &  115 \\\\\n",
       "\\bottomrule\n",
       "\\end{tabular}\n",
       "}"
      ],
      "text/plain": [
       "GENDER    F    H\n",
       "FAC             \n",
       "FD      356  540\n",
       "FM      109  133\n",
       "FPSE    119  108\n",
       "FSDC    469  289\n",
       "FSEG    726  823\n",
       "FSTA    140  763\n",
       "FT       25  115"
      ]
     },
     "execution_count": 50,
     "metadata": {},
     "output_type": "execute_result"
    }
   ],
   "source": [
    "facSexeChi2.contengencyTable()"
   ]
  },
  {
   "cell_type": "code",
   "execution_count": 327,
   "metadata": {
    "scrolled": true
   },
   "outputs": [
    {
     "data": {
      "text/html": [
       "<div>\n",
       "<table border=\"1\" class=\"dataframe\">\n",
       "  <thead>\n",
       "    <tr>\n",
       "      <th></th>\n",
       "      <th colspan=\"2\" halign=\"left\">M</th>\n",
       "      <th>F</th>\n",
       "    </tr>\n",
       "    <tr>\n",
       "      <th>GENDER</th>\n",
       "      <th>F</th>\n",
       "      <th>H</th>\n",
       "      <th>FAC</th>\n",
       "    </tr>\n",
       "  </thead>\n",
       "  <tbody>\n",
       "    <tr>\n",
       "      <th>FD</th>\n",
       "      <td>356</td>\n",
       "      <td>540</td>\n",
       "      <td>896</td>\n",
       "    </tr>\n",
       "    <tr>\n",
       "      <th>FM</th>\n",
       "      <td>109</td>\n",
       "      <td>133</td>\n",
       "      <td>242</td>\n",
       "    </tr>\n",
       "    <tr>\n",
       "      <th>FPSE</th>\n",
       "      <td>119</td>\n",
       "      <td>108</td>\n",
       "      <td>227</td>\n",
       "    </tr>\n",
       "    <tr>\n",
       "      <th>FSDC</th>\n",
       "      <td>469</td>\n",
       "      <td>289</td>\n",
       "      <td>758</td>\n",
       "    </tr>\n",
       "    <tr>\n",
       "      <th>FSEG</th>\n",
       "      <td>726</td>\n",
       "      <td>823</td>\n",
       "      <td>1549</td>\n",
       "    </tr>\n",
       "    <tr>\n",
       "      <th>FSTA</th>\n",
       "      <td>140</td>\n",
       "      <td>763</td>\n",
       "      <td>903</td>\n",
       "    </tr>\n",
       "    <tr>\n",
       "      <th>FT</th>\n",
       "      <td>25</td>\n",
       "      <td>115</td>\n",
       "      <td>140</td>\n",
       "    </tr>\n",
       "  </tbody>\n",
       "</table>\n",
       "</div>"
      ],
      "text/plain": [
       "          M          F\n",
       "GENDER    F    H   FAC\n",
       "FD      356  540   896\n",
       "FM      109  133   242\n",
       "FPSE    119  108   227\n",
       "FSDC    469  289   758\n",
       "FSEG    726  823  1549\n",
       "FSTA    140  763   903\n",
       "FT       25  115   140"
      ]
     },
     "execution_count": 327,
     "metadata": {},
     "output_type": "execute_result"
    }
   ],
   "source": [
    "facGender=pd.concat([expGenderFac,pd.DataFrame(datasetInClean.FAC.value_counts())], axis=1,keys=['M','F','total'])\n",
    "facGender"
   ]
  },
  {
   "cell_type": "code",
   "execution_count": 335,
   "metadata": {
    "collapsed": true
   },
   "outputs": [],
   "source": [
    "A=facGender[('M','H')]*100 "
   ]
  },
  {
   "cell_type": "code",
   "execution_count": 264,
   "metadata": {},
   "outputs": [
    {
     "data": {
      "text/plain": [
       "896"
      ]
     },
     "execution_count": 264,
     "metadata": {},
     "output_type": "execute_result"
    }
   ],
   "source": [
    "datasetInClean.loc['']"
   ]
  },
  {
   "cell_type": "code",
   "execution_count": 51,
   "metadata": {},
   "outputs": [
    {
     "data": {
      "text/html": [
       "<div>\n",
       "<table border=\"1\" class=\"dataframe\">\n",
       "  <thead>\n",
       "    <tr style=\"text-align: right;\">\n",
       "      <th>GENDER</th>\n",
       "      <th>F</th>\n",
       "      <th>H</th>\n",
       "    </tr>\n",
       "    <tr>\n",
       "      <th>FAC</th>\n",
       "      <th></th>\n",
       "      <th></th>\n",
       "    </tr>\n",
       "  </thead>\n",
       "  <tbody>\n",
       "    <tr>\n",
       "      <th>FD</th>\n",
       "      <td>369.421845</td>\n",
       "      <td>526.578155</td>\n",
       "    </tr>\n",
       "    <tr>\n",
       "      <th>FM</th>\n",
       "      <td>99.776882</td>\n",
       "      <td>142.223118</td>\n",
       "    </tr>\n",
       "    <tr>\n",
       "      <th>FPSE</th>\n",
       "      <td>93.592365</td>\n",
       "      <td>133.407635</td>\n",
       "    </tr>\n",
       "    <tr>\n",
       "      <th>FSDC</th>\n",
       "      <td>312.524284</td>\n",
       "      <td>445.475716</td>\n",
       "    </tr>\n",
       "    <tr>\n",
       "      <th>FSEG</th>\n",
       "      <td>638.654507</td>\n",
       "      <td>910.345493</td>\n",
       "    </tr>\n",
       "    <tr>\n",
       "      <th>FSTA</th>\n",
       "      <td>372.307953</td>\n",
       "      <td>530.692047</td>\n",
       "    </tr>\n",
       "    <tr>\n",
       "      <th>FT</th>\n",
       "      <td>57.722163</td>\n",
       "      <td>82.277837</td>\n",
       "    </tr>\n",
       "  </tbody>\n",
       "</table>\n",
       "</div>"
      ],
      "text/latex": [
       "\\centering{\\begin{tabular}{lrr}\n",
       "\\toprule\n",
       "GENDER &           F &           H \\\\\n",
       "FAC  &             &             \\\\\n",
       "\\midrule\n",
       "FD   &  369.421845 &  526.578155 \\\\\n",
       "FM   &   99.776882 &  142.223118 \\\\\n",
       "FPSE &   93.592365 &  133.407635 \\\\\n",
       "FSDC &  312.524284 &  445.475716 \\\\\n",
       "FSEG &  638.654507 &  910.345493 \\\\\n",
       "FSTA &  372.307953 &  530.692047 \\\\\n",
       "FT   &   57.722163 &   82.277837 \\\\\n",
       "\\bottomrule\n",
       "\\end{tabular}\n",
       "}"
      ],
      "text/plain": [
       "GENDER           F           H\n",
       "FAC                           \n",
       "FD      369.421845  526.578155\n",
       "FM       99.776882  142.223118\n",
       "FPSE     93.592365  133.407635\n",
       "FSDC    312.524284  445.475716\n",
       "FSEG    638.654507  910.345493\n",
       "FSTA    372.307953  530.692047\n",
       "FT       57.722163   82.277837"
      ]
     },
     "execution_count": 51,
     "metadata": {},
     "output_type": "execute_result"
    }
   ],
   "source": [
    "facSexeChi2.chisquare()"
   ]
  },
  {
   "cell_type": "code",
   "execution_count": 55,
   "metadata": {},
   "outputs": [
    {
     "data": {
      "text/plain": [
       "6"
      ]
     },
     "execution_count": 55,
     "metadata": {},
     "output_type": "execute_result"
    }
   ],
   "source": [
    "facSexeChi2.dof"
   ]
  },
  {
   "cell_type": "code",
   "execution_count": 57,
   "metadata": {},
   "outputs": [
    {
     "data": {
      "text/plain": [
       "('It indicates that the relationship between the variables is significant at confidence of %s',\n",
       " 0.95)"
      ]
     },
     "execution_count": 57,
     "metadata": {},
     "output_type": "execute_result"
    }
   ],
   "source": [
    "facSexeChi2.conclude(on='p')"
   ]
  },
  {
   "cell_type": "code",
   "execution_count": 58,
   "metadata": {
    "scrolled": true
   },
   "outputs": [
    {
     "data": {
      "text/plain": [
       "12.591587243743977"
      ]
     },
     "execution_count": 58,
     "metadata": {},
     "output_type": "execute_result"
    }
   ],
   "source": [
    "facSexeChi2.criticalValue"
   ]
  },
  {
   "cell_type": "code",
   "execution_count": 59,
   "metadata": {},
   "outputs": [
    {
     "data": {
      "text/plain": [
       "445.85875262024177"
      ]
     },
     "execution_count": 59,
     "metadata": {},
     "output_type": "execute_result"
    }
   ],
   "source": [
    "facSexeChi2.c"
   ]
  },
  {
   "cell_type": "markdown",
   "metadata": {},
   "source": [
    "sur base de ce fait on fait la meme conclusion que pour la province : il ya une relation de dependance entre le sexe et la faculté ce qui est loqique car par example en faculté de technologie et teologie on trouve moin des hommes que des femmes "
   ]
  },
  {
   "cell_type": "markdown",
   "metadata": {},
   "source": [
    "###### FACULTE - DIPLOME AGE  et FACULTE DIPLOME POURCENTAGE"
   ]
  },
  {
   "cell_type": "markdown",
   "metadata": {},
   "source": [
    "comme ces une des colones dispose des variables continues nous allons utiliser le test ANOVA"
   ]
  },
  {
   "cell_type": "markdown",
   "metadata": {},
   "source": [
    "ce test nous permmetra de savoir si la noyennne de l'age des étudiants  est la meme pour chaque faculté:\n",
    "cela consituera notre hypothèse nulle ,on va cherche la probabilité p est on decidera sur base de cette valeur !\n",
    "si elle es inferieur à 0.05 on rejetera l'hypothèse nulle"
   ]
  },
  {
   "cell_type": "code",
   "execution_count": 311,
   "metadata": {
    "collapsed": true,
    "scrolled": true
   },
   "outputs": [],
   "source": [
    "import statsmodels.api as sm\n",
    "from statsmodels.formula.api import ols"
   ]
  },
  {
   "cell_type": "code",
   "execution_count": 312,
   "metadata": {
    "collapsed": true
   },
   "outputs": [],
   "source": [
    "moore_lm = ols('AGE ~ C(FAC)',data=datasetInClean).fit()"
   ]
  },
  {
   "cell_type": "code",
   "execution_count": 313,
   "metadata": {
    "collapsed": true
   },
   "outputs": [],
   "source": [
    "moore_lm = ols('AGE ~ C(FAC)',data=datasetInClean).fit()\n",
    "aov_table = sm.stats.anova_lm(moore_lm, typ=1)\n"
   ]
  },
  {
   "cell_type": "code",
   "execution_count": 314,
   "metadata": {
    "scrolled": true
   },
   "outputs": [
    {
     "data": {
      "text/html": [
       "<div>\n",
       "<table border=\"1\" class=\"dataframe\">\n",
       "  <thead>\n",
       "    <tr style=\"text-align: right;\">\n",
       "      <th></th>\n",
       "      <th>df</th>\n",
       "      <th>sum_sq</th>\n",
       "      <th>mean_sq</th>\n",
       "      <th>F</th>\n",
       "      <th>PR(&gt;F)</th>\n",
       "    </tr>\n",
       "  </thead>\n",
       "  <tbody>\n",
       "    <tr>\n",
       "      <th>C(FAC)</th>\n",
       "      <td>6.0</td>\n",
       "      <td>14857.002658</td>\n",
       "      <td>2476.167110</td>\n",
       "      <td>135.823792</td>\n",
       "      <td>3.721673e-159</td>\n",
       "    </tr>\n",
       "    <tr>\n",
       "      <th>Residual</th>\n",
       "      <td>4708.0</td>\n",
       "      <td>85830.284723</td>\n",
       "      <td>18.230732</td>\n",
       "      <td>NaN</td>\n",
       "      <td>NaN</td>\n",
       "    </tr>\n",
       "  </tbody>\n",
       "</table>\n",
       "</div>"
      ],
      "text/plain": [
       "              df        sum_sq      mean_sq           F         PR(>F)\n",
       "C(FAC)       6.0  14857.002658  2476.167110  135.823792  3.721673e-159\n",
       "Residual  4708.0  85830.284723    18.230732         NaN            NaN"
      ]
     },
     "execution_count": 314,
     "metadata": {},
     "output_type": "execute_result"
    }
   ],
   "source": [
    "aov_table"
   ]
  },
  {
   "cell_type": "markdown",
   "metadata": {},
   "source": [
    "comme la valeur de PR est inferieur à 0.05 on peut conclure qua la moyenne de l'age n'est pas la meme au sein de chaque faculté"
   ]
  },
  {
   "cell_type": "code",
   "execution_count": 320,
   "metadata": {
    "scrolled": true
   },
   "outputs": [
    {
     "data": {
      "text/html": [
       "<div>\n",
       "<table border=\"1\" class=\"dataframe\">\n",
       "  <thead>\n",
       "    <tr style=\"text-align: right;\">\n",
       "      <th></th>\n",
       "      <th>IDENTIFICATION</th>\n",
       "      <th>DIPLOMPERCENTAGE</th>\n",
       "      <th>AGE</th>\n",
       "    </tr>\n",
       "    <tr>\n",
       "      <th>FAC</th>\n",
       "      <th></th>\n",
       "      <th></th>\n",
       "      <th></th>\n",
       "    </tr>\n",
       "  </thead>\n",
       "  <tbody>\n",
       "    <tr>\n",
       "      <th>FD</th>\n",
       "      <td>8837.433036</td>\n",
       "      <td>56.151372</td>\n",
       "      <td>24.771205</td>\n",
       "    </tr>\n",
       "    <tr>\n",
       "      <th>FM</th>\n",
       "      <td>10887.719008</td>\n",
       "      <td>59.434420</td>\n",
       "      <td>21.487603</td>\n",
       "    </tr>\n",
       "    <tr>\n",
       "      <th>FPSE</th>\n",
       "      <td>8417.453744</td>\n",
       "      <td>56.202099</td>\n",
       "      <td>28.224670</td>\n",
       "    </tr>\n",
       "    <tr>\n",
       "      <th>FSDC</th>\n",
       "      <td>8195.007916</td>\n",
       "      <td>55.329211</td>\n",
       "      <td>25.974934</td>\n",
       "    </tr>\n",
       "    <tr>\n",
       "      <th>FSEG</th>\n",
       "      <td>8410.416398</td>\n",
       "      <td>56.832564</td>\n",
       "      <td>24.323434</td>\n",
       "    </tr>\n",
       "    <tr>\n",
       "      <th>FSTA</th>\n",
       "      <td>9166.437431</td>\n",
       "      <td>58.941594</td>\n",
       "      <td>23.307863</td>\n",
       "    </tr>\n",
       "    <tr>\n",
       "      <th>FT</th>\n",
       "      <td>8125.250000</td>\n",
       "      <td>53.814286</td>\n",
       "      <td>31.428571</td>\n",
       "    </tr>\n",
       "  </tbody>\n",
       "</table>\n",
       "</div>"
      ],
      "text/plain": [
       "      IDENTIFICATION  DIPLOMPERCENTAGE        AGE\n",
       "FAC                                              \n",
       "FD       8837.433036         56.151372  24.771205\n",
       "FM      10887.719008         59.434420  21.487603\n",
       "FPSE     8417.453744         56.202099  28.224670\n",
       "FSDC     8195.007916         55.329211  25.974934\n",
       "FSEG     8410.416398         56.832564  24.323434\n",
       "FSTA     9166.437431         58.941594  23.307863\n",
       "FT       8125.250000         53.814286  31.428571"
      ]
     },
     "execution_count": 320,
     "metadata": {},
     "output_type": "execute_result"
    }
   ],
   "source": [
    "meanByFAC=datasetInClean.groupby('FAC').mean()\n",
    "meanByFAC"
   ]
  },
  {
   "cell_type": "markdown",
   "metadata": {},
   "source": [
    "Pour prouver le rejet de notre hypothèse nulle on  peut remarquer que les facultées de Medecine et celui de technologie on une moyenne d'age de 21 et 23 respectivement et les facultées de psycologie et celui de theologie on une mooyenne d'age respective de 28 et 31 ans  "
   ]
  },
  {
   "cell_type": "markdown",
   "metadata": {},
   "source": [
    "#### Diplome pourcentage"
   ]
  },
  {
   "cell_type": "markdown",
   "metadata": {},
   "source": [
    "voici comment se presente le test:"
   ]
  },
  {
   "cell_type": "code",
   "execution_count": 316,
   "metadata": {
    "collapsed": true
   },
   "outputs": [],
   "source": [
    "moore_lm = ols('DIPLOMPERCENTAGE ~ C(FAC)',data=datasetInClean).fit()"
   ]
  },
  {
   "cell_type": "code",
   "execution_count": 317,
   "metadata": {
    "collapsed": true
   },
   "outputs": [],
   "source": [
    "aov_table = sm.stats.anova_lm(moore_lm, typ=1)"
   ]
  },
  {
   "cell_type": "code",
   "execution_count": 325,
   "metadata": {},
   "outputs": [
    {
     "data": {
      "text/html": [
       "<div>\n",
       "<table border=\"1\" class=\"dataframe\">\n",
       "  <thead>\n",
       "    <tr style=\"text-align: right;\">\n",
       "      <th></th>\n",
       "      <th>df</th>\n",
       "      <th>sum_sq</th>\n",
       "      <th>mean_sq</th>\n",
       "      <th>F</th>\n",
       "      <th>PR(&gt;F)</th>\n",
       "    </tr>\n",
       "  </thead>\n",
       "  <tbody>\n",
       "    <tr>\n",
       "      <th>C(FAC)</th>\n",
       "      <td>6.0</td>\n",
       "      <td>9139.202728</td>\n",
       "      <td>1523.200455</td>\n",
       "      <td>48.757704</td>\n",
       "      <td>2.256165e-58</td>\n",
       "    </tr>\n",
       "    <tr>\n",
       "      <th>Residual</th>\n",
       "      <td>4708.0</td>\n",
       "      <td>147078.865397</td>\n",
       "      <td>31.240201</td>\n",
       "      <td>NaN</td>\n",
       "      <td>NaN</td>\n",
       "    </tr>\n",
       "  </tbody>\n",
       "</table>\n",
       "</div>"
      ],
      "text/plain": [
       "              df         sum_sq      mean_sq          F        PR(>F)\n",
       "C(FAC)       6.0    9139.202728  1523.200455  48.757704  2.256165e-58\n",
       "Residual  4708.0  147078.865397    31.240201        NaN           NaN"
      ]
     },
     "execution_count": 325,
     "metadata": {},
     "output_type": "execute_result"
    }
   ],
   "source": [
    "aov_table"
   ]
  },
  {
   "cell_type": "markdown",
   "metadata": {},
   "source": [
    "Egalement ici on rejete aussi notre hypothèse nulle qui stipulait que la moyenne du pourcentage du diplome est la meme au seind de chaque faculté .\n",
    "Pour prouver le rejet de notre hypothèse nulle on  peut remarquer que les facultés de Medecine et celui de technologie on une moyenne de pourcentage  de 59% chacun et celui de theologie à une moyenne de 53% "
   ]
  },
  {
   "cell_type": "code",
   "execution_count": 324,
   "metadata": {},
   "outputs": [
    {
     "data": {
      "text/plain": [
       "3.3032675567110044"
      ]
     },
     "execution_count": 324,
     "metadata": {},
     "output_type": "execute_result"
    }
   ],
   "source": [
    "meanByFAC.AGE.std()"
   ]
  },
  {
   "cell_type": "code",
   "execution_count": 44,
   "metadata": {
    "collapsed": true
   },
   "outputs": [],
   "source": [
    "import sys\n",
    "reload(sys)\n",
    "sys.setdefaultencoding('utf-8')"
   ]
  },
  {
   "cell_type": "code",
   "execution_count": 50,
   "metadata": {
    "collapsed": true
   },
   "outputs": [],
   "source": [
    "datasetInClean.to_csv('DatasetInClean.csv')"
   ]
  },
  {
   "cell_type": "code",
   "execution_count": 1,
   "metadata": {
    "scrolled": true
   },
   "outputs": [
    {
     "ename": "SyntaxError",
     "evalue": "invalid syntax (<ipython-input-1-b7f99248bc48>, line 1)",
     "output_type": "error",
     "traceback": [
      "\u001b[0;36m  File \u001b[0;32m\"<ipython-input-1-b7f99248bc48>\"\u001b[0;36m, line \u001b[0;32m1\u001b[0m\n\u001b[0;31m    ipython nbconvert --to pdf --template hidecode DataExplorationDraft1.ipynb\u001b[0m\n\u001b[0m                    ^\u001b[0m\n\u001b[0;31mSyntaxError\u001b[0m\u001b[0;31m:\u001b[0m invalid syntax\n"
     ]
    }
   ],
   "source": []
  },
  {
   "cell_type": "code",
   "execution_count": 77,
   "metadata": {
    "scrolled": false
   },
   "outputs": [
    {
     "data": {
      "text/html": [
       "<div>\n",
       "<table border=\"1\" class=\"dataframe\">\n",
       "  <thead>\n",
       "    <tr style=\"text-align: right;\">\n",
       "      <th></th>\n",
       "      <th>DIPLOMPERCENTAGE</th>\n",
       "      <th>AGE</th>\n",
       "    </tr>\n",
       "  </thead>\n",
       "  <tbody>\n",
       "    <tr>\n",
       "      <th>count</th>\n",
       "      <td>4715.000000</td>\n",
       "      <td>4715.000000</td>\n",
       "    </tr>\n",
       "    <tr>\n",
       "      <th>mean</th>\n",
       "      <td>56.878914</td>\n",
       "      <td>24.732768</td>\n",
       "    </tr>\n",
       "    <tr>\n",
       "      <th>std</th>\n",
       "      <td>5.756663</td>\n",
       "      <td>4.621602</td>\n",
       "    </tr>\n",
       "    <tr>\n",
       "      <th>min</th>\n",
       "      <td>50.000000</td>\n",
       "      <td>18.000000</td>\n",
       "    </tr>\n",
       "    <tr>\n",
       "      <th>25%</th>\n",
       "      <td>52.000000</td>\n",
       "      <td>22.000000</td>\n",
       "    </tr>\n",
       "    <tr>\n",
       "      <th>50%</th>\n",
       "      <td>56.000000</td>\n",
       "      <td>24.000000</td>\n",
       "    </tr>\n",
       "    <tr>\n",
       "      <th>75%</th>\n",
       "      <td>60.000000</td>\n",
       "      <td>27.000000</td>\n",
       "    </tr>\n",
       "    <tr>\n",
       "      <th>max</th>\n",
       "      <td>86.000000</td>\n",
       "      <td>59.000000</td>\n",
       "    </tr>\n",
       "  </tbody>\n",
       "</table>\n",
       "</div>"
      ],
      "text/latex": [
       "\\centering{\\begin{tabular}{lrr}\n",
       "\\toprule\n",
       "{} &  DIPLOMPERCENTAGE &          AGE \\\\\n",
       "\\midrule\n",
       "count &       4715.000000 &  4715.000000 \\\\\n",
       "mean  &         56.878914 &    24.732768 \\\\\n",
       "std   &          5.756663 &     4.621602 \\\\\n",
       "min   &         50.000000 &    18.000000 \\\\\n",
       "25\\%   &         52.000000 &    22.000000 \\\\\n",
       "50\\%   &         56.000000 &    24.000000 \\\\\n",
       "75\\%   &         60.000000 &    27.000000 \\\\\n",
       "max   &         86.000000 &    59.000000 \\\\\n",
       "\\bottomrule\n",
       "\\end{tabular}\n",
       "}"
      ],
      "text/plain": [
       "       DIPLOMPERCENTAGE          AGE\n",
       "count       4715.000000  4715.000000\n",
       "mean          56.878914    24.732768\n",
       "std            5.756663     4.621602\n",
       "min           50.000000    18.000000\n",
       "25%           52.000000    22.000000\n",
       "50%           56.000000    24.000000\n",
       "75%           60.000000    27.000000\n",
       "max           86.000000    59.000000"
      ]
     },
     "execution_count": 77,
     "metadata": {},
     "output_type": "execute_result"
    }
   ],
   "source": [
    "datasetInClean[['DIPLOMPERCENTAGE','AGE']].describe()"
   ]
  },
  {
   "cell_type": "code",
   "execution_count": 68,
   "metadata": {
    "scrolled": true
   },
   "outputs": [
    {
     "data": {
      "image/png": "[encoded data removed]",
      "text/plain": [
       "<matplotlib.figure.Figure at 0x10b5d7e90>"
      ]
     },
     "metadata": {},
     "output_type": "display_data"
    }
   ],
   "source": [
    "plt.figure(figsize=(12,6))\n",
    "ax=sns.boxplot(x=\"FAC\", y=\"AGE\", data=datasetInClean)\n",
    "plt.savefig('AGE-FAC.png',dpi=100)"
   ]
  },
  {
   "cell_type": "code",
   "execution_count": 67,
   "metadata": {
    "scrolled": false
   },
   "outputs": [
    {
     "data": {
      "image/png": "[encoded data removed]",
      "text/plain": [
       "<matplotlib.figure.Figure at 0x10c40ead0>"
      ]
     },
     "metadata": {},
     "output_type": "display_data"
    }
   ],
   "source": [
    "plt.figure(figsize=(12,6))\n",
    "ax=sns.boxplot(x=\"FAC\", y=\"DIPLOMPERCENTAGE\", data=datasetInClean)\n",
    "plt.savefig('AGE-POURC.png',dpi=100)"
   ]
  },
  {
   "cell_type": "code",
   "execution_count": 65,
   "metadata": {},
   "outputs": [
    {
     "data": {
      "text/plain": [
       "Index([u'Unnamed: 0', u'IDENTIFICATION', u'SCHOOLSTATUS', u'SCHOOL_RIGHT',\n",
       "       u'OPTION_RIGHT', u'FAC', u'SCHOOLPROVINCE', u'BIRTHDAY', u'GENDER',\n",
       "       u'DIPLOMPERCENTAGE', u'AGE'],\n",
       "      dtype='object')"
      ]
     },
     "execution_count": 65,
     "metadata": {},
     "output_type": "execute_result"
    }
   ],
   "source": [
    "datasetInClean.columns"
   ]
  },
  {
   "cell_type": "code",
   "execution_count": null,
   "metadata": {
    "collapsed": true
   },
   "outputs": [],
   "source": []
  }
 ],
 "metadata": {
  "kernelspec": {
   "display_name": "Python 2",
   "language": "python",
   "name": "python2"
  },
  "language_info": {
   "codemirror_mode": {
    "name": "ipython",
    "version": 2
   },
   "file_extension": ".py",
   "mimetype": "text/x-python",
   "name": "python",
   "nbconvert_exporter": "python",
   "pygments_lexer": "ipython2",
   "version": "2.7.13"
  }
 },
 "nbformat": 4,
 "nbformat_minor": 2
}
