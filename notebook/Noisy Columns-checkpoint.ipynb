{
 "cells": [
  {
   "cell_type": "markdown",
   "metadata": {},
   "source": [
    "In this dataset we will deal with nosisy columns in our dataset we will treat it like a new one"
   ]
  },
  {
   "cell_type": "code",
   "execution_count": 2,
   "metadata": {
    "collapsed": true
   },
   "outputs": [],
   "source": [
    "import pandas as pd\n",
    "import numpy as np\n",
    "import matplotlib.pyplot as plt\n",
    "import seaborn as sns #for beatiful visualisations\n",
    "%matplotlib inline \n",
    "import scipy.stats as scs #for statistics\n",
    "import operator\n",
    "from scipy.stats import chi2_contingency\n",
    "import scipy.stats as scs #for statistics\n",
    "import matplotlib.ticker as ticker\n"
   ]
  },
  {
   "cell_type": "code",
   "execution_count": 3,
   "metadata": {},
   "outputs": [],
   "source": [
    "dataset=pd.read_csv('noisyColumns.csv')"
   ]
  },
  {
   "cell_type": "code",
   "execution_count": 4,
   "metadata": {},
   "outputs": [
    {
     "data": {
      "text/html": [
       "<div>\n",
       "<table border=\"1\" class=\"dataframe\">\n",
       "  <thead>\n",
       "    <tr style=\"text-align: right;\">\n",
       "      <th></th>\n",
       "      <th>Unnamed: 0</th>\n",
       "      <th>IDENTIFICATION</th>\n",
       "      <th>DIPLOMSECTION</th>\n",
       "      <th>DIPLOMOPTION</th>\n",
       "      <th>SCHOOL</th>\n",
       "      <th>SCHOOLSTATUS</th>\n",
       "    </tr>\n",
       "  </thead>\n",
       "  <tbody>\n",
       "    <tr>\n",
       "      <th>0</th>\n",
       "      <td>0</td>\n",
       "      <td>45</td>\n",
       "      <td>PEDAGOGIEQUE</td>\n",
       "      <td>PEDA GENERALE</td>\n",
       "      <td>INSTITUT MAENDELEO</td>\n",
       "      <td>inconnu</td>\n",
       "    </tr>\n",
       "    <tr>\n",
       "      <th>1</th>\n",
       "      <td>1</td>\n",
       "      <td>215</td>\n",
       "      <td>SCIENTIFIQUE</td>\n",
       "      <td>MATH-PHYSIQUE</td>\n",
       "      <td>INSTITUT VUNGI</td>\n",
       "      <td>inconnu</td>\n",
       "    </tr>\n",
       "    <tr>\n",
       "      <th>2</th>\n",
       "      <td>2</td>\n",
       "      <td>343</td>\n",
       "      <td>SCIENTIFIQUE</td>\n",
       "      <td>MATH PHYSIQUE</td>\n",
       "      <td>INSTITUT FARAJA</td>\n",
       "      <td>inconnu</td>\n",
       "    </tr>\n",
       "    <tr>\n",
       "      <th>3</th>\n",
       "      <td>3</td>\n",
       "      <td>356</td>\n",
       "      <td>ECONOMIE ET COMMERCE</td>\n",
       "      <td>ECONOMIE</td>\n",
       "      <td>ESISE/GISENYI</td>\n",
       "      <td>inconnu</td>\n",
       "    </tr>\n",
       "    <tr>\n",
       "      <th>4</th>\n",
       "      <td>4</td>\n",
       "      <td>429</td>\n",
       "      <td>TECHNIQUE</td>\n",
       "      <td>COMMERCIALE ET ADMINISTRATIVE</td>\n",
       "      <td>C,S, UMOJA</td>\n",
       "      <td>inconnu</td>\n",
       "    </tr>\n",
       "  </tbody>\n",
       "</table>\n",
       "</div>"
      ],
      "text/plain": [
       "   Unnamed: 0  IDENTIFICATION         DIPLOMSECTION  \\\n",
       "0           0              45          PEDAGOGIEQUE   \n",
       "1           1             215          SCIENTIFIQUE   \n",
       "2           2             343          SCIENTIFIQUE   \n",
       "3           3             356  ECONOMIE ET COMMERCE   \n",
       "4           4             429             TECHNIQUE   \n",
       "\n",
       "                    DIPLOMOPTION              SCHOOL SCHOOLSTATUS  \n",
       "0                  PEDA GENERALE  INSTITUT MAENDELEO      inconnu  \n",
       "1                  MATH-PHYSIQUE      INSTITUT VUNGI      inconnu  \n",
       "2                  MATH PHYSIQUE     INSTITUT FARAJA      inconnu  \n",
       "3                       ECONOMIE       ESISE/GISENYI      inconnu  \n",
       "4  COMMERCIALE ET ADMINISTRATIVE          C,S, UMOJA      inconnu  "
      ]
     },
     "execution_count": 4,
     "metadata": {},
     "output_type": "execute_result"
    }
   ],
   "source": [
    "dataset.head(5)"
   ]
  },
  {
   "cell_type": "code",
   "execution_count": 5,
   "metadata": {
    "collapsed": true
   },
   "outputs": [],
   "source": [
    "dataset.drop(labels=['Unnamed: 0'] ,inplace=True,axis=1)"
   ]
  },
  {
   "cell_type": "code",
   "execution_count": 6,
   "metadata": {},
   "outputs": [
    {
     "data": {
      "text/html": [
       "<div>\n",
       "<table border=\"1\" class=\"dataframe\">\n",
       "  <thead>\n",
       "    <tr style=\"text-align: right;\">\n",
       "      <th></th>\n",
       "      <th>IDENTIFICATION</th>\n",
       "      <th>DIPLOMSECTION</th>\n",
       "      <th>DIPLOMOPTION</th>\n",
       "      <th>SCHOOL</th>\n",
       "      <th>SCHOOLSTATUS</th>\n",
       "    </tr>\n",
       "  </thead>\n",
       "  <tbody>\n",
       "    <tr>\n",
       "      <th>0</th>\n",
       "      <td>45</td>\n",
       "      <td>PEDAGOGIEQUE</td>\n",
       "      <td>PEDA GENERALE</td>\n",
       "      <td>INSTITUT MAENDELEO</td>\n",
       "      <td>inconnu</td>\n",
       "    </tr>\n",
       "    <tr>\n",
       "      <th>1</th>\n",
       "      <td>215</td>\n",
       "      <td>SCIENTIFIQUE</td>\n",
       "      <td>MATH-PHYSIQUE</td>\n",
       "      <td>INSTITUT VUNGI</td>\n",
       "      <td>inconnu</td>\n",
       "    </tr>\n",
       "    <tr>\n",
       "      <th>2</th>\n",
       "      <td>343</td>\n",
       "      <td>SCIENTIFIQUE</td>\n",
       "      <td>MATH PHYSIQUE</td>\n",
       "      <td>INSTITUT FARAJA</td>\n",
       "      <td>inconnu</td>\n",
       "    </tr>\n",
       "    <tr>\n",
       "      <th>3</th>\n",
       "      <td>356</td>\n",
       "      <td>ECONOMIE ET COMMERCE</td>\n",
       "      <td>ECONOMIE</td>\n",
       "      <td>ESISE/GISENYI</td>\n",
       "      <td>inconnu</td>\n",
       "    </tr>\n",
       "    <tr>\n",
       "      <th>4</th>\n",
       "      <td>429</td>\n",
       "      <td>TECHNIQUE</td>\n",
       "      <td>COMMERCIALE ET ADMINISTRATIVE</td>\n",
       "      <td>C,S, UMOJA</td>\n",
       "      <td>inconnu</td>\n",
       "    </tr>\n",
       "  </tbody>\n",
       "</table>\n",
       "</div>"
      ],
      "text/plain": [
       "   IDENTIFICATION         DIPLOMSECTION                   DIPLOMOPTION  \\\n",
       "0              45          PEDAGOGIEQUE                  PEDA GENERALE   \n",
       "1             215          SCIENTIFIQUE                  MATH-PHYSIQUE   \n",
       "2             343          SCIENTIFIQUE                  MATH PHYSIQUE   \n",
       "3             356  ECONOMIE ET COMMERCE                       ECONOMIE   \n",
       "4             429             TECHNIQUE  COMMERCIALE ET ADMINISTRATIVE   \n",
       "\n",
       "               SCHOOL SCHOOLSTATUS  \n",
       "0  INSTITUT MAENDELEO      inconnu  \n",
       "1      INSTITUT VUNGI      inconnu  \n",
       "2     INSTITUT FARAJA      inconnu  \n",
       "3       ESISE/GISENYI      inconnu  \n",
       "4          C,S, UMOJA      inconnu  "
      ]
     },
     "execution_count": 6,
     "metadata": {},
     "output_type": "execute_result"
    }
   ],
   "source": [
    "dataset.head(5)"
   ]
  },
  {
   "cell_type": "code",
   "execution_count": 9,
   "metadata": {},
   "outputs": [
    {
     "data": {
      "text/plain": [
       "235"
      ]
     },
     "execution_count": 9,
     "metadata": {},
     "output_type": "execute_result"
    }
   ],
   "source": [
    "len(dataset.DIPLOMOPTION.value_counts())"
   ]
  },
  {
   "cell_type": "code",
   "execution_count": 10,
   "metadata": {},
   "outputs": [
    {
     "data": {
      "text/plain": [
       "101"
      ]
     },
     "execution_count": 10,
     "metadata": {},
     "output_type": "execute_result"
    }
   ],
   "source": [
    "len(dataset.DIPLOMSECTION.value_counts())"
   ]
  },
  {
   "cell_type": "code",
   "execution_count": 11,
   "metadata": {},
   "outputs": [
    {
     "data": {
      "text/plain": [
       "1406"
      ]
     },
     "execution_count": 11,
     "metadata": {},
     "output_type": "execute_result"
    }
   ],
   "source": [
    "len(dataset.SCHOOL.value_counts())"
   ]
  },
  {
   "cell_type": "code",
   "execution_count": 12,
   "metadata": {},
   "outputs": [
    {
     "data": {
      "text/plain": [
       "8"
      ]
     },
     "execution_count": 12,
     "metadata": {},
     "output_type": "execute_result"
    }
   ],
   "source": [
    "len(dataset.SCHOOLSTATUS.value_counts())"
   ]
  },
  {
   "cell_type": "markdown",
   "metadata": {},
   "source": [
    "let first convert all the values to lower case and then check again"
   ]
  },
  {
   "cell_type": "code",
   "execution_count": 13,
   "metadata": {},
   "outputs": [
    {
     "data": {
      "text/plain": [
       "inconnu         3833\n",
       "catholique       289\n",
       "protestant       260\n",
       "privé            170\n",
       "publique         152\n",
       "musulman           6\n",
       "kimbanguiste       3\n",
       "autodidacte        2\n",
       "Name: SCHOOLSTATUS, dtype: int64"
      ]
     },
     "execution_count": 13,
     "metadata": {},
     "output_type": "execute_result"
    }
   ],
   "source": [
    "dataset.SCHOOLSTATUS.value_counts()"
   ]
  },
  {
   "cell_type": "code",
   "execution_count": 4,
   "metadata": {
    "collapsed": true
   },
   "outputs": [],
   "source": [
    "SCHHOL=list(set(dataset.SCHOOL))"
   ]
  },
  {
   "cell_type": "code",
   "execution_count": 42,
   "metadata": {
    "collapsed": true
   },
   "outputs": [],
   "source": [
    "SCHHOL.sort()"
   ]
  },
  {
   "cell_type": "markdown",
   "metadata": {},
   "source": [
    "let use  regular expressions to odrdonise des données "
   ]
  },
  {
   "cell_type": "code",
   "execution_count": 49,
   "metadata": {
    "collapsed": true
   },
   "outputs": [],
   "source": [
    "import re"
   ]
  },
  {
   "cell_type": "code",
   "execution_count": 12,
   "metadata": {
    "collapsed": true
   },
   "outputs": [],
   "source": [
    "import scipy.linalg as lin\n",
    "import Levenshtein as leven\n",
    "from sklearn.cluster import KMeans\n",
    "import itertools"
   ]
  },
  {
   "cell_type": "code",
   "execution_count": 6,
   "metadata": {
    "collapsed": true
   },
   "outputs": [],
   "source": [
    "schoolName=np.array(SCHHOL)"
   ]
  },
  {
   "cell_type": "code",
   "execution_count": 8,
   "metadata": {},
   "outputs": [
    {
     "data": {
      "text/plain": [
       "array(['institut ifendula', 'zanner', 'augustino', 'institut moria',\n",
       "       'c.s. ndosho'], \n",
       "      dtype='|S40')"
      ]
     },
     "execution_count": 8,
     "metadata": {},
     "output_type": "execute_result"
    }
   ],
   "source": [
    "schoolName[:5]"
   ]
  },
  {
   "cell_type": "code",
   "execution_count": 7,
   "metadata": {
    "collapsed": true
   },
   "outputs": [],
   "source": [
    "(dim,)=schoolName.shape"
   ]
  },
  {
   "cell_type": "code",
   "execution_count": 7,
   "metadata": {
    "collapsed": true
   },
   "outputs": [],
   "source": [
    "f= lambda (x,y): leven.distance(x,y) #the mapping function callculating the levenstein distance between 2 owrd"
   ]
  },
  {
   "cell_type": "code",
   "execution_count": 18,
   "metadata": {
    "collapsed": true
   },
   "outputs": [],
   "source": [
    "res=np.fromiter(itertools.imap(f,itertools.product(schoolName,schoolName)),dtype=np.uint8) "
   ]
  },
  {
   "cell_type": "markdown",
   "metadata": {},
   "source": [
    "compute the cartesian product of each word in our array vs each worl in our array"
   ]
  },
  {
   "cell_type": "code",
   "execution_count": 13,
   "metadata": {
    "collapsed": true
   },
   "outputs": [],
   "source": [
    "cartWord=itertools.product(schoolName,schoolName)"
   ]
  },
  {
   "cell_type": "code",
   "execution_count": 14,
   "metadata": {},
   "outputs": [
    {
     "data": {
      "text/plain": [
       "<itertools.product at 0x11416d5f0>"
      ]
     },
     "execution_count": 14,
     "metadata": {},
     "output_type": "execute_result"
    }
   ],
   "source": [
    "cartWord"
   ]
  },
  {
   "cell_type": "markdown",
   "metadata": {},
   "source": [
    "then we can map the cartesiant product using the leveinstein distance function"
   ]
  },
  {
   "cell_type": "code",
   "execution_count": 14,
   "metadata": {
    "collapsed": true
   },
   "outputs": [],
   "source": [
    "res=np.fromiter(itertools.imap(f,cartWord),dtype=np.uint8)"
   ]
  },
  {
   "cell_type": "code",
   "execution_count": 16,
   "metadata": {},
   "outputs": [
    {
     "data": {
      "text/plain": [
       "40"
      ]
     },
     "execution_count": 16,
     "metadata": {},
     "output_type": "execute_result"
    }
   ],
   "source": [
    "max(res)"
   ]
  },
  {
   "cell_type": "code",
   "execution_count": 19,
   "metadata": {},
   "outputs": [
    {
     "data": {
      "text/plain": [
       "(1976836,)"
      ]
     },
     "execution_count": 19,
     "metadata": {},
     "output_type": "execute_result"
    }
   ],
   "source": [
    "res.shape"
   ]
  },
  {
   "cell_type": "code",
   "execution_count": 21,
   "metadata": {},
   "outputs": [
    {
     "data": {
      "text/plain": [
       "1976836"
      ]
     },
     "execution_count": 21,
     "metadata": {},
     "output_type": "execute_result"
    }
   ],
   "source": [
    "dim*dim"
   ]
  },
  {
   "cell_type": "markdown",
   "metadata": {},
   "source": [
    "let put it in a matrix with the shape of dim"
   ]
  },
  {
   "cell_type": "code",
   "execution_count": 8,
   "metadata": {},
   "outputs": [
    {
     "ename": "NameError",
     "evalue": "name 'res' is not defined",
     "output_type": "error",
     "traceback": [
      "\u001b[0;31m---------------------------------------------------------------------------\u001b[0m",
      "\u001b[0;31mNameError\u001b[0m                                 Traceback (most recent call last)",
      "\u001b[0;32m<ipython-input-8-5555c830a71d>\u001b[0m in \u001b[0;36m<module>\u001b[0;34m()\u001b[0m\n\u001b[0;32m----> 1\u001b[0;31m \u001b[0mA\u001b[0m \u001b[0;34m=\u001b[0m \u001b[0mnp\u001b[0m\u001b[0;34m.\u001b[0m\u001b[0mreshape\u001b[0m\u001b[0;34m(\u001b[0m\u001b[0mres\u001b[0m\u001b[0;34m,\u001b[0m\u001b[0;34m(\u001b[0m\u001b[0mdim\u001b[0m\u001b[0;34m,\u001b[0m\u001b[0mdim\u001b[0m\u001b[0;34m)\u001b[0m\u001b[0;34m)\u001b[0m\u001b[0;34m\u001b[0m\u001b[0m\n\u001b[0m",
      "\u001b[0;31mNameError\u001b[0m: name 'res' is not defined"
     ]
    }
   ],
   "source": [
    "A = np.reshape(res,(dim,dim))"
   ]
  },
  {
   "cell_type": "code",
   "execution_count": 20,
   "metadata": {},
   "outputs": [
    {
     "data": {
      "text/plain": [
       "(1406, 1406)"
      ]
     },
     "execution_count": 20,
     "metadata": {},
     "output_type": "execute_result"
    }
   ],
   "source": [
    "A.shape"
   ]
  },
  {
   "cell_type": "markdown",
   "metadata": {},
   "source": [
    "each array in a contain the leveinstein distance of a world against the others world in the array let test if the first element is 0"
   ]
  },
  {
   "cell_type": "code",
   "execution_count": 26,
   "metadata": {},
   "outputs": [
    {
     "data": {
      "text/plain": [
       "array([0, 0, 0, ..., 0, 0, 0], dtype=uint8)"
      ]
     },
     "execution_count": 26,
     "metadata": {},
     "output_type": "execute_result"
    }
   ],
   "source": [
    "np.diag(A)"
   ]
  },
  {
   "cell_type": "code",
   "execution_count": 28,
   "metadata": {
    "collapsed": true
   },
   "outputs": [],
   "source": [
    "u,s,v = lin.svd(A, full_matrices=False) "
   ]
  },
  {
   "cell_type": "markdown",
   "metadata": {},
   "source": [
    "let get the singular value decomposition  of A"
   ]
  },
  {
   "cell_type": "code",
   "execution_count": 29,
   "metadata": {},
   "outputs": [
    {
     "data": {
      "text/plain": [
       "(1406, 1406)"
      ]
     },
     "execution_count": 29,
     "metadata": {},
     "output_type": "execute_result"
    }
   ],
   "source": [
    "u.shape"
   ]
  },
  {
   "cell_type": "code",
   "execution_count": 30,
   "metadata": {},
   "outputs": [
    {
     "data": {
      "text/plain": [
       "(1406, 1406)"
      ]
     },
     "execution_count": 30,
     "metadata": {},
     "output_type": "execute_result"
    }
   ],
   "source": [
    "v.shape"
   ]
  },
  {
   "cell_type": "code",
   "execution_count": 31,
   "metadata": {},
   "outputs": [
    {
     "data": {
      "text/plain": [
       "(1406,)"
      ]
     },
     "execution_count": 31,
     "metadata": {},
     "output_type": "execute_result"
    }
   ],
   "source": [
    "s.shape"
   ]
  },
  {
   "cell_type": "code",
   "execution_count": 38,
   "metadata": {},
   "outputs": [
    {
     "data": {
      "text/plain": [
       "(1406, 10)"
      ]
     },
     "execution_count": 38,
     "metadata": {},
     "output_type": "execute_result"
    }
   ],
   "source": []
  },
  {
   "cell_type": "code",
   "execution_count": 51,
   "metadata": {},
   "outputs": [
    {
     "data": {
      "text/plain": [
       "(1406, 1406)"
      ]
     },
     "execution_count": 51,
     "metadata": {},
     "output_type": "execute_result"
    }
   ],
   "source": [
    "A.shape"
   ]
  },
  {
   "cell_type": "code",
   "execution_count": 3,
   "metadata": {
    "collapsed": true
   },
   "outputs": [],
   "source": [
    "from sklearn.cluster import AffinityPropagation"
   ]
  },
  {
   "cell_type": "code",
   "execution_count": 54,
   "metadata": {},
   "outputs": [
    {
     "data": {
      "text/plain": [
       "46"
      ]
     },
     "execution_count": 54,
     "metadata": {},
     "output_type": "execute_result"
    }
   ],
   "source": [
    "len(unique_labels)"
   ]
  },
  {
   "cell_type": "code",
   "execution_count": 59,
   "metadata": {},
   "outputs": [
    {
     "data": {
      "text/plain": [
       "array(['itk mahamba', 'mont carmel', 'ct de beni', 'i namurhera',\n",
       "       'st michel', 'la fontaine', 'ste ursule', 'saint paul',\n",
       "       'iti cholola', 'gsccmkigali', 'la victoire', 'itfm bukavu',\n",
       "       'mont sinai', 'st joseph', 'saint marc', 'st kizito',\n",
       "       'st andr\\xc3\\xa9', 'itm kizito', 'annuarite', 'ste  ursule',\n",
       "       'itm de boga', 'imani panzi', 'st patrick', 'st etienne',\n",
       "       'gs gilgali', 'c,s, umoja', 'itfm/bukavu', 'ste famille',\n",
       "       'itm kyondo', 'saint pau', 'i rutoboko', 'stec ursule',\n",
       "       'mont sionii', 'itav ambele', 'i mont goma', 'nuru/uvira',\n",
       "       'st augustin', 'st rosere', 'des bukavu', 'cs thabiti'], \n",
       "      dtype='|S40')"
      ]
     },
     "execution_count": 59,
     "metadata": {},
     "output_type": "execute_result"
    }
   ],
   "source": [
    "schoolName[labels==22]"
   ]
  },
  {
   "cell_type": "code",
   "execution_count": 57,
   "metadata": {},
   "outputs": [
    {
     "data": {
      "text/plain": [
       "5106"
      ]
     },
     "execution_count": 57,
     "metadata": {},
     "output_type": "execute_result"
    }
   ],
   "source": []
  },
  {
   "cell_type": "code",
   "execution_count": 9,
   "metadata": {},
   "outputs": [
    {
     "data": {
      "text/plain": [
       "235"
      ]
     },
     "execution_count": 9,
     "metadata": {},
     "output_type": "execute_result"
    }
   ],
   "source": [
    "len(set(list(dataset.DIPLOMOPTION)))"
   ]
  },
  {
   "cell_type": "code",
   "execution_count": 87,
   "metadata": {},
   "outputs": [
    {
     "data": {
      "text/plain": [
       "(101,)"
      ]
     },
     "execution_count": 87,
     "metadata": {},
     "output_type": "execute_result"
    }
   ],
   "source": [
    "section.shape"
   ]
  },
  {
   "cell_type": "code",
   "execution_count": 10,
   "metadata": {
    "collapsed": true
   },
   "outputs": [],
   "source": [
    "words=np.array(list(set((dataset.DIPLOMSECTION.apply(lambda x: x.lower())))))"
   ]
  },
  {
   "cell_type": "code",
   "execution_count": 4,
   "metadata": {
    "collapsed": true
   },
   "outputs": [],
   "source": [
    "def groupLev(words):\n",
    "    (dim,) = words.shape\n",
    "\n",
    "    f = lambda (x,y): -leven.distance(x,y)\n",
    "\n",
    "    res=np.fromiter(itertools.imap(f, itertools.product(words, words)), dtype=np.uint8)\n",
    "    A = np.reshape(res,(dim,dim))\n",
    "\n",
    "    af = AffinityPropagation(affinity='precomputed').fit(A)\n",
    "    cluster_centers_indices = af.cluster_centers_indices_\n",
    "    labels = af.labels_\n",
    "    \n",
    "\n",
    "    unique_labels = set(labels)\n",
    "    groups={}\n",
    "    for i,j in zip(unique_labels,cluster_centers_indices ):\n",
    "            groups[words[j]]=words[labels==i]\n",
    "    return groups,labels"
   ]
  },
  {
   "cell_type": "code",
   "execution_count": 12,
   "metadata": {
    "collapsed": true
   },
   "outputs": [],
   "source": [
    "options=np.array(list(set((dataset.DIPLOMOPTION.apply(lambda x: x.lower())))))"
   ]
  },
  {
   "cell_type": "code",
   "execution_count": 122,
   "metadata": {},
   "outputs": [
    {
     "data": {
      "text/plain": [
       "({0: array(['v\\xc3\\xa9t\\xc3\\xa9rinaire', 'veterinaire',\n",
       "         'sant\\xc3\\xa9 communautaire'], \n",
       "        dtype='|S41'),\n",
       "  1: array(['latin philo', 'latinphilo', 'relations publiques', 'latin philio',\n",
       "         'latin-philo'], \n",
       "        dtype='|S41'),\n",
       "  2: array(['electricite', 'electricit\\xc3\\xa9', 'electreicite', 'electri',\n",
       "         'electronique', 'electric'], \n",
       "        dtype='|S41'),\n",
       "  3: array(['informatique', 'com informatique', 'comm informatique',\n",
       "         'com  informatique', 'com inform', 'com   informatique'], \n",
       "        dtype='|S41'),\n",
       "  4: array(['mes gene', 'peda gen', 'mec gene', 'mec gnl', 'com et adm',\n",
       "         'elec gnl', 'mecanique gen', 'batiment', 'mecan gene', 'mec gener',\n",
       "         'mec gen', 'mecanique', 'pedagerale', 'inconnu'], \n",
       "        dtype='|S41'),\n",
       "  5: array(['p\\xc3\\xa9dagogie g\\xc3\\xa9n\\xc3\\xa9rale',\n",
       "         'p\\xc3\\xa9gagogie g\\xc3\\xa9n\\xc3\\xa9ral',\n",
       "         'p\\xc3\\xa9dagogie normale',\n",
       "         'p\\xc3\\xa9gagogie g\\xc3\\xa9n\\xc3\\xa9rale',\n",
       "         'pedagogie g\\xc3\\xa9n\\xc3\\xa9rale',\n",
       "         'p\\xc3\\xa9dagogi g\\xc3\\xa9n\\xc3\\xa9rale',\n",
       "         'p\\xc3\\xa9dagogie appliqu\\xc3\\xa9e',\n",
       "         'padagogie g\\xc3\\xa9n\\xc3\\xa9rale',\n",
       "         'p\\xc3\\xa9gogigie g\\xc3\\xa9n\\xc3\\xa9rale'], \n",
       "        dtype='|S41'),\n",
       "  6: array(['math-physique', 'math physique'], \n",
       "        dtype='|S41'),\n",
       "  7: array(['math\\xc3\\xa9matique physique', 'math\\xc3\\xa9matique physiqe',\n",
       "         'math\\xc3\\xa9matique-physique', 'mathematique physique',\n",
       "         'mathematique- physique'], \n",
       "        dtype='|S41'),\n",
       "  8: array(['elect', 'lp', 'cb', 'p', 'peda', 'bc', 'c', 'soc', 'ppg', 'ca',\n",
       "         'pg', 'ph', 'pn', 'pm', 'b', 'fdf', 'mp', 'nutr', 'diet', 'a',\n",
       "         'elec'], \n",
       "        dtype='|S41'),\n",
       "  9: array([\"h\\xc3\\xb4tesse d'acceuil\", 'h\\xc3\\xb4tesse d\\xe2\\x80\\x99accueil',\n",
       "         \"hotesse d'acceuil\", \"hotesse d'acc\", \"hotesse d'aceuil\"], \n",
       "        dtype='|S41'),\n",
       "  10: array(['m\\xc3\\xa9canique g\\xc3\\xa9\\xc3\\xa9nrale',\n",
       "         'm\\xc3\\xa9canique g\\xc3\\xa9n\\xc3\\xa9rale',\n",
       "         'mecanique g\\xc3\\xa9n\\xc3\\xa9rale',\n",
       "         'm\\xc3\\xa9camique g\\xc3\\xa9n\\xc3\\xa9rale', 'mecanique automobile',\n",
       "         'mecanique generale'], \n",
       "        dtype='|S41'),\n",
       "  11: array(['macanique machines ou', 'm\\xc3\\xa9canique machines outlis',\n",
       "         'mecanique machines outils', 'mec machines outils',\n",
       "         'm\\xc3\\xa9canique machines outils', 'meca machines outils'], \n",
       "        dtype='|S41'),\n",
       "  12: array(['latin philososophie', 'latin philosophie', 'latin philisophie',\n",
       "         'latin-philosophie'], \n",
       "        dtype='|S41'),\n",
       "  13: array(['bioligie-chimie', 'biologie chimie', 'biologie-chimie',\n",
       "         'bioligie chimie', 'biologie chilie'], \n",
       "        dtype='|S41'),\n",
       "  14: array(['commerciale et informatique', 'commerciale informatique',\n",
       "         'commerciale infomratique', 'commerciale iormatiquenf',\n",
       "         'secretariat informatique', 'commerciale information'], \n",
       "        dtype='|S41'),\n",
       "  15: array(['commerciele administrative', 'commerciale admnistrative',\n",
       "         'commerciale et administra', 'commercialen et administraive',\n",
       "         'commerciale et administrative', 'commerciale et administration',\n",
       "         'commerciale et administrativie', 'commerciale et aministrative',\n",
       "         'commerciale et dministrative', 'commerciale administrative',\n",
       "         'commerciale et administrativeinformatique'], \n",
       "        dtype='|S41'),\n",
       "  16: array(['electronique g\\xc3\\xa9n\\xc3\\xa9rale',\n",
       "         'electricit\\xc3\\xa9 g\\xc3\\xa9n\\xc3\\xa9rale', 'electronique generale'], \n",
       "        dtype='|S41'),\n",
       "  17: array(['elect generale', 'ele generale', 'elec generale', 'mec generale',\n",
       "         'p\\xc3\\x8bda generale', 'agriculture generale', 'peda generale'], \n",
       "        dtype='|S41'),\n",
       "  18: array(['nutrit', 'nitrution', 'nutrition et diet', 'nutrition',\n",
       "         'construction', 'nutri', 'industrielle'], \n",
       "        dtype='|S41'),\n",
       "  19: array(['secretariat', 'secr\\xc3\\xa9tariat', 'secretariat publ'], \n",
       "        dtype='|S41'),\n",
       "  20: array(['imprimerie', 'economie', 'bio-chimie', 'biochimie', 'bio chimie',\n",
       "         'agronomie'], \n",
       "        dtype='|S41'),\n",
       "  21: array(['comm et adm', 'commerciale et admi', 'commmerciale et adm',\n",
       "         'commerciale et adm', 'commerciale adm', 'commerciale et admin',\n",
       "         'commerc et adm'], \n",
       "        dtype='|S41'),\n",
       "  22: array(['m\\xc3\\xa9canique', 'soaciale', 'socaile', 'agriculture', 'siciale',\n",
       "         'social', 'hospitali\\xc3\\xa8re', 'agricole', 'sociale',\n",
       "         'commerciale'], \n",
       "        dtype='|S41'),\n",
       "  23: array(['pdagogie generale', 'pedagogie generale', 'pedagogie maternelle'], \n",
       "        dtype='|S41'),\n",
       "  24: array(['machines out', 'machine outils', 'coupe couture',\n",
       "         'machines outils', 'm\\xc3\\xa9canique outil', 'chimie biologie',\n",
       "         'machine outil'], \n",
       "        dtype='|S41'),\n",
       "  25: array(['electricite indust', 'el\\xc3\\xa9ctricit\\xc3\\xa9 industrielle',\n",
       "         'electricite industr', 'electricit\\xc3\\xa9 industrielle',\n",
       "         'm\\xc3\\xa9canique industrielle', 'elctricite industrielle',\n",
       "         'electronique industrielle', 'electricite industrielle'], \n",
       "        dtype='|S41'),\n",
       "  26: array(['elec ind', 'electr indus', 'elec industr', 'ele indudtrielle',\n",
       "         'elec indust'], \n",
       "        dtype='|S41')},\n",
       " array([ 4, 18,  4, 22, 15, 22,  0,  9,  8, 23, 22, 11, 15,  1, 24,  2, 12,\n",
       "         8,  8, 10,  1,  3,  3,  9,  3,  0,  4,  5,  6,  4, 24,  7, 20, 25,\n",
       "        10,  8,  3, 15,  5,  1, 17,  1, 14,  4,  8, 20, 11, 22, 13,  9, 21,\n",
       "        10,  5,  5, 26, 21, 26,  2, 10, 21, 24, 11,  9, 17, 12, 24,  5, 15,\n",
       "         0,  8, 18, 13, 14, 15,  4, 22,  8, 11,  2, 25, 24, 14, 15, 22,  5,\n",
       "        22,  5,  4,  7, 10,  8,  8, 14, 12, 16, 25,  8, 13, 26,  3, 25,  1,\n",
       "        17, 20, 11, 17,  7, 17,  4,  8, 15,  8,  6,  8, 18,  8, 22, 18, 19,\n",
       "        10, 20, 25, 13, 25,  4, 18, 13, 18,  3, 20, 21,  8,  8, 21, 20, 17,\n",
       "        24, 22,  4,  8, 23,  4, 15, 15, 19,  7, 21, 15, 11, 16,  5, 26, 12,\n",
       "        14,  8, 18, 14, 19, 24, 22,  2, 25,  4,  2,  2, 21,  5,  8, 15,  7,\n",
       "         4, 25, 23, 26,  8,  8,  4,  9, 17, 16]))"
      ]
     },
     "execution_count": 122,
     "metadata": {},
     "output_type": "execute_result"
    }
   ],
   "source": [
    "groupLev(options)"
   ]
  },
  {
   "cell_type": "code",
   "execution_count": 19,
   "metadata": {
    "collapsed": true,
    "scrolled": false
   },
   "outputs": [],
   "source": [
    "(groupsSchool,labels)=groupLev(schools)"
   ]
  },
  {
   "cell_type": "markdown",
   "metadata": {},
   "source": [
    "let write a function to remove words like college, institut , groupe scolaire , lycee ecole in school names "
   ]
  },
  {
   "cell_type": "code",
   "execution_count": 7,
   "metadata": {
    "collapsed": true
   },
   "outputs": [],
   "source": [
    "def removeNames(name, words=['college','i','collège','lycée','lycee','ecole','école','intitut','institut','intitut','inst.','inst','institutu','cs','complexe scolaire','groupe scolaire', ]):\n",
    "    \"\"\"this function will remove words \"\"\"\n",
    "    if isinstance(name,str):\n",
    "        return ' '.join(filter(lambda x: x.lower() not in words,  name.split()))\n",
    "    else:\n",
    "        pass\n",
    "        "
   ]
  },
  {
   "cell_type": "code",
   "execution_count": 16,
   "metadata": {
    "collapsed": true
   },
   "outputs": [],
   "source": [
    "schools=np.array(list(set((dataset.SCHOOL.apply(removeNames)))))"
   ]
  },
  {
   "cell_type": "code",
   "execution_count": 28,
   "metadata": {},
   "outputs": [
    {
     "name": "stdout",
     "output_type": "stream",
     "text": [
      "Writing 'groupsSchool' (dict) to file 'schoolNames.txt'.\n"
     ]
    }
   ],
   "source": [
    "%store groupsSchool >> schoolNames.txt"
   ]
  },
  {
   "cell_type": "code",
   "execution_count": 460,
   "metadata": {
    "collapsed": true
   },
   "outputs": [],
   "source": [
    "schools=np.array(list(set((dataset.SCHOOL.apply(removeNames)))))\n",
    "(groupsSchool,labels)=groupLev(schools)"
   ]
  },
  {
   "cell_type": "code",
   "execution_count": 29,
   "metadata": {},
   "outputs": [
    {
     "ename": "NameError",
     "evalue": "name 'schoolMOst' is not defined",
     "output_type": "error",
     "traceback": [
      "\u001b[0;31m---------------------------------------------------------------------------\u001b[0m",
      "\u001b[0;31mNameError\u001b[0m                                 Traceback (most recent call last)",
      "\u001b[0;32m<ipython-input-29-58f50898186a>\u001b[0m in \u001b[0;36m<module>\u001b[0;34m()\u001b[0m\n\u001b[0;32m----> 1\u001b[0;31m \u001b[0mschoolMOst\u001b[0m\u001b[0;34m=\u001b[0m\u001b[0mschoolMOst\u001b[0m\u001b[0;34m.\u001b[0m\u001b[0mapply\u001b[0m\u001b[0;34m(\u001b[0m\u001b[0mremoveNames\u001b[0m \u001b[0;34m)\u001b[0m \u001b[0;31m#remove names\u001b[0m\u001b[0;34m\u001b[0m\u001b[0m\n\u001b[0m",
      "\u001b[0;31mNameError\u001b[0m: name 'schoolMOst' is not defined"
     ]
    }
   ],
   "source": [
    "schoolMOst=schoolMOst.apply(removeNames ) #remove names"
   ]
  },
  {
   "cell_type": "code",
   "execution_count": 269,
   "metadata": {
    "collapsed": true
   },
   "outputs": [],
   "source": [
    "meta=groupsSchool.get('metanoia')"
   ]
  },
  {
   "cell_type": "code",
   "execution_count": 21,
   "metadata": {
    "collapsed": true
   },
   "outputs": [],
   "source": [
    "mwanga=groupsSchool.get('mwanga')"
   ]
  },
  {
   "cell_type": "code",
   "execution_count": 271,
   "metadata": {
    "collapsed": true
   },
   "outputs": [],
   "source": [
    "wima=groupsSchool.get('wima')"
   ]
  },
  {
   "cell_type": "code",
   "execution_count": 272,
   "metadata": {
    "collapsed": true
   },
   "outputs": [],
   "source": [
    "deBukavu=groupsSchool.get('de bukavu')"
   ]
  },
  {
   "cell_type": "code",
   "execution_count": 273,
   "metadata": {},
   "outputs": [
    {
     "data": {
      "text/plain": [
       "array(['matanoia', 'metanoia', 'bethanie', 'metonoina', '%etanoia',\n",
       "       'bethsaida', 'i metanoia'], \n",
       "      dtype='|S33')"
      ]
     },
     "execution_count": 273,
     "metadata": {},
     "output_type": "execute_result"
    }
   ],
   "source": [
    "meta"
   ]
  },
  {
   "cell_type": "code",
   "execution_count": 190,
   "metadata": {
    "collapsed": true
   },
   "outputs": [],
   "source": [
    "amani=groupsSchool.get('amani')"
   ]
  },
  {
   "cell_type": "code",
   "execution_count": 261,
   "metadata": {},
   "outputs": [
    {
     "data": {
      "text/plain": [
       "array(['mazinge', 'mwanzo', 'bwanga', 'dinanga', 'ins mwanga', 'mwandu',\n",
       "       'mwanda', 'manga', 'mwendu', 'i mwanga', 'bwindi', 'bwinzi',\n",
       "       'mwanga', 'mwangi', 'mpinga', 'mwenga', 'mwana', 'mwajengo',\n",
       "       'mwangaza', 'njanja', 'i lwanga', 'mwinda', 'alingbwa', 'lwanga',\n",
       "       'l mwandu', 'ceago'], \n",
       "      dtype='|S33')"
      ]
     },
     "execution_count": 261,
     "metadata": {},
     "output_type": "execute_result"
    }
   ],
   "source": [
    "mwanga"
   ]
  },
  {
   "cell_type": "markdown",
   "metadata": {},
   "source": [
    "we will manually edit the scholl name and remove and add correct names to the dic"
   ]
  },
  {
   "cell_type": "code",
   "execution_count": 197,
   "metadata": {},
   "outputs": [
    {
     "data": {
      "text/plain": [
       "array(['mwanzo', 'musanga', 'bwanga', 'dinanga', 'ins mwanga', 'mwandu',\n",
       "       'mwanda', 'manga', 'mwendu', 'i mwanga', 'mwanga', 'mwangi',\n",
       "       'mpinga', 'mwenga', 'mwana', 'mwangaza', 'mugunga', 'njanja',\n",
       "       'i lwanga', 'mwinda', 'lwanga', 'l mwandu'], \n",
       "      dtype='|S33')"
      ]
     },
     "execution_count": 197,
     "metadata": {},
     "output_type": "execute_result"
    }
   ],
   "source": [
    "mwanga"
   ]
  },
  {
   "cell_type": "code",
   "execution_count": 439,
   "metadata": {},
   "outputs": [
    {
     "data": {
      "text/plain": [
       "array(['mazinge', 'mwanzo', 'bwanga', 'dinanga', 'ins mwanga', 'mwandu',\n",
       "       'mwanda', 'manga', 'mwendu', 'i mwanga', 'bwindi', 'bwinzi',\n",
       "       'mwanga', 'mwangi', 'mpinga', 'mwenga', 'mwana', 'mwajengo',\n",
       "       'mwangaza', 'njanja', 'i lwanga', 'mwinda', 'alingbwa', 'lwanga',\n",
       "       'l mwandu', 'ceago'], \n",
       "      dtype='|S33')"
      ]
     },
     "execution_count": 439,
     "metadata": {},
     "output_type": "execute_result"
    }
   ],
   "source": [
    "groupsSchool['mwanga']"
   ]
  },
  {
   "cell_type": "code",
   "execution_count": 22,
   "metadata": {
    "collapsed": true
   },
   "outputs": [],
   "source": [
    "groupsSchool['mwanga']=[]\n",
    "for x in mwanga:\n",
    "    if x in ['mwanga','i mwanga','ins mwanga','manga']:\n",
    "        groupsSchool['mwanga'].append(x)\n",
    "    else:\n",
    "        groupsSchool[x]=x"
   ]
  },
  {
   "cell_type": "code",
   "execution_count": 205,
   "metadata": {
    "scrolled": false
   },
   "outputs": [
    {
     "data": {
      "text/plain": [
       "array(['de basoko', 'des bukavu', 'de kalamu', 'de bukavu', 'it bugabo'], \n",
       "      dtype='|S33')"
      ]
     },
     "execution_count": 205,
     "metadata": {},
     "output_type": "execute_result"
    }
   ],
   "source": [
    "deBukavu"
   ]
  },
  {
   "cell_type": "code",
   "execution_count": 5,
   "metadata": {
    "collapsed": true
   },
   "outputs": [],
   "source": [
    "def removeClean(key, similar):\n",
    "    \"\"\"this function will remove similar to grouppe name\"\"\"\n",
    "    values=groupsSchool[key] #first with get the values from dict\n",
    "    del groupsSchool[key] #we delete them\n",
    "    correctV=[] #we create an empty list for new values \n",
    "    for x in values:\n",
    "        if x in similar:\n",
    "            correctV.append(x)\n",
    "        elif x in ['itfm','iftm', 'itfm maendeleo','funu maendeleo']:\n",
    "            print x\n",
    "            groupsSchool['itfm/bukavu']=np.append(groupsSchool['itfm/bukavu'], np.array([x]))\n",
    "\n",
    "        elif x=='i de bkv':\n",
    "            groupsSchool['de bukavu'].append(x)\n",
    "        elif x=='bukavu':\n",
    "            print x\n",
    "            groupsSchool['de bukavu'].append(x)\n",
    "        elif x=='meta':\n",
    "            print x\n",
    "            groupsSchool['metanoia'].append('meta')\n",
    "        elif x=='i himbi':\n",
    "            groupsSchool['himbi']=[]\n",
    "            groupsSchool['himbi']=['himbi',x]\n",
    "        elif x=='i zanner':\n",
    "            groupsSchool['zanner'].append(x)\n",
    "        elif x=='instigo':\n",
    "            groupsSchool['de goma']=[]\n",
    "            groupsSchool['de goma']=['de goma',x]\n",
    "        elif x=='katwa':\n",
    "            groupsSchool['i katwa']=[]\n",
    "            groupsSchool['i katwa']=['i katwa',x]\n",
    "        elif x=='kabuis':\n",
    "            groupsSchool['mama yetu'].append(x)\n",
    "        elif x== 'isidore':\n",
    "            print x\n",
    "            groupsSchool['bakadja'].append(x)\n",
    "        elif x=='faradja':\n",
    "            groupsSchool['faraja'].append(x)\n",
    "        else:\n",
    "            groupsSchool[x]=[]\n",
    "            groupsSchool[x].append(x)\n",
    "    groupsSchool[key]=correctV"
   ]
  },
  {
   "cell_type": "code",
   "execution_count": 234,
   "metadata": {},
   "outputs": [
    {
     "data": {
      "text/plain": [
       "array(['himbi', 'kimua', 'uzima', 'cikoma', 'ngoma', 'vihya', 'weza2',\n",
       "       'neema', 'hekima', 'ciesk', 'elimu', 'bwinzi', 'azma', 'lwiro',\n",
       "       'olimba', 'wai wai', 'weza', 'oicha', 'somea', 'goma', 'milima',\n",
       "       'wima', 'jiwe', 'wema'], \n",
       "      dtype='|S33')"
      ]
     },
     "execution_count": 234,
     "metadata": {},
     "output_type": "execute_result"
    }
   ],
   "source": [
    "wima"
   ]
  },
  {
   "cell_type": "code",
   "execution_count": 26,
   "metadata": {},
   "outputs": [
    {
     "data": {
      "text/plain": [
       "array(['epaf', 'kimua', 'uzima', 'vihya', 'weza2', 'hekima', 'kaya',\n",
       "       'azma', 'rwabika', 'lwiro', 'wai wai', 'uvira', 'weza', 'oicha',\n",
       "       'wima', 'jiwe', 'wema'], \n",
       "      dtype='|S33')"
      ]
     },
     "execution_count": 26,
     "metadata": {},
     "output_type": "execute_result"
    }
   ],
   "source": [
    "groupsSchool['wima']"
   ]
  },
  {
   "cell_type": "code",
   "execution_count": 24,
   "metadata": {},
   "outputs": [
    {
     "data": {
      "text/plain": [
       "array(['matanoia', 'metanoia', 'bethanie', 'metonoina', '%etanoia',\n",
       "       'bethsaida'], \n",
       "      dtype='|S33')"
      ]
     },
     "execution_count": 24,
     "metadata": {},
     "output_type": "execute_result"
    }
   ],
   "source": [
    "groupsSchool['metanoia']"
   ]
  },
  {
   "cell_type": "code",
   "execution_count": 25,
   "metadata": {
    "collapsed": true
   },
   "outputs": [],
   "source": [
    "removeClean('metanoia',['matanoia', 'metanoia', 'metonoina', '%etanoia', 'i metanoia'])"
   ]
  },
  {
   "cell_type": "code",
   "execution_count": 27,
   "metadata": {
    "collapsed": true
   },
   "outputs": [],
   "source": [
    "removeClean('wima',['wima'])"
   ]
  },
  {
   "cell_type": "code",
   "execution_count": 28,
   "metadata": {},
   "outputs": [
    {
     "data": {
      "text/plain": [
       "array(['de basoko', 'des bukavu', 'de kalamu', 'de bukavu', 'it bugabo'], \n",
       "      dtype='|S33')"
      ]
     },
     "execution_count": 28,
     "metadata": {},
     "output_type": "execute_result"
    }
   ],
   "source": [
    "groupsSchool['de bukavu']"
   ]
  },
  {
   "cell_type": "code",
   "execution_count": 29,
   "metadata": {
    "collapsed": true
   },
   "outputs": [],
   "source": [
    "removeClean('de bukavu',['de bukavu','des bukavu'])"
   ]
  },
  {
   "cell_type": "code",
   "execution_count": 30,
   "metadata": {},
   "outputs": [
    {
     "data": {
      "text/plain": [
       "array(['enano', 'amkeni', 'tmaini', 'amina', 'mali', 'okapi', 'ufamandu',\n",
       "       'matumaini', 'uaminifu', 'utamaduni', 'bwindi', 'amen',\n",
       "       'amani cebia', 'bahati', 'odari', 'sayuni', 'amani', 'l amani',\n",
       "       'famila dei', 'namango', 'avenir', 'imani'], \n",
       "      dtype='|S33')"
      ]
     },
     "execution_count": 30,
     "metadata": {},
     "output_type": "execute_result"
    }
   ],
   "source": [
    "groupsSchool['amani']"
   ]
  },
  {
   "cell_type": "code",
   "execution_count": 31,
   "metadata": {
    "collapsed": true
   },
   "outputs": [],
   "source": [
    "removeClean('amani',['amani','l amani'])"
   ]
  },
  {
   "cell_type": "code",
   "execution_count": 32,
   "metadata": {},
   "outputs": [
    {
     "data": {
      "text/plain": [
       "array(['tshoka', 'vuhika', 'nduba', 'ovoa', 'lusaka', 'lukpfu', 'lukpafu',\n",
       "       'luka', 'du lac', 'lunya', 'bikuka', 'lukeba', 'zuza', 'mlezi',\n",
       "       'bukavu', 'losa', 'lukuga', 'muku', 'lowa', 'mfuki', 'aleluya'], \n",
       "      dtype='|S33')"
      ]
     },
     "execution_count": 32,
     "metadata": {},
     "output_type": "execute_result"
    }
   ],
   "source": [
    "groupsSchool['luka']"
   ]
  },
  {
   "cell_type": "code",
   "execution_count": 33,
   "metadata": {},
   "outputs": [
    {
     "name": "stdout",
     "output_type": "stream",
     "text": [
      "bukavu\n"
     ]
    }
   ],
   "source": [
    "removeClean('luka',['luka','lukpfu','lukpafu'])"
   ]
  },
  {
   "cell_type": "code",
   "execution_count": 34,
   "metadata": {
    "collapsed": true
   },
   "outputs": [],
   "source": [
    "groupsSchool['de beni']=np.array(['de beni', 'i de bkv', 'beni', 'de buleusa', 'ct beni', 'de bunia',\n",
    "       'les dibobol', 'ipp/beni', 'de kindu', 'les vert', 'de goma',\n",
    "       'avenir de beni', 'de bagira', 'diabena', 'ct de beni'])"
   ]
  },
  {
   "cell_type": "code",
   "execution_count": 35,
   "metadata": {
    "collapsed": true,
    "scrolled": true
   },
   "outputs": [],
   "source": [
    "removeClean('de beni',['de beni','de beni','beni','ct beni','ct de beni','avenir de beni'])"
   ]
  },
  {
   "cell_type": "code",
   "execution_count": 36,
   "metadata": {},
   "outputs": [
    {
     "data": {
      "text/plain": [
       "array(['espoir1', 'espoir', 'espoir2', 'espoir 2', 'espoir 1'], \n",
       "      dtype='|S33')"
      ]
     },
     "execution_count": 36,
     "metadata": {},
     "output_type": "execute_result"
    }
   ],
   "source": [
    "groupsSchool['espoir1']"
   ]
  },
  {
   "cell_type": "code",
   "execution_count": 51,
   "metadata": {},
   "outputs": [
    {
     "name": "stdout",
     "output_type": "stream",
     "text": [
      "Writing 'groupsSchool' (dict) to file 'groupSchool10.txt'.\n"
     ]
    }
   ],
   "source": [
    "%store groupsSchool >> groupSchool10.txt"
   ]
  },
  {
   "cell_type": "code",
   "execution_count": 37,
   "metadata": {
    "collapsed": true
   },
   "outputs": [],
   "source": [
    "removeClean('espoir1',['espoir1', 'espoir', 'espoir2', 'espoir 2',\n",
    "       'espoir i', 'espoir 1'])"
   ]
  },
  {
   "cell_type": "code",
   "execution_count": 39,
   "metadata": {},
   "outputs": [
    {
     "data": {
      "text/plain": [
       "array(['kasalala', 'alpha', 'c,s, umoja', 'g.s lemba', 'salamu', 'salama',\n",
       "       'kabalaka', 'mahamba', 'baraka', 'shaloom', 'sauvetage', 'faraja',\n",
       "       'shalom', 'it salama', 'galaxie'], \n",
       "      dtype='|S33')"
      ]
     },
     "execution_count": 39,
     "metadata": {},
     "output_type": "execute_result"
    }
   ],
   "source": [
    "groupsSchool['salama']"
   ]
  },
  {
   "cell_type": "code",
   "execution_count": 40,
   "metadata": {
    "collapsed": true
   },
   "outputs": [],
   "source": [
    "removeClean('salama',['salama'])"
   ]
  },
  {
   "cell_type": "code",
   "execution_count": 41,
   "metadata": {},
   "outputs": [
    {
     "data": {
      "text/plain": [
       "array(['bakita', 'bakandja', 'bakanja', 'bakadja', 'faradja', 'kayadja'], \n",
       "      dtype='|S33')"
      ]
     },
     "execution_count": 41,
     "metadata": {},
     "output_type": "execute_result"
    }
   ],
   "source": [
    "groupsSchool['bakadja']"
   ]
  },
  {
   "cell_type": "code",
   "execution_count": 45,
   "metadata": {
    "collapsed": true
   },
   "outputs": [],
   "source": [
    "removeClean('bakadja',['bakanja','bakadja','bakandja','i bakanja'])"
   ]
  },
  {
   "cell_type": "code",
   "execution_count": 47,
   "metadata": {},
   "outputs": [
    {
     "data": {
      "text/plain": [
       "array(['kibabi', 'kambali', 'akili', 'kiyabo', 'gilgali', 'jikaze',\n",
       "       'cirezi', 'kiraku', 'kiruli', 'kibali', 'kivako'], \n",
       "      dtype='|S33')"
      ]
     },
     "execution_count": 47,
     "metadata": {},
     "output_type": "execute_result"
    }
   ],
   "source": [
    "groupsSchool['kibali']"
   ]
  },
  {
   "cell_type": "code",
   "execution_count": null,
   "metadata": {
    "collapsed": true
   },
   "outputs": [],
   "source": []
  },
  {
   "cell_type": "code",
   "execution_count": 48,
   "metadata": {
    "collapsed": true
   },
   "outputs": [],
   "source": [
    "removeClean('kibali',['kibali'])"
   ]
  },
  {
   "cell_type": "code",
   "execution_count": 49,
   "metadata": {
    "scrolled": true
   },
   "outputs": [
    {
     "data": {
      "text/plain": [
       "array(['itav', 'z', 'etpm', 'ecl', 'itsu', 'itso', 'itm', 'meta', 'iftm',\n",
       "       'ebi', 'itve', 'fdf', 'bwito', 'utfm', 'itcb', '61', '54', '53',\n",
       "       'itfm', 'icl', 'itig'], \n",
       "      dtype='|S33')"
      ]
     },
     "execution_count": 49,
     "metadata": {},
     "output_type": "execute_result"
    }
   ],
   "source": [
    "groupsSchool['itm']"
   ]
  },
  {
   "cell_type": "code",
   "execution_count": null,
   "metadata": {
    "collapsed": true
   },
   "outputs": [],
   "source": [
    "groupsSchool['itm']"
   ]
  },
  {
   "cell_type": "code",
   "execution_count": 50,
   "metadata": {},
   "outputs": [
    {
     "name": "stdout",
     "output_type": "stream",
     "text": [
      "meta\n",
      "iftm\n",
      "itfm\n"
     ]
    }
   ],
   "source": [
    "removeClean('itm',['itm'])"
   ]
  },
  {
   "cell_type": "code",
   "execution_count": 51,
   "metadata": {},
   "outputs": [
    {
     "data": {
      "text/plain": [
       "array(['itfm bukavu', 'itfm/bukavu', 'itfm/bkv', 'iftm', 'itfm'], \n",
       "      dtype='|S33')"
      ]
     },
     "execution_count": 51,
     "metadata": {},
     "output_type": "execute_result"
    }
   ],
   "source": [
    "groupsSchool['itfm/bukavu']"
   ]
  },
  {
   "cell_type": "code",
   "execution_count": 54,
   "metadata": {},
   "outputs": [
    {
     "data": {
      "text/plain": [
       "['mama mulezi']"
      ]
     },
     "execution_count": 54,
     "metadata": {},
     "output_type": "execute_result"
    }
   ],
   "source": [
    "groupsSchool['mama mulezi']"
   ]
  },
  {
   "cell_type": "code",
   "execution_count": 53,
   "metadata": {
    "collapsed": true
   },
   "outputs": [],
   "source": [
    "removeClean('mama yetu',['mama yetu'])"
   ]
  },
  {
   "cell_type": "code",
   "execution_count": null,
   "metadata": {
    "collapsed": true
   },
   "outputs": [],
   "source": [
    "%store groupsSchool >> groupSchoolDraft6.txt"
   ]
  },
  {
   "cell_type": "code",
   "execution_count": 56,
   "metadata": {
    "collapsed": true
   },
   "outputs": [],
   "source": [
    "groupsSchool['maendeleo'] =['maendeleo', 'i maendeleo', 'maedeleo']"
   ]
  },
  {
   "cell_type": "code",
   "execution_count": null,
   "metadata": {
    "collapsed": true
   },
   "outputs": [],
   "source": [
    "removeClean('maendeleo',['maendeleo', 'i maendeleo', 'maedeleo'])"
   ]
  },
  {
   "cell_type": "code",
   "execution_count": 57,
   "metadata": {},
   "outputs": [
    {
     "data": {
      "text/plain": [
       "array(['isidore bakandja', 'isodre bakandja', 'isidore bakanje',\n",
       "       'isidore bakanja', 'isidor bakandja', 'isidore bankaja',\n",
       "       'iidore bakanja', 'isidora bakanja'], \n",
       "      dtype='|S33')"
      ]
     },
     "execution_count": 57,
     "metadata": {},
     "output_type": "execute_result"
    }
   ],
   "source": [
    "groupsSchool['isidore bakanja']"
   ]
  },
  {
   "cell_type": "code",
   "execution_count": null,
   "metadata": {
    "collapsed": true
   },
   "outputs": [],
   "source": [
    "removeClean('isidore bakanja',['isidore bakandja', 'isodre bakandja', 'i isidore bakanja',\n",
    "       'i isidore bakanje', 'isidore bakanja', 'isidor bakandja', 'isidore bankaja', 'iidore bakanja',\n",
    "       'isidora bakanja'])"
   ]
  },
  {
   "cell_type": "code",
   "execution_count": 60,
   "metadata": {
    "collapsed": true
   },
   "outputs": [],
   "source": [
    "groupsSchool['irambo']=np.array(['rambo', 'i himbi', 'kiyabo', 'essi nyamirambo', 'i rutoboko',\n",
    "       'irambo', 'idambo', 'ruhamiro', 'mambo', 'itav bbo', 'kilambo'], \n",
    "      dtype='|S33')"
   ]
  },
  {
   "cell_type": "code",
   "execution_count": 62,
   "metadata": {},
   "outputs": [
    {
     "data": {
      "text/plain": [
       "['himbi', 'i himbi']"
      ]
     },
     "execution_count": 62,
     "metadata": {},
     "output_type": "execute_result"
    }
   ],
   "source": [
    "groupsSchool['himbi']"
   ]
  },
  {
   "cell_type": "code",
   "execution_count": 61,
   "metadata": {
    "collapsed": true
   },
   "outputs": [],
   "source": [
    "removeClean('irambo',['rambo',\n",
    "       'irambo', 'idambo'])"
   ]
  },
  {
   "cell_type": "code",
   "execution_count": 63,
   "metadata": {},
   "outputs": [
    {
     "data": {
      "text/plain": [
       "array(['zanner', 'sake', 'bibwe', 'belge', 'mehe', 'beni', 'base',\n",
       "       'asseco', 'bashu', 'elise', 'isea', 'tusome', 'babwise'], \n",
       "      dtype='|S33')"
      ]
     },
     "execution_count": 63,
     "metadata": {},
     "output_type": "execute_result"
    }
   ],
   "source": [
    "groupsSchool['base']"
   ]
  },
  {
   "cell_type": "code",
   "execution_count": 64,
   "metadata": {
    "collapsed": true
   },
   "outputs": [],
   "source": [
    "removeClean('base',['base'])"
   ]
  },
  {
   "cell_type": "code",
   "execution_count": 65,
   "metadata": {
    "collapsed": true
   },
   "outputs": [],
   "source": [
    "groupsSchool['zanner']=['zanner','ionstitut zanner','zaner']"
   ]
  },
  {
   "cell_type": "code",
   "execution_count": 66,
   "metadata": {},
   "outputs": [
    {
     "data": {
      "text/plain": [
       "array(['edap isp walikale', 'edap isp bunia', 'idap/bunia',\n",
       "       'idap isp bunia', 'idap/isp bunia', 'adventiste/bunia',\n",
       "       'idap isp rutshuru'], \n",
       "      dtype='|S33')"
      ]
     },
     "execution_count": 66,
     "metadata": {},
     "output_type": "execute_result"
    }
   ],
   "source": [
    "groupsSchool['idap isp bunia']"
   ]
  },
  {
   "cell_type": "code",
   "execution_count": 67,
   "metadata": {
    "collapsed": true
   },
   "outputs": [],
   "source": [
    "removeClean('idap isp bunia',['edap isp bunia', 'idap/bunia',\n",
    "       'idap isp bunia', 'idap/isp bunia'])"
   ]
  },
  {
   "cell_type": "code",
   "execution_count": 70,
   "metadata": {
    "collapsed": true
   },
   "outputs": [],
   "source": [
    "removeClean('instituti ndosho',['instituti ndosho'])"
   ]
  },
  {
   "cell_type": "code",
   "execution_count": 72,
   "metadata": {},
   "outputs": [
    {
     "data": {
      "text/plain": [
       "array(['ibanga 2', 'ibanda', 'idanda', 'vision ibanda', 'atene ibanda',\n",
       "       'cibanda', 'msaada', 'kabanda', 'a. ibanda', 'dibanda', 'banza',\n",
       "       \"d'ibanda\", 'dibasana', 'ifendula', 'ibanga'], \n",
       "      dtype='|S33')"
      ]
     },
     "execution_count": 72,
     "metadata": {},
     "output_type": "execute_result"
    }
   ],
   "source": [
    "groupsSchool['ibanda']"
   ]
  },
  {
   "cell_type": "code",
   "execution_count": null,
   "metadata": {
    "collapsed": true,
    "scrolled": false
   },
   "outputs": [],
   "source": [
    "len(agroupsSchool)"
   ]
  },
  {
   "cell_type": "code",
   "execution_count": 73,
   "metadata": {
    "collapsed": true
   },
   "outputs": [],
   "source": [
    "removeClean('ibanda',['ibanda', 'idanda', 'vision ibanda', 'atene ibanda',\n",
    "       \"i d'ibanda\",'dibanda',\"d'ibanda\", 'i ibanda','a.ibanda'])"
   ]
  },
  {
   "cell_type": "code",
   "execution_count": null,
   "metadata": {
    "collapsed": true
   },
   "outputs": [],
   "source": [
    "groupsSchool['zanner']"
   ]
  },
  {
   "cell_type": "code",
   "execution_count": 74,
   "metadata": {},
   "outputs": [
    {
     "data": {
      "text/plain": [
       "array(['edap/isp', 'bdap/isp', 'edak/goma', 'edap/upn', 'edap isp',\n",
       "       'edac isp'], \n",
       "      dtype='|S33')"
      ]
     },
     "execution_count": 74,
     "metadata": {},
     "output_type": "execute_result"
    }
   ],
   "source": [
    "groupsSchool['edap/isp']"
   ]
  },
  {
   "cell_type": "code",
   "execution_count": 75,
   "metadata": {
    "collapsed": true
   },
   "outputs": [],
   "source": [
    "removeClean('edap/isp',['edap/isp','edap isp','edac isp','bdap/isp'])"
   ]
  },
  {
   "cell_type": "code",
   "execution_count": null,
   "metadata": {
    "collapsed": true,
    "scrolled": true
   },
   "outputs": [],
   "source": [
    "for x in schoolMOst:\n",
    "    if groupsSchool.get(x)==None:\n",
    "        print x"
   ]
  },
  {
   "cell_type": "code",
   "execution_count": 78,
   "metadata": {},
   "outputs": [
    {
     "data": {
      "text/plain": [
       "array(['matendo', 'matenda', 'imoteyiti', 'matengenezo', 'mwendu',\n",
       "       'molende', 'patemo', 'mwajengo', 'mapendo', 'l mapendo', 'malende',\n",
       "       'mapendo/ngese', 'majengo', 'maedeleo'], \n",
       "      dtype='|S33')"
      ]
     },
     "execution_count": 78,
     "metadata": {},
     "output_type": "execute_result"
    }
   ],
   "source": [
    "groupsSchool['matendo']"
   ]
  },
  {
   "cell_type": "code",
   "execution_count": 79,
   "metadata": {
    "collapsed": true
   },
   "outputs": [],
   "source": [
    "removeClean('matendo', ['matendo'])"
   ]
  },
  {
   "cell_type": "code",
   "execution_count": 80,
   "metadata": {},
   "outputs": [
    {
     "data": {
      "text/plain": [
       "array(['mont sion ii', 'mont des oliviers', 'mont sionii',\n",
       "       'mont tshikenge', 'mont kitenge', 'mont sinai'], \n",
       "      dtype='|S33')"
      ]
     },
     "execution_count": 80,
     "metadata": {},
     "output_type": "execute_result"
    }
   ],
   "source": [
    "groupsSchool['mont sionii']"
   ]
  },
  {
   "cell_type": "code",
   "execution_count": 81,
   "metadata": {
    "collapsed": true
   },
   "outputs": [],
   "source": [
    "removeClean('mont sionii',['mont sion ii','mont sionii'])"
   ]
  },
  {
   "cell_type": "code",
   "execution_count": 82,
   "metadata": {},
   "outputs": [
    {
     "data": {
      "text/plain": [
       "['de goma']"
      ]
     },
     "execution_count": 82,
     "metadata": {},
     "output_type": "execute_result"
    }
   ],
   "source": [
    "groupsSchool['de goma']"
   ]
  },
  {
   "cell_type": "code",
   "execution_count": 83,
   "metadata": {},
   "outputs": [
    {
     "name": "stdout",
     "output_type": "stream",
     "text": [
      "isidore\n"
     ]
    }
   ],
   "source": [
    "removeClean('isingo',['isingo','monvu/isingo'])"
   ]
  },
  {
   "cell_type": "code",
   "execution_count": 84,
   "metadata": {},
   "outputs": [
    {
     "data": {
      "text/plain": [
       "array(['loyola', 'bonsomi', 'bobokoli', 'bokolo', 'boyulu', 'visolo',\n",
       "       'les dibobol', 'tsololo', 'totoro', 'bokoro', 'mbovote'], \n",
       "      dtype='|S33')"
      ]
     },
     "execution_count": 84,
     "metadata": {},
     "output_type": "execute_result"
    }
   ],
   "source": [
    "groupsSchool['bokolo']"
   ]
  },
  {
   "cell_type": "code",
   "execution_count": 85,
   "metadata": {
    "collapsed": true
   },
   "outputs": [],
   "source": [
    "removeClean('bokolo',['bokolo'])"
   ]
  },
  {
   "cell_type": "code",
   "execution_count": 86,
   "metadata": {},
   "outputs": [
    {
     "data": {
      "text/plain": [
       "['totoro']"
      ]
     },
     "execution_count": 86,
     "metadata": {},
     "output_type": "execute_result"
    }
   ],
   "source": [
    "groupsSchool['totoro']"
   ]
  },
  {
   "cell_type": "code",
   "execution_count": 87,
   "metadata": {},
   "outputs": [
    {
     "data": {
      "text/plain": [
       "array(['kashozi', 'karhale', 'kashofu', 'mashauri', 'kasali', 'kasheke',\n",
       "       'kashali', 'fadhili'], \n",
       "      dtype='|S33')"
      ]
     },
     "execution_count": 87,
     "metadata": {},
     "output_type": "execute_result"
    }
   ],
   "source": [
    "groupsSchool['kashali']"
   ]
  },
  {
   "cell_type": "code",
   "execution_count": 88,
   "metadata": {
    "collapsed": true
   },
   "outputs": [],
   "source": [
    "removeClean('kashali',['kashali'])"
   ]
  },
  {
   "cell_type": "code",
   "execution_count": 89,
   "metadata": {},
   "outputs": [
    {
     "data": {
      "text/plain": [
       "array(['john mabwindi', 'nyantende', 'nyabiondo', 'nyabushongo',\n",
       "       'nyamianda', 'nyabibwe'], \n",
       "      dtype='|S33')"
      ]
     },
     "execution_count": 89,
     "metadata": {},
     "output_type": "execute_result"
    }
   ],
   "source": [
    "groupsSchool['nyabiondo']"
   ]
  },
  {
   "cell_type": "code",
   "execution_count": 90,
   "metadata": {
    "collapsed": true
   },
   "outputs": [],
   "source": [
    "removeClean('nyabiondo',['nyabiondo'])"
   ]
  },
  {
   "cell_type": "code",
   "execution_count": 91,
   "metadata": {},
   "outputs": [
    {
     "data": {
      "text/plain": [
       "array(['musanga', 'luvango', 'ludaha', 'luanga', 'mabakanga', 'lukanga',\n",
       "       'vikanzu', 'lukweti', 'lukunga', 'it lukanga', 'ruharaga',\n",
       "       'bunyanga', 'de lukanga'], \n",
       "      dtype='|S33')"
      ]
     },
     "execution_count": 91,
     "metadata": {},
     "output_type": "execute_result"
    }
   ],
   "source": [
    "groupsSchool['lukanga']"
   ]
  },
  {
   "cell_type": "code",
   "execution_count": 92,
   "metadata": {
    "collapsed": true
   },
   "outputs": [],
   "source": [
    "removeClean('lukanga',['it lukanga','de lukanga','lukanga','lukunga','lukuga'])"
   ]
  },
  {
   "cell_type": "code",
   "execution_count": 93,
   "metadata": {},
   "outputs": [
    {
     "data": {
      "text/plain": [
       "array(['kirimavolo', 'kilimali', 'masikilizano', 'ihimbi', 'bigilimani',\n",
       "       'lyliane', 'mbolitini', 'kitumaini', 'kalimabenge', 'biglimani',\n",
       "       'kilimani'], \n",
       "      dtype='|S33')"
      ]
     },
     "execution_count": 93,
     "metadata": {},
     "output_type": "execute_result"
    }
   ],
   "source": [
    "groupsSchool['kilimani']"
   ]
  },
  {
   "cell_type": "code",
   "execution_count": 94,
   "metadata": {
    "collapsed": true
   },
   "outputs": [],
   "source": [
    "removeClean('kilimani',['kilimani','kilimali'])"
   ]
  },
  {
   "cell_type": "code",
   "execution_count": 95,
   "metadata": {},
   "outputs": [
    {
     "data": {
      "text/plain": [
       "array(['mandayi', 'bundji', 'utaniadun', 'bandashe', 'uenezaji', 'hodari',\n",
       "       'ruwenzori', 'bunyakiri', 'mandai', 'bandari'], \n",
       "      dtype='|S33')"
      ]
     },
     "execution_count": 95,
     "metadata": {},
     "output_type": "execute_result"
    }
   ],
   "source": [
    "groupsSchool['bandari']"
   ]
  },
  {
   "cell_type": "code",
   "execution_count": 96,
   "metadata": {
    "collapsed": true
   },
   "outputs": [],
   "source": [
    "removeClean('bandari',['bandari'])"
   ]
  },
  {
   "cell_type": "code",
   "execution_count": 99,
   "metadata": {},
   "outputs": [
    {
     "data": {
      "text/plain": [
       "['i katwa', 'katwa']"
      ]
     },
     "execution_count": 99,
     "metadata": {},
     "output_type": "execute_result"
    }
   ],
   "source": [
    "groupsSchool['i katwa']"
   ]
  },
  {
   "cell_type": "code",
   "execution_count": 98,
   "metadata": {
    "collapsed": true
   },
   "outputs": [],
   "source": [
    "removeClean('katana',['katana','l katana','katana centre'])"
   ]
  },
  {
   "cell_type": "code",
   "execution_count": 100,
   "metadata": {},
   "outputs": [
    {
     "data": {
      "text/plain": [
       "array(['macha', 'ilambula', 'tuha utala', 'mabula', 'mabula/ihoka',\n",
       "       'kabuis', 'kabolwa', 'mavuno', 'mbula', 'maboso', 'mutambala',\n",
       "       'kabila', 'malula', 'bugarula', 'mululu', 'mayele', 'ndahura',\n",
       "       'mabalako', 'mboga', 'luapula'], \n",
       "      dtype='|S33')"
      ]
     },
     "execution_count": 100,
     "metadata": {},
     "output_type": "execute_result"
    }
   ],
   "source": [
    "groupsSchool['mabula']"
   ]
  },
  {
   "cell_type": "code",
   "execution_count": 101,
   "metadata": {
    "collapsed": true
   },
   "outputs": [],
   "source": [
    "removeClean('mabula',['mabula', 'mabula/ihoka','mbula'])"
   ]
  },
  {
   "cell_type": "code",
   "execution_count": 102,
   "metadata": {},
   "outputs": [
    {
     "data": {
      "text/plain": [
       "array(['tujikaze', 'muhungano', 'tujenge', 'tuwungane', 'mungano',\n",
       "       'muungano', 'c.s. tuungane', 'tuungana', 'tuungane', 'tupendane'], \n",
       "      dtype='|S33')"
      ]
     },
     "execution_count": 102,
     "metadata": {},
     "output_type": "execute_result"
    }
   ],
   "source": [
    "groupsSchool['tuungane']"
   ]
  },
  {
   "cell_type": "code",
   "execution_count": 107,
   "metadata": {},
   "outputs": [
    {
     "data": {
      "text/plain": [
       "array(['tujikaze', 'muhungano', 'tuwungane', 'mungano', 'muungano',\n",
       "       'c.s. tuungane', 'tuungana', 'tuungane', 'tupendane'], \n",
       "      dtype='|S33')"
      ]
     },
     "execution_count": 107,
     "metadata": {},
     "output_type": "execute_result"
    }
   ],
   "source": [
    "groupsSchool['tuungane']"
   ]
  },
  {
   "cell_type": "code",
   "execution_count": 105,
   "metadata": {},
   "outputs": [
    {
     "ename": "KeyError",
     "evalue": "'tupendane fech'",
     "output_type": "error",
     "traceback": [
      "\u001b[0;31m---------------------------------------------------------------------------\u001b[0m",
      "\u001b[0;31mKeyError\u001b[0m                                  Traceback (most recent call last)",
      "\u001b[0;32m<ipython-input-105-b836c7b7cc4d>\u001b[0m in \u001b[0;36m<module>\u001b[0;34m()\u001b[0m\n\u001b[0;32m----> 1\u001b[0;31m \u001b[0mgroupsSchool\u001b[0m\u001b[0;34m[\u001b[0m\u001b[0;34m'tupendane fech'\u001b[0m\u001b[0;34m]\u001b[0m\u001b[0;34m\u001b[0m\u001b[0m\n\u001b[0m",
      "\u001b[0;31mKeyError\u001b[0m: 'tupendane fech'"
     ]
    }
   ],
   "source": [
    "groupsSchool['tupendane fech']"
   ]
  },
  {
   "cell_type": "code",
   "execution_count": 108,
   "metadata": {
    "collapsed": true
   },
   "outputs": [],
   "source": [
    "removeClean('tuungane',['c.s. tuungane', 'tuungana', 'tuungane','tuwungane'])"
   ]
  },
  {
   "cell_type": "code",
   "execution_count": 109,
   "metadata": {},
   "outputs": [
    {
     "data": {
      "text/plain": [
       "array(['saint michel', 'saint pau', 'saint marc', 'st paul',\n",
       "       'saint raphael', 'saint paul'], \n",
       "      dtype='|S33')"
      ]
     },
     "execution_count": 109,
     "metadata": {},
     "output_type": "execute_result"
    }
   ],
   "source": [
    "groupsSchool['saint paul']"
   ]
  },
  {
   "cell_type": "code",
   "execution_count": 110,
   "metadata": {
    "collapsed": true
   },
   "outputs": [],
   "source": [
    "removeClean('saint paul',['saint paul','st paul','saint pau'])"
   ]
  },
  {
   "cell_type": "code",
   "execution_count": 112,
   "metadata": {},
   "outputs": [
    {
     "data": {
      "text/plain": [
       "array(['kyambogho', 'kiwele', 'kabale', 'humule', 'kisolokele', 'etoile',\n",
       "       'kamole', 'mgr moke', 'matolu', 'visoke', 'kambale', 'kaoze',\n",
       "       'kamanyola', 'wapole'], \n",
       "      dtype='|S33')"
      ]
     },
     "execution_count": 112,
     "metadata": {},
     "output_type": "execute_result"
    }
   ],
   "source": [
    "groupsSchool['kamole']"
   ]
  },
  {
   "cell_type": "code",
   "execution_count": 113,
   "metadata": {
    "collapsed": true
   },
   "outputs": [],
   "source": [
    "removeClean('kamole',['kamole'])"
   ]
  },
  {
   "cell_type": "code",
   "execution_count": 115,
   "metadata": {},
   "outputs": [
    {
     "data": {
      "text/plain": [
       "array(['ujasiri', 'masisi', 'masisi2', 'inst2 masisi', 'kasika', 'tisiesi',\n",
       "       'masapi', 'ii masisi', 'fazili', 'masiki', 'umoja fs', 'de masisi',\n",
       "       'thabiti', 'nikisi', 'moyo safi', 'makyase', 'masanikilo', 'tsiesi',\n",
       "       'la vision', 'lisalisi', 'tabiti'], \n",
       "      dtype='|S33')"
      ]
     },
     "execution_count": 115,
     "metadata": {},
     "output_type": "execute_result"
    }
   ],
   "source": [
    "groupsSchool['masisi']"
   ]
  },
  {
   "cell_type": "code",
   "execution_count": 116,
   "metadata": {
    "collapsed": true
   },
   "outputs": [],
   "source": [
    "removeClean('masisi',['masisi', 'masisi2', 'inst2 masisi','de masisi','ii masisi'])"
   ]
  },
  {
   "cell_type": "code",
   "execution_count": 117,
   "metadata": {},
   "outputs": [
    {
     "data": {
      "text/plain": [
       "array(['ujumbe', 'buramba', 'de kirumba', 'tumba', 'busimba', 'gs tumba',\n",
       "       'rijumba', 'buhimba', 'burhuza', 'bushumba', 'bulumbi', 'lumumba',\n",
       "       'bikuba', 'kirumba', 'butumba', 'tetembwa', 'burhiba'], \n",
       "      dtype='|S33')"
      ]
     },
     "execution_count": 117,
     "metadata": {},
     "output_type": "execute_result"
    }
   ],
   "source": [
    "groupsSchool['butumba']"
   ]
  },
  {
   "cell_type": "code",
   "execution_count": 118,
   "metadata": {
    "collapsed": true
   },
   "outputs": [],
   "source": [
    "removeClean('butumba',['butumba'])"
   ]
  },
  {
   "cell_type": "code",
   "execution_count": 119,
   "metadata": {},
   "outputs": [
    {
     "data": {
      "text/plain": [
       "507"
      ]
     },
     "execution_count": 119,
     "metadata": {},
     "output_type": "execute_result"
    }
   ],
   "source": [
    "len(groupsSchool)"
   ]
  },
  {
   "cell_type": "code",
   "execution_count": 120,
   "metadata": {
    "collapsed": true
   },
   "outputs": [],
   "source": [
    "import cjson"
   ]
  },
  {
   "cell_type": "code",
   "execution_count": 123,
   "metadata": {
    "collapsed": true
   },
   "outputs": [],
   "source": [
    "import simplejson as json"
   ]
  },
  {
   "cell_type": "code",
   "execution_count": 126,
   "metadata": {
    "collapsed": true
   },
   "outputs": [],
   "source": [
    "for k in groupsSchool.keys():\n",
    "    if isinstance(groupsSchool[k],np.ndarray):\n",
    "        groupsSchool[k]=groupsSchool[k].tolist()"
   ]
  },
  {
   "cell_type": "code",
   "execution_count": 128,
   "metadata": {
    "collapsed": true
   },
   "outputs": [],
   "source": [
    "groupsSchoolJson=cjson.encode(groupsSchool)"
   ]
  },
  {
   "cell_type": "code",
   "execution_count": 175,
   "metadata": {},
   "outputs": [
    {
     "name": "stdout",
     "output_type": "stream",
     "text": [
      "Writing 'groupsSchool' (dict) to file 'groupSchoolDraft12.txt'.\n"
     ]
    }
   ],
   "source": [
    "import json, codecs\n",
    "with open('SchoolDataV2.json', 'wb') as f:\n",
    "    json.dump(groupsSchoolJson, codecs.getwriter('utf-8')(f), ensure_ascii=False)\n",
    "%store groupsSchool >> groupSchoolDraft12.txt"
   ]
  },
  {
   "cell_type": "code",
   "execution_count": 138,
   "metadata": {
    "collapsed": true
   },
   "outputs": [],
   "source": [
    "with open('SchoolData.json') as json_data:\n",
    "    schoolData = json.load(json_data)"
   ]
  },
  {
   "cell_type": "code",
   "execution_count": 140,
   "metadata": {},
   "outputs": [
    {
     "name": "stdout",
     "output_type": "stream",
     "text": [
      "Writing 'groupsSchool' (dict) to file 'groupSchoolDraft11.txt'.\n"
     ]
    }
   ],
   "source": [
    "%store groupsSchool >> groupSchoolDraft11.txt"
   ]
  },
  {
   "cell_type": "code",
   "execution_count": 143,
   "metadata": {
    "collapsed": true
   },
   "outputs": [],
   "source": [
    "from pprint import pprint"
   ]
  },
  {
   "cell_type": "code",
   "execution_count": 149,
   "metadata": {
    "collapsed": true
   },
   "outputs": [],
   "source": [
    "groupsSchool['mwanga']=['ins mwanga', 'manga', 'i mwanga', 'mwanga']"
   ]
  },
  {
   "cell_type": "code",
   "execution_count": 166,
   "metadata": {},
   "outputs": [
    {
     "data": {
      "text/plain": [
       "['lumi\\xc3\\xa8re', 'c.s. lumiere', 'lumiere']"
      ]
     },
     "execution_count": 166,
     "metadata": {},
     "output_type": "execute_result"
    }
   ],
   "source": [
    "groupsSchool['lumiere']"
   ]
  },
  {
   "cell_type": "code",
   "execution_count": 165,
   "metadata": {
    "collapsed": true
   },
   "outputs": [],
   "source": [
    "removeClean('lumiere',['lumiere','c.s. lumiere','lumi\\xc3\\xa8re',])"
   ]
  },
  {
   "cell_type": "code",
   "execution_count": 170,
   "metadata": {},
   "outputs": [
    {
     "data": {
      "text/plain": [
       "['mapera',\n",
       " 'sebyera',\n",
       " 'mutsoperwa',\n",
       " 'magherya',\n",
       " 'camp fac',\n",
       " 'nengapeta',\n",
       " 'mapema',\n",
       " 'imara',\n",
       " 'bagira',\n",
       " 'l mapema',\n",
       " 'mugeri',\n",
       " 'zaner']"
      ]
     },
     "execution_count": 170,
     "metadata": {},
     "output_type": "execute_result"
    }
   ],
   "source": [
    "groupsSchool['mapera']"
   ]
  },
  {
   "cell_type": "code",
   "execution_count": 171,
   "metadata": {
    "collapsed": true
   },
   "outputs": [],
   "source": [
    "removeClean('mapera',['mapera'])"
   ]
  },
  {
   "cell_type": "code",
   "execution_count": 173,
   "metadata": {
    "scrolled": true
   },
   "outputs": [
    {
     "data": {
      "text/plain": [
       "['savana school',\n",
       " 'maranantha',\n",
       " 'maranatha',\n",
       " 'maranathan',\n",
       " 'marhanata',\n",
       " 'maman sphie']"
      ]
     },
     "execution_count": 173,
     "metadata": {},
     "output_type": "execute_result"
    }
   ],
   "source": [
    "groupsSchool['maranatha']"
   ]
  },
  {
   "cell_type": "code",
   "execution_count": 169,
   "metadata": {
    "collapsed": true
   },
   "outputs": [],
   "source": [
    "removeClean('kitunda',['kitunda'])"
   ]
  },
  {
   "cell_type": "code",
   "execution_count": 174,
   "metadata": {
    "collapsed": true
   },
   "outputs": [],
   "source": [
    "removeClean('maranatha',['maranantha',\n",
    " 'maranatha',\n",
    " 'maranathan',\n",
    " 'marhanata',])"
   ]
  },
  {
   "cell_type": "code",
   "execution_count": 188,
   "metadata": {
    "collapsed": true
   },
   "outputs": [],
   "source": [
    "SchoolMostName=list(dataset.SCHOOL.apply(removeNames).value_counts()[:100].index)"
   ]
  },
  {
   "cell_type": "code",
   "execution_count": 190,
   "metadata": {},
   "outputs": [
    {
     "name": "stdout",
     "output_type": "stream",
     "text": [
      "mont carmel\n",
      "mont goma\n",
      "saint joseph\n",
      "bungulu\n",
      "goma\n",
      "saint ursule\n",
      "nuru\n",
      "bakanja\n",
      "lwanga\n",
      "itfm\n",
      "instigo\n",
      "malkia wa mbingu\n",
      "mikeno\n",
      "buturande\n",
      "msawato\n",
      "tumaini\n",
      "mugunga\n",
      "mwandu\n",
      "bangu\n",
      "isidore bakandja\n",
      "mwanga/uvira\n",
      "umoja\n",
      "katwa\n",
      "rutoboko\n",
      "ushindi\n",
      "tuadibishe\n",
      "vungi\n",
      "bihira\n",
      "bukavu\n",
      "faradja\n",
      "kavaghendi\n",
      "maedeleo\n",
      "jerico\n"
     ]
    }
   ],
   "source": [
    "for x in SchoolMostName:\n",
    "    if not groupsSchool.get(x):\n",
    "        print x"
   ]
  },
  {
   "cell_type": "code",
   "execution_count": 34,
   "metadata": {},
   "outputs": [
    {
     "data": {
      "text/plain": [
       "561"
      ]
     },
     "execution_count": 34,
     "metadata": {},
     "output_type": "execute_result"
    }
   ],
   "source": [
    "len(groupsSchool)"
   ]
  },
  {
   "cell_type": "code",
   "execution_count": 8,
   "metadata": {
    "collapsed": true
   },
   "outputs": [],
   "source": [
    "dataset['SCHOOL_CORRECT']=dataset.SCHOOL.apply(removeNames)"
   ]
  },
  {
   "cell_type": "code",
   "execution_count": 9,
   "metadata": {
    "collapsed": true
   },
   "outputs": [],
   "source": [
    "dataset['SCHOOL_RIGHT']=dataset.SCHOOL"
   ]
  },
  {
   "cell_type": "code",
   "execution_count": 32,
   "metadata": {
    "scrolled": false
   },
   "outputs": [],
   "source": [
    "dataset.SCHOOL=dataset.SCHOOL.apply(lambda x: x.lower())"
   ]
  },
  {
   "cell_type": "code",
   "execution_count": 33,
   "metadata": {
    "scrolled": true
   },
   "outputs": [
    {
     "data": {
      "text/plain": [
       "314"
      ]
     },
     "execution_count": 33,
     "metadata": {},
     "output_type": "execute_result"
    }
   ],
   "source": [
    "len(dataset.SCHOOL.value_counts())-len(dataset.SCHOOL_CORRECT.value_counts())"
   ]
  },
  {
   "cell_type": "code",
   "execution_count": 22,
   "metadata": {},
   "outputs": [
    {
     "data": {
      "text/plain": [
       "['ins mwanga', 'manga', 'i mwanga', 'mwanga']"
      ]
     },
     "execution_count": 22,
     "metadata": {},
     "output_type": "execute_result"
    }
   ],
   "source": [
    "groupsSchool['mwanga']"
   ]
  },
  {
   "cell_type": "code",
   "execution_count": 30,
   "metadata": {},
   "outputs": [
    {
     "data": {
      "text/html": [
       "<div>\n",
       "<table border=\"1\" class=\"dataframe\">\n",
       "  <thead>\n",
       "    <tr style=\"text-align: right;\">\n",
       "      <th></th>\n",
       "      <th>IDENTIFICATION</th>\n",
       "      <th>DIPLOMSECTION</th>\n",
       "      <th>DIPLOMOPTION</th>\n",
       "      <th>SCHOOL</th>\n",
       "      <th>SCHOOLSTATUS</th>\n",
       "      <th>SCHOOL_CORRECT</th>\n",
       "      <th>SCHOOL_RIGHT</th>\n",
       "    </tr>\n",
       "  </thead>\n",
       "  <tbody>\n",
       "    <tr>\n",
       "      <th>11</th>\n",
       "      <td>1234</td>\n",
       "      <td>inconnu</td>\n",
       "      <td>inconnu</td>\n",
       "      <td>INSTITUT MWANGA</td>\n",
       "      <td>inconnu</td>\n",
       "      <td>mwanga</td>\n",
       "      <td>mwanga</td>\n",
       "    </tr>\n",
       "    <tr>\n",
       "      <th>42</th>\n",
       "      <td>3028</td>\n",
       "      <td>LITTERAIRE</td>\n",
       "      <td>LATIN PHILO</td>\n",
       "      <td>INSTITUT MWANGA</td>\n",
       "      <td>inconnu</td>\n",
       "      <td>mwanga</td>\n",
       "      <td>mwanga</td>\n",
       "    </tr>\n",
       "    <tr>\n",
       "      <th>48</th>\n",
       "      <td>3137</td>\n",
       "      <td>LITTERAIRE</td>\n",
       "      <td>LATINPHILO</td>\n",
       "      <td>INSTITUT MWANGA</td>\n",
       "      <td>inconnu</td>\n",
       "      <td>mwanga</td>\n",
       "      <td>mwanga</td>\n",
       "    </tr>\n",
       "    <tr>\n",
       "      <th>56</th>\n",
       "      <td>3285</td>\n",
       "      <td>SCIENTIFIQUE</td>\n",
       "      <td>BIO CHIMIE</td>\n",
       "      <td>INSTITUT MWANGA</td>\n",
       "      <td>inconnu</td>\n",
       "      <td>mwanga</td>\n",
       "      <td>mwanga</td>\n",
       "    </tr>\n",
       "    <tr>\n",
       "      <th>62</th>\n",
       "      <td>3322</td>\n",
       "      <td>SCIENTIFIQUE</td>\n",
       "      <td>BIO CHIMIE</td>\n",
       "      <td>INST MWANGA</td>\n",
       "      <td>inconnu</td>\n",
       "      <td>mwanga</td>\n",
       "      <td>mwanga</td>\n",
       "    </tr>\n",
       "    <tr>\n",
       "      <th>73</th>\n",
       "      <td>3591</td>\n",
       "      <td>SCIENTIFIQUE</td>\n",
       "      <td>BIO CHIMIE</td>\n",
       "      <td>MWANGA</td>\n",
       "      <td>inconnu</td>\n",
       "      <td>mwanga</td>\n",
       "      <td>mwanga</td>\n",
       "    </tr>\n",
       "    <tr>\n",
       "      <th>102</th>\n",
       "      <td>3667</td>\n",
       "      <td>TECHNIQUE</td>\n",
       "      <td>COMMERCIALE ET ADMINISTRATIVE</td>\n",
       "      <td>INST MWANGA</td>\n",
       "      <td>inconnu</td>\n",
       "      <td>mwanga</td>\n",
       "      <td>mwanga</td>\n",
       "    </tr>\n",
       "    <tr>\n",
       "      <th>105</th>\n",
       "      <td>3670</td>\n",
       "      <td>techc</td>\n",
       "      <td>CA</td>\n",
       "      <td>INST MWANGA</td>\n",
       "      <td>inconnu</td>\n",
       "      <td>mwanga</td>\n",
       "      <td>mwanga</td>\n",
       "    </tr>\n",
       "    <tr>\n",
       "      <th>171</th>\n",
       "      <td>3920</td>\n",
       "      <td>LITTERAIRE</td>\n",
       "      <td>LATIN PHILO</td>\n",
       "      <td>INSTITUT MWANGA</td>\n",
       "      <td>inconnu</td>\n",
       "      <td>mwanga</td>\n",
       "      <td>mwanga</td>\n",
       "    </tr>\n",
       "    <tr>\n",
       "      <th>173</th>\n",
       "      <td>3930</td>\n",
       "      <td>TECH</td>\n",
       "      <td>CA</td>\n",
       "      <td>I MWANGA</td>\n",
       "      <td>inconnu</td>\n",
       "      <td>mwanga</td>\n",
       "      <td>mwanga</td>\n",
       "    </tr>\n",
       "    <tr>\n",
       "      <th>210</th>\n",
       "      <td>4125</td>\n",
       "      <td>LITT</td>\n",
       "      <td>LATIN PHILIO</td>\n",
       "      <td>I MWANGA</td>\n",
       "      <td>inconnu</td>\n",
       "      <td>mwanga</td>\n",
       "      <td>mwanga</td>\n",
       "    </tr>\n",
       "    <tr>\n",
       "      <th>224</th>\n",
       "      <td>4178</td>\n",
       "      <td>SCIENTIFIQUE</td>\n",
       "      <td>BC</td>\n",
       "      <td>INS MWANGA</td>\n",
       "      <td>inconnu</td>\n",
       "      <td>ins mwanga</td>\n",
       "      <td>mwanga</td>\n",
       "    </tr>\n",
       "    <tr>\n",
       "      <th>226</th>\n",
       "      <td>4183</td>\n",
       "      <td>LITT</td>\n",
       "      <td>LATIN PHILO</td>\n",
       "      <td>INST MWANGA</td>\n",
       "      <td>inconnu</td>\n",
       "      <td>mwanga</td>\n",
       "      <td>mwanga</td>\n",
       "    </tr>\n",
       "    <tr>\n",
       "      <th>245</th>\n",
       "      <td>4252</td>\n",
       "      <td>LIT</td>\n",
       "      <td>LP</td>\n",
       "      <td>MWANGA</td>\n",
       "      <td>inconnu</td>\n",
       "      <td>mwanga</td>\n",
       "      <td>mwanga</td>\n",
       "    </tr>\n",
       "    <tr>\n",
       "      <th>294</th>\n",
       "      <td>4349</td>\n",
       "      <td>LIT</td>\n",
       "      <td>LP</td>\n",
       "      <td>MWANGA</td>\n",
       "      <td>inconnu</td>\n",
       "      <td>mwanga</td>\n",
       "      <td>mwanga</td>\n",
       "    </tr>\n",
       "    <tr>\n",
       "      <th>307</th>\n",
       "      <td>4369</td>\n",
       "      <td>LIT</td>\n",
       "      <td>LP</td>\n",
       "      <td>MWANGA</td>\n",
       "      <td>inconnu</td>\n",
       "      <td>mwanga</td>\n",
       "      <td>mwanga</td>\n",
       "    </tr>\n",
       "    <tr>\n",
       "      <th>308</th>\n",
       "      <td>4370</td>\n",
       "      <td>TEC</td>\n",
       "      <td>SOCIALE</td>\n",
       "      <td>MWANGA</td>\n",
       "      <td>inconnu</td>\n",
       "      <td>mwanga</td>\n",
       "      <td>mwanga</td>\n",
       "    </tr>\n",
       "    <tr>\n",
       "      <th>339</th>\n",
       "      <td>4424</td>\n",
       "      <td>TEC</td>\n",
       "      <td>CA</td>\n",
       "      <td>MWANGA</td>\n",
       "      <td>inconnu</td>\n",
       "      <td>mwanga</td>\n",
       "      <td>mwanga</td>\n",
       "    </tr>\n",
       "    <tr>\n",
       "      <th>348</th>\n",
       "      <td>4446</td>\n",
       "      <td>TEC CA</td>\n",
       "      <td>CA</td>\n",
       "      <td>MWANGA</td>\n",
       "      <td>inconnu</td>\n",
       "      <td>mwanga</td>\n",
       "      <td>mwanga</td>\n",
       "    </tr>\n",
       "    <tr>\n",
       "      <th>392</th>\n",
       "      <td>4535</td>\n",
       "      <td>TEC</td>\n",
       "      <td>CA</td>\n",
       "      <td>MWANGA</td>\n",
       "      <td>inconnu</td>\n",
       "      <td>mwanga</td>\n",
       "      <td>mwanga</td>\n",
       "    </tr>\n",
       "    <tr>\n",
       "      <th>396</th>\n",
       "      <td>4543</td>\n",
       "      <td>TECH</td>\n",
       "      <td>CA</td>\n",
       "      <td>INST MWANGA</td>\n",
       "      <td>inconnu</td>\n",
       "      <td>mwanga</td>\n",
       "      <td>mwanga</td>\n",
       "    </tr>\n",
       "    <tr>\n",
       "      <th>413</th>\n",
       "      <td>4570</td>\n",
       "      <td>TECH</td>\n",
       "      <td>CA</td>\n",
       "      <td>INST MWANGA</td>\n",
       "      <td>inconnu</td>\n",
       "      <td>mwanga</td>\n",
       "      <td>mwanga</td>\n",
       "    </tr>\n",
       "    <tr>\n",
       "      <th>449</th>\n",
       "      <td>4654</td>\n",
       "      <td>LITT</td>\n",
       "      <td>LP</td>\n",
       "      <td>MWANGA</td>\n",
       "      <td>inconnu</td>\n",
       "      <td>mwanga</td>\n",
       "      <td>mwanga</td>\n",
       "    </tr>\n",
       "    <tr>\n",
       "      <th>451</th>\n",
       "      <td>4657</td>\n",
       "      <td>LIT</td>\n",
       "      <td>LP</td>\n",
       "      <td>MWANGA</td>\n",
       "      <td>inconnu</td>\n",
       "      <td>mwanga</td>\n",
       "      <td>mwanga</td>\n",
       "    </tr>\n",
       "    <tr>\n",
       "      <th>528</th>\n",
       "      <td>4826</td>\n",
       "      <td>COMM</td>\n",
       "      <td>CA</td>\n",
       "      <td>MWANGA</td>\n",
       "      <td>inconnu</td>\n",
       "      <td>mwanga</td>\n",
       "      <td>mwanga</td>\n",
       "    </tr>\n",
       "    <tr>\n",
       "      <th>529</th>\n",
       "      <td>4827</td>\n",
       "      <td>TEC</td>\n",
       "      <td>CA</td>\n",
       "      <td>INST MWANGA</td>\n",
       "      <td>inconnu</td>\n",
       "      <td>mwanga</td>\n",
       "      <td>mwanga</td>\n",
       "    </tr>\n",
       "    <tr>\n",
       "      <th>542</th>\n",
       "      <td>4857</td>\n",
       "      <td>LIT</td>\n",
       "      <td>LP</td>\n",
       "      <td>MWANGA</td>\n",
       "      <td>inconnu</td>\n",
       "      <td>mwanga</td>\n",
       "      <td>mwanga</td>\n",
       "    </tr>\n",
       "    <tr>\n",
       "      <th>544</th>\n",
       "      <td>4859</td>\n",
       "      <td>LIT</td>\n",
       "      <td>LP</td>\n",
       "      <td>MWANGA</td>\n",
       "      <td>inconnu</td>\n",
       "      <td>mwanga</td>\n",
       "      <td>mwanga</td>\n",
       "    </tr>\n",
       "    <tr>\n",
       "      <th>547</th>\n",
       "      <td>4862</td>\n",
       "      <td>LIT</td>\n",
       "      <td>LP</td>\n",
       "      <td>MWANGA</td>\n",
       "      <td>inconnu</td>\n",
       "      <td>mwanga</td>\n",
       "      <td>mwanga</td>\n",
       "    </tr>\n",
       "    <tr>\n",
       "      <th>558</th>\n",
       "      <td>4881</td>\n",
       "      <td>TECH</td>\n",
       "      <td>CA</td>\n",
       "      <td>MWANGA</td>\n",
       "      <td>inconnu</td>\n",
       "      <td>mwanga</td>\n",
       "      <td>mwanga</td>\n",
       "    </tr>\n",
       "    <tr>\n",
       "      <th>...</th>\n",
       "      <td>...</td>\n",
       "      <td>...</td>\n",
       "      <td>...</td>\n",
       "      <td>...</td>\n",
       "      <td>...</td>\n",
       "      <td>...</td>\n",
       "      <td>...</td>\n",
       "    </tr>\n",
       "    <tr>\n",
       "      <th>4125</th>\n",
       "      <td>11563</td>\n",
       "      <td>COMMERCIALE</td>\n",
       "      <td>COMMERCIALE ET ADMINISTRATIVE</td>\n",
       "      <td>Institut MWANGA</td>\n",
       "      <td>catholique</td>\n",
       "      <td>mwanga</td>\n",
       "      <td>mwanga</td>\n",
       "    </tr>\n",
       "    <tr>\n",
       "      <th>4132</th>\n",
       "      <td>11571</td>\n",
       "      <td>COMMERCIALE</td>\n",
       "      <td>COMMERCIALE ET ADMINISTRATIVE</td>\n",
       "      <td>Institut MWANGA</td>\n",
       "      <td>catholique</td>\n",
       "      <td>mwanga</td>\n",
       "      <td>mwanga</td>\n",
       "    </tr>\n",
       "    <tr>\n",
       "      <th>4147</th>\n",
       "      <td>11587</td>\n",
       "      <td>SCIENTIFIQUE</td>\n",
       "      <td>Bio chimie</td>\n",
       "      <td>Institut MWANGA</td>\n",
       "      <td>catholique</td>\n",
       "      <td>mwanga</td>\n",
       "      <td>mwanga</td>\n",
       "    </tr>\n",
       "    <tr>\n",
       "      <th>4148</th>\n",
       "      <td>11588</td>\n",
       "      <td>COMMERCIALE</td>\n",
       "      <td>COMMERCIALE ET ADMINISTRATIVE</td>\n",
       "      <td>Institut MWANGA</td>\n",
       "      <td>inconnu</td>\n",
       "      <td>mwanga</td>\n",
       "      <td>mwanga</td>\n",
       "    </tr>\n",
       "    <tr>\n",
       "      <th>4188</th>\n",
       "      <td>11630</td>\n",
       "      <td>COMMERCIALE</td>\n",
       "      <td>COMMERCIALE ET ADMINISTRATIVE</td>\n",
       "      <td>Institut MWANGA</td>\n",
       "      <td>catholique</td>\n",
       "      <td>mwanga</td>\n",
       "      <td>mwanga</td>\n",
       "    </tr>\n",
       "    <tr>\n",
       "      <th>4202</th>\n",
       "      <td>11645</td>\n",
       "      <td>LITTERAIRE</td>\n",
       "      <td>Latin Philo</td>\n",
       "      <td>Institut MWANGA</td>\n",
       "      <td>catholique</td>\n",
       "      <td>mwanga</td>\n",
       "      <td>mwanga</td>\n",
       "    </tr>\n",
       "    <tr>\n",
       "      <th>4264</th>\n",
       "      <td>11713</td>\n",
       "      <td>LITERAIRE</td>\n",
       "      <td>LATIN PHILO</td>\n",
       "      <td>Institut MWANGA</td>\n",
       "      <td>catholique</td>\n",
       "      <td>mwanga</td>\n",
       "      <td>mwanga</td>\n",
       "    </tr>\n",
       "    <tr>\n",
       "      <th>4266</th>\n",
       "      <td>11715</td>\n",
       "      <td>SCIENTIFIQUE</td>\n",
       "      <td>BIO CHIMIE</td>\n",
       "      <td>Institut MWANGA</td>\n",
       "      <td>catholique</td>\n",
       "      <td>mwanga</td>\n",
       "      <td>mwanga</td>\n",
       "    </tr>\n",
       "    <tr>\n",
       "      <th>4277</th>\n",
       "      <td>11726</td>\n",
       "      <td>COMMERCIALE</td>\n",
       "      <td>COMMERCIALEN ET ADMINISTRAIVE</td>\n",
       "      <td>Institut MWANGA</td>\n",
       "      <td>catholique</td>\n",
       "      <td>mwanga</td>\n",
       "      <td>mwanga</td>\n",
       "    </tr>\n",
       "    <tr>\n",
       "      <th>4282</th>\n",
       "      <td>11732</td>\n",
       "      <td>LITERAIRE</td>\n",
       "      <td>LATIN PHILO</td>\n",
       "      <td>Institut MWANGA</td>\n",
       "      <td>catholique</td>\n",
       "      <td>mwanga</td>\n",
       "      <td>mwanga</td>\n",
       "    </tr>\n",
       "    <tr>\n",
       "      <th>4293</th>\n",
       "      <td>11743</td>\n",
       "      <td>LITERAIRE</td>\n",
       "      <td>LATIN PHILO</td>\n",
       "      <td>Institut MWANGA</td>\n",
       "      <td>catholique</td>\n",
       "      <td>mwanga</td>\n",
       "      <td>mwanga</td>\n",
       "    </tr>\n",
       "    <tr>\n",
       "      <th>4294</th>\n",
       "      <td>11744</td>\n",
       "      <td>COMMERCIALE</td>\n",
       "      <td>COMMERCIALEN ET ADMINISTRAIVE</td>\n",
       "      <td>Institut MWANGA</td>\n",
       "      <td>catholique</td>\n",
       "      <td>mwanga</td>\n",
       "      <td>mwanga</td>\n",
       "    </tr>\n",
       "    <tr>\n",
       "      <th>4296</th>\n",
       "      <td>11746</td>\n",
       "      <td>COMMERCIALE</td>\n",
       "      <td>COMMERCIALEN ET ADMINISTRAIVE</td>\n",
       "      <td>Institut MWANGA</td>\n",
       "      <td>catholique</td>\n",
       "      <td>mwanga</td>\n",
       "      <td>mwanga</td>\n",
       "    </tr>\n",
       "    <tr>\n",
       "      <th>4297</th>\n",
       "      <td>11747</td>\n",
       "      <td>SCIENTIFIQUE</td>\n",
       "      <td>BIO CHIMIE</td>\n",
       "      <td>Institut MWANGA</td>\n",
       "      <td>catholique</td>\n",
       "      <td>mwanga</td>\n",
       "      <td>mwanga</td>\n",
       "    </tr>\n",
       "    <tr>\n",
       "      <th>4302</th>\n",
       "      <td>11752</td>\n",
       "      <td>SCIENTIFIQUE</td>\n",
       "      <td>BIO CHIMIE</td>\n",
       "      <td>Institut MWANGA</td>\n",
       "      <td>catholique</td>\n",
       "      <td>mwanga</td>\n",
       "      <td>mwanga</td>\n",
       "    </tr>\n",
       "    <tr>\n",
       "      <th>4307</th>\n",
       "      <td>11757</td>\n",
       "      <td>SCIENTIFIQUE</td>\n",
       "      <td>BIO CHIMIE</td>\n",
       "      <td>Institut MWANGA</td>\n",
       "      <td>catholique</td>\n",
       "      <td>mwanga</td>\n",
       "      <td>mwanga</td>\n",
       "    </tr>\n",
       "    <tr>\n",
       "      <th>4308</th>\n",
       "      <td>11758</td>\n",
       "      <td>LITERAIRE</td>\n",
       "      <td>LATIN PHILO</td>\n",
       "      <td>Institut MWANGA</td>\n",
       "      <td>catholique</td>\n",
       "      <td>mwanga</td>\n",
       "      <td>mwanga</td>\n",
       "    </tr>\n",
       "    <tr>\n",
       "      <th>4312</th>\n",
       "      <td>11764</td>\n",
       "      <td>COMMERCIALE</td>\n",
       "      <td>COMMERCIALEN ET ADMINISTRAIVE</td>\n",
       "      <td>Institut MWANGA</td>\n",
       "      <td>catholique</td>\n",
       "      <td>mwanga</td>\n",
       "      <td>mwanga</td>\n",
       "    </tr>\n",
       "    <tr>\n",
       "      <th>4313</th>\n",
       "      <td>11765</td>\n",
       "      <td>COMMERCIALE</td>\n",
       "      <td>COMMERCIALEN ET ADMINISTRAIVE</td>\n",
       "      <td>Institut MWANGA</td>\n",
       "      <td>catholique</td>\n",
       "      <td>mwanga</td>\n",
       "      <td>mwanga</td>\n",
       "    </tr>\n",
       "    <tr>\n",
       "      <th>4315</th>\n",
       "      <td>11767</td>\n",
       "      <td>SCIENTIFIQUE</td>\n",
       "      <td>BIO CHIMIE</td>\n",
       "      <td>Institut MWANGA</td>\n",
       "      <td>catholique</td>\n",
       "      <td>mwanga</td>\n",
       "      <td>mwanga</td>\n",
       "    </tr>\n",
       "    <tr>\n",
       "      <th>4330</th>\n",
       "      <td>11782</td>\n",
       "      <td>COMMERCIALE</td>\n",
       "      <td>COMMERCIALEN ET ADMINISTRAIVE</td>\n",
       "      <td>Institut MWANGA</td>\n",
       "      <td>catholique</td>\n",
       "      <td>mwanga</td>\n",
       "      <td>mwanga</td>\n",
       "    </tr>\n",
       "    <tr>\n",
       "      <th>4440</th>\n",
       "      <td>11905</td>\n",
       "      <td>SCIENTIFIQUE</td>\n",
       "      <td>BIO CHIMIE</td>\n",
       "      <td>Institut MWANGA</td>\n",
       "      <td>catholique</td>\n",
       "      <td>mwanga</td>\n",
       "      <td>mwanga</td>\n",
       "    </tr>\n",
       "    <tr>\n",
       "      <th>4451</th>\n",
       "      <td>11968</td>\n",
       "      <td>COMMERCIALE</td>\n",
       "      <td>COMMERCIALE ADMINISTRATIVE</td>\n",
       "      <td>Institut MWANGA</td>\n",
       "      <td>catholique</td>\n",
       "      <td>mwanga</td>\n",
       "      <td>mwanga</td>\n",
       "    </tr>\n",
       "    <tr>\n",
       "      <th>4456</th>\n",
       "      <td>11974</td>\n",
       "      <td>SCIENTIFIQUE</td>\n",
       "      <td>BIO CHIMIE</td>\n",
       "      <td>Institut MWANGA</td>\n",
       "      <td>catholique</td>\n",
       "      <td>mwanga</td>\n",
       "      <td>mwanga</td>\n",
       "    </tr>\n",
       "    <tr>\n",
       "      <th>4486</th>\n",
       "      <td>12008</td>\n",
       "      <td>COMMERCIALE</td>\n",
       "      <td>COMMERCIALE ADMINISTRATIVE</td>\n",
       "      <td>Institut MWANGA</td>\n",
       "      <td>catholique</td>\n",
       "      <td>mwanga</td>\n",
       "      <td>mwanga</td>\n",
       "    </tr>\n",
       "    <tr>\n",
       "      <th>4505</th>\n",
       "      <td>12028</td>\n",
       "      <td>SCIENTIFIQUE</td>\n",
       "      <td>BIO CHIMIE</td>\n",
       "      <td>Institut MWANGA</td>\n",
       "      <td>catholique</td>\n",
       "      <td>mwanga</td>\n",
       "      <td>mwanga</td>\n",
       "    </tr>\n",
       "    <tr>\n",
       "      <th>4539</th>\n",
       "      <td>12067</td>\n",
       "      <td>COMMERCIALE</td>\n",
       "      <td>COMMERCIALE ET ADMINISTRATIVE</td>\n",
       "      <td>Institut MWANGA</td>\n",
       "      <td>catholique</td>\n",
       "      <td>mwanga</td>\n",
       "      <td>mwanga</td>\n",
       "    </tr>\n",
       "    <tr>\n",
       "      <th>4559</th>\n",
       "      <td>12087</td>\n",
       "      <td>LITTERAIRE</td>\n",
       "      <td>LATIN PHILO</td>\n",
       "      <td>Institut MWANGA</td>\n",
       "      <td>catholique</td>\n",
       "      <td>mwanga</td>\n",
       "      <td>mwanga</td>\n",
       "    </tr>\n",
       "    <tr>\n",
       "      <th>4619</th>\n",
       "      <td>12150</td>\n",
       "      <td>SCIENTIFIQUE</td>\n",
       "      <td>BIO CHIMIE</td>\n",
       "      <td>Institut MWANGA</td>\n",
       "      <td>catholique</td>\n",
       "      <td>mwanga</td>\n",
       "      <td>mwanga</td>\n",
       "    </tr>\n",
       "    <tr>\n",
       "      <th>4622</th>\n",
       "      <td>12153</td>\n",
       "      <td>COMMERCIALE</td>\n",
       "      <td>COMMERCIALE ET ADMINISTRATIVE</td>\n",
       "      <td>Institut MWANGA</td>\n",
       "      <td>catholique</td>\n",
       "      <td>mwanga</td>\n",
       "      <td>mwanga</td>\n",
       "    </tr>\n",
       "  </tbody>\n",
       "</table>\n",
       "<p>307 rows × 7 columns</p>\n",
       "</div>"
      ],
      "text/plain": [
       "      IDENTIFICATION DIPLOMSECTION                   DIPLOMOPTION  \\\n",
       "11              1234       inconnu                        inconnu   \n",
       "42              3028    LITTERAIRE                    LATIN PHILO   \n",
       "48              3137    LITTERAIRE                     LATINPHILO   \n",
       "56              3285  SCIENTIFIQUE                     BIO CHIMIE   \n",
       "62              3322  SCIENTIFIQUE                     BIO CHIMIE   \n",
       "73              3591  SCIENTIFIQUE                     BIO CHIMIE   \n",
       "102             3667     TECHNIQUE  COMMERCIALE ET ADMINISTRATIVE   \n",
       "105             3670         techc                             CA   \n",
       "171             3920    LITTERAIRE                    LATIN PHILO   \n",
       "173             3930          TECH                             CA   \n",
       "210             4125          LITT                   LATIN PHILIO   \n",
       "224             4178  SCIENTIFIQUE                             BC   \n",
       "226             4183          LITT                    LATIN PHILO   \n",
       "245             4252           LIT                             LP   \n",
       "294             4349           LIT                             LP   \n",
       "307             4369           LIT                             LP   \n",
       "308             4370           TEC                        SOCIALE   \n",
       "339             4424           TEC                             CA   \n",
       "348             4446        TEC CA                             CA   \n",
       "392             4535           TEC                             CA   \n",
       "396             4543          TECH                             CA   \n",
       "413             4570          TECH                             CA   \n",
       "449             4654          LITT                             LP   \n",
       "451             4657           LIT                             LP   \n",
       "528             4826          COMM                             CA   \n",
       "529             4827           TEC                             CA   \n",
       "542             4857           LIT                             LP   \n",
       "544             4859           LIT                             LP   \n",
       "547             4862           LIT                             LP   \n",
       "558             4881          TECH                             CA   \n",
       "...              ...           ...                            ...   \n",
       "4125           11563   COMMERCIALE  COMMERCIALE ET ADMINISTRATIVE   \n",
       "4132           11571   COMMERCIALE  COMMERCIALE ET ADMINISTRATIVE   \n",
       "4147           11587  SCIENTIFIQUE                     Bio chimie   \n",
       "4148           11588   COMMERCIALE  COMMERCIALE ET ADMINISTRATIVE   \n",
       "4188           11630   COMMERCIALE  COMMERCIALE ET ADMINISTRATIVE   \n",
       "4202           11645    LITTERAIRE                    Latin Philo   \n",
       "4264           11713     LITERAIRE                    LATIN PHILO   \n",
       "4266           11715  SCIENTIFIQUE                     BIO CHIMIE   \n",
       "4277           11726   COMMERCIALE  COMMERCIALEN ET ADMINISTRAIVE   \n",
       "4282           11732     LITERAIRE                    LATIN PHILO   \n",
       "4293           11743     LITERAIRE                    LATIN PHILO   \n",
       "4294           11744   COMMERCIALE  COMMERCIALEN ET ADMINISTRAIVE   \n",
       "4296           11746   COMMERCIALE  COMMERCIALEN ET ADMINISTRAIVE   \n",
       "4297           11747  SCIENTIFIQUE                     BIO CHIMIE   \n",
       "4302           11752  SCIENTIFIQUE                     BIO CHIMIE   \n",
       "4307           11757  SCIENTIFIQUE                     BIO CHIMIE   \n",
       "4308           11758     LITERAIRE                    LATIN PHILO   \n",
       "4312           11764   COMMERCIALE  COMMERCIALEN ET ADMINISTRAIVE   \n",
       "4313           11765   COMMERCIALE  COMMERCIALEN ET ADMINISTRAIVE   \n",
       "4315           11767  SCIENTIFIQUE                     BIO CHIMIE   \n",
       "4330           11782   COMMERCIALE  COMMERCIALEN ET ADMINISTRAIVE   \n",
       "4440           11905  SCIENTIFIQUE                     BIO CHIMIE   \n",
       "4451           11968   COMMERCIALE     COMMERCIALE ADMINISTRATIVE   \n",
       "4456           11974  SCIENTIFIQUE                     BIO CHIMIE   \n",
       "4486           12008   COMMERCIALE     COMMERCIALE ADMINISTRATIVE   \n",
       "4505           12028  SCIENTIFIQUE                     BIO CHIMIE   \n",
       "4539           12067   COMMERCIALE  COMMERCIALE ET ADMINISTRATIVE   \n",
       "4559           12087    LITTERAIRE                    LATIN PHILO   \n",
       "4619           12150  SCIENTIFIQUE                     BIO CHIMIE   \n",
       "4622           12153   COMMERCIALE  COMMERCIALE ET ADMINISTRATIVE   \n",
       "\n",
       "               SCHOOL SCHOOLSTATUS SCHOOL_CORRECT SCHOOL_RIGHT  \n",
       "11    INSTITUT MWANGA      inconnu         mwanga       mwanga  \n",
       "42    INSTITUT MWANGA      inconnu         mwanga       mwanga  \n",
       "48    INSTITUT MWANGA      inconnu         mwanga       mwanga  \n",
       "56    INSTITUT MWANGA      inconnu         mwanga       mwanga  \n",
       "62        INST MWANGA      inconnu         mwanga       mwanga  \n",
       "73             MWANGA      inconnu         mwanga       mwanga  \n",
       "102       INST MWANGA      inconnu         mwanga       mwanga  \n",
       "105       INST MWANGA      inconnu         mwanga       mwanga  \n",
       "171   INSTITUT MWANGA      inconnu         mwanga       mwanga  \n",
       "173          I MWANGA      inconnu         mwanga       mwanga  \n",
       "210          I MWANGA      inconnu         mwanga       mwanga  \n",
       "224        INS MWANGA      inconnu     ins mwanga       mwanga  \n",
       "226       INST MWANGA      inconnu         mwanga       mwanga  \n",
       "245            MWANGA      inconnu         mwanga       mwanga  \n",
       "294            MWANGA      inconnu         mwanga       mwanga  \n",
       "307            MWANGA      inconnu         mwanga       mwanga  \n",
       "308            MWANGA      inconnu         mwanga       mwanga  \n",
       "339            MWANGA      inconnu         mwanga       mwanga  \n",
       "348            MWANGA      inconnu         mwanga       mwanga  \n",
       "392            MWANGA      inconnu         mwanga       mwanga  \n",
       "396       INST MWANGA      inconnu         mwanga       mwanga  \n",
       "413       INST MWANGA      inconnu         mwanga       mwanga  \n",
       "449            MWANGA      inconnu         mwanga       mwanga  \n",
       "451            MWANGA      inconnu         mwanga       mwanga  \n",
       "528            MWANGA      inconnu         mwanga       mwanga  \n",
       "529       INST MWANGA      inconnu         mwanga       mwanga  \n",
       "542            MWANGA      inconnu         mwanga       mwanga  \n",
       "544            MWANGA      inconnu         mwanga       mwanga  \n",
       "547            MWANGA      inconnu         mwanga       mwanga  \n",
       "558            MWANGA      inconnu         mwanga       mwanga  \n",
       "...               ...          ...            ...          ...  \n",
       "4125  Institut MWANGA   catholique         mwanga       mwanga  \n",
       "4132  Institut MWANGA   catholique         mwanga       mwanga  \n",
       "4147  Institut MWANGA   catholique         mwanga       mwanga  \n",
       "4148  Institut MWANGA      inconnu         mwanga       mwanga  \n",
       "4188  Institut MWANGA   catholique         mwanga       mwanga  \n",
       "4202  Institut MWANGA   catholique         mwanga       mwanga  \n",
       "4264  Institut MWANGA   catholique         mwanga       mwanga  \n",
       "4266  Institut MWANGA   catholique         mwanga       mwanga  \n",
       "4277  Institut MWANGA   catholique         mwanga       mwanga  \n",
       "4282  Institut MWANGA   catholique         mwanga       mwanga  \n",
       "4293  Institut MWANGA   catholique         mwanga       mwanga  \n",
       "4294  Institut MWANGA   catholique         mwanga       mwanga  \n",
       "4296  Institut MWANGA   catholique         mwanga       mwanga  \n",
       "4297  Institut MWANGA   catholique         mwanga       mwanga  \n",
       "4302  Institut MWANGA   catholique         mwanga       mwanga  \n",
       "4307  Institut MWANGA   catholique         mwanga       mwanga  \n",
       "4308  Institut MWANGA   catholique         mwanga       mwanga  \n",
       "4312  Institut MWANGA   catholique         mwanga       mwanga  \n",
       "4313  Institut MWANGA   catholique         mwanga       mwanga  \n",
       "4315  Institut MWANGA   catholique         mwanga       mwanga  \n",
       "4330  Institut MWANGA   catholique         mwanga       mwanga  \n",
       "4440  Institut MWANGA   catholique         mwanga       mwanga  \n",
       "4451  Institut MWANGA   catholique         mwanga       mwanga  \n",
       "4456  Institut MWANGA   catholique         mwanga       mwanga  \n",
       "4486  Institut MWANGA   catholique         mwanga       mwanga  \n",
       "4505  Institut MWANGA   catholique         mwanga       mwanga  \n",
       "4539  Institut MWANGA   catholique         mwanga       mwanga  \n",
       "4559  Institut MWANGA   catholique         mwanga       mwanga  \n",
       "4619  Institut MWANGA   catholique         mwanga       mwanga  \n",
       "4622  Institut MWANGA   catholique         mwanga       mwanga  \n",
       "\n",
       "[307 rows x 7 columns]"
      ]
     },
     "execution_count": 30,
     "metadata": {},
     "output_type": "execute_result"
    }
   ],
   "source": [
    "dataset.loc[dataset.SCHOOL_CORRECT.isin(groupsSchool['mwanga'])]"
   ]
  },
  {
   "cell_type": "markdown",
   "metadata": {},
   "source": [
    "now we can groups all values according to simillar values"
   ]
  },
  {
   "cell_type": "code",
   "execution_count": 29,
   "metadata": {},
   "outputs": [],
   "source": [
    "for x in groupsSchool.keys():\n",
    "    dataset.SCHOOL_RIGHT.loc[dataset.SCHOOL_CORRECT.isin(groupsSchool.get(x))]=x"
   ]
  },
  {
   "cell_type": "code",
   "execution_count": 35,
   "metadata": {},
   "outputs": [
    {
     "data": {
      "text/html": [
       "<div>\n",
       "<table border=\"1\" class=\"dataframe\">\n",
       "  <thead>\n",
       "    <tr style=\"text-align: right;\">\n",
       "      <th></th>\n",
       "      <th>IDENTIFICATION</th>\n",
       "      <th>DIPLOMSECTION</th>\n",
       "      <th>DIPLOMOPTION</th>\n",
       "      <th>SCHOOL</th>\n",
       "      <th>SCHOOLSTATUS</th>\n",
       "      <th>SCHOOL_CORRECT</th>\n",
       "      <th>SCHOOL_RIGHT</th>\n",
       "    </tr>\n",
       "  </thead>\n",
       "  <tbody>\n",
       "    <tr>\n",
       "      <th>17</th>\n",
       "      <td>1497</td>\n",
       "      <td>MECANIQUE</td>\n",
       "      <td>MECANIQUE GENERALE</td>\n",
       "      <td>itig</td>\n",
       "      <td>inconnu</td>\n",
       "      <td>itig</td>\n",
       "      <td>itig</td>\n",
       "    </tr>\n",
       "    <tr>\n",
       "      <th>18</th>\n",
       "      <td>1517</td>\n",
       "      <td>TECHNIQUE INDUSTRIELLE</td>\n",
       "      <td>ELECTRICITE</td>\n",
       "      <td>itig</td>\n",
       "      <td>inconnu</td>\n",
       "      <td>itig</td>\n",
       "      <td>itig</td>\n",
       "    </tr>\n",
       "    <tr>\n",
       "      <th>38</th>\n",
       "      <td>2520</td>\n",
       "      <td>TECHNIQUE</td>\n",
       "      <td>MECANIQUE GENERALE</td>\n",
       "      <td>itg.inst. tech. indust de goma</td>\n",
       "      <td>inconnu</td>\n",
       "      <td>itg.inst. tech. indust de goma</td>\n",
       "      <td>itig</td>\n",
       "    </tr>\n",
       "    <tr>\n",
       "      <th>65</th>\n",
       "      <td>3431</td>\n",
       "      <td>TECHNIQUE</td>\n",
       "      <td>MECANIQUE GENERALE</td>\n",
       "      <td>itig</td>\n",
       "      <td>inconnu</td>\n",
       "      <td>itig</td>\n",
       "      <td>itig</td>\n",
       "    </tr>\n",
       "    <tr>\n",
       "      <th>80</th>\n",
       "      <td>3626</td>\n",
       "      <td>TECHN</td>\n",
       "      <td>ELECTRI</td>\n",
       "      <td>itig</td>\n",
       "      <td>inconnu</td>\n",
       "      <td>itig</td>\n",
       "      <td>itig</td>\n",
       "    </tr>\n",
       "  </tbody>\n",
       "</table>\n",
       "</div>"
      ],
      "text/plain": [
       "    IDENTIFICATION           DIPLOMSECTION        DIPLOMOPTION  \\\n",
       "17            1497               MECANIQUE  MECANIQUE GENERALE   \n",
       "18            1517  TECHNIQUE INDUSTRIELLE         ELECTRICITE   \n",
       "38            2520               TECHNIQUE  MECANIQUE GENERALE   \n",
       "65            3431               TECHNIQUE  MECANIQUE GENERALE   \n",
       "80            3626                   TECHN             ELECTRI   \n",
       "\n",
       "                            SCHOOL SCHOOLSTATUS  \\\n",
       "17                            itig      inconnu   \n",
       "18                            itig      inconnu   \n",
       "38  itg.inst. tech. indust de goma      inconnu   \n",
       "65                            itig      inconnu   \n",
       "80                            itig      inconnu   \n",
       "\n",
       "                    SCHOOL_CORRECT SCHOOL_RIGHT  \n",
       "17                            itig         itig  \n",
       "18                            itig         itig  \n",
       "38  itg.inst. tech. indust de goma         itig  \n",
       "65                            itig         itig  \n",
       "80                            itig         itig  "
      ]
     },
     "execution_count": 35,
     "metadata": {},
     "output_type": "execute_result"
    }
   ],
   "source": [
    "dataset.loc[dataset.SCHOOL_RIGHT=='itig'].head(5)"
   ]
  },
  {
   "cell_type": "code",
   "execution_count": 229,
   "metadata": {},
   "outputs": [
    {
     "data": {
      "text/plain": [
       "4715"
      ]
     },
     "execution_count": 229,
     "metadata": {},
     "output_type": "execute_result"
    }
   ],
   "source": [
    "len(dataset)"
   ]
  },
  {
   "cell_type": "code",
   "execution_count": 227,
   "metadata": {},
   "outputs": [
    {
     "data": {
      "text/plain": [
       "579"
      ]
     },
     "execution_count": 227,
     "metadata": {},
     "output_type": "execute_result"
    }
   ],
   "source": [
    "len(dataset.SCHOOL.value_counts())"
   ]
  },
  {
   "cell_type": "code",
   "execution_count": 213,
   "metadata": {
    "collapsed": true
   },
   "outputs": [],
   "source": [
    "removeClean('s',['st etienne', 'saint etienne'])"
   ]
  },
  {
   "cell_type": "code",
   "execution_count": 246,
   "metadata": {},
   "outputs": [
    {
     "data": {
      "text/plain": [
       "['rambo', 'irambo']"
      ]
     },
     "execution_count": 246,
     "metadata": {},
     "output_type": "execute_result"
    }
   ],
   "source": [
    "groupsSchool['rambo']"
   ]
  },
  {
   "cell_type": "code",
   "execution_count": 249,
   "metadata": {
    "collapsed": true
   },
   "outputs": [],
   "source": [
    "groupsSchool['himbi']=['ihimbi','himbi', 'i himbi']"
   ]
  },
  {
   "cell_type": "code",
   "execution_count": 264,
   "metadata": {},
   "outputs": [
    {
     "data": {
      "text/plain": [
       "['itig', 'itg.inst. tech. indust de goma']"
      ]
     },
     "execution_count": 264,
     "metadata": {},
     "output_type": "execute_result"
    }
   ],
   "source": [
    "groupsSchool['itig']"
   ]
  },
  {
   "cell_type": "code",
   "execution_count": null,
   "metadata": {
    "collapsed": true
   },
   "outputs": [],
   "source": []
  },
  {
   "cell_type": "code",
   "execution_count": 265,
   "metadata": {},
   "outputs": [
    {
     "name": "stdout",
     "output_type": "stream",
     "text": [
      "Writing 'groupsSchool' (dict) to file 'groupSchoolFInal.txt'.\n"
     ]
    }
   ],
   "source": [
    "%store groupsSchool >> groupSchoolFInal.txt"
   ]
  },
  {
   "cell_type": "code",
   "execution_count": 7,
   "metadata": {
    "collapsed": true
   },
   "outputs": [],
   "source": []
  },
  {
   "cell_type": "code",
   "execution_count": 36,
   "metadata": {},
   "outputs": [
    {
     "data": {
      "text/html": [
       "<div>\n",
       "<table border=\"1\" class=\"dataframe\">\n",
       "  <thead>\n",
       "    <tr style=\"text-align: right;\">\n",
       "      <th></th>\n",
       "      <th>IDENTIFICATION</th>\n",
       "      <th>DIPLOMSECTION</th>\n",
       "      <th>DIPLOMOPTION</th>\n",
       "      <th>SCHOOL</th>\n",
       "      <th>SCHOOLSTATUS</th>\n",
       "      <th>SCHOOL_CORRECT</th>\n",
       "      <th>SCHOOL_RIGHT</th>\n",
       "    </tr>\n",
       "  </thead>\n",
       "  <tbody>\n",
       "    <tr>\n",
       "      <th>0</th>\n",
       "      <td>45</td>\n",
       "      <td>PEDAGOGIEQUE</td>\n",
       "      <td>PEDA GENERALE</td>\n",
       "      <td>institut maendeleo</td>\n",
       "      <td>inconnu</td>\n",
       "      <td>maendeleo</td>\n",
       "      <td>maendeleo</td>\n",
       "    </tr>\n",
       "    <tr>\n",
       "      <th>1</th>\n",
       "      <td>215</td>\n",
       "      <td>SCIENTIFIQUE</td>\n",
       "      <td>MATH-PHYSIQUE</td>\n",
       "      <td>institut vungi</td>\n",
       "      <td>inconnu</td>\n",
       "      <td>vungi</td>\n",
       "      <td>vungi</td>\n",
       "    </tr>\n",
       "    <tr>\n",
       "      <th>2</th>\n",
       "      <td>343</td>\n",
       "      <td>SCIENTIFIQUE</td>\n",
       "      <td>MATH PHYSIQUE</td>\n",
       "      <td>institut faraja</td>\n",
       "      <td>inconnu</td>\n",
       "      <td>faraja</td>\n",
       "      <td>faraja</td>\n",
       "    </tr>\n",
       "    <tr>\n",
       "      <th>3</th>\n",
       "      <td>356</td>\n",
       "      <td>ECONOMIE ET COMMERCE</td>\n",
       "      <td>ECONOMIE</td>\n",
       "      <td>esise/gisenyi</td>\n",
       "      <td>inconnu</td>\n",
       "      <td>esise/gisenyi</td>\n",
       "      <td>esise/gisenyi</td>\n",
       "    </tr>\n",
       "    <tr>\n",
       "      <th>4</th>\n",
       "      <td>429</td>\n",
       "      <td>TECHNIQUE</td>\n",
       "      <td>COMMERCIALE ET ADMINISTRATIVE</td>\n",
       "      <td>c,s, umoja</td>\n",
       "      <td>inconnu</td>\n",
       "      <td>c,s, umoja</td>\n",
       "      <td>c,s, umoja</td>\n",
       "    </tr>\n",
       "  </tbody>\n",
       "</table>\n",
       "</div>"
      ],
      "text/plain": [
       "   IDENTIFICATION         DIPLOMSECTION                   DIPLOMOPTION  \\\n",
       "0              45          PEDAGOGIEQUE                  PEDA GENERALE   \n",
       "1             215          SCIENTIFIQUE                  MATH-PHYSIQUE   \n",
       "2             343          SCIENTIFIQUE                  MATH PHYSIQUE   \n",
       "3             356  ECONOMIE ET COMMERCE                       ECONOMIE   \n",
       "4             429             TECHNIQUE  COMMERCIALE ET ADMINISTRATIVE   \n",
       "\n",
       "               SCHOOL SCHOOLSTATUS SCHOOL_CORRECT   SCHOOL_RIGHT  \n",
       "0  institut maendeleo      inconnu      maendeleo      maendeleo  \n",
       "1      institut vungi      inconnu          vungi          vungi  \n",
       "2     institut faraja      inconnu         faraja         faraja  \n",
       "3       esise/gisenyi      inconnu  esise/gisenyi  esise/gisenyi  \n",
       "4          c,s, umoja      inconnu     c,s, umoja     c,s, umoja  "
      ]
     },
     "execution_count": 36,
     "metadata": {},
     "output_type": "execute_result"
    }
   ],
   "source": [
    "dataset.head(5)"
   ]
  },
  {
   "cell_type": "markdown",
   "metadata": {},
   "source": [
    "let do the same for others columsn"
   ]
  },
  {
   "cell_type": "code",
   "execution_count": 10,
   "metadata": {
    "collapsed": true
   },
   "outputs": [],
   "source": [
    "import itertools"
   ]
  },
  {
   "cell_type": "code",
   "execution_count": 13,
   "metadata": {
    "collapsed": true
   },
   "outputs": [],
   "source": [
    "section=np.array(list(set((dataset.DIPLOMSECTION.apply(lambda x : x.lower())))))\n",
    "(groupsSection,labels)=groupLev(section)"
   ]
  },
  {
   "cell_type": "code",
   "execution_count": 16,
   "metadata": {},
   "outputs": [
    {
     "data": {
      "text/plain": [
       "27"
      ]
     },
     "execution_count": 16,
     "metadata": {},
     "output_type": "execute_result"
    }
   ],
   "source": [
    "len(groupsOption)"
   ]
  },
  {
   "cell_type": "code",
   "execution_count": 15,
   "metadata": {
    "collapsed": true
   },
   "outputs": [],
   "source": [
    "option=np.array(list(set((dataset.DIPLOMOPTION.apply(lambda x : x.lower())))))\n",
    "(groupsOption,labels)=groupLev(option)"
   ]
  },
  {
   "cell_type": "code",
   "execution_count": 39,
   "metadata": {
    "scrolled": true
   },
   "outputs": [
    {
     "name": "stdout",
     "output_type": "stream",
     "text": [
      "Writing 'groupsOption' (dict) to file 'groupOption2.txt'.\n"
     ]
    }
   ],
   "source": [
    "%store groupsOption >> groupOption2.txt"
   ]
  },
  {
   "cell_type": "code",
   "execution_count": 17,
   "metadata": {
    "collapsed": true
   },
   "outputs": [],
   "source": [
    "for k in groupsOption.keys():\n",
    "    if isinstance(groupsOption[k],np.ndarray):\n",
    "        groupsOption[k]=groupsOption[k].tolist()"
   ]
  },
  {
   "cell_type": "code",
   "execution_count": 18,
   "metadata": {
    "collapsed": true
   },
   "outputs": [],
   "source": [
    "def removeCleanOpt(key, similar):\n",
    "    \"\"\"this function will remove similar to grouppe name\"\"\"\n",
    "    values=groupsOption[key] #first with get the values from dict\n",
    "    del groupsOption[key] #we delete them\n",
    "    correctV=[] #we create an empty list for new values \n",
    "    for x in values:\n",
    "        if x in similar:\n",
    "            correctV.append(x)\n",
    "        else:\n",
    "            groupsOption[x]=[]\n",
    "            groupsOption[x].append(x)  \n",
    "    groupsOption[key]=correctV"
   ]
  },
  {
   "cell_type": "code",
   "execution_count": 19,
   "metadata": {},
   "outputs": [
    {
     "data": {
      "text/plain": [
       "['imprimerie',\n",
       " 'economie',\n",
       " 'bio-chimie',\n",
       " 'biochimie',\n",
       " 'bio chimie',\n",
       " 'agronomie']"
      ]
     },
     "execution_count": 19,
     "metadata": {},
     "output_type": "execute_result"
    }
   ],
   "source": [
    "groupsOption['biochimie']"
   ]
  },
  {
   "cell_type": "code",
   "execution_count": 20,
   "metadata": {
    "collapsed": true
   },
   "outputs": [],
   "source": [
    "removeCleanOpt('biochimie',['bio-chimie','biochimie','bio chimie'])"
   ]
  },
  {
   "cell_type": "code",
   "execution_count": 21,
   "metadata": {},
   "outputs": [
    {
     "data": {
      "text/plain": [
       "['elect generale',\n",
       " 'ele generale',\n",
       " 'elec generale',\n",
       " 'mec generale',\n",
       " 'p\\xc3\\x8bda generale',\n",
       " 'agriculture generale',\n",
       " 'peda generale']"
      ]
     },
     "execution_count": 21,
     "metadata": {},
     "output_type": "execute_result"
    }
   ],
   "source": [
    "groupsOption[ 'elec generale']"
   ]
  },
  {
   "cell_type": "code",
   "execution_count": 324,
   "metadata": {
    "collapsed": true
   },
   "outputs": [],
   "source": [
    "removeCleanOpt('elec generale',['elect generale',\n",
    " 'ele generale',\n",
    " 'elec generale'])"
   ]
  },
  {
   "cell_type": "code",
   "execution_count": 325,
   "metadata": {},
   "outputs": [
    {
     "data": {
      "text/plain": [
       "['machines out',\n",
       " 'machine outils',\n",
       " 'coupe couture',\n",
       " 'machines outils',\n",
       " 'm\\xc3\\xa9canique outil',\n",
       " 'chimie biologie',\n",
       " 'machine outil']"
      ]
     },
     "execution_count": 325,
     "metadata": {},
     "output_type": "execute_result"
    }
   ],
   "source": [
    "groupsOption['machine outil']"
   ]
  },
  {
   "cell_type": "code",
   "execution_count": 22,
   "metadata": {
    "collapsed": true
   },
   "outputs": [],
   "source": [
    "removeCleanOpt('machine outil',['machines out',\n",
    " 'machine outils',\n",
    " 'machines outils',\n",
    " 'm\\xc3\\xa9canique outil',\n",
    " 'machine outil'])"
   ]
  },
  {
   "cell_type": "code",
   "execution_count": 23,
   "metadata": {
    "scrolled": true
   },
   "outputs": [
    {
     "data": {
      "text/plain": [
       "['latin philo',\n",
       " 'latinphilo',\n",
       " 'relations publiques',\n",
       " 'latin philio',\n",
       " 'latin-philo']"
      ]
     },
     "execution_count": 23,
     "metadata": {},
     "output_type": "execute_result"
    }
   ],
   "source": [
    " groupsOption['latin philo']"
   ]
  },
  {
   "cell_type": "code",
   "execution_count": 24,
   "metadata": {
    "collapsed": true
   },
   "outputs": [],
   "source": [
    "removeCleanOpt('latin philo',['latin philo', 'latinphilo', 'latin philio',\n",
    "       'latin-philo'])"
   ]
  },
  {
   "cell_type": "code",
   "execution_count": 25,
   "metadata": {},
   "outputs": [
    {
     "data": {
      "text/plain": [
       "['math-physique', 'math physique']"
      ]
     },
     "execution_count": 25,
     "metadata": {},
     "output_type": "execute_result"
    }
   ],
   "source": [
    " groupsOption['math-physique']"
   ]
  },
  {
   "cell_type": "code",
   "execution_count": 26,
   "metadata": {},
   "outputs": [
    {
     "data": {
      "text/plain": [
       "['elect generale',\n",
       " 'ele generale',\n",
       " 'elec generale',\n",
       " 'mec generale',\n",
       " 'p\\xc3\\x8bda generale',\n",
       " 'agriculture generale',\n",
       " 'peda generale']"
      ]
     },
     "execution_count": 26,
     "metadata": {},
     "output_type": "execute_result"
    }
   ],
   "source": [
    " groupsOption['elec generale']"
   ]
  },
  {
   "cell_type": "code",
   "execution_count": 27,
   "metadata": {
    "collapsed": true
   },
   "outputs": [],
   "source": [
    "removeCleanOpt('elec generale',['elect generale',\n",
    " 'ele generale',\n",
    " 'elec generale'])"
   ]
  },
  {
   "cell_type": "code",
   "execution_count": 28,
   "metadata": {
    "scrolled": true
   },
   "outputs": [
    {
     "data": {
      "text/plain": [
       "['mes gene',\n",
       " 'peda gen',\n",
       " 'mec gene',\n",
       " 'mec gnl',\n",
       " 'com et adm',\n",
       " 'elec gnl',\n",
       " 'mecanique gen',\n",
       " 'batiment',\n",
       " 'mecan gene',\n",
       " 'mec gener',\n",
       " 'mec gen',\n",
       " 'mecanique',\n",
       " 'pedagerale',\n",
       " 'inconnu']"
      ]
     },
     "execution_count": 28,
     "metadata": {},
     "output_type": "execute_result"
    }
   ],
   "source": [
    "groupsOption['mec gene']"
   ]
  },
  {
   "cell_type": "code",
   "execution_count": 29,
   "metadata": {
    "collapsed": true
   },
   "outputs": [],
   "source": [
    "removeCleanOpt('mec gene',['mes gene',\n",
    " 'mec gene',\n",
    " 'mec gnl',\n",
    " 'mecanique gen',\n",
    " 'mecan gene',\n",
    " 'mec gener',\n",
    " 'mec gen',\n",
    " 'mecanique'])"
   ]
  },
  {
   "cell_type": "code",
   "execution_count": 30,
   "metadata": {},
   "outputs": [
    {
     "data": {
      "text/plain": [
       "['nutrit',\n",
       " 'nitrution',\n",
       " 'nutrition et diet',\n",
       " 'nutrition',\n",
       " 'construction',\n",
       " 'nutri',\n",
       " 'industrielle']"
      ]
     },
     "execution_count": 30,
     "metadata": {},
     "output_type": "execute_result"
    }
   ],
   "source": [
    "groupsOption['nutrition']"
   ]
  },
  {
   "cell_type": "code",
   "execution_count": 31,
   "metadata": {
    "collapsed": true
   },
   "outputs": [],
   "source": [
    "removeCleanOpt('nutrition',['nutrit',\n",
    " 'nitrution',\n",
    " 'nutrition et diet',\n",
    " 'nutrition',\n",
    " 'nutri'])"
   ]
  },
  {
   "cell_type": "code",
   "execution_count": 32,
   "metadata": {
    "scrolled": true
   },
   "outputs": [
    {
     "data": {
      "text/plain": [
       "['elect',\n",
       " 'lp',\n",
       " 'cb',\n",
       " 'p',\n",
       " 'peda',\n",
       " 'bc',\n",
       " 'c',\n",
       " 'soc',\n",
       " 'ppg',\n",
       " 'ca',\n",
       " 'pg',\n",
       " 'ph',\n",
       " 'pn',\n",
       " 'pm',\n",
       " 'b',\n",
       " 'fdf',\n",
       " 'mp',\n",
       " 'nutr',\n",
       " 'diet',\n",
       " 'a',\n",
       " 'elec']"
      ]
     },
     "execution_count": 32,
     "metadata": {},
     "output_type": "execute_result"
    }
   ],
   "source": [
    "groupsOption['p']"
   ]
  },
  {
   "cell_type": "code",
   "execution_count": 33,
   "metadata": {
    "collapsed": true
   },
   "outputs": [],
   "source": [
    "removeCleanOpt('p',['p'])"
   ]
  },
  {
   "cell_type": "code",
   "execution_count": 34,
   "metadata": {
    "scrolled": true
   },
   "outputs": [
    {
     "data": {
      "text/plain": [
       "['m\\xc3\\xa9canique',\n",
       " 'soaciale',\n",
       " 'socaile',\n",
       " 'agriculture',\n",
       " 'siciale',\n",
       " 'social',\n",
       " 'hospitali\\xc3\\xa8re',\n",
       " 'agricole',\n",
       " 'sociale',\n",
       " 'commerciale']"
      ]
     },
     "execution_count": 34,
     "metadata": {},
     "output_type": "execute_result"
    }
   ],
   "source": [
    "groupsOption['sociale']"
   ]
  },
  {
   "cell_type": "code",
   "execution_count": 35,
   "metadata": {
    "collapsed": true
   },
   "outputs": [],
   "source": [
    "removeCleanOpt('sociale',['sociale','siciale','social','soaciale','socaile'])"
   ]
  },
  {
   "cell_type": "code",
   "execution_count": 55,
   "metadata": {
    "collapsed": true,
    "scrolled": true
   },
   "outputs": [],
   "source": [
    "GroupsOptionsNames2=sorted(groupsOption.keys())"
   ]
  },
  {
   "cell_type": "code",
   "execution_count": 60,
   "metadata": {
    "collapsed": true
   },
   "outputs": [],
   "source": [
    "Options=[]"
   ]
  },
  {
   "cell_type": "code",
   "execution_count": 58,
   "metadata": {
    "scrolled": false
   },
   "outputs": [
    {
     "name": "stdout",
     "output_type": "stream",
     "text": [
      "Writing 'GroupsOptionsNames2' (list) to file 'GroupsOptionsNames2.txt'.\n"
     ]
    }
   ],
   "source": [
    "%store GroupsOptionsNames2 >> GroupsOptionsNames2.txt"
   ]
  },
  {
   "cell_type": "code",
   "execution_count": 61,
   "metadata": {
    "collapsed": true
   },
   "outputs": [],
   "source": [
    "Options.append(GroupsOptionsNames[0:4])"
   ]
  },
  {
   "cell_type": "code",
   "execution_count": 63,
   "metadata": {
    "collapsed": true
   },
   "outputs": [],
   "source": [
    "Options.append(GroupsOptionsNames[4])"
   ]
  },
  {
   "cell_type": "code",
   "execution_count": 65,
   "metadata": {
    "collapsed": true
   },
   "outputs": [],
   "source": [
    "Options.append(GroupsOptionsNames[5:7])"
   ]
  },
  {
   "cell_type": "code",
   "execution_count": 68,
   "metadata": {
    "collapsed": true
   },
   "outputs": [],
   "source": [
    "Options.append(GroupsOptionsNames[7:10]+GroupsOptionsNames[12:13]+['chimie biologie'])"
   ]
  },
  {
   "cell_type": "code",
   "execution_count": 73,
   "metadata": {
    "collapsed": true
   },
   "outputs": [],
   "source": [
    "Options.append(GroupsOptionsNames[10:12]+GroupsOptionsNames[13:14]+GroupsOptionsNames[15:18])"
   ]
  },
  {
   "cell_type": "code",
   "execution_count": 150,
   "metadata": {},
   "outputs": [
    {
     "data": {
      "text/plain": [
       "'commerciale informatique'"
      ]
     },
     "execution_count": 150,
     "metadata": {},
     "output_type": "execute_result"
    }
   ],
   "source": [
    "GroupsOptionsNames[18]"
   ]
  },
  {
   "cell_type": "code",
   "execution_count": 75,
   "metadata": {
    "collapsed": true
   },
   "outputs": [],
   "source": [
    "Options.append(GroupsOptionsNames[18:19]+GroupsOptionsNames[14:15])"
   ]
  },
  {
   "cell_type": "code",
   "execution_count": 77,
   "metadata": {
    "collapsed": true
   },
   "outputs": [],
   "source": [
    "Options.append(GroupsOptionsNames[19])"
   ]
  },
  {
   "cell_type": "code",
   "execution_count": 79,
   "metadata": {
    "collapsed": true
   },
   "outputs": [],
   "source": [
    "Options.append(GroupsOptionsNames[20])"
   ]
  },
  {
   "cell_type": "code",
   "execution_count": 81,
   "metadata": {
    "collapsed": true
   },
   "outputs": [],
   "source": [
    "Options.append(GroupsOptionsNames[21])"
   ]
  },
  {
   "cell_type": "code",
   "execution_count": 384,
   "metadata": {
    "collapsed": true
   },
   "outputs": [],
   "source": [
    "Options.append(economie)"
   ]
  },
  {
   "cell_type": "code",
   "execution_count": 84,
   "metadata": {
    "collapsed": true
   },
   "outputs": [],
   "source": [
    "Options.append(GroupsOptionsNames[22:25]+GroupsOptionsNames[26:28])"
   ]
  },
  {
   "cell_type": "code",
   "execution_count": 86,
   "metadata": {
    "collapsed": true
   },
   "outputs": [],
   "source": [
    "Options.append(GroupsOptionsNames[25:26]+GroupsOptionsNames[28:29])"
   ]
  },
  {
   "cell_type": "code",
   "execution_count": 89,
   "metadata": {
    "collapsed": true
   },
   "outputs": [],
   "source": [
    "for x in GroupsOptionsNames[29:36]:\n",
    "    Options.append([x])"
   ]
  },
  {
   "cell_type": "code",
   "execution_count": 130,
   "metadata": {
    "collapsed": true
   },
   "outputs": [],
   "source": [
    "Options.append(GroupsOptionsNames[36:39])"
   ]
  },
  {
   "cell_type": "code",
   "execution_count": 152,
   "metadata": {
    "collapsed": true
   },
   "outputs": [],
   "source": [
    "Options.append([GroupsOptionsNames[39]])"
   ]
  },
  {
   "cell_type": "code",
   "execution_count": 136,
   "metadata": {
    "collapsed": true
   },
   "outputs": [],
   "source": [
    "Options.append(GroupsOptionsNames[40:42]+[GroupsOptionsNames[46]])"
   ]
  },
  {
   "cell_type": "code",
   "execution_count": 154,
   "metadata": {
    "collapsed": true
   },
   "outputs": [],
   "source": [
    "Options.append([GroupsOptionsNames[45]])"
   ]
  },
  {
   "cell_type": "code",
   "execution_count": 94,
   "metadata": {
    "collapsed": true
   },
   "outputs": [],
   "source": [
    " Options.append(GroupsOptionsNames[42:45]+GroupsOptionsNames[47:48])"
   ]
  },
  {
   "cell_type": "code",
   "execution_count": 96,
   "metadata": {
    "collapsed": true
   },
   "outputs": [],
   "source": [
    "Options.append(GroupsOptionsNames[48:50])"
   ]
  },
  {
   "cell_type": "code",
   "execution_count": 98,
   "metadata": {
    "collapsed": true
   },
   "outputs": [],
   "source": [
    "Options.append(GroupsOptionsNames[50:63])"
   ]
  },
  {
   "cell_type": "code",
   "execution_count": 100,
   "metadata": {
    "collapsed": true
   },
   "outputs": [],
   "source": [
    "Options.append(GroupsOptionsNames[65:67])"
   ]
  },
  {
   "cell_type": "code",
   "execution_count": 156,
   "metadata": {
    "collapsed": true
   },
   "outputs": [],
   "source": [
    "Options.append([GroupsOptionsNames[64]])"
   ]
  },
  {
   "cell_type": "code",
   "execution_count": 157,
   "metadata": {},
   "outputs": [
    {
     "data": {
      "text/plain": [
       "68"
      ]
     },
     "execution_count": 157,
     "metadata": {},
     "output_type": "execute_result"
    }
   ],
   "source": [
    "len(GroupsOptionsNames)"
   ]
  },
  {
   "cell_type": "code",
   "execution_count": 158,
   "metadata": {},
   "outputs": [
    {
     "data": {
      "text/plain": [
       "68"
      ]
     },
     "execution_count": 158,
     "metadata": {},
     "output_type": "execute_result"
    }
   ],
   "source": [
    "len(set(flatten(Options)))"
   ]
  },
  {
   "cell_type": "code",
   "execution_count": 159,
   "metadata": {
    "collapsed": true
   },
   "outputs": [],
   "source": [
    "for x in range(len(Options)):\n",
    "    if not isinstance(Options[x],list):\n",
    "        Options[x]=[Options[x]]"
   ]
  },
  {
   "cell_type": "code",
   "execution_count": 144,
   "metadata": {
    "scrolled": false
   },
   "outputs": [
    {
     "data": {
      "text/plain": [
       "74"
      ]
     },
     "execution_count": 144,
     "metadata": {},
     "output_type": "execute_result"
    }
   ],
   "source": [
    "len(flatten(Options))"
   ]
  },
  {
   "cell_type": "code",
   "execution_count": 160,
   "metadata": {
    "collapsed": true
   },
   "outputs": [],
   "source": [
    "OptionsCat={}\n",
    "for i in Options:\n",
    "    OptionsCat[i[0]]=[]\n",
    "    for j in i:\n",
    "        OptionsCat[i[0]].append(groupsOption[j])        "
   ]
  },
  {
   "cell_type": "code",
   "execution_count": 161,
   "metadata": {
    "collapsed": true,
    "scrolled": false
   },
   "outputs": [],
   "source": [
    "from compiler.ast import flatten\n",
    "for k,v in OptionsCat.items():\n",
    "    OptionsCat[k]=flatten(v)"
   ]
  },
  {
   "cell_type": "code",
   "execution_count": 42,
   "metadata": {
    "scrolled": false
   },
   "outputs": [
    {
     "data": {
      "text/plain": [
       "28"
      ]
     },
     "execution_count": 42,
     "metadata": {},
     "output_type": "execute_result"
    }
   ],
   "source": [
    "len(OptionsCat)"
   ]
  },
  {
   "cell_type": "code",
   "execution_count": 41,
   "metadata": {
    "collapsed": true
   },
   "outputs": [],
   "source": [
    "OptionsCat={'agrecole': ['a', 'agricole', 'agriculture', 'agriculture generale'],\n",
    " 'agronomie': ['agronomie'],\n",
    " 'batiment': ['b', 'batiment'],\n",
    " 'bio-chimie': ['bc',\n",
    "        'bio-chimie',\n",
    "        'biochimie',\n",
    "        'bio chimie',\n",
    "        'bioligie-chimie',\n",
    "        'biologie chimie',\n",
    "        'biologie-chimie',\n",
    "        'bioligie chimie',\n",
    "        'biologie chilie',\n",
    "        'cb',\n",
    "        'chimie biologie'],\n",
    " 'commmerciale et adm': ['c',\n",
    "       'ca',\n",
    "       'com et adm',\n",
    "       'commerciale',\n",
    "       'comm et adm',\n",
    "       'commerciale et admi',\n",
    "       'commmerciale et adm',\n",
    "       'commerciale et adm',\n",
    "       'commerciale adm',\n",
    "       'commerciale et admin',\n",
    "       'commerc et adm',\n",
    "       'commerciele administrative',\n",
    "       'commerciale admnistrative',\n",
    "       'commerciale et administra',\n",
    "       'commercialen et administraive',\n",
    "       'commerciale et administrative',\n",
    "       'commerciale et administration',\n",
    "       'commerciale et administrativie',\n",
    "       'commerciale et aministrative',\n",
    "       'commerciale et dministrative',\n",
    "       'commerciale administrative',\n",
    "       'commerciale et administrativeinformatique'],\n",
    " 'commerciale informatique': ['commerciale et informatique',\n",
    "                              'commerciale informatique',\n",
    "                              'commerciale infomratique',\n",
    "                              'commerciale iormatiquenf',\n",
    "                              'commerciale information',\n",
    "                              'informatique',\n",
    "                              'com informatique',\n",
    "                              'comm informatique',\n",
    "                              'com  informatique',\n",
    "                              'com inform',\n",
    "                              'com   informatique'],\n",
    " 'construction': ['construction'],\n",
    " 'diet': ['diet'],\n",
    " 'economie': ['economie'],\n",
    " 'elec': ['elec',\n",
    "          'elect generale',\n",
    "          'ele generale',\n",
    "          'elec generale',\n",
    "          'elec gnl',\n",
    "          'elect',\n",
    "          'electricite',\n",
    "          'electricit\\xc3\\xa9',\n",
    "          'electreicite',\n",
    "          'electri',\n",
    "          'electronique',\n",
    "          'electric'],\n",
    " 'elec indust': ['elec ind',\n",
    "                 'electr indus',\n",
    "                 'elec industr',\n",
    "                 'ele indudtrielle',\n",
    "                 'elec indust',\n",
    "                 'electricite indust',\n",
    "                 'el\\xc3\\xa9ctricit\\xc3\\xa9 industrielle',\n",
    "                 'electricite industr',\n",
    "                 'electricit\\xc3\\xa9 industrielle',\n",
    "                 'elctricite industrielle',\n",
    "                 'electronique industrielle',\n",
    "                 'electricite industrielle'],\n",
    " 'electronique g\\xc3\\xa9n\\xc3\\xa9rale': ['electronique g\\xc3\\xa9n\\xc3\\xa9rale',\n",
    "                                         'electricit\\xc3\\xa9 g\\xc3\\xa9n\\xc3\\xa9rale',\n",
    "                                         'electronique generale'],\n",
    " 'fdf': ['fdf'],\n",
    " 'hospitali\\xc3\\xa8re': ['hospitali\\xc3\\xa8re'],\n",
    " \"hotesse d'acceuil\": [\"h\\xc3\\xb4tesse d'acceuil\",\n",
    "                       'h\\xc3\\xb4tesse d\\xe2\\x80\\x99accueil',\n",
    "                       \"hotesse d'acceuil\",\n",
    "                       \"hotesse d'acc\",\n",
    "                       \"hotesse d'aceuil\"],\n",
    " 'imprimerie': ['imprimerie'],\n",
    " 'inconnu': ['inconnu'],\n",
    " 'industrielle': ['industrielle'],\n",
    " 'latin philo': ['latin philo',\n",
    "                 'latinphilo',\n",
    "                 'latin philio',\n",
    "                 'latin-philo',\n",
    "                 'latin philososophie',\n",
    "                 'latin philosophie',\n",
    "                 'latin philisophie',\n",
    "                 'latin-philosophie',\n",
    "                 'lp'],\n",
    " 'machine outil': ['machines out',\n",
    "                   'machine outils',\n",
    "                   'machines outils',\n",
    "                   'm\\xc3\\xa9canique outil',\n",
    "                   'machine outil'],\n",
    " 'math-physique': ['math-physique',\n",
    "                   'math physique',\n",
    "                   'math\\xc3\\xa9matique physique',\n",
    "                   'math\\xc3\\xa9matique physiqe',\n",
    "                   'math\\xc3\\xa9matique-physique',\n",
    "                   'mathematique physique',\n",
    "                   'mathematique- physique',\n",
    "                   'mp'],\n",
    " 'mec gene': ['mes gene',\n",
    "              'mec gene',\n",
    "              'mec gnl',\n",
    "              'mecanique gen',\n",
    "              'mecan gene',\n",
    "              'mec gener',\n",
    "              'mec gen',\n",
    "              'mecanique',\n",
    "              'mec generale',\n",
    "              'm\\xc3\\xa9canique g\\xc3\\xa9\\xc3\\xa9nrale',\n",
    "              'm\\xc3\\xa9canique g\\xc3\\xa9n\\xc3\\xa9rale',\n",
    "              'mecanique g\\xc3\\xa9n\\xc3\\xa9rale',\n",
    "              'm\\xc3\\xa9camique g\\xc3\\xa9n\\xc3\\xa9rale',\n",
    "              'mecanique automobile',\n",
    "              'mecanique generale',\n",
    "              'm\\xc3\\xa9canique',\n",
    "              'm\\xc3\\xa9canique industrielle'],\n",
    " 'mecanique machines outils': ['macanique machines ou',\n",
    "                               'm\\xc3\\xa9canique machines outlis',\n",
    "                               'mecanique machines outils',\n",
    "                               'mec machines outils',\n",
    "                               'm\\xc3\\xa9canique machines outils',\n",
    "                               'meca machines outils'],\n",
    " 'nutr': ['nutr',\n",
    "          'nutrit',\n",
    "          'nitrution',\n",
    "          'nutrition et diet',\n",
    "          'nutrition',\n",
    "          'nutri'],\n",
    " 'pedagogie': ['p',\n",
    "       'peda',\n",
    "       'peda gen',\n",
    "       'peda generale',\n",
    "       'pedagerale',\n",
    "       'pdagogie generale',\n",
    "       'pedagogie generale',\n",
    "       'pedagogie maternelle',\n",
    "       'pg',\n",
    "       'ph',\n",
    "       'pm',\n",
    "       'pn',\n",
    "       'ppg',\n",
    "       'p\\xc3\\x8bda generale',\n",
    "       'p\\xc3\\xa9dagogie g\\xc3\\xa9n\\xc3\\xa9rale',\n",
    "       'p\\xc3\\xa9gagogie g\\xc3\\xa9n\\xc3\\xa9ral',\n",
    "       'p\\xc3\\xa9dagogie normale',\n",
    "       'p\\xc3\\xa9gagogie g\\xc3\\xa9n\\xc3\\xa9rale',\n",
    "       'pedagogie g\\xc3\\xa9n\\xc3\\xa9rale',\n",
    "       'p\\xc3\\xa9dagogi g\\xc3\\xa9n\\xc3\\xa9rale',\n",
    "       'p\\xc3\\xa9dagogie appliqu\\xc3\\xa9e',\n",
    "       'padagogie g\\xc3\\xa9n\\xc3\\xa9rale',\n",
    "       'p\\xc3\\xa9gogigie g\\xc3\\xa9n\\xc3\\xa9rale'],\n",
    " 'secretariat': ['secretariat', 'secr\\xc3\\xa9tariat', 'secretariat publ','secretariat informatique'],\n",
    " 'sociale': ['soc', 'soaciale', 'socaile', 'siciale', 'social', 'sociale'],\n",
    " 'v\\xc3\\xa9t\\xc3\\xa9rinaire': ['v\\xc3\\xa9t\\xc3\\xa9rinaire',\n",
    "                               'veterinaire',\n",
    "                               'sant\\xc3\\xa9 communautaire']}\n"
   ]
  },
  {
   "cell_type": "code",
   "execution_count": 163,
   "metadata": {},
   "outputs": [
    {
     "name": "stdout",
     "output_type": "stream",
     "text": [
      "Writing 'OptionsCat' (dict) to file 'OptionsCat.txt'.\n"
     ]
    }
   ],
   "source": [
    "%store OptionsCat >> OptionsCat.txt"
   ]
  },
  {
   "cell_type": "code",
   "execution_count": 460,
   "metadata": {
    "collapsed": true
   },
   "outputs": [],
   "source": [
    "OptionsCat['machine outil']=['machines out',\n",
    " 'machine outils',\n",
    " 'coupe couture',\n",
    " 'machines outils',\n",
    " 'm\\xc3\\xa9canique outil',\n",
    " 'chimie biologie',\n",
    " 'machine outil']"
   ]
  },
  {
   "cell_type": "code",
   "execution_count": 111,
   "metadata": {
    "collapsed": true
   },
   "outputs": [],
   "source": [
    "OptionsCat['social']=['soc', 'soaciale', 'socaile', 'siciale', 'social', 'sociale']"
   ]
  },
  {
   "cell_type": "code",
   "execution_count": 112,
   "metadata": {
    "collapsed": true
   },
   "outputs": [],
   "source": [
    "del OptionsCat['soc']"
   ]
  },
  {
   "cell_type": "code",
   "execution_count": 342,
   "metadata": {
    "scrolled": true
   },
   "outputs": [
    {
     "name": "stdout",
     "output_type": "stream",
     "text": [
      "Writing 'GroupsOptionsNames' (list) to file 'GroupsOptionsNames.txt'.\n"
     ]
    }
   ],
   "source": [
    "%store GroupsOptionsNames >> GroupsOptionsNames.txt"
   ]
  },
  {
   "cell_type": "code",
   "execution_count": 37,
   "metadata": {
    "collapsed": true
   },
   "outputs": [],
   "source": [
    "dataset['OPTION']=dataset.DIPLOMOPTION"
   ]
  },
  {
   "cell_type": "code",
   "execution_count": 38,
   "metadata": {
    "collapsed": true
   },
   "outputs": [],
   "source": [
    "dataset.DIPLOMOPTION=dataset.DIPLOMOPTION.apply(lambda x :x.lower())"
   ]
  },
  {
   "cell_type": "code",
   "execution_count": 39,
   "metadata": {
    "scrolled": false
   },
   "outputs": [
    {
     "ename": "NameError",
     "evalue": "name 'groupsOption' is not defined",
     "output_type": "error",
     "traceback": [
      "\u001b[0;31m---------------------------------------------------------------------------\u001b[0m",
      "\u001b[0;31mNameError\u001b[0m                                 Traceback (most recent call last)",
      "\u001b[0;32m<ipython-input-39-5be5d73aad81>\u001b[0m in \u001b[0;36m<module>\u001b[0;34m()\u001b[0m\n\u001b[0;32m----> 1\u001b[0;31m \u001b[0mlen\u001b[0m\u001b[0;34m(\u001b[0m\u001b[0mgroupsOption\u001b[0m\u001b[0;34m)\u001b[0m\u001b[0;34m\u001b[0m\u001b[0m\n\u001b[0m",
      "\u001b[0;31mNameError\u001b[0m: name 'groupsOption' is not defined"
     ]
    }
   ],
   "source": [
    "len(groupsOption)"
   ]
  },
  {
   "cell_type": "code",
   "execution_count": 147,
   "metadata": {},
   "outputs": [
    {
     "data": {
      "text/plain": [
       "74"
      ]
     },
     "execution_count": 147,
     "metadata": {},
     "output_type": "execute_result"
    }
   ],
   "source": [
    "len(flatten(Options))"
   ]
  },
  {
   "cell_type": "code",
   "execution_count": 45,
   "metadata": {
    "scrolled": false
   },
   "outputs": [
    {
     "data": {
      "text/plain": [
       "81"
      ]
     },
     "execution_count": 45,
     "metadata": {},
     "output_type": "execute_result"
    }
   ],
   "source": [
    "(len(dataset.DIPLOMOPTION.value_counts())-len(dataset.OPTION.value_counts()))*100//len(dataset.DIPLOMOPTION.value_counts())"
   ]
  },
  {
   "cell_type": "code",
   "execution_count": 172,
   "metadata": {
    "collapsed": true
   },
   "outputs": [],
   "source": []
  },
  {
   "cell_type": "code",
   "execution_count": 44,
   "metadata": {
    "collapsed": true
   },
   "outputs": [],
   "source": [
    "for k,v in OptionsCat.items():\n",
    "    dataset.OPTION.loc[dataset.DIPLOMOPTION.isin(v)]=k"
   ]
  },
  {
   "cell_type": "code",
   "execution_count": 180,
   "metadata": {
    "collapsed": true,
    "scrolled": true
   },
   "outputs": [],
   "source": [
    "dataset=pd.read_csv('DatasetWithOptionOk.csv')"
   ]
  },
  {
   "cell_type": "markdown",
   "metadata": {},
   "source": [
    "finish with school option now we  nee tow work on  association school and scholl status"
   ]
  },
  {
   "cell_type": "code",
   "execution_count": 46,
   "metadata": {
    "collapsed": true
   },
   "outputs": [],
   "source": [
    "dataset.SCHOOLSTATUS.replace('inconnu',np.nan,inplace=True)"
   ]
  },
  {
   "cell_type": "markdown",
   "metadata": {},
   "source": [
    "first we replace all School status inconnu by nan or null"
   ]
  },
  {
   "cell_type": "code",
   "execution_count": 47,
   "metadata": {},
   "outputs": [
    {
     "data": {
      "text/plain": [
       "catholique      289\n",
       "protestant      260\n",
       "privé           170\n",
       "publique        152\n",
       "musulman          6\n",
       "kimbanguiste      3\n",
       "autodidacte       2\n",
       "Name: SCHOOLSTATUS, dtype: int64"
      ]
     },
     "execution_count": 47,
     "metadata": {},
     "output_type": "execute_result"
    }
   ],
   "source": [
    "dataset.SCHOOLSTATUS.value_counts()"
   ]
  },
  {
   "cell_type": "code",
   "execution_count": 48,
   "metadata": {
    "scrolled": true
   },
   "outputs": [
    {
     "data": {
      "text/html": [
       "<div>\n",
       "<table border=\"1\" class=\"dataframe\">\n",
       "  <thead>\n",
       "    <tr style=\"text-align: right;\">\n",
       "      <th></th>\n",
       "      <th>IDENTIFICATION</th>\n",
       "      <th>DIPLOMSECTION</th>\n",
       "      <th>DIPLOMOPTION</th>\n",
       "      <th>SCHOOL</th>\n",
       "      <th>SCHOOLSTATUS</th>\n",
       "      <th>SCHOOL_CORRECT</th>\n",
       "      <th>SCHOOL_RIGHT</th>\n",
       "      <th>OPTION</th>\n",
       "    </tr>\n",
       "  </thead>\n",
       "  <tbody>\n",
       "    <tr>\n",
       "      <th>0</th>\n",
       "      <td>45</td>\n",
       "      <td>PEDAGOGIEQUE</td>\n",
       "      <td>peda generale</td>\n",
       "      <td>institut maendeleo</td>\n",
       "      <td>NaN</td>\n",
       "      <td>maendeleo</td>\n",
       "      <td>maendeleo</td>\n",
       "      <td>pedagogie</td>\n",
       "    </tr>\n",
       "    <tr>\n",
       "      <th>1</th>\n",
       "      <td>215</td>\n",
       "      <td>SCIENTIFIQUE</td>\n",
       "      <td>math-physique</td>\n",
       "      <td>institut vungi</td>\n",
       "      <td>NaN</td>\n",
       "      <td>vungi</td>\n",
       "      <td>vungi</td>\n",
       "      <td>math-physique</td>\n",
       "    </tr>\n",
       "    <tr>\n",
       "      <th>2</th>\n",
       "      <td>343</td>\n",
       "      <td>SCIENTIFIQUE</td>\n",
       "      <td>math physique</td>\n",
       "      <td>institut faraja</td>\n",
       "      <td>NaN</td>\n",
       "      <td>faraja</td>\n",
       "      <td>faraja</td>\n",
       "      <td>math-physique</td>\n",
       "    </tr>\n",
       "    <tr>\n",
       "      <th>3</th>\n",
       "      <td>356</td>\n",
       "      <td>ECONOMIE ET COMMERCE</td>\n",
       "      <td>economie</td>\n",
       "      <td>esise/gisenyi</td>\n",
       "      <td>NaN</td>\n",
       "      <td>esise/gisenyi</td>\n",
       "      <td>esise/gisenyi</td>\n",
       "      <td>economie</td>\n",
       "    </tr>\n",
       "    <tr>\n",
       "      <th>4</th>\n",
       "      <td>429</td>\n",
       "      <td>TECHNIQUE</td>\n",
       "      <td>commerciale et administrative</td>\n",
       "      <td>c,s, umoja</td>\n",
       "      <td>NaN</td>\n",
       "      <td>c,s, umoja</td>\n",
       "      <td>c,s, umoja</td>\n",
       "      <td>commmerciale et adm</td>\n",
       "    </tr>\n",
       "    <tr>\n",
       "      <th>5</th>\n",
       "      <td>474</td>\n",
       "      <td>inconnu</td>\n",
       "      <td>inconnu</td>\n",
       "      <td>inst. maendeleo</td>\n",
       "      <td>NaN</td>\n",
       "      <td>maendeleo</td>\n",
       "      <td>maendeleo</td>\n",
       "      <td>inconnu</td>\n",
       "    </tr>\n",
       "    <tr>\n",
       "      <th>6</th>\n",
       "      <td>644</td>\n",
       "      <td>PEDAGOGIEQUE</td>\n",
       "      <td>peda generale</td>\n",
       "      <td>inst. mpinga</td>\n",
       "      <td>NaN</td>\n",
       "      <td>mpinga</td>\n",
       "      <td>INST. MPINGA</td>\n",
       "      <td>pedagogie</td>\n",
       "    </tr>\n",
       "    <tr>\n",
       "      <th>7</th>\n",
       "      <td>645</td>\n",
       "      <td>LITTERAIRE</td>\n",
       "      <td>latin philo</td>\n",
       "      <td>inst tupendane/kolwezi</td>\n",
       "      <td>NaN</td>\n",
       "      <td>tupendane/kolwezi</td>\n",
       "      <td>tupendane fec</td>\n",
       "      <td>latin philo</td>\n",
       "    </tr>\n",
       "    <tr>\n",
       "      <th>8</th>\n",
       "      <td>665</td>\n",
       "      <td>TECHNIQUE</td>\n",
       "      <td>sociale</td>\n",
       "      <td>institut mikeno</td>\n",
       "      <td>NaN</td>\n",
       "      <td>mikeno</td>\n",
       "      <td>mikeno nc</td>\n",
       "      <td>sociale</td>\n",
       "    </tr>\n",
       "    <tr>\n",
       "      <th>9</th>\n",
       "      <td>827</td>\n",
       "      <td>TEC</td>\n",
       "      <td>ca</td>\n",
       "      <td>auto</td>\n",
       "      <td>NaN</td>\n",
       "      <td>auto</td>\n",
       "      <td>auto</td>\n",
       "      <td>commmerciale et adm</td>\n",
       "    </tr>\n",
       "  </tbody>\n",
       "</table>\n",
       "</div>"
      ],
      "text/plain": [
       "   IDENTIFICATION         DIPLOMSECTION                   DIPLOMOPTION  \\\n",
       "0              45          PEDAGOGIEQUE                  peda generale   \n",
       "1             215          SCIENTIFIQUE                  math-physique   \n",
       "2             343          SCIENTIFIQUE                  math physique   \n",
       "3             356  ECONOMIE ET COMMERCE                       economie   \n",
       "4             429             TECHNIQUE  commerciale et administrative   \n",
       "5             474               inconnu                        inconnu   \n",
       "6             644          PEDAGOGIEQUE                  peda generale   \n",
       "7             645            LITTERAIRE                    latin philo   \n",
       "8             665             TECHNIQUE                        sociale   \n",
       "9             827                   TEC                             ca   \n",
       "\n",
       "                   SCHOOL SCHOOLSTATUS     SCHOOL_CORRECT   SCHOOL_RIGHT  \\\n",
       "0      institut maendeleo          NaN          maendeleo      maendeleo   \n",
       "1          institut vungi          NaN              vungi          vungi   \n",
       "2         institut faraja          NaN             faraja         faraja   \n",
       "3           esise/gisenyi          NaN      esise/gisenyi  esise/gisenyi   \n",
       "4              c,s, umoja          NaN         c,s, umoja     c,s, umoja   \n",
       "5         inst. maendeleo          NaN          maendeleo      maendeleo   \n",
       "6            inst. mpinga          NaN             mpinga   INST. MPINGA   \n",
       "7  inst tupendane/kolwezi          NaN  tupendane/kolwezi  tupendane fec   \n",
       "8         institut mikeno          NaN             mikeno      mikeno nc   \n",
       "9                    auto          NaN               auto           auto   \n",
       "\n",
       "                OPTION  \n",
       "0            pedagogie  \n",
       "1        math-physique  \n",
       "2        math-physique  \n",
       "3             economie  \n",
       "4  commmerciale et adm  \n",
       "5              inconnu  \n",
       "6            pedagogie  \n",
       "7          latin philo  \n",
       "8              sociale  \n",
       "9  commmerciale et adm  "
      ]
     },
     "execution_count": 48,
     "metadata": {},
     "output_type": "execute_result"
    }
   ],
   "source": [
    "dataset.head(10)"
   ]
  },
  {
   "cell_type": "code",
   "execution_count": 54,
   "metadata": {
    "collapsed": true
   },
   "outputs": [],
   "source": [
    "schoolVsStatus=dataset[['IDENTIFICATION','SCHOOL_RIGHT','SCHOOLSTATUS']]"
   ]
  },
  {
   "cell_type": "code",
   "execution_count": 55,
   "metadata": {
    "collapsed": true
   },
   "outputs": [],
   "source": [
    "schoolVsStatusFalse=schoolVsStatus.loc[schoolVsStatus.SCHOOLSTATUS.isnull()]"
   ]
  },
  {
   "cell_type": "code",
   "execution_count": 56,
   "metadata": {},
   "outputs": [],
   "source": [
    "schoolVsStatusOk=schoolVsStatus.loc[~schoolVsStatus.SCHOOLSTATUS.isnull()]"
   ]
  },
  {
   "cell_type": "code",
   "execution_count": 57,
   "metadata": {},
   "outputs": [
    {
     "data": {
      "text/html": [
       "<div>\n",
       "<table border=\"1\" class=\"dataframe\">\n",
       "  <thead>\n",
       "    <tr style=\"text-align: right;\">\n",
       "      <th></th>\n",
       "      <th>IDENTIFICATION</th>\n",
       "      <th>SCHOOL_RIGHT</th>\n",
       "      <th>SCHOOLSTATUS</th>\n",
       "    </tr>\n",
       "  </thead>\n",
       "  <tbody>\n",
       "    <tr>\n",
       "      <th>740</th>\n",
       "      <td>6044</td>\n",
       "      <td>malikia wa bingu</td>\n",
       "      <td>catholique</td>\n",
       "    </tr>\n",
       "    <tr>\n",
       "      <th>1088</th>\n",
       "      <td>6976</td>\n",
       "      <td>ngoma</td>\n",
       "      <td>publique</td>\n",
       "    </tr>\n",
       "    <tr>\n",
       "      <th>1322</th>\n",
       "      <td>7417</td>\n",
       "      <td>anuarite</td>\n",
       "      <td>catholique</td>\n",
       "    </tr>\n",
       "    <tr>\n",
       "      <th>1328</th>\n",
       "      <td>7437</td>\n",
       "      <td>icl</td>\n",
       "      <td>privé</td>\n",
       "    </tr>\n",
       "    <tr>\n",
       "      <th>1336</th>\n",
       "      <td>7460</td>\n",
       "      <td>kyeshero</td>\n",
       "      <td>protestant</td>\n",
       "    </tr>\n",
       "    <tr>\n",
       "      <th>1345</th>\n",
       "      <td>7499</td>\n",
       "      <td>bakandja</td>\n",
       "      <td>catholique</td>\n",
       "    </tr>\n",
       "    <tr>\n",
       "      <th>1352</th>\n",
       "      <td>7516</td>\n",
       "      <td>bulera</td>\n",
       "      <td>protestant</td>\n",
       "    </tr>\n",
       "    <tr>\n",
       "      <th>1901</th>\n",
       "      <td>8594</td>\n",
       "      <td>wima</td>\n",
       "      <td>catholique</td>\n",
       "    </tr>\n",
       "    <tr>\n",
       "      <th>2027</th>\n",
       "      <td>8755</td>\n",
       "      <td>himbi</td>\n",
       "      <td>protestant</td>\n",
       "    </tr>\n",
       "    <tr>\n",
       "      <th>2043</th>\n",
       "      <td>8809</td>\n",
       "      <td>mont sinai</td>\n",
       "      <td>privé</td>\n",
       "    </tr>\n",
       "  </tbody>\n",
       "</table>\n",
       "</div>"
      ],
      "text/plain": [
       "      IDENTIFICATION      SCHOOL_RIGHT SCHOOLSTATUS\n",
       "740             6044  malikia wa bingu   catholique\n",
       "1088            6976             ngoma     publique\n",
       "1322            7417          anuarite   catholique\n",
       "1328            7437               icl        privé\n",
       "1336            7460          kyeshero   protestant\n",
       "1345            7499          bakandja   catholique\n",
       "1352            7516            bulera   protestant\n",
       "1901            8594              wima   catholique\n",
       "2027            8755             himbi   protestant\n",
       "2043            8809        mont sinai        privé"
      ]
     },
     "execution_count": 57,
     "metadata": {},
     "output_type": "execute_result"
    }
   ],
   "source": [
    "schoolVsStatusOk.head(10)"
   ]
  },
  {
   "cell_type": "code",
   "execution_count": 58,
   "metadata": {
    "collapsed": true,
    "scrolled": false
   },
   "outputs": [],
   "source": [
    "SatusWrong=[]\n",
    "for x in list(set(schoolVsStatusFalse.SCHOOL_RIGHT)):\n",
    "    if x in list(set(schoolVsStatusOk.SCHOOL_RIGHT)):\n",
    "        SatusWrong.append(x)"
   ]
  },
  {
   "cell_type": "code",
   "execution_count": 59,
   "metadata": {},
   "outputs": [
    {
     "data": {
      "text/plain": [
       "['Mugunga',\n",
       " 'action kusaidiya',\n",
       " 'aigle de dieu',\n",
       " 'alfajiri',\n",
       " 'amani',\n",
       " 'amen',\n",
       " 'amina',\n",
       " 'amkeni',\n",
       " 'anuarite',\n",
       " 'anuarite/kisangani',\n",
       " 'asseco',\n",
       " 'autodidacte',\n",
       " 'avenir',\n",
       " 'azma',\n",
       " 'bahati',\n",
       " 'bakandja',\n",
       " 'bakita',\n",
       " 'bandashe',\n",
       " 'bemba gombo',\n",
       " 'bigilimani',\n",
       " 'bimenya',\n",
       " 'bobokoli',\n",
       " 'bsangani',\n",
       " 'buhimba',\n",
       " 'bulera',\n",
       " 'bulumbi',\n",
       " 'busimba',\n",
       " 'butembo',\n",
       " 'bweremana',\n",
       " 'chemchem',\n",
       " 'chidasa',\n",
       " 'communautaire du lac',\n",
       " 'complexe scolaire kyabo',\n",
       " 'de bagira',\n",
       " 'de bukavu',\n",
       " 'de bunia',\n",
       " 'de goma',\n",
       " 'de kingasani ii',\n",
       " \"de l'unite\",\n",
       " 'edac/isgea',\n",
       " 'edap/isp',\n",
       " 'eistein ujuzi',\n",
       " 'epsk/fomulac',\n",
       " 'espoir1',\n",
       " 'etoile',\n",
       " 'fadhili',\n",
       " 'faraja',\n",
       " 'frere alimba',\n",
       " 'gs kigali',\n",
       " 'gs lumi\\xc3\\xa8re du progr\\xc3\\xa8s',\n",
       " 'gs mont sinai',\n",
       " 'himbi',\n",
       " 'home feyen',\n",
       " 'ibanda',\n",
       " 'icl',\n",
       " 'idap isp bunia',\n",
       " 'isoko',\n",
       " 'it kasabinyole',\n",
       " 'itfm/bukavu',\n",
       " 'iti gombe',\n",
       " 'itig',\n",
       " 'jiwe',\n",
       " 'kalangala',\n",
       " 'kalimabenge',\n",
       " 'kalimba',\n",
       " 'kalungu',\n",
       " 'kambali',\n",
       " 'kasali',\n",
       " 'kashenda',\n",
       " 'kashofu',\n",
       " 'kigonza',\n",
       " 'kilimani',\n",
       " 'kimbilio',\n",
       " 'kimua',\n",
       " 'kiraku',\n",
       " 'kirikiri',\n",
       " 'kirimavolo',\n",
       " 'kishanga',\n",
       " 'kisolokele',\n",
       " 'kitsombiro',\n",
       " 'kiyabo',\n",
       " 'kyeshero',\n",
       " 'la fontaine',\n",
       " 'la pereaux',\n",
       " 'la sapiniere',\n",
       " 'lasagesse',\n",
       " 'lukanga',\n",
       " 'lukuga',\n",
       " 'lumiere du monde',\n",
       " 'lwanga bobandana',\n",
       " 'lwanzururu',\n",
       " 'mabula',\n",
       " 'maendeleo',\n",
       " 'majengo',\n",
       " 'malikia wa bingu',\n",
       " 'mama yetu',\n",
       " 'mandai',\n",
       " 'mapema',\n",
       " 'mapendo',\n",
       " 'maranatha',\n",
       " 'masikilizano',\n",
       " 'masisi',\n",
       " 'matanda',\n",
       " 'matendo',\n",
       " 'matolu',\n",
       " 'matumaini',\n",
       " 'mavuno',\n",
       " 'mawato',\n",
       " 'metanoia',\n",
       " 'mgr guido',\n",
       " 'mgr henri pierrard',\n",
       " 'mgr kataliko',\n",
       " 'mikeno islamique',\n",
       " 'mikeno nc',\n",
       " 'milima',\n",
       " 'mont caemel',\n",
       " 'mont sinai',\n",
       " 'moria',\n",
       " 'moyo safi',\n",
       " 'muhini',\n",
       " 'mukaba',\n",
       " 'mululusake',\n",
       " 'mushere',\n",
       " 'mwanga',\n",
       " 'mwanga/ uvira',\n",
       " 'namurera',\n",
       " 'ndahura',\n",
       " 'ndosho',\n",
       " 'neema kwetu',\n",
       " 'nengapeta',\n",
       " 'ngoma',\n",
       " 'notre dame olame',\n",
       " 'nyabushongo',\n",
       " 'nyakasaza',\n",
       " 'nyamukola',\n",
       " 'pain de vie',\n",
       " 'pilote de katana',\n",
       " 'rambo',\n",
       " 'saint andre',\n",
       " 'saint marc',\n",
       " 'saint michel',\n",
       " 'saint paul',\n",
       " 'sainte ursule',\n",
       " 'savana',\n",
       " 'savana school',\n",
       " 'sayuni',\n",
       " 'shalom',\n",
       " 'shaloom',\n",
       " 'st etienne',\n",
       " 'st joseph',\n",
       " 'tabiti',\n",
       " 'techn. f. maendeleo',\n",
       " 'technique mapendano',\n",
       " 'thabiti',\n",
       " 'tisiesi',\n",
       " 'tobongisa',\n",
       " 'totoro',\n",
       " 'tumba',\n",
       " 'tupendane',\n",
       " 'tupendane fec',\n",
       " 'tuungane',\n",
       " 'uenezaji',\n",
       " 'uhuru',\n",
       " 'uzima',\n",
       " 'veronique',\n",
       " 'virunga',\n",
       " 'virunga/quartier',\n",
       " 'visoke',\n",
       " 'vungi',\n",
       " 'weza',\n",
       " 'wima',\n",
       " 'zanner',\n",
       " 'zawadi ya raisi',\n",
       " 'ziwa kivu']"
      ]
     },
     "execution_count": 59,
     "metadata": {},
     "output_type": "execute_result"
    }
   ],
   "source": [
    "sorted(SatusWrong)"
   ]
  },
  {
   "cell_type": "code",
   "execution_count": 60,
   "metadata": {
    "scrolled": false
   },
   "outputs": [
    {
     "data": {
      "text/plain": [
       "'protestant'"
      ]
     },
     "execution_count": 60,
     "metadata": {},
     "output_type": "execute_result"
    }
   ],
   "source": [
    "list(schoolVsStatusOk.loc[schoolVsStatusOk.SCHOOL_RIGHT=='zanner']['SCHOOLSTATUS'])[0]"
   ]
  },
  {
   "cell_type": "code",
   "execution_count": 271,
   "metadata": {
    "collapsed": true
   },
   "outputs": [],
   "source": [
    "SCHOOLSTATUS=pd.DataFrame(dataset.SCHOOLSTATUS,index=dataset.index)"
   ]
  },
  {
   "cell_type": "code",
   "execution_count": 61,
   "metadata": {
    "collapsed": true
   },
   "outputs": [],
   "source": [
    "datasetWithScOK=pd.DataFrame(columns=dataset.columns)"
   ]
  },
  {
   "cell_type": "code",
   "execution_count": 62,
   "metadata": {},
   "outputs": [
    {
     "data": {
      "text/plain": [
       "0"
      ]
     },
     "execution_count": 62,
     "metadata": {},
     "output_type": "execute_result"
    }
   ],
   "source": [
    "len(datasetWithScOK)"
   ]
  },
  {
   "cell_type": "code",
   "execution_count": null,
   "metadata": {
    "collapsed": true
   },
   "outputs": [],
   "source": [
    ".fillna(list(schoolVsStatusOk.loc[schoolVsStatusOk.SCHOOL_RIGHT=='zanner']['SCHOOLSTATUS'])[0],inplace=True)"
   ]
  },
  {
   "cell_type": "code",
   "execution_count": 305,
   "metadata": {},
   "outputs": [
    {
     "data": {
      "text/html": [
       "<div>\n",
       "<table border=\"1\" class=\"dataframe\">\n",
       "  <thead>\n",
       "    <tr style=\"text-align: right;\">\n",
       "      <th></th>\n",
       "      <th>Unnamed: 0</th>\n",
       "      <th>Unnamed: 0.1</th>\n",
       "      <th>DIPLOMSECTION</th>\n",
       "      <th>DIPLOMOPTION</th>\n",
       "      <th>SCHOOL</th>\n",
       "      <th>SCHOOLSTATUS</th>\n",
       "      <th>SCHOOL_CORRECT</th>\n",
       "      <th>SCHOOL_RIGHT</th>\n",
       "      <th>OPTION</th>\n",
       "    </tr>\n",
       "  </thead>\n",
       "  <tbody>\n",
       "    <tr>\n",
       "      <th>507</th>\n",
       "      <td>507</td>\n",
       "      <td>507</td>\n",
       "      <td>TECH</td>\n",
       "      <td>sociale</td>\n",
       "      <td>kalangala</td>\n",
       "      <td>publique</td>\n",
       "      <td>kalangala</td>\n",
       "      <td>kalangala</td>\n",
       "      <td>sociale</td>\n",
       "    </tr>\n",
       "    <tr>\n",
       "      <th>3740</th>\n",
       "      <td>3740</td>\n",
       "      <td>3740</td>\n",
       "      <td>Pédagogique</td>\n",
       "      <td>pédagogie générale</td>\n",
       "      <td>kalangala</td>\n",
       "      <td>publique</td>\n",
       "      <td>kalangala</td>\n",
       "      <td>kalangala</td>\n",
       "      <td>pedagogie</td>\n",
       "    </tr>\n",
       "    <tr>\n",
       "      <th>4618</th>\n",
       "      <td>4618</td>\n",
       "      <td>4618</td>\n",
       "      <td>PEDAGOGIE</td>\n",
       "      <td>pedagogie generale</td>\n",
       "      <td>institut kalangala</td>\n",
       "      <td>publique</td>\n",
       "      <td>kalangala</td>\n",
       "      <td>kalangala</td>\n",
       "      <td>pedagogie</td>\n",
       "    </tr>\n",
       "  </tbody>\n",
       "</table>\n",
       "</div>"
      ],
      "text/plain": [
       "      Unnamed: 0  Unnamed: 0.1 DIPLOMSECTION        DIPLOMOPTION  \\\n",
       "507          507           507          TECH             sociale   \n",
       "3740        3740          3740   Pédagogique  pédagogie générale   \n",
       "4618        4618          4618     PEDAGOGIE  pedagogie generale   \n",
       "\n",
       "                  SCHOOL SCHOOLSTATUS SCHOOL_CORRECT SCHOOL_RIGHT     OPTION  \n",
       "507            kalangala     publique      kalangala    kalangala    sociale  \n",
       "3740           kalangala     publique      kalangala    kalangala  pedagogie  \n",
       "4618  institut kalangala     publique      kalangala    kalangala  pedagogie  "
      ]
     },
     "execution_count": 305,
     "metadata": {},
     "output_type": "execute_result"
    }
   ],
   "source": [
    "Y"
   ]
  },
  {
   "cell_type": "code",
   "execution_count": 63,
   "metadata": {
    "collapsed": true
   },
   "outputs": [],
   "source": [
    "for x in SatusWrong:\n",
    "    correctV=list(schoolVsStatusOk.loc[schoolVsStatusOk.SCHOOL_RIGHT==x]['SCHOOLSTATUS'])[0]\n",
    "    Y=dataset.loc[dataset.SCHOOL_RIGHT==x].fillna(correctV)\n",
    "    datasetWithScOK=datasetWithScOK.append(Y)"
   ]
  },
  {
   "cell_type": "code",
   "execution_count": 64,
   "metadata": {
    "scrolled": false
   },
   "outputs": [
    {
     "data": {
      "text/plain": [
       "808"
      ]
     },
     "execution_count": 64,
     "metadata": {},
     "output_type": "execute_result"
    }
   ],
   "source": [
    "len(dataset)-len(datasetWithScOK)"
   ]
  },
  {
   "cell_type": "code",
   "execution_count": 207,
   "metadata": {},
   "outputs": [
    {
     "data": {
      "text/plain": [
       "589"
      ]
     },
     "execution_count": 207,
     "metadata": {},
     "output_type": "execute_result"
    }
   ],
   "source": [
    "len(dataset.SCHOOL_RIGHT.value_counts())"
   ]
  },
  {
   "cell_type": "code",
   "execution_count": 65,
   "metadata": {},
   "outputs": [
    {
     "data": {
      "text/html": [
       "<div>\n",
       "<table border=\"1\" class=\"dataframe\">\n",
       "  <thead>\n",
       "    <tr style=\"text-align: right;\">\n",
       "      <th></th>\n",
       "      <th>IDENTIFICATION</th>\n",
       "      <th>DIPLOMSECTION</th>\n",
       "      <th>DIPLOMOPTION</th>\n",
       "      <th>SCHOOL</th>\n",
       "      <th>SCHOOLSTATUS</th>\n",
       "      <th>SCHOOL_CORRECT</th>\n",
       "      <th>SCHOOL_RIGHT</th>\n",
       "      <th>OPTION</th>\n",
       "    </tr>\n",
       "  </thead>\n",
       "  <tbody>\n",
       "    <tr>\n",
       "      <th>161</th>\n",
       "      <td>3895</td>\n",
       "      <td>TECHN</td>\n",
       "      <td>ca</td>\n",
       "      <td>i zanner</td>\n",
       "      <td>NaN</td>\n",
       "      <td>zanner</td>\n",
       "      <td>zanner</td>\n",
       "      <td>commmerciale et adm</td>\n",
       "    </tr>\n",
       "    <tr>\n",
       "      <th>192</th>\n",
       "      <td>4048</td>\n",
       "      <td>TECH</td>\n",
       "      <td>ca</td>\n",
       "      <td>inst zanner</td>\n",
       "      <td>NaN</td>\n",
       "      <td>zanner</td>\n",
       "      <td>zanner</td>\n",
       "      <td>commmerciale et adm</td>\n",
       "    </tr>\n",
       "    <tr>\n",
       "      <th>233</th>\n",
       "      <td>4217</td>\n",
       "      <td>TEC</td>\n",
       "      <td>ca</td>\n",
       "      <td>zanner</td>\n",
       "      <td>NaN</td>\n",
       "      <td>zanner</td>\n",
       "      <td>zanner</td>\n",
       "      <td>commmerciale et adm</td>\n",
       "    </tr>\n",
       "    <tr>\n",
       "      <th>292</th>\n",
       "      <td>4347</td>\n",
       "      <td>TEC</td>\n",
       "      <td>ca</td>\n",
       "      <td>zanner</td>\n",
       "      <td>NaN</td>\n",
       "      <td>zanner</td>\n",
       "      <td>zanner</td>\n",
       "      <td>commmerciale et adm</td>\n",
       "    </tr>\n",
       "    <tr>\n",
       "      <th>330</th>\n",
       "      <td>4409</td>\n",
       "      <td>TEC</td>\n",
       "      <td>ca</td>\n",
       "      <td>zanner</td>\n",
       "      <td>NaN</td>\n",
       "      <td>zanner</td>\n",
       "      <td>zanner</td>\n",
       "      <td>commmerciale et adm</td>\n",
       "    </tr>\n",
       "    <tr>\n",
       "      <th>364</th>\n",
       "      <td>4473</td>\n",
       "      <td>TEC</td>\n",
       "      <td>ca</td>\n",
       "      <td>zanner</td>\n",
       "      <td>NaN</td>\n",
       "      <td>zanner</td>\n",
       "      <td>zanner</td>\n",
       "      <td>commmerciale et adm</td>\n",
       "    </tr>\n",
       "    <tr>\n",
       "      <th>433</th>\n",
       "      <td>4627</td>\n",
       "      <td>LIT</td>\n",
       "      <td>lp</td>\n",
       "      <td>zanner</td>\n",
       "      <td>NaN</td>\n",
       "      <td>zanner</td>\n",
       "      <td>zanner</td>\n",
       "      <td>latin philo</td>\n",
       "    </tr>\n",
       "    <tr>\n",
       "      <th>447</th>\n",
       "      <td>4649</td>\n",
       "      <td>LIT</td>\n",
       "      <td>lp</td>\n",
       "      <td>zanner</td>\n",
       "      <td>NaN</td>\n",
       "      <td>zanner</td>\n",
       "      <td>zanner</td>\n",
       "      <td>latin philo</td>\n",
       "    </tr>\n",
       "    <tr>\n",
       "      <th>455</th>\n",
       "      <td>4667</td>\n",
       "      <td>LIT</td>\n",
       "      <td>lp</td>\n",
       "      <td>zanner</td>\n",
       "      <td>NaN</td>\n",
       "      <td>zanner</td>\n",
       "      <td>zanner</td>\n",
       "      <td>latin philo</td>\n",
       "    </tr>\n",
       "    <tr>\n",
       "      <th>458</th>\n",
       "      <td>4670</td>\n",
       "      <td>LITT</td>\n",
       "      <td>lp</td>\n",
       "      <td>zanner</td>\n",
       "      <td>NaN</td>\n",
       "      <td>zanner</td>\n",
       "      <td>zanner</td>\n",
       "      <td>latin philo</td>\n",
       "    </tr>\n",
       "    <tr>\n",
       "      <th>459</th>\n",
       "      <td>4671</td>\n",
       "      <td>TECH</td>\n",
       "      <td>ca</td>\n",
       "      <td>zanner</td>\n",
       "      <td>NaN</td>\n",
       "      <td>zanner</td>\n",
       "      <td>zanner</td>\n",
       "      <td>commmerciale et adm</td>\n",
       "    </tr>\n",
       "    <tr>\n",
       "      <th>516</th>\n",
       "      <td>4799</td>\n",
       "      <td>LIT</td>\n",
       "      <td>lp</td>\n",
       "      <td>zanner</td>\n",
       "      <td>NaN</td>\n",
       "      <td>zanner</td>\n",
       "      <td>zanner</td>\n",
       "      <td>latin philo</td>\n",
       "    </tr>\n",
       "    <tr>\n",
       "      <th>517</th>\n",
       "      <td>4800</td>\n",
       "      <td>LIT</td>\n",
       "      <td>lp</td>\n",
       "      <td>zanner</td>\n",
       "      <td>NaN</td>\n",
       "      <td>zanner</td>\n",
       "      <td>zanner</td>\n",
       "      <td>latin philo</td>\n",
       "    </tr>\n",
       "    <tr>\n",
       "      <th>622</th>\n",
       "      <td>5051</td>\n",
       "      <td>LIT</td>\n",
       "      <td>lp</td>\n",
       "      <td>zanner</td>\n",
       "      <td>NaN</td>\n",
       "      <td>zanner</td>\n",
       "      <td>zanner</td>\n",
       "      <td>latin philo</td>\n",
       "    </tr>\n",
       "    <tr>\n",
       "      <th>713</th>\n",
       "      <td>5718</td>\n",
       "      <td>TEC</td>\n",
       "      <td>ca</td>\n",
       "      <td>zanner</td>\n",
       "      <td>NaN</td>\n",
       "      <td>zanner</td>\n",
       "      <td>zanner</td>\n",
       "      <td>commmerciale et adm</td>\n",
       "    </tr>\n",
       "    <tr>\n",
       "      <th>747</th>\n",
       "      <td>6141</td>\n",
       "      <td>TEC</td>\n",
       "      <td>ca</td>\n",
       "      <td>zanner</td>\n",
       "      <td>NaN</td>\n",
       "      <td>zanner</td>\n",
       "      <td>zanner</td>\n",
       "      <td>commmerciale et adm</td>\n",
       "    </tr>\n",
       "    <tr>\n",
       "      <th>786</th>\n",
       "      <td>6235</td>\n",
       "      <td>TEC</td>\n",
       "      <td>ca</td>\n",
       "      <td>zanner</td>\n",
       "      <td>NaN</td>\n",
       "      <td>zanner</td>\n",
       "      <td>zanner</td>\n",
       "      <td>commmerciale et adm</td>\n",
       "    </tr>\n",
       "    <tr>\n",
       "      <th>787</th>\n",
       "      <td>6236</td>\n",
       "      <td>TEC</td>\n",
       "      <td>ca</td>\n",
       "      <td>zanner</td>\n",
       "      <td>NaN</td>\n",
       "      <td>zanner</td>\n",
       "      <td>zanner</td>\n",
       "      <td>commmerciale et adm</td>\n",
       "    </tr>\n",
       "    <tr>\n",
       "      <th>958</th>\n",
       "      <td>6569</td>\n",
       "      <td>LIT</td>\n",
       "      <td>lp</td>\n",
       "      <td>zanner</td>\n",
       "      <td>NaN</td>\n",
       "      <td>zanner</td>\n",
       "      <td>zanner</td>\n",
       "      <td>latin philo</td>\n",
       "    </tr>\n",
       "    <tr>\n",
       "      <th>1211</th>\n",
       "      <td>7213</td>\n",
       "      <td>LIT</td>\n",
       "      <td>lp</td>\n",
       "      <td>zanner</td>\n",
       "      <td>NaN</td>\n",
       "      <td>zanner</td>\n",
       "      <td>zanner</td>\n",
       "      <td>latin philo</td>\n",
       "    </tr>\n",
       "    <tr>\n",
       "      <th>1291</th>\n",
       "      <td>7365</td>\n",
       "      <td>LIT</td>\n",
       "      <td>lp</td>\n",
       "      <td>zanner</td>\n",
       "      <td>NaN</td>\n",
       "      <td>zanner</td>\n",
       "      <td>zanner</td>\n",
       "      <td>latin philo</td>\n",
       "    </tr>\n",
       "    <tr>\n",
       "      <th>1445</th>\n",
       "      <td>7722</td>\n",
       "      <td>TEC</td>\n",
       "      <td>ca</td>\n",
       "      <td>zanner</td>\n",
       "      <td>NaN</td>\n",
       "      <td>zanner</td>\n",
       "      <td>zanner</td>\n",
       "      <td>commmerciale et adm</td>\n",
       "    </tr>\n",
       "    <tr>\n",
       "      <th>1543</th>\n",
       "      <td>8115</td>\n",
       "      <td>TECHNIQUE</td>\n",
       "      <td>commerciale administrative</td>\n",
       "      <td>zanner</td>\n",
       "      <td>NaN</td>\n",
       "      <td>zanner</td>\n",
       "      <td>zanner</td>\n",
       "      <td>commmerciale et adm</td>\n",
       "    </tr>\n",
       "    <tr>\n",
       "      <th>1650</th>\n",
       "      <td>8247</td>\n",
       "      <td>LITERRAIRE</td>\n",
       "      <td>latin philo</td>\n",
       "      <td>zanner</td>\n",
       "      <td>NaN</td>\n",
       "      <td>zanner</td>\n",
       "      <td>zanner</td>\n",
       "      <td>latin philo</td>\n",
       "    </tr>\n",
       "    <tr>\n",
       "      <th>1677</th>\n",
       "      <td>8281</td>\n",
       "      <td>TECHNIQUE</td>\n",
       "      <td>commerciale administrative</td>\n",
       "      <td>zanner</td>\n",
       "      <td>NaN</td>\n",
       "      <td>zanner</td>\n",
       "      <td>zanner</td>\n",
       "      <td>commmerciale et adm</td>\n",
       "    </tr>\n",
       "    <tr>\n",
       "      <th>1724</th>\n",
       "      <td>8345</td>\n",
       "      <td>Littéraire</td>\n",
       "      <td>latin philo</td>\n",
       "      <td>zanner</td>\n",
       "      <td>NaN</td>\n",
       "      <td>zanner</td>\n",
       "      <td>zanner</td>\n",
       "      <td>latin philo</td>\n",
       "    </tr>\n",
       "    <tr>\n",
       "      <th>1750</th>\n",
       "      <td>8379</td>\n",
       "      <td>Technique</td>\n",
       "      <td>commerciale administrative</td>\n",
       "      <td>zanner</td>\n",
       "      <td>NaN</td>\n",
       "      <td>zanner</td>\n",
       "      <td>zanner</td>\n",
       "      <td>commmerciale et adm</td>\n",
       "    </tr>\n",
       "    <tr>\n",
       "      <th>1790</th>\n",
       "      <td>8431</td>\n",
       "      <td>LITERRAIRE</td>\n",
       "      <td>latin philo</td>\n",
       "      <td>zanner</td>\n",
       "      <td>NaN</td>\n",
       "      <td>zanner</td>\n",
       "      <td>zanner</td>\n",
       "      <td>latin philo</td>\n",
       "    </tr>\n",
       "    <tr>\n",
       "      <th>2073</th>\n",
       "      <td>8875</td>\n",
       "      <td>Technique</td>\n",
       "      <td>commerciale administrative</td>\n",
       "      <td>zanner</td>\n",
       "      <td>NaN</td>\n",
       "      <td>zanner</td>\n",
       "      <td>zanner</td>\n",
       "      <td>commmerciale et adm</td>\n",
       "    </tr>\n",
       "    <tr>\n",
       "      <th>2119</th>\n",
       "      <td>8922</td>\n",
       "      <td>Littéraire</td>\n",
       "      <td>latin philo</td>\n",
       "      <td>zanner</td>\n",
       "      <td>NaN</td>\n",
       "      <td>zanner</td>\n",
       "      <td>zanner</td>\n",
       "      <td>latin philo</td>\n",
       "    </tr>\n",
       "    <tr>\n",
       "      <th>...</th>\n",
       "      <td>...</td>\n",
       "      <td>...</td>\n",
       "      <td>...</td>\n",
       "      <td>...</td>\n",
       "      <td>...</td>\n",
       "      <td>...</td>\n",
       "      <td>...</td>\n",
       "      <td>...</td>\n",
       "    </tr>\n",
       "    <tr>\n",
       "      <th>2680</th>\n",
       "      <td>9535</td>\n",
       "      <td>Pédagogique</td>\n",
       "      <td>pédagogie générale</td>\n",
       "      <td>bulema</td>\n",
       "      <td>NaN</td>\n",
       "      <td>bulema</td>\n",
       "      <td>bulera</td>\n",
       "      <td>pedagogie</td>\n",
       "    </tr>\n",
       "    <tr>\n",
       "      <th>2689</th>\n",
       "      <td>9545</td>\n",
       "      <td>Littéraire</td>\n",
       "      <td>latin philo</td>\n",
       "      <td>bihira</td>\n",
       "      <td>NaN</td>\n",
       "      <td>bihira</td>\n",
       "      <td>bulera</td>\n",
       "      <td>latin philo</td>\n",
       "    </tr>\n",
       "    <tr>\n",
       "      <th>2700</th>\n",
       "      <td>9556</td>\n",
       "      <td>Pédagogique</td>\n",
       "      <td>pédagogie générale</td>\n",
       "      <td>buturande</td>\n",
       "      <td>NaN</td>\n",
       "      <td>buturande</td>\n",
       "      <td>bulera</td>\n",
       "      <td>pedagogie</td>\n",
       "    </tr>\n",
       "    <tr>\n",
       "      <th>3282</th>\n",
       "      <td>10298</td>\n",
       "      <td>Pédagogique</td>\n",
       "      <td>pédagogie générale</td>\n",
       "      <td>bihira</td>\n",
       "      <td>NaN</td>\n",
       "      <td>bihira</td>\n",
       "      <td>bulera</td>\n",
       "      <td>pedagogie</td>\n",
       "    </tr>\n",
       "    <tr>\n",
       "      <th>3346</th>\n",
       "      <td>10368</td>\n",
       "      <td>Pédagogique</td>\n",
       "      <td>pédagogie générale</td>\n",
       "      <td>bwegera</td>\n",
       "      <td>NaN</td>\n",
       "      <td>bwegera</td>\n",
       "      <td>bulera</td>\n",
       "      <td>pedagogie</td>\n",
       "    </tr>\n",
       "    <tr>\n",
       "      <th>3600</th>\n",
       "      <td>10646</td>\n",
       "      <td>Pédagogique</td>\n",
       "      <td>pédagogie générale</td>\n",
       "      <td>buturande</td>\n",
       "      <td>NaN</td>\n",
       "      <td>buturande</td>\n",
       "      <td>bulera</td>\n",
       "      <td>pedagogie</td>\n",
       "    </tr>\n",
       "    <tr>\n",
       "      <th>4143</th>\n",
       "      <td>11583</td>\n",
       "      <td>PEDAGOGIE</td>\n",
       "      <td>pedagogie generale</td>\n",
       "      <td>institut bihira</td>\n",
       "      <td>musulman</td>\n",
       "      <td>bihira</td>\n",
       "      <td>bulera</td>\n",
       "      <td>pedagogie</td>\n",
       "    </tr>\n",
       "    <tr>\n",
       "      <th>4154</th>\n",
       "      <td>11595</td>\n",
       "      <td>PEDAGOGIE</td>\n",
       "      <td>pedagogie generale</td>\n",
       "      <td>institut bulege</td>\n",
       "      <td>kimbanguiste</td>\n",
       "      <td>bulege</td>\n",
       "      <td>bulera</td>\n",
       "      <td>pedagogie</td>\n",
       "    </tr>\n",
       "    <tr>\n",
       "      <th>4441</th>\n",
       "      <td>11906</td>\n",
       "      <td>TECHNIQUE</td>\n",
       "      <td>sociale</td>\n",
       "      <td>institut busenyerwa</td>\n",
       "      <td>protestant</td>\n",
       "      <td>busenyerwa</td>\n",
       "      <td>bulera</td>\n",
       "      <td>sociale</td>\n",
       "    </tr>\n",
       "    <tr>\n",
       "      <th>77</th>\n",
       "      <td>3617</td>\n",
       "      <td>PEDAGOGIEQUE</td>\n",
       "      <td>peda generale</td>\n",
       "      <td>institut fadhili</td>\n",
       "      <td>NaN</td>\n",
       "      <td>fadhili</td>\n",
       "      <td>fadhili</td>\n",
       "      <td>pedagogie</td>\n",
       "    </tr>\n",
       "    <tr>\n",
       "      <th>446</th>\n",
       "      <td>4648</td>\n",
       "      <td>PED</td>\n",
       "      <td>pg</td>\n",
       "      <td>fadhili</td>\n",
       "      <td>NaN</td>\n",
       "      <td>fadhili</td>\n",
       "      <td>fadhili</td>\n",
       "      <td>pedagogie</td>\n",
       "    </tr>\n",
       "    <tr>\n",
       "      <th>656</th>\n",
       "      <td>5177</td>\n",
       "      <td>PED</td>\n",
       "      <td>pg</td>\n",
       "      <td>fadhili</td>\n",
       "      <td>NaN</td>\n",
       "      <td>fadhili</td>\n",
       "      <td>fadhili</td>\n",
       "      <td>pedagogie</td>\n",
       "    </tr>\n",
       "    <tr>\n",
       "      <th>808</th>\n",
       "      <td>6285</td>\n",
       "      <td>SC</td>\n",
       "      <td>bc</td>\n",
       "      <td>fadhili</td>\n",
       "      <td>NaN</td>\n",
       "      <td>fadhili</td>\n",
       "      <td>fadhili</td>\n",
       "      <td>bio-chimie</td>\n",
       "    </tr>\n",
       "    <tr>\n",
       "      <th>1016</th>\n",
       "      <td>6706</td>\n",
       "      <td>PED</td>\n",
       "      <td>pg</td>\n",
       "      <td>fadhili</td>\n",
       "      <td>NaN</td>\n",
       "      <td>fadhili</td>\n",
       "      <td>fadhili</td>\n",
       "      <td>pedagogie</td>\n",
       "    </tr>\n",
       "    <tr>\n",
       "      <th>1406</th>\n",
       "      <td>7641</td>\n",
       "      <td>SC</td>\n",
       "      <td>bc</td>\n",
       "      <td>fadhili</td>\n",
       "      <td>NaN</td>\n",
       "      <td>fadhili</td>\n",
       "      <td>fadhili</td>\n",
       "      <td>bio-chimie</td>\n",
       "    </tr>\n",
       "    <tr>\n",
       "      <th>1418</th>\n",
       "      <td>7666</td>\n",
       "      <td>SC</td>\n",
       "      <td>bc</td>\n",
       "      <td>fadhili</td>\n",
       "      <td>NaN</td>\n",
       "      <td>fadhili</td>\n",
       "      <td>fadhili</td>\n",
       "      <td>bio-chimie</td>\n",
       "    </tr>\n",
       "    <tr>\n",
       "      <th>1915</th>\n",
       "      <td>8612</td>\n",
       "      <td>Pédagogique</td>\n",
       "      <td>pédagogie générale</td>\n",
       "      <td>fadhili</td>\n",
       "      <td>NaN</td>\n",
       "      <td>fadhili</td>\n",
       "      <td>fadhili</td>\n",
       "      <td>pedagogie</td>\n",
       "    </tr>\n",
       "    <tr>\n",
       "      <th>1942</th>\n",
       "      <td>8646</td>\n",
       "      <td>Pédagogique</td>\n",
       "      <td>pédagogie générale</td>\n",
       "      <td>fadhili</td>\n",
       "      <td>NaN</td>\n",
       "      <td>fadhili</td>\n",
       "      <td>fadhili</td>\n",
       "      <td>pedagogie</td>\n",
       "    </tr>\n",
       "    <tr>\n",
       "      <th>2089</th>\n",
       "      <td>8892</td>\n",
       "      <td>Pédagogique</td>\n",
       "      <td>pédagogie générale</td>\n",
       "      <td>fadhili</td>\n",
       "      <td>NaN</td>\n",
       "      <td>fadhili</td>\n",
       "      <td>fadhili</td>\n",
       "      <td>pedagogie</td>\n",
       "    </tr>\n",
       "    <tr>\n",
       "      <th>2143</th>\n",
       "      <td>8948</td>\n",
       "      <td>Pédagogique</td>\n",
       "      <td>pédagogie générale</td>\n",
       "      <td>fadhili</td>\n",
       "      <td>NaN</td>\n",
       "      <td>fadhili</td>\n",
       "      <td>fadhili</td>\n",
       "      <td>pedagogie</td>\n",
       "    </tr>\n",
       "    <tr>\n",
       "      <th>2664</th>\n",
       "      <td>9518</td>\n",
       "      <td>Scientifique</td>\n",
       "      <td>biologie chimie</td>\n",
       "      <td>fadhili</td>\n",
       "      <td>NaN</td>\n",
       "      <td>fadhili</td>\n",
       "      <td>fadhili</td>\n",
       "      <td>bio-chimie</td>\n",
       "    </tr>\n",
       "    <tr>\n",
       "      <th>2687</th>\n",
       "      <td>9543</td>\n",
       "      <td>Pédagogique</td>\n",
       "      <td>pédagogie générale</td>\n",
       "      <td>fadhili</td>\n",
       "      <td>NaN</td>\n",
       "      <td>fadhili</td>\n",
       "      <td>fadhili</td>\n",
       "      <td>pedagogie</td>\n",
       "    </tr>\n",
       "    <tr>\n",
       "      <th>3097</th>\n",
       "      <td>10106</td>\n",
       "      <td>Scientifique</td>\n",
       "      <td>biologie chimie</td>\n",
       "      <td>fadhili</td>\n",
       "      <td>NaN</td>\n",
       "      <td>fadhili</td>\n",
       "      <td>fadhili</td>\n",
       "      <td>bio-chimie</td>\n",
       "    </tr>\n",
       "    <tr>\n",
       "      <th>3684</th>\n",
       "      <td>10732</td>\n",
       "      <td>Pédagogique</td>\n",
       "      <td>pédagogie générale</td>\n",
       "      <td>fadhili</td>\n",
       "      <td>NaN</td>\n",
       "      <td>fadhili</td>\n",
       "      <td>fadhili</td>\n",
       "      <td>pedagogie</td>\n",
       "    </tr>\n",
       "    <tr>\n",
       "      <th>3801</th>\n",
       "      <td>10852</td>\n",
       "      <td>Pédagogique</td>\n",
       "      <td>pédagogie générale</td>\n",
       "      <td>fadhili</td>\n",
       "      <td>NaN</td>\n",
       "      <td>fadhili</td>\n",
       "      <td>fadhili</td>\n",
       "      <td>pedagogie</td>\n",
       "    </tr>\n",
       "    <tr>\n",
       "      <th>4172</th>\n",
       "      <td>11614</td>\n",
       "      <td>PEDAGOGIE</td>\n",
       "      <td>pedagogie generale</td>\n",
       "      <td>institut fadhili</td>\n",
       "      <td>publique</td>\n",
       "      <td>fadhili</td>\n",
       "      <td>fadhili</td>\n",
       "      <td>pedagogie</td>\n",
       "    </tr>\n",
       "    <tr>\n",
       "      <th>4352</th>\n",
       "      <td>11806</td>\n",
       "      <td>PEDAGOGIE</td>\n",
       "      <td>pedagogie generale</td>\n",
       "      <td>institut fadhili</td>\n",
       "      <td>protestant</td>\n",
       "      <td>fadhili</td>\n",
       "      <td>fadhili</td>\n",
       "      <td>pedagogie</td>\n",
       "    </tr>\n",
       "    <tr>\n",
       "      <th>507</th>\n",
       "      <td>4783</td>\n",
       "      <td>TECH</td>\n",
       "      <td>sociale</td>\n",
       "      <td>kalangala</td>\n",
       "      <td>NaN</td>\n",
       "      <td>kalangala</td>\n",
       "      <td>kalangala</td>\n",
       "      <td>sociale</td>\n",
       "    </tr>\n",
       "    <tr>\n",
       "      <th>3740</th>\n",
       "      <td>10789</td>\n",
       "      <td>Pédagogique</td>\n",
       "      <td>pédagogie générale</td>\n",
       "      <td>kalangala</td>\n",
       "      <td>NaN</td>\n",
       "      <td>kalangala</td>\n",
       "      <td>kalangala</td>\n",
       "      <td>pedagogie</td>\n",
       "    </tr>\n",
       "    <tr>\n",
       "      <th>4618</th>\n",
       "      <td>12149</td>\n",
       "      <td>PEDAGOGIE</td>\n",
       "      <td>pedagogie generale</td>\n",
       "      <td>institut kalangala</td>\n",
       "      <td>publique</td>\n",
       "      <td>kalangala</td>\n",
       "      <td>kalangala</td>\n",
       "      <td>pedagogie</td>\n",
       "    </tr>\n",
       "  </tbody>\n",
       "</table>\n",
       "<p>3907 rows × 8 columns</p>\n",
       "</div>"
      ],
      "text/plain": [
       "      IDENTIFICATION DIPLOMSECTION                DIPLOMOPTION  \\\n",
       "161             3895         TECHN                          ca   \n",
       "192             4048          TECH                          ca   \n",
       "233             4217           TEC                          ca   \n",
       "292             4347           TEC                          ca   \n",
       "330             4409           TEC                          ca   \n",
       "364             4473           TEC                          ca   \n",
       "433             4627           LIT                          lp   \n",
       "447             4649           LIT                          lp   \n",
       "455             4667           LIT                          lp   \n",
       "458             4670          LITT                          lp   \n",
       "459             4671          TECH                          ca   \n",
       "516             4799           LIT                          lp   \n",
       "517             4800           LIT                          lp   \n",
       "622             5051           LIT                          lp   \n",
       "713             5718           TEC                          ca   \n",
       "747             6141           TEC                          ca   \n",
       "786             6235           TEC                          ca   \n",
       "787             6236           TEC                          ca   \n",
       "958             6569           LIT                          lp   \n",
       "1211            7213           LIT                          lp   \n",
       "1291            7365           LIT                          lp   \n",
       "1445            7722           TEC                          ca   \n",
       "1543            8115     TECHNIQUE  commerciale administrative   \n",
       "1650            8247    LITERRAIRE                 latin philo   \n",
       "1677            8281     TECHNIQUE  commerciale administrative   \n",
       "1724            8345    Littéraire                 latin philo   \n",
       "1750            8379     Technique  commerciale administrative   \n",
       "1790            8431    LITERRAIRE                 latin philo   \n",
       "2073            8875     Technique  commerciale administrative   \n",
       "2119            8922    Littéraire                 latin philo   \n",
       "...              ...           ...                         ...   \n",
       "2680            9535   Pédagogique          pédagogie générale   \n",
       "2689            9545    Littéraire                 latin philo   \n",
       "2700            9556   Pédagogique          pédagogie générale   \n",
       "3282           10298   Pédagogique          pédagogie générale   \n",
       "3346           10368   Pédagogique          pédagogie générale   \n",
       "3600           10646   Pédagogique          pédagogie générale   \n",
       "4143           11583     PEDAGOGIE          pedagogie generale   \n",
       "4154           11595     PEDAGOGIE          pedagogie generale   \n",
       "4441           11906     TECHNIQUE                     sociale   \n",
       "77              3617  PEDAGOGIEQUE               peda generale   \n",
       "446             4648           PED                          pg   \n",
       "656             5177           PED                          pg   \n",
       "808             6285            SC                          bc   \n",
       "1016            6706           PED                          pg   \n",
       "1406            7641            SC                          bc   \n",
       "1418            7666            SC                          bc   \n",
       "1915            8612   Pédagogique          pédagogie générale   \n",
       "1942            8646   Pédagogique          pédagogie générale   \n",
       "2089            8892   Pédagogique          pédagogie générale   \n",
       "2143            8948   Pédagogique          pédagogie générale   \n",
       "2664            9518  Scientifique             biologie chimie   \n",
       "2687            9543   Pédagogique          pédagogie générale   \n",
       "3097           10106  Scientifique             biologie chimie   \n",
       "3684           10732   Pédagogique          pédagogie générale   \n",
       "3801           10852   Pédagogique          pédagogie générale   \n",
       "4172           11614     PEDAGOGIE          pedagogie generale   \n",
       "4352           11806     PEDAGOGIE          pedagogie generale   \n",
       "507             4783          TECH                     sociale   \n",
       "3740           10789   Pédagogique          pédagogie générale   \n",
       "4618           12149     PEDAGOGIE          pedagogie generale   \n",
       "\n",
       "                   SCHOOL  SCHOOLSTATUS SCHOOL_CORRECT SCHOOL_RIGHT  \\\n",
       "161              i zanner           NaN         zanner       zanner   \n",
       "192           inst zanner           NaN         zanner       zanner   \n",
       "233                zanner           NaN         zanner       zanner   \n",
       "292                zanner           NaN         zanner       zanner   \n",
       "330                zanner           NaN         zanner       zanner   \n",
       "364                zanner           NaN         zanner       zanner   \n",
       "433                zanner           NaN         zanner       zanner   \n",
       "447                zanner           NaN         zanner       zanner   \n",
       "455                zanner           NaN         zanner       zanner   \n",
       "458                zanner           NaN         zanner       zanner   \n",
       "459                zanner           NaN         zanner       zanner   \n",
       "516                zanner           NaN         zanner       zanner   \n",
       "517                zanner           NaN         zanner       zanner   \n",
       "622                zanner           NaN         zanner       zanner   \n",
       "713                zanner           NaN         zanner       zanner   \n",
       "747                zanner           NaN         zanner       zanner   \n",
       "786                zanner           NaN         zanner       zanner   \n",
       "787                zanner           NaN         zanner       zanner   \n",
       "958                zanner           NaN         zanner       zanner   \n",
       "1211               zanner           NaN         zanner       zanner   \n",
       "1291               zanner           NaN         zanner       zanner   \n",
       "1445               zanner           NaN         zanner       zanner   \n",
       "1543               zanner           NaN         zanner       zanner   \n",
       "1650               zanner           NaN         zanner       zanner   \n",
       "1677               zanner           NaN         zanner       zanner   \n",
       "1724               zanner           NaN         zanner       zanner   \n",
       "1750               zanner           NaN         zanner       zanner   \n",
       "1790               zanner           NaN         zanner       zanner   \n",
       "2073               zanner           NaN         zanner       zanner   \n",
       "2119               zanner           NaN         zanner       zanner   \n",
       "...                   ...           ...            ...          ...   \n",
       "2680               bulema           NaN         bulema       bulera   \n",
       "2689               bihira           NaN         bihira       bulera   \n",
       "2700            buturande           NaN      buturande       bulera   \n",
       "3282               bihira           NaN         bihira       bulera   \n",
       "3346              bwegera           NaN        bwegera       bulera   \n",
       "3600            buturande           NaN      buturande       bulera   \n",
       "4143      institut bihira      musulman         bihira       bulera   \n",
       "4154      institut bulege  kimbanguiste         bulege       bulera   \n",
       "4441  institut busenyerwa    protestant     busenyerwa       bulera   \n",
       "77       institut fadhili           NaN        fadhili      fadhili   \n",
       "446               fadhili           NaN        fadhili      fadhili   \n",
       "656               fadhili           NaN        fadhili      fadhili   \n",
       "808               fadhili           NaN        fadhili      fadhili   \n",
       "1016              fadhili           NaN        fadhili      fadhili   \n",
       "1406              fadhili           NaN        fadhili      fadhili   \n",
       "1418              fadhili           NaN        fadhili      fadhili   \n",
       "1915              fadhili           NaN        fadhili      fadhili   \n",
       "1942              fadhili           NaN        fadhili      fadhili   \n",
       "2089              fadhili           NaN        fadhili      fadhili   \n",
       "2143              fadhili           NaN        fadhili      fadhili   \n",
       "2664              fadhili           NaN        fadhili      fadhili   \n",
       "2687              fadhili           NaN        fadhili      fadhili   \n",
       "3097              fadhili           NaN        fadhili      fadhili   \n",
       "3684              fadhili           NaN        fadhili      fadhili   \n",
       "3801              fadhili           NaN        fadhili      fadhili   \n",
       "4172     institut fadhili      publique        fadhili      fadhili   \n",
       "4352     institut fadhili    protestant        fadhili      fadhili   \n",
       "507             kalangala           NaN      kalangala    kalangala   \n",
       "3740            kalangala           NaN      kalangala    kalangala   \n",
       "4618   institut kalangala      publique      kalangala    kalangala   \n",
       "\n",
       "                   OPTION  \n",
       "161   commmerciale et adm  \n",
       "192   commmerciale et adm  \n",
       "233   commmerciale et adm  \n",
       "292   commmerciale et adm  \n",
       "330   commmerciale et adm  \n",
       "364   commmerciale et adm  \n",
       "433           latin philo  \n",
       "447           latin philo  \n",
       "455           latin philo  \n",
       "458           latin philo  \n",
       "459   commmerciale et adm  \n",
       "516           latin philo  \n",
       "517           latin philo  \n",
       "622           latin philo  \n",
       "713   commmerciale et adm  \n",
       "747   commmerciale et adm  \n",
       "786   commmerciale et adm  \n",
       "787   commmerciale et adm  \n",
       "958           latin philo  \n",
       "1211          latin philo  \n",
       "1291          latin philo  \n",
       "1445  commmerciale et adm  \n",
       "1543  commmerciale et adm  \n",
       "1650          latin philo  \n",
       "1677  commmerciale et adm  \n",
       "1724          latin philo  \n",
       "1750  commmerciale et adm  \n",
       "1790          latin philo  \n",
       "2073  commmerciale et adm  \n",
       "2119          latin philo  \n",
       "...                   ...  \n",
       "2680            pedagogie  \n",
       "2689          latin philo  \n",
       "2700            pedagogie  \n",
       "3282            pedagogie  \n",
       "3346            pedagogie  \n",
       "3600            pedagogie  \n",
       "4143            pedagogie  \n",
       "4154            pedagogie  \n",
       "4441              sociale  \n",
       "77              pedagogie  \n",
       "446             pedagogie  \n",
       "656             pedagogie  \n",
       "808            bio-chimie  \n",
       "1016            pedagogie  \n",
       "1406           bio-chimie  \n",
       "1418           bio-chimie  \n",
       "1915            pedagogie  \n",
       "1942            pedagogie  \n",
       "2089            pedagogie  \n",
       "2143            pedagogie  \n",
       "2664           bio-chimie  \n",
       "2687            pedagogie  \n",
       "3097           bio-chimie  \n",
       "3684            pedagogie  \n",
       "3801            pedagogie  \n",
       "4172            pedagogie  \n",
       "4352            pedagogie  \n",
       "507               sociale  \n",
       "3740            pedagogie  \n",
       "4618            pedagogie  \n",
       "\n",
       "[3907 rows x 8 columns]"
      ]
     },
     "execution_count": 65,
     "metadata": {},
     "output_type": "execute_result"
    }
   ],
   "source": [
    "dataset.loc[datasetWithScOK.index]"
   ]
  },
  {
   "cell_type": "code",
   "execution_count": 66,
   "metadata": {
    "collapsed": true
   },
   "outputs": [],
   "source": [
    "schoolStatuUnk=[]\n",
    "for x in dataset.index:\n",
    "    if x not in datasetWithScOK.index:\n",
    "        schoolStatuUnk.append(x)"
   ]
  },
  {
   "cell_type": "code",
   "execution_count": 67,
   "metadata": {},
   "outputs": [
    {
     "data": {
      "text/plain": [
       "808"
      ]
     },
     "execution_count": 67,
     "metadata": {},
     "output_type": "execute_result"
    }
   ],
   "source": [
    "len(dataset.loc[schoolStatuUnk])"
   ]
  },
  {
   "cell_type": "code",
   "execution_count": 68,
   "metadata": {
    "collapsed": true
   },
   "outputs": [],
   "source": [
    "datasetWithScOKV2=datasetWithScOK.append(dataset.loc[schoolStatuUnk])"
   ]
  },
  {
   "cell_type": "code",
   "execution_count": 69,
   "metadata": {},
   "outputs": [
    {
     "name": "stdout",
     "output_type": "stream",
     "text": [
      "<class 'pandas.core.frame.DataFrame'>\n",
      "Int64Index: 4715 entries, 161 to 4714\n",
      "Data columns (total 8 columns):\n",
      "IDENTIFICATION    4715 non-null float64\n",
      "DIPLOMSECTION     4715 non-null object\n",
      "DIPLOMOPTION      4715 non-null object\n",
      "SCHOOL            4715 non-null object\n",
      "SCHOOLSTATUS      4019 non-null object\n",
      "SCHOOL_CORRECT    4715 non-null object\n",
      "SCHOOL_RIGHT      4715 non-null object\n",
      "OPTION            4715 non-null object\n",
      "dtypes: float64(1), object(7)\n",
      "memory usage: 331.5+ KB\n"
     ]
    }
   ],
   "source": [
    "datasetWithScOKV2.info()"
   ]
  },
  {
   "cell_type": "code",
   "execution_count": 342,
   "metadata": {
    "collapsed": true
   },
   "outputs": [],
   "source": [
    "SchollWithOp=list(set(datasetWithScOKV2.loc[datasetWithScOKV2.SCHOOLSTATUS.isnull()]['SCHOOL']))"
   ]
  },
  {
   "cell_type": "code",
   "execution_count": 346,
   "metadata": {
    "scrolled": false
   },
   "outputs": [
    {
     "data": {
      "text/plain": [
       "['institut ifendula',\n",
       " 'augustino',\n",
       " 'edap/isp bukavu',\n",
       " 'kyambogho',\n",
       " 'z',\n",
       " 'macha',\n",
       " 'ecole de r\\xc3\\xa9cup\\xc3\\xa9ration de la gombe',\n",
       " 'rwabika',\n",
       " 'ujasiri',\n",
       " 'vuhika',\n",
       " 'buramba',\n",
       " 'jjardin de fleurs',\n",
       " 'complexe scolaire asteria urafiki',\n",
       " 'savana school international',\n",
       " 'ibanga',\n",
       " 'ilambula',\n",
       " 'musanga',\n",
       " 'luvango',\n",
       " 'inst ufamandu',\n",
       " 'gscc',\n",
       " 'gs elie',\n",
       " 'itm mweso',\n",
       " 'alfa',\n",
       " 'katwa',\n",
       " 'mandayi',\n",
       " 'epaf',\n",
       " 'kahya cibanda',\n",
       " 'kaumo',\n",
       " 'bungulu beni',\n",
       " 'i rutoboko',\n",
       " 'humule',\n",
       " 'cirezi',\n",
       " 'i de bkv',\n",
       " 'bwanga',\n",
       " 'mwangaza',\n",
       " 'itm kyondo',\n",
       " 'mulo',\n",
       " 'kyatenga',\n",
       " 'mali',\n",
       " 'cs conglais (au burundi)',\n",
       " 'gs la r\\xc3\\xa9ponse',\n",
       " 'moliere',\n",
       " 'lycee katana',\n",
       " 'asteria urafiki',\n",
       " 'institut muku',\n",
       " 'cs maadibisho',\n",
       " 'kayanja',\n",
       " 'cs maman sphie',\n",
       " 'lyc\\xc3\\xa9\\xc3\\xa9 anuarit\\xc3\\xa9',\n",
       " 'inst kasuo',\n",
       " 'kasika',\n",
       " 'edap/kalima',\n",
       " 'inst kasika',\n",
       " 'nyantende',\n",
       " 'lyce techn de la pleine',\n",
       " 'ibanga 2',\n",
       " 'institut imani panzi',\n",
       " 'tumaini letu',\n",
       " 'sake',\n",
       " 'cs lumi\\xc3\\xa8re',\n",
       " 'kipushi',\n",
       " 'lyc\\xc3\\xa9e singa',\n",
       " 'instituti ndosho',\n",
       " 'lyliane',\n",
       " 'lyc\\xc3\\xa9e mwendu',\n",
       " 'itk mahamba',\n",
       " 'mgr byaene',\n",
       " 'tmaini',\n",
       " 'i bigilimani',\n",
       " 'kanyabayonga',\n",
       " 'cs kamagema',\n",
       " 'lyc\\xc3\\xa9e sacre coeur',\n",
       " 'lycee mwandu',\n",
       " 'institut mahamba',\n",
       " 'institut mululu',\n",
       " 'bibwe',\n",
       " 'cs petits anges',\n",
       " 'complexe scolaire nova stella',\n",
       " '1uto',\n",
       " 'institut technique de l\\xe2\\x80\\x99\\xc3\\x89tude sociale',\n",
       " 'kahelele',\n",
       " 'carmel',\n",
       " 'ovoa',\n",
       " 'vihya',\n",
       " 'kitundu',\n",
       " 'mwandu',\n",
       " 'mehe',\n",
       " 'itfm fundi maendeleo',\n",
       " 'bethanie',\n",
       " 'beni',\n",
       " 'weza2',\n",
       " 'bushumba kafubi',\n",
       " 'college la vallee',\n",
       " 'itsu',\n",
       " 'kanzulinzuli',\n",
       " 'mont sion ii',\n",
       " 'mikeni islam',\n",
       " 'itso',\n",
       " 'gs tumba',\n",
       " 'mwanda',\n",
       " 'lukpfu',\n",
       " 'c,s, umoja',\n",
       " 'gs la promise',\n",
       " 'hekima',\n",
       " 'lyc\\xc3\\xa9e katana',\n",
       " 'du lac/kamvivira',\n",
       " 'meso',\n",
       " 'kashozi',\n",
       " 'inst de la sucrerie de kiliba',\n",
       " 'muhe',\n",
       " 'mikeno officiel',\n",
       " 'gs consulaire congolaise/rwanda',\n",
       " 'institut de beni',\n",
       " 'esise/gisenyi',\n",
       " 'kabolwa',\n",
       " 'mikeno/isl',\n",
       " 'vikanzu',\n",
       " 'kamole',\n",
       " 'mutsoperwa',\n",
       " 'itm',\n",
       " 'inst kitumaini',\n",
       " 'l katana',\n",
       " 'fazili',\n",
       " 'saiente famille',\n",
       " 'ct beni',\n",
       " 'nzamiboko',\n",
       " 'rijumba',\n",
       " 'tujikaze',\n",
       " 'lycee mwinda',\n",
       " 'cs mgr moke',\n",
       " 'la vision',\n",
       " 'edap isp walikale',\n",
       " 'ecole belge',\n",
       " 'magherya',\n",
       " 'auto',\n",
       " 'musienene',\n",
       " 'kibabi',\n",
       " 'groupe scol. ndbc de byumba',\n",
       " 'edap isp/bkv',\n",
       " 'jikaze',\n",
       " 'wamaza',\n",
       " 'cibanda',\n",
       " 'lyc\\xc3\\xa9e mwandu',\n",
       " 'ufamandu',\n",
       " 'kaya cibanda',\n",
       " 'lukeba',\n",
       " 'r\\xc3\\xa9v\\xc3\\xa9rend samba',\n",
       " 'source du savoir',\n",
       " 'institut tuadibishe',\n",
       " 'petits g\\xc3\\xa9nies',\n",
       " 'inst de katwa',\n",
       " 'uaminifu',\n",
       " 'msaada',\n",
       " 'isingo',\n",
       " 'inst ujasiri',\n",
       " 'bokolo',\n",
       " 'utamaduni',\n",
       " 'ngaliema',\n",
       " 'bukibanyana',\n",
       " 'camp fac',\n",
       " 'mgr guido maria conforti',\n",
       " 'edap isp bkv',\n",
       " 'kabanda',\n",
       " 'g.s lemba',\n",
       " 'umoja i fs',\n",
       " 'boyulu',\n",
       " 'loyola',\n",
       " 'salamu',\n",
       " 'base',\n",
       " 'salama',\n",
       " 'visolo',\n",
       " 'mabakanga',\n",
       " 'saint pierre ap\\xc3\\xb4tre',\n",
       " \"complexe scolaire de l'unit\\xc3\\xa9\",\n",
       " 'edap isp bukavu',\n",
       " 'mikeno isl',\n",
       " 'burhuza',\n",
       " 'kitunda',\n",
       " 'kausa',\n",
       " 'maendeleo de oicha',\n",
       " 'institut kifungo',\n",
       " 'cs moli\\xc3\\xa8re',\n",
       " 'kabalaka',\n",
       " 'cs sauvetage',\n",
       " 'mahamba',\n",
       " 'bushumba',\n",
       " 'lycee de kalamu',\n",
       " 'cs mlezi',\n",
       " 'cs du 8 mars',\n",
       " 'mont sionii',\n",
       " 'totro',\n",
       " 'bigilimani',\n",
       " 'lyc\\xc3\\xa9e martyrs baganda',\n",
       " 'inst lisalisi',\n",
       " 'tujenge',\n",
       " 'du lac',\n",
       " 'ste famille',\n",
       " 'cs les petis anges',\n",
       " 'mwangi',\n",
       " 'inst lwanga',\n",
       " 'college tetembwa',\n",
       " 'itve',\n",
       " 'mama mwilu',\n",
       " 'nyabiondo',\n",
       " 'nduba',\n",
       " 'loyola institut',\n",
       " 'nderembi',\n",
       " 'complexe scolaire mulezi',\n",
       " 'cs mont tshikenge',\n",
       " 'elise',\n",
       " 'inst. kiwele',\n",
       " 'inst. mpinga',\n",
       " 'maboso',\n",
       " 'kaoze',\n",
       " 'kuntwala',\n",
       " 'inst bukinanyana',\n",
       " 'institut lwanga',\n",
       " 'le petit genie',\n",
       " 'coll de la sagesse',\n",
       " 'cs katasoire',\n",
       " 'mbaga',\n",
       " 'kibabi/rubaya',\n",
       " 'complexe scolaire juhudi',\n",
       " 'ct de beni',\n",
       " 'lyc\\xc3\\xa9e chemchem ya uzima',\n",
       " 'nikisi',\n",
       " 'ps tumaini letu',\n",
       " 'cs la rel\\xc3\\xa8ve',\n",
       " 'lyc\\xc3\\xa9e utamaduni',\n",
       " 'cs kiribunye',\n",
       " 'edap/isp/bukavu',\n",
       " 'itm de boga',\n",
       " 'hodari',\n",
       " 'i rwabika',\n",
       " 'patemo',\n",
       " 'muungano',\n",
       " 'pt seminaire tumaini letu',\n",
       " 'i hodari',\n",
       " 'i jikaze',\n",
       " 'mwanzo',\n",
       " 'complexe scolaire tisiesi',\n",
       " 'laudjo',\n",
       " 'mutambala',\n",
       " 'baraka',\n",
       " 'cs seamen',\n",
       " 'kiruli',\n",
       " 'st augustin',\n",
       " 'institut kashali',\n",
       " 'mgr byaghene',\n",
       " 'lyc\\xc3\\xa9e esengo',\n",
       " 'la releve',\n",
       " 'kabila',\n",
       " 'lwiro',\n",
       " 'luka',\n",
       " 'inst imani/panzi',\n",
       " 'inst ste famille',\n",
       " 'itavep/mahanga',\n",
       " 'ruvunda',\n",
       " 'tsololo',\n",
       " 'bukinanyana',\n",
       " 'i enano',\n",
       " 'institut uaminifu',\n",
       " 'gs de karhale',\n",
       " 'kabale',\n",
       " 'nidunga',\n",
       " 'kanzulnzuli',\n",
       " 'imara',\n",
       " 'lycee cirezi',\n",
       " 'mashauri',\n",
       " 'taraja',\n",
       " 'lunya',\n",
       " 'institut jikaze',\n",
       " 'gs asteria urafiki',\n",
       " 'kirumba',\n",
       " 'ebi institut',\n",
       " 'mulengele',\n",
       " '8 mars',\n",
       " 'iti mahamba',\n",
       " 'funu maendeleo',\n",
       " 'bustani',\n",
       " 'mwenga',\n",
       " 'katudwe',\n",
       " 'bikuka',\n",
       " 'lumumba',\n",
       " 'malula',\n",
       " 'cs mapendo/ngese',\n",
       " 'bagira',\n",
       " 'lyc\\xc3\\xa9e notre dame de la jeunesse',\n",
       " '61',\n",
       " 'mwana',\n",
       " 'ruwenzori',\n",
       " 'bugarula',\n",
       " 'mwajengo',\n",
       " 'uvira',\n",
       " 'adventiste/bunia',\n",
       " 'itav bbo',\n",
       " 'essi nyamirambo',\n",
       " 'st kizito',\n",
       " 'mama sarah',\n",
       " 'kilambo',\n",
       " 'luapula',\n",
       " 'monvu/isingo',\n",
       " 'lyc\\xc3\\xa9e kamanyola',\n",
       " 'cs lembelembe',\n",
       " 'tuendelye',\n",
       " 'it kanyabayonga',\n",
       " 'oicha',\n",
       " 'sainte famille',\n",
       " 'tuzo',\n",
       " 'enano',\n",
       " 'sauvetage',\n",
       " 'institut kasika',\n",
       " 'butumba',\n",
       " 'ahen\\xc3\\xa9e de butembo',\n",
       " 'cs okapi',\n",
       " 'isn ngaliema',\n",
       " 'coll\\xc3\\xa8ge bonsomi',\n",
       " 'mont kitenge',\n",
       " 'kasheke',\n",
       " 'utfm',\n",
       " 'la f\\xc3\\xa9licit\\xc3\\xa9',\n",
       " 'l mapema',\n",
       " 'fatima',\n",
       " 'edap/upn',\n",
       " 'lyc\\xc3\\xa9e molende',\n",
       " 'tuendee',\n",
       " 'inst imaki/kirumba',\n",
       " 'institut  bikuba',\n",
       " 'itcb',\n",
       " 'diabena',\n",
       " 'edap/isp-bukavu',\n",
       " 'masiki',\n",
       " 'i lwanga',\n",
       " 'isea',\n",
       " 'famila dei',\n",
       " 'lukpafu',\n",
       " 'cs karhale',\n",
       " 'bokoro',\n",
       " 'c.s le vert',\n",
       " 'idambo',\n",
       " 'ecole congolaise de bujumbura',\n",
       " 'cs lumiere',\n",
       " 'mikeno  off',\n",
       " 'visogho',\n",
       " 'kihinga/kirumba',\n",
       " 'complex scolaire la veronique',\n",
       " 'tuendeleya',\n",
       " 'c.s. lumiere',\n",
       " 'lyc\\xc3\\xa9e utaniadun',\n",
       " 'ruharaga',\n",
       " 'cs les petits g\\xc3\\xa9nies',\n",
       " 'institut avenir de beni',\n",
       " 'katana',\n",
       " 'rutoboko',\n",
       " 'edap/isp buta',\n",
       " 'lyc\\xc3\\xa9e r\\xc3\\xa9v\\xc3\\xa9rend kim',\n",
       " 'itc  ngaliema',\n",
       " 'alliance ouest africaine',\n",
       " 'mikeno islam',\n",
       " '54',\n",
       " '53',\n",
       " 'l mapendo',\n",
       " 'tusome',\n",
       " 'mululu',\n",
       " 'cs le germe',\n",
       " 'lyc\\xc3\\xa9e cirezi',\n",
       " 'bunyanga',\n",
       " 'rwaraga',\n",
       " 'ruhamiro',\n",
       " 'gracia',\n",
       " 'kantundwe',\n",
       " 'mugeri',\n",
       " 'aleluya',\n",
       " 'college mayele',\n",
       " 'babwise',\n",
       " 'itm kizito',\n",
       " 'malende',\n",
       " 'i kasika',\n",
       " 'auzi',\n",
       " 'kabamba/cigoma',\n",
       " 'lumiere',\n",
       " 'saint augustin',\n",
       " 'bandari',\n",
       " 'gs de la salle',\n",
       " 'edap kasuku',\n",
       " 'lyc\\xc3\\xa9e sainte germaine',\n",
       " 'masapi',\n",
       " 'itm tulizeni/kyondo',\n",
       " 'cs les vert',\n",
       " 'zako',\n",
       " 'burhiba',\n",
       " 'nsindo',\n",
       " 'complexe scolaire la rel\\xc3\\xa8ve',\n",
       " 'it bugabo',\n",
       " 'muku',\n",
       " 'nyabibwe',\n",
       " 'itfm maendeleo',\n",
       " 'aretina saka',\n",
       " 'saint raphael',\n",
       " 'matcha',\n",
       " 'mambo',\n",
       " 'institut patemo',\n",
       " 'cs r\\xc3\\xa9ference',\n",
       " 'itg.inst. tech. indust de goma',\n",
       " 'edap/kasuku',\n",
       " 'lwanga',\n",
       " 'edap/isp bkv',\n",
       " 'lowa',\n",
       " 'cs losa',\n",
       " 'kiribunye',\n",
       " 'mfuki',\n",
       " 'mikeno off',\n",
       " 'mambowa',\n",
       " 'rufunda',\n",
       " 'la fraternit\\xc3\\xa9',\n",
       " 'l mwandu',\n",
       " 'cs petits g\\xc3\\xa9nres',\n",
       " 'institut bwinzi',\n",
       " 'tuadibishe',\n",
       " 'wapole',\n",
       " 'mabalako',\n",
       " 'cs mapera',\n",
       " 'it salama',\n",
       " 'mboga',\n",
       " 'gihundu',\n",
       " 'cs yesu ni jibu',\n",
       " 'tuendelee',\n",
       " 'wema',\n",
       " 'bwindi',\n",
       " 'kavanda',\n",
       " 'petits genies',\n",
       " 'kayadja',\n",
       " 'cs lyliane',\n",
       " 'inst bashu',\n",
       " 'gs 8 mars',\n",
       " 'cs mama onja',\n",
       " 'imani panzi',\n",
       " 'ceago',\n",
       " 'bambu',\n",
       " 'imani']"
      ]
     },
     "execution_count": 346,
     "metadata": {},
     "output_type": "execute_result"
    }
   ],
   "source": [
    "SchollWithOp"
   ]
  },
  {
   "cell_type": "code",
   "execution_count": 72,
   "metadata": {
    "scrolled": false
   },
   "outputs": [
    {
     "data": {
      "text/plain": [
       "1096    publique\n",
       "3512    publique\n",
       "3529    publique\n",
       "3674    publique\n",
       "3815    publique\n",
       "Name: SCHOOLSTATUS, dtype: object"
      ]
     },
     "execution_count": 72,
     "metadata": {},
     "output_type": "execute_result"
    }
   ],
   "source": [
    "datasetWithScOKV2.SCHOOLSTATUS.loc[datasetWithScOKV2.SCHOOL_RIGHT=='edap/isp bukavu']"
   ]
  },
  {
   "cell_type": "code",
   "execution_count": 356,
   "metadata": {
    "collapsed": true
   },
   "outputs": [],
   "source": [
    "datasetWithScOKV2.drop(['Unnamed: 0','Unnamed: 0.1'],axis=1,inplace=True)"
   ]
  },
  {
   "cell_type": "code",
   "execution_count": 79,
   "metadata": {
    "collapsed": true
   },
   "outputs": [],
   "source": [
    "datasetWithScOKV2.to_csv('DatasetWithOptionOK.csv')"
   ]
  },
  {
   "cell_type": "code",
   "execution_count": 81,
   "metadata": {},
   "outputs": [
    {
     "name": "stdout",
     "output_type": "stream",
     "text": [
      "<class 'pandas.core.frame.DataFrame'>\n",
      "Int64Index: 4715 entries, 161 to 4714\n",
      "Data columns (total 8 columns):\n",
      "IDENTIFICATION    4715 non-null float64\n",
      "DIPLOMSECTION     4715 non-null object\n",
      "DIPLOMOPTION      4715 non-null object\n",
      "SCHOOL            4715 non-null object\n",
      "SCHOOLSTATUS      4024 non-null object\n",
      "SCHOOL_CORRECT    4715 non-null object\n",
      "SCHOOL_RIGHT      4715 non-null object\n",
      "OPTION            4715 non-null object\n",
      "dtypes: float64(1), object(7)\n",
      "memory usage: 331.5+ KB\n"
     ]
    }
   ],
   "source": [
    "datasetWithScOKV2.info()"
   ]
  },
  {
   "cell_type": "code",
   "execution_count": 199,
   "metadata": {
    "collapsed": true
   },
   "outputs": [],
   "source": [
    "from IPython.core.interactiveshell import InteractiveShell\n",
    "InteractiveShell.ast_node_interactivity = \"all\""
   ]
  },
  {
   "cell_type": "code",
   "execution_count": null,
   "metadata": {
    "collapsed": true
   },
   "outputs": [],
   "source": []
  }
 ],
 "metadata": {
  "kernelspec": {
   "display_name": "Python 2",
   "language": "python",
   "name": "python2"
  },
  "language_info": {
   "codemirror_mode": {
    "name": "ipython",
    "version": 2
   },
   "file_extension": ".py",
   "mimetype": "text/x-python",
   "name": "python",
   "nbconvert_exporter": "python",
   "pygments_lexer": "ipython2",
   "version": "2.7.13"
  }
 },
 "nbformat": 4,
 "nbformat_minor": 2
}
