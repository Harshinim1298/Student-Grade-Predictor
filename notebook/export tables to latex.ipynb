{
 "cells": [
  {
   "cell_type": "code",
   "execution_count": 1,
   "metadata": {
    "collapsed": true
   },
   "outputs": [],
   "source": [
    "import pandas as pd\n",
    "import numpy as np\n",
    "import matplotlib.pyplot as plt\n",
    "import seaborn as sns #for beatiful visualizations\n",
    "%matplotlib inline \n",
    "import scipy.stats as scs #for statistics\n",
    "import operator\n",
    "from scipy.stats import chi2_contingency\n",
    "import matplotlib.ticker as ticker\n",
    "pd.set_option('display.notebook_repr_html', True)\n",
    "def _repr_latex_(self):\n",
    "    return \"\\centering{%s}\" % self.to_latex()\n",
    "\n",
    "pd.DataFrame._repr_latex_ = _repr_latex_"
   ]
  },
  {
   "cell_type": "code",
   "execution_count": 9,
   "metadata": {
    "collapsed": true,
    "scrolled": false
   },
   "outputs": [],
   "source": [
    "dataset = pd.read_csv(\"../dataset/ResultDataset.csv\",index_col='Unnamed: 0')"
   ]
  },
  {
   "cell_type": "code",
   "execution_count": 11,
   "metadata": {
    "collapsed": true
   },
   "outputs": [],
   "source": [
    "dataset_version2 = pd.read_csv(\"../dataset/ResultDatasetBeta.csv\",index_col='Unnamed: 0')"
   ]
  },
  {
   "cell_type": "code",
   "execution_count": 16,
   "metadata": {
    "collapsed": true
   },
   "outputs": [],
   "source": [
    "dataset.to_latex(\"../../FinalYearProjectReport/text/error.tex\",bold_rows=True,decimal=',',encoding='utf-8',escape=True,index=False)"
   ]
  },
  {
   "cell_type": "code",
   "execution_count": 17,
   "metadata": {
    "collapsed": true
   },
   "outputs": [],
   "source": [
    "dataset_version2.to_latex(\"../../FinalYearProjectReport/text/error2.tex\",bold_rows=True,decimal=',',index=False,encoding='utf-8',escape=True)"
   ]
  },
  {
   "cell_type": "code",
   "execution_count": 10,
   "metadata": {},
   "outputs": [
    {
     "data": {
      "text/html": [
       "<div>\n",
       "<table border=\"1\" class=\"dataframe\">\n",
       "  <thead>\n",
       "    <tr style=\"text-align: right;\">\n",
       "      <th></th>\n",
       "      <th>Faculte</th>\n",
       "      <th>Dimensions</th>\n",
       "      <th>MODEL</th>\n",
       "      <th>RMSE Train</th>\n",
       "      <th>CVSCORE Mean</th>\n",
       "      <th>CVSCORE Std</th>\n",
       "      <th>RMSE Test</th>\n",
       "      <th>STACK_RES</th>\n",
       "    </tr>\n",
       "  </thead>\n",
       "  <tbody>\n",
       "    <tr>\n",
       "      <th>0</th>\n",
       "      <td></td>\n",
       "      <td></td>\n",
       "      <td>ElasticNet</td>\n",
       "      <td>0.05 : 9.51%</td>\n",
       "      <td>0.069  : 12.25%</td>\n",
       "      <td>0.0046</td>\n",
       "      <td>0.07 : 12.089%</td>\n",
       "      <td></td>\n",
       "    </tr>\n",
       "  </tbody>\n",
       "</table>\n",
       "</div>"
      ],
      "text/latex": [
       "\\centering{\\begin{tabular}{llllllrll}\n",
       "\\toprule\n",
       "{} & Faculte & Dimensions &       MODEL &    RMSE Train &     CVSCORE Mean &  CVSCORE Std &       RMSE Test & STACK\\_RES \\\\\n",
       "\\midrule\n",
       "0 &         &            &  ElasticNet &  0.05 : 9.51\\% &  0.069  : 12.25\\% &       0.0046 &  0.07 : 12.089\\% &           \\\\\n",
       "\\bottomrule\n",
       "\\end{tabular}\n",
       "}"
      ],
      "text/plain": [
       "  Faculte Dimensions       MODEL    RMSE Train     CVSCORE Mean  CVSCORE Std  \\\n",
       "0                     ElasticNet  0.05 : 9.51%  0.069  : 12.25%       0.0046   \n",
       "\n",
       "        RMSE Test STACK_RES  \n",
       "0  0.07 : 12.089%            "
      ]
     },
     "execution_count": 10,
     "metadata": {},
     "output_type": "execute_result"
    }
   ],
   "source": [
    "dataset.head(1)"
   ]
  },
  {
   "cell_type": "code",
   "execution_count": 6,
   "metadata": {
    "collapsed": true
   },
   "outputs": [],
   "source": [
    "data=[('00987772', 'AB123' ),\n",
    "('00987772', 'AB123' ),\n",
    "('00987772', 'AB123' ),\n",
    "('00987772', 'ED245' ),\n",
    "('00982123', 'GH564' )]\n"
   ]
  },
  {
   "cell_type": "code",
   "execution_count": 11,
   "metadata": {
    "collapsed": true
   },
   "outputs": [],
   "source": [
    "ID= []\n",
    "Bank_account = []"
   ]
  },
  {
   "cell_type": "code",
   "execution_count": 12,
   "metadata": {
    "collapsed": true
   },
   "outputs": [],
   "source": [
    "for x in data :\n",
    "    ID.append(x[0])\n",
    "    Bank_account.append(x[1])"
   ]
  },
  {
   "cell_type": "code",
   "execution_count": 14,
   "metadata": {
    "collapsed": true
   },
   "outputs": [],
   "source": [
    "ID = np.array(ID)"
   ]
  },
  {
   "cell_type": "code",
   "execution_count": 15,
   "metadata": {
    "collapsed": true
   },
   "outputs": [],
   "source": [
    "Bank_account = np.array(Bank_account)"
   ]
  },
  {
   "cell_type": "code",
   "execution_count": 16,
   "metadata": {
    "scrolled": true
   },
   "outputs": [
    {
     "data": {
      "text/plain": [
       "array(['00987772', '00987772', '00987772', '00987772', '00982123'], \n",
       "      dtype='|S8')"
      ]
     },
     "execution_count": 16,
     "metadata": {},
     "output_type": "execute_result"
    }
   ],
   "source": [
    "ID"
   ]
  },
  {
   "cell_type": "code",
   "execution_count": 17,
   "metadata": {},
   "outputs": [
    {
     "data": {
      "text/plain": [
       "array(['AB123', 'AB123', 'AB123', 'ED245', 'GH564'], \n",
       "      dtype='|S5')"
      ]
     },
     "execution_count": 17,
     "metadata": {},
     "output_type": "execute_result"
    }
   ],
   "source": [
    "Bank_account"
   ]
  },
  {
   "cell_type": "code",
   "execution_count": 18,
   "metadata": {
    "collapsed": true
   },
   "outputs": [],
   "source": [
    "y_data =[\n",
    "('AB123','High'),\n",
    "('ED245' , 'Low'),\n",
    "('GH564' , 'Low')]"
   ]
  },
  {
   "cell_type": "code",
   "execution_count": 19,
   "metadata": {
    "collapsed": true
   },
   "outputs": [],
   "source": [
    "ID_y = []\n",
    "label =[]\n",
    "for x in y_data:\n",
    "    ID_y.append(x[0])\n",
    "    label.append(x[1])"
   ]
  },
  {
   "cell_type": "code",
   "execution_count": 20,
   "metadata": {},
   "outputs": [
    {
     "data": {
      "text/plain": [
       "['AB123', 'ED245', 'GH564']"
      ]
     },
     "execution_count": 20,
     "metadata": {},
     "output_type": "execute_result"
    }
   ],
   "source": []
  },
  {
   "cell_type": "code",
   "execution_count": 23,
   "metadata": {
    "collapsed": true
   },
   "outputs": [],
   "source": [
    "x_data= pd.DataFrame(index=Bank_account, data=ID, columns=['Bank_Num'])"
   ]
  },
  {
   "cell_type": "code",
   "execution_count": 24,
   "metadata": {
    "collapsed": true
   },
   "outputs": [],
   "source": [
    "y_data = pd.DataFrame(index=ID_y, data=label , columns=['label'])"
   ]
  },
  {
   "cell_type": "code",
   "execution_count": 26,
   "metadata": {
    "collapsed": true
   },
   "outputs": [],
   "source": [
    "y_data.reset_index(inplace=True)"
   ]
  },
  {
   "cell_type": "code",
   "execution_count": 28,
   "metadata": {
    "collapsed": true
   },
   "outputs": [],
   "source": [
    "x_data.reset_index(inplace=True)"
   ]
  },
  {
   "cell_type": "code",
   "execution_count": 29,
   "metadata": {
    "scrolled": true
   },
   "outputs": [
    {
     "data": {
      "text/html": [
       "<div>\n",
       "<table border=\"1\" class=\"dataframe\">\n",
       "  <thead>\n",
       "    <tr style=\"text-align: right;\">\n",
       "      <th></th>\n",
       "      <th>index</th>\n",
       "      <th>Bank_Num</th>\n",
       "    </tr>\n",
       "  </thead>\n",
       "  <tbody>\n",
       "    <tr>\n",
       "      <th>0</th>\n",
       "      <td>AB123</td>\n",
       "      <td>00987772</td>\n",
       "    </tr>\n",
       "    <tr>\n",
       "      <th>1</th>\n",
       "      <td>AB123</td>\n",
       "      <td>00987772</td>\n",
       "    </tr>\n",
       "    <tr>\n",
       "      <th>2</th>\n",
       "      <td>AB123</td>\n",
       "      <td>00987772</td>\n",
       "    </tr>\n",
       "    <tr>\n",
       "      <th>3</th>\n",
       "      <td>ED245</td>\n",
       "      <td>00987772</td>\n",
       "    </tr>\n",
       "    <tr>\n",
       "      <th>4</th>\n",
       "      <td>GH564</td>\n",
       "      <td>00982123</td>\n",
       "    </tr>\n",
       "  </tbody>\n",
       "</table>\n",
       "</div>"
      ],
      "text/latex": [
       "\\centering{\\begin{tabular}{lll}\n",
       "\\toprule\n",
       "{} &  index &  Bank\\_Num \\\\\n",
       "\\midrule\n",
       "0 &  AB123 &  00987772 \\\\\n",
       "1 &  AB123 &  00987772 \\\\\n",
       "2 &  AB123 &  00987772 \\\\\n",
       "3 &  ED245 &  00987772 \\\\\n",
       "4 &  GH564 &  00982123 \\\\\n",
       "\\bottomrule\n",
       "\\end{tabular}\n",
       "}"
      ],
      "text/plain": [
       "   index  Bank_Num\n",
       "0  AB123  00987772\n",
       "1  AB123  00987772\n",
       "2  AB123  00987772\n",
       "3  ED245  00987772\n",
       "4  GH564  00982123"
      ]
     },
     "execution_count": 29,
     "metadata": {},
     "output_type": "execute_result"
    }
   ],
   "source": [
    "x_data\n"
   ]
  },
  {
   "cell_type": "code",
   "execution_count": 32,
   "metadata": {
    "collapsed": true,
    "scrolled": true
   },
   "outputs": [],
   "source": [
    "dataset=pd.merge(left=x_data, right=y_data, on='index')"
   ]
  },
  {
   "cell_type": "code",
   "execution_count": 31,
   "metadata": {
    "collapsed": true
   },
   "outputs": [],
   "source": [
    "from sklearn.model_selection import train_test_split"
   ]
  },
  {
   "cell_type": "code",
   "execution_count": 35,
   "metadata": {
    "collapsed": true
   },
   "outputs": [],
   "source": [
    "dataset['Bank_Num'] = dataset.Bank_Num.astype(np.float128)"
   ]
  },
  {
   "cell_type": "code",
   "execution_count": null,
   "metadata": {
    "collapsed": true
   },
   "outputs": [],
   "source": [
    "                                               "
   ]
  },
  {
   "cell_type": "code",
   "execution_count": 2,
   "metadata": {
    "collapsed": true
   },
   "outputs": [],
   "source": [
    "from sklearn.preprocessing import LabelEncoder,LabelBinarizer"
   ]
  },
  {
   "cell_type": "code",
   "execution_count": 38,
   "metadata": {
    "collapsed": true
   },
   "outputs": [],
   "source": [
    "le = LabelEncoder()"
   ]
  },
  {
   "cell_type": "code",
   "execution_count": 40,
   "metadata": {
    "collapsed": true
   },
   "outputs": [],
   "source": [
    "le = LabelEncoder()\n",
    "dataset['index'] = le.fit_transform(dataset.index)"
   ]
  },
  {
   "cell_type": "code",
   "execution_count": 41,
   "metadata": {},
   "outputs": [
    {
     "data": {
      "text/html": [
       "<div>\n",
       "<table border=\"1\" class=\"dataframe\">\n",
       "  <thead>\n",
       "    <tr style=\"text-align: right;\">\n",
       "      <th></th>\n",
       "      <th>index</th>\n",
       "      <th>Bank_Num</th>\n",
       "      <th>label</th>\n",
       "    </tr>\n",
       "  </thead>\n",
       "  <tbody>\n",
       "    <tr>\n",
       "      <th>0</th>\n",
       "      <td>0</td>\n",
       "      <td>987772.0</td>\n",
       "      <td>High</td>\n",
       "    </tr>\n",
       "    <tr>\n",
       "      <th>1</th>\n",
       "      <td>1</td>\n",
       "      <td>987772.0</td>\n",
       "      <td>High</td>\n",
       "    </tr>\n",
       "    <tr>\n",
       "      <th>2</th>\n",
       "      <td>2</td>\n",
       "      <td>987772.0</td>\n",
       "      <td>High</td>\n",
       "    </tr>\n",
       "    <tr>\n",
       "      <th>3</th>\n",
       "      <td>3</td>\n",
       "      <td>987772.0</td>\n",
       "      <td>Low</td>\n",
       "    </tr>\n",
       "    <tr>\n",
       "      <th>4</th>\n",
       "      <td>4</td>\n",
       "      <td>982123.0</td>\n",
       "      <td>Low</td>\n",
       "    </tr>\n",
       "  </tbody>\n",
       "</table>\n",
       "</div>"
      ],
      "text/latex": [
       "\\centering{\\begin{tabular}{lrrl}\n",
       "\\toprule\n",
       "{} &  index &  Bank\\_Num & label \\\\\n",
       "\\midrule\n",
       "0 &      0 &  987772.0 &  High \\\\\n",
       "1 &      1 &  987772.0 &  High \\\\\n",
       "2 &      2 &  987772.0 &  High \\\\\n",
       "3 &      3 &  987772.0 &   Low \\\\\n",
       "4 &      4 &  982123.0 &   Low \\\\\n",
       "\\bottomrule\n",
       "\\end{tabular}\n",
       "}"
      ],
      "text/plain": [
       "   index  Bank_Num label\n",
       "0      0  987772.0  High\n",
       "1      1  987772.0  High\n",
       "2      2  987772.0  High\n",
       "3      3  987772.0   Low\n",
       "4      4  982123.0   Low"
      ]
     },
     "execution_count": 41,
     "metadata": {},
     "output_type": "execute_result"
    }
   ],
   "source": []
  },
  {
   "cell_type": "code",
   "execution_count": 43,
   "metadata": {
    "collapsed": true
   },
   "outputs": [],
   "source": []
  },
  {
   "cell_type": "code",
   "execution_count": 45,
   "metadata": {
    "collapsed": true
   },
   "outputs": [],
   "source": [
    "lb = LabelBinarizer()\n",
    "dataset['label'] = lb.fit_transform(dataset.label)"
   ]
  },
  {
   "cell_type": "code",
   "execution_count": 49,
   "metadata": {
    "collapsed": true
   },
   "outputs": [],
   "source": [
    "dataset.set_index(keys='index', inplace=True)"
   ]
  },
  {
   "cell_type": "code",
   "execution_count": 51,
   "metadata": {
    "collapsed": true
   },
   "outputs": [],
   "source": [
    "dataset.reset_index(inplace=True)"
   ]
  },
  {
   "cell_type": "code",
   "execution_count": 54,
   "metadata": {
    "collapsed": true,
    "scrolled": true
   },
   "outputs": [],
   "source": [
    "x = dataset[['index','Bank_Num']]"
   ]
  },
  {
   "cell_type": "code",
   "execution_count": 56,
   "metadata": {
    "collapsed": true,
    "scrolled": false
   },
   "outputs": [],
   "source": [
    "X_train, X_test, y_train, y_test = train_test_split(dataset[['index','Bank_Num']], dataset.label, test_size=0.25, random_state=42)"
   ]
  },
  {
   "cell_type": "code",
   "execution_count": 57,
   "metadata": {
    "scrolled": true
   },
   "outputs": [
    {
     "data": {
      "text/html": [
       "<div>\n",
       "<table border=\"1\" class=\"dataframe\">\n",
       "  <thead>\n",
       "    <tr style=\"text-align: right;\">\n",
       "      <th></th>\n",
       "      <th>index</th>\n",
       "      <th>Bank_Num</th>\n",
       "    </tr>\n",
       "  </thead>\n",
       "  <tbody>\n",
       "    <tr>\n",
       "      <th>2</th>\n",
       "      <td>2</td>\n",
       "      <td>987772.0</td>\n",
       "    </tr>\n",
       "    <tr>\n",
       "      <th>0</th>\n",
       "      <td>0</td>\n",
       "      <td>987772.0</td>\n",
       "    </tr>\n",
       "    <tr>\n",
       "      <th>3</th>\n",
       "      <td>3</td>\n",
       "      <td>987772.0</td>\n",
       "    </tr>\n",
       "  </tbody>\n",
       "</table>\n",
       "</div>"
      ],
      "text/latex": [
       "\\centering{\\begin{tabular}{lrr}\n",
       "\\toprule\n",
       "{} &  index &  Bank\\_Num \\\\\n",
       "\\midrule\n",
       "2 &      2 &  987772.0 \\\\\n",
       "0 &      0 &  987772.0 \\\\\n",
       "3 &      3 &  987772.0 \\\\\n",
       "\\bottomrule\n",
       "\\end{tabular}\n",
       "}"
      ],
      "text/plain": [
       "   index  Bank_Num\n",
       "2      2  987772.0\n",
       "0      0  987772.0\n",
       "3      3  987772.0"
      ]
     },
     "execution_count": 57,
     "metadata": {},
     "output_type": "execute_result"
    }
   ],
   "source": [
    "X_train"
   ]
  },
  {
   "cell_type": "code",
   "execution_count": 59,
   "metadata": {},
   "outputs": [
    {
     "name": "stdout",
     "output_type": "stream",
     "text": [
      "<class 'pandas.core.frame.DataFrame'>\n",
      "RangeIndex: 5 entries, 0 to 4\n",
      "Data columns (total 3 columns):\n",
      "index       5 non-null int64\n",
      "Bank_Num    5 non-null float128\n",
      "label       5 non-null int64\n",
      "dtypes: float128(1), int64(2)\n",
      "memory usage: 232.0 bytes\n"
     ]
    }
   ],
   "source": [
    "dataset.info()"
   ]
  },
  {
   "cell_type": "code",
   "execution_count": 60,
   "metadata": {
    "collapsed": true
   },
   "outputs": [],
   "source": [
    "from sklearn.svm import SVC "
   ]
  },
  {
   "cell_type": "code",
   "execution_count": 61,
   "metadata": {
    "collapsed": true
   },
   "outputs": [],
   "source": [
    "clf = SVC(gamma=0.001, C=100., probability=True)"
   ]
  },
  {
   "cell_type": "code",
   "execution_count": 62,
   "metadata": {},
   "outputs": [
    {
     "data": {
      "text/plain": [
       "SVC(C=100.0, cache_size=200, class_weight=None, coef0=0.0,\n",
       "  decision_function_shape=None, degree=3, gamma=0.001, kernel='rbf',\n",
       "  max_iter=-1, probability=True, random_state=None, shrinking=True,\n",
       "  tol=0.001, verbose=False)"
      ]
     },
     "execution_count": 62,
     "metadata": {},
     "output_type": "execute_result"
    }
   ],
   "source": [
    "clf.fit(X_train, y_train)"
   ]
  },
  {
   "cell_type": "code",
   "execution_count": 63,
   "metadata": {},
   "outputs": [
    {
     "data": {
      "text/plain": [
       "array([0, 0])"
      ]
     },
     "execution_count": 63,
     "metadata": {},
     "output_type": "execute_result"
    }
   ],
   "source": [
    "clf.predict(X_test)"
   ]
  },
  {
   "cell_type": "code",
   "execution_count": 64,
   "metadata": {
    "collapsed": true
   },
   "outputs": [],
   "source": [
    "dataset['Bank_Num'] = lb.fit_transform(dataset.Bank_Num)"
   ]
  },
  {
   "cell_type": "code",
   "execution_count": 65,
   "metadata": {},
   "outputs": [
    {
     "data": {
      "text/html": [
       "<div>\n",
       "<table border=\"1\" class=\"dataframe\">\n",
       "  <thead>\n",
       "    <tr style=\"text-align: right;\">\n",
       "      <th></th>\n",
       "      <th>index</th>\n",
       "      <th>Bank_Num</th>\n",
       "      <th>label</th>\n",
       "    </tr>\n",
       "  </thead>\n",
       "  <tbody>\n",
       "    <tr>\n",
       "      <th>0</th>\n",
       "      <td>0</td>\n",
       "      <td>1</td>\n",
       "      <td>0</td>\n",
       "    </tr>\n",
       "    <tr>\n",
       "      <th>1</th>\n",
       "      <td>1</td>\n",
       "      <td>1</td>\n",
       "      <td>0</td>\n",
       "    </tr>\n",
       "    <tr>\n",
       "      <th>2</th>\n",
       "      <td>2</td>\n",
       "      <td>1</td>\n",
       "      <td>0</td>\n",
       "    </tr>\n",
       "    <tr>\n",
       "      <th>3</th>\n",
       "      <td>3</td>\n",
       "      <td>1</td>\n",
       "      <td>1</td>\n",
       "    </tr>\n",
       "    <tr>\n",
       "      <th>4</th>\n",
       "      <td>4</td>\n",
       "      <td>0</td>\n",
       "      <td>1</td>\n",
       "    </tr>\n",
       "  </tbody>\n",
       "</table>\n",
       "</div>"
      ],
      "text/latex": [
       "\\centering{\\begin{tabular}{lrrr}\n",
       "\\toprule\n",
       "{} &  index &  Bank\\_Num &  label \\\\\n",
       "\\midrule\n",
       "0 &      0 &         1 &      0 \\\\\n",
       "1 &      1 &         1 &      0 \\\\\n",
       "2 &      2 &         1 &      0 \\\\\n",
       "3 &      3 &         1 &      1 \\\\\n",
       "4 &      4 &         0 &      1 \\\\\n",
       "\\bottomrule\n",
       "\\end{tabular}\n",
       "}"
      ],
      "text/plain": [
       "   index  Bank_Num  label\n",
       "0      0         1      0\n",
       "1      1         1      0\n",
       "2      2         1      0\n",
       "3      3         1      1\n",
       "4      4         0      1"
      ]
     },
     "execution_count": 65,
     "metadata": {},
     "output_type": "execute_result"
    }
   ],
   "source": [
    "dataset"
   ]
  },
  {
   "cell_type": "code",
   "execution_count": 35,
   "metadata": {
    "collapsed": true
   },
   "outputs": [],
   "source": [
    "dataset = pd.DataFrame({'menu': [['Italian', 'Greek'], ['Japanese'], ['Italian','Greek', 'Japanese']], 'price': ['$$', '$$', '$'], 'location': [['NY', 'CA','MI'], 'CA', ['NY', 'CA','MA']]})"
   ]
  },
  {
   "cell_type": "code",
   "execution_count": 4,
   "metadata": {
    "scrolled": true
   },
   "outputs": [
    {
     "data": {
      "text/html": [
       "<div>\n",
       "<table border=\"1\" class=\"dataframe\">\n",
       "  <thead>\n",
       "    <tr style=\"text-align: right;\">\n",
       "      <th></th>\n",
       "      <th>location</th>\n",
       "      <th>menu</th>\n",
       "      <th>price</th>\n",
       "    </tr>\n",
       "  </thead>\n",
       "  <tbody>\n",
       "    <tr>\n",
       "      <th>0</th>\n",
       "      <td>[NY, CA, MI]</td>\n",
       "      <td>[Italian, Greek]</td>\n",
       "      <td>$$</td>\n",
       "    </tr>\n",
       "    <tr>\n",
       "      <th>1</th>\n",
       "      <td>CA</td>\n",
       "      <td>[Japanese]</td>\n",
       "      <td>$$</td>\n",
       "    </tr>\n",
       "    <tr>\n",
       "      <th>2</th>\n",
       "      <td>[NY, CA, MA]</td>\n",
       "      <td>[Italian, Greek, Japanese]</td>\n",
       "      <td>$</td>\n",
       "    </tr>\n",
       "  </tbody>\n",
       "</table>\n",
       "</div>"
      ],
      "text/latex": [
       "\\centering{\\begin{tabular}{llll}\n",
       "\\toprule\n",
       "{} &      location &                        menu & price \\\\\n",
       "\\midrule\n",
       "0 &  [NY, CA, MI] &            [Italian, Greek] &    \\$\\$ \\\\\n",
       "1 &            CA &                  [Japanese] &    \\$\\$ \\\\\n",
       "2 &  [NY, CA, MA] &  [Italian, Greek, Japanese] &     \\$ \\\\\n",
       "\\bottomrule\n",
       "\\end{tabular}\n",
       "}"
      ],
      "text/plain": [
       "       location                        menu price\n",
       "0  [NY, CA, MI]            [Italian, Greek]    $$\n",
       "1            CA                  [Japanese]    $$\n",
       "2  [NY, CA, MA]  [Italian, Greek, Japanese]     $"
      ]
     },
     "execution_count": 4,
     "metadata": {},
     "output_type": "execute_result"
    }
   ],
   "source": [
    "dataset"
   ]
  },
  {
   "cell_type": "code",
   "execution_count": 42,
   "metadata": {
    "collapsed": true
   },
   "outputs": [],
   "source": [
    "from sklearn.preprocessing import MultiLabelBinarizer\n",
    "mlb = LabelBinarizer()"
   ]
  },
  {
   "cell_type": "code",
   "execution_count": 43,
   "metadata": {
    "scrolled": false
   },
   "outputs": [],
   "source": [
    "location =[]\n",
    "encoder = mlb.fit(dataset.location[0]) #fit it with all the possible values of location "
   ]
  },
  {
   "cell_type": "code",
   "execution_count": 12,
   "metadata": {
    "scrolled": false
   },
   "outputs": [],
   "source": [
    "dataset['location']= map(list, dataset.location)"
   ]
  },
  {
   "cell_type": "code",
   "execution_count": 23,
   "metadata": {
    "scrolled": false
   },
   "outputs": [
    {
     "data": {
      "text/plain": [
       "0    [[NY, CA, MI]]\n",
       "1              [CA]\n",
       "2    [[NY, CA, MA]]\n",
       "Name: location, dtype: object"
      ]
     },
     "execution_count": 23,
     "metadata": {},
     "output_type": "execute_result"
    }
   ],
   "source": [
    "dataset.location.apply(lambda x : [x]  ) #if isinstance(x,str) else x"
   ]
  },
  {
   "cell_type": "code",
   "execution_count": 44,
   "metadata": {
    "scrolled": true
   },
   "outputs": [
    {
     "name": "stdout",
     "output_type": "stream",
     "text": [
      "['NY', 'CA', 'MI']\n",
      "[[0 0 1]\n",
      " [1 0 0]\n",
      " [0 1 0]]\n",
      "CA\n",
      "[[1 0 0]]\n",
      "['NY', 'CA', 'MA']\n",
      "[[0 0 1]\n",
      " [1 0 0]\n",
      " [0 0 0]]\n"
     ]
    }
   ],
   "source": [
    "locations =[]\n",
    "for location in dataset.location:\n",
    "    if isinstance(location , str):\n",
    "        print location\n",
    "        location = [location]\n",
    "        locations.append(encoder.transform(location))\n",
    "        print encoder.transform(location)\n",
    "    else:\n",
    "        print location\n",
    "        locations.append(encoder.transform(location))\n",
    "        print encoder.transform(location)"
   ]
  },
  {
   "cell_type": "code",
   "execution_count": 28,
   "metadata": {},
   "outputs": [],
   "source": [
    "dataset['location'] = locations"
   ]
  },
  {
   "cell_type": "code",
   "execution_count": 29,
   "metadata": {},
   "outputs": [
    {
     "data": {
      "text/html": [
       "<div>\n",
       "<table border=\"1\" class=\"dataframe\">\n",
       "  <thead>\n",
       "    <tr style=\"text-align: right;\">\n",
       "      <th></th>\n",
       "      <th>location</th>\n",
       "      <th>menu</th>\n",
       "      <th>price</th>\n",
       "    </tr>\n",
       "  </thead>\n",
       "  <tbody>\n",
       "    <tr>\n",
       "      <th>0</th>\n",
       "      <td>[[0, 0, 1], [1, 0, 0], [0, 1, 0]]</td>\n",
       "      <td>[Italian, Greek]</td>\n",
       "      <td>$$</td>\n",
       "    </tr>\n",
       "    <tr>\n",
       "      <th>1</th>\n",
       "      <td>[[1, 0, 0]]</td>\n",
       "      <td>[Japanese]</td>\n",
       "      <td>$$</td>\n",
       "    </tr>\n",
       "    <tr>\n",
       "      <th>2</th>\n",
       "      <td>[[0, 0, 1], [1, 0, 0], [0, 0, 0]]</td>\n",
       "      <td>[Italian, Greek, Japanese]</td>\n",
       "      <td>$</td>\n",
       "    </tr>\n",
       "  </tbody>\n",
       "</table>\n",
       "</div>"
      ],
      "text/latex": [
       "\\centering{\\begin{tabular}{llll}\n",
       "\\toprule\n",
       "{} &                           location &                        menu & price \\\\\n",
       "\\midrule\n",
       "0 &  [[0, 0, 1], [1, 0, 0], [0, 1, 0]] &            [Italian, Greek] &    \\$\\$ \\\\\n",
       "1 &                        [[1, 0, 0]] &                  [Japanese] &    \\$\\$ \\\\\n",
       "2 &  [[0, 0, 1], [1, 0, 0], [0, 0, 0]] &  [Italian, Greek, Japanese] &     \\$ \\\\\n",
       "\\bottomrule\n",
       "\\end{tabular}\n",
       "}"
      ],
      "text/plain": [
       "                            location                        menu price\n",
       "0  [[0, 0, 1], [1, 0, 0], [0, 1, 0]]            [Italian, Greek]    $$\n",
       "1                        [[1, 0, 0]]                  [Japanese]    $$\n",
       "2  [[0, 0, 1], [1, 0, 0], [0, 0, 0]]  [Italian, Greek, Japanese]     $"
      ]
     },
     "execution_count": 29,
     "metadata": {},
     "output_type": "execute_result"
    }
   ],
   "source": [
    "dataset"
   ]
  },
  {
   "cell_type": "code",
   "execution_count": null,
   "metadata": {
    "collapsed": true
   },
   "outputs": [],
   "source": []
  }
 ],
 "metadata": {
  "kernelspec": {
   "display_name": "Python 2",
   "language": "python",
   "name": "python2"
  },
  "language_info": {
   "codemirror_mode": {
    "name": "ipython",
    "version": 2
   },
   "file_extension": ".py",
   "mimetype": "text/x-python",
   "name": "python",
   "nbconvert_exporter": "python",
   "pygments_lexer": "ipython2",
   "version": "2.7.13"
  }
 },
 "nbformat": 4,
 "nbformat_minor": 2
}
