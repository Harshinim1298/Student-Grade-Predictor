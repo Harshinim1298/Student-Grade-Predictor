{
 "cells": [
  {
   "cell_type": "markdown",
   "metadata": {},
   "source": [
    "Dans ce notebook nous entrainerons nos données sur les restes dees facultées et ensuite continuerons après"
   ]
  },
  {
   "cell_type": "code",
   "execution_count": 1,
   "metadata": {
    "collapsed": true
   },
   "outputs": [],
   "source": [
    "import pandas as pd\n",
    "import numpy as np\n",
    "import matplotlib.pyplot as plt\n",
    "import seaborn as sns #for beatiful visualizations\n",
    "%matplotlib inline \n",
    "import scipy.stats as scs #for statistics\n",
    "import operator\n",
    "from scipy.stats import chi2_contingency\n",
    "import matplotlib.ticker as ticker\n",
    "import statsmodels.api as sm\n",
    "from statsmodels.formula.api import ols\n",
    "from sklearn.preprocessing import *"
   ]
  },
  {
   "cell_type": "code",
   "execution_count": 67,
   "metadata": {
    "collapsed": true
   },
   "outputs": [],
   "source": [
    "from sklearn.linear_model import Ridge,Lasso,ElasticNet,LinearRegression\n",
    "from sklearn.model_selection import cross_val_score\n",
    "from sklearn.model_selection import StratifiedShuffleSplit\n",
    "from sklearn.svm import LinearSVR\n",
    "from sklearn.svm import SVR\n",
    "from sklearn.metrics import mean_squared_error\n",
    "from sklearn.externals import joblib"
   ]
  },
  {
   "cell_type": "code",
   "execution_count": 174,
   "metadata": {},
   "outputs": [],
   "source": [
    "# %load ../codes/predictiveModelClass.py\n",
    "class PredictiveModelByilding(object):\n",
    "  \"\"\"docstring for PredictiveModelByilding\n",
    "this class will handle all pipeline for a preeictive modèle building \n",
    "in the chapter of my machine learning project ,\n",
    "it will train differents modele, encode data,scale data, and so on\n",
    "  \"\"\"\n",
    "  def __init__(self,dataset,encoderFunction):\n",
    "    if isinstance(dataset,pd.DataFrame):\n",
    "      self.dataset=dataset\n",
    "      self.training_set=pd.DataFrame()\n",
    "      self.test_set=pd.DataFrame()\n",
    "      self.predictiveModels={}\n",
    "      self.X_train=pd.DataFrame()\n",
    "      self.X_test=pd.DataFrame()\n",
    "      self.Y_train=pd.Series()\n",
    "      self.Y_test=pd.Series()\n",
    "      self.dataset_bin=encoderFunction(dataset,catCol=['SCHOOL_RIGHT', 'OPTION_RIGHT'],numCol=['DIPPERC','CGPA','EchecRatio'])\n",
    "      self.dataset_bin.reset_index(inplace=True)\n",
    "      ### init all models\n",
    "      ridge_reg=Ridge(alpha=1, solver=\"cholesky\")\n",
    "      linSVM_reg=LinearSVR(dual=False,fit_intercept=False,loss='squared_epsilon_insensitive' )\n",
    "      rbfSVM_reg=SVR(verbose=True)\n",
    "      lasso_reg=Lasso(alpha=1e-05,max_iter=10000)\n",
    "      elastic_reg=ElasticNet(alpha=1e-05,max_iter=10000,l1_ratio=1)\n",
    "      self.predictiveModels[ridge_reg.__class__.__name__]=ridge_reg\n",
    "      self.predictiveModels[linSVM_reg.__class__.__name__]=linSVM_reg\n",
    "      self.predictiveModels[rbfSVM_reg.__class__.__name__]=rbfSVM_reg\n",
    "      self.predictiveModels[lasso_reg.__class__.__name__]=lasso_reg\n",
    "      self.predictiveModels[elastic_reg.__class__.__name__]=elastic_reg\n",
    "\n",
    "    else:\n",
    "      raise TypeError('need only a DataFrame')\n",
    "  def scale(self,numCols):\n",
    "\n",
    "    \"\"\"this function will scale the values of GPA and DIP percentage by divide them by 100\"\"\"\n",
    "    self.dataset_bin.loc[:,numCols[0]] = self.dataset_bin[numCols[0]]/100\n",
    "    self.dataset_bin.loc[:,numCols[1]] = self.dataset_bin[numCols[1]]/100\n",
    "  def split(self):\n",
    "    \"\"\"the function will split the dataset into a train and a test one\" and return X_train and X_Test\"\"\"\n",
    "    split = StratifiedShuffleSplit(n_splits=1, test_size=0.2, random_state=42)\n",
    "    for train_index, test_index in split.split(self.dataset_bin, self.dataset_bin.EchecRatio):\n",
    "      self.training_set=self.dataset_bin.loc[train_index]\n",
    "      self.test_set=self.dataset_bin.loc[test_index]\n",
    "      self.training_set.set_index(keys='ID',inplace=True)\n",
    "      self.test_set.set_index(keys='ID',inplace=True)\n",
    "    self.Y_train=self.training_set.CGPA\n",
    "    self.X_train=self.training_set.drop(labels=['CGPA','EchecRatio'],axis=1)\n",
    "    self.Y_test= self.test_set.CGPA\n",
    "    self.X_test= self.test_set.drop(labels=['CGPA','EchecRatio'],axis=1)  \n",
    "    return self.training_set.describe()[['DIPPERC','CGPA']],self.test_set.describe()[['DIPPERC','CGPA']]\n",
    "  def train(self):\n",
    "    \"\"\"will train diverents models with X , Y pass in parametes\"\"\"\n",
    "    predictions={}\n",
    "    for clf in self.predictiveModels.values():\n",
    "      clf.fit(self.X_train, self.Y_train)\n",
    "      predictions[clf.__class__.__name__]= clf.predict(self.X_train)\n",
    "    predictedVal=pd.DataFrame.from_dict(predictions,dtype=np.float)\n",
    "    predictedVal.set_index(self.Y_train.index,inplace=True)\n",
    "    predictedVal.loc[:,'RealValue']=self.Y_train\n",
    "    return predictedVal\n",
    "  def predictTest(self):\n",
    "    \"\"\"evaluate the model on test set\"\"\"\n",
    "    predictions={}\n",
    "    for clf in self.predictiveModels.values():\n",
    "      predictions[clf.__class__.__name__]= clf.predict(self.X_test)\n",
    "    predictedVal=pd.DataFrame.from_dict(predictions,dtype=np.float)\n",
    "    predictedVal.set_index(self.Y_test.index,inplace=True)\n",
    "    predictedVal.loc[:,'RealValue']=self.Y_test\n",
    "    return predictedVal\n",
    "  def evaluate (self,model,on):\n",
    "    \"\"\" this function will first do a evaluation of a mdels and return the RMSE score of it and some datat and their labesl\n",
    "    \"\"\"\n",
    "    if on=='train':\n",
    "      some_data = self.X_train.iloc[:5]\n",
    "      some_labels = self.Y_train.iloc[:5]\n",
    "      print(\"Predictions:\\t\", self.predictiveModels[model].predict(some_data))\n",
    "      print(\"Labels:\\t\\t\", list(some_labels))\n",
    "      CGPA_predictions = self.predictiveModels[model].predict(self.X_train)\n",
    "      lin_mse = mean_squared_error(self.Y_train , CGPA_predictions)\n",
    "      lin_rmse=np.sqrt(lin_mse)\n",
    "      return lin_rmse\n",
    "    elif on=='test':\n",
    "      some_data = self.X_test.iloc[:5]\n",
    "      some_labels = self.Y_test.iloc[:5]\n",
    "      print(\"Predictions:\\t\", self.predictiveModels[model].predict(some_data))\n",
    "      print(\"Labels:\\t\\t\", list(some_labels))\n",
    "      CGPA_predictions = self.predictiveModels[model].predict(self.X_test)\n",
    "      lin_mse = mean_squared_error(self.Y_test , CGPA_predictions)\n",
    "      lin_rmse=np.sqrt(lin_mse)\n",
    "      return lin_rmse\n",
    "\n",
    "  def crossEvaluate(self,model):\n",
    "    \"\"\"this one will perfom a cross validation of the model\"\"\"\n",
    "    scores = cross_val_score(self.predictiveModels[model], self.X_train, self.Y_train,scoring=\"neg_mean_squared_error\", cv=10)\n",
    "    rmse_scores = np.sqrt(-scores)\n",
    "    return rmse_scores,rmse_scores.std(),rmse_scores.mean()\n",
    "  def ensembelMethods(self,predictedValues):\n",
    "    \"\"\" this method will get a dataframe of predicted values by diffrents classifier and will return \n",
    "    the value compute by  a linear regression between the 3 values and RMSE\n",
    "    \"\"\"\n",
    "    stacker= LinearRegression(normalize=True)\n",
    "    stacker.fit(predictedValues.drop(labels=\"RealValue\",axis=1), predictedValues.RealValue)\n",
    "    finalPredict=stacker.predict(predictedValues.drop(labels=\"RealValue\",axis=1))\n",
    "    predictedValues.loc[:,'finalPredict']=finalPredict\n",
    "    rmseEnsemble=np.sqrt(mean_squared_error(predictedValues.RealValue, finalPredict))\n",
    "    return predictedValues, rmseEnsemble\n",
    "  def saveModels(departement,self):\n",
    "    \"\"\"after all job we will save the models\"\"\"\n",
    "    for reg in self.predictiveModels.values():\n",
    "      name=departement+reg.__class__.__name__\n",
    "      joblib.dump(reg, \"../predictivesModels/\"+name+\".pkl\")"
   ]
  },
  {
   "cell_type": "code",
   "execution_count": 18,
   "metadata": {
    "collapsed": true
   },
   "outputs": [],
   "source": [
    "def ConvertCat(dataset, catCol,numCol):\n",
    "    \"\"\"this function will binarize a dataset given in parametrer and return the dataset with categorical columns binarise by one-hot encoding\"\"\"\n",
    "    enc= LabelBinarizer()\n",
    "    X_train_1=dataset[catCol]\n",
    "    X=dataset[numCol]\n",
    "    catCol=X_train_1.columns\n",
    "    for col in catCol:\n",
    "        data=dataset[[col]]\n",
    "        enc.fit(data)\n",
    "        # Fitting One Hot Encoding on train data\n",
    "        temp = enc.transform(dataset[[col]])\n",
    "        # Changing the encoded features into a data frame with new column names\n",
    "        temp=pd.DataFrame(temp,columns=[ col + '-' +i for i in data[col].value_counts().index])\n",
    "        # In side by side concatenation index values should be same\n",
    "        # Setting the index values similar to the X_train data frame\n",
    "        temp=temp.set_index(dataset.index)\n",
    "        # adding the new One Hot Encoded varibales to the train data frame\n",
    "        X=pd.merge(temp,X,right_index=True,left_index=True)\n",
    "    return X"
   ]
  },
  {
   "cell_type": "code",
   "execution_count": 7,
   "metadata": {
    "collapsed": true
   },
   "outputs": [],
   "source": [
    "dataset=pd.read_csv(\"../dataset/DatasetFinalV1.csv\",index_col=\"Unnamed: 0\")\n",
    "dataset.set_index(keys='ID',inplace=True)\n",
    "datasetCGPA=dataset[['DIPPERC', u'SCHOOL_RIGHT', u'OPTION_RIGHT', u'FAC' , u'CGPA','DistinctionRatio','EchecRatio','Pass1stSessionRatio']]"
   ]
  },
  {
   "cell_type": "code",
   "execution_count": 69,
   "metadata": {
    "collapsed": true
   },
   "outputs": [],
   "source": [
    "droit=datasetCGPA.loc[datasetCGPA.FAC=='FD']"
   ]
  },
  {
   "cell_type": "code",
   "execution_count": 108,
   "metadata": {},
   "outputs": [],
   "source": [
    "droitModel=PredictiveModelByilding(dataset=droit,encoderFunction=ConvertCat)"
   ]
  },
  {
   "cell_type": "code",
   "execution_count": 109,
   "metadata": {
    "collapsed": true
   },
   "outputs": [],
   "source": [
    "droitModel.scale(['CGPA','DIPPERC'])"
   ]
  },
  {
   "cell_type": "code",
   "execution_count": 110,
   "metadata": {
    "scrolled": false
   },
   "outputs": [],
   "source": [
    "describeTrain,describeTest=droitModel.split()"
   ]
  },
  {
   "cell_type": "code",
   "execution_count": 111,
   "metadata": {},
   "outputs": [
    {
     "data": {
      "text/plain": [
       "(180, 297)"
      ]
     },
     "execution_count": 111,
     "metadata": {},
     "output_type": "execute_result"
    }
   ],
   "source": [
    "droitModel.X_test.shape"
   ]
  },
  {
   "cell_type": "code",
   "execution_count": 112,
   "metadata": {
    "scrolled": true
   },
   "outputs": [
    {
     "data": {
      "text/html": [
       "<div>\n",
       "<table border=\"1\" class=\"dataframe\">\n",
       "  <thead>\n",
       "    <tr style=\"text-align: right;\">\n",
       "      <th></th>\n",
       "      <th>DIPPERC</th>\n",
       "      <th>CGPA</th>\n",
       "    </tr>\n",
       "  </thead>\n",
       "  <tbody>\n",
       "    <tr>\n",
       "      <th>count</th>\n",
       "      <td>716.000000</td>\n",
       "      <td>716.000000</td>\n",
       "    </tr>\n",
       "    <tr>\n",
       "      <th>mean</th>\n",
       "      <td>0.560793</td>\n",
       "      <td>0.580058</td>\n",
       "    </tr>\n",
       "    <tr>\n",
       "      <th>std</th>\n",
       "      <td>0.051890</td>\n",
       "      <td>0.069535</td>\n",
       "    </tr>\n",
       "    <tr>\n",
       "      <th>min</th>\n",
       "      <td>0.500000</td>\n",
       "      <td>0.364000</td>\n",
       "    </tr>\n",
       "    <tr>\n",
       "      <th>25%</th>\n",
       "      <td>0.520000</td>\n",
       "      <td>0.550000</td>\n",
       "    </tr>\n",
       "    <tr>\n",
       "      <th>50%</th>\n",
       "      <td>0.550000</td>\n",
       "      <td>0.591000</td>\n",
       "    </tr>\n",
       "    <tr>\n",
       "      <th>75%</th>\n",
       "      <td>0.590000</td>\n",
       "      <td>0.621500</td>\n",
       "    </tr>\n",
       "    <tr>\n",
       "      <th>max</th>\n",
       "      <td>0.780000</td>\n",
       "      <td>0.781000</td>\n",
       "    </tr>\n",
       "  </tbody>\n",
       "</table>\n",
       "</div>"
      ],
      "text/plain": [
       "          DIPPERC        CGPA\n",
       "count  716.000000  716.000000\n",
       "mean     0.560793    0.580058\n",
       "std      0.051890    0.069535\n",
       "min      0.500000    0.364000\n",
       "25%      0.520000    0.550000\n",
       "50%      0.550000    0.591000\n",
       "75%      0.590000    0.621500\n",
       "max      0.780000    0.781000"
      ]
     },
     "execution_count": 112,
     "metadata": {},
     "output_type": "execute_result"
    }
   ],
   "source": [
    "describeTest"
   ]
  },
  {
   "cell_type": "code",
   "execution_count": 113,
   "metadata": {
    "scrolled": true
   },
   "outputs": [
    {
     "data": {
      "text/html": [
       "<div>\n",
       "<table border=\"1\" class=\"dataframe\">\n",
       "  <thead>\n",
       "    <tr style=\"text-align: right;\">\n",
       "      <th></th>\n",
       "      <th>DIPPERC</th>\n",
       "      <th>CGPA</th>\n",
       "    </tr>\n",
       "  </thead>\n",
       "  <tbody>\n",
       "    <tr>\n",
       "      <th>count</th>\n",
       "      <td>716.000000</td>\n",
       "      <td>716.000000</td>\n",
       "    </tr>\n",
       "    <tr>\n",
       "      <th>mean</th>\n",
       "      <td>0.560793</td>\n",
       "      <td>0.580058</td>\n",
       "    </tr>\n",
       "    <tr>\n",
       "      <th>std</th>\n",
       "      <td>0.051890</td>\n",
       "      <td>0.069535</td>\n",
       "    </tr>\n",
       "    <tr>\n",
       "      <th>min</th>\n",
       "      <td>0.500000</td>\n",
       "      <td>0.364000</td>\n",
       "    </tr>\n",
       "    <tr>\n",
       "      <th>25%</th>\n",
       "      <td>0.520000</td>\n",
       "      <td>0.550000</td>\n",
       "    </tr>\n",
       "    <tr>\n",
       "      <th>50%</th>\n",
       "      <td>0.550000</td>\n",
       "      <td>0.591000</td>\n",
       "    </tr>\n",
       "    <tr>\n",
       "      <th>75%</th>\n",
       "      <td>0.590000</td>\n",
       "      <td>0.621500</td>\n",
       "    </tr>\n",
       "    <tr>\n",
       "      <th>max</th>\n",
       "      <td>0.780000</td>\n",
       "      <td>0.781000</td>\n",
       "    </tr>\n",
       "  </tbody>\n",
       "</table>\n",
       "</div>"
      ],
      "text/plain": [
       "          DIPPERC        CGPA\n",
       "count  716.000000  716.000000\n",
       "mean     0.560793    0.580058\n",
       "std      0.051890    0.069535\n",
       "min      0.500000    0.364000\n",
       "25%      0.520000    0.550000\n",
       "50%      0.550000    0.591000\n",
       "75%      0.590000    0.621500\n",
       "max      0.780000    0.781000"
      ]
     },
     "execution_count": 113,
     "metadata": {},
     "output_type": "execute_result"
    }
   ],
   "source": [
    "describeTrain"
   ]
  },
  {
   "cell_type": "code",
   "execution_count": 114,
   "metadata": {},
   "outputs": [
    {
     "name": "stdout",
     "output_type": "stream",
     "text": [
      "[LibSVM]"
     ]
    }
   ],
   "source": [
    "predictedValues=droitModel.train()"
   ]
  },
  {
   "cell_type": "code",
   "execution_count": 79,
   "metadata": {
    "scrolled": true
   },
   "outputs": [
    {
     "data": {
      "text/plain": [
       "['ElasticNet', 'SVR', 'LinearSVR', 'Ridge', 'Lasso']"
      ]
     },
     "execution_count": 79,
     "metadata": {},
     "output_type": "execute_result"
    }
   ],
   "source": [
    "droitModel.predictiveModels.keys()"
   ]
  },
  {
   "cell_type": "code",
   "execution_count": 115,
   "metadata": {
    "scrolled": true
   },
   "outputs": [
    {
     "data": {
      "text/html": [
       "<div>\n",
       "<table border=\"1\" class=\"dataframe\">\n",
       "  <thead>\n",
       "    <tr style=\"text-align: right;\">\n",
       "      <th></th>\n",
       "      <th>ElasticNet</th>\n",
       "      <th>Lasso</th>\n",
       "      <th>LinearSVR</th>\n",
       "      <th>Ridge</th>\n",
       "      <th>SVR</th>\n",
       "      <th>RealValue</th>\n",
       "    </tr>\n",
       "    <tr>\n",
       "      <th>ID</th>\n",
       "      <th></th>\n",
       "      <th></th>\n",
       "      <th></th>\n",
       "      <th></th>\n",
       "      <th></th>\n",
       "      <th></th>\n",
       "    </tr>\n",
       "  </thead>\n",
       "  <tbody>\n",
       "    <tr>\n",
       "      <th>10709</th>\n",
       "      <td>0.569160</td>\n",
       "      <td>0.569160</td>\n",
       "      <td>0.553602</td>\n",
       "      <td>0.563864</td>\n",
       "      <td>0.554185</td>\n",
       "      <td>0.56200</td>\n",
       "    </tr>\n",
       "    <tr>\n",
       "      <th>4026</th>\n",
       "      <td>0.533646</td>\n",
       "      <td>0.533646</td>\n",
       "      <td>0.516206</td>\n",
       "      <td>0.543356</td>\n",
       "      <td>0.550057</td>\n",
       "      <td>0.59700</td>\n",
       "    </tr>\n",
       "    <tr>\n",
       "      <th>8307</th>\n",
       "      <td>0.548312</td>\n",
       "      <td>0.548312</td>\n",
       "      <td>0.545496</td>\n",
       "      <td>0.555175</td>\n",
       "      <td>0.569755</td>\n",
       "      <td>0.63800</td>\n",
       "    </tr>\n",
       "    <tr>\n",
       "      <th>7713</th>\n",
       "      <td>0.649854</td>\n",
       "      <td>0.649854</td>\n",
       "      <td>0.680102</td>\n",
       "      <td>0.625937</td>\n",
       "      <td>0.556364</td>\n",
       "      <td>0.61775</td>\n",
       "    </tr>\n",
       "    <tr>\n",
       "      <th>8335</th>\n",
       "      <td>0.564797</td>\n",
       "      <td>0.564797</td>\n",
       "      <td>0.572836</td>\n",
       "      <td>0.560507</td>\n",
       "      <td>0.531529</td>\n",
       "      <td>0.60350</td>\n",
       "    </tr>\n",
       "    <tr>\n",
       "      <th>12196</th>\n",
       "      <td>0.561756</td>\n",
       "      <td>0.561756</td>\n",
       "      <td>0.560619</td>\n",
       "      <td>0.560630</td>\n",
       "      <td>0.548114</td>\n",
       "      <td>0.42000</td>\n",
       "    </tr>\n",
       "    <tr>\n",
       "      <th>9004</th>\n",
       "      <td>0.549590</td>\n",
       "      <td>0.549590</td>\n",
       "      <td>0.546518</td>\n",
       "      <td>0.552067</td>\n",
       "      <td>0.544990</td>\n",
       "      <td>0.48000</td>\n",
       "    </tr>\n",
       "    <tr>\n",
       "      <th>10192</th>\n",
       "      <td>0.585291</td>\n",
       "      <td>0.585291</td>\n",
       "      <td>0.582199</td>\n",
       "      <td>0.576354</td>\n",
       "      <td>0.544221</td>\n",
       "      <td>0.59000</td>\n",
       "    </tr>\n",
       "    <tr>\n",
       "      <th>12000</th>\n",
       "      <td>0.496352</td>\n",
       "      <td>0.496352</td>\n",
       "      <td>0.482219</td>\n",
       "      <td>0.513912</td>\n",
       "      <td>0.537509</td>\n",
       "      <td>0.42000</td>\n",
       "    </tr>\n",
       "    <tr>\n",
       "      <th>11373</th>\n",
       "      <td>0.561155</td>\n",
       "      <td>0.561155</td>\n",
       "      <td>0.579594</td>\n",
       "      <td>0.552852</td>\n",
       "      <td>0.549012</td>\n",
       "      <td>0.60600</td>\n",
       "    </tr>\n",
       "  </tbody>\n",
       "</table>\n",
       "</div>"
      ],
      "text/plain": [
       "       ElasticNet     Lasso  LinearSVR     Ridge       SVR  RealValue\n",
       "ID                                                                   \n",
       "10709    0.569160  0.569160   0.553602  0.563864  0.554185    0.56200\n",
       "4026     0.533646  0.533646   0.516206  0.543356  0.550057    0.59700\n",
       "8307     0.548312  0.548312   0.545496  0.555175  0.569755    0.63800\n",
       "7713     0.649854  0.649854   0.680102  0.625937  0.556364    0.61775\n",
       "8335     0.564797  0.564797   0.572836  0.560507  0.531529    0.60350\n",
       "12196    0.561756  0.561756   0.560619  0.560630  0.548114    0.42000\n",
       "9004     0.549590  0.549590   0.546518  0.552067  0.544990    0.48000\n",
       "10192    0.585291  0.585291   0.582199  0.576354  0.544221    0.59000\n",
       "12000    0.496352  0.496352   0.482219  0.513912  0.537509    0.42000\n",
       "11373    0.561155  0.561155   0.579594  0.552852  0.549012    0.60600"
      ]
     },
     "execution_count": 115,
     "metadata": {},
     "output_type": "execute_result"
    }
   ],
   "source": [
    "predictedValues.head(10)"
   ]
  },
  {
   "cell_type": "code",
   "execution_count": 116,
   "metadata": {
    "scrolled": false
   },
   "outputs": [
    {
     "name": "stdout",
     "output_type": "stream",
     "text": [
      "('Predictions:\\t', array([ 0.56915998,  0.53364647,  0.54831246,  0.64985428,  0.56479681]))\n",
      "('Labels:\\t\\t', [0.56199998855600009, 0.59700000762899996, 0.63799999237100002, 0.61774999618500004, 0.60350000381499991])\n",
      "('Predictions:\\t', array([ 0.55418524,  0.55005711,  0.56975511,  0.55636392,  0.53152906]))\n",
      "('Labels:\\t\\t', [0.56199998855600009, 0.59700000762899996, 0.63799999237100002, 0.61774999618500004, 0.60350000381499991])\n",
      "('Predictions:\\t', array([ 0.5536023 ,  0.51620636,  0.54549554,  0.68010249,  0.57283626]))\n",
      "('Labels:\\t\\t', [0.56199998855600009, 0.59700000762899996, 0.63799999237100002, 0.61774999618500004, 0.60350000381499991])\n",
      "('Predictions:\\t', array([ 0.56386402,  0.54335583,  0.55517475,  0.62593662,  0.56050673]))\n",
      "('Labels:\\t\\t', [0.56199998855600009, 0.59700000762899996, 0.63799999237100002, 0.61774999618500004, 0.60350000381499991])\n",
      "('Predictions:\\t', array([ 0.56915998,  0.53364647,  0.54831246,  0.64985428,  0.56479681]))\n",
      "('Labels:\\t\\t', [0.56199998855600009, 0.59700000762899996, 0.63799999237100002, 0.61774999618500004, 0.60350000381499991])\n"
     ]
    }
   ],
   "source": [
    "RMSE={}\n",
    "for reg in droitModel.predictiveModels.keys():\n",
    "    rmse=droitModel.evaluate(model=reg,on='train') #RMSE of each model\n",
    "    RMSE[reg]=[rmse,rmse*100/droitModel.dataset_bin.CGPA.mean()]"
   ]
  },
  {
   "cell_type": "code",
   "execution_count": 117,
   "metadata": {
    "scrolled": false
   },
   "outputs": [
    {
     "data": {
      "text/plain": [
       "{'ElasticNet': [0.048511380800375606, 8.3608563879177407],\n",
       " 'Lasso': [0.048511380800375606, 8.3608563879177407],\n",
       " 'LinearSVR': [0.051960828817335478, 8.9553630585496737],\n",
       " 'Ridge': [0.052126970689201822, 8.9839973358630818],\n",
       " 'SVR': [0.066878676691107516, 11.526429510000717]}"
      ]
     },
     "execution_count": 117,
     "metadata": {},
     "output_type": "execute_result"
    }
   ],
   "source": [
    "RMSE"
   ]
  },
  {
   "cell_type": "markdown",
   "metadata": {},
   "source": [
    "Let try cross validation"
   ]
  },
  {
   "cell_type": "code",
   "execution_count": 118,
   "metadata": {},
   "outputs": [
    {
     "name": "stdout",
     "output_type": "stream",
     "text": [
      "[LibSVM][LibSVM][LibSVM][LibSVM][LibSVM][LibSVM][LibSVM][LibSVM][LibSVM][LibSVM]"
     ]
    }
   ],
   "source": [
    "CVScore={}\n",
    "for reg in droitModel.predictiveModels.keys():\n",
    "    scores,Sstd,Smean=droitModel.crossEvaluate(model=reg) #RMSE of each model\n",
    "    CVScore[reg]=[Smean,Smean*100/droitModel.dataset_bin.CGPA.mean()]"
   ]
  },
  {
   "cell_type": "code",
   "execution_count": 119,
   "metadata": {
    "scrolled": false
   },
   "outputs": [
    {
     "data": {
      "text/plain": [
       "{'ElasticNet': [0.070013030408387078, 12.066630198308225],\n",
       " 'Lasso': [0.070013030408387078, 12.066630198308225],\n",
       " 'LinearSVR': [0.075690657044111043, 13.045159775127384],\n",
       " 'Ridge': [0.066934950459060144, 11.536128200998506],\n",
       " 'SVR': [0.068529975364412049, 11.811028110025546]}"
      ]
     },
     "execution_count": 119,
     "metadata": {},
     "output_type": "execute_result"
    }
   ],
   "source": [
    "CVScore"
   ]
  },
  {
   "cell_type": "markdown",
   "metadata": {},
   "source": [
    "Appres les scrores sur la validation croisée essayons de combinner les methodes par une rgression lineaire"
   ]
  },
  {
   "cell_type": "code",
   "execution_count": 54,
   "metadata": {
    "scrolled": false
   },
   "outputs": [
    {
     "name": "stdout",
     "output_type": "stream",
     "text": [
      "Fitting 5 folds for each of 16 candidates, totalling 80 fits\n",
      "[CV] alpha=1e-05, selection=cyclic ...................................\n",
      "[CV] ... alpha=1e-05, selection=cyclic, score=-0.005322, total=   0.3s\n",
      "[CV] alpha=1e-05, selection=cyclic ...................................\n",
      "[CV] ... alpha=1e-05, selection=cyclic, score=-0.004703, total=   0.1s\n",
      "[CV] alpha=1e-05, selection=cyclic ...................................\n"
     ]
    },
    {
     "name": "stderr",
     "output_type": "stream",
     "text": [
      "[Parallel(n_jobs=1)]: Done   1 out of   1 | elapsed:    0.3s remaining:    0.0s\n",
      "[Parallel(n_jobs=1)]: Done   2 out of   2 | elapsed:    0.4s remaining:    0.0s\n"
     ]
    },
    {
     "name": "stdout",
     "output_type": "stream",
     "text": [
      "[CV] ... alpha=1e-05, selection=cyclic, score=-0.005221, total=   0.3s\n",
      "[CV] alpha=1e-05, selection=cyclic ...................................\n"
     ]
    },
    {
     "name": "stderr",
     "output_type": "stream",
     "text": [
      "[Parallel(n_jobs=1)]: Done   3 out of   3 | elapsed:    0.7s remaining:    0.0s\n"
     ]
    },
    {
     "name": "stdout",
     "output_type": "stream",
     "text": [
      "[CV] ... alpha=1e-05, selection=cyclic, score=-0.005055, total=   0.2s\n",
      "[CV] alpha=1e-05, selection=cyclic ...................................\n",
      "[CV] ... alpha=1e-05, selection=cyclic, score=-0.004535, total=   0.1s\n",
      "[CV] alpha=1e-05, selection=random ...................................\n"
     ]
    },
    {
     "name": "stderr",
     "output_type": "stream",
     "text": [
      "[Parallel(n_jobs=1)]: Done   4 out of   4 | elapsed:    1.0s remaining:    0.0s\n"
     ]
    },
    {
     "name": "stdout",
     "output_type": "stream",
     "text": [
      "[CV] ... alpha=1e-05, selection=random, score=-0.005322, total=   0.4s\n",
      "[CV] alpha=1e-05, selection=random ...................................\n",
      "[CV] ... alpha=1e-05, selection=random, score=-0.004703, total=   0.3s\n",
      "[CV] alpha=1e-05, selection=random ...................................\n",
      "[CV] ... alpha=1e-05, selection=random, score=-0.005229, total=   0.2s\n",
      "[CV] alpha=1e-05, selection=random ...................................\n",
      "[CV] ... alpha=1e-05, selection=random, score=-0.005055, total=   0.1s\n",
      "[CV] alpha=1e-05, selection=random ...................................\n",
      "[CV] ... alpha=1e-05, selection=random, score=-0.004535, total=   0.2s\n",
      "[CV] alpha=0.0001, selection=cyclic ..................................\n",
      "[CV] .. alpha=0.0001, selection=cyclic, score=-0.004921, total=   0.0s\n",
      "[CV] alpha=0.0001, selection=cyclic ..................................\n",
      "[CV] .. alpha=0.0001, selection=cyclic, score=-0.004540, total=   0.1s\n",
      "[CV] alpha=0.0001, selection=cyclic ..................................\n",
      "[CV] .. alpha=0.0001, selection=cyclic, score=-0.004925, total=   0.1s\n",
      "[CV] alpha=0.0001, selection=cyclic ..................................\n",
      "[CV] .. alpha=0.0001, selection=cyclic, score=-0.004119, total=   0.0s\n",
      "[CV] alpha=0.0001, selection=cyclic ..................................\n",
      "[CV] .. alpha=0.0001, selection=cyclic, score=-0.004132, total=   0.0s\n",
      "[CV] alpha=0.0001, selection=random ..................................\n",
      "[CV] .. alpha=0.0001, selection=random, score=-0.004921, total=   0.0s\n",
      "[CV] alpha=0.0001, selection=random ..................................\n",
      "[CV] .. alpha=0.0001, selection=random, score=-0.004540, total=   0.1s\n",
      "[CV] alpha=0.0001, selection=random ..................................\n",
      "[CV] .. alpha=0.0001, selection=random, score=-0.004926, total=   0.1s\n",
      "[CV] alpha=0.0001, selection=random ..................................\n",
      "[CV] .. alpha=0.0001, selection=random, score=-0.004119, total=   0.1s\n",
      "[CV] alpha=0.0001, selection=random ..................................\n",
      "[CV] .. alpha=0.0001, selection=random, score=-0.004132, total=   0.0s\n",
      "[CV] alpha=0.001, selection=cyclic ...................................\n",
      "[CV] ... alpha=0.001, selection=cyclic, score=-0.005263, total=   0.0s\n",
      "[CV] alpha=0.001, selection=cyclic ...................................\n",
      "[CV] ... alpha=0.001, selection=cyclic, score=-0.004974, total=   0.0s\n",
      "[CV] alpha=0.001, selection=cyclic ...................................\n",
      "[CV] ... alpha=0.001, selection=cyclic, score=-0.005136, total=   0.0s\n",
      "[CV] alpha=0.001, selection=cyclic ...................................\n",
      "[CV] ... alpha=0.001, selection=cyclic, score=-0.003475, total=   0.0s\n",
      "[CV] alpha=0.001, selection=cyclic ...................................\n",
      "[CV] ... alpha=0.001, selection=cyclic, score=-0.004153, total=   0.0s\n",
      "[CV] alpha=0.001, selection=random ...................................\n",
      "[CV] ... alpha=0.001, selection=random, score=-0.005263, total=   0.0s\n",
      "[CV] alpha=0.001, selection=random ...................................\n",
      "[CV] ... alpha=0.001, selection=random, score=-0.004974, total=   0.0s\n",
      "[CV] alpha=0.001, selection=random ...................................\n",
      "[CV] ... alpha=0.001, selection=random, score=-0.005136, total=   0.0s\n",
      "[CV] alpha=0.001, selection=random ...................................\n",
      "[CV] ... alpha=0.001, selection=random, score=-0.003475, total=   0.0s\n",
      "[CV] alpha=0.001, selection=random ...................................\n",
      "[CV] ... alpha=0.001, selection=random, score=-0.004153, total=   0.0s\n",
      "[CV] alpha=0.01, selection=cyclic ....................................\n",
      "[CV] .... alpha=0.01, selection=cyclic, score=-0.005519, total=   0.0s\n",
      "[CV] alpha=0.01, selection=cyclic ....................................\n",
      "[CV] .... alpha=0.01, selection=cyclic, score=-0.005463, total=   0.0s\n",
      "[CV] alpha=0.01, selection=cyclic ....................................\n",
      "[CV] .... alpha=0.01, selection=cyclic, score=-0.005285, total=   0.0s\n",
      "[CV] alpha=0.01, selection=cyclic ....................................\n",
      "[CV] .... alpha=0.01, selection=cyclic, score=-0.003664, total=   0.0s\n",
      "[CV] alpha=0.01, selection=cyclic ....................................\n",
      "[CV] .... alpha=0.01, selection=cyclic, score=-0.004268, total=   0.0s\n",
      "[CV] alpha=0.01, selection=random ....................................\n",
      "[CV] .... alpha=0.01, selection=random, score=-0.005519, total=   0.0s\n",
      "[CV] alpha=0.01, selection=random ....................................\n",
      "[CV] .... alpha=0.01, selection=random, score=-0.005463, total=   0.0s\n",
      "[CV] alpha=0.01, selection=random ....................................\n",
      "[CV] .... alpha=0.01, selection=random, score=-0.005285, total=   0.0s\n",
      "[CV] alpha=0.01, selection=random ....................................\n",
      "[CV] .... alpha=0.01, selection=random, score=-0.003664, total=   0.0s\n",
      "[CV] alpha=0.01, selection=random ....................................\n",
      "[CV] .... alpha=0.01, selection=random, score=-0.004268, total=   0.0s\n",
      "[CV] alpha=0, selection=cyclic .......................................\n"
     ]
    },
    {
     "name": "stderr",
     "output_type": "stream",
     "text": [
      "/Users/espyMur/Desktop/Memory-WorkingDir/memoryVenv/lib/python2.7/site-packages/sklearn/model_selection/_validation.py:238: UserWarning: With alpha=0, this algorithm does not converge well. You are advised to use the LinearRegression estimator\n",
      "  estimator.fit(X_train, y_train, **fit_params)\n",
      "/Users/espyMur/Desktop/Memory-WorkingDir/memoryVenv/lib/python2.7/site-packages/sklearn/linear_model/coordinate_descent.py:470: UserWarning: Coordinate descent with alpha=0 may lead to unexpected results and is discouraged.\n",
      "  positive)\n",
      "/Users/espyMur/Desktop/Memory-WorkingDir/memoryVenv/lib/python2.7/site-packages/sklearn/linear_model/coordinate_descent.py:484: ConvergenceWarning: Objective did not converge. You might want to increase the number of iterations. Fitting data with very small alpha may cause precision problems.\n",
      "  ConvergenceWarning)\n"
     ]
    },
    {
     "name": "stdout",
     "output_type": "stream",
     "text": [
      "[CV] ....... alpha=0, selection=cyclic, score=-0.005376, total=   4.1s\n",
      "[CV] alpha=0, selection=cyclic .......................................\n",
      "[CV] ....... alpha=0, selection=cyclic, score=-0.004736, total=   5.0s\n",
      "[CV] alpha=0, selection=cyclic .......................................\n",
      "[CV] ....... alpha=0, selection=cyclic, score=-0.005348, total=   5.0s\n",
      "[CV] alpha=0, selection=cyclic .......................................\n",
      "[CV] ....... alpha=0, selection=cyclic, score=-0.005173, total=   4.8s\n",
      "[CV] alpha=0, selection=cyclic .......................................\n",
      "[CV] ....... alpha=0, selection=cyclic, score=-0.004637, total=   4.7s\n",
      "[CV] alpha=0, selection=random .......................................\n",
      "[CV] ....... alpha=0, selection=random, score=-0.005372, total=   3.8s\n",
      "[CV] alpha=0, selection=random .......................................\n",
      "[CV] ....... alpha=0, selection=random, score=-0.004732, total=   4.9s\n",
      "[CV] alpha=0, selection=random .......................................\n",
      "[CV] ....... alpha=0, selection=random, score=-0.005347, total=   5.0s\n",
      "[CV] alpha=0, selection=random .......................................\n",
      "[CV] ....... alpha=0, selection=random, score=-0.005191, total=   5.1s\n",
      "[CV] alpha=0, selection=random .......................................\n",
      "[CV] ....... alpha=0, selection=random, score=-0.004568, total=   5.2s\n",
      "[CV] alpha=1, selection=cyclic .......................................\n",
      "[CV] ....... alpha=1, selection=cyclic, score=-0.005519, total=   0.0s\n",
      "[CV] alpha=1, selection=cyclic .......................................\n",
      "[CV] ....... alpha=1, selection=cyclic, score=-0.005463, total=   0.0s\n",
      "[CV] alpha=1, selection=cyclic .......................................\n",
      "[CV] ....... alpha=1, selection=cyclic, score=-0.005285, total=   0.0s\n",
      "[CV] alpha=1, selection=cyclic .......................................\n",
      "[CV] ....... alpha=1, selection=cyclic, score=-0.003664, total=   0.0s\n",
      "[CV] alpha=1, selection=cyclic .......................................\n",
      "[CV] ....... alpha=1, selection=cyclic, score=-0.004268, total=   0.0s\n",
      "[CV] alpha=1, selection=random .......................................\n",
      "[CV] ....... alpha=1, selection=random, score=-0.005519, total=   0.0s\n",
      "[CV] alpha=1, selection=random .......................................\n",
      "[CV] ....... alpha=1, selection=random, score=-0.005463, total=   0.0s\n",
      "[CV] alpha=1, selection=random .......................................\n",
      "[CV] ....... alpha=1, selection=random, score=-0.005285, total=   0.0s\n",
      "[CV] alpha=1, selection=random .......................................\n",
      "[CV] ....... alpha=1, selection=random, score=-0.003664, total=   0.0s\n",
      "[CV] alpha=1, selection=random .......................................\n",
      "[CV] ....... alpha=1, selection=random, score=-0.004268, total=   0.0s\n",
      "[CV] alpha=5, selection=cyclic .......................................\n",
      "[CV] ....... alpha=5, selection=cyclic, score=-0.005519, total=   0.0s\n",
      "[CV] alpha=5, selection=cyclic .......................................\n",
      "[CV] ....... alpha=5, selection=cyclic, score=-0.005463, total=   0.0s\n",
      "[CV] alpha=5, selection=cyclic .......................................\n",
      "[CV] ....... alpha=5, selection=cyclic, score=-0.005285, total=   0.0s\n",
      "[CV] alpha=5, selection=cyclic .......................................\n",
      "[CV] ....... alpha=5, selection=cyclic, score=-0.003664, total=   0.0s\n",
      "[CV] alpha=5, selection=cyclic .......................................\n",
      "[CV] ....... alpha=5, selection=cyclic, score=-0.004268, total=   0.0s\n",
      "[CV] alpha=5, selection=random .......................................\n",
      "[CV] ....... alpha=5, selection=random, score=-0.005519, total=   0.0s\n",
      "[CV] alpha=5, selection=random .......................................\n",
      "[CV] ....... alpha=5, selection=random, score=-0.005463, total=   0.0s\n",
      "[CV] alpha=5, selection=random .......................................\n",
      "[CV] ....... alpha=5, selection=random, score=-0.005285, total=   0.0s\n",
      "[CV] alpha=5, selection=random .......................................\n",
      "[CV] ....... alpha=5, selection=random, score=-0.003664, total=   0.0s\n",
      "[CV] alpha=5, selection=random .......................................\n",
      "[CV] ....... alpha=5, selection=random, score=-0.004268, total=   0.0s\n",
      "[CV] alpha=10, selection=cyclic ......................................\n",
      "[CV] ...... alpha=10, selection=cyclic, score=-0.005519, total=   0.0s\n",
      "[CV] alpha=10, selection=cyclic ......................................\n",
      "[CV] ...... alpha=10, selection=cyclic, score=-0.005463, total=   0.0s\n",
      "[CV] alpha=10, selection=cyclic ......................................\n",
      "[CV] ...... alpha=10, selection=cyclic, score=-0.005285, total=   0.0s\n",
      "[CV] alpha=10, selection=cyclic ......................................\n",
      "[CV] ...... alpha=10, selection=cyclic, score=-0.003664, total=   0.0s\n",
      "[CV] alpha=10, selection=cyclic ......................................\n",
      "[CV] ...... alpha=10, selection=cyclic, score=-0.004268, total=   0.0s\n",
      "[CV] alpha=10, selection=random ......................................\n",
      "[CV] ...... alpha=10, selection=random, score=-0.005519, total=   0.0s\n",
      "[CV] alpha=10, selection=random ......................................\n",
      "[CV] ...... alpha=10, selection=random, score=-0.005463, total=   0.0s\n",
      "[CV] alpha=10, selection=random ......................................\n",
      "[CV] ...... alpha=10, selection=random, score=-0.005285, total=   0.0s\n",
      "[CV] alpha=10, selection=random ......................................\n",
      "[CV] ...... alpha=10, selection=random, score=-0.003664, total=   0.0s\n",
      "[CV] alpha=10, selection=random ......................................\n",
      "[CV] ...... alpha=10, selection=random, score=-0.004268, total=   0.0s\n"
     ]
    },
    {
     "name": "stderr",
     "output_type": "stream",
     "text": [
      "[Parallel(n_jobs=1)]: Done  80 out of  80 | elapsed:   51.7s finished\n"
     ]
    },
    {
     "data": {
      "text/plain": [
       "GridSearchCV(cv=5, error_score='raise',\n",
       "       estimator=Lasso(alpha=0.001, copy_X=True, fit_intercept=True, max_iter=10000,\n",
       "   normalize=False, positive=False, precompute=False, random_state=None,\n",
       "   selection='cyclic', tol=0.0001, warm_start=False),\n",
       "       fit_params={}, iid=True, n_jobs=1,\n",
       "       param_grid={'alpha': [1e-05, 0.0001, 0.001, 0.01, 0, 1, 5, 10], 'selection': ['cyclic', 'random']},\n",
       "       pre_dispatch='2*n_jobs', refit=True, return_train_score=True,\n",
       "       scoring='neg_mean_squared_error', verbose=5)"
      ]
     },
     "execution_count": 54,
     "metadata": {},
     "output_type": "execute_result"
    }
   ],
   "source": [
    "from sklearn.model_selection import GridSearchCV\n",
    "param_grid ={'alpha':[1e-5,1e-4, 1e-3,1e-2,0, 1, 5, 10],'selection':['cyclic','random']}\n",
    "grid_search = GridSearchCV(droitModel.predictiveModels['Lasso'], param_grid, cv=5,scoring='neg_mean_squared_error',verbose=5)\n",
    "grid_search.fit(droitModel.X_train,droitModel.Y_train)"
   ]
  },
  {
   "cell_type": "code",
   "execution_count": 55,
   "metadata": {
    "scrolled": false
   },
   "outputs": [
    {
     "name": "stdout",
     "output_type": "stream",
     "text": [
      "(0.0672890169473533, {'alpha': 1e-05, 'selection': 'cyclic'})\n",
      "(0.067290284332038222, {'alpha': 1e-05, 'selection': 'random'})\n",
      "(0.067831595702809055, {'alpha': 0.0001, 'selection': 'cyclic'})\n",
      "(0.067831710365960446, {'alpha': 0.0001, 'selection': 'random'})\n",
      "(0.06957552507642617, {'alpha': 0.001, 'selection': 'cyclic'})\n",
      "(0.06957552507642617, {'alpha': 0.001, 'selection': 'random'})\n",
      "(0.06957552507642617, {'alpha': 0.01, 'selection': 'cyclic'})\n",
      "(0.06957552507642617, {'alpha': 0.01, 'selection': 'random'})\n",
      "(0.06957552507642617, {'alpha': 0, 'selection': 'cyclic'})\n",
      "(0.06957552507642617, {'alpha': 0, 'selection': 'random'})\n",
      "(0.06957552507642617, {'alpha': 1, 'selection': 'cyclic'})\n",
      "(0.06957552507642617, {'alpha': 1, 'selection': 'random'})\n",
      "(0.070481873651514551, {'alpha': 5, 'selection': 'cyclic'})\n",
      "(0.070493598520100439, {'alpha': 5, 'selection': 'random'})\n",
      "(0.071009492129496574, {'alpha': 10, 'selection': 'cyclic'})\n",
      "(0.071094610279614737, {'alpha': 10, 'selection': 'random'})\n"
     ]
    }
   ],
   "source": [
    "cvres = grid_search.cv_results_\n",
    "for mean_score, params in zip(sorted(cvres[\"mean_test_score\"],reverse=True), cvres[\"params\"]):\n",
    "    print(np.sqrt(-mean_score), params)"
   ]
  },
  {
   "cell_type": "markdown",
   "metadata": {},
   "source": [
    "Nous venons de voir qu'avec un alpha de 1e-05 notre modele dispose d'un bon score"
   ]
  },
  {
   "cell_type": "code",
   "execution_count": 56,
   "metadata": {
    "scrolled": true
   },
   "outputs": [
    {
     "name": "stdout",
     "output_type": "stream",
     "text": [
      "Fitting 5 folds for each of 80 candidates, totalling 400 fits\n",
      "[CV] alpha=1e-05, selection=cyclic, l1_ratio=1 .......................\n",
      "[CV]  alpha=1e-05, selection=cyclic, l1_ratio=1, score=-0.005322, total=   0.4s\n",
      "[CV] alpha=1e-05, selection=cyclic, l1_ratio=1 .......................\n",
      "[CV]  alpha=1e-05, selection=cyclic, l1_ratio=1, score=-0.004703, total=   0.1s\n",
      "[CV] alpha=1e-05, selection=cyclic, l1_ratio=1 .......................\n"
     ]
    },
    {
     "name": "stderr",
     "output_type": "stream",
     "text": [
      "[Parallel(n_jobs=1)]: Done   1 out of   1 | elapsed:    0.4s remaining:    0.0s\n",
      "[Parallel(n_jobs=1)]: Done   2 out of   2 | elapsed:    0.5s remaining:    0.0s\n"
     ]
    },
    {
     "name": "stdout",
     "output_type": "stream",
     "text": [
      "[CV]  alpha=1e-05, selection=cyclic, l1_ratio=1, score=-0.005221, total=   0.3s\n",
      "[CV] alpha=1e-05, selection=cyclic, l1_ratio=1 .......................\n",
      "[CV]  alpha=1e-05, selection=cyclic, l1_ratio=1, score=-0.005055, total=   0.1s\n",
      "[CV] alpha=1e-05, selection=cyclic, l1_ratio=1 .......................\n"
     ]
    },
    {
     "name": "stderr",
     "output_type": "stream",
     "text": [
      "[Parallel(n_jobs=1)]: Done   3 out of   3 | elapsed:    0.8s remaining:    0.0s\n",
      "[Parallel(n_jobs=1)]: Done   4 out of   4 | elapsed:    0.9s remaining:    0.0s\n"
     ]
    },
    {
     "name": "stdout",
     "output_type": "stream",
     "text": [
      "[CV]  alpha=1e-05, selection=cyclic, l1_ratio=1, score=-0.004535, total=   0.2s\n",
      "[CV] alpha=1e-05, selection=random, l1_ratio=1 .......................\n",
      "[CV]  alpha=1e-05, selection=random, l1_ratio=1, score=-0.005322, total=   0.4s\n",
      "[CV] alpha=1e-05, selection=random, l1_ratio=1 .......................\n",
      "[CV]  alpha=1e-05, selection=random, l1_ratio=1, score=-0.004703, total=   0.2s\n",
      "[CV] alpha=1e-05, selection=random, l1_ratio=1 .......................\n",
      "[CV]  alpha=1e-05, selection=random, l1_ratio=1, score=-0.005173, total=   0.1s\n",
      "[CV] alpha=1e-05, selection=random, l1_ratio=1 .......................\n",
      "[CV]  alpha=1e-05, selection=random, l1_ratio=1, score=-0.005055, total=   0.2s\n",
      "[CV] alpha=1e-05, selection=random, l1_ratio=1 .......................\n",
      "[CV]  alpha=1e-05, selection=random, l1_ratio=1, score=-0.004530, total=   0.2s\n",
      "[CV] alpha=1e-05, selection=cyclic, l1_ratio=0.5 .....................\n",
      "[CV]  alpha=1e-05, selection=cyclic, l1_ratio=0.5, score=-0.005359, total=   0.3s\n",
      "[CV] alpha=1e-05, selection=cyclic, l1_ratio=0.5 .....................\n",
      "[CV]  alpha=1e-05, selection=cyclic, l1_ratio=0.5, score=-0.004732, total=   0.2s\n",
      "[CV] alpha=1e-05, selection=cyclic, l1_ratio=0.5 .....................\n",
      "[CV]  alpha=1e-05, selection=cyclic, l1_ratio=0.5, score=-0.005248, total=   0.1s\n",
      "[CV] alpha=1e-05, selection=cyclic, l1_ratio=0.5 .....................\n",
      "[CV]  alpha=1e-05, selection=cyclic, l1_ratio=0.5, score=-0.005132, total=   0.1s\n",
      "[CV] alpha=1e-05, selection=cyclic, l1_ratio=0.5 .....................\n",
      "[CV]  alpha=1e-05, selection=cyclic, l1_ratio=0.5, score=-0.004555, total=   0.3s\n",
      "[CV] alpha=1e-05, selection=random, l1_ratio=0.5 .....................\n",
      "[CV]  alpha=1e-05, selection=random, l1_ratio=0.5, score=-0.005359, total=   0.5s\n",
      "[CV] alpha=1e-05, selection=random, l1_ratio=0.5 .....................\n",
      "[CV]  alpha=1e-05, selection=random, l1_ratio=0.5, score=-0.004732, total=   0.5s\n",
      "[CV] alpha=1e-05, selection=random, l1_ratio=0.5 .....................\n",
      "[CV]  alpha=1e-05, selection=random, l1_ratio=0.5, score=-0.005254, total=   0.1s\n",
      "[CV] alpha=1e-05, selection=random, l1_ratio=0.5 .....................\n",
      "[CV]  alpha=1e-05, selection=random, l1_ratio=0.5, score=-0.005133, total=   0.2s\n",
      "[CV] alpha=1e-05, selection=random, l1_ratio=0.5 .....................\n",
      "[CV]  alpha=1e-05, selection=random, l1_ratio=0.5, score=-0.004555, total=   0.6s\n",
      "[CV] alpha=1e-05, selection=cyclic, l1_ratio=0.333333333333 ..........\n",
      "[CV]  alpha=1e-05, selection=cyclic, l1_ratio=0.333333333333, score=-0.005369, total=   0.3s\n",
      "[CV] alpha=1e-05, selection=cyclic, l1_ratio=0.333333333333 ..........\n",
      "[CV]  alpha=1e-05, selection=cyclic, l1_ratio=0.333333333333, score=-0.004743, total=   0.2s\n",
      "[CV] alpha=1e-05, selection=cyclic, l1_ratio=0.333333333333 ..........\n",
      "[CV]  alpha=1e-05, selection=cyclic, l1_ratio=0.333333333333, score=-0.005264, total=   0.1s\n",
      "[CV] alpha=1e-05, selection=cyclic, l1_ratio=0.333333333333 ..........\n",
      "[CV]  alpha=1e-05, selection=cyclic, l1_ratio=0.333333333333, score=-0.005155, total=   0.3s\n",
      "[CV] alpha=1e-05, selection=cyclic, l1_ratio=0.333333333333 ..........\n",
      "[CV]  alpha=1e-05, selection=cyclic, l1_ratio=0.333333333333, score=-0.004572, total=   0.5s\n",
      "[CV] alpha=1e-05, selection=random, l1_ratio=0.333333333333 ..........\n",
      "[CV]  alpha=1e-05, selection=random, l1_ratio=0.333333333333, score=-0.005369, total=   0.1s\n",
      "[CV] alpha=1e-05, selection=random, l1_ratio=0.333333333333 ..........\n",
      "[CV]  alpha=1e-05, selection=random, l1_ratio=0.333333333333, score=-0.004743, total=   0.3s\n",
      "[CV] alpha=1e-05, selection=random, l1_ratio=0.333333333333 ..........\n",
      "[CV]  alpha=1e-05, selection=random, l1_ratio=0.333333333333, score=-0.005260, total=   0.4s\n",
      "[CV] alpha=1e-05, selection=random, l1_ratio=0.333333333333 ..........\n",
      "[CV]  alpha=1e-05, selection=random, l1_ratio=0.333333333333, score=-0.005155, total=   0.1s\n",
      "[CV] alpha=1e-05, selection=random, l1_ratio=0.333333333333 ..........\n",
      "[CV]  alpha=1e-05, selection=random, l1_ratio=0.333333333333, score=-0.004572, total=   0.1s\n",
      "[CV] alpha=1e-05, selection=cyclic, l1_ratio=0.25 ....................\n",
      "[CV]  alpha=1e-05, selection=cyclic, l1_ratio=0.25, score=-0.005374, total=   0.3s\n",
      "[CV] alpha=1e-05, selection=cyclic, l1_ratio=0.25 ....................\n",
      "[CV]  alpha=1e-05, selection=cyclic, l1_ratio=0.25, score=-0.004748, total=   0.3s\n",
      "[CV] alpha=1e-05, selection=cyclic, l1_ratio=0.25 ....................\n",
      "[CV]  alpha=1e-05, selection=cyclic, l1_ratio=0.25, score=-0.005271, total=   0.1s\n",
      "[CV] alpha=1e-05, selection=cyclic, l1_ratio=0.25 ....................\n",
      "[CV]  alpha=1e-05, selection=cyclic, l1_ratio=0.25, score=-0.005169, total=   0.4s\n",
      "[CV] alpha=1e-05, selection=cyclic, l1_ratio=0.25 ....................\n",
      "[CV]  alpha=1e-05, selection=cyclic, l1_ratio=0.25, score=-0.004580, total=   0.7s\n",
      "[CV] alpha=1e-05, selection=random, l1_ratio=0.25 ....................\n",
      "[CV]  alpha=1e-05, selection=random, l1_ratio=0.25, score=-0.005374, total=   0.8s\n",
      "[CV] alpha=1e-05, selection=random, l1_ratio=0.25 ....................\n",
      "[CV]  alpha=1e-05, selection=random, l1_ratio=0.25, score=-0.004747, total=   0.1s\n",
      "[CV] alpha=1e-05, selection=random, l1_ratio=0.25 ....................\n",
      "[CV]  alpha=1e-05, selection=random, l1_ratio=0.25, score=-0.005266, total=   1.1s\n",
      "[CV] alpha=1e-05, selection=random, l1_ratio=0.25 ....................\n",
      "[CV]  alpha=1e-05, selection=random, l1_ratio=0.25, score=-0.005170, total=   0.4s\n",
      "[CV] alpha=1e-05, selection=random, l1_ratio=0.25 ....................\n",
      "[CV]  alpha=1e-05, selection=random, l1_ratio=0.25, score=-0.004580, total=   0.2s\n",
      "[CV] alpha=1e-05, selection=cyclic, l1_ratio=0.2 .....................\n",
      "[CV]  alpha=1e-05, selection=cyclic, l1_ratio=0.2, score=-0.005376, total=   0.5s\n",
      "[CV] alpha=1e-05, selection=cyclic, l1_ratio=0.2 .....................\n",
      "[CV]  alpha=1e-05, selection=cyclic, l1_ratio=0.2, score=-0.004750, total=   0.4s\n",
      "[CV] alpha=1e-05, selection=cyclic, l1_ratio=0.2 .....................\n",
      "[CV]  alpha=1e-05, selection=cyclic, l1_ratio=0.2, score=-0.005276, total=   0.1s\n",
      "[CV] alpha=1e-05, selection=cyclic, l1_ratio=0.2 .....................\n",
      "[CV]  alpha=1e-05, selection=cyclic, l1_ratio=0.2, score=-0.005173, total=   0.5s\n",
      "[CV] alpha=1e-05, selection=cyclic, l1_ratio=0.2 .....................\n",
      "[CV]  alpha=1e-05, selection=cyclic, l1_ratio=0.2, score=-0.004586, total=   1.0s\n",
      "[CV] alpha=1e-05, selection=random, l1_ratio=0.2 .....................\n",
      "[CV]  alpha=1e-05, selection=random, l1_ratio=0.2, score=-0.005376, total=   0.3s\n",
      "[CV] alpha=1e-05, selection=random, l1_ratio=0.2 .....................\n",
      "[CV]  alpha=1e-05, selection=random, l1_ratio=0.2, score=-0.004755, total=   0.3s\n",
      "[CV] alpha=1e-05, selection=random, l1_ratio=0.2 .....................\n",
      "[CV]  alpha=1e-05, selection=random, l1_ratio=0.2, score=-0.005273, total=   0.7s\n",
      "[CV] alpha=1e-05, selection=random, l1_ratio=0.2 .....................\n",
      "[CV]  alpha=1e-05, selection=random, l1_ratio=0.2, score=-0.005168, total=   0.3s\n",
      "[CV] alpha=1e-05, selection=random, l1_ratio=0.2 .....................\n",
      "[CV]  alpha=1e-05, selection=random, l1_ratio=0.2, score=-0.004586, total=   1.5s\n",
      "[CV] alpha=0.0001, selection=cyclic, l1_ratio=1 ......................\n",
      "[CV]  alpha=0.0001, selection=cyclic, l1_ratio=1, score=-0.004921, total=   0.0s\n",
      "[CV] alpha=0.0001, selection=cyclic, l1_ratio=1 ......................\n",
      "[CV]  alpha=0.0001, selection=cyclic, l1_ratio=1, score=-0.004540, total=   0.0s\n",
      "[CV] alpha=0.0001, selection=cyclic, l1_ratio=1 ......................\n",
      "[CV]  alpha=0.0001, selection=cyclic, l1_ratio=1, score=-0.004925, total=   0.1s\n",
      "[CV] alpha=0.0001, selection=cyclic, l1_ratio=1 ......................\n",
      "[CV]  alpha=0.0001, selection=cyclic, l1_ratio=1, score=-0.004119, total=   0.0s\n",
      "[CV] alpha=0.0001, selection=cyclic, l1_ratio=1 ......................\n",
      "[CV]  alpha=0.0001, selection=cyclic, l1_ratio=1, score=-0.004132, total=   0.0s\n",
      "[CV] alpha=0.0001, selection=random, l1_ratio=1 ......................\n",
      "[CV]  alpha=0.0001, selection=random, l1_ratio=1, score=-0.004921, total=   0.0s\n",
      "[CV] alpha=0.0001, selection=random, l1_ratio=1 ......................\n",
      "[CV]  alpha=0.0001, selection=random, l1_ratio=1, score=-0.004540, total=   0.1s\n",
      "[CV] alpha=0.0001, selection=random, l1_ratio=1 ......................\n",
      "[CV]  alpha=0.0001, selection=random, l1_ratio=1, score=-0.004925, total=   0.1s\n",
      "[CV] alpha=0.0001, selection=random, l1_ratio=1 ......................\n"
     ]
    },
    {
     "name": "stdout",
     "output_type": "stream",
     "text": [
      "[CV]  alpha=0.0001, selection=random, l1_ratio=1, score=-0.004118, total=   0.1s\n",
      "[CV] alpha=0.0001, selection=random, l1_ratio=1 ......................\n",
      "[CV]  alpha=0.0001, selection=random, l1_ratio=1, score=-0.004132, total=   0.0s\n",
      "[CV] alpha=0.0001, selection=cyclic, l1_ratio=0.5 ....................\n",
      "[CV]  alpha=0.0001, selection=cyclic, l1_ratio=0.5, score=-0.005064, total=   0.0s\n",
      "[CV] alpha=0.0001, selection=cyclic, l1_ratio=0.5 ....................\n",
      "[CV]  alpha=0.0001, selection=cyclic, l1_ratio=0.5, score=-0.004569, total=   0.1s\n",
      "[CV] alpha=0.0001, selection=cyclic, l1_ratio=0.5 ....................\n",
      "[CV]  alpha=0.0001, selection=cyclic, l1_ratio=0.5, score=-0.004961, total=   0.1s\n",
      "[CV] alpha=0.0001, selection=cyclic, l1_ratio=0.5 ....................\n",
      "[CV]  alpha=0.0001, selection=cyclic, l1_ratio=0.5, score=-0.004427, total=   0.1s\n",
      "[CV] alpha=0.0001, selection=cyclic, l1_ratio=0.5 ....................\n",
      "[CV]  alpha=0.0001, selection=cyclic, l1_ratio=0.5, score=-0.004264, total=   0.0s\n",
      "[CV] alpha=0.0001, selection=random, l1_ratio=0.5 ....................\n",
      "[CV]  alpha=0.0001, selection=random, l1_ratio=0.5, score=-0.005064, total=   0.1s\n",
      "[CV] alpha=0.0001, selection=random, l1_ratio=0.5 ....................\n",
      "[CV]  alpha=0.0001, selection=random, l1_ratio=0.5, score=-0.004569, total=   0.1s\n",
      "[CV] alpha=0.0001, selection=random, l1_ratio=0.5 ....................\n",
      "[CV]  alpha=0.0001, selection=random, l1_ratio=0.5, score=-0.004961, total=   0.1s\n",
      "[CV] alpha=0.0001, selection=random, l1_ratio=0.5 ....................\n",
      "[CV]  alpha=0.0001, selection=random, l1_ratio=0.5, score=-0.004427, total=   0.1s\n",
      "[CV] alpha=0.0001, selection=random, l1_ratio=0.5 ....................\n",
      "[CV]  alpha=0.0001, selection=random, l1_ratio=0.5, score=-0.004264, total=   0.0s\n",
      "[CV] alpha=0.0001, selection=cyclic, l1_ratio=0.333333333333 .........\n",
      "[CV]  alpha=0.0001, selection=cyclic, l1_ratio=0.333333333333, score=-0.005134, total=   0.1s\n",
      "[CV] alpha=0.0001, selection=cyclic, l1_ratio=0.333333333333 .........\n",
      "[CV]  alpha=0.0001, selection=cyclic, l1_ratio=0.333333333333, score=-0.004592, total=   0.1s\n",
      "[CV] alpha=0.0001, selection=cyclic, l1_ratio=0.333333333333 .........\n",
      "[CV]  alpha=0.0001, selection=cyclic, l1_ratio=0.333333333333, score=-0.005002, total=   0.1s\n",
      "[CV] alpha=0.0001, selection=cyclic, l1_ratio=0.333333333333 .........\n",
      "[CV]  alpha=0.0001, selection=cyclic, l1_ratio=0.333333333333, score=-0.004579, total=   0.1s\n",
      "[CV] alpha=0.0001, selection=cyclic, l1_ratio=0.333333333333 .........\n",
      "[CV]  alpha=0.0001, selection=cyclic, l1_ratio=0.333333333333, score=-0.004339, total=   0.1s\n",
      "[CV] alpha=0.0001, selection=random, l1_ratio=0.333333333333 .........\n",
      "[CV]  alpha=0.0001, selection=random, l1_ratio=0.333333333333, score=-0.005134, total=   0.1s\n",
      "[CV] alpha=0.0001, selection=random, l1_ratio=0.333333333333 .........\n",
      "[CV]  alpha=0.0001, selection=random, l1_ratio=0.333333333333, score=-0.004592, total=   0.1s\n",
      "[CV] alpha=0.0001, selection=random, l1_ratio=0.333333333333 .........\n",
      "[CV]  alpha=0.0001, selection=random, l1_ratio=0.333333333333, score=-0.005002, total=   0.1s\n",
      "[CV] alpha=0.0001, selection=random, l1_ratio=0.333333333333 .........\n",
      "[CV]  alpha=0.0001, selection=random, l1_ratio=0.333333333333, score=-0.004579, total=   0.1s\n",
      "[CV] alpha=0.0001, selection=random, l1_ratio=0.333333333333 .........\n",
      "[CV]  alpha=0.0001, selection=random, l1_ratio=0.333333333333, score=-0.004339, total=   0.2s\n",
      "[CV] alpha=0.0001, selection=cyclic, l1_ratio=0.25 ...................\n",
      "[CV]  alpha=0.0001, selection=cyclic, l1_ratio=0.25, score=-0.005176, total=   0.0s\n",
      "[CV] alpha=0.0001, selection=cyclic, l1_ratio=0.25 ...................\n",
      "[CV]  alpha=0.0001, selection=cyclic, l1_ratio=0.25, score=-0.004610, total=   0.1s\n",
      "[CV] alpha=0.0001, selection=cyclic, l1_ratio=0.25 ...................\n",
      "[CV]  alpha=0.0001, selection=cyclic, l1_ratio=0.25, score=-0.005032, total=   0.1s\n",
      "[CV] alpha=0.0001, selection=cyclic, l1_ratio=0.25 ...................\n",
      "[CV]  alpha=0.0001, selection=cyclic, l1_ratio=0.25, score=-0.004655, total=   0.1s\n",
      "[CV] alpha=0.0001, selection=cyclic, l1_ratio=0.25 ...................\n",
      "[CV]  alpha=0.0001, selection=cyclic, l1_ratio=0.25, score=-0.004387, total=   0.1s\n",
      "[CV] alpha=0.0001, selection=random, l1_ratio=0.25 ...................\n",
      "[CV]  alpha=0.0001, selection=random, l1_ratio=0.25, score=-0.005176, total=   0.1s\n",
      "[CV] alpha=0.0001, selection=random, l1_ratio=0.25 ...................\n",
      "[CV]  alpha=0.0001, selection=random, l1_ratio=0.25, score=-0.004610, total=   0.1s\n",
      "[CV] alpha=0.0001, selection=random, l1_ratio=0.25 ...................\n",
      "[CV]  alpha=0.0001, selection=random, l1_ratio=0.25, score=-0.005031, total=   0.1s\n",
      "[CV] alpha=0.0001, selection=random, l1_ratio=0.25 ...................\n",
      "[CV]  alpha=0.0001, selection=random, l1_ratio=0.25, score=-0.004655, total=   0.2s\n",
      "[CV] alpha=0.0001, selection=random, l1_ratio=0.25 ...................\n",
      "[CV]  alpha=0.0001, selection=random, l1_ratio=0.25, score=-0.004387, total=   0.1s\n",
      "[CV] alpha=0.0001, selection=cyclic, l1_ratio=0.2 ....................\n",
      "[CV]  alpha=0.0001, selection=cyclic, l1_ratio=0.2, score=-0.005202, total=   0.0s\n",
      "[CV] alpha=0.0001, selection=cyclic, l1_ratio=0.2 ....................\n",
      "[CV]  alpha=0.0001, selection=cyclic, l1_ratio=0.2, score=-0.004627, total=   0.1s\n",
      "[CV] alpha=0.0001, selection=cyclic, l1_ratio=0.2 ....................\n",
      "[CV]  alpha=0.0001, selection=cyclic, l1_ratio=0.2, score=-0.005059, total=   0.1s\n",
      "[CV] alpha=0.0001, selection=cyclic, l1_ratio=0.2 ....................\n",
      "[CV]  alpha=0.0001, selection=cyclic, l1_ratio=0.2, score=-0.004706, total=   0.0s\n",
      "[CV] alpha=0.0001, selection=cyclic, l1_ratio=0.2 ....................\n",
      "[CV]  alpha=0.0001, selection=cyclic, l1_ratio=0.2, score=-0.004415, total=   0.1s\n",
      "[CV] alpha=0.0001, selection=random, l1_ratio=0.2 ....................\n",
      "[CV]  alpha=0.0001, selection=random, l1_ratio=0.2, score=-0.005202, total=   0.1s\n",
      "[CV] alpha=0.0001, selection=random, l1_ratio=0.2 ....................\n",
      "[CV]  alpha=0.0001, selection=random, l1_ratio=0.2, score=-0.004627, total=   0.1s\n",
      "[CV] alpha=0.0001, selection=random, l1_ratio=0.2 ....................\n",
      "[CV]  alpha=0.0001, selection=random, l1_ratio=0.2, score=-0.005058, total=   0.1s\n",
      "[CV] alpha=0.0001, selection=random, l1_ratio=0.2 ....................\n",
      "[CV]  alpha=0.0001, selection=random, l1_ratio=0.2, score=-0.004706, total=   0.1s\n",
      "[CV] alpha=0.0001, selection=random, l1_ratio=0.2 ....................\n",
      "[CV]  alpha=0.0001, selection=random, l1_ratio=0.2, score=-0.004415, total=   0.1s\n",
      "[CV] alpha=0.001, selection=cyclic, l1_ratio=1 .......................\n",
      "[CV]  alpha=0.001, selection=cyclic, l1_ratio=1, score=-0.005263, total=   0.0s\n",
      "[CV] alpha=0.001, selection=cyclic, l1_ratio=1 .......................\n",
      "[CV]  alpha=0.001, selection=cyclic, l1_ratio=1, score=-0.004974, total=   0.0s\n",
      "[CV] alpha=0.001, selection=cyclic, l1_ratio=1 .......................\n",
      "[CV]  alpha=0.001, selection=cyclic, l1_ratio=1, score=-0.005136, total=   0.0s\n",
      "[CV] alpha=0.001, selection=cyclic, l1_ratio=1 .......................\n",
      "[CV]  alpha=0.001, selection=cyclic, l1_ratio=1, score=-0.003475, total=   0.0s\n",
      "[CV] alpha=0.001, selection=cyclic, l1_ratio=1 .......................\n",
      "[CV]  alpha=0.001, selection=cyclic, l1_ratio=1, score=-0.004153, total=   0.0s\n",
      "[CV] alpha=0.001, selection=random, l1_ratio=1 .......................\n",
      "[CV]  alpha=0.001, selection=random, l1_ratio=1, score=-0.005261, total=   0.0s\n",
      "[CV] alpha=0.001, selection=random, l1_ratio=1 .......................\n",
      "[CV]  alpha=0.001, selection=random, l1_ratio=1, score=-0.004974, total=   0.0s\n",
      "[CV] alpha=0.001, selection=random, l1_ratio=1 .......................\n",
      "[CV]  alpha=0.001, selection=random, l1_ratio=1, score=-0.005136, total=   0.0s\n",
      "[CV] alpha=0.001, selection=random, l1_ratio=1 .......................\n",
      "[CV]  alpha=0.001, selection=random, l1_ratio=1, score=-0.003474, total=   0.0s\n",
      "[CV] alpha=0.001, selection=random, l1_ratio=1 .......................\n",
      "[CV]  alpha=0.001, selection=random, l1_ratio=1, score=-0.004154, total=   0.0s\n",
      "[CV] alpha=0.001, selection=cyclic, l1_ratio=0.5 .....................\n",
      "[CV]  alpha=0.001, selection=cyclic, l1_ratio=0.5, score=-0.005208, total=   0.0s\n",
      "[CV] alpha=0.001, selection=cyclic, l1_ratio=0.5 .....................\n",
      "[CV]  alpha=0.001, selection=cyclic, l1_ratio=0.5, score=-0.004915, total=   0.0s\n",
      "[CV] alpha=0.001, selection=cyclic, l1_ratio=0.5 .....................\n",
      "[CV]  alpha=0.001, selection=cyclic, l1_ratio=0.5, score=-0.005104, total=   0.0s\n",
      "[CV] alpha=0.001, selection=cyclic, l1_ratio=0.5 .....................\n",
      "[CV]  alpha=0.001, selection=cyclic, l1_ratio=0.5, score=-0.003425, total=   0.0s\n",
      "[CV] alpha=0.001, selection=cyclic, l1_ratio=0.5 .....................\n",
      "[CV]  alpha=0.001, selection=cyclic, l1_ratio=0.5, score=-0.004037, total=   0.0s\n",
      "[CV] alpha=0.001, selection=random, l1_ratio=0.5 .....................\n",
      "[CV]  alpha=0.001, selection=random, l1_ratio=0.5, score=-0.005208, total=   0.0s\n",
      "[CV] alpha=0.001, selection=random, l1_ratio=0.5 .....................\n",
      "[CV]  alpha=0.001, selection=random, l1_ratio=0.5, score=-0.004915, total=   0.0s\n",
      "[CV] alpha=0.001, selection=random, l1_ratio=0.5 .....................\n",
      "[CV]  alpha=0.001, selection=random, l1_ratio=0.5, score=-0.005104, total=   0.0s\n",
      "[CV] alpha=0.001, selection=random, l1_ratio=0.5 .....................\n"
     ]
    },
    {
     "name": "stdout",
     "output_type": "stream",
     "text": [
      "[CV]  alpha=0.001, selection=random, l1_ratio=0.5, score=-0.003426, total=   0.0s\n",
      "[CV] alpha=0.001, selection=random, l1_ratio=0.5 .....................\n",
      "[CV]  alpha=0.001, selection=random, l1_ratio=0.5, score=-0.004037, total=   0.0s\n",
      "[CV] alpha=0.001, selection=cyclic, l1_ratio=0.333333333333 ..........\n",
      "[CV]  alpha=0.001, selection=cyclic, l1_ratio=0.333333333333, score=-0.005115, total=   0.0s\n",
      "[CV] alpha=0.001, selection=cyclic, l1_ratio=0.333333333333 ..........\n",
      "[CV]  alpha=0.001, selection=cyclic, l1_ratio=0.333333333333, score=-0.004749, total=   0.0s\n",
      "[CV] alpha=0.001, selection=cyclic, l1_ratio=0.333333333333 ..........\n",
      "[CV]  alpha=0.001, selection=cyclic, l1_ratio=0.333333333333, score=-0.005021, total=   0.0s\n",
      "[CV] alpha=0.001, selection=cyclic, l1_ratio=0.333333333333 ..........\n",
      "[CV]  alpha=0.001, selection=cyclic, l1_ratio=0.333333333333, score=-0.003419, total=   0.0s\n",
      "[CV] alpha=0.001, selection=cyclic, l1_ratio=0.333333333333 ..........\n",
      "[CV]  alpha=0.001, selection=cyclic, l1_ratio=0.333333333333, score=-0.003970, total=   0.0s\n",
      "[CV] alpha=0.001, selection=random, l1_ratio=0.333333333333 ..........\n",
      "[CV]  alpha=0.001, selection=random, l1_ratio=0.333333333333, score=-0.005115, total=   0.0s\n",
      "[CV] alpha=0.001, selection=random, l1_ratio=0.333333333333 ..........\n",
      "[CV]  alpha=0.001, selection=random, l1_ratio=0.333333333333, score=-0.004749, total=   0.0s\n",
      "[CV] alpha=0.001, selection=random, l1_ratio=0.333333333333 ..........\n",
      "[CV]  alpha=0.001, selection=random, l1_ratio=0.333333333333, score=-0.005021, total=   0.0s\n",
      "[CV] alpha=0.001, selection=random, l1_ratio=0.333333333333 ..........\n",
      "[CV]  alpha=0.001, selection=random, l1_ratio=0.333333333333, score=-0.003419, total=   0.0s\n",
      "[CV] alpha=0.001, selection=random, l1_ratio=0.333333333333 ..........\n",
      "[CV]  alpha=0.001, selection=random, l1_ratio=0.333333333333, score=-0.003970, total=   0.0s\n",
      "[CV] alpha=0.001, selection=cyclic, l1_ratio=0.25 ....................\n",
      "[CV]  alpha=0.001, selection=cyclic, l1_ratio=0.25, score=-0.005084, total=   0.0s\n",
      "[CV] alpha=0.001, selection=cyclic, l1_ratio=0.25 ....................\n",
      "[CV]  alpha=0.001, selection=cyclic, l1_ratio=0.25, score=-0.004689, total=   0.0s\n",
      "[CV] alpha=0.001, selection=cyclic, l1_ratio=0.25 ....................\n",
      "[CV]  alpha=0.001, selection=cyclic, l1_ratio=0.25, score=-0.005000, total=   0.0s\n",
      "[CV] alpha=0.001, selection=cyclic, l1_ratio=0.25 ....................\n",
      "[CV]  alpha=0.001, selection=cyclic, l1_ratio=0.25, score=-0.003481, total=   0.0s\n",
      "[CV] alpha=0.001, selection=cyclic, l1_ratio=0.25 ....................\n",
      "[CV]  alpha=0.001, selection=cyclic, l1_ratio=0.25, score=-0.003976, total=   0.0s\n",
      "[CV] alpha=0.001, selection=random, l1_ratio=0.25 ....................\n",
      "[CV]  alpha=0.001, selection=random, l1_ratio=0.25, score=-0.005083, total=   0.0s\n",
      "[CV] alpha=0.001, selection=random, l1_ratio=0.25 ....................\n",
      "[CV]  alpha=0.001, selection=random, l1_ratio=0.25, score=-0.004689, total=   0.0s\n",
      "[CV] alpha=0.001, selection=random, l1_ratio=0.25 ....................\n",
      "[CV]  alpha=0.001, selection=random, l1_ratio=0.25, score=-0.005001, total=   0.0s\n",
      "[CV] alpha=0.001, selection=random, l1_ratio=0.25 ....................\n",
      "[CV]  alpha=0.001, selection=random, l1_ratio=0.25, score=-0.003481, total=   0.0s\n",
      "[CV] alpha=0.001, selection=random, l1_ratio=0.25 ....................\n",
      "[CV]  alpha=0.001, selection=random, l1_ratio=0.25, score=-0.003976, total=   0.0s\n",
      "[CV] alpha=0.001, selection=cyclic, l1_ratio=0.2 .....................\n",
      "[CV]  alpha=0.001, selection=cyclic, l1_ratio=0.2, score=-0.005053, total=   0.0s\n",
      "[CV] alpha=0.001, selection=cyclic, l1_ratio=0.2 .....................\n",
      "[CV]  alpha=0.001, selection=cyclic, l1_ratio=0.2, score=-0.004641, total=   0.0s\n",
      "[CV] alpha=0.001, selection=cyclic, l1_ratio=0.2 .....................\n",
      "[CV]  alpha=0.001, selection=cyclic, l1_ratio=0.2, score=-0.004989, total=   0.0s\n",
      "[CV] alpha=0.001, selection=cyclic, l1_ratio=0.2 .....................\n",
      "[CV]  alpha=0.001, selection=cyclic, l1_ratio=0.2, score=-0.003538, total=   0.0s\n",
      "[CV] alpha=0.001, selection=cyclic, l1_ratio=0.2 .....................\n",
      "[CV]  alpha=0.001, selection=cyclic, l1_ratio=0.2, score=-0.004002, total=   0.0s\n",
      "[CV] alpha=0.001, selection=random, l1_ratio=0.2 .....................\n",
      "[CV]  alpha=0.001, selection=random, l1_ratio=0.2, score=-0.005053, total=   0.0s\n",
      "[CV] alpha=0.001, selection=random, l1_ratio=0.2 .....................\n",
      "[CV]  alpha=0.001, selection=random, l1_ratio=0.2, score=-0.004641, total=   0.0s\n",
      "[CV] alpha=0.001, selection=random, l1_ratio=0.2 .....................\n",
      "[CV]  alpha=0.001, selection=random, l1_ratio=0.2, score=-0.004989, total=   0.0s\n",
      "[CV] alpha=0.001, selection=random, l1_ratio=0.2 .....................\n",
      "[CV]  alpha=0.001, selection=random, l1_ratio=0.2, score=-0.003538, total=   0.0s\n",
      "[CV] alpha=0.001, selection=random, l1_ratio=0.2 .....................\n",
      "[CV]  alpha=0.001, selection=random, l1_ratio=0.2, score=-0.004002, total=   0.0s\n",
      "[CV] alpha=0.01, selection=cyclic, l1_ratio=1 ........................\n",
      "[CV]  alpha=0.01, selection=cyclic, l1_ratio=1, score=-0.005519, total=   0.0s\n",
      "[CV] alpha=0.01, selection=cyclic, l1_ratio=1 ........................\n",
      "[CV]  alpha=0.01, selection=cyclic, l1_ratio=1, score=-0.005463, total=   0.0s\n",
      "[CV] alpha=0.01, selection=cyclic, l1_ratio=1 ........................\n",
      "[CV]  alpha=0.01, selection=cyclic, l1_ratio=1, score=-0.005285, total=   0.0s\n",
      "[CV] alpha=0.01, selection=cyclic, l1_ratio=1 ........................\n",
      "[CV]  alpha=0.01, selection=cyclic, l1_ratio=1, score=-0.003664, total=   0.0s\n",
      "[CV] alpha=0.01, selection=cyclic, l1_ratio=1 ........................\n",
      "[CV]  alpha=0.01, selection=cyclic, l1_ratio=1, score=-0.004268, total=   0.0s\n",
      "[CV] alpha=0.01, selection=random, l1_ratio=1 ........................\n",
      "[CV]  alpha=0.01, selection=random, l1_ratio=1, score=-0.005519, total=   0.0s\n",
      "[CV] alpha=0.01, selection=random, l1_ratio=1 ........................\n",
      "[CV]  alpha=0.01, selection=random, l1_ratio=1, score=-0.005463, total=   0.0s\n",
      "[CV] alpha=0.01, selection=random, l1_ratio=1 ........................\n",
      "[CV]  alpha=0.01, selection=random, l1_ratio=1, score=-0.005285, total=   0.0s\n",
      "[CV] alpha=0.01, selection=random, l1_ratio=1 ........................\n",
      "[CV]  alpha=0.01, selection=random, l1_ratio=1, score=-0.003664, total=   0.0s\n",
      "[CV] alpha=0.01, selection=random, l1_ratio=1 ........................\n",
      "[CV]  alpha=0.01, selection=random, l1_ratio=1, score=-0.004268, total=   0.0s\n",
      "[CV] alpha=0.01, selection=cyclic, l1_ratio=0.5 ......................\n",
      "[CV]  alpha=0.01, selection=cyclic, l1_ratio=0.5, score=-0.005379, total=   0.0s\n",
      "[CV] alpha=0.01, selection=cyclic, l1_ratio=0.5 ......................\n",
      "[CV]  alpha=0.01, selection=cyclic, l1_ratio=0.5, score=-0.005325, total=   0.0s\n",
      "[CV] alpha=0.01, selection=cyclic, l1_ratio=0.5 ......................\n",
      "[CV]  alpha=0.01, selection=cyclic, l1_ratio=0.5, score=-0.005168, total=   0.0s\n",
      "[CV] alpha=0.01, selection=cyclic, l1_ratio=0.5 ......................\n",
      "[CV]  alpha=0.01, selection=cyclic, l1_ratio=0.5, score=-0.003517, total=   0.0s\n",
      "[CV] alpha=0.01, selection=cyclic, l1_ratio=0.5 ......................\n",
      "[CV]  alpha=0.01, selection=cyclic, l1_ratio=0.5, score=-0.004209, total=   0.0s\n",
      "[CV] alpha=0.01, selection=random, l1_ratio=0.5 ......................\n",
      "[CV]  alpha=0.01, selection=random, l1_ratio=0.5, score=-0.005379, total=   0.0s\n",
      "[CV] alpha=0.01, selection=random, l1_ratio=0.5 ......................\n",
      "[CV]  alpha=0.01, selection=random, l1_ratio=0.5, score=-0.005325, total=   0.0s\n",
      "[CV] alpha=0.01, selection=random, l1_ratio=0.5 ......................\n",
      "[CV]  alpha=0.01, selection=random, l1_ratio=0.5, score=-0.005168, total=   0.0s\n",
      "[CV] alpha=0.01, selection=random, l1_ratio=0.5 ......................\n",
      "[CV]  alpha=0.01, selection=random, l1_ratio=0.5, score=-0.003517, total=   0.0s\n",
      "[CV] alpha=0.01, selection=random, l1_ratio=0.5 ......................\n",
      "[CV]  alpha=0.01, selection=random, l1_ratio=0.5, score=-0.004209, total=   0.1s\n",
      "[CV] alpha=0.01, selection=cyclic, l1_ratio=0.333333333333 ...........\n",
      "[CV]  alpha=0.01, selection=cyclic, l1_ratio=0.333333333333, score=-0.005317, total=   0.0s\n",
      "[CV] alpha=0.01, selection=cyclic, l1_ratio=0.333333333333 ...........\n",
      "[CV]  alpha=0.01, selection=cyclic, l1_ratio=0.333333333333, score=-0.005170, total=   0.0s\n",
      "[CV] alpha=0.01, selection=cyclic, l1_ratio=0.333333333333 ...........\n",
      "[CV]  alpha=0.01, selection=cyclic, l1_ratio=0.333333333333, score=-0.005135, total=   0.0s\n",
      "[CV] alpha=0.01, selection=cyclic, l1_ratio=0.333333333333 ...........\n",
      "[CV]  alpha=0.01, selection=cyclic, l1_ratio=0.333333333333, score=-0.003479, total=   0.0s\n",
      "[CV] alpha=0.01, selection=cyclic, l1_ratio=0.333333333333 ...........\n",
      "[CV]  alpha=0.01, selection=cyclic, l1_ratio=0.333333333333, score=-0.004210, total=   0.0s\n",
      "[CV] alpha=0.01, selection=random, l1_ratio=0.333333333333 ...........\n",
      "[CV]  alpha=0.01, selection=random, l1_ratio=0.333333333333, score=-0.005316, total=   0.0s\n",
      "[CV] alpha=0.01, selection=random, l1_ratio=0.333333333333 ...........\n",
      "[CV]  alpha=0.01, selection=random, l1_ratio=0.333333333333, score=-0.005170, total=   0.0s\n",
      "[CV] alpha=0.01, selection=random, l1_ratio=0.333333333333 ...........\n",
      "[CV]  alpha=0.01, selection=random, l1_ratio=0.333333333333, score=-0.005135, total=   0.0s\n",
      "[CV] alpha=0.01, selection=random, l1_ratio=0.333333333333 ...........\n",
      "[CV]  alpha=0.01, selection=random, l1_ratio=0.333333333333, score=-0.003479, total=   0.0s\n",
      "[CV] alpha=0.01, selection=random, l1_ratio=0.333333333333 ...........\n",
      "[CV]  alpha=0.01, selection=random, l1_ratio=0.333333333333, score=-0.004210, total=   0.0s\n",
      "[CV] alpha=0.01, selection=cyclic, l1_ratio=0.25 .....................\n"
     ]
    },
    {
     "name": "stdout",
     "output_type": "stream",
     "text": [
      "[CV]  alpha=0.01, selection=cyclic, l1_ratio=0.25, score=-0.005294, total=   0.0s\n",
      "[CV] alpha=0.01, selection=cyclic, l1_ratio=0.25 .....................\n",
      "[CV]  alpha=0.01, selection=cyclic, l1_ratio=0.25, score=-0.005099, total=   0.0s\n",
      "[CV] alpha=0.01, selection=cyclic, l1_ratio=0.25 .....................\n",
      "[CV]  alpha=0.01, selection=cyclic, l1_ratio=0.25, score=-0.005130, total=   0.0s\n",
      "[CV] alpha=0.01, selection=cyclic, l1_ratio=0.25 .....................\n",
      "[CV]  alpha=0.01, selection=cyclic, l1_ratio=0.25, score=-0.003482, total=   0.0s\n",
      "[CV] alpha=0.01, selection=cyclic, l1_ratio=0.25 .....................\n",
      "[CV]  alpha=0.01, selection=cyclic, l1_ratio=0.25, score=-0.004218, total=   0.0s\n",
      "[CV] alpha=0.01, selection=random, l1_ratio=0.25 .....................\n",
      "[CV]  alpha=0.01, selection=random, l1_ratio=0.25, score=-0.005294, total=   0.0s\n",
      "[CV] alpha=0.01, selection=random, l1_ratio=0.25 .....................\n",
      "[CV]  alpha=0.01, selection=random, l1_ratio=0.25, score=-0.005098, total=   0.0s\n",
      "[CV] alpha=0.01, selection=random, l1_ratio=0.25 .....................\n",
      "[CV]  alpha=0.01, selection=random, l1_ratio=0.25, score=-0.005130, total=   0.0s\n",
      "[CV] alpha=0.01, selection=random, l1_ratio=0.25 .....................\n",
      "[CV]  alpha=0.01, selection=random, l1_ratio=0.25, score=-0.003482, total=   0.0s\n",
      "[CV] alpha=0.01, selection=random, l1_ratio=0.25 .....................\n",
      "[CV]  alpha=0.01, selection=random, l1_ratio=0.25, score=-0.004218, total=   0.0s\n",
      "[CV] alpha=0.01, selection=cyclic, l1_ratio=0.2 ......................\n",
      "[CV]  alpha=0.01, selection=cyclic, l1_ratio=0.2, score=-0.005287, total=   0.0s\n",
      "[CV] alpha=0.01, selection=cyclic, l1_ratio=0.2 ......................\n",
      "[CV]  alpha=0.01, selection=cyclic, l1_ratio=0.2, score=-0.005052, total=   0.0s\n",
      "[CV] alpha=0.01, selection=cyclic, l1_ratio=0.2 ......................\n",
      "[CV]  alpha=0.01, selection=cyclic, l1_ratio=0.2, score=-0.005144, total=   0.0s\n",
      "[CV] alpha=0.01, selection=cyclic, l1_ratio=0.2 ......................\n",
      "[CV]  alpha=0.01, selection=cyclic, l1_ratio=0.2, score=-0.003486, total=   0.0s\n",
      "[CV] alpha=0.01, selection=cyclic, l1_ratio=0.2 ......................\n",
      "[CV]  alpha=0.01, selection=cyclic, l1_ratio=0.2, score=-0.004226, total=   0.0s\n",
      "[CV] alpha=0.01, selection=random, l1_ratio=0.2 ......................\n",
      "[CV]  alpha=0.01, selection=random, l1_ratio=0.2, score=-0.005287, total=   0.0s\n",
      "[CV] alpha=0.01, selection=random, l1_ratio=0.2 ......................\n",
      "[CV]  alpha=0.01, selection=random, l1_ratio=0.2, score=-0.005052, total=   0.0s\n",
      "[CV] alpha=0.01, selection=random, l1_ratio=0.2 ......................\n",
      "[CV]  alpha=0.01, selection=random, l1_ratio=0.2, score=-0.005144, total=   0.0s\n",
      "[CV] alpha=0.01, selection=random, l1_ratio=0.2 ......................\n",
      "[CV]  alpha=0.01, selection=random, l1_ratio=0.2, score=-0.003486, total=   0.0s\n",
      "[CV] alpha=0.01, selection=random, l1_ratio=0.2 ......................\n",
      "[CV]  alpha=0.01, selection=random, l1_ratio=0.2, score=-0.004226, total=   0.0s\n",
      "[CV] alpha=0, selection=cyclic, l1_ratio=1 ...........................\n",
      "[CV]  alpha=0, selection=cyclic, l1_ratio=1, score=-0.005376, total=   3.9s\n",
      "[CV] alpha=0, selection=cyclic, l1_ratio=1 ...........................\n",
      "[CV]  alpha=0, selection=cyclic, l1_ratio=1, score=-0.004736, total=   5.2s\n",
      "[CV] alpha=0, selection=cyclic, l1_ratio=1 ...........................\n",
      "[CV]  alpha=0, selection=cyclic, l1_ratio=1, score=-0.005348, total=   4.9s\n",
      "[CV] alpha=0, selection=cyclic, l1_ratio=1 ...........................\n",
      "[CV]  alpha=0, selection=cyclic, l1_ratio=1, score=-0.005173, total=   5.0s\n",
      "[CV] alpha=0, selection=cyclic, l1_ratio=1 ...........................\n",
      "[CV]  alpha=0, selection=cyclic, l1_ratio=1, score=-0.004637, total=   4.7s\n",
      "[CV] alpha=0, selection=random, l1_ratio=1 ...........................\n",
      "[CV]  alpha=0, selection=random, l1_ratio=1, score=-0.005373, total=   3.8s\n",
      "[CV] alpha=0, selection=random, l1_ratio=1 ...........................\n",
      "[CV]  alpha=0, selection=random, l1_ratio=1, score=-0.004775, total=   4.9s\n",
      "[CV] alpha=0, selection=random, l1_ratio=1 ...........................\n",
      "[CV]  alpha=0, selection=random, l1_ratio=1, score=-0.005292, total=   4.7s\n",
      "[CV] alpha=0, selection=random, l1_ratio=1 ...........................\n",
      "[CV]  alpha=0, selection=random, l1_ratio=1, score=-0.005213, total=   4.9s\n",
      "[CV] alpha=0, selection=random, l1_ratio=1 ...........................\n",
      "[CV]  alpha=0, selection=random, l1_ratio=1, score=-0.004579, total=   5.0s\n",
      "[CV] alpha=0, selection=cyclic, l1_ratio=0.5 .........................\n",
      "[CV]  alpha=0, selection=cyclic, l1_ratio=0.5, score=-0.005376, total=   3.9s\n",
      "[CV] alpha=0, selection=cyclic, l1_ratio=0.5 .........................\n",
      "[CV]  alpha=0, selection=cyclic, l1_ratio=0.5, score=-0.004736, total=   5.0s\n",
      "[CV] alpha=0, selection=cyclic, l1_ratio=0.5 .........................\n",
      "[CV]  alpha=0, selection=cyclic, l1_ratio=0.5, score=-0.005348, total=   4.7s\n",
      "[CV] alpha=0, selection=cyclic, l1_ratio=0.5 .........................\n",
      "[CV]  alpha=0, selection=cyclic, l1_ratio=0.5, score=-0.005173, total=   4.8s\n",
      "[CV] alpha=0, selection=cyclic, l1_ratio=0.5 .........................\n",
      "[CV]  alpha=0, selection=cyclic, l1_ratio=0.5, score=-0.004637, total=   4.8s\n",
      "[CV] alpha=0, selection=random, l1_ratio=0.5 .........................\n",
      "[CV]  alpha=0, selection=random, l1_ratio=0.5, score=-0.005381, total=   3.7s\n",
      "[CV] alpha=0, selection=random, l1_ratio=0.5 .........................\n",
      "[CV]  alpha=0, selection=random, l1_ratio=0.5, score=-0.004748, total=   4.8s\n",
      "[CV] alpha=0, selection=random, l1_ratio=0.5 .........................\n",
      "[CV]  alpha=0, selection=random, l1_ratio=0.5, score=-0.005277, total=   4.7s\n",
      "[CV] alpha=0, selection=random, l1_ratio=0.5 .........................\n",
      "[CV]  alpha=0, selection=random, l1_ratio=0.5, score=-0.005188, total=   4.9s\n",
      "[CV] alpha=0, selection=random, l1_ratio=0.5 .........................\n",
      "[CV]  alpha=0, selection=random, l1_ratio=0.5, score=-0.004681, total=   4.9s\n",
      "[CV] alpha=0, selection=cyclic, l1_ratio=0.333333333333 ..............\n",
      "[CV]  alpha=0, selection=cyclic, l1_ratio=0.333333333333, score=-0.005376, total=   3.7s\n",
      "[CV] alpha=0, selection=cyclic, l1_ratio=0.333333333333 ..............\n",
      "[CV]  alpha=0, selection=cyclic, l1_ratio=0.333333333333, score=-0.004736, total=   5.1s\n",
      "[CV] alpha=0, selection=cyclic, l1_ratio=0.333333333333 ..............\n",
      "[CV]  alpha=0, selection=cyclic, l1_ratio=0.333333333333, score=-0.005348, total=   5.0s\n",
      "[CV] alpha=0, selection=cyclic, l1_ratio=0.333333333333 ..............\n",
      "[CV]  alpha=0, selection=cyclic, l1_ratio=0.333333333333, score=-0.005173, total=   4.8s\n",
      "[CV] alpha=0, selection=cyclic, l1_ratio=0.333333333333 ..............\n",
      "[CV]  alpha=0, selection=cyclic, l1_ratio=0.333333333333, score=-0.004637, total=   4.7s\n",
      "[CV] alpha=0, selection=random, l1_ratio=0.333333333333 ..............\n",
      "[CV]  alpha=0, selection=random, l1_ratio=0.333333333333, score=-0.005371, total=   3.8s\n",
      "[CV] alpha=0, selection=random, l1_ratio=0.333333333333 ..............\n",
      "[CV]  alpha=0, selection=random, l1_ratio=0.333333333333, score=-0.004739, total=   4.7s\n",
      "[CV] alpha=0, selection=random, l1_ratio=0.333333333333 ..............\n",
      "[CV]  alpha=0, selection=random, l1_ratio=0.333333333333, score=-0.005277, total=   4.7s\n",
      "[CV] alpha=0, selection=random, l1_ratio=0.333333333333 ..............\n",
      "[CV]  alpha=0, selection=random, l1_ratio=0.333333333333, score=-0.005112, total=   5.0s\n",
      "[CV] alpha=0, selection=random, l1_ratio=0.333333333333 ..............\n",
      "[CV]  alpha=0, selection=random, l1_ratio=0.333333333333, score=-0.004641, total=   5.1s\n",
      "[CV] alpha=0, selection=cyclic, l1_ratio=0.25 ........................\n",
      "[CV]  alpha=0, selection=cyclic, l1_ratio=0.25, score=-0.005376, total=   4.0s\n",
      "[CV] alpha=0, selection=cyclic, l1_ratio=0.25 ........................\n",
      "[CV]  alpha=0, selection=cyclic, l1_ratio=0.25, score=-0.004736, total=   4.7s\n",
      "[CV] alpha=0, selection=cyclic, l1_ratio=0.25 ........................\n",
      "[CV]  alpha=0, selection=cyclic, l1_ratio=0.25, score=-0.005348, total=   5.0s\n",
      "[CV] alpha=0, selection=cyclic, l1_ratio=0.25 ........................\n",
      "[CV]  alpha=0, selection=cyclic, l1_ratio=0.25, score=-0.005173, total=   5.7s\n",
      "[CV] alpha=0, selection=cyclic, l1_ratio=0.25 ........................\n"
     ]
    },
    {
     "name": "stdout",
     "output_type": "stream",
     "text": [
      "[CV]  alpha=0, selection=cyclic, l1_ratio=0.25, score=-0.004637, total=   6.1s\n",
      "[CV] alpha=0, selection=random, l1_ratio=0.25 ........................\n",
      "[CV]  alpha=0, selection=random, l1_ratio=0.25, score=-0.005372, total=   4.1s\n",
      "[CV] alpha=0, selection=random, l1_ratio=0.25 ........................\n",
      "[CV]  alpha=0, selection=random, l1_ratio=0.25, score=-0.004767, total=   5.0s\n",
      "[CV] alpha=0, selection=random, l1_ratio=0.25 ........................\n",
      "[CV]  alpha=0, selection=random, l1_ratio=0.25, score=-0.005285, total=   5.7s\n",
      "[CV] alpha=0, selection=random, l1_ratio=0.25 ........................\n",
      "[CV]  alpha=0, selection=random, l1_ratio=0.25, score=-0.005162, total=   5.6s\n",
      "[CV] alpha=0, selection=random, l1_ratio=0.25 ........................\n",
      "[CV]  alpha=0, selection=random, l1_ratio=0.25, score=-0.004676, total=   5.2s\n",
      "[CV] alpha=0, selection=cyclic, l1_ratio=0.2 .........................\n",
      "[CV]  alpha=0, selection=cyclic, l1_ratio=0.2, score=-0.005376, total=   4.0s\n",
      "[CV] alpha=0, selection=cyclic, l1_ratio=0.2 .........................\n",
      "[CV]  alpha=0, selection=cyclic, l1_ratio=0.2, score=-0.004736, total=   5.2s\n",
      "[CV] alpha=0, selection=cyclic, l1_ratio=0.2 .........................\n",
      "[CV]  alpha=0, selection=cyclic, l1_ratio=0.2, score=-0.005348, total=   5.2s\n",
      "[CV] alpha=0, selection=cyclic, l1_ratio=0.2 .........................\n",
      "[CV]  alpha=0, selection=cyclic, l1_ratio=0.2, score=-0.005173, total=   5.3s\n",
      "[CV] alpha=0, selection=cyclic, l1_ratio=0.2 .........................\n",
      "[CV]  alpha=0, selection=cyclic, l1_ratio=0.2, score=-0.004637, total=   6.0s\n",
      "[CV] alpha=0, selection=random, l1_ratio=0.2 .........................\n",
      "[CV]  alpha=0, selection=random, l1_ratio=0.2, score=-0.005371, total=   4.5s\n",
      "[CV] alpha=0, selection=random, l1_ratio=0.2 .........................\n",
      "[CV]  alpha=0, selection=random, l1_ratio=0.2, score=-0.004760, total=   5.3s\n",
      "[CV] alpha=0, selection=random, l1_ratio=0.2 .........................\n",
      "[CV]  alpha=0, selection=random, l1_ratio=0.2, score=-0.005279, total=   6.0s\n",
      "[CV] alpha=0, selection=random, l1_ratio=0.2 .........................\n",
      "[CV]  alpha=0, selection=random, l1_ratio=0.2, score=-0.005135, total=   6.6s\n",
      "[CV] alpha=0, selection=random, l1_ratio=0.2 .........................\n",
      "[CV]  alpha=0, selection=random, l1_ratio=0.2, score=-0.004728, total=   5.7s\n",
      "[CV] alpha=1, selection=cyclic, l1_ratio=1 ...........................\n",
      "[CV]  alpha=1, selection=cyclic, l1_ratio=1, score=-0.005519, total=   0.0s\n",
      "[CV] alpha=1, selection=cyclic, l1_ratio=1 ...........................\n",
      "[CV]  alpha=1, selection=cyclic, l1_ratio=1, score=-0.005463, total=   0.0s\n",
      "[CV] alpha=1, selection=cyclic, l1_ratio=1 ...........................\n",
      "[CV]  alpha=1, selection=cyclic, l1_ratio=1, score=-0.005285, total=   0.0s\n",
      "[CV] alpha=1, selection=cyclic, l1_ratio=1 ...........................\n",
      "[CV]  alpha=1, selection=cyclic, l1_ratio=1, score=-0.003664, total=   0.0s\n",
      "[CV] alpha=1, selection=cyclic, l1_ratio=1 ...........................\n",
      "[CV]  alpha=1, selection=cyclic, l1_ratio=1, score=-0.004268, total=   0.0s\n",
      "[CV] alpha=1, selection=random, l1_ratio=1 ...........................\n",
      "[CV]  alpha=1, selection=random, l1_ratio=1, score=-0.005519, total=   0.0s\n",
      "[CV] alpha=1, selection=random, l1_ratio=1 ...........................\n",
      "[CV]  alpha=1, selection=random, l1_ratio=1, score=-0.005463, total=   0.0s\n",
      "[CV] alpha=1, selection=random, l1_ratio=1 ...........................\n",
      "[CV]  alpha=1, selection=random, l1_ratio=1, score=-0.005285, total=   0.0s\n",
      "[CV] alpha=1, selection=random, l1_ratio=1 ...........................\n",
      "[CV]  alpha=1, selection=random, l1_ratio=1, score=-0.003664, total=   0.0s\n",
      "[CV] alpha=1, selection=random, l1_ratio=1 ...........................\n",
      "[CV]  alpha=1, selection=random, l1_ratio=1, score=-0.004268, total=   0.0s\n",
      "[CV] alpha=1, selection=cyclic, l1_ratio=0.5 .........................\n",
      "[CV]  alpha=1, selection=cyclic, l1_ratio=0.5, score=-0.005519, total=   0.0s\n",
      "[CV] alpha=1, selection=cyclic, l1_ratio=0.5 .........................\n",
      "[CV]  alpha=1, selection=cyclic, l1_ratio=0.5, score=-0.005463, total=   0.0s\n",
      "[CV] alpha=1, selection=cyclic, l1_ratio=0.5 .........................\n",
      "[CV]  alpha=1, selection=cyclic, l1_ratio=0.5, score=-0.005285, total=   0.0s\n",
      "[CV] alpha=1, selection=cyclic, l1_ratio=0.5 .........................\n",
      "[CV]  alpha=1, selection=cyclic, l1_ratio=0.5, score=-0.003664, total=   0.0s\n",
      "[CV] alpha=1, selection=cyclic, l1_ratio=0.5 .........................\n",
      "[CV]  alpha=1, selection=cyclic, l1_ratio=0.5, score=-0.004268, total=   0.0s\n",
      "[CV] alpha=1, selection=random, l1_ratio=0.5 .........................\n",
      "[CV]  alpha=1, selection=random, l1_ratio=0.5, score=-0.005519, total=   0.0s\n",
      "[CV] alpha=1, selection=random, l1_ratio=0.5 .........................\n",
      "[CV]  alpha=1, selection=random, l1_ratio=0.5, score=-0.005463, total=   0.0s\n",
      "[CV] alpha=1, selection=random, l1_ratio=0.5 .........................\n",
      "[CV]  alpha=1, selection=random, l1_ratio=0.5, score=-0.005285, total=   0.0s\n",
      "[CV] alpha=1, selection=random, l1_ratio=0.5 .........................\n",
      "[CV]  alpha=1, selection=random, l1_ratio=0.5, score=-0.003664, total=   0.0s\n",
      "[CV] alpha=1, selection=random, l1_ratio=0.5 .........................\n",
      "[CV]  alpha=1, selection=random, l1_ratio=0.5, score=-0.004268, total=   0.0s\n",
      "[CV] alpha=1, selection=cyclic, l1_ratio=0.333333333333 ..............\n",
      "[CV]  alpha=1, selection=cyclic, l1_ratio=0.333333333333, score=-0.005519, total=   0.0s\n",
      "[CV] alpha=1, selection=cyclic, l1_ratio=0.333333333333 ..............\n",
      "[CV]  alpha=1, selection=cyclic, l1_ratio=0.333333333333, score=-0.005463, total=   0.0s\n",
      "[CV] alpha=1, selection=cyclic, l1_ratio=0.333333333333 ..............\n",
      "[CV]  alpha=1, selection=cyclic, l1_ratio=0.333333333333, score=-0.005285, total=   0.0s\n",
      "[CV] alpha=1, selection=cyclic, l1_ratio=0.333333333333 ..............\n",
      "[CV]  alpha=1, selection=cyclic, l1_ratio=0.333333333333, score=-0.003664, total=   0.0s\n",
      "[CV] alpha=1, selection=cyclic, l1_ratio=0.333333333333 ..............\n",
      "[CV]  alpha=1, selection=cyclic, l1_ratio=0.333333333333, score=-0.004268, total=   0.0s\n",
      "[CV] alpha=1, selection=random, l1_ratio=0.333333333333 ..............\n",
      "[CV]  alpha=1, selection=random, l1_ratio=0.333333333333, score=-0.005519, total=   0.0s\n",
      "[CV] alpha=1, selection=random, l1_ratio=0.333333333333 ..............\n",
      "[CV]  alpha=1, selection=random, l1_ratio=0.333333333333, score=-0.005463, total=   0.0s\n",
      "[CV] alpha=1, selection=random, l1_ratio=0.333333333333 ..............\n",
      "[CV]  alpha=1, selection=random, l1_ratio=0.333333333333, score=-0.005285, total=   0.0s\n",
      "[CV] alpha=1, selection=random, l1_ratio=0.333333333333 ..............\n",
      "[CV]  alpha=1, selection=random, l1_ratio=0.333333333333, score=-0.003664, total=   0.0s\n",
      "[CV] alpha=1, selection=random, l1_ratio=0.333333333333 ..............\n",
      "[CV]  alpha=1, selection=random, l1_ratio=0.333333333333, score=-0.004268, total=   0.0s\n",
      "[CV] alpha=1, selection=cyclic, l1_ratio=0.25 ........................\n",
      "[CV]  alpha=1, selection=cyclic, l1_ratio=0.25, score=-0.005519, total=   0.0s\n",
      "[CV] alpha=1, selection=cyclic, l1_ratio=0.25 ........................\n",
      "[CV]  alpha=1, selection=cyclic, l1_ratio=0.25, score=-0.005463, total=   0.0s\n",
      "[CV] alpha=1, selection=cyclic, l1_ratio=0.25 ........................\n",
      "[CV]  alpha=1, selection=cyclic, l1_ratio=0.25, score=-0.005285, total=   0.0s\n",
      "[CV] alpha=1, selection=cyclic, l1_ratio=0.25 ........................\n",
      "[CV]  alpha=1, selection=cyclic, l1_ratio=0.25, score=-0.003664, total=   0.0s\n",
      "[CV] alpha=1, selection=cyclic, l1_ratio=0.25 ........................\n",
      "[CV]  alpha=1, selection=cyclic, l1_ratio=0.25, score=-0.004268, total=   0.0s\n",
      "[CV] alpha=1, selection=random, l1_ratio=0.25 ........................\n",
      "[CV]  alpha=1, selection=random, l1_ratio=0.25, score=-0.005519, total=   0.0s\n",
      "[CV] alpha=1, selection=random, l1_ratio=0.25 ........................\n",
      "[CV]  alpha=1, selection=random, l1_ratio=0.25, score=-0.005463, total=   0.0s\n",
      "[CV] alpha=1, selection=random, l1_ratio=0.25 ........................\n",
      "[CV]  alpha=1, selection=random, l1_ratio=0.25, score=-0.005285, total=   0.0s\n",
      "[CV] alpha=1, selection=random, l1_ratio=0.25 ........................\n",
      "[CV]  alpha=1, selection=random, l1_ratio=0.25, score=-0.003664, total=   0.0s\n",
      "[CV] alpha=1, selection=random, l1_ratio=0.25 ........................\n",
      "[CV]  alpha=1, selection=random, l1_ratio=0.25, score=-0.004268, total=   0.0s\n",
      "[CV] alpha=1, selection=cyclic, l1_ratio=0.2 .........................\n",
      "[CV]  alpha=1, selection=cyclic, l1_ratio=0.2, score=-0.005519, total=   0.0s\n",
      "[CV] alpha=1, selection=cyclic, l1_ratio=0.2 .........................\n"
     ]
    },
    {
     "name": "stdout",
     "output_type": "stream",
     "text": [
      "[CV]  alpha=1, selection=cyclic, l1_ratio=0.2, score=-0.005463, total=   0.0s\n",
      "[CV] alpha=1, selection=cyclic, l1_ratio=0.2 .........................\n",
      "[CV]  alpha=1, selection=cyclic, l1_ratio=0.2, score=-0.005285, total=   0.0s\n",
      "[CV] alpha=1, selection=cyclic, l1_ratio=0.2 .........................\n",
      "[CV]  alpha=1, selection=cyclic, l1_ratio=0.2, score=-0.003664, total=   0.0s\n",
      "[CV] alpha=1, selection=cyclic, l1_ratio=0.2 .........................\n",
      "[CV]  alpha=1, selection=cyclic, l1_ratio=0.2, score=-0.004268, total=   0.0s\n",
      "[CV] alpha=1, selection=random, l1_ratio=0.2 .........................\n",
      "[CV]  alpha=1, selection=random, l1_ratio=0.2, score=-0.005519, total=   0.0s\n",
      "[CV] alpha=1, selection=random, l1_ratio=0.2 .........................\n",
      "[CV]  alpha=1, selection=random, l1_ratio=0.2, score=-0.005463, total=   0.0s\n",
      "[CV] alpha=1, selection=random, l1_ratio=0.2 .........................\n",
      "[CV]  alpha=1, selection=random, l1_ratio=0.2, score=-0.005285, total=   0.0s\n",
      "[CV] alpha=1, selection=random, l1_ratio=0.2 .........................\n",
      "[CV]  alpha=1, selection=random, l1_ratio=0.2, score=-0.003664, total=   0.0s\n",
      "[CV] alpha=1, selection=random, l1_ratio=0.2 .........................\n",
      "[CV]  alpha=1, selection=random, l1_ratio=0.2, score=-0.004268, total=   0.0s\n",
      "[CV] alpha=5, selection=cyclic, l1_ratio=1 ...........................\n",
      "[CV]  alpha=5, selection=cyclic, l1_ratio=1, score=-0.005519, total=   0.0s\n",
      "[CV] alpha=5, selection=cyclic, l1_ratio=1 ...........................\n",
      "[CV]  alpha=5, selection=cyclic, l1_ratio=1, score=-0.005463, total=   0.1s\n",
      "[CV] alpha=5, selection=cyclic, l1_ratio=1 ...........................\n",
      "[CV]  alpha=5, selection=cyclic, l1_ratio=1, score=-0.005285, total=   0.0s\n",
      "[CV] alpha=5, selection=cyclic, l1_ratio=1 ...........................\n",
      "[CV]  alpha=5, selection=cyclic, l1_ratio=1, score=-0.003664, total=   0.0s\n",
      "[CV] alpha=5, selection=cyclic, l1_ratio=1 ...........................\n",
      "[CV]  alpha=5, selection=cyclic, l1_ratio=1, score=-0.004268, total=   0.0s\n",
      "[CV] alpha=5, selection=random, l1_ratio=1 ...........................\n",
      "[CV]  alpha=5, selection=random, l1_ratio=1, score=-0.005519, total=   0.0s\n",
      "[CV] alpha=5, selection=random, l1_ratio=1 ...........................\n",
      "[CV]  alpha=5, selection=random, l1_ratio=1, score=-0.005463, total=   0.0s\n",
      "[CV] alpha=5, selection=random, l1_ratio=1 ...........................\n",
      "[CV]  alpha=5, selection=random, l1_ratio=1, score=-0.005285, total=   0.0s\n",
      "[CV] alpha=5, selection=random, l1_ratio=1 ...........................\n",
      "[CV]  alpha=5, selection=random, l1_ratio=1, score=-0.003664, total=   0.0s\n",
      "[CV] alpha=5, selection=random, l1_ratio=1 ...........................\n",
      "[CV]  alpha=5, selection=random, l1_ratio=1, score=-0.004268, total=   0.0s\n",
      "[CV] alpha=5, selection=cyclic, l1_ratio=0.5 .........................\n",
      "[CV]  alpha=5, selection=cyclic, l1_ratio=0.5, score=-0.005519, total=   0.0s\n",
      "[CV] alpha=5, selection=cyclic, l1_ratio=0.5 .........................\n",
      "[CV]  alpha=5, selection=cyclic, l1_ratio=0.5, score=-0.005463, total=   0.0s\n",
      "[CV] alpha=5, selection=cyclic, l1_ratio=0.5 .........................\n",
      "[CV]  alpha=5, selection=cyclic, l1_ratio=0.5, score=-0.005285, total=   0.0s\n",
      "[CV] alpha=5, selection=cyclic, l1_ratio=0.5 .........................\n",
      "[CV]  alpha=5, selection=cyclic, l1_ratio=0.5, score=-0.003664, total=   0.0s\n",
      "[CV] alpha=5, selection=cyclic, l1_ratio=0.5 .........................\n",
      "[CV]  alpha=5, selection=cyclic, l1_ratio=0.5, score=-0.004268, total=   0.0s\n",
      "[CV] alpha=5, selection=random, l1_ratio=0.5 .........................\n",
      "[CV]  alpha=5, selection=random, l1_ratio=0.5, score=-0.005519, total=   0.0s\n",
      "[CV] alpha=5, selection=random, l1_ratio=0.5 .........................\n",
      "[CV]  alpha=5, selection=random, l1_ratio=0.5, score=-0.005463, total=   0.0s\n",
      "[CV] alpha=5, selection=random, l1_ratio=0.5 .........................\n",
      "[CV]  alpha=5, selection=random, l1_ratio=0.5, score=-0.005285, total=   0.0s\n",
      "[CV] alpha=5, selection=random, l1_ratio=0.5 .........................\n",
      "[CV]  alpha=5, selection=random, l1_ratio=0.5, score=-0.003664, total=   0.0s\n",
      "[CV] alpha=5, selection=random, l1_ratio=0.5 .........................\n",
      "[CV]  alpha=5, selection=random, l1_ratio=0.5, score=-0.004268, total=   0.0s\n",
      "[CV] alpha=5, selection=cyclic, l1_ratio=0.333333333333 ..............\n",
      "[CV]  alpha=5, selection=cyclic, l1_ratio=0.333333333333, score=-0.005519, total=   0.0s\n",
      "[CV] alpha=5, selection=cyclic, l1_ratio=0.333333333333 ..............\n",
      "[CV]  alpha=5, selection=cyclic, l1_ratio=0.333333333333, score=-0.005463, total=   0.0s\n",
      "[CV] alpha=5, selection=cyclic, l1_ratio=0.333333333333 ..............\n",
      "[CV]  alpha=5, selection=cyclic, l1_ratio=0.333333333333, score=-0.005285, total=   0.0s\n",
      "[CV] alpha=5, selection=cyclic, l1_ratio=0.333333333333 ..............\n",
      "[CV]  alpha=5, selection=cyclic, l1_ratio=0.333333333333, score=-0.003664, total=   0.0s\n",
      "[CV] alpha=5, selection=cyclic, l1_ratio=0.333333333333 ..............\n",
      "[CV]  alpha=5, selection=cyclic, l1_ratio=0.333333333333, score=-0.004268, total=   0.0s\n",
      "[CV] alpha=5, selection=random, l1_ratio=0.333333333333 ..............\n",
      "[CV]  alpha=5, selection=random, l1_ratio=0.333333333333, score=-0.005519, total=   0.0s\n",
      "[CV] alpha=5, selection=random, l1_ratio=0.333333333333 ..............\n",
      "[CV]  alpha=5, selection=random, l1_ratio=0.333333333333, score=-0.005463, total=   0.0s\n",
      "[CV] alpha=5, selection=random, l1_ratio=0.333333333333 ..............\n",
      "[CV]  alpha=5, selection=random, l1_ratio=0.333333333333, score=-0.005285, total=   0.0s\n",
      "[CV] alpha=5, selection=random, l1_ratio=0.333333333333 ..............\n",
      "[CV]  alpha=5, selection=random, l1_ratio=0.333333333333, score=-0.003664, total=   0.0s\n",
      "[CV] alpha=5, selection=random, l1_ratio=0.333333333333 ..............\n",
      "[CV]  alpha=5, selection=random, l1_ratio=0.333333333333, score=-0.004268, total=   0.0s\n",
      "[CV] alpha=5, selection=cyclic, l1_ratio=0.25 ........................\n",
      "[CV]  alpha=5, selection=cyclic, l1_ratio=0.25, score=-0.005519, total=   0.0s\n",
      "[CV] alpha=5, selection=cyclic, l1_ratio=0.25 ........................\n",
      "[CV]  alpha=5, selection=cyclic, l1_ratio=0.25, score=-0.005463, total=   0.0s\n",
      "[CV] alpha=5, selection=cyclic, l1_ratio=0.25 ........................\n",
      "[CV]  alpha=5, selection=cyclic, l1_ratio=0.25, score=-0.005285, total=   0.0s\n",
      "[CV] alpha=5, selection=cyclic, l1_ratio=0.25 ........................\n",
      "[CV]  alpha=5, selection=cyclic, l1_ratio=0.25, score=-0.003664, total=   0.0s\n",
      "[CV] alpha=5, selection=cyclic, l1_ratio=0.25 ........................\n",
      "[CV]  alpha=5, selection=cyclic, l1_ratio=0.25, score=-0.004268, total=   0.0s\n",
      "[CV] alpha=5, selection=random, l1_ratio=0.25 ........................\n",
      "[CV]  alpha=5, selection=random, l1_ratio=0.25, score=-0.005519, total=   0.0s\n",
      "[CV] alpha=5, selection=random, l1_ratio=0.25 ........................\n",
      "[CV]  alpha=5, selection=random, l1_ratio=0.25, score=-0.005463, total=   0.0s\n",
      "[CV] alpha=5, selection=random, l1_ratio=0.25 ........................\n",
      "[CV]  alpha=5, selection=random, l1_ratio=0.25, score=-0.005285, total=   0.0s\n",
      "[CV] alpha=5, selection=random, l1_ratio=0.25 ........................\n",
      "[CV]  alpha=5, selection=random, l1_ratio=0.25, score=-0.003664, total=   0.0s\n",
      "[CV] alpha=5, selection=random, l1_ratio=0.25 ........................\n",
      "[CV]  alpha=5, selection=random, l1_ratio=0.25, score=-0.004268, total=   0.0s\n",
      "[CV] alpha=5, selection=cyclic, l1_ratio=0.2 .........................\n",
      "[CV]  alpha=5, selection=cyclic, l1_ratio=0.2, score=-0.005519, total=   0.0s\n",
      "[CV] alpha=5, selection=cyclic, l1_ratio=0.2 .........................\n",
      "[CV]  alpha=5, selection=cyclic, l1_ratio=0.2, score=-0.005463, total=   0.0s\n",
      "[CV] alpha=5, selection=cyclic, l1_ratio=0.2 .........................\n",
      "[CV]  alpha=5, selection=cyclic, l1_ratio=0.2, score=-0.005285, total=   0.0s\n",
      "[CV] alpha=5, selection=cyclic, l1_ratio=0.2 .........................\n",
      "[CV]  alpha=5, selection=cyclic, l1_ratio=0.2, score=-0.003664, total=   0.0s\n",
      "[CV] alpha=5, selection=cyclic, l1_ratio=0.2 .........................\n",
      "[CV]  alpha=5, selection=cyclic, l1_ratio=0.2, score=-0.004268, total=   0.0s\n",
      "[CV] alpha=5, selection=random, l1_ratio=0.2 .........................\n",
      "[CV]  alpha=5, selection=random, l1_ratio=0.2, score=-0.005519, total=   0.0s\n",
      "[CV] alpha=5, selection=random, l1_ratio=0.2 .........................\n",
      "[CV]  alpha=5, selection=random, l1_ratio=0.2, score=-0.005463, total=   0.0s\n",
      "[CV] alpha=5, selection=random, l1_ratio=0.2 .........................\n",
      "[CV]  alpha=5, selection=random, l1_ratio=0.2, score=-0.005285, total=   0.0s\n",
      "[CV] alpha=5, selection=random, l1_ratio=0.2 .........................\n",
      "[CV]  alpha=5, selection=random, l1_ratio=0.2, score=-0.003664, total=   0.0s\n",
      "[CV] alpha=5, selection=random, l1_ratio=0.2 .........................\n",
      "[CV]  alpha=5, selection=random, l1_ratio=0.2, score=-0.004268, total=   0.0s\n",
      "[CV] alpha=10, selection=cyclic, l1_ratio=1 ..........................\n",
      "[CV]  alpha=10, selection=cyclic, l1_ratio=1, score=-0.005519, total=   0.0s\n",
      "[CV] alpha=10, selection=cyclic, l1_ratio=1 ..........................\n",
      "[CV]  alpha=10, selection=cyclic, l1_ratio=1, score=-0.005463, total=   0.0s\n",
      "[CV] alpha=10, selection=cyclic, l1_ratio=1 ..........................\n",
      "[CV]  alpha=10, selection=cyclic, l1_ratio=1, score=-0.005285, total=   0.0s\n",
      "[CV] alpha=10, selection=cyclic, l1_ratio=1 ..........................\n",
      "[CV]  alpha=10, selection=cyclic, l1_ratio=1, score=-0.003664, total=   0.0s\n",
      "[CV] alpha=10, selection=cyclic, l1_ratio=1 ..........................\n",
      "[CV]  alpha=10, selection=cyclic, l1_ratio=1, score=-0.004268, total=   0.0s\n",
      "[CV] alpha=10, selection=random, l1_ratio=1 ..........................\n"
     ]
    },
    {
     "name": "stdout",
     "output_type": "stream",
     "text": [
      "[CV]  alpha=10, selection=random, l1_ratio=1, score=-0.005519, total=   0.0s\n",
      "[CV] alpha=10, selection=random, l1_ratio=1 ..........................\n",
      "[CV]  alpha=10, selection=random, l1_ratio=1, score=-0.005463, total=   0.0s\n",
      "[CV] alpha=10, selection=random, l1_ratio=1 ..........................\n",
      "[CV]  alpha=10, selection=random, l1_ratio=1, score=-0.005285, total=   0.0s\n",
      "[CV] alpha=10, selection=random, l1_ratio=1 ..........................\n",
      "[CV]  alpha=10, selection=random, l1_ratio=1, score=-0.003664, total=   0.0s\n",
      "[CV] alpha=10, selection=random, l1_ratio=1 ..........................\n",
      "[CV]  alpha=10, selection=random, l1_ratio=1, score=-0.004268, total=   0.0s\n",
      "[CV] alpha=10, selection=cyclic, l1_ratio=0.5 ........................\n",
      "[CV]  alpha=10, selection=cyclic, l1_ratio=0.5, score=-0.005519, total=   0.0s\n",
      "[CV] alpha=10, selection=cyclic, l1_ratio=0.5 ........................\n",
      "[CV]  alpha=10, selection=cyclic, l1_ratio=0.5, score=-0.005463, total=   0.0s\n",
      "[CV] alpha=10, selection=cyclic, l1_ratio=0.5 ........................\n",
      "[CV]  alpha=10, selection=cyclic, l1_ratio=0.5, score=-0.005285, total=   0.0s\n",
      "[CV] alpha=10, selection=cyclic, l1_ratio=0.5 ........................\n",
      "[CV]  alpha=10, selection=cyclic, l1_ratio=0.5, score=-0.003664, total=   0.0s\n",
      "[CV] alpha=10, selection=cyclic, l1_ratio=0.5 ........................\n",
      "[CV]  alpha=10, selection=cyclic, l1_ratio=0.5, score=-0.004268, total=   0.0s\n",
      "[CV] alpha=10, selection=random, l1_ratio=0.5 ........................\n",
      "[CV]  alpha=10, selection=random, l1_ratio=0.5, score=-0.005519, total=   0.0s\n",
      "[CV] alpha=10, selection=random, l1_ratio=0.5 ........................\n",
      "[CV]  alpha=10, selection=random, l1_ratio=0.5, score=-0.005463, total=   0.0s\n",
      "[CV] alpha=10, selection=random, l1_ratio=0.5 ........................\n",
      "[CV]  alpha=10, selection=random, l1_ratio=0.5, score=-0.005285, total=   0.0s\n",
      "[CV] alpha=10, selection=random, l1_ratio=0.5 ........................\n",
      "[CV]  alpha=10, selection=random, l1_ratio=0.5, score=-0.003664, total=   0.0s\n",
      "[CV] alpha=10, selection=random, l1_ratio=0.5 ........................\n",
      "[CV]  alpha=10, selection=random, l1_ratio=0.5, score=-0.004268, total=   0.0s\n",
      "[CV] alpha=10, selection=cyclic, l1_ratio=0.333333333333 .............\n",
      "[CV]  alpha=10, selection=cyclic, l1_ratio=0.333333333333, score=-0.005519, total=   0.0s\n",
      "[CV] alpha=10, selection=cyclic, l1_ratio=0.333333333333 .............\n",
      "[CV]  alpha=10, selection=cyclic, l1_ratio=0.333333333333, score=-0.005463, total=   0.0s\n",
      "[CV] alpha=10, selection=cyclic, l1_ratio=0.333333333333 .............\n",
      "[CV]  alpha=10, selection=cyclic, l1_ratio=0.333333333333, score=-0.005285, total=   0.0s\n",
      "[CV] alpha=10, selection=cyclic, l1_ratio=0.333333333333 .............\n",
      "[CV]  alpha=10, selection=cyclic, l1_ratio=0.333333333333, score=-0.003664, total=   0.0s\n",
      "[CV] alpha=10, selection=cyclic, l1_ratio=0.333333333333 .............\n",
      "[CV]  alpha=10, selection=cyclic, l1_ratio=0.333333333333, score=-0.004268, total=   0.0s\n",
      "[CV] alpha=10, selection=random, l1_ratio=0.333333333333 .............\n",
      "[CV]  alpha=10, selection=random, l1_ratio=0.333333333333, score=-0.005519, total=   0.0s\n",
      "[CV] alpha=10, selection=random, l1_ratio=0.333333333333 .............\n",
      "[CV]  alpha=10, selection=random, l1_ratio=0.333333333333, score=-0.005463, total=   0.0s\n",
      "[CV] alpha=10, selection=random, l1_ratio=0.333333333333 .............\n",
      "[CV]  alpha=10, selection=random, l1_ratio=0.333333333333, score=-0.005285, total=   0.0s\n",
      "[CV] alpha=10, selection=random, l1_ratio=0.333333333333 .............\n",
      "[CV]  alpha=10, selection=random, l1_ratio=0.333333333333, score=-0.003664, total=   0.0s\n",
      "[CV] alpha=10, selection=random, l1_ratio=0.333333333333 .............\n",
      "[CV]  alpha=10, selection=random, l1_ratio=0.333333333333, score=-0.004268, total=   0.0s\n",
      "[CV] alpha=10, selection=cyclic, l1_ratio=0.25 .......................\n",
      "[CV]  alpha=10, selection=cyclic, l1_ratio=0.25, score=-0.005519, total=   0.0s\n",
      "[CV] alpha=10, selection=cyclic, l1_ratio=0.25 .......................\n",
      "[CV]  alpha=10, selection=cyclic, l1_ratio=0.25, score=-0.005463, total=   0.0s\n",
      "[CV] alpha=10, selection=cyclic, l1_ratio=0.25 .......................\n",
      "[CV]  alpha=10, selection=cyclic, l1_ratio=0.25, score=-0.005285, total=   0.0s\n",
      "[CV] alpha=10, selection=cyclic, l1_ratio=0.25 .......................\n",
      "[CV]  alpha=10, selection=cyclic, l1_ratio=0.25, score=-0.003664, total=   0.0s\n",
      "[CV] alpha=10, selection=cyclic, l1_ratio=0.25 .......................\n",
      "[CV]  alpha=10, selection=cyclic, l1_ratio=0.25, score=-0.004268, total=   0.0s\n",
      "[CV] alpha=10, selection=random, l1_ratio=0.25 .......................\n",
      "[CV]  alpha=10, selection=random, l1_ratio=0.25, score=-0.005519, total=   0.0s\n",
      "[CV] alpha=10, selection=random, l1_ratio=0.25 .......................\n",
      "[CV]  alpha=10, selection=random, l1_ratio=0.25, score=-0.005463, total=   0.0s\n",
      "[CV] alpha=10, selection=random, l1_ratio=0.25 .......................\n",
      "[CV]  alpha=10, selection=random, l1_ratio=0.25, score=-0.005285, total=   0.0s\n",
      "[CV] alpha=10, selection=random, l1_ratio=0.25 .......................\n",
      "[CV]  alpha=10, selection=random, l1_ratio=0.25, score=-0.003664, total=   0.0s\n",
      "[CV] alpha=10, selection=random, l1_ratio=0.25 .......................\n",
      "[CV]  alpha=10, selection=random, l1_ratio=0.25, score=-0.004268, total=   0.0s\n",
      "[CV] alpha=10, selection=cyclic, l1_ratio=0.2 ........................\n",
      "[CV]  alpha=10, selection=cyclic, l1_ratio=0.2, score=-0.005519, total=   0.0s\n",
      "[CV] alpha=10, selection=cyclic, l1_ratio=0.2 ........................\n",
      "[CV]  alpha=10, selection=cyclic, l1_ratio=0.2, score=-0.005463, total=   0.0s\n",
      "[CV] alpha=10, selection=cyclic, l1_ratio=0.2 ........................\n",
      "[CV]  alpha=10, selection=cyclic, l1_ratio=0.2, score=-0.005285, total=   0.0s\n",
      "[CV] alpha=10, selection=cyclic, l1_ratio=0.2 ........................\n",
      "[CV]  alpha=10, selection=cyclic, l1_ratio=0.2, score=-0.003664, total=   0.0s\n",
      "[CV] alpha=10, selection=cyclic, l1_ratio=0.2 ........................\n",
      "[CV]  alpha=10, selection=cyclic, l1_ratio=0.2, score=-0.004268, total=   0.0s\n",
      "[CV] alpha=10, selection=random, l1_ratio=0.2 ........................\n",
      "[CV]  alpha=10, selection=random, l1_ratio=0.2, score=-0.005519, total=   0.0s\n",
      "[CV] alpha=10, selection=random, l1_ratio=0.2 ........................\n",
      "[CV]  alpha=10, selection=random, l1_ratio=0.2, score=-0.005463, total=   0.0s\n",
      "[CV] alpha=10, selection=random, l1_ratio=0.2 ........................\n",
      "[CV]  alpha=10, selection=random, l1_ratio=0.2, score=-0.005285, total=   0.0s\n",
      "[CV] alpha=10, selection=random, l1_ratio=0.2 ........................\n",
      "[CV]  alpha=10, selection=random, l1_ratio=0.2, score=-0.003664, total=   0.0s\n",
      "[CV] alpha=10, selection=random, l1_ratio=0.2 ........................\n",
      "[CV]  alpha=10, selection=random, l1_ratio=0.2, score=-0.004268, total=   0.0s\n"
     ]
    },
    {
     "name": "stderr",
     "output_type": "stream",
     "text": [
      "[Parallel(n_jobs=1)]: Done 400 out of 400 | elapsed:  4.6min finished\n"
     ]
    },
    {
     "data": {
      "text/plain": [
       "GridSearchCV(cv=5, error_score='raise',\n",
       "       estimator=ElasticNet(alpha=0.001, copy_X=True, fit_intercept=True, l1_ratio=0.5,\n",
       "      max_iter=10000, normalize=False, positive=False, precompute=False,\n",
       "      random_state=None, selection='cyclic', tol=0.0001, warm_start=False),\n",
       "       fit_params={}, iid=True, n_jobs=1,\n",
       "       param_grid={'alpha': [1e-05, 0.0001, 0.001, 0.01, 0, 1, 5, 10], 'selection': ['cyclic', 'random'], 'l1_ratio': [1, 0.5, 0.3333333333333333, 0.25, 0.2]},\n",
       "       pre_dispatch='2*n_jobs', refit=True, return_train_score=True,\n",
       "       scoring='neg_mean_squared_error', verbose=5)"
      ]
     },
     "execution_count": 56,
     "metadata": {},
     "output_type": "execute_result"
    }
   ],
   "source": [
    "from sklearn.model_selection import GridSearchCV\n",
    "param_grid ={'alpha':[1e-5,1e-4, 1e-3,1e-2,0, 1, 5, 10],'selection':['cyclic','random'],'l1_ratio':[1,0.5,1.0/3.0,0.25,0.2]}\n",
    "grid_search = GridSearchCV(droitModel.predictiveModels['ElasticNet'], param_grid, cv=5,scoring='neg_mean_squared_error',verbose=5)\n",
    "grid_search.fit(droitModel.X_train,droitModel.Y_train)"
   ]
  },
  {
   "cell_type": "code",
   "execution_count": 57,
   "metadata": {
    "scrolled": false
   },
   "outputs": [
    {
     "name": "stdout",
     "output_type": "stream",
     "text": [
      "(0.06667432276156228, {'alpha': 1e-05, 'selection': 'cyclic', 'l1_ratio': 1})\n",
      "(0.066674559842560432, {'alpha': 1e-05, 'selection': 'random', 'l1_ratio': 1})\n",
      "(0.066684532520481191, {'alpha': 1e-05, 'selection': 'cyclic', 'l1_ratio': 0.5})\n",
      "(0.066685195121775606, {'alpha': 1e-05, 'selection': 'random', 'l1_ratio': 0.5})\n",
      "(0.066752183580841659, {'alpha': 1e-05, 'selection': 'cyclic', 'l1_ratio': 0.3333333333333333})\n",
      "(0.066752199918334462, {'alpha': 1e-05, 'selection': 'random', 'l1_ratio': 0.3333333333333333})\n",
      "(0.067288550808824205, {'alpha': 1e-05, 'selection': 'cyclic', 'l1_ratio': 0.25})\n",
      "(0.0672890169473533, {'alpha': 1e-05, 'selection': 'random', 'l1_ratio': 0.25})\n",
      "(0.067373190313279152, {'alpha': 1e-05, 'selection': 'cyclic', 'l1_ratio': 0.2})\n",
      "(0.067373433821402373, {'alpha': 1e-05, 'selection': 'random', 'l1_ratio': 0.2})\n",
      "(0.067827927937534477, {'alpha': 0.0001, 'selection': 'cyclic', 'l1_ratio': 1})\n",
      "(0.067831595702809055, {'alpha': 0.0001, 'selection': 'random', 'l1_ratio': 1})\n",
      "(0.068116157197589344, {'alpha': 0.0001, 'selection': 'cyclic', 'l1_ratio': 0.5})\n",
      "(0.068116540389998981, {'alpha': 0.0001, 'selection': 'random', 'l1_ratio': 0.5})\n",
      "(0.06815604382565546, {'alpha': 0.0001, 'selection': 'cyclic', 'l1_ratio': 0.3333333333333333})\n",
      "(0.06815879724607983, {'alpha': 0.0001, 'selection': 'random', 'l1_ratio': 0.3333333333333333})\n",
      "(0.068246632218489145, {'alpha': 0.0001, 'selection': 'cyclic', 'l1_ratio': 0.25})\n",
      "(0.068247169050033724, {'alpha': 0.0001, 'selection': 'random', 'l1_ratio': 0.25})\n",
      "(0.068286952019600763, {'alpha': 0.0001, 'selection': 'cyclic', 'l1_ratio': 0.2})\n",
      "(0.068287315869475868, {'alpha': 0.0001, 'selection': 'random', 'l1_ratio': 0.2})\n",
      "(0.06870609367000996, {'alpha': 0.001, 'selection': 'cyclic', 'l1_ratio': 1})\n",
      "(0.06870609367000996, {'alpha': 0.001, 'selection': 'random', 'l1_ratio': 1})\n",
      "(0.068771459936861512, {'alpha': 0.001, 'selection': 'cyclic', 'l1_ratio': 0.5})\n",
      "(0.068772133008708922, {'alpha': 0.001, 'selection': 'random', 'l1_ratio': 0.5})\n",
      "(0.069081580880892682, {'alpha': 0.001, 'selection': 'cyclic', 'l1_ratio': 0.3333333333333333})\n",
      "(0.069082321281202952, {'alpha': 0.001, 'selection': 'random', 'l1_ratio': 0.3333333333333333})\n",
      "(0.069297445845186809, {'alpha': 0.001, 'selection': 'cyclic', 'l1_ratio': 0.25})\n",
      "(0.069298411881070693, {'alpha': 0.001, 'selection': 'random', 'l1_ratio': 0.25})\n",
      "(0.06957552507642617, {'alpha': 0.001, 'selection': 'cyclic', 'l1_ratio': 0.2})\n",
      "(0.06957552507642617, {'alpha': 0.001, 'selection': 'random', 'l1_ratio': 0.2})\n",
      "(0.06957552507642617, {'alpha': 0.01, 'selection': 'cyclic', 'l1_ratio': 1})\n",
      "(0.06957552507642617, {'alpha': 0.01, 'selection': 'random', 'l1_ratio': 1})\n",
      "(0.06957552507642617, {'alpha': 0.01, 'selection': 'cyclic', 'l1_ratio': 0.5})\n",
      "(0.06957552507642617, {'alpha': 0.01, 'selection': 'random', 'l1_ratio': 0.5})\n",
      "(0.06957552507642617, {'alpha': 0.01, 'selection': 'cyclic', 'l1_ratio': 0.3333333333333333})\n",
      "(0.06957552507642617, {'alpha': 0.01, 'selection': 'random', 'l1_ratio': 0.3333333333333333})\n",
      "(0.06957552507642617, {'alpha': 0.01, 'selection': 'cyclic', 'l1_ratio': 0.25})\n",
      "(0.06957552507642617, {'alpha': 0.01, 'selection': 'random', 'l1_ratio': 0.25})\n",
      "(0.06957552507642617, {'alpha': 0.01, 'selection': 'cyclic', 'l1_ratio': 0.2})\n",
      "(0.06957552507642617, {'alpha': 0.01, 'selection': 'random', 'l1_ratio': 0.2})\n",
      "(0.06957552507642617, {'alpha': 0, 'selection': 'cyclic', 'l1_ratio': 1})\n",
      "(0.06957552507642617, {'alpha': 0, 'selection': 'random', 'l1_ratio': 1})\n",
      "(0.06957552507642617, {'alpha': 0, 'selection': 'cyclic', 'l1_ratio': 0.5})\n",
      "(0.06957552507642617, {'alpha': 0, 'selection': 'random', 'l1_ratio': 0.5})\n",
      "(0.06957552507642617, {'alpha': 0, 'selection': 'cyclic', 'l1_ratio': 0.3333333333333333})\n",
      "(0.06957552507642617, {'alpha': 0, 'selection': 'random', 'l1_ratio': 0.3333333333333333})\n",
      "(0.06957552507642617, {'alpha': 0, 'selection': 'cyclic', 'l1_ratio': 0.25})\n",
      "(0.06957552507642617, {'alpha': 0, 'selection': 'random', 'l1_ratio': 0.25})\n",
      "(0.06957552507642617, {'alpha': 0, 'selection': 'cyclic', 'l1_ratio': 0.2})\n",
      "(0.06957552507642617, {'alpha': 0, 'selection': 'random', 'l1_ratio': 0.2})\n",
      "(0.06957552507642617, {'alpha': 1, 'selection': 'cyclic', 'l1_ratio': 1})\n",
      "(0.06957552507642617, {'alpha': 1, 'selection': 'random', 'l1_ratio': 1})\n",
      "(0.06957552507642617, {'alpha': 1, 'selection': 'cyclic', 'l1_ratio': 0.5})\n",
      "(0.06957552507642617, {'alpha': 1, 'selection': 'random', 'l1_ratio': 0.5})\n",
      "(0.06957552507642617, {'alpha': 1, 'selection': 'cyclic', 'l1_ratio': 0.3333333333333333})\n",
      "(0.06957552507642617, {'alpha': 1, 'selection': 'random', 'l1_ratio': 0.3333333333333333})\n",
      "(0.06957552507642617, {'alpha': 1, 'selection': 'cyclic', 'l1_ratio': 0.25})\n",
      "(0.06957552507642617, {'alpha': 1, 'selection': 'random', 'l1_ratio': 0.25})\n",
      "(0.06957552507642617, {'alpha': 1, 'selection': 'cyclic', 'l1_ratio': 0.2})\n",
      "(0.06957552507642617, {'alpha': 1, 'selection': 'random', 'l1_ratio': 0.2})\n",
      "(0.070407434827359575, {'alpha': 5, 'selection': 'cyclic', 'l1_ratio': 1})\n",
      "(0.070481873651514551, {'alpha': 5, 'selection': 'random', 'l1_ratio': 1})\n",
      "(0.070751163488229324, {'alpha': 5, 'selection': 'cyclic', 'l1_ratio': 0.5})\n",
      "(0.070760402798762834, {'alpha': 5, 'selection': 'random', 'l1_ratio': 0.5})\n",
      "(0.07085382238564783, {'alpha': 5, 'selection': 'cyclic', 'l1_ratio': 0.3333333333333333})\n",
      "(0.070859360871438917, {'alpha': 5, 'selection': 'random', 'l1_ratio': 0.3333333333333333})\n",
      "(0.070908494792018689, {'alpha': 5, 'selection': 'cyclic', 'l1_ratio': 0.25})\n",
      "(0.070911794261530756, {'alpha': 5, 'selection': 'random', 'l1_ratio': 0.25})\n",
      "(0.070916062898097862, {'alpha': 5, 'selection': 'cyclic', 'l1_ratio': 0.2})\n",
      "(0.070938312946959917, {'alpha': 5, 'selection': 'random', 'l1_ratio': 0.2})\n",
      "(0.070941015875622654, {'alpha': 10, 'selection': 'cyclic', 'l1_ratio': 1})\n",
      "(0.071040850729781543, {'alpha': 10, 'selection': 'random', 'l1_ratio': 1})\n",
      "(0.071083648652015718, {'alpha': 10, 'selection': 'cyclic', 'l1_ratio': 0.5})\n",
      "(0.071094610279614737, {'alpha': 10, 'selection': 'random', 'l1_ratio': 0.5})\n",
      "(0.071094610279614737, {'alpha': 10, 'selection': 'cyclic', 'l1_ratio': 0.3333333333333333})\n",
      "(0.071094610279614737, {'alpha': 10, 'selection': 'random', 'l1_ratio': 0.3333333333333333})\n",
      "(0.071094610279614737, {'alpha': 10, 'selection': 'cyclic', 'l1_ratio': 0.25})\n",
      "(0.071094610279614737, {'alpha': 10, 'selection': 'random', 'l1_ratio': 0.25})\n",
      "(0.071097832013874915, {'alpha': 10, 'selection': 'cyclic', 'l1_ratio': 0.2})\n",
      "(0.071101059176769288, {'alpha': 10, 'selection': 'random', 'l1_ratio': 0.2})\n"
     ]
    }
   ],
   "source": [
    "cvres = grid_search.cv_results_\n",
    "for mean_score, params in zip(sorted(cvres[\"mean_test_score\"],reverse=True), cvres[\"params\"]):\n",
    "    print(np.sqrt(-mean_score), params)"
   ]
  },
  {
   "cell_type": "markdown",
   "metadata": {},
   "source": [
    "Grace à ces recherches nous avons pu evaluer nos paramentres sans problèmes"
   ]
  },
  {
   "cell_type": "markdown",
   "metadata": {},
   "source": [
    "effectuons une evaluation sur le test set"
   ]
  },
  {
   "cell_type": "code",
   "execution_count": 120,
   "metadata": {
    "scrolled": false
   },
   "outputs": [
    {
     "name": "stdout",
     "output_type": "stream",
     "text": [
      "('Predictions:\\t', array([ 0.57183083,  0.58105636,  0.66754704,  0.58321565,  0.59821154]))\n",
      "('Labels:\\t\\t', [0.5575, 0.54700000762899992, 0.41999999999999998, 0.55000000000000004, 0.61099998474099992])\n",
      "('Predictions:\\t', array([ 0.55444147,  0.54409263,  0.56064041,  0.55469773,  0.55533849]))\n",
      "('Labels:\\t\\t', [0.5575, 0.54700000762899992, 0.41999999999999998, 0.55000000000000004, 0.61099998474099992])\n",
      "('Predictions:\\t', array([ 0.56192467,  0.5751141 ,  0.63554278,  0.56171098,  0.59237165]))\n",
      "('Labels:\\t\\t', [0.5575, 0.54700000762899992, 0.41999999999999998, 0.55000000000000004, 0.61099998474099992])\n",
      "('Predictions:\\t', array([ 0.56940936,  0.57638618,  0.63724683,  0.57214953,  0.58017637]))\n",
      "('Labels:\\t\\t', [0.5575, 0.54700000762899992, 0.41999999999999998, 0.55000000000000004, 0.61099998474099992])\n",
      "('Predictions:\\t', array([ 0.57183083,  0.58105636,  0.66754704,  0.58321565,  0.59821154]))\n",
      "('Labels:\\t\\t', [0.5575, 0.54700000762899992, 0.41999999999999998, 0.55000000000000004, 0.61099998474099992])\n"
     ]
    }
   ],
   "source": [
    "RMSE={}\n",
    "for reg in droitModel.predictiveModels.keys():\n",
    "    rmse=droitModel.evaluate(model=reg,on='test') #RMSE of each model\n",
    "    RMSE[reg]=[rmse,rmse*100/droitModel.dataset_bin.CGPA.mean()]"
   ]
  },
  {
   "cell_type": "code",
   "execution_count": 121,
   "metadata": {},
   "outputs": [
    {
     "data": {
      "text/plain": [
       "{'ElasticNet': [0.074235002741814035, 12.794280159433873],\n",
       " 'Lasso': [0.074235002741814035, 12.794280159433873],\n",
       " 'LinearSVR': [0.074014355508153801, 12.756251973004467],\n",
       " 'Ridge': [0.071466206449127365, 12.317082689714084],\n",
       " 'SVR': [0.072145106955878877, 12.434090071177653]}"
      ]
     },
     "execution_count": 121,
     "metadata": {},
     "output_type": "execute_result"
    }
   ],
   "source": [
    "RMSE"
   ]
  },
  {
   "cell_type": "markdown",
   "metadata": {},
   "source": [
    "Essayons now ls combinaison de plusieurs methodes"
   ]
  },
  {
   "cell_type": "code",
   "execution_count": 131,
   "metadata": {
    "scrolled": false
   },
   "outputs": [],
   "source": [
    "finalPredict,rmseFinal=ensembelMethods(self=droitModel,predictedValues=predictedValues)"
   ]
  },
  {
   "cell_type": "code",
   "execution_count": 132,
   "metadata": {
    "scrolled": false
   },
   "outputs": [
    {
     "data": {
      "text/html": [
       "<div>\n",
       "<table border=\"1\" class=\"dataframe\">\n",
       "  <thead>\n",
       "    <tr style=\"text-align: right;\">\n",
       "      <th></th>\n",
       "      <th>ElasticNet</th>\n",
       "      <th>Lasso</th>\n",
       "      <th>LinearSVR</th>\n",
       "      <th>Ridge</th>\n",
       "      <th>SVR</th>\n",
       "      <th>RealValue</th>\n",
       "      <th>finalPredict</th>\n",
       "    </tr>\n",
       "    <tr>\n",
       "      <th>ID</th>\n",
       "      <th></th>\n",
       "      <th></th>\n",
       "      <th></th>\n",
       "      <th></th>\n",
       "      <th></th>\n",
       "      <th></th>\n",
       "      <th></th>\n",
       "    </tr>\n",
       "  </thead>\n",
       "  <tbody>\n",
       "    <tr>\n",
       "      <th>10709</th>\n",
       "      <td>0.569160</td>\n",
       "      <td>0.569160</td>\n",
       "      <td>0.553602</td>\n",
       "      <td>0.563864</td>\n",
       "      <td>0.554185</td>\n",
       "      <td>0.56200</td>\n",
       "      <td>0.570502</td>\n",
       "    </tr>\n",
       "    <tr>\n",
       "      <th>4026</th>\n",
       "      <td>0.533646</td>\n",
       "      <td>0.533646</td>\n",
       "      <td>0.516206</td>\n",
       "      <td>0.543356</td>\n",
       "      <td>0.550057</td>\n",
       "      <td>0.59700</td>\n",
       "      <td>0.534010</td>\n",
       "    </tr>\n",
       "    <tr>\n",
       "      <th>8307</th>\n",
       "      <td>0.548312</td>\n",
       "      <td>0.548312</td>\n",
       "      <td>0.545496</td>\n",
       "      <td>0.555175</td>\n",
       "      <td>0.569755</td>\n",
       "      <td>0.63800</td>\n",
       "      <td>0.546321</td>\n",
       "    </tr>\n",
       "    <tr>\n",
       "      <th>7713</th>\n",
       "      <td>0.649854</td>\n",
       "      <td>0.649854</td>\n",
       "      <td>0.680102</td>\n",
       "      <td>0.625937</td>\n",
       "      <td>0.556364</td>\n",
       "      <td>0.61775</td>\n",
       "      <td>0.654201</td>\n",
       "    </tr>\n",
       "    <tr>\n",
       "      <th>8335</th>\n",
       "      <td>0.564797</td>\n",
       "      <td>0.564797</td>\n",
       "      <td>0.572836</td>\n",
       "      <td>0.560507</td>\n",
       "      <td>0.531529</td>\n",
       "      <td>0.60350</td>\n",
       "      <td>0.565973</td>\n",
       "    </tr>\n",
       "  </tbody>\n",
       "</table>\n",
       "</div>"
      ],
      "text/plain": [
       "       ElasticNet     Lasso  LinearSVR     Ridge       SVR  RealValue  \\\n",
       "ID                                                                      \n",
       "10709    0.569160  0.569160   0.553602  0.563864  0.554185    0.56200   \n",
       "4026     0.533646  0.533646   0.516206  0.543356  0.550057    0.59700   \n",
       "8307     0.548312  0.548312   0.545496  0.555175  0.569755    0.63800   \n",
       "7713     0.649854  0.649854   0.680102  0.625937  0.556364    0.61775   \n",
       "8335     0.564797  0.564797   0.572836  0.560507  0.531529    0.60350   \n",
       "\n",
       "       finalPredict  \n",
       "ID                   \n",
       "10709      0.570502  \n",
       "4026       0.534010  \n",
       "8307       0.546321  \n",
       "7713       0.654201  \n",
       "8335       0.565973  "
      ]
     },
     "execution_count": 132,
     "metadata": {},
     "output_type": "execute_result"
    }
   ],
   "source": [
    "finalPredict.head(5)"
   ]
  },
  {
   "cell_type": "code",
   "execution_count": 133,
   "metadata": {},
   "outputs": [
    {
     "data": {
      "text/plain": [
       "0.048415680580131328"
      ]
     },
     "execution_count": 133,
     "metadata": {},
     "output_type": "execute_result"
    }
   ],
   "source": [
    "rmseFinal"
   ]
  },
  {
   "cell_type": "code",
   "execution_count": 134,
   "metadata": {},
   "outputs": [
    {
     "data": {
      "text/plain": [
       "8.3443626129611577"
      ]
     },
     "execution_count": 134,
     "metadata": {},
     "output_type": "execute_result"
    }
   ],
   "source": [
    "rmseFinal*100/droitModel.dataset_bin.CGPA.mean()"
   ]
  },
  {
   "cell_type": "markdown",
   "metadata": {},
   "source": [
    "Nous venons de voir qu'on obtient  un score dans le 8.5% pres en combinant les differentes score par une regression lineaire"
   ]
  },
  {
   "cell_type": "markdown",
   "metadata": {},
   "source": [
    "sur l'ensemble d'apprentissage gobale"
   ]
  },
  {
   "cell_type": "markdown",
   "metadata": {},
   "source": [
    "essayons sur le test set enfin"
   ]
  },
  {
   "cell_type": "code",
   "execution_count": 135,
   "metadata": {
    "collapsed": true
   },
   "outputs": [],
   "source": [
    "predictionTest=droitModel.predictTest()"
   ]
  },
  {
   "cell_type": "code",
   "execution_count": 139,
   "metadata": {},
   "outputs": [
    {
     "data": {
      "text/html": [
       "<div>\n",
       "<table border=\"1\" class=\"dataframe\">\n",
       "  <thead>\n",
       "    <tr style=\"text-align: right;\">\n",
       "      <th></th>\n",
       "      <th>ElasticNet</th>\n",
       "      <th>Lasso</th>\n",
       "      <th>LinearSVR</th>\n",
       "      <th>Ridge</th>\n",
       "      <th>SVR</th>\n",
       "      <th>RealValue</th>\n",
       "      <th>finalPredict</th>\n",
       "    </tr>\n",
       "    <tr>\n",
       "      <th>ID</th>\n",
       "      <th></th>\n",
       "      <th></th>\n",
       "      <th></th>\n",
       "      <th></th>\n",
       "      <th></th>\n",
       "      <th></th>\n",
       "      <th></th>\n",
       "    </tr>\n",
       "  </thead>\n",
       "  <tbody>\n",
       "    <tr>\n",
       "      <th>7825</th>\n",
       "      <td>0.571831</td>\n",
       "      <td>0.571831</td>\n",
       "      <td>0.561925</td>\n",
       "      <td>0.569409</td>\n",
       "      <td>0.554441</td>\n",
       "      <td>0.5575</td>\n",
       "      <td>0.568794</td>\n",
       "    </tr>\n",
       "  </tbody>\n",
       "</table>\n",
       "</div>"
      ],
      "text/plain": [
       "      ElasticNet     Lasso  LinearSVR     Ridge       SVR  RealValue  \\\n",
       "ID                                                                     \n",
       "7825    0.571831  0.571831   0.561925  0.569409  0.554441     0.5575   \n",
       "\n",
       "      finalPredict  \n",
       "ID                  \n",
       "7825      0.568794  "
      ]
     },
     "execution_count": 139,
     "metadata": {},
     "output_type": "execute_result"
    }
   ],
   "source": [
    "predictionTest.head(1)"
   ]
  },
  {
   "cell_type": "code",
   "execution_count": 136,
   "metadata": {
    "collapsed": true
   },
   "outputs": [],
   "source": [
    "finalPredictTes,rmseFinalTest=ensembelMethods(self=droitModel,predictedValues=predictionTest)"
   ]
  },
  {
   "cell_type": "code",
   "execution_count": 144,
   "metadata": {
    "scrolled": false
   },
   "outputs": [
    {
     "data": {
      "text/plain": [
       "11.769696439697203"
      ]
     },
     "execution_count": 144,
     "metadata": {},
     "output_type": "execute_result"
    }
   ],
   "source": [
    "rmseFinalTest*100/droitModel.Y_train.mean()"
   ]
  },
  {
   "cell_type": "markdown",
   "metadata": {},
   "source": [
    "Nous voici arriver à la fin de l'entrainement de nos modeles en faculté de droitm'"
   ]
  },
  {
   "cell_type": "markdown",
   "metadata": {},
   "source": [
    "##### 3. Facuté de santé et devllopement Communautaire"
   ]
  },
  {
   "cell_type": "code",
   "execution_count": 150,
   "metadata": {
    "collapsed": true
   },
   "outputs": [],
   "source": [
    "sante=datasetCGPA.loc[datasetCGPA.FAC=='FSDC']"
   ]
  },
  {
   "cell_type": "code",
   "execution_count": 175,
   "metadata": {
    "scrolled": true
   },
   "outputs": [
    {
     "data": {
      "text/html": [
       "<div>\n",
       "<table border=\"1\" class=\"dataframe\">\n",
       "  <thead>\n",
       "    <tr style=\"text-align: right;\">\n",
       "      <th></th>\n",
       "      <th>DIPPERC</th>\n",
       "      <th>SCHOOL_RIGHT</th>\n",
       "      <th>OPTION_RIGHT</th>\n",
       "      <th>FAC</th>\n",
       "      <th>CGPA</th>\n",
       "      <th>DistinctionRatio</th>\n",
       "      <th>EchecRatio</th>\n",
       "      <th>Pass1stSessionRatio</th>\n",
       "    </tr>\n",
       "    <tr>\n",
       "      <th>ID</th>\n",
       "      <th></th>\n",
       "      <th></th>\n",
       "      <th></th>\n",
       "      <th></th>\n",
       "      <th></th>\n",
       "      <th></th>\n",
       "      <th></th>\n",
       "      <th></th>\n",
       "    </tr>\n",
       "  </thead>\n",
       "  <tbody>\n",
       "    <tr>\n",
       "      <th>7365</th>\n",
       "      <td>62.0</td>\n",
       "      <td>zanner</td>\n",
       "      <td>latin philo</td>\n",
       "      <td>FSDC</td>\n",
       "      <td>63.400000</td>\n",
       "      <td>G</td>\n",
       "      <td>G</td>\n",
       "      <td>A</td>\n",
       "    </tr>\n",
       "    <tr>\n",
       "      <th>11712</th>\n",
       "      <td>54.0</td>\n",
       "      <td>zanner</td>\n",
       "      <td>latin philo</td>\n",
       "      <td>FSDC</td>\n",
       "      <td>60.000000</td>\n",
       "      <td>G</td>\n",
       "      <td>G</td>\n",
       "      <td>A</td>\n",
       "    </tr>\n",
       "    <tr>\n",
       "      <th>11862</th>\n",
       "      <td>54.0</td>\n",
       "      <td>mululusake</td>\n",
       "      <td>sociale</td>\n",
       "      <td>FSDC</td>\n",
       "      <td>61.900002</td>\n",
       "      <td>G</td>\n",
       "      <td>G</td>\n",
       "      <td>G</td>\n",
       "    </tr>\n",
       "    <tr>\n",
       "      <th>7003</th>\n",
       "      <td>50.0</td>\n",
       "      <td>ibanda</td>\n",
       "      <td>bio-chimie</td>\n",
       "      <td>FSDC</td>\n",
       "      <td>62.700001</td>\n",
       "      <td>G</td>\n",
       "      <td>G</td>\n",
       "      <td>G</td>\n",
       "    </tr>\n",
       "    <tr>\n",
       "      <th>7354</th>\n",
       "      <td>62.0</td>\n",
       "      <td>ibanda</td>\n",
       "      <td>commmerciale et adm</td>\n",
       "      <td>FSDC</td>\n",
       "      <td>42.000000</td>\n",
       "      <td>G</td>\n",
       "      <td>A</td>\n",
       "      <td>G</td>\n",
       "    </tr>\n",
       "  </tbody>\n",
       "</table>\n",
       "</div>"
      ],
      "text/plain": [
       "       DIPPERC SCHOOL_RIGHT         OPTION_RIGHT   FAC       CGPA  \\\n",
       "ID                                                                  \n",
       "7365      62.0       zanner          latin philo  FSDC  63.400000   \n",
       "11712     54.0       zanner          latin philo  FSDC  60.000000   \n",
       "11862     54.0   mululusake              sociale  FSDC  61.900002   \n",
       "7003      50.0       ibanda           bio-chimie  FSDC  62.700001   \n",
       "7354      62.0       ibanda  commmerciale et adm  FSDC  42.000000   \n",
       "\n",
       "      DistinctionRatio EchecRatio Pass1stSessionRatio  \n",
       "ID                                                     \n",
       "7365                 G          G                   A  \n",
       "11712                G          G                   A  \n",
       "11862                G          G                   G  \n",
       "7003                 G          G                   G  \n",
       "7354                 G          A                   G  "
      ]
     },
     "execution_count": 175,
     "metadata": {},
     "output_type": "execute_result"
    }
   ],
   "source": [
    "sante.head(5)"
   ]
  },
  {
   "cell_type": "code",
   "execution_count": 176,
   "metadata": {
    "collapsed": true
   },
   "outputs": [],
   "source": [
    "santeModel=PredictiveModelByilding(dataset=sante,encoderFunction=ConvertCat)"
   ]
  },
  {
   "cell_type": "code",
   "execution_count": 177,
   "metadata": {
    "scrolled": true
   },
   "outputs": [],
   "source": [
    "santeModel.scale(['DIPPERC','CGPA'])"
   ]
  },
  {
   "cell_type": "code",
   "execution_count": 178,
   "metadata": {},
   "outputs": [],
   "source": [
    "trainDes,tesDes=santeModel.split()"
   ]
  },
  {
   "cell_type": "code",
   "execution_count": 179,
   "metadata": {
    "scrolled": true
   },
   "outputs": [
    {
     "data": {
      "text/html": [
       "<div>\n",
       "<table border=\"1\" class=\"dataframe\">\n",
       "  <thead>\n",
       "    <tr style=\"text-align: right;\">\n",
       "      <th></th>\n",
       "      <th>DIPPERC</th>\n",
       "      <th>CGPA</th>\n",
       "    </tr>\n",
       "  </thead>\n",
       "  <tbody>\n",
       "    <tr>\n",
       "      <th>count</th>\n",
       "      <td>606.000000</td>\n",
       "      <td>606.000000</td>\n",
       "    </tr>\n",
       "    <tr>\n",
       "      <th>mean</th>\n",
       "      <td>0.553841</td>\n",
       "      <td>0.589861</td>\n",
       "    </tr>\n",
       "    <tr>\n",
       "      <th>std</th>\n",
       "      <td>0.048872</td>\n",
       "      <td>0.066621</td>\n",
       "    </tr>\n",
       "    <tr>\n",
       "      <th>min</th>\n",
       "      <td>0.500000</td>\n",
       "      <td>0.400000</td>\n",
       "    </tr>\n",
       "    <tr>\n",
       "      <th>25%</th>\n",
       "      <td>0.520000</td>\n",
       "      <td>0.573000</td>\n",
       "    </tr>\n",
       "    <tr>\n",
       "      <th>50%</th>\n",
       "      <td>0.540000</td>\n",
       "      <td>0.606000</td>\n",
       "    </tr>\n",
       "    <tr>\n",
       "      <th>75%</th>\n",
       "      <td>0.580000</td>\n",
       "      <td>0.631625</td>\n",
       "    </tr>\n",
       "    <tr>\n",
       "      <th>max</th>\n",
       "      <td>0.760000</td>\n",
       "      <td>0.724333</td>\n",
       "    </tr>\n",
       "  </tbody>\n",
       "</table>\n",
       "</div>"
      ],
      "text/plain": [
       "          DIPPERC        CGPA\n",
       "count  606.000000  606.000000\n",
       "mean     0.553841    0.589861\n",
       "std      0.048872    0.066621\n",
       "min      0.500000    0.400000\n",
       "25%      0.520000    0.573000\n",
       "50%      0.540000    0.606000\n",
       "75%      0.580000    0.631625\n",
       "max      0.760000    0.724333"
      ]
     },
     "execution_count": 179,
     "metadata": {},
     "output_type": "execute_result"
    }
   ],
   "source": [
    "trainDes"
   ]
  },
  {
   "cell_type": "code",
   "execution_count": 180,
   "metadata": {
    "scrolled": true
   },
   "outputs": [
    {
     "data": {
      "text/html": [
       "<div>\n",
       "<table border=\"1\" class=\"dataframe\">\n",
       "  <thead>\n",
       "    <tr style=\"text-align: right;\">\n",
       "      <th></th>\n",
       "      <th>DIPPERC</th>\n",
       "      <th>CGPA</th>\n",
       "    </tr>\n",
       "  </thead>\n",
       "  <tbody>\n",
       "    <tr>\n",
       "      <th>count</th>\n",
       "      <td>152.000000</td>\n",
       "      <td>152.000000</td>\n",
       "    </tr>\n",
       "    <tr>\n",
       "      <th>mean</th>\n",
       "      <td>0.551102</td>\n",
       "      <td>0.586449</td>\n",
       "    </tr>\n",
       "    <tr>\n",
       "      <th>std</th>\n",
       "      <td>0.050482</td>\n",
       "      <td>0.059923</td>\n",
       "    </tr>\n",
       "    <tr>\n",
       "      <th>min</th>\n",
       "      <td>0.500000</td>\n",
       "      <td>0.400000</td>\n",
       "    </tr>\n",
       "    <tr>\n",
       "      <th>25%</th>\n",
       "      <td>0.510000</td>\n",
       "      <td>0.560250</td>\n",
       "    </tr>\n",
       "    <tr>\n",
       "      <th>50%</th>\n",
       "      <td>0.540000</td>\n",
       "      <td>0.600417</td>\n",
       "    </tr>\n",
       "    <tr>\n",
       "      <th>75%</th>\n",
       "      <td>0.580000</td>\n",
       "      <td>0.628333</td>\n",
       "    </tr>\n",
       "    <tr>\n",
       "      <th>max</th>\n",
       "      <td>0.770000</td>\n",
       "      <td>0.687333</td>\n",
       "    </tr>\n",
       "  </tbody>\n",
       "</table>\n",
       "</div>"
      ],
      "text/plain": [
       "          DIPPERC        CGPA\n",
       "count  152.000000  152.000000\n",
       "mean     0.551102    0.586449\n",
       "std      0.050482    0.059923\n",
       "min      0.500000    0.400000\n",
       "25%      0.510000    0.560250\n",
       "50%      0.540000    0.600417\n",
       "75%      0.580000    0.628333\n",
       "max      0.770000    0.687333"
      ]
     },
     "execution_count": 180,
     "metadata": {},
     "output_type": "execute_result"
    }
   ],
   "source": [
    "tesDes"
   ]
  },
  {
   "cell_type": "code",
   "execution_count": 181,
   "metadata": {},
   "outputs": [
    {
     "name": "stdout",
     "output_type": "stream",
     "text": [
      "[LibSVM]"
     ]
    }
   ],
   "source": [
    "predictedValues=santeModel.train()"
   ]
  },
  {
   "cell_type": "code",
   "execution_count": 182,
   "metadata": {
    "scrolled": true
   },
   "outputs": [
    {
     "data": {
      "text/html": [
       "<div>\n",
       "<table border=\"1\" class=\"dataframe\">\n",
       "  <thead>\n",
       "    <tr style=\"text-align: right;\">\n",
       "      <th></th>\n",
       "      <th>ElasticNet</th>\n",
       "      <th>Lasso</th>\n",
       "      <th>LinearSVR</th>\n",
       "      <th>Ridge</th>\n",
       "      <th>SVR</th>\n",
       "      <th>RealValue</th>\n",
       "    </tr>\n",
       "    <tr>\n",
       "      <th>ID</th>\n",
       "      <th></th>\n",
       "      <th></th>\n",
       "      <th></th>\n",
       "      <th></th>\n",
       "      <th></th>\n",
       "      <th></th>\n",
       "    </tr>\n",
       "  </thead>\n",
       "  <tbody>\n",
       "    <tr>\n",
       "      <th>7417</th>\n",
       "      <td>0.633946</td>\n",
       "      <td>0.633946</td>\n",
       "      <td>0.712691</td>\n",
       "      <td>0.620563</td>\n",
       "      <td>0.556396</td>\n",
       "      <td>0.585333</td>\n",
       "    </tr>\n",
       "    <tr>\n",
       "      <th>8372</th>\n",
       "      <td>0.641820</td>\n",
       "      <td>0.641820</td>\n",
       "      <td>0.640600</td>\n",
       "      <td>0.640527</td>\n",
       "      <td>0.584777</td>\n",
       "      <td>0.645667</td>\n",
       "    </tr>\n",
       "    <tr>\n",
       "      <th>9322</th>\n",
       "      <td>0.619607</td>\n",
       "      <td>0.619607</td>\n",
       "      <td>0.587724</td>\n",
       "      <td>0.597814</td>\n",
       "      <td>0.549957</td>\n",
       "      <td>0.625667</td>\n",
       "    </tr>\n",
       "    <tr>\n",
       "      <th>11413</th>\n",
       "      <td>0.563453</td>\n",
       "      <td>0.563453</td>\n",
       "      <td>0.604019</td>\n",
       "      <td>0.561460</td>\n",
       "      <td>0.539789</td>\n",
       "      <td>0.574000</td>\n",
       "    </tr>\n",
       "    <tr>\n",
       "      <th>6746</th>\n",
       "      <td>0.630940</td>\n",
       "      <td>0.630940</td>\n",
       "      <td>0.600488</td>\n",
       "      <td>0.604480</td>\n",
       "      <td>0.546782</td>\n",
       "      <td>0.637000</td>\n",
       "    </tr>\n",
       "  </tbody>\n",
       "</table>\n",
       "</div>"
      ],
      "text/plain": [
       "       ElasticNet     Lasso  LinearSVR     Ridge       SVR  RealValue\n",
       "ID                                                                   \n",
       "7417     0.633946  0.633946   0.712691  0.620563  0.556396   0.585333\n",
       "8372     0.641820  0.641820   0.640600  0.640527  0.584777   0.645667\n",
       "9322     0.619607  0.619607   0.587724  0.597814  0.549957   0.625667\n",
       "11413    0.563453  0.563453   0.604019  0.561460  0.539789   0.574000\n",
       "6746     0.630940  0.630940   0.600488  0.604480  0.546782   0.637000"
      ]
     },
     "execution_count": 182,
     "metadata": {},
     "output_type": "execute_result"
    }
   ],
   "source": [
    "predictedValues.head(5)"
   ]
  },
  {
   "cell_type": "code",
   "execution_count": 183,
   "metadata": {
    "scrolled": false
   },
   "outputs": [
    {
     "name": "stdout",
     "output_type": "stream",
     "text": [
      "('Predictions:\\t', array([ 0.63394575,  0.64181988,  0.61960702,  0.56345318,  0.63094036]))\n",
      "('Labels:\\t\\t', [0.58533334096300005, 0.64566666921000004, 0.62566666921000003, 0.57400001525900002, 0.637000007629])\n",
      "('Predictions:\\t', array([ 0.55639553,  0.58477657,  0.54995735,  0.53978909,  0.54678191]))\n",
      "('Labels:\\t\\t', [0.58533334096300005, 0.64566666921000004, 0.62566666921000003, 0.57400001525900002, 0.637000007629])\n",
      "('Predictions:\\t', array([ 0.71269094,  0.64060031,  0.5877242 ,  0.6040193 ,  0.60048801]))\n",
      "('Labels:\\t\\t', [0.58533334096300005, 0.64566666921000004, 0.62566666921000003, 0.57400001525900002, 0.637000007629])\n",
      "('Predictions:\\t', array([ 0.6205627 ,  0.64052699,  0.59781433,  0.56145965,  0.60448013]))\n",
      "('Labels:\\t\\t', [0.58533334096300005, 0.64566666921000004, 0.62566666921000003, 0.57400001525900002, 0.637000007629])\n",
      "('Predictions:\\t', array([ 0.63394575,  0.64181988,  0.61960702,  0.56345318,  0.63094036]))\n",
      "('Labels:\\t\\t', [0.58533334096300005, 0.64566666921000004, 0.62566666921000003, 0.57400001525900002, 0.637000007629])\n"
     ]
    }
   ],
   "source": [
    "RMSE={}\n",
    "for reg in santeModel.predictiveModels.keys():\n",
    "    rmse=santeModel.evaluate(model=reg,on='train') #RMSE of each model\n",
    "    RMSE[reg]=[rmse,rmse*100/santeModel.dataset_bin.CGPA.mean()]"
   ]
  },
  {
   "cell_type": "code",
   "execution_count": 184,
   "metadata": {},
   "outputs": [
    {
     "data": {
      "text/plain": [
       "{'ElasticNet': [0.048506383027202178, 8.2329050435506357],\n",
       " 'Lasso': [0.048506383027202178, 8.2329050435506357],\n",
       " 'LinearSVR': [0.053311148653203064, 9.0484096573083317],\n",
       " 'Ridge': [0.051086773887118013, 8.6708703503643676],\n",
       " 'SVR': [0.069900647273839767, 11.864116752748179]}"
      ]
     },
     "execution_count": 184,
     "metadata": {},
     "output_type": "execute_result"
    }
   ],
   "source": [
    "RMSE"
   ]
  },
  {
   "cell_type": "markdown",
   "metadata": {},
   "source": [
    "on remarque aisement que les valeurs predites par differents regressons disposent d'une bonne exacitude"
   ]
  },
  {
   "cell_type": "code",
   "execution_count": 185,
   "metadata": {},
   "outputs": [
    {
     "name": "stdout",
     "output_type": "stream",
     "text": [
      "[LibSVM][LibSVM][LibSVM][LibSVM][LibSVM][LibSVM][LibSVM][LibSVM][LibSVM][LibSVM]"
     ]
    }
   ],
   "source": [
    "CVScore={}\n",
    "for reg in santeModel.predictiveModels.keys():\n",
    "    scores,Sstd,Smean=santeModel.crossEvaluate(model=reg) #RMSE of each model\n",
    "    CVScore[reg]=[Smean,Smean*100/santeModel.dataset_bin.CGPA.mean()]"
   ]
  },
  {
   "cell_type": "code",
   "execution_count": 186,
   "metadata": {
    "scrolled": true
   },
   "outputs": [
    {
     "data": {
      "text/plain": [
       "{'ElasticNet': [0.069636656330641075, 11.819310023570015],\n",
       " 'Lasso': [0.069636656330641075, 11.819310023570015],\n",
       " 'LinearSVR': [0.07373834926024557, 12.515483316645678],\n",
       " 'Ridge': [0.065243038982058466, 11.073588900469739],\n",
       " 'SVR': [0.071598311071310761, 12.152258312027383]}"
      ]
     },
     "execution_count": 186,
     "metadata": {},
     "output_type": "execute_result"
    }
   ],
   "source": [
    "CVScore"
   ]
  },
  {
   "cell_type": "markdown",
   "metadata": {},
   "source": [
    "Aussi on peut remarquer les methodes lineaires disposent des meilleurs resulats"
   ]
  },
  {
   "cell_type": "code",
   "execution_count": 187,
   "metadata": {
    "scrolled": false
   },
   "outputs": [
    {
     "name": "stdout",
     "output_type": "stream",
     "text": [
      "('Predictions:\\t', array([ 0.6442474 ,  0.59141372,  0.59097368,  0.60862079,  0.57945642]))\n",
      "('Labels:\\t\\t', [0.65099998474100007, 0.51899999618500003, 0.62200000762899998, 0.61400001525900005, 0.55000000000000004])\n",
      "('Predictions:\\t', array([ 0.54720662,  0.54770263,  0.55064107,  0.55161345,  0.54692344]))\n",
      "('Labels:\\t\\t', [0.65099998474100007, 0.51899999618500003, 0.62200000762899998, 0.61400001525900005, 0.55000000000000004])\n",
      "('Predictions:\\t', array([ 0.63506558,  0.63154406,  0.59812308,  0.64795774,  0.54048096]))\n",
      "('Labels:\\t\\t', [0.65099998474100007, 0.51899999618500003, 0.62200000762899998, 0.61400001525900005, 0.55000000000000004])\n",
      "('Predictions:\\t', array([ 0.61248734,  0.58607667,  0.58714316,  0.59857347,  0.57376314]))\n",
      "('Labels:\\t\\t', [0.65099998474100007, 0.51899999618500003, 0.62200000762899998, 0.61400001525900005, 0.55000000000000004])\n",
      "('Predictions:\\t', array([ 0.6442474 ,  0.59141372,  0.59097368,  0.60862079,  0.57945642]))\n",
      "('Labels:\\t\\t', [0.65099998474100007, 0.51899999618500003, 0.62200000762899998, 0.61400001525900005, 0.55000000000000004])\n"
     ]
    }
   ],
   "source": [
    "RMSE={}\n",
    "for reg in santeModel.predictiveModels.keys():\n",
    "    rmse=santeModel.evaluate(model=reg,on='test') #RMSE of each model\n",
    "    RMSE[reg]=[rmse,rmse*100/santeModel.dataset_bin.CGPA.mean()]"
   ]
  },
  {
   "cell_type": "code",
   "execution_count": 188,
   "metadata": {},
   "outputs": [
    {
     "data": {
      "text/plain": [
       "{'ElasticNet': [0.065266413026714515, 11.077556136906004],\n",
       " 'Lasso': [0.065266413026714515, 11.077556136906004],\n",
       " 'LinearSVR': [0.069746792001455005, 11.838003161733097],\n",
       " 'Ridge': [0.062882899840641562, 10.673006539382214],\n",
       " 'SVR': [0.067167938056348866, 11.40029871282916]}"
      ]
     },
     "execution_count": 188,
     "metadata": {},
     "output_type": "execute_result"
    }
   ],
   "source": [
    "RMSE"
   ]
  },
  {
   "cell_type": "code",
   "execution_count": 167,
   "metadata": {},
   "outputs": [
    {
     "data": {
      "text/plain": [
       "Index([u'ElasticNet', u'Lasso', u'LinearSVR', u'Ridge', u'SVR', u'RealValue'], dtype='object')"
      ]
     },
     "execution_count": 167,
     "metadata": {},
     "output_type": "execute_result"
    }
   ],
   "source": [
    "predictedValues.columns"
   ]
  },
  {
   "cell_type": "code",
   "execution_count": 189,
   "metadata": {
    "scrolled": false
   },
   "outputs": [],
   "source": [
    "finalPred,finalRMSE=santeModel.ensembelMethods(predictedValues=predictedValues[[u'ElasticNet', u'Lasso', u'Ridge',  u'RealValue']])"
   ]
  },
  {
   "cell_type": "code",
   "execution_count": 191,
   "metadata": {
    "scrolled": false
   },
   "outputs": [
    {
     "data": {
      "text/html": [
       "<div>\n",
       "<table border=\"1\" class=\"dataframe\">\n",
       "  <thead>\n",
       "    <tr style=\"text-align: right;\">\n",
       "      <th></th>\n",
       "      <th>ElasticNet</th>\n",
       "      <th>Lasso</th>\n",
       "      <th>Ridge</th>\n",
       "      <th>RealValue</th>\n",
       "      <th>finalPredict</th>\n",
       "    </tr>\n",
       "    <tr>\n",
       "      <th>ID</th>\n",
       "      <th></th>\n",
       "      <th></th>\n",
       "      <th></th>\n",
       "      <th></th>\n",
       "      <th></th>\n",
       "    </tr>\n",
       "  </thead>\n",
       "  <tbody>\n",
       "    <tr>\n",
       "      <th>7417</th>\n",
       "      <td>0.633946</td>\n",
       "      <td>0.633946</td>\n",
       "      <td>0.620563</td>\n",
       "      <td>0.585333</td>\n",
       "      <td>0.633389</td>\n",
       "    </tr>\n",
       "    <tr>\n",
       "      <th>8372</th>\n",
       "      <td>0.641820</td>\n",
       "      <td>0.641820</td>\n",
       "      <td>0.640527</td>\n",
       "      <td>0.645667</td>\n",
       "      <td>0.646837</td>\n",
       "    </tr>\n",
       "    <tr>\n",
       "      <th>9322</th>\n",
       "      <td>0.619607</td>\n",
       "      <td>0.619607</td>\n",
       "      <td>0.597814</td>\n",
       "      <td>0.625667</td>\n",
       "      <td>0.620244</td>\n",
       "    </tr>\n",
       "    <tr>\n",
       "      <th>11413</th>\n",
       "      <td>0.563453</td>\n",
       "      <td>0.563453</td>\n",
       "      <td>0.561460</td>\n",
       "      <td>0.574000</td>\n",
       "      <td>0.561708</td>\n",
       "    </tr>\n",
       "    <tr>\n",
       "      <th>6746</th>\n",
       "      <td>0.630940</td>\n",
       "      <td>0.630940</td>\n",
       "      <td>0.604480</td>\n",
       "      <td>0.637000</td>\n",
       "      <td>0.635142</td>\n",
       "    </tr>\n",
       "    <tr>\n",
       "      <th>11635</th>\n",
       "      <td>0.622717</td>\n",
       "      <td>0.622717</td>\n",
       "      <td>0.621845</td>\n",
       "      <td>0.637000</td>\n",
       "      <td>0.625436</td>\n",
       "    </tr>\n",
       "    <tr>\n",
       "      <th>3137</th>\n",
       "      <td>0.662494</td>\n",
       "      <td>0.662494</td>\n",
       "      <td>0.655785</td>\n",
       "      <td>0.652000</td>\n",
       "      <td>0.668611</td>\n",
       "    </tr>\n",
       "    <tr>\n",
       "      <th>10229</th>\n",
       "      <td>0.572009</td>\n",
       "      <td>0.572009</td>\n",
       "      <td>0.571881</td>\n",
       "      <td>0.617000</td>\n",
       "      <td>0.576197</td>\n",
       "    </tr>\n",
       "    <tr>\n",
       "      <th>9568</th>\n",
       "      <td>0.589936</td>\n",
       "      <td>0.589936</td>\n",
       "      <td>0.587578</td>\n",
       "      <td>0.420000</td>\n",
       "      <td>0.597923</td>\n",
       "    </tr>\n",
       "    <tr>\n",
       "      <th>5354</th>\n",
       "      <td>0.600245</td>\n",
       "      <td>0.600245</td>\n",
       "      <td>0.604427</td>\n",
       "      <td>0.470000</td>\n",
       "      <td>0.596086</td>\n",
       "    </tr>\n",
       "    <tr>\n",
       "      <th>11833</th>\n",
       "      <td>0.465704</td>\n",
       "      <td>0.465704</td>\n",
       "      <td>0.502780</td>\n",
       "      <td>0.514000</td>\n",
       "      <td>0.458731</td>\n",
       "    </tr>\n",
       "    <tr>\n",
       "      <th>11640</th>\n",
       "      <td>0.524729</td>\n",
       "      <td>0.524729</td>\n",
       "      <td>0.535812</td>\n",
       "      <td>0.508000</td>\n",
       "      <td>0.525442</td>\n",
       "    </tr>\n",
       "    <tr>\n",
       "      <th>8566</th>\n",
       "      <td>0.620060</td>\n",
       "      <td>0.620060</td>\n",
       "      <td>0.611245</td>\n",
       "      <td>0.614000</td>\n",
       "      <td>0.626592</td>\n",
       "    </tr>\n",
       "    <tr>\n",
       "      <th>7413</th>\n",
       "      <td>0.651863</td>\n",
       "      <td>0.651863</td>\n",
       "      <td>0.652431</td>\n",
       "      <td>0.632750</td>\n",
       "      <td>0.661164</td>\n",
       "    </tr>\n",
       "    <tr>\n",
       "      <th>9248</th>\n",
       "      <td>0.620607</td>\n",
       "      <td>0.620607</td>\n",
       "      <td>0.598223</td>\n",
       "      <td>0.626667</td>\n",
       "      <td>0.628012</td>\n",
       "    </tr>\n",
       "    <tr>\n",
       "      <th>8560</th>\n",
       "      <td>0.638059</td>\n",
       "      <td>0.638059</td>\n",
       "      <td>0.626777</td>\n",
       "      <td>0.610333</td>\n",
       "      <td>0.648336</td>\n",
       "    </tr>\n",
       "    <tr>\n",
       "      <th>9168</th>\n",
       "      <td>0.593293</td>\n",
       "      <td>0.593293</td>\n",
       "      <td>0.593540</td>\n",
       "      <td>0.575333</td>\n",
       "      <td>0.597273</td>\n",
       "    </tr>\n",
       "    <tr>\n",
       "      <th>11845</th>\n",
       "      <td>0.588616</td>\n",
       "      <td>0.588616</td>\n",
       "      <td>0.586304</td>\n",
       "      <td>0.637000</td>\n",
       "      <td>0.590249</td>\n",
       "    </tr>\n",
       "    <tr>\n",
       "      <th>8352</th>\n",
       "      <td>0.597679</td>\n",
       "      <td>0.597679</td>\n",
       "      <td>0.599830</td>\n",
       "      <td>0.589000</td>\n",
       "      <td>0.596587</td>\n",
       "    </tr>\n",
       "    <tr>\n",
       "      <th>7381</th>\n",
       "      <td>0.552272</td>\n",
       "      <td>0.552272</td>\n",
       "      <td>0.552835</td>\n",
       "      <td>0.591333</td>\n",
       "      <td>0.554836</td>\n",
       "    </tr>\n",
       "    <tr>\n",
       "      <th>9360</th>\n",
       "      <td>0.577015</td>\n",
       "      <td>0.577015</td>\n",
       "      <td>0.577575</td>\n",
       "      <td>0.581667</td>\n",
       "      <td>0.575576</td>\n",
       "    </tr>\n",
       "    <tr>\n",
       "      <th>4367</th>\n",
       "      <td>0.586604</td>\n",
       "      <td>0.586604</td>\n",
       "      <td>0.579857</td>\n",
       "      <td>0.615000</td>\n",
       "      <td>0.583140</td>\n",
       "    </tr>\n",
       "    <tr>\n",
       "      <th>7380</th>\n",
       "      <td>0.558696</td>\n",
       "      <td>0.558696</td>\n",
       "      <td>0.566986</td>\n",
       "      <td>0.599000</td>\n",
       "      <td>0.553293</td>\n",
       "    </tr>\n",
       "    <tr>\n",
       "      <th>7889</th>\n",
       "      <td>0.594060</td>\n",
       "      <td>0.594060</td>\n",
       "      <td>0.605672</td>\n",
       "      <td>0.588000</td>\n",
       "      <td>0.595950</td>\n",
       "    </tr>\n",
       "    <tr>\n",
       "      <th>6921</th>\n",
       "      <td>0.573293</td>\n",
       "      <td>0.573293</td>\n",
       "      <td>0.569557</td>\n",
       "      <td>0.450000</td>\n",
       "      <td>0.576450</td>\n",
       "    </tr>\n",
       "    <tr>\n",
       "      <th>6336</th>\n",
       "      <td>0.618882</td>\n",
       "      <td>0.618882</td>\n",
       "      <td>0.621013</td>\n",
       "      <td>0.621250</td>\n",
       "      <td>0.617715</td>\n",
       "    </tr>\n",
       "    <tr>\n",
       "      <th>8991</th>\n",
       "      <td>0.620842</td>\n",
       "      <td>0.620842</td>\n",
       "      <td>0.605616</td>\n",
       "      <td>0.613667</td>\n",
       "      <td>0.627206</td>\n",
       "    </tr>\n",
       "    <tr>\n",
       "      <th>5163</th>\n",
       "      <td>0.579330</td>\n",
       "      <td>0.579330</td>\n",
       "      <td>0.578209</td>\n",
       "      <td>0.604000</td>\n",
       "      <td>0.583319</td>\n",
       "    </tr>\n",
       "    <tr>\n",
       "      <th>8896</th>\n",
       "      <td>0.637444</td>\n",
       "      <td>0.637444</td>\n",
       "      <td>0.630746</td>\n",
       "      <td>0.635333</td>\n",
       "      <td>0.647903</td>\n",
       "    </tr>\n",
       "    <tr>\n",
       "      <th>9608</th>\n",
       "      <td>0.592286</td>\n",
       "      <td>0.592286</td>\n",
       "      <td>0.590154</td>\n",
       "      <td>0.614000</td>\n",
       "      <td>0.589829</td>\n",
       "    </tr>\n",
       "    <tr>\n",
       "      <th>...</th>\n",
       "      <td>...</td>\n",
       "      <td>...</td>\n",
       "      <td>...</td>\n",
       "      <td>...</td>\n",
       "      <td>...</td>\n",
       "    </tr>\n",
       "    <tr>\n",
       "      <th>7327</th>\n",
       "      <td>0.645607</td>\n",
       "      <td>0.645607</td>\n",
       "      <td>0.635384</td>\n",
       "      <td>0.651667</td>\n",
       "      <td>0.655210</td>\n",
       "    </tr>\n",
       "    <tr>\n",
       "      <th>8740</th>\n",
       "      <td>0.613739</td>\n",
       "      <td>0.613739</td>\n",
       "      <td>0.615266</td>\n",
       "      <td>0.604667</td>\n",
       "      <td>0.618341</td>\n",
       "    </tr>\n",
       "    <tr>\n",
       "      <th>5700</th>\n",
       "      <td>0.577119</td>\n",
       "      <td>0.577119</td>\n",
       "      <td>0.576988</td>\n",
       "      <td>0.624000</td>\n",
       "      <td>0.575640</td>\n",
       "    </tr>\n",
       "    <tr>\n",
       "      <th>5680</th>\n",
       "      <td>0.476060</td>\n",
       "      <td>0.476060</td>\n",
       "      <td>0.520791</td>\n",
       "      <td>0.470000</td>\n",
       "      <td>0.468486</td>\n",
       "    </tr>\n",
       "    <tr>\n",
       "      <th>10589</th>\n",
       "      <td>0.613256</td>\n",
       "      <td>0.613256</td>\n",
       "      <td>0.616437</td>\n",
       "      <td>0.632500</td>\n",
       "      <td>0.618214</td>\n",
       "    </tr>\n",
       "    <tr>\n",
       "      <th>9567</th>\n",
       "      <td>0.571110</td>\n",
       "      <td>0.571110</td>\n",
       "      <td>0.572404</td>\n",
       "      <td>0.593000</td>\n",
       "      <td>0.576140</td>\n",
       "    </tr>\n",
       "    <tr>\n",
       "      <th>4781</th>\n",
       "      <td>0.589838</td>\n",
       "      <td>0.589838</td>\n",
       "      <td>0.590806</td>\n",
       "      <td>0.589000</td>\n",
       "      <td>0.589758</td>\n",
       "    </tr>\n",
       "    <tr>\n",
       "      <th>10212</th>\n",
       "      <td>0.520627</td>\n",
       "      <td>0.520627</td>\n",
       "      <td>0.536793</td>\n",
       "      <td>0.601500</td>\n",
       "      <td>0.517523</td>\n",
       "    </tr>\n",
       "    <tr>\n",
       "      <th>4942</th>\n",
       "      <td>0.547395</td>\n",
       "      <td>0.547395</td>\n",
       "      <td>0.552989</td>\n",
       "      <td>0.571000</td>\n",
       "      <td>0.547007</td>\n",
       "    </tr>\n",
       "    <tr>\n",
       "      <th>7427</th>\n",
       "      <td>0.571060</td>\n",
       "      <td>0.571060</td>\n",
       "      <td>0.568931</td>\n",
       "      <td>0.565000</td>\n",
       "      <td>0.568706</td>\n",
       "    </tr>\n",
       "    <tr>\n",
       "      <th>11908</th>\n",
       "      <td>0.603766</td>\n",
       "      <td>0.603766</td>\n",
       "      <td>0.600234</td>\n",
       "      <td>0.603000</td>\n",
       "      <td>0.604355</td>\n",
       "    </tr>\n",
       "    <tr>\n",
       "      <th>4780</th>\n",
       "      <td>0.598393</td>\n",
       "      <td>0.598393</td>\n",
       "      <td>0.599659</td>\n",
       "      <td>0.588000</td>\n",
       "      <td>0.604418</td>\n",
       "    </tr>\n",
       "    <tr>\n",
       "      <th>5116</th>\n",
       "      <td>0.478011</td>\n",
       "      <td>0.478011</td>\n",
       "      <td>0.509785</td>\n",
       "      <td>0.551000</td>\n",
       "      <td>0.473592</td>\n",
       "    </tr>\n",
       "    <tr>\n",
       "      <th>6550</th>\n",
       "      <td>0.633303</td>\n",
       "      <td>0.633303</td>\n",
       "      <td>0.635201</td>\n",
       "      <td>0.697000</td>\n",
       "      <td>0.639605</td>\n",
       "    </tr>\n",
       "    <tr>\n",
       "      <th>4710</th>\n",
       "      <td>0.451060</td>\n",
       "      <td>0.451060</td>\n",
       "      <td>0.508480</td>\n",
       "      <td>0.445000</td>\n",
       "      <td>0.438578</td>\n",
       "    </tr>\n",
       "    <tr>\n",
       "      <th>6610</th>\n",
       "      <td>0.630799</td>\n",
       "      <td>0.630799</td>\n",
       "      <td>0.630951</td>\n",
       "      <td>0.640000</td>\n",
       "      <td>0.640068</td>\n",
       "    </tr>\n",
       "    <tr>\n",
       "      <th>10827</th>\n",
       "      <td>0.604162</td>\n",
       "      <td>0.604162</td>\n",
       "      <td>0.601873</td>\n",
       "      <td>0.662000</td>\n",
       "      <td>0.611989</td>\n",
       "    </tr>\n",
       "    <tr>\n",
       "      <th>10149</th>\n",
       "      <td>0.612163</td>\n",
       "      <td>0.612163</td>\n",
       "      <td>0.614365</td>\n",
       "      <td>0.638000</td>\n",
       "      <td>0.618439</td>\n",
       "    </tr>\n",
       "    <tr>\n",
       "      <th>8122</th>\n",
       "      <td>0.534819</td>\n",
       "      <td>0.534819</td>\n",
       "      <td>0.544495</td>\n",
       "      <td>0.485000</td>\n",
       "      <td>0.532308</td>\n",
       "    </tr>\n",
       "    <tr>\n",
       "      <th>4793</th>\n",
       "      <td>0.548247</td>\n",
       "      <td>0.548247</td>\n",
       "      <td>0.549366</td>\n",
       "      <td>0.415000</td>\n",
       "      <td>0.547402</td>\n",
       "    </tr>\n",
       "    <tr>\n",
       "      <th>6897</th>\n",
       "      <td>0.601251</td>\n",
       "      <td>0.601251</td>\n",
       "      <td>0.598497</td>\n",
       "      <td>0.619500</td>\n",
       "      <td>0.604545</td>\n",
       "    </tr>\n",
       "    <tr>\n",
       "      <th>8957</th>\n",
       "      <td>0.519246</td>\n",
       "      <td>0.519246</td>\n",
       "      <td>0.528183</td>\n",
       "      <td>0.460000</td>\n",
       "      <td>0.518461</td>\n",
       "    </tr>\n",
       "    <tr>\n",
       "      <th>6440</th>\n",
       "      <td>0.476060</td>\n",
       "      <td>0.476060</td>\n",
       "      <td>0.522594</td>\n",
       "      <td>0.470000</td>\n",
       "      <td>0.468290</td>\n",
       "    </tr>\n",
       "    <tr>\n",
       "      <th>6642</th>\n",
       "      <td>0.579330</td>\n",
       "      <td>0.579330</td>\n",
       "      <td>0.578209</td>\n",
       "      <td>0.594333</td>\n",
       "      <td>0.583319</td>\n",
       "    </tr>\n",
       "    <tr>\n",
       "      <th>9495</th>\n",
       "      <td>0.489356</td>\n",
       "      <td>0.489356</td>\n",
       "      <td>0.516302</td>\n",
       "      <td>0.435000</td>\n",
       "      <td>0.488507</td>\n",
       "    </tr>\n",
       "    <tr>\n",
       "      <th>7365</th>\n",
       "      <td>0.627940</td>\n",
       "      <td>0.627940</td>\n",
       "      <td>0.620241</td>\n",
       "      <td>0.634000</td>\n",
       "      <td>0.633424</td>\n",
       "    </tr>\n",
       "    <tr>\n",
       "      <th>7362</th>\n",
       "      <td>0.634458</td>\n",
       "      <td>0.634458</td>\n",
       "      <td>0.627698</td>\n",
       "      <td>0.622000</td>\n",
       "      <td>0.640423</td>\n",
       "    </tr>\n",
       "    <tr>\n",
       "      <th>4778</th>\n",
       "      <td>0.576940</td>\n",
       "      <td>0.576940</td>\n",
       "      <td>0.577480</td>\n",
       "      <td>0.583000</td>\n",
       "      <td>0.583399</td>\n",
       "    </tr>\n",
       "    <tr>\n",
       "      <th>8192</th>\n",
       "      <td>0.538492</td>\n",
       "      <td>0.538492</td>\n",
       "      <td>0.539880</td>\n",
       "      <td>0.602000</td>\n",
       "      <td>0.540623</td>\n",
       "    </tr>\n",
       "    <tr>\n",
       "      <th>8628</th>\n",
       "      <td>0.621440</td>\n",
       "      <td>0.621440</td>\n",
       "      <td>0.598189</td>\n",
       "      <td>0.627500</td>\n",
       "      <td>0.628016</td>\n",
       "    </tr>\n",
       "  </tbody>\n",
       "</table>\n",
       "<p>606 rows × 5 columns</p>\n",
       "</div>"
      ],
      "text/plain": [
       "       ElasticNet     Lasso     Ridge  RealValue  finalPredict\n",
       "ID                                                            \n",
       "7417     0.633946  0.633946  0.620563   0.585333      0.633389\n",
       "8372     0.641820  0.641820  0.640527   0.645667      0.646837\n",
       "9322     0.619607  0.619607  0.597814   0.625667      0.620244\n",
       "11413    0.563453  0.563453  0.561460   0.574000      0.561708\n",
       "6746     0.630940  0.630940  0.604480   0.637000      0.635142\n",
       "11635    0.622717  0.622717  0.621845   0.637000      0.625436\n",
       "3137     0.662494  0.662494  0.655785   0.652000      0.668611\n",
       "10229    0.572009  0.572009  0.571881   0.617000      0.576197\n",
       "9568     0.589936  0.589936  0.587578   0.420000      0.597923\n",
       "5354     0.600245  0.600245  0.604427   0.470000      0.596086\n",
       "11833    0.465704  0.465704  0.502780   0.514000      0.458731\n",
       "11640    0.524729  0.524729  0.535812   0.508000      0.525442\n",
       "8566     0.620060  0.620060  0.611245   0.614000      0.626592\n",
       "7413     0.651863  0.651863  0.652431   0.632750      0.661164\n",
       "9248     0.620607  0.620607  0.598223   0.626667      0.628012\n",
       "8560     0.638059  0.638059  0.626777   0.610333      0.648336\n",
       "9168     0.593293  0.593293  0.593540   0.575333      0.597273\n",
       "11845    0.588616  0.588616  0.586304   0.637000      0.590249\n",
       "8352     0.597679  0.597679  0.599830   0.589000      0.596587\n",
       "7381     0.552272  0.552272  0.552835   0.591333      0.554836\n",
       "9360     0.577015  0.577015  0.577575   0.581667      0.575576\n",
       "4367     0.586604  0.586604  0.579857   0.615000      0.583140\n",
       "7380     0.558696  0.558696  0.566986   0.599000      0.553293\n",
       "7889     0.594060  0.594060  0.605672   0.588000      0.595950\n",
       "6921     0.573293  0.573293  0.569557   0.450000      0.576450\n",
       "6336     0.618882  0.618882  0.621013   0.621250      0.617715\n",
       "8991     0.620842  0.620842  0.605616   0.613667      0.627206\n",
       "5163     0.579330  0.579330  0.578209   0.604000      0.583319\n",
       "8896     0.637444  0.637444  0.630746   0.635333      0.647903\n",
       "9608     0.592286  0.592286  0.590154   0.614000      0.589829\n",
       "...           ...       ...       ...        ...           ...\n",
       "7327     0.645607  0.645607  0.635384   0.651667      0.655210\n",
       "8740     0.613739  0.613739  0.615266   0.604667      0.618341\n",
       "5700     0.577119  0.577119  0.576988   0.624000      0.575640\n",
       "5680     0.476060  0.476060  0.520791   0.470000      0.468486\n",
       "10589    0.613256  0.613256  0.616437   0.632500      0.618214\n",
       "9567     0.571110  0.571110  0.572404   0.593000      0.576140\n",
       "4781     0.589838  0.589838  0.590806   0.589000      0.589758\n",
       "10212    0.520627  0.520627  0.536793   0.601500      0.517523\n",
       "4942     0.547395  0.547395  0.552989   0.571000      0.547007\n",
       "7427     0.571060  0.571060  0.568931   0.565000      0.568706\n",
       "11908    0.603766  0.603766  0.600234   0.603000      0.604355\n",
       "4780     0.598393  0.598393  0.599659   0.588000      0.604418\n",
       "5116     0.478011  0.478011  0.509785   0.551000      0.473592\n",
       "6550     0.633303  0.633303  0.635201   0.697000      0.639605\n",
       "4710     0.451060  0.451060  0.508480   0.445000      0.438578\n",
       "6610     0.630799  0.630799  0.630951   0.640000      0.640068\n",
       "10827    0.604162  0.604162  0.601873   0.662000      0.611989\n",
       "10149    0.612163  0.612163  0.614365   0.638000      0.618439\n",
       "8122     0.534819  0.534819  0.544495   0.485000      0.532308\n",
       "4793     0.548247  0.548247  0.549366   0.415000      0.547402\n",
       "6897     0.601251  0.601251  0.598497   0.619500      0.604545\n",
       "8957     0.519246  0.519246  0.528183   0.460000      0.518461\n",
       "6440     0.476060  0.476060  0.522594   0.470000      0.468290\n",
       "6642     0.579330  0.579330  0.578209   0.594333      0.583319\n",
       "9495     0.489356  0.489356  0.516302   0.435000      0.488507\n",
       "7365     0.627940  0.627940  0.620241   0.634000      0.633424\n",
       "7362     0.634458  0.634458  0.627698   0.622000      0.640423\n",
       "4778     0.576940  0.576940  0.577480   0.583000      0.583399\n",
       "8192     0.538492  0.538492  0.539880   0.602000      0.540623\n",
       "8628     0.621440  0.621440  0.598189   0.627500      0.628016\n",
       "\n",
       "[606 rows x 5 columns]"
      ]
     },
     "execution_count": 191,
     "metadata": {},
     "output_type": "execute_result"
    }
   ],
   "source": [
    "finalPred"
   ]
  },
  {
   "cell_type": "code",
   "execution_count": 193,
   "metadata": {},
   "outputs": [
    {
     "data": {
      "text/plain": [
       "8.2338052872006031"
      ]
     },
     "execution_count": 193,
     "metadata": {},
     "output_type": "execute_result"
    }
   ],
   "source": [
    "finalRMSE*100/santeModel.dataset_bin.CGPA.mean()"
   ]
  },
  {
   "cell_type": "markdown",
   "metadata": {},
   "source": [
    "On remarque que notre ensemble methode sans modele avec SVM nous donne un score de 8% en valdiation croisé voyons combien il nous donnerasavec l'ensemble d'evaluation"
   ]
  },
  {
   "cell_type": "code",
   "execution_count": null,
   "metadata": {
    "collapsed": true
   },
   "outputs": [],
   "source": []
  },
  {
   "cell_type": "code",
   "execution_count": 194,
   "metadata": {
    "collapsed": true
   },
   "outputs": [],
   "source": [
    "predictionTest=santeModel.predictTest()"
   ]
  },
  {
   "cell_type": "code",
   "execution_count": 195,
   "metadata": {},
   "outputs": [
    {
     "data": {
      "text/html": [
       "<div>\n",
       "<table border=\"1\" class=\"dataframe\">\n",
       "  <thead>\n",
       "    <tr style=\"text-align: right;\">\n",
       "      <th></th>\n",
       "      <th>ElasticNet</th>\n",
       "      <th>Lasso</th>\n",
       "      <th>LinearSVR</th>\n",
       "      <th>Ridge</th>\n",
       "      <th>SVR</th>\n",
       "      <th>RealValue</th>\n",
       "    </tr>\n",
       "    <tr>\n",
       "      <th>ID</th>\n",
       "      <th></th>\n",
       "      <th></th>\n",
       "      <th></th>\n",
       "      <th></th>\n",
       "      <th></th>\n",
       "      <th></th>\n",
       "    </tr>\n",
       "  </thead>\n",
       "  <tbody>\n",
       "    <tr>\n",
       "      <th>4895</th>\n",
       "      <td>0.644247</td>\n",
       "      <td>0.644247</td>\n",
       "      <td>0.635066</td>\n",
       "      <td>0.612487</td>\n",
       "      <td>0.547207</td>\n",
       "      <td>0.651</td>\n",
       "    </tr>\n",
       "  </tbody>\n",
       "</table>\n",
       "</div>"
      ],
      "text/plain": [
       "      ElasticNet     Lasso  LinearSVR     Ridge       SVR  RealValue\n",
       "ID                                                                  \n",
       "4895    0.644247  0.644247   0.635066  0.612487  0.547207      0.651"
      ]
     },
     "execution_count": 195,
     "metadata": {},
     "output_type": "execute_result"
    }
   ],
   "source": [
    "predictionTest.head(1)"
   ]
  },
  {
   "cell_type": "code",
   "execution_count": 196,
   "metadata": {
    "collapsed": true
   },
   "outputs": [],
   "source": [
    "finalPredictTes,rmseFinalTest=ensembelMethods(self=droitModel,predictedValues=predictionTest[[u'ElasticNet', u'Lasso', u'Ridge',  u'RealValue']])"
   ]
  },
  {
   "cell_type": "code",
   "execution_count": 197,
   "metadata": {
    "scrolled": false
   },
   "outputs": [
    {
     "data": {
      "text/plain": [
       "9.9625467598016613"
      ]
     },
     "execution_count": 197,
     "metadata": {},
     "output_type": "execute_result"
    }
   ],
   "source": [
    "rmseFinalTest*100/santeModel.Y_train.mean()"
   ]
  },
  {
   "cell_type": "markdown",
   "metadata": {},
   "source": [
    "Nous avons un resulat de 9.9 % sur notre ensemble d'evaluation wouhhhhh........"
   ]
  },
  {
   "cell_type": "code",
   "execution_count": 202,
   "metadata": {
    "scrolled": true
   },
   "outputs": [],
   "source": [
    "saveModels(self=santeModel,departement='Sante')"
   ]
  },
  {
   "cell_type": "markdown",
   "metadata": {},
   "source": [
    "##### 3. Facuté de Pscologie"
   ]
  },
  {
   "cell_type": "code",
   "execution_count": 203,
   "metadata": {
    "collapsed": true
   },
   "outputs": [],
   "source": [
    "psyco=datasetCGPA.loc[datasetCGPA.FAC=='FPSE']"
   ]
  },
  {
   "cell_type": "code",
   "execution_count": 204,
   "metadata": {
    "scrolled": true
   },
   "outputs": [
    {
     "data": {
      "text/html": [
       "<div>\n",
       "<table border=\"1\" class=\"dataframe\">\n",
       "  <thead>\n",
       "    <tr style=\"text-align: right;\">\n",
       "      <th></th>\n",
       "      <th>DIPPERC</th>\n",
       "      <th>SCHOOL_RIGHT</th>\n",
       "      <th>OPTION_RIGHT</th>\n",
       "      <th>FAC</th>\n",
       "      <th>CGPA</th>\n",
       "      <th>DistinctionRatio</th>\n",
       "      <th>EchecRatio</th>\n",
       "      <th>Pass1stSessionRatio</th>\n",
       "    </tr>\n",
       "    <tr>\n",
       "      <th>ID</th>\n",
       "      <th></th>\n",
       "      <th></th>\n",
       "      <th></th>\n",
       "      <th></th>\n",
       "      <th></th>\n",
       "      <th></th>\n",
       "      <th></th>\n",
       "      <th></th>\n",
       "    </tr>\n",
       "  </thead>\n",
       "  <tbody>\n",
       "    <tr>\n",
       "      <th>11347</th>\n",
       "      <td>55.0</td>\n",
       "      <td>mululusake</td>\n",
       "      <td>pedagogie</td>\n",
       "      <td>FPSE</td>\n",
       "      <td>46.000000</td>\n",
       "      <td>G</td>\n",
       "      <td>A</td>\n",
       "      <td>G</td>\n",
       "    </tr>\n",
       "    <tr>\n",
       "      <th>7026</th>\n",
       "      <td>60.0</td>\n",
       "      <td>butembo</td>\n",
       "      <td>pedagogie</td>\n",
       "      <td>FPSE</td>\n",
       "      <td>48.950001</td>\n",
       "      <td>G</td>\n",
       "      <td>D</td>\n",
       "      <td>G</td>\n",
       "    </tr>\n",
       "    <tr>\n",
       "      <th>8487</th>\n",
       "      <td>57.0</td>\n",
       "      <td>butembo</td>\n",
       "      <td>pedagogie</td>\n",
       "      <td>FPSE</td>\n",
       "      <td>59.600000</td>\n",
       "      <td>G</td>\n",
       "      <td>G</td>\n",
       "      <td>F</td>\n",
       "    </tr>\n",
       "    <tr>\n",
       "      <th>10434</th>\n",
       "      <td>59.0</td>\n",
       "      <td>butembo</td>\n",
       "      <td>pedagogie</td>\n",
       "      <td>FPSE</td>\n",
       "      <td>59.700001</td>\n",
       "      <td>G</td>\n",
       "      <td>G</td>\n",
       "      <td>A</td>\n",
       "    </tr>\n",
       "    <tr>\n",
       "      <th>7487</th>\n",
       "      <td>52.0</td>\n",
       "      <td>chemchem</td>\n",
       "      <td>coupe couture</td>\n",
       "      <td>FPSE</td>\n",
       "      <td>55.150000</td>\n",
       "      <td>G</td>\n",
       "      <td>D</td>\n",
       "      <td>G</td>\n",
       "    </tr>\n",
       "  </tbody>\n",
       "</table>\n",
       "</div>"
      ],
      "text/plain": [
       "       DIPPERC SCHOOL_RIGHT   OPTION_RIGHT   FAC       CGPA DistinctionRatio  \\\n",
       "ID                                                                             \n",
       "11347     55.0   mululusake      pedagogie  FPSE  46.000000                G   \n",
       "7026      60.0      butembo      pedagogie  FPSE  48.950001                G   \n",
       "8487      57.0      butembo      pedagogie  FPSE  59.600000                G   \n",
       "10434     59.0      butembo      pedagogie  FPSE  59.700001                G   \n",
       "7487      52.0     chemchem  coupe couture  FPSE  55.150000                G   \n",
       "\n",
       "      EchecRatio Pass1stSessionRatio  \n",
       "ID                                    \n",
       "11347          A                   G  \n",
       "7026           D                   G  \n",
       "8487           G                   F  \n",
       "10434          G                   A  \n",
       "7487           D                   G  "
      ]
     },
     "execution_count": 204,
     "metadata": {},
     "output_type": "execute_result"
    }
   ],
   "source": [
    "psyco.head(5)"
   ]
  },
  {
   "cell_type": "code",
   "execution_count": 214,
   "metadata": {
    "scrolled": true
   },
   "outputs": [
    {
     "data": {
      "text/plain": [
       "G    180\n",
       "A     30\n",
       "D     12\n",
       "C      5\n",
       "Name: EchecRatio, dtype: int64"
      ]
     },
     "execution_count": 214,
     "metadata": {},
     "output_type": "execute_result"
    }
   ],
   "source": [
    "psyco.EchecRatio.value_counts()"
   ]
  },
  {
   "cell_type": "code",
   "execution_count": 216,
   "metadata": {
    "scrolled": true
   },
   "outputs": [],
   "source": [
    "psycoModel=PredictiveModelByilding(dataset=psyco,encoderFunction=ConvertCat)"
   ]
  },
  {
   "cell_type": "code",
   "execution_count": 217,
   "metadata": {
    "collapsed": true,
    "scrolled": true
   },
   "outputs": [],
   "source": [
    "psycoModel.scale(['DIPPERC','CGPA'])"
   ]
  },
  {
   "cell_type": "code",
   "execution_count": 218,
   "metadata": {
    "scrolled": false
   },
   "outputs": [],
   "source": [
    "trainDes,tesDes=psycoModel.split()"
   ]
  },
  {
   "cell_type": "code",
   "execution_count": 219,
   "metadata": {
    "scrolled": false
   },
   "outputs": [
    {
     "data": {
      "text/html": [
       "<div>\n",
       "<table border=\"1\" class=\"dataframe\">\n",
       "  <thead>\n",
       "    <tr style=\"text-align: right;\">\n",
       "      <th></th>\n",
       "      <th>DIPPERC</th>\n",
       "      <th>CGPA</th>\n",
       "    </tr>\n",
       "  </thead>\n",
       "  <tbody>\n",
       "    <tr>\n",
       "      <th>count</th>\n",
       "      <td>181.000000</td>\n",
       "      <td>181.000000</td>\n",
       "    </tr>\n",
       "    <tr>\n",
       "      <th>mean</th>\n",
       "      <td>0.561264</td>\n",
       "      <td>0.597438</td>\n",
       "    </tr>\n",
       "    <tr>\n",
       "      <th>std</th>\n",
       "      <td>0.056302</td>\n",
       "      <td>0.079608</td>\n",
       "    </tr>\n",
       "    <tr>\n",
       "      <th>min</th>\n",
       "      <td>0.500000</td>\n",
       "      <td>0.400000</td>\n",
       "    </tr>\n",
       "    <tr>\n",
       "      <th>25%</th>\n",
       "      <td>0.520000</td>\n",
       "      <td>0.559500</td>\n",
       "    </tr>\n",
       "    <tr>\n",
       "      <th>50%</th>\n",
       "      <td>0.550000</td>\n",
       "      <td>0.609000</td>\n",
       "    </tr>\n",
       "    <tr>\n",
       "      <th>75%</th>\n",
       "      <td>0.590000</td>\n",
       "      <td>0.652667</td>\n",
       "    </tr>\n",
       "    <tr>\n",
       "      <th>max</th>\n",
       "      <td>0.770000</td>\n",
       "      <td>0.781750</td>\n",
       "    </tr>\n",
       "  </tbody>\n",
       "</table>\n",
       "</div>"
      ],
      "text/plain": [
       "          DIPPERC        CGPA\n",
       "count  181.000000  181.000000\n",
       "mean     0.561264    0.597438\n",
       "std      0.056302    0.079608\n",
       "min      0.500000    0.400000\n",
       "25%      0.520000    0.559500\n",
       "50%      0.550000    0.609000\n",
       "75%      0.590000    0.652667\n",
       "max      0.770000    0.781750"
      ]
     },
     "execution_count": 219,
     "metadata": {},
     "output_type": "execute_result"
    }
   ],
   "source": [
    "trainDes"
   ]
  },
  {
   "cell_type": "code",
   "execution_count": 220,
   "metadata": {
    "scrolled": false
   },
   "outputs": [
    {
     "data": {
      "text/html": [
       "<div>\n",
       "<table border=\"1\" class=\"dataframe\">\n",
       "  <thead>\n",
       "    <tr style=\"text-align: right;\">\n",
       "      <th></th>\n",
       "      <th>DIPPERC</th>\n",
       "      <th>CGPA</th>\n",
       "    </tr>\n",
       "  </thead>\n",
       "  <tbody>\n",
       "    <tr>\n",
       "      <th>count</th>\n",
       "      <td>46.000000</td>\n",
       "      <td>46.000000</td>\n",
       "    </tr>\n",
       "    <tr>\n",
       "      <th>mean</th>\n",
       "      <td>0.565000</td>\n",
       "      <td>0.588315</td>\n",
       "    </tr>\n",
       "    <tr>\n",
       "      <th>std</th>\n",
       "      <td>0.058224</td>\n",
       "      <td>0.066295</td>\n",
       "    </tr>\n",
       "    <tr>\n",
       "      <th>min</th>\n",
       "      <td>0.500000</td>\n",
       "      <td>0.430000</td>\n",
       "    </tr>\n",
       "    <tr>\n",
       "      <th>25%</th>\n",
       "      <td>0.510000</td>\n",
       "      <td>0.564500</td>\n",
       "    </tr>\n",
       "    <tr>\n",
       "      <th>50%</th>\n",
       "      <td>0.560000</td>\n",
       "      <td>0.601000</td>\n",
       "    </tr>\n",
       "    <tr>\n",
       "      <th>75%</th>\n",
       "      <td>0.600000</td>\n",
       "      <td>0.627000</td>\n",
       "    </tr>\n",
       "    <tr>\n",
       "      <th>max</th>\n",
       "      <td>0.750000</td>\n",
       "      <td>0.714000</td>\n",
       "    </tr>\n",
       "  </tbody>\n",
       "</table>\n",
       "</div>"
      ],
      "text/plain": [
       "         DIPPERC       CGPA\n",
       "count  46.000000  46.000000\n",
       "mean    0.565000   0.588315\n",
       "std     0.058224   0.066295\n",
       "min     0.500000   0.430000\n",
       "25%     0.510000   0.564500\n",
       "50%     0.560000   0.601000\n",
       "75%     0.600000   0.627000\n",
       "max     0.750000   0.714000"
      ]
     },
     "execution_count": 220,
     "metadata": {},
     "output_type": "execute_result"
    }
   ],
   "source": [
    "tesDes"
   ]
  },
  {
   "cell_type": "code",
   "execution_count": 221,
   "metadata": {},
   "outputs": [
    {
     "name": "stdout",
     "output_type": "stream",
     "text": [
      "[LibSVM]"
     ]
    }
   ],
   "source": [
    "predictedValues=psycoModel.train()"
   ]
  },
  {
   "cell_type": "code",
   "execution_count": 182,
   "metadata": {
    "scrolled": false
   },
   "outputs": [
    {
     "data": {
      "text/html": [
       "<div>\n",
       "<table border=\"1\" class=\"dataframe\">\n",
       "  <thead>\n",
       "    <tr style=\"text-align: right;\">\n",
       "      <th></th>\n",
       "      <th>ElasticNet</th>\n",
       "      <th>Lasso</th>\n",
       "      <th>LinearSVR</th>\n",
       "      <th>Ridge</th>\n",
       "      <th>SVR</th>\n",
       "      <th>RealValue</th>\n",
       "    </tr>\n",
       "    <tr>\n",
       "      <th>ID</th>\n",
       "      <th></th>\n",
       "      <th></th>\n",
       "      <th></th>\n",
       "      <th></th>\n",
       "      <th></th>\n",
       "      <th></th>\n",
       "    </tr>\n",
       "  </thead>\n",
       "  <tbody>\n",
       "    <tr>\n",
       "      <th>7417</th>\n",
       "      <td>0.633946</td>\n",
       "      <td>0.633946</td>\n",
       "      <td>0.712691</td>\n",
       "      <td>0.620563</td>\n",
       "      <td>0.556396</td>\n",
       "      <td>0.585333</td>\n",
       "    </tr>\n",
       "    <tr>\n",
       "      <th>8372</th>\n",
       "      <td>0.641820</td>\n",
       "      <td>0.641820</td>\n",
       "      <td>0.640600</td>\n",
       "      <td>0.640527</td>\n",
       "      <td>0.584777</td>\n",
       "      <td>0.645667</td>\n",
       "    </tr>\n",
       "    <tr>\n",
       "      <th>9322</th>\n",
       "      <td>0.619607</td>\n",
       "      <td>0.619607</td>\n",
       "      <td>0.587724</td>\n",
       "      <td>0.597814</td>\n",
       "      <td>0.549957</td>\n",
       "      <td>0.625667</td>\n",
       "    </tr>\n",
       "    <tr>\n",
       "      <th>11413</th>\n",
       "      <td>0.563453</td>\n",
       "      <td>0.563453</td>\n",
       "      <td>0.604019</td>\n",
       "      <td>0.561460</td>\n",
       "      <td>0.539789</td>\n",
       "      <td>0.574000</td>\n",
       "    </tr>\n",
       "    <tr>\n",
       "      <th>6746</th>\n",
       "      <td>0.630940</td>\n",
       "      <td>0.630940</td>\n",
       "      <td>0.600488</td>\n",
       "      <td>0.604480</td>\n",
       "      <td>0.546782</td>\n",
       "      <td>0.637000</td>\n",
       "    </tr>\n",
       "  </tbody>\n",
       "</table>\n",
       "</div>"
      ],
      "text/plain": [
       "       ElasticNet     Lasso  LinearSVR     Ridge       SVR  RealValue\n",
       "ID                                                                   \n",
       "7417     0.633946  0.633946   0.712691  0.620563  0.556396   0.585333\n",
       "8372     0.641820  0.641820   0.640600  0.640527  0.584777   0.645667\n",
       "9322     0.619607  0.619607   0.587724  0.597814  0.549957   0.625667\n",
       "11413    0.563453  0.563453   0.604019  0.561460  0.539789   0.574000\n",
       "6746     0.630940  0.630940   0.600488  0.604480  0.546782   0.637000"
      ]
     },
     "execution_count": 182,
     "metadata": {},
     "output_type": "execute_result"
    }
   ],
   "source": [
    "predictedValues.head(5)"
   ]
  },
  {
   "cell_type": "code",
   "execution_count": 222,
   "metadata": {
    "scrolled": false
   },
   "outputs": [
    {
     "name": "stdout",
     "output_type": "stream",
     "text": [
      "('Predictions:\\t', array([ 0.63394575,  0.64181988,  0.61960702,  0.56345318,  0.63094036]))\n",
      "('Labels:\\t\\t', [0.58533334096300005, 0.64566666921000004, 0.62566666921000003, 0.57400001525900002, 0.637000007629])\n",
      "('Predictions:\\t', array([ 0.55639553,  0.58477657,  0.54995735,  0.53978909,  0.54678191]))\n",
      "('Labels:\\t\\t', [0.58533334096300005, 0.64566666921000004, 0.62566666921000003, 0.57400001525900002, 0.637000007629])\n",
      "('Predictions:\\t', array([ 0.71269094,  0.64060031,  0.5877242 ,  0.6040193 ,  0.60048801]))\n",
      "('Labels:\\t\\t', [0.58533334096300005, 0.64566666921000004, 0.62566666921000003, 0.57400001525900002, 0.637000007629])\n",
      "('Predictions:\\t', array([ 0.6205627 ,  0.64052699,  0.59781433,  0.56145965,  0.60448013]))\n",
      "('Labels:\\t\\t', [0.58533334096300005, 0.64566666921000004, 0.62566666921000003, 0.57400001525900002, 0.637000007629])\n",
      "('Predictions:\\t', array([ 0.63394575,  0.64181988,  0.61960702,  0.56345318,  0.63094036]))\n",
      "('Labels:\\t\\t', [0.58533334096300005, 0.64566666921000004, 0.62566666921000003, 0.57400001525900002, 0.637000007629])\n"
     ]
    }
   ],
   "source": [
    "RMSE={}\n",
    "for reg in santeModel.predictiveModels.keys():\n",
    "    rmse=santeModel.evaluate(model=reg,on='train') #RMSE of each model\n",
    "    RMSE[reg]=[rmse,rmse*100/psycoModel.dataset_bin.CGPA.mean()]"
   ]
  },
  {
   "cell_type": "code",
   "execution_count": 223,
   "metadata": {},
   "outputs": [
    {
     "data": {
      "text/plain": [
       "{'ElasticNet': [0.048506383027202178, 8.1442683014338755],\n",
       " 'Lasso': [0.048506383027202178, 8.1442683014338755],\n",
       " 'LinearSVR': [0.053311148653203064, 8.9509930650946377],\n",
       " 'Ridge': [0.051086773887118013, 8.5775184053209639],\n",
       " 'SVR': [0.069900647273839767, 11.73638581798169]}"
      ]
     },
     "execution_count": 223,
     "metadata": {},
     "output_type": "execute_result"
    }
   ],
   "source": [
    "RMSE"
   ]
  },
  {
   "cell_type": "markdown",
   "metadata": {},
   "source": [
    "on remarque aisement que les valeurs predites par differents regressons disposent d'une bonne exacitude"
   ]
  },
  {
   "cell_type": "code",
   "execution_count": 226,
   "metadata": {},
   "outputs": [
    {
     "name": "stdout",
     "output_type": "stream",
     "text": [
      "[LibSVM][LibSVM][LibSVM][LibSVM][LibSVM][LibSVM][LibSVM][LibSVM][LibSVM][LibSVM]"
     ]
    }
   ],
   "source": [
    "CVScore={}\n",
    "for reg in santeModel.predictiveModels.keys():\n",
    "    scores,Sstd,Smean=psycoModel.crossEvaluate(model=reg) #RMSE of each model\n",
    "    CVScore[reg]=[Smean,Smean*100/psycoModel.dataset_bin.CGPA.mean()]"
   ]
  },
  {
   "cell_type": "code",
   "execution_count": 227,
   "metadata": {
    "scrolled": true
   },
   "outputs": [
    {
     "data": {
      "text/plain": [
       "{'ElasticNet': [0.078153280788430132, 13.122010911869584],\n",
       " 'Lasso': [0.078153280788430132, 13.122010911869584],\n",
       " 'LinearSVR': [0.082076009272530726, 13.780640792194324],\n",
       " 'Ridge': [0.0735624886756783, 12.351212506608363],\n",
       " 'SVR': [0.076979183941278617, 12.924878923493804]}"
      ]
     },
     "execution_count": 227,
     "metadata": {},
     "output_type": "execute_result"
    }
   ],
   "source": [
    "CVScore"
   ]
  },
  {
   "cell_type": "markdown",
   "metadata": {},
   "source": [
    "Aussi on peut remarquer les methodes lineaires disposent des meilleurs resulats"
   ]
  },
  {
   "cell_type": "code",
   "execution_count": 228,
   "metadata": {
    "scrolled": false
   },
   "outputs": [
    {
     "name": "stdout",
     "output_type": "stream",
     "text": [
      "('Predictions:\\t', array([ 0.54627331,  0.62044522,  0.62659385,  0.60660261,  0.59181471]))\n",
      "('Labels:\\t\\t', [0.46999999999999997, 0.62300000508599995, 0.45000000000000001, 0.58999999999999997, 0.59549999237100004])\n",
      "('Predictions:\\t', array([ 0.57635701,  0.57732127,  0.57809299,  0.57635701,  0.57635701]))\n",
      "('Labels:\\t\\t', [0.46999999999999997, 0.62300000508599995, 0.45000000000000001, 0.58999999999999997, 0.59549999237100004])\n",
      "('Predictions:\\t', array([ 0.54199208,  0.62736156,  0.63131675,  0.59778709,  0.54941206]))\n",
      "('Labels:\\t\\t', [0.46999999999999997, 0.62300000508599995, 0.45000000000000001, 0.58999999999999997, 0.59549999237100004])\n",
      "('Predictions:\\t', array([ 0.56774303,  0.61213123,  0.61719123,  0.60737644,  0.58738797]))\n",
      "('Labels:\\t\\t', [0.46999999999999997, 0.62300000508599995, 0.45000000000000001, 0.58999999999999997, 0.59549999237100004])\n",
      "('Predictions:\\t', array([ 0.54627331,  0.62044522,  0.62659385,  0.60660261,  0.59181471]))\n",
      "('Labels:\\t\\t', [0.46999999999999997, 0.62300000508599995, 0.45000000000000001, 0.58999999999999997, 0.59549999237100004])\n"
     ]
    }
   ],
   "source": [
    "RMSE={}\n",
    "for reg in santeModel.predictiveModels.keys():\n",
    "    rmse=psycoModel.evaluate(model=reg,on='test') #RMSE of each model\n",
    "    RMSE[reg]=[rmse,rmse*100/psycoModel.dataset_bin.CGPA.mean()]"
   ]
  },
  {
   "cell_type": "code",
   "execution_count": 229,
   "metadata": {},
   "outputs": [
    {
     "data": {
      "text/plain": [
       "{'ElasticNet': [0.071372353655097823, 11.983486732992738],\n",
       " 'Lasso': [0.071372353655097823, 11.983486732992738],\n",
       " 'LinearSVR': [0.081538251216321092, 13.690350698031406],\n",
       " 'Ridge': [0.066752480188447011, 11.207805540478766],\n",
       " 'SVR': [0.06566283741951609, 11.024853472955733]}"
      ]
     },
     "execution_count": 229,
     "metadata": {},
     "output_type": "execute_result"
    }
   ],
   "source": [
    "RMSE"
   ]
  },
  {
   "cell_type": "code",
   "execution_count": 167,
   "metadata": {},
   "outputs": [
    {
     "data": {
      "text/plain": [
       "Index([u'ElasticNet', u'Lasso', u'LinearSVR', u'Ridge', u'SVR', u'RealValue'], dtype='object')"
      ]
     },
     "execution_count": 167,
     "metadata": {},
     "output_type": "execute_result"
    }
   ],
   "source": [
    "predictedValues.columns"
   ]
  },
  {
   "cell_type": "code",
   "execution_count": 230,
   "metadata": {
    "collapsed": true,
    "scrolled": false
   },
   "outputs": [],
   "source": [
    "finalPred,finalRMSE=santeModel.ensembelMethods(predictedValues=predictedValues[[u'ElasticNet', u'Lasso', u'Ridge',  u'RealValue',u'SVR']])"
   ]
  },
  {
   "cell_type": "code",
   "execution_count": 231,
   "metadata": {
    "scrolled": false
   },
   "outputs": [
    {
     "data": {
      "text/html": [
       "<div>\n",
       "<table border=\"1\" class=\"dataframe\">\n",
       "  <thead>\n",
       "    <tr style=\"text-align: right;\">\n",
       "      <th></th>\n",
       "      <th>ElasticNet</th>\n",
       "      <th>Lasso</th>\n",
       "      <th>Ridge</th>\n",
       "      <th>RealValue</th>\n",
       "      <th>SVR</th>\n",
       "      <th>finalPredict</th>\n",
       "    </tr>\n",
       "    <tr>\n",
       "      <th>ID</th>\n",
       "      <th></th>\n",
       "      <th></th>\n",
       "      <th></th>\n",
       "      <th></th>\n",
       "      <th></th>\n",
       "      <th></th>\n",
       "    </tr>\n",
       "  </thead>\n",
       "  <tbody>\n",
       "    <tr>\n",
       "      <th>7044</th>\n",
       "      <td>0.614691</td>\n",
       "      <td>0.614691</td>\n",
       "      <td>0.601469</td>\n",
       "      <td>0.616500</td>\n",
       "      <td>0.576164</td>\n",
       "      <td>0.615258</td>\n",
       "    </tr>\n",
       "    <tr>\n",
       "      <th>8518</th>\n",
       "      <td>0.708552</td>\n",
       "      <td>0.708552</td>\n",
       "      <td>0.683582</td>\n",
       "      <td>0.781750</td>\n",
       "      <td>0.627838</td>\n",
       "      <td>0.709026</td>\n",
       "    </tr>\n",
       "    <tr>\n",
       "      <th>12160</th>\n",
       "      <td>0.636192</td>\n",
       "      <td>0.636192</td>\n",
       "      <td>0.616022</td>\n",
       "      <td>0.638000</td>\n",
       "      <td>0.577707</td>\n",
       "      <td>0.637065</td>\n",
       "    </tr>\n",
       "    <tr>\n",
       "      <th>9227</th>\n",
       "      <td>0.578178</td>\n",
       "      <td>0.578178</td>\n",
       "      <td>0.572074</td>\n",
       "      <td>0.588000</td>\n",
       "      <td>0.583145</td>\n",
       "      <td>0.578105</td>\n",
       "    </tr>\n",
       "    <tr>\n",
       "      <th>8997</th>\n",
       "      <td>0.592350</td>\n",
       "      <td>0.592350</td>\n",
       "      <td>0.587194</td>\n",
       "      <td>0.592333</td>\n",
       "      <td>0.584850</td>\n",
       "      <td>0.592344</td>\n",
       "    </tr>\n",
       "    <tr>\n",
       "      <th>5031</th>\n",
       "      <td>0.592998</td>\n",
       "      <td>0.592998</td>\n",
       "      <td>0.592967</td>\n",
       "      <td>0.648000</td>\n",
       "      <td>0.583145</td>\n",
       "      <td>0.592927</td>\n",
       "    </tr>\n",
       "    <tr>\n",
       "      <th>9826</th>\n",
       "      <td>0.651616</td>\n",
       "      <td>0.651616</td>\n",
       "      <td>0.635800</td>\n",
       "      <td>0.634500</td>\n",
       "      <td>0.584137</td>\n",
       "      <td>0.652386</td>\n",
       "    </tr>\n",
       "    <tr>\n",
       "      <th>8578</th>\n",
       "      <td>0.687691</td>\n",
       "      <td>0.687691</td>\n",
       "      <td>0.645101</td>\n",
       "      <td>0.689500</td>\n",
       "      <td>0.589443</td>\n",
       "      <td>0.689239</td>\n",
       "    </tr>\n",
       "    <tr>\n",
       "      <th>7004</th>\n",
       "      <td>0.581252</td>\n",
       "      <td>0.581252</td>\n",
       "      <td>0.583207</td>\n",
       "      <td>0.607000</td>\n",
       "      <td>0.576357</td>\n",
       "      <td>0.581189</td>\n",
       "    </tr>\n",
       "    <tr>\n",
       "      <th>9947</th>\n",
       "      <td>0.681999</td>\n",
       "      <td>0.681999</td>\n",
       "      <td>0.673437</td>\n",
       "      <td>0.693000</td>\n",
       "      <td>0.620269</td>\n",
       "      <td>0.682056</td>\n",
       "    </tr>\n",
       "    <tr>\n",
       "      <th>9035</th>\n",
       "      <td>0.481810</td>\n",
       "      <td>0.481810</td>\n",
       "      <td>0.536547</td>\n",
       "      <td>0.480000</td>\n",
       "      <td>0.577514</td>\n",
       "      <td>0.479694</td>\n",
       "    </tr>\n",
       "    <tr>\n",
       "      <th>10883</th>\n",
       "      <td>0.657083</td>\n",
       "      <td>0.657083</td>\n",
       "      <td>0.664878</td>\n",
       "      <td>0.612500</td>\n",
       "      <td>0.618545</td>\n",
       "      <td>0.656604</td>\n",
       "    </tr>\n",
       "    <tr>\n",
       "      <th>11876</th>\n",
       "      <td>0.596191</td>\n",
       "      <td>0.596191</td>\n",
       "      <td>0.578361</td>\n",
       "      <td>0.598000</td>\n",
       "      <td>0.581619</td>\n",
       "      <td>0.596567</td>\n",
       "    </tr>\n",
       "    <tr>\n",
       "      <th>7031</th>\n",
       "      <td>0.590634</td>\n",
       "      <td>0.590634</td>\n",
       "      <td>0.591645</td>\n",
       "      <td>0.508000</td>\n",
       "      <td>0.586549</td>\n",
       "      <td>0.590441</td>\n",
       "    </tr>\n",
       "    <tr>\n",
       "      <th>5737</th>\n",
       "      <td>0.649129</td>\n",
       "      <td>0.649129</td>\n",
       "      <td>0.628289</td>\n",
       "      <td>0.628500</td>\n",
       "      <td>0.579251</td>\n",
       "      <td>0.650097</td>\n",
       "    </tr>\n",
       "    <tr>\n",
       "      <th>9559</th>\n",
       "      <td>0.658311</td>\n",
       "      <td>0.658311</td>\n",
       "      <td>0.645600</td>\n",
       "      <td>0.704667</td>\n",
       "      <td>0.604609</td>\n",
       "      <td>0.658605</td>\n",
       "    </tr>\n",
       "    <tr>\n",
       "      <th>12137</th>\n",
       "      <td>0.674191</td>\n",
       "      <td>0.674191</td>\n",
       "      <td>0.636449</td>\n",
       "      <td>0.676000</td>\n",
       "      <td>0.578286</td>\n",
       "      <td>0.675770</td>\n",
       "    </tr>\n",
       "    <tr>\n",
       "      <th>10342</th>\n",
       "      <td>0.624190</td>\n",
       "      <td>0.624190</td>\n",
       "      <td>0.607645</td>\n",
       "      <td>0.626000</td>\n",
       "      <td>0.576743</td>\n",
       "      <td>0.624900</td>\n",
       "    </tr>\n",
       "    <tr>\n",
       "      <th>10399</th>\n",
       "      <td>0.541405</td>\n",
       "      <td>0.541405</td>\n",
       "      <td>0.557397</td>\n",
       "      <td>0.591000</td>\n",
       "      <td>0.577128</td>\n",
       "      <td>0.540666</td>\n",
       "    </tr>\n",
       "    <tr>\n",
       "      <th>9160</th>\n",
       "      <td>0.588688</td>\n",
       "      <td>0.588688</td>\n",
       "      <td>0.584783</td>\n",
       "      <td>0.591000</td>\n",
       "      <td>0.582001</td>\n",
       "      <td>0.588688</td>\n",
       "    </tr>\n",
       "    <tr>\n",
       "      <th>9535</th>\n",
       "      <td>0.638055</td>\n",
       "      <td>0.638055</td>\n",
       "      <td>0.624485</td>\n",
       "      <td>0.593000</td>\n",
       "      <td>0.578479</td>\n",
       "      <td>0.638785</td>\n",
       "    </tr>\n",
       "    <tr>\n",
       "      <th>9478</th>\n",
       "      <td>0.503312</td>\n",
       "      <td>0.503312</td>\n",
       "      <td>0.545870</td>\n",
       "      <td>0.501500</td>\n",
       "      <td>0.576936</td>\n",
       "      <td>0.501664</td>\n",
       "    </tr>\n",
       "    <tr>\n",
       "      <th>11557</th>\n",
       "      <td>0.659200</td>\n",
       "      <td>0.659200</td>\n",
       "      <td>0.635506</td>\n",
       "      <td>0.663000</td>\n",
       "      <td>0.579444</td>\n",
       "      <td>0.660315</td>\n",
       "    </tr>\n",
       "    <tr>\n",
       "      <th>7016</th>\n",
       "      <td>0.648443</td>\n",
       "      <td>0.648443</td>\n",
       "      <td>0.631146</td>\n",
       "      <td>0.620000</td>\n",
       "      <td>0.586271</td>\n",
       "      <td>0.649168</td>\n",
       "    </tr>\n",
       "    <tr>\n",
       "      <th>6822</th>\n",
       "      <td>0.635980</td>\n",
       "      <td>0.635980</td>\n",
       "      <td>0.620414</td>\n",
       "      <td>0.626333</td>\n",
       "      <td>0.576743</td>\n",
       "      <td>0.636774</td>\n",
       "    </tr>\n",
       "    <tr>\n",
       "      <th>10466</th>\n",
       "      <td>0.561312</td>\n",
       "      <td>0.561312</td>\n",
       "      <td>0.562439</td>\n",
       "      <td>0.559500</td>\n",
       "      <td>0.582955</td>\n",
       "      <td>0.560937</td>\n",
       "    </tr>\n",
       "    <tr>\n",
       "      <th>11347</th>\n",
       "      <td>0.461810</td>\n",
       "      <td>0.461810</td>\n",
       "      <td>0.525596</td>\n",
       "      <td>0.460000</td>\n",
       "      <td>0.560035</td>\n",
       "      <td>0.459722</td>\n",
       "    </tr>\n",
       "    <tr>\n",
       "      <th>3804</th>\n",
       "      <td>0.596160</td>\n",
       "      <td>0.596160</td>\n",
       "      <td>0.593989</td>\n",
       "      <td>0.659000</td>\n",
       "      <td>0.576743</td>\n",
       "      <td>0.596310</td>\n",
       "    </tr>\n",
       "    <tr>\n",
       "      <th>11719</th>\n",
       "      <td>0.569484</td>\n",
       "      <td>0.569484</td>\n",
       "      <td>0.577561</td>\n",
       "      <td>0.578000</td>\n",
       "      <td>0.576164</td>\n",
       "      <td>0.569188</td>\n",
       "    </tr>\n",
       "    <tr>\n",
       "      <th>2523</th>\n",
       "      <td>0.589046</td>\n",
       "      <td>0.589046</td>\n",
       "      <td>0.588219</td>\n",
       "      <td>0.590000</td>\n",
       "      <td>0.576164</td>\n",
       "      <td>0.589117</td>\n",
       "    </tr>\n",
       "    <tr>\n",
       "      <th>...</th>\n",
       "      <td>...</td>\n",
       "      <td>...</td>\n",
       "      <td>...</td>\n",
       "      <td>...</td>\n",
       "      <td>...</td>\n",
       "      <td>...</td>\n",
       "    </tr>\n",
       "    <tr>\n",
       "      <th>5695</th>\n",
       "      <td>0.615145</td>\n",
       "      <td>0.615145</td>\n",
       "      <td>0.604640</td>\n",
       "      <td>0.613333</td>\n",
       "      <td>0.578093</td>\n",
       "      <td>0.615613</td>\n",
       "    </tr>\n",
       "    <tr>\n",
       "      <th>8691</th>\n",
       "      <td>0.642837</td>\n",
       "      <td>0.642837</td>\n",
       "      <td>0.640242</td>\n",
       "      <td>0.683667</td>\n",
       "      <td>0.601838</td>\n",
       "      <td>0.642838</td>\n",
       "    </tr>\n",
       "    <tr>\n",
       "      <th>10670</th>\n",
       "      <td>0.508770</td>\n",
       "      <td>0.508770</td>\n",
       "      <td>0.528210</td>\n",
       "      <td>0.460000</td>\n",
       "      <td>0.559861</td>\n",
       "      <td>0.508060</td>\n",
       "    </tr>\n",
       "    <tr>\n",
       "      <th>9836</th>\n",
       "      <td>0.497310</td>\n",
       "      <td>0.497310</td>\n",
       "      <td>0.540969</td>\n",
       "      <td>0.495500</td>\n",
       "      <td>0.576164</td>\n",
       "      <td>0.495602</td>\n",
       "    </tr>\n",
       "    <tr>\n",
       "      <th>10614</th>\n",
       "      <td>0.597691</td>\n",
       "      <td>0.597691</td>\n",
       "      <td>0.592968</td>\n",
       "      <td>0.599500</td>\n",
       "      <td>0.576164</td>\n",
       "      <td>0.597923</td>\n",
       "    </tr>\n",
       "    <tr>\n",
       "      <th>4544</th>\n",
       "      <td>0.600240</td>\n",
       "      <td>0.600240</td>\n",
       "      <td>0.600673</td>\n",
       "      <td>0.632000</td>\n",
       "      <td>0.576164</td>\n",
       "      <td>0.600384</td>\n",
       "    </tr>\n",
       "    <tr>\n",
       "      <th>10760</th>\n",
       "      <td>0.680459</td>\n",
       "      <td>0.680459</td>\n",
       "      <td>0.653208</td>\n",
       "      <td>0.645500</td>\n",
       "      <td>0.606150</td>\n",
       "      <td>0.681229</td>\n",
       "    </tr>\n",
       "    <tr>\n",
       "      <th>9176</th>\n",
       "      <td>0.557009</td>\n",
       "      <td>0.557009</td>\n",
       "      <td>0.555881</td>\n",
       "      <td>0.480000</td>\n",
       "      <td>0.565973</td>\n",
       "      <td>0.557034</td>\n",
       "    </tr>\n",
       "    <tr>\n",
       "      <th>12056</th>\n",
       "      <td>0.601623</td>\n",
       "      <td>0.601623</td>\n",
       "      <td>0.609426</td>\n",
       "      <td>0.598000</td>\n",
       "      <td>0.578286</td>\n",
       "      <td>0.601571</td>\n",
       "    </tr>\n",
       "    <tr>\n",
       "      <th>9109</th>\n",
       "      <td>0.674525</td>\n",
       "      <td>0.674525</td>\n",
       "      <td>0.651622</td>\n",
       "      <td>0.676333</td>\n",
       "      <td>0.603176</td>\n",
       "      <td>0.675216</td>\n",
       "    </tr>\n",
       "    <tr>\n",
       "      <th>8266</th>\n",
       "      <td>0.634532</td>\n",
       "      <td>0.634532</td>\n",
       "      <td>0.637389</td>\n",
       "      <td>0.612500</td>\n",
       "      <td>0.601265</td>\n",
       "      <td>0.634354</td>\n",
       "    </tr>\n",
       "    <tr>\n",
       "      <th>11898</th>\n",
       "      <td>0.564810</td>\n",
       "      <td>0.564810</td>\n",
       "      <td>0.575669</td>\n",
       "      <td>0.563000</td>\n",
       "      <td>0.576550</td>\n",
       "      <td>0.564404</td>\n",
       "    </tr>\n",
       "    <tr>\n",
       "      <th>10446</th>\n",
       "      <td>0.593402</td>\n",
       "      <td>0.593402</td>\n",
       "      <td>0.592596</td>\n",
       "      <td>0.589500</td>\n",
       "      <td>0.586742</td>\n",
       "      <td>0.593269</td>\n",
       "    </tr>\n",
       "    <tr>\n",
       "      <th>10790</th>\n",
       "      <td>0.569467</td>\n",
       "      <td>0.569467</td>\n",
       "      <td>0.586720</td>\n",
       "      <td>0.521000</td>\n",
       "      <td>0.600882</td>\n",
       "      <td>0.568406</td>\n",
       "    </tr>\n",
       "    <tr>\n",
       "      <th>10396</th>\n",
       "      <td>0.677691</td>\n",
       "      <td>0.677691</td>\n",
       "      <td>0.633444</td>\n",
       "      <td>0.679500</td>\n",
       "      <td>0.579203</td>\n",
       "      <td>0.679420</td>\n",
       "    </tr>\n",
       "    <tr>\n",
       "      <th>10680</th>\n",
       "      <td>0.625982</td>\n",
       "      <td>0.625982</td>\n",
       "      <td>0.614033</td>\n",
       "      <td>0.593000</td>\n",
       "      <td>0.577707</td>\n",
       "      <td>0.626587</td>\n",
       "    </tr>\n",
       "    <tr>\n",
       "      <th>7037</th>\n",
       "      <td>0.621858</td>\n",
       "      <td>0.621858</td>\n",
       "      <td>0.606478</td>\n",
       "      <td>0.623667</td>\n",
       "      <td>0.576743</td>\n",
       "      <td>0.622522</td>\n",
       "    </tr>\n",
       "    <tr>\n",
       "      <th>12080</th>\n",
       "      <td>0.637774</td>\n",
       "      <td>0.637774</td>\n",
       "      <td>0.631045</td>\n",
       "      <td>0.591000</td>\n",
       "      <td>0.583173</td>\n",
       "      <td>0.638246</td>\n",
       "    </tr>\n",
       "    <tr>\n",
       "      <th>10651</th>\n",
       "      <td>0.410005</td>\n",
       "      <td>0.410005</td>\n",
       "      <td>0.437360</td>\n",
       "      <td>0.410000</td>\n",
       "      <td>0.520727</td>\n",
       "      <td>0.409139</td>\n",
       "    </tr>\n",
       "    <tr>\n",
       "      <th>8927</th>\n",
       "      <td>0.621057</td>\n",
       "      <td>0.621057</td>\n",
       "      <td>0.615289</td>\n",
       "      <td>0.608667</td>\n",
       "      <td>0.577707</td>\n",
       "      <td>0.621485</td>\n",
       "    </tr>\n",
       "    <tr>\n",
       "      <th>5094</th>\n",
       "      <td>0.665191</td>\n",
       "      <td>0.665191</td>\n",
       "      <td>0.629571</td>\n",
       "      <td>0.667000</td>\n",
       "      <td>0.577321</td>\n",
       "      <td>0.666665</td>\n",
       "    </tr>\n",
       "    <tr>\n",
       "      <th>12176</th>\n",
       "      <td>0.645372</td>\n",
       "      <td>0.645372</td>\n",
       "      <td>0.635761</td>\n",
       "      <td>0.615000</td>\n",
       "      <td>0.595571</td>\n",
       "      <td>0.645691</td>\n",
       "    </tr>\n",
       "    <tr>\n",
       "      <th>11419</th>\n",
       "      <td>0.614190</td>\n",
       "      <td>0.614190</td>\n",
       "      <td>0.589738</td>\n",
       "      <td>0.616000</td>\n",
       "      <td>0.582573</td>\n",
       "      <td>0.614848</td>\n",
       "    </tr>\n",
       "    <tr>\n",
       "      <th>7479</th>\n",
       "      <td>0.624857</td>\n",
       "      <td>0.624857</td>\n",
       "      <td>0.607503</td>\n",
       "      <td>0.626667</td>\n",
       "      <td>0.576550</td>\n",
       "      <td>0.625595</td>\n",
       "    </tr>\n",
       "    <tr>\n",
       "      <th>3792</th>\n",
       "      <td>0.637712</td>\n",
       "      <td>0.637712</td>\n",
       "      <td>0.623731</td>\n",
       "      <td>0.660000</td>\n",
       "      <td>0.577321</td>\n",
       "      <td>0.638474</td>\n",
       "    </tr>\n",
       "    <tr>\n",
       "      <th>1289</th>\n",
       "      <td>0.610370</td>\n",
       "      <td>0.610370</td>\n",
       "      <td>0.614976</td>\n",
       "      <td>0.656500</td>\n",
       "      <td>0.576550</td>\n",
       "      <td>0.610505</td>\n",
       "    </tr>\n",
       "    <tr>\n",
       "      <th>10486</th>\n",
       "      <td>0.644468</td>\n",
       "      <td>0.644468</td>\n",
       "      <td>0.640846</td>\n",
       "      <td>0.612500</td>\n",
       "      <td>0.603645</td>\n",
       "      <td>0.644465</td>\n",
       "    </tr>\n",
       "    <tr>\n",
       "      <th>9169</th>\n",
       "      <td>0.607245</td>\n",
       "      <td>0.607245</td>\n",
       "      <td>0.597351</td>\n",
       "      <td>0.622667</td>\n",
       "      <td>0.587707</td>\n",
       "      <td>0.607409</td>\n",
       "    </tr>\n",
       "    <tr>\n",
       "      <th>3617</th>\n",
       "      <td>0.595311</td>\n",
       "      <td>0.595311</td>\n",
       "      <td>0.594248</td>\n",
       "      <td>0.593500</td>\n",
       "      <td>0.577900</td>\n",
       "      <td>0.595403</td>\n",
       "    </tr>\n",
       "    <tr>\n",
       "      <th>11792</th>\n",
       "      <td>0.579597</td>\n",
       "      <td>0.579597</td>\n",
       "      <td>0.597710</td>\n",
       "      <td>0.541000</td>\n",
       "      <td>0.576164</td>\n",
       "      <td>0.579175</td>\n",
       "    </tr>\n",
       "  </tbody>\n",
       "</table>\n",
       "<p>181 rows × 6 columns</p>\n",
       "</div>"
      ],
      "text/plain": [
       "       ElasticNet     Lasso     Ridge  RealValue       SVR  finalPredict\n",
       "ID                                                                      \n",
       "7044     0.614691  0.614691  0.601469   0.616500  0.576164      0.615258\n",
       "8518     0.708552  0.708552  0.683582   0.781750  0.627838      0.709026\n",
       "12160    0.636192  0.636192  0.616022   0.638000  0.577707      0.637065\n",
       "9227     0.578178  0.578178  0.572074   0.588000  0.583145      0.578105\n",
       "8997     0.592350  0.592350  0.587194   0.592333  0.584850      0.592344\n",
       "5031     0.592998  0.592998  0.592967   0.648000  0.583145      0.592927\n",
       "9826     0.651616  0.651616  0.635800   0.634500  0.584137      0.652386\n",
       "8578     0.687691  0.687691  0.645101   0.689500  0.589443      0.689239\n",
       "7004     0.581252  0.581252  0.583207   0.607000  0.576357      0.581189\n",
       "9947     0.681999  0.681999  0.673437   0.693000  0.620269      0.682056\n",
       "9035     0.481810  0.481810  0.536547   0.480000  0.577514      0.479694\n",
       "10883    0.657083  0.657083  0.664878   0.612500  0.618545      0.656604\n",
       "11876    0.596191  0.596191  0.578361   0.598000  0.581619      0.596567\n",
       "7031     0.590634  0.590634  0.591645   0.508000  0.586549      0.590441\n",
       "5737     0.649129  0.649129  0.628289   0.628500  0.579251      0.650097\n",
       "9559     0.658311  0.658311  0.645600   0.704667  0.604609      0.658605\n",
       "12137    0.674191  0.674191  0.636449   0.676000  0.578286      0.675770\n",
       "10342    0.624190  0.624190  0.607645   0.626000  0.576743      0.624900\n",
       "10399    0.541405  0.541405  0.557397   0.591000  0.577128      0.540666\n",
       "9160     0.588688  0.588688  0.584783   0.591000  0.582001      0.588688\n",
       "9535     0.638055  0.638055  0.624485   0.593000  0.578479      0.638785\n",
       "9478     0.503312  0.503312  0.545870   0.501500  0.576936      0.501664\n",
       "11557    0.659200  0.659200  0.635506   0.663000  0.579444      0.660315\n",
       "7016     0.648443  0.648443  0.631146   0.620000  0.586271      0.649168\n",
       "6822     0.635980  0.635980  0.620414   0.626333  0.576743      0.636774\n",
       "10466    0.561312  0.561312  0.562439   0.559500  0.582955      0.560937\n",
       "11347    0.461810  0.461810  0.525596   0.460000  0.560035      0.459722\n",
       "3804     0.596160  0.596160  0.593989   0.659000  0.576743      0.596310\n",
       "11719    0.569484  0.569484  0.577561   0.578000  0.576164      0.569188\n",
       "2523     0.589046  0.589046  0.588219   0.590000  0.576164      0.589117\n",
       "...           ...       ...       ...        ...       ...           ...\n",
       "5695     0.615145  0.615145  0.604640   0.613333  0.578093      0.615613\n",
       "8691     0.642837  0.642837  0.640242   0.683667  0.601838      0.642838\n",
       "10670    0.508770  0.508770  0.528210   0.460000  0.559861      0.508060\n",
       "9836     0.497310  0.497310  0.540969   0.495500  0.576164      0.495602\n",
       "10614    0.597691  0.597691  0.592968   0.599500  0.576164      0.597923\n",
       "4544     0.600240  0.600240  0.600673   0.632000  0.576164      0.600384\n",
       "10760    0.680459  0.680459  0.653208   0.645500  0.606150      0.681229\n",
       "9176     0.557009  0.557009  0.555881   0.480000  0.565973      0.557034\n",
       "12056    0.601623  0.601623  0.609426   0.598000  0.578286      0.601571\n",
       "9109     0.674525  0.674525  0.651622   0.676333  0.603176      0.675216\n",
       "8266     0.634532  0.634532  0.637389   0.612500  0.601265      0.634354\n",
       "11898    0.564810  0.564810  0.575669   0.563000  0.576550      0.564404\n",
       "10446    0.593402  0.593402  0.592596   0.589500  0.586742      0.593269\n",
       "10790    0.569467  0.569467  0.586720   0.521000  0.600882      0.568406\n",
       "10396    0.677691  0.677691  0.633444   0.679500  0.579203      0.679420\n",
       "10680    0.625982  0.625982  0.614033   0.593000  0.577707      0.626587\n",
       "7037     0.621858  0.621858  0.606478   0.623667  0.576743      0.622522\n",
       "12080    0.637774  0.637774  0.631045   0.591000  0.583173      0.638246\n",
       "10651    0.410005  0.410005  0.437360   0.410000  0.520727      0.409139\n",
       "8927     0.621057  0.621057  0.615289   0.608667  0.577707      0.621485\n",
       "5094     0.665191  0.665191  0.629571   0.667000  0.577321      0.666665\n",
       "12176    0.645372  0.645372  0.635761   0.615000  0.595571      0.645691\n",
       "11419    0.614190  0.614190  0.589738   0.616000  0.582573      0.614848\n",
       "7479     0.624857  0.624857  0.607503   0.626667  0.576550      0.625595\n",
       "3792     0.637712  0.637712  0.623731   0.660000  0.577321      0.638474\n",
       "1289     0.610370  0.610370  0.614976   0.656500  0.576550      0.610505\n",
       "10486    0.644468  0.644468  0.640846   0.612500  0.603645      0.644465\n",
       "9169     0.607245  0.607245  0.597351   0.622667  0.587707      0.607409\n",
       "3617     0.595311  0.595311  0.594248   0.593500  0.577900      0.595403\n",
       "11792    0.579597  0.579597  0.597710   0.541000  0.576164      0.579175\n",
       "\n",
       "[181 rows x 6 columns]"
      ]
     },
     "execution_count": 231,
     "metadata": {},
     "output_type": "execute_result"
    }
   ],
   "source": [
    "finalPred"
   ]
  },
  {
   "cell_type": "code",
   "execution_count": 232,
   "metadata": {},
   "outputs": [
    {
     "data": {
      "text/plain": [
       "6.6010010786396887"
      ]
     },
     "execution_count": 232,
     "metadata": {},
     "output_type": "execute_result"
    }
   ],
   "source": [
    "finalRMSE*100/psycoModel.dataset_bin.CGPA.mean()"
   ]
  },
  {
   "cell_type": "markdown",
   "metadata": {},
   "source": [
    "On remarque que notre ensemble methode sans modele avec SVM nous donne un score de 6% en valdiation croisé voyons combien il nous donnerasavec l'ensemble d'evaluation"
   ]
  },
  {
   "cell_type": "code",
   "execution_count": 233,
   "metadata": {
    "collapsed": true
   },
   "outputs": [],
   "source": [
    "predictionTest=psycoModel.predictTest()"
   ]
  },
  {
   "cell_type": "code",
   "execution_count": 234,
   "metadata": {},
   "outputs": [
    {
     "data": {
      "text/html": [
       "<div>\n",
       "<table border=\"1\" class=\"dataframe\">\n",
       "  <thead>\n",
       "    <tr style=\"text-align: right;\">\n",
       "      <th></th>\n",
       "      <th>ElasticNet</th>\n",
       "      <th>Lasso</th>\n",
       "      <th>LinearSVR</th>\n",
       "      <th>Ridge</th>\n",
       "      <th>SVR</th>\n",
       "      <th>RealValue</th>\n",
       "    </tr>\n",
       "    <tr>\n",
       "      <th>ID</th>\n",
       "      <th></th>\n",
       "      <th></th>\n",
       "      <th></th>\n",
       "      <th></th>\n",
       "      <th></th>\n",
       "      <th></th>\n",
       "    </tr>\n",
       "  </thead>\n",
       "  <tbody>\n",
       "    <tr>\n",
       "      <th>9149</th>\n",
       "      <td>0.546273</td>\n",
       "      <td>0.546273</td>\n",
       "      <td>0.541992</td>\n",
       "      <td>0.567743</td>\n",
       "      <td>0.576357</td>\n",
       "      <td>0.47</td>\n",
       "    </tr>\n",
       "  </tbody>\n",
       "</table>\n",
       "</div>"
      ],
      "text/plain": [
       "      ElasticNet     Lasso  LinearSVR     Ridge       SVR  RealValue\n",
       "ID                                                                  \n",
       "9149    0.546273  0.546273   0.541992  0.567743  0.576357       0.47"
      ]
     },
     "execution_count": 234,
     "metadata": {},
     "output_type": "execute_result"
    }
   ],
   "source": [
    "predictionTest.head(1)"
   ]
  },
  {
   "cell_type": "code",
   "execution_count": 235,
   "metadata": {
    "collapsed": true
   },
   "outputs": [],
   "source": [
    "finalPredictTes,rmseFinalTest=ensembelMethods(self=droitModel,predictedValues=predictionTest[[u'ElasticNet', u'Lasso', u'Ridge',  u'RealValue']])"
   ]
  },
  {
   "cell_type": "code",
   "execution_count": 236,
   "metadata": {
    "scrolled": false
   },
   "outputs": [
    {
     "data": {
      "text/plain": [
       "10.564151678218369"
      ]
     },
     "execution_count": 236,
     "metadata": {},
     "output_type": "execute_result"
    }
   ],
   "source": [
    "rmseFinalTest*100/psycoModel.Y_train.mean()"
   ]
  },
  {
   "cell_type": "markdown",
   "metadata": {},
   "source": [
    "Nous avons un resulat de 10.5 % sur notre ensemble d'evaluation wouhhhhh........"
   ]
  },
  {
   "cell_type": "markdown",
   "metadata": {
    "collapsed": true
   },
   "source": [
    " 10.56"
   ]
  },
  {
   "cell_type": "markdown",
   "metadata": {},
   "source": [
    "Efin atterisson avec la afaculté de theologie"
   ]
  },
  {
   "cell_type": "code",
   "execution_count": null,
   "metadata": {
    "collapsed": true
   },
   "outputs": [],
   "source": []
  },
  {
   "cell_type": "markdown",
   "metadata": {},
   "source": [
    "##### 3. Facuté de Pscologie"
   ]
  },
  {
   "cell_type": "code",
   "execution_count": 237,
   "metadata": {
    "collapsed": true
   },
   "outputs": [],
   "source": [
    "teologie=datasetCGPA.loc[datasetCGPA.FAC=='FT']"
   ]
  },
  {
   "cell_type": "code",
   "execution_count": 239,
   "metadata": {},
   "outputs": [
    {
     "data": {
      "text/plain": [
       "(140, 8)"
      ]
     },
     "execution_count": 239,
     "metadata": {},
     "output_type": "execute_result"
    }
   ],
   "source": [
    "teologie.shape"
   ]
  },
  {
   "cell_type": "code",
   "execution_count": 238,
   "metadata": {
    "scrolled": true
   },
   "outputs": [
    {
     "data": {
      "text/html": [
       "<div>\n",
       "<table border=\"1\" class=\"dataframe\">\n",
       "  <thead>\n",
       "    <tr style=\"text-align: right;\">\n",
       "      <th></th>\n",
       "      <th>DIPPERC</th>\n",
       "      <th>SCHOOL_RIGHT</th>\n",
       "      <th>OPTION_RIGHT</th>\n",
       "      <th>FAC</th>\n",
       "      <th>CGPA</th>\n",
       "      <th>DistinctionRatio</th>\n",
       "      <th>EchecRatio</th>\n",
       "      <th>Pass1stSessionRatio</th>\n",
       "    </tr>\n",
       "    <tr>\n",
       "      <th>ID</th>\n",
       "      <th></th>\n",
       "      <th></th>\n",
       "      <th></th>\n",
       "      <th></th>\n",
       "      <th></th>\n",
       "      <th></th>\n",
       "      <th></th>\n",
       "      <th></th>\n",
       "    </tr>\n",
       "  </thead>\n",
       "  <tbody>\n",
       "    <tr>\n",
       "      <th>8692</th>\n",
       "      <td>52.0</td>\n",
       "      <td>mululusake</td>\n",
       "      <td>pedagogie</td>\n",
       "      <td>FT</td>\n",
       "      <td>59.933333</td>\n",
       "      <td>G</td>\n",
       "      <td>G</td>\n",
       "      <td>G</td>\n",
       "    </tr>\n",
       "    <tr>\n",
       "      <th>3651</th>\n",
       "      <td>58.0</td>\n",
       "      <td>ibanda</td>\n",
       "      <td>commmerciale et adm</td>\n",
       "      <td>FT</td>\n",
       "      <td>63.400002</td>\n",
       "      <td>G</td>\n",
       "      <td>G</td>\n",
       "      <td>G</td>\n",
       "    </tr>\n",
       "    <tr>\n",
       "      <th>11729</th>\n",
       "      <td>60.0</td>\n",
       "      <td>butembo</td>\n",
       "      <td>sociale</td>\n",
       "      <td>FT</td>\n",
       "      <td>64.400002</td>\n",
       "      <td>G</td>\n",
       "      <td>G</td>\n",
       "      <td>G</td>\n",
       "    </tr>\n",
       "    <tr>\n",
       "      <th>7512</th>\n",
       "      <td>52.0</td>\n",
       "      <td>ndosho</td>\n",
       "      <td>pedagogie</td>\n",
       "      <td>FT</td>\n",
       "      <td>66.875000</td>\n",
       "      <td>F</td>\n",
       "      <td>G</td>\n",
       "      <td>B</td>\n",
       "    </tr>\n",
       "    <tr>\n",
       "      <th>10686</th>\n",
       "      <td>52.0</td>\n",
       "      <td>ndosho</td>\n",
       "      <td>pedagogie</td>\n",
       "      <td>FT</td>\n",
       "      <td>57.100000</td>\n",
       "      <td>G</td>\n",
       "      <td>G</td>\n",
       "      <td>G</td>\n",
       "    </tr>\n",
       "  </tbody>\n",
       "</table>\n",
       "</div>"
      ],
      "text/plain": [
       "       DIPPERC SCHOOL_RIGHT         OPTION_RIGHT FAC       CGPA  \\\n",
       "ID                                                                \n",
       "8692      52.0   mululusake            pedagogie  FT  59.933333   \n",
       "3651      58.0       ibanda  commmerciale et adm  FT  63.400002   \n",
       "11729     60.0      butembo              sociale  FT  64.400002   \n",
       "7512      52.0       ndosho            pedagogie  FT  66.875000   \n",
       "10686     52.0       ndosho            pedagogie  FT  57.100000   \n",
       "\n",
       "      DistinctionRatio EchecRatio Pass1stSessionRatio  \n",
       "ID                                                     \n",
       "8692                 G          G                   G  \n",
       "3651                 G          G                   G  \n",
       "11729                G          G                   G  \n",
       "7512                 F          G                   B  \n",
       "10686                G          G                   G  "
      ]
     },
     "execution_count": 238,
     "metadata": {},
     "output_type": "execute_result"
    }
   ],
   "source": [
    "teologie.head(5)"
   ]
  },
  {
   "cell_type": "code",
   "execution_count": 244,
   "metadata": {
    "scrolled": true
   },
   "outputs": [
    {
     "data": {
      "text/plain": [
       "G    119\n",
       "A     14\n",
       "E      7\n",
       "Name: EchecRatio, dtype: int64"
      ]
     },
     "execution_count": 244,
     "metadata": {},
     "output_type": "execute_result"
    }
   ],
   "source": [
    "teologie.EchecRatio.value_counts()"
   ]
  },
  {
   "cell_type": "code",
   "execution_count": 243,
   "metadata": {},
   "outputs": [
    {
     "name": "stderr",
     "output_type": "stream",
     "text": [
      "/Users/espyMur/Desktop/Memory-WorkingDir/memoryVenv/lib/python2.7/site-packages/ipykernel_launcher.py:1: SettingWithCopyWarning: \n",
      "A value is trying to be set on a copy of a slice from a DataFrame\n",
      "\n",
      "See the caveats in the documentation: http://pandas.pydata.org/pandas-docs/stable/indexing.html#indexing-view-versus-copy\n",
      "  \"\"\"Entry point for launching an IPython kernel.\n"
     ]
    }
   ],
   "source": [
    "teologie.EchecRatio.loc[teologie.EchecRatio.isin(['E','D','F'])]='E'"
   ]
  },
  {
   "cell_type": "code",
   "execution_count": 245,
   "metadata": {
    "collapsed": true,
    "scrolled": true
   },
   "outputs": [],
   "source": [
    "teologieModel=PredictiveModelByilding(dataset=teologie,encoderFunction=ConvertCat)"
   ]
  },
  {
   "cell_type": "code",
   "execution_count": 246,
   "metadata": {
    "collapsed": true,
    "scrolled": true
   },
   "outputs": [],
   "source": [
    "teologieModel.scale(['DIPPERC','CGPA'])"
   ]
  },
  {
   "cell_type": "code",
   "execution_count": 247,
   "metadata": {
    "collapsed": true,
    "scrolled": false
   },
   "outputs": [],
   "source": [
    "trainDes,tesDes=teologieModel.split()"
   ]
  },
  {
   "cell_type": "code",
   "execution_count": 248,
   "metadata": {
    "scrolled": false
   },
   "outputs": [
    {
     "data": {
      "text/html": [
       "<div>\n",
       "<table border=\"1\" class=\"dataframe\">\n",
       "  <thead>\n",
       "    <tr style=\"text-align: right;\">\n",
       "      <th></th>\n",
       "      <th>DIPPERC</th>\n",
       "      <th>CGPA</th>\n",
       "    </tr>\n",
       "  </thead>\n",
       "  <tbody>\n",
       "    <tr>\n",
       "      <th>count</th>\n",
       "      <td>112.000000</td>\n",
       "      <td>112.000000</td>\n",
       "    </tr>\n",
       "    <tr>\n",
       "      <th>mean</th>\n",
       "      <td>0.537500</td>\n",
       "      <td>0.618471</td>\n",
       "    </tr>\n",
       "    <tr>\n",
       "      <th>std</th>\n",
       "      <td>0.039421</td>\n",
       "      <td>0.062725</td>\n",
       "    </tr>\n",
       "    <tr>\n",
       "      <th>min</th>\n",
       "      <td>0.500000</td>\n",
       "      <td>0.410000</td>\n",
       "    </tr>\n",
       "    <tr>\n",
       "      <th>25%</th>\n",
       "      <td>0.510000</td>\n",
       "      <td>0.591500</td>\n",
       "    </tr>\n",
       "    <tr>\n",
       "      <th>50%</th>\n",
       "      <td>0.520000</td>\n",
       "      <td>0.620500</td>\n",
       "    </tr>\n",
       "    <tr>\n",
       "      <th>75%</th>\n",
       "      <td>0.552500</td>\n",
       "      <td>0.660000</td>\n",
       "    </tr>\n",
       "    <tr>\n",
       "      <th>max</th>\n",
       "      <td>0.650000</td>\n",
       "      <td>0.732500</td>\n",
       "    </tr>\n",
       "  </tbody>\n",
       "</table>\n",
       "</div>"
      ],
      "text/plain": [
       "          DIPPERC        CGPA\n",
       "count  112.000000  112.000000\n",
       "mean     0.537500    0.618471\n",
       "std      0.039421    0.062725\n",
       "min      0.500000    0.410000\n",
       "25%      0.510000    0.591500\n",
       "50%      0.520000    0.620500\n",
       "75%      0.552500    0.660000\n",
       "max      0.650000    0.732500"
      ]
     },
     "execution_count": 248,
     "metadata": {},
     "output_type": "execute_result"
    }
   ],
   "source": [
    "trainDes"
   ]
  },
  {
   "cell_type": "code",
   "execution_count": 249,
   "metadata": {
    "scrolled": false
   },
   "outputs": [
    {
     "data": {
      "text/html": [
       "<div>\n",
       "<table border=\"1\" class=\"dataframe\">\n",
       "  <thead>\n",
       "    <tr style=\"text-align: right;\">\n",
       "      <th></th>\n",
       "      <th>DIPPERC</th>\n",
       "      <th>CGPA</th>\n",
       "    </tr>\n",
       "  </thead>\n",
       "  <tbody>\n",
       "    <tr>\n",
       "      <th>count</th>\n",
       "      <td>28.000000</td>\n",
       "      <td>28.000000</td>\n",
       "    </tr>\n",
       "    <tr>\n",
       "      <th>mean</th>\n",
       "      <td>0.540714</td>\n",
       "      <td>0.626101</td>\n",
       "    </tr>\n",
       "    <tr>\n",
       "      <th>std</th>\n",
       "      <td>0.043879</td>\n",
       "      <td>0.061257</td>\n",
       "    </tr>\n",
       "    <tr>\n",
       "      <th>min</th>\n",
       "      <td>0.500000</td>\n",
       "      <td>0.430000</td>\n",
       "    </tr>\n",
       "    <tr>\n",
       "      <th>25%</th>\n",
       "      <td>0.510000</td>\n",
       "      <td>0.606500</td>\n",
       "    </tr>\n",
       "    <tr>\n",
       "      <th>50%</th>\n",
       "      <td>0.520000</td>\n",
       "      <td>0.633500</td>\n",
       "    </tr>\n",
       "    <tr>\n",
       "      <th>75%</th>\n",
       "      <td>0.570000</td>\n",
       "      <td>0.654250</td>\n",
       "    </tr>\n",
       "    <tr>\n",
       "      <th>max</th>\n",
       "      <td>0.690000</td>\n",
       "      <td>0.734000</td>\n",
       "    </tr>\n",
       "  </tbody>\n",
       "</table>\n",
       "</div>"
      ],
      "text/plain": [
       "         DIPPERC       CGPA\n",
       "count  28.000000  28.000000\n",
       "mean    0.540714   0.626101\n",
       "std     0.043879   0.061257\n",
       "min     0.500000   0.430000\n",
       "25%     0.510000   0.606500\n",
       "50%     0.520000   0.633500\n",
       "75%     0.570000   0.654250\n",
       "max     0.690000   0.734000"
      ]
     },
     "execution_count": 249,
     "metadata": {},
     "output_type": "execute_result"
    }
   ],
   "source": [
    "tesDes"
   ]
  },
  {
   "cell_type": "code",
   "execution_count": 250,
   "metadata": {},
   "outputs": [
    {
     "name": "stdout",
     "output_type": "stream",
     "text": [
      "[LibSVM]"
     ]
    }
   ],
   "source": [
    "predictedValues=teologieModel.train()"
   ]
  },
  {
   "cell_type": "code",
   "execution_count": 251,
   "metadata": {
    "scrolled": false
   },
   "outputs": [
    {
     "data": {
      "text/html": [
       "<div>\n",
       "<table border=\"1\" class=\"dataframe\">\n",
       "  <thead>\n",
       "    <tr style=\"text-align: right;\">\n",
       "      <th></th>\n",
       "      <th>ElasticNet</th>\n",
       "      <th>Lasso</th>\n",
       "      <th>LinearSVR</th>\n",
       "      <th>Ridge</th>\n",
       "      <th>SVR</th>\n",
       "      <th>RealValue</th>\n",
       "    </tr>\n",
       "    <tr>\n",
       "      <th>ID</th>\n",
       "      <th></th>\n",
       "      <th></th>\n",
       "      <th></th>\n",
       "      <th></th>\n",
       "      <th></th>\n",
       "      <th></th>\n",
       "    </tr>\n",
       "  </thead>\n",
       "  <tbody>\n",
       "    <tr>\n",
       "      <th>10903</th>\n",
       "      <td>0.591120</td>\n",
       "      <td>0.591120</td>\n",
       "      <td>0.592910</td>\n",
       "      <td>0.598864</td>\n",
       "      <td>0.578060</td>\n",
       "      <td>0.590000</td>\n",
       "    </tr>\n",
       "    <tr>\n",
       "      <th>12230</th>\n",
       "      <td>0.491120</td>\n",
       "      <td>0.491120</td>\n",
       "      <td>0.497404</td>\n",
       "      <td>0.546722</td>\n",
       "      <td>0.590417</td>\n",
       "      <td>0.490000</td>\n",
       "    </tr>\n",
       "    <tr>\n",
       "      <th>8319</th>\n",
       "      <td>0.622738</td>\n",
       "      <td>0.622738</td>\n",
       "      <td>0.598529</td>\n",
       "      <td>0.618800</td>\n",
       "      <td>0.577988</td>\n",
       "      <td>0.604667</td>\n",
       "    </tr>\n",
       "    <tr>\n",
       "      <th>8692</th>\n",
       "      <td>0.600453</td>\n",
       "      <td>0.600453</td>\n",
       "      <td>0.594256</td>\n",
       "      <td>0.603376</td>\n",
       "      <td>0.578024</td>\n",
       "      <td>0.599333</td>\n",
       "    </tr>\n",
       "    <tr>\n",
       "      <th>11528</th>\n",
       "      <td>0.677881</td>\n",
       "      <td>0.677881</td>\n",
       "      <td>0.654850</td>\n",
       "      <td>0.643442</td>\n",
       "      <td>0.579455</td>\n",
       "      <td>0.679000</td>\n",
       "    </tr>\n",
       "  </tbody>\n",
       "</table>\n",
       "</div>"
      ],
      "text/plain": [
       "       ElasticNet     Lasso  LinearSVR     Ridge       SVR  RealValue\n",
       "ID                                                                   \n",
       "10903    0.591120  0.591120   0.592910  0.598864  0.578060   0.590000\n",
       "12230    0.491120  0.491120   0.497404  0.546722  0.590417   0.490000\n",
       "8319     0.622738  0.622738   0.598529  0.618800  0.577988   0.604667\n",
       "8692     0.600453  0.600453   0.594256  0.603376  0.578024   0.599333\n",
       "11528    0.677881  0.677881   0.654850  0.643442  0.579455   0.679000"
      ]
     },
     "execution_count": 251,
     "metadata": {},
     "output_type": "execute_result"
    }
   ],
   "source": [
    "predictedValues.head(5)"
   ]
  },
  {
   "cell_type": "code",
   "execution_count": 252,
   "metadata": {
    "scrolled": false
   },
   "outputs": [
    {
     "name": "stdout",
     "output_type": "stream",
     "text": [
      "('Predictions:\\t', array([ 0.63394575,  0.64181988,  0.61960702,  0.56345318,  0.63094036]))\n",
      "('Labels:\\t\\t', [0.58533334096300005, 0.64566666921000004, 0.62566666921000003, 0.57400001525900002, 0.637000007629])\n",
      "('Predictions:\\t', array([ 0.55639553,  0.58477657,  0.54995735,  0.53978909,  0.54678191]))\n",
      "('Labels:\\t\\t', [0.58533334096300005, 0.64566666921000004, 0.62566666921000003, 0.57400001525900002, 0.637000007629])\n",
      "('Predictions:\\t', array([ 0.71269094,  0.64060031,  0.5877242 ,  0.6040193 ,  0.60048801]))\n",
      "('Labels:\\t\\t', [0.58533334096300005, 0.64566666921000004, 0.62566666921000003, 0.57400001525900002, 0.637000007629])\n",
      "('Predictions:\\t', array([ 0.6205627 ,  0.64052699,  0.59781433,  0.56145965,  0.60448013]))\n",
      "('Labels:\\t\\t', [0.58533334096300005, 0.64566666921000004, 0.62566666921000003, 0.57400001525900002, 0.637000007629])\n",
      "('Predictions:\\t', array([ 0.63394575,  0.64181988,  0.61960702,  0.56345318,  0.63094036]))\n",
      "('Labels:\\t\\t', [0.58533334096300005, 0.64566666921000004, 0.62566666921000003, 0.57400001525900002, 0.637000007629])\n"
     ]
    }
   ],
   "source": [
    "RMSE={}\n",
    "for reg in santeModel.predictiveModels.keys():\n",
    "    rmse=santeModel.evaluate(model=reg,on='train') #RMSE of each model\n",
    "    RMSE[reg]=[rmse,rmse*100/psycoModel.dataset_bin.CGPA.mean()]"
   ]
  },
  {
   "cell_type": "code",
   "execution_count": 253,
   "metadata": {},
   "outputs": [
    {
     "data": {
      "text/plain": [
       "{'ElasticNet': [0.048506383027202178, 8.1442683014338755],\n",
       " 'Lasso': [0.048506383027202178, 8.1442683014338755],\n",
       " 'LinearSVR': [0.053311148653203064, 8.9509930650946377],\n",
       " 'Ridge': [0.051086773887118013, 8.5775184053209639],\n",
       " 'SVR': [0.069900647273839767, 11.73638581798169]}"
      ]
     },
     "execution_count": 253,
     "metadata": {},
     "output_type": "execute_result"
    }
   ],
   "source": [
    "RMSE"
   ]
  },
  {
   "cell_type": "markdown",
   "metadata": {},
   "source": [
    "on remarque aisement que les valeurs predites par differents regressons disposent d'une bonne exacitude"
   ]
  },
  {
   "cell_type": "code",
   "execution_count": 254,
   "metadata": {},
   "outputs": [
    {
     "name": "stdout",
     "output_type": "stream",
     "text": [
      "[LibSVM][LibSVM][LibSVM][LibSVM][LibSVM][LibSVM][LibSVM][LibSVM][LibSVM][LibSVM]"
     ]
    }
   ],
   "source": [
    "CVScore={}\n",
    "for reg in santeModel.predictiveModels.keys():\n",
    "    scores,Sstd,Smean=psycoModel.crossEvaluate(model=reg) #RMSE of each model\n",
    "    CVScore[reg]=[Smean,Smean*100/psycoModel.dataset_bin.CGPA.mean()]"
   ]
  },
  {
   "cell_type": "code",
   "execution_count": 255,
   "metadata": {
    "scrolled": true
   },
   "outputs": [
    {
     "data": {
      "text/plain": [
       "{'ElasticNet': [0.078153280788430132, 13.122010911869584],\n",
       " 'Lasso': [0.078153280788430132, 13.122010911869584],\n",
       " 'LinearSVR': [0.082076009272530726, 13.780640792194324],\n",
       " 'Ridge': [0.0735624886756783, 12.351212506608363],\n",
       " 'SVR': [0.076979183941278617, 12.924878923493804]}"
      ]
     },
     "execution_count": 255,
     "metadata": {},
     "output_type": "execute_result"
    }
   ],
   "source": [
    "CVScore"
   ]
  },
  {
   "cell_type": "markdown",
   "metadata": {},
   "source": [
    "Aussi on peut remarquer les methodes lineaires disposent des meilleurs resulats"
   ]
  },
  {
   "cell_type": "code",
   "execution_count": 256,
   "metadata": {
    "scrolled": true
   },
   "outputs": [
    {
     "name": "stdout",
     "output_type": "stream",
     "text": [
      "('Predictions:\\t', array([ 0.54627331,  0.62044522,  0.62659385,  0.60660261,  0.59181471]))\n",
      "('Labels:\\t\\t', [0.46999999999999997, 0.62300000508599995, 0.45000000000000001, 0.58999999999999997, 0.59549999237100004])\n",
      "('Predictions:\\t', array([ 0.57635701,  0.57732127,  0.57809299,  0.57635701,  0.57635701]))\n",
      "('Labels:\\t\\t', [0.46999999999999997, 0.62300000508599995, 0.45000000000000001, 0.58999999999999997, 0.59549999237100004])\n",
      "('Predictions:\\t', array([ 0.54199208,  0.62736156,  0.63131675,  0.59778709,  0.54941206]))\n",
      "('Labels:\\t\\t', [0.46999999999999997, 0.62300000508599995, 0.45000000000000001, 0.58999999999999997, 0.59549999237100004])\n",
      "('Predictions:\\t', array([ 0.56774303,  0.61213123,  0.61719123,  0.60737644,  0.58738797]))\n",
      "('Labels:\\t\\t', [0.46999999999999997, 0.62300000508599995, 0.45000000000000001, 0.58999999999999997, 0.59549999237100004])\n",
      "('Predictions:\\t', array([ 0.54627331,  0.62044522,  0.62659385,  0.60660261,  0.59181471]))\n",
      "('Labels:\\t\\t', [0.46999999999999997, 0.62300000508599995, 0.45000000000000001, 0.58999999999999997, 0.59549999237100004])\n"
     ]
    }
   ],
   "source": [
    "RMSE={}\n",
    "for reg in santeModel.predictiveModels.keys():\n",
    "    rmse=psycoModel.evaluate(model=reg,on='test') #RMSE of each model\n",
    "    RMSE[reg]=[rmse,rmse*100/psycoModel.dataset_bin.CGPA.mean()]"
   ]
  },
  {
   "cell_type": "code",
   "execution_count": 257,
   "metadata": {
    "scrolled": true
   },
   "outputs": [
    {
     "data": {
      "text/plain": [
       "{'ElasticNet': [0.071372353655097823, 11.983486732992738],\n",
       " 'Lasso': [0.071372353655097823, 11.983486732992738],\n",
       " 'LinearSVR': [0.081538251216321092, 13.690350698031406],\n",
       " 'Ridge': [0.066752480188447011, 11.207805540478766],\n",
       " 'SVR': [0.06566283741951609, 11.024853472955733]}"
      ]
     },
     "execution_count": 257,
     "metadata": {},
     "output_type": "execute_result"
    }
   ],
   "source": [
    "RMSE"
   ]
  },
  {
   "cell_type": "code",
   "execution_count": 167,
   "metadata": {
    "scrolled": true
   },
   "outputs": [
    {
     "data": {
      "text/plain": [
       "Index([u'ElasticNet', u'Lasso', u'LinearSVR', u'Ridge', u'SVR', u'RealValue'], dtype='object')"
      ]
     },
     "execution_count": 167,
     "metadata": {},
     "output_type": "execute_result"
    }
   ],
   "source": [
    "predictedValues.columns"
   ]
  },
  {
   "cell_type": "code",
   "execution_count": 258,
   "metadata": {
    "collapsed": true,
    "scrolled": false
   },
   "outputs": [],
   "source": [
    "finalPred,finalRMSE=teologieModel.ensembelMethods(predictedValues=predictedValues[[u'ElasticNet', u'Lasso', u'Ridge',  u'RealValue']])"
   ]
  },
  {
   "cell_type": "code",
   "execution_count": 259,
   "metadata": {
    "scrolled": false
   },
   "outputs": [
    {
     "data": {
      "text/html": [
       "<div>\n",
       "<table border=\"1\" class=\"dataframe\">\n",
       "  <thead>\n",
       "    <tr style=\"text-align: right;\">\n",
       "      <th></th>\n",
       "      <th>ElasticNet</th>\n",
       "      <th>Lasso</th>\n",
       "      <th>Ridge</th>\n",
       "      <th>RealValue</th>\n",
       "      <th>finalPredict</th>\n",
       "    </tr>\n",
       "    <tr>\n",
       "      <th>ID</th>\n",
       "      <th></th>\n",
       "      <th></th>\n",
       "      <th></th>\n",
       "      <th></th>\n",
       "      <th></th>\n",
       "    </tr>\n",
       "  </thead>\n",
       "  <tbody>\n",
       "    <tr>\n",
       "      <th>10903</th>\n",
       "      <td>0.591120</td>\n",
       "      <td>0.591120</td>\n",
       "      <td>0.598864</td>\n",
       "      <td>0.590000</td>\n",
       "      <td>0.590937</td>\n",
       "    </tr>\n",
       "    <tr>\n",
       "      <th>12230</th>\n",
       "      <td>0.491120</td>\n",
       "      <td>0.491120</td>\n",
       "      <td>0.546722</td>\n",
       "      <td>0.490000</td>\n",
       "      <td>0.489354</td>\n",
       "    </tr>\n",
       "    <tr>\n",
       "      <th>8319</th>\n",
       "      <td>0.622738</td>\n",
       "      <td>0.622738</td>\n",
       "      <td>0.618800</td>\n",
       "      <td>0.604667</td>\n",
       "      <td>0.622894</td>\n",
       "    </tr>\n",
       "    <tr>\n",
       "      <th>8692</th>\n",
       "      <td>0.600453</td>\n",
       "      <td>0.600453</td>\n",
       "      <td>0.603376</td>\n",
       "      <td>0.599333</td>\n",
       "      <td>0.600434</td>\n",
       "    </tr>\n",
       "    <tr>\n",
       "      <th>11528</th>\n",
       "      <td>0.677881</td>\n",
       "      <td>0.677881</td>\n",
       "      <td>0.643442</td>\n",
       "      <td>0.679000</td>\n",
       "      <td>0.679101</td>\n",
       "    </tr>\n",
       "  </tbody>\n",
       "</table>\n",
       "</div>"
      ],
      "text/plain": [
       "       ElasticNet     Lasso     Ridge  RealValue  finalPredict\n",
       "ID                                                            \n",
       "10903    0.591120  0.591120  0.598864   0.590000      0.590937\n",
       "12230    0.491120  0.491120  0.546722   0.490000      0.489354\n",
       "8319     0.622738  0.622738  0.618800   0.604667      0.622894\n",
       "8692     0.600453  0.600453  0.603376   0.599333      0.600434\n",
       "11528    0.677881  0.677881  0.643442   0.679000      0.679101"
      ]
     },
     "execution_count": 259,
     "metadata": {},
     "output_type": "execute_result"
    }
   ],
   "source": [
    "finalPred.head(5)"
   ]
  },
  {
   "cell_type": "code",
   "execution_count": 260,
   "metadata": {},
   "outputs": [
    {
     "data": {
      "text/plain": [
       "5.3283072731747767"
      ]
     },
     "execution_count": 260,
     "metadata": {},
     "output_type": "execute_result"
    }
   ],
   "source": [
    "finalRMSE*100/teologieModel.dataset_bin.CGPA.mean()"
   ]
  },
  {
   "cell_type": "markdown",
   "metadata": {},
   "source": [
    "On remarque que notre ensemble methode sans modele avec SVM nous donne un score de R% en valdiation croisé voyons combien il nous donnerasavec l'ensemble d'evaluation"
   ]
  },
  {
   "cell_type": "code",
   "execution_count": 261,
   "metadata": {
    "collapsed": true
   },
   "outputs": [],
   "source": [
    "predictionTest=teologieModel.predictTest()"
   ]
  },
  {
   "cell_type": "code",
   "execution_count": 262,
   "metadata": {},
   "outputs": [
    {
     "data": {
      "text/html": [
       "<div>\n",
       "<table border=\"1\" class=\"dataframe\">\n",
       "  <thead>\n",
       "    <tr style=\"text-align: right;\">\n",
       "      <th></th>\n",
       "      <th>ElasticNet</th>\n",
       "      <th>Lasso</th>\n",
       "      <th>LinearSVR</th>\n",
       "      <th>Ridge</th>\n",
       "      <th>SVR</th>\n",
       "      <th>RealValue</th>\n",
       "    </tr>\n",
       "    <tr>\n",
       "      <th>ID</th>\n",
       "      <th></th>\n",
       "      <th></th>\n",
       "      <th></th>\n",
       "      <th></th>\n",
       "      <th></th>\n",
       "      <th></th>\n",
       "    </tr>\n",
       "  </thead>\n",
       "  <tbody>\n",
       "    <tr>\n",
       "      <th>6887</th>\n",
       "      <td>0.627435</td>\n",
       "      <td>0.627435</td>\n",
       "      <td>0.651313</td>\n",
       "      <td>0.626228</td>\n",
       "      <td>0.578113</td>\n",
       "      <td>0.7025</td>\n",
       "    </tr>\n",
       "  </tbody>\n",
       "</table>\n",
       "</div>"
      ],
      "text/plain": [
       "      ElasticNet     Lasso  LinearSVR     Ridge       SVR  RealValue\n",
       "ID                                                                  \n",
       "6887    0.627435  0.627435   0.651313  0.626228  0.578113     0.7025"
      ]
     },
     "execution_count": 262,
     "metadata": {},
     "output_type": "execute_result"
    }
   ],
   "source": [
    "predictionTest.head(1)"
   ]
  },
  {
   "cell_type": "code",
   "execution_count": 265,
   "metadata": {
    "collapsed": true
   },
   "outputs": [],
   "source": [
    "finalPredictTes,rmseFinalTest=ensembelMethods(self=teologieModel,predictedValues=predictionTest[[u'ElasticNet', u'Lasso', u'Ridge',  u'RealValue']])"
   ]
  },
  {
   "cell_type": "code",
   "execution_count": 267,
   "metadata": {
    "scrolled": true
   },
   "outputs": [
    {
     "data": {
      "text/plain": [
       "9.9963180339825772"
      ]
     },
     "execution_count": 267,
     "metadata": {},
     "output_type": "execute_result"
    }
   ],
   "source": [
    "rmseFinalTest*100/teologieModel.Y_test.mean()"
   ]
  },
  {
   "cell_type": "markdown",
   "metadata": {},
   "source": [
    "Nous avons un resulat de 10.11 % sur notre ensemble d'evaluation wouhhhhh........"
   ]
  },
  {
   "cell_type": "markdown",
   "metadata": {
    "collapsed": true
   },
   "source": [
    " 10.56"
   ]
  }
 ],
 "metadata": {
  "kernelspec": {
   "display_name": "Python 2",
   "language": "python",
   "name": "python2"
  },
  "language_info": {
   "codemirror_mode": {
    "name": "ipython",
    "version": 2
   },
   "file_extension": ".py",
   "mimetype": "text/x-python",
   "name": "python",
   "nbconvert_exporter": "python",
   "pygments_lexer": "ipython2",
   "version": "2.7.13"
  }
 },
 "nbformat": 4,
 "nbformat_minor": 2
}
